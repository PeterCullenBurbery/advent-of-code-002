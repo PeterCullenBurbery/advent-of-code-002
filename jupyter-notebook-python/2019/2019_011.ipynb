{
 "cells": [
  {
   "cell_type": "markdown",
   "id": "ea2be1cf",
   "metadata": {},
   "source": [
    "# Advent of Code"
   ]
  },
  {
   "cell_type": "markdown",
   "id": "ea29613e",
   "metadata": {},
   "source": [
    "## 2019-012-011\n",
    "## 2019 011"
   ]
  },
  {
   "cell_type": "markdown",
   "id": "fcef9ed1",
   "metadata": {},
   "source": [
    "https://adventofcode.com/2019/day/11"
   ]
  },
  {
   "cell_type": "code",
   "execution_count": null,
   "id": "fe4265ec",
   "metadata": {},
   "outputs": [],
   "source": []
  }
 ],
 "metadata": {
  "kernelspec": {
   "display_name": "Python 3 (ipykernel)",
   "language": "python",
   "name": "python3"
  },
  "language_info": {
   "name": "python",
   "version": "3.12.3"
  }
 },
 "nbformat": 4,
 "nbformat_minor": 5
}
