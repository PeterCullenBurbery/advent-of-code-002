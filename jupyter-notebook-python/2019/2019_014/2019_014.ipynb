{
 "cells": [
  {
   "cell_type": "markdown",
   "id": "1cdd2b13",
   "metadata": {},
   "source": [
    "# Advent of Code"
   ]
  },
  {
   "cell_type": "markdown",
   "id": "05626bc9",
   "metadata": {},
   "source": [
    "## 2019-012-014\n",
    "## 2019 014"
   ]
  },
  {
   "cell_type": "markdown",
   "id": "2d03ef45",
   "metadata": {},
   "source": [
    "https://adventofcode.com/2019/day/14"
   ]
  },
  {
   "cell_type": "code",
   "execution_count": 1,
   "id": "c695f21f",
   "metadata": {},
   "outputs": [
    {
     "name": "stdout",
     "output_type": "stream",
     "text": [
      "Minimum ORE required to produce 1 FUEL: 485720\n"
     ]
    }
   ],
   "source": [
    "from math import ceil\n",
    "from collections import defaultdict\n",
    "\n",
    "def parse_reactions(input_file):\n",
    "    reactions = {}\n",
    "    with open(input_file, 'r') as f:\n",
    "        for line in f:\n",
    "            inputs, output = line.strip().split(\" => \")\n",
    "            output_qty, output_chem = output.split(\" \")\n",
    "            inputs = [inp.split(\" \") for inp in inputs.split(\", \")]\n",
    "            reactions[output_chem] = {\n",
    "                \"output_qty\": int(output_qty),\n",
    "                \"inputs\": [(int(qty), chem) for qty, chem in inputs]\n",
    "            }\n",
    "    return reactions\n",
    "\n",
    "def calculate_ore(reactions, fuel_qty=1):\n",
    "    # Track requirements and leftovers\n",
    "    requirements = defaultdict(int)\n",
    "    leftovers = defaultdict(int)\n",
    "    requirements[\"FUEL\"] = fuel_qty\n",
    "\n",
    "    def produce(chem, qty):\n",
    "        # If we have leftovers, use them\n",
    "        if leftovers[chem] > 0:\n",
    "            usable = min(leftovers[chem], qty)\n",
    "            qty -= usable\n",
    "            leftovers[chem] -= usable\n",
    "\n",
    "        # If no more is needed, return\n",
    "        if qty == 0:\n",
    "            return 0\n",
    "\n",
    "        # Get the reaction for this chemical\n",
    "        reaction = reactions[chem]\n",
    "        batch_qty = reaction[\"output_qty\"]\n",
    "        batches = ceil(qty / batch_qty)\n",
    "        ore_needed = 0\n",
    "\n",
    "        # Process inputs recursively\n",
    "        for input_qty, input_chem in reaction[\"inputs\"]:\n",
    "            if input_chem == \"ORE\":\n",
    "                ore_needed += input_qty * batches\n",
    "            else:\n",
    "                ore_needed += produce(input_chem, input_qty * batches)\n",
    "\n",
    "        # Track leftovers\n",
    "        leftovers[chem] += (batches * batch_qty) - qty\n",
    "        return ore_needed\n",
    "\n",
    "    # Start with fuel\n",
    "    ore_required = produce(\"FUEL\", fuel_qty)\n",
    "    return ore_required\n",
    "\n",
    "def main():\n",
    "    input_file = \"input.txt\"  # Update with the path to your input file\n",
    "    reactions = parse_reactions(input_file)\n",
    "    ore_needed = calculate_ore(reactions)\n",
    "    print(f\"Minimum ORE required to produce 1 FUEL: {ore_needed}\")\n",
    "\n",
    "if __name__ == \"__main__\":\n",
    "    main()"
   ]
  },
  {
   "cell_type": "code",
   "execution_count": 2,
   "id": "8aa13899-d083-44d3-9654-5f32e2e51f90",
   "metadata": {},
   "outputs": [
    {
     "name": "stdout",
     "output_type": "stream",
     "text": [
      "ORE required for 1 FUEL: 485720\n",
      "Maximum FUEL producible with 1000000000000 ORE: 3848998\n"
     ]
    }
   ],
   "source": [
    "from math import ceil\n",
    "from collections import defaultdict\n",
    "\n",
    "def parse_reactions(input_file):\n",
    "    reactions = {}\n",
    "    with open(input_file, 'r') as f:\n",
    "        for line in f:\n",
    "            inputs, output = line.strip().split(\" => \")\n",
    "            output_qty, output_chem = output.split(\" \")\n",
    "            inputs = [inp.split(\" \") for inp in inputs.split(\", \")]\n",
    "            reactions[output_chem] = {\n",
    "                \"output_qty\": int(output_qty),\n",
    "                \"inputs\": [(int(qty), chem) for qty, chem in inputs]\n",
    "            }\n",
    "    return reactions\n",
    "\n",
    "def calculate_ore(reactions, fuel_qty):\n",
    "    # Track requirements and leftovers\n",
    "    requirements = defaultdict(int)\n",
    "    leftovers = defaultdict(int)\n",
    "    requirements[\"FUEL\"] = fuel_qty\n",
    "\n",
    "    def produce(chem, qty):\n",
    "        # If we have leftovers, use them\n",
    "        if leftovers[chem] > 0:\n",
    "            usable = min(leftovers[chem], qty)\n",
    "            qty -= usable\n",
    "            leftovers[chem] -= usable\n",
    "\n",
    "        # If no more is needed, return\n",
    "        if qty == 0:\n",
    "            return 0\n",
    "\n",
    "        # Get the reaction for this chemical\n",
    "        reaction = reactions[chem]\n",
    "        batch_qty = reaction[\"output_qty\"]\n",
    "        batches = ceil(qty / batch_qty)\n",
    "        ore_needed = 0\n",
    "\n",
    "        # Process inputs recursively\n",
    "        for input_qty, input_chem in reaction[\"inputs\"]:\n",
    "            if input_chem == \"ORE\":\n",
    "                ore_needed += input_qty * batches\n",
    "            else:\n",
    "                ore_needed += produce(input_chem, input_qty * batches)\n",
    "\n",
    "        # Track leftovers\n",
    "        leftovers[chem] += (batches * batch_qty) - qty\n",
    "        return ore_needed\n",
    "\n",
    "    # Start with fuel\n",
    "    return produce(\"FUEL\", fuel_qty)\n",
    "\n",
    "def max_fuel_for_ore(reactions, ore_available):\n",
    "    # Binary search for the maximum amount of fuel\n",
    "    low, high = 1, ore_available\n",
    "    while low < high:\n",
    "        mid = (low + high + 1) // 2\n",
    "        ore_needed = calculate_ore(reactions, mid)\n",
    "        if ore_needed <= ore_available:\n",
    "            low = mid\n",
    "        else:\n",
    "            high = mid - 1\n",
    "    return low\n",
    "\n",
    "def main():\n",
    "    input_file = \"input.txt\"  # Replace with the path to your input file\n",
    "    reactions = parse_reactions(input_file)\n",
    "\n",
    "    # Part 1: Minimum ORE for 1 FUEL\n",
    "    ore_for_one_fuel = calculate_ore(reactions, 1)\n",
    "    print(f\"ORE required for 1 FUEL: {ore_for_one_fuel}\")\n",
    "\n",
    "    # Part 2: Maximum FUEL for 1 trillion ORE\n",
    "    ore_available = 1_000_000_000_000\n",
    "    max_fuel = max_fuel_for_ore(reactions, ore_available)\n",
    "    print(f\"Maximum FUEL producible with {ore_available} ORE: {max_fuel}\")\n",
    "\n",
    "if __name__ == \"__main__\":\n",
    "    main()"
   ]
  },
  {
   "cell_type": "code",
   "execution_count": null,
   "id": "36a35811-bf6a-4218-ba25-79e41d767431",
   "metadata": {},
   "outputs": [],
   "source": []
  }
 ],
 "metadata": {
  "kernelspec": {
   "display_name": "Python 3 (ipykernel)",
   "language": "python",
   "name": "python3"
  },
  "language_info": {
   "codemirror_mode": {
    "name": "ipython",
    "version": 3
   },
   "file_extension": ".py",
   "mimetype": "text/x-python",
   "name": "python",
   "nbconvert_exporter": "python",
   "pygments_lexer": "ipython3",
   "version": "3.12.3"
  }
 },
 "nbformat": 4,
 "nbformat_minor": 5
}
