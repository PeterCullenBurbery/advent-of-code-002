{
 "cells": [
  {
   "cell_type": "markdown",
   "id": "1cdd2b13",
   "metadata": {},
   "source": [
    "# Advent of Code"
   ]
  },
  {
   "cell_type": "markdown",
   "id": "05626bc9",
   "metadata": {},
   "source": [
    "## 2019-012-014\n",
    "## 2019 014"
   ]
  },
  {
   "cell_type": "markdown",
   "id": "2d03ef45",
   "metadata": {},
   "source": [
    "https://adventofcode.com/2019/day/14"
   ]
  },
  {
   "cell_type": "code",
   "execution_count": null,
   "id": "c695f21f",
   "metadata": {},
   "outputs": [],
   "source": []
  }
 ],
 "metadata": {},
 "nbformat": 4,
 "nbformat_minor": 5
}
