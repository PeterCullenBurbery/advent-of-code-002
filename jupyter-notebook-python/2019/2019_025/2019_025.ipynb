{
 "cells": [
  {
   "cell_type": "markdown",
   "id": "fa307c86",
   "metadata": {},
   "source": [
    "# Advent of Code"
   ]
  },
  {
   "cell_type": "markdown",
   "id": "57cb85ce",
   "metadata": {},
   "source": [
    "## 2019-012-025\n",
    "## 2019 025"
   ]
  },
  {
   "cell_type": "markdown",
   "id": "ebec78b0",
   "metadata": {},
   "source": [
    "https://adventofcode.com/2019/day/25"
   ]
  },
  {
   "cell_type": "code",
   "execution_count": null,
   "id": "d51db534",
   "metadata": {},
   "outputs": [],
   "source": []
  }
 ],
 "metadata": {},
 "nbformat": 4,
 "nbformat_minor": 5
}
