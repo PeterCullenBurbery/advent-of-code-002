{
 "cells": [
  {
   "cell_type": "markdown",
   "id": "bba524f3",
   "metadata": {},
   "source": [
    "# Advent of Code"
   ]
  },
  {
   "cell_type": "markdown",
   "id": "1b3765fd",
   "metadata": {},
   "source": [
    "## 2019-012-012\n",
    "## 2019 012"
   ]
  },
  {
   "cell_type": "markdown",
   "id": "040b1058",
   "metadata": {},
   "source": [
    "https://adventofcode.com/2019/day/12"
   ]
  },
  {
   "cell_type": "code",
   "execution_count": 1,
   "id": "a1aac880",
   "metadata": {},
   "outputs": [
    {
     "data": {
      "text/plain": [
       "14780"
      ]
     },
     "execution_count": 1,
     "metadata": {},
     "output_type": "execute_result"
    }
   ],
   "source": [
    "import re\n",
    "from itertools import combinations\n",
    "\n",
    "def parse_input(file_path):\n",
    "    with open(file_path, \"r\") as f:\n",
    "        moons = []\n",
    "        for line in f:\n",
    "            x, y, z = map(int, re.findall(r\"-?\\d+\", line))\n",
    "            moons.append({\"pos\": [x, y, z], \"vel\": [0, 0, 0]})\n",
    "        return moons\n",
    "\n",
    "def apply_gravity(moons):\n",
    "    for moon1, moon2 in combinations(moons, 2):\n",
    "        for i in range(3):  # x, y, z\n",
    "            if moon1[\"pos\"][i] < moon2[\"pos\"][i]:\n",
    "                moon1[\"vel\"][i] += 1\n",
    "                moon2[\"vel\"][i] -= 1\n",
    "            elif moon1[\"pos\"][i] > moon2[\"pos\"][i]:\n",
    "                moon1[\"vel\"][i] -= 1\n",
    "                moon2[\"vel\"][i] += 1\n",
    "\n",
    "def apply_velocity(moons):\n",
    "    for moon in moons:\n",
    "        for i in range(3):\n",
    "            moon[\"pos\"][i] += moon[\"vel\"][i]\n",
    "\n",
    "def calculate_total_energy(moons):\n",
    "    total_energy = 0\n",
    "    for moon in moons:\n",
    "        potential_energy = sum(abs(x) for x in moon[\"pos\"])\n",
    "        kinetic_energy = sum(abs(v) for v in moon[\"vel\"])\n",
    "        total_energy += potential_energy * kinetic_energy\n",
    "    return total_energy\n",
    "\n",
    "def simulate_motion(moons, steps):\n",
    "    for _ in range(steps):\n",
    "        apply_gravity(moons)\n",
    "        apply_velocity(moons)\n",
    "    return calculate_total_energy(moons)\n",
    "\n",
    "# Parse the input file and simulate motion\n",
    "moons = parse_input(\"input.txt\")\n",
    "total_energy = simulate_motion(moons, 1000)\n",
    "\n",
    "total_energy"
   ]
  },
  {
   "cell_type": "code",
   "execution_count": 3,
   "id": "8b0290a9-1604-4b19-96f8-88b40e666804",
   "metadata": {},
   "outputs": [
    {
     "data": {
      "text/plain": [
       "279751820342592"
      ]
     },
     "execution_count": 3,
     "metadata": {},
     "output_type": "execute_result"
    }
   ],
   "source": [
    "from math import gcd\n",
    "from functools import reduce\n",
    "import itertools\n",
    "\n",
    "def lcm(a, b):\n",
    "    \"\"\"Compute the least common multiple of two numbers.\"\"\"\n",
    "    return abs(a * b) // gcd(a, b)\n",
    "\n",
    "def lcm_multiple(numbers):\n",
    "    \"\"\"Compute the least common multiple of a list of numbers.\"\"\"\n",
    "    return reduce(lcm, numbers)\n",
    "\n",
    "# Parse the initial positions of the moons\n",
    "def parse_positions(input_text):\n",
    "    moons = []\n",
    "    for line in input_text.strip().split(\"\\n\"):\n",
    "        line = line.strip(\"<>\").split(\", \")\n",
    "        position = {axis.split(\"=\")[0]: int(axis.split(\"=\")[1]) for axis in line}\n",
    "        moons.append({\"position\": position, \"velocity\": {\"x\": 0, \"y\": 0, \"z\": 0}})\n",
    "    return moons\n",
    "\n",
    "# Apply gravity to update velocities\n",
    "def apply_gravity(moons, axis):\n",
    "    for moon1, moon2 in itertools.combinations(moons, 2):\n",
    "        if moon1[\"position\"][axis] < moon2[\"position\"][axis]:\n",
    "            moon1[\"velocity\"][axis] += 1\n",
    "            moon2[\"velocity\"][axis] -= 1\n",
    "        elif moon1[\"position\"][axis] > moon2[\"position\"][axis]:\n",
    "            moon1[\"velocity\"][axis] -= 1\n",
    "            moon2[\"velocity\"][axis] += 1\n",
    "\n",
    "# Apply velocity to update positions\n",
    "def apply_velocity(moons, axis):\n",
    "    for moon in moons:\n",
    "        moon[\"position\"][axis] += moon[\"velocity\"][axis]\n",
    "\n",
    "# Simulate one axis and find the cycle length\n",
    "def find_axis_cycle_length(moons, axis):\n",
    "    initial_state = [(moon[\"position\"][axis], moon[\"velocity\"][axis]) for moon in moons]\n",
    "    steps = 0\n",
    "\n",
    "    while True:\n",
    "        apply_gravity(moons, axis)\n",
    "        apply_velocity(moons, axis)\n",
    "        steps += 1\n",
    "        current_state = [(moon[\"position\"][axis], moon[\"velocity\"][axis]) for moon in moons]\n",
    "        if current_state == initial_state:\n",
    "            return steps\n",
    "\n",
    "# Main function to compute the total cycle length\n",
    "def find_total_cycle_length(input_text):\n",
    "    moons = parse_positions(input_text)\n",
    "    cycle_lengths = []\n",
    "\n",
    "    for axis in [\"x\", \"y\", \"z\"]:\n",
    "        axis_cycle_length = find_axis_cycle_length([moon.copy() for moon in moons], axis)\n",
    "        cycle_lengths.append(axis_cycle_length)\n",
    "\n",
    "    return lcm_multiple(cycle_lengths)\n",
    "\n",
    "# Read input and find the result\n",
    "# Read input from a file\n",
    "with open(\"input.txt\", \"r\") as file:\n",
    "    input_text = file.read().strip()\n",
    "\n",
    "total_cycle_length = find_total_cycle_length(input_text)\n",
    "total_cycle_length"
   ]
  },
  {
   "cell_type": "code",
   "execution_count": null,
   "id": "9e84b17d-df56-4701-8832-baed4161fd04",
   "metadata": {},
   "outputs": [],
   "source": []
  }
 ],
 "metadata": {
  "kernelspec": {
   "display_name": "Python 3 (ipykernel)",
   "language": "python",
   "name": "python3"
  },
  "language_info": {
   "codemirror_mode": {
    "name": "ipython",
    "version": 3
   },
   "file_extension": ".py",
   "mimetype": "text/x-python",
   "name": "python",
   "nbconvert_exporter": "python",
   "pygments_lexer": "ipython3",
   "version": "3.12.3"
  }
 },
 "nbformat": 4,
 "nbformat_minor": 5
}
