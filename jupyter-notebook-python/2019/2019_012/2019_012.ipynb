{
 "cells": [
  {
   "cell_type": "markdown",
   "id": "bba524f3",
   "metadata": {},
   "source": [
    "# Advent of Code"
   ]
  },
  {
   "cell_type": "markdown",
   "id": "1b3765fd",
   "metadata": {},
   "source": [
    "## 2019-012-012\n",
    "## 2019 012"
   ]
  },
  {
   "cell_type": "markdown",
   "id": "040b1058",
   "metadata": {},
   "source": [
    "https://adventofcode.com/2019/day/12"
   ]
  },
  {
   "cell_type": "code",
   "execution_count": null,
   "id": "a1aac880",
   "metadata": {},
   "outputs": [],
   "source": []
  }
 ],
 "metadata": {},
 "nbformat": 4,
 "nbformat_minor": 5
}
