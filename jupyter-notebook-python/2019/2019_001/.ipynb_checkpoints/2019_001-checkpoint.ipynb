{
 "cells": [
  {
   "cell_type": "markdown",
   "id": "bedabe30",
   "metadata": {},
   "source": [
    "# Advent of Code"
   ]
  },
  {
   "cell_type": "markdown",
   "id": "3baf49ac",
   "metadata": {},
   "source": [
    "## 2019-012-001\n",
    "## 2019 001"
   ]
  },
  {
   "cell_type": "markdown",
   "id": "0e0b0405",
   "metadata": {},
   "source": [
    "https://adventofcode.com/2019/day/1"
   ]
  },
  {
   "cell_type": "code",
   "execution_count": null,
   "id": "0143cfff",
   "metadata": {},
   "outputs": [],
   "source": []
  }
 ],
 "metadata": {},
 "nbformat": 4,
 "nbformat_minor": 5
}
