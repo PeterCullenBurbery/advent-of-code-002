{
 "cells": [
  {
   "cell_type": "markdown",
   "id": "bedabe30",
   "metadata": {},
   "source": [
    "# Advent of Code"
   ]
  },
  {
   "cell_type": "markdown",
   "id": "3baf49ac",
   "metadata": {},
   "source": [
    "## 2019-012-001\n",
    "## 2019 001"
   ]
  },
  {
   "cell_type": "markdown",
   "id": "0e0b0405",
   "metadata": {},
   "source": [
    "https://adventofcode.com/2019/day/1"
   ]
  },
  {
   "cell_type": "code",
   "execution_count": 1,
   "id": "0143cfff",
   "metadata": {},
   "outputs": [
    {
     "name": "stdout",
     "output_type": "stream",
     "text": [
      "Total fuel requirement: 3392373\n"
     ]
    }
   ],
   "source": [
    "import math\n",
    "\n",
    "def calculate_fuel(mass):\n",
    "    \"\"\"Calculate the fuel required for a given mass.\"\"\"\n",
    "    return max(math.floor(mass / 3) - 2, 0)\n",
    "\n",
    "def total_fuel_requirement(file_path):\n",
    "    \"\"\"Calculate the total fuel requirement for all module masses.\"\"\"\n",
    "    total_fuel = 0\n",
    "    with open(file_path, 'r') as file:\n",
    "        for line in file:\n",
    "            mass = int(line.strip())\n",
    "            total_fuel += calculate_fuel(mass)\n",
    "    return total_fuel\n",
    "\n",
    "if __name__ == \"__main__\":\n",
    "    file_path = \"input.txt\"\n",
    "    total_fuel = total_fuel_requirement(file_path)\n",
    "    print(f\"Total fuel requirement: {total_fuel}\")"
   ]
  },
  {
   "cell_type": "code",
   "execution_count": 2,
   "id": "fddf2c09-fdc8-4b7c-aa5f-bf0661298f76",
   "metadata": {},
   "outputs": [
    {
     "name": "stdout",
     "output_type": "stream",
     "text": [
      "Total fuel requirement (including fuel for fuel): 5085699\n"
     ]
    }
   ],
   "source": [
    "import math\n",
    "\n",
    "def calculate_fuel_recursive(mass):\n",
    "    \"\"\"Calculate the total fuel requirement, accounting for fuel mass.\"\"\"\n",
    "    total_fuel = 0\n",
    "    while mass > 0:\n",
    "        fuel = max(math.floor(mass / 3) - 2, 0)\n",
    "        if fuel > 0:\n",
    "            total_fuel += fuel\n",
    "        mass = fuel  # Next iteration uses the fuel mass\n",
    "    return total_fuel\n",
    "\n",
    "def total_fuel_requirement_with_fuel(file_path):\n",
    "    \"\"\"Calculate the total fuel requirement for all modules, including fuel for fuel.\"\"\"\n",
    "    total_fuel = 0\n",
    "    with open(file_path, 'r') as file:\n",
    "        for line in file:\n",
    "            mass = int(line.strip())\n",
    "            total_fuel += calculate_fuel_recursive(mass)\n",
    "    return total_fuel\n",
    "\n",
    "if __name__ == \"__main__\":\n",
    "    file_path = \"input.txt\"\n",
    "    total_fuel = total_fuel_requirement_with_fuel(file_path)\n",
    "    print(f\"Total fuel requirement (including fuel for fuel): {total_fuel}\")"
   ]
  },
  {
   "cell_type": "code",
   "execution_count": null,
   "id": "e6641476-a304-44bb-901a-0bdc9777673e",
   "metadata": {},
   "outputs": [],
   "source": []
  }
 ],
 "metadata": {
  "kernelspec": {
   "display_name": "Python 3 (ipykernel)",
   "language": "python",
   "name": "python3"
  },
  "language_info": {
   "codemirror_mode": {
    "name": "ipython",
    "version": 3
   },
   "file_extension": ".py",
   "mimetype": "text/x-python",
   "name": "python",
   "nbconvert_exporter": "python",
   "pygments_lexer": "ipython3",
   "version": "3.12.3"
  }
 },
 "nbformat": 4,
 "nbformat_minor": 5
}
