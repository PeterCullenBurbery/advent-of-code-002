{
 "cells": [
  {
   "cell_type": "markdown",
   "id": "5d3a6739",
   "metadata": {},
   "source": [
    "# Advent of Code"
   ]
  },
  {
   "cell_type": "markdown",
   "id": "a9913988",
   "metadata": {},
   "source": [
    "## 2019-012-007\n",
    "## 2019 007"
   ]
  },
  {
   "cell_type": "markdown",
   "id": "27e1ae6e",
   "metadata": {},
   "source": [
    "https://adventofcode.com/2019/day/7"
   ]
  },
  {
   "cell_type": "code",
   "execution_count": null,
   "id": "1e91139c",
   "metadata": {},
   "outputs": [],
   "source": []
  }
 ],
 "metadata": {
  "kernelspec": {
   "display_name": "Python 3 (ipykernel)",
   "language": "python",
   "name": "python3"
  },
  "language_info": {
   "name": ""
  }
 },
 "nbformat": 4,
 "nbformat_minor": 5
}
