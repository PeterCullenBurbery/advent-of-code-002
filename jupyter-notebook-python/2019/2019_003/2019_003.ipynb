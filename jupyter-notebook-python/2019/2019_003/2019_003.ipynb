{
 "cells": [
  {
   "cell_type": "markdown",
   "id": "63e4776c",
   "metadata": {},
   "source": [
    "# Advent of Code"
   ]
  },
  {
   "cell_type": "markdown",
   "id": "c6fbe6ce",
   "metadata": {},
   "source": [
    "## 2019-012-003\n",
    "## 2019 003"
   ]
  },
  {
   "cell_type": "markdown",
   "id": "c88d670e",
   "metadata": {},
   "source": [
    "https://adventofcode.com/2019/day/3"
   ]
  },
  {
   "cell_type": "code",
   "execution_count": null,
   "id": "5bcd5b64",
   "metadata": {},
   "outputs": [],
   "source": []
  }
 ],
 "metadata": {},
 "nbformat": 4,
 "nbformat_minor": 5
}
