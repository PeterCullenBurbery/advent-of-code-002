{
 "cells": [
  {
   "cell_type": "markdown",
   "id": "63e4776c",
   "metadata": {},
   "source": [
    "# Advent of Code"
   ]
  },
  {
   "cell_type": "markdown",
   "id": "c6fbe6ce",
   "metadata": {},
   "source": [
    "## 2019-012-003\n",
    "## 2019 003"
   ]
  },
  {
   "cell_type": "markdown",
   "id": "c88d670e",
   "metadata": {},
   "source": [
    "https://adventofcode.com/2019/day/3"
   ]
  },
  {
   "cell_type": "code",
   "execution_count": 1,
   "id": "5bcd5b64",
   "metadata": {},
   "outputs": [
    {
     "name": "stdout",
     "output_type": "stream",
     "text": [
      "Closest Manhattan distance: 731\n"
     ]
    }
   ],
   "source": [
    "def parse_wire_path(wire_path):\n",
    "    \"\"\"Parse a wire path into a list of points.\"\"\"\n",
    "    x, y = 0, 0\n",
    "    points = set()\n",
    "    \n",
    "    for instruction in wire_path.split(\",\"):\n",
    "        direction = instruction[0]\n",
    "        distance = int(instruction[1:])\n",
    "        \n",
    "        for _ in range(distance):\n",
    "            if direction == 'R':\n",
    "                x += 1\n",
    "            elif direction == 'U':\n",
    "                y += 1\n",
    "            elif direction == 'L':\n",
    "                x -= 1\n",
    "            elif direction == 'D':\n",
    "                y -= 1\n",
    "            points.add((x, y))\n",
    "    \n",
    "    return points\n",
    "\n",
    "def calculate_manhattan_distance(point):\n",
    "    \"\"\"Calculate Manhattan distance from the central port.\"\"\"\n",
    "    return abs(point[0]) + abs(point[1])\n",
    "\n",
    "def find_closest_intersection(wire1_path, wire2_path):\n",
    "    \"\"\"Find the closest intersection and return its Manhattan distance.\"\"\"\n",
    "    wire1_points = parse_wire_path(wire1_path)\n",
    "    wire2_points = parse_wire_path(wire2_path)\n",
    "    \n",
    "    intersections = wire1_points & wire2_points  # Find common points\n",
    "    \n",
    "    # Calculate Manhattan distances for all intersections\n",
    "    distances = [calculate_manhattan_distance(point) for point in intersections]\n",
    "    \n",
    "    return min(distances)  # Return the smallest distance\n",
    "\n",
    "if __name__ == \"__main__\":\n",
    "    with open(\"input.txt\", \"r\") as file:\n",
    "        wire1_path, wire2_path = file.read().strip().split(\"\\n\")\n",
    "    \n",
    "    closest_distance = find_closest_intersection(wire1_path, wire2_path)\n",
    "    print(f\"Closest Manhattan distance: {closest_distance}\")"
   ]
  },
  {
   "cell_type": "code",
   "execution_count": 2,
   "id": "5239430f-f42e-400a-b156-f109129a9c55",
   "metadata": {},
   "outputs": [
    {
     "name": "stdout",
     "output_type": "stream",
     "text": [
      "Minimum signal delay: 5672\n"
     ]
    }
   ],
   "source": [
    "def parse_wire_path(wire_path):\n",
    "    \"\"\"Parse a wire path into a dictionary of points and steps.\"\"\"\n",
    "    x, y = 0, 0\n",
    "    steps = 0\n",
    "    points = {}\n",
    "    \n",
    "    for instruction in wire_path.split(\",\"):\n",
    "        direction = instruction[0]\n",
    "        distance = int(instruction[1:])\n",
    "        \n",
    "        for _ in range(distance):\n",
    "            if direction == 'R':\n",
    "                x += 1\n",
    "            elif direction == 'U':\n",
    "                y += 1\n",
    "            elif direction == 'L':\n",
    "                x -= 1\n",
    "            elif direction == 'D':\n",
    "                y -= 1\n",
    "            steps += 1\n",
    "            # Record the point and steps if not already visited\n",
    "            if (x, y) not in points:\n",
    "                points[(x, y)] = steps\n",
    "    \n",
    "    return points\n",
    "\n",
    "def find_min_signal_delay(wire1_path, wire2_path):\n",
    "    \"\"\"Find the minimum signal delay for intersections of two wires.\"\"\"\n",
    "    wire1_points = parse_wire_path(wire1_path)\n",
    "    wire2_points = parse_wire_path(wire2_path)\n",
    "    \n",
    "    # Find intersections\n",
    "    intersections = set(wire1_points.keys()) & set(wire2_points.keys())\n",
    "    \n",
    "    # Calculate combined signal delay for each intersection\n",
    "    delays = [wire1_points[point] + wire2_points[point] for point in intersections]\n",
    "    \n",
    "    return min(delays)  # Return the smallest delay\n",
    "\n",
    "if __name__ == \"__main__\":\n",
    "    with open(\"input.txt\", \"r\") as file:\n",
    "        wire1_path, wire2_path = file.read().strip().split(\"\\n\")\n",
    "    \n",
    "    min_delay = find_min_signal_delay(wire1_path, wire2_path)\n",
    "    print(f\"Minimum signal delay: {min_delay}\")"
   ]
  },
  {
   "cell_type": "code",
   "execution_count": null,
   "id": "733a03df-c2d2-497e-be7f-90c19112e071",
   "metadata": {},
   "outputs": [],
   "source": []
  }
 ],
 "metadata": {
  "kernelspec": {
   "display_name": "Python 3 (ipykernel)",
   "language": "python",
   "name": "python3"
  },
  "language_info": {
   "codemirror_mode": {
    "name": "ipython",
    "version": 3
   },
   "file_extension": ".py",
   "mimetype": "text/x-python",
   "name": "python",
   "nbconvert_exporter": "python",
   "pygments_lexer": "ipython3",
   "version": "3.12.3"
  }
 },
 "nbformat": 4,
 "nbformat_minor": 5
}
