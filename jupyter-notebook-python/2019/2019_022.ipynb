{
 "cells": [
  {
   "cell_type": "markdown",
   "id": "e88ff9a6",
   "metadata": {},
   "source": [
    "# Advent of Code"
   ]
  },
  {
   "cell_type": "markdown",
   "id": "3600c4a1",
   "metadata": {},
   "source": [
    "## 2019-012-022\n",
    "## 2019 022"
   ]
  },
  {
   "cell_type": "markdown",
   "id": "e7c81620",
   "metadata": {},
   "source": [
    "https://adventofcode.com/2019/day/22"
   ]
  },
  {
   "cell_type": "code",
   "execution_count": null,
   "id": "b6693dd8",
   "metadata": {},
   "outputs": [],
   "source": []
  }
 ],
 "metadata": {
  "kernelspec": {
   "display_name": "Python 3 (ipykernel)",
   "language": "python",
   "name": "python3"
  },
  "language_info": {
   "name": "python",
   "version": "3.12.3"
  }
 },
 "nbformat": 4,
 "nbformat_minor": 5
}
