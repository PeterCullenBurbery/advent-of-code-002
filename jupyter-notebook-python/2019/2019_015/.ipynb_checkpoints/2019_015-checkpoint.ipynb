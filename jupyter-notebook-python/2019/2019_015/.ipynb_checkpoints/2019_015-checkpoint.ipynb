{
 "cells": [
  {
   "cell_type": "markdown",
   "id": "3e4e24f3",
   "metadata": {},
   "source": [
    "# Advent of Code"
   ]
  },
  {
   "cell_type": "markdown",
   "id": "ab27ee41",
   "metadata": {},
   "source": [
    "## 2019-012-015\n",
    "## 2019 015"
   ]
  },
  {
   "cell_type": "markdown",
   "id": "256f1869",
   "metadata": {},
   "source": [
    "https://adventofcode.com/2019/day/15"
   ]
  },
  {
   "cell_type": "code",
   "execution_count": null,
   "id": "a932eac6",
   "metadata": {},
   "outputs": [],
   "source": []
  }
 ],
 "metadata": {},
 "nbformat": 4,
 "nbformat_minor": 5
}
