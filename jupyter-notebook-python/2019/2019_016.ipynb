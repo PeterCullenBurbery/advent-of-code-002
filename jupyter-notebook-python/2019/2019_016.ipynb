{
 "cells": [
  {
   "cell_type": "markdown",
   "id": "c22993f9",
   "metadata": {},
   "source": [
    "# Advent of Code"
   ]
  },
  {
   "cell_type": "markdown",
   "id": "7082cbba",
   "metadata": {},
   "source": [
    "## 2019-012-016\n",
    "## 2019 016"
   ]
  },
  {
   "cell_type": "markdown",
   "id": "c112eeb9",
   "metadata": {},
   "source": [
    "https://adventofcode.com/2019/day/16"
   ]
  },
  {
   "cell_type": "code",
   "execution_count": null,
   "id": "361c4d67",
   "metadata": {},
   "outputs": [],
   "source": []
  }
 ],
 "metadata": {
  "kernelspec": {
   "display_name": "Python 3 (ipykernel)",
   "language": "python",
   "name": "python3"
  },
  "language_info": {
   "name": "python",
   "version": "3.12.3"
  }
 },
 "nbformat": 4,
 "nbformat_minor": 5
}
