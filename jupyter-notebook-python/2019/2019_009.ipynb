{
 "cells": [
  {
   "cell_type": "markdown",
   "id": "631d6cf3",
   "metadata": {},
   "source": [
    "# Advent of Code"
   ]
  },
  {
   "cell_type": "markdown",
   "id": "33872bc4",
   "metadata": {},
   "source": [
    "## 2019-012-009\n",
    "## 2019 009"
   ]
  },
  {
   "cell_type": "markdown",
   "id": "6dae00ec",
   "metadata": {},
   "source": [
    "https://adventofcode.com/2019/day/9"
   ]
  },
  {
   "cell_type": "code",
   "execution_count": null,
   "id": "13b14952",
   "metadata": {},
   "outputs": [],
   "source": []
  }
 ],
 "metadata": {
  "kernelspec": {
   "display_name": "Python 3 (ipykernel)",
   "language": "python",
   "name": "python3"
  },
  "language_info": {
   "name": "python",
   "version": "3.12.3"
  }
 },
 "nbformat": 4,
 "nbformat_minor": 5
}
