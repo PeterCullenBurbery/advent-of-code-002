{
 "cells": [
  {
   "cell_type": "markdown",
   "id": "ae58d689",
   "metadata": {},
   "source": [
    "# Advent of Code"
   ]
  },
  {
   "cell_type": "markdown",
   "id": "d69a5a04",
   "metadata": {},
   "source": [
    "## 2019-012-008\n",
    "## 2019 008"
   ]
  },
  {
   "cell_type": "markdown",
   "id": "6c5f0ebd",
   "metadata": {},
   "source": [
    "https://adventofcode.com/2019/day/8"
   ]
  },
  {
   "cell_type": "code",
   "execution_count": null,
   "id": "33c931f8",
   "metadata": {},
   "outputs": [],
   "source": []
  }
 ],
 "metadata": {
  "kernelspec": {
   "display_name": "Python 3 (ipykernel)",
   "language": "python",
   "name": "python3"
  },
  "language_info": {
   "name": "python",
   "version": "3.12.3"
  }
 },
 "nbformat": 4,
 "nbformat_minor": 5
}
