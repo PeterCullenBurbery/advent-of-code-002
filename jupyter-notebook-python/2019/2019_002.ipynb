{
 "cells": [
  {
   "cell_type": "markdown",
   "id": "b3b8c274",
   "metadata": {},
   "source": [
    "# Advent of Code"
   ]
  },
  {
   "cell_type": "markdown",
   "id": "62655bb1",
   "metadata": {},
   "source": [
    "## 2019-012-002\n",
    "## 2019 002"
   ]
  },
  {
   "cell_type": "markdown",
   "id": "ea40f2a5",
   "metadata": {},
   "source": [
    "https://adventofcode.com/2019/day/2"
   ]
  },
  {
   "cell_type": "code",
   "execution_count": null,
   "id": "2fb1436f",
   "metadata": {},
   "outputs": [],
   "source": []
  }
 ],
 "metadata": {
  "kernelspec": {
   "display_name": "Python 3 (ipykernel)",
   "language": "python",
   "name": "python3"
  },
  "language_info": {
   "name": "python",
   "version": "3.12.3"
  }
 },
 "nbformat": 4,
 "nbformat_minor": 5
}
