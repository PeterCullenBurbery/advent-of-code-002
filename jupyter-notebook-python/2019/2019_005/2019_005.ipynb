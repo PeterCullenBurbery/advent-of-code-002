{
 "cells": [
  {
   "cell_type": "markdown",
   "id": "6d723691",
   "metadata": {},
   "source": [
    "# Advent of Code"
   ]
  },
  {
   "cell_type": "markdown",
   "id": "84447600",
   "metadata": {},
   "source": [
    "## 2019-012-005\n",
    "## 2019 005"
   ]
  },
  {
   "cell_type": "markdown",
   "id": "89e9301f",
   "metadata": {},
   "source": [
    "https://adventofcode.com/2019/day/5"
   ]
  },
  {
   "cell_type": "code",
   "execution_count": null,
   "id": "e7e81c87",
   "metadata": {},
   "outputs": [],
   "source": []
  }
 ],
 "metadata": {},
 "nbformat": 4,
 "nbformat_minor": 5
}
