{
 "cells": [
  {
   "cell_type": "markdown",
   "id": "ab0aea83",
   "metadata": {},
   "source": [
    "# Advent of Code"
   ]
  },
  {
   "cell_type": "markdown",
   "id": "63595176",
   "metadata": {},
   "source": [
    "## 2019-012-023\n",
    "## 2019 023"
   ]
  },
  {
   "cell_type": "markdown",
   "id": "ea5ff55b",
   "metadata": {},
   "source": [
    "https://adventofcode.com/2019/day/23"
   ]
  },
  {
   "cell_type": "code",
   "execution_count": null,
   "id": "0bd16f77",
   "metadata": {},
   "outputs": [],
   "source": []
  }
 ],
 "metadata": {
  "kernelspec": {
   "display_name": "Python 3 (ipykernel)",
   "language": "python",
   "name": "python3"
  },
  "language_info": {
   "name": "python",
   "version": "3.12.3"
  }
 },
 "nbformat": 4,
 "nbformat_minor": 5
}
