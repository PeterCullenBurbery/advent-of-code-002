{
 "cells": [
  {
   "cell_type": "markdown",
   "id": "b62a8ad9",
   "metadata": {},
   "source": [
    "# Advent of Code"
   ]
  },
  {
   "cell_type": "markdown",
   "id": "ac6724ca",
   "metadata": {},
   "source": [
    "## 2019-012-016\n",
    "## 2019 016"
   ]
  },
  {
   "cell_type": "markdown",
   "id": "6142174c",
   "metadata": {},
   "source": [
    "https://adventofcode.com/2019/day/16"
   ]
  },
  {
   "cell_type": "code",
   "execution_count": 1,
   "id": "a25e719f",
   "metadata": {},
   "outputs": [
    {
     "name": "stdout",
     "output_type": "stream",
     "text": [
      "The first eight digits of the final output list are: 07081566\n"
     ]
    }
   ],
   "source": [
    "def fft_phase(signal):\n",
    "    # Base pattern for FFT\n",
    "    base_pattern = [0, 1, 0, -1]\n",
    "    output = []\n",
    "\n",
    "    for i in range(1, len(signal) + 1):\n",
    "        pattern = []\n",
    "        # Build the pattern for this output element\n",
    "        for j in range(i):\n",
    "            pattern.extend(base_pattern)\n",
    "        # Repeat pattern as needed and shift the first element\n",
    "        pattern = pattern[1:]  # Shift the pattern left by one element\n",
    "        pattern = pattern * ((len(signal) // len(pattern)) + 1)  # Repeat pattern\n",
    "        pattern = pattern[:len(signal)]  # Trim to the correct length\n",
    "\n",
    "        # Calculate the output value for this position\n",
    "        total = 0\n",
    "        for j in range(len(signal)):\n",
    "            total += signal[j] * pattern[j]\n",
    "        # Only the last digit of the sum matters\n",
    "        output.append(abs(total) % 10)\n",
    "\n",
    "    return output\n",
    "\n",
    "def fft(signal, phases=100):\n",
    "    for _ in range(phases):\n",
    "        signal = fft_phase(signal)\n",
    "    return signal\n",
    "\n",
    "def get_first_eight_digits(signal):\n",
    "    return ''.join(map(str, signal[:8]))\n",
    "\n",
    "def main():\n",
    "    # Parse the input file\n",
    "    with open(\"input.txt\", 'r') as file:\n",
    "        signal = list(map(int, file.read().strip()))\n",
    "\n",
    "    # Run FFT for 100 phases\n",
    "    final_signal = fft(signal, phases=100)\n",
    "\n",
    "    # Get the first 8 digits of the final signal\n",
    "    result = get_first_eight_digits(final_signal)\n",
    "    print(f\"The first eight digits of the final output list are: {result}\")\n",
    "\n",
    "if __name__ == \"__main__\":\n",
    "    main()"
   ]
  },
  {
   "cell_type": "markdown",
   "id": "b2f0aea7-ff33-49c6-868a-73c7b3ecc0ae",
   "metadata": {},
   "source": [
    "That's not the right answer; your answer is too low. If you're stuck, make sure you're using the full input data; there are also some general tips on the about page, or you can ask for hints on the subreddit. Please wait one minute before trying again. [Return to Day 16]"
   ]
  },
  {
   "cell_type": "code",
   "execution_count": null,
   "id": "44518c62-8172-4809-8ba2-f14066de8f8e",
   "metadata": {},
   "outputs": [],
   "source": []
  }
 ],
 "metadata": {
  "kernelspec": {
   "display_name": "Python 3 (ipykernel)",
   "language": "python",
   "name": "python3"
  },
  "language_info": {
   "codemirror_mode": {
    "name": "ipython",
    "version": 3
   },
   "file_extension": ".py",
   "mimetype": "text/x-python",
   "name": "python",
   "nbconvert_exporter": "python",
   "pygments_lexer": "ipython3",
   "version": "3.12.3"
  }
 },
 "nbformat": 4,
 "nbformat_minor": 5
}
