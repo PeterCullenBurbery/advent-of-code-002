{
 "cells": [
  {
   "cell_type": "markdown",
   "id": "b62a8ad9",
   "metadata": {},
   "source": [
    "# Advent of Code"
   ]
  },
  {
   "cell_type": "markdown",
   "id": "ac6724ca",
   "metadata": {},
   "source": [
    "## 2019-012-016\n",
    "## 2019 016"
   ]
  },
  {
   "cell_type": "markdown",
   "id": "6142174c",
   "metadata": {},
   "source": [
    "https://adventofcode.com/2019/day/16"
   ]
  },
  {
   "cell_type": "code",
   "execution_count": null,
   "id": "a25e719f",
   "metadata": {},
   "outputs": [],
   "source": []
  }
 ],
 "metadata": {},
 "nbformat": 4,
 "nbformat_minor": 5
}
