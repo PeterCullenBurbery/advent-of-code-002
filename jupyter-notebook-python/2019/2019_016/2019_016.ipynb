{
 "cells": [
  {
   "cell_type": "markdown",
   "id": "b62a8ad9",
   "metadata": {},
   "source": [
    "# Advent of Code"
   ]
  },
  {
   "cell_type": "markdown",
   "id": "ac6724ca",
   "metadata": {},
   "source": [
    "## 2019-012-016\n",
    "## 2019 016"
   ]
  },
  {
   "cell_type": "markdown",
   "id": "6142174c",
   "metadata": {},
   "source": [
    "https://adventofcode.com/2019/day/16"
   ]
  },
  {
   "cell_type": "code",
   "execution_count": 1,
   "id": "a25e719f",
   "metadata": {},
   "outputs": [
    {
     "name": "stdout",
     "output_type": "stream",
     "text": [
      "The first eight digits of the final output list are: 07081566\n"
     ]
    }
   ],
   "source": [
    "def fft_phase(signal):\n",
    "    # Base pattern for FFT\n",
    "    base_pattern = [0, 1, 0, -1]\n",
    "    output = []\n",
    "\n",
    "    for i in range(1, len(signal) + 1):\n",
    "        pattern = []\n",
    "        # Build the pattern for this output element\n",
    "        for j in range(i):\n",
    "            pattern.extend(base_pattern)\n",
    "        # Repeat pattern as needed and shift the first element\n",
    "        pattern = pattern[1:]  # Shift the pattern left by one element\n",
    "        pattern = pattern * ((len(signal) // len(pattern)) + 1)  # Repeat pattern\n",
    "        pattern = pattern[:len(signal)]  # Trim to the correct length\n",
    "\n",
    "        # Calculate the output value for this position\n",
    "        total = 0\n",
    "        for j in range(len(signal)):\n",
    "            total += signal[j] * pattern[j]\n",
    "        # Only the last digit of the sum matters\n",
    "        output.append(abs(total) % 10)\n",
    "\n",
    "    return output\n",
    "\n",
    "def fft(signal, phases=100):\n",
    "    for _ in range(phases):\n",
    "        signal = fft_phase(signal)\n",
    "    return signal\n",
    "\n",
    "def get_first_eight_digits(signal):\n",
    "    return ''.join(map(str, signal[:8]))\n",
    "\n",
    "def main():\n",
    "    # Parse the input file\n",
    "    with open(\"input.txt\", 'r') as file:\n",
    "        signal = list(map(int, file.read().strip()))\n",
    "\n",
    "    # Run FFT for 100 phases\n",
    "    final_signal = fft(signal, phases=100)\n",
    "\n",
    "    # Get the first 8 digits of the final signal\n",
    "    result = get_first_eight_digits(final_signal)\n",
    "    print(f\"The first eight digits of the final output list are: {result}\")\n",
    "\n",
    "if __name__ == \"__main__\":\n",
    "    main()"
   ]
  },
  {
   "cell_type": "markdown",
   "id": "b2f0aea7-ff33-49c6-868a-73c7b3ecc0ae",
   "metadata": {},
   "source": [
    "That's not the right answer; your answer is too low. If you're stuck, make sure you're using the full input data; there are also some general tips on the about page, or you can ask for hints on the subreddit. Please wait one minute before trying again. [Return to Day 16]"
   ]
  },
  {
   "cell_type": "code",
   "execution_count": 6,
   "id": "44518c62-8172-4809-8ba2-f14066de8f8e",
   "metadata": {},
   "outputs": [
    {
     "name": "stdout",
     "output_type": "stream",
     "text": [
      "29795507\n",
      "29795507\n"
     ]
    }
   ],
   "source": [
    "# Read the input data\n",
    "with open('input.txt', 'r') as file:\n",
    "    signal = list(map(int, file.read().strip()))\n",
    "\n",
    "# Base pattern for FFT\n",
    "base_pattern = [0, 1, 0, -1]\n",
    "\n",
    "# Function to calculate the FFT phases\n",
    "def apply_fft(signal, phases):\n",
    "    length = len(signal)\n",
    "    for _ in range(phases):\n",
    "        new_signal = []\n",
    "        for i in range(length):\n",
    "            pattern = []\n",
    "            for p in base_pattern:\n",
    "                pattern.extend([p] * (i + 1))\n",
    "            # Repeat the pattern enough to cover the signal length, skipping the first value\n",
    "            extended_pattern = (pattern * ((length // len(pattern)) + 1))[1:length + 1]\n",
    "            # Calculate the new value for this position\n",
    "            value = sum(s * p for s, p in zip(signal, extended_pattern))\n",
    "            new_signal.append(abs(value) % 10)\n",
    "        signal = new_signal\n",
    "    return signal\n",
    "\n",
    "# Apply 100 phases of FFT to the input signal\n",
    "result_signal = apply_fft(signal, 100)\n",
    "\n",
    "# Get the first eight digits of the final output list\n",
    "first_eight_digits = ''.join(map(str, result_signal[:8]))\n",
    "print(first_eight_digits)\n",
    "print(int(first_eight_digits))"
   ]
  },
  {
   "cell_type": "code",
   "execution_count": 7,
   "id": "5dfff6e2-5aff-410b-8be7-4faf66e5d25a",
   "metadata": {},
   "outputs": [
    {
     "name": "stdout",
     "output_type": "stream",
     "text": [
      "89568529\n",
      "89568529\n"
     ]
    }
   ],
   "source": [
    "# Extract the message offset from the first seven digits of the input signal\n",
    "message_offset = int(''.join(map(str, signal[:7])))\n",
    "\n",
    "# Since the message offset is in the latter half of the signal (as guaranteed by the puzzle description),\n",
    "# we can optimize by only simulating the relevant portion of the signal.\n",
    "repeated_signal_length = len(signal) * 10000\n",
    "assert message_offset > repeated_signal_length // 2, \"Offset must be in the latter half of the signal.\"\n",
    "\n",
    "# Generate only the relevant portion of the signal starting from the message offset\n",
    "relevant_signal = (signal * 10000)[message_offset:]\n",
    "\n",
    "# Optimized FFT for the latter half of the signal\n",
    "def optimized_fft(signal, phases):\n",
    "    length = len(signal)\n",
    "    for _ in range(phases):\n",
    "        new_signal = [0] * length\n",
    "        cumulative_sum = 0\n",
    "        # Traverse the signal from the end to the beginning (relying on triangular sum properties)\n",
    "        for i in range(length - 1, -1, -1):\n",
    "            cumulative_sum += signal[i]\n",
    "            new_signal[i] = cumulative_sum % 10\n",
    "        signal = new_signal\n",
    "    return signal\n",
    "\n",
    "# Apply 100 phases of the optimized FFT\n",
    "final_signal = optimized_fft(relevant_signal, 100)\n",
    "\n",
    "# Extract the eight-digit message from the final output\n",
    "eight_digit_message = ''.join(map(str, final_signal[:8]))\n",
    "print(eight_digit_message)\n",
    "print(int(eight_digit_message))"
   ]
  },
  {
   "cell_type": "code",
   "execution_count": null,
   "id": "4ba39be0-599c-48ba-99cf-7133c36a2560",
   "metadata": {},
   "outputs": [],
   "source": []
  }
 ],
 "metadata": {
  "kernelspec": {
   "display_name": "Python 3 (ipykernel)",
   "language": "python",
   "name": "python3"
  },
  "language_info": {
   "codemirror_mode": {
    "name": "ipython",
    "version": 3
   },
   "file_extension": ".py",
   "mimetype": "text/x-python",
   "name": "python",
   "nbconvert_exporter": "python",
   "pygments_lexer": "ipython3",
   "version": "3.12.3"
  }
 },
 "nbformat": 4,
 "nbformat_minor": 5
}
