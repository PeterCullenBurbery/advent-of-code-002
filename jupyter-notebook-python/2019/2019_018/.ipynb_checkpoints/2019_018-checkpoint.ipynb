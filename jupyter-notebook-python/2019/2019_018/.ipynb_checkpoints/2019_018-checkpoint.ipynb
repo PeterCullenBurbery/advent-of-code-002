{
 "cells": [
  {
   "cell_type": "markdown",
   "id": "03814ac4",
   "metadata": {},
   "source": [
    "# Advent of Code"
   ]
  },
  {
   "cell_type": "markdown",
   "id": "e31f1548",
   "metadata": {},
   "source": [
    "## 2019-012-018\n",
    "## 2019 018"
   ]
  },
  {
   "cell_type": "markdown",
   "id": "23eb6ed1",
   "metadata": {},
   "source": [
    "https://adventofcode.com/2019/day/18"
   ]
  },
  {
   "cell_type": "code",
   "execution_count": null,
   "id": "b4a7659c",
   "metadata": {},
   "outputs": [],
   "source": []
  }
 ],
 "metadata": {},
 "nbformat": 4,
 "nbformat_minor": 5
}
