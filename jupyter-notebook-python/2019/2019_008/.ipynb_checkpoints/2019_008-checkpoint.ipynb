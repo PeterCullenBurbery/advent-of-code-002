{
 "cells": [
  {
   "cell_type": "markdown",
   "id": "e86d5fe2",
   "metadata": {},
   "source": [
    "# Advent of Code"
   ]
  },
  {
   "cell_type": "markdown",
   "id": "0b064307",
   "metadata": {},
   "source": [
    "## 2019-012-008\n",
    "## 2019 008"
   ]
  },
  {
   "cell_type": "markdown",
   "id": "9b870bb6",
   "metadata": {},
   "source": [
    "https://adventofcode.com/2019/day/8"
   ]
  },
  {
   "cell_type": "code",
   "execution_count": 1,
   "id": "43726825",
   "metadata": {},
   "outputs": [
    {
     "name": "stdout",
     "output_type": "stream",
     "text": [
      "Checksum: 2500\n"
     ]
    }
   ],
   "source": [
    "def parse_image(data, width, height):\n",
    "    \"\"\"Parse the input data into layers of the specified width and height.\"\"\"\n",
    "    layer_size = width * height\n",
    "    return [data[i:i + layer_size] for i in range(0, len(data), layer_size)]\n",
    "\n",
    "def find_layer_with_fewest_zeros(layers):\n",
    "    \"\"\"Find the layer with the fewest '0' digits.\"\"\"\n",
    "    fewest_zeros = float('inf')\n",
    "    best_layer = None\n",
    "\n",
    "    for layer in layers:\n",
    "        zero_count = layer.count('0')\n",
    "        if zero_count < fewest_zeros:\n",
    "            fewest_zeros = zero_count\n",
    "            best_layer = layer\n",
    "    \n",
    "    return best_layer\n",
    "\n",
    "def calculate_checksum(layer):\n",
    "    \"\"\"Calculate the checksum of a layer (1s count * 2s count).\"\"\"\n",
    "    return layer.count('1') * layer.count('2')\n",
    "\n",
    "if __name__ == \"__main__\":\n",
    "    # Read input data from input.txt\n",
    "    with open(\"input.txt\", \"r\") as file:\n",
    "        data = file.read().strip()\n",
    "    \n",
    "    # Define image dimensions\n",
    "    width = 25\n",
    "    height = 6\n",
    "\n",
    "    # Parse image into layers\n",
    "    layers = parse_image(data, width, height)\n",
    "\n",
    "    # Find the layer with the fewest '0' digits\n",
    "    best_layer = find_layer_with_fewest_zeros(layers)\n",
    "\n",
    "    # Calculate the checksum\n",
    "    checksum = calculate_checksum(best_layer)\n",
    "\n",
    "    print(f\"Checksum: {checksum}\")"
   ]
  },
  {
   "cell_type": "code",
   "execution_count": 2,
   "id": "75604bee-634d-4f70-a1d1-8f21a1c98ceb",
   "metadata": {},
   "outputs": [
    {
     "name": "stdout",
     "output_type": "stream",
     "text": [
      " ██  █   ██  █  ██  █  █ \n",
      "█  █ █   ██  █ █  █ █  █ \n",
      "█     █ █ █  █ █  █ ████ \n",
      "█      █  █  █ ████ █  █ \n",
      "█  █   █  █  █ █  █ █  █ \n",
      " ██    █   ██  █  █ █  █ \n"
     ]
    }
   ],
   "source": [
    "def parse_image(data, width, height):\n",
    "    \"\"\"Parse the input data into layers of the specified width and height.\"\"\"\n",
    "    layer_size = width * height\n",
    "    return [data[i:i + layer_size] for i in range(0, len(data), layer_size)]\n",
    "\n",
    "def decode_image(layers, width, height):\n",
    "    \"\"\"Decode the final image by stacking the layers.\"\"\"\n",
    "    final_image = ['2'] * (width * height)  # Start with all transparent pixels\n",
    "    \n",
    "    for layer in layers:\n",
    "        for i, pixel in enumerate(layer):\n",
    "            if final_image[i] == '2':  # Replace only transparent pixels\n",
    "                final_image[i] = pixel\n",
    "    \n",
    "    return final_image\n",
    "\n",
    "def render_image(image, width):\n",
    "    \"\"\"Render the final image as a grid.\"\"\"\n",
    "    for i in range(0, len(image), width):\n",
    "        print(''.join(image[i:i + width]).replace('0', ' ').replace('1', '█'))\n",
    "\n",
    "if __name__ == \"__main__\":\n",
    "    # Read input data from input.txt\n",
    "    with open(\"input.txt\", \"r\") as file:\n",
    "        data = file.read().strip()\n",
    "    \n",
    "    # Define image dimensions\n",
    "    width = 25\n",
    "    height = 6\n",
    "\n",
    "    # Parse image into layers\n",
    "    layers = parse_image(data, width, height)\n",
    "\n",
    "    # Decode the final image\n",
    "    final_image = decode_image(layers, width, height)\n",
    "\n",
    "    # Render the image\n",
    "    render_image(final_image, width)"
   ]
  },
  {
   "cell_type": "markdown",
   "id": "b98b0bfa-bd17-4b1d-a220-10d3d5068d82",
   "metadata": {},
   "source": [
    "CYUAH"
   ]
  },
  {
   "cell_type": "code",
   "execution_count": null,
   "id": "3add3f4b-df23-4f8d-b8d8-2dd2e9b2445e",
   "metadata": {},
   "outputs": [],
   "source": []
  }
 ],
 "metadata": {
  "kernelspec": {
   "display_name": "Python 3 (ipykernel)",
   "language": "python",
   "name": "python3"
  },
  "language_info": {
   "codemirror_mode": {
    "name": "ipython",
    "version": 3
   },
   "file_extension": ".py",
   "mimetype": "text/x-python",
   "name": "python",
   "nbconvert_exporter": "python",
   "pygments_lexer": "ipython3",
   "version": "3.12.3"
  }
 },
 "nbformat": 4,
 "nbformat_minor": 5
}
