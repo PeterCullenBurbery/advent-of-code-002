{
 "cells": [
  {
   "cell_type": "markdown",
   "id": "e86d5fe2",
   "metadata": {},
   "source": [
    "# Advent of Code"
   ]
  },
  {
   "cell_type": "markdown",
   "id": "0b064307",
   "metadata": {},
   "source": [
    "## 2019-012-008\n",
    "## 2019 008"
   ]
  },
  {
   "cell_type": "markdown",
   "id": "9b870bb6",
   "metadata": {},
   "source": [
    "https://adventofcode.com/2019/day/8"
   ]
  },
  {
   "cell_type": "code",
   "execution_count": null,
   "id": "43726825",
   "metadata": {},
   "outputs": [],
   "source": []
  }
 ],
 "metadata": {},
 "nbformat": 4,
 "nbformat_minor": 5
}
