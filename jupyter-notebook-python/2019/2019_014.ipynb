{
 "cells": [
  {
   "cell_type": "markdown",
   "id": "38ce970f",
   "metadata": {},
   "source": [
    "# Advent of Code"
   ]
  },
  {
   "cell_type": "markdown",
   "id": "b5f3a971",
   "metadata": {},
   "source": [
    "## 2019-012-014\n",
    "## 2019 014"
   ]
  },
  {
   "cell_type": "markdown",
   "id": "1196f698",
   "metadata": {},
   "source": [
    "https://adventofcode.com/2019/day/14"
   ]
  },
  {
   "cell_type": "code",
   "execution_count": null,
   "id": "14a7e598",
   "metadata": {},
   "outputs": [],
   "source": []
  }
 ],
 "metadata": {
  "kernelspec": {
   "display_name": "Python 3 (ipykernel)",
   "language": "python",
   "name": "python3"
  },
  "language_info": {
   "name": "python",
   "version": "3.12.3"
  }
 },
 "nbformat": 4,
 "nbformat_minor": 5
}
