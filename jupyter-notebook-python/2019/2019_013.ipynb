{
 "cells": [
  {
   "cell_type": "markdown",
   "id": "10210918",
   "metadata": {},
   "source": [
    "# Advent of Code"
   ]
  },
  {
   "cell_type": "markdown",
   "id": "9133f815",
   "metadata": {},
   "source": [
    "## 2019-012-013\n",
    "## 2019 013"
   ]
  },
  {
   "cell_type": "markdown",
   "id": "a7015522",
   "metadata": {},
   "source": [
    "https://adventofcode.com/2019/day/13"
   ]
  },
  {
   "cell_type": "code",
   "execution_count": null,
   "id": "bfee9070",
   "metadata": {},
   "outputs": [],
   "source": []
  }
 ],
 "metadata": {
  "kernelspec": {
   "display_name": "Python 3 (ipykernel)",
   "language": "python",
   "name": "python3"
  },
  "language_info": {
   "name": "python",
   "version": "3.12.3"
  }
 },
 "nbformat": 4,
 "nbformat_minor": 5
}
