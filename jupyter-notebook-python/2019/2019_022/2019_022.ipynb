{
 "cells": [
  {
   "cell_type": "markdown",
   "id": "7bb85bd2",
   "metadata": {},
   "source": [
    "# Advent of Code"
   ]
  },
  {
   "cell_type": "markdown",
   "id": "efba6634",
   "metadata": {},
   "source": [
    "## 2019-012-022\n",
    "## 2019 022"
   ]
  },
  {
   "cell_type": "markdown",
   "id": "6e41a00c",
   "metadata": {},
   "source": [
    "https://adventofcode.com/2019/day/22"
   ]
  },
  {
   "cell_type": "code",
   "execution_count": null,
   "id": "3f7e6a26",
   "metadata": {},
   "outputs": [],
   "source": []
  }
 ],
 "metadata": {},
 "nbformat": 4,
 "nbformat_minor": 5
}
