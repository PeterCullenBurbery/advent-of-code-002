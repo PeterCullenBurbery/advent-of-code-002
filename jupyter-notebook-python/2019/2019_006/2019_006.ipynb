{
 "cells": [
  {
   "cell_type": "markdown",
   "id": "5f386caf",
   "metadata": {},
   "source": [
    "# Advent of Code"
   ]
  },
  {
   "cell_type": "markdown",
   "id": "02c35aec",
   "metadata": {},
   "source": [
    "## 2019-012-006\n",
    "## 2019 006"
   ]
  },
  {
   "cell_type": "markdown",
   "id": "31b3e9ed",
   "metadata": {},
   "source": [
    "https://adventofcode.com/2019/day/6"
   ]
  },
  {
   "cell_type": "code",
   "execution_count": null,
   "id": "888a8722",
   "metadata": {},
   "outputs": [],
   "source": []
  }
 ],
 "metadata": {},
 "nbformat": 4,
 "nbformat_minor": 5
}
