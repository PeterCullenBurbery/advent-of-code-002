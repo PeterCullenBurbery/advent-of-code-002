{
 "cells": [
  {
   "cell_type": "markdown",
   "id": "5f386caf",
   "metadata": {},
   "source": [
    "# Advent of Code"
   ]
  },
  {
   "cell_type": "markdown",
   "id": "02c35aec",
   "metadata": {},
   "source": [
    "## 2019-012-006\n",
    "## 2019 006"
   ]
  },
  {
   "cell_type": "markdown",
   "id": "31b3e9ed",
   "metadata": {},
   "source": [
    "https://adventofcode.com/2019/day/6"
   ]
  },
  {
   "cell_type": "code",
   "execution_count": 1,
   "id": "888a8722",
   "metadata": {},
   "outputs": [
    {
     "name": "stdout",
     "output_type": "stream",
     "text": [
      "Total orbits: 314247\n"
     ]
    }
   ],
   "source": [
    "def parse_orbit_map(file_path):\n",
    "    \"\"\"Parse the orbit map and construct a parent-child graph.\"\"\"\n",
    "    orbit_map = {}\n",
    "    with open(file_path, 'r') as file:\n",
    "        for line in file:\n",
    "            parent, child = line.strip().split(\")\")\n",
    "            orbit_map[child] = parent\n",
    "    return orbit_map\n",
    "\n",
    "def count_orbits(orbit_map):\n",
    "    \"\"\"Count the total number of direct and indirect orbits.\"\"\"\n",
    "    def count_orbits_recursive(obj):\n",
    "        # If obj orbits COM directly, it has one direct orbit\n",
    "        if obj == \"COM\":\n",
    "            return 0\n",
    "        if obj in orbit_cache:\n",
    "            return orbit_cache[obj]\n",
    "        # Otherwise, count orbits for its parent + 1 for itself\n",
    "        orbit_cache[obj] = 1 + count_orbits_recursive(orbit_map[obj])\n",
    "        return orbit_cache[obj]\n",
    "    \n",
    "    orbit_cache = {}\n",
    "    total_orbits = 0\n",
    "    for obj in orbit_map:\n",
    "        total_orbits += count_orbits_recursive(obj)\n",
    "    return total_orbits\n",
    "\n",
    "if __name__ == \"__main__\":\n",
    "    file_path = \"input.txt\"\n",
    "    orbit_map = parse_orbit_map(file_path)\n",
    "    total_orbits = count_orbits(orbit_map)\n",
    "    print(f\"Total orbits: {total_orbits}\")"
   ]
  },
  {
   "cell_type": "code",
   "execution_count": 2,
   "id": "722882cc-d213-4269-bb8f-12eed8d6d676",
   "metadata": {},
   "outputs": [
    {
     "name": "stdout",
     "output_type": "stream",
     "text": [
      "Minimum orbital transfers: 514\n"
     ]
    }
   ],
   "source": [
    "from collections import defaultdict, deque\n",
    "\n",
    "def parse_orbit_map(file_path):\n",
    "    \"\"\"Parse the orbit map and construct a bidirectional graph.\"\"\"\n",
    "    orbit_graph = defaultdict(list)\n",
    "    with open(file_path, 'r') as file:\n",
    "        for line in file:\n",
    "            parent, child = line.strip().split(\")\")\n",
    "            orbit_graph[parent].append(child)\n",
    "            orbit_graph[child].append(parent)  # Bidirectional\n",
    "    return orbit_graph\n",
    "\n",
    "def find_min_transfers(orbit_graph, start, end):\n",
    "    \"\"\"Find the minimum number of orbital transfers from start to end.\"\"\"\n",
    "    visited = set()\n",
    "    queue = deque([(start, 0)])  # (current node, transfer count)\n",
    "    \n",
    "    while queue:\n",
    "        current, transfers = queue.popleft()\n",
    "        \n",
    "        if current == end:\n",
    "            return transfers\n",
    "        \n",
    "        visited.add(current)\n",
    "        for neighbor in orbit_graph[current]:\n",
    "            if neighbor not in visited:\n",
    "                queue.append((neighbor, transfers + 1))\n",
    "    \n",
    "    raise ValueError(f\"No path found from {start} to {end}\")\n",
    "\n",
    "if __name__ == \"__main__\":\n",
    "    file_path = \"input.txt\"\n",
    "    orbit_graph = parse_orbit_map(file_path)\n",
    "    \n",
    "    # Start at the object YOU are orbiting and end at the object SAN is orbiting\n",
    "    start = \"YOU\"\n",
    "    end = \"SAN\"\n",
    "    min_transfers = find_min_transfers(orbit_graph, orbit_graph[start][0], orbit_graph[end][0])\n",
    "    print(f\"Minimum orbital transfers: {min_transfers}\")"
   ]
  },
  {
   "cell_type": "code",
   "execution_count": null,
   "id": "351d3884-3ccf-4224-8b99-9ebe4051da2b",
   "metadata": {},
   "outputs": [],
   "source": []
  }
 ],
 "metadata": {
  "kernelspec": {
   "display_name": "Python 3 (ipykernel)",
   "language": "python",
   "name": "python3"
  },
  "language_info": {
   "codemirror_mode": {
    "name": "ipython",
    "version": 3
   },
   "file_extension": ".py",
   "mimetype": "text/x-python",
   "name": "python",
   "nbconvert_exporter": "python",
   "pygments_lexer": "ipython3",
   "version": "3.12.3"
  }
 },
 "nbformat": 4,
 "nbformat_minor": 5
}
