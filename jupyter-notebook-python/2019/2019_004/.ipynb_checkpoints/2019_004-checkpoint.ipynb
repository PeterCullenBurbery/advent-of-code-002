{
 "cells": [
  {
   "cell_type": "markdown",
   "id": "c05de98c",
   "metadata": {},
   "source": [
    "# Advent of Code"
   ]
  },
  {
   "cell_type": "markdown",
   "id": "fab76ca4",
   "metadata": {},
   "source": [
    "## 2019-012-004\n",
    "## 2019 004"
   ]
  },
  {
   "cell_type": "markdown",
   "id": "99ca0621",
   "metadata": {},
   "source": [
    "https://adventofcode.com/2019/day/4"
   ]
  },
  {
   "cell_type": "code",
   "execution_count": null,
   "id": "c3192357",
   "metadata": {},
   "outputs": [],
   "source": []
  }
 ],
 "metadata": {},
 "nbformat": 4,
 "nbformat_minor": 5
}
