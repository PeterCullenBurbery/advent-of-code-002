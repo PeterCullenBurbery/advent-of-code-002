{
 "cells": [
  {
   "cell_type": "markdown",
   "id": "c05de98c",
   "metadata": {},
   "source": [
    "# Advent of Code"
   ]
  },
  {
   "cell_type": "markdown",
   "id": "fab76ca4",
   "metadata": {},
   "source": [
    "## 2019-012-004\n",
    "## 2019 004"
   ]
  },
  {
   "cell_type": "markdown",
   "id": "99ca0621",
   "metadata": {},
   "source": [
    "https://adventofcode.com/2019/day/4"
   ]
  },
  {
   "cell_type": "code",
   "execution_count": 1,
   "id": "c3192357",
   "metadata": {},
   "outputs": [
    {
     "name": "stdout",
     "output_type": "stream",
     "text": [
      "Number of valid passwords: 1019\n"
     ]
    }
   ],
   "source": [
    "def has_adjacent_digits(password):\n",
    "    \"\"\"Check if the password contains at least one pair of adjacent digits.\"\"\"\n",
    "    password = str(password)\n",
    "    for i in range(len(password) - 1):\n",
    "        if password[i] == password[i + 1]:\n",
    "            return True\n",
    "    return False\n",
    "\n",
    "def digits_never_decrease(password):\n",
    "    \"\"\"Check if the digits in the password never decrease.\"\"\"\n",
    "    password = str(password)\n",
    "    for i in range(len(password) - 1):\n",
    "        if password[i] > password[i + 1]:\n",
    "            return False\n",
    "    return True\n",
    "\n",
    "def count_valid_passwords(start, end):\n",
    "    \"\"\"Count the valid passwords within the given range.\"\"\"\n",
    "    valid_passwords = 0\n",
    "    for password in range(start, end + 1):\n",
    "        if has_adjacent_digits(password) and digits_never_decrease(password):\n",
    "            valid_passwords += 1\n",
    "    return valid_passwords\n",
    "\n",
    "if __name__ == \"__main__\":\n",
    "    # Read the range from the input file\n",
    "    with open(\"input.txt\", \"r\") as file:\n",
    "        start, end = map(int, file.read().strip().split(\"-\"))\n",
    "    \n",
    "    result = count_valid_passwords(start, end)\n",
    "    print(f\"Number of valid passwords: {result}\")"
   ]
  },
  {
   "cell_type": "code",
   "execution_count": 2,
   "id": "1e360980-b9a6-4d9b-9134-f5a82e213f69",
   "metadata": {},
   "outputs": [
    {
     "name": "stdout",
     "output_type": "stream",
     "text": [
      "Number of valid passwords: 660\n"
     ]
    }
   ],
   "source": [
    "from collections import Counter\n",
    "\n",
    "def has_exactly_two_adjacent_digits(password):\n",
    "    \"\"\"Check if the password contains a group of exactly two matching digits.\"\"\"\n",
    "    password = str(password)\n",
    "    counts = Counter(password)  # Count occurrences of each digit\n",
    "    return 2 in counts.values()\n",
    "\n",
    "def digits_never_decrease(password):\n",
    "    \"\"\"Check if the digits in the password never decrease.\"\"\"\n",
    "    password = str(password)\n",
    "    for i in range(len(password) - 1):\n",
    "        if password[i] > password[i + 1]:\n",
    "            return False\n",
    "    return True\n",
    "\n",
    "def count_valid_passwords(start, end):\n",
    "    \"\"\"Count the valid passwords within the given range.\"\"\"\n",
    "    valid_passwords = 0\n",
    "    for password in range(start, end + 1):\n",
    "        if has_exactly_two_adjacent_digits(password) and digits_never_decrease(password):\n",
    "            valid_passwords += 1\n",
    "    return valid_passwords\n",
    "\n",
    "if __name__ == \"__main__\":\n",
    "    # Read the range from the input file\n",
    "    with open(\"input.txt\", \"r\") as file:\n",
    "        start, end = map(int, file.read().strip().split(\"-\"))\n",
    "    \n",
    "    result = count_valid_passwords(start, end)\n",
    "    print(f\"Number of valid passwords: {result}\")"
   ]
  },
  {
   "cell_type": "code",
   "execution_count": null,
   "id": "5636d187-971a-42fa-b7d8-ab547e745b4a",
   "metadata": {},
   "outputs": [],
   "source": []
  }
 ],
 "metadata": {
  "kernelspec": {
   "display_name": "Python 3 (ipykernel)",
   "language": "python",
   "name": "python3"
  },
  "language_info": {
   "codemirror_mode": {
    "name": "ipython",
    "version": 3
   },
   "file_extension": ".py",
   "mimetype": "text/x-python",
   "name": "python",
   "nbconvert_exporter": "python",
   "pygments_lexer": "ipython3",
   "version": "3.12.3"
  }
 },
 "nbformat": 4,
 "nbformat_minor": 5
}
