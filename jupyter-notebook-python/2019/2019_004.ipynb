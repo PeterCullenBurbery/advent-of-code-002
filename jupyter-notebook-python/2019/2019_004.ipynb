{
 "cells": [
  {
   "cell_type": "markdown",
   "id": "298df43a",
   "metadata": {},
   "source": [
    "# Advent of Code"
   ]
  },
  {
   "cell_type": "markdown",
   "id": "26502827",
   "metadata": {},
   "source": [
    "## 2019-012-004\n",
    "## 2019 004"
   ]
  },
  {
   "cell_type": "markdown",
   "id": "dbed6594",
   "metadata": {},
   "source": [
    "https://adventofcode.com/2019/day/4"
   ]
  },
  {
   "cell_type": "code",
   "execution_count": null,
   "id": "9f13e867",
   "metadata": {},
   "outputs": [],
   "source": []
  }
 ],
 "metadata": {
  "kernelspec": {
   "display_name": "Python 3 (ipykernel)",
   "language": "python",
   "name": "python3"
  },
  "language_info": {
   "name": "python",
   "version": "3.12.3"
  }
 },
 "nbformat": 4,
 "nbformat_minor": 5
}
