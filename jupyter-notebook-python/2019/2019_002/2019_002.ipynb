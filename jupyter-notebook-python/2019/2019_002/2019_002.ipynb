{
 "cells": [
  {
   "cell_type": "markdown",
   "id": "d9703ac6",
   "metadata": {},
   "source": [
    "# Advent of Code"
   ]
  },
  {
   "cell_type": "markdown",
   "id": "f75f3740",
   "metadata": {},
   "source": [
    "## 2019-012-002\n",
    "## 2019 002"
   ]
  },
  {
   "cell_type": "markdown",
   "id": "b1c73a36",
   "metadata": {},
   "source": [
    "https://adventofcode.com/2019/day/2"
   ]
  },
  {
   "cell_type": "code",
   "execution_count": null,
   "id": "7014e626",
   "metadata": {},
   "outputs": [],
   "source": []
  }
 ],
 "metadata": {},
 "nbformat": 4,
 "nbformat_minor": 5
}
