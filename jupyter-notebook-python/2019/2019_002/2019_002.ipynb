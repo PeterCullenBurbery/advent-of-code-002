{
 "cells": [
  {
   "cell_type": "markdown",
   "id": "d9703ac6",
   "metadata": {},
   "source": [
    "# Advent of Code"
   ]
  },
  {
   "cell_type": "markdown",
   "id": "f75f3740",
   "metadata": {},
   "source": [
    "## 2019-012-002\n",
    "## 2019 002"
   ]
  },
  {
   "cell_type": "markdown",
   "id": "b1c73a36",
   "metadata": {},
   "source": [
    "https://adventofcode.com/2019/day/2"
   ]
  },
  {
   "cell_type": "code",
   "execution_count": 1,
   "id": "7014e626",
   "metadata": {},
   "outputs": [
    {
     "name": "stdout",
     "output_type": "stream",
     "text": [
      "Value at position 0: 3716293\n"
     ]
    }
   ],
   "source": [
    "def process_intcode(program):\n",
    "    \"\"\"Process the Intcode program and return the modified program.\"\"\"\n",
    "    position = 0\n",
    "    while True:\n",
    "        opcode = program[position]\n",
    "        if opcode == 99:\n",
    "            break  # Halt\n",
    "        elif opcode == 1:\n",
    "            # Opcode 1: Addition\n",
    "            input1 = program[program[position + 1]]\n",
    "            input2 = program[program[position + 2]]\n",
    "            output_position = program[position + 3]\n",
    "            program[output_position] = input1 + input2\n",
    "        elif opcode == 2:\n",
    "            # Opcode 2: Multiplication\n",
    "            input1 = program[program[position + 1]]\n",
    "            input2 = program[program[position + 2]]\n",
    "            output_position = program[position + 3]\n",
    "            program[output_position] = input1 * input2\n",
    "        else:\n",
    "            raise ValueError(f\"Unknown opcode {opcode} at position {position}\")\n",
    "        position += 4  # Move to the next instruction\n",
    "    return program\n",
    "\n",
    "def solve_intcode(file_path):\n",
    "    \"\"\"Solve the Intcode problem and return the value at position 0.\"\"\"\n",
    "    # Read and parse the input\n",
    "    with open(file_path, 'r') as file:\n",
    "        program = list(map(int, file.read().strip().split(',')))\n",
    "    \n",
    "    # Modify the program for \"1202 program alarm\" state\n",
    "    program[1] = 12\n",
    "    program[2] = 2\n",
    "\n",
    "    # Process the Intcode program\n",
    "    modified_program = process_intcode(program)\n",
    "\n",
    "    # Return the value at position 0\n",
    "    return modified_program[0]\n",
    "\n",
    "if __name__ == \"__main__\":\n",
    "    file_path = \"input.txt\"\n",
    "    result = solve_intcode(file_path)\n",
    "    print(f\"Value at position 0: {result}\")"
   ]
  },
  {
   "cell_type": "code",
   "execution_count": 2,
   "id": "44154c59-7e9d-4cb8-afd4-b38f20c0b8f9",
   "metadata": {},
   "outputs": [
    {
     "name": "stdout",
     "output_type": "stream",
     "text": [
      "Result (100 * noun + verb): 6429\n"
     ]
    }
   ],
   "source": [
    "def process_intcode(program):\n",
    "    \"\"\"Process the Intcode program and return the modified program.\"\"\"\n",
    "    position = 0\n",
    "    while True:\n",
    "        opcode = program[position]\n",
    "        if opcode == 99:\n",
    "            break  # Halt\n",
    "        elif opcode == 1:\n",
    "            # Opcode 1: Addition\n",
    "            input1 = program[program[position + 1]]\n",
    "            input2 = program[program[position + 2]]\n",
    "            output_position = program[position + 3]\n",
    "            program[output_position] = input1 + input2\n",
    "        elif opcode == 2:\n",
    "            # Opcode 2: Multiplication\n",
    "            input1 = program[program[position + 1]]\n",
    "            input2 = program[program[position + 2]]\n",
    "            output_position = program[position + 3]\n",
    "            program[output_position] = input1 * input2\n",
    "        else:\n",
    "            raise ValueError(f\"Unknown opcode {opcode} at position {position}\")\n",
    "        position += 4  # Move to the next instruction\n",
    "    return program\n",
    "\n",
    "def find_noun_verb(file_path, target_output):\n",
    "    \"\"\"Find the noun and verb that produce the target output.\"\"\"\n",
    "    # Read and parse the input\n",
    "    with open(file_path, 'r') as file:\n",
    "        original_program = list(map(int, file.read().strip().split(',')))\n",
    "    \n",
    "    # Test all combinations of noun and verb\n",
    "    for noun in range(100):\n",
    "        for verb in range(100):\n",
    "            # Create a fresh copy of the program\n",
    "            program = original_program[:]\n",
    "            # Set noun and verb\n",
    "            program[1] = noun\n",
    "            program[2] = verb\n",
    "            # Run the Intcode program\n",
    "            modified_program = process_intcode(program)\n",
    "            # Check if the output matches the target\n",
    "            if modified_program[0] == target_output:\n",
    "                return 100 * noun + verb\n",
    "\n",
    "    raise ValueError(\"No valid noun and verb combination found.\")\n",
    "\n",
    "if __name__ == \"__main__\":\n",
    "    file_path = \"input.txt\"\n",
    "    target_output = 19690720\n",
    "    result = find_noun_verb(file_path, target_output)\n",
    "    print(f\"Result (100 * noun + verb): {result}\")"
   ]
  },
  {
   "cell_type": "code",
   "execution_count": null,
   "id": "e292e348-aab5-4362-b354-295dbf85e6bf",
   "metadata": {},
   "outputs": [],
   "source": []
  }
 ],
 "metadata": {
  "kernelspec": {
   "display_name": "Python 3 (ipykernel)",
   "language": "python",
   "name": "python3"
  },
  "language_info": {
   "codemirror_mode": {
    "name": "ipython",
    "version": 3
   },
   "file_extension": ".py",
   "mimetype": "text/x-python",
   "name": "python",
   "nbconvert_exporter": "python",
   "pygments_lexer": "ipython3",
   "version": "3.12.3"
  }
 },
 "nbformat": 4,
 "nbformat_minor": 5
}
