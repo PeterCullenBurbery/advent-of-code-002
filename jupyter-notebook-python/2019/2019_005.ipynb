{
 "cells": [
  {
   "cell_type": "markdown",
   "id": "033bf548",
   "metadata": {},
   "source": [
    "# Advent of Code"
   ]
  },
  {
   "cell_type": "markdown",
   "id": "ba73526a",
   "metadata": {},
   "source": [
    "## 2019-012-005\n",
    "## 2019 005"
   ]
  },
  {
   "cell_type": "markdown",
   "id": "662ffe2e",
   "metadata": {},
   "source": [
    "https://adventofcode.com/2019/day/5"
   ]
  },
  {
   "cell_type": "code",
   "execution_count": null,
   "id": "0eb89e46",
   "metadata": {},
   "outputs": [],
   "source": []
  }
 ],
 "metadata": {
  "kernelspec": {
   "display_name": "Python 3 (ipykernel)",
   "language": "python",
   "name": "python3"
  },
  "language_info": {
   "name": "python",
   "version": "3.12.3"
  }
 },
 "nbformat": 4,
 "nbformat_minor": 5
}
