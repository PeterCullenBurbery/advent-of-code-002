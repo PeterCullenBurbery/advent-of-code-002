{
 "cells": [
  {
   "cell_type": "markdown",
   "id": "b1fe475e",
   "metadata": {},
   "source": [
    "# Advent of Code"
   ]
  },
  {
   "cell_type": "markdown",
   "id": "9dd430c1",
   "metadata": {},
   "source": [
    "## 2019-012-021\n",
    "## 2019 021"
   ]
  },
  {
   "cell_type": "markdown",
   "id": "95e28d97",
   "metadata": {},
   "source": [
    "https://adventofcode.com/2019/day/21"
   ]
  },
  {
   "cell_type": "code",
   "execution_count": null,
   "id": "90a68f1d",
   "metadata": {},
   "outputs": [],
   "source": []
  }
 ],
 "metadata": {},
 "nbformat": 4,
 "nbformat_minor": 5
}
