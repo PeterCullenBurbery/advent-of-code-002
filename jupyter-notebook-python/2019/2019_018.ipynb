{
 "cells": [
  {
   "cell_type": "markdown",
   "id": "f35fd73b",
   "metadata": {},
   "source": [
    "# Advent of Code"
   ]
  },
  {
   "cell_type": "markdown",
   "id": "69444b9b",
   "metadata": {},
   "source": [
    "## 2019-012-018\n",
    "## 2019 018"
   ]
  },
  {
   "cell_type": "markdown",
   "id": "8a0c3acf",
   "metadata": {},
   "source": [
    "https://adventofcode.com/2019/day/18"
   ]
  },
  {
   "cell_type": "code",
   "execution_count": null,
   "id": "8bcd8cca",
   "metadata": {},
   "outputs": [],
   "source": []
  }
 ],
 "metadata": {
  "kernelspec": {
   "display_name": "Python 3 (ipykernel)",
   "language": "python",
   "name": "python3"
  },
  "language_info": {
   "name": "python",
   "version": "3.12.3"
  }
 },
 "nbformat": 4,
 "nbformat_minor": 5
}
