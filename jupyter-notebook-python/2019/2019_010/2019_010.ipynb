{
 "cells": [
  {
   "cell_type": "markdown",
   "id": "c57fce81",
   "metadata": {},
   "source": [
    "# Advent of Code"
   ]
  },
  {
   "cell_type": "markdown",
   "id": "4bdc0dbf",
   "metadata": {},
   "source": [
    "## 2019-012-010\n",
    "## 2019 010"
   ]
  },
  {
   "cell_type": "markdown",
   "id": "763d443a",
   "metadata": {},
   "source": [
    "https://adventofcode.com/2019/day/10"
   ]
  },
  {
   "cell_type": "code",
   "execution_count": null,
   "id": "0d93f418",
   "metadata": {},
   "outputs": [],
   "source": []
  }
 ],
 "metadata": {},
 "nbformat": 4,
 "nbformat_minor": 5
}
