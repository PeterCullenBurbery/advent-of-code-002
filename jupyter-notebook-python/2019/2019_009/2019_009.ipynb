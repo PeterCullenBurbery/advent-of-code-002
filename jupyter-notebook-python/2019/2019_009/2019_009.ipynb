{
 "cells": [
  {
   "cell_type": "markdown",
   "id": "906d2ead",
   "metadata": {},
   "source": [
    "# Advent of Code"
   ]
  },
  {
   "cell_type": "markdown",
   "id": "7287b3fd",
   "metadata": {},
   "source": [
    "## 2019-012-009\n",
    "## 2019 009"
   ]
  },
  {
   "cell_type": "markdown",
   "id": "9a381039",
   "metadata": {},
   "source": [
    "https://adventofcode.com/2019/day/9"
   ]
  },
  {
   "cell_type": "code",
   "execution_count": null,
   "id": "18f8fb44",
   "metadata": {},
   "outputs": [],
   "source": []
  }
 ],
 "metadata": {},
 "nbformat": 4,
 "nbformat_minor": 5
}
