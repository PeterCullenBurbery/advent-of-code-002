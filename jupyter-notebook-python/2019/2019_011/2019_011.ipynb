{
 "cells": [
  {
   "cell_type": "markdown",
   "id": "24a6e401",
   "metadata": {},
   "source": [
    "# Advent of Code"
   ]
  },
  {
   "cell_type": "markdown",
   "id": "2b6a8358",
   "metadata": {},
   "source": [
    "## 2019-012-011\n",
    "## 2019 011"
   ]
  },
  {
   "cell_type": "markdown",
   "id": "8af7d18d",
   "metadata": {},
   "source": [
    "https://adventofcode.com/2019/day/11"
   ]
  },
  {
   "cell_type": "code",
   "execution_count": null,
   "id": "236a7b2f",
   "metadata": {},
   "outputs": [],
   "source": []
  }
 ],
 "metadata": {},
 "nbformat": 4,
 "nbformat_minor": 5
}
