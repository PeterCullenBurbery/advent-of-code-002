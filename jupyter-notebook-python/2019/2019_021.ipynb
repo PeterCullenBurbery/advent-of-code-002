{
 "cells": [
  {
   "cell_type": "markdown",
   "id": "6a06c49f",
   "metadata": {},
   "source": [
    "# Advent of Code"
   ]
  },
  {
   "cell_type": "markdown",
   "id": "216adac3",
   "metadata": {},
   "source": [
    "## 2019-012-021\n",
    "## 2019 021"
   ]
  },
  {
   "cell_type": "markdown",
   "id": "e73d3b6e",
   "metadata": {},
   "source": [
    "https://adventofcode.com/2019/day/21"
   ]
  },
  {
   "cell_type": "code",
   "execution_count": null,
   "id": "2bd38c3a",
   "metadata": {},
   "outputs": [],
   "source": []
  }
 ],
 "metadata": {
  "kernelspec": {
   "display_name": "Python 3 (ipykernel)",
   "language": "python",
   "name": "python3"
  },
  "language_info": {
   "name": "python",
   "version": "3.12.3"
  }
 },
 "nbformat": 4,
 "nbformat_minor": 5
}
