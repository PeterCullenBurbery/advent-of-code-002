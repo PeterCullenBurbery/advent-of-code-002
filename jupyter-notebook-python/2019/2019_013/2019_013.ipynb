{
 "cells": [
  {
   "cell_type": "markdown",
   "id": "1b2dad78",
   "metadata": {},
   "source": [
    "# Advent of Code"
   ]
  },
  {
   "cell_type": "markdown",
   "id": "bdd62f87",
   "metadata": {},
   "source": [
    "## 2019-012-013\n",
    "## 2019 013"
   ]
  },
  {
   "cell_type": "markdown",
   "id": "092def21",
   "metadata": {},
   "source": [
    "https://adventofcode.com/2019/day/13"
   ]
  },
  {
   "cell_type": "code",
   "execution_count": null,
   "id": "db719361",
   "metadata": {},
   "outputs": [],
   "source": []
  }
 ],
 "metadata": {},
 "nbformat": 4,
 "nbformat_minor": 5
}
