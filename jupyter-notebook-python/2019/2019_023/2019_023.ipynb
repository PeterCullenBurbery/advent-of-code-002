{
 "cells": [
  {
   "cell_type": "markdown",
   "id": "bde7ed9d",
   "metadata": {},
   "source": [
    "# Advent of Code"
   ]
  },
  {
   "cell_type": "markdown",
   "id": "fca6052d",
   "metadata": {},
   "source": [
    "## 2019-012-023\n",
    "## 2019 023"
   ]
  },
  {
   "cell_type": "markdown",
   "id": "835091d1",
   "metadata": {},
   "source": [
    "https://adventofcode.com/2019/day/23"
   ]
  },
  {
   "cell_type": "code",
   "execution_count": null,
   "id": "4bb2a03a",
   "metadata": {},
   "outputs": [],
   "source": []
  }
 ],
 "metadata": {},
 "nbformat": 4,
 "nbformat_minor": 5
}
