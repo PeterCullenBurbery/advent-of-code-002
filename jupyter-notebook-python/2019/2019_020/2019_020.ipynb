{
 "cells": [
  {
   "cell_type": "markdown",
   "id": "57e1b5be",
   "metadata": {},
   "source": [
    "# Advent of Code"
   ]
  },
  {
   "cell_type": "markdown",
   "id": "6bf45e38",
   "metadata": {},
   "source": [
    "## 2019-012-020\n",
    "## 2019 020"
   ]
  },
  {
   "cell_type": "markdown",
   "id": "6b9d9a51",
   "metadata": {},
   "source": [
    "https://adventofcode.com/2019/day/20"
   ]
  },
  {
   "cell_type": "code",
   "execution_count": null,
   "id": "6eea7ccb",
   "metadata": {},
   "outputs": [],
   "source": []
  }
 ],
 "metadata": {},
 "nbformat": 4,
 "nbformat_minor": 5
}
