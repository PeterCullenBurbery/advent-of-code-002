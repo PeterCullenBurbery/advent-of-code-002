{
 "cells": [
  {
   "cell_type": "markdown",
   "id": "57e1b5be",
   "metadata": {},
   "source": [
    "# Advent of Code"
   ]
  },
  {
   "cell_type": "markdown",
   "id": "6bf45e38",
   "metadata": {},
   "source": [
    "## 2019-012-020\n",
    "## 2019 020"
   ]
  },
  {
   "cell_type": "markdown",
   "id": "6b9d9a51",
   "metadata": {},
   "source": [
    "https://adventofcode.com/2019/day/20"
   ]
  },
  {
   "cell_type": "code",
   "execution_count": 1,
   "id": "6eea7ccb",
   "metadata": {},
   "outputs": [
    {
     "data": {
      "text/plain": [
       "686"
      ]
     },
     "execution_count": 1,
     "metadata": {},
     "output_type": "execute_result"
    }
   ],
   "source": [
    "from collections import defaultdict, deque\n",
    "\n",
    "# Function to parse the maze input and identify portals and their locations\n",
    "def parse_maze(input_file):\n",
    "    with open(input_file, 'r') as f:\n",
    "        maze_lines = [line.rstrip('\\n') for line in f.readlines()]\n",
    "    \n",
    "    height, width = len(maze_lines), len(maze_lines[0])\n",
    "    maze = {}\n",
    "    portals = defaultdict(list)\n",
    "\n",
    "    # Parse the maze into a dictionary with coordinates as keys\n",
    "    for y, line in enumerate(maze_lines):\n",
    "        for x, char in enumerate(line):\n",
    "            if char != ' ':\n",
    "                maze[(x, y)] = char\n",
    "\n",
    "    # Identify portals by scanning for uppercase letters and their adjacent open tiles\n",
    "    for (x, y), char in maze.items():\n",
    "        if char.isupper():\n",
    "            for dx, dy in [(0, 1), (1, 0), (0, -1), (-1, 0)]:\n",
    "                neighbor = (x + dx, y + dy)\n",
    "                if neighbor in maze and maze[neighbor].isupper():\n",
    "                    # Combine portal labels\n",
    "                    portal_label = ''.join(sorted([char, maze[neighbor]]))\n",
    "                    # Check for open tile near the portal\n",
    "                    for dx2, dy2 in [(0, 1), (1, 0), (0, -1), (-1, 0)]:\n",
    "                        open_tile = (x + dx2, y + dy2)\n",
    "                        if open_tile in maze and maze[open_tile] == '.':\n",
    "                            portals[portal_label].append(open_tile)\n",
    "                            break\n",
    "\n",
    "    return maze, portals\n",
    "\n",
    "# Function to create a graph representation of the maze\n",
    "def build_graph(maze, portals):\n",
    "    graph = defaultdict(list)\n",
    "    # Connect all adjacent open tiles\n",
    "    for (x, y), char in maze.items():\n",
    "        if char == '.':\n",
    "            for dx, dy in [(0, 1), (1, 0), (0, -1), (-1, 0)]:\n",
    "                neighbor = (x + dx, y + dy)\n",
    "                if neighbor in maze and maze[neighbor] == '.':\n",
    "                    graph[(x, y)].append(neighbor)\n",
    "    \n",
    "    # Connect portals\n",
    "    for portal, locations in portals.items():\n",
    "        if len(locations) == 2:\n",
    "            graph[locations[0]].append(locations[1])\n",
    "            graph[locations[1]].append(locations[0])\n",
    "\n",
    "    return graph\n",
    "\n",
    "# Function to perform BFS and find the shortest path from AA to ZZ\n",
    "def shortest_path_bfs(graph, start, end):\n",
    "    queue = deque([(start, 0)])\n",
    "    visited = set()\n",
    "\n",
    "    while queue:\n",
    "        current, steps = queue.popleft()\n",
    "        if current in visited:\n",
    "            continue\n",
    "        visited.add(current)\n",
    "        if current == end:\n",
    "            return steps\n",
    "        for neighbor in graph[current]:\n",
    "            queue.append((neighbor, steps + 1))\n",
    "\n",
    "    return -1  # If no path is found\n",
    "\n",
    "# Load and process the maze\n",
    "input_file = 'input.txt'\n",
    "maze, portals = parse_maze(input_file)\n",
    "\n",
    "# Find start and end points\n",
    "start = portals['AA'][0]\n",
    "end = portals['ZZ'][0]\n",
    "\n",
    "# Build the graph\n",
    "graph = build_graph(maze, portals)\n",
    "\n",
    "# Find the shortest path\n",
    "steps = shortest_path_bfs(graph, start, end)\n",
    "\n",
    "steps"
   ]
  },
  {
   "cell_type": "code",
   "execution_count": null,
   "id": "4cf3576d-34b1-49d5-91c6-7f06f605a876",
   "metadata": {},
   "outputs": [],
   "source": []
  }
 ],
 "metadata": {
  "kernelspec": {
   "display_name": "Python 3 (ipykernel)",
   "language": "python",
   "name": "python3"
  },
  "language_info": {
   "codemirror_mode": {
    "name": "ipython",
    "version": 3
   },
   "file_extension": ".py",
   "mimetype": "text/x-python",
   "name": "python",
   "nbconvert_exporter": "python",
   "pygments_lexer": "ipython3",
   "version": "3.12.3"
  }
 },
 "nbformat": 4,
 "nbformat_minor": 5
}
