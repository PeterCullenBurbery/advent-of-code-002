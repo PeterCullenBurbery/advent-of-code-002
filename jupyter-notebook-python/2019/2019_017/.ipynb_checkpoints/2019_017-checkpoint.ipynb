{
 "cells": [
  {
   "cell_type": "markdown",
   "id": "9d5c9b82",
   "metadata": {},
   "source": [
    "# Advent of Code"
   ]
  },
  {
   "cell_type": "markdown",
   "id": "acb5736b",
   "metadata": {},
   "source": [
    "## 2019-012-017\n",
    "## 2019 017"
   ]
  },
  {
   "cell_type": "markdown",
   "id": "85c545f0",
   "metadata": {},
   "source": [
    "https://adventofcode.com/2019/day/17"
   ]
  },
  {
   "cell_type": "code",
   "execution_count": 1,
   "id": "3dfea80d",
   "metadata": {},
   "outputs": [
    {
     "name": "stdout",
     "output_type": "stream",
     "text": [
      "Sum of alignment parameters: 3448\n"
     ]
    }
   ],
   "source": [
    "from collections import defaultdict\n",
    "\n",
    "def parse_input(file_path):\n",
    "    with open(file_path, 'r') as file:\n",
    "        return list(map(int, file.read().strip().split(',')))\n",
    "\n",
    "def intcode_program(memory, inputs=None):\n",
    "    memory = defaultdict(int, enumerate(memory))\n",
    "    pointer = 0\n",
    "    relative_base = 0\n",
    "    outputs = []\n",
    "    inputs = inputs or []\n",
    "\n",
    "    def get_param(mode, offset):\n",
    "        if mode == 0:  # Position mode\n",
    "            return memory[memory[pointer + offset]]\n",
    "        elif mode == 1:  # Immediate mode\n",
    "            return memory[pointer + offset]\n",
    "        elif mode == 2:  # Relative mode\n",
    "            return memory[relative_base + memory[pointer + offset]]\n",
    "\n",
    "    def write_param(mode, offset, value):\n",
    "        if mode == 0:\n",
    "            memory[memory[pointer + offset]] = value\n",
    "        elif mode == 2:\n",
    "            memory[relative_base + memory[pointer + offset]] = value\n",
    "\n",
    "    while memory[pointer] != 99:\n",
    "        instruction = memory[pointer]\n",
    "        opcode = instruction % 100\n",
    "        modes = [(instruction // (10 ** i)) % 10 for i in range(2, 5)]\n",
    "\n",
    "        if opcode in (1, 2, 7, 8):  # Binary operations\n",
    "            a = get_param(modes[0], 1)\n",
    "            b = get_param(modes[1], 2)\n",
    "            result = (a + b if opcode == 1 else\n",
    "                      a * b if opcode == 2 else\n",
    "                      int(a < b) if opcode == 7 else\n",
    "                      int(a == b))\n",
    "            write_param(modes[2], 3, result)\n",
    "            pointer += 4\n",
    "        elif opcode == 3:  # Input\n",
    "            if not inputs:\n",
    "                raise ValueError(\"Input expected but none provided.\")\n",
    "            write_param(modes[0], 1, inputs.pop(0))\n",
    "            pointer += 2\n",
    "        elif opcode == 4:  # Output\n",
    "            outputs.append(get_param(modes[0], 1))\n",
    "            pointer += 2\n",
    "        elif opcode in (5, 6):  # Jump operations\n",
    "            cond = get_param(modes[0], 1)\n",
    "            target = get_param(modes[1], 2)\n",
    "            if (cond != 0 and opcode == 5) or (cond == 0 and opcode == 6):\n",
    "                pointer = target\n",
    "            else:\n",
    "                pointer += 3\n",
    "        elif opcode == 9:  # Adjust relative base\n",
    "            relative_base += get_param(modes[0], 1)\n",
    "            pointer += 2\n",
    "        else:\n",
    "            raise ValueError(f\"Unknown opcode: {opcode}\")\n",
    "    return outputs\n",
    "\n",
    "def parse_scaffold_view(outputs):\n",
    "    scaffold = []\n",
    "    row = []\n",
    "    for value in outputs:\n",
    "        if value == 10:  # Newline\n",
    "            if row:\n",
    "                scaffold.append(row)\n",
    "                row = []\n",
    "        else:\n",
    "            row.append(chr(value))\n",
    "    return scaffold\n",
    "\n",
    "def find_intersections(scaffold):\n",
    "    intersections = []\n",
    "    for y in range(1, len(scaffold) - 1):\n",
    "        for x in range(1, len(scaffold[y]) - 1):\n",
    "            if (scaffold[y][x] == '#' and\n",
    "                scaffold[y - 1][x] == '#' and\n",
    "                scaffold[y + 1][x] == '#' and\n",
    "                scaffold[y][x - 1] == '#' and\n",
    "                scaffold[y][x + 1] == '#'):\n",
    "                intersections.append((x, y))\n",
    "    return intersections\n",
    "\n",
    "def calculate_alignment_parameters(intersections):\n",
    "    return sum(x * y for x, y in intersections)\n",
    "\n",
    "def main():\n",
    "    memory = parse_input('input.txt')\n",
    "    outputs = intcode_program(memory)\n",
    "    scaffold = parse_scaffold_view(outputs)\n",
    "    intersections = find_intersections(scaffold)\n",
    "    alignment_sum = calculate_alignment_parameters(intersections)\n",
    "    print(f\"Sum of alignment parameters: {alignment_sum}\")\n",
    "\n",
    "if __name__ == \"__main__\":\n",
    "    main()"
   ]
  },
  {
   "cell_type": "code",
   "execution_count": null,
   "id": "5a09c501-250b-40ad-954a-713af250e59e",
   "metadata": {},
   "outputs": [],
   "source": []
  }
 ],
 "metadata": {
  "kernelspec": {
   "display_name": "Python 3 (ipykernel)",
   "language": "python",
   "name": "python3"
  },
  "language_info": {
   "codemirror_mode": {
    "name": "ipython",
    "version": 3
   },
   "file_extension": ".py",
   "mimetype": "text/x-python",
   "name": "python",
   "nbconvert_exporter": "python",
   "pygments_lexer": "ipython3",
   "version": "3.12.3"
  }
 },
 "nbformat": 4,
 "nbformat_minor": 5
}
