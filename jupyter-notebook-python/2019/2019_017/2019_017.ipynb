{
 "cells": [
  {
   "cell_type": "markdown",
   "id": "9d5c9b82",
   "metadata": {},
   "source": [
    "# Advent of Code"
   ]
  },
  {
   "cell_type": "markdown",
   "id": "acb5736b",
   "metadata": {},
   "source": [
    "## 2019-012-017\n",
    "## 2019 017"
   ]
  },
  {
   "cell_type": "markdown",
   "id": "85c545f0",
   "metadata": {},
   "source": [
    "https://adventofcode.com/2019/day/17"
   ]
  },
  {
   "cell_type": "code",
   "execution_count": null,
   "id": "3dfea80d",
   "metadata": {},
   "outputs": [],
   "source": []
  }
 ],
 "metadata": {},
 "nbformat": 4,
 "nbformat_minor": 5
}
