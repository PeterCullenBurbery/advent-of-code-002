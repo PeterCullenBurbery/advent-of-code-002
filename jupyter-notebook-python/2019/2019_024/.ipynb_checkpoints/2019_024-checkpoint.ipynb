{
 "cells": [
  {
   "cell_type": "markdown",
   "id": "b5816f69",
   "metadata": {},
   "source": [
    "# Advent of Code"
   ]
  },
  {
   "cell_type": "markdown",
   "id": "28a7bf7d",
   "metadata": {},
   "source": [
    "## 2019-012-024\n",
    "## 2019 024"
   ]
  },
  {
   "cell_type": "markdown",
   "id": "e117d67f",
   "metadata": {},
   "source": [
    "https://adventofcode.com/2019/day/24"
   ]
  },
  {
   "cell_type": "code",
   "execution_count": 1,
   "id": "8e2c2c4d",
   "metadata": {},
   "outputs": [
    {
     "data": {
      "text/plain": [
       "20751345"
      ]
     },
     "execution_count": 1,
     "metadata": {},
     "output_type": "execute_result"
    }
   ],
   "source": [
    "def parse_input(input_file):\n",
    "    \"\"\"Parse the input file into a 5x5 grid.\"\"\"\n",
    "    with open(input_file, 'r') as f:\n",
    "        return [list(line.strip()) for line in f.readlines()]\n",
    "\n",
    "def get_adjacent_count(grid, x, y):\n",
    "    \"\"\"Count the number of bugs (#) adjacent to a given cell.\"\"\"\n",
    "    directions = [(-1, 0), (1, 0), (0, -1), (0, 1)]\n",
    "    count = 0\n",
    "    for dx, dy in directions:\n",
    "        nx, ny = x + dx, y + dy\n",
    "        if 0 <= nx < 5 and 0 <= ny < 5 and grid[ny][nx] == '#':\n",
    "            count += 1\n",
    "    return count\n",
    "\n",
    "def next_state(grid):\n",
    "    \"\"\"Calculate the next state of the grid.\"\"\"\n",
    "    new_grid = [row[:] for row in grid]  # Deep copy\n",
    "    for y in range(5):\n",
    "        for x in range(5):\n",
    "            adjacent_bugs = get_adjacent_count(grid, x, y)\n",
    "            if grid[y][x] == '#' and adjacent_bugs != 1:\n",
    "                new_grid[y][x] = '.'\n",
    "            elif grid[y][x] == '.' and adjacent_bugs in (1, 2):\n",
    "                new_grid[y][x] = '#'\n",
    "    return new_grid\n",
    "\n",
    "def calculate_biodiversity(grid):\n",
    "    \"\"\"Calculate the biodiversity rating for a grid.\"\"\"\n",
    "    biodiversity = 0\n",
    "    for y in range(5):\n",
    "        for x in range(5):\n",
    "            index = y * 5 + x\n",
    "            if grid[y][x] == '#':\n",
    "                biodiversity += 2 ** index\n",
    "    return biodiversity\n",
    "\n",
    "def find_repeated_layout_and_biodiversity(grid):\n",
    "    \"\"\"Find the first repeated layout and calculate its biodiversity rating.\"\"\"\n",
    "    seen_layouts = set()\n",
    "    while True:\n",
    "        # Convert grid to a tuple for hashing\n",
    "        grid_tuple = tuple(tuple(row) for row in grid)\n",
    "        if grid_tuple in seen_layouts:\n",
    "            return calculate_biodiversity(grid)\n",
    "        seen_layouts.add(grid_tuple)\n",
    "        grid = next_state(grid)\n",
    "\n",
    "# Load the grid from input\n",
    "input_file = './input.txt'\n",
    "grid = parse_input(input_file)\n",
    "\n",
    "# Find the repeated layout and calculate biodiversity\n",
    "biodiversity_rating = find_repeated_layout_and_biodiversity(grid)\n",
    "\n",
    "biodiversity_rating"
   ]
  },
  {
   "cell_type": "code",
   "execution_count": 2,
   "id": "edc65361-e541-4caf-adb7-059fd3791af6",
   "metadata": {},
   "outputs": [
    {
     "data": {
      "text/plain": [
       "1983"
      ]
     },
     "execution_count": 2,
     "metadata": {},
     "output_type": "execute_result"
    }
   ],
   "source": [
    "from collections import defaultdict\n",
    "\n",
    "def parse_input_recursive(input_file):\n",
    "    \"\"\"Parse the input file into the initial level 0 grid.\"\"\"\n",
    "    with open(input_file, 'r') as f:\n",
    "        return [list(line.strip()) for line in f.readlines()]\n",
    "\n",
    "def get_recursive_adjacent_count(levels, x, y, depth):\n",
    "    \"\"\"Count the number of bugs (#) adjacent to a tile at (x, y) in the given depth.\"\"\"\n",
    "    directions = [(-1, 0), (1, 0), (0, -1), (0, 1)]\n",
    "    count = 0\n",
    "\n",
    "    # Check neighbors in the same level\n",
    "    for dx, dy in directions:\n",
    "        nx, ny = x + dx, y + dy\n",
    "        if 0 <= nx < 5 and 0 <= ny < 5 and (nx, ny) != (2, 2):  # Skip the middle tile\n",
    "            if levels[depth][ny][nx] == '#':\n",
    "                count += 1\n",
    "\n",
    "    # Check recursive neighbors\n",
    "    if x == 0:  # Left edge\n",
    "        if levels[depth - 1][2][1] == '#':\n",
    "            count += 1\n",
    "    if x == 4:  # Right edge\n",
    "        if levels[depth - 1][2][3] == '#':\n",
    "            count += 1\n",
    "    if y == 0:  # Top edge\n",
    "        if levels[depth - 1][1][2] == '#':\n",
    "            count += 1\n",
    "    if y == 4:  # Bottom edge\n",
    "        if levels[depth - 1][3][2] == '#':\n",
    "            count += 1\n",
    "\n",
    "    if (x, y) == (2, 1):  # Above middle tile\n",
    "        count += sum(1 for i in range(5) if levels[depth + 1][0][i] == '#')\n",
    "    if (x, y) == (2, 3):  # Below middle tile\n",
    "        count += sum(1 for i in range(5) if levels[depth + 1][4][i] == '#')\n",
    "    if (x, y) == (1, 2):  # Left of middle tile\n",
    "        count += sum(1 for i in range(5) if levels[depth + 1][i][0] == '#')\n",
    "    if (x, y) == (3, 2):  # Right of middle tile\n",
    "        count += sum(1 for i in range(5) if levels[depth + 1][i][4] == '#')\n",
    "\n",
    "    return count\n",
    "\n",
    "def simulate_recursive_levels(initial_grid, minutes):\n",
    "    \"\"\"Simulate the recursive grid evolution for the given number of minutes.\"\"\"\n",
    "    levels = defaultdict(lambda: [['.'] * 5 for _ in range(5)])\n",
    "    levels[0] = initial_grid\n",
    "\n",
    "    for _ in range(minutes):\n",
    "        # Expand levels as needed\n",
    "        min_depth, max_depth = min(levels.keys()), max(levels.keys())\n",
    "        levels[min_depth - 1]  # Ensure a new outer level\n",
    "        levels[max_depth + 1]  # Ensure a new inner level\n",
    "\n",
    "        # Create a copy for the new state\n",
    "        new_levels = defaultdict(lambda: [['.'] * 5 for _ in range(5)])\n",
    "\n",
    "        # Process each level\n",
    "        for depth in range(min_depth - 1, max_depth + 2):\n",
    "            for y in range(5):\n",
    "                for x in range(5):\n",
    "                    if (x, y) == (2, 2):  # Skip the middle tile\n",
    "                        continue\n",
    "                    adjacent_bugs = get_recursive_adjacent_count(levels, x, y, depth)\n",
    "                    if levels[depth][y][x] == '#' and adjacent_bugs != 1:\n",
    "                        new_levels[depth][y][x] = '.'\n",
    "                    elif levels[depth][y][x] == '.' and adjacent_bugs in (1, 2):\n",
    "                        new_levels[depth][y][x] = '#'\n",
    "                    else:\n",
    "                        new_levels[depth][y][x] = levels[depth][y][x]\n",
    "\n",
    "        levels = new_levels\n",
    "\n",
    "    # Count all bugs across all levels\n",
    "    return sum(row.count('#') for grid in levels.values() for row in grid)\n",
    "\n",
    "# Load the initial grid from input\n",
    "initial_grid = parse_input_recursive(input_file)\n",
    "\n",
    "# Simulate for 200 minutes and count bugs\n",
    "total_bugs = simulate_recursive_levels(initial_grid, 200)\n",
    "\n",
    "total_bugs"
   ]
  },
  {
   "cell_type": "code",
   "execution_count": null,
   "id": "10c7e369-0b4f-4ec6-aa3d-2f9847dc8ec7",
   "metadata": {},
   "outputs": [],
   "source": []
  }
 ],
 "metadata": {
  "kernelspec": {
   "display_name": "Python 3 (ipykernel)",
   "language": "python",
   "name": "python3"
  },
  "language_info": {
   "codemirror_mode": {
    "name": "ipython",
    "version": 3
   },
   "file_extension": ".py",
   "mimetype": "text/x-python",
   "name": "python",
   "nbconvert_exporter": "python",
   "pygments_lexer": "ipython3",
   "version": "3.12.3"
  }
 },
 "nbformat": 4,
 "nbformat_minor": 5
}
