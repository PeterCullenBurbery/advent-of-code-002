{
 "cells": [
  {
   "cell_type": "markdown",
   "id": "e3273a5c",
   "metadata": {},
   "source": [
    "# Advent of Code"
   ]
  },
  {
   "cell_type": "markdown",
   "id": "458c9d41",
   "metadata": {},
   "source": [
    "## 2021-012-002\n",
    "## 2021 002"
   ]
  },
  {
   "cell_type": "markdown",
   "id": "1faef7bf",
   "metadata": {},
   "source": [
    "https://adventofcode.com/2021/day/2"
   ]
  },
  {
   "cell_type": "code",
   "execution_count": null,
   "id": "b8d38209",
   "metadata": {},
   "outputs": [],
   "source": []
  }
 ],
 "metadata": {
  "kernelspec": {
   "display_name": "Python 3 (ipykernel)",
   "language": "python",
   "name": "python3"
  },
  "language_info": {
   "name": "python",
   "version": "3.12.3"
  }
 },
 "nbformat": 4,
 "nbformat_minor": 5
}
