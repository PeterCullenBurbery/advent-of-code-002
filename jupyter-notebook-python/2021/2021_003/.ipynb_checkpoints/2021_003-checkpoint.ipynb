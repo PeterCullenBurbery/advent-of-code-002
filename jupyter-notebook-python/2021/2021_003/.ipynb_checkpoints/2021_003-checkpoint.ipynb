{
 "cells": [
  {
   "cell_type": "markdown",
   "id": "55690317",
   "metadata": {},
   "source": [
    "# Advent of Code"
   ]
  },
  {
   "cell_type": "markdown",
   "id": "ee74dbaa",
   "metadata": {},
   "source": [
    "## 2021-012-003\n",
    "## 2021 003"
   ]
  },
  {
   "cell_type": "markdown",
   "id": "9fc3b100",
   "metadata": {},
   "source": [
    "https://adventofcode.com/2021/day/3"
   ]
  },
  {
   "cell_type": "code",
   "execution_count": 2,
   "id": "e75ac9fc",
   "metadata": {},
   "outputs": [
    {
     "data": {
      "text/plain": [
       "3549854"
      ]
     },
     "execution_count": 2,
     "metadata": {},
     "output_type": "execute_result"
    }
   ],
   "source": [
    "def calculate_power_consumption(file_path):\n",
    "    \"\"\"Calculate the power consumption based on gamma and epsilon rates.\"\"\"\n",
    "    # Read input\n",
    "    with open(file_path, 'r') as f:\n",
    "        binary_numbers = [line.strip() for line in f.readlines()]\n",
    "\n",
    "    # Transpose the binary numbers to process column-wise\n",
    "    transposed = list(zip(*binary_numbers))\n",
    "\n",
    "    # Determine gamma and epsilon rates\n",
    "    gamma_rate = ''.join('1' if col.count('1') > col.count('0') else '0' for col in transposed)\n",
    "    epsilon_rate = ''.join('0' if bit == '1' else '1' for bit in gamma_rate)\n",
    "\n",
    "    # Convert to decimal\n",
    "    gamma_decimal = int(gamma_rate, 2)\n",
    "    epsilon_decimal = int(epsilon_rate, 2)\n",
    "\n",
    "    # Calculate power consumption\n",
    "    return gamma_decimal * epsilon_decimal\n",
    "input_file = 'input.txt'\n",
    "# Calculate power consumption for the uploaded input file\n",
    "power_consumption = calculate_power_consumption(input_file)\n",
    "\n",
    "power_consumption"
   ]
  },
  {
   "cell_type": "code",
   "execution_count": 3,
   "id": "c38c6540-5f83-46f8-8cfa-ccc30b80339a",
   "metadata": {},
   "outputs": [
    {
     "data": {
      "text/plain": [
       "3765399"
      ]
     },
     "execution_count": 3,
     "metadata": {},
     "output_type": "execute_result"
    }
   ],
   "source": [
    "def find_rating(numbers, criteria):\n",
    "    \"\"\"Find the oxygen generator or CO2 scrubber rating.\"\"\"\n",
    "    filtered = numbers[:]\n",
    "    bit_length = len(numbers[0])\n",
    "\n",
    "    for bit_position in range(bit_length):\n",
    "        if len(filtered) == 1:\n",
    "            break\n",
    "\n",
    "        # Count 0s and 1s in the current bit position\n",
    "        ones = sum(1 for number in filtered if number[bit_position] == '1')\n",
    "        zeros = len(filtered) - ones\n",
    "\n",
    "        # Determine the target bit based on the criteria\n",
    "        if criteria == 'oxygen':\n",
    "            target_bit = '1' if ones >= zeros else '0'\n",
    "        elif criteria == 'co2':\n",
    "            target_bit = '0' if zeros <= ones else '1'\n",
    "        else:\n",
    "            raise ValueError(\"Criteria must be 'oxygen' or 'co2'\")\n",
    "\n",
    "        # Filter the numbers based on the target bit\n",
    "        filtered = [number for number in filtered if number[bit_position] == target_bit]\n",
    "\n",
    "    return int(filtered[0], 2)\n",
    "\n",
    "def calculate_life_support_rating(file_path):\n",
    "    \"\"\"Calculate the life support rating based on oxygen and CO2 ratings.\"\"\"\n",
    "    # Read input\n",
    "    with open(file_path, 'r') as f:\n",
    "        binary_numbers = [line.strip() for line in f.readlines()]\n",
    "\n",
    "    # Calculate oxygen generator and CO2 scrubber ratings\n",
    "    oxygen_rating = find_rating(binary_numbers, 'oxygen')\n",
    "    co2_rating = find_rating(binary_numbers, 'co2')\n",
    "\n",
    "    # Calculate life support rating\n",
    "    return oxygen_rating * co2_rating\n",
    "\n",
    "# Calculate life support rating for the uploaded input file\n",
    "life_support_rating = calculate_life_support_rating(input_file)\n",
    "\n",
    "life_support_rating"
   ]
  },
  {
   "cell_type": "code",
   "execution_count": null,
   "id": "de457b51-16ae-4b9e-97de-72c3befe2081",
   "metadata": {},
   "outputs": [],
   "source": []
  }
 ],
 "metadata": {
  "kernelspec": {
   "display_name": "Python 3 (ipykernel)",
   "language": "python",
   "name": "python3"
  },
  "language_info": {
   "codemirror_mode": {
    "name": "ipython",
    "version": 3
   },
   "file_extension": ".py",
   "mimetype": "text/x-python",
   "name": "python",
   "nbconvert_exporter": "python",
   "pygments_lexer": "ipython3",
   "version": "3.12.3"
  }
 },
 "nbformat": 4,
 "nbformat_minor": 5
}
