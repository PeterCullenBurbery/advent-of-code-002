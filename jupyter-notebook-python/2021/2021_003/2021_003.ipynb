{
 "cells": [
  {
   "cell_type": "markdown",
   "id": "55690317",
   "metadata": {},
   "source": [
    "# Advent of Code"
   ]
  },
  {
   "cell_type": "markdown",
   "id": "ee74dbaa",
   "metadata": {},
   "source": [
    "## 2021-012-003\n",
    "## 2021 003"
   ]
  },
  {
   "cell_type": "markdown",
   "id": "9fc3b100",
   "metadata": {},
   "source": [
    "https://adventofcode.com/2021/day/3"
   ]
  },
  {
   "cell_type": "code",
   "execution_count": null,
   "id": "e75ac9fc",
   "metadata": {},
   "outputs": [],
   "source": []
  }
 ],
 "metadata": {},
 "nbformat": 4,
 "nbformat_minor": 5
}
