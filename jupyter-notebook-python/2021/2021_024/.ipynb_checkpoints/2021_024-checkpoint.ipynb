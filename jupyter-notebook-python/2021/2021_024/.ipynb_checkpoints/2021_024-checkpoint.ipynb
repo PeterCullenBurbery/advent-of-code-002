{
 "cells": [
  {
   "cell_type": "markdown",
   "id": "7303c940",
   "metadata": {},
   "source": [
    "# Advent of Code"
   ]
  },
  {
   "cell_type": "markdown",
   "id": "705bc3a1",
   "metadata": {},
   "source": [
    "## 2021-012-024\n",
    "## 2021 024"
   ]
  },
  {
   "cell_type": "markdown",
   "id": "6d6afe1a",
   "metadata": {},
   "source": [
    "https://adventofcode.com/2021/day/24"
   ]
  },
  {
   "cell_type": "code",
   "execution_count": null,
   "id": "5db0b480",
   "metadata": {},
   "outputs": [],
   "source": []
  }
 ],
 "metadata": {},
 "nbformat": 4,
 "nbformat_minor": 5
}
