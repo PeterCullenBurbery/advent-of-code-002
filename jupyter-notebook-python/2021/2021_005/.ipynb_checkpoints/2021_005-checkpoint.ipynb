{
 "cells": [
  {
   "cell_type": "markdown",
   "id": "2d5b9e56",
   "metadata": {},
   "source": [
    "# Advent of Code"
   ]
  },
  {
   "cell_type": "markdown",
   "id": "704fc8de",
   "metadata": {},
   "source": [
    "## 2021-012-005\n",
    "## 2021 005"
   ]
  },
  {
   "cell_type": "markdown",
   "id": "a7ad84d5",
   "metadata": {},
   "source": [
    "https://adventofcode.com/2021/day/5"
   ]
  },
  {
   "cell_type": "code",
   "execution_count": 2,
   "id": "f9cbeb60",
   "metadata": {},
   "outputs": [
    {
     "data": {
      "text/plain": [
       "6461"
      ]
     },
     "execution_count": 2,
     "metadata": {},
     "output_type": "execute_result"
    }
   ],
   "source": [
    "from collections import defaultdict\n",
    "\n",
    "def parse_vent_lines(file_path):\n",
    "    \"\"\"Parse the input file to extract vent line coordinates.\"\"\"\n",
    "    with open(file_path, 'r') as f:\n",
    "        lines = f.readlines()\n",
    "\n",
    "    vent_lines = []\n",
    "    for line in lines:\n",
    "        start, end = line.strip().split(\" -> \")\n",
    "        x1, y1 = map(int, start.split(','))\n",
    "        x2, y2 = map(int, end.split(','))\n",
    "        vent_lines.append(((x1, y1), (x2, y2)))\n",
    "\n",
    "    return vent_lines\n",
    "\n",
    "def count_overlaps(vent_lines):\n",
    "    \"\"\"Count the points where at least two lines overlap.\"\"\"\n",
    "    points = defaultdict(int)\n",
    "\n",
    "    for (x1, y1), (x2, y2) in vent_lines:\n",
    "        # Consider only horizontal or vertical lines\n",
    "        if x1 == x2:  # Vertical line\n",
    "            for y in range(min(y1, y2), max(y1, y2) + 1):\n",
    "                points[(x1, y)] += 1\n",
    "        elif y1 == y2:  # Horizontal line\n",
    "            for x in range(min(x1, x2), max(x1, x2) + 1):\n",
    "                points[(x, y1)] += 1\n",
    "\n",
    "    # Count points with at least two overlaps\n",
    "    return sum(1 for count in points.values() if count >= 2)\n",
    "input_file = 'input.txt'\n",
    "# Parse the input file\n",
    "vent_lines = parse_vent_lines(input_file)\n",
    "\n",
    "# Count overlaps for horizontal and vertical lines\n",
    "overlap_count = count_overlaps(vent_lines)\n",
    "\n",
    "overlap_count"
   ]
  },
  {
   "cell_type": "code",
   "execution_count": 3,
   "id": "7269ca83-e248-4e9d-a991-ef8cb85ca858",
   "metadata": {},
   "outputs": [
    {
     "data": {
      "text/plain": [
       "18065"
      ]
     },
     "execution_count": 3,
     "metadata": {},
     "output_type": "execute_result"
    }
   ],
   "source": [
    "def count_overlaps_with_diagonals(vent_lines):\n",
    "    \"\"\"Count the points where at least two lines overlap, including diagonals.\"\"\"\n",
    "    points = defaultdict(int)\n",
    "\n",
    "    for (x1, y1), (x2, y2) in vent_lines:\n",
    "        if x1 == x2:  # Vertical line\n",
    "            for y in range(min(y1, y2), max(y1, y2) + 1):\n",
    "                points[(x1, y)] += 1\n",
    "        elif y1 == y2:  # Horizontal line\n",
    "            for x in range(min(x1, x2), max(x1, x2) + 1):\n",
    "                points[(x, y1)] += 1\n",
    "        else:  # Diagonal line (45 degrees)\n",
    "            dx = 1 if x2 > x1 else -1\n",
    "            dy = 1 if y2 > y1 else -1\n",
    "            for i in range(abs(x2 - x1) + 1):\n",
    "                points[(x1 + i * dx, y1 + i * dy)] += 1\n",
    "\n",
    "    # Count points with at least two overlaps\n",
    "    return sum(1 for count in points.values() if count >= 2)\n",
    "\n",
    "# Count overlaps for all lines, including diagonals\n",
    "overlap_count_with_diagonals = count_overlaps_with_diagonals(vent_lines)\n",
    "\n",
    "overlap_count_with_diagonals"
   ]
  },
  {
   "cell_type": "code",
   "execution_count": null,
   "id": "c1645dcc-fda2-487f-aae0-48e0abfaf3bf",
   "metadata": {},
   "outputs": [],
   "source": []
  }
 ],
 "metadata": {
  "kernelspec": {
   "display_name": "Python 3 (ipykernel)",
   "language": "python",
   "name": "python3"
  },
  "language_info": {
   "codemirror_mode": {
    "name": "ipython",
    "version": 3
   },
   "file_extension": ".py",
   "mimetype": "text/x-python",
   "name": "python",
   "nbconvert_exporter": "python",
   "pygments_lexer": "ipython3",
   "version": "3.12.3"
  }
 },
 "nbformat": 4,
 "nbformat_minor": 5
}
