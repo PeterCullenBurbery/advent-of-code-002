{
 "cells": [
  {
   "cell_type": "markdown",
   "id": "2d5b9e56",
   "metadata": {},
   "source": [
    "# Advent of Code"
   ]
  },
  {
   "cell_type": "markdown",
   "id": "704fc8de",
   "metadata": {},
   "source": [
    "## 2021-012-005\n",
    "## 2021 005"
   ]
  },
  {
   "cell_type": "markdown",
   "id": "a7ad84d5",
   "metadata": {},
   "source": [
    "https://adventofcode.com/2021/day/5"
   ]
  },
  {
   "cell_type": "code",
   "execution_count": null,
   "id": "f9cbeb60",
   "metadata": {},
   "outputs": [],
   "source": []
  }
 ],
 "metadata": {},
 "nbformat": 4,
 "nbformat_minor": 5
}
