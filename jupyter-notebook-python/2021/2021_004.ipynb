{
 "cells": [
  {
   "cell_type": "markdown",
   "id": "1986d9c8",
   "metadata": {},
   "source": [
    "# Advent of Code"
   ]
  },
  {
   "cell_type": "markdown",
   "id": "c2c90e3c",
   "metadata": {},
   "source": [
    "## 2021-012-004\n",
    "## 2021 004"
   ]
  },
  {
   "cell_type": "markdown",
   "id": "9a5f4ec7",
   "metadata": {},
   "source": [
    "https://adventofcode.com/2021/day/4"
   ]
  },
  {
   "cell_type": "code",
   "execution_count": null,
   "id": "b857bd3f",
   "metadata": {},
   "outputs": [],
   "source": []
  }
 ],
 "metadata": {
  "kernelspec": {
   "display_name": "Python 3 (ipykernel)",
   "language": "python",
   "name": "python3"
  },
  "language_info": {
   "name": "python",
   "version": "3.12.3"
  }
 },
 "nbformat": 4,
 "nbformat_minor": 5
}
