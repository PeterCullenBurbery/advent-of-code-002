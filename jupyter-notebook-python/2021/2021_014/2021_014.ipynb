{
 "cells": [
  {
   "cell_type": "markdown",
   "id": "d32945f9",
   "metadata": {},
   "source": [
    "# Advent of Code"
   ]
  },
  {
   "cell_type": "markdown",
   "id": "07f33713",
   "metadata": {},
   "source": [
    "## 2021-012-014\n",
    "## 2021 014"
   ]
  },
  {
   "cell_type": "markdown",
   "id": "3bdb90c7",
   "metadata": {},
   "source": [
    "https://adventofcode.com/2021/day/14"
   ]
  },
  {
   "cell_type": "code",
   "execution_count": 7,
   "id": "9375beaa",
   "metadata": {},
   "outputs": [
    {
     "data": {
      "text/plain": [
       "2584"
      ]
     },
     "execution_count": 7,
     "metadata": {},
     "output_type": "execute_result"
    }
   ],
   "source": [
    "from collections import Counter, defaultdict\n",
    "\n",
    "# Read the input file and parse the polymer template and rules\n",
    "with open('input.txt', 'r') as file:\n",
    "    lines = file.read().strip().split('\\n')\n",
    "\n",
    "polymer_template = lines[0]\n",
    "\n",
    "# Adjusted parsing to skip empty or invalid lines\n",
    "rules = dict(line.split(' -> ') for line in lines[1:] if ' -> ' in line)\n",
    "\n",
    "# Initialize pair counts from the polymer template\n",
    "pair_counts = defaultdict(int)\n",
    "for i in range(len(polymer_template) - 1):\n",
    "    pair = polymer_template[i:i+2]\n",
    "    pair_counts[pair] += 1\n",
    "\n",
    "# Perform 10 steps of pair insertion\n",
    "steps = 10\n",
    "for _ in range(steps):\n",
    "    new_pair_counts = defaultdict(int)\n",
    "    for pair, count in pair_counts.items():\n",
    "        if pair in rules:\n",
    "            # Insert the new element\n",
    "            insert_element = rules[pair]\n",
    "            # Create new pairs\n",
    "            new_pair_counts[pair[0] + insert_element] += count\n",
    "            new_pair_counts[insert_element + pair[1]] += count\n",
    "        else:\n",
    "            # If no rule applies, carry the pair forward\n",
    "            new_pair_counts[pair] += count\n",
    "    pair_counts = new_pair_counts\n",
    "\n",
    "# Count the occurrences of each element\n",
    "element_counts = defaultdict(int)\n",
    "for pair, count in pair_counts.items():\n",
    "    element_counts[pair[0]] += count\n",
    "element_counts[polymer_template[-1]] += 1  # Add the last character\n",
    "\n",
    "# Calculate the difference between the most and least common elements\n",
    "most_common = max(element_counts.values())\n",
    "least_common = min(element_counts.values())\n",
    "result = most_common - least_common\n",
    "result"
   ]
  },
  {
   "cell_type": "code",
   "execution_count": 8,
   "id": "54f46245-c5cd-4d51-9226-a269f2e0b72e",
   "metadata": {},
   "outputs": [
    {
     "data": {
      "text/plain": [
       "3816397135460"
      ]
     },
     "execution_count": 8,
     "metadata": {},
     "output_type": "execute_result"
    }
   ],
   "source": [
    "# Perform 40 steps of pair insertion using the optimized approach\n",
    "steps = 40\n",
    "\n",
    "# Reinitialize the pair counts from the polymer template\n",
    "pair_counts = defaultdict(int)\n",
    "for i in range(len(polymer_template) - 1):\n",
    "    pair = polymer_template[i:i+2]\n",
    "    pair_counts[pair] += 1\n",
    "\n",
    "# Perform the steps of pair insertion\n",
    "for _ in range(steps):\n",
    "    new_pair_counts = defaultdict(int)\n",
    "    for pair, count in pair_counts.items():\n",
    "        if pair in rules:\n",
    "            # Insert the new element\n",
    "            insert_element = rules[pair]\n",
    "            # Create new pairs\n",
    "            new_pair_counts[pair[0] + insert_element] += count\n",
    "            new_pair_counts[insert_element + pair[1]] += count\n",
    "        else:\n",
    "            # If no rule applies, carry the pair forward\n",
    "            new_pair_counts[pair] += count\n",
    "    pair_counts = new_pair_counts\n",
    "\n",
    "# Count the occurrences of each element\n",
    "element_counts = defaultdict(int)\n",
    "for pair, count in pair_counts.items():\n",
    "    element_counts[pair[0]] += count\n",
    "element_counts[polymer_template[-1]] += 1  # Add the last character\n",
    "\n",
    "# Calculate the difference between the most and least common elements\n",
    "most_common = max(element_counts.values())\n",
    "least_common = min(element_counts.values())\n",
    "result = most_common - least_common\n",
    "result"
   ]
  },
  {
   "cell_type": "code",
   "execution_count": null,
   "id": "674e5009-cb5b-4730-aa4b-94726e583843",
   "metadata": {},
   "outputs": [],
   "source": []
  }
 ],
 "metadata": {
  "kernelspec": {
   "display_name": "Python 3 (ipykernel)",
   "language": "python",
   "name": "python3"
  },
  "language_info": {
   "codemirror_mode": {
    "name": "ipython",
    "version": 3
   },
   "file_extension": ".py",
   "mimetype": "text/x-python",
   "name": "python",
   "nbconvert_exporter": "python",
   "pygments_lexer": "ipython3",
   "version": "3.12.3"
  }
 },
 "nbformat": 4,
 "nbformat_minor": 5
}
