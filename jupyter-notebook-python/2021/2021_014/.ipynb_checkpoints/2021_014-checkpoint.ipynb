{
 "cells": [
  {
   "cell_type": "markdown",
   "id": "d32945f9",
   "metadata": {},
   "source": [
    "# Advent of Code"
   ]
  },
  {
   "cell_type": "markdown",
   "id": "07f33713",
   "metadata": {},
   "source": [
    "## 2021-012-014\n",
    "## 2021 014"
   ]
  },
  {
   "cell_type": "markdown",
   "id": "3bdb90c7",
   "metadata": {},
   "source": [
    "https://adventofcode.com/2021/day/14"
   ]
  },
  {
   "cell_type": "code",
   "execution_count": null,
   "id": "9375beaa",
   "metadata": {},
   "outputs": [],
   "source": []
  }
 ],
 "metadata": {},
 "nbformat": 4,
 "nbformat_minor": 5
}
