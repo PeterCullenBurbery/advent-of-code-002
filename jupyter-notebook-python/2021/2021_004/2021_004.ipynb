{
 "cells": [
  {
   "cell_type": "markdown",
   "id": "6e8f22b0",
   "metadata": {},
   "source": [
    "# Advent of Code"
   ]
  },
  {
   "cell_type": "markdown",
   "id": "539d37ee",
   "metadata": {},
   "source": [
    "## 2021-012-004\n",
    "## 2021 004"
   ]
  },
  {
   "cell_type": "markdown",
   "id": "2da080e3",
   "metadata": {},
   "source": [
    "https://adventofcode.com/2021/day/4"
   ]
  },
  {
   "cell_type": "code",
   "execution_count": null,
   "id": "da060990",
   "metadata": {},
   "outputs": [],
   "source": []
  }
 ],
 "metadata": {},
 "nbformat": 4,
 "nbformat_minor": 5
}
