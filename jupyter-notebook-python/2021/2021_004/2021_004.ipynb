{
 "cells": [
  {
   "cell_type": "markdown",
   "id": "6e8f22b0",
   "metadata": {},
   "source": [
    "# Advent of Code"
   ]
  },
  {
   "cell_type": "markdown",
   "id": "539d37ee",
   "metadata": {},
   "source": [
    "## 2021-012-004\n",
    "## 2021 004"
   ]
  },
  {
   "cell_type": "markdown",
   "id": "2da080e3",
   "metadata": {},
   "source": [
    "https://adventofcode.com/2021/day/4"
   ]
  },
  {
   "cell_type": "code",
   "execution_count": 2,
   "id": "da060990",
   "metadata": {},
   "outputs": [
    {
     "data": {
      "text/plain": [
       "63424"
      ]
     },
     "execution_count": 2,
     "metadata": {},
     "output_type": "execute_result"
    }
   ],
   "source": [
    "def parse_bingo_input(file_path):\n",
    "    \"\"\"Parse the bingo input file into numbers and boards.\"\"\"\n",
    "    with open(file_path, 'r') as f:\n",
    "        content = f.read().strip().split(\"\\n\\n\")\n",
    "\n",
    "    # First section is the drawn numbers\n",
    "    numbers = list(map(int, content[0].split(',')))\n",
    "\n",
    "    # Remaining sections are the bingo boards\n",
    "    boards = []\n",
    "    for board in content[1:]:\n",
    "        boards.append([list(map(int, row.split())) for row in board.splitlines()])\n",
    "\n",
    "    return numbers, boards\n",
    "\n",
    "def mark_number_on_board(board, number):\n",
    "    \"\"\"Mark a number on a bingo board by replacing it with None.\"\"\"\n",
    "    for row in board:\n",
    "        for i in range(len(row)):\n",
    "            if row[i] == number:\n",
    "                row[i] = None\n",
    "\n",
    "def is_board_winner(board):\n",
    "    \"\"\"Check if a bingo board is a winner.\"\"\"\n",
    "    # Check rows\n",
    "    for row in board:\n",
    "        if all(num is None for num in row):\n",
    "            return True\n",
    "\n",
    "    # Check columns\n",
    "    for col in range(len(board[0])):\n",
    "        if all(row[col] is None for row in board):\n",
    "            return True\n",
    "\n",
    "    return False\n",
    "\n",
    "def calculate_board_score(board, last_number):\n",
    "    \"\"\"Calculate the score of a winning board.\"\"\"\n",
    "    unmarked_sum = sum(num for row in board for num in row if num is not None)\n",
    "    return unmarked_sum * last_number\n",
    "\n",
    "def find_first_winning_board_score(numbers, boards):\n",
    "    \"\"\"Find the score of the first winning board.\"\"\"\n",
    "    for number in numbers:\n",
    "        for board in boards:\n",
    "            mark_number_on_board(board, number)\n",
    "            if is_board_winner(board):\n",
    "                return calculate_board_score(board, number)\n",
    "input_file = 'input.txt'\n",
    "# Parse the input data\n",
    "numbers, boards = parse_bingo_input(input_file)\n",
    "\n",
    "# Find the score of the first winning board\n",
    "first_winning_board_score = find_first_winning_board_score(numbers, boards)\n",
    "\n",
    "first_winning_board_score"
   ]
  },
  {
   "cell_type": "code",
   "execution_count": 3,
   "id": "a814c0dd-2f55-4b68-a724-c303807126cb",
   "metadata": {},
   "outputs": [
    {
     "data": {
      "text/plain": [
       "23541"
      ]
     },
     "execution_count": 3,
     "metadata": {},
     "output_type": "execute_result"
    }
   ],
   "source": [
    "def find_last_winning_board_score(numbers, boards):\n",
    "    \"\"\"Find the score of the last winning board.\"\"\"\n",
    "    remaining_boards = boards[:]\n",
    "    last_score = 0\n",
    "\n",
    "    for number in numbers:\n",
    "        # Keep track of boards to remove after they win\n",
    "        boards_to_remove = []\n",
    "        for board in remaining_boards:\n",
    "            mark_number_on_board(board, number)\n",
    "            if is_board_winner(board):\n",
    "                last_score = calculate_board_score(board, number)\n",
    "                boards_to_remove.append(board)\n",
    "\n",
    "        # Remove winning boards from the remaining list\n",
    "        for board in boards_to_remove:\n",
    "            remaining_boards.remove(board)\n",
    "\n",
    "        # If no boards remain, the last winning score is determined\n",
    "        if not remaining_boards:\n",
    "            break\n",
    "\n",
    "    return last_score\n",
    "\n",
    "# Find the score of the last winning board\n",
    "last_winning_board_score = find_last_winning_board_score(numbers, boards)\n",
    "\n",
    "last_winning_board_score"
   ]
  },
  {
   "cell_type": "code",
   "execution_count": null,
   "id": "35578fb7-1ac9-4f7b-bd66-35f74530643a",
   "metadata": {},
   "outputs": [],
   "source": []
  }
 ],
 "metadata": {
  "kernelspec": {
   "display_name": "Python 3 (ipykernel)",
   "language": "python",
   "name": "python3"
  },
  "language_info": {
   "codemirror_mode": {
    "name": "ipython",
    "version": 3
   },
   "file_extension": ".py",
   "mimetype": "text/x-python",
   "name": "python",
   "nbconvert_exporter": "python",
   "pygments_lexer": "ipython3",
   "version": "3.12.3"
  }
 },
 "nbformat": 4,
 "nbformat_minor": 5
}
