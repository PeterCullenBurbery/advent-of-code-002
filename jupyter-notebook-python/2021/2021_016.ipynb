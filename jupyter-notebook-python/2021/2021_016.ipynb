{
 "cells": [
  {
   "cell_type": "markdown",
   "id": "c7d40154",
   "metadata": {},
   "source": [
    "# Advent of Code"
   ]
  },
  {
   "cell_type": "markdown",
   "id": "e2916a48",
   "metadata": {},
   "source": [
    "## 2021-012-016\n",
    "## 2021 016"
   ]
  },
  {
   "cell_type": "markdown",
   "id": "724e822e",
   "metadata": {},
   "source": [
    "https://adventofcode.com/2021/day/16"
   ]
  },
  {
   "cell_type": "code",
   "execution_count": null,
   "id": "e821c03f",
   "metadata": {},
   "outputs": [],
   "source": []
  }
 ],
 "metadata": {
  "kernelspec": {
   "display_name": "Python 3 (ipykernel)",
   "language": "python",
   "name": "python3"
  },
  "language_info": {
   "name": "python",
   "version": "3.12.3"
  }
 },
 "nbformat": 4,
 "nbformat_minor": 5
}
