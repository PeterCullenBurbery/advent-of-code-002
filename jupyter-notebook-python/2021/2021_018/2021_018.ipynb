{
 "cells": [
  {
   "cell_type": "markdown",
   "id": "9c9c1021",
   "metadata": {},
   "source": [
    "# Advent of Code"
   ]
  },
  {
   "cell_type": "markdown",
   "id": "dfe36044",
   "metadata": {},
   "source": [
    "## 2021-012-018\n",
    "## 2021 018"
   ]
  },
  {
   "cell_type": "markdown",
   "id": "1d3a2f89",
   "metadata": {},
   "source": [
    "https://adventofcode.com/2021/day/18"
   ]
  },
  {
   "cell_type": "code",
   "execution_count": null,
   "id": "2afc26cf",
   "metadata": {},
   "outputs": [],
   "source": []
  }
 ],
 "metadata": {},
 "nbformat": 4,
 "nbformat_minor": 5
}
