{
 "cells": [
  {
   "cell_type": "markdown",
   "id": "9c9c1021",
   "metadata": {},
   "source": [
    "# Advent of Code"
   ]
  },
  {
   "cell_type": "markdown",
   "id": "dfe36044",
   "metadata": {},
   "source": [
    "## 2021-012-018\n",
    "## 2021 018"
   ]
  },
  {
   "cell_type": "markdown",
   "id": "1d3a2f89",
   "metadata": {},
   "source": [
    "https://adventofcode.com/2021/day/18"
   ]
  },
  {
   "cell_type": "code",
   "execution_count": 2,
   "id": "2afc26cf",
   "metadata": {},
   "outputs": [
    {
     "data": {
      "text/plain": [
       "4120"
      ]
     },
     "execution_count": 2,
     "metadata": {},
     "output_type": "execute_result"
    }
   ],
   "source": [
    "import ast\n",
    "from math import ceil, floor\n",
    "\n",
    "# Parse the input file\n",
    "with open(\"input.txt\", \"r\") as file:\n",
    "    snailfish_numbers = [ast.literal_eval(line.strip()) for line in file]\n",
    "\n",
    "# Helper function for adding two snailfish numbers\n",
    "def add_snailfish(a, b):\n",
    "    return [a, b]\n",
    "\n",
    "# Function to explode a snailfish number\n",
    "def explode(snailfish):\n",
    "    def helper(snailfish, depth=0):\n",
    "        if isinstance(snailfish, int):\n",
    "            return False, snailfish, 0, 0\n",
    "        if depth == 4:\n",
    "            return True, 0, snailfish[0], snailfish[1]\n",
    "        left, right = snailfish\n",
    "        exploded, left, add_left, add_right = helper(left, depth + 1)\n",
    "        if exploded:\n",
    "            return True, [left, add_to_left(right, add_right)], add_left, 0\n",
    "        exploded, right, add_left, add_right = helper(right, depth + 1)\n",
    "        if exploded:\n",
    "            return True, [add_to_right(left, add_left), right], 0, add_right\n",
    "        return False, snailfish, 0, 0\n",
    "\n",
    "    def add_to_left(snailfish, value):\n",
    "        if isinstance(snailfish, int):\n",
    "            return snailfish + value\n",
    "        return [add_to_left(snailfish[0], value), snailfish[1]]\n",
    "\n",
    "    def add_to_right(snailfish, value):\n",
    "        if isinstance(snailfish, int):\n",
    "            return snailfish + value\n",
    "        return [snailfish[0], add_to_right(snailfish[1], value)]\n",
    "\n",
    "    _, new_snailfish, _, _ = helper(snailfish)\n",
    "    return new_snailfish\n",
    "\n",
    "# Function to split a snailfish number\n",
    "def split(snailfish):\n",
    "    if isinstance(snailfish, int):\n",
    "        if snailfish >= 10:\n",
    "            return True, [floor(snailfish / 2), ceil(snailfish / 2)]\n",
    "        return False, snailfish\n",
    "    left, right = snailfish\n",
    "    split_happened, left = split(left)\n",
    "    if split_happened:\n",
    "        return True, [left, right]\n",
    "    split_happened, right = split(right)\n",
    "    return split_happened, [left, right]\n",
    "\n",
    "# Function to reduce a snailfish number\n",
    "def reduce_snailfish(snailfish):\n",
    "    while True:\n",
    "        exploded = explode(snailfish)\n",
    "        if exploded != snailfish:\n",
    "            snailfish = exploded\n",
    "            continue\n",
    "        split_happened, snailfish = split(snailfish)\n",
    "        if not split_happened:\n",
    "            break\n",
    "    return snailfish\n",
    "\n",
    "# Function to calculate the magnitude of a snailfish number\n",
    "def magnitude(snailfish):\n",
    "    if isinstance(snailfish, int):\n",
    "        return snailfish\n",
    "    return 3 * magnitude(snailfish[0]) + 2 * magnitude(snailfish[1])\n",
    "\n",
    "# Add up all snailfish numbers and calculate the final magnitude\n",
    "result = snailfish_numbers[0]\n",
    "for number in snailfish_numbers[1:]:\n",
    "    result = add_snailfish(result, number)\n",
    "    result = reduce_snailfish(result)\n",
    "\n",
    "final_magnitude = magnitude(result)\n",
    "final_magnitude"
   ]
  },
  {
   "cell_type": "code",
   "execution_count": 3,
   "id": "e0936387-a74f-4a26-ab48-3067a7300af6",
   "metadata": {},
   "outputs": [
    {
     "data": {
      "text/plain": [
       "4725"
      ]
     },
     "execution_count": 3,
     "metadata": {},
     "output_type": "execute_result"
    }
   ],
   "source": [
    "from itertools import permutations\n",
    "\n",
    "# Compute the largest magnitude from any two different snailfish numbers\n",
    "max_magnitude = 0\n",
    "\n",
    "for num1, num2 in permutations(snailfish_numbers, 2):\n",
    "    result = add_snailfish(num1, num2)\n",
    "    result = reduce_snailfish(result)\n",
    "    current_magnitude = magnitude(result)\n",
    "    max_magnitude = max(max_magnitude, current_magnitude)\n",
    "\n",
    "max_magnitude"
   ]
  },
  {
   "cell_type": "code",
   "execution_count": null,
   "id": "f03177d2-b4a1-447d-a33c-127c5c0c1109",
   "metadata": {},
   "outputs": [],
   "source": []
  }
 ],
 "metadata": {
  "kernelspec": {
   "display_name": "Python 3 (ipykernel)",
   "language": "python",
   "name": "python3"
  },
  "language_info": {
   "codemirror_mode": {
    "name": "ipython",
    "version": 3
   },
   "file_extension": ".py",
   "mimetype": "text/x-python",
   "name": "python",
   "nbconvert_exporter": "python",
   "pygments_lexer": "ipython3",
   "version": "3.12.3"
  }
 },
 "nbformat": 4,
 "nbformat_minor": 5
}
