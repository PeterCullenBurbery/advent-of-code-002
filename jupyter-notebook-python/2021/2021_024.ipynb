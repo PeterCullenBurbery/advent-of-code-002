{
 "cells": [
  {
   "cell_type": "markdown",
   "id": "5e43a71d",
   "metadata": {},
   "source": [
    "# Advent of Code"
   ]
  },
  {
   "cell_type": "markdown",
   "id": "59c21ed5",
   "metadata": {},
   "source": [
    "## 2021-012-024\n",
    "## 2021 024"
   ]
  },
  {
   "cell_type": "markdown",
   "id": "0da98359",
   "metadata": {},
   "source": [
    "https://adventofcode.com/2021/day/24"
   ]
  },
  {
   "cell_type": "code",
   "execution_count": null,
   "id": "b5b445d0",
   "metadata": {},
   "outputs": [],
   "source": []
  }
 ],
 "metadata": {
  "kernelspec": {
   "display_name": "Python 3 (ipykernel)",
   "language": "python",
   "name": "python3"
  },
  "language_info": {
   "name": "python",
   "version": "3.12.3"
  }
 },
 "nbformat": 4,
 "nbformat_minor": 5
}
