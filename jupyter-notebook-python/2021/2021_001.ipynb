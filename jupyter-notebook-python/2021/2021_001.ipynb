{
 "cells": [
  {
   "cell_type": "markdown",
   "id": "26a1c21e",
   "metadata": {},
   "source": [
    "# Advent of Code"
   ]
  },
  {
   "cell_type": "markdown",
   "id": "cb4b79d6",
   "metadata": {},
   "source": [
    "## 2021-012-001\n",
    "## 2021 001"
   ]
  },
  {
   "cell_type": "markdown",
   "id": "c0c70c2a",
   "metadata": {},
   "source": [
    "https://adventofcode.com/2021/day/1"
   ]
  },
  {
   "cell_type": "code",
   "execution_count": null,
   "id": "6ed4aa7e",
   "metadata": {},
   "outputs": [],
   "source": []
  }
 ],
 "metadata": {
  "kernelspec": {
   "display_name": "Python 3 (ipykernel)",
   "language": "python",
   "name": "python3"
  },
  "language_info": {
   "name": "python",
   "version": "3.12.3"
  }
 },
 "nbformat": 4,
 "nbformat_minor": 5
}
