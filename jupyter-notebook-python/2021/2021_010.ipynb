{
 "cells": [
  {
   "cell_type": "markdown",
   "id": "5d9e38bd",
   "metadata": {},
   "source": [
    "# Advent of Code"
   ]
  },
  {
   "cell_type": "markdown",
   "id": "bf92b626",
   "metadata": {},
   "source": [
    "## 2021-012-010\n",
    "## 2021 010"
   ]
  },
  {
   "cell_type": "markdown",
   "id": "266daa96",
   "metadata": {},
   "source": [
    "https://adventofcode.com/2021/day/10"
   ]
  },
  {
   "cell_type": "code",
   "execution_count": null,
   "id": "9efa8ac5",
   "metadata": {},
   "outputs": [],
   "source": []
  }
 ],
 "metadata": {
  "kernelspec": {
   "display_name": "Python 3 (ipykernel)",
   "language": "python",
   "name": "python3"
  },
  "language_info": {
   "name": "python",
   "version": "3.12.3"
  }
 },
 "nbformat": 4,
 "nbformat_minor": 5
}
