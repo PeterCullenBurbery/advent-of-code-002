{
 "cells": [
  {
   "cell_type": "markdown",
   "id": "65c2b6b3",
   "metadata": {},
   "source": [
    "# Advent of Code"
   ]
  },
  {
   "cell_type": "markdown",
   "id": "3d619ec1",
   "metadata": {},
   "source": [
    "## 2021-012-009\n",
    "## 2021 009"
   ]
  },
  {
   "cell_type": "markdown",
   "id": "2e2df69a",
   "metadata": {},
   "source": [
    "https://adventofcode.com/2021/day/9"
   ]
  },
  {
   "cell_type": "code",
   "execution_count": null,
   "id": "9890ea7c",
   "metadata": {},
   "outputs": [],
   "source": []
  }
 ],
 "metadata": {},
 "nbformat": 4,
 "nbformat_minor": 5
}
