{
 "cells": [
  {
   "cell_type": "markdown",
   "id": "65c2b6b3",
   "metadata": {},
   "source": [
    "# Advent of Code"
   ]
  },
  {
   "cell_type": "markdown",
   "id": "3d619ec1",
   "metadata": {},
   "source": [
    "## 2021-012-009\n",
    "## 2021 009"
   ]
  },
  {
   "cell_type": "markdown",
   "id": "2e2df69a",
   "metadata": {},
   "source": [
    "https://adventofcode.com/2021/day/9"
   ]
  },
  {
   "cell_type": "code",
   "execution_count": 1,
   "id": "9890ea7c",
   "metadata": {},
   "outputs": [
    {
     "data": {
      "text/plain": [
       "526"
      ]
     },
     "execution_count": 1,
     "metadata": {},
     "output_type": "execute_result"
    }
   ],
   "source": [
    "# Read the provided heightmap from the uploaded file\n",
    "heightmap_file_path = 'input.txt'\n",
    "\n",
    "# Load the heightmap into a 2D list\n",
    "with open(heightmap_file_path, 'r') as file:\n",
    "    heightmap = [list(map(int, line.strip())) for line in file]\n",
    "\n",
    "# Helper function to check if a cell is a low point\n",
    "def is_low_point(heightmap, row, col):\n",
    "    current = heightmap[row][col]\n",
    "    directions = [(-1, 0), (1, 0), (0, -1), (0, 1)]  # Up, down, left, right\n",
    "    for dr, dc in directions:\n",
    "        nr, nc = row + dr, col + dc\n",
    "        if 0 <= nr < len(heightmap) and 0 <= nc < len(heightmap[0]):\n",
    "            if heightmap[nr][nc] <= current:\n",
    "                return False\n",
    "    return True\n",
    "\n",
    "# Calculate the sum of risk levels\n",
    "risk_level_sum = 0\n",
    "\n",
    "for r in range(len(heightmap)):\n",
    "    for c in range(len(heightmap[0])):\n",
    "        if is_low_point(heightmap, r, c):\n",
    "            risk_level_sum += heightmap[r][c] + 1\n",
    "\n",
    "risk_level_sum"
   ]
  },
  {
   "cell_type": "code",
   "execution_count": 2,
   "id": "5c3a1cba-3c37-4280-b36a-237e262d0964",
   "metadata": {},
   "outputs": [
    {
     "data": {
      "text/plain": [
       "1123524"
      ]
     },
     "execution_count": 2,
     "metadata": {},
     "output_type": "execute_result"
    }
   ],
   "source": [
    "# Helper function to calculate the size of a basin using DFS\n",
    "def calculate_basin_size(heightmap, start_row, start_col, visited):\n",
    "    stack = [(start_row, start_col)]\n",
    "    size = 0\n",
    "    \n",
    "    while stack:\n",
    "        row, col = stack.pop()\n",
    "        if (row, col) in visited:\n",
    "            continue\n",
    "        visited.add((row, col))\n",
    "        size += 1\n",
    "        \n",
    "        # Add adjacent locations that are part of the basin\n",
    "        directions = [(-1, 0), (1, 0), (0, -1), (0, 1)]\n",
    "        for dr, dc in directions:\n",
    "            nr, nc = row + dr, col + dc\n",
    "            if 0 <= nr < len(heightmap) and 0 <= nc < len(heightmap[0]):\n",
    "                if heightmap[nr][nc] != 9 and (nr, nc) not in visited:\n",
    "                    stack.append((nr, nc))\n",
    "    \n",
    "    return size\n",
    "\n",
    "# Find all basins and their sizes\n",
    "visited = set()\n",
    "basin_sizes = []\n",
    "\n",
    "for r in range(len(heightmap)):\n",
    "    for c in range(len(heightmap[0])):\n",
    "        if is_low_point(heightmap, r, c) and (r, c) not in visited:\n",
    "            basin_size = calculate_basin_size(heightmap, r, c, visited)\n",
    "            basin_sizes.append(basin_size)\n",
    "\n",
    "# Sort the basin sizes and multiply the three largest\n",
    "largest_basins_product = sorted(basin_sizes, reverse=True)[:3]\n",
    "result = largest_basins_product[0] * largest_basins_product[1] * largest_basins_product[2]\n",
    "\n",
    "result"
   ]
  },
  {
   "cell_type": "code",
   "execution_count": null,
   "id": "dc27d0b5-cee3-4ab1-8d67-346b0cddc196",
   "metadata": {},
   "outputs": [],
   "source": []
  }
 ],
 "metadata": {
  "kernelspec": {
   "display_name": "Python 3 (ipykernel)",
   "language": "python",
   "name": "python3"
  },
  "language_info": {
   "codemirror_mode": {
    "name": "ipython",
    "version": 3
   },
   "file_extension": ".py",
   "mimetype": "text/x-python",
   "name": "python",
   "nbconvert_exporter": "python",
   "pygments_lexer": "ipython3",
   "version": "3.12.3"
  }
 },
 "nbformat": 4,
 "nbformat_minor": 5
}
