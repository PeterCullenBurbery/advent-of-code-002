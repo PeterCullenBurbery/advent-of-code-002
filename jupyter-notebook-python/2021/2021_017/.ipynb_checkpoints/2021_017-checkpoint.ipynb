{
 "cells": [
  {
   "cell_type": "markdown",
   "id": "1d126674",
   "metadata": {},
   "source": [
    "# Advent of Code"
   ]
  },
  {
   "cell_type": "markdown",
   "id": "17c07bd5",
   "metadata": {},
   "source": [
    "## 2021-012-017\n",
    "## 2021 017"
   ]
  },
  {
   "cell_type": "markdown",
   "id": "d566f4ad",
   "metadata": {},
   "source": [
    "https://adventofcode.com/2021/day/17"
   ]
  },
  {
   "cell_type": "code",
   "execution_count": null,
   "id": "b1906ae1",
   "metadata": {},
   "outputs": [],
   "source": []
  }
 ],
 "metadata": {},
 "nbformat": 4,
 "nbformat_minor": 5
}
