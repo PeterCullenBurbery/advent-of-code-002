{
 "cells": [
  {
   "cell_type": "markdown",
   "id": "1d126674",
   "metadata": {},
   "source": [
    "# Advent of Code"
   ]
  },
  {
   "cell_type": "markdown",
   "id": "17c07bd5",
   "metadata": {},
   "source": [
    "## 2021-012-017\n",
    "## 2021 017"
   ]
  },
  {
   "cell_type": "markdown",
   "id": "d566f4ad",
   "metadata": {},
   "source": [
    "https://adventofcode.com/2021/day/17"
   ]
  },
  {
   "cell_type": "code",
   "execution_count": 1,
   "id": "b1906ae1",
   "metadata": {},
   "outputs": [
    {
     "data": {
      "text/plain": [
       "8646"
      ]
     },
     "execution_count": 1,
     "metadata": {},
     "output_type": "execute_result"
    }
   ],
   "source": [
    "# Parse the target area from the input\n",
    "target_area = \"x=155..215, y=-132..-72\"\n",
    "x_range, y_range = target_area.split(\", \")\n",
    "x_min, x_max = map(int, x_range[2:].split(\"..\"))\n",
    "y_min, y_max = map(int, y_range[2:].split(\"..\"))\n",
    "\n",
    "# Function to simulate the probe's trajectory\n",
    "def simulate_probe(vx, vy, x_min, x_max, y_min, y_max):\n",
    "    x, y = 0, 0\n",
    "    max_y = 0\n",
    "    while x <= x_max and y >= y_min:\n",
    "        x += vx\n",
    "        y += vy\n",
    "        max_y = max(max_y, y)\n",
    "        if vx > 0:\n",
    "            vx -= 1\n",
    "        vy -= 1\n",
    "        if x_min <= x <= x_max and y_min <= y <= y_max:\n",
    "            return max_y, True\n",
    "    return max_y, False\n",
    "\n",
    "# Find the highest y position\n",
    "highest_y = 0\n",
    "for vx in range(1, x_max + 1):\n",
    "    for vy in range(y_min, abs(y_min) + 1):\n",
    "        max_y, hits_target = simulate_probe(vx, vy, x_min, x_max, y_min, y_max)\n",
    "        if hits_target:\n",
    "            highest_y = max(highest_y, max_y)\n",
    "\n",
    "highest_y"
   ]
  },
  {
   "cell_type": "code",
   "execution_count": 2,
   "id": "1d247c23-28aa-406b-92c7-a25ef9996304",
   "metadata": {},
   "outputs": [
    {
     "data": {
      "text/plain": [
       "5945"
      ]
     },
     "execution_count": 2,
     "metadata": {},
     "output_type": "execute_result"
    }
   ],
   "source": [
    "# Find all distinct initial velocity values that hit the target\n",
    "distinct_velocities = set()\n",
    "\n",
    "for vx in range(1, x_max + 1):\n",
    "    for vy in range(y_min, abs(y_min) + 1):\n",
    "        _, hits_target = simulate_probe(vx, vy, x_min, x_max, y_min, y_max)\n",
    "        if hits_target:\n",
    "            distinct_velocities.add((vx, vy))\n",
    "\n",
    "total_distinct_velocities = len(distinct_velocities)\n",
    "total_distinct_velocities"
   ]
  },
  {
   "cell_type": "code",
   "execution_count": null,
   "id": "841a7aad-fd77-4c06-9ddd-5f42ba4655de",
   "metadata": {},
   "outputs": [],
   "source": []
  }
 ],
 "metadata": {
  "kernelspec": {
   "display_name": "Python 3 (ipykernel)",
   "language": "python",
   "name": "python3"
  },
  "language_info": {
   "codemirror_mode": {
    "name": "ipython",
    "version": 3
   },
   "file_extension": ".py",
   "mimetype": "text/x-python",
   "name": "python",
   "nbconvert_exporter": "python",
   "pygments_lexer": "ipython3",
   "version": "3.12.3"
  }
 },
 "nbformat": 4,
 "nbformat_minor": 5
}
