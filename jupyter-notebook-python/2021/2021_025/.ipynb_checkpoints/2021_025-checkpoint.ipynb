{
 "cells": [
  {
   "cell_type": "markdown",
   "id": "929697a7",
   "metadata": {},
   "source": [
    "# Advent of Code"
   ]
  },
  {
   "cell_type": "markdown",
   "id": "ece541e2",
   "metadata": {},
   "source": [
    "## 2021-012-025\n",
    "## 2021 025"
   ]
  },
  {
   "cell_type": "markdown",
   "id": "65bfc2cf",
   "metadata": {},
   "source": [
    "https://adventofcode.com/2021/day/25"
   ]
  },
  {
   "cell_type": "code",
   "execution_count": 2,
   "id": "3afc98c3",
   "metadata": {},
   "outputs": [
    {
     "data": {
      "text/plain": [
       "571"
      ]
     },
     "execution_count": 2,
     "metadata": {},
     "output_type": "execute_result"
    }
   ],
   "source": [
    "# Load the input file content\n",
    "with open('input.txt', 'r') as file:\n",
    "    data = file.read().splitlines()\n",
    "\n",
    "# Parse the input grid\n",
    "grid = [list(line) for line in data]\n",
    "\n",
    "# Get grid dimensions\n",
    "rows = len(grid)\n",
    "cols = len(grid[0])\n",
    "\n",
    "# Function to simulate a single step\n",
    "def simulate_step(grid):\n",
    "    moved = False\n",
    "    # Copy grid for updates\n",
    "    new_grid = [row[:] for row in grid]\n",
    "    \n",
    "    # Move east-facing cucumbers\n",
    "    for r in range(rows):\n",
    "        for c in range(cols):\n",
    "            if grid[r][c] == '>' and grid[r][(c + 1) % cols] == '.':\n",
    "                new_grid[r][c] = '.'\n",
    "                new_grid[r][(c + 1) % cols] = '>'\n",
    "                moved = True\n",
    "\n",
    "    # Update grid for south-facing movement\n",
    "    grid = [row[:] for row in new_grid]\n",
    "\n",
    "    # Move south-facing cucumbers\n",
    "    for r in range(rows):\n",
    "        for c in range(cols):\n",
    "            if grid[r][c] == 'v' and grid[(r + 1) % rows][c] == '.':\n",
    "                new_grid[r][c] = '.'\n",
    "                new_grid[(r + 1) % rows][c] = 'v'\n",
    "                moved = True\n",
    "\n",
    "    return new_grid, moved\n",
    "\n",
    "# Run simulation\n",
    "steps = 0\n",
    "moved = True\n",
    "\n",
    "while moved:\n",
    "    grid, moved = simulate_step(grid)\n",
    "    steps += 1\n",
    "\n",
    "steps"
   ]
  },
  {
   "cell_type": "code",
   "execution_count": null,
   "id": "ef22b414-e439-40d3-a728-edc0d8d29686",
   "metadata": {},
   "outputs": [],
   "source": []
  }
 ],
 "metadata": {
  "kernelspec": {
   "display_name": "Python 3 (ipykernel)",
   "language": "python",
   "name": "python3"
  },
  "language_info": {
   "codemirror_mode": {
    "name": "ipython",
    "version": 3
   },
   "file_extension": ".py",
   "mimetype": "text/x-python",
   "name": "python",
   "nbconvert_exporter": "python",
   "pygments_lexer": "ipython3",
   "version": "3.12.3"
  }
 },
 "nbformat": 4,
 "nbformat_minor": 5
}
