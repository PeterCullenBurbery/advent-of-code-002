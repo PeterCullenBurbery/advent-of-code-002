{
 "cells": [
  {
   "cell_type": "markdown",
   "id": "929697a7",
   "metadata": {},
   "source": [
    "# Advent of Code"
   ]
  },
  {
   "cell_type": "markdown",
   "id": "ece541e2",
   "metadata": {},
   "source": [
    "## 2021-012-025\n",
    "## 2021 025"
   ]
  },
  {
   "cell_type": "markdown",
   "id": "65bfc2cf",
   "metadata": {},
   "source": [
    "https://adventofcode.com/2021/day/25"
   ]
  },
  {
   "cell_type": "code",
   "execution_count": null,
   "id": "3afc98c3",
   "metadata": {},
   "outputs": [],
   "source": []
  }
 ],
 "metadata": {},
 "nbformat": 4,
 "nbformat_minor": 5
}
