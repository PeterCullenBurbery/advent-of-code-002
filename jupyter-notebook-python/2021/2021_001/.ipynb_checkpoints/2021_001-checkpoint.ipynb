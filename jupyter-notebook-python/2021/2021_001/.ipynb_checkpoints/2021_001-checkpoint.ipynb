{
 "cells": [
  {
   "cell_type": "markdown",
   "id": "aeb8d894",
   "metadata": {},
   "source": [
    "# Advent of Code"
   ]
  },
  {
   "cell_type": "markdown",
   "id": "7caecc5f",
   "metadata": {},
   "source": [
    "## 2021-012-001\n",
    "## 2021 001"
   ]
  },
  {
   "cell_type": "markdown",
   "id": "297020ee",
   "metadata": {},
   "source": [
    "https://adventofcode.com/2021/day/1"
   ]
  },
  {
   "cell_type": "code",
   "execution_count": 1,
   "id": "69b70354",
   "metadata": {},
   "outputs": [
    {
     "data": {
      "text/plain": [
       "1167"
      ]
     },
     "execution_count": 1,
     "metadata": {},
     "output_type": "execute_result"
    }
   ],
   "source": [
    "def count_increases(file_path):\n",
    "    \"\"\"Count the number of times a depth measurement increases.\"\"\"\n",
    "    # Read input and convert to integers\n",
    "    with open(file_path, 'r') as f:\n",
    "        depths = list(map(int, f.readlines()))\n",
    "    \n",
    "    # Count increases\n",
    "    increases = sum(1 for i in range(1, len(depths)) if depths[i] > depths[i - 1])\n",
    "    return increases\n",
    "\n",
    "# File path to the uploaded input\n",
    "input_file = 'input.txt'\n",
    "\n",
    "# Calculate the number of increases\n",
    "num_increases = count_increases(input_file)\n",
    "\n",
    "num_increases\n"
   ]
  },
  {
   "cell_type": "code",
   "execution_count": 2,
   "id": "e020d889-2633-4dd2-b674-8eb9d70c4eb8",
   "metadata": {},
   "outputs": [
    {
     "data": {
      "text/plain": [
       "1130"
      ]
     },
     "execution_count": 2,
     "metadata": {},
     "output_type": "execute_result"
    }
   ],
   "source": [
    "def count_sliding_window_increases(file_path, window_size=3):\n",
    "    \"\"\"Count the number of times a sliding window sum increases.\"\"\"\n",
    "    # Read input and convert to integers\n",
    "    with open(file_path, 'r') as f:\n",
    "        depths = list(map(int, f.readlines()))\n",
    "    \n",
    "    # Calculate sliding window sums\n",
    "    window_sums = [sum(depths[i:i + window_size]) for i in range(len(depths) - window_size + 1)]\n",
    "    \n",
    "    # Count increases in sliding window sums\n",
    "    increases = sum(1 for i in range(1, len(window_sums)) if window_sums[i] > window_sums[i - 1])\n",
    "    return increases\n",
    "\n",
    "# Calculate the number of increases in sliding window sums\n",
    "num_sliding_increases = count_sliding_window_increases(input_file)\n",
    "\n",
    "num_sliding_increases"
   ]
  },
  {
   "cell_type": "code",
   "execution_count": null,
   "id": "9c85ee04-e49d-466b-b224-4eecf1db598d",
   "metadata": {},
   "outputs": [],
   "source": []
  }
 ],
 "metadata": {
  "kernelspec": {
   "display_name": "Python 3 (ipykernel)",
   "language": "python",
   "name": "python3"
  },
  "language_info": {
   "codemirror_mode": {
    "name": "ipython",
    "version": 3
   },
   "file_extension": ".py",
   "mimetype": "text/x-python",
   "name": "python",
   "nbconvert_exporter": "python",
   "pygments_lexer": "ipython3",
   "version": "3.12.3"
  }
 },
 "nbformat": 4,
 "nbformat_minor": 5
}
