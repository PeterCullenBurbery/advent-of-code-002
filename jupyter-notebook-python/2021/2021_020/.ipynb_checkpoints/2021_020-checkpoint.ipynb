{
 "cells": [
  {
   "cell_type": "markdown",
   "id": "960b2849",
   "metadata": {},
   "source": [
    "# Advent of Code"
   ]
  },
  {
   "cell_type": "markdown",
   "id": "c970568a",
   "metadata": {},
   "source": [
    "## 2021-012-020\n",
    "## 2021 020"
   ]
  },
  {
   "cell_type": "markdown",
   "id": "b2d16d52",
   "metadata": {},
   "source": [
    "https://adventofcode.com/2021/day/20"
   ]
  },
  {
   "cell_type": "code",
   "execution_count": 2,
   "id": "0daf00c1",
   "metadata": {},
   "outputs": [
    {
     "ename": "ValueError",
     "evalue": "min() iterable argument is empty",
     "output_type": "error",
     "traceback": [
      "\u001b[1;31m---------------------------------------------------------------------------\u001b[0m",
      "\u001b[1;31mValueError\u001b[0m                                Traceback (most recent call last)",
      "Cell \u001b[1;32mIn[2], line 40\u001b[0m\n\u001b[0;32m     38\u001b[0m file_path \u001b[38;5;241m=\u001b[39m \u001b[38;5;124m'\u001b[39m\u001b[38;5;124minput.txt\u001b[39m\u001b[38;5;124m'\u001b[39m\n\u001b[0;32m     39\u001b[0m enhancement_algo, initial_image \u001b[38;5;241m=\u001b[39m parse_input(file_path)\n\u001b[1;32m---> 40\u001b[0m enhanced_image \u001b[38;5;241m=\u001b[39m \u001b[43menhance_image\u001b[49m\u001b[43m(\u001b[49m\u001b[43minitial_image\u001b[49m\u001b[43m,\u001b[49m\u001b[43m \u001b[49m\u001b[43menhancement_algo\u001b[49m\u001b[43m,\u001b[49m\u001b[43m \u001b[49m\u001b[38;5;241;43m2\u001b[39;49m\u001b[43m)\u001b[49m\n\u001b[0;32m     42\u001b[0m \u001b[38;5;66;03m# Count lit pixels\u001b[39;00m\n\u001b[0;32m     43\u001b[0m lit_pixel_count \u001b[38;5;241m=\u001b[39m \u001b[38;5;28mlen\u001b[39m(enhanced_image)\n",
      "Cell \u001b[1;32mIn[2], line 32\u001b[0m, in \u001b[0;36menhance_image\u001b[1;34m(image, enhancement_algo, steps)\u001b[0m\n\u001b[0;32m     30\u001b[0m             new_image\u001b[38;5;241m.\u001b[39madd((x, y))\n\u001b[0;32m     31\u001b[0m image \u001b[38;5;241m=\u001b[39m new_image\n\u001b[1;32m---> 32\u001b[0m min_x, max_x \u001b[38;5;241m=\u001b[39m \u001b[38;5;28;43mmin\u001b[39;49m\u001b[43m(\u001b[49m\u001b[43mx\u001b[49m\u001b[43m \u001b[49m\u001b[38;5;28;43;01mfor\u001b[39;49;00m\u001b[43m \u001b[49m\u001b[43mx\u001b[49m\u001b[43m,\u001b[49m\u001b[43m \u001b[49m\u001b[43my\u001b[49m\u001b[43m \u001b[49m\u001b[38;5;129;43;01min\u001b[39;49;00m\u001b[43m \u001b[49m\u001b[43mimage\u001b[49m\u001b[43m)\u001b[49m, \u001b[38;5;28mmax\u001b[39m(x \u001b[38;5;28;01mfor\u001b[39;00m x, y \u001b[38;5;129;01min\u001b[39;00m image)\n\u001b[0;32m     33\u001b[0m min_y, max_y \u001b[38;5;241m=\u001b[39m \u001b[38;5;28mmin\u001b[39m(y \u001b[38;5;28;01mfor\u001b[39;00m x, y \u001b[38;5;129;01min\u001b[39;00m image), \u001b[38;5;28mmax\u001b[39m(y \u001b[38;5;28;01mfor\u001b[39;00m x, y \u001b[38;5;129;01min\u001b[39;00m image)\n\u001b[0;32m     34\u001b[0m infinite_pixel \u001b[38;5;241m=\u001b[39m enhancement_algo[\u001b[38;5;241m0\u001b[39m \u001b[38;5;28;01mif\u001b[39;00m infinite_pixel \u001b[38;5;241m==\u001b[39m \u001b[38;5;124m'\u001b[39m\u001b[38;5;124m.\u001b[39m\u001b[38;5;124m'\u001b[39m \u001b[38;5;28;01melse\u001b[39;00m \u001b[38;5;241m-\u001b[39m\u001b[38;5;241m1\u001b[39m]\n",
      "\u001b[1;31mValueError\u001b[0m: min() iterable argument is empty"
     ]
    }
   ],
   "source": [
    "# Parse the input file for the enhancement algorithm and initial image\n",
    "def parse_input(file_path):\n",
    "    with open(file_path, 'r') as file:\n",
    "        lines = file.read().split(\"\\n\\n\")\n",
    "    enhancement_algo = lines[0].strip()\n",
    "    image_data = lines[1].strip().splitlines()\n",
    "    image = {(x, y) for y, row in enumerate(image_data) for x, char in enumerate(row) if char == '#'}\n",
    "    return enhancement_algo, image\n",
    "\n",
    "# Enhance the image\n",
    "def enhance_image(image, enhancement_algo, steps):\n",
    "    min_x, max_x = min(x for x, y in image), max(x for x, y in image)\n",
    "    min_y, max_y = min(y for x, y in image), max(y for x, y in image)\n",
    "    infinite_pixel = '.'\n",
    "\n",
    "    for step in range(steps):\n",
    "        new_image = set()\n",
    "        for y in range(min_y - 1, max_y + 2):\n",
    "            for x in range(min_x - 1, max_x + 2):\n",
    "                binary_str = ''\n",
    "                for dy in range(-1, 2):\n",
    "                    for dx in range(-1, 2):\n",
    "                        neighbor = (x + dx, y + dy)\n",
    "                        if neighbor in image:\n",
    "                            binary_str += '1'\n",
    "                        else:\n",
    "                            binary_str += '0' if infinite_pixel == '.' else '1'\n",
    "                index = int(binary_str, 2)\n",
    "                if enhancement_algo[index] == '#':\n",
    "                    new_image.add((x, y))\n",
    "        image = new_image\n",
    "        min_x, max_x = min(x for x, y in image), max(x for x, y in image)\n",
    "        min_y, max_y = min(y for x, y in image), max(y for x, y in image)\n",
    "        infinite_pixel = enhancement_algo[0 if infinite_pixel == '.' else -1]\n",
    "    return image\n",
    "\n",
    "# Parse input and run enhancement\n",
    "file_path = 'input.txt'\n",
    "enhancement_algo, initial_image = parse_input(file_path)\n",
    "enhanced_image = enhance_image(initial_image, enhancement_algo, 2)\n",
    "\n",
    "# Count lit pixels\n",
    "lit_pixel_count = len(enhanced_image)\n",
    "lit_pixel_count"
   ]
  },
  {
   "cell_type": "code",
   "execution_count": null,
   "id": "e702b72b-3057-482c-b97e-b7216fe9852a",
   "metadata": {},
   "outputs": [],
   "source": []
  }
 ],
 "metadata": {
  "kernelspec": {
   "display_name": "Python 3 (ipykernel)",
   "language": "python",
   "name": "python3"
  },
  "language_info": {
   "codemirror_mode": {
    "name": "ipython",
    "version": 3
   },
   "file_extension": ".py",
   "mimetype": "text/x-python",
   "name": "python",
   "nbconvert_exporter": "python",
   "pygments_lexer": "ipython3",
   "version": "3.12.3"
  }
 },
 "nbformat": 4,
 "nbformat_minor": 5
}
