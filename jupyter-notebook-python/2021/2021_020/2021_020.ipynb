{
 "cells": [
  {
   "cell_type": "markdown",
   "id": "960b2849",
   "metadata": {},
   "source": [
    "# Advent of Code"
   ]
  },
  {
   "cell_type": "markdown",
   "id": "c970568a",
   "metadata": {},
   "source": [
    "## 2021-012-020\n",
    "## 2021 020"
   ]
  },
  {
   "cell_type": "markdown",
   "id": "b2d16d52",
   "metadata": {},
   "source": [
    "https://adventofcode.com/2021/day/20"
   ]
  },
  {
   "cell_type": "code",
   "execution_count": 1,
   "id": "0daf00c1",
   "metadata": {},
   "outputs": [
    {
     "name": "stdout",
     "output_type": "stream",
     "text": [
      "Number of lit pixels after 2 enhancements: 5326\n"
     ]
    }
   ],
   "source": [
    "def parse_input(file_path):\n",
    "    with open(file_path, 'r') as file:\n",
    "        sections = file.read().strip().split(\"\\n\\n\")\n",
    "        enhancement_algo = sections[0]\n",
    "        input_image = [list(line) for line in sections[1].splitlines()]\n",
    "    return enhancement_algo, input_image\n",
    "\n",
    "def get_pixel_value(image, row, col, default_char):\n",
    "    \"\"\"Gets the value of the pixel considering out-of-bounds as `default_char`.\"\"\"\n",
    "    if 0 <= row < len(image) and 0 <= col < len(image[0]):\n",
    "        return '1' if image[row][col] == '#' else '0'\n",
    "    return '1' if default_char == '#' else '0'\n",
    "\n",
    "def enhance_image(image, enhancement_algo, default_char):\n",
    "    \"\"\"Enhances the image based on the enhancement algorithm.\"\"\"\n",
    "    rows, cols = len(image), len(image[0])\n",
    "    new_image = []\n",
    "    for row in range(-1, rows + 1):\n",
    "        new_row = []\n",
    "        for col in range(-1, cols + 1):\n",
    "            binary = ''.join(\n",
    "                get_pixel_value(image, row + dr, col + dc, default_char)\n",
    "                for dr in (-1, 0, 1) for dc in (-1, 0, 1)\n",
    "            )\n",
    "            index = int(binary, 2)\n",
    "            new_row.append(enhancement_algo[index])\n",
    "        new_image.append(new_row)\n",
    "    return new_image\n",
    "\n",
    "def count_lit_pixels(image):\n",
    "    return sum(row.count('#') for row in image)\n",
    "\n",
    "def trench_map(file_path, steps):\n",
    "    enhancement_algo, input_image = parse_input(file_path)\n",
    "    default_char = '.'\n",
    "    for step in range(steps):\n",
    "        input_image = enhance_image(input_image, enhancement_algo, default_char)\n",
    "        default_char = enhancement_algo[0] if default_char == '.' else enhancement_algo[-1]\n",
    "    return count_lit_pixels(input_image)\n",
    "\n",
    "# Main execution\n",
    "if __name__ == \"__main__\":\n",
    "    result = trench_map(\"input.txt\", 2)\n",
    "    print(\"Number of lit pixels after 2 enhancements:\", result)\n"
   ]
  },
  {
   "cell_type": "code",
   "execution_count": 2,
   "id": "e702b72b-3057-482c-b97e-b7216fe9852a",
   "metadata": {},
   "outputs": [
    {
     "name": "stdout",
     "output_type": "stream",
     "text": [
      "Number of lit pixels after 50 enhancements: 17096\n"
     ]
    }
   ],
   "source": [
    "def parse_input(file_path):\n",
    "    with open(file_path, 'r') as file:\n",
    "        sections = file.read().strip().split(\"\\n\\n\")\n",
    "        enhancement_algo = sections[0]\n",
    "        input_image = [list(line) for line in sections[1].splitlines()]\n",
    "    return enhancement_algo, input_image\n",
    "\n",
    "def get_pixel_value(image, row, col, default_char):\n",
    "    \"\"\"Gets the value of the pixel considering out-of-bounds as `default_char`.\"\"\"\n",
    "    if 0 <= row < len(image) and 0 <= col < len(image[0]):\n",
    "        return '1' if image[row][col] == '#' else '0'\n",
    "    return '1' if default_char == '#' else '0'\n",
    "\n",
    "def enhance_image(image, enhancement_algo, default_char):\n",
    "    \"\"\"Enhances the image based on the enhancement algorithm.\"\"\"\n",
    "    rows, cols = len(image), len(image[0])\n",
    "    new_image = []\n",
    "    for row in range(-1, rows + 1):\n",
    "        new_row = []\n",
    "        for col in range(-1, cols + 1):\n",
    "            binary = ''.join(\n",
    "                get_pixel_value(image, row + dr, col + dc, default_char)\n",
    "                for dr in (-1, 0, 1) for dc in (-1, 0, 1)\n",
    "            )\n",
    "            index = int(binary, 2)\n",
    "            new_row.append(enhancement_algo[index])\n",
    "        new_image.append(new_row)\n",
    "    return new_image\n",
    "\n",
    "def count_lit_pixels(image):\n",
    "    return sum(row.count('#') for row in image)\n",
    "\n",
    "def trench_map(file_path, steps):\n",
    "    enhancement_algo, input_image = parse_input(file_path)\n",
    "    default_char = '.'\n",
    "    for step in range(steps):\n",
    "        input_image = enhance_image(input_image, enhancement_algo, default_char)\n",
    "        default_char = enhancement_algo[0] if default_char == '.' else enhancement_algo[-1]\n",
    "    return count_lit_pixels(input_image)\n",
    "\n",
    "# Main execution\n",
    "if __name__ == \"__main__\":\n",
    "    result = trench_map(\"input.txt\", 50)\n",
    "    print(\"Number of lit pixels after 50 enhancements:\", result)"
   ]
  },
  {
   "cell_type": "code",
   "execution_count": null,
   "id": "3e3c5981-bd13-4cc8-b63e-8f1c6f148568",
   "metadata": {},
   "outputs": [],
   "source": []
  }
 ],
 "metadata": {
  "kernelspec": {
   "display_name": "Python 3 (ipykernel)",
   "language": "python",
   "name": "python3"
  },
  "language_info": {
   "codemirror_mode": {
    "name": "ipython",
    "version": 3
   },
   "file_extension": ".py",
   "mimetype": "text/x-python",
   "name": "python",
   "nbconvert_exporter": "python",
   "pygments_lexer": "ipython3",
   "version": "3.12.3"
  }
 },
 "nbformat": 4,
 "nbformat_minor": 5
}
