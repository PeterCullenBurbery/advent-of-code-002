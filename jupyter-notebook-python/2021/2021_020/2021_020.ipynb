{
 "cells": [
  {
   "cell_type": "markdown",
   "id": "960b2849",
   "metadata": {},
   "source": [
    "# Advent of Code"
   ]
  },
  {
   "cell_type": "markdown",
   "id": "c970568a",
   "metadata": {},
   "source": [
    "## 2021-012-020\n",
    "## 2021 020"
   ]
  },
  {
   "cell_type": "markdown",
   "id": "b2d16d52",
   "metadata": {},
   "source": [
    "https://adventofcode.com/2021/day/20"
   ]
  },
  {
   "cell_type": "code",
   "execution_count": null,
   "id": "0daf00c1",
   "metadata": {},
   "outputs": [],
   "source": []
  }
 ],
 "metadata": {},
 "nbformat": 4,
 "nbformat_minor": 5
}
