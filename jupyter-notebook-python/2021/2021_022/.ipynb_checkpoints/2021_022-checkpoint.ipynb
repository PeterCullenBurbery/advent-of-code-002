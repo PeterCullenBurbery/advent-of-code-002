{
 "cells": [
  {
   "cell_type": "markdown",
   "id": "d5f398ac",
   "metadata": {},
   "source": [
    "# Advent of Code"
   ]
  },
  {
   "cell_type": "markdown",
   "id": "9dcd836f",
   "metadata": {},
   "source": [
    "## 2021-012-022\n",
    "## 2021 022"
   ]
  },
  {
   "cell_type": "markdown",
   "id": "9e1a3c6b",
   "metadata": {},
   "source": [
    "https://adventofcode.com/2021/day/22"
   ]
  },
  {
   "cell_type": "code",
   "execution_count": null,
   "id": "3f5f9abe",
   "metadata": {},
   "outputs": [],
   "source": []
  }
 ],
 "metadata": {},
 "nbformat": 4,
 "nbformat_minor": 5
}
