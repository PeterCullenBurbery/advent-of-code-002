{
 "cells": [
  {
   "cell_type": "markdown",
   "id": "d5f398ac",
   "metadata": {},
   "source": [
    "# Advent of Code"
   ]
  },
  {
   "cell_type": "markdown",
   "id": "9dcd836f",
   "metadata": {},
   "source": [
    "## 2021-012-022\n",
    "## 2021 022"
   ]
  },
  {
   "cell_type": "markdown",
   "id": "9e1a3c6b",
   "metadata": {},
   "source": [
    "https://adventofcode.com/2021/day/22"
   ]
  },
  {
   "cell_type": "code",
   "execution_count": 1,
   "id": "3f5f9abe",
   "metadata": {},
   "outputs": [
    {
     "name": "stdout",
     "output_type": "stream",
     "text": [
      "Number of cubes on: 553201\n"
     ]
    }
   ],
   "source": [
    "def parse_instruction(line):\n",
    "    \"\"\"Parse a single instruction line.\"\"\"\n",
    "    state, coords = line.split(' ')\n",
    "    x_range, y_range, z_range = coords.split(',')\n",
    "    x_min, x_max = map(int, x_range[2:].split('..'))\n",
    "    y_min, y_max = map(int, y_range[2:].split('..'))\n",
    "    z_min, z_max = map(int, z_range[2:].split('..'))\n",
    "    return state == 'on', (x_min, x_max, y_min, y_max, z_min, z_max)\n",
    "\n",
    "def apply_instructions(instructions):\n",
    "    \"\"\"Apply instructions, considering only the -50 to 50 range.\"\"\"\n",
    "    reactor = set()\n",
    "\n",
    "    for state, (x_min, x_max, y_min, y_max, z_min, z_max) in instructions:\n",
    "        if x_max < -50 or x_min > 50 or y_max < -50 or y_min > 50 or z_max < -50 or z_min > 50:\n",
    "            continue  # Skip cubes outside the range\n",
    "        x_min, x_max = max(x_min, -50), min(x_max, 50)\n",
    "        y_min, y_max = max(y_min, -50), min(y_max, 50)\n",
    "        z_min, z_max = max(z_min, -50), min(z_max, 50)\n",
    "\n",
    "        for x in range(x_min, x_max + 1):\n",
    "            for y in range(y_min, y_max + 1):\n",
    "                for z in range(z_min, z_max + 1):\n",
    "                    if state:\n",
    "                        reactor.add((x, y, z))\n",
    "                    else:\n",
    "                        reactor.discard((x, y, z))\n",
    "    return len(reactor)\n",
    "\n",
    "def main(file_path):\n",
    "    \"\"\"Main function to read the input file and process the instructions.\"\"\"\n",
    "    with open(file_path, 'r') as file:\n",
    "        instructions = [parse_instruction(line.strip()) for line in file]\n",
    "    return apply_instructions(instructions)\n",
    "\n",
    "# Execution\n",
    "if __name__ == \"__main__\":\n",
    "    input_file = \"input.txt\"\n",
    "    result = main(input_file)\n",
    "    print(\"Number of cubes on:\", result)"
   ]
  },
  {
   "cell_type": "code",
   "execution_count": 2,
   "id": "0854b2b2-0b4c-40be-86b9-745b470306ec",
   "metadata": {},
   "outputs": [
    {
     "name": "stdout",
     "output_type": "stream",
     "text": [
      "Total volume of 'on' cubes: 1263946820845866\n"
     ]
    }
   ],
   "source": [
    "def parse_instruction(line):\n",
    "    \"\"\"Parse a single instruction line.\"\"\"\n",
    "    state, coords = line.split(' ')\n",
    "    x_range, y_range, z_range = coords.split(',')\n",
    "    x_min, x_max = map(int, x_range[2:].split('..'))\n",
    "    y_min, y_max = map(int, y_range[2:].split('..'))\n",
    "    z_min, z_max = map(int, z_range[2:].split('..'))\n",
    "    return state == 'on', (x_min, x_max, y_min, y_max, z_min, z_max)\n",
    "\n",
    "def intersect(c1, c2):\n",
    "    \"\"\"Find the intersection of two cuboids.\"\"\"\n",
    "    x_min = max(c1[0], c2[0])\n",
    "    x_max = min(c1[1], c2[1])\n",
    "    y_min = max(c1[2], c2[2])\n",
    "    y_max = min(c1[3], c2[3])\n",
    "    z_min = max(c1[4], c2[4])\n",
    "    z_max = min(c1[5], c2[5])\n",
    "    if x_min <= x_max and y_min <= y_max and z_min <= z_max:\n",
    "        return (x_min, x_max, y_min, y_max, z_min, z_max)\n",
    "    return None\n",
    "\n",
    "def volume(cuboid):\n",
    "    \"\"\"Calculate the volume of a cuboid.\"\"\"\n",
    "    x_min, x_max, y_min, y_max, z_min, z_max = cuboid\n",
    "    return (x_max - x_min + 1) * (y_max - y_min + 1) * (z_max - z_min + 1)\n",
    "\n",
    "def reboot_reactor(instructions):\n",
    "    \"\"\"Execute reboot steps and calculate the total volume of 'on' cubes.\"\"\"\n",
    "    active_cuboids = []\n",
    "\n",
    "    for state, cuboid in instructions:\n",
    "        new_cuboids = []\n",
    "        for prev_state, prev_cuboid in active_cuboids:\n",
    "            overlap = intersect(cuboid, prev_cuboid)\n",
    "            if overlap:\n",
    "                new_cuboids.append((-prev_state, overlap))\n",
    "        if state:\n",
    "            new_cuboids.append((1, cuboid))\n",
    "        active_cuboids.extend(new_cuboids)\n",
    "\n",
    "    # Calculate total volume\n",
    "    total_volume = 0\n",
    "    for state, cuboid in active_cuboids:\n",
    "        total_volume += state * volume(cuboid)\n",
    "    return total_volume\n",
    "\n",
    "def main(file_path):\n",
    "    \"\"\"Main function to read the input file and process the instructions.\"\"\"\n",
    "    with open(file_path, 'r') as file:\n",
    "        instructions = [parse_instruction(line.strip()) for line in file]\n",
    "    return reboot_reactor(instructions)\n",
    "\n",
    "# Execution\n",
    "if __name__ == \"__main__\":\n",
    "    input_file = \"input.txt\"\n",
    "    result = main(input_file)\n",
    "    print(\"Total volume of 'on' cubes:\", result)"
   ]
  },
  {
   "cell_type": "code",
   "execution_count": null,
   "id": "afb5d4e1-4248-4acd-badf-eb8a5ad82b26",
   "metadata": {},
   "outputs": [],
   "source": []
  }
 ],
 "metadata": {
  "kernelspec": {
   "display_name": "Python 3 (ipykernel)",
   "language": "python",
   "name": "python3"
  },
  "language_info": {
   "codemirror_mode": {
    "name": "ipython",
    "version": 3
   },
   "file_extension": ".py",
   "mimetype": "text/x-python",
   "name": "python",
   "nbconvert_exporter": "python",
   "pygments_lexer": "ipython3",
   "version": "3.12.3"
  }
 },
 "nbformat": 4,
 "nbformat_minor": 5
}
