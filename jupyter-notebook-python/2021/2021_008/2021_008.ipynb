{
 "cells": [
  {
   "cell_type": "markdown",
   "id": "4ea4259a",
   "metadata": {},
   "source": [
    "# Advent of Code"
   ]
  },
  {
   "cell_type": "markdown",
   "id": "1b71ff49",
   "metadata": {},
   "source": [
    "## 2021-012-008\n",
    "## 2021 008"
   ]
  },
  {
   "cell_type": "markdown",
   "id": "cbfc7010",
   "metadata": {},
   "source": [
    "https://adventofcode.com/2021/day/8"
   ]
  },
  {
   "cell_type": "code",
   "execution_count": null,
   "id": "1ca5b76a",
   "metadata": {},
   "outputs": [],
   "source": []
  }
 ],
 "metadata": {},
 "nbformat": 4,
 "nbformat_minor": 5
}
