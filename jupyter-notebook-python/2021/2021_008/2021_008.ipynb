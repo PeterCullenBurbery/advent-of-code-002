{
 "cells": [
  {
   "cell_type": "markdown",
   "id": "4ea4259a",
   "metadata": {},
   "source": [
    "# Advent of Code"
   ]
  },
  {
   "cell_type": "markdown",
   "id": "1b71ff49",
   "metadata": {},
   "source": [
    "## 2021-012-008\n",
    "## 2021 008"
   ]
  },
  {
   "cell_type": "markdown",
   "id": "cbfc7010",
   "metadata": {},
   "source": [
    "https://adventofcode.com/2021/day/8"
   ]
  },
  {
   "cell_type": "code",
   "execution_count": 2,
   "id": "1ca5b76a",
   "metadata": {},
   "outputs": [
    {
     "data": {
      "text/plain": [
       "367"
      ]
     },
     "execution_count": 2,
     "metadata": {},
     "output_type": "execute_result"
    }
   ],
   "source": [
    "# Re-reading the input file and re-processing after reset\n",
    "file_path = 'input.txt'\n",
    "\n",
    "# Parse the input\n",
    "with open(file_path, 'r') as file:\n",
    "    data = file.readlines()\n",
    "\n",
    "# Initialize counters for digits with unique segment counts\n",
    "unique_segment_counts = {2, 4, 3, 7}  # Segments for digits 1, 4, 7, 8\n",
    "count = 0\n",
    "\n",
    "# Process each line to count unique segment appearances\n",
    "for line in data:\n",
    "    patterns, output_values = line.strip().split(\" | \")\n",
    "    outputs = output_values.split()\n",
    "    # Count if the length of output matches any in unique_segment_counts\n",
    "    count += sum(1 for value in outputs if len(value) in unique_segment_counts)\n",
    "\n",
    "count"
   ]
  },
  {
   "cell_type": "code",
   "execution_count": 5,
   "id": "1b9b3077-7ccc-40e5-8ba7-513b85a7881c",
   "metadata": {},
   "outputs": [
    {
     "data": {
      "text/plain": [
       "367"
      ]
     },
     "execution_count": 5,
     "metadata": {},
     "output_type": "execute_result"
    }
   ],
   "source": [
    "# Read the provided input file and process the data to count the unique segment lengths.\n",
    "file_path = 'input.txt'\n",
    "\n",
    "# Define the unique segment lengths for digits 1, 4, 7, and 8\n",
    "unique_segment_lengths = {2, 4, 3, 7}\n",
    "\n",
    "# Initialize a counter for the unique digits in the output values\n",
    "unique_digit_count = 0\n",
    "\n",
    "# Read and parse the file\n",
    "with open(file_path, 'r') as file:\n",
    "    for line in file:\n",
    "        # Extract the output values part after the '|'\n",
    "        output_values = line.strip().split('|')[1].strip().split()\n",
    "        # Count digits with unique segment lengths\n",
    "        unique_digit_count += sum(1 for value in output_values if len(value) in unique_segment_lengths)\n",
    "\n",
    "unique_digit_count"
   ]
  },
  {
   "cell_type": "code",
   "execution_count": 6,
   "id": "de0886ca-7d2b-479c-9e2b-a93488e0664a",
   "metadata": {},
   "outputs": [
    {
     "data": {
      "text/plain": [
       "974512"
      ]
     },
     "execution_count": 6,
     "metadata": {},
     "output_type": "execute_result"
    }
   ],
   "source": [
    "from collections import defaultdict\n",
    "\n",
    "# Helper function to decode the signals based on their unique patterns\n",
    "def decode_signals(signal_patterns, output_values):\n",
    "    # Sort each pattern alphabetically for consistent comparison\n",
    "    sorted_patterns = [''.join(sorted(pattern)) for pattern in signal_patterns]\n",
    "    sorted_outputs = [''.join(sorted(output)) for output in output_values]\n",
    "\n",
    "    # Map patterns to digits\n",
    "    digit_to_pattern = {}\n",
    "    pattern_to_digit = {}\n",
    "\n",
    "    # Identify unique patterns by length\n",
    "    for pattern in sorted_patterns:\n",
    "        if len(pattern) == 2:  # Digit 1\n",
    "            digit_to_pattern[1] = pattern\n",
    "            pattern_to_digit[pattern] = 1\n",
    "        elif len(pattern) == 4:  # Digit 4\n",
    "            digit_to_pattern[4] = pattern\n",
    "            pattern_to_digit[pattern] = 4\n",
    "        elif len(pattern) == 3:  # Digit 7\n",
    "            digit_to_pattern[7] = pattern\n",
    "            pattern_to_digit[pattern] = 7\n",
    "        elif len(pattern) == 7:  # Digit 8\n",
    "            digit_to_pattern[8] = pattern\n",
    "            pattern_to_digit[pattern] = 8\n",
    "\n",
    "    # Use the known digits to deduce the rest\n",
    "    for pattern in sorted_patterns:\n",
    "        pattern_set = set(pattern)\n",
    "        if len(pattern) == 6:  # Digits 0, 6, or 9\n",
    "            if set(digit_to_pattern[4]).issubset(pattern_set):\n",
    "                pattern_to_digit[pattern] = 9\n",
    "            elif set(digit_to_pattern[7]).issubset(pattern_set):\n",
    "                pattern_to_digit[pattern] = 0\n",
    "            else:\n",
    "                pattern_to_digit[pattern] = 6\n",
    "        elif len(pattern) == 5:  # Digits 2, 3, or 5\n",
    "            if set(digit_to_pattern[7]).issubset(pattern_set):\n",
    "                pattern_to_digit[pattern] = 3\n",
    "            elif len(set(digit_to_pattern[4]) & pattern_set) == 3:\n",
    "                pattern_to_digit[pattern] = 5\n",
    "            else:\n",
    "                pattern_to_digit[pattern] = 2\n",
    "\n",
    "    # Decode the output values using the mapping\n",
    "    decoded_output = int(''.join(str(pattern_to_digit[output]) for output in sorted_outputs))\n",
    "    return decoded_output\n",
    "\n",
    "# Process the input file and calculate the sum of all decoded outputs\n",
    "total_sum = 0\n",
    "\n",
    "with open(file_path, 'r') as file:\n",
    "    for line in file:\n",
    "        signal_part, output_part = line.strip().split('|')\n",
    "        signal_patterns = signal_part.strip().split()\n",
    "        output_values = output_part.strip().split()\n",
    "        total_sum += decode_signals(signal_patterns, output_values)\n",
    "\n",
    "total_sum"
   ]
  },
  {
   "cell_type": "code",
   "execution_count": null,
   "id": "5cacdf60-ce61-477a-a079-1ec1d8a107ee",
   "metadata": {},
   "outputs": [],
   "source": []
  }
 ],
 "metadata": {
  "kernelspec": {
   "display_name": "Python 3 (ipykernel)",
   "language": "python",
   "name": "python3"
  },
  "language_info": {
   "codemirror_mode": {
    "name": "ipython",
    "version": 3
   },
   "file_extension": ".py",
   "mimetype": "text/x-python",
   "name": "python",
   "nbconvert_exporter": "python",
   "pygments_lexer": "ipython3",
   "version": "3.12.3"
  }
 },
 "nbformat": 4,
 "nbformat_minor": 5
}
