{
 "cells": [
  {
   "cell_type": "markdown",
   "id": "b7b996e0",
   "metadata": {},
   "source": [
    "# Advent of Code"
   ]
  },
  {
   "cell_type": "markdown",
   "id": "7be04a53",
   "metadata": {},
   "source": [
    "## 2021-012-010\n",
    "## 2021 010"
   ]
  },
  {
   "cell_type": "markdown",
   "id": "65b7f69d",
   "metadata": {},
   "source": [
    "https://adventofcode.com/2021/day/10"
   ]
  },
  {
   "cell_type": "code",
   "execution_count": 2,
   "id": "e0216df8",
   "metadata": {},
   "outputs": [
    {
     "data": {
      "text/plain": [
       "469755"
      ]
     },
     "execution_count": 2,
     "metadata": {},
     "output_type": "execute_result"
    }
   ],
   "source": [
    "# Define the scoring table for syntax errors\n",
    "syntax_error_scores = {\n",
    "    ')': 3,\n",
    "    ']': 57,\n",
    "    '}': 1197,\n",
    "    '>': 25137\n",
    "}\n",
    "\n",
    "# Define matching pairs of brackets\n",
    "matching_brackets = {\n",
    "    ')': '(',\n",
    "    ']': '[',\n",
    "    '}': '{',\n",
    "    '>': '<'\n",
    "}\n",
    "\n",
    "# Read the input file\n",
    "input_file_path = 'input.txt'\n",
    "\n",
    "# Calculate the total syntax error score\n",
    "total_syntax_error_score = 0\n",
    "\n",
    "with open(input_file_path, 'r') as file:\n",
    "    for line in file:\n",
    "        stack = []\n",
    "        for char in line.strip():\n",
    "            if char in matching_brackets.values():  # Opening brackets\n",
    "                stack.append(char)\n",
    "            elif char in matching_brackets:  # Closing brackets\n",
    "                if stack and stack[-1] == matching_brackets[char]:\n",
    "                    stack.pop()  # Correct matching pair\n",
    "                else:\n",
    "                    total_syntax_error_score += syntax_error_scores[char]  # Incorrect closing bracket\n",
    "                    break  # Stop at the first syntax error in the line\n",
    "\n",
    "total_syntax_error_score"
   ]
  },
  {
   "cell_type": "code",
   "execution_count": 3,
   "id": "2c134ab4-d502-40c6-a109-eeab45b396a9",
   "metadata": {},
   "outputs": [
    {
     "data": {
      "text/plain": [
       "2762335572"
      ]
     },
     "execution_count": 3,
     "metadata": {},
     "output_type": "execute_result"
    }
   ],
   "source": [
    "# Define the scoring table for autocomplete\n",
    "autocomplete_scores = {\n",
    "    ')': 1,\n",
    "    ']': 2,\n",
    "    '}': 3,\n",
    "    '>': 4\n",
    "}\n",
    "\n",
    "# Function to calculate autocomplete score for a single line\n",
    "def calculate_autocomplete_score(completion_string):\n",
    "    score = 0\n",
    "    for char in completion_string:\n",
    "        score = score * 5 + autocomplete_scores[char]\n",
    "    return score\n",
    "\n",
    "# Define reverse matching brackets\n",
    "reverse_matching_brackets = {v: k for k, v in matching_brackets.items()}\n",
    "\n",
    "# Calculate autocomplete scores for incomplete lines\n",
    "autocomplete_score_list = []\n",
    "\n",
    "with open(input_file_path, 'r') as file:\n",
    "    for line in file:\n",
    "        stack = []\n",
    "        corrupted = False\n",
    "        for char in line.strip():\n",
    "            if char in matching_brackets.values():  # Opening brackets\n",
    "                stack.append(char)\n",
    "            elif char in matching_brackets:  # Closing brackets\n",
    "                if stack and stack[-1] == matching_brackets[char]:\n",
    "                    stack.pop()  # Correct matching pair\n",
    "                else:\n",
    "                    corrupted = True  # Corrupted line\n",
    "                    break\n",
    "        \n",
    "        if not corrupted and stack:  # Incomplete line\n",
    "            # Generate the completion string\n",
    "            completion_string = ''.join(reverse_matching_brackets[char] for char in reversed(stack))\n",
    "            # Calculate and store the score\n",
    "            autocomplete_score_list.append(calculate_autocomplete_score(completion_string))\n",
    "\n",
    "# Find the middle score\n",
    "autocomplete_score_list.sort()\n",
    "middle_score = autocomplete_score_list[len(autocomplete_score_list) // 2]\n",
    "\n",
    "middle_score"
   ]
  },
  {
   "cell_type": "code",
   "execution_count": null,
   "id": "2c1eec68-bcad-4f63-9d14-4d93420f33a6",
   "metadata": {},
   "outputs": [],
   "source": []
  }
 ],
 "metadata": {
  "kernelspec": {
   "display_name": "Python 3 (ipykernel)",
   "language": "python",
   "name": "python3"
  },
  "language_info": {
   "codemirror_mode": {
    "name": "ipython",
    "version": 3
   },
   "file_extension": ".py",
   "mimetype": "text/x-python",
   "name": "python",
   "nbconvert_exporter": "python",
   "pygments_lexer": "ipython3",
   "version": "3.12.3"
  }
 },
 "nbformat": 4,
 "nbformat_minor": 5
}
