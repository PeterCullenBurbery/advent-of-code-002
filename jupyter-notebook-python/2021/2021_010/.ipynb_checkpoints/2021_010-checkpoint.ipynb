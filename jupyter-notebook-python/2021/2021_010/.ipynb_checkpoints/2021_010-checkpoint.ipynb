{
 "cells": [
  {
   "cell_type": "markdown",
   "id": "b7b996e0",
   "metadata": {},
   "source": [
    "# Advent of Code"
   ]
  },
  {
   "cell_type": "markdown",
   "id": "7be04a53",
   "metadata": {},
   "source": [
    "## 2021-012-010\n",
    "## 2021 010"
   ]
  },
  {
   "cell_type": "markdown",
   "id": "65b7f69d",
   "metadata": {},
   "source": [
    "https://adventofcode.com/2021/day/10"
   ]
  },
  {
   "cell_type": "code",
   "execution_count": null,
   "id": "e0216df8",
   "metadata": {},
   "outputs": [],
   "source": []
  }
 ],
 "metadata": {},
 "nbformat": 4,
 "nbformat_minor": 5
}
