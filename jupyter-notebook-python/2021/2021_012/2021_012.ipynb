{
 "cells": [
  {
   "cell_type": "markdown",
   "id": "7ce46774",
   "metadata": {},
   "source": [
    "# Advent of Code"
   ]
  },
  {
   "cell_type": "markdown",
   "id": "1cb4e21b",
   "metadata": {},
   "source": [
    "## 2021-012-012\n",
    "## 2021 012"
   ]
  },
  {
   "cell_type": "markdown",
   "id": "276fc990",
   "metadata": {},
   "source": [
    "https://adventofcode.com/2021/day/12"
   ]
  },
  {
   "cell_type": "code",
   "execution_count": null,
   "id": "64a09638",
   "metadata": {},
   "outputs": [],
   "source": []
  }
 ],
 "metadata": {},
 "nbformat": 4,
 "nbformat_minor": 5
}
