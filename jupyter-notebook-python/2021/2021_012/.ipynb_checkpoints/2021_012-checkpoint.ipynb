{
 "cells": [
  {
   "cell_type": "markdown",
   "id": "7ce46774",
   "metadata": {},
   "source": [
    "# Advent of Code"
   ]
  },
  {
   "cell_type": "markdown",
   "id": "1cb4e21b",
   "metadata": {},
   "source": [
    "## 2021-012-012\n",
    "## 2021 012"
   ]
  },
  {
   "cell_type": "markdown",
   "id": "276fc990",
   "metadata": {},
   "source": [
    "https://adventofcode.com/2021/day/12"
   ]
  },
  {
   "cell_type": "code",
   "execution_count": 2,
   "id": "64a09638",
   "metadata": {},
   "outputs": [
    {
     "name": "stdout",
     "output_type": "stream",
     "text": [
      "4338\n"
     ]
    }
   ],
   "source": [
    "from collections import defaultdict\n",
    "\n",
    "# Load the cave connections from the input file\n",
    "cave_file_path = 'input.txt'\n",
    "connections = []\n",
    "\n",
    "with open(cave_file_path, 'r') as file:\n",
    "    for line in file:\n",
    "        connections.append(line.strip().split('-'))\n",
    "\n",
    "# Build the graph from the connections\n",
    "graph = defaultdict(list)\n",
    "for a, b in connections:\n",
    "    graph[a].append(b)\n",
    "    graph[b].append(a)\n",
    "\n",
    "# Helper function to perform a depth-first search (DFS)\n",
    "def count_paths(current, visited):\n",
    "    if current == 'end':  # Reached the end of a path\n",
    "        return 1\n",
    "    if current.islower() and visited[current]:  # Small cave already visited\n",
    "        return 0\n",
    "\n",
    "    # Mark current cave as visited\n",
    "    visited[current] += 1\n",
    "    paths = 0\n",
    "    for neighbor in graph[current]:\n",
    "        paths += count_paths(neighbor, visited)\n",
    "    # Backtrack: unmark current cave\n",
    "    visited[current] -= 1\n",
    "\n",
    "    return paths\n",
    "\n",
    "# Initialize the visited dictionary\n",
    "visited = defaultdict(int)\n",
    "\n",
    "# Calculate the total paths starting from 'start'\n",
    "total_paths = count_paths('start', visited)\n",
    "print(total_paths)"
   ]
  },
  {
   "cell_type": "code",
   "execution_count": 3,
   "id": "764ed901-9232-4ab4-ab72-b1468a6cb9b9",
   "metadata": {},
   "outputs": [
    {
     "data": {
      "text/plain": [
       "114189"
      ]
     },
     "execution_count": 3,
     "metadata": {},
     "output_type": "execute_result"
    }
   ],
   "source": [
    "# Helper function for DFS with the new rules\n",
    "def count_paths_with_twice_rule(current, visited, small_cave_twice):\n",
    "    if current == 'end':  # Base case: reached the end\n",
    "        return 1\n",
    "    if current == 'start' and visited[current] > 0:  # Cannot revisit 'start'\n",
    "        return 0\n",
    "\n",
    "    paths = 0\n",
    "    if current.islower():  # For small caves\n",
    "        if visited[current] > 0:\n",
    "            if small_cave_twice or visited[current] > 1:  # Already used the twice rule\n",
    "                return 0\n",
    "            small_cave_twice = True\n",
    "\n",
    "    # Mark current cave as visited\n",
    "    visited[current] += 1\n",
    "    for neighbor in graph[current]:\n",
    "        paths += count_paths_with_twice_rule(neighbor, visited, small_cave_twice)\n",
    "    # Backtrack: unmark current cave\n",
    "    visited[current] -= 1\n",
    "\n",
    "    return paths\n",
    "\n",
    "# Recalculate the total paths with the new rules\n",
    "visited = defaultdict(int)\n",
    "total_paths_with_twice_rule = count_paths_with_twice_rule('start', visited, False)\n",
    "total_paths_with_twice_rule"
   ]
  },
  {
   "cell_type": "code",
   "execution_count": null,
   "id": "170eb06d-2c3e-4b3f-bb81-c2ad6d1a18bb",
   "metadata": {},
   "outputs": [],
   "source": []
  }
 ],
 "metadata": {
  "kernelspec": {
   "display_name": "Python 3 (ipykernel)",
   "language": "python",
   "name": "python3"
  },
  "language_info": {
   "codemirror_mode": {
    "name": "ipython",
    "version": 3
   },
   "file_extension": ".py",
   "mimetype": "text/x-python",
   "name": "python",
   "nbconvert_exporter": "python",
   "pygments_lexer": "ipython3",
   "version": "3.12.3"
  }
 },
 "nbformat": 4,
 "nbformat_minor": 5
}
