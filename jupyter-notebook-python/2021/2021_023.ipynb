{
 "cells": [
  {
   "cell_type": "markdown",
   "id": "1b82ff2d",
   "metadata": {},
   "source": [
    "# Advent of Code"
   ]
  },
  {
   "cell_type": "markdown",
   "id": "a00bff0c",
   "metadata": {},
   "source": [
    "## 2021-012-023\n",
    "## 2021 023"
   ]
  },
  {
   "cell_type": "markdown",
   "id": "f8ad9706",
   "metadata": {},
   "source": [
    "https://adventofcode.com/2021/day/23"
   ]
  },
  {
   "cell_type": "code",
   "execution_count": null,
   "id": "dafc22e1",
   "metadata": {},
   "outputs": [],
   "source": []
  }
 ],
 "metadata": {
  "kernelspec": {
   "display_name": "Python 3 (ipykernel)",
   "language": "python",
   "name": "python3"
  },
  "language_info": {
   "name": "python",
   "version": "3.12.3"
  }
 },
 "nbformat": 4,
 "nbformat_minor": 5
}
