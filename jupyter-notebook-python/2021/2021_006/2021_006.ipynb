{
 "cells": [
  {
   "cell_type": "markdown",
   "id": "f2543465",
   "metadata": {},
   "source": [
    "# Advent of Code"
   ]
  },
  {
   "cell_type": "markdown",
   "id": "f08eba15",
   "metadata": {},
   "source": [
    "## 2021-012-006\n",
    "## 2021 006"
   ]
  },
  {
   "cell_type": "markdown",
   "id": "d638aa03",
   "metadata": {},
   "source": [
    "https://adventofcode.com/2021/day/6"
   ]
  },
  {
   "cell_type": "code",
   "execution_count": 2,
   "id": "57277f19",
   "metadata": {},
   "outputs": [
    {
     "data": {
      "text/plain": [
       "345793"
      ]
     },
     "execution_count": 2,
     "metadata": {},
     "output_type": "execute_result"
    }
   ],
   "source": [
    "def simulate_lanternfish_growth(file_path, days):\n",
    "    \"\"\"Simulate lanternfish population growth over the given number of days.\"\"\"\n",
    "    # Parse input\n",
    "    with open(file_path, 'r') as f:\n",
    "        timers = list(map(int, f.read().strip().split(',')))\n",
    "\n",
    "    # Initialize frequency array for timers (0 to 8)\n",
    "    fish_counts = [0] * 9\n",
    "    for timer in timers:\n",
    "        fish_counts[timer] += 1\n",
    "\n",
    "    # Simulate growth over the given number of days\n",
    "    for _ in range(days):\n",
    "        new_fish = fish_counts[0]  # Fish with timer 0 will spawn new fish\n",
    "        # Shift all fish timers down by 1\n",
    "        fish_counts = fish_counts[1:] + [new_fish]\n",
    "        # Reset fish with timer 0 to timer 6\n",
    "        fish_counts[6] += new_fish\n",
    "\n",
    "    # Total population is the sum of all counts\n",
    "    return sum(fish_counts)\n",
    "input_file = 'input.txt'\n",
    "# Simulate for 80 days\n",
    "lanternfish_count_80_days = simulate_lanternfish_growth(input_file, 80)\n",
    "\n",
    "lanternfish_count_80_days"
   ]
  },
  {
   "cell_type": "code",
   "execution_count": 3,
   "id": "bbacbb29-8ab2-4932-9106-48360460a76c",
   "metadata": {},
   "outputs": [
    {
     "data": {
      "text/plain": [
       "1572643095893"
      ]
     },
     "execution_count": 3,
     "metadata": {},
     "output_type": "execute_result"
    }
   ],
   "source": [
    "# Simulate for 256 days\n",
    "lanternfish_count_256_days = simulate_lanternfish_growth(input_file, 256)\n",
    "\n",
    "lanternfish_count_256_days"
   ]
  },
  {
   "cell_type": "code",
   "execution_count": null,
   "id": "31e9a5ae-5720-40ab-84fa-a30b116080fa",
   "metadata": {},
   "outputs": [],
   "source": []
  }
 ],
 "metadata": {
  "kernelspec": {
   "display_name": "Python 3 (ipykernel)",
   "language": "python",
   "name": "python3"
  },
  "language_info": {
   "codemirror_mode": {
    "name": "ipython",
    "version": 3
   },
   "file_extension": ".py",
   "mimetype": "text/x-python",
   "name": "python",
   "nbconvert_exporter": "python",
   "pygments_lexer": "ipython3",
   "version": "3.12.3"
  }
 },
 "nbformat": 4,
 "nbformat_minor": 5
}
