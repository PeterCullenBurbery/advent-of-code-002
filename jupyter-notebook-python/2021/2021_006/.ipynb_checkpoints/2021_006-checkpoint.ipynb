{
 "cells": [
  {
   "cell_type": "markdown",
   "id": "f2543465",
   "metadata": {},
   "source": [
    "# Advent of Code"
   ]
  },
  {
   "cell_type": "markdown",
   "id": "f08eba15",
   "metadata": {},
   "source": [
    "## 2021-012-006\n",
    "## 2021 006"
   ]
  },
  {
   "cell_type": "markdown",
   "id": "d638aa03",
   "metadata": {},
   "source": [
    "https://adventofcode.com/2021/day/6"
   ]
  },
  {
   "cell_type": "code",
   "execution_count": null,
   "id": "57277f19",
   "metadata": {},
   "outputs": [],
   "source": []
  }
 ],
 "metadata": {},
 "nbformat": 4,
 "nbformat_minor": 5
}
