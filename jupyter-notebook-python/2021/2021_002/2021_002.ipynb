{
 "cells": [
  {
   "cell_type": "markdown",
   "id": "e5bd85dd",
   "metadata": {},
   "source": [
    "# Advent of Code"
   ]
  },
  {
   "cell_type": "markdown",
   "id": "a36cfd23",
   "metadata": {},
   "source": [
    "## 2021-012-002\n",
    "## 2021 002"
   ]
  },
  {
   "cell_type": "markdown",
   "id": "3e710554",
   "metadata": {},
   "source": [
    "https://adventofcode.com/2021/day/2"
   ]
  },
  {
   "cell_type": "code",
   "execution_count": 3,
   "id": "1484c20f",
   "metadata": {},
   "outputs": [
    {
     "data": {
      "text/plain": [
       "1855814"
      ]
     },
     "execution_count": 3,
     "metadata": {},
     "output_type": "execute_result"
    }
   ],
   "source": [
    "def calculate_position_and_depth(file_path):\n",
    "    \"\"\"Calculate the final horizontal position and depth.\"\"\"\n",
    "    horizontal = 0\n",
    "    depth = 0\n",
    "\n",
    "    # Read and process input\n",
    "    with open(file_path, 'r') as f:\n",
    "        commands = f.readlines()\n",
    "\n",
    "    # Apply each command\n",
    "    for command in commands:\n",
    "        direction, value = command.split()\n",
    "        value = int(value)\n",
    "        if direction == 'forward':\n",
    "            horizontal += value\n",
    "        elif direction == 'down':\n",
    "            depth += value\n",
    "        elif direction == 'up':\n",
    "            depth -= value\n",
    "\n",
    "    # Return the product of horizontal position and depth\n",
    "    return horizontal * depth\n",
    "input_file='input.txt'\n",
    "# Calculate the result for the uploaded input file\n",
    "result = calculate_position_and_depth(input_file)\n",
    "\n",
    "result"
   ]
  },
  {
   "cell_type": "code",
   "execution_count": 4,
   "id": "2bd2164c-80d7-4521-9210-37d31030fe68",
   "metadata": {},
   "outputs": [
    {
     "data": {
      "text/plain": [
       "1845455714"
      ]
     },
     "execution_count": 4,
     "metadata": {},
     "output_type": "execute_result"
    }
   ],
   "source": [
    "def calculate_position_depth_with_aim(file_path):\n",
    "    \"\"\"Calculate the final horizontal position and depth considering aim.\"\"\"\n",
    "    horizontal = 0\n",
    "    depth = 0\n",
    "    aim = 0\n",
    "\n",
    "    # Read and process input\n",
    "    with open(file_path, 'r') as f:\n",
    "        commands = f.readlines()\n",
    "\n",
    "    # Apply each command with the new rules\n",
    "    for command in commands:\n",
    "        direction, value = command.split()\n",
    "        value = int(value)\n",
    "        if direction == 'forward':\n",
    "            horizontal += value\n",
    "            depth += aim * value\n",
    "        elif direction == 'down':\n",
    "            aim += value\n",
    "        elif direction == 'up':\n",
    "            aim -= value\n",
    "\n",
    "    # Return the product of horizontal position and depth\n",
    "    return horizontal * depth\n",
    "\n",
    "# Calculate the result for the uploaded input file using the new rules\n",
    "result_with_aim = calculate_position_depth_with_aim(input_file)\n",
    "\n",
    "result_with_aim"
   ]
  },
  {
   "cell_type": "code",
   "execution_count": null,
   "id": "aeb19a44-3e81-4969-b241-27685fbb979b",
   "metadata": {},
   "outputs": [],
   "source": []
  }
 ],
 "metadata": {
  "kernelspec": {
   "display_name": "Python 3 (ipykernel)",
   "language": "python",
   "name": "python3"
  },
  "language_info": {
   "codemirror_mode": {
    "name": "ipython",
    "version": 3
   },
   "file_extension": ".py",
   "mimetype": "text/x-python",
   "name": "python",
   "nbconvert_exporter": "python",
   "pygments_lexer": "ipython3",
   "version": "3.12.3"
  }
 },
 "nbformat": 4,
 "nbformat_minor": 5
}
