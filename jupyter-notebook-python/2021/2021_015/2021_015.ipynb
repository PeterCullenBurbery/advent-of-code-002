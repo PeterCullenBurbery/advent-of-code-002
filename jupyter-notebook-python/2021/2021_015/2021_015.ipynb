{
 "cells": [
  {
   "cell_type": "markdown",
   "id": "3bf68ad0",
   "metadata": {},
   "source": [
    "# Advent of Code"
   ]
  },
  {
   "cell_type": "markdown",
   "id": "b3ea6728",
   "metadata": {},
   "source": [
    "## 2021-012-015\n",
    "## 2021 015"
   ]
  },
  {
   "cell_type": "markdown",
   "id": "4805e947",
   "metadata": {},
   "source": [
    "https://adventofcode.com/2021/day/15"
   ]
  },
  {
   "cell_type": "code",
   "execution_count": 2,
   "id": "9d0eb215",
   "metadata": {},
   "outputs": [
    {
     "data": {
      "text/plain": [
       "811"
      ]
     },
     "execution_count": 2,
     "metadata": {},
     "output_type": "execute_result"
    }
   ],
   "source": [
    "import heapq\n",
    "\n",
    "# Read the input file and parse the risk levels into a grid\n",
    "with open('input.txt', 'r') as file:\n",
    "    risk_grid = [list(map(int, line.strip())) for line in file]\n",
    "\n",
    "# Define the directions for moving in the grid\n",
    "directions = [(0, 1), (1, 0), (0, -1), (-1, 0)]\n",
    "\n",
    "# Get the dimensions of the grid\n",
    "rows, cols = len(risk_grid), len(risk_grid[0])\n",
    "\n",
    "# Use Dijkstra's algorithm to find the lowest total risk\n",
    "def find_lowest_risk(grid):\n",
    "    # Priority queue for Dijkstra's algorithm\n",
    "    pq = [(0, 0, 0)]  # (total risk, row, col)\n",
    "    visited = set()\n",
    "    while pq:\n",
    "        risk, r, c = heapq.heappop(pq)\n",
    "        # If we reach the bottom-right corner, return the risk\n",
    "        if (r, c) == (rows - 1, cols - 1):\n",
    "            return risk\n",
    "        if (r, c) in visited:\n",
    "            continue\n",
    "        visited.add((r, c))\n",
    "        # Explore neighbors\n",
    "        for dr, dc in directions:\n",
    "            nr, nc = r + dr, c + dc\n",
    "            if 0 <= nr < rows and 0 <= nc < cols and (nr, nc) not in visited:\n",
    "                heapq.heappush(pq, (risk + grid[nr][nc], nr, nc))\n",
    "\n",
    "# Calculate the lowest risk path\n",
    "lowest_risk = find_lowest_risk(risk_grid)\n",
    "lowest_risk"
   ]
  },
  {
   "cell_type": "code",
   "execution_count": 3,
   "id": "567a2775-b156-4f8d-8159-5048c6c49a04",
   "metadata": {},
   "outputs": [
    {
     "name": "stdout",
     "output_type": "stream",
     "text": [
      "The lowest total risk on the expanded grid is: 3012\n"
     ]
    }
   ],
   "source": [
    "import heapq\n",
    "from collections import defaultdict\n",
    "\n",
    "# Function to read the risk grid from the input file\n",
    "def read_risk_grid(file_path):\n",
    "    with open(file_path, 'r') as file:\n",
    "        return [list(map(int, line.strip())) for line in file]\n",
    "\n",
    "# Function to expand the grid to a 5x5 map\n",
    "def expand_grid(grid):\n",
    "    rows, cols = len(grid), len(grid[0])\n",
    "    expanded_grid = [[0] * (cols * 5) for _ in range(rows * 5)]\n",
    "    for r in range(rows * 5):\n",
    "        for c in range(cols * 5):\n",
    "            original_value = grid[r % rows][c % cols]\n",
    "            added_risk = (r // rows) + (c // cols)\n",
    "            expanded_grid[r][c] = (original_value + added_risk - 1) % 9 + 1\n",
    "    return expanded_grid\n",
    "\n",
    "# Function to find the lowest risk path using Dijkstra's algorithm\n",
    "def find_lowest_risk(grid):\n",
    "    rows, cols = len(grid), len(grid[0])\n",
    "    pq = [(0, 0, 0)]  # (total risk, row, col)\n",
    "    visited = set()\n",
    "    directions = [(0, 1), (1, 0), (0, -1), (-1, 0)]  # Right, down, left, up\n",
    "\n",
    "    while pq:\n",
    "        risk, r, c = heapq.heappop(pq)\n",
    "        if (r, c) == (rows - 1, cols - 1):  # Destination reached\n",
    "            return risk\n",
    "        if (r, c) in visited:\n",
    "            continue\n",
    "        visited.add((r, c))\n",
    "        for dr, dc in directions:\n",
    "            nr, nc = r + dr, c + dc\n",
    "            if 0 <= nr < rows and 0 <= nc < cols and (nr, nc) not in visited:\n",
    "                heapq.heappush(pq, (risk + grid[nr][nc], nr, nc))\n",
    "\n",
    "# Main function to calculate the lowest risk path on the expanded map\n",
    "def main():\n",
    "    input_file = 'input.txt'  # Update the path if needed\n",
    "    risk_grid = read_risk_grid(input_file)\n",
    "    expanded_risk_grid = expand_grid(risk_grid)\n",
    "    lowest_risk = find_lowest_risk(expanded_risk_grid)\n",
    "    print(f\"The lowest total risk on the expanded grid is: {lowest_risk}\")\n",
    "\n",
    "# Run the main function\n",
    "if __name__ == \"__main__\":\n",
    "    main()"
   ]
  },
  {
   "cell_type": "code",
   "execution_count": null,
   "id": "cfa1de87-889b-40e8-a797-e1c196e63dd0",
   "metadata": {},
   "outputs": [],
   "source": []
  }
 ],
 "metadata": {
  "kernelspec": {
   "display_name": "Python 3 (ipykernel)",
   "language": "python",
   "name": "python3"
  },
  "language_info": {
   "codemirror_mode": {
    "name": "ipython",
    "version": 3
   },
   "file_extension": ".py",
   "mimetype": "text/x-python",
   "name": "python",
   "nbconvert_exporter": "python",
   "pygments_lexer": "ipython3",
   "version": "3.12.3"
  }
 },
 "nbformat": 4,
 "nbformat_minor": 5
}
