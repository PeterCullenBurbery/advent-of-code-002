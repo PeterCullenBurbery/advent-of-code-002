{
 "cells": [
  {
   "cell_type": "markdown",
   "id": "3bf68ad0",
   "metadata": {},
   "source": [
    "# Advent of Code"
   ]
  },
  {
   "cell_type": "markdown",
   "id": "b3ea6728",
   "metadata": {},
   "source": [
    "## 2021-012-015\n",
    "## 2021 015"
   ]
  },
  {
   "cell_type": "markdown",
   "id": "4805e947",
   "metadata": {},
   "source": [
    "https://adventofcode.com/2021/day/15"
   ]
  },
  {
   "cell_type": "code",
   "execution_count": null,
   "id": "9d0eb215",
   "metadata": {},
   "outputs": [],
   "source": []
  }
 ],
 "metadata": {},
 "nbformat": 4,
 "nbformat_minor": 5
}
