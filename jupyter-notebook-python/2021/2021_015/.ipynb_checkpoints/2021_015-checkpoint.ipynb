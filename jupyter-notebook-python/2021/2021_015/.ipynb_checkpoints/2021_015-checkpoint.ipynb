{
 "cells": [
  {
   "cell_type": "markdown",
   "id": "3bf68ad0",
   "metadata": {},
   "source": [
    "# Advent of Code"
   ]
  },
  {
   "cell_type": "markdown",
   "id": "b3ea6728",
   "metadata": {},
   "source": [
    "## 2021-012-015\n",
    "## 2021 015"
   ]
  },
  {
   "cell_type": "markdown",
   "id": "4805e947",
   "metadata": {},
   "source": [
    "https://adventofcode.com/2021/day/15"
   ]
  },
  {
   "cell_type": "code",
   "execution_count": 2,
   "id": "9d0eb215",
   "metadata": {},
   "outputs": [
    {
     "data": {
      "text/plain": [
       "811"
      ]
     },
     "execution_count": 2,
     "metadata": {},
     "output_type": "execute_result"
    }
   ],
   "source": [
    "import heapq\n",
    "\n",
    "# Read the input file and parse the risk levels into a grid\n",
    "with open('input.txt', 'r') as file:\n",
    "    risk_grid = [list(map(int, line.strip())) for line in file]\n",
    "\n",
    "# Define the directions for moving in the grid\n",
    "directions = [(0, 1), (1, 0), (0, -1), (-1, 0)]\n",
    "\n",
    "# Get the dimensions of the grid\n",
    "rows, cols = len(risk_grid), len(risk_grid[0])\n",
    "\n",
    "# Use Dijkstra's algorithm to find the lowest total risk\n",
    "def find_lowest_risk(grid):\n",
    "    # Priority queue for Dijkstra's algorithm\n",
    "    pq = [(0, 0, 0)]  # (total risk, row, col)\n",
    "    visited = set()\n",
    "    while pq:\n",
    "        risk, r, c = heapq.heappop(pq)\n",
    "        # If we reach the bottom-right corner, return the risk\n",
    "        if (r, c) == (rows - 1, cols - 1):\n",
    "            return risk\n",
    "        if (r, c) in visited:\n",
    "            continue\n",
    "        visited.add((r, c))\n",
    "        # Explore neighbors\n",
    "        for dr, dc in directions:\n",
    "            nr, nc = r + dr, c + dc\n",
    "            if 0 <= nr < rows and 0 <= nc < cols and (nr, nc) not in visited:\n",
    "                heapq.heappush(pq, (risk + grid[nr][nc], nr, nc))\n",
    "\n",
    "# Calculate the lowest risk path\n",
    "lowest_risk = find_lowest_risk(risk_grid)\n",
    "lowest_risk"
   ]
  },
  {
   "cell_type": "code",
   "execution_count": null,
   "id": "567a2775-b156-4f8d-8159-5048c6c49a04",
   "metadata": {},
   "outputs": [],
   "source": []
  }
 ],
 "metadata": {
  "kernelspec": {
   "display_name": "Python 3 (ipykernel)",
   "language": "python",
   "name": "python3"
  },
  "language_info": {
   "codemirror_mode": {
    "name": "ipython",
    "version": 3
   },
   "file_extension": ".py",
   "mimetype": "text/x-python",
   "name": "python",
   "nbconvert_exporter": "python",
   "pygments_lexer": "ipython3",
   "version": "3.12.3"
  }
 },
 "nbformat": 4,
 "nbformat_minor": 5
}
