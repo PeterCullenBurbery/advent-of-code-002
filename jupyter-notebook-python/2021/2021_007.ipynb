{
 "cells": [
  {
   "cell_type": "markdown",
   "id": "8d886388",
   "metadata": {},
   "source": [
    "# Advent of Code"
   ]
  },
  {
   "cell_type": "markdown",
   "id": "2627d056",
   "metadata": {},
   "source": [
    "## 2021-012-007\n",
    "## 2021 007"
   ]
  },
  {
   "cell_type": "markdown",
   "id": "acf48d4a",
   "metadata": {},
   "source": [
    "https://adventofcode.com/2021/day/7"
   ]
  },
  {
   "cell_type": "code",
   "execution_count": null,
   "id": "45df672d",
   "metadata": {},
   "outputs": [],
   "source": []
  }
 ],
 "metadata": {
  "kernelspec": {
   "display_name": "Python 3 (ipykernel)",
   "language": "python",
   "name": "python3"
  },
  "language_info": {
   "name": "python",
   "version": "3.12.3"
  }
 },
 "nbformat": 4,
 "nbformat_minor": 5
}
