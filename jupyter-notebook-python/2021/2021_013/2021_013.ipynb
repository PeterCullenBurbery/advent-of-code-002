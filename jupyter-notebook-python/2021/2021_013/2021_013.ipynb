{
 "cells": [
  {
   "cell_type": "markdown",
   "id": "b58e0915",
   "metadata": {},
   "source": [
    "# Advent of Code"
   ]
  },
  {
   "cell_type": "markdown",
   "id": "2e685d65",
   "metadata": {},
   "source": [
    "## 2021-012-013\n",
    "## 2021 013"
   ]
  },
  {
   "cell_type": "markdown",
   "id": "221b0aaf",
   "metadata": {},
   "source": [
    "https://adventofcode.com/2021/day/13"
   ]
  },
  {
   "cell_type": "code",
   "execution_count": null,
   "id": "ca35bdd1",
   "metadata": {},
   "outputs": [],
   "source": []
  }
 ],
 "metadata": {},
 "nbformat": 4,
 "nbformat_minor": 5
}
