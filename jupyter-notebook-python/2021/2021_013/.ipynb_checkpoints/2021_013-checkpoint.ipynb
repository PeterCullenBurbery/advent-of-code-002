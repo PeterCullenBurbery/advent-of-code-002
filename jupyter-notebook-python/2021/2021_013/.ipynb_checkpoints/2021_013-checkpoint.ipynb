{
 "cells": [
  {
   "cell_type": "markdown",
   "id": "b58e0915",
   "metadata": {},
   "source": [
    "# Advent of Code"
   ]
  },
  {
   "cell_type": "markdown",
   "id": "2e685d65",
   "metadata": {},
   "source": [
    "## 2021-012-013\n",
    "## 2021 013"
   ]
  },
  {
   "cell_type": "markdown",
   "id": "221b0aaf",
   "metadata": {},
   "source": [
    "https://adventofcode.com/2021/day/13"
   ]
  },
  {
   "cell_type": "code",
   "execution_count": 2,
   "id": "ca35bdd1",
   "metadata": {},
   "outputs": [
    {
     "data": {
      "text/plain": [
       "807"
      ]
     },
     "execution_count": 2,
     "metadata": {},
     "output_type": "execute_result"
    }
   ],
   "source": [
    "# Read the input file and parse the coordinates and fold instructions\n",
    "dots = set()\n",
    "folds = []\n",
    "\n",
    "with open('input.txt', 'r') as file:\n",
    "    for line in file:\n",
    "        if line.strip() == '':\n",
    "            continue  # Skip empty lines\n",
    "        if line.startswith('fold along'):\n",
    "            # Parse fold instructions\n",
    "            axis, value = line.strip().split(' ')[-1].split('=')\n",
    "            folds.append((axis, int(value)))\n",
    "        else:\n",
    "            # Parse dot coordinates\n",
    "            x, y = map(int, line.strip().split(','))\n",
    "            dots.add((x, y))\n",
    "\n",
    "# Perform the first fold\n",
    "axis, fold_line = folds[0]\n",
    "folded_dots = set()\n",
    "\n",
    "if axis == 'x':\n",
    "    for x, y in dots:\n",
    "        if x > fold_line:\n",
    "            x = fold_line - (x - fold_line)\n",
    "        folded_dots.add((x, y))\n",
    "elif axis == 'y':\n",
    "    for x, y in dots:\n",
    "        if y > fold_line:\n",
    "            y = fold_line - (y - fold_line)\n",
    "        folded_dots.add((x, y))\n",
    "\n",
    "# Count the number of dots after the first fold\n",
    "visible_dots = len(folded_dots)\n",
    "visible_dots"
   ]
  },
  {
   "cell_type": "code",
   "execution_count": 3,
   "id": "18a36bd0-97c4-4932-bf1c-f58ada253ce1",
   "metadata": {},
   "outputs": [
    {
     "name": "stdout",
     "output_type": "stream",
     "text": [
      "#     ##  #  # ####  ##  #  # ####   ##\n",
      "#    #  # #  # #    #  # #  # #       #\n",
      "#    #    #### ###  #    #  # ###     #\n",
      "#    # ## #  # #    # ## #  # #       #\n",
      "#    #  # #  # #    #  # #  # #    #  #\n",
      "####  ### #  # ####  ###  ##  ####  ## \n"
     ]
    }
   ],
   "source": [
    "# Function to apply a fold to the set of dots\n",
    "def apply_fold(dots, axis, fold_line):\n",
    "    folded_dots = set()\n",
    "    if axis == 'x':\n",
    "        for x, y in dots:\n",
    "            if x > fold_line:\n",
    "                x = fold_line - (x - fold_line)\n",
    "            folded_dots.add((x, y))\n",
    "    elif axis == 'y':\n",
    "        for x, y in dots:\n",
    "            if y > fold_line:\n",
    "                y = fold_line - (y - fold_line)\n",
    "            folded_dots.add((x, y))\n",
    "    return folded_dots\n",
    "\n",
    "# Apply all folds\n",
    "for axis, fold_line in folds:\n",
    "    dots = apply_fold(dots, axis, fold_line)\n",
    "\n",
    "# Create a visual representation of the final folded paper\n",
    "max_x = max(x for x, y in dots)\n",
    "max_y = max(y for x, y in dots)\n",
    "grid = [[' ' for _ in range(max_x + 1)] for _ in range(max_y + 1)]\n",
    "\n",
    "for x, y in dots:\n",
    "    grid[y][x] = '#'\n",
    "\n",
    "# Print the code\n",
    "code = '\\n'.join(''.join(row) for row in grid)\n",
    "print(code)"
   ]
  },
  {
   "cell_type": "markdown",
   "id": "23eacaea-a0aa-45be-a4ad-d58b3e8ba9f7",
   "metadata": {},
   "source": [
    "LGHEGUEJ"
   ]
  },
  {
   "cell_type": "code",
   "execution_count": null,
   "id": "b590bb14-997e-4f7d-b199-6253fa3cfe91",
   "metadata": {},
   "outputs": [],
   "source": []
  }
 ],
 "metadata": {
  "kernelspec": {
   "display_name": "Python 3 (ipykernel)",
   "language": "python",
   "name": "python3"
  },
  "language_info": {
   "codemirror_mode": {
    "name": "ipython",
    "version": 3
   },
   "file_extension": ".py",
   "mimetype": "text/x-python",
   "name": "python",
   "nbconvert_exporter": "python",
   "pygments_lexer": "ipython3",
   "version": "3.12.3"
  }
 },
 "nbformat": 4,
 "nbformat_minor": 5
}
