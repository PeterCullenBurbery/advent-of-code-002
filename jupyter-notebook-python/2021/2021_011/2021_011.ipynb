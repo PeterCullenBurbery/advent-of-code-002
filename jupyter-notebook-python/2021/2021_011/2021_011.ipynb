{
 "cells": [
  {
   "cell_type": "markdown",
   "id": "97cc6587",
   "metadata": {},
   "source": [
    "# Advent of Code"
   ]
  },
  {
   "cell_type": "markdown",
   "id": "f7964d53",
   "metadata": {},
   "source": [
    "## 2021-012-011\n",
    "## 2021 011"
   ]
  },
  {
   "cell_type": "markdown",
   "id": "15a4a5ad",
   "metadata": {},
   "source": [
    "https://adventofcode.com/2021/day/11"
   ]
  },
  {
   "cell_type": "code",
   "execution_count": null,
   "id": "8818b4fd",
   "metadata": {},
   "outputs": [],
   "source": []
  }
 ],
 "metadata": {},
 "nbformat": 4,
 "nbformat_minor": 5
}
