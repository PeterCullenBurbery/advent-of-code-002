{
 "cells": [
  {
   "cell_type": "markdown",
   "id": "97cc6587",
   "metadata": {},
   "source": [
    "# Advent of Code"
   ]
  },
  {
   "cell_type": "markdown",
   "id": "f7964d53",
   "metadata": {},
   "source": [
    "## 2021-012-011\n",
    "## 2021 011"
   ]
  },
  {
   "cell_type": "markdown",
   "id": "15a4a5ad",
   "metadata": {},
   "source": [
    "https://adventofcode.com/2021/day/11"
   ]
  },
  {
   "cell_type": "code",
   "execution_count": 1,
   "id": "8818b4fd",
   "metadata": {},
   "outputs": [
    {
     "data": {
      "text/plain": [
       "1608"
      ]
     },
     "execution_count": 1,
     "metadata": {},
     "output_type": "execute_result"
    }
   ],
   "source": [
    "# Load the octopus energy levels into a 2D list\n",
    "octopus_file_path = 'input.txt'\n",
    "\n",
    "with open(octopus_file_path, 'r') as file:\n",
    "    energy_levels = [list(map(int, line.strip())) for line in file]\n",
    "\n",
    "# Define the number of steps to simulate\n",
    "steps = 100\n",
    "\n",
    "# Helper function to handle flashes\n",
    "def perform_flash(octopus_grid, flashed, row, col):\n",
    "    directions = [(-1, -1), (-1, 0), (-1, 1), (0, -1), (0, 1), (1, -1), (1, 0), (1, 1)]\n",
    "    for dr, dc in directions:\n",
    "        nr, nc = row + dr, col + dc\n",
    "        if 0 <= nr < len(octopus_grid) and 0 <= nc < len(octopus_grid[0]) and (nr, nc) not in flashed:\n",
    "            octopus_grid[nr][nc] += 1\n",
    "            if octopus_grid[nr][nc] > 9:\n",
    "                flashed.add((nr, nc))\n",
    "                perform_flash(octopus_grid, flashed, nr, nc)\n",
    "\n",
    "# Simulate the steps\n",
    "total_flashes = 0\n",
    "\n",
    "for _ in range(steps):\n",
    "    flashed = set()\n",
    "    # Increase energy levels by 1\n",
    "    for r in range(len(energy_levels)):\n",
    "        for c in range(len(energy_levels[0])):\n",
    "            energy_levels[r][c] += 1\n",
    "    \n",
    "    # Perform flashes\n",
    "    for r in range(len(energy_levels)):\n",
    "        for c in range(len(energy_levels[0])):\n",
    "            if energy_levels[r][c] > 9 and (r, c) not in flashed:\n",
    "                flashed.add((r, c))\n",
    "                perform_flash(energy_levels, flashed, r, c)\n",
    "    \n",
    "    # Reset flashed octopuses and count flashes\n",
    "    for r, c in flashed:\n",
    "        energy_levels[r][c] = 0\n",
    "    total_flashes += len(flashed)\n",
    "\n",
    "total_flashes"
   ]
  },
  {
   "cell_type": "code",
   "execution_count": 2,
   "id": "14c685bb-8143-40ff-8631-ac7d266bf9fa",
   "metadata": {},
   "outputs": [
    {
     "data": {
      "text/plain": [
       "114"
      ]
     },
     "execution_count": 2,
     "metadata": {},
     "output_type": "execute_result"
    }
   ],
   "source": [
    "# Function to simulate until all octopuses flash simultaneously\n",
    "def find_synchronization_step(octopus_grid):\n",
    "    step = 0\n",
    "    total_octopuses = len(octopus_grid) * len(octopus_grid[0])\n",
    "    \n",
    "    while True:\n",
    "        step += 1\n",
    "        flashed = set()\n",
    "        # Increase energy levels by 1\n",
    "        for r in range(len(octopus_grid)):\n",
    "            for c in range(len(octopus_grid[0])):\n",
    "                octopus_grid[r][c] += 1\n",
    "        \n",
    "        # Perform flashes\n",
    "        for r in range(len(octopus_grid)):\n",
    "            for c in range(len(octopus_grid[0])):\n",
    "                if octopus_grid[r][c] > 9 and (r, c) not in flashed:\n",
    "                    flashed.add((r, c))\n",
    "                    perform_flash(octopus_grid, flashed, r, c)\n",
    "        \n",
    "        # Reset flashed octopuses and count flashes\n",
    "        for r, c in flashed:\n",
    "            octopus_grid[r][c] = 0\n",
    "        \n",
    "        # Check if all octopuses flashed\n",
    "        if len(flashed) == total_octopuses:\n",
    "            return step\n",
    "\n",
    "# Find the first step when all octopuses flash simultaneously\n",
    "synchronization_step = find_synchronization_step(energy_levels)\n",
    "synchronization_step"
   ]
  },
  {
   "cell_type": "code",
   "execution_count": 3,
   "id": "b10f768a-7d7f-44bf-ab5a-07803ceb4d53",
   "metadata": {},
   "outputs": [
    {
     "data": {
      "text/plain": [
       "214"
      ]
     },
     "execution_count": 3,
     "metadata": {},
     "output_type": "execute_result"
    }
   ],
   "source": [
    "# Reload the input file to reset the energy levels\n",
    "with open(octopus_file_path, 'r') as file:\n",
    "    energy_levels = [list(map(int, line.strip())) for line in file]\n",
    "\n",
    "# Run the synchronization step calculation again with a clean state\n",
    "synchronization_step = find_synchronization_step(energy_levels)\n",
    "synchronization_step"
   ]
  },
  {
   "cell_type": "code",
   "execution_count": null,
   "id": "60bee17a-5660-4d6f-b483-cf57747ca220",
   "metadata": {},
   "outputs": [],
   "source": []
  }
 ],
 "metadata": {
  "kernelspec": {
   "display_name": "Python 3 (ipykernel)",
   "language": "python",
   "name": "python3"
  },
  "language_info": {
   "codemirror_mode": {
    "name": "ipython",
    "version": 3
   },
   "file_extension": ".py",
   "mimetype": "text/x-python",
   "name": "python",
   "nbconvert_exporter": "python",
   "pygments_lexer": "ipython3",
   "version": "3.12.3"
  }
 },
 "nbformat": 4,
 "nbformat_minor": 5
}
