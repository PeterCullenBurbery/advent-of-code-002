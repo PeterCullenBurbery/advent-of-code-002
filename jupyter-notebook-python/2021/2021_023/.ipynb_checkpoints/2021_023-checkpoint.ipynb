{
 "cells": [
  {
   "cell_type": "markdown",
   "id": "81fb8d40",
   "metadata": {},
   "source": [
    "# Advent of Code"
   ]
  },
  {
   "cell_type": "markdown",
   "id": "266f35fa",
   "metadata": {},
   "source": [
    "## 2021-012-023\n",
    "## 2021 023"
   ]
  },
  {
   "cell_type": "markdown",
   "id": "4e3bbdb0",
   "metadata": {},
   "source": [
    "https://adventofcode.com/2021/day/23"
   ]
  },
  {
   "cell_type": "code",
   "execution_count": null,
   "id": "16a9a6f4",
   "metadata": {},
   "outputs": [],
   "source": []
  }
 ],
 "metadata": {},
 "nbformat": 4,
 "nbformat_minor": 5
}
