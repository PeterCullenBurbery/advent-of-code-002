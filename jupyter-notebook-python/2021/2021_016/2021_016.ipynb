{
 "cells": [
  {
   "cell_type": "markdown",
   "id": "6d90e086",
   "metadata": {},
   "source": [
    "# Advent of Code"
   ]
  },
  {
   "cell_type": "markdown",
   "id": "1df0ec69",
   "metadata": {},
   "source": [
    "## 2021-012-016\n",
    "## 2021 016"
   ]
  },
  {
   "cell_type": "markdown",
   "id": "23fc86cc",
   "metadata": {},
   "source": [
    "https://adventofcode.com/2021/day/16"
   ]
  },
  {
   "cell_type": "code",
   "execution_count": 2,
   "id": "0afb76b3",
   "metadata": {},
   "outputs": [
    {
     "data": {
      "text/plain": [
       "965"
      ]
     },
     "execution_count": 2,
     "metadata": {},
     "output_type": "execute_result"
    }
   ],
   "source": [
    "# Read the input file\n",
    "with open('input.txt', 'r') as file:\n",
    "    hex_data = file.read().strip()\n",
    "\n",
    "# Convert hex to binary\n",
    "binary_data = bin(int(hex_data, 16))[2:].zfill(len(hex_data) * 4)\n",
    "\n",
    "# Function to parse a packet and calculate version sum\n",
    "def parse_packet(binary, index=0):\n",
    "    version_sum = 0\n",
    "    version = int(binary[index:index + 3], 2)\n",
    "    type_id = int(binary[index + 3:index + 6], 2)\n",
    "    version_sum += version\n",
    "    index += 6\n",
    "\n",
    "    if type_id == 4:  # Literal value\n",
    "        while binary[index] == '1':\n",
    "            index += 5\n",
    "        index += 5\n",
    "    else:  # Operator\n",
    "        length_type_id = int(binary[index], 2)\n",
    "        index += 1\n",
    "        if length_type_id == 0:\n",
    "            total_length = int(binary[index:index + 15], 2)\n",
    "            index += 15\n",
    "            end = index + total_length\n",
    "            while index < end:\n",
    "                sub_version_sum, index = parse_packet(binary, index)\n",
    "                version_sum += sub_version_sum\n",
    "        else:\n",
    "            num_sub_packets = int(binary[index:index + 11], 2)\n",
    "            index += 11\n",
    "            for _ in range(num_sub_packets):\n",
    "                sub_version_sum, index = parse_packet(binary, index)\n",
    "                version_sum += sub_version_sum\n",
    "\n",
    "    return version_sum, index\n",
    "\n",
    "# Parse the binary data and calculate the version sum\n",
    "version_sum, _ = parse_packet(binary_data)\n",
    "version_sum"
   ]
  },
  {
   "cell_type": "code",
   "execution_count": 3,
   "id": "8003a388-b9a2-417f-98ce-384d1832c35e",
   "metadata": {},
   "outputs": [
    {
     "data": {
      "text/plain": [
       "116672213160"
      ]
     },
     "execution_count": 3,
     "metadata": {},
     "output_type": "execute_result"
    }
   ],
   "source": [
    "# Function to parse a packet and calculate its value based on type ID\n",
    "def parse_packet_with_value(binary, index=0):\n",
    "    type_id_operations = {\n",
    "        0: sum,\n",
    "        1: lambda values: eval('*'.join(map(str, values))),\n",
    "        2: min,\n",
    "        3: max,\n",
    "        5: lambda values: int(values[0] > values[1]),\n",
    "        6: lambda values: int(values[0] < values[1]),\n",
    "        7: lambda values: int(values[0] == values[1]),\n",
    "    }\n",
    "\n",
    "    type_id = int(binary[index + 3:index + 6], 2)\n",
    "    index += 6\n",
    "\n",
    "    if type_id == 4:  # Literal value\n",
    "        value = 0\n",
    "        while binary[index] == '1':\n",
    "            value = (value << 4) | int(binary[index + 1:index + 5], 2)\n",
    "            index += 5\n",
    "        value = (value << 4) | int(binary[index + 1:index + 5], 2)\n",
    "        index += 5\n",
    "    else:  # Operator packet\n",
    "        values = []\n",
    "        length_type_id = int(binary[index], 2)\n",
    "        index += 1\n",
    "        if length_type_id == 0:\n",
    "            total_length = int(binary[index:index + 15], 2)\n",
    "            index += 15\n",
    "            end = index + total_length\n",
    "            while index < end:\n",
    "                sub_value, index = parse_packet_with_value(binary, index)\n",
    "                values.append(sub_value)\n",
    "        else:\n",
    "            num_sub_packets = int(binary[index:index + 11], 2)\n",
    "            index += 11\n",
    "            for _ in range(num_sub_packets):\n",
    "                sub_value, index = parse_packet_with_value(binary, index)\n",
    "                values.append(sub_value)\n",
    "\n",
    "        # Compute the value based on the operator\n",
    "        value = type_id_operations[type_id](values)\n",
    "\n",
    "    return value, index\n",
    "\n",
    "# Parse the binary data and calculate the value of the outermost packet\n",
    "packet_value, _ = parse_packet_with_value(binary_data)\n",
    "packet_value"
   ]
  },
  {
   "cell_type": "code",
   "execution_count": null,
   "id": "36e593c5-d706-4d7c-b792-56245744f577",
   "metadata": {},
   "outputs": [],
   "source": []
  }
 ],
 "metadata": {
  "kernelspec": {
   "display_name": "Python 3 (ipykernel)",
   "language": "python",
   "name": "python3"
  },
  "language_info": {
   "codemirror_mode": {
    "name": "ipython",
    "version": 3
   },
   "file_extension": ".py",
   "mimetype": "text/x-python",
   "name": "python",
   "nbconvert_exporter": "python",
   "pygments_lexer": "ipython3",
   "version": "3.12.3"
  }
 },
 "nbformat": 4,
 "nbformat_minor": 5
}
