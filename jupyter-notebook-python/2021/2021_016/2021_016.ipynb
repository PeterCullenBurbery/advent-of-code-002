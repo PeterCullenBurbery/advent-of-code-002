{
 "cells": [
  {
   "cell_type": "markdown",
   "id": "6d90e086",
   "metadata": {},
   "source": [
    "# Advent of Code"
   ]
  },
  {
   "cell_type": "markdown",
   "id": "1df0ec69",
   "metadata": {},
   "source": [
    "## 2021-012-016\n",
    "## 2021 016"
   ]
  },
  {
   "cell_type": "markdown",
   "id": "23fc86cc",
   "metadata": {},
   "source": [
    "https://adventofcode.com/2021/day/16"
   ]
  },
  {
   "cell_type": "code",
   "execution_count": null,
   "id": "0afb76b3",
   "metadata": {},
   "outputs": [],
   "source": []
  }
 ],
 "metadata": {},
 "nbformat": 4,
 "nbformat_minor": 5
}
