{
 "cells": [
  {
   "cell_type": "markdown",
   "id": "b5a1b899",
   "metadata": {},
   "source": [
    "# Advent of Code"
   ]
  },
  {
   "cell_type": "markdown",
   "id": "b9bb57f2",
   "metadata": {},
   "source": [
    "## 2021-012-019\n",
    "## 2021 019"
   ]
  },
  {
   "cell_type": "markdown",
   "id": "e4eec9ff",
   "metadata": {},
   "source": [
    "https://adventofcode.com/2021/day/19"
   ]
  },
  {
   "cell_type": "code",
   "execution_count": null,
   "id": "9c89835f",
   "metadata": {},
   "outputs": [],
   "source": []
  }
 ],
 "metadata": {
  "kernelspec": {
   "display_name": "Python 3 (ipykernel)",
   "language": "python",
   "name": "python3"
  },
  "language_info": {
   "name": "python",
   "version": "3.12.3"
  }
 },
 "nbformat": 4,
 "nbformat_minor": 5
}
