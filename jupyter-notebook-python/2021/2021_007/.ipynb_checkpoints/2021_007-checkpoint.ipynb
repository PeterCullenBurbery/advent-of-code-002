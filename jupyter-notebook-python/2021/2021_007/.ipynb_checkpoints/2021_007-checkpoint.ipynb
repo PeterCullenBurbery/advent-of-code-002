{
 "cells": [
  {
   "cell_type": "markdown",
   "id": "87ba7b5c",
   "metadata": {},
   "source": [
    "# Advent of Code"
   ]
  },
  {
   "cell_type": "markdown",
   "id": "1f1b7465",
   "metadata": {},
   "source": [
    "## 2021-012-007\n",
    "## 2021 007"
   ]
  },
  {
   "cell_type": "markdown",
   "id": "92b72878",
   "metadata": {},
   "source": [
    "https://adventofcode.com/2021/day/7"
   ]
  },
  {
   "cell_type": "code",
   "execution_count": null,
   "id": "cdeecb9a",
   "metadata": {},
   "outputs": [],
   "source": []
  }
 ],
 "metadata": {},
 "nbformat": 4,
 "nbformat_minor": 5
}
