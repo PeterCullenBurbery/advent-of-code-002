{
 "cells": [
  {
   "cell_type": "markdown",
   "id": "87ba7b5c",
   "metadata": {},
   "source": [
    "# Advent of Code"
   ]
  },
  {
   "cell_type": "markdown",
   "id": "1f1b7465",
   "metadata": {},
   "source": [
    "## 2021-012-007\n",
    "## 2021 007"
   ]
  },
  {
   "cell_type": "markdown",
   "id": "92b72878",
   "metadata": {},
   "source": [
    "https://adventofcode.com/2021/day/7"
   ]
  },
  {
   "cell_type": "code",
   "execution_count": 2,
   "id": "cdeecb9a",
   "metadata": {},
   "outputs": [
    {
     "data": {
      "text/plain": [
       "355764"
      ]
     },
     "execution_count": 2,
     "metadata": {},
     "output_type": "execute_result"
    }
   ],
   "source": [
    "def calculate_minimum_fuel(file_path):\n",
    "    \"\"\"Calculate the minimum fuel required to align all crabs.\"\"\"\n",
    "    # Parse input\n",
    "    with open(file_path, 'r') as f:\n",
    "        positions = list(map(int, f.read().strip().split(',')))\n",
    "\n",
    "    # Find the range of possible alignment positions\n",
    "    min_position = min(positions)\n",
    "    max_position = max(positions)\n",
    "\n",
    "    # Calculate total fuel cost for each alignment position\n",
    "    min_fuel = float('inf')\n",
    "    for target in range(min_position, max_position + 1):\n",
    "        fuel = sum(abs(pos - target) for pos in positions)\n",
    "        min_fuel = min(min_fuel, fuel)\n",
    "\n",
    "    return min_fuel\n",
    "input_file = 'input.txt'\n",
    "# Calculate the minimum fuel for the input data\n",
    "minimum_fuel = calculate_minimum_fuel(input_file)\n",
    "\n",
    "minimum_fuel"
   ]
  },
  {
   "cell_type": "code",
   "execution_count": 3,
   "id": "402c4d33-514a-4014-99a3-bc762e7d3ec4",
   "metadata": {},
   "outputs": [
    {
     "data": {
      "text/plain": [
       "99634572"
      ]
     },
     "execution_count": 3,
     "metadata": {},
     "output_type": "execute_result"
    }
   ],
   "source": [
    "def calculate_increasing_fuel(file_path):\n",
    "    \"\"\"Calculate the minimum fuel required with increasing fuel cost per step.\"\"\"\n",
    "    # Parse input\n",
    "    with open(file_path, 'r') as f:\n",
    "        positions = list(map(int, f.read().strip().split(',')))\n",
    "\n",
    "    # Find the range of possible alignment positions\n",
    "    min_position = min(positions)\n",
    "    max_position = max(positions)\n",
    "\n",
    "    # Precompute the fuel cost for moving a specific distance\n",
    "    def fuel_cost(distance):\n",
    "        return distance * (distance + 1) // 2\n",
    "\n",
    "    # Calculate total fuel cost for each alignment position\n",
    "    min_fuel = float('inf')\n",
    "    for target in range(min_position, max_position + 1):\n",
    "        fuel = sum(fuel_cost(abs(pos - target)) for pos in positions)\n",
    "        min_fuel = min(min_fuel, fuel)\n",
    "\n",
    "    return min_fuel\n",
    "\n",
    "# Calculate the minimum fuel for the input data with increasing fuel cost\n",
    "minimum_increasing_fuel = calculate_increasing_fuel(input_file)\n",
    "\n",
    "minimum_increasing_fuel"
   ]
  },
  {
   "cell_type": "code",
   "execution_count": null,
   "id": "3db37e2f-230d-45ac-9e53-2d9546ed9bf1",
   "metadata": {},
   "outputs": [],
   "source": []
  }
 ],
 "metadata": {
  "kernelspec": {
   "display_name": "Python 3 (ipykernel)",
   "language": "python",
   "name": "python3"
  },
  "language_info": {
   "codemirror_mode": {
    "name": "ipython",
    "version": 3
   },
   "file_extension": ".py",
   "mimetype": "text/x-python",
   "name": "python",
   "nbconvert_exporter": "python",
   "pygments_lexer": "ipython3",
   "version": "3.12.3"
  }
 },
 "nbformat": 4,
 "nbformat_minor": 5
}
