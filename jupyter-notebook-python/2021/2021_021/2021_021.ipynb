{
 "cells": [
  {
   "cell_type": "markdown",
   "id": "15eef0f8",
   "metadata": {},
   "source": [
    "# Advent of Code"
   ]
  },
  {
   "cell_type": "markdown",
   "id": "3b6191cb",
   "metadata": {},
   "source": [
    "## 2021-012-021\n",
    "## 2021 021"
   ]
  },
  {
   "cell_type": "markdown",
   "id": "879e0cbf",
   "metadata": {},
   "source": [
    "https://adventofcode.com/2021/day/21"
   ]
  },
  {
   "cell_type": "code",
   "execution_count": 2,
   "id": "e3dfa90d",
   "metadata": {},
   "outputs": [
    {
     "name": "stdout",
     "output_type": "stream",
     "text": [
      "Result: 597600\n"
     ]
    }
   ],
   "source": [
    "def read_input(file_path):\n",
    "    with open(file_path, 'r') as file:\n",
    "        lines = file.readlines()\n",
    "        player1_start = int(lines[0].split(\":\")[1].strip())\n",
    "        player2_start = int(lines[1].split(\":\")[1].strip())\n",
    "    return [player1_start, player2_start]\n",
    "\n",
    "def play_dirac_dice(starting_positions):\n",
    "    # Initialize player positions and scores\n",
    "    positions = starting_positions[:]\n",
    "    scores = [0, 0]\n",
    "    die_value = 1\n",
    "    rolls = 0\n",
    "\n",
    "    def roll_die():\n",
    "        nonlocal die_value, rolls\n",
    "        result = die_value\n",
    "        die_value = die_value % 100 + 1\n",
    "        rolls += 1\n",
    "        return result\n",
    "\n",
    "    def move(position, roll_total):\n",
    "        new_position = (position + roll_total - 1) % 10 + 1\n",
    "        return new_position\n",
    "\n",
    "    # Game loop\n",
    "    current_player = 0\n",
    "    while all(score < 1000 for score in scores):\n",
    "        roll_total = roll_die() + roll_die() + roll_die()\n",
    "        positions[current_player] = move(positions[current_player], roll_total)\n",
    "        scores[current_player] += positions[current_player]\n",
    "        if scores[current_player] >= 1000:\n",
    "            break\n",
    "        current_player = 1 - current_player\n",
    "\n",
    "    # Calculate result\n",
    "    losing_score = scores[1 - current_player]\n",
    "    return losing_score * rolls\n",
    "\n",
    "# Main execution\n",
    "if __name__ == \"__main__\":\n",
    "    input_file = \"input.txt\"\n",
    "    starting_positions = read_input(input_file)\n",
    "    result = play_dirac_dice(starting_positions)\n",
    "    print(\"Result:\", result)"
   ]
  },
  {
   "cell_type": "code",
   "execution_count": 3,
   "id": "530f5b5f-e567-4d99-8faa-a5b1a8fe243b",
   "metadata": {},
   "outputs": [
    {
     "name": "stdout",
     "output_type": "stream",
     "text": [
      "Player 1 wins in 634769613696613 universes\n",
      "Player 2 wins in 382487451335154 universes\n",
      "Most universes won by: Player 1\n"
     ]
    }
   ],
   "source": [
    "from collections import defaultdict\n",
    "\n",
    "def quantum_dirac_dice(starting_positions):\n",
    "    # Dirac die rolls and their frequencies (sum of 3 rolls)\n",
    "    roll_outcomes = [sum(roll) for roll in [(1,1,1), (1,1,2), (1,1,3), \n",
    "                                            (1,2,1), (1,2,2), (1,2,3),\n",
    "                                            (1,3,1), (1,3,2), (1,3,3),\n",
    "                                            (2,1,1), (2,1,2), (2,1,3),\n",
    "                                            (2,2,1), (2,2,2), (2,2,3),\n",
    "                                            (2,3,1), (2,3,2), (2,3,3),\n",
    "                                            (3,1,1), (3,1,2), (3,1,3),\n",
    "                                            (3,2,1), (3,2,2), (3,2,3),\n",
    "                                            (3,3,1), (3,3,2), (3,3,3)]]\n",
    "    roll_counts = defaultdict(int)\n",
    "    for roll in roll_outcomes:\n",
    "        roll_counts[roll] += 1\n",
    "    \n",
    "    def move(position, roll_total):\n",
    "        return (position + roll_total - 1) % 10 + 1\n",
    "\n",
    "    # Memoization cache to store results of universes from a specific state\n",
    "    memo = {}\n",
    "\n",
    "    def quantum_game(p1_pos, p2_pos, p1_score, p2_score):\n",
    "        if p1_score >= 21:\n",
    "            return (1, 0)\n",
    "        if p2_score >= 21:\n",
    "            return (0, 1)\n",
    "\n",
    "        state = (p1_pos, p2_pos, p1_score, p2_score)\n",
    "        if state in memo:\n",
    "            return memo[state]\n",
    "\n",
    "        p1_wins, p2_wins = 0, 0\n",
    "        for roll, count in roll_counts.items():\n",
    "            new_p1_pos = move(p1_pos, roll)\n",
    "            new_p1_score = p1_score + new_p1_pos\n",
    "            sub_p2_wins, sub_p1_wins = quantum_game(p2_pos, new_p1_pos, p2_score, new_p1_score)\n",
    "            p1_wins += sub_p1_wins * count\n",
    "            p2_wins += sub_p2_wins * count\n",
    "\n",
    "        memo[state] = (p1_wins, p2_wins)\n",
    "        return memo[state]\n",
    "\n",
    "    return quantum_game(starting_positions[0], starting_positions[1], 0, 0)\n",
    "\n",
    "# Main execution\n",
    "if __name__ == \"__main__\":\n",
    "    input_file = \"input.txt\"\n",
    "    starting_positions = read_input(input_file)\n",
    "    p1_wins, p2_wins = quantum_dirac_dice(starting_positions)\n",
    "    print(\"Player 1 wins in\", p1_wins, \"universes\")\n",
    "    print(\"Player 2 wins in\", p2_wins, \"universes\")\n",
    "    print(\"Most universes won by:\", \"Player 1\" if p1_wins > p2_wins else \"Player 2\")"
   ]
  },
  {
   "cell_type": "code",
   "execution_count": null,
   "id": "3a265274-5702-4899-9537-61c17dd112a0",
   "metadata": {},
   "outputs": [],
   "source": []
  }
 ],
 "metadata": {
  "kernelspec": {
   "display_name": "Python 3 (ipykernel)",
   "language": "python",
   "name": "python3"
  },
  "language_info": {
   "codemirror_mode": {
    "name": "ipython",
    "version": 3
   },
   "file_extension": ".py",
   "mimetype": "text/x-python",
   "name": "python",
   "nbconvert_exporter": "python",
   "pygments_lexer": "ipython3",
   "version": "3.12.3"
  }
 },
 "nbformat": 4,
 "nbformat_minor": 5
}
