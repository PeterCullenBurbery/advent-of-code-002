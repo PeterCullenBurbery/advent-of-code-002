{
 "cells": [
  {
   "cell_type": "markdown",
   "id": "15eef0f8",
   "metadata": {},
   "source": [
    "# Advent of Code"
   ]
  },
  {
   "cell_type": "markdown",
   "id": "3b6191cb",
   "metadata": {},
   "source": [
    "## 2021-012-021\n",
    "## 2021 021"
   ]
  },
  {
   "cell_type": "markdown",
   "id": "879e0cbf",
   "metadata": {},
   "source": [
    "https://adventofcode.com/2021/day/21"
   ]
  },
  {
   "cell_type": "code",
   "execution_count": null,
   "id": "e3dfa90d",
   "metadata": {},
   "outputs": [],
   "source": []
  }
 ],
 "metadata": {},
 "nbformat": 4,
 "nbformat_minor": 5
}
