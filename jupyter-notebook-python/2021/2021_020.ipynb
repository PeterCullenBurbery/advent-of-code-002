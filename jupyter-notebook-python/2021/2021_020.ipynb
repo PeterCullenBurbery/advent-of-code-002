{
 "cells": [
  {
   "cell_type": "markdown",
   "id": "f26801e3",
   "metadata": {},
   "source": [
    "# Advent of Code"
   ]
  },
  {
   "cell_type": "markdown",
   "id": "0afe111b",
   "metadata": {},
   "source": [
    "## 2021-012-020\n",
    "## 2021 020"
   ]
  },
  {
   "cell_type": "markdown",
   "id": "998c13a3",
   "metadata": {},
   "source": [
    "https://adventofcode.com/2021/day/20"
   ]
  },
  {
   "cell_type": "code",
   "execution_count": null,
   "id": "60e301ab",
   "metadata": {},
   "outputs": [],
   "source": []
  }
 ],
 "metadata": {
  "kernelspec": {
   "display_name": "Python 3 (ipykernel)",
   "language": "python",
   "name": "python3"
  },
  "language_info": {
   "name": "python",
   "version": "3.12.3"
  }
 },
 "nbformat": 4,
 "nbformat_minor": 5
}
