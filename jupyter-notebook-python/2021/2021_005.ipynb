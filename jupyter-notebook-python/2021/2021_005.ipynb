{
 "cells": [
  {
   "cell_type": "markdown",
   "id": "177dfaef",
   "metadata": {},
   "source": [
    "# Advent of Code"
   ]
  },
  {
   "cell_type": "markdown",
   "id": "493e04b4",
   "metadata": {},
   "source": [
    "## 2021-012-005\n",
    "## 2021 005"
   ]
  },
  {
   "cell_type": "markdown",
   "id": "249f9048",
   "metadata": {},
   "source": [
    "https://adventofcode.com/2021/day/5"
   ]
  },
  {
   "cell_type": "code",
   "execution_count": null,
   "id": "f7e48ee6",
   "metadata": {},
   "outputs": [],
   "source": []
  }
 ],
 "metadata": {
  "kernelspec": {
   "display_name": "Python 3 (ipykernel)",
   "language": "python",
   "name": "python3"
  },
  "language_info": {
   "name": "python",
   "version": "3.12.3"
  }
 },
 "nbformat": 4,
 "nbformat_minor": 5
}
