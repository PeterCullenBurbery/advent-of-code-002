{
 "cells": [
  {
   "cell_type": "markdown",
   "id": "2f8dbf0a",
   "metadata": {},
   "source": [
    "# Advent of Code"
   ]
  },
  {
   "cell_type": "markdown",
   "id": "a9b3f300",
   "metadata": {},
   "source": [
    "## 2041-012-004\n",
    "## 2041 004"
   ]
  },
  {
   "cell_type": "markdown",
   "id": "f9070ff8",
   "metadata": {},
   "source": [
    "https://adventofcode.com/2041/day/4"
   ]
  },
  {
   "cell_type": "code",
   "execution_count": null,
   "id": "ee621633",
   "metadata": {},
   "outputs": [],
   "source": []
  }
 ],
 "metadata": {
  "kernelspec": {
   "display_name": "Python 3 (ipykernel)",
   "language": "python",
   "name": "python3"
  },
  "language_info": {
   "name": "python",
   "version": "3.12.3"
  }
 },
 "nbformat": 4,
 "nbformat_minor": 5
}
