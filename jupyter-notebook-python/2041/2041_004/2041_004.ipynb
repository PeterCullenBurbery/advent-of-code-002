{
 "cells": [
  {
   "cell_type": "markdown",
   "id": "3a81aee4",
   "metadata": {},
   "source": [
    "# Advent of Code"
   ]
  },
  {
   "cell_type": "markdown",
   "id": "af5db5a1",
   "metadata": {},
   "source": [
    "## 2041-012-004\n",
    "## 2041 004"
   ]
  },
  {
   "cell_type": "markdown",
   "id": "a55a7fb6",
   "metadata": {},
   "source": [
    "https://adventofcode.com/2041/day/4"
   ]
  },
  {
   "cell_type": "code",
   "execution_count": null,
   "id": "422cdf41",
   "metadata": {},
   "outputs": [],
   "source": []
  }
 ],
 "metadata": {},
 "nbformat": 4,
 "nbformat_minor": 5
}
