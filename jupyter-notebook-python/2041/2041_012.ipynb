{
 "cells": [
  {
   "cell_type": "markdown",
   "id": "a610dfb1",
   "metadata": {},
   "source": [
    "# Advent of Code"
   ]
  },
  {
   "cell_type": "markdown",
   "id": "3e9b4725",
   "metadata": {},
   "source": [
    "## 2041-012-012\n",
    "## 2041 012"
   ]
  },
  {
   "cell_type": "markdown",
   "id": "110460d2",
   "metadata": {},
   "source": [
    "https://adventofcode.com/2041/day/12"
   ]
  },
  {
   "cell_type": "code",
   "execution_count": null,
   "id": "ae8916c1",
   "metadata": {},
   "outputs": [],
   "source": []
  }
 ],
 "metadata": {
  "kernelspec": {
   "display_name": "Python 3 (ipykernel)",
   "language": "python",
   "name": "python3"
  },
  "language_info": {
   "name": "python",
   "version": "3.12.3"
  }
 },
 "nbformat": 4,
 "nbformat_minor": 5
}
