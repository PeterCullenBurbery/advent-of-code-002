{
 "cells": [
  {
   "cell_type": "markdown",
   "id": "ad30c7e6",
   "metadata": {},
   "source": [
    "# Advent of Code"
   ]
  },
  {
   "cell_type": "markdown",
   "id": "82372018",
   "metadata": {},
   "source": [
    "## 2041-012-014\n",
    "## 2041 014"
   ]
  },
  {
   "cell_type": "markdown",
   "id": "10cec91e",
   "metadata": {},
   "source": [
    "https://adventofcode.com/2041/day/14"
   ]
  },
  {
   "cell_type": "code",
   "execution_count": null,
   "id": "9cc5a1d9",
   "metadata": {},
   "outputs": [],
   "source": []
  }
 ],
 "metadata": {},
 "nbformat": 4,
 "nbformat_minor": 5
}
