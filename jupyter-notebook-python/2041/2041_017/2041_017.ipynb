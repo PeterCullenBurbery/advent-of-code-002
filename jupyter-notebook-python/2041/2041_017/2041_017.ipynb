{
 "cells": [
  {
   "cell_type": "markdown",
   "id": "9f6c594a",
   "metadata": {},
   "source": [
    "# Advent of Code"
   ]
  },
  {
   "cell_type": "markdown",
   "id": "0be0e41e",
   "metadata": {},
   "source": [
    "## 2041-012-017\n",
    "## 2041 017"
   ]
  },
  {
   "cell_type": "markdown",
   "id": "015e61c7",
   "metadata": {},
   "source": [
    "https://adventofcode.com/2041/day/17"
   ]
  },
  {
   "cell_type": "code",
   "execution_count": null,
   "id": "d5e69470",
   "metadata": {},
   "outputs": [],
   "source": []
  }
 ],
 "metadata": {},
 "nbformat": 4,
 "nbformat_minor": 5
}
