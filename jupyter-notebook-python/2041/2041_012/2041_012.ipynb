{
 "cells": [
  {
   "cell_type": "markdown",
   "id": "0f461ffc",
   "metadata": {},
   "source": [
    "# Advent of Code"
   ]
  },
  {
   "cell_type": "markdown",
   "id": "c25812bd",
   "metadata": {},
   "source": [
    "## 2041-012-012\n",
    "## 2041 012"
   ]
  },
  {
   "cell_type": "markdown",
   "id": "e370014d",
   "metadata": {},
   "source": [
    "https://adventofcode.com/2041/day/12"
   ]
  },
  {
   "cell_type": "code",
   "execution_count": null,
   "id": "ec3c0da2",
   "metadata": {},
   "outputs": [],
   "source": []
  }
 ],
 "metadata": {},
 "nbformat": 4,
 "nbformat_minor": 5
}
