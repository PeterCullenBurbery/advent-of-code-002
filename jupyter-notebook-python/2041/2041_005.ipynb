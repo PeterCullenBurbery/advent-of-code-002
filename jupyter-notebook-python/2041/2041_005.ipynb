{
 "cells": [
  {
   "cell_type": "markdown",
   "id": "44e8c791",
   "metadata": {},
   "source": [
    "# Advent of Code"
   ]
  },
  {
   "cell_type": "markdown",
   "id": "d8819508",
   "metadata": {},
   "source": [
    "## 2041-012-005\n",
    "## 2041 005"
   ]
  },
  {
   "cell_type": "markdown",
   "id": "3a7c08df",
   "metadata": {},
   "source": [
    "https://adventofcode.com/2041/day/5"
   ]
  },
  {
   "cell_type": "code",
   "execution_count": null,
   "id": "98bd78fe",
   "metadata": {},
   "outputs": [],
   "source": []
  }
 ],
 "metadata": {
  "kernelspec": {
   "display_name": "Python 3 (ipykernel)",
   "language": "python",
   "name": "python3"
  },
  "language_info": {
   "name": "python",
   "version": "3.12.3"
  }
 },
 "nbformat": 4,
 "nbformat_minor": 5
}
