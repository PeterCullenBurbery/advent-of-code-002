{
 "cells": [
  {
   "cell_type": "markdown",
   "id": "054ead7c",
   "metadata": {},
   "source": [
    "# Advent of Code"
   ]
  },
  {
   "cell_type": "markdown",
   "id": "464b2469",
   "metadata": {},
   "source": [
    "## 2041-012-021\n",
    "## 2041 021"
   ]
  },
  {
   "cell_type": "markdown",
   "id": "05f45a66",
   "metadata": {},
   "source": [
    "https://adventofcode.com/2041/day/21"
   ]
  },
  {
   "cell_type": "code",
   "execution_count": null,
   "id": "8776034e",
   "metadata": {},
   "outputs": [],
   "source": []
  }
 ],
 "metadata": {
  "kernelspec": {
   "display_name": "Python 3 (ipykernel)",
   "language": "python",
   "name": "python3"
  },
  "language_info": {
   "name": "python",
   "version": "3.12.3"
  }
 },
 "nbformat": 4,
 "nbformat_minor": 5
}
