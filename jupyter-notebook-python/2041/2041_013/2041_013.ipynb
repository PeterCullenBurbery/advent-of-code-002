{
 "cells": [
  {
   "cell_type": "markdown",
   "id": "65401098",
   "metadata": {},
   "source": [
    "# Advent of Code"
   ]
  },
  {
   "cell_type": "markdown",
   "id": "c68c555b",
   "metadata": {},
   "source": [
    "## 2041-012-013\n",
    "## 2041 013"
   ]
  },
  {
   "cell_type": "markdown",
   "id": "46b49745",
   "metadata": {},
   "source": [
    "https://adventofcode.com/2041/day/13"
   ]
  },
  {
   "cell_type": "code",
   "execution_count": null,
   "id": "da2ea3ff",
   "metadata": {},
   "outputs": [],
   "source": []
  }
 ],
 "metadata": {},
 "nbformat": 4,
 "nbformat_minor": 5
}
