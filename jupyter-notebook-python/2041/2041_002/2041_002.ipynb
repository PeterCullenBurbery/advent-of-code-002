{
 "cells": [
  {
   "cell_type": "markdown",
   "id": "e2a02a00",
   "metadata": {},
   "source": [
    "# Advent of Code"
   ]
  },
  {
   "cell_type": "markdown",
   "id": "433c8da8",
   "metadata": {},
   "source": [
    "## 2041-012-002\n",
    "## 2041 002"
   ]
  },
  {
   "cell_type": "markdown",
   "id": "8b657785",
   "metadata": {},
   "source": [
    "https://adventofcode.com/2041/day/2"
   ]
  },
  {
   "cell_type": "code",
   "execution_count": null,
   "id": "0ebbbda4",
   "metadata": {},
   "outputs": [],
   "source": []
  }
 ],
 "metadata": {},
 "nbformat": 4,
 "nbformat_minor": 5
}
