{
 "cells": [
  {
   "cell_type": "markdown",
   "id": "2d69ab25",
   "metadata": {},
   "source": [
    "# Advent of Code"
   ]
  },
  {
   "cell_type": "markdown",
   "id": "7c5eea52",
   "metadata": {},
   "source": [
    "## 2041-012-003\n",
    "## 2041 003"
   ]
  },
  {
   "cell_type": "markdown",
   "id": "bf20987c",
   "metadata": {},
   "source": [
    "https://adventofcode.com/2041/day/3"
   ]
  },
  {
   "cell_type": "code",
   "execution_count": null,
   "id": "6337298e",
   "metadata": {},
   "outputs": [],
   "source": []
  }
 ],
 "metadata": {},
 "nbformat": 4,
 "nbformat_minor": 5
}
