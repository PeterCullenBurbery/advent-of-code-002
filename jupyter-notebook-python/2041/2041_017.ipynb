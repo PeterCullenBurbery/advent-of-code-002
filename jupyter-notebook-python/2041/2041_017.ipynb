{
 "cells": [
  {
   "cell_type": "markdown",
   "id": "6e5a20f4",
   "metadata": {},
   "source": [
    "# Advent of Code"
   ]
  },
  {
   "cell_type": "markdown",
   "id": "b0646d15",
   "metadata": {},
   "source": [
    "## 2041-012-017\n",
    "## 2041 017"
   ]
  },
  {
   "cell_type": "markdown",
   "id": "1d9bd210",
   "metadata": {},
   "source": [
    "https://adventofcode.com/2041/day/17"
   ]
  },
  {
   "cell_type": "code",
   "execution_count": null,
   "id": "3dc1a215",
   "metadata": {},
   "outputs": [],
   "source": []
  }
 ],
 "metadata": {
  "kernelspec": {
   "display_name": "Python 3 (ipykernel)",
   "language": "python",
   "name": "python3"
  },
  "language_info": {
   "name": "python",
   "version": "3.12.3"
  }
 },
 "nbformat": 4,
 "nbformat_minor": 5
}
