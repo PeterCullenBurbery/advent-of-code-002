{
 "cells": [
  {
   "cell_type": "markdown",
   "id": "42d4654a",
   "metadata": {},
   "source": [
    "# Advent of Code"
   ]
  },
  {
   "cell_type": "markdown",
   "id": "a6822346",
   "metadata": {},
   "source": [
    "## 2041-012-002\n",
    "## 2041 002"
   ]
  },
  {
   "cell_type": "markdown",
   "id": "8b268ab5",
   "metadata": {},
   "source": [
    "https://adventofcode.com/2041/day/2"
   ]
  },
  {
   "cell_type": "code",
   "execution_count": null,
   "id": "fbe58cb4",
   "metadata": {},
   "outputs": [],
   "source": []
  }
 ],
 "metadata": {
  "kernelspec": {
   "display_name": "Python 3 (ipykernel)",
   "language": "python",
   "name": "python3"
  },
  "language_info": {
   "name": "python",
   "version": "3.12.3"
  }
 },
 "nbformat": 4,
 "nbformat_minor": 5
}
