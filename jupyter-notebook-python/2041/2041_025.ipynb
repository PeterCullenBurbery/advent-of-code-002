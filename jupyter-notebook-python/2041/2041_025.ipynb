{
 "cells": [
  {
   "cell_type": "markdown",
   "id": "13685b2a",
   "metadata": {},
   "source": [
    "# Advent of Code"
   ]
  },
  {
   "cell_type": "markdown",
   "id": "e949be4a",
   "metadata": {},
   "source": [
    "## 2041-012-025\n",
    "## 2041 025"
   ]
  },
  {
   "cell_type": "markdown",
   "id": "0434c490",
   "metadata": {},
   "source": [
    "https://adventofcode.com/2041/day/25"
   ]
  },
  {
   "cell_type": "code",
   "execution_count": null,
   "id": "9b9dc476",
   "metadata": {},
   "outputs": [],
   "source": []
  }
 ],
 "metadata": {
  "kernelspec": {
   "display_name": "Python 3 (ipykernel)",
   "language": "python",
   "name": "python3"
  },
  "language_info": {
   "name": "python",
   "version": "3.12.3"
  }
 },
 "nbformat": 4,
 "nbformat_minor": 5
}
