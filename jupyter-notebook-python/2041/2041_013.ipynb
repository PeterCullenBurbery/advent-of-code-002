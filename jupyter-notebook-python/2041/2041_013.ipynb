{
 "cells": [
  {
   "cell_type": "markdown",
   "id": "c90c3d3e",
   "metadata": {},
   "source": [
    "# Advent of Code"
   ]
  },
  {
   "cell_type": "markdown",
   "id": "51a5122e",
   "metadata": {},
   "source": [
    "## 2041-012-013\n",
    "## 2041 013"
   ]
  },
  {
   "cell_type": "markdown",
   "id": "06191bf7",
   "metadata": {},
   "source": [
    "https://adventofcode.com/2041/day/13"
   ]
  },
  {
   "cell_type": "code",
   "execution_count": null,
   "id": "99a0460c",
   "metadata": {},
   "outputs": [],
   "source": []
  }
 ],
 "metadata": {
  "kernelspec": {
   "display_name": "Python 3 (ipykernel)",
   "language": "python",
   "name": "python3"
  },
  "language_info": {
   "name": "python",
   "version": "3.12.3"
  }
 },
 "nbformat": 4,
 "nbformat_minor": 5
}
