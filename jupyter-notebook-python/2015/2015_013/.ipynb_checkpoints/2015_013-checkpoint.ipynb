{
 "cells": [
  {
   "cell_type": "markdown",
   "id": "ba68af97",
   "metadata": {},
   "source": [
    "# Advent of Code"
   ]
  },
  {
   "cell_type": "markdown",
   "id": "adee9ba2",
   "metadata": {},
   "source": [
    "## 2015-012-013\n",
    "## 2015 013"
   ]
  },
  {
   "cell_type": "markdown",
   "id": "8921ac61",
   "metadata": {},
   "source": [
    "https://adventofcode.com/2015/day/13"
   ]
  },
  {
   "cell_type": "code",
   "execution_count": null,
   "id": "f9753a3a",
   "metadata": {},
   "outputs": [],
   "source": []
  }
 ],
 "metadata": {},
 "nbformat": 4,
 "nbformat_minor": 5
}
