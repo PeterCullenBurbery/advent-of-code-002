{
 "cells": [
  {
   "cell_type": "markdown",
   "id": "ba68af97",
   "metadata": {},
   "source": [
    "# Advent of Code"
   ]
  },
  {
   "cell_type": "markdown",
   "id": "adee9ba2",
   "metadata": {},
   "source": [
    "## 2015-012-013\n",
    "## 2015 013"
   ]
  },
  {
   "cell_type": "markdown",
   "id": "8921ac61",
   "metadata": {},
   "source": [
    "https://adventofcode.com/2015/day/13"
   ]
  },
  {
   "cell_type": "code",
   "execution_count": 1,
   "id": "f9753a3a",
   "metadata": {},
   "outputs": [
    {
     "name": "stdout",
     "output_type": "stream",
     "text": [
      "The optimal total happiness is: 709\n"
     ]
    }
   ],
   "source": [
    "from itertools import permutations\n",
    "\n",
    "def parse_input(filename):\n",
    "    happiness = {}\n",
    "    with open(filename, 'r') as file:\n",
    "        for line in file:\n",
    "            parts = line.strip().split()\n",
    "            person1 = parts[0]\n",
    "            person2 = parts[-1][:-1]  # Remove the trailing period\n",
    "            happiness_change = int(parts[3]) * (1 if parts[2] == \"gain\" else -1)\n",
    "            happiness[(person1, person2)] = happiness_change\n",
    "    return happiness\n",
    "\n",
    "def calculate_total_happiness(arrangement, happiness):\n",
    "    total_happiness = 0\n",
    "    for i in range(len(arrangement)):\n",
    "        person1 = arrangement[i]\n",
    "        person2 = arrangement[(i + 1) % len(arrangement)]  # Circular table\n",
    "        total_happiness += happiness.get((person1, person2), 0)\n",
    "        total_happiness += happiness.get((person2, person1), 0)\n",
    "    return total_happiness\n",
    "\n",
    "def find_optimal_happiness(happiness):\n",
    "    people = set(person for pair in happiness.keys() for person in pair)\n",
    "    max_happiness = float('-inf')\n",
    "    for arrangement in permutations(people):\n",
    "        total_happiness = calculate_total_happiness(arrangement, happiness)\n",
    "        max_happiness = max(max_happiness, total_happiness)\n",
    "    return max_happiness\n",
    "\n",
    "# Parse input and find the optimal happiness\n",
    "filename = 'input.txt'\n",
    "happiness = parse_input(filename)\n",
    "optimal_happiness = find_optimal_happiness(happiness)\n",
    "\n",
    "# Output the result\n",
    "print(f\"The optimal total happiness is: {optimal_happiness}\")\n"
   ]
  },
  {
   "cell_type": "code",
   "execution_count": 2,
   "id": "e601174e-0dd2-4ee7-96e7-672ead0ed384",
   "metadata": {},
   "outputs": [
    {
     "name": "stdout",
     "output_type": "stream",
     "text": [
      "The optimal total happiness including Yourself is: 668\n"
     ]
    }
   ],
   "source": [
    "from itertools import permutations\n",
    "\n",
    "def parse_input(filename):\n",
    "    happiness = {}\n",
    "    with open(filename, 'r') as file:\n",
    "        for line in file:\n",
    "            parts = line.strip().split()\n",
    "            person1 = parts[0]\n",
    "            person2 = parts[-1][:-1]  # Remove the trailing period\n",
    "            happiness_change = int(parts[3]) * (1 if parts[2] == \"gain\" else -1)\n",
    "            happiness[(person1, person2)] = happiness_change\n",
    "    return happiness\n",
    "\n",
    "def calculate_total_happiness(arrangement, happiness):\n",
    "    total_happiness = 0\n",
    "    for i in range(len(arrangement)):\n",
    "        person1 = arrangement[i]\n",
    "        person2 = arrangement[(i + 1) % len(arrangement)]  # Circular table\n",
    "        total_happiness += happiness.get((person1, person2), 0)\n",
    "        total_happiness += happiness.get((person2, person1), 0)\n",
    "    return total_happiness\n",
    "\n",
    "def add_yourself(happiness):\n",
    "    participants = set(person for pair in happiness.keys() for person in pair)\n",
    "    for person in participants:\n",
    "        happiness[(\"Yourself\", person)] = 0\n",
    "        happiness[(person, \"Yourself\")] = 0\n",
    "\n",
    "def find_optimal_happiness(happiness):\n",
    "    participants = set(person for pair in happiness.keys() for person in pair)\n",
    "    max_happiness = float('-inf')\n",
    "    for arrangement in permutations(participants):\n",
    "        total_happiness = calculate_total_happiness(arrangement, happiness)\n",
    "        max_happiness = max(max_happiness, total_happiness)\n",
    "    return max_happiness\n",
    "\n",
    "# Parse input and add \"Yourself\"\n",
    "filename = 'input.txt'\n",
    "happiness = parse_input(filename)\n",
    "add_yourself(happiness)\n",
    "\n",
    "# Find the optimal happiness including \"Yourself\"\n",
    "optimal_happiness = find_optimal_happiness(happiness)\n",
    "\n",
    "# Output the result\n",
    "print(f\"The optimal total happiness including Yourself is: {optimal_happiness}\")\n"
   ]
  },
  {
   "cell_type": "code",
   "execution_count": null,
   "id": "5cd9df29-adca-4fdd-8965-0f7a0083debd",
   "metadata": {},
   "outputs": [],
   "source": []
  }
 ],
 "metadata": {
  "kernelspec": {
   "display_name": "Python 3 (ipykernel)",
   "language": "python",
   "name": "python3"
  },
  "language_info": {
   "codemirror_mode": {
    "name": "ipython",
    "version": 3
   },
   "file_extension": ".py",
   "mimetype": "text/x-python",
   "name": "python",
   "nbconvert_exporter": "python",
   "pygments_lexer": "ipython3",
   "version": "3.12.3"
  }
 },
 "nbformat": 4,
 "nbformat_minor": 5
}
