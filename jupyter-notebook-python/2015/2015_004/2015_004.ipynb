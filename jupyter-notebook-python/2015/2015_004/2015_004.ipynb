{
 "cells": [
  {
   "cell_type": "markdown",
   "id": "f39e7ecb",
   "metadata": {},
   "source": [
    "# Advent of Code"
   ]
  },
  {
   "cell_type": "markdown",
   "id": "0cc65f4d",
   "metadata": {},
   "source": [
    "## 2015-012-004\n",
    "## 2015 004"
   ]
  },
  {
   "cell_type": "markdown",
   "id": "7103352a",
   "metadata": {},
   "source": [
    "https://adventofcode.com/2015/day/4"
   ]
  },
  {
   "cell_type": "code",
   "execution_count": 1,
   "id": "208381bc",
   "metadata": {},
   "outputs": [
    {
     "name": "stdout",
     "output_type": "stream",
     "text": [
      "The lowest number that produces a hash starting with five zeroes is: 346386\n"
     ]
    }
   ],
   "source": [
    "import hashlib\n",
    "\n",
    "def find_lowest_number_with_five_zeroes(secret_key):\n",
    "    number = 1  # Start from the lowest positive number\n",
    "    while True:\n",
    "        # Combine the secret key with the current number\n",
    "        combined = f\"{secret_key}{number}\"\n",
    "        \n",
    "        # Compute the MD5 hash\n",
    "        md5_hash = hashlib.md5(combined.encode()).hexdigest()\n",
    "        \n",
    "        # Check if the hash starts with five zeroes\n",
    "        if md5_hash.startswith(\"00000\"):\n",
    "            return number  # Return the number if the condition is met\n",
    "        \n",
    "        number += 1  # Increment the number for the next iteration\n",
    "\n",
    "# Input\n",
    "secret_key = \"iwrupvqb\"  # Replace with your input\n",
    "result = find_lowest_number_with_five_zeroes(secret_key)\n",
    "\n",
    "# Output the result\n",
    "print(f\"The lowest number that produces a hash starting with five zeroes is: {result}\")\n"
   ]
  },
  {
   "cell_type": "code",
   "execution_count": 2,
   "id": "37bc09d3-b88d-4e18-b24c-1b96a6eb00fc",
   "metadata": {},
   "outputs": [
    {
     "name": "stdout",
     "output_type": "stream",
     "text": [
      "The lowest number that produces a hash starting with six zeroes is: 9958218\n"
     ]
    }
   ],
   "source": [
    "import hashlib\n",
    "\n",
    "def find_lowest_number_with_six_zeroes(secret_key):\n",
    "    number = 1  # Start from the lowest positive number\n",
    "    while True:\n",
    "        # Combine the secret key with the current number\n",
    "        combined = f\"{secret_key}{number}\"\n",
    "        \n",
    "        # Compute the MD5 hash\n",
    "        md5_hash = hashlib.md5(combined.encode()).hexdigest()\n",
    "        \n",
    "        # Check if the hash starts with six zeroes\n",
    "        if md5_hash.startswith(\"000000\"):\n",
    "            return number  # Return the number if the condition is met\n",
    "        \n",
    "        number += 1  # Increment the number for the next iteration\n",
    "\n",
    "# Input\n",
    "secret_key = \"iwrupvqb\"  # Your puzzle input\n",
    "result = find_lowest_number_with_six_zeroes(secret_key)\n",
    "\n",
    "# Output the result\n",
    "print(f\"The lowest number that produces a hash starting with six zeroes is: {result}\")\n"
   ]
  },
  {
   "cell_type": "code",
   "execution_count": null,
   "id": "9c26d8e6-6857-4a95-a4de-3af2e52258ff",
   "metadata": {},
   "outputs": [],
   "source": []
  }
 ],
 "metadata": {
  "kernelspec": {
   "display_name": "Python 3 (ipykernel)",
   "language": "python",
   "name": "python3"
  },
  "language_info": {
   "codemirror_mode": {
    "name": "ipython",
    "version": 3
   },
   "file_extension": ".py",
   "mimetype": "text/x-python",
   "name": "python",
   "nbconvert_exporter": "python",
   "pygments_lexer": "ipython3",
   "version": "3.12.3"
  }
 },
 "nbformat": 4,
 "nbformat_minor": 5
}
