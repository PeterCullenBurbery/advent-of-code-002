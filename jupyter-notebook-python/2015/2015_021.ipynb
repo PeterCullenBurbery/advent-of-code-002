{
 "cells": [
  {
   "cell_type": "markdown",
   "id": "bd8ead5b",
   "metadata": {},
   "source": [
    "# Advent of Code"
   ]
  },
  {
   "cell_type": "markdown",
   "id": "7d989500",
   "metadata": {},
   "source": [
    "## 2015-012-021\n",
    "## 2015 021"
   ]
  },
  {
   "cell_type": "markdown",
   "id": "cba587f3",
   "metadata": {},
   "source": [
    "https://adventofcode.com/2015/day/21"
   ]
  },
  {
   "cell_type": "code",
   "execution_count": null,
   "id": "183afb6b",
   "metadata": {},
   "outputs": [],
   "source": []
  }
 ],
 "metadata": {
  "kernelspec": {
   "display_name": "Python 3 (ipykernel)",
   "language": "python",
   "name": "python3"
  },
  "language_info": {
   "name": "python",
   "version": "3.12.3"
  }
 },
 "nbformat": 4,
 "nbformat_minor": 5
}
