{
 "cells": [
  {
   "cell_type": "markdown",
   "id": "cc3c01ce",
   "metadata": {},
   "source": [
    "# Advent of Code"
   ]
  },
  {
   "cell_type": "markdown",
   "id": "80c0a55d",
   "metadata": {},
   "source": [
    "## 2015-012-011\n",
    "## 2015 011"
   ]
  },
  {
   "cell_type": "markdown",
   "id": "b671fd6b",
   "metadata": {},
   "source": [
    "https://adventofcode.com/2015/day/11"
   ]
  },
  {
   "cell_type": "code",
   "execution_count": null,
   "id": "b67044d8",
   "metadata": {},
   "outputs": [],
   "source": []
  }
 ],
 "metadata": {},
 "nbformat": 4,
 "nbformat_minor": 5
}
