{
 "cells": [
  {
   "cell_type": "markdown",
   "id": "cc3c01ce",
   "metadata": {},
   "source": [
    "# Advent of Code"
   ]
  },
  {
   "cell_type": "markdown",
   "id": "80c0a55d",
   "metadata": {},
   "source": [
    "## 2015-012-011\n",
    "## 2015 011"
   ]
  },
  {
   "cell_type": "markdown",
   "id": "b671fd6b",
   "metadata": {},
   "source": [
    "https://adventofcode.com/2015/day/11"
   ]
  },
  {
   "cell_type": "code",
   "execution_count": 1,
   "id": "b67044d8",
   "metadata": {},
   "outputs": [
    {
     "name": "stdout",
     "output_type": "stream",
     "text": [
      "The next valid password is: hepxxyzz\n"
     ]
    }
   ],
   "source": [
    "def increment_password(password):\n",
    "    # Increment the password like counting in base-26\n",
    "    password = list(password)\n",
    "    for i in range(len(password) - 1, -1, -1):\n",
    "        if password[i] == 'z':\n",
    "            password[i] = 'a'\n",
    "        else:\n",
    "            password[i] = chr(ord(password[i]) + 1)\n",
    "            break\n",
    "    return ''.join(password)\n",
    "\n",
    "def has_straight(password):\n",
    "    # Check for one increasing straight of at least three letters\n",
    "    for i in range(len(password) - 2):\n",
    "        if ord(password[i]) + 1 == ord(password[i+1]) and ord(password[i]) + 2 == ord(password[i+2]):\n",
    "            return True\n",
    "    return False\n",
    "\n",
    "def no_confusing_letters(password):\n",
    "    # Ensure password does not contain 'i', 'o', or 'l'\n",
    "    return all(c not in password for c in 'iol')\n",
    "\n",
    "def has_two_pairs(password):\n",
    "    # Check for at least two different, non-overlapping pairs\n",
    "    pairs = set()\n",
    "    i = 0\n",
    "    while i < len(password) - 1:\n",
    "        if password[i] == password[i+1]:\n",
    "            pairs.add(password[i])\n",
    "            i += 1  # Skip the second character of the pair\n",
    "        i += 1\n",
    "    return len(pairs) >= 2\n",
    "\n",
    "def is_valid(password):\n",
    "    # Validate the password\n",
    "    return has_straight(password) and no_confusing_letters(password) and has_two_pairs(password)\n",
    "\n",
    "def find_next_password(password):\n",
    "    # Find the next valid password\n",
    "    while True:\n",
    "        password = increment_password(password)\n",
    "        if is_valid(password):\n",
    "            return password\n",
    "\n",
    "# Puzzle input\n",
    "current_password = \"hepxcrrq\"\n",
    "\n",
    "# Find the next valid password\n",
    "next_password = find_next_password(current_password)\n",
    "\n",
    "# Output the result\n",
    "print(f\"The next valid password is: {next_password}\")\n"
   ]
  },
  {
   "cell_type": "code",
   "execution_count": 2,
   "id": "80d380bf-63d8-4b30-842b-6a7c4e31d70b",
   "metadata": {},
   "outputs": [
    {
     "name": "stdout",
     "output_type": "stream",
     "text": [
      "The next valid password 002 is: heqaabcc\n"
     ]
    }
   ],
   "source": [
    "# Find the next valid password\n",
    "next_password_002 = find_next_password(next_password)\n",
    "\n",
    "# Output the result\n",
    "print(f\"The next valid password 002 is: {next_password_002}\")\n"
   ]
  },
  {
   "cell_type": "code",
   "execution_count": null,
   "id": "b4dee50f-b427-444e-9163-c7a8aec0916d",
   "metadata": {},
   "outputs": [],
   "source": []
  }
 ],
 "metadata": {
  "kernelspec": {
   "display_name": "Python 3 (ipykernel)",
   "language": "python",
   "name": "python3"
  },
  "language_info": {
   "codemirror_mode": {
    "name": "ipython",
    "version": 3
   },
   "file_extension": ".py",
   "mimetype": "text/x-python",
   "name": "python",
   "nbconvert_exporter": "python",
   "pygments_lexer": "ipython3",
   "version": "3.12.3"
  }
 },
 "nbformat": 4,
 "nbformat_minor": 5
}
