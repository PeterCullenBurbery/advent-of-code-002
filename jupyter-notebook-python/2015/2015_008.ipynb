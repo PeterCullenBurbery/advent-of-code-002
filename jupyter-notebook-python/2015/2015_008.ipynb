{
 "cells": [
  {
   "cell_type": "markdown",
   "id": "9f25ea1b",
   "metadata": {},
   "source": [
    "# Advent of Code"
   ]
  },
  {
   "cell_type": "markdown",
   "id": "84370d2c",
   "metadata": {},
   "source": [
    "## 2015-012-008\n",
    "## 2015 008"
   ]
  },
  {
   "cell_type": "markdown",
   "id": "74c7f077",
   "metadata": {},
   "source": [
    "https://adventofcode.com/2015/day/8"
   ]
  },
  {
   "cell_type": "code",
   "execution_count": null,
   "id": "1c174026",
   "metadata": {},
   "outputs": [],
   "source": []
  }
 ],
 "metadata": {
  "kernelspec": {
   "display_name": "Python 3 (ipykernel)",
   "language": "python",
   "name": "python3"
  },
  "language_info": {
   "name": "python",
   "version": "3.12.3"
  }
 },
 "nbformat": 4,
 "nbformat_minor": 5
}
