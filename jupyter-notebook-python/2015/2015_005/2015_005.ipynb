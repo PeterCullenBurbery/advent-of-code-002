{
 "cells": [
  {
   "cell_type": "markdown",
   "id": "efd935fb",
   "metadata": {},
   "source": [
    "# Advent of Code"
   ]
  },
  {
   "cell_type": "markdown",
   "id": "e2664dd3",
   "metadata": {},
   "source": [
    "## 2015-012-005\n",
    "## 2015 005"
   ]
  },
  {
   "cell_type": "markdown",
   "id": "8428c841",
   "metadata": {},
   "source": [
    "https://adventofcode.com/2015/day/5"
   ]
  },
  {
   "cell_type": "code",
   "execution_count": 1,
   "id": "fad568c7",
   "metadata": {},
   "outputs": [
    {
     "name": "stdout",
     "output_type": "stream",
     "text": [
      "The number of nice strings is: 258\n"
     ]
    }
   ],
   "source": [
    "def is_nice(string):\n",
    "    # Check for at least three vowels\n",
    "    vowels = \"aeiou\"\n",
    "    vowel_count = sum(1 for char in string if char in vowels)\n",
    "    if vowel_count < 3:\n",
    "        return False\n",
    "\n",
    "    # Check for at least one letter appearing twice in a row\n",
    "    has_double = any(string[i] == string[i+1] for i in range(len(string) - 1))\n",
    "    if not has_double:\n",
    "        return False\n",
    "\n",
    "    # Check that it does not contain the strings \"ab\", \"cd\", \"pq\", or \"xy\"\n",
    "    forbidden = [\"ab\", \"cd\", \"pq\", \"xy\"]\n",
    "    if any(sub in string for sub in forbidden):\n",
    "        return False\n",
    "\n",
    "    return True\n",
    "\n",
    "# Read the input file and count the number of nice strings\n",
    "with open('input.txt', 'r') as file:\n",
    "    strings = file.read().strip().splitlines()\n",
    "\n",
    "nice_count = sum(1 for string in strings if is_nice(string))\n",
    "\n",
    "# Output the result\n",
    "print(f\"The number of nice strings is: {nice_count}\")\n"
   ]
  },
  {
   "cell_type": "code",
   "execution_count": 2,
   "id": "ff431c01-af46-4627-9762-9f952c9915de",
   "metadata": {},
   "outputs": [
    {
     "name": "stdout",
     "output_type": "stream",
     "text": [
      "The number of nice strings is: 258\n"
     ]
    }
   ],
   "source": [
    "with open('input.txt', 'r') as file:\n",
    "    strings = file.read().strip().splitlines()\n",
    "\n",
    "print(f\"The number of nice strings is: {sum(1 for s in strings if sum(1 for c in s if c in 'aeiou') >= 3 and any(s[i] == s[i+1] for i in range(len(s) - 1)) and not any(f in s for f in ['ab', 'cd', 'pq', 'xy']))}\")\n"
   ]
  },
  {
   "cell_type": "code",
   "execution_count": 3,
   "id": "28b691dc-db48-44f0-8b06-8b98a8a23ded",
   "metadata": {},
   "outputs": [
    {
     "name": "stdout",
     "output_type": "stream",
     "text": [
      "The number of nice strings under the new rules is: 53\n"
     ]
    }
   ],
   "source": [
    "def is_nice_new(string):\n",
    "    # Check for a pair of any two letters that appears at least twice without overlapping\n",
    "    has_repeated_pair = any(string[i:i+2] in string[i+2:] for i in range(len(string) - 1))\n",
    "\n",
    "    # Check for a letter that repeats with exactly one letter in between\n",
    "    has_repeated_with_gap = any(string[i] == string[i+2] for i in range(len(string) - 2))\n",
    "\n",
    "    return has_repeated_pair and has_repeated_with_gap\n",
    "\n",
    "# Read the input file and count the number of nice strings\n",
    "with open('input.txt', 'r') as file:\n",
    "    strings = file.read().strip().splitlines()\n",
    "\n",
    "nice_count = sum(1 for string in strings if is_nice_new(string))\n",
    "\n",
    "# Output the result\n",
    "print(f\"The number of nice strings under the new rules is: {nice_count}\")\n"
   ]
  },
  {
   "cell_type": "code",
   "execution_count": null,
   "id": "6cf197e5-4a47-4740-bf9a-f61b09b73561",
   "metadata": {},
   "outputs": [],
   "source": []
  }
 ],
 "metadata": {
  "kernelspec": {
   "display_name": "Python 3 (ipykernel)",
   "language": "python",
   "name": "python3"
  },
  "language_info": {
   "codemirror_mode": {
    "name": "ipython",
    "version": 3
   },
   "file_extension": ".py",
   "mimetype": "text/x-python",
   "name": "python",
   "nbconvert_exporter": "python",
   "pygments_lexer": "ipython3",
   "version": "3.12.3"
  }
 },
 "nbformat": 4,
 "nbformat_minor": 5
}
