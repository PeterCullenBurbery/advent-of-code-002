{
 "cells": [
  {
   "cell_type": "markdown",
   "id": "efd935fb",
   "metadata": {},
   "source": [
    "# Advent of Code"
   ]
  },
  {
   "cell_type": "markdown",
   "id": "e2664dd3",
   "metadata": {},
   "source": [
    "## 2015-012-005\n",
    "## 2015 005"
   ]
  },
  {
   "cell_type": "markdown",
   "id": "8428c841",
   "metadata": {},
   "source": [
    "https://adventofcode.com/2015/day/5"
   ]
  },
  {
   "cell_type": "code",
   "execution_count": null,
   "id": "fad568c7",
   "metadata": {},
   "outputs": [],
   "source": []
  }
 ],
 "metadata": {},
 "nbformat": 4,
 "nbformat_minor": 5
}
