{
 "cells": [
  {
   "cell_type": "markdown",
   "id": "01af6f8e",
   "metadata": {},
   "source": [
    "# Advent of Code"
   ]
  },
  {
   "cell_type": "markdown",
   "id": "01fc22cc",
   "metadata": {},
   "source": [
    "## 2015-012-012\n",
    "## 2015 012"
   ]
  },
  {
   "cell_type": "markdown",
   "id": "c9da483c",
   "metadata": {},
   "source": [
    "https://adventofcode.com/2015/day/12"
   ]
  },
  {
   "cell_type": "code",
   "execution_count": 1,
   "id": "8aae8fe7",
   "metadata": {},
   "outputs": [
    {
     "name": "stdout",
     "output_type": "stream",
     "text": [
      "The sum of all numbers in the document is: 119433\n"
     ]
    }
   ],
   "source": [
    "import json\n",
    "\n",
    "def sum_numbers(data):\n",
    "    if isinstance(data, int):  # If it's a number, return it\n",
    "        return data\n",
    "    elif isinstance(data, list):  # If it's a list, recursively sum its elements\n",
    "        return sum(sum_numbers(item) for item in data)\n",
    "    elif isinstance(data, dict):  # If it's a dict, recursively sum its values\n",
    "        return sum(sum_numbers(value) for value in data.values())\n",
    "    else:  # For other types (strings, None, etc.), return 0\n",
    "        return 0\n",
    "\n",
    "# Read the input file and parse the JSON\n",
    "with open('input.txt', 'r') as file:\n",
    "    json_data = json.load(file)\n",
    "\n",
    "# Compute the sum of all numbers\n",
    "total_sum = sum_numbers(json_data)\n",
    "\n",
    "# Output the result\n",
    "print(f\"The sum of all numbers in the document is: {total_sum}\")\n"
   ]
  },
  {
   "cell_type": "code",
   "execution_count": 2,
   "id": "6d19e950-c64e-49f8-b381-2072df5c220b",
   "metadata": {},
   "outputs": [
    {
     "name": "stdout",
     "output_type": "stream",
     "text": [
      "The sum of all numbers in the document, ignoring red objects, is: 68466\n"
     ]
    }
   ],
   "source": [
    "import json\n",
    "\n",
    "def sum_numbers(data):\n",
    "    if isinstance(data, int):  # If it's a number, return it\n",
    "        return data\n",
    "    elif isinstance(data, list):  # If it's a list, recursively sum its elements\n",
    "        return sum(sum_numbers(item) for item in data)\n",
    "    elif isinstance(data, dict):  # If it's a dict, check for \"red\" and sum values if not present\n",
    "        if \"red\" in data.values():\n",
    "            return 0  # Ignore this object and its children\n",
    "        return sum(sum_numbers(value) for value in data.values())\n",
    "    else:  # For other types (strings, None, etc.), return 0\n",
    "        return 0\n",
    "\n",
    "# Read the input file and parse the JSON\n",
    "with open('input.txt', 'r') as file:\n",
    "    json_data = json.load(file)\n",
    "\n",
    "# Compute the sum of all numbers ignoring \"red\" objects\n",
    "total_sum = sum_numbers(json_data)\n",
    "\n",
    "# Output the result\n",
    "print(f\"The sum of all numbers in the document, ignoring red objects, is: {total_sum}\")\n"
   ]
  },
  {
   "cell_type": "code",
   "execution_count": null,
   "id": "79210f70-f10e-4786-86a2-f8b6229b9468",
   "metadata": {},
   "outputs": [],
   "source": []
  }
 ],
 "metadata": {
  "kernelspec": {
   "display_name": "Python 3 (ipykernel)",
   "language": "python",
   "name": "python3"
  },
  "language_info": {
   "codemirror_mode": {
    "name": "ipython",
    "version": 3
   },
   "file_extension": ".py",
   "mimetype": "text/x-python",
   "name": "python",
   "nbconvert_exporter": "python",
   "pygments_lexer": "ipython3",
   "version": "3.12.3"
  }
 },
 "nbformat": 4,
 "nbformat_minor": 5
}
