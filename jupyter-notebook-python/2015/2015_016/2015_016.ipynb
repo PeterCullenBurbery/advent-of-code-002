{
 "cells": [
  {
   "cell_type": "markdown",
   "id": "3bb446e2",
   "metadata": {},
   "source": [
    "# Advent of Code"
   ]
  },
  {
   "cell_type": "markdown",
   "id": "32215a38",
   "metadata": {},
   "source": [
    "## 2015-012-016\n",
    "## 2015 016"
   ]
  },
  {
   "cell_type": "markdown",
   "id": "22ceea6f",
   "metadata": {},
   "source": [
    "https://adventofcode.com/2015/day/16"
   ]
  },
  {
   "cell_type": "code",
   "execution_count": 1,
   "id": "888e3954",
   "metadata": {},
   "outputs": [
    {
     "name": "stdout",
     "output_type": "stream",
     "text": [
      "The Aunt Sue that gave you the gift is: 213\n"
     ]
    }
   ],
   "source": [
    "def parse_input(filename):\n",
    "    aunts = {}\n",
    "    with open(filename, 'r') as file:\n",
    "        for line in file:\n",
    "            parts = line.strip().split(\": \", 1)\n",
    "            sue_number = int(parts[0].split()[1])\n",
    "            properties = {}\n",
    "            for item in parts[1].split(\", \"):\n",
    "                key, value = item.split(\": \")\n",
    "                properties[key] = int(value)\n",
    "            aunts[sue_number] = properties\n",
    "    return aunts\n",
    "\n",
    "def find_matching_sue(aunts, criteria):\n",
    "    for sue_number, properties in aunts.items():\n",
    "        match = True\n",
    "        for key, value in properties.items():\n",
    "            if key in criteria and criteria[key] != value:\n",
    "                match = False\n",
    "                break\n",
    "        if match:\n",
    "            return sue_number\n",
    "    return None\n",
    "\n",
    "# Ticker tape criteria\n",
    "criteria = {\n",
    "    \"children\": 3,\n",
    "    \"cats\": 7,\n",
    "    \"samoyeds\": 2,\n",
    "    \"pomeranians\": 3,\n",
    "    \"akitas\": 0,\n",
    "    \"vizslas\": 0,\n",
    "    \"goldfish\": 5,\n",
    "    \"trees\": 3,\n",
    "    \"cars\": 2,\n",
    "    \"perfumes\": 1,\n",
    "}\n",
    "\n",
    "# Parse input and find the matching Aunt Sue\n",
    "filename = 'input.txt'\n",
    "aunts = parse_input(filename)\n",
    "matching_sue = find_matching_sue(aunts, criteria)\n",
    "\n",
    "# Output the result\n",
    "print(f\"The Aunt Sue that gave you the gift is: {matching_sue}\")\n"
   ]
  },
  {
   "cell_type": "code",
   "execution_count": 2,
   "id": "b39844e8-0b4f-42fc-afd9-f8f023433b3a",
   "metadata": {},
   "outputs": [
    {
     "name": "stdout",
     "output_type": "stream",
     "text": [
      "The real Aunt Sue is: 323\n"
     ]
    }
   ],
   "source": [
    "def parse_input(filename):\n",
    "    aunts = {}\n",
    "    with open(filename, 'r') as file:\n",
    "        for line in file:\n",
    "            parts = line.strip().split(\": \", 1)\n",
    "            sue_number = int(parts[0].split()[1])\n",
    "            properties = {}\n",
    "            for item in parts[1].split(\", \"):\n",
    "                key, value = item.split(\": \")\n",
    "                properties[key] = int(value)\n",
    "            aunts[sue_number] = properties\n",
    "    return aunts\n",
    "\n",
    "def find_real_aunt_sue(aunts, criteria):\n",
    "    for sue_number, properties in aunts.items():\n",
    "        match = True\n",
    "        for key, value in properties.items():\n",
    "            if key in criteria:\n",
    "                # Apply range-based logic for specific properties\n",
    "                if key in [\"cats\", \"trees\"]:\n",
    "                    if value <= criteria[key]:  # Must be greater than\n",
    "                        match = False\n",
    "                        break\n",
    "                elif key in [\"pomeranians\", \"goldfish\"]:\n",
    "                    if value >= criteria[key]:  # Must be less than\n",
    "                        match = False\n",
    "                        break\n",
    "                else:\n",
    "                    if value != criteria[key]:  # Exact match for other properties\n",
    "                        match = False\n",
    "                        break\n",
    "        if match:\n",
    "            return sue_number\n",
    "    return None\n",
    "\n",
    "# Ticker tape criteria with updated logic for ranges\n",
    "criteria = {\n",
    "    \"children\": 3,\n",
    "    \"cats\": 7,           # Must be greater than\n",
    "    \"samoyeds\": 2,\n",
    "    \"pomeranians\": 3,    # Must be less than\n",
    "    \"akitas\": 0,\n",
    "    \"vizslas\": 0,\n",
    "    \"goldfish\": 5,       # Must be less than\n",
    "    \"trees\": 3,          # Must be greater than\n",
    "    \"cars\": 2,\n",
    "    \"perfumes\": 1,\n",
    "}\n",
    "\n",
    "# Parse input and find the real Aunt Sue\n",
    "filename = 'input.txt'\n",
    "aunts = parse_input(filename)\n",
    "real_sue = find_real_aunt_sue(aunts, criteria)\n",
    "\n",
    "# Output the result\n",
    "print(f\"The real Aunt Sue is: {real_sue}\")\n"
   ]
  },
  {
   "cell_type": "code",
   "execution_count": null,
   "id": "54d48b56-5eab-4f3c-9e79-6dcfc0b5cacc",
   "metadata": {},
   "outputs": [],
   "source": []
  }
 ],
 "metadata": {
  "kernelspec": {
   "display_name": "Python 3 (ipykernel)",
   "language": "python",
   "name": "python3"
  },
  "language_info": {
   "codemirror_mode": {
    "name": "ipython",
    "version": 3
   },
   "file_extension": ".py",
   "mimetype": "text/x-python",
   "name": "python",
   "nbconvert_exporter": "python",
   "pygments_lexer": "ipython3",
   "version": "3.12.3"
  }
 },
 "nbformat": 4,
 "nbformat_minor": 5
}
