{
 "cells": [
  {
   "cell_type": "markdown",
   "id": "3bb446e2",
   "metadata": {},
   "source": [
    "# Advent of Code"
   ]
  },
  {
   "cell_type": "markdown",
   "id": "32215a38",
   "metadata": {},
   "source": [
    "## 2015-012-016\n",
    "## 2015 016"
   ]
  },
  {
   "cell_type": "markdown",
   "id": "22ceea6f",
   "metadata": {},
   "source": [
    "https://adventofcode.com/2015/day/16"
   ]
  },
  {
   "cell_type": "code",
   "execution_count": null,
   "id": "888e3954",
   "metadata": {},
   "outputs": [],
   "source": []
  }
 ],
 "metadata": {},
 "nbformat": 4,
 "nbformat_minor": 5
}
