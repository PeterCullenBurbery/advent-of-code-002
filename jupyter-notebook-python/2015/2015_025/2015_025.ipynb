{
 "cells": [
  {
   "cell_type": "markdown",
   "id": "b1dd5c44",
   "metadata": {},
   "source": [
    "# Advent of Code"
   ]
  },
  {
   "cell_type": "markdown",
   "id": "bcbfd701",
   "metadata": {},
   "source": [
    "## 2015-012-025\n",
    "## 2015 025"
   ]
  },
  {
   "cell_type": "markdown",
   "id": "c3bc99da",
   "metadata": {},
   "source": [
    "https://adventofcode.com/2015/day/25"
   ]
  },
  {
   "cell_type": "code",
   "execution_count": 1,
   "id": "3247c2b2",
   "metadata": {},
   "outputs": [
    {
     "name": "stdout",
     "output_type": "stream",
     "text": [
      "The code at row 2978, column 3083 is: 2650453\n"
     ]
    }
   ],
   "source": [
    "def find_code(row, col, start_code=20151125, multiplier=252533, modulus=33554393):\n",
    "    # Calculate the position in the diagonal sequence\n",
    "    diagonal = row + col - 1\n",
    "    position = (diagonal * (diagonal - 1)) // 2 + col\n",
    "\n",
    "    # Generate the code iteratively\n",
    "    code = start_code\n",
    "    for _ in range(position - 1):\n",
    "        code = (code * multiplier) % modulus\n",
    "\n",
    "    return code\n",
    "\n",
    "# Input values\n",
    "row, col = 2978, 3083\n",
    "\n",
    "# Find the code at the specified position\n",
    "result = find_code(row, col)\n",
    "print(f\"The code at row {row}, column {col} is: {result}\")\n"
   ]
  },
  {
   "cell_type": "markdown",
   "id": "568531d7-fb6d-4766-b680-8dd44d3c0491",
   "metadata": {},
   "source": [
    "There is no part 2.  \n",
    "--- Part Two ---\n",
    "The machine springs to life, then falls silent again. It beeps. \"Insufficient fuel\", the console reads. \"Fifty stars are required before proceeding. One star is available.\"\n",
    "\n",
    "...\"one star is available\"? You check the fuel tank; sure enough, a lone star sits at the bottom, awaiting its friends. Looks like you need to provide 49 yourself.\n",
    "\n",
    "You fill the weather machine with fifty stars. It comes to life!\n",
    "\n",
    "Snow begins to fall.\n",
    "\n",
    "Congratulations! You've finished every puzzle in Advent of Code 2015! I hope you had as much fun solving them as I had making them for you. I'd love to hear about your adventure; you can get in touch with me via contact info on my website or through Bluesky, Mastodon, or Twitter.\n",
    "\n",
    "If you'd like to see more things like this in the future, please consider supporting Advent of Code and sharing it with others.\n",
    "\n",
    "I've highlighted the easter eggs in each puzzle, just in case you missed any. Hover your mouse over them, and the easter egg will appear.\n",
    "\n",
    "You can [Share] this moment with your friends or [Go Check on Your Calendar]."
   ]
  },
  {
   "cell_type": "code",
   "execution_count": null,
   "id": "508089a2-e062-452f-90a7-e9fe7b2df57a",
   "metadata": {},
   "outputs": [],
   "source": []
  }
 ],
 "metadata": {
  "kernelspec": {
   "display_name": "Python 3 (ipykernel)",
   "language": "python",
   "name": "python3"
  },
  "language_info": {
   "codemirror_mode": {
    "name": "ipython",
    "version": 3
   },
   "file_extension": ".py",
   "mimetype": "text/x-python",
   "name": "python",
   "nbconvert_exporter": "python",
   "pygments_lexer": "ipython3",
   "version": "3.12.3"
  }
 },
 "nbformat": 4,
 "nbformat_minor": 5
}
