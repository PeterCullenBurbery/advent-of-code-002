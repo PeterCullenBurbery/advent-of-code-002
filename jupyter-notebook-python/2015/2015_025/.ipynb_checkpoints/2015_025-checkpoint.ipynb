{
 "cells": [
  {
   "cell_type": "markdown",
   "id": "b1dd5c44",
   "metadata": {},
   "source": [
    "# Advent of Code"
   ]
  },
  {
   "cell_type": "markdown",
   "id": "bcbfd701",
   "metadata": {},
   "source": [
    "## 2015-012-025\n",
    "## 2015 025"
   ]
  },
  {
   "cell_type": "markdown",
   "id": "c3bc99da",
   "metadata": {},
   "source": [
    "https://adventofcode.com/2015/day/25"
   ]
  },
  {
   "cell_type": "code",
   "execution_count": null,
   "id": "3247c2b2",
   "metadata": {},
   "outputs": [],
   "source": []
  }
 ],
 "metadata": {},
 "nbformat": 4,
 "nbformat_minor": 5
}
