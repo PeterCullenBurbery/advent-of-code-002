{
 "cells": [
  {
   "cell_type": "markdown",
   "id": "61cc4d19",
   "metadata": {},
   "source": [
    "# Advent of Code"
   ]
  },
  {
   "cell_type": "markdown",
   "id": "93332495",
   "metadata": {},
   "source": [
    "## 2015-012-024\n",
    "## 2015 024"
   ]
  },
  {
   "cell_type": "markdown",
   "id": "d700697a",
   "metadata": {},
   "source": [
    "https://adventofcode.com/2015/day/24"
   ]
  },
  {
   "cell_type": "code",
   "execution_count": 1,
   "id": "c56873ec",
   "metadata": {},
   "outputs": [
    {
     "name": "stdout",
     "output_type": "stream",
     "text": [
      "The quantum entanglement of the first group is: 11266889531\n"
     ]
    }
   ],
   "source": [
    "from itertools import combinations\n",
    "from math import prod\n",
    "\n",
    "def find_optimal_quantum_entanglement(packages, group_count):\n",
    "    target_weight = sum(packages) // group_count\n",
    "    min_group_size = float(\"inf\")\n",
    "    best_quantum_entanglement = float(\"inf\")\n",
    "\n",
    "    # Iterate through different group sizes\n",
    "    for group_size in range(1, len(packages)):\n",
    "        valid_combinations = [\n",
    "            comb for comb in combinations(packages, group_size)\n",
    "            if sum(comb) == target_weight\n",
    "        ]\n",
    "        if valid_combinations:\n",
    "            # Update minimum group size and quantum entanglement\n",
    "            min_group_size = group_size\n",
    "            best_quantum_entanglement = min(prod(comb) for comb in valid_combinations)\n",
    "            break  # Stop once the smallest group size is found\n",
    "\n",
    "    return best_quantum_entanglement\n",
    "\n",
    "# Read input from file\n",
    "with open(\"input.txt\", \"r\") as file:\n",
    "    packages = [int(line.strip()) for line in file]\n",
    "\n",
    "# Solve for three groups\n",
    "result = find_optimal_quantum_entanglement(packages, 3)\n",
    "print(f\"The quantum entanglement of the first group is: {result}\")\n"
   ]
  },
  {
   "cell_type": "code",
   "execution_count": 2,
   "id": "cc682215-6261-4900-a73d-a5588b7a56b6",
   "metadata": {},
   "outputs": [
    {
     "name": "stdout",
     "output_type": "stream",
     "text": [
      "The quantum entanglement of the first group is: 77387711\n"
     ]
    }
   ],
   "source": [
    "from itertools import combinations\n",
    "from math import prod\n",
    "\n",
    "def find_optimal_quantum_entanglement(packages, group_count):\n",
    "    target_weight = sum(packages) // group_count\n",
    "    min_group_size = float(\"inf\")\n",
    "    best_quantum_entanglement = float(\"inf\")\n",
    "\n",
    "    # Iterate through different group sizes\n",
    "    for group_size in range(1, len(packages)):\n",
    "        valid_combinations = [\n",
    "            comb for comb in combinations(packages, group_size)\n",
    "            if sum(comb) == target_weight\n",
    "        ]\n",
    "        if valid_combinations:\n",
    "            # Update minimum group size and quantum entanglement\n",
    "            min_group_size = group_size\n",
    "            best_quantum_entanglement = min(prod(comb) for comb in valid_combinations)\n",
    "            break  # Stop once the smallest group size is found\n",
    "\n",
    "    return best_quantum_entanglement\n",
    "\n",
    "# Read input from file\n",
    "with open(\"input.txt\", \"r\") as file:\n",
    "    packages = [int(line.strip()) for line in file]\n",
    "\n",
    "# Solve for four groups\n",
    "result = find_optimal_quantum_entanglement(packages, 4)\n",
    "print(f\"The quantum entanglement of the first group is: {result}\")\n"
   ]
  },
  {
   "cell_type": "code",
   "execution_count": null,
   "id": "5064fdf1-5a5a-4200-ab29-ef1eecb5fef6",
   "metadata": {},
   "outputs": [],
   "source": []
  }
 ],
 "metadata": {
  "kernelspec": {
   "display_name": "Python 3 (ipykernel)",
   "language": "python",
   "name": "python3"
  },
  "language_info": {
   "codemirror_mode": {
    "name": "ipython",
    "version": 3
   },
   "file_extension": ".py",
   "mimetype": "text/x-python",
   "name": "python",
   "nbconvert_exporter": "python",
   "pygments_lexer": "ipython3",
   "version": "3.12.3"
  }
 },
 "nbformat": 4,
 "nbformat_minor": 5
}
