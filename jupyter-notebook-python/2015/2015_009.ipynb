{
 "cells": [
  {
   "cell_type": "markdown",
   "id": "87daf349",
   "metadata": {},
   "source": [
    "# Advent of Code"
   ]
  },
  {
   "cell_type": "markdown",
   "id": "e2ab8ae8",
   "metadata": {},
   "source": [
    "## 2015-012-009\n",
    "## 2015 009"
   ]
  },
  {
   "cell_type": "markdown",
   "id": "96034566",
   "metadata": {},
   "source": [
    "https://adventofcode.com/2015/day/9"
   ]
  },
  {
   "cell_type": "code",
   "execution_count": null,
   "id": "ffb858bd",
   "metadata": {},
   "outputs": [],
   "source": []
  }
 ],
 "metadata": {
  "kernelspec": {
   "display_name": "Python 3 (ipykernel)",
   "language": "python",
   "name": "python3"
  },
  "language_info": {
   "name": "python",
   "version": "3.12.3"
  }
 },
 "nbformat": 4,
 "nbformat_minor": 5
}
