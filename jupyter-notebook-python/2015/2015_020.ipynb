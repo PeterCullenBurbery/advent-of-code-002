{
 "cells": [
  {
   "cell_type": "markdown",
   "id": "090b5fb2",
   "metadata": {},
   "source": [
    "# Advent of Code"
   ]
  },
  {
   "cell_type": "markdown",
   "id": "f27681c3",
   "metadata": {},
   "source": [
    "## 2015-012-020\n",
    "## 2015 020"
   ]
  },
  {
   "cell_type": "markdown",
   "id": "2646ccee",
   "metadata": {},
   "source": [
    "https://adventofcode.com/2015/day/20"
   ]
  },
  {
   "cell_type": "code",
   "execution_count": null,
   "id": "b4f9bdf5",
   "metadata": {},
   "outputs": [],
   "source": []
  }
 ],
 "metadata": {
  "kernelspec": {
   "display_name": "Python 3 (ipykernel)",
   "language": "python",
   "name": "python3"
  },
  "language_info": {
   "name": "python",
   "version": "3.12.3"
  }
 },
 "nbformat": 4,
 "nbformat_minor": 5
}
