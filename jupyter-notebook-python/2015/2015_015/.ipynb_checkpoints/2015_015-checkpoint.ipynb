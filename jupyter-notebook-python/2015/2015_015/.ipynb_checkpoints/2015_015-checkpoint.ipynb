{
 "cells": [
  {
   "cell_type": "markdown",
   "id": "96fc645f",
   "metadata": {},
   "source": [
    "# Advent of Code"
   ]
  },
  {
   "cell_type": "markdown",
   "id": "2c34c24a",
   "metadata": {},
   "source": [
    "## 2015-012-015\n",
    "## 2015 015"
   ]
  },
  {
   "cell_type": "markdown",
   "id": "a94ca4a0",
   "metadata": {},
   "source": [
    "https://adventofcode.com/2015/day/15"
   ]
  },
  {
   "cell_type": "code",
   "execution_count": null,
   "id": "61c24b27",
   "metadata": {},
   "outputs": [],
   "source": []
  }
 ],
 "metadata": {},
 "nbformat": 4,
 "nbformat_minor": 5
}
