{
 "cells": [
  {
   "cell_type": "markdown",
   "id": "96fc645f",
   "metadata": {},
   "source": [
    "# Advent of Code"
   ]
  },
  {
   "cell_type": "markdown",
   "id": "2c34c24a",
   "metadata": {},
   "source": [
    "## 2015-012-015\n",
    "## 2015 015"
   ]
  },
  {
   "cell_type": "markdown",
   "id": "a94ca4a0",
   "metadata": {},
   "source": [
    "https://adventofcode.com/2015/day/15"
   ]
  },
  {
   "cell_type": "code",
   "execution_count": 2,
   "id": "61c24b27",
   "metadata": {},
   "outputs": [
    {
     "name": "stdout",
     "output_type": "stream",
     "text": [
      "The maximum cookie score is: 18965440\n"
     ]
    }
   ],
   "source": [
    "def parse_input(filename):\n",
    "    ingredients = {}\n",
    "    with open(filename, 'r') as file:\n",
    "        for line in file:\n",
    "            parts = line.strip().split(\": \")\n",
    "            name = parts[0]\n",
    "            properties = {prop.split()[0]: int(prop.split()[1]) for prop in parts[1].split(\", \")}\n",
    "            ingredients[name] = properties\n",
    "    return ingredients\n",
    "\n",
    "def calculate_score(ingredients, amounts):\n",
    "    properties = [\"capacity\", \"durability\", \"flavor\", \"texture\"]\n",
    "    totals = {prop: 0 for prop in properties}\n",
    "    \n",
    "    # Calculate total for each property\n",
    "    for amount, (name, props) in zip(amounts, ingredients.items()):\n",
    "        for prop in properties:\n",
    "            totals[prop] += amount * props[prop]\n",
    "    \n",
    "    # Replace negative totals with 0\n",
    "    for prop in totals:\n",
    "        totals[prop] = max(0, totals[prop])\n",
    "    \n",
    "    # Calculate the score\n",
    "    score = 1\n",
    "    for prop in properties:\n",
    "        score *= totals[prop]\n",
    "    \n",
    "    return score\n",
    "\n",
    "def find_max_score(ingredients, total_teaspoons):\n",
    "    max_score = 0\n",
    "    num_ingredients = len(ingredients)\n",
    "\n",
    "    # Generate all possible amounts of teaspoons\n",
    "    def generate_combinations(remaining, counts):\n",
    "        if len(counts) == num_ingredients - 1:\n",
    "            counts.append(remaining)\n",
    "            yield counts\n",
    "        else:\n",
    "            for i in range(remaining + 1):\n",
    "                yield from generate_combinations(remaining - i, counts + [i])\n",
    "\n",
    "    for amounts in generate_combinations(total_teaspoons, []):\n",
    "        score = calculate_score(ingredients, amounts)\n",
    "        max_score = max(max_score, score)\n",
    "    \n",
    "    return max_score\n",
    "\n",
    "# Parse input and calculate the maximum score\n",
    "filename = 'input.txt'\n",
    "ingredients = parse_input(filename)\n",
    "total_teaspoons = 100\n",
    "max_score = find_max_score(ingredients, total_teaspoons)\n",
    "\n",
    "# Output the result\n",
    "print(f\"The maximum cookie score is: {max_score}\")\n"
   ]
  },
  {
   "cell_type": "code",
   "execution_count": 3,
   "id": "276fc667-e55b-4a09-b9d3-bf91c32d9f6d",
   "metadata": {},
   "outputs": [
    {
     "name": "stdout",
     "output_type": "stream",
     "text": [
      "The maximum cookie score with exactly 500 calories is: 15862900\n"
     ]
    }
   ],
   "source": [
    "def parse_input(filename):\n",
    "    ingredients = {}\n",
    "    with open(filename, 'r') as file:\n",
    "        for line in file:\n",
    "            parts = line.strip().split(\": \")\n",
    "            name = parts[0]\n",
    "            properties = {prop.split()[0]: int(prop.split()[1]) for prop in parts[1].split(\", \")}\n",
    "            ingredients[name] = properties\n",
    "    return ingredients\n",
    "\n",
    "def calculate_score_and_calories(ingredients, amounts):\n",
    "    properties = [\"capacity\", \"durability\", \"flavor\", \"texture\"]\n",
    "    totals = {prop: 0 for prop in properties}\n",
    "    calories = 0\n",
    "\n",
    "    # Calculate totals for properties and calories\n",
    "    for amount, (name, props) in zip(amounts, ingredients.items()):\n",
    "        for prop in properties:\n",
    "            totals[prop] += amount * props[prop]\n",
    "        calories += amount * props[\"calories\"]\n",
    "    \n",
    "    # Replace negative totals with 0\n",
    "    for prop in totals:\n",
    "        totals[prop] = max(0, totals[prop])\n",
    "    \n",
    "    # Calculate the score\n",
    "    score = 1\n",
    "    for prop in properties:\n",
    "        score *= totals[prop]\n",
    "    \n",
    "    return score, calories\n",
    "\n",
    "def find_max_score_with_calorie_constraint(ingredients, total_teaspoons, calorie_limit):\n",
    "    max_score = 0\n",
    "    num_ingredients = len(ingredients)\n",
    "\n",
    "    # Generate all possible amounts of teaspoons\n",
    "    def generate_combinations(remaining, counts):\n",
    "        if len(counts) == num_ingredients - 1:\n",
    "            counts.append(remaining)\n",
    "            yield counts\n",
    "        else:\n",
    "            for i in range(remaining + 1):\n",
    "                yield from generate_combinations(remaining - i, counts + [i])\n",
    "\n",
    "    for amounts in generate_combinations(total_teaspoons, []):\n",
    "        score, calories = calculate_score_and_calories(ingredients, amounts)\n",
    "        if calories == calorie_limit:\n",
    "            max_score = max(max_score, score)\n",
    "    \n",
    "    return max_score\n",
    "\n",
    "# Parse input and calculate the maximum score with the calorie constraint\n",
    "filename = 'input.txt'\n",
    "ingredients = parse_input(filename)\n",
    "total_teaspoons = 100\n",
    "calorie_limit = 500\n",
    "max_score = find_max_score_with_calorie_constraint(ingredients, total_teaspoons, calorie_limit)\n",
    "\n",
    "# Output the result\n",
    "print(f\"The maximum cookie score with exactly 500 calories is: {max_score}\")\n"
   ]
  },
  {
   "cell_type": "code",
   "execution_count": null,
   "id": "5fd1a281-ad14-444d-9059-8c400f533afc",
   "metadata": {},
   "outputs": [],
   "source": []
  }
 ],
 "metadata": {
  "kernelspec": {
   "display_name": "Python 3 (ipykernel)",
   "language": "python",
   "name": "python3"
  },
  "language_info": {
   "codemirror_mode": {
    "name": "ipython",
    "version": 3
   },
   "file_extension": ".py",
   "mimetype": "text/x-python",
   "name": "python",
   "nbconvert_exporter": "python",
   "pygments_lexer": "ipython3",
   "version": "3.12.3"
  }
 },
 "nbformat": 4,
 "nbformat_minor": 5
}
