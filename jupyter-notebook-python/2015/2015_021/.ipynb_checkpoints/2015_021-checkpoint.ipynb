{
 "cells": [
  {
   "cell_type": "markdown",
   "id": "309d379a",
   "metadata": {},
   "source": [
    "# Advent of Code"
   ]
  },
  {
   "cell_type": "markdown",
   "id": "833baf41",
   "metadata": {},
   "source": [
    "## 2015-012-021\n",
    "## 2015 021"
   ]
  },
  {
   "cell_type": "markdown",
   "id": "da83af8f",
   "metadata": {},
   "source": [
    "https://adventofcode.com/2015/day/21"
   ]
  },
  {
   "cell_type": "code",
   "execution_count": null,
   "id": "fcd28e31",
   "metadata": {},
   "outputs": [],
   "source": []
  }
 ],
 "metadata": {},
 "nbformat": 4,
 "nbformat_minor": 5
}
