{
 "cells": [
  {
   "cell_type": "markdown",
   "id": "309d379a",
   "metadata": {},
   "source": [
    "# Advent of Code"
   ]
  },
  {
   "cell_type": "markdown",
   "id": "833baf41",
   "metadata": {},
   "source": [
    "## 2015-012-021\n",
    "## 2015 021"
   ]
  },
  {
   "cell_type": "markdown",
   "id": "da83af8f",
   "metadata": {},
   "source": [
    "https://adventofcode.com/2015/day/21"
   ]
  },
  {
   "cell_type": "code",
   "execution_count": 2,
   "id": "fcd28e31",
   "metadata": {},
   "outputs": [
    {
     "name": "stdout",
     "output_type": "stream",
     "text": [
      "The minimum cost to win is: 111\n"
     ]
    }
   ],
   "source": [
    "from itertools import combinations, chain\n",
    "\n",
    "# Define the Item class\n",
    "class Item:\n",
    "    def __init__(self, name, cost, damage, armor):\n",
    "        self.name = name\n",
    "        self.cost = cost\n",
    "        self.damage = damage\n",
    "        self.armor = armor\n",
    "\n",
    "# Define the Player class\n",
    "class Player:\n",
    "    def __init__(self, hit_points, damage, armor):\n",
    "        self.hit_points = hit_points\n",
    "        self.damage = damage\n",
    "        self.armor = armor\n",
    "\n",
    "    def attack(self, other):\n",
    "        # Calculate damage dealt\n",
    "        damage_dealt = max(1, self.damage - other.armor)\n",
    "        other.hit_points -= damage_dealt\n",
    "\n",
    "# Simulate a fight between player and boss\n",
    "def simulate_fight(player, boss):\n",
    "    # Clone the players to avoid modifying original stats\n",
    "    player = Player(player.hit_points, player.damage, player.armor)\n",
    "    boss = Player(boss.hit_points, boss.damage, boss.armor)\n",
    "\n",
    "    # Player always attacks first\n",
    "    while True:\n",
    "        player.attack(boss)\n",
    "        if boss.hit_points <= 0:\n",
    "            return True  # Player wins\n",
    "\n",
    "        boss.attack(player)\n",
    "        if player.hit_points <= 0:\n",
    "            return False  # Boss wins\n",
    "\n",
    "# Generate all possible item loadouts\n",
    "def generate_loadouts(weapons, armor, rings):\n",
    "    loadouts = []\n",
    "    # One weapon is mandatory\n",
    "    for weapon in weapons:\n",
    "        # Armor is optional\n",
    "        for arm in armor + [None]:\n",
    "            # Choose 0, 1, or 2 rings\n",
    "            for ring_combo in chain(combinations(rings, 0), combinations(rings, 1), combinations(rings, 2)):\n",
    "                loadout = [weapon]\n",
    "                if arm:\n",
    "                    loadout.append(arm)\n",
    "                loadout.extend(ring_combo)\n",
    "                loadouts.append(loadout)\n",
    "    return loadouts\n",
    "\n",
    "# Calculate total cost, damage, and armor for a loadout\n",
    "def calculate_stats(loadout):\n",
    "    total_cost = sum(item.cost for item in loadout)\n",
    "    total_damage = sum(item.damage for item in loadout)\n",
    "    total_armor = sum(item.armor for item in loadout)\n",
    "    return total_cost, total_damage, total_armor\n",
    "\n",
    "# Parse boss stats from input.txt\n",
    "def parse_boss_stats(filename):\n",
    "    with open(filename, 'r') as file:\n",
    "        lines = file.read().strip().splitlines()\n",
    "        hit_points = int(lines[0].split(\": \")[1])\n",
    "        damage = int(lines[1].split(\": \")[1])\n",
    "        armor = int(lines[2].split(\": \")[1])\n",
    "    return Player(hit_points, damage, armor)\n",
    "\n",
    "# Main logic\n",
    "def find_minimum_cost_to_win(player, boss, weapons, armor, rings):\n",
    "    loadouts = generate_loadouts(weapons, armor, rings)\n",
    "    min_cost = float('inf')\n",
    "\n",
    "    for loadout in loadouts:\n",
    "        cost, damage, defense = calculate_stats(loadout)\n",
    "        player.damage = damage\n",
    "        player.armor = defense\n",
    "\n",
    "        if simulate_fight(player, boss):\n",
    "            min_cost = min(min_cost, cost)\n",
    "\n",
    "    return min_cost\n",
    "\n",
    "# Input data\n",
    "weapons = [\n",
    "    Item(\"Dagger\", 8, 4, 0),\n",
    "    Item(\"Shortsword\", 10, 5, 0),\n",
    "    Item(\"Warhammer\", 25, 6, 0),\n",
    "    Item(\"Longsword\", 40, 7, 0),\n",
    "    Item(\"Greataxe\", 74, 8, 0)\n",
    "]\n",
    "\n",
    "armor = [\n",
    "    Item(\"Leather\", 13, 0, 1),\n",
    "    Item(\"Chainmail\", 31, 0, 2),\n",
    "    Item(\"Splintmail\", 53, 0, 3),\n",
    "    Item(\"Bandedmail\", 75, 0, 4),\n",
    "    Item(\"Platemail\", 102, 0, 5)\n",
    "]\n",
    "\n",
    "rings = [\n",
    "    Item(\"Damage +1\", 25, 1, 0),\n",
    "    Item(\"Damage +2\", 50, 2, 0),\n",
    "    Item(\"Damage +3\", 100, 3, 0),\n",
    "    Item(\"Defense +1\", 20, 0, 1),\n",
    "    Item(\"Defense +2\", 40, 0, 2),\n",
    "    Item(\"Defense +3\", 80, 0, 3)\n",
    "]\n",
    "\n",
    "# Add an empty slot for armor (optional)\n",
    "armor.append(None)\n",
    "\n",
    "# Player stats\n",
    "player = Player(100, 0, 0)  # Hit points, damage, armor\n",
    "\n",
    "# Parse boss stats\n",
    "boss = parse_boss_stats('input.txt')\n",
    "\n",
    "# Find the minimum cost to win\n",
    "min_cost = find_minimum_cost_to_win(player, boss, weapons, armor, rings)\n",
    "print(f\"The minimum cost to win is: {min_cost}\")\n"
   ]
  },
  {
   "cell_type": "code",
   "execution_count": 3,
   "id": "d7ab4b62-f72e-409f-9e25-56f45e18e9c9",
   "metadata": {},
   "outputs": [
    {
     "name": "stdout",
     "output_type": "stream",
     "text": [
      "The maximum cost to lose is: 188\n"
     ]
    }
   ],
   "source": [
    "def find_maximum_cost_to_lose(player, boss, weapons, armor, rings):\n",
    "    loadouts = generate_loadouts(weapons, armor, rings)\n",
    "    max_cost = 0\n",
    "\n",
    "    for loadout in loadouts:\n",
    "        cost, damage, defense = calculate_stats(loadout)\n",
    "        player.damage = damage\n",
    "        player.armor = defense\n",
    "\n",
    "        if not simulate_fight(player, boss):  # Player loses\n",
    "            max_cost = max(max_cost, cost)\n",
    "\n",
    "    return max_cost\n",
    "\n",
    "# Parse boss stats from input.txt\n",
    "boss = parse_boss_stats('input.txt')\n",
    "\n",
    "# Find the maximum cost to lose\n",
    "max_cost = find_maximum_cost_to_lose(player, boss, weapons, armor, rings)\n",
    "print(f\"The maximum cost to lose is: {max_cost}\")\n"
   ]
  },
  {
   "cell_type": "code",
   "execution_count": null,
   "id": "76895ef7-45ef-42fc-a596-46a4cacbfe84",
   "metadata": {},
   "outputs": [],
   "source": []
  }
 ],
 "metadata": {
  "kernelspec": {
   "display_name": "Python 3 (ipykernel)",
   "language": "python",
   "name": "python3"
  },
  "language_info": {
   "codemirror_mode": {
    "name": "ipython",
    "version": 3
   },
   "file_extension": ".py",
   "mimetype": "text/x-python",
   "name": "python",
   "nbconvert_exporter": "python",
   "pygments_lexer": "ipython3",
   "version": "3.12.3"
  }
 },
 "nbformat": 4,
 "nbformat_minor": 5
}
