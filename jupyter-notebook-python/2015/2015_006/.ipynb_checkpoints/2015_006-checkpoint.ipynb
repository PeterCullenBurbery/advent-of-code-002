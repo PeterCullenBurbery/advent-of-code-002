{
 "cells": [
  {
   "cell_type": "markdown",
   "id": "619e63f9",
   "metadata": {},
   "source": [
    "# Advent of Code"
   ]
  },
  {
   "cell_type": "markdown",
   "id": "7232ab53",
   "metadata": {},
   "source": [
    "## 2015-012-006\n",
    "## 2015 006"
   ]
  },
  {
   "cell_type": "markdown",
   "id": "81a8aafa",
   "metadata": {},
   "source": [
    "https://adventofcode.com/2015/day/6"
   ]
  },
  {
   "cell_type": "code",
   "execution_count": 1,
   "id": "bd226078",
   "metadata": {},
   "outputs": [
    {
     "name": "stdout",
     "output_type": "stream",
     "text": [
      "Number of lights that are turned on: 377891\n"
     ]
    }
   ],
   "source": [
    "# Create a 1000x1000 grid initialized to 0 (all lights off)\n",
    "grid = [[0 for _ in range(1000)] for _ in range(1000)]\n",
    "\n",
    "def apply_instruction(instruction, x1, y1, x2, y2):\n",
    "    for x in range(x1, x2 + 1):\n",
    "        for y in range(y1, y2 + 1):\n",
    "            if instruction == \"turn on\":\n",
    "                grid[x][y] = 1  # Turn the light on\n",
    "            elif instruction == \"turn off\":\n",
    "                grid[x][y] = 0  # Turn the light off\n",
    "            elif instruction == \"toggle\":\n",
    "                grid[x][y] = 1 - grid[x][y]  # Toggle the light\n",
    "\n",
    "# Read the input file and parse instructions\n",
    "with open('input.txt', 'r') as file:\n",
    "    for line in file:\n",
    "        parts = line.strip().split(' ')\n",
    "        if parts[0] == \"turn\":  # Either \"turn on\" or \"turn off\"\n",
    "            instruction = f\"{parts[0]} {parts[1]}\"\n",
    "            x1, y1 = map(int, parts[2].split(','))\n",
    "            x2, y2 = map(int, parts[4].split(','))\n",
    "        elif parts[0] == \"toggle\":  # \"toggle\"\n",
    "            instruction = parts[0]\n",
    "            x1, y1 = map(int, parts[1].split(','))\n",
    "            x2, y2 = map(int, parts[3].split(','))\n",
    "        \n",
    "        apply_instruction(instruction, x1, y1, x2, y2)\n",
    "\n",
    "# Count the number of lights that are turned on\n",
    "lights_on = sum(sum(row) for row in grid)\n",
    "\n",
    "# Output the result\n",
    "print(f\"Number of lights that are turned on: {lights_on}\")\n"
   ]
  },
  {
   "cell_type": "code",
   "execution_count": 2,
   "id": "bc2169fa-75de-44db-a41c-673fc9d71753",
   "metadata": {},
   "outputs": [
    {
     "name": "stdout",
     "output_type": "stream",
     "text": [
      "The total brightness of all lights is: 14110788\n"
     ]
    }
   ],
   "source": [
    "# Create a 1000x1000 grid initialized to 0 (all lights at brightness 0)\n",
    "grid = [[0 for _ in range(1000)] for _ in range(1000)]\n",
    "\n",
    "def apply_instruction_brightness(instruction, x1, y1, x2, y2):\n",
    "    for x in range(x1, x2 + 1):\n",
    "        for y in range(y1, y2 + 1):\n",
    "            if instruction == \"turn on\":\n",
    "                grid[x][y] += 1  # Increase brightness by 1\n",
    "            elif instruction == \"turn off\":\n",
    "                grid[x][y] = max(0, grid[x][y] - 1)  # Decrease brightness by 1, but not below 0\n",
    "            elif instruction == \"toggle\":\n",
    "                grid[x][y] += 2  # Increase brightness by 2\n",
    "\n",
    "# Read the input file and parse instructions\n",
    "with open('input.txt', 'r') as file:\n",
    "    for line in file:\n",
    "        parts = line.strip().split(' ')\n",
    "        if parts[0] == \"turn\":  # Either \"turn on\" or \"turn off\"\n",
    "            instruction = f\"{parts[0]} {parts[1]}\"\n",
    "            x1, y1 = map(int, parts[2].split(','))\n",
    "            x2, y2 = map(int, parts[4].split(','))\n",
    "        elif parts[0] == \"toggle\":  # \"toggle\"\n",
    "            instruction = parts[0]\n",
    "            x1, y1 = map(int, parts[1].split(','))\n",
    "            x2, y2 = map(int, parts[3].split(','))\n",
    "\n",
    "        apply_instruction_brightness(instruction, x1, y1, x2, y2)\n",
    "\n",
    "# Calculate the total brightness of all lights\n",
    "total_brightness = sum(sum(row) for row in grid)\n",
    "\n",
    "# Output the result\n",
    "print(f\"The total brightness of all lights is: {total_brightness}\")\n"
   ]
  },
  {
   "cell_type": "code",
   "execution_count": null,
   "id": "daff5c7c-34f9-4aca-94b2-923a5db0cdef",
   "metadata": {},
   "outputs": [],
   "source": []
  }
 ],
 "metadata": {
  "kernelspec": {
   "display_name": "Python 3 (ipykernel)",
   "language": "python",
   "name": "python3"
  },
  "language_info": {
   "codemirror_mode": {
    "name": "ipython",
    "version": 3
   },
   "file_extension": ".py",
   "mimetype": "text/x-python",
   "name": "python",
   "nbconvert_exporter": "python",
   "pygments_lexer": "ipython3",
   "version": "3.12.3"
  }
 },
 "nbformat": 4,
 "nbformat_minor": 5
}
