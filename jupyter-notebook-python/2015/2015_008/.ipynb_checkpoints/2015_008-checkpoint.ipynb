{
 "cells": [
  {
   "cell_type": "markdown",
   "id": "e2753a25",
   "metadata": {},
   "source": [
    "# Advent of Code"
   ]
  },
  {
   "cell_type": "markdown",
   "id": "1bc2b805",
   "metadata": {},
   "source": [
    "## 2015-012-008\n",
    "## 2015 008"
   ]
  },
  {
   "cell_type": "markdown",
   "id": "61cd5290",
   "metadata": {},
   "source": [
    "https://adventofcode.com/2015/day/8"
   ]
  },
  {
   "cell_type": "code",
   "execution_count": null,
   "id": "e4ae3dde",
   "metadata": {},
   "outputs": [],
   "source": []
  }
 ],
 "metadata": {},
 "nbformat": 4,
 "nbformat_minor": 5
}
