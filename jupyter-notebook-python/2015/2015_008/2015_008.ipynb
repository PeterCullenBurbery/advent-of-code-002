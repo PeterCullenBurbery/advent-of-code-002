{
 "cells": [
  {
   "cell_type": "markdown",
   "id": "e2753a25",
   "metadata": {},
   "source": [
    "# Advent of Code"
   ]
  },
  {
   "cell_type": "markdown",
   "id": "1bc2b805",
   "metadata": {},
   "source": [
    "## 2015-012-008\n",
    "## 2015 008"
   ]
  },
  {
   "cell_type": "markdown",
   "id": "61cd5290",
   "metadata": {},
   "source": [
    "https://adventofcode.com/2015/day/8"
   ]
  },
  {
   "cell_type": "code",
   "execution_count": 1,
   "id": "e4ae3dde",
   "metadata": {},
   "outputs": [
    {
     "name": "stdout",
     "output_type": "stream",
     "text": [
      "The difference is: 1333\n"
     ]
    }
   ],
   "source": [
    "import ast\n",
    "\n",
    "def calculate_difference(filename):\n",
    "    code_chars = 0  # Total number of characters in the code\n",
    "    memory_chars = 0  # Total number of characters in memory\n",
    "\n",
    "    # Read the input file\n",
    "    with open(filename, 'r') as file:\n",
    "        for line in file:\n",
    "            line = line.strip()  # Remove leading/trailing whitespace\n",
    "            code_chars += len(line)  # Count code characters\n",
    "            memory_chars += len(ast.literal_eval(line))  # Count in-memory characters\n",
    "\n",
    "    # Calculate the difference\n",
    "    return code_chars - memory_chars\n",
    "\n",
    "# Input file\n",
    "filename = 'input.txt'\n",
    "result = calculate_difference(filename)\n",
    "\n",
    "# Output the result\n",
    "print(f\"The difference is: {result}\")\n"
   ]
  },
  {
   "cell_type": "code",
   "execution_count": 2,
   "id": "5519057e-8f3d-4143-9cdd-abc854aa7899",
   "metadata": {},
   "outputs": [
    {
     "name": "stdout",
     "output_type": "stream",
     "text": [
      "The difference is: 2046\n"
     ]
    }
   ],
   "source": [
    "def calculate_encoded_difference(filename):\n",
    "    code_chars = 0  # Total number of characters in the original code\n",
    "    encoded_chars = 0  # Total number of characters in the encoded representation\n",
    "\n",
    "    # Read the input file\n",
    "    with open(filename, 'r') as file:\n",
    "        for line in file:\n",
    "            line = line.strip()  # Remove leading/trailing whitespace\n",
    "            code_chars += len(line)  # Count code characters\n",
    "            encoded_chars += len(line.replace(\"\\\\\", \"\\\\\\\\\").replace('\"', '\\\\\"')) + 2  # Encode and count\n",
    "\n",
    "    # Calculate the difference\n",
    "    return encoded_chars - code_chars\n",
    "\n",
    "# Input file\n",
    "filename = 'input.txt'\n",
    "result = calculate_encoded_difference(filename)\n",
    "\n",
    "# Output the result\n",
    "print(f\"The difference is: {result}\")\n"
   ]
  },
  {
   "cell_type": "code",
   "execution_count": null,
   "id": "fba041bb-6ade-4f10-82c4-3fa3fd26b62f",
   "metadata": {},
   "outputs": [],
   "source": []
  }
 ],
 "metadata": {
  "kernelspec": {
   "display_name": "Python 3 (ipykernel)",
   "language": "python",
   "name": "python3"
  },
  "language_info": {
   "codemirror_mode": {
    "name": "ipython",
    "version": 3
   },
   "file_extension": ".py",
   "mimetype": "text/x-python",
   "name": "python",
   "nbconvert_exporter": "python",
   "pygments_lexer": "ipython3",
   "version": "3.12.3"
  }
 },
 "nbformat": 4,
 "nbformat_minor": 5
}
