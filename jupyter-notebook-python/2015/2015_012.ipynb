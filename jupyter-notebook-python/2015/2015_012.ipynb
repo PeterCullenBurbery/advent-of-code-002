{
 "cells": [
  {
   "cell_type": "markdown",
   "id": "d554e300",
   "metadata": {},
   "source": [
    "# Advent of Code"
   ]
  },
  {
   "cell_type": "markdown",
   "id": "10f356f4",
   "metadata": {},
   "source": [
    "## 2015-012-012\n",
    "## 2015 012"
   ]
  },
  {
   "cell_type": "markdown",
   "id": "c852f63f",
   "metadata": {},
   "source": [
    "https://adventofcode.com/2015/day/12"
   ]
  },
  {
   "cell_type": "code",
   "execution_count": null,
   "id": "3de0282f",
   "metadata": {},
   "outputs": [],
   "source": []
  }
 ],
 "metadata": {
  "kernelspec": {
   "display_name": "Python 3 (ipykernel)",
   "language": "python",
   "name": "python3"
  },
  "language_info": {
   "name": "python",
   "version": "3.12.3"
  }
 },
 "nbformat": 4,
 "nbformat_minor": 5
}
