{
 "cells": [
  {
   "cell_type": "markdown",
   "id": "61c547ab",
   "metadata": {},
   "source": [
    "# Advent of Code"
   ]
  },
  {
   "cell_type": "markdown",
   "id": "fa1ecc5d",
   "metadata": {},
   "source": [
    "## 2015-012-001\n",
    "## 2015 001"
   ]
  },
  {
   "cell_type": "code",
   "execution_count": null,
   "id": "2fc86f06",
   "metadata": {},
   "outputs": [],
   "source": []
  }
 ],
 "metadata": {
  "kernelspec": {
   "display_name": "Python 3 (ipykernel)",
   "language": "python",
   "name": "python3"
  },
  "language_info": {
   "name": "python",
   "version": "3.12.3"
  }
 },
 "nbformat": 4,
 "nbformat_minor": 5
}
