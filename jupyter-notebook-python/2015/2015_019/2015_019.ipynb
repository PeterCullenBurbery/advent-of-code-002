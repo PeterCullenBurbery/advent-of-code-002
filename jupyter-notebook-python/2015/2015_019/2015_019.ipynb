{
 "cells": [
  {
   "cell_type": "markdown",
   "id": "f43651d3",
   "metadata": {},
   "source": [
    "# Advent of Code"
   ]
  },
  {
   "cell_type": "markdown",
   "id": "42b53409",
   "metadata": {},
   "source": [
    "## 2015-012-019\n",
    "## 2015 019"
   ]
  },
  {
   "cell_type": "markdown",
   "id": "1a24e6a3",
   "metadata": {},
   "source": [
    "https://adventofcode.com/2015/day/19"
   ]
  },
  {
   "cell_type": "code",
   "execution_count": 1,
   "id": "c7b684eb",
   "metadata": {},
   "outputs": [
    {
     "name": "stdout",
     "output_type": "stream",
     "text": [
      "The number of distinct molecules is: 518\n"
     ]
    }
   ],
   "source": [
    "def parse_input(filename):\n",
    "    replacements = []\n",
    "    molecule = None\n",
    "    with open(filename, 'r') as file:\n",
    "        for line in file:\n",
    "            line = line.strip()\n",
    "            if \"=>\" in line:\n",
    "                # Parse a replacement rule\n",
    "                key, value = line.split(\" => \")\n",
    "                replacements.append((key, value))\n",
    "            elif line:\n",
    "                # Parse the molecule\n",
    "                molecule = line\n",
    "    return replacements, molecule\n",
    "\n",
    "def generate_distinct_molecules(replacements, molecule):\n",
    "    distinct_molecules = set()\n",
    "    \n",
    "    # For each replacement rule\n",
    "    for key, value in replacements:\n",
    "        start = 0\n",
    "        while start != -1:\n",
    "            # Find the next occurrence of the key\n",
    "            start = molecule.find(key, start)\n",
    "            if start != -1:\n",
    "                # Replace the key with the value\n",
    "                new_molecule = molecule[:start] + value + molecule[start + len(key):]\n",
    "                distinct_molecules.add(new_molecule)\n",
    "                # Move past this occurrence\n",
    "                start += 1\n",
    "                \n",
    "    return distinct_molecules\n",
    "\n",
    "# Parse input\n",
    "filename = 'input.txt'\n",
    "replacements, molecule = parse_input(filename)\n",
    "\n",
    "# Generate distinct molecules\n",
    "distinct_molecules = generate_distinct_molecules(replacements, molecule)\n",
    "\n",
    "# Output the result\n",
    "print(f\"The number of distinct molecules is: {len(distinct_molecules)}\")\n"
   ]
  },
  {
   "cell_type": "code",
   "execution_count": 2,
   "id": "b069dbb3-2df9-4d13-b4be-958056230b44",
   "metadata": {},
   "outputs": [
    {
     "name": "stdout",
     "output_type": "stream",
     "text": [
      "The fewest number of steps to make the medicine is: 200\n"
     ]
    }
   ],
   "source": [
    "import re\n",
    "import random\n",
    "\n",
    "def parse_input(filename):\n",
    "    replacements = []\n",
    "    molecule = None\n",
    "    with open(filename, 'r') as file:\n",
    "        for line in file:\n",
    "            line = line.strip()\n",
    "            if \"=>\" in line:\n",
    "                # Parse a replacement rule\n",
    "                key, value = line.split(\" => \")\n",
    "                replacements.append((value, key))  # Reverse the replacement\n",
    "            elif line:\n",
    "                # Parse the molecule\n",
    "                molecule = line\n",
    "    return replacements, molecule\n",
    "\n",
    "def count_steps_to_e(replacements, target):\n",
    "    # Sort replacements by length of the key in descending order for greedy reduction\n",
    "    replacements.sort(key=lambda x: len(x[0]), reverse=True)\n",
    "    steps = 0\n",
    "    molecule = target\n",
    "\n",
    "    while molecule != \"e\":\n",
    "        for key, value in replacements:\n",
    "            if key in molecule:\n",
    "                molecule = molecule.replace(key, value, 1)  # Replace only the first occurrence\n",
    "                steps += 1\n",
    "                break\n",
    "\n",
    "    return steps\n",
    "\n",
    "# Parse input and reverse replacements\n",
    "filename = 'input.txt'\n",
    "replacements, molecule = parse_input(filename)\n",
    "\n",
    "# Count steps to reduce the molecule to \"e\"\n",
    "steps = count_steps_to_e(replacements, molecule)\n",
    "\n",
    "# Output the result\n",
    "print(f\"The fewest number of steps to make the medicine is: {steps}\")\n"
   ]
  },
  {
   "cell_type": "markdown",
   "id": "52e0a24e-38ae-4388-8dff-2f337165c7de",
   "metadata": {},
   "source": [
    "This is the first time I solved 2015-019 part 2."
   ]
  },
  {
   "cell_type": "code",
   "execution_count": null,
   "id": "b41e199b-a8ea-4489-983d-c2d126db0625",
   "metadata": {},
   "outputs": [],
   "source": []
  }
 ],
 "metadata": {
  "kernelspec": {
   "display_name": "Python 3 (ipykernel)",
   "language": "python",
   "name": "python3"
  },
  "language_info": {
   "codemirror_mode": {
    "name": "ipython",
    "version": 3
   },
   "file_extension": ".py",
   "mimetype": "text/x-python",
   "name": "python",
   "nbconvert_exporter": "python",
   "pygments_lexer": "ipython3",
   "version": "3.12.3"
  }
 },
 "nbformat": 4,
 "nbformat_minor": 5
}
