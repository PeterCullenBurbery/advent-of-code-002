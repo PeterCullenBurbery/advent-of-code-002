{
 "cells": [
  {
   "cell_type": "markdown",
   "id": "c2edc040",
   "metadata": {},
   "source": [
    "# Advent of Code"
   ]
  },
  {
   "cell_type": "markdown",
   "id": "26992153",
   "metadata": {},
   "source": [
    "## 2015-012-018\n",
    "## 2015 018"
   ]
  },
  {
   "cell_type": "markdown",
   "id": "91da1073",
   "metadata": {},
   "source": [
    "https://adventofcode.com/2015/day/18"
   ]
  },
  {
   "cell_type": "code",
   "execution_count": 1,
   "id": "bd29cea9",
   "metadata": {},
   "outputs": [
    {
     "name": "stdout",
     "output_type": "stream",
     "text": [
      "The number of lights that are on after 100 steps is: 1061\n"
     ]
    }
   ],
   "source": [
    "def parse_input(filename):\n",
    "    with open(filename, 'r') as file:\n",
    "        return [list(line.strip()) for line in file]\n",
    "\n",
    "def count_neighbors(grid, x, y):\n",
    "    rows, cols = len(grid), len(grid[0])\n",
    "    neighbors = [\n",
    "        (x + dx, y + dy)\n",
    "        for dx, dy in [(-1, -1), (-1, 0), (-1, 1),\n",
    "                       (0, -1),         (0, 1),\n",
    "                       (1, -1), (1, 0), (1, 1)]\n",
    "    ]\n",
    "    return sum(\n",
    "        1\n",
    "        for nx, ny in neighbors\n",
    "        if 0 <= nx < rows and 0 <= ny < cols and grid[nx][ny] == '#'\n",
    "    )\n",
    "\n",
    "def simulate(grid, steps):\n",
    "    rows, cols = len(grid), len(grid[0])\n",
    "    for _ in range(steps):\n",
    "        new_grid = [['.'] * cols for _ in range(rows)]\n",
    "        for x in range(rows):\n",
    "            for y in range(cols):\n",
    "                neighbors_on = count_neighbors(grid, x, y)\n",
    "                if grid[x][y] == '#' and neighbors_on in [2, 3]:\n",
    "                    new_grid[x][y] = '#'\n",
    "                elif grid[x][y] == '.' and neighbors_on == 3:\n",
    "                    new_grid[x][y] = '#'\n",
    "                else:\n",
    "                    new_grid[x][y] = '.'\n",
    "        grid = new_grid\n",
    "    return grid\n",
    "\n",
    "def count_lights_on(grid):\n",
    "    return sum(row.count('#') for row in grid)\n",
    "\n",
    "# Parse input and simulate the grid\n",
    "filename = 'input.txt'\n",
    "initial_grid = parse_input(filename)\n",
    "steps = 100\n",
    "\n",
    "# Simulate the grid over the given number of steps\n",
    "final_grid = simulate(initial_grid, steps)\n",
    "\n",
    "# Count the number of lights that are on\n",
    "lights_on = count_lights_on(final_grid)\n",
    "\n",
    "# Output the result\n",
    "print(f\"The number of lights that are on after {steps} steps is: {lights_on}\")\n"
   ]
  },
  {
   "cell_type": "code",
   "execution_count": 2,
   "id": "fee85125-0321-4c79-8cd2-4f8d698b363f",
   "metadata": {},
   "outputs": [
    {
     "name": "stdout",
     "output_type": "stream",
     "text": [
      "The number of lights that are on after 100 steps is: 1006\n"
     ]
    }
   ],
   "source": [
    "def parse_input(filename):\n",
    "    with open(filename, 'r') as file:\n",
    "        return [list(line.strip()) for line in file]\n",
    "\n",
    "def count_neighbors(grid, x, y):\n",
    "    rows, cols = len(grid), len(grid[0])\n",
    "    neighbors = [\n",
    "        (x + dx, y + dy)\n",
    "        for dx, dy in [(-1, -1), (-1, 0), (-1, 1),\n",
    "                       (0, -1),         (0, 1),\n",
    "                       (1, -1), (1, 0), (1, 1)]\n",
    "    ]\n",
    "    return sum(\n",
    "        1\n",
    "        for nx, ny in neighbors\n",
    "        if 0 <= nx < rows and 0 <= ny < cols and grid[nx][ny] == '#'\n",
    "    )\n",
    "\n",
    "def enforce_corners_on(grid):\n",
    "    rows, cols = len(grid), len(grid[0])\n",
    "    grid[0][0] = grid[0][cols - 1] = grid[rows - 1][0] = grid[rows - 1][cols - 1] = '#'\n",
    "\n",
    "def simulate_with_corners(grid, steps):\n",
    "    rows, cols = len(grid), len(grid[0])\n",
    "    enforce_corners_on(grid)  # Set corners on initially\n",
    "    for _ in range(steps):\n",
    "        new_grid = [['.'] * cols for _ in range(rows)]\n",
    "        for x in range(rows):\n",
    "            for y in range(cols):\n",
    "                neighbors_on = count_neighbors(grid, x, y)\n",
    "                if grid[x][y] == '#' and neighbors_on in [2, 3]:\n",
    "                    new_grid[x][y] = '#'\n",
    "                elif grid[x][y] == '.' and neighbors_on == 3:\n",
    "                    new_grid[x][y] = '#'\n",
    "                else:\n",
    "                    new_grid[x][y] = '.'\n",
    "        grid = new_grid\n",
    "        enforce_corners_on(grid)  # Ensure corners remain on\n",
    "    return grid\n",
    "\n",
    "def count_lights_on(grid):\n",
    "    return sum(row.count('#') for row in grid)\n",
    "\n",
    "# Parse input and simulate the grid\n",
    "filename = 'input.txt'\n",
    "initial_grid = parse_input(filename)\n",
    "steps = 100\n",
    "\n",
    "# Simulate the grid with corners always on\n",
    "final_grid = simulate_with_corners(initial_grid, steps)\n",
    "\n",
    "# Count the number of lights that are on\n",
    "lights_on = count_lights_on(final_grid)\n",
    "\n",
    "# Output the result\n",
    "print(f\"The number of lights that are on after {steps} steps is: {lights_on}\")\n"
   ]
  },
  {
   "cell_type": "code",
   "execution_count": null,
   "id": "0f3a5818-2d86-4ca4-b59f-31e17613ae97",
   "metadata": {},
   "outputs": [],
   "source": []
  }
 ],
 "metadata": {
  "kernelspec": {
   "display_name": "Python 3 (ipykernel)",
   "language": "python",
   "name": "python3"
  },
  "language_info": {
   "codemirror_mode": {
    "name": "ipython",
    "version": 3
   },
   "file_extension": ".py",
   "mimetype": "text/x-python",
   "name": "python",
   "nbconvert_exporter": "python",
   "pygments_lexer": "ipython3",
   "version": "3.12.3"
  }
 },
 "nbformat": 4,
 "nbformat_minor": 5
}
