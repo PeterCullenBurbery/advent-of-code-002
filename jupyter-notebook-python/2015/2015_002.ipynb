{
 "cells": [
  {
   "cell_type": "markdown",
   "id": "e27cae81",
   "metadata": {},
   "source": [
    "# Advent of Code"
   ]
  },
  {
   "cell_type": "markdown",
   "id": "9906717f",
   "metadata": {},
   "source": [
    "## 2015-012-002\n",
    "## 2015 002"
   ]
  },
  {
   "cell_type": "markdown",
   "id": "4bb0b915",
   "metadata": {},
   "source": [
    "https://adventofcode.com/2015/day/2"
   ]
  },
  {
   "cell_type": "code",
   "execution_count": null,
   "id": "52ef9fe2",
   "metadata": {},
   "outputs": [],
   "source": []
  }
 ],
 "metadata": {
  "kernelspec": {
   "display_name": "Python 3 (ipykernel)",
   "language": "python",
   "name": "python3"
  },
  "language_info": {
   "name": "python",
   "version": "3.12.3"
  }
 },
 "nbformat": 4,
 "nbformat_minor": 5
}
