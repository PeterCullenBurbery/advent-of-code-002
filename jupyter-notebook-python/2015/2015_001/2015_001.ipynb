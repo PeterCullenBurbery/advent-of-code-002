{
 "cells": [
  {
   "cell_type": "markdown",
   "id": "6354eda1",
   "metadata": {},
   "source": [
    "# Advent of Code"
   ]
  },
  {
   "cell_type": "markdown",
   "id": "33258f4a",
   "metadata": {},
   "source": [
    "## 2015-012-001\n",
    "## 2015 001"
   ]
  },
  {
   "cell_type": "markdown",
   "id": "0be724c6",
   "metadata": {},
   "source": [
    "https://adventofcode.com/2015/day/1"
   ]
  },
  {
   "cell_type": "code",
   "execution_count": 5,
   "id": "faaf01d3",
   "metadata": {},
   "outputs": [
    {
     "name": "stdout",
     "output_type": "stream",
     "text": [
      "The final floor Santa ends up on is: 138.\n"
     ]
    }
   ],
   "source": [
    "# Step 1: Read the input file\n",
    "with open('input.txt', 'r') as file:\n",
    "    instructions = file.read().strip()\n",
    "\n",
    "# Step 2: Implement the solution\n",
    "floor = 0\n",
    "for char in instructions:\n",
    "    if char == '(':\n",
    "        floor += 1\n",
    "    elif char == ')':\n",
    "        floor -= 1\n",
    "\n",
    "# Step 3: Output the result\n",
    "print(f\"The final floor Santa ends up on is: {floor}.\")\n"
   ]
  },
  {
   "cell_type": "code",
   "execution_count": 4,
   "id": "aca294f7-d292-4b8a-85c5-1a5b42b08e22",
   "metadata": {},
   "outputs": [
    {
     "name": "stdout",
     "output_type": "stream",
     "text": [
      "The final floor Santa ends up on is: 138.\n"
     ]
    }
   ],
   "source": [
    "print(f\"The final floor Santa ends up on is: {sum(1 if c == '(' else -1 for c in open('input.txt').read().strip())}.\")"
   ]
  },
  {
   "cell_type": "code",
   "execution_count": 6,
   "id": "a89ea665-b021-450e-9b09-c5a90a8a4091",
   "metadata": {},
   "outputs": [
    {
     "name": "stdout",
     "output_type": "stream",
     "text": [
      "The first position where Santa enters the basement is: 1771.\n"
     ]
    }
   ],
   "source": [
    "# Step 2 (Modified): Implement the solution with position tracking\n",
    "floor = 0\n",
    "position = 0\n",
    "\n",
    "for i, char in enumerate(instructions, start=1):\n",
    "    if char == '(':\n",
    "        floor += 1\n",
    "    elif char == ')':\n",
    "        floor -= 1\n",
    "    if floor == -1:\n",
    "        position = i\n",
    "        break\n",
    "\n",
    "# Step 3: Output the result\n",
    "print(f\"The first position where Santa enters the basement is: {position}.\")\n"
   ]
  },
  {
   "cell_type": "code",
   "execution_count": 7,
   "id": "d97cea15-2210-4ce4-93e7-ce426ba39ccd",
   "metadata": {},
   "outputs": [
    {
     "name": "stdout",
     "output_type": "stream",
     "text": [
      "The first position where Santa enters the basement is: 1771.\n"
     ]
    }
   ],
   "source": [
    "print(f\"The first position where Santa enters the basement is: {next(i for i, floor in enumerate((sum(1 if c == '(' else -1 for c in instructions[:j]) for j in range(1, len(instructions) + 1)), start=1) if floor == -1)}.\")"
   ]
  },
  {
   "cell_type": "code",
   "execution_count": null,
   "id": "e5ccc42e-6e05-480b-a75d-85e265ebc86d",
   "metadata": {},
   "outputs": [],
   "source": []
  }
 ],
 "metadata": {
  "kernelspec": {
   "display_name": "Python 3 (ipykernel)",
   "language": "python",
   "name": "python3"
  },
  "language_info": {
   "codemirror_mode": {
    "name": "ipython",
    "version": 3
   },
   "file_extension": ".py",
   "mimetype": "text/x-python",
   "name": "python",
   "nbconvert_exporter": "python",
   "pygments_lexer": "ipython3",
   "version": "3.12.3"
  }
 },
 "nbformat": 4,
 "nbformat_minor": 5
}
