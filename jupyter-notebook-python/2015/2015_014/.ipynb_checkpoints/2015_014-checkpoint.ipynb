{
 "cells": [
  {
   "cell_type": "markdown",
   "id": "df260d6b",
   "metadata": {},
   "source": [
    "# Advent of Code"
   ]
  },
  {
   "cell_type": "markdown",
   "id": "65788037",
   "metadata": {},
   "source": [
    "## 2015-012-014\n",
    "## 2015 014"
   ]
  },
  {
   "cell_type": "markdown",
   "id": "3987c08f",
   "metadata": {},
   "source": [
    "https://adventofcode.com/2015/day/14"
   ]
  },
  {
   "cell_type": "code",
   "execution_count": null,
   "id": "258304d4",
   "metadata": {},
   "outputs": [],
   "source": []
  }
 ],
 "metadata": {},
 "nbformat": 4,
 "nbformat_minor": 5
}
