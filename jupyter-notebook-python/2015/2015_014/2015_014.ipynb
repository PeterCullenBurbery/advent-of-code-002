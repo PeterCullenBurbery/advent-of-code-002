{
 "cells": [
  {
   "cell_type": "markdown",
   "id": "df260d6b",
   "metadata": {},
   "source": [
    "# Advent of Code"
   ]
  },
  {
   "cell_type": "markdown",
   "id": "65788037",
   "metadata": {},
   "source": [
    "## 2015-012-014\n",
    "## 2015 014"
   ]
  },
  {
   "cell_type": "markdown",
   "id": "3987c08f",
   "metadata": {},
   "source": [
    "https://adventofcode.com/2015/day/14"
   ]
  },
  {
   "cell_type": "code",
   "execution_count": 1,
   "id": "258304d4",
   "metadata": {},
   "outputs": [
    {
     "name": "stdout",
     "output_type": "stream",
     "text": [
      "The winning reindeer is Rudolph with a distance of 2640 km.\n"
     ]
    }
   ],
   "source": [
    "def parse_input(filename):\n",
    "    reindeer = []\n",
    "    with open(filename, 'r') as file:\n",
    "        for line in file:\n",
    "            parts = line.strip().split()\n",
    "            name = parts[0]\n",
    "            speed = int(parts[3])  # km/s\n",
    "            fly_time = int(parts[6])  # seconds\n",
    "            rest_time = int(parts[-2])  # seconds\n",
    "            reindeer.append((name, speed, fly_time, rest_time))\n",
    "    return reindeer\n",
    "\n",
    "def calculate_distance(speed, fly_time, rest_time, total_time):\n",
    "    # Calculate the distance traveled in total_time\n",
    "    cycle_time = fly_time + rest_time\n",
    "    full_cycles = total_time // cycle_time\n",
    "    remaining_time = total_time % cycle_time\n",
    "    flying_time = min(fly_time, remaining_time)\n",
    "    return (full_cycles * fly_time + flying_time) * speed\n",
    "\n",
    "def find_winning_reindeer(reindeer, total_time):\n",
    "    max_distance = 0\n",
    "    winner = None\n",
    "    for name, speed, fly_time, rest_time in reindeer:\n",
    "        distance = calculate_distance(speed, fly_time, rest_time, total_time)\n",
    "        if distance > max_distance:\n",
    "            max_distance = distance\n",
    "            winner = name\n",
    "    return winner, max_distance\n",
    "\n",
    "# Parse input and calculate the winner\n",
    "filename = 'input.txt'\n",
    "reindeer = parse_input(filename)\n",
    "total_time = 2503\n",
    "winner, max_distance = find_winning_reindeer(reindeer, total_time)\n",
    "\n",
    "# Output the result\n",
    "print(f\"The winning reindeer is {winner} with a distance of {max_distance} km.\")\n"
   ]
  },
  {
   "cell_type": "code",
   "execution_count": 2,
   "id": "be86acb7-ef74-4f5d-b44d-03958eb52423",
   "metadata": {},
   "outputs": [
    {
     "name": "stdout",
     "output_type": "stream",
     "text": [
      "The winning reindeer is Donner with 1102 points.\n"
     ]
    }
   ],
   "source": [
    "from collections import defaultdict\n",
    "\n",
    "def parse_input(filename):\n",
    "    reindeer = []\n",
    "    with open(filename, 'r') as file:\n",
    "        for line in file:\n",
    "            parts = line.strip().split()\n",
    "            name = parts[0]\n",
    "            speed = int(parts[3])  # km/s\n",
    "            fly_time = int(parts[6])  # seconds\n",
    "            rest_time = int(parts[-2])  # seconds\n",
    "            reindeer.append((name, speed, fly_time, rest_time))\n",
    "    return reindeer\n",
    "\n",
    "def simulate_race(reindeer, total_time):\n",
    "    points = defaultdict(int)  # Track points for each reindeer\n",
    "    distances = {name: 0 for name, _, _, _ in reindeer}  # Track distances for each reindeer\n",
    "\n",
    "    for t in range(1, total_time + 1):\n",
    "        # Update distances for each reindeer\n",
    "        for name, speed, fly_time, rest_time in reindeer:\n",
    "            cycle_time = fly_time + rest_time\n",
    "            if t % cycle_time <= fly_time and t % cycle_time != 0:\n",
    "                distances[name] += speed\n",
    "\n",
    "        # Find the maximum distance at this second\n",
    "        max_distance = max(distances.values())\n",
    "\n",
    "        # Award points to all reindeer at the max distance\n",
    "        for name, distance in distances.items():\n",
    "            if distance == max_distance:\n",
    "                points[name] += 1\n",
    "\n",
    "    return points\n",
    "\n",
    "# Parse input and simulate the race\n",
    "filename = 'input.txt'\n",
    "reindeer = parse_input(filename)\n",
    "total_time = 2503\n",
    "points = simulate_race(reindeer, total_time)\n",
    "\n",
    "# Find the winning reindeer and their points\n",
    "winning_reindeer = max(points, key=points.get)\n",
    "max_points = points[winning_reindeer]\n",
    "\n",
    "# Output the result\n",
    "print(f\"The winning reindeer is {winning_reindeer} with {max_points} points.\")\n"
   ]
  },
  {
   "cell_type": "code",
   "execution_count": null,
   "id": "ca9f75c9-68b5-4453-a275-4f3b04d15dca",
   "metadata": {},
   "outputs": [],
   "source": []
  }
 ],
 "metadata": {
  "kernelspec": {
   "display_name": "Python 3 (ipykernel)",
   "language": "python",
   "name": "python3"
  },
  "language_info": {
   "codemirror_mode": {
    "name": "ipython",
    "version": 3
   },
   "file_extension": ".py",
   "mimetype": "text/x-python",
   "name": "python",
   "nbconvert_exporter": "python",
   "pygments_lexer": "ipython3",
   "version": "3.12.3"
  }
 },
 "nbformat": 4,
 "nbformat_minor": 5
}
