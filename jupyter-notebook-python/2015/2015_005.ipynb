{
 "cells": [
  {
   "cell_type": "markdown",
   "id": "b3c292c9",
   "metadata": {},
   "source": [
    "# Advent of Code"
   ]
  },
  {
   "cell_type": "markdown",
   "id": "6acbe099",
   "metadata": {},
   "source": [
    "## 2015-012-005\n",
    "## 2015 005"
   ]
  },
  {
   "cell_type": "markdown",
   "id": "f833e26e",
   "metadata": {},
   "source": [
    "https://adventofcode.com/2015/day/5"
   ]
  },
  {
   "cell_type": "code",
   "execution_count": null,
   "id": "d2282ab9",
   "metadata": {},
   "outputs": [],
   "source": []
  }
 ],
 "metadata": {
  "kernelspec": {
   "display_name": "Python 3 (ipykernel)",
   "language": "python",
   "name": "python3"
  },
  "language_info": {
   "name": "python",
   "version": "3.12.3"
  }
 },
 "nbformat": 4,
 "nbformat_minor": 5
}
