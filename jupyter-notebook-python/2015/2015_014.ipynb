{
 "cells": [
  {
   "cell_type": "markdown",
   "id": "3f986513",
   "metadata": {},
   "source": [
    "# Advent of Code"
   ]
  },
  {
   "cell_type": "markdown",
   "id": "e9428468",
   "metadata": {},
   "source": [
    "## 2015-012-014\n",
    "## 2015 014"
   ]
  },
  {
   "cell_type": "markdown",
   "id": "8cee2866",
   "metadata": {},
   "source": [
    "https://adventofcode.com/2015/day/14"
   ]
  },
  {
   "cell_type": "code",
   "execution_count": null,
   "id": "1469e4df",
   "metadata": {},
   "outputs": [],
   "source": []
  }
 ],
 "metadata": {
  "kernelspec": {
   "display_name": "Python 3 (ipykernel)",
   "language": "python",
   "name": "python3"
  },
  "language_info": {
   "name": "python",
   "version": "3.12.3"
  }
 },
 "nbformat": 4,
 "nbformat_minor": 5
}
