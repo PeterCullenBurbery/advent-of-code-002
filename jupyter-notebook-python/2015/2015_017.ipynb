{
 "cells": [
  {
   "cell_type": "markdown",
   "id": "03b9874c",
   "metadata": {},
   "source": [
    "# Advent of Code"
   ]
  },
  {
   "cell_type": "markdown",
   "id": "0e579e69",
   "metadata": {},
   "source": [
    "## 2015-012-017\n",
    "## 2015 017"
   ]
  },
  {
   "cell_type": "markdown",
   "id": "7ff97497",
   "metadata": {},
   "source": [
    "https://adventofcode.com/2015/day/17"
   ]
  },
  {
   "cell_type": "code",
   "execution_count": null,
   "id": "899387f7",
   "metadata": {},
   "outputs": [],
   "source": []
  }
 ],
 "metadata": {
  "kernelspec": {
   "display_name": "Python 3 (ipykernel)",
   "language": "python",
   "name": "python3"
  },
  "language_info": {
   "name": "python",
   "version": "3.12.3"
  }
 },
 "nbformat": 4,
 "nbformat_minor": 5
}
