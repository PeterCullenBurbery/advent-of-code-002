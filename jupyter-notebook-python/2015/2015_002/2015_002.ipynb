{
 "cells": [
  {
   "cell_type": "markdown",
   "id": "55406a91",
   "metadata": {},
   "source": [
    "# Advent of Code"
   ]
  },
  {
   "cell_type": "markdown",
   "id": "0679afa3",
   "metadata": {},
   "source": [
    "## 2015-012-002\n",
    "## 2015 002"
   ]
  },
  {
   "cell_type": "markdown",
   "id": "1343c4ce",
   "metadata": {},
   "source": [
    "https://adventofcode.com/2015/day/2"
   ]
  },
  {
   "cell_type": "code",
   "execution_count": 1,
   "id": "964d05c4",
   "metadata": {},
   "outputs": [
    {
     "name": "stdout",
     "output_type": "stream",
     "text": [
      "The total wrapping paper needed is: 1586300 square feet.\n"
     ]
    }
   ],
   "source": [
    "# Step 1: Read the input file and calculate the total wrapping paper required\n",
    "total_paper = sum(\n",
    "    2*l*w + 2*w*h + 2*h*l + min(l*w, w*h, h*l)  # Surface area + slack\n",
    "    for l, w, h in (map(int, line.split('x')) for line in open('input.txt').read().strip().splitlines())\n",
    ")\n",
    "\n",
    "# Step 2: Output the result\n",
    "print(f\"The total wrapping paper needed is: {total_paper} square feet.\")"
   ]
  },
  {
   "cell_type": "code",
   "execution_count": 2,
   "id": "2850a0c4-4de1-4f9c-94df-395d746537a1",
   "metadata": {},
   "outputs": [
    {
     "name": "stdout",
     "output_type": "stream",
     "text": [
      "The total ribbon needed is: 3737498 feet.\n"
     ]
    }
   ],
   "source": [
    "# Step 1: Read the input file and calculate the total ribbon required\n",
    "total_ribbon = sum(\n",
    "    2 * (l + w) + l * w * h  # Shortest perimeter + volume\n",
    "    for l, w, h in (sorted(map(int, line.split('x'))) for line in open('input.txt').read().strip().splitlines())\n",
    ")\n",
    "\n",
    "# Step 2: Output the result\n",
    "print(f\"The total ribbon needed is: {total_ribbon} feet.\")"
   ]
  },
  {
   "cell_type": "code",
   "execution_count": 3,
   "id": "46826280-1cdd-44be-a11e-7b771b11e259",
   "metadata": {},
   "outputs": [
    {
     "name": "stdout",
     "output_type": "stream",
     "text": [
      "The total wrapping paper needed is: 1586300 square feet.\n"
     ]
    }
   ],
   "source": [
    "print(f\"The total wrapping paper needed is: {sum(2*l*w + 2*w*h + 2*h*l + min(l*w, w*h, h*l) for l, w, h in (map(int, line.split('x')) for line in open('input.txt').read().strip().splitlines()))} square feet.\")"
   ]
  },
  {
   "cell_type": "code",
   "execution_count": 4,
   "id": "2727e4a7-4c52-4050-94b7-18b74e14c272",
   "metadata": {},
   "outputs": [
    {
     "name": "stdout",
     "output_type": "stream",
     "text": [
      "The total ribbon needed is: 3737498 feet.\n"
     ]
    }
   ],
   "source": [
    "print(f\"The total ribbon needed is: {sum(2 * (l + w) + l * w * h for l, w, h in (sorted(map(int, line.split('x'))) for line in open('input.txt').read().strip().splitlines()))} feet.\")"
   ]
  },
  {
   "cell_type": "code",
   "execution_count": null,
   "id": "7fdc9a0d-3f3a-49b9-9625-b807278927d4",
   "metadata": {},
   "outputs": [],
   "source": []
  }
 ],
 "metadata": {
  "kernelspec": {
   "display_name": "Python 3 (ipykernel)",
   "language": "python",
   "name": "python3"
  },
  "language_info": {
   "codemirror_mode": {
    "name": "ipython",
    "version": 3
   },
   "file_extension": ".py",
   "mimetype": "text/x-python",
   "name": "python",
   "nbconvert_exporter": "python",
   "pygments_lexer": "ipython3",
   "version": "3.12.3"
  }
 },
 "nbformat": 4,
 "nbformat_minor": 5
}
