{
 "cells": [
  {
   "cell_type": "markdown",
   "id": "8d8cb623",
   "metadata": {},
   "source": [
    "# Advent of Code"
   ]
  },
  {
   "cell_type": "markdown",
   "id": "497ab029",
   "metadata": {},
   "source": [
    "## 2015-012-023\n",
    "## 2015 023"
   ]
  },
  {
   "cell_type": "markdown",
   "id": "32e4314d",
   "metadata": {},
   "source": [
    "https://adventofcode.com/2015/day/23"
   ]
  },
  {
   "cell_type": "code",
   "execution_count": 1,
   "id": "3bc6432b",
   "metadata": {},
   "outputs": [
    {
     "name": "stdout",
     "output_type": "stream",
     "text": [
      "The value in register b is: 170\n"
     ]
    }
   ],
   "source": [
    "def run_program(instructions, registers):\n",
    "    \"\"\"\n",
    "    Runs the program with the given instructions and initial register values.\n",
    "\n",
    "    :param instructions: List of instructions (strings).\n",
    "    :param registers: Dictionary representing the registers and their initial values.\n",
    "    :return: The final state of the registers.\n",
    "    \"\"\"\n",
    "    pointer = 0  # Instruction pointer\n",
    "\n",
    "    while 0 <= pointer < len(instructions):\n",
    "        parts = instructions[pointer].split()\n",
    "        instr = parts[0]\n",
    "\n",
    "        if instr == \"hlf\":\n",
    "            r = parts[1]\n",
    "            registers[r] //= 2\n",
    "            pointer += 1\n",
    "        elif instr == \"tpl\":\n",
    "            r = parts[1]\n",
    "            registers[r] *= 3\n",
    "            pointer += 1\n",
    "        elif instr == \"inc\":\n",
    "            r = parts[1]\n",
    "            registers[r] += 1\n",
    "            pointer += 1\n",
    "        elif instr == \"jmp\":\n",
    "            offset = int(parts[1])\n",
    "            pointer += offset\n",
    "        elif instr == \"jie\":\n",
    "            r = parts[1].strip(\",\")\n",
    "            offset = int(parts[2])\n",
    "            pointer += offset if registers[r] % 2 == 0 else 1\n",
    "        elif instr == \"jio\":\n",
    "            r = parts[1].strip(\",\")\n",
    "            offset = int(parts[2])\n",
    "            pointer += offset if registers[r] == 1 else 1\n",
    "        else:\n",
    "            raise ValueError(f\"Unknown instruction: {instr}\")\n",
    "\n",
    "    return registers\n",
    "\n",
    "\n",
    "# Parse the input file and run the program\n",
    "with open(\"input.txt\", \"r\") as file:\n",
    "    instructions = [line.strip() for line in file.readlines()]\n",
    "\n",
    "# Initialize registers\n",
    "registers = {\"a\": 0, \"b\": 0}\n",
    "\n",
    "# Run the program\n",
    "final_registers = run_program(instructions, registers)\n",
    "print(f\"The value in register b is: {final_registers['b']}\")\n"
   ]
  },
  {
   "cell_type": "code",
   "execution_count": 2,
   "id": "c9d6d582-af8b-4fe9-8210-16504e966ae1",
   "metadata": {},
   "outputs": [
    {
     "name": "stdout",
     "output_type": "stream",
     "text": [
      "The value in register b with a starting at 1 is: 247\n"
     ]
    }
   ],
   "source": [
    "def run_program(instructions, registers):\n",
    "    \"\"\"\n",
    "    Runs the program with the given instructions and initial register values.\n",
    "\n",
    "    :param instructions: List of instructions (strings).\n",
    "    :param registers: Dictionary representing the registers and their initial values.\n",
    "    :return: The final state of the registers.\n",
    "    \"\"\"\n",
    "    pointer = 0  # Instruction pointer\n",
    "\n",
    "    while 0 <= pointer < len(instructions):\n",
    "        parts = instructions[pointer].split()\n",
    "        instr = parts[0]\n",
    "\n",
    "        if instr == \"hlf\":\n",
    "            r = parts[1]\n",
    "            registers[r] //= 2\n",
    "            pointer += 1\n",
    "        elif instr == \"tpl\":\n",
    "            r = parts[1]\n",
    "            registers[r] *= 3\n",
    "            pointer += 1\n",
    "        elif instr == \"inc\":\n",
    "            r = parts[1]\n",
    "            registers[r] += 1\n",
    "            pointer += 1\n",
    "        elif instr == \"jmp\":\n",
    "            offset = int(parts[1])\n",
    "            pointer += offset\n",
    "        elif instr == \"jie\":\n",
    "            r = parts[1].strip(\",\")\n",
    "            offset = int(parts[2])\n",
    "            pointer += offset if registers[r] % 2 == 0 else 1\n",
    "        elif instr == \"jio\":\n",
    "            r = parts[1].strip(\",\")\n",
    "            offset = int(parts[2])\n",
    "            pointer += offset if registers[r] == 1 else 1\n",
    "        else:\n",
    "            raise ValueError(f\"Unknown instruction: {instr}\")\n",
    "\n",
    "    return registers\n",
    "\n",
    "\n",
    "# Parse the input file and run the program\n",
    "with open(\"input.txt\", \"r\") as file:\n",
    "    instructions = [line.strip() for line in file.readlines()]\n",
    "\n",
    "# Initialize registers for Part Two\n",
    "registers = {\"a\": 1, \"b\": 0}\n",
    "\n",
    "# Run the program\n",
    "final_registers = run_program(instructions, registers)\n",
    "print(f\"The value in register b with a starting at 1 is: {final_registers['b']}\")\n"
   ]
  },
  {
   "cell_type": "code",
   "execution_count": null,
   "id": "0d1efe95-8751-4e3a-bca8-433dfacdf9ca",
   "metadata": {},
   "outputs": [],
   "source": []
  }
 ],
 "metadata": {
  "kernelspec": {
   "display_name": "Python 3 (ipykernel)",
   "language": "python",
   "name": "python3"
  },
  "language_info": {
   "codemirror_mode": {
    "name": "ipython",
    "version": 3
   },
   "file_extension": ".py",
   "mimetype": "text/x-python",
   "name": "python",
   "nbconvert_exporter": "python",
   "pygments_lexer": "ipython3",
   "version": "3.12.3"
  }
 },
 "nbformat": 4,
 "nbformat_minor": 5
}
