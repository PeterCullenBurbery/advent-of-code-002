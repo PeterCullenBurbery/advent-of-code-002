{
 "cells": [
  {
   "cell_type": "markdown",
   "id": "699d90ce",
   "metadata": {},
   "source": [
    "# Advent of Code"
   ]
  },
  {
   "cell_type": "markdown",
   "id": "26d722a5",
   "metadata": {},
   "source": [
    "## 2015-012-017\n",
    "## 2015 017"
   ]
  },
  {
   "cell_type": "markdown",
   "id": "6ca7aaa8",
   "metadata": {},
   "source": [
    "https://adventofcode.com/2015/day/17"
   ]
  },
  {
   "cell_type": "code",
   "execution_count": 1,
   "id": "7e34f800",
   "metadata": {},
   "outputs": [
    {
     "name": "stdout",
     "output_type": "stream",
     "text": [
      "The number of combinations that fit exactly 150 liters is: 4372\n"
     ]
    }
   ],
   "source": [
    "from itertools import combinations\n",
    "\n",
    "def parse_input(filename):\n",
    "    with open(filename, 'r') as file:\n",
    "        return [int(line.strip()) for line in file]\n",
    "\n",
    "def find_combinations(container_sizes, target):\n",
    "    valid_combinations = 0\n",
    "    for r in range(1, len(container_sizes) + 1):\n",
    "        for combination in combinations(container_sizes, r):\n",
    "            if sum(combination) == target:\n",
    "                valid_combinations += 1\n",
    "    return valid_combinations\n",
    "\n",
    "# Parse input\n",
    "filename = 'input.txt'\n",
    "container_sizes = parse_input(filename)\n",
    "target_volume = 150\n",
    "\n",
    "# Find all valid combinations\n",
    "num_combinations = find_combinations(container_sizes, target_volume)\n",
    "\n",
    "# Output the result\n",
    "print(f\"The number of combinations that fit exactly {target_volume} liters is: {num_combinations}\")\n"
   ]
  },
  {
   "cell_type": "code",
   "execution_count": 2,
   "id": "bffe3b8f-81fd-4fed-a25f-6a2447aa96b3",
   "metadata": {},
   "outputs": [
    {
     "name": "stdout",
     "output_type": "stream",
     "text": [
      "The minimum number of containers is: 4\n",
      "The number of ways to use 4 containers is: 4\n"
     ]
    }
   ],
   "source": [
    "from itertools import combinations\n",
    "\n",
    "def parse_input(filename):\n",
    "    with open(filename, 'r') as file:\n",
    "        return [int(line.strip()) for line in file]\n",
    "\n",
    "def find_min_container_combinations(container_sizes, target):\n",
    "    valid_combinations = []\n",
    "    \n",
    "    # Generate all combinations of containers\n",
    "    for r in range(1, len(container_sizes) + 1):\n",
    "        for combination in combinations(container_sizes, r):\n",
    "            if sum(combination) == target:\n",
    "                valid_combinations.append(combination)\n",
    "    \n",
    "    # Find the minimum number of containers\n",
    "    min_containers = min(len(c) for c in valid_combinations)\n",
    "    \n",
    "    # Count how many combinations use the minimum number of containers\n",
    "    min_count = sum(1 for c in valid_combinations if len(c) == min_containers)\n",
    "    \n",
    "    return min_containers, min_count\n",
    "\n",
    "# Parse input\n",
    "filename = 'input.txt'\n",
    "container_sizes = parse_input(filename)\n",
    "target_volume = 150\n",
    "\n",
    "# Find minimum container combinations\n",
    "min_containers, num_ways = find_min_container_combinations(container_sizes, target_volume)\n",
    "\n",
    "# Output the result\n",
    "print(f\"The minimum number of containers is: {min_containers}\")\n",
    "print(f\"The number of ways to use {min_containers} containers is: {num_ways}\")\n"
   ]
  },
  {
   "cell_type": "code",
   "execution_count": null,
   "id": "7074e800-f449-427b-8f57-7d4442bea530",
   "metadata": {},
   "outputs": [],
   "source": []
  }
 ],
 "metadata": {
  "kernelspec": {
   "display_name": "Python 3 (ipykernel)",
   "language": "python",
   "name": "python3"
  },
  "language_info": {
   "codemirror_mode": {
    "name": "ipython",
    "version": 3
   },
   "file_extension": ".py",
   "mimetype": "text/x-python",
   "name": "python",
   "nbconvert_exporter": "python",
   "pygments_lexer": "ipython3",
   "version": "3.12.3"
  }
 },
 "nbformat": 4,
 "nbformat_minor": 5
}
