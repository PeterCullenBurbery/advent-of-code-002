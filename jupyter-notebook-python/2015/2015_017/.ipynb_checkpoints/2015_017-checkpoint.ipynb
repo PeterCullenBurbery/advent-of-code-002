{
 "cells": [
  {
   "cell_type": "markdown",
   "id": "699d90ce",
   "metadata": {},
   "source": [
    "# Advent of Code"
   ]
  },
  {
   "cell_type": "markdown",
   "id": "26d722a5",
   "metadata": {},
   "source": [
    "## 2015-012-017\n",
    "## 2015 017"
   ]
  },
  {
   "cell_type": "markdown",
   "id": "6ca7aaa8",
   "metadata": {},
   "source": [
    "https://adventofcode.com/2015/day/17"
   ]
  },
  {
   "cell_type": "code",
   "execution_count": null,
   "id": "7e34f800",
   "metadata": {},
   "outputs": [],
   "source": []
  }
 ],
 "metadata": {},
 "nbformat": 4,
 "nbformat_minor": 5
}
