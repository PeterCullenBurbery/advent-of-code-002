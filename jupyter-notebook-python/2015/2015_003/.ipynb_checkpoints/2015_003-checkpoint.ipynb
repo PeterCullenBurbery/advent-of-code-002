{
 "cells": [
  {
   "cell_type": "markdown",
   "id": "bff2d2a9",
   "metadata": {},
   "source": [
    "# Advent of Code"
   ]
  },
  {
   "cell_type": "markdown",
   "id": "86708ee2",
   "metadata": {},
   "source": [
    "## 2015-012-003\n",
    "## 2015 003"
   ]
  },
  {
   "cell_type": "markdown",
   "id": "702a9470",
   "metadata": {},
   "source": [
    "https://adventofcode.com/2015/day/3"
   ]
  },
  {
   "cell_type": "code",
   "execution_count": 1,
   "id": "6a89f7af",
   "metadata": {},
   "outputs": [
    {
     "name": "stdout",
     "output_type": "stream",
     "text": [
      "Number of houses receiving at least one present: 2565\n"
     ]
    }
   ],
   "source": [
    "def houses_with_presents(directions):\n",
    "    # Initialize position and visited houses\n",
    "    x, y = 0, 0\n",
    "    visited = {(x, y)}  # Start with the initial house\n",
    "\n",
    "    # Process each direction\n",
    "    for move in directions:\n",
    "        if move == '^':  # Move north\n",
    "            y += 1\n",
    "        elif move == 'v':  # Move south\n",
    "            y -= 1\n",
    "        elif move == '>':  # Move east\n",
    "            x += 1\n",
    "        elif move == '<':  # Move west\n",
    "            x -= 1\n",
    "\n",
    "        visited.add((x, y))  # Add the current position to visited houses\n",
    "\n",
    "    return len(visited)  # Return the number of unique houses\n",
    "\n",
    "# Read input from the file\n",
    "with open('input.txt', 'r') as file:\n",
    "    directions = file.read().strip()\n",
    "\n",
    "# Get the result\n",
    "result = houses_with_presents(directions)\n",
    "\n",
    "# Output the result\n",
    "print(f\"Number of houses receiving at least one present: {result}\")\n"
   ]
  },
  {
   "cell_type": "code",
   "execution_count": 2,
   "id": "c5f30533-ef02-4923-92df-94642371a290",
   "metadata": {},
   "outputs": [
    {
     "name": "stdout",
     "output_type": "stream",
     "text": [
      "Number of houses receiving at least one present: 2565\n"
     ]
    }
   ],
   "source": [
    "print(f\"Number of houses receiving at least one present: {len(set((sum(1 if c == '>' else -1 if c == '<' else 0 for c in directions[:i+1]), sum(1 if c == '^' else -1 if c == 'v' else 0 for c in directions[:i+1])) for i in range(len(directions))))}\")"
   ]
  },
  {
   "cell_type": "code",
   "execution_count": 3,
   "id": "2937174c-0173-4376-9634-3fded5504db6",
   "metadata": {},
   "outputs": [
    {
     "name": "stdout",
     "output_type": "stream",
     "text": [
      "Number of houses receiving at least one present: 2639\n"
     ]
    }
   ],
   "source": [
    "def houses_with_presents_santa_and_robot(directions):\n",
    "    # Initialize positions and visited houses\n",
    "    santa_x, santa_y = 0, 0\n",
    "    robot_x, robot_y = 0, 0\n",
    "    visited = {(0, 0)}  # Start with the initial house\n",
    "\n",
    "    # Process each move, alternating between Santa and Robo-Santa\n",
    "    for i, move in enumerate(directions):\n",
    "        if i % 2 == 0:  # Santa's turn\n",
    "            if move == '^':\n",
    "                santa_y += 1\n",
    "            elif move == 'v':\n",
    "                santa_y -= 1\n",
    "            elif move == '>':\n",
    "                santa_x += 1\n",
    "            elif move == '<':\n",
    "                santa_x -= 1\n",
    "            visited.add((santa_x, santa_y))\n",
    "        else:  # Robo-Santa's turn\n",
    "            if move == '^':\n",
    "                robot_y += 1\n",
    "            elif move == 'v':\n",
    "                robot_y -= 1\n",
    "            elif move == '>':\n",
    "                robot_x += 1\n",
    "            elif move == '<':\n",
    "                robot_x -= 1\n",
    "            visited.add((robot_x, robot_y))\n",
    "\n",
    "    return len(visited)  # Return the number of unique houses\n",
    "\n",
    "# Read input from the file\n",
    "with open('input.txt', 'r') as file:\n",
    "    directions = file.read().strip()\n",
    "\n",
    "# Get the result\n",
    "result = houses_with_presents_santa_and_robot(directions)\n",
    "\n",
    "# Output the result\n",
    "print(f\"Number of houses receiving at least one present: {result}\")\n"
   ]
  },
  {
   "cell_type": "code",
   "execution_count": 4,
   "id": "050f7a5a-12ce-4fed-8685-933d312bd4d4",
   "metadata": {},
   "outputs": [
    {
     "name": "stdout",
     "output_type": "stream",
     "text": [
      "Number of houses receiving at least one present: 2639\n"
     ]
    }
   ],
   "source": [
    "with open('input.txt', 'r') as file:\n",
    "    directions = file.read().strip()\n",
    "\n",
    "print(f\"Number of houses receiving at least one present: {len(set((sum(1 if c == '>' else -1 if c == '<' else 0 for c in directions[::2][:i+1]), sum(1 if c == '^' else -1 if c == 'v' else 0 for c in directions[::2][:i+1])) for i in range(len(directions[::2]))) | set((sum(1 if c == '>' else -1 if c == '<' else 0 for c in directions[1::2][:i+1]), sum(1 if c == '^' else -1 if c == 'v' else 0 for c in directions[1::2][:i+1])) for i in range(len(directions[1::2]))))}\")\n"
   ]
  },
  {
   "cell_type": "code",
   "execution_count": null,
   "id": "06d009b9-350e-436a-bd63-adc8ffa69572",
   "metadata": {},
   "outputs": [],
   "source": []
  }
 ],
 "metadata": {
  "kernelspec": {
   "display_name": "Python 3 (ipykernel)",
   "language": "python",
   "name": "python3"
  },
  "language_info": {
   "codemirror_mode": {
    "name": "ipython",
    "version": 3
   },
   "file_extension": ".py",
   "mimetype": "text/x-python",
   "name": "python",
   "nbconvert_exporter": "python",
   "pygments_lexer": "ipython3",
   "version": "3.12.3"
  }
 },
 "nbformat": 4,
 "nbformat_minor": 5
}
