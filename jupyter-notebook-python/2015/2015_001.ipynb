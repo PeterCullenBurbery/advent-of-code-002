{
 "cells": [
  {
   "cell_type": "markdown",
   "id": "56155a19",
   "metadata": {},
   "source": [
    "# Advent of Code"
   ]
  },
  {
   "cell_type": "markdown",
   "id": "2ce688a1",
   "metadata": {},
   "source": [
    "## 2015-012-001\n",
    "## 2015 001"
   ]
  },
  {
   "cell_type": "markdown",
   "id": "44a05383",
   "metadata": {},
   "source": [
    "https://adventofcode.com/2015/day/1"
   ]
  },
  {
   "cell_type": "code",
   "execution_count": null,
   "id": "8235cc13-e5bf-4e78-aa62-c0c858047c99",
   "metadata": {},
   "outputs": [],
   "source": []
  }
 ],
 "metadata": {
  "kernelspec": {
   "display_name": "Python 3 (ipykernel)",
   "language": "python",
   "name": "python3"
  },
  "language_info": {
   "codemirror_mode": {
    "name": "ipython",
    "version": 3
   },
   "file_extension": ".py",
   "mimetype": "text/x-python",
   "name": "python",
   "nbconvert_exporter": "python",
   "pygments_lexer": "ipython3",
   "version": "3.12.3"
  }
 },
 "nbformat": 4,
 "nbformat_minor": 5
}
