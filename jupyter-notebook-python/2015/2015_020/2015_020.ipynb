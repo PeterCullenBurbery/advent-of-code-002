{
 "cells": [
  {
   "cell_type": "markdown",
   "id": "f1053d43",
   "metadata": {},
   "source": [
    "# Advent of Code"
   ]
  },
  {
   "cell_type": "markdown",
   "id": "33a778a0",
   "metadata": {},
   "source": [
    "## 2015-012-020\n",
    "## 2015 020"
   ]
  },
  {
   "cell_type": "markdown",
   "id": "f243582b",
   "metadata": {},
   "source": [
    "https://adventofcode.com/2015/day/20"
   ]
  },
  {
   "cell_type": "code",
   "execution_count": 1,
   "id": "8c048349",
   "metadata": {},
   "outputs": [
    {
     "name": "stdout",
     "output_type": "stream",
     "text": [
      "The lowest house number to get at least 36000000 presents is: 831600\n"
     ]
    }
   ],
   "source": [
    "def find_lowest_house(target_presents):\n",
    "    # Estimate an upper limit for houses\n",
    "    limit = target_presents // 10\n",
    "\n",
    "    # Create an array to store presents for each house\n",
    "    houses = [0] * (limit + 1)\n",
    "\n",
    "    # Calculate presents for each house\n",
    "    for elf in range(1, limit + 1):\n",
    "        for house in range(elf, limit + 1, elf):\n",
    "            houses[house] += elf * 10\n",
    "\n",
    "    # Find the first house with at least the target presents\n",
    "    for house, presents in enumerate(houses):\n",
    "        if presents >= target_presents:\n",
    "            return house\n",
    "\n",
    "# Input target\n",
    "target_presents = 36000000\n",
    "\n",
    "# Find the lowest house number\n",
    "lowest_house = find_lowest_house(target_presents)\n",
    "\n",
    "# Output the result\n",
    "print(f\"The lowest house number to get at least {target_presents} presents is: {lowest_house}\")\n"
   ]
  },
  {
   "cell_type": "code",
   "execution_count": 2,
   "id": "1b595f8f-11d8-445f-80b7-93c75c976e82",
   "metadata": {},
   "outputs": [
    {
     "name": "stdout",
     "output_type": "stream",
     "text": [
      "The lowest house number to get at least 36000000 presents is: 884520\n"
     ]
    }
   ],
   "source": [
    "def find_lowest_house_with_limit(target_presents):\n",
    "    # Estimate an upper limit for houses\n",
    "    limit = target_presents // 11\n",
    "\n",
    "    # Create an array to store presents for each house\n",
    "    houses = [0] * (limit + 1)\n",
    "\n",
    "    # Calculate presents for each house with the new rule\n",
    "    for elf in range(1, limit + 1):\n",
    "        for house in range(elf, min(limit + 1, elf * 50 + 1), elf):\n",
    "            houses[house] += elf * 11\n",
    "\n",
    "    # Find the first house with at least the target presents\n",
    "    for house, presents in enumerate(houses):\n",
    "        if presents >= target_presents:\n",
    "            return house\n",
    "\n",
    "# Input target\n",
    "target_presents = 36000000\n",
    "\n",
    "# Find the lowest house number\n",
    "lowest_house = find_lowest_house_with_limit(target_presents)\n",
    "\n",
    "# Output the result\n",
    "print(f\"The lowest house number to get at least {target_presents} presents is: {lowest_house}\")\n"
   ]
  },
  {
   "cell_type": "code",
   "execution_count": null,
   "id": "89a9e556-2922-4ca6-8b2f-834684a3fdd0",
   "metadata": {},
   "outputs": [],
   "source": []
  }
 ],
 "metadata": {
  "kernelspec": {
   "display_name": "Python 3 (ipykernel)",
   "language": "python",
   "name": "python3"
  },
  "language_info": {
   "codemirror_mode": {
    "name": "ipython",
    "version": 3
   },
   "file_extension": ".py",
   "mimetype": "text/x-python",
   "name": "python",
   "nbconvert_exporter": "python",
   "pygments_lexer": "ipython3",
   "version": "3.12.3"
  }
 },
 "nbformat": 4,
 "nbformat_minor": 5
}
