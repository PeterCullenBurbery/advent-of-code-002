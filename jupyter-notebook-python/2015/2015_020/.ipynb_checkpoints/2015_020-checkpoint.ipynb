{
 "cells": [
  {
   "cell_type": "markdown",
   "id": "f1053d43",
   "metadata": {},
   "source": [
    "# Advent of Code"
   ]
  },
  {
   "cell_type": "markdown",
   "id": "33a778a0",
   "metadata": {},
   "source": [
    "## 2015-012-020\n",
    "## 2015 020"
   ]
  },
  {
   "cell_type": "markdown",
   "id": "f243582b",
   "metadata": {},
   "source": [
    "https://adventofcode.com/2015/day/20"
   ]
  },
  {
   "cell_type": "code",
   "execution_count": null,
   "id": "8c048349",
   "metadata": {},
   "outputs": [],
   "source": []
  }
 ],
 "metadata": {},
 "nbformat": 4,
 "nbformat_minor": 5
}
