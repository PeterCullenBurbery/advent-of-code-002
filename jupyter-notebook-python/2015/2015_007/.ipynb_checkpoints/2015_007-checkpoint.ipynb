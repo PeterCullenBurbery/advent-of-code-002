{
 "cells": [
  {
   "cell_type": "markdown",
   "id": "92c4773b",
   "metadata": {},
   "source": [
    "# Advent of Code"
   ]
  },
  {
   "cell_type": "markdown",
   "id": "8f34e603",
   "metadata": {},
   "source": [
    "## 2015-012-007\n",
    "## 2015 007"
   ]
  },
  {
   "cell_type": "markdown",
   "id": "afde8e3f",
   "metadata": {},
   "source": [
    "https://adventofcode.com/2015/day/7"
   ]
  },
  {
   "cell_type": "code",
   "execution_count": null,
   "id": "d29112df",
   "metadata": {},
   "outputs": [],
   "source": []
  }
 ],
 "metadata": {},
 "nbformat": 4,
 "nbformat_minor": 5
}
