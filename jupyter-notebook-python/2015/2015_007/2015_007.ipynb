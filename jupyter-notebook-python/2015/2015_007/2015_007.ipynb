{
 "cells": [
  {
   "cell_type": "markdown",
   "id": "92c4773b",
   "metadata": {},
   "source": [
    "# Advent of Code"
   ]
  },
  {
   "cell_type": "markdown",
   "id": "8f34e603",
   "metadata": {},
   "source": [
    "## 2015-012-007\n",
    "## 2015 007"
   ]
  },
  {
   "cell_type": "markdown",
   "id": "afde8e3f",
   "metadata": {},
   "source": [
    "https://adventofcode.com/2015/day/7"
   ]
  },
  {
   "cell_type": "code",
   "execution_count": 1,
   "id": "d29112df",
   "metadata": {},
   "outputs": [
    {
     "name": "stdout",
     "output_type": "stream",
     "text": [
      "The signal to wire 'a' is: 3176\n"
     ]
    }
   ],
   "source": [
    "def parse_instruction(line):\n",
    "    # Parse a single instruction\n",
    "    parts = line.split(\" -> \")\n",
    "    command = parts[0]\n",
    "    target = parts[1]\n",
    "    return command, target\n",
    "\n",
    "def get_value(wire, circuit):\n",
    "    # Evaluate the value of a wire\n",
    "    if wire.isdigit():  # Return the value if it's a number\n",
    "        return int(wire)\n",
    "    if wire not in circuit:  # If the wire has no value, return 0\n",
    "        return 0\n",
    "    if isinstance(circuit[wire], int):  # Return cached value\n",
    "        return circuit[wire]\n",
    "\n",
    "    # Parse the command to compute the value\n",
    "    command = circuit[wire].split()\n",
    "    if \"AND\" in command:\n",
    "        value = get_value(command[0], circuit) & get_value(command[2], circuit)\n",
    "    elif \"OR\" in command:\n",
    "        value = get_value(command[0], circuit) | get_value(command[2], circuit)\n",
    "    elif \"LSHIFT\" in command:\n",
    "        value = get_value(command[0], circuit) << int(command[2])\n",
    "    elif \"RSHIFT\" in command:\n",
    "        value = get_value(command[0], circuit) >> int(command[2])\n",
    "    elif \"NOT\" in command:\n",
    "        value = ~get_value(command[1], circuit) & 0xFFFF\n",
    "    else:\n",
    "        value = get_value(command[0], circuit)\n",
    "\n",
    "    circuit[wire] = value  # Cache the computed value\n",
    "    return value\n",
    "\n",
    "# Read input and build the circuit\n",
    "with open(\"input.txt\", \"r\") as file:\n",
    "    instructions = file.readlines()\n",
    "\n",
    "circuit = {}\n",
    "for line in instructions:\n",
    "    command, target = parse_instruction(line.strip())\n",
    "    circuit[target] = command\n",
    "\n",
    "# Get the value of wire 'a'\n",
    "result = get_value(\"a\", circuit)\n",
    "print(f\"The signal to wire 'a' is: {result}\")\n"
   ]
  },
  {
   "cell_type": "code",
   "execution_count": 3,
   "id": "fb004480-bf1b-403d-848a-c8d19e2c39ee",
   "metadata": {},
   "outputs": [
    {
     "name": "stdout",
     "output_type": "stream",
     "text": [
      "The new signal to wire 'a' is: 14710\n"
     ]
    }
   ],
   "source": [
    "def parse_instruction(line):\n",
    "    # Parse a single instruction\n",
    "    parts = line.split(\" -> \")\n",
    "    command = parts[0]\n",
    "    target = parts[1]\n",
    "    return command, target\n",
    "\n",
    "def get_value(wire, circuit):\n",
    "    # Evaluate the value of a wire\n",
    "    if wire.isdigit():  # Return the value if it's a number\n",
    "        return int(wire)\n",
    "    if wire not in circuit:  # If the wire has no value, return 0\n",
    "        return 0\n",
    "    if isinstance(circuit[wire], int):  # Return cached value\n",
    "        return circuit[wire]\n",
    "\n",
    "    # Parse the command to compute the value\n",
    "    command = circuit[wire].split()\n",
    "    if \"AND\" in command:\n",
    "        value = get_value(command[0], circuit) & get_value(command[2], circuit)\n",
    "    elif \"OR\" in command:\n",
    "        value = get_value(command[0], circuit) | get_value(command[2], circuit)\n",
    "    elif \"LSHIFT\" in command:\n",
    "        value = get_value(command[0], circuit) << int(command[2])\n",
    "    elif \"RSHIFT\" in command:\n",
    "        value = get_value(command[0], circuit) >> int(command[2])\n",
    "    elif \"NOT\" in command:\n",
    "        value = ~get_value(command[1], circuit) & 0xFFFF\n",
    "    else:\n",
    "        value = get_value(command[0], circuit)\n",
    "\n",
    "    circuit[wire] = value  # Cache the computed value\n",
    "    return value\n",
    "\n",
    "# Read input and build the initial circuit\n",
    "with open(\"input.txt\", \"r\") as file:\n",
    "    instructions = file.readlines()\n",
    "\n",
    "# Part One: Compute the value of wire 'a'\n",
    "circuit = {}\n",
    "for line in instructions:\n",
    "    command, target = parse_instruction(line.strip())\n",
    "    circuit[target] = command\n",
    "\n",
    "signal_a = get_value(\"a\", circuit)\n",
    "\n",
    "# Part Two: Override wire 'b' and reset the circuit\n",
    "circuit = {}\n",
    "for line in instructions:\n",
    "    command, target = parse_instruction(line.strip())\n",
    "    circuit[target] = command\n",
    "\n",
    "circuit[\"b\"] = str(signal_a)  # Override wire 'b' with the signal from Part One\n",
    "new_signal_a = get_value(\"a\", circuit)\n",
    "\n",
    "# Output the result\n",
    "print(f\"The new signal to wire 'a' is: {new_signal_a}\")\n"
   ]
  },
  {
   "cell_type": "code",
   "execution_count": null,
   "id": "6d0d55e2-ff6b-493b-9500-4f4c41b54456",
   "metadata": {},
   "outputs": [],
   "source": []
  }
 ],
 "metadata": {
  "kernelspec": {
   "display_name": "Python 3 (ipykernel)",
   "language": "python",
   "name": "python3"
  },
  "language_info": {
   "codemirror_mode": {
    "name": "ipython",
    "version": 3
   },
   "file_extension": ".py",
   "mimetype": "text/x-python",
   "name": "python",
   "nbconvert_exporter": "python",
   "pygments_lexer": "ipython3",
   "version": "3.12.3"
  }
 },
 "nbformat": 4,
 "nbformat_minor": 5
}
