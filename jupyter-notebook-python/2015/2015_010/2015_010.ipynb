{
 "cells": [
  {
   "cell_type": "markdown",
   "id": "3f661b7b",
   "metadata": {},
   "source": [
    "# Advent of Code"
   ]
  },
  {
   "cell_type": "markdown",
   "id": "57b94dc0",
   "metadata": {},
   "source": [
    "## 2015-012-010\n",
    "## 2015 010"
   ]
  },
  {
   "cell_type": "markdown",
   "id": "6150c159",
   "metadata": {},
   "source": [
    "https://adventofcode.com/2015/day/10"
   ]
  },
  {
   "cell_type": "code",
   "execution_count": 1,
   "id": "33f684b3",
   "metadata": {},
   "outputs": [
    {
     "name": "stdout",
     "output_type": "stream",
     "text": [
      "The length of the result after 40 iterations is: 329356\n"
     ]
    }
   ],
   "source": [
    "from itertools import groupby\n",
    "\n",
    "def look_and_say(sequence):\n",
    "    result = []\n",
    "    for digit, group in groupby(sequence):\n",
    "        count = len(list(group))\n",
    "        result.append(f\"{count}{digit}\")\n",
    "    return ''.join(result)\n",
    "\n",
    "def apply_look_and_say(input_sequence, iterations):\n",
    "    sequence = input_sequence\n",
    "    for _ in range(iterations):\n",
    "        sequence = look_and_say(sequence)\n",
    "    return sequence\n",
    "\n",
    "# Puzzle input\n",
    "input_sequence = \"3113322113\"\n",
    "\n",
    "# Apply the look-and-say process 40 times\n",
    "result_sequence = apply_look_and_say(input_sequence, 40)\n",
    "\n",
    "# Output the length of the result\n",
    "print(f\"The length of the result after 40 iterations is: {len(result_sequence)}\")\n"
   ]
  },
  {
   "cell_type": "code",
   "execution_count": 2,
   "id": "c4ab134f-6f53-4558-8a71-4e9c3af75157",
   "metadata": {},
   "outputs": [
    {
     "name": "stdout",
     "output_type": "stream",
     "text": [
      "The length of the result after 50 iterations is: 4666278\n"
     ]
    }
   ],
   "source": [
    "# Apply the look-and-say process 40 times\n",
    "result_sequence_part_002 = apply_look_and_say(input_sequence, 50)\n",
    "\n",
    "# Output the length of the result\n",
    "print(f\"The length of the result after 50 iterations is: {len(result_sequence_part_002)}\")\n"
   ]
  },
  {
   "cell_type": "code",
   "execution_count": null,
   "id": "5864c733-cb59-43ae-b884-3e36d732075b",
   "metadata": {},
   "outputs": [],
   "source": []
  }
 ],
 "metadata": {
  "kernelspec": {
   "display_name": "Python 3 (ipykernel)",
   "language": "python",
   "name": "python3"
  },
  "language_info": {
   "codemirror_mode": {
    "name": "ipython",
    "version": 3
   },
   "file_extension": ".py",
   "mimetype": "text/x-python",
   "name": "python",
   "nbconvert_exporter": "python",
   "pygments_lexer": "ipython3",
   "version": "3.12.3"
  }
 },
 "nbformat": 4,
 "nbformat_minor": 5
}
