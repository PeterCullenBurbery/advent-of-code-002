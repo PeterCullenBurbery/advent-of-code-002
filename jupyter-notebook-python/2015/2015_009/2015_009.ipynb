{
 "cells": [
  {
   "cell_type": "markdown",
   "id": "deca9220",
   "metadata": {},
   "source": [
    "# Advent of Code"
   ]
  },
  {
   "cell_type": "markdown",
   "id": "4c1de46d",
   "metadata": {},
   "source": [
    "## 2015-012-009\n",
    "## 2015 009"
   ]
  },
  {
   "cell_type": "markdown",
   "id": "8ada78b3",
   "metadata": {},
   "source": [
    "https://adventofcode.com/2015/day/9"
   ]
  },
  {
   "cell_type": "code",
   "execution_count": 1,
   "id": "3e5896b1",
   "metadata": {},
   "outputs": [
    {
     "name": "stdout",
     "output_type": "stream",
     "text": [
      "The shortest distance is: 251\n"
     ]
    }
   ],
   "source": [
    "from itertools import permutations\n",
    "\n",
    "def parse_input(filename):\n",
    "    distances = {}\n",
    "    with open(filename, 'r') as file:\n",
    "        for line in file:\n",
    "            parts = line.strip().split(' = ')\n",
    "            cities, distance = parts[0], int(parts[1])\n",
    "            city1, city2 = cities.split(' to ')\n",
    "            distances[(city1, city2)] = distance\n",
    "            distances[(city2, city1)] = distance  # Distance is bidirectional\n",
    "    return distances\n",
    "\n",
    "def calculate_route_distance(route, distances):\n",
    "    return sum(distances[(route[i], route[i+1])] for i in range(len(route) - 1))\n",
    "\n",
    "def find_shortest_route(distances):\n",
    "    locations = set(city for pair in distances.keys() for city in pair)\n",
    "    shortest_distance = float('inf')\n",
    "    for route in permutations(locations):\n",
    "        distance = calculate_route_distance(route, distances)\n",
    "        shortest_distance = min(shortest_distance, distance)\n",
    "    return shortest_distance\n",
    "\n",
    "# Parse input and find the shortest route\n",
    "filename = 'input.txt'\n",
    "distances = parse_input(filename)\n",
    "shortest_distance = find_shortest_route(distances)\n",
    "\n",
    "# Output the result\n",
    "print(f\"The shortest distance is: {shortest_distance}\")\n"
   ]
  },
  {
   "cell_type": "code",
   "execution_count": 2,
   "id": "c30e0118-2d99-41b1-ae1d-f7f628d2f4ab",
   "metadata": {},
   "outputs": [
    {
     "name": "stdout",
     "output_type": "stream",
     "text": [
      "The longest distance is: 898\n"
     ]
    }
   ],
   "source": [
    "from itertools import permutations\n",
    "\n",
    "def parse_input(filename):\n",
    "    distances = {}\n",
    "    with open(filename, 'r') as file:\n",
    "        for line in file:\n",
    "            parts = line.strip().split(' = ')\n",
    "            cities, distance = parts[0], int(parts[1])\n",
    "            city1, city2 = cities.split(' to ')\n",
    "            distances[(city1, city2)] = distance\n",
    "            distances[(city2, city1)] = distance  # Distance is bidirectional\n",
    "    return distances\n",
    "\n",
    "def calculate_route_distance(route, distances):\n",
    "    return sum(distances[(route[i], route[i+1])] for i in range(len(route) - 1))\n",
    "\n",
    "def find_longest_route(distances):\n",
    "    locations = set(city for pair in distances.keys() for city in pair)\n",
    "    longest_distance = 0\n",
    "    for route in permutations(locations):\n",
    "        distance = calculate_route_distance(route, distances)\n",
    "        longest_distance = max(longest_distance, distance)\n",
    "    return longest_distance\n",
    "\n",
    "# Parse input and find the longest route\n",
    "filename = 'input.txt'\n",
    "distances = parse_input(filename)\n",
    "longest_distance = find_longest_route(distances)\n",
    "\n",
    "# Output the result\n",
    "print(f\"The longest distance is: {longest_distance}\")\n"
   ]
  },
  {
   "cell_type": "code",
   "execution_count": null,
   "id": "a939c480-2ec8-4df5-9c61-f3299b3aac9c",
   "metadata": {},
   "outputs": [],
   "source": []
  }
 ],
 "metadata": {
  "kernelspec": {
   "display_name": "Python 3 (ipykernel)",
   "language": "python",
   "name": "python3"
  },
  "language_info": {
   "codemirror_mode": {
    "name": "ipython",
    "version": 3
   },
   "file_extension": ".py",
   "mimetype": "text/x-python",
   "name": "python",
   "nbconvert_exporter": "python",
   "pygments_lexer": "ipython3",
   "version": "3.12.3"
  }
 },
 "nbformat": 4,
 "nbformat_minor": 5
}
