{
 "cells": [
  {
   "cell_type": "markdown",
   "id": "2bebce4e",
   "metadata": {},
   "source": [
    "# Advent of Code"
   ]
  },
  {
   "cell_type": "markdown",
   "id": "1e8e17a2",
   "metadata": {},
   "source": [
    "## 2015-012-025\n",
    "## 2015 025"
   ]
  },
  {
   "cell_type": "markdown",
   "id": "8068cbb2",
   "metadata": {},
   "source": [
    "https://adventofcode.com/2015/day/25"
   ]
  },
  {
   "cell_type": "code",
   "execution_count": null,
   "id": "94a6be08",
   "metadata": {},
   "outputs": [],
   "source": []
  }
 ],
 "metadata": {
  "kernelspec": {
   "display_name": "Python 3 (ipykernel)",
   "language": "python",
   "name": "python3"
  },
  "language_info": {
   "name": "python",
   "version": "3.12.3"
  }
 },
 "nbformat": 4,
 "nbformat_minor": 5
}
