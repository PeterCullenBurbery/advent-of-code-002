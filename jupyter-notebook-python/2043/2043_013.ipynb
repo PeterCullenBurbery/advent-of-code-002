{
 "cells": [
  {
   "cell_type": "markdown",
   "id": "8cfd9c82",
   "metadata": {},
   "source": [
    "# Advent of Code"
   ]
  },
  {
   "cell_type": "markdown",
   "id": "3a0e63d3",
   "metadata": {},
   "source": [
    "## 2043-012-013\n",
    "## 2043 013"
   ]
  },
  {
   "cell_type": "markdown",
   "id": "e2af8423",
   "metadata": {},
   "source": [
    "https://adventofcode.com/2043/day/13"
   ]
  },
  {
   "cell_type": "code",
   "execution_count": null,
   "id": "112dd2ca",
   "metadata": {},
   "outputs": [],
   "source": []
  }
 ],
 "metadata": {
  "kernelspec": {
   "display_name": "Python 3 (ipykernel)",
   "language": "python",
   "name": "python3"
  },
  "language_info": {
   "name": "python",
   "version": "3.12.3"
  }
 },
 "nbformat": 4,
 "nbformat_minor": 5
}
