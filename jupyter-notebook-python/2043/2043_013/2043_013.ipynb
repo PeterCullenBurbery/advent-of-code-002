{
 "cells": [
  {
   "cell_type": "markdown",
   "id": "9e4467f1",
   "metadata": {},
   "source": [
    "# Advent of Code"
   ]
  },
  {
   "cell_type": "markdown",
   "id": "41d9fc49",
   "metadata": {},
   "source": [
    "## 2043-012-013\n",
    "## 2043 013"
   ]
  },
  {
   "cell_type": "markdown",
   "id": "832839ca",
   "metadata": {},
   "source": [
    "https://adventofcode.com/2043/day/13"
   ]
  },
  {
   "cell_type": "code",
   "execution_count": null,
   "id": "ca755655",
   "metadata": {},
   "outputs": [],
   "source": []
  }
 ],
 "metadata": {},
 "nbformat": 4,
 "nbformat_minor": 5
}
