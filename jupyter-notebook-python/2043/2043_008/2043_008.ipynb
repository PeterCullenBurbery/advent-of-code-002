{
 "cells": [
  {
   "cell_type": "markdown",
   "id": "3be62f4e",
   "metadata": {},
   "source": [
    "# Advent of Code"
   ]
  },
  {
   "cell_type": "markdown",
   "id": "8b971b1d",
   "metadata": {},
   "source": [
    "## 2043-012-008\n",
    "## 2043 008"
   ]
  },
  {
   "cell_type": "markdown",
   "id": "cc962a79",
   "metadata": {},
   "source": [
    "https://adventofcode.com/2043/day/8"
   ]
  },
  {
   "cell_type": "code",
   "execution_count": null,
   "id": "fb24b667",
   "metadata": {},
   "outputs": [],
   "source": []
  }
 ],
 "metadata": {},
 "nbformat": 4,
 "nbformat_minor": 5
}
