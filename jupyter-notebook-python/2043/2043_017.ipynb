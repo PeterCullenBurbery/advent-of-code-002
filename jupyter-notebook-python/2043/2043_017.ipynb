{
 "cells": [
  {
   "cell_type": "markdown",
   "id": "efbb309e",
   "metadata": {},
   "source": [
    "# Advent of Code"
   ]
  },
  {
   "cell_type": "markdown",
   "id": "9af4a6ef",
   "metadata": {},
   "source": [
    "## 2043-012-017\n",
    "## 2043 017"
   ]
  },
  {
   "cell_type": "markdown",
   "id": "70b7f76a",
   "metadata": {},
   "source": [
    "https://adventofcode.com/2043/day/17"
   ]
  },
  {
   "cell_type": "code",
   "execution_count": null,
   "id": "85fdbec3",
   "metadata": {},
   "outputs": [],
   "source": []
  }
 ],
 "metadata": {
  "kernelspec": {
   "display_name": "Python 3 (ipykernel)",
   "language": "python",
   "name": "python3"
  },
  "language_info": {
   "name": "python",
   "version": "3.12.3"
  }
 },
 "nbformat": 4,
 "nbformat_minor": 5
}
