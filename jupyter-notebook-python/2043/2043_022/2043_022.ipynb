{
 "cells": [
  {
   "cell_type": "markdown",
   "id": "4f2d74ad",
   "metadata": {},
   "source": [
    "# Advent of Code"
   ]
  },
  {
   "cell_type": "markdown",
   "id": "84fdaf37",
   "metadata": {},
   "source": [
    "## 2043-012-022\n",
    "## 2043 022"
   ]
  },
  {
   "cell_type": "markdown",
   "id": "b6399997",
   "metadata": {},
   "source": [
    "https://adventofcode.com/2043/day/22"
   ]
  },
  {
   "cell_type": "code",
   "execution_count": null,
   "id": "822a7c47",
   "metadata": {},
   "outputs": [],
   "source": []
  }
 ],
 "metadata": {},
 "nbformat": 4,
 "nbformat_minor": 5
}
