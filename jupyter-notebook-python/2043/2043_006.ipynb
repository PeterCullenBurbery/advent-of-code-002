{
 "cells": [
  {
   "cell_type": "markdown",
   "id": "46584ef3",
   "metadata": {},
   "source": [
    "# Advent of Code"
   ]
  },
  {
   "cell_type": "markdown",
   "id": "3950f8c7",
   "metadata": {},
   "source": [
    "## 2043-012-006\n",
    "## 2043 006"
   ]
  },
  {
   "cell_type": "markdown",
   "id": "468adbbb",
   "metadata": {},
   "source": [
    "https://adventofcode.com/2043/day/6"
   ]
  },
  {
   "cell_type": "code",
   "execution_count": null,
   "id": "42a7ed1f",
   "metadata": {},
   "outputs": [],
   "source": []
  }
 ],
 "metadata": {
  "kernelspec": {
   "display_name": "Python 3 (ipykernel)",
   "language": "python",
   "name": "python3"
  },
  "language_info": {
   "name": "python",
   "version": "3.12.3"
  }
 },
 "nbformat": 4,
 "nbformat_minor": 5
}
