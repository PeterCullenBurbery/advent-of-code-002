{
 "cells": [
  {
   "cell_type": "markdown",
   "id": "8c32b1a8",
   "metadata": {},
   "source": [
    "# Advent of Code"
   ]
  },
  {
   "cell_type": "markdown",
   "id": "da2c4dc4",
   "metadata": {},
   "source": [
    "## 2020-012-021\n",
    "## 2020 021"
   ]
  },
  {
   "cell_type": "markdown",
   "id": "009b169a",
   "metadata": {},
   "source": [
    "https://adventofcode.com/2020/day/21"
   ]
  },
  {
   "cell_type": "code",
   "execution_count": null,
   "id": "cd9d1544",
   "metadata": {},
   "outputs": [],
   "source": []
  }
 ],
 "metadata": {},
 "nbformat": 4,
 "nbformat_minor": 5
}
