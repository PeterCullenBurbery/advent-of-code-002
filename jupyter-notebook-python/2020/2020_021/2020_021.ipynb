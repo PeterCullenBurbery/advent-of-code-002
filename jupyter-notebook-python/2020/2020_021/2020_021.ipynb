{
 "cells": [
  {
   "cell_type": "markdown",
   "id": "8c32b1a8",
   "metadata": {},
   "source": [
    "# Advent of Code"
   ]
  },
  {
   "cell_type": "markdown",
   "id": "da2c4dc4",
   "metadata": {},
   "source": [
    "## 2020-012-021\n",
    "## 2020 021"
   ]
  },
  {
   "cell_type": "markdown",
   "id": "009b169a",
   "metadata": {},
   "source": [
    "https://adventofcode.com/2020/day/21"
   ]
  },
  {
   "cell_type": "code",
   "execution_count": 1,
   "id": "cd9d1544",
   "metadata": {},
   "outputs": [
    {
     "data": {
      "text/plain": [
       "2302"
      ]
     },
     "execution_count": 1,
     "metadata": {},
     "output_type": "execute_result"
    }
   ],
   "source": [
    "# Parse the input file to extract foods and their allergens\n",
    "with open('input.txt', 'r') as file:\n",
    "    lines = file.readlines()\n",
    "\n",
    "foods = []\n",
    "for line in lines:\n",
    "    parts = line.strip().split(\" (contains \")\n",
    "    ingredients = set(parts[0].split())\n",
    "    allergens = set(parts[1][:-1].split(\", \")) if len(parts) > 1 else set()\n",
    "    foods.append((ingredients, allergens))\n",
    "\n",
    "# Create mappings of allergens to possible ingredients\n",
    "from collections import defaultdict\n",
    "\n",
    "allergen_to_ingredients = defaultdict(set)\n",
    "all_ingredients = set()\n",
    "ingredient_count = defaultdict(int)\n",
    "\n",
    "for ingredients, allergens in foods:\n",
    "    all_ingredients.update(ingredients)\n",
    "    for ingredient in ingredients:\n",
    "        ingredient_count[ingredient] += 1\n",
    "    for allergen in allergens:\n",
    "        if allergen in allergen_to_ingredients:\n",
    "            allergen_to_ingredients[allergen] &= ingredients\n",
    "        else:\n",
    "            allergen_to_ingredients[allergen] = ingredients.copy()\n",
    "\n",
    "# Determine which ingredients can never contain allergens\n",
    "possible_allergenic_ingredients = set()\n",
    "for ingredients in allergen_to_ingredients.values():\n",
    "    possible_allergenic_ingredients.update(ingredients)\n",
    "\n",
    "non_allergenic_ingredients = all_ingredients - possible_allergenic_ingredients\n",
    "\n",
    "# Count occurrences of non-allergenic ingredients\n",
    "non_allergenic_count = sum(ingredient_count[ingredient] for ingredient in non_allergenic_ingredients)\n",
    "\n",
    "non_allergenic_count"
   ]
  },
  {
   "cell_type": "code",
   "execution_count": 2,
   "id": "7452ea4e-26d3-42ac-9031-c0be71907142",
   "metadata": {},
   "outputs": [
    {
     "data": {
      "text/plain": [
       "'smfz,vhkj,qzlmr,tvdvzd,lcb,lrqqqsg,dfzqlk,shp'"
      ]
     },
     "execution_count": 2,
     "metadata": {},
     "output_type": "execute_result"
    }
   ],
   "source": [
    "# Deduce which ingredient contains which allergen\n",
    "resolved_allergens = {}\n",
    "while allergen_to_ingredients:\n",
    "    for allergen, ingredients in list(allergen_to_ingredients.items()):\n",
    "        # Remove resolved allergens from consideration\n",
    "        ingredients -= set(resolved_allergens.values())\n",
    "        if len(ingredients) == 1:  # If only one ingredient remains, it must be the one\n",
    "            resolved_ingredient = ingredients.pop()\n",
    "            resolved_allergens[allergen] = resolved_ingredient\n",
    "            del allergen_to_ingredients[allergen]\n",
    "\n",
    "# Sort ingredients alphabetically by allergen and create the canonical dangerous ingredient list\n",
    "canonical_dangerous_ingredient_list = \",\".join(\n",
    "    ingredient for _, ingredient in sorted(resolved_allergens.items())\n",
    ")\n",
    "\n",
    "canonical_dangerous_ingredient_list"
   ]
  },
  {
   "cell_type": "code",
   "execution_count": null,
   "id": "f283c0ef-e32f-40d4-b3bb-0b75b09b720e",
   "metadata": {},
   "outputs": [],
   "source": []
  }
 ],
 "metadata": {
  "kernelspec": {
   "display_name": "Python 3 (ipykernel)",
   "language": "python",
   "name": "python3"
  },
  "language_info": {
   "codemirror_mode": {
    "name": "ipython",
    "version": 3
   },
   "file_extension": ".py",
   "mimetype": "text/x-python",
   "name": "python",
   "nbconvert_exporter": "python",
   "pygments_lexer": "ipython3",
   "version": "3.12.3"
  }
 },
 "nbformat": 4,
 "nbformat_minor": 5
}
