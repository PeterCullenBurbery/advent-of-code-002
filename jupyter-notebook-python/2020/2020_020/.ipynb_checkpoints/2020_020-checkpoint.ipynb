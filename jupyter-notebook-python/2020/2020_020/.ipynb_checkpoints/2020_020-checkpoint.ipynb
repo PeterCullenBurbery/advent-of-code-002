{
 "cells": [
  {
   "cell_type": "markdown",
   "id": "dcfbc252",
   "metadata": {},
   "source": [
    "# Advent of Code"
   ]
  },
  {
   "cell_type": "markdown",
   "id": "587f9163",
   "metadata": {},
   "source": [
    "## 2020-012-020\n",
    "## 2020 020"
   ]
  },
  {
   "cell_type": "markdown",
   "id": "e4b7b179",
   "metadata": {},
   "source": [
    "https://adventofcode.com/2020/day/20"
   ]
  },
  {
   "cell_type": "code",
   "execution_count": null,
   "id": "8513374b",
   "metadata": {},
   "outputs": [],
   "source": []
  }
 ],
 "metadata": {},
 "nbformat": 4,
 "nbformat_minor": 5
}
