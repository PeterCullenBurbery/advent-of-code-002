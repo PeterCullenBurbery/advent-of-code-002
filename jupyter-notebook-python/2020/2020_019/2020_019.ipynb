{
 "cells": [
  {
   "cell_type": "markdown",
   "id": "2a5d0046",
   "metadata": {},
   "source": [
    "# Advent of Code"
   ]
  },
  {
   "cell_type": "markdown",
   "id": "bb3673b5",
   "metadata": {},
   "source": [
    "## 2020-012-019\n",
    "## 2020 019"
   ]
  },
  {
   "cell_type": "markdown",
   "id": "fba92a5c",
   "metadata": {},
   "source": [
    "https://adventofcode.com/2020/day/19"
   ]
  },
  {
   "cell_type": "code",
   "execution_count": null,
   "id": "81de610a",
   "metadata": {},
   "outputs": [],
   "source": []
  }
 ],
 "metadata": {},
 "nbformat": 4,
 "nbformat_minor": 5
}
