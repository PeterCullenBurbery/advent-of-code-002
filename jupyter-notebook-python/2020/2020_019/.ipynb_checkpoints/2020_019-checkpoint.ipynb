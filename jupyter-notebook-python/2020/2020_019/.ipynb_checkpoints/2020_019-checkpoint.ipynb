{
 "cells": [
  {
   "cell_type": "markdown",
   "id": "2a5d0046",
   "metadata": {},
   "source": [
    "# Advent of Code"
   ]
  },
  {
   "cell_type": "markdown",
   "id": "bb3673b5",
   "metadata": {},
   "source": [
    "## 2020-012-019\n",
    "## 2020 019"
   ]
  },
  {
   "cell_type": "markdown",
   "id": "fba92a5c",
   "metadata": {},
   "source": [
    "https://adventofcode.com/2020/day/19"
   ]
  },
  {
   "cell_type": "code",
   "execution_count": 2,
   "id": "81de610a",
   "metadata": {},
   "outputs": [
    {
     "data": {
      "text/plain": [
       "111"
      ]
     },
     "execution_count": 2,
     "metadata": {},
     "output_type": "execute_result"
    }
   ],
   "source": [
    "# Load and parse the input file\n",
    "file_path = 'input.txt'\n",
    "\n",
    "with open(file_path, 'r') as file:\n",
    "    input_data = file.read()\n",
    "\n",
    "# Separate rules and messages\n",
    "rules_section, messages_section = input_data.split(\"\\n\\n\")\n",
    "rules_lines = rules_section.split(\"\\n\")\n",
    "messages = messages_section.split(\"\\n\")\n",
    "\n",
    "# Parse rules\n",
    "import re\n",
    "from collections import defaultdict\n",
    "\n",
    "def parse_rule(line):\n",
    "    rule_id, rule_content = line.split(\": \")\n",
    "    rule_id = int(rule_id)\n",
    "    if '\"' in rule_content:\n",
    "        return rule_id, rule_content.replace('\"', '')\n",
    "    else:\n",
    "        parts = rule_content.split(\" | \")\n",
    "        sub_rules = [list(map(int, part.split())) for part in parts]\n",
    "        return rule_id, sub_rules\n",
    "\n",
    "rules = dict(parse_rule(line) for line in rules_lines)\n",
    "\n",
    "# Create a function to match messages\n",
    "def matches_rule(rules, rule_id, message, index=0):\n",
    "    rule = rules[rule_id]\n",
    "    if isinstance(rule, str):  # Terminal rule\n",
    "        if index < len(message) and message[index] == rule:\n",
    "            return [index + 1]  # Return next index if matched\n",
    "        return []\n",
    "    \n",
    "    matching_indices = []\n",
    "    for sub_rule in rule:\n",
    "        indices = [index]\n",
    "        for sub_id in sub_rule:\n",
    "            new_indices = []\n",
    "            for idx in indices:\n",
    "                new_indices.extend(matches_rule(rules, sub_id, message, idx))\n",
    "            indices = new_indices\n",
    "        matching_indices.extend(indices)\n",
    "    return matching_indices\n",
    "\n",
    "# Function to check if a message matches rule 0\n",
    "def matches_rule_zero(rules, message):\n",
    "    return len(message) in matches_rule(rules, 0, message)\n",
    "\n",
    "# Count matches\n",
    "valid_count = sum(1 for message in messages if matches_rule_zero(rules, message))\n",
    "\n",
    "valid_count"
   ]
  },
  {
   "cell_type": "code",
   "execution_count": 3,
   "id": "9687d64c-88c5-4313-909c-05f59a00041b",
   "metadata": {},
   "outputs": [
    {
     "data": {
      "text/plain": [
       "343"
      ]
     },
     "execution_count": 3,
     "metadata": {},
     "output_type": "execute_result"
    }
   ],
   "source": [
    "# Modify rules 8 and 11 to account for the new definitions with loops\n",
    "import functools\n",
    "\n",
    "def matches_rule_with_loops(rules, rule_id, message, index=0, depth=10):\n",
    "    \"\"\"\n",
    "    A modified matching function to handle loops in rules 8 and 11.\n",
    "    Includes a `depth` parameter to limit recursion depth for rule 8 and rule 11.\n",
    "    \"\"\"\n",
    "    if depth < 0:\n",
    "        return []\n",
    "\n",
    "    rule = rules[rule_id]\n",
    "    if isinstance(rule, str):  # Terminal rule\n",
    "        if index < len(message) and message[index] == rule:\n",
    "            return [index + 1]\n",
    "        return []\n",
    "\n",
    "    matching_indices = []\n",
    "    for sub_rule in rule:\n",
    "        indices = [index]\n",
    "        for sub_id in sub_rule:\n",
    "            new_indices = []\n",
    "            for idx in indices:\n",
    "                new_indices.extend(matches_rule_with_loops(rules, sub_id, message, idx, depth if rule_id not in (8, 11) else depth - 1))\n",
    "            indices = new_indices\n",
    "        matching_indices.extend(indices)\n",
    "    return matching_indices\n",
    "\n",
    "# Update rules 8 and 11 as specified\n",
    "rules[8] = [[42], [42, 8]]\n",
    "rules[11] = [[42, 31], [42, 11, 31]]\n",
    "\n",
    "# Check which messages match rule 0 with the updated rules\n",
    "def matches_rule_zero_with_loops(rules, message):\n",
    "    return len(message) in matches_rule_with_loops(rules, 0, message)\n",
    "\n",
    "# Count valid messages for updated rules\n",
    "valid_count_loops = sum(1 for message in messages if matches_rule_zero_with_loops(rules, message))\n",
    "\n",
    "valid_count_loops"
   ]
  },
  {
   "cell_type": "code",
   "execution_count": null,
   "id": "e4cdd5f2-e1be-4aca-bb51-2ff547b7ac87",
   "metadata": {},
   "outputs": [],
   "source": []
  }
 ],
 "metadata": {
  "kernelspec": {
   "display_name": "Python 3 (ipykernel)",
   "language": "python",
   "name": "python3"
  },
  "language_info": {
   "codemirror_mode": {
    "name": "ipython",
    "version": 3
   },
   "file_extension": ".py",
   "mimetype": "text/x-python",
   "name": "python",
   "nbconvert_exporter": "python",
   "pygments_lexer": "ipython3",
   "version": "3.12.3"
  }
 },
 "nbformat": 4,
 "nbformat_minor": 5
}
