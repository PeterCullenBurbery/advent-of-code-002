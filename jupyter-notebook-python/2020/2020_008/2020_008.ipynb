{
 "cells": [
  {
   "cell_type": "markdown",
   "id": "50b30a78",
   "metadata": {},
   "source": [
    "# Advent of Code"
   ]
  },
  {
   "cell_type": "markdown",
   "id": "85977806",
   "metadata": {},
   "source": [
    "## 2020-012-008\n",
    "## 2020 008"
   ]
  },
  {
   "cell_type": "markdown",
   "id": "5f8c7fed",
   "metadata": {},
   "source": [
    "https://adventofcode.com/2020/day/8"
   ]
  },
  {
   "cell_type": "code",
   "execution_count": 1,
   "id": "5c984c23",
   "metadata": {},
   "outputs": [
    {
     "data": {
      "text/plain": [
       "2051"
      ]
     },
     "execution_count": 1,
     "metadata": {},
     "output_type": "execute_result"
    }
   ],
   "source": [
    "# Parse the input into a list of instructions\n",
    "def parse_instructions(data):\n",
    "    return [(line.split()[0], int(line.split()[1])) for line in data.splitlines()]\n",
    "\n",
    "# Run the instructions and find the accumulator value before a loop occurs\n",
    "def run_instructions(instructions):\n",
    "    accumulator = 0\n",
    "    pointer = 0\n",
    "    executed = set()\n",
    "    \n",
    "    while pointer not in executed and pointer < len(instructions):\n",
    "        executed.add(pointer)\n",
    "        operation, argument = instructions[pointer]\n",
    "        \n",
    "        if operation == \"acc\":\n",
    "            accumulator += argument\n",
    "            pointer += 1\n",
    "        elif operation == \"jmp\":\n",
    "            pointer += argument\n",
    "        elif operation == \"nop\":\n",
    "            pointer += 1\n",
    "    \n",
    "    return accumulator\n",
    "\n",
    "# Read the input file\n",
    "file_path = 'input.txt'\n",
    "with open(file_path, 'r') as file:\n",
    "    data = file.read()\n",
    "\n",
    "# Parse the instructions and find the accumulator value before the loop\n",
    "instructions = parse_instructions(data)\n",
    "accumulator_value = run_instructions(instructions)\n",
    "\n",
    "accumulator_value\n"
   ]
  },
  {
   "cell_type": "code",
   "execution_count": 2,
   "id": "99be3fdb-fc3d-4cf3-9eb0-b14e70a746f6",
   "metadata": {},
   "outputs": [
    {
     "data": {
      "text/plain": [
       "2304"
      ]
     },
     "execution_count": 2,
     "metadata": {},
     "output_type": "execute_result"
    }
   ],
   "source": [
    "# Function to run the instructions and determine if the program terminates\n",
    "def run_and_check_termination(instructions):\n",
    "    accumulator = 0\n",
    "    pointer = 0\n",
    "    executed = set()\n",
    "    \n",
    "    while pointer not in executed:\n",
    "        if pointer == len(instructions):  # Program terminated successfully\n",
    "            return True, accumulator\n",
    "        if pointer > len(instructions) or pointer < 0:  # Pointer out of bounds\n",
    "            break\n",
    "        executed.add(pointer)\n",
    "        operation, argument = instructions[pointer]\n",
    "        \n",
    "        if operation == \"acc\":\n",
    "            accumulator += argument\n",
    "            pointer += 1\n",
    "        elif operation == \"jmp\":\n",
    "            pointer += argument\n",
    "        elif operation == \"nop\":\n",
    "            pointer += 1\n",
    "    \n",
    "    return False, accumulator\n",
    "\n",
    "# Function to find the corrupted instruction and repair the program\n",
    "def fix_and_run(instructions):\n",
    "    for i, (operation, argument) in enumerate(instructions):\n",
    "        if operation not in {\"jmp\", \"nop\"}:\n",
    "            continue  # Only try changing jmp to nop or nop to jmp\n",
    "        \n",
    "        # Create a copy of the instructions with the current instruction toggled\n",
    "        modified_instructions = instructions[:]\n",
    "        modified_instructions[i] = (\"nop\" if operation == \"jmp\" else \"jmp\", argument)\n",
    "        \n",
    "        # Check if the modified program terminates successfully\n",
    "        terminated, accumulator = run_and_check_termination(modified_instructions)\n",
    "        if terminated:\n",
    "            return accumulator\n",
    "\n",
    "# Find the accumulator value after the program terminates correctly\n",
    "fixed_accumulator_value = fix_and_run(instructions)\n",
    "\n",
    "fixed_accumulator_value"
   ]
  },
  {
   "cell_type": "code",
   "execution_count": null,
   "id": "c912d3a3-5958-4ec3-96c6-a992e4a2535a",
   "metadata": {},
   "outputs": [],
   "source": []
  }
 ],
 "metadata": {
  "kernelspec": {
   "display_name": "Python 3 (ipykernel)",
   "language": "python",
   "name": "python3"
  },
  "language_info": {
   "codemirror_mode": {
    "name": "ipython",
    "version": 3
   },
   "file_extension": ".py",
   "mimetype": "text/x-python",
   "name": "python",
   "nbconvert_exporter": "python",
   "pygments_lexer": "ipython3",
   "version": "3.12.3"
  }
 },
 "nbformat": 4,
 "nbformat_minor": 5
}
