{
 "cells": [
  {
   "cell_type": "markdown",
   "id": "16ed673a",
   "metadata": {},
   "source": [
    "# Advent of Code"
   ]
  },
  {
   "cell_type": "markdown",
   "id": "ac6e0773",
   "metadata": {},
   "source": [
    "## 2020-012-023\n",
    "## 2020 023"
   ]
  },
  {
   "cell_type": "markdown",
   "id": "d24943d5",
   "metadata": {},
   "source": [
    "https://adventofcode.com/2020/day/23"
   ]
  },
  {
   "cell_type": "code",
   "execution_count": null,
   "id": "907863cc",
   "metadata": {},
   "outputs": [],
   "source": []
  }
 ],
 "metadata": {
  "kernelspec": {
   "display_name": "Python 3 (ipykernel)",
   "language": "python",
   "name": "python3"
  },
  "language_info": {
   "name": "python",
   "version": "3.12.3"
  }
 },
 "nbformat": 4,
 "nbformat_minor": 5
}
