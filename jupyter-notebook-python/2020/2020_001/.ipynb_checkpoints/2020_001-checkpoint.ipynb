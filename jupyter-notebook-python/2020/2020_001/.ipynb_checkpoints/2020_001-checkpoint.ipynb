{
 "cells": [
  {
   "cell_type": "markdown",
   "id": "7cc1c696",
   "metadata": {},
   "source": [
    "# Advent of Code"
   ]
  },
  {
   "cell_type": "markdown",
   "id": "1e660c05",
   "metadata": {},
   "source": [
    "## 2020-012-001\n",
    "## 2020 001"
   ]
  },
  {
   "cell_type": "markdown",
   "id": "c41eb4ed",
   "metadata": {},
   "source": [
    "https://adventofcode.com/2020/day/1"
   ]
  },
  {
   "cell_type": "code",
   "execution_count": 1,
   "id": "ce6bc8dd",
   "metadata": {},
   "outputs": [
    {
     "name": "stdout",
     "output_type": "stream",
     "text": [
      "The product of the two entries is: 319531\n"
     ]
    }
   ],
   "source": [
    "def find_entries_and_multiply(filepath):\n",
    "    with open(filepath, 'r') as file:\n",
    "        numbers = list(map(int, file.readlines()))\n",
    "    \n",
    "    # Use a set for quick lookup\n",
    "    seen_numbers = set()\n",
    "    \n",
    "    for number in numbers:\n",
    "        complement = 2020 - number\n",
    "        if complement in seen_numbers:\n",
    "            return number * complement\n",
    "        seen_numbers.add(number)\n",
    "\n",
    "# Path to the input file\n",
    "filepath = './input.txt'\n",
    "result = find_entries_and_multiply(filepath)\n",
    "print(f\"The product of the two entries is: {result}\")\n"
   ]
  },
  {
   "cell_type": "code",
   "execution_count": 3,
   "id": "fee4c2e0-eee6-42b5-a166-7b1f0f2f5af2",
   "metadata": {},
   "outputs": [
    {
     "data": {
      "text/plain": [
       "244300320"
      ]
     },
     "execution_count": 3,
     "metadata": {},
     "output_type": "execute_result"
    }
   ],
   "source": [
    "# Reading the file and solving Part Two: finding three numbers that sum to 2020\n",
    "def find_three_entries_and_multiply(filepath):\n",
    "    with open(filepath, 'r') as file:\n",
    "        numbers = list(map(int, file.readlines()))\n",
    "\n",
    "    # Loop through each combination of three numbers\n",
    "    for i in range(len(numbers)):\n",
    "        for j in range(i + 1, len(numbers)):\n",
    "            for k in range(j + 1, len(numbers)):\n",
    "                if numbers[i] + numbers[j] + numbers[k] == 2020:\n",
    "                    return numbers[i] * numbers[j] * numbers[k]\n",
    "\n",
    "# Path to the uploaded file\n",
    "filepath = './input.txt'\n",
    "result_part_two = find_three_entries_and_multiply(filepath)\n",
    "result_part_two"
   ]
  },
  {
   "cell_type": "code",
   "execution_count": null,
   "id": "92b385e3-4641-40b1-ae28-c49f2f2db58d",
   "metadata": {},
   "outputs": [],
   "source": []
  }
 ],
 "metadata": {
  "kernelspec": {
   "display_name": "Python 3 (ipykernel)",
   "language": "python",
   "name": "python3"
  },
  "language_info": {
   "codemirror_mode": {
    "name": "ipython",
    "version": 3
   },
   "file_extension": ".py",
   "mimetype": "text/x-python",
   "name": "python",
   "nbconvert_exporter": "python",
   "pygments_lexer": "ipython3",
   "version": "3.12.3"
  }
 },
 "nbformat": 4,
 "nbformat_minor": 5
}
