{
 "cells": [
  {
   "cell_type": "markdown",
   "id": "7cc1c696",
   "metadata": {},
   "source": [
    "# Advent of Code"
   ]
  },
  {
   "cell_type": "markdown",
   "id": "1e660c05",
   "metadata": {},
   "source": [
    "## 2020-012-001\n",
    "## 2020 001"
   ]
  },
  {
   "cell_type": "markdown",
   "id": "c41eb4ed",
   "metadata": {},
   "source": [
    "https://adventofcode.com/2020/day/1"
   ]
  },
  {
   "cell_type": "code",
   "execution_count": null,
   "id": "ce6bc8dd",
   "metadata": {},
   "outputs": [],
   "source": []
  }
 ],
 "metadata": {},
 "nbformat": 4,
 "nbformat_minor": 5
}
