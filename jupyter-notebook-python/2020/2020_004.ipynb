{
 "cells": [
  {
   "cell_type": "markdown",
   "id": "d60c2d26",
   "metadata": {},
   "source": [
    "# Advent of Code"
   ]
  },
  {
   "cell_type": "markdown",
   "id": "10b244eb",
   "metadata": {},
   "source": [
    "## 2020-012-004\n",
    "## 2020 004"
   ]
  },
  {
   "cell_type": "markdown",
   "id": "334d7579",
   "metadata": {},
   "source": [
    "https://adventofcode.com/2020/day/4"
   ]
  },
  {
   "cell_type": "code",
   "execution_count": null,
   "id": "5a4a2e04",
   "metadata": {},
   "outputs": [],
   "source": []
  }
 ],
 "metadata": {
  "kernelspec": {
   "display_name": "Python 3 (ipykernel)",
   "language": "python",
   "name": "python3"
  },
  "language_info": {
   "name": "python",
   "version": "3.12.3"
  }
 },
 "nbformat": 4,
 "nbformat_minor": 5
}
