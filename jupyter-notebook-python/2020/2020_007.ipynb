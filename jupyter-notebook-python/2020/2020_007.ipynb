{
 "cells": [
  {
   "cell_type": "markdown",
   "id": "6e28a8c0",
   "metadata": {},
   "source": [
    "# Advent of Code"
   ]
  },
  {
   "cell_type": "markdown",
   "id": "d6ba8a80",
   "metadata": {},
   "source": [
    "## 2020-012-007\n",
    "## 2020 007"
   ]
  },
  {
   "cell_type": "markdown",
   "id": "16953b9f",
   "metadata": {},
   "source": [
    "https://adventofcode.com/2020/day/7"
   ]
  },
  {
   "cell_type": "code",
   "execution_count": null,
   "id": "df7fd4f9",
   "metadata": {},
   "outputs": [],
   "source": []
  }
 ],
 "metadata": {
  "kernelspec": {
   "display_name": "Python 3 (ipykernel)",
   "language": "python",
   "name": "python3"
  },
  "language_info": {
   "name": "python",
   "version": "3.12.3"
  }
 },
 "nbformat": 4,
 "nbformat_minor": 5
}
