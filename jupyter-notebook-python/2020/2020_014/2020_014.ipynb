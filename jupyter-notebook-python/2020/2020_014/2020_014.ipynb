{
 "cells": [
  {
   "cell_type": "markdown",
   "id": "164ff1f6",
   "metadata": {},
   "source": [
    "# Advent of Code"
   ]
  },
  {
   "cell_type": "markdown",
   "id": "cf726059",
   "metadata": {},
   "source": [
    "## 2020-012-014\n",
    "## 2020 014"
   ]
  },
  {
   "cell_type": "markdown",
   "id": "7e821f7c",
   "metadata": {},
   "source": [
    "https://adventofcode.com/2020/day/14"
   ]
  },
  {
   "cell_type": "code",
   "execution_count": null,
   "id": "94dab6f8",
   "metadata": {},
   "outputs": [],
   "source": []
  }
 ],
 "metadata": {},
 "nbformat": 4,
 "nbformat_minor": 5
}
