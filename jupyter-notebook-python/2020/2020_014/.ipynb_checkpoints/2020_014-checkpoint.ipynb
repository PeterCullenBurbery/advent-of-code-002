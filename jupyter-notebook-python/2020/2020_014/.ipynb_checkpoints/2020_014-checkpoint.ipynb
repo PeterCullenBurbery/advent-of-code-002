{
 "cells": [
  {
   "cell_type": "markdown",
   "id": "164ff1f6",
   "metadata": {},
   "source": [
    "# Advent of Code"
   ]
  },
  {
   "cell_type": "markdown",
   "id": "cf726059",
   "metadata": {},
   "source": [
    "## 2020-012-014\n",
    "## 2020 014"
   ]
  },
  {
   "cell_type": "markdown",
   "id": "7e821f7c",
   "metadata": {},
   "source": [
    "https://adventofcode.com/2020/day/14"
   ]
  },
  {
   "cell_type": "code",
   "execution_count": 1,
   "id": "94dab6f8",
   "metadata": {},
   "outputs": [
    {
     "data": {
      "text/plain": [
       "6386593869035"
      ]
     },
     "execution_count": 1,
     "metadata": {},
     "output_type": "execute_result"
    }
   ],
   "source": [
    "# Function to parse and process the docking data\n",
    "def docking_data_sum(file_path):\n",
    "    with open(file_path, 'r') as file:\n",
    "        lines = file.readlines()\n",
    "\n",
    "    memory = {}\n",
    "    mask = None\n",
    "\n",
    "    for line in lines:\n",
    "        if line.startswith(\"mask\"):\n",
    "            # Update the current mask\n",
    "            mask = line.strip().split(\" = \")[1]\n",
    "        elif line.startswith(\"mem\"):\n",
    "            # Extract memory address and value\n",
    "            address, value = line.strip().split(\" = \")\n",
    "            address = int(address[4:-1])  # Extract numeric part of mem[...]\n",
    "            value = int(value)\n",
    "\n",
    "            # Apply the mask to the value\n",
    "            binary_value = f\"{value:036b}\"  # Convert value to 36-bit binary\n",
    "            masked_value = \"\".join(\n",
    "                value_bit if mask_bit == \"X\" else mask_bit\n",
    "                for value_bit, mask_bit in zip(binary_value, mask)\n",
    "            )\n",
    "\n",
    "            # Convert masked binary value back to integer and store in memory\n",
    "            memory[address] = int(masked_value, 2)\n",
    "\n",
    "    # Calculate the sum of all values left in memory\n",
    "    return sum(memory.values())\n",
    "\n",
    "# Path to the input file\n",
    "file_path = 'input.txt'\n",
    "result = docking_data_sum(file_path)\n",
    "result"
   ]
  },
  {
   "cell_type": "code",
   "execution_count": 2,
   "id": "d0fb2d74-49e5-4804-b2a3-e6dc766fb8a8",
   "metadata": {},
   "outputs": [
    {
     "data": {
      "text/plain": [
       "4288986482164"
      ]
     },
     "execution_count": 2,
     "metadata": {},
     "output_type": "execute_result"
    }
   ],
   "source": [
    "from itertools import product\n",
    "\n",
    "# Function to parse and process the docking data for version 2 decoder chip\n",
    "def docking_data_sum_v2(file_path):\n",
    "    with open(file_path, 'r') as file:\n",
    "        lines = file.readlines()\n",
    "\n",
    "    memory = {}\n",
    "    mask = None\n",
    "\n",
    "    for line in lines:\n",
    "        if line.startswith(\"mask\"):\n",
    "            # Update the current mask\n",
    "            mask = line.strip().split(\" = \")[1]\n",
    "        elif line.startswith(\"mem\"):\n",
    "            # Extract memory address and value\n",
    "            address, value = line.strip().split(\" = \")\n",
    "            address = int(address[4:-1])  # Extract numeric part of mem[...]\n",
    "            value = int(value)\n",
    "\n",
    "            # Apply the mask to the memory address\n",
    "            binary_address = f\"{address:036b}\"  # Convert address to 36-bit binary\n",
    "            masked_address = [\n",
    "                address_bit if mask_bit == \"0\" else mask_bit\n",
    "                for address_bit, mask_bit in zip(binary_address, mask)\n",
    "            ]\n",
    "\n",
    "            # Generate all possible addresses from the floating bits\n",
    "            floating_positions = [i for i, bit in enumerate(masked_address) if bit == \"X\"]\n",
    "            for combination in product(\"01\", repeat=len(floating_positions)):\n",
    "                for i, bit in zip(floating_positions, combination):\n",
    "                    masked_address[i] = bit\n",
    "                # Convert masked binary address to integer and write to memory\n",
    "                final_address = int(\"\".join(masked_address), 2)\n",
    "                memory[final_address] = value\n",
    "\n",
    "    # Calculate the sum of all values left in memory\n",
    "    return sum(memory.values())\n",
    "\n",
    "# Path to the input file\n",
    "result_v2 = docking_data_sum_v2(file_path)\n",
    "result_v2"
   ]
  },
  {
   "cell_type": "code",
   "execution_count": null,
   "id": "37c56942-8a48-4397-bd66-ba37d9ecf265",
   "metadata": {},
   "outputs": [],
   "source": []
  }
 ],
 "metadata": {
  "kernelspec": {
   "display_name": "Python 3 (ipykernel)",
   "language": "python",
   "name": "python3"
  },
  "language_info": {
   "codemirror_mode": {
    "name": "ipython",
    "version": 3
   },
   "file_extension": ".py",
   "mimetype": "text/x-python",
   "name": "python",
   "nbconvert_exporter": "python",
   "pygments_lexer": "ipython3",
   "version": "3.12.3"
  }
 },
 "nbformat": 4,
 "nbformat_minor": 5
}
