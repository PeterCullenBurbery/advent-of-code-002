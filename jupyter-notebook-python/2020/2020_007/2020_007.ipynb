{
 "cells": [
  {
   "cell_type": "markdown",
   "id": "a1dfea30",
   "metadata": {},
   "source": [
    "# Advent of Code"
   ]
  },
  {
   "cell_type": "markdown",
   "id": "40d280ed",
   "metadata": {},
   "source": [
    "## 2020-012-007\n",
    "## 2020 007"
   ]
  },
  {
   "cell_type": "markdown",
   "id": "14a1429b",
   "metadata": {},
   "source": [
    "https://adventofcode.com/2020/day/7"
   ]
  },
  {
   "cell_type": "code",
   "execution_count": 2,
   "id": "4a44e88e",
   "metadata": {},
   "outputs": [
    {
     "data": {
      "text/plain": [
       "148"
      ]
     },
     "execution_count": 2,
     "metadata": {},
     "output_type": "execute_result"
    }
   ],
   "source": [
    "from collections import defaultdict\n",
    "import re\n",
    "\n",
    "# Parse the input into a dictionary where keys are bag colors and values are the bags they can contain\n",
    "def parse_bag_rules(data):\n",
    "    bag_rules = defaultdict(list)\n",
    "    lines = data.splitlines()\n",
    "    for line in lines:\n",
    "        container, contained = line.split(\" bags contain \")\n",
    "        if \"no other bags\" in contained:\n",
    "            continue\n",
    "        contained_bags = re.findall(r\"(\\d+) ([a-z ]+) bag\", contained)\n",
    "        for _, color in contained_bags:\n",
    "            bag_rules[color].append(container)\n",
    "    return bag_rules\n",
    "\n",
    "# Perform a depth-first search to find all unique outer bags that can contain the target bag\n",
    "def find_outer_bags(bag_rules, target_bag):\n",
    "    stack = [target_bag]\n",
    "    visited = set()\n",
    "    while stack:\n",
    "        current_bag = stack.pop()\n",
    "        if current_bag in visited:\n",
    "            continue\n",
    "        visited.add(current_bag)\n",
    "        stack.extend(bag_rules[current_bag])\n",
    "    return len(visited) - 1  # Exclude the target bag itself\n",
    "\n",
    "# Read the input file\n",
    "file_path = 'input.txt'\n",
    "with open(file_path, 'r') as file:\n",
    "    data = file.read()\n",
    "\n",
    "# Parse the bag rules and find the count of unique outer bags for \"shiny gold\"\n",
    "bag_rules = parse_bag_rules(data)\n",
    "outer_bags_count = find_outer_bags(bag_rules, \"shiny gold\")\n",
    "\n",
    "outer_bags_count"
   ]
  },
  {
   "cell_type": "code",
   "execution_count": 3,
   "id": "072908fd-645a-40d6-88ca-6305607e081b",
   "metadata": {},
   "outputs": [
    {
     "data": {
      "text/plain": [
       "24867"
      ]
     },
     "execution_count": 3,
     "metadata": {},
     "output_type": "execute_result"
    }
   ],
   "source": [
    "# Parse the input into a dictionary where keys are bag colors and values are the bags they contain (with counts)\n",
    "def parse_bag_contents(data):\n",
    "    bag_contents = {}\n",
    "    lines = data.splitlines()\n",
    "    for line in lines:\n",
    "        container, contained = line.split(\" bags contain \")\n",
    "        contents = {}\n",
    "        if \"no other bags\" not in contained:\n",
    "            contained_bags = re.findall(r\"(\\d+) ([a-z ]+) bag\", contained)\n",
    "            for count, color in contained_bags:\n",
    "                contents[color] = int(count)\n",
    "        bag_contents[container] = contents\n",
    "    return bag_contents\n",
    "\n",
    "# Recursive function to count all bags inside a target bag\n",
    "def count_inner_bags(bag_contents, target_bag):\n",
    "    if not bag_contents[target_bag]:  # Base case: no other bags inside\n",
    "        return 0\n",
    "    count = 0\n",
    "    for color, num in bag_contents[target_bag].items():\n",
    "        count += num + num * count_inner_bags(bag_contents, color)\n",
    "    return count\n",
    "\n",
    "# Parse the bag contents and calculate the total number of bags inside \"shiny gold\"\n",
    "bag_contents = parse_bag_contents(data)\n",
    "total_inner_bags = count_inner_bags(bag_contents, \"shiny gold\")\n",
    "\n",
    "total_inner_bags"
   ]
  },
  {
   "cell_type": "code",
   "execution_count": null,
   "id": "2ce5ed41-021a-43e8-8352-d8a7d40f22e1",
   "metadata": {},
   "outputs": [],
   "source": []
  }
 ],
 "metadata": {
  "kernelspec": {
   "display_name": "Python 3 (ipykernel)",
   "language": "python",
   "name": "python3"
  },
  "language_info": {
   "codemirror_mode": {
    "name": "ipython",
    "version": 3
   },
   "file_extension": ".py",
   "mimetype": "text/x-python",
   "name": "python",
   "nbconvert_exporter": "python",
   "pygments_lexer": "ipython3",
   "version": "3.12.3"
  }
 },
 "nbformat": 4,
 "nbformat_minor": 5
}
