{
 "cells": [
  {
   "cell_type": "markdown",
   "id": "a1dfea30",
   "metadata": {},
   "source": [
    "# Advent of Code"
   ]
  },
  {
   "cell_type": "markdown",
   "id": "40d280ed",
   "metadata": {},
   "source": [
    "## 2020-012-007\n",
    "## 2020 007"
   ]
  },
  {
   "cell_type": "markdown",
   "id": "14a1429b",
   "metadata": {},
   "source": [
    "https://adventofcode.com/2020/day/7"
   ]
  },
  {
   "cell_type": "code",
   "execution_count": null,
   "id": "4a44e88e",
   "metadata": {},
   "outputs": [],
   "source": []
  }
 ],
 "metadata": {},
 "nbformat": 4,
 "nbformat_minor": 5
}
