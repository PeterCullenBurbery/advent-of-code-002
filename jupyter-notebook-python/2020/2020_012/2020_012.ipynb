{
 "cells": [
  {
   "cell_type": "markdown",
   "id": "15e7a329",
   "metadata": {},
   "source": [
    "# Advent of Code"
   ]
  },
  {
   "cell_type": "markdown",
   "id": "adfa4810",
   "metadata": {},
   "source": [
    "## 2020-012-012\n",
    "## 2020 012"
   ]
  },
  {
   "cell_type": "markdown",
   "id": "2c573bce",
   "metadata": {},
   "source": [
    "https://adventofcode.com/2020/day/12"
   ]
  },
  {
   "cell_type": "code",
   "execution_count": null,
   "id": "bdd3b3b8",
   "metadata": {},
   "outputs": [],
   "source": []
  }
 ],
 "metadata": {},
 "nbformat": 4,
 "nbformat_minor": 5
}
