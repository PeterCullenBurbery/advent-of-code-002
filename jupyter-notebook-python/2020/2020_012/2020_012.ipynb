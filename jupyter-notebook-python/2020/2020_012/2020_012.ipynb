{
 "cells": [
  {
   "cell_type": "markdown",
   "id": "15e7a329",
   "metadata": {},
   "source": [
    "# Advent of Code"
   ]
  },
  {
   "cell_type": "markdown",
   "id": "adfa4810",
   "metadata": {},
   "source": [
    "## 2020-012-012\n",
    "## 2020 012"
   ]
  },
  {
   "cell_type": "markdown",
   "id": "2c573bce",
   "metadata": {},
   "source": [
    "https://adventofcode.com/2020/day/12"
   ]
  },
  {
   "cell_type": "code",
   "execution_count": 2,
   "id": "bdd3b3b8",
   "metadata": {},
   "outputs": [
    {
     "data": {
      "text/plain": [
       "1603"
      ]
     },
     "execution_count": 2,
     "metadata": {},
     "output_type": "execute_result"
    }
   ],
   "source": [
    "# Load the input file and parse the instructions\n",
    "with open('input.txt', 'r') as file:\n",
    "    instructions = file.read().strip().split('\\n')\n",
    "\n",
    "# Initialize the ship's position and direction\n",
    "position = {'x': 0, 'y': 0}\n",
    "direction = 'E'\n",
    "\n",
    "# Define direction mappings for turning and movement\n",
    "directions = ['N', 'E', 'S', 'W']  # Clockwise order\n",
    "movement = {'N': (0, 1), 'S': (0, -1), 'E': (1, 0), 'W': (-1, 0)}\n",
    "\n",
    "# Function to turn the ship\n",
    "def turn(current_direction, turn_direction, degrees):\n",
    "    index = directions.index(current_direction)\n",
    "    steps = degrees // 90\n",
    "    if turn_direction == 'L':\n",
    "        index = (index - steps) % 4\n",
    "    elif turn_direction == 'R':\n",
    "        index = (index + steps) % 4\n",
    "    return directions[index]\n",
    "\n",
    "# Process each instruction\n",
    "for instruction in instructions:\n",
    "    action = instruction[0]\n",
    "    value = int(instruction[1:])\n",
    "\n",
    "    if action in 'NESW':  # Move in a specific direction\n",
    "        dx, dy = movement[action]\n",
    "        position['x'] += dx * value\n",
    "        position['y'] += dy * value\n",
    "    elif action == 'F':  # Move forward in the current direction\n",
    "        dx, dy = movement[direction]\n",
    "        position['x'] += dx * value\n",
    "        position['y'] += dy * value\n",
    "    elif action in 'LR':  # Turn left or right\n",
    "        direction = turn(direction, action, value)\n",
    "\n",
    "# Calculate Manhattan distance\n",
    "manhattan_distance = abs(position['x']) + abs(position['y'])\n",
    "manhattan_distance"
   ]
  },
  {
   "cell_type": "code",
   "execution_count": 3,
   "id": "84c112d7-8fd1-45e0-87e2-6e1a861320ef",
   "metadata": {},
   "outputs": [
    {
     "data": {
      "text/plain": [
       "52866"
      ]
     },
     "execution_count": 3,
     "metadata": {},
     "output_type": "execute_result"
    }
   ],
   "source": [
    "# Initialize the ship's position and waypoint relative position\n",
    "ship_position = {'x': 0, 'y': 0}\n",
    "waypoint_position = {'x': 10, 'y': 1}  # 10 units east, 1 unit north\n",
    "\n",
    "# Function to rotate the waypoint around the ship\n",
    "def rotate_waypoint(waypoint, direction, degrees):\n",
    "    times = (degrees // 90) % 4\n",
    "    for _ in range(times):\n",
    "        if direction == 'R':  # Clockwise\n",
    "            waypoint['x'], waypoint['y'] = waypoint['y'], -waypoint['x']\n",
    "        elif direction == 'L':  # Counter-clockwise\n",
    "            waypoint['x'], waypoint['y'] = -waypoint['y'], waypoint['x']\n",
    "    return waypoint\n",
    "\n",
    "# Process each instruction\n",
    "for instruction in instructions:\n",
    "    action = instruction[0]\n",
    "    value = int(instruction[1:])\n",
    "\n",
    "    if action in 'NESW':  # Move the waypoint in a specific direction\n",
    "        dx, dy = movement[action]\n",
    "        waypoint_position['x'] += dx * value\n",
    "        waypoint_position['y'] += dy * value\n",
    "    elif action == 'F':  # Move the ship to the waypoint multiple times\n",
    "        ship_position['x'] += waypoint_position['x'] * value\n",
    "        ship_position['y'] += waypoint_position['y'] * value\n",
    "    elif action in 'LR':  # Rotate the waypoint around the ship\n",
    "        waypoint_position = rotate_waypoint(waypoint_position, action, value)\n",
    "\n",
    "# Calculate Manhattan distance\n",
    "manhattan_distance_part2 = abs(ship_position['x']) + abs(ship_position['y'])\n",
    "manhattan_distance_part2"
   ]
  },
  {
   "cell_type": "code",
   "execution_count": null,
   "id": "ce0ed443-0c58-4bc9-b8c1-bfa90545597e",
   "metadata": {},
   "outputs": [],
   "source": []
  }
 ],
 "metadata": {
  "kernelspec": {
   "display_name": "Python 3 (ipykernel)",
   "language": "python",
   "name": "python3"
  },
  "language_info": {
   "codemirror_mode": {
    "name": "ipython",
    "version": 3
   },
   "file_extension": ".py",
   "mimetype": "text/x-python",
   "name": "python",
   "nbconvert_exporter": "python",
   "pygments_lexer": "ipython3",
   "version": "3.12.3"
  }
 },
 "nbformat": 4,
 "nbformat_minor": 5
}
