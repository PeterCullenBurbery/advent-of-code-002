{
 "cells": [
  {
   "cell_type": "markdown",
   "id": "8e569a08",
   "metadata": {},
   "source": [
    "# Advent of Code"
   ]
  },
  {
   "cell_type": "markdown",
   "id": "8b187dec",
   "metadata": {},
   "source": [
    "## 2020-012-022\n",
    "## 2020 022"
   ]
  },
  {
   "cell_type": "markdown",
   "id": "76661280",
   "metadata": {},
   "source": [
    "https://adventofcode.com/2020/day/22"
   ]
  },
  {
   "cell_type": "code",
   "execution_count": 2,
   "id": "75382662",
   "metadata": {},
   "outputs": [
    {
     "name": "stdout",
     "output_type": "stream",
     "text": [
      "34255\n"
     ]
    }
   ],
   "source": [
    "# Complete program for 2020-022\n",
    "def parse_input(file_path):\n",
    "    with open(file_path, 'r') as file:\n",
    "        data = file.read().strip().split(\"\\n\\n\")\n",
    "    player_1 = [int(card) for card in data[0].splitlines()[1:]]\n",
    "    player_2 = [int(card) for card in data[1].splitlines()[1:]]\n",
    "    return player_1, player_2\n",
    "\n",
    "def play_combat(deck1, deck2):\n",
    "    while deck1 and deck2:\n",
    "        card1 = deck1.pop(0)\n",
    "        card2 = deck2.pop(0)\n",
    "        if card1 > card2:\n",
    "            deck1.extend([card1, card2])\n",
    "        else:\n",
    "            deck2.extend([card2, card1])\n",
    "    return deck1 if deck1 else deck2\n",
    "\n",
    "def calculate_score(deck):\n",
    "    return sum(card * multiplier for multiplier, card in enumerate(reversed(deck), start=1))\n",
    "\n",
    "# Main program\n",
    "if __name__ == \"__main__\":\n",
    "    file_path = 'input.txt'\n",
    "    player_1_deck, player_2_deck = parse_input(file_path)\n",
    "    winning_deck = play_combat(player_1_deck, player_2_deck)\n",
    "    winning_score = calculate_score(winning_deck)\n",
    "    print(winning_score)"
   ]
  },
  {
   "cell_type": "code",
   "execution_count": 3,
   "id": "45802378-0b74-4ca7-8270-2daee8f535a4",
   "metadata": {},
   "outputs": [
    {
     "name": "stdout",
     "output_type": "stream",
     "text": [
      "33369\n"
     ]
    }
   ],
   "source": [
    "# Define the Recursive Combat game logic\n",
    "from collections import deque\n",
    "\n",
    "def play_recursive_combat(deck1, deck2):\n",
    "    previous_rounds = set()\n",
    "    \n",
    "    while deck1 and deck2:\n",
    "        # Check for repeated round configurations\n",
    "        round_config = (tuple(deck1), tuple(deck2))\n",
    "        if round_config in previous_rounds:\n",
    "            return 1, deck1  # Player 1 wins the game\n",
    "        previous_rounds.add(round_config)\n",
    "        \n",
    "        # Draw the top cards\n",
    "        card1 = deck1.popleft()\n",
    "        card2 = deck2.popleft()\n",
    "        \n",
    "        # Determine the winner of the round\n",
    "        if len(deck1) >= card1 and len(deck2) >= card2:\n",
    "            # Play a sub-game of Recursive Combat\n",
    "            sub_winner, _ = play_recursive_combat(\n",
    "                deque(list(deck1)[:card1]), \n",
    "                deque(list(deck2)[:card2])\n",
    "            )\n",
    "        else:\n",
    "            # The winner is the player with the higher card\n",
    "            sub_winner = 1 if card1 > card2 else 2\n",
    "        \n",
    "        # Assign the cards to the winner of the round\n",
    "        if sub_winner == 1:\n",
    "            deck1.extend([card1, card2])\n",
    "        else:\n",
    "            deck2.extend([card2, card1])\n",
    "    \n",
    "    # Determine the overall winner\n",
    "    return (1, deck1) if deck1 else (2, deck2)\n",
    "\n",
    "def calculate_score(deck):\n",
    "    return sum(card * multiplier for multiplier, card in enumerate(reversed(deck), start=1))\n",
    "\n",
    "# Main program to play Recursive Combat\n",
    "if __name__ == \"__main__\":\n",
    "    file_path = 'input.txt'\n",
    "    player_1_deck, player_2_deck = parse_input(file_path)\n",
    "    \n",
    "    # Convert decks to deques for efficient popping\n",
    "    player_1_deck = deque(player_1_deck)\n",
    "    player_2_deck = deque(player_2_deck)\n",
    "    \n",
    "    winner, winning_deck = play_recursive_combat(player_1_deck, player_2_deck)\n",
    "    winning_score = calculate_score(winning_deck)\n",
    "    \n",
    "    print(winning_score)"
   ]
  },
  {
   "cell_type": "code",
   "execution_count": null,
   "id": "a328e81e-a4c3-473e-9c75-7eb7ad4804a1",
   "metadata": {},
   "outputs": [],
   "source": []
  }
 ],
 "metadata": {
  "kernelspec": {
   "display_name": "Python 3 (ipykernel)",
   "language": "python",
   "name": "python3"
  },
  "language_info": {
   "codemirror_mode": {
    "name": "ipython",
    "version": 3
   },
   "file_extension": ".py",
   "mimetype": "text/x-python",
   "name": "python",
   "nbconvert_exporter": "python",
   "pygments_lexer": "ipython3",
   "version": "3.12.3"
  }
 },
 "nbformat": 4,
 "nbformat_minor": 5
}
