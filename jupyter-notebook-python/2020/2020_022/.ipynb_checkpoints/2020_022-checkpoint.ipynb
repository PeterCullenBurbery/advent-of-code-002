{
 "cells": [
  {
   "cell_type": "markdown",
   "id": "8e569a08",
   "metadata": {},
   "source": [
    "# Advent of Code"
   ]
  },
  {
   "cell_type": "markdown",
   "id": "8b187dec",
   "metadata": {},
   "source": [
    "## 2020-012-022\n",
    "## 2020 022"
   ]
  },
  {
   "cell_type": "markdown",
   "id": "76661280",
   "metadata": {},
   "source": [
    "https://adventofcode.com/2020/day/22"
   ]
  },
  {
   "cell_type": "code",
   "execution_count": null,
   "id": "75382662",
   "metadata": {},
   "outputs": [],
   "source": []
  }
 ],
 "metadata": {},
 "nbformat": 4,
 "nbformat_minor": 5
}
