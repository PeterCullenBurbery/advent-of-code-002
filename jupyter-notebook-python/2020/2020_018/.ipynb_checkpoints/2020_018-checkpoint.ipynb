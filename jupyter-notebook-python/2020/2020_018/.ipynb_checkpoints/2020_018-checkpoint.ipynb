{
 "cells": [
  {
   "cell_type": "markdown",
   "id": "18f4bc8d",
   "metadata": {},
   "source": [
    "# Advent of Code"
   ]
  },
  {
   "cell_type": "markdown",
   "id": "db14607c",
   "metadata": {},
   "source": [
    "## 2020-012-018\n",
    "## 2020 018"
   ]
  },
  {
   "cell_type": "markdown",
   "id": "ffdb5b5d",
   "metadata": {},
   "source": [
    "https://adventofcode.com/2020/day/18"
   ]
  },
  {
   "cell_type": "code",
   "execution_count": 2,
   "id": "222fc6d4",
   "metadata": {},
   "outputs": [
    {
     "data": {
      "text/plain": [
       "3159145843816"
      ]
     },
     "execution_count": 2,
     "metadata": {},
     "output_type": "execute_result"
    }
   ],
   "source": [
    "# Read the input file to parse and evaluate expressions with left-to-right precedence\n",
    "input_file_path = 'input.txt'\n",
    "\n",
    "# Function to evaluate expressions with left-to-right precedence\n",
    "def evaluate_expression(expr):\n",
    "    tokens = expr.replace(\"(\", \"( \").replace(\")\", \" )\").split()\n",
    "    stack = []\n",
    "    current_expr = []\n",
    "\n",
    "    for token in tokens:\n",
    "        if token == \"(\":\n",
    "            stack.append(current_expr)\n",
    "            current_expr = []\n",
    "        elif token == \")\":\n",
    "            value = calculate(current_expr)\n",
    "            current_expr = stack.pop()\n",
    "            current_expr.append(value)\n",
    "        else:\n",
    "            current_expr.append(token)\n",
    "\n",
    "    return calculate(current_expr)\n",
    "\n",
    "def calculate(tokens):\n",
    "    result = int(tokens[0])\n",
    "    index = 1\n",
    "    while index < len(tokens):\n",
    "        operator = tokens[index]\n",
    "        operand = int(tokens[index + 1])\n",
    "        if operator == \"+\":\n",
    "            result += operand\n",
    "        elif operator == \"*\":\n",
    "            result *= operand\n",
    "        index += 2\n",
    "    return result\n",
    "\n",
    "# Read expressions from file and evaluate\n",
    "with open(input_file_path, 'r') as file:\n",
    "    expressions = file.readlines()\n",
    "\n",
    "results = [evaluate_expression(expr.strip()) for expr in expressions]\n",
    "total_sum = sum(results)\n",
    "\n",
    "total_sum"
   ]
  },
  {
   "cell_type": "code",
   "execution_count": 3,
   "id": "6e50e4dd-abe4-498b-ba49-639e3e35863e",
   "metadata": {},
   "outputs": [
    {
     "data": {
      "text/plain": [
       "55699621957369"
      ]
     },
     "execution_count": 3,
     "metadata": {},
     "output_type": "execute_result"
    }
   ],
   "source": [
    "# Function to evaluate expressions with addition precedence over multiplication\n",
    "def evaluate_expression_advanced(expr):\n",
    "    tokens = expr.replace(\"(\", \"( \").replace(\")\", \" )\").split()\n",
    "    stack = []\n",
    "    current_expr = []\n",
    "\n",
    "    for token in tokens:\n",
    "        if token == \"(\":\n",
    "            stack.append(current_expr)\n",
    "            current_expr = []\n",
    "        elif token == \")\":\n",
    "            value = calculate_advanced(current_expr)\n",
    "            current_expr = stack.pop()\n",
    "            current_expr.append(value)\n",
    "        else:\n",
    "            current_expr.append(token)\n",
    "\n",
    "    return calculate_advanced(current_expr)\n",
    "\n",
    "def calculate_advanced(tokens):\n",
    "    # First pass: resolve all additions\n",
    "    while \"+\" in tokens:\n",
    "        index = tokens.index(\"+\")\n",
    "        sum_result = int(tokens[index - 1]) + int(tokens[index + 1])\n",
    "        tokens = tokens[:index - 1] + [str(sum_result)] + tokens[index + 2:]\n",
    "\n",
    "    # Second pass: resolve all multiplications\n",
    "    result = int(tokens[0])\n",
    "    for index in range(1, len(tokens), 2):\n",
    "        result *= int(tokens[index + 1])\n",
    "    return result\n",
    "\n",
    "# Evaluate expressions using the advanced math rules\n",
    "advanced_results = [evaluate_expression_advanced(expr.strip()) for expr in expressions]\n",
    "total_advanced_sum = sum(advanced_results)\n",
    "\n",
    "total_advanced_sum"
   ]
  },
  {
   "cell_type": "code",
   "execution_count": null,
   "id": "db3713f6-7e05-499f-ae67-647f70f9e83c",
   "metadata": {},
   "outputs": [],
   "source": []
  }
 ],
 "metadata": {
  "kernelspec": {
   "display_name": "Python 3 (ipykernel)",
   "language": "python",
   "name": "python3"
  },
  "language_info": {
   "codemirror_mode": {
    "name": "ipython",
    "version": 3
   },
   "file_extension": ".py",
   "mimetype": "text/x-python",
   "name": "python",
   "nbconvert_exporter": "python",
   "pygments_lexer": "ipython3",
   "version": "3.12.3"
  }
 },
 "nbformat": 4,
 "nbformat_minor": 5
}
