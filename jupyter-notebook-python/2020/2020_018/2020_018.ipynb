{
 "cells": [
  {
   "cell_type": "markdown",
   "id": "18f4bc8d",
   "metadata": {},
   "source": [
    "# Advent of Code"
   ]
  },
  {
   "cell_type": "markdown",
   "id": "db14607c",
   "metadata": {},
   "source": [
    "## 2020-012-018\n",
    "## 2020 018"
   ]
  },
  {
   "cell_type": "markdown",
   "id": "ffdb5b5d",
   "metadata": {},
   "source": [
    "https://adventofcode.com/2020/day/18"
   ]
  },
  {
   "cell_type": "code",
   "execution_count": null,
   "id": "222fc6d4",
   "metadata": {},
   "outputs": [],
   "source": []
  }
 ],
 "metadata": {},
 "nbformat": 4,
 "nbformat_minor": 5
}
