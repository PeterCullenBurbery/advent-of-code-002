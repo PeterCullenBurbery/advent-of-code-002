{
 "cells": [
  {
   "cell_type": "markdown",
   "id": "188fdfb8",
   "metadata": {},
   "source": [
    "# Advent of Code"
   ]
  },
  {
   "cell_type": "markdown",
   "id": "934365f1",
   "metadata": {},
   "source": [
    "## 2020-012-010\n",
    "## 2020 010"
   ]
  },
  {
   "cell_type": "markdown",
   "id": "124bc1b7",
   "metadata": {},
   "source": [
    "https://adventofcode.com/2020/day/10"
   ]
  },
  {
   "cell_type": "code",
   "execution_count": null,
   "id": "bde29f2e",
   "metadata": {},
   "outputs": [],
   "source": []
  }
 ],
 "metadata": {},
 "nbformat": 4,
 "nbformat_minor": 5
}
