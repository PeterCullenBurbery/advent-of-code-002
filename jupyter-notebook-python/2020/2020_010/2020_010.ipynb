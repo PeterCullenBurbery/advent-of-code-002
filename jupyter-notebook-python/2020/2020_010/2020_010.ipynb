{
 "cells": [
  {
   "cell_type": "markdown",
   "id": "188fdfb8",
   "metadata": {},
   "source": [
    "# Advent of Code"
   ]
  },
  {
   "cell_type": "markdown",
   "id": "934365f1",
   "metadata": {},
   "source": [
    "## 2020-012-010\n",
    "## 2020 010"
   ]
  },
  {
   "cell_type": "markdown",
   "id": "124bc1b7",
   "metadata": {},
   "source": [
    "https://adventofcode.com/2020/day/10"
   ]
  },
  {
   "cell_type": "code",
   "execution_count": 2,
   "id": "bde29f2e",
   "metadata": {},
   "outputs": [
    {
     "data": {
      "text/plain": [
       "2592"
      ]
     },
     "execution_count": 2,
     "metadata": {},
     "output_type": "execute_result"
    }
   ],
   "source": [
    "# Parse the input into a sorted list of adapter ratings\n",
    "def parse_and_sort_adapters(data):\n",
    "    adapters = list(map(int, data.splitlines()))\n",
    "    adapters.sort()\n",
    "    return adapters\n",
    "\n",
    "# Calculate the distribution of joltage differences\n",
    "def calculate_joltage_differences(adapters):\n",
    "    # Add the charging outlet (0 jolts) and the device's built-in adapter (+3 jolts)\n",
    "    adapters = [0] + adapters + [max(adapters) + 3]\n",
    "    differences = {1: 0, 2: 0, 3: 0}\n",
    "    \n",
    "    for i in range(1, len(adapters)):\n",
    "        difference = adapters[i] - adapters[i - 1]\n",
    "        differences[difference] += 1\n",
    "    \n",
    "    return differences[1] * differences[3]\n",
    "\n",
    "# Read the input file\n",
    "file_path = 'input.txt'\n",
    "with open(file_path, 'r') as file:\n",
    "    data = file.read()\n",
    "\n",
    "# Parse, sort, and calculate the product of 1-jolt and 3-jolt differences\n",
    "adapters = parse_and_sort_adapters(data)\n",
    "joltage_difference_product = calculate_joltage_differences(adapters)\n",
    "\n",
    "joltage_difference_product"
   ]
  },
  {
   "cell_type": "code",
   "execution_count": 3,
   "id": "d2bf67cb-dffa-461b-823d-55692fdc1700",
   "metadata": {},
   "outputs": [
    {
     "data": {
      "text/plain": [
       "198428693313536"
      ]
     },
     "execution_count": 3,
     "metadata": {},
     "output_type": "execute_result"
    }
   ],
   "source": [
    "# Calculate the total number of distinct arrangements of adapters\n",
    "def count_arrangements(adapters):\n",
    "    # Add the charging outlet (0 jolts) and the device's built-in adapter (+3 jolts)\n",
    "    adapters = [0] + adapters + [max(adapters) + 3]\n",
    "    \n",
    "    # Create a dictionary to store the number of ways to reach each adapter\n",
    "    ways = {adapter: 0 for adapter in adapters}\n",
    "    ways[0] = 1  # Start with the charging outlet\n",
    "    \n",
    "    # Calculate the number of ways to reach each adapter\n",
    "    for adapter in adapters[1:]:\n",
    "        ways[adapter] = ways.get(adapter - 1, 0) + ways.get(adapter - 2, 0) + ways.get(adapter - 3, 0)\n",
    "    \n",
    "    # Return the number of ways to reach the device's built-in adapter\n",
    "    return ways[max(adapters)]\n",
    "\n",
    "# Calculate the total number of arrangements\n",
    "total_arrangements = count_arrangements(adapters)\n",
    "\n",
    "total_arrangements"
   ]
  },
  {
   "cell_type": "code",
   "execution_count": null,
   "id": "9d68d170-fb12-404c-8138-f9b68968ccc6",
   "metadata": {},
   "outputs": [],
   "source": []
  }
 ],
 "metadata": {
  "kernelspec": {
   "display_name": "Python 3 (ipykernel)",
   "language": "python",
   "name": "python3"
  },
  "language_info": {
   "codemirror_mode": {
    "name": "ipython",
    "version": 3
   },
   "file_extension": ".py",
   "mimetype": "text/x-python",
   "name": "python",
   "nbconvert_exporter": "python",
   "pygments_lexer": "ipython3",
   "version": "3.12.3"
  }
 },
 "nbformat": 4,
 "nbformat_minor": 5
}
