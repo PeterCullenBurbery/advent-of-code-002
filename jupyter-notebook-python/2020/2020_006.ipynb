{
 "cells": [
  {
   "cell_type": "markdown",
   "id": "8a5566df",
   "metadata": {},
   "source": [
    "# Advent of Code"
   ]
  },
  {
   "cell_type": "markdown",
   "id": "cde1529c",
   "metadata": {},
   "source": [
    "## 2020-012-006\n",
    "## 2020 006"
   ]
  },
  {
   "cell_type": "markdown",
   "id": "ef31de00",
   "metadata": {},
   "source": [
    "https://adventofcode.com/2020/day/6"
   ]
  },
  {
   "cell_type": "code",
   "execution_count": null,
   "id": "e021f3c6",
   "metadata": {},
   "outputs": [],
   "source": []
  }
 ],
 "metadata": {
  "kernelspec": {
   "display_name": "Python 3 (ipykernel)",
   "language": "python",
   "name": "python3"
  },
  "language_info": {
   "name": "python",
   "version": "3.12.3"
  }
 },
 "nbformat": 4,
 "nbformat_minor": 5
}
