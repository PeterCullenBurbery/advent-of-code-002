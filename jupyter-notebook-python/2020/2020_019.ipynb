{
 "cells": [
  {
   "cell_type": "markdown",
   "id": "710cdc73",
   "metadata": {},
   "source": [
    "# Advent of Code"
   ]
  },
  {
   "cell_type": "markdown",
   "id": "300b8115",
   "metadata": {},
   "source": [
    "## 2020-012-019\n",
    "## 2020 019"
   ]
  },
  {
   "cell_type": "markdown",
   "id": "d7397223",
   "metadata": {},
   "source": [
    "https://adventofcode.com/2020/day/19"
   ]
  },
  {
   "cell_type": "code",
   "execution_count": null,
   "id": "b527accd",
   "metadata": {},
   "outputs": [],
   "source": []
  }
 ],
 "metadata": {
  "kernelspec": {
   "display_name": "Python 3 (ipykernel)",
   "language": "python",
   "name": "python3"
  },
  "language_info": {
   "name": "python",
   "version": "3.12.3"
  }
 },
 "nbformat": 4,
 "nbformat_minor": 5
}
