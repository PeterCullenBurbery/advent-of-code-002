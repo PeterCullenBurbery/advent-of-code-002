{
 "cells": [
  {
   "cell_type": "markdown",
   "id": "c8fb100b",
   "metadata": {},
   "source": [
    "# Advent of Code"
   ]
  },
  {
   "cell_type": "markdown",
   "id": "7329d14d",
   "metadata": {},
   "source": [
    "## 2020-012-006\n",
    "## 2020 006"
   ]
  },
  {
   "cell_type": "markdown",
   "id": "b28a3f4e",
   "metadata": {},
   "source": [
    "https://adventofcode.com/2020/day/6"
   ]
  },
  {
   "cell_type": "code",
   "execution_count": 1,
   "id": "a2440809",
   "metadata": {},
   "outputs": [
    {
     "data": {
      "text/plain": [
       "6885"
      ]
     },
     "execution_count": 1,
     "metadata": {},
     "output_type": "execute_result"
    }
   ],
   "source": [
    "# Let's process the input file to calculate the sum of counts where any question was answered \"yes\" in each group.\n",
    "\n",
    "# Read the input file\n",
    "file_path = 'input.txt'\n",
    "with open(file_path, 'r') as file:\n",
    "    data = file.read()\n",
    "\n",
    "# Split the input data into groups based on blank lines\n",
    "groups = data.split('\\n\\n')\n",
    "\n",
    "# Calculate the sum of unique \"yes\" answers per group\n",
    "total_yes_count = sum(len(set(group.replace('\\n', ''))) for group in groups)\n",
    "\n",
    "total_yes_count\n"
   ]
  },
  {
   "cell_type": "code",
   "execution_count": 2,
   "id": "1d3b5a92-0722-4ed5-8a5a-5a5bc0888947",
   "metadata": {},
   "outputs": [
    {
     "data": {
      "text/plain": [
       "3550"
      ]
     },
     "execution_count": 2,
     "metadata": {},
     "output_type": "execute_result"
    }
   ],
   "source": [
    "# For Part Two, we need to calculate the number of questions to which everyone in each group answered \"yes\".\n",
    "\n",
    "# Define a function to calculate the intersection of all \"yes\" answers for a group\n",
    "def count_unanimous_yes(group):\n",
    "    # Split the group's answers into individual responses\n",
    "    responses = group.splitlines()\n",
    "    # Find the intersection of all response sets\n",
    "    unanimous_yes = set(responses[0])\n",
    "    for response in responses[1:]:\n",
    "        unanimous_yes &= set(response)\n",
    "    return len(unanimous_yes)\n",
    "\n",
    "# Calculate the sum of unanimous \"yes\" counts across all groups\n",
    "total_unanimous_yes_count = sum(count_unanimous_yes(group) for group in groups)\n",
    "\n",
    "total_unanimous_yes_count"
   ]
  },
  {
   "cell_type": "code",
   "execution_count": null,
   "id": "33b6b40c-b6e7-4ec0-a1c7-2472d9faae0c",
   "metadata": {},
   "outputs": [],
   "source": []
  }
 ],
 "metadata": {
  "kernelspec": {
   "display_name": "Python 3 (ipykernel)",
   "language": "python",
   "name": "python3"
  },
  "language_info": {
   "codemirror_mode": {
    "name": "ipython",
    "version": 3
   },
   "file_extension": ".py",
   "mimetype": "text/x-python",
   "name": "python",
   "nbconvert_exporter": "python",
   "pygments_lexer": "ipython3",
   "version": "3.12.3"
  }
 },
 "nbformat": 4,
 "nbformat_minor": 5
}
