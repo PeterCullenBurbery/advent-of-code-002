{
 "cells": [
  {
   "cell_type": "markdown",
   "id": "c8fb100b",
   "metadata": {},
   "source": [
    "# Advent of Code"
   ]
  },
  {
   "cell_type": "markdown",
   "id": "7329d14d",
   "metadata": {},
   "source": [
    "## 2020-012-006\n",
    "## 2020 006"
   ]
  },
  {
   "cell_type": "markdown",
   "id": "b28a3f4e",
   "metadata": {},
   "source": [
    "https://adventofcode.com/2020/day/6"
   ]
  },
  {
   "cell_type": "code",
   "execution_count": null,
   "id": "a2440809",
   "metadata": {},
   "outputs": [],
   "source": []
  }
 ],
 "metadata": {},
 "nbformat": 4,
 "nbformat_minor": 5
}
