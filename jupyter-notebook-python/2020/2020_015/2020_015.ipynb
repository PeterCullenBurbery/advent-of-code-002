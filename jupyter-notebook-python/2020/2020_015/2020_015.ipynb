{
 "cells": [
  {
   "cell_type": "markdown",
   "id": "574a461a",
   "metadata": {},
   "source": [
    "# Advent of Code"
   ]
  },
  {
   "cell_type": "markdown",
   "id": "0b36d3c4",
   "metadata": {},
   "source": [
    "## 2020-012-015\n",
    "## 2020 015"
   ]
  },
  {
   "cell_type": "markdown",
   "id": "eb90220e",
   "metadata": {},
   "source": [
    "https://adventofcode.com/2020/day/15"
   ]
  },
  {
   "cell_type": "code",
   "execution_count": null,
   "id": "9d45d1cc",
   "metadata": {},
   "outputs": [],
   "source": []
  }
 ],
 "metadata": {},
 "nbformat": 4,
 "nbformat_minor": 5
}
