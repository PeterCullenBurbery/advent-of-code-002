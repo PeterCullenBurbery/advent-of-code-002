{
 "cells": [
  {
   "cell_type": "markdown",
   "id": "574a461a",
   "metadata": {},
   "source": [
    "# Advent of Code"
   ]
  },
  {
   "cell_type": "markdown",
   "id": "0b36d3c4",
   "metadata": {},
   "source": [
    "## 2020-012-015\n",
    "## 2020 015"
   ]
  },
  {
   "cell_type": "markdown",
   "id": "eb90220e",
   "metadata": {},
   "source": [
    "https://adventofcode.com/2020/day/15"
   ]
  },
  {
   "cell_type": "code",
   "execution_count": 2,
   "id": "9d45d1cc",
   "metadata": {},
   "outputs": [
    {
     "data": {
      "text/plain": [
       "289"
      ]
     },
     "execution_count": 2,
     "metadata": {},
     "output_type": "execute_result"
    }
   ],
   "source": [
    "# Function to determine the nth number spoken in the memory game\n",
    "def find_nth_number_spoken(starting_numbers, n):\n",
    "    last_spoken = {}\n",
    "    turn = 1\n",
    "\n",
    "    # Initialize with the starting numbers\n",
    "    for num in starting_numbers[:-1]:\n",
    "        last_spoken[num] = turn\n",
    "        turn += 1\n",
    "\n",
    "    # Start with the last starting number\n",
    "    current_number = starting_numbers[-1]\n",
    "\n",
    "    # Play the game until the nth turn\n",
    "    while turn < n:\n",
    "        if current_number in last_spoken:\n",
    "            next_number = turn - last_spoken[current_number]\n",
    "        else:\n",
    "            next_number = 0\n",
    "        last_spoken[current_number] = turn\n",
    "        current_number = next_number\n",
    "        turn += 1\n",
    "\n",
    "    return current_number\n",
    "\n",
    "# Read the starting numbers from the input file\n",
    "with open('input.txt', 'r') as file:\n",
    "    starting_numbers = list(map(int, file.read().strip().split(',')))\n",
    "\n",
    "# Find the 2020th number spoken\n",
    "result_2020 = find_nth_number_spoken(starting_numbers, 2020)\n",
    "result_2020"
   ]
  },
  {
   "cell_type": "code",
   "execution_count": 3,
   "id": "ce84229b-5268-4ead-a465-c5ea661c57be",
   "metadata": {},
   "outputs": [
    {
     "data": {
      "text/plain": [
       "1505722"
      ]
     },
     "execution_count": 3,
     "metadata": {},
     "output_type": "execute_result"
    }
   ],
   "source": [
    "# Find the 30000000th number spoken\n",
    "result_30000000 = find_nth_number_spoken(starting_numbers, 30000000)\n",
    "result_30000000"
   ]
  },
  {
   "cell_type": "code",
   "execution_count": null,
   "id": "bc2e5689-76c6-4b05-b5bb-b7c598656047",
   "metadata": {},
   "outputs": [],
   "source": []
  }
 ],
 "metadata": {
  "kernelspec": {
   "display_name": "Python 3 (ipykernel)",
   "language": "python",
   "name": "python3"
  },
  "language_info": {
   "codemirror_mode": {
    "name": "ipython",
    "version": 3
   },
   "file_extension": ".py",
   "mimetype": "text/x-python",
   "name": "python",
   "nbconvert_exporter": "python",
   "pygments_lexer": "ipython3",
   "version": "3.12.3"
  }
 },
 "nbformat": 4,
 "nbformat_minor": 5
}
