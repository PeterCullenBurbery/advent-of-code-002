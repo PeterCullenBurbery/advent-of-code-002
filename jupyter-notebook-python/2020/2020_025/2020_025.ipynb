{
 "cells": [
  {
   "cell_type": "markdown",
   "id": "587bce14",
   "metadata": {},
   "source": [
    "# Advent of Code"
   ]
  },
  {
   "cell_type": "markdown",
   "id": "f58207ac",
   "metadata": {},
   "source": [
    "## 2020-012-025\n",
    "## 2020 025"
   ]
  },
  {
   "cell_type": "markdown",
   "id": "01139d64",
   "metadata": {},
   "source": [
    "https://adventofcode.com/2020/day/25"
   ]
  },
  {
   "cell_type": "code",
   "execution_count": 1,
   "id": "3f629204",
   "metadata": {},
   "outputs": [
    {
     "data": {
      "text/plain": [
       "5414549"
      ]
     },
     "execution_count": 1,
     "metadata": {},
     "output_type": "execute_result"
    }
   ],
   "source": [
    "# Load the public keys from the input file\n",
    "with open('input.txt', 'r') as file:\n",
    "    card_public_key, door_public_key = map(int, file.readlines())\n",
    "\n",
    "# Constants\n",
    "SUBJECT_NUMBER = 7\n",
    "DIVISOR = 20201227\n",
    "\n",
    "def find_loop_size(public_key, subject_number):\n",
    "    \"\"\"Find the loop size for a given public key and subject number.\"\"\"\n",
    "    value, loop_size = 1, 0\n",
    "    while value != public_key:\n",
    "        value = (value * subject_number) % DIVISOR\n",
    "        loop_size += 1\n",
    "    return loop_size\n",
    "\n",
    "def calculate_encryption_key(subject_number, loop_size):\n",
    "    \"\"\"Calculate the encryption key using the subject number and loop size.\"\"\"\n",
    "    value = 1\n",
    "    for _ in range(loop_size):\n",
    "        value = (value * subject_number) % DIVISOR\n",
    "    return value\n",
    "\n",
    "# Determine loop sizes for the card and the door\n",
    "card_loop_size = find_loop_size(card_public_key, SUBJECT_NUMBER)\n",
    "door_loop_size = find_loop_size(door_public_key, SUBJECT_NUMBER)\n",
    "\n",
    "# Calculate the encryption key using the loop size and public key\n",
    "encryption_key = calculate_encryption_key(door_public_key, card_loop_size)\n",
    "encryption_key"
   ]
  },
  {
   "cell_type": "code",
   "execution_count": null,
   "id": "fb13bb14-ff88-44d8-9882-98de091cbdcf",
   "metadata": {},
   "outputs": [],
   "source": []
  }
 ],
 "metadata": {
  "kernelspec": {
   "display_name": "Python 3 (ipykernel)",
   "language": "python",
   "name": "python3"
  },
  "language_info": {
   "codemirror_mode": {
    "name": "ipython",
    "version": 3
   },
   "file_extension": ".py",
   "mimetype": "text/x-python",
   "name": "python",
   "nbconvert_exporter": "python",
   "pygments_lexer": "ipython3",
   "version": "3.12.3"
  }
 },
 "nbformat": 4,
 "nbformat_minor": 5
}
