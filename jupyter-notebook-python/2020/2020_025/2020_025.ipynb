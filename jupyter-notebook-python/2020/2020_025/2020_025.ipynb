{
 "cells": [
  {
   "cell_type": "markdown",
   "id": "587bce14",
   "metadata": {},
   "source": [
    "# Advent of Code"
   ]
  },
  {
   "cell_type": "markdown",
   "id": "f58207ac",
   "metadata": {},
   "source": [
    "## 2020-012-025\n",
    "## 2020 025"
   ]
  },
  {
   "cell_type": "markdown",
   "id": "01139d64",
   "metadata": {},
   "source": [
    "https://adventofcode.com/2020/day/25"
   ]
  },
  {
   "cell_type": "code",
   "execution_count": null,
   "id": "3f629204",
   "metadata": {},
   "outputs": [],
   "source": []
  }
 ],
 "metadata": {},
 "nbformat": 4,
 "nbformat_minor": 5
}
