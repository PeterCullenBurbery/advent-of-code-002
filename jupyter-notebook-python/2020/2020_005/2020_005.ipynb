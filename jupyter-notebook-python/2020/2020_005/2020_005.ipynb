{
 "cells": [
  {
   "cell_type": "markdown",
   "id": "59f06e3a",
   "metadata": {},
   "source": [
    "# Advent of Code"
   ]
  },
  {
   "cell_type": "markdown",
   "id": "9da8189a",
   "metadata": {},
   "source": [
    "## 2020-012-005\n",
    "## 2020 005"
   ]
  },
  {
   "cell_type": "markdown",
   "id": "8ef13c24",
   "metadata": {},
   "source": [
    "https://adventofcode.com/2020/day/5"
   ]
  },
  {
   "cell_type": "code",
   "execution_count": null,
   "id": "d9e54030",
   "metadata": {},
   "outputs": [],
   "source": []
  }
 ],
 "metadata": {},
 "nbformat": 4,
 "nbformat_minor": 5
}
