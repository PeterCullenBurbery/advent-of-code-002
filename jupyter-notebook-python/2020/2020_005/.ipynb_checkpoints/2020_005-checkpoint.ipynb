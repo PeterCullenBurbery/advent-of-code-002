{
 "cells": [
  {
   "cell_type": "markdown",
   "id": "59f06e3a",
   "metadata": {},
   "source": [
    "# Advent of Code"
   ]
  },
  {
   "cell_type": "markdown",
   "id": "9da8189a",
   "metadata": {},
   "source": [
    "## 2020-012-005\n",
    "## 2020 005"
   ]
  },
  {
   "cell_type": "markdown",
   "id": "8ef13c24",
   "metadata": {},
   "source": [
    "https://adventofcode.com/2020/day/5"
   ]
  },
  {
   "cell_type": "code",
   "execution_count": 1,
   "id": "d9e54030",
   "metadata": {},
   "outputs": [
    {
     "data": {
      "text/plain": [
       "806"
      ]
     },
     "execution_count": 1,
     "metadata": {},
     "output_type": "execute_result"
    }
   ],
   "source": [
    "# Load the input data and process the boarding passes to determine the highest seat ID\n",
    "with open('input.txt', 'r') as file:\n",
    "    boarding_passes = file.read().splitlines()\n",
    "\n",
    "def calculate_seat_id(boarding_pass):\n",
    "    row = int(boarding_pass[:7].replace('F', '0').replace('B', '1'), 2)\n",
    "    column = int(boarding_pass[7:].replace('L', '0').replace('R', '1'), 2)\n",
    "    return row * 8 + column\n",
    "\n",
    "# Compute the highest seat ID\n",
    "seat_ids = [calculate_seat_id(bp) for bp in boarding_passes]\n",
    "highest_seat_id = max(seat_ids)\n",
    "highest_seat_id"
   ]
  },
  {
   "cell_type": "code",
   "execution_count": 2,
   "id": "17a78556-b2e0-4ad2-8489-b8f8f3ce2e2c",
   "metadata": {},
   "outputs": [
    {
     "data": {
      "text/plain": [
       "562"
      ]
     },
     "execution_count": 2,
     "metadata": {},
     "output_type": "execute_result"
    }
   ],
   "source": [
    "# Load the boarding passes data from the uploaded file\n",
    "with open('input.txt', 'r') as file:\n",
    "    boarding_passes = file.read().strip().split('\\n')\n",
    "\n",
    "# Function to calculate seat ID from a boarding pass\n",
    "def calculate_seat_id(boarding_pass):\n",
    "    row_binary = boarding_pass[:7].replace('F', '0').replace('B', '1')\n",
    "    col_binary = boarding_pass[7:].replace('L', '0').replace('R', '1')\n",
    "    row = int(row_binary, 2)\n",
    "    col = int(col_binary, 2)\n",
    "    return row * 8 + col\n",
    "\n",
    "# Calculate all seat IDs\n",
    "seat_ids = sorted(calculate_seat_id(bp) for bp in boarding_passes)\n",
    "\n",
    "# Find the missing seat ID\n",
    "for i in range(len(seat_ids) - 1):\n",
    "    if seat_ids[i + 1] != seat_ids[i] + 1:\n",
    "        missing_seat_id = seat_ids[i] + 1\n",
    "        break\n",
    "\n",
    "missing_seat_id\n"
   ]
  },
  {
   "cell_type": "code",
   "execution_count": null,
   "id": "2ff3238a-d184-4f23-8b53-95eb2aad9270",
   "metadata": {},
   "outputs": [],
   "source": []
  }
 ],
 "metadata": {
  "kernelspec": {
   "display_name": "Python 3 (ipykernel)",
   "language": "python",
   "name": "python3"
  },
  "language_info": {
   "codemirror_mode": {
    "name": "ipython",
    "version": 3
   },
   "file_extension": ".py",
   "mimetype": "text/x-python",
   "name": "python",
   "nbconvert_exporter": "python",
   "pygments_lexer": "ipython3",
   "version": "3.12.3"
  }
 },
 "nbformat": 4,
 "nbformat_minor": 5
}
