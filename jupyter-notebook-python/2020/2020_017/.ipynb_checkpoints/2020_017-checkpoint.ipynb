{
 "cells": [
  {
   "cell_type": "markdown",
   "id": "42d0fb32",
   "metadata": {},
   "source": [
    "# Advent of Code"
   ]
  },
  {
   "cell_type": "markdown",
   "id": "0d52cd47",
   "metadata": {},
   "source": [
    "## 2020-012-017\n",
    "## 2020 017"
   ]
  },
  {
   "cell_type": "markdown",
   "id": "a7a8717f",
   "metadata": {},
   "source": [
    "https://adventofcode.com/2020/day/17"
   ]
  },
  {
   "cell_type": "code",
   "execution_count": null,
   "id": "2ba5d9de",
   "metadata": {},
   "outputs": [],
   "source": []
  }
 ],
 "metadata": {},
 "nbformat": 4,
 "nbformat_minor": 5
}
