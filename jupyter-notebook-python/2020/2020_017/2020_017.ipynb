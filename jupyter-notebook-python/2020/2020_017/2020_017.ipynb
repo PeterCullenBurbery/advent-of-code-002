{
 "cells": [
  {
   "cell_type": "markdown",
   "id": "42d0fb32",
   "metadata": {},
   "source": [
    "# Advent of Code"
   ]
  },
  {
   "cell_type": "markdown",
   "id": "0d52cd47",
   "metadata": {},
   "source": [
    "## 2020-012-017\n",
    "## 2020 017"
   ]
  },
  {
   "cell_type": "markdown",
   "id": "a7a8717f",
   "metadata": {},
   "source": [
    "https://adventofcode.com/2020/day/17"
   ]
  },
  {
   "cell_type": "code",
   "execution_count": 1,
   "id": "2ba5d9de",
   "metadata": {},
   "outputs": [
    {
     "data": {
      "text/plain": [
       "215"
      ]
     },
     "execution_count": 1,
     "metadata": {},
     "output_type": "execute_result"
    }
   ],
   "source": [
    "from itertools import product\n",
    "\n",
    "# Function to parse the input into an initial active state\n",
    "def parse_initial_state(file_path):\n",
    "    active_cubes = set()\n",
    "    with open(file_path, 'r') as file:\n",
    "        for x, line in enumerate(file.readlines()):\n",
    "            for y, char in enumerate(line.strip()):\n",
    "                if char == \"#\":\n",
    "                    active_cubes.add((x, y, 0))  # Initial state has z=0\n",
    "    return active_cubes\n",
    "\n",
    "# Function to simulate a single cycle\n",
    "def simulate_cycle(active_cubes):\n",
    "    neighbor_counts = {}\n",
    "    \n",
    "    # Count active neighbors for all cubes\n",
    "    for x, y, z in active_cubes:\n",
    "        for dx, dy, dz in product([-1, 0, 1], repeat=3):\n",
    "            if dx == dy == dz == 0:\n",
    "                continue\n",
    "            neighbor = (x + dx, y + dy, z + dz)\n",
    "            if neighbor not in neighbor_counts:\n",
    "                neighbor_counts[neighbor] = 0\n",
    "            neighbor_counts[neighbor] += 1\n",
    "\n",
    "    # Determine the new state of the cubes\n",
    "    new_active_cubes = set()\n",
    "    for cube, count in neighbor_counts.items():\n",
    "        if cube in active_cubes and count in (2, 3):\n",
    "            new_active_cubes.add(cube)\n",
    "        elif cube not in active_cubes and count == 3:\n",
    "            new_active_cubes.add(cube)\n",
    "    \n",
    "    return new_active_cubes\n",
    "\n",
    "# Function to simulate the boot process for six cycles\n",
    "def simulate_boot_process(file_path, cycles=6):\n",
    "    active_cubes = parse_initial_state(file_path)\n",
    "    for _ in range(cycles):\n",
    "        active_cubes = simulate_cycle(active_cubes)\n",
    "    return len(active_cubes)\n",
    "\n",
    "# Run the simulation\n",
    "file_path = 'input.txt'\n",
    "result = simulate_boot_process(file_path, cycles=6)\n",
    "result"
   ]
  },
  {
   "cell_type": "code",
   "execution_count": 2,
   "id": "227196d6-76a1-45bd-8c89-2abf1d5c28bb",
   "metadata": {},
   "outputs": [
    {
     "data": {
      "text/plain": [
       "1728"
      ]
     },
     "execution_count": 2,
     "metadata": {},
     "output_type": "execute_result"
    }
   ],
   "source": [
    "# Function to parse the input into an initial active state for 4D space\n",
    "def parse_initial_state_4d(file_path):\n",
    "    active_cubes = set()\n",
    "    with open(file_path, 'r') as file:\n",
    "        for x, line in enumerate(file.readlines()):\n",
    "            for y, char in enumerate(line.strip()):\n",
    "                if char == \"#\":\n",
    "                    active_cubes.add((x, y, 0, 0))  # Initial state has z=0, w=0\n",
    "    return active_cubes\n",
    "\n",
    "# Function to simulate a single cycle in 4D space\n",
    "def simulate_cycle_4d(active_cubes):\n",
    "    neighbor_counts = {}\n",
    "    \n",
    "    # Count active neighbors for all cubes\n",
    "    for x, y, z, w in active_cubes:\n",
    "        for dx, dy, dz, dw in product([-1, 0, 1], repeat=4):\n",
    "            if dx == dy == dz == dw == 0:\n",
    "                continue\n",
    "            neighbor = (x + dx, y + dy, z + dz, w + dw)\n",
    "            if neighbor not in neighbor_counts:\n",
    "                neighbor_counts[neighbor] = 0\n",
    "            neighbor_counts[neighbor] += 1\n",
    "\n",
    "    # Determine the new state of the cubes\n",
    "    new_active_cubes = set()\n",
    "    for cube, count in neighbor_counts.items():\n",
    "        if cube in active_cubes and count in (2, 3):\n",
    "            new_active_cubes.add(cube)\n",
    "        elif cube not in active_cubes and count == 3:\n",
    "            new_active_cubes.add(cube)\n",
    "    \n",
    "    return new_active_cubes\n",
    "\n",
    "# Function to simulate the boot process for six cycles in 4D space\n",
    "def simulate_boot_process_4d(file_path, cycles=6):\n",
    "    active_cubes = parse_initial_state_4d(file_path)\n",
    "    for _ in range(cycles):\n",
    "        active_cubes = simulate_cycle_4d(active_cubes)\n",
    "    return len(active_cubes)\n",
    "\n",
    "# Run the simulation for 4D space\n",
    "result_4d = simulate_boot_process_4d(file_path, cycles=6)\n",
    "result_4d"
   ]
  },
  {
   "cell_type": "code",
   "execution_count": null,
   "id": "ab5a3505-99af-48dc-b180-1299611c2781",
   "metadata": {},
   "outputs": [],
   "source": []
  }
 ],
 "metadata": {
  "kernelspec": {
   "display_name": "Python 3 (ipykernel)",
   "language": "python",
   "name": "python3"
  },
  "language_info": {
   "codemirror_mode": {
    "name": "ipython",
    "version": 3
   },
   "file_extension": ".py",
   "mimetype": "text/x-python",
   "name": "python",
   "nbconvert_exporter": "python",
   "pygments_lexer": "ipython3",
   "version": "3.12.3"
  }
 },
 "nbformat": 4,
 "nbformat_minor": 5
}
