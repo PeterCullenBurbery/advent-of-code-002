{
 "cells": [
  {
   "cell_type": "markdown",
   "id": "99634fea",
   "metadata": {},
   "source": [
    "# Advent of Code"
   ]
  },
  {
   "cell_type": "markdown",
   "id": "254b674c",
   "metadata": {},
   "source": [
    "## 2020-012-023\n",
    "## 2020 023"
   ]
  },
  {
   "cell_type": "markdown",
   "id": "da87df18",
   "metadata": {},
   "source": [
    "https://adventofcode.com/2020/day/23"
   ]
  },
  {
   "cell_type": "code",
   "execution_count": 3,
   "id": "3999cbd3",
   "metadata": {},
   "outputs": [
    {
     "data": {
      "text/plain": [
       "62934785"
      ]
     },
     "execution_count": 3,
     "metadata": {},
     "output_type": "execute_result"
    }
   ],
   "source": [
    "# Load the input label from the file\n",
    "with open('input.txt', 'r') as file:\n",
    "    input_label = file.read().strip()\n",
    "\n",
    "# Parse the input label into a list of integers\n",
    "cups = [int(c) for c in input_label]\n",
    "\n",
    "# Define the number of moves\n",
    "num_moves = 100\n",
    "\n",
    "# Simulate 100 moves of the Crab Cups game\n",
    "for _ in range(num_moves):\n",
    "    current_cup = cups[0]\n",
    "    # Pick up the next three cups\n",
    "    picked_up = cups[1:4]\n",
    "    del cups[1:4]\n",
    "\n",
    "    # Determine the destination cup\n",
    "    destination = current_cup - 1\n",
    "    while destination not in cups:\n",
    "        destination -= 1\n",
    "        if destination < min(cups):\n",
    "            destination = max(cups)\n",
    "\n",
    "    # Place the picked-up cups after the destination cup\n",
    "    destination_index = cups.index(destination) + 1\n",
    "    cups[destination_index:destination_index] = picked_up\n",
    "\n",
    "    # Rotate the cups so the next current cup is at index 0\n",
    "    cups = cups[1:] + [cups[0]]\n",
    "\n",
    "# Find the order of cups after cup 1\n",
    "one_index = cups.index(1)\n",
    "final_order = cups[one_index + 1:] + cups[:one_index]\n",
    "\n",
    "final_order_str = ''.join(map(str, final_order))\n",
    "int(final_order_str)"
   ]
  },
  {
   "cell_type": "code",
   "execution_count": 4,
   "id": "f075c8fd-26e1-4f33-a071-38ac8cad6a97",
   "metadata": {},
   "outputs": [
    {
     "data": {
      "text/plain": [
       "693659135400"
      ]
     },
     "execution_count": 4,
     "metadata": {},
     "output_type": "execute_result"
    }
   ],
   "source": [
    "# Preparing a more efficient solution using a linked list approach for large input\n",
    "from collections import defaultdict\n",
    "\n",
    "# Parse the input label\n",
    "initial_cups = [int(c) for c in input_label]\n",
    "\n",
    "# Define constants\n",
    "max_cup = 1_000_000\n",
    "total_moves = 10_000_000\n",
    "\n",
    "# Extend the initial cups to reach 1,000,000\n",
    "cups = initial_cups + list(range(max(initial_cups) + 1, max_cup + 1))\n",
    "\n",
    "# Create the linked list representation\n",
    "next_cup = {}\n",
    "for i in range(len(cups) - 1):\n",
    "    next_cup[cups[i]] = cups[i + 1]\n",
    "next_cup[cups[-1]] = cups[0]  # Close the circle\n",
    "\n",
    "# Play the game\n",
    "current_cup = cups[0]\n",
    "for _ in range(total_moves):\n",
    "    # Pick up the next three cups\n",
    "    pick_up_1 = next_cup[current_cup]\n",
    "    pick_up_2 = next_cup[pick_up_1]\n",
    "    pick_up_3 = next_cup[pick_up_2]\n",
    "    picked_up = {pick_up_1, pick_up_2, pick_up_3}\n",
    "\n",
    "    # Determine the destination cup\n",
    "    destination_cup = current_cup - 1 or max_cup\n",
    "    while destination_cup in picked_up:\n",
    "        destination_cup = destination_cup - 1 or max_cup\n",
    "\n",
    "    # Place the picked-up cups\n",
    "    next_cup[current_cup] = next_cup[pick_up_3]\n",
    "    next_cup[pick_up_3] = next_cup[destination_cup]\n",
    "    next_cup[destination_cup] = pick_up_1\n",
    "\n",
    "    # Select the new current cup\n",
    "    current_cup = next_cup[current_cup]\n",
    "\n",
    "# Get the two cups immediately clockwise of cup 1\n",
    "first_cup = next_cup[1]\n",
    "second_cup = next_cup[first_cup]\n",
    "\n",
    "# Calculate the result\n",
    "result = first_cup * second_cup\n",
    "result"
   ]
  },
  {
   "cell_type": "code",
   "execution_count": null,
   "id": "f2a9d8a0-4fb9-408b-a40f-457e88a53c02",
   "metadata": {},
   "outputs": [],
   "source": []
  }
 ],
 "metadata": {
  "kernelspec": {
   "display_name": "Python 3 (ipykernel)",
   "language": "python",
   "name": "python3"
  },
  "language_info": {
   "codemirror_mode": {
    "name": "ipython",
    "version": 3
   },
   "file_extension": ".py",
   "mimetype": "text/x-python",
   "name": "python",
   "nbconvert_exporter": "python",
   "pygments_lexer": "ipython3",
   "version": "3.12.3"
  }
 },
 "nbformat": 4,
 "nbformat_minor": 5
}
