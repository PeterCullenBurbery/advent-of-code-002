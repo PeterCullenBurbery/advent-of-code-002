{
 "cells": [
  {
   "cell_type": "markdown",
   "id": "99634fea",
   "metadata": {},
   "source": [
    "# Advent of Code"
   ]
  },
  {
   "cell_type": "markdown",
   "id": "254b674c",
   "metadata": {},
   "source": [
    "## 2020-012-023\n",
    "## 2020 023"
   ]
  },
  {
   "cell_type": "markdown",
   "id": "da87df18",
   "metadata": {},
   "source": [
    "https://adventofcode.com/2020/day/23"
   ]
  },
  {
   "cell_type": "code",
   "execution_count": null,
   "id": "3999cbd3",
   "metadata": {},
   "outputs": [],
   "source": []
  }
 ],
 "metadata": {},
 "nbformat": 4,
 "nbformat_minor": 5
}
