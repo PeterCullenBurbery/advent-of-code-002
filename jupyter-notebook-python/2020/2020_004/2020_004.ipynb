{
 "cells": [
  {
   "cell_type": "markdown",
   "id": "651924f3",
   "metadata": {},
   "source": [
    "# Advent of Code"
   ]
  },
  {
   "cell_type": "markdown",
   "id": "7840fc65",
   "metadata": {},
   "source": [
    "## 2020-012-004\n",
    "## 2020 004"
   ]
  },
  {
   "cell_type": "markdown",
   "id": "d03e0c8c",
   "metadata": {},
   "source": [
    "https://adventofcode.com/2020/day/4"
   ]
  },
  {
   "cell_type": "code",
   "execution_count": null,
   "id": "e71dcbb4",
   "metadata": {},
   "outputs": [],
   "source": []
  }
 ],
 "metadata": {},
 "nbformat": 4,
 "nbformat_minor": 5
}
