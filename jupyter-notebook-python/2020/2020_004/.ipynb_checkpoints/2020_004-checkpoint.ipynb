{
 "cells": [
  {
   "cell_type": "markdown",
   "id": "651924f3",
   "metadata": {},
   "source": [
    "# Advent of Code"
   ]
  },
  {
   "cell_type": "markdown",
   "id": "7840fc65",
   "metadata": {},
   "source": [
    "## 2020-012-004\n",
    "## 2020 004"
   ]
  },
  {
   "cell_type": "markdown",
   "id": "d03e0c8c",
   "metadata": {},
   "source": [
    "https://adventofcode.com/2020/day/4"
   ]
  },
  {
   "cell_type": "code",
   "execution_count": 4,
   "id": "e71dcbb4",
   "metadata": {},
   "outputs": [
    {
     "data": {
      "text/plain": [
       "245"
      ]
     },
     "execution_count": 4,
     "metadata": {},
     "output_type": "execute_result"
    }
   ],
   "source": [
    "# Load the input file\n",
    "file_path = 'input.txt'\n",
    "\n",
    "# Required fields for a passport\n",
    "required_fields = {'byr', 'iyr', 'eyr', 'hgt', 'hcl', 'ecl', 'pid'}\n",
    "\n",
    "# Read and process the data\n",
    "with open(file_path, 'r') as file:\n",
    "    data = file.read()\n",
    "\n",
    "# Split passports by blank lines\n",
    "passports = data.split('\\n\\n')\n",
    "\n",
    "# Count valid passports\n",
    "valid_passports = 0\n",
    "\n",
    "for passport in passports:\n",
    "    # Replace newlines with spaces and split into key-value pairs\n",
    "    fields = dict(field.split(':') for field in passport.replace('\\n', ' ').split())\n",
    "    # Check if all required fields are present\n",
    "    if required_fields.issubset(fields.keys()):\n",
    "        valid_passports += 1\n",
    "\n",
    "valid_passports"
   ]
  },
  {
   "cell_type": "code",
   "execution_count": 6,
   "id": "810a3166-d4d4-4493-98e3-487e676b7937",
   "metadata": {},
   "outputs": [
    {
     "data": {
      "text/plain": [
       "133"
      ]
     },
     "execution_count": 6,
     "metadata": {},
     "output_type": "execute_result"
    }
   ],
   "source": [
    "import re\n",
    "\n",
    "# Define validation rules for each passport field\n",
    "def is_valid_byr(byr):\n",
    "    return len(byr) == 4 and 1920 <= int(byr) <= 2002\n",
    "\n",
    "def is_valid_iyr(iyr):\n",
    "    return len(iyr) == 4 and 2010 <= int(iyr) <= 2020\n",
    "\n",
    "def is_valid_eyr(eyr):\n",
    "    return len(eyr) == 4 and 2020 <= int(eyr) <= 2030\n",
    "\n",
    "def is_valid_hgt(hgt):\n",
    "    if hgt.endswith(\"cm\"):\n",
    "        value = int(hgt[:-2])\n",
    "        return 150 <= value <= 193\n",
    "    elif hgt.endswith(\"in\"):\n",
    "        value = int(hgt[:-2])\n",
    "        return 59 <= value <= 76\n",
    "    return False\n",
    "\n",
    "def is_valid_hcl(hcl):\n",
    "    return re.fullmatch(r\"#[0-9a-f]{6}\", hcl) is not None\n",
    "\n",
    "def is_valid_ecl(ecl):\n",
    "    return ecl in {\"amb\", \"blu\", \"brn\", \"gry\", \"grn\", \"hzl\", \"oth\"}\n",
    "\n",
    "def is_valid_pid(pid):\n",
    "    return re.fullmatch(r\"\\d{9}\", pid) is not None\n",
    "\n",
    "# Function to validate a passport based on rules\n",
    "def is_passport_valid(passport):\n",
    "    required_fields = {\n",
    "        \"byr\": is_valid_byr,\n",
    "        \"iyr\": is_valid_iyr,\n",
    "        \"eyr\": is_valid_eyr,\n",
    "        \"hgt\": is_valid_hgt,\n",
    "        \"hcl\": is_valid_hcl,\n",
    "        \"ecl\": is_valid_ecl,\n",
    "        \"pid\": is_valid_pid\n",
    "    }\n",
    "    for field, validator in required_fields.items():\n",
    "        if field not in passport or not validator(passport[field]):\n",
    "            return False\n",
    "    return True\n",
    "\n",
    "# Parse input into passports\n",
    "def parse_passports(input_data):\n",
    "    passports = []\n",
    "    passport = {}\n",
    "    for line in input_data:\n",
    "        if line.strip() == \"\":\n",
    "            passports.append(passport)\n",
    "            passport = {}\n",
    "        else:\n",
    "            entries = line.split()\n",
    "            for entry in entries:\n",
    "                key, value = entry.split(\":\")\n",
    "                passport[key] = value\n",
    "    if passport:  # Add the last passport if any\n",
    "        passports.append(passport)\n",
    "    return passports\n",
    "\n",
    "# Load and process the input file\n",
    "file_path = 'input.txt'\n",
    "with open(file_path, 'r') as file:\n",
    "    lines = file.readlines()\n",
    "\n",
    "passports = parse_passports(lines)\n",
    "valid_passport_count = sum(is_passport_valid(passport) for passport in passports)\n",
    "\n",
    "valid_passport_count"
   ]
  },
  {
   "cell_type": "code",
   "execution_count": null,
   "id": "824a1c38-f150-43c7-b188-4a04f216a665",
   "metadata": {},
   "outputs": [],
   "source": []
  }
 ],
 "metadata": {
  "kernelspec": {
   "display_name": "Python 3 (ipykernel)",
   "language": "python",
   "name": "python3"
  },
  "language_info": {
   "codemirror_mode": {
    "name": "ipython",
    "version": 3
   },
   "file_extension": ".py",
   "mimetype": "text/x-python",
   "name": "python",
   "nbconvert_exporter": "python",
   "pygments_lexer": "ipython3",
   "version": "3.12.3"
  }
 },
 "nbformat": 4,
 "nbformat_minor": 5
}
