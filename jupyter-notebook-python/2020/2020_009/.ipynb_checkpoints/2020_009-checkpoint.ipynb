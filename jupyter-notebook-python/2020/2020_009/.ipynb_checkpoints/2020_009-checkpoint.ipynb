{
 "cells": [
  {
   "cell_type": "markdown",
   "id": "7ff1a470",
   "metadata": {},
   "source": [
    "# Advent of Code"
   ]
  },
  {
   "cell_type": "markdown",
   "id": "7389df4a",
   "metadata": {},
   "source": [
    "## 2020-012-009\n",
    "## 2020 009"
   ]
  },
  {
   "cell_type": "markdown",
   "id": "c4ffbce4",
   "metadata": {},
   "source": [
    "https://adventofcode.com/2020/day/9"
   ]
  },
  {
   "cell_type": "code",
   "execution_count": null,
   "id": "2c7a358d",
   "metadata": {},
   "outputs": [],
   "source": []
  }
 ],
 "metadata": {},
 "nbformat": 4,
 "nbformat_minor": 5
}
