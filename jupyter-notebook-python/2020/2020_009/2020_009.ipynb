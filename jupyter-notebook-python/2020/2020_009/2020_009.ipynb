{
 "cells": [
  {
   "cell_type": "markdown",
   "id": "7ff1a470",
   "metadata": {},
   "source": [
    "# Advent of Code"
   ]
  },
  {
   "cell_type": "markdown",
   "id": "7389df4a",
   "metadata": {},
   "source": [
    "## 2020-012-009\n",
    "## 2020 009"
   ]
  },
  {
   "cell_type": "markdown",
   "id": "c4ffbce4",
   "metadata": {},
   "source": [
    "https://adventofcode.com/2020/day/9"
   ]
  },
  {
   "cell_type": "code",
   "execution_count": 2,
   "id": "2c7a358d",
   "metadata": {},
   "outputs": [
    {
     "data": {
      "text/plain": [
       "556543474"
      ]
     },
     "execution_count": 2,
     "metadata": {},
     "output_type": "execute_result"
    }
   ],
   "source": [
    "# Parse the input into a list of numbers\n",
    "def parse_numbers(data):\n",
    "    return list(map(int, data.splitlines()))\n",
    "\n",
    "# Find the first number that is not the sum of two of the previous n numbers\n",
    "def find_first_invalid_number(numbers, preamble_length):\n",
    "    for i in range(preamble_length, len(numbers)):\n",
    "        preamble = numbers[i - preamble_length:i]\n",
    "        valid = any(numbers[i] - num in preamble and numbers[i] - num != num for num in preamble)\n",
    "        if not valid:\n",
    "            return numbers[i]\n",
    "\n",
    "# Read the input file\n",
    "file_path = 'input.txt'\n",
    "with open(file_path, 'r') as file:\n",
    "    data = file.read()\n",
    "\n",
    "# Parse the numbers and find the first invalid number\n",
    "numbers = parse_numbers(data)\n",
    "preamble_length = 25\n",
    "first_invalid_number = find_first_invalid_number(numbers, preamble_length)\n",
    "\n",
    "first_invalid_number"
   ]
  },
  {
   "cell_type": "code",
   "execution_count": 3,
   "id": "504c7184-a596-4806-868f-40968d18cf14",
   "metadata": {},
   "outputs": [
    {
     "data": {
      "text/plain": [
       "76096372"
      ]
     },
     "execution_count": 3,
     "metadata": {},
     "output_type": "execute_result"
    }
   ],
   "source": [
    "# Find the contiguous set of numbers that sum to the invalid number\n",
    "def find_encryption_weakness(numbers, target):\n",
    "    for start in range(len(numbers)):\n",
    "        for end in range(start + 2, len(numbers)):  # At least two numbers\n",
    "            contiguous_set = numbers[start:end]\n",
    "            if sum(contiguous_set) == target:\n",
    "                return min(contiguous_set) + max(contiguous_set)\n",
    "\n",
    "# Find the encryption weakness in the list of numbers\n",
    "encryption_weakness = find_encryption_weakness(numbers, first_invalid_number)\n",
    "\n",
    "encryption_weakness"
   ]
  },
  {
   "cell_type": "code",
   "execution_count": null,
   "id": "036eb070-d2e2-4a19-bf2a-cde5b47d1e6a",
   "metadata": {},
   "outputs": [],
   "source": []
  }
 ],
 "metadata": {
  "kernelspec": {
   "display_name": "Python 3 (ipykernel)",
   "language": "python",
   "name": "python3"
  },
  "language_info": {
   "codemirror_mode": {
    "name": "ipython",
    "version": 3
   },
   "file_extension": ".py",
   "mimetype": "text/x-python",
   "name": "python",
   "nbconvert_exporter": "python",
   "pygments_lexer": "ipython3",
   "version": "3.12.3"
  }
 },
 "nbformat": 4,
 "nbformat_minor": 5
}
