{
 "cells": [
  {
   "cell_type": "markdown",
   "id": "0b42328c",
   "metadata": {},
   "source": [
    "# Advent of Code"
   ]
  },
  {
   "cell_type": "markdown",
   "id": "aab0c345",
   "metadata": {},
   "source": [
    "## 2020-012-018\n",
    "## 2020 018"
   ]
  },
  {
   "cell_type": "markdown",
   "id": "bb3ea1a0",
   "metadata": {},
   "source": [
    "https://adventofcode.com/2020/day/18"
   ]
  },
  {
   "cell_type": "code",
   "execution_count": null,
   "id": "896c9a97",
   "metadata": {},
   "outputs": [],
   "source": []
  }
 ],
 "metadata": {
  "kernelspec": {
   "display_name": "Python 3 (ipykernel)",
   "language": "python",
   "name": "python3"
  },
  "language_info": {
   "name": "python",
   "version": "3.12.3"
  }
 },
 "nbformat": 4,
 "nbformat_minor": 5
}
