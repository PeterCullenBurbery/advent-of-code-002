{
 "cells": [
  {
   "cell_type": "markdown",
   "id": "af75d0b2",
   "metadata": {},
   "source": [
    "# Advent of Code"
   ]
  },
  {
   "cell_type": "markdown",
   "id": "7bd9bfb2",
   "metadata": {},
   "source": [
    "## 2020-012-002\n",
    "## 2020 002"
   ]
  },
  {
   "cell_type": "markdown",
   "id": "6acfe45a",
   "metadata": {},
   "source": [
    "https://adventofcode.com/2020/day/2"
   ]
  },
  {
   "cell_type": "code",
   "execution_count": null,
   "id": "bddb9000",
   "metadata": {},
   "outputs": [],
   "source": []
  }
 ],
 "metadata": {
  "kernelspec": {
   "display_name": "Python 3 (ipykernel)",
   "language": "python",
   "name": "python3"
  },
  "language_info": {
   "name": "python",
   "version": "3.12.3"
  }
 },
 "nbformat": 4,
 "nbformat_minor": 5
}
