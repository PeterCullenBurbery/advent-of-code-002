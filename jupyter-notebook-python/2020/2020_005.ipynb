{
 "cells": [
  {
   "cell_type": "markdown",
   "id": "85785530",
   "metadata": {},
   "source": [
    "# Advent of Code"
   ]
  },
  {
   "cell_type": "markdown",
   "id": "aca7e71f",
   "metadata": {},
   "source": [
    "## 2020-012-005\n",
    "## 2020 005"
   ]
  },
  {
   "cell_type": "markdown",
   "id": "df3468c9",
   "metadata": {},
   "source": [
    "https://adventofcode.com/2020/day/5"
   ]
  },
  {
   "cell_type": "code",
   "execution_count": null,
   "id": "106c8acb",
   "metadata": {},
   "outputs": [],
   "source": []
  }
 ],
 "metadata": {
  "kernelspec": {
   "display_name": "Python 3 (ipykernel)",
   "language": "python",
   "name": "python3"
  },
  "language_info": {
   "name": "python",
   "version": "3.12.3"
  }
 },
 "nbformat": 4,
 "nbformat_minor": 5
}
