{
 "cells": [
  {
   "cell_type": "markdown",
   "id": "6f4bac03",
   "metadata": {},
   "source": [
    "# Advent of Code"
   ]
  },
  {
   "cell_type": "markdown",
   "id": "1821de4a",
   "metadata": {},
   "source": [
    "## 2020-012-024\n",
    "## 2020 024"
   ]
  },
  {
   "cell_type": "markdown",
   "id": "6ab0efae",
   "metadata": {},
   "source": [
    "https://adventofcode.com/2020/day/24"
   ]
  },
  {
   "cell_type": "code",
   "execution_count": null,
   "id": "b6b46427",
   "metadata": {},
   "outputs": [],
   "source": []
  }
 ],
 "metadata": {},
 "nbformat": 4,
 "nbformat_minor": 5
}
