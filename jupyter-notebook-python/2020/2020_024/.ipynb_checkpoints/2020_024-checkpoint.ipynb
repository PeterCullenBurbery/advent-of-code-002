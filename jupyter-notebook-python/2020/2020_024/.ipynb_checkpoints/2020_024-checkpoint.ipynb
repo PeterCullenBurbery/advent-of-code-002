{
 "cells": [
  {
   "cell_type": "markdown",
   "id": "6f4bac03",
   "metadata": {},
   "source": [
    "# Advent of Code"
   ]
  },
  {
   "cell_type": "markdown",
   "id": "1821de4a",
   "metadata": {},
   "source": [
    "## 2020-012-024\n",
    "## 2020 024"
   ]
  },
  {
   "cell_type": "markdown",
   "id": "6ab0efae",
   "metadata": {},
   "source": [
    "https://adventofcode.com/2020/day/24"
   ]
  },
  {
   "cell_type": "code",
   "execution_count": 2,
   "id": "b6b46427",
   "metadata": {},
   "outputs": [
    {
     "data": {
      "text/plain": [
       "512"
      ]
     },
     "execution_count": 2,
     "metadata": {},
     "output_type": "execute_result"
    }
   ],
   "source": [
    "# Load the input data from the file\n",
    "with open('input.txt', 'r') as file:\n",
    "    instructions = file.readlines()\n",
    "\n",
    "# Define direction movements in axial coordinates for a hex grid\n",
    "DIRECTIONS = {\n",
    "    'e': (1, -1, 0),\n",
    "    'se': (0, -1, 1),\n",
    "    'sw': (-1, 0, 1),\n",
    "    'w': (-1, 1, 0),\n",
    "    'nw': (0, 1, -1),\n",
    "    'ne': (1, 0, -1),\n",
    "}\n",
    "\n",
    "from collections import defaultdict\n",
    "\n",
    "# Helper function to parse a single line of directions\n",
    "def parse_directions(line):\n",
    "    i, path = 0, []\n",
    "    while i < len(line):\n",
    "        if line[i] in \"ns\":\n",
    "            path.append(line[i:i+2])\n",
    "            i += 2\n",
    "        else:\n",
    "            path.append(line[i])\n",
    "            i += 1\n",
    "    return path\n",
    "\n",
    "# Flip the tiles according to the instructions\n",
    "tiles = defaultdict(bool)  # False for white, True for black\n",
    "for line in instructions:\n",
    "    path = parse_directions(line.strip())\n",
    "    x, y, z = 0, 0, 0  # Start at the reference tile\n",
    "    for step in path:\n",
    "        dx, dy, dz = DIRECTIONS[step]\n",
    "        x, y, z = x + dx, y + dy, z + dz\n",
    "    tiles[(x, y, z)] = not tiles[(x, y, z)]  # Flip the tile\n",
    "\n",
    "# Count the black tiles\n",
    "black_tiles_count = sum(tiles.values())\n",
    "black_tiles_count"
   ]
  },
  {
   "cell_type": "code",
   "execution_count": 3,
   "id": "4fb11a0a-fb24-42d7-b6d0-b490620162f6",
   "metadata": {},
   "outputs": [
    {
     "data": {
      "text/plain": [
       "4120"
      ]
     },
     "execution_count": 3,
     "metadata": {},
     "output_type": "execute_result"
    }
   ],
   "source": [
    "# Simulate the tile flipping process over 100 days\n",
    "\n",
    "def get_neighbors(x, y, z):\n",
    "    \"\"\"Get all neighbor coordinates for a given tile.\"\"\"\n",
    "    return [(x + dx, y + dy, z + dz) for dx, dy, dz in DIRECTIONS.values()]\n",
    "\n",
    "def simulate_days(tiles, days):\n",
    "    for _ in range(days):\n",
    "        # Count adjacent black tiles for each tile\n",
    "        black_neighbors = defaultdict(int)\n",
    "        for (x, y, z), is_black in tiles.items():\n",
    "            if is_black:\n",
    "                for neighbor in get_neighbors(x, y, z):\n",
    "                    black_neighbors[neighbor] += 1\n",
    "\n",
    "        # Determine which tiles to flip\n",
    "        new_tiles = defaultdict(bool)\n",
    "        all_relevant_tiles = set(black_neighbors.keys()).union(tiles.keys())\n",
    "        for tile in all_relevant_tiles:\n",
    "            if tiles[tile]:  # Black tile\n",
    "                if 0 < black_neighbors[tile] <= 2:\n",
    "                    new_tiles[tile] = True\n",
    "            else:  # White tile\n",
    "                if black_neighbors[tile] == 2:\n",
    "                    new_tiles[tile] = True\n",
    "        tiles = new_tiles\n",
    "\n",
    "    return sum(tiles.values())\n",
    "\n",
    "# Simulate 100 days\n",
    "black_tiles_after_100_days = simulate_days(tiles, 100)\n",
    "black_tiles_after_100_days"
   ]
  },
  {
   "cell_type": "code",
   "execution_count": null,
   "id": "6a2947c3-ce4b-4bd4-8e11-b5a6c7bae83e",
   "metadata": {},
   "outputs": [],
   "source": []
  }
 ],
 "metadata": {
  "kernelspec": {
   "display_name": "Python 3 (ipykernel)",
   "language": "python",
   "name": "python3"
  },
  "language_info": {
   "codemirror_mode": {
    "name": "ipython",
    "version": 3
   },
   "file_extension": ".py",
   "mimetype": "text/x-python",
   "name": "python",
   "nbconvert_exporter": "python",
   "pygments_lexer": "ipython3",
   "version": "3.12.3"
  }
 },
 "nbformat": 4,
 "nbformat_minor": 5
}
