{
 "cells": [
  {
   "cell_type": "markdown",
   "id": "bbb2ef95",
   "metadata": {},
   "source": [
    "# Advent of Code"
   ]
  },
  {
   "cell_type": "markdown",
   "id": "cb8343a6",
   "metadata": {},
   "source": [
    "## 2020-012-003\n",
    "## 2020 003"
   ]
  },
  {
   "cell_type": "markdown",
   "id": "a296dd7d",
   "metadata": {},
   "source": [
    "https://adventofcode.com/2020/day/3"
   ]
  },
  {
   "cell_type": "code",
   "execution_count": null,
   "id": "0c0d7a3f",
   "metadata": {},
   "outputs": [],
   "source": []
  }
 ],
 "metadata": {
  "kernelspec": {
   "display_name": "Python 3 (ipykernel)",
   "language": "python",
   "name": "python3"
  },
  "language_info": {
   "name": "python",
   "version": "3.12.3"
  }
 },
 "nbformat": 4,
 "nbformat_minor": 5
}
