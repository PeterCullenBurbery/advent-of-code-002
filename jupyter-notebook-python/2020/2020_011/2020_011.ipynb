{
 "cells": [
  {
   "cell_type": "markdown",
   "id": "fe72e051",
   "metadata": {},
   "source": [
    "# Advent of Code"
   ]
  },
  {
   "cell_type": "markdown",
   "id": "59dfc3fd",
   "metadata": {},
   "source": [
    "## 2020-012-011\n",
    "## 2020 011"
   ]
  },
  {
   "cell_type": "markdown",
   "id": "d01a401e",
   "metadata": {},
   "source": [
    "https://adventofcode.com/2020/day/11"
   ]
  },
  {
   "cell_type": "code",
   "execution_count": 2,
   "id": "ae4a1e1f",
   "metadata": {},
   "outputs": [
    {
     "data": {
      "text/plain": [
       "2346"
      ]
     },
     "execution_count": 2,
     "metadata": {},
     "output_type": "execute_result"
    }
   ],
   "source": [
    "import copy\n",
    "\n",
    "# Parse the input into a grid of seats\n",
    "def parse_seat_layout(data):\n",
    "    return [list(line) for line in data.splitlines()]\n",
    "\n",
    "# Count occupied seats adjacent to a given seat\n",
    "def count_adjacent_occupied(seats, row, col):\n",
    "    directions = [(-1, -1), (-1, 0), (-1, 1), (0, -1), (0, 1), (1, -1), (1, 0), (1, 1)]\n",
    "    count = 0\n",
    "    for dr, dc in directions:\n",
    "        r, c = row + dr, col + dc\n",
    "        if 0 <= r < len(seats) and 0 <= c < len(seats[0]) and seats[r][c] == \"#\":\n",
    "            count += 1\n",
    "    return count\n",
    "\n",
    "# Perform one round of seat updates\n",
    "def update_seats(seats):\n",
    "    new_seats = copy.deepcopy(seats)\n",
    "    for row in range(len(seats)):\n",
    "        for col in range(len(seats[0])):\n",
    "            if seats[row][col] == \"L\" and count_adjacent_occupied(seats, row, col) == 0:\n",
    "                new_seats[row][col] = \"#\"\n",
    "            elif seats[row][col] == \"#\" and count_adjacent_occupied(seats, row, col) >= 4:\n",
    "                new_seats[row][col] = \"L\"\n",
    "    return new_seats\n",
    "\n",
    "# Simulate until no seats change state\n",
    "def simulate_seating(seats):\n",
    "    while True:\n",
    "        new_seats = update_seats(seats)\n",
    "        if new_seats == seats:  # No changes\n",
    "            break\n",
    "        seats = new_seats\n",
    "    return sum(row.count(\"#\") for row in seats)\n",
    "\n",
    "# Read the input file\n",
    "file_path = 'input.txt'\n",
    "with open(file_path, 'r') as file:\n",
    "    data = file.read()\n",
    "\n",
    "# Parse the seat layout and simulate the seating process\n",
    "seats = parse_seat_layout(data)\n",
    "occupied_seats = simulate_seating(seats)\n",
    "\n",
    "occupied_seats"
   ]
  },
  {
   "cell_type": "code",
   "execution_count": 3,
   "id": "f8c8feb8-ddcf-49a2-b0de-319128b3d222",
   "metadata": {},
   "outputs": [
    {
     "data": {
      "text/plain": [
       "2111"
      ]
     },
     "execution_count": 3,
     "metadata": {},
     "output_type": "execute_result"
    }
   ],
   "source": [
    "# Count visible occupied seats in each direction\n",
    "def count_visible_occupied(seats, row, col):\n",
    "    directions = [(-1, -1), (-1, 0), (-1, 1), (0, -1), (0, 1), (1, -1), (1, 0), (1, 1)]\n",
    "    count = 0\n",
    "    for dr, dc in directions:\n",
    "        r, c = row + dr, col + dc\n",
    "        while 0 <= r < len(seats) and 0 <= c < len(seats[0]):\n",
    "            if seats[r][c] == \"#\":\n",
    "                count += 1\n",
    "                break\n",
    "            elif seats[r][c] == \"L\":\n",
    "                break\n",
    "            r += dr\n",
    "            c += dc\n",
    "    return count\n",
    "\n",
    "# Perform one round of seat updates using the new visibility rules\n",
    "def update_seats_with_visibility(seats):\n",
    "    new_seats = copy.deepcopy(seats)\n",
    "    for row in range(len(seats)):\n",
    "        for col in range(len(seats[0])):\n",
    "            if seats[row][col] == \"L\" and count_visible_occupied(seats, row, col) == 0:\n",
    "                new_seats[row][col] = \"#\"\n",
    "            elif seats[row][col] == \"#\" and count_visible_occupied(seats, row, col) >= 5:\n",
    "                new_seats[row][col] = \"L\"\n",
    "    return new_seats\n",
    "\n",
    "# Simulate until no seats change state using the new rules\n",
    "def simulate_seating_with_visibility(seats):\n",
    "    while True:\n",
    "        new_seats = update_seats_with_visibility(seats)\n",
    "        if new_seats == seats:  # No changes\n",
    "            break\n",
    "        seats = new_seats\n",
    "    return sum(row.count(\"#\") for row in seats)\n",
    "\n",
    "# Simulate the seating process with the new rules\n",
    "occupied_seats_with_visibility = simulate_seating_with_visibility(seats)\n",
    "\n",
    "occupied_seats_with_visibility"
   ]
  },
  {
   "cell_type": "code",
   "execution_count": null,
   "id": "75e65fa5-76b3-4213-ac4d-21b85408bae5",
   "metadata": {},
   "outputs": [],
   "source": []
  }
 ],
 "metadata": {
  "kernelspec": {
   "display_name": "Python 3 (ipykernel)",
   "language": "python",
   "name": "python3"
  },
  "language_info": {
   "codemirror_mode": {
    "name": "ipython",
    "version": 3
   },
   "file_extension": ".py",
   "mimetype": "text/x-python",
   "name": "python",
   "nbconvert_exporter": "python",
   "pygments_lexer": "ipython3",
   "version": "3.12.3"
  }
 },
 "nbformat": 4,
 "nbformat_minor": 5
}
