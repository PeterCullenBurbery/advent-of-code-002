{
 "cells": [
  {
   "cell_type": "markdown",
   "id": "597779d7",
   "metadata": {},
   "source": [
    "# Advent of Code"
   ]
  },
  {
   "cell_type": "markdown",
   "id": "b2f31cd7",
   "metadata": {},
   "source": [
    "## 2020-012-003\n",
    "## 2020 003"
   ]
  },
  {
   "cell_type": "markdown",
   "id": "b123a98e",
   "metadata": {},
   "source": [
    "https://adventofcode.com/2020/day/3"
   ]
  },
  {
   "cell_type": "code",
   "execution_count": null,
   "id": "f99ec723",
   "metadata": {},
   "outputs": [],
   "source": []
  }
 ],
 "metadata": {},
 "nbformat": 4,
 "nbformat_minor": 5
}
