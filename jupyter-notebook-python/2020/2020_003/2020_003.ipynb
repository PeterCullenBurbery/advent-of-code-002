{
 "cells": [
  {
   "cell_type": "markdown",
   "id": "597779d7",
   "metadata": {},
   "source": [
    "# Advent of Code"
   ]
  },
  {
   "cell_type": "markdown",
   "id": "b2f31cd7",
   "metadata": {},
   "source": [
    "## 2020-012-003\n",
    "## 2020 003"
   ]
  },
  {
   "cell_type": "markdown",
   "id": "b123a98e",
   "metadata": {},
   "source": [
    "https://adventofcode.com/2020/day/3"
   ]
  },
  {
   "cell_type": "code",
   "execution_count": 1,
   "id": "f99ec723",
   "metadata": {},
   "outputs": [
    {
     "data": {
      "text/plain": [
       "198"
      ]
     },
     "execution_count": 1,
     "metadata": {},
     "output_type": "execute_result"
    }
   ],
   "source": [
    "# Load the input file and process the map for tree encounters\n",
    "file_path = 'input.txt'\n",
    "\n",
    "# Reading the map data from the file\n",
    "with open(file_path, 'r') as file:\n",
    "    map_data = file.read().splitlines()\n",
    "\n",
    "# Define the slope (right 3, down 1)\n",
    "slope_right = 3\n",
    "slope_down = 1\n",
    "\n",
    "# Initialize variables for tree count and position\n",
    "tree_count = 0\n",
    "col = 0\n",
    "\n",
    "# Traverse the map using the given slope\n",
    "for row in range(0, len(map_data), slope_down):\n",
    "    if map_data[row][col % len(map_data[row])] == '#':\n",
    "        tree_count += 1\n",
    "    col += slope_right\n",
    "\n",
    "tree_count\n"
   ]
  },
  {
   "cell_type": "code",
   "execution_count": 2,
   "id": "84ca6755-f260-458f-9f34-f0a69344d663",
   "metadata": {},
   "outputs": [
    {
     "data": {
      "text/plain": [
       "5140884672"
      ]
     },
     "execution_count": 2,
     "metadata": {},
     "output_type": "execute_result"
    }
   ],
   "source": [
    "# Reading the input from the uploaded file for Day 3 Part Two\n",
    "file_path = 'input.txt'\n",
    "\n",
    "# Load the map data\n",
    "with open(file_path, 'r') as file:\n",
    "    slope_map = [line.strip() for line in file.readlines()]\n",
    "\n",
    "# Function to count trees encountered given a slope (right, down)\n",
    "def count_trees(map_data, right, down):\n",
    "    width = len(map_data[0])\n",
    "    height = len(map_data)\n",
    "    x, y = 0, 0\n",
    "    tree_count = 0\n",
    "    \n",
    "    while y < height:\n",
    "        if map_data[y][x % width] == '#':\n",
    "            tree_count += 1\n",
    "        x += right\n",
    "        y += down\n",
    "    \n",
    "    return tree_count\n",
    "\n",
    "# Slopes to check\n",
    "slopes = [(1, 1), (3, 1), (5, 1), (7, 1), (1, 2)]\n",
    "\n",
    "# Calculate trees for all slopes\n",
    "tree_counts = [count_trees(slope_map, right, down) for right, down in slopes]\n",
    "\n",
    "# Calculate the product of all tree counts\n",
    "from math import prod\n",
    "result = prod(tree_counts)\n",
    "\n",
    "result\n"
   ]
  },
  {
   "cell_type": "code",
   "execution_count": null,
   "id": "cd2dcfa9-2e6c-4c9b-bd03-3d900d52ac5b",
   "metadata": {},
   "outputs": [],
   "source": []
  }
 ],
 "metadata": {
  "kernelspec": {
   "display_name": "Python 3 (ipykernel)",
   "language": "python",
   "name": "python3"
  },
  "language_info": {
   "codemirror_mode": {
    "name": "ipython",
    "version": 3
   },
   "file_extension": ".py",
   "mimetype": "text/x-python",
   "name": "python",
   "nbconvert_exporter": "python",
   "pygments_lexer": "ipython3",
   "version": "3.12.3"
  }
 },
 "nbformat": 4,
 "nbformat_minor": 5
}
