{
 "cells": [
  {
   "cell_type": "markdown",
   "id": "9897b924",
   "metadata": {},
   "source": [
    "# Advent of Code"
   ]
  },
  {
   "cell_type": "markdown",
   "id": "df9961e9",
   "metadata": {},
   "source": [
    "## 2020-012-013\n",
    "## 2020 013"
   ]
  },
  {
   "cell_type": "markdown",
   "id": "677f92c8",
   "metadata": {},
   "source": [
    "https://adventofcode.com/2020/day/13"
   ]
  },
  {
   "cell_type": "code",
   "execution_count": 1,
   "id": "7c13ed52",
   "metadata": {},
   "outputs": [
    {
     "data": {
      "text/plain": [
       "2995"
      ]
     },
     "execution_count": 1,
     "metadata": {},
     "output_type": "execute_result"
    }
   ],
   "source": [
    "# Function to read data from a file and process the input\n",
    "def calculate_earliest_bus(file_path):\n",
    "    with open(file_path, 'r') as file:\n",
    "        # Read the earliest timestamp and bus IDs\n",
    "        earliest_timestamp = int(file.readline().strip())\n",
    "        bus_ids_line = file.readline().strip()\n",
    "\n",
    "    # Extracting only the bus IDs that are numbers (ignoring 'x')\n",
    "    bus_ids = [int(bus_id) for bus_id in bus_ids_line.split(\",\") if bus_id != 'x']\n",
    "\n",
    "    # Finding the earliest bus and the wait time\n",
    "    min_wait_time = float('inf')\n",
    "    earliest_bus_id = None\n",
    "\n",
    "    for bus_id in bus_ids:\n",
    "        wait_time = bus_id - (earliest_timestamp % bus_id)\n",
    "        if wait_time < min_wait_time:\n",
    "            min_wait_time = wait_time\n",
    "            earliest_bus_id = bus_id\n",
    "\n",
    "    # Returning the result\n",
    "    return earliest_bus_id * min_wait_time\n",
    "\n",
    "# Assuming the input file is named 'input.txt'\n",
    "file_path = 'input.txt'\n",
    "result = calculate_earliest_bus(file_path)\n",
    "result"
   ]
  },
  {
   "cell_type": "code",
   "execution_count": null,
   "id": "2895fe6a-ffe0-4477-950b-6e262b7fffca",
   "metadata": {},
   "outputs": [],
   "source": []
  }
 ],
 "metadata": {
  "kernelspec": {
   "display_name": "Python 3 (ipykernel)",
   "language": "python",
   "name": "python3"
  },
  "language_info": {
   "codemirror_mode": {
    "name": "ipython",
    "version": 3
   },
   "file_extension": ".py",
   "mimetype": "text/x-python",
   "name": "python",
   "nbconvert_exporter": "python",
   "pygments_lexer": "ipython3",
   "version": "3.12.3"
  }
 },
 "nbformat": 4,
 "nbformat_minor": 5
}
