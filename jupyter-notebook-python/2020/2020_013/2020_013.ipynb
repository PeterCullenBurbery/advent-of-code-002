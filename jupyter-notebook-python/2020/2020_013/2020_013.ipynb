{
 "cells": [
  {
   "cell_type": "markdown",
   "id": "9897b924",
   "metadata": {},
   "source": [
    "# Advent of Code"
   ]
  },
  {
   "cell_type": "markdown",
   "id": "df9961e9",
   "metadata": {},
   "source": [
    "## 2020-012-013\n",
    "## 2020 013"
   ]
  },
  {
   "cell_type": "markdown",
   "id": "677f92c8",
   "metadata": {},
   "source": [
    "https://adventofcode.com/2020/day/13"
   ]
  },
  {
   "cell_type": "code",
   "execution_count": null,
   "id": "7c13ed52",
   "metadata": {},
   "outputs": [],
   "source": []
  }
 ],
 "metadata": {},
 "nbformat": 4,
 "nbformat_minor": 5
}
