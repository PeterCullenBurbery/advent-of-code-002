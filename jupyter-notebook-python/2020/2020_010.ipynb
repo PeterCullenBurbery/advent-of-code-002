{
 "cells": [
  {
   "cell_type": "markdown",
   "id": "5ab5dc1e",
   "metadata": {},
   "source": [
    "# Advent of Code"
   ]
  },
  {
   "cell_type": "markdown",
   "id": "5b2d0580",
   "metadata": {},
   "source": [
    "## 2020-012-010\n",
    "## 2020 010"
   ]
  },
  {
   "cell_type": "markdown",
   "id": "7cad70ad",
   "metadata": {},
   "source": [
    "https://adventofcode.com/2020/day/10"
   ]
  },
  {
   "cell_type": "code",
   "execution_count": null,
   "id": "e56b9b42",
   "metadata": {},
   "outputs": [],
   "source": []
  }
 ],
 "metadata": {
  "kernelspec": {
   "display_name": "Python 3 (ipykernel)",
   "language": "python",
   "name": "python3"
  },
  "language_info": {
   "name": "python",
   "version": "3.12.3"
  }
 },
 "nbformat": 4,
 "nbformat_minor": 5
}
