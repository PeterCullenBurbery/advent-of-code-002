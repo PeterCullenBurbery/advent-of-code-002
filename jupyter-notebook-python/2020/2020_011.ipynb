{
 "cells": [
  {
   "cell_type": "markdown",
   "id": "d3f79566",
   "metadata": {},
   "source": [
    "# Advent of Code"
   ]
  },
  {
   "cell_type": "markdown",
   "id": "7610e85f",
   "metadata": {},
   "source": [
    "## 2020-012-011\n",
    "## 2020 011"
   ]
  },
  {
   "cell_type": "markdown",
   "id": "bd453285",
   "metadata": {},
   "source": [
    "https://adventofcode.com/2020/day/11"
   ]
  },
  {
   "cell_type": "code",
   "execution_count": null,
   "id": "b81eaf6d",
   "metadata": {},
   "outputs": [],
   "source": []
  }
 ],
 "metadata": {
  "kernelspec": {
   "display_name": "Python 3 (ipykernel)",
   "language": "python",
   "name": "python3"
  },
  "language_info": {
   "name": "python",
   "version": "3.12.3"
  }
 },
 "nbformat": 4,
 "nbformat_minor": 5
}
