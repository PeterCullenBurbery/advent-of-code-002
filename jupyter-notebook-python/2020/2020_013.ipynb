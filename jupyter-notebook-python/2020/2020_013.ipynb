{
 "cells": [
  {
   "cell_type": "markdown",
   "id": "32b2edc5",
   "metadata": {},
   "source": [
    "# Advent of Code"
   ]
  },
  {
   "cell_type": "markdown",
   "id": "2dbbf1c2",
   "metadata": {},
   "source": [
    "## 2020-012-013\n",
    "## 2020 013"
   ]
  },
  {
   "cell_type": "markdown",
   "id": "0d76db3e",
   "metadata": {},
   "source": [
    "https://adventofcode.com/2020/day/13"
   ]
  },
  {
   "cell_type": "code",
   "execution_count": null,
   "id": "6511c965",
   "metadata": {},
   "outputs": [],
   "source": []
  }
 ],
 "metadata": {
  "kernelspec": {
   "display_name": "Python 3 (ipykernel)",
   "language": "python",
   "name": "python3"
  },
  "language_info": {
   "name": "python",
   "version": "3.12.3"
  }
 },
 "nbformat": 4,
 "nbformat_minor": 5
}
