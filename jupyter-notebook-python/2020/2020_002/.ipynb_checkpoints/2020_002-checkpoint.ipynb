{
 "cells": [
  {
   "cell_type": "markdown",
   "id": "3867d66d",
   "metadata": {},
   "source": [
    "# Advent of Code"
   ]
  },
  {
   "cell_type": "markdown",
   "id": "5b1f79d8",
   "metadata": {},
   "source": [
    "## 2020-012-002\n",
    "## 2020 002"
   ]
  },
  {
   "cell_type": "markdown",
   "id": "32a74c54",
   "metadata": {},
   "source": [
    "https://adventofcode.com/2020/day/2"
   ]
  },
  {
   "cell_type": "code",
   "execution_count": null,
   "id": "84663bff",
   "metadata": {},
   "outputs": [],
   "source": []
  }
 ],
 "metadata": {},
 "nbformat": 4,
 "nbformat_minor": 5
}
