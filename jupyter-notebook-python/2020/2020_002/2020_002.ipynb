{
 "cells": [
  {
   "cell_type": "markdown",
   "id": "3867d66d",
   "metadata": {},
   "source": [
    "# Advent of Code"
   ]
  },
  {
   "cell_type": "markdown",
   "id": "5b1f79d8",
   "metadata": {},
   "source": [
    "## 2020-012-002\n",
    "## 2020 002"
   ]
  },
  {
   "cell_type": "markdown",
   "id": "32a74c54",
   "metadata": {},
   "source": [
    "https://adventofcode.com/2020/day/2"
   ]
  },
  {
   "cell_type": "code",
   "execution_count": 1,
   "id": "84663bff",
   "metadata": {},
   "outputs": [
    {
     "data": {
      "text/plain": [
       "607"
      ]
     },
     "execution_count": 1,
     "metadata": {},
     "output_type": "execute_result"
    }
   ],
   "source": [
    "# Load the input file for Day 2 puzzle and parse the data\n",
    "file_path = './input.txt'\n",
    "\n",
    "# Define a function to parse each password entry\n",
    "def parse_password_data(line):\n",
    "    policy, password = line.split(': ')\n",
    "    range_part, letter = policy.split(' ')\n",
    "    low, high = map(int, range_part.split('-'))\n",
    "    return low, high, letter, password.strip()\n",
    "\n",
    "# Read and parse the file\n",
    "with open(file_path, 'r') as file:\n",
    "    data = [parse_password_data(line.strip()) for line in file.readlines()]\n",
    "\n",
    "# Count valid passwords according to the old policy\n",
    "valid_password_count = 0\n",
    "for low, high, letter, password in data:\n",
    "    if low <= password.count(letter) <= high:\n",
    "        valid_password_count += 1\n",
    "\n",
    "valid_password_count\n"
   ]
  },
  {
   "cell_type": "code",
   "execution_count": 3,
   "id": "4d2aa223-67a4-4b93-9fb5-581d36d95a78",
   "metadata": {},
   "outputs": [
    {
     "data": {
      "text/plain": [
       "321"
      ]
     },
     "execution_count": 3,
     "metadata": {},
     "output_type": "execute_result"
    }
   ],
   "source": [
    "# Read the input file\n",
    "with open('input.txt', 'r') as file:\n",
    "    password_entries = file.readlines()\n",
    "\n",
    "# Process the input to determine validity according to the new policy\n",
    "def parse_entry(entry):\n",
    "    policy, letter_colon, password = entry.split()\n",
    "    positions = list(map(int, policy.split('-')))\n",
    "    letter = letter_colon[0]\n",
    "    return positions, letter, password\n",
    "\n",
    "def is_valid_password_new_policy(positions, letter, password):\n",
    "    pos1, pos2 = positions\n",
    "    # Convert 1-based index to 0-based for Python\n",
    "    pos1, pos2 = pos1 - 1, pos2 - 1\n",
    "    # Check if exactly one of the specified positions contains the letter\n",
    "    return (password[pos1] == letter) ^ (password[pos2] == letter)\n",
    "\n",
    "# Count valid passwords\n",
    "valid_password_count = sum(\n",
    "    is_valid_password_new_policy(*parse_entry(entry)) for entry in password_entries\n",
    ")\n",
    "\n",
    "valid_password_count"
   ]
  },
  {
   "cell_type": "code",
   "execution_count": null,
   "id": "2ce45462-51e0-4082-ad19-2bf954bb00f2",
   "metadata": {},
   "outputs": [],
   "source": []
  }
 ],
 "metadata": {
  "kernelspec": {
   "display_name": "Python 3 (ipykernel)",
   "language": "python",
   "name": "python3"
  },
  "language_info": {
   "codemirror_mode": {
    "name": "ipython",
    "version": 3
   },
   "file_extension": ".py",
   "mimetype": "text/x-python",
   "name": "python",
   "nbconvert_exporter": "python",
   "pygments_lexer": "ipython3",
   "version": "3.12.3"
  }
 },
 "nbformat": 4,
 "nbformat_minor": 5
}
