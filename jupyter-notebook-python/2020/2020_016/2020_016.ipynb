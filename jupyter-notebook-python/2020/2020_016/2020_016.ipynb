{
 "cells": [
  {
   "cell_type": "markdown",
   "id": "c4495884",
   "metadata": {},
   "source": [
    "# Advent of Code"
   ]
  },
  {
   "cell_type": "markdown",
   "id": "f9a71b47",
   "metadata": {},
   "source": [
    "## 2020-012-016\n",
    "## 2020 016"
   ]
  },
  {
   "cell_type": "markdown",
   "id": "170c4722",
   "metadata": {},
   "source": [
    "https://adventofcode.com/2020/day/16"
   ]
  },
  {
   "cell_type": "code",
   "execution_count": 2,
   "id": "03b2b003",
   "metadata": {},
   "outputs": [
    {
     "data": {
      "text/plain": [
       "21978"
      ]
     },
     "execution_count": 2,
     "metadata": {},
     "output_type": "execute_result"
    }
   ],
   "source": [
    "import re\n",
    "\n",
    "# Function to parse the rules, your ticket, and nearby tickets\n",
    "def parse_input(file_path):\n",
    "    with open(file_path, 'r') as file:\n",
    "        sections = file.read().strip().split(\"\\n\\n\")\n",
    "    \n",
    "    # Parse rules\n",
    "    rules = {}\n",
    "    for line in sections[0].split(\"\\n\"):\n",
    "        field, ranges = line.split(\": \")\n",
    "        ranges = ranges.split(\" or \")\n",
    "        rules[field] = []\n",
    "        for r in ranges:\n",
    "            low, high = map(int, r.split(\"-\"))\n",
    "            rules[field].append((low, high))\n",
    "    \n",
    "    # Parse your ticket\n",
    "    your_ticket = list(map(int, sections[1].split(\"\\n\")[1].split(\",\")))\n",
    "    \n",
    "    # Parse nearby tickets\n",
    "    nearby_tickets = [list(map(int, line.split(\",\"))) for line in sections[2].split(\"\\n\")[1:]]\n",
    "    \n",
    "    return rules, your_ticket, nearby_tickets\n",
    "\n",
    "# Function to determine if a value is valid for any rule\n",
    "def is_value_valid(value, rules):\n",
    "    for ranges in rules.values():\n",
    "        for low, high in ranges:\n",
    "            if low <= value <= high:\n",
    "                return True\n",
    "    return False\n",
    "\n",
    "# Function to calculate the ticket scanning error rate\n",
    "def calculate_error_rate(rules, nearby_tickets):\n",
    "    error_rate = 0\n",
    "    for ticket in nearby_tickets:\n",
    "        for value in ticket:\n",
    "            if not is_value_valid(value, rules):\n",
    "                error_rate += value\n",
    "    return error_rate\n",
    "\n",
    "# Parse the input\n",
    "file_path = 'input.txt'\n",
    "rules, your_ticket, nearby_tickets = parse_input(file_path)\n",
    "\n",
    "# Calculate the ticket scanning error rate\n",
    "error_rate = calculate_error_rate(rules, nearby_tickets)\n",
    "error_rate"
   ]
  },
  {
   "cell_type": "code",
   "execution_count": 3,
   "id": "d10d6b9c-af6f-4fb1-9d8a-e4546122a988",
   "metadata": {},
   "outputs": [
    {
     "data": {
      "text/plain": [
       "1053686852011"
      ]
     },
     "execution_count": 3,
     "metadata": {},
     "output_type": "execute_result"
    }
   ],
   "source": [
    "# Function to filter valid tickets based on the rules\n",
    "def filter_valid_tickets(rules, nearby_tickets):\n",
    "    valid_tickets = []\n",
    "    for ticket in nearby_tickets:\n",
    "        if all(is_value_valid(value, rules) for value in ticket):\n",
    "            valid_tickets.append(ticket)\n",
    "    return valid_tickets\n",
    "\n",
    "# Function to determine field order\n",
    "def determine_field_order(rules, valid_tickets):\n",
    "    # Number of fields on the tickets\n",
    "    num_fields = len(valid_tickets[0])\n",
    "\n",
    "    # Possible fields for each position\n",
    "    possible_fields = {i: set(rules.keys()) for i in range(num_fields)}\n",
    "\n",
    "    # Check each position across all tickets\n",
    "    for ticket in valid_tickets:\n",
    "        for i, value in enumerate(ticket):\n",
    "            invalid_fields = set()\n",
    "            for field, ranges in rules.items():\n",
    "                if not any(low <= value <= high for low, high in ranges):\n",
    "                    invalid_fields.add(field)\n",
    "            possible_fields[i] -= invalid_fields\n",
    "\n",
    "    # Resolve field order using a process of elimination\n",
    "    field_order = [None] * num_fields\n",
    "    while any(possible_fields.values()):\n",
    "        for i, possible in possible_fields.items():\n",
    "            if len(possible) == 1:\n",
    "                field = possible.pop()\n",
    "                field_order[i] = field\n",
    "                for other_possible in possible_fields.values():\n",
    "                    other_possible.discard(field)\n",
    "\n",
    "    return field_order\n",
    "\n",
    "# Function to calculate the product of \"departure\" fields\n",
    "def calculate_departure_product(field_order, your_ticket):\n",
    "    product = 1\n",
    "    for i, field in enumerate(field_order):\n",
    "        if field.startswith(\"departure\"):\n",
    "            product *= your_ticket[i]\n",
    "    return product\n",
    "\n",
    "# Parse the input\n",
    "rules, your_ticket, nearby_tickets = parse_input(file_path)\n",
    "\n",
    "# Filter valid tickets\n",
    "valid_tickets = filter_valid_tickets(rules, nearby_tickets)\n",
    "\n",
    "# Determine field order\n",
    "field_order = determine_field_order(rules, valid_tickets)\n",
    "\n",
    "# Calculate the product of departure fields\n",
    "departure_product = calculate_departure_product(field_order, your_ticket)\n",
    "departure_product"
   ]
  },
  {
   "cell_type": "code",
   "execution_count": null,
   "id": "04f95bcc-479c-4a87-acb7-6313cc548799",
   "metadata": {},
   "outputs": [],
   "source": []
  }
 ],
 "metadata": {
  "kernelspec": {
   "display_name": "Python 3 (ipykernel)",
   "language": "python",
   "name": "python3"
  },
  "language_info": {
   "codemirror_mode": {
    "name": "ipython",
    "version": 3
   },
   "file_extension": ".py",
   "mimetype": "text/x-python",
   "name": "python",
   "nbconvert_exporter": "python",
   "pygments_lexer": "ipython3",
   "version": "3.12.3"
  }
 },
 "nbformat": 4,
 "nbformat_minor": 5
}
