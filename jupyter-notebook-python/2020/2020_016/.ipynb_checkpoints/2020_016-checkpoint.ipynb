{
 "cells": [
  {
   "cell_type": "markdown",
   "id": "c4495884",
   "metadata": {},
   "source": [
    "# Advent of Code"
   ]
  },
  {
   "cell_type": "markdown",
   "id": "f9a71b47",
   "metadata": {},
   "source": [
    "## 2020-012-016\n",
    "## 2020 016"
   ]
  },
  {
   "cell_type": "markdown",
   "id": "170c4722",
   "metadata": {},
   "source": [
    "https://adventofcode.com/2020/day/16"
   ]
  },
  {
   "cell_type": "code",
   "execution_count": null,
   "id": "03b2b003",
   "metadata": {},
   "outputs": [],
   "source": []
  }
 ],
 "metadata": {},
 "nbformat": 4,
 "nbformat_minor": 5
}
