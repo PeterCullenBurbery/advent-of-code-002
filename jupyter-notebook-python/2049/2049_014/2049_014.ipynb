{
 "cells": [
  {
   "cell_type": "markdown",
   "id": "97046bbb",
   "metadata": {},
   "source": [
    "# Advent of Code"
   ]
  },
  {
   "cell_type": "markdown",
   "id": "d45476c0",
   "metadata": {},
   "source": [
    "## 2049-012-014\n",
    "## 2049 014"
   ]
  },
  {
   "cell_type": "markdown",
   "id": "630128a5",
   "metadata": {},
   "source": [
    "https://adventofcode.com/2049/day/14"
   ]
  },
  {
   "cell_type": "code",
   "execution_count": null,
   "id": "f13ecdcb",
   "metadata": {},
   "outputs": [],
   "source": []
  }
 ],
 "metadata": {},
 "nbformat": 4,
 "nbformat_minor": 5
}
