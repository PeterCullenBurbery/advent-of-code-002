{
 "cells": [
  {
   "cell_type": "markdown",
   "id": "9965da3f",
   "metadata": {},
   "source": [
    "# Advent of Code"
   ]
  },
  {
   "cell_type": "markdown",
   "id": "30adfc22",
   "metadata": {},
   "source": [
    "## 2049-012-001\n",
    "## 2049 001"
   ]
  },
  {
   "cell_type": "markdown",
   "id": "a38776b1",
   "metadata": {},
   "source": [
    "https://adventofcode.com/2049/day/1"
   ]
  },
  {
   "cell_type": "code",
   "execution_count": null,
   "id": "2a3e9731",
   "metadata": {},
   "outputs": [],
   "source": []
  }
 ],
 "metadata": {},
 "nbformat": 4,
 "nbformat_minor": 5
}
