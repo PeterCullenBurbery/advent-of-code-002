{
 "cells": [
  {
   "cell_type": "markdown",
   "id": "85ffc566",
   "metadata": {},
   "source": [
    "# Advent of Code"
   ]
  },
  {
   "cell_type": "markdown",
   "id": "a0f8da3e",
   "metadata": {},
   "source": [
    "## 2049-012-013\n",
    "## 2049 013"
   ]
  },
  {
   "cell_type": "markdown",
   "id": "77fa9cff",
   "metadata": {},
   "source": [
    "https://adventofcode.com/2049/day/13"
   ]
  },
  {
   "cell_type": "code",
   "execution_count": null,
   "id": "8ccbacc9",
   "metadata": {},
   "outputs": [],
   "source": []
  }
 ],
 "metadata": {
  "kernelspec": {
   "display_name": "Python 3 (ipykernel)",
   "language": "python",
   "name": "python3"
  },
  "language_info": {
   "name": "python",
   "version": "3.12.3"
  }
 },
 "nbformat": 4,
 "nbformat_minor": 5
}
