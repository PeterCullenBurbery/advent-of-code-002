{
 "cells": [
  {
   "cell_type": "markdown",
   "id": "bac2aad7",
   "metadata": {},
   "source": [
    "# Advent of Code"
   ]
  },
  {
   "cell_type": "markdown",
   "id": "12e05045",
   "metadata": {},
   "source": [
    "## 2049-012-007\n",
    "## 2049 007"
   ]
  },
  {
   "cell_type": "markdown",
   "id": "2950d4ed",
   "metadata": {},
   "source": [
    "https://adventofcode.com/2049/day/7"
   ]
  },
  {
   "cell_type": "code",
   "execution_count": null,
   "id": "4939a8d6",
   "metadata": {},
   "outputs": [],
   "source": []
  }
 ],
 "metadata": {
  "kernelspec": {
   "display_name": "Python 3 (ipykernel)",
   "language": "python",
   "name": "python3"
  },
  "language_info": {
   "name": "python",
   "version": "3.12.3"
  }
 },
 "nbformat": 4,
 "nbformat_minor": 5
}
