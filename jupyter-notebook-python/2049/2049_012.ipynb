{
 "cells": [
  {
   "cell_type": "markdown",
   "id": "112b145b",
   "metadata": {},
   "source": [
    "# Advent of Code"
   ]
  },
  {
   "cell_type": "markdown",
   "id": "aec2a549",
   "metadata": {},
   "source": [
    "## 2049-012-012\n",
    "## 2049 012"
   ]
  },
  {
   "cell_type": "markdown",
   "id": "d9fa6bbc",
   "metadata": {},
   "source": [
    "https://adventofcode.com/2049/day/12"
   ]
  },
  {
   "cell_type": "code",
   "execution_count": null,
   "id": "f4b1314c",
   "metadata": {},
   "outputs": [],
   "source": []
  }
 ],
 "metadata": {
  "kernelspec": {
   "display_name": "Python 3 (ipykernel)",
   "language": "python",
   "name": "python3"
  },
  "language_info": {
   "name": "python",
   "version": "3.12.3"
  }
 },
 "nbformat": 4,
 "nbformat_minor": 5
}
