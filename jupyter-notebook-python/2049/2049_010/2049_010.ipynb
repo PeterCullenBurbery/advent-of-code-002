{
 "cells": [
  {
   "cell_type": "markdown",
   "id": "b31dbfb1",
   "metadata": {},
   "source": [
    "# Advent of Code"
   ]
  },
  {
   "cell_type": "markdown",
   "id": "0d97d8bd",
   "metadata": {},
   "source": [
    "## 2049-012-010\n",
    "## 2049 010"
   ]
  },
  {
   "cell_type": "markdown",
   "id": "7892ad37",
   "metadata": {},
   "source": [
    "https://adventofcode.com/2049/day/10"
   ]
  },
  {
   "cell_type": "code",
   "execution_count": null,
   "id": "9eb4d9cb",
   "metadata": {},
   "outputs": [],
   "source": []
  }
 ],
 "metadata": {},
 "nbformat": 4,
 "nbformat_minor": 5
}
