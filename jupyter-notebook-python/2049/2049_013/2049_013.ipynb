{
 "cells": [
  {
   "cell_type": "markdown",
   "id": "657f83fd",
   "metadata": {},
   "source": [
    "# Advent of Code"
   ]
  },
  {
   "cell_type": "markdown",
   "id": "aebaea96",
   "metadata": {},
   "source": [
    "## 2049-012-013\n",
    "## 2049 013"
   ]
  },
  {
   "cell_type": "markdown",
   "id": "468fe2cb",
   "metadata": {},
   "source": [
    "https://adventofcode.com/2049/day/13"
   ]
  },
  {
   "cell_type": "code",
   "execution_count": null,
   "id": "f24e2901",
   "metadata": {},
   "outputs": [],
   "source": []
  }
 ],
 "metadata": {},
 "nbformat": 4,
 "nbformat_minor": 5
}
