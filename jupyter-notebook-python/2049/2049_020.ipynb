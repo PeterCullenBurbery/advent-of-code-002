{
 "cells": [
  {
   "cell_type": "markdown",
   "id": "384609f6",
   "metadata": {},
   "source": [
    "# Advent of Code"
   ]
  },
  {
   "cell_type": "markdown",
   "id": "311744ce",
   "metadata": {},
   "source": [
    "## 2049-012-020\n",
    "## 2049 020"
   ]
  },
  {
   "cell_type": "markdown",
   "id": "246d3738",
   "metadata": {},
   "source": [
    "https://adventofcode.com/2049/day/20"
   ]
  },
  {
   "cell_type": "code",
   "execution_count": null,
   "id": "bf5703ec",
   "metadata": {},
   "outputs": [],
   "source": []
  }
 ],
 "metadata": {
  "kernelspec": {
   "display_name": "Python 3 (ipykernel)",
   "language": "python",
   "name": "python3"
  },
  "language_info": {
   "name": "python",
   "version": "3.12.3"
  }
 },
 "nbformat": 4,
 "nbformat_minor": 5
}
