{
 "cells": [
  {
   "cell_type": "markdown",
   "id": "4cc82d55",
   "metadata": {},
   "source": [
    "# Advent of Code"
   ]
  },
  {
   "cell_type": "markdown",
   "id": "c9f2e36b",
   "metadata": {},
   "source": [
    "## 2049-012-006\n",
    "## 2049 006"
   ]
  },
  {
   "cell_type": "markdown",
   "id": "0e0a0455",
   "metadata": {},
   "source": [
    "https://adventofcode.com/2049/day/6"
   ]
  },
  {
   "cell_type": "code",
   "execution_count": null,
   "id": "e70f650b",
   "metadata": {},
   "outputs": [],
   "source": []
  }
 ],
 "metadata": {},
 "nbformat": 4,
 "nbformat_minor": 5
}
