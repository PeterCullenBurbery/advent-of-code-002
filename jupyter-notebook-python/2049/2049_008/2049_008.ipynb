{
 "cells": [
  {
   "cell_type": "markdown",
   "id": "c8b892ad",
   "metadata": {},
   "source": [
    "# Advent of Code"
   ]
  },
  {
   "cell_type": "markdown",
   "id": "772d2bf3",
   "metadata": {},
   "source": [
    "## 2049-012-008\n",
    "## 2049 008"
   ]
  },
  {
   "cell_type": "markdown",
   "id": "dcf8cf39",
   "metadata": {},
   "source": [
    "https://adventofcode.com/2049/day/8"
   ]
  },
  {
   "cell_type": "code",
   "execution_count": null,
   "id": "1aad9e39",
   "metadata": {},
   "outputs": [],
   "source": []
  }
 ],
 "metadata": {},
 "nbformat": 4,
 "nbformat_minor": 5
}
