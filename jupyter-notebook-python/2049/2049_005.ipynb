{
 "cells": [
  {
   "cell_type": "markdown",
   "id": "3e5bfb27",
   "metadata": {},
   "source": [
    "# Advent of Code"
   ]
  },
  {
   "cell_type": "markdown",
   "id": "4e27e715",
   "metadata": {},
   "source": [
    "## 2049-012-005\n",
    "## 2049 005"
   ]
  },
  {
   "cell_type": "markdown",
   "id": "8bfbdd4e",
   "metadata": {},
   "source": [
    "https://adventofcode.com/2049/day/5"
   ]
  },
  {
   "cell_type": "code",
   "execution_count": null,
   "id": "87d3f744",
   "metadata": {},
   "outputs": [],
   "source": []
  }
 ],
 "metadata": {
  "kernelspec": {
   "display_name": "Python 3 (ipykernel)",
   "language": "python",
   "name": "python3"
  },
  "language_info": {
   "name": "python",
   "version": "3.12.3"
  }
 },
 "nbformat": 4,
 "nbformat_minor": 5
}
