{
 "cells": [
  {
   "cell_type": "markdown",
   "id": "93682921",
   "metadata": {},
   "source": [
    "# Advent of Code"
   ]
  },
  {
   "cell_type": "markdown",
   "id": "1b85aa93",
   "metadata": {},
   "source": [
    "## 2049-012-025\n",
    "## 2049 025"
   ]
  },
  {
   "cell_type": "markdown",
   "id": "9c256eac",
   "metadata": {},
   "source": [
    "https://adventofcode.com/2049/day/25"
   ]
  },
  {
   "cell_type": "code",
   "execution_count": null,
   "id": "409130d6",
   "metadata": {},
   "outputs": [],
   "source": []
  }
 ],
 "metadata": {
  "kernelspec": {
   "display_name": "Python 3 (ipykernel)",
   "language": "python",
   "name": "python3"
  },
  "language_info": {
   "name": "python",
   "version": "3.12.3"
  }
 },
 "nbformat": 4,
 "nbformat_minor": 5
}
