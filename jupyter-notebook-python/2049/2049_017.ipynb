{
 "cells": [
  {
   "cell_type": "markdown",
   "id": "ea0a828c",
   "metadata": {},
   "source": [
    "# Advent of Code"
   ]
  },
  {
   "cell_type": "markdown",
   "id": "db537c8a",
   "metadata": {},
   "source": [
    "## 2049-012-017\n",
    "## 2049 017"
   ]
  },
  {
   "cell_type": "markdown",
   "id": "12381b2d",
   "metadata": {},
   "source": [
    "https://adventofcode.com/2049/day/17"
   ]
  },
  {
   "cell_type": "code",
   "execution_count": null,
   "id": "df2e7dd4",
   "metadata": {},
   "outputs": [],
   "source": []
  }
 ],
 "metadata": {
  "kernelspec": {
   "display_name": "Python 3 (ipykernel)",
   "language": "python",
   "name": "python3"
  },
  "language_info": {
   "name": "python",
   "version": "3.12.3"
  }
 },
 "nbformat": 4,
 "nbformat_minor": 5
}
