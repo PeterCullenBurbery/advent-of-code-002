{
 "cells": [
  {
   "cell_type": "markdown",
   "id": "8e3acb31",
   "metadata": {},
   "source": [
    "# Advent of Code"
   ]
  },
  {
   "cell_type": "markdown",
   "id": "60df4666",
   "metadata": {},
   "source": [
    "## 2049-012-005\n",
    "## 2049 005"
   ]
  },
  {
   "cell_type": "markdown",
   "id": "11d10548",
   "metadata": {},
   "source": [
    "https://adventofcode.com/2049/day/5"
   ]
  },
  {
   "cell_type": "code",
   "execution_count": null,
   "id": "45d1eef9",
   "metadata": {},
   "outputs": [],
   "source": []
  }
 ],
 "metadata": {},
 "nbformat": 4,
 "nbformat_minor": 5
}
