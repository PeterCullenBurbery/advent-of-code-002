{
 "cells": [
  {
   "cell_type": "markdown",
   "id": "dc6caa0a",
   "metadata": {},
   "source": [
    "# Advent of Code"
   ]
  },
  {
   "cell_type": "markdown",
   "id": "38a38839",
   "metadata": {},
   "source": [
    "## 2049-012-009\n",
    "## 2049 009"
   ]
  },
  {
   "cell_type": "markdown",
   "id": "036d9078",
   "metadata": {},
   "source": [
    "https://adventofcode.com/2049/day/9"
   ]
  },
  {
   "cell_type": "code",
   "execution_count": null,
   "id": "ba81b7a2",
   "metadata": {},
   "outputs": [],
   "source": []
  }
 ],
 "metadata": {},
 "nbformat": 4,
 "nbformat_minor": 5
}
