{
 "cells": [
  {
   "cell_type": "markdown",
   "id": "9d4ed884",
   "metadata": {},
   "source": [
    "# Advent of Code"
   ]
  },
  {
   "cell_type": "markdown",
   "id": "0a97eb2d",
   "metadata": {},
   "source": [
    "## 2049-012-014\n",
    "## 2049 014"
   ]
  },
  {
   "cell_type": "markdown",
   "id": "7141dc14",
   "metadata": {},
   "source": [
    "https://adventofcode.com/2049/day/14"
   ]
  },
  {
   "cell_type": "code",
   "execution_count": null,
   "id": "ba4e6aa5",
   "metadata": {},
   "outputs": [],
   "source": []
  }
 ],
 "metadata": {
  "kernelspec": {
   "display_name": "Python 3 (ipykernel)",
   "language": "python",
   "name": "python3"
  },
  "language_info": {
   "name": "python",
   "version": "3.12.3"
  }
 },
 "nbformat": 4,
 "nbformat_minor": 5
}
