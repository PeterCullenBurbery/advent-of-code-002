{
 "cells": [
  {
   "cell_type": "markdown",
   "id": "6a9642ad",
   "metadata": {},
   "source": [
    "# Advent of Code"
   ]
  },
  {
   "cell_type": "markdown",
   "id": "2937a4ec",
   "metadata": {},
   "source": [
    "## 2049-012-001\n",
    "## 2049 001"
   ]
  },
  {
   "cell_type": "markdown",
   "id": "097e95f7",
   "metadata": {},
   "source": [
    "https://adventofcode.com/2049/day/1"
   ]
  },
  {
   "cell_type": "code",
   "execution_count": null,
   "id": "b557380d",
   "metadata": {},
   "outputs": [],
   "source": []
  }
 ],
 "metadata": {
  "kernelspec": {
   "display_name": "Python 3 (ipykernel)",
   "language": "python",
   "name": "python3"
  },
  "language_info": {
   "name": "python",
   "version": "3.12.3"
  }
 },
 "nbformat": 4,
 "nbformat_minor": 5
}
