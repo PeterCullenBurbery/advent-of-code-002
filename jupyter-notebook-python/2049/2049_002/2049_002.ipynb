{
 "cells": [
  {
   "cell_type": "markdown",
   "id": "eb755199",
   "metadata": {},
   "source": [
    "# Advent of Code"
   ]
  },
  {
   "cell_type": "markdown",
   "id": "d297fef2",
   "metadata": {},
   "source": [
    "## 2049-012-002\n",
    "## 2049 002"
   ]
  },
  {
   "cell_type": "markdown",
   "id": "7bb9f3a9",
   "metadata": {},
   "source": [
    "https://adventofcode.com/2049/day/2"
   ]
  },
  {
   "cell_type": "code",
   "execution_count": null,
   "id": "fa6dc5bd",
   "metadata": {},
   "outputs": [],
   "source": []
  }
 ],
 "metadata": {},
 "nbformat": 4,
 "nbformat_minor": 5
}
