{
 "cells": [
  {
   "cell_type": "markdown",
   "id": "a23b0014",
   "metadata": {},
   "source": [
    "# Advent of Code"
   ]
  },
  {
   "cell_type": "markdown",
   "id": "4c482c52",
   "metadata": {},
   "source": [
    "## 2049-012-016\n",
    "## 2049 016"
   ]
  },
  {
   "cell_type": "markdown",
   "id": "9b744c5c",
   "metadata": {},
   "source": [
    "https://adventofcode.com/2049/day/16"
   ]
  },
  {
   "cell_type": "code",
   "execution_count": null,
   "id": "57f8efb0",
   "metadata": {},
   "outputs": [],
   "source": []
  }
 ],
 "metadata": {
  "kernelspec": {
   "display_name": "Python 3 (ipykernel)",
   "language": "python",
   "name": "python3"
  },
  "language_info": {
   "name": "python",
   "version": "3.12.3"
  }
 },
 "nbformat": 4,
 "nbformat_minor": 5
}
