{
 "cells": [
  {
   "cell_type": "markdown",
   "id": "efe7914c",
   "metadata": {},
   "source": [
    "# Advent of Code"
   ]
  },
  {
   "cell_type": "markdown",
   "id": "d29b48ef",
   "metadata": {},
   "source": [
    "## 2049-012-002\n",
    "## 2049 002"
   ]
  },
  {
   "cell_type": "markdown",
   "id": "8cd4878b",
   "metadata": {},
   "source": [
    "https://adventofcode.com/2049/day/2"
   ]
  },
  {
   "cell_type": "code",
   "execution_count": null,
   "id": "98fbba41",
   "metadata": {},
   "outputs": [],
   "source": []
  }
 ],
 "metadata": {
  "kernelspec": {
   "display_name": "Python 3 (ipykernel)",
   "language": "python",
   "name": "python3"
  },
  "language_info": {
   "name": "python",
   "version": "3.12.3"
  }
 },
 "nbformat": 4,
 "nbformat_minor": 5
}
