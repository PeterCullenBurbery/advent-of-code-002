{
 "cells": [
  {
   "cell_type": "markdown",
   "id": "486a01f4",
   "metadata": {},
   "source": [
    "# Advent of Code"
   ]
  },
  {
   "cell_type": "markdown",
   "id": "1f841b3e",
   "metadata": {},
   "source": [
    "## 2049-012-016\n",
    "## 2049 016"
   ]
  },
  {
   "cell_type": "markdown",
   "id": "6529ff07",
   "metadata": {},
   "source": [
    "https://adventofcode.com/2049/day/16"
   ]
  },
  {
   "cell_type": "code",
   "execution_count": null,
   "id": "02ee3d13",
   "metadata": {},
   "outputs": [],
   "source": []
  }
 ],
 "metadata": {},
 "nbformat": 4,
 "nbformat_minor": 5
}
