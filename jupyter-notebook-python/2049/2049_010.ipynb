{
 "cells": [
  {
   "cell_type": "markdown",
   "id": "bfb70338",
   "metadata": {},
   "source": [
    "# Advent of Code"
   ]
  },
  {
   "cell_type": "markdown",
   "id": "9806158c",
   "metadata": {},
   "source": [
    "## 2049-012-010\n",
    "## 2049 010"
   ]
  },
  {
   "cell_type": "markdown",
   "id": "14896889",
   "metadata": {},
   "source": [
    "https://adventofcode.com/2049/day/10"
   ]
  },
  {
   "cell_type": "code",
   "execution_count": null,
   "id": "0a0f1804",
   "metadata": {},
   "outputs": [],
   "source": []
  }
 ],
 "metadata": {
  "kernelspec": {
   "display_name": "Python 3 (ipykernel)",
   "language": "python",
   "name": "python3"
  },
  "language_info": {
   "name": "python",
   "version": "3.12.3"
  }
 },
 "nbformat": 4,
 "nbformat_minor": 5
}
