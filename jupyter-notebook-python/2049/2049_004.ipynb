{
 "cells": [
  {
   "cell_type": "markdown",
   "id": "9b602118",
   "metadata": {},
   "source": [
    "# Advent of Code"
   ]
  },
  {
   "cell_type": "markdown",
   "id": "ae8a5fe4",
   "metadata": {},
   "source": [
    "## 2049-012-004\n",
    "## 2049 004"
   ]
  },
  {
   "cell_type": "markdown",
   "id": "0da7eed5",
   "metadata": {},
   "source": [
    "https://adventofcode.com/2049/day/4"
   ]
  },
  {
   "cell_type": "code",
   "execution_count": null,
   "id": "83c6c9f8",
   "metadata": {},
   "outputs": [],
   "source": []
  }
 ],
 "metadata": {
  "kernelspec": {
   "display_name": "Python 3 (ipykernel)",
   "language": "python",
   "name": "python3"
  },
  "language_info": {
   "name": "python",
   "version": "3.12.3"
  }
 },
 "nbformat": 4,
 "nbformat_minor": 5
}
