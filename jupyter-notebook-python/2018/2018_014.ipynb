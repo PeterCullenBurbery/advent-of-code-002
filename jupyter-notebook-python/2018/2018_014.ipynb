{
 "cells": [
  {
   "cell_type": "markdown",
   "id": "6f03bc02",
   "metadata": {},
   "source": [
    "# Advent of Code"
   ]
  },
  {
   "cell_type": "markdown",
   "id": "5e4d153b",
   "metadata": {},
   "source": [
    "## 2018-012-014\n",
    "## 2018 014"
   ]
  },
  {
   "cell_type": "markdown",
   "id": "ed62b326",
   "metadata": {},
   "source": [
    "https://adventofcode.com/2018/day/14"
   ]
  },
  {
   "cell_type": "code",
   "execution_count": null,
   "id": "f1efd457",
   "metadata": {},
   "outputs": [],
   "source": []
  }
 ],
 "metadata": {
  "kernelspec": {
   "display_name": "Python 3 (ipykernel)",
   "language": "python",
   "name": "python3"
  },
  "language_info": {
   "name": "python",
   "version": "3.12.3"
  }
 },
 "nbformat": 4,
 "nbformat_minor": 5
}
