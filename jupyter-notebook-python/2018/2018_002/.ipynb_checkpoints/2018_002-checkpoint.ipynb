{
 "cells": [
  {
   "cell_type": "markdown",
   "id": "ee8242ac",
   "metadata": {},
   "source": [
    "# Advent of Code"
   ]
  },
  {
   "cell_type": "markdown",
   "id": "a2478356",
   "metadata": {},
   "source": [
    "## 2018-012-002\n",
    "## 2018 002"
   ]
  },
  {
   "cell_type": "markdown",
   "id": "d5b5f56c",
   "metadata": {},
   "source": [
    "https://adventofcode.com/2018/day/2"
   ]
  },
  {
   "cell_type": "code",
   "execution_count": 1,
   "id": "81f95e1d",
   "metadata": {},
   "outputs": [
    {
     "data": {
      "text/plain": [
       "4712"
      ]
     },
     "execution_count": 1,
     "metadata": {},
     "output_type": "execute_result"
    }
   ],
   "source": [
    "from collections import Counter\n",
    "\n",
    "# Count IDs with letters appearing exactly twice or thrice\n",
    "def calculate_checksum(file_path):\n",
    "    with open(file_path, 'r') as file:\n",
    "        box_ids = [line.strip() for line in file.readlines()]\n",
    "\n",
    "    two_count = 0\n",
    "    three_count = 0\n",
    "\n",
    "    for box_id in box_ids:\n",
    "        letter_counts = Counter(box_id).values()\n",
    "        if 2 in letter_counts:\n",
    "            two_count += 1\n",
    "        if 3 in letter_counts:\n",
    "            three_count += 1\n",
    "\n",
    "    return two_count * three_count\n",
    "\n",
    "# Calculate the checksum for the provided input\n",
    "checksum = calculate_checksum('input.txt')\n",
    "checksum\n"
   ]
  },
  {
   "cell_type": "code",
   "execution_count": 3,
   "id": "a2b81734-bfdd-44ff-892c-23da6a9b8841",
   "metadata": {},
   "outputs": [
    {
     "data": {
      "text/plain": [
       "'lufjygedpvfbhftxiwnaorzmq'"
      ]
     },
     "execution_count": 3,
     "metadata": {},
     "output_type": "execute_result"
    }
   ],
   "source": [
    "# Find the common letters between the two correct box IDs\n",
    "def find_common_letters(file_path):\n",
    "    with open(file_path, 'r') as file:\n",
    "        box_ids = [line.strip() for line in file.readlines()]\n",
    "\n",
    "    for i, box1 in enumerate(box_ids):\n",
    "        for box2 in box_ids[i + 1:]:\n",
    "            # Check how many characters differ\n",
    "            differing_positions = [j for j in range(len(box1)) if box1[j] != box2[j]]\n",
    "            if len(differing_positions) == 1:  # Exactly one difference\n",
    "                # Remove the differing character\n",
    "                differing_index = differing_positions[0]\n",
    "                return box1[:differing_index] + box1[differing_index + 1:]\n",
    "\n",
    "# Find the common letters for the provided input\n",
    "common_letters = find_common_letters('input.txt')\n",
    "common_letters"
   ]
  },
  {
   "cell_type": "code",
   "execution_count": null,
   "id": "6d13fa3d-a3e0-4983-9285-e4a4ff329b0e",
   "metadata": {},
   "outputs": [],
   "source": []
  }
 ],
 "metadata": {
  "kernelspec": {
   "display_name": "Python 3 (ipykernel)",
   "language": "python",
   "name": "python3"
  },
  "language_info": {
   "codemirror_mode": {
    "name": "ipython",
    "version": 3
   },
   "file_extension": ".py",
   "mimetype": "text/x-python",
   "name": "python",
   "nbconvert_exporter": "python",
   "pygments_lexer": "ipython3",
   "version": "3.12.3"
  }
 },
 "nbformat": 4,
 "nbformat_minor": 5
}
