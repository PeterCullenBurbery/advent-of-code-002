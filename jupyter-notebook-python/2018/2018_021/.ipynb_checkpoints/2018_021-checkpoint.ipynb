{
 "cells": [
  {
   "cell_type": "markdown",
   "id": "0adb32e5",
   "metadata": {},
   "source": [
    "# Advent of Code"
   ]
  },
  {
   "cell_type": "markdown",
   "id": "2b3ee18c",
   "metadata": {},
   "source": [
    "## 2018-012-021\n",
    "## 2018 021"
   ]
  },
  {
   "cell_type": "markdown",
   "id": "10f67ac5",
   "metadata": {},
   "source": [
    "https://adventofcode.com/2018/day/21"
   ]
  },
  {
   "cell_type": "code",
   "execution_count": 1,
   "id": "f85559a7",
   "metadata": {},
   "outputs": [],
   "source": [
    "# Load the program and initialize state\n",
    "file_path = \"input.txt\"\n",
    "\n",
    "# Load the program instructions\n",
    "with open(file_path, 'r') as file:\n",
    "    data = file.readlines()\n",
    "\n",
    "# Extract the instruction pointer binding and instructions\n",
    "instruction_pointer_binding = int(data[0].strip().split()[1])\n",
    "instructions = [line.strip().split() for line in data[1:]]\n",
    "\n",
    "# Opcode execution function\n",
    "def execute_opcode(opcode, a, b, c, registers):\n",
    "    if opcode == \"addr\":\n",
    "        registers[c] = registers[a] + registers[b]\n",
    "    elif opcode == \"addi\":\n",
    "        registers[c] = registers[a] + b\n",
    "    elif opcode == \"mulr\":\n",
    "        registers[c] = registers[a] * registers[b]\n",
    "    elif opcode == \"muli\":\n",
    "        registers[c] = registers[a] * b\n",
    "    elif opcode == \"banr\":\n",
    "        registers[c] = registers[a] & registers[b]\n",
    "    elif opcode == \"bani\":\n",
    "        registers[c] = registers[a] & b\n",
    "    elif opcode == \"borr\":\n",
    "        registers[c] = registers[a] | registers[b]\n",
    "    elif opcode == \"bori\":\n",
    "        registers[c] = registers[a] | b\n",
    "    elif opcode == \"setr\":\n",
    "        registers[c] = registers[a]\n",
    "    elif opcode == \"seti\":\n",
    "        registers[c] = a\n",
    "    elif opcode == \"gtir\":\n",
    "        registers[c] = 1 if a > registers[b] else 0\n",
    "    elif opcode == \"gtri\":\n",
    "        registers[c] = 1 if registers[a] > b else 0\n",
    "    elif opcode == \"gtrr\":\n",
    "        registers[c] = 1 if registers[a] > registers[b] else 0\n",
    "    elif opcode == \"eqir\":\n",
    "        registers[c] = 1 if a == registers[b] else 0\n",
    "    elif opcode == \"eqri\":\n",
    "        registers[c] = 1 if registers[a] == b else 0\n",
    "    elif opcode == \"eqrr\":\n",
    "        registers[c] = 1 if registers[a] == registers[b] else 0\n",
    "\n",
    "# Initialize registers\n",
    "registers = [0] * 6\n",
    "instruction_pointer = 0\n",
    "seen_values = set()\n",
    "first_halt_value = None\n",
    "\n"
   ]
  },
  {
   "cell_type": "code",
   "execution_count": 2,
   "id": "3013af3a-70d5-4929-a3be-5905a54b5284",
   "metadata": {},
   "outputs": [
    {
     "data": {
      "text/plain": [
       "15690445"
      ]
     },
     "execution_count": 2,
     "metadata": {},
     "output_type": "execute_result"
    }
   ],
   "source": [
    "# Optimized simulation to find the first halting value\n",
    "def find_first_halt_value():\n",
    "    registers = [0] * 6\n",
    "    seen = set()\n",
    "    first_halt = None\n",
    "    \n",
    "    # Extracted program logic for the main loop\n",
    "    while True:\n",
    "        registers[3] = registers[4] | 65536\n",
    "        registers[4] = 12670166\n",
    "        \n",
    "        while True:\n",
    "            registers[2] = registers[3] & 255\n",
    "            registers[4] += registers[2]\n",
    "            registers[4] &= 16777215\n",
    "            registers[4] *= 65899\n",
    "            registers[4] &= 16777215\n",
    "            \n",
    "            if 256 > registers[3]:\n",
    "                if registers[4] in seen:\n",
    "                    return first_halt\n",
    "                if first_halt is None:\n",
    "                    first_halt = registers[4]\n",
    "                seen.add(registers[4])\n",
    "                break\n",
    "            else:\n",
    "                registers[3] //= 256\n",
    "\n",
    "# Get the first halting value\n",
    "first_halt_value_optimized = find_first_halt_value()\n",
    "first_halt_value_optimized"
   ]
  },
  {
   "cell_type": "code",
   "execution_count": 3,
   "id": "bb6baf0e-dc52-49e3-aa95-74838d724019",
   "metadata": {},
   "outputs": [
    {
     "data": {
      "text/plain": [
       "936387"
      ]
     },
     "execution_count": 3,
     "metadata": {},
     "output_type": "execute_result"
    }
   ],
   "source": [
    "# Optimized simulation to find the value that halts after the most instructions\n",
    "def find_last_halt_value():\n",
    "    registers = [0] * 6\n",
    "    seen = set()\n",
    "    last_halt = None\n",
    "    \n",
    "    # Extracted program logic for the main loop\n",
    "    while True:\n",
    "        registers[3] = registers[4] | 65536\n",
    "        registers[4] = 12670166\n",
    "        \n",
    "        while True:\n",
    "            registers[2] = registers[3] & 255\n",
    "            registers[4] += registers[2]\n",
    "            registers[4] &= 16777215\n",
    "            registers[4] *= 65899\n",
    "            registers[4] &= 16777215\n",
    "            \n",
    "            if 256 > registers[3]:\n",
    "                if registers[4] in seen:\n",
    "                    return last_halt\n",
    "                last_halt = registers[4]\n",
    "                seen.add(registers[4])\n",
    "                break\n",
    "            else:\n",
    "                registers[3] //= 256\n",
    "\n",
    "# Get the last halting value\n",
    "last_halt_value = find_last_halt_value()\n",
    "last_halt_value"
   ]
  },
  {
   "cell_type": "code",
   "execution_count": null,
   "id": "dcce7cad-17d2-4170-994f-87224d7deec3",
   "metadata": {},
   "outputs": [],
   "source": []
  }
 ],
 "metadata": {
  "kernelspec": {
   "display_name": "Python 3 (ipykernel)",
   "language": "python",
   "name": "python3"
  },
  "language_info": {
   "codemirror_mode": {
    "name": "ipython",
    "version": 3
   },
   "file_extension": ".py",
   "mimetype": "text/x-python",
   "name": "python",
   "nbconvert_exporter": "python",
   "pygments_lexer": "ipython3",
   "version": "3.12.3"
  }
 },
 "nbformat": 4,
 "nbformat_minor": 5
}
