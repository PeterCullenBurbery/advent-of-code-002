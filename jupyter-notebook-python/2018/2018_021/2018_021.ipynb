{
 "cells": [
  {
   "cell_type": "markdown",
   "id": "0adb32e5",
   "metadata": {},
   "source": [
    "# Advent of Code"
   ]
  },
  {
   "cell_type": "markdown",
   "id": "2b3ee18c",
   "metadata": {},
   "source": [
    "## 2018-012-021\n",
    "## 2018 021"
   ]
  },
  {
   "cell_type": "markdown",
   "id": "10f67ac5",
   "metadata": {},
   "source": [
    "https://adventofcode.com/2018/day/21"
   ]
  },
  {
   "cell_type": "code",
   "execution_count": null,
   "id": "f85559a7",
   "metadata": {},
   "outputs": [],
   "source": []
  }
 ],
 "metadata": {},
 "nbformat": 4,
 "nbformat_minor": 5
}
