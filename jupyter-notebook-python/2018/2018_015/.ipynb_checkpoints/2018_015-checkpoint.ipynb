{
 "cells": [
  {
   "cell_type": "markdown",
   "id": "e006dd5b",
   "metadata": {},
   "source": [
    "# Advent of Code"
   ]
  },
  {
   "cell_type": "markdown",
   "id": "6355079a",
   "metadata": {},
   "source": [
    "## 2018-012-015\n",
    "## 2018 015"
   ]
  },
  {
   "cell_type": "markdown",
   "id": "d98d7552",
   "metadata": {},
   "source": [
    "https://adventofcode.com/2018/day/15"
   ]
  },
  {
   "cell_type": "code",
   "execution_count": null,
   "id": "19b154d5",
   "metadata": {},
   "outputs": [],
   "source": []
  }
 ],
 "metadata": {},
 "nbformat": 4,
 "nbformat_minor": 5
}
