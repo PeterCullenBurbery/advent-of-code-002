{
 "cells": [
  {
   "cell_type": "markdown",
   "id": "9b3915ca",
   "metadata": {},
   "source": [
    "# Advent of Code"
   ]
  },
  {
   "cell_type": "markdown",
   "id": "989b362a",
   "metadata": {},
   "source": [
    "## 2018-012-016\n",
    "## 2018 016"
   ]
  },
  {
   "cell_type": "markdown",
   "id": "44012f81",
   "metadata": {},
   "source": [
    "https://adventofcode.com/2018/day/16"
   ]
  },
  {
   "cell_type": "code",
   "execution_count": 1,
   "id": "075f38c7",
   "metadata": {},
   "outputs": [
    {
     "data": {
      "text/plain": [
       "509"
      ]
     },
     "execution_count": 1,
     "metadata": {},
     "output_type": "execute_result"
    }
   ],
   "source": [
    "import re\n",
    "\n",
    "# Load the file content\n",
    "file_path = 'input.txt'\n",
    "with open(file_path, 'r') as file:\n",
    "    data = file.read()\n",
    "\n",
    "# Extract samples and instructions\n",
    "samples = []\n",
    "instructions = []\n",
    "lines = data.splitlines()\n",
    "i = 0\n",
    "\n",
    "# Parse the input for samples\n",
    "while i < len(lines):\n",
    "    if lines[i].startswith(\"Before:\"):\n",
    "        before = list(map(int, re.findall(r'\\d+', lines[i])))\n",
    "        instruction = list(map(int, re.findall(r'\\d+', lines[i + 1])))\n",
    "        after = list(map(int, re.findall(r'\\d+', lines[i + 2])))\n",
    "        samples.append((before, instruction, after))\n",
    "        i += 3\n",
    "    elif lines[i]:\n",
    "        instructions.append(list(map(int, re.findall(r'\\d+', lines[i]))))\n",
    "    i += 1\n",
    "\n",
    "# Define all opcode behaviors\n",
    "def addr(registers, a, b, c):\n",
    "    registers[c] = registers[a] + registers[b]\n",
    "\n",
    "def addi(registers, a, b, c):\n",
    "    registers[c] = registers[a] + b\n",
    "\n",
    "def mulr(registers, a, b, c):\n",
    "    registers[c] = registers[a] * registers[b]\n",
    "\n",
    "def muli(registers, a, b, c):\n",
    "    registers[c] = registers[a] * b\n",
    "\n",
    "def banr(registers, a, b, c):\n",
    "    registers[c] = registers[a] & registers[b]\n",
    "\n",
    "def bani(registers, a, b, c):\n",
    "    registers[c] = registers[a] & b\n",
    "\n",
    "def borr(registers, a, b, c):\n",
    "    registers[c] = registers[a] | registers[b]\n",
    "\n",
    "def bori(registers, a, b, c):\n",
    "    registers[c] = registers[a] | b\n",
    "\n",
    "def setr(registers, a, b, c):\n",
    "    registers[c] = registers[a]\n",
    "\n",
    "def seti(registers, a, b, c):\n",
    "    registers[c] = a\n",
    "\n",
    "def gtir(registers, a, b, c):\n",
    "    registers[c] = 1 if a > registers[b] else 0\n",
    "\n",
    "def gtri(registers, a, b, c):\n",
    "    registers[c] = 1 if registers[a] > b else 0\n",
    "\n",
    "def gtrr(registers, a, b, c):\n",
    "    registers[c] = 1 if registers[a] > registers[b] else 0\n",
    "\n",
    "def eqir(registers, a, b, c):\n",
    "    registers[c] = 1 if a == registers[b] else 0\n",
    "\n",
    "def eqri(registers, a, b, c):\n",
    "    registers[c] = 1 if registers[a] == b else 0\n",
    "\n",
    "def eqrr(registers, a, b, c):\n",
    "    registers[c] = 1 if registers[a] == registers[b] else 0\n",
    "\n",
    "# Map of all opcodes\n",
    "opcodes = [addr, addi, mulr, muli, banr, bani, borr, bori,\n",
    "           setr, seti, gtir, gtri, gtrr, eqir, eqri, eqrr]\n",
    "\n",
    "# Count samples behaving like 3 or more opcodes\n",
    "count = 0\n",
    "for before, instruction, after in samples:\n",
    "    matches = 0\n",
    "    for opcode in opcodes:\n",
    "        registers = before[:]\n",
    "        opcode(registers, *instruction[1:])\n",
    "        if registers == after:\n",
    "            matches += 1\n",
    "    if matches >= 3:\n",
    "        count += 1\n",
    "\n",
    "count"
   ]
  },
  {
   "cell_type": "code",
   "execution_count": 2,
   "id": "8cebd9ec-f4ce-4fbd-86b2-bfd6db267ae5",
   "metadata": {},
   "outputs": [
    {
     "data": {
      "text/plain": [
       "496"
      ]
     },
     "execution_count": 2,
     "metadata": {},
     "output_type": "execute_result"
    }
   ],
   "source": [
    "from collections import defaultdict\n",
    "\n",
    "def determine_opcode_mappings(samples):\n",
    "    \"\"\"\n",
    "    Deduce the mapping of opcode numbers to functions using the samples.\n",
    "    \"\"\"\n",
    "    possible_mappings = {i: set(opcodes) for i in range(16)}\n",
    "\n",
    "    for before, instruction, after in samples:\n",
    "        opcode_num, a, b, c = instruction\n",
    "        valid_ops = set()\n",
    "        for opcode in opcodes:\n",
    "            registers = before[:]\n",
    "            opcode(registers, a, b, c)\n",
    "            if registers == after:\n",
    "                valid_ops.add(opcode)\n",
    "        possible_mappings[opcode_num] &= valid_ops\n",
    "\n",
    "    # Resolve mappings to a unique function for each opcode\n",
    "    resolved_mappings = {}\n",
    "    while possible_mappings:\n",
    "        # Find opcodes with exactly one possible function\n",
    "        unique_ops = {num: list(funcs)[0] for num, funcs in possible_mappings.items() if len(funcs) == 1}\n",
    "        for num, func in unique_ops.items():\n",
    "            resolved_mappings[num] = func\n",
    "            del possible_mappings[num]\n",
    "            # Remove this function from all other sets\n",
    "            for funcs in possible_mappings.values():\n",
    "                funcs.discard(func)\n",
    "\n",
    "    return resolved_mappings\n",
    "\n",
    "\n",
    "def execute_program(program, opcode_mappings):\n",
    "    \"\"\"\n",
    "    Execute the test program using the resolved opcode mappings.\n",
    "    \"\"\"\n",
    "    registers = [0, 0, 0, 0]\n",
    "    for instruction in program:\n",
    "        opcode_num, a, b, c = instruction\n",
    "        opcode_mappings[opcode_num](registers, a, b, c)\n",
    "    return registers[0]\n",
    "\n",
    "\n",
    "# Determine opcode mappings using the samples\n",
    "opcode_mappings = determine_opcode_mappings(samples)\n",
    "\n",
    "# Execute the test program\n",
    "result = execute_program(instructions, opcode_mappings)\n",
    "result"
   ]
  },
  {
   "cell_type": "code",
   "execution_count": null,
   "id": "53816e06-7086-4e4f-a87c-366d2c801dd8",
   "metadata": {},
   "outputs": [],
   "source": []
  }
 ],
 "metadata": {
  "kernelspec": {
   "display_name": "Python 3 (ipykernel)",
   "language": "python",
   "name": "python3"
  },
  "language_info": {
   "codemirror_mode": {
    "name": "ipython",
    "version": 3
   },
   "file_extension": ".py",
   "mimetype": "text/x-python",
   "name": "python",
   "nbconvert_exporter": "python",
   "pygments_lexer": "ipython3",
   "version": "3.12.3"
  }
 },
 "nbformat": 4,
 "nbformat_minor": 5
}
