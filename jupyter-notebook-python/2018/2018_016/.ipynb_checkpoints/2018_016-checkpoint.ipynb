{
 "cells": [
  {
   "cell_type": "markdown",
   "id": "9b3915ca",
   "metadata": {},
   "source": [
    "# Advent of Code"
   ]
  },
  {
   "cell_type": "markdown",
   "id": "989b362a",
   "metadata": {},
   "source": [
    "## 2018-012-016\n",
    "## 2018 016"
   ]
  },
  {
   "cell_type": "markdown",
   "id": "44012f81",
   "metadata": {},
   "source": [
    "https://adventofcode.com/2018/day/16"
   ]
  },
  {
   "cell_type": "code",
   "execution_count": null,
   "id": "075f38c7",
   "metadata": {},
   "outputs": [],
   "source": []
  }
 ],
 "metadata": {},
 "nbformat": 4,
 "nbformat_minor": 5
}
