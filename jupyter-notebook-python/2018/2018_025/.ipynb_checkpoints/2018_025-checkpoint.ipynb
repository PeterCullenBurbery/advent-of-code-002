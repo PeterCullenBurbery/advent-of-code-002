{
 "cells": [
  {
   "cell_type": "markdown",
   "id": "32fea031",
   "metadata": {},
   "source": [
    "# Advent of Code"
   ]
  },
  {
   "cell_type": "markdown",
   "id": "226506c3",
   "metadata": {},
   "source": [
    "## 2018-012-025\n",
    "## 2018 025"
   ]
  },
  {
   "cell_type": "markdown",
   "id": "4203cabf",
   "metadata": {},
   "source": [
    "https://adventofcode.com/2018/day/25"
   ]
  },
  {
   "cell_type": "code",
   "execution_count": 1,
   "id": "f169ae28",
   "metadata": {},
   "outputs": [
    {
     "name": "stdout",
     "output_type": "stream",
     "text": [
      "Number of constellations: 428\n"
     ]
    }
   ],
   "source": [
    "from itertools import combinations\n",
    "\n",
    "def manhattan_distance(point1, point2):\n",
    "    \"\"\"Calculate the Manhattan distance between two 4D points.\"\"\"\n",
    "    return sum(abs(a - b) for a, b in zip(point1, point2))\n",
    "\n",
    "def read_points(file_path):\n",
    "    \"\"\"Read 4D points from the input file.\"\"\"\n",
    "    with open(file_path, 'r') as file:\n",
    "        return [tuple(map(int, line.strip().split(','))) for line in file]\n",
    "\n",
    "def find_constellations(points):\n",
    "    \"\"\"Find the number of constellations.\"\"\"\n",
    "    # Create a graph where edges exist between points <= distance 3\n",
    "    graph = {point: [] for point in points}\n",
    "    for point1, point2 in combinations(points, 2):\n",
    "        if manhattan_distance(point1, point2) <= 3:\n",
    "            graph[point1].append(point2)\n",
    "            graph[point2].append(point1)\n",
    "    \n",
    "    # Use DFS or BFS to count connected components\n",
    "    visited = set()\n",
    "    constellations = 0\n",
    "    \n",
    "    def dfs(node):\n",
    "        stack = [node]\n",
    "        while stack:\n",
    "            current = stack.pop()\n",
    "            if current not in visited:\n",
    "                visited.add(current)\n",
    "                stack.extend(graph[current])\n",
    "    \n",
    "    for point in points:\n",
    "        if point not in visited:\n",
    "            dfs(point)\n",
    "            constellations += 1\n",
    "    \n",
    "    return constellations\n",
    "\n",
    "if __name__ == \"__main__\":\n",
    "    file_path = \"input.txt\"\n",
    "    points = read_points(file_path)\n",
    "    result = find_constellations(points)\n",
    "    print(f\"Number of constellations: {result}\")"
   ]
  },
  {
   "cell_type": "code",
   "execution_count": null,
   "id": "08e82ea7-c986-4468-a794-80d53b964ef1",
   "metadata": {},
   "outputs": [],
   "source": []
  }
 ],
 "metadata": {
  "kernelspec": {
   "display_name": "Python 3 (ipykernel)",
   "language": "python",
   "name": "python3"
  },
  "language_info": {
   "codemirror_mode": {
    "name": "ipython",
    "version": 3
   },
   "file_extension": ".py",
   "mimetype": "text/x-python",
   "name": "python",
   "nbconvert_exporter": "python",
   "pygments_lexer": "ipython3",
   "version": "3.12.3"
  }
 },
 "nbformat": 4,
 "nbformat_minor": 5
}
