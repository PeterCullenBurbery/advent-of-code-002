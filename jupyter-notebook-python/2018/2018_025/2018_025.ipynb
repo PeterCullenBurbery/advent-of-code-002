{
 "cells": [
  {
   "cell_type": "markdown",
   "id": "32fea031",
   "metadata": {},
   "source": [
    "# Advent of Code"
   ]
  },
  {
   "cell_type": "markdown",
   "id": "226506c3",
   "metadata": {},
   "source": [
    "## 2018-012-025\n",
    "## 2018 025"
   ]
  },
  {
   "cell_type": "markdown",
   "id": "4203cabf",
   "metadata": {},
   "source": [
    "https://adventofcode.com/2018/day/25"
   ]
  },
  {
   "cell_type": "code",
   "execution_count": null,
   "id": "f169ae28",
   "metadata": {},
   "outputs": [],
   "source": []
  }
 ],
 "metadata": {},
 "nbformat": 4,
 "nbformat_minor": 5
}
