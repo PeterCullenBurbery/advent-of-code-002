{
 "cells": [
  {
   "cell_type": "markdown",
   "id": "a34b870c",
   "metadata": {},
   "source": [
    "# Advent of Code"
   ]
  },
  {
   "cell_type": "markdown",
   "id": "695e2ddb",
   "metadata": {},
   "source": [
    "## 2018-012-022\n",
    "## 2018 022"
   ]
  },
  {
   "cell_type": "markdown",
   "id": "48b5ace5",
   "metadata": {},
   "source": [
    "https://adventofcode.com/2018/day/22"
   ]
  },
  {
   "cell_type": "code",
   "execution_count": null,
   "id": "dcc15112",
   "metadata": {},
   "outputs": [],
   "source": []
  }
 ],
 "metadata": {},
 "nbformat": 4,
 "nbformat_minor": 5
}
