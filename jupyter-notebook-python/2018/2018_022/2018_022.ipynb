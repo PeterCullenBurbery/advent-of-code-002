{
 "cells": [
  {
   "cell_type": "markdown",
   "id": "a34b870c",
   "metadata": {},
   "source": [
    "# Advent of Code"
   ]
  },
  {
   "cell_type": "markdown",
   "id": "695e2ddb",
   "metadata": {},
   "source": [
    "## 2018-012-022\n",
    "## 2018 022"
   ]
  },
  {
   "cell_type": "markdown",
   "id": "48b5ace5",
   "metadata": {},
   "source": [
    "https://adventofcode.com/2018/day/22"
   ]
  },
  {
   "cell_type": "code",
   "execution_count": 1,
   "id": "dcc15112",
   "metadata": {},
   "outputs": [
    {
     "data": {
      "text/plain": [
       "7380"
      ]
     },
     "execution_count": 1,
     "metadata": {},
     "output_type": "execute_result"
    }
   ],
   "source": [
    "# Parse the input data\n",
    "file_path = \"input.txt\"\n",
    "\n",
    "with open(file_path, 'r') as file:\n",
    "    lines = file.readlines()\n",
    "\n",
    "# Extract depth and target coordinates\n",
    "depth = int(lines[0].split(\": \")[1])\n",
    "target_x, target_y = map(int, lines[1].split(\": \")[1].split(\",\"))\n",
    "\n",
    "# Constants\n",
    "MOD = 20183\n",
    "\n",
    "# Initialize a grid to store erosion levels\n",
    "erosion_levels = {}\n",
    "\n",
    "# Function to compute the geologic index\n",
    "def geologic_index(x, y):\n",
    "    if (x, y) == (0, 0) or (x, y) == (target_x, target_y):\n",
    "        return 0\n",
    "    elif y == 0:\n",
    "        return x * 16807\n",
    "    elif x == 0:\n",
    "        return y * 48271\n",
    "    else:\n",
    "        return erosion_levels[(x - 1, y)] * erosion_levels[(x, y - 1)]\n",
    "\n",
    "# Calculate erosion levels and types for all regions\n",
    "total_risk_level = 0\n",
    "\n",
    "for y in range(target_y + 1):\n",
    "    for x in range(target_x + 1):\n",
    "        geo_index = geologic_index(x, y)\n",
    "        erosion_level = (geo_index + depth) % MOD\n",
    "        erosion_levels[(x, y)] = erosion_level\n",
    "        region_type = erosion_level % 3\n",
    "        total_risk_level += region_type  # Add risk level: 0 for rocky, 1 for wet, 2 for narrow\n",
    "\n",
    "total_risk_level\n"
   ]
  },
  {
   "cell_type": "code",
   "execution_count": 2,
   "id": "a5dd9f35-853e-4acf-8064-2e0c522ae3db",
   "metadata": {},
   "outputs": [
    {
     "data": {
      "text/plain": [
       "1013"
      ]
     },
     "execution_count": 2,
     "metadata": {},
     "output_type": "execute_result"
    }
   ],
   "source": [
    "import heapq\n",
    "# Constants for tools\n",
    "TORCH = 0\n",
    "CLIMBING_GEAR = 1\n",
    "NEITHER = 2\n",
    "# Mapping of region types to valid tools\n",
    "VALID_TOOLS = {\n",
    "    0: {TORCH, CLIMBING_GEAR},  # Rocky\n",
    "    1: {CLIMBING_GEAR, NEITHER},  # Wet\n",
    "    2: {TORCH, NEITHER}  # Narrow\n",
    "}\n",
    "# Ensure erosion levels are dynamically calculated for regions as needed\n",
    "def geologic_index_dynamic(x, y):\n",
    "    if (x, y) in erosion_levels:\n",
    "        return erosion_levels[(x, y)]\n",
    "    if (x, y) == (0, 0) or (x, y) == (target_x, target_y):\n",
    "        geo_index = 0\n",
    "    elif y == 0:\n",
    "        geo_index = x * 16807\n",
    "    elif x == 0:\n",
    "        geo_index = y * 48271\n",
    "    else:\n",
    "        geo_index = geologic_index_dynamic(x - 1, y) * geologic_index_dynamic(x, y - 1)\n",
    "    erosion_level = (geo_index + depth) % MOD\n",
    "    erosion_levels[(x, y)] = erosion_level\n",
    "    return erosion_level\n",
    "\n",
    "# Adjust the find_fewest_minutes function to use the dynamic calculation\n",
    "def find_fewest_minutes_fixed():\n",
    "    # Priority queue for Dijkstra's algorithm\n",
    "    pq = []\n",
    "    # Distances (time) map\n",
    "    distances = {}\n",
    "    # Start state: (time, x, y, tool)\n",
    "    start_state = (0, 0, 0, TORCH)\n",
    "    heapq.heappush(pq, start_state)\n",
    "    distances[(0, 0, TORCH)] = 0\n",
    "    \n",
    "    # Directions for movement\n",
    "    directions = [(0, 1), (1, 0), (0, -1), (-1, 0)]\n",
    "    \n",
    "    while pq:\n",
    "        time, x, y, tool = heapq.heappop(pq)\n",
    "        \n",
    "        # Stop if we've reached the target with the torch\n",
    "        if (x, y) == (target_x, target_y) and tool == TORCH:\n",
    "            return time\n",
    "        \n",
    "        # Skip if this state is not optimal\n",
    "        if distances.get((x, y, tool), float('inf')) < time:\n",
    "            continue\n",
    "        \n",
    "        # Try moving to adjacent regions\n",
    "        for dx, dy in directions:\n",
    "            nx, ny = x + dx, y + dy\n",
    "            if nx < 0 or ny < 0:  # Outside the cave bounds\n",
    "                continue\n",
    "            \n",
    "            # Get the region type for the adjacent region\n",
    "            erosion_level = geologic_index_dynamic(nx, ny)\n",
    "            region_type = erosion_level % 3\n",
    "            \n",
    "            # Check if the current tool is valid for the adjacent region\n",
    "            if tool in VALID_TOOLS[region_type]:\n",
    "                new_time = time + 1\n",
    "                if new_time < distances.get((nx, ny, tool), float('inf')):\n",
    "                    distances[(nx, ny, tool)] = new_time\n",
    "                    heapq.heappush(pq, (new_time, nx, ny, tool))\n",
    "        \n",
    "        # Try switching tools in the current region\n",
    "        current_region_type = geologic_index_dynamic(x, y) % 3\n",
    "        for new_tool in VALID_TOOLS[current_region_type]:\n",
    "            if new_tool != tool:\n",
    "                new_time = time + 7\n",
    "                if new_time < distances.get((x, y, new_tool), float('inf')):\n",
    "                    distances[(x, y, new_tool)] = new_time\n",
    "                    heapq.heappush(pq, (new_time, x, y, new_tool))\n",
    "\n",
    "# Compute the fewest minutes to reach the target\n",
    "fewest_minutes_fixed = find_fewest_minutes_fixed()\n",
    "fewest_minutes_fixed"
   ]
  },
  {
   "cell_type": "code",
   "execution_count": null,
   "id": "44392704-36bd-49ed-9cc5-13f45bb316f7",
   "metadata": {},
   "outputs": [],
   "source": []
  }
 ],
 "metadata": {
  "kernelspec": {
   "display_name": "Python 3 (ipykernel)",
   "language": "python",
   "name": "python3"
  },
  "language_info": {
   "codemirror_mode": {
    "name": "ipython",
    "version": 3
   },
   "file_extension": ".py",
   "mimetype": "text/x-python",
   "name": "python",
   "nbconvert_exporter": "python",
   "pygments_lexer": "ipython3",
   "version": "3.12.3"
  }
 },
 "nbformat": 4,
 "nbformat_minor": 5
}
