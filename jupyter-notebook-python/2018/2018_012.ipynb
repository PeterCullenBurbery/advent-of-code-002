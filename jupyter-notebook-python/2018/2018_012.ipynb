{
 "cells": [
  {
   "cell_type": "markdown",
   "id": "7dfe75cb",
   "metadata": {},
   "source": [
    "# Advent of Code"
   ]
  },
  {
   "cell_type": "markdown",
   "id": "ae5d9c1a",
   "metadata": {},
   "source": [
    "## 2018-012-012\n",
    "## 2018 012"
   ]
  },
  {
   "cell_type": "markdown",
   "id": "2a66e1c8",
   "metadata": {},
   "source": [
    "https://adventofcode.com/2018/day/12"
   ]
  },
  {
   "cell_type": "code",
   "execution_count": null,
   "id": "783a57d6",
   "metadata": {},
   "outputs": [],
   "source": []
  }
 ],
 "metadata": {
  "kernelspec": {
   "display_name": "Python 3 (ipykernel)",
   "language": "python",
   "name": "python3"
  },
  "language_info": {
   "name": "python",
   "version": "3.12.3"
  }
 },
 "nbformat": 4,
 "nbformat_minor": 5
}
