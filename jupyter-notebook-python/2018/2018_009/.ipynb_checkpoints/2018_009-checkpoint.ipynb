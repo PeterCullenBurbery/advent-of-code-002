{
 "cells": [
  {
   "cell_type": "markdown",
   "id": "1c7fe27c",
   "metadata": {},
   "source": [
    "# Advent of Code"
   ]
  },
  {
   "cell_type": "markdown",
   "id": "8ff21f50",
   "metadata": {},
   "source": [
    "## 2018-012-009\n",
    "## 2018 009"
   ]
  },
  {
   "cell_type": "markdown",
   "id": "0aad83ce",
   "metadata": {},
   "source": [
    "https://adventofcode.com/2018/day/9"
   ]
  },
  {
   "cell_type": "code",
   "execution_count": 1,
   "id": "8e5a6bc8",
   "metadata": {},
   "outputs": [
    {
     "name": "stdout",
     "output_type": "stream",
     "text": [
      "429287\n"
     ]
    }
   ],
   "source": [
    "from collections import deque\n",
    "\n",
    "# Read the input file to extract the number of players and the value of the last marble.\n",
    "with open(\"input.txt\", \"r\") as file:\n",
    "    line = file.readline().strip()\n",
    "    parts = line.split()\n",
    "    num_players = int(parts[0])  # Extract number of players.\n",
    "    last_marble_value = int(parts[-2])  # Extract the last marble value.\n",
    "\n",
    "# Function to simulate the marble game and calculate the highest score.\n",
    "def play_marble_game(num_players, last_marble_value):\n",
    "    scores = [0] * num_players\n",
    "    circle = deque([0])  # A deque to efficiently rotate and insert/remove marbles.\n",
    "    \n",
    "    for marble in range(1, last_marble_value + 1):\n",
    "        if marble % 23 == 0:\n",
    "            circle.rotate(7)  # Move counter-clockwise.\n",
    "            scores[marble % num_players] += marble + circle.pop()  # Add marble and the removed marble.\n",
    "            circle.rotate(-1)  # Adjust current marble position.\n",
    "        else:\n",
    "            circle.rotate(-1)  # Move clockwise.\n",
    "            circle.append(marble)  # Insert the new marble.\n",
    "    \n",
    "    return max(scores)\n",
    "\n",
    "# Calculate the winning score.\n",
    "winning_score = play_marble_game(num_players, last_marble_value)\n",
    "print(winning_score)\n"
   ]
  },
  {
   "cell_type": "code",
   "execution_count": 2,
   "id": "ca1ad944-85ad-46f1-a050-6dd6de52f597",
   "metadata": {},
   "outputs": [
    {
     "name": "stdout",
     "output_type": "stream",
     "text": [
      "3624387659\n"
     ]
    }
   ],
   "source": [
    "from collections import deque\n",
    "\n",
    "# Read the input file to extract the number of players and the value of the last marble.\n",
    "with open(\"input.txt\", \"r\") as file:\n",
    "    line = file.readline().strip()\n",
    "    parts = line.split()\n",
    "    num_players = int(parts[0])  # Extract number of players.\n",
    "    last_marble_value = int(parts[-2]) * 100  # Scale up the last marble value by 100 times.\n",
    "\n",
    "# Function to simulate the marble game and calculate the highest score.\n",
    "def play_marble_game(num_players, last_marble_value):\n",
    "    scores = [0] * num_players\n",
    "    circle = deque([0])  # A deque to efficiently rotate and insert/remove marbles.\n",
    "    \n",
    "    for marble in range(1, last_marble_value + 1):\n",
    "        if marble % 23 == 0:\n",
    "            circle.rotate(7)  # Move counter-clockwise.\n",
    "            scores[marble % num_players] += marble + circle.pop()  # Add marble and the removed marble.\n",
    "            circle.rotate(-1)  # Adjust current marble position.\n",
    "        else:\n",
    "            circle.rotate(-1)  # Move clockwise.\n",
    "            circle.append(marble)  # Insert the new marble.\n",
    "    \n",
    "    return max(scores)\n",
    "\n",
    "# Calculate the new winning score.\n",
    "new_winning_score = play_marble_game(num_players, last_marble_value)\n",
    "print(new_winning_score)"
   ]
  },
  {
   "cell_type": "code",
   "execution_count": null,
   "id": "40ecd4f9-01b8-4db9-a65f-3fe107298c98",
   "metadata": {},
   "outputs": [],
   "source": []
  }
 ],
 "metadata": {
  "kernelspec": {
   "display_name": "Python 3 (ipykernel)",
   "language": "python",
   "name": "python3"
  },
  "language_info": {
   "codemirror_mode": {
    "name": "ipython",
    "version": 3
   },
   "file_extension": ".py",
   "mimetype": "text/x-python",
   "name": "python",
   "nbconvert_exporter": "python",
   "pygments_lexer": "ipython3",
   "version": "3.12.3"
  }
 },
 "nbformat": 4,
 "nbformat_minor": 5
}
