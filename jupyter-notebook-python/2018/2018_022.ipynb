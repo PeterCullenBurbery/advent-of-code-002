{
 "cells": [
  {
   "cell_type": "markdown",
   "id": "0d5acd8b",
   "metadata": {},
   "source": [
    "# Advent of Code"
   ]
  },
  {
   "cell_type": "markdown",
   "id": "ad9aef39",
   "metadata": {},
   "source": [
    "## 2018-012-022\n",
    "## 2018 022"
   ]
  },
  {
   "cell_type": "markdown",
   "id": "90598161",
   "metadata": {},
   "source": [
    "https://adventofcode.com/2018/day/22"
   ]
  },
  {
   "cell_type": "code",
   "execution_count": null,
   "id": "d838bb99",
   "metadata": {},
   "outputs": [],
   "source": []
  }
 ],
 "metadata": {
  "kernelspec": {
   "display_name": "Python 3 (ipykernel)",
   "language": "python",
   "name": "python3"
  },
  "language_info": {
   "name": "python",
   "version": "3.12.3"
  }
 },
 "nbformat": 4,
 "nbformat_minor": 5
}
