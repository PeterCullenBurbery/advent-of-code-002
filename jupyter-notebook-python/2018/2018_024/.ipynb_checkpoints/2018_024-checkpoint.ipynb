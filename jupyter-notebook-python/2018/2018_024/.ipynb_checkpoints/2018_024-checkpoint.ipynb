{
 "cells": [
  {
   "cell_type": "markdown",
   "id": "3c6b0fa1",
   "metadata": {},
   "source": [
    "# Advent of Code"
   ]
  },
  {
   "cell_type": "markdown",
   "id": "e081ec5c",
   "metadata": {},
   "source": [
    "## 2018-012-024\n",
    "## 2018 024"
   ]
  },
  {
   "cell_type": "markdown",
   "id": "5d7e01f5",
   "metadata": {},
   "source": [
    "https://adventofcode.com/2018/day/24"
   ]
  },
  {
   "cell_type": "code",
   "execution_count": null,
   "id": "3d1729db",
   "metadata": {},
   "outputs": [],
   "source": []
  }
 ],
 "metadata": {},
 "nbformat": 4,
 "nbformat_minor": 5
}
