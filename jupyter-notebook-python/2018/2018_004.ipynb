{
 "cells": [
  {
   "cell_type": "markdown",
   "id": "caa06932",
   "metadata": {},
   "source": [
    "# Advent of Code"
   ]
  },
  {
   "cell_type": "markdown",
   "id": "ed34aac4",
   "metadata": {},
   "source": [
    "## 2018-012-004\n",
    "## 2018 004"
   ]
  },
  {
   "cell_type": "markdown",
   "id": "12415130",
   "metadata": {},
   "source": [
    "https://adventofcode.com/2018/day/4"
   ]
  },
  {
   "cell_type": "code",
   "execution_count": null,
   "id": "8c9f90cf",
   "metadata": {},
   "outputs": [],
   "source": []
  }
 ],
 "metadata": {
  "kernelspec": {
   "display_name": "Python 3 (ipykernel)",
   "language": "python",
   "name": "python3"
  },
  "language_info": {
   "name": "python",
   "version": "3.12.3"
  }
 },
 "nbformat": 4,
 "nbformat_minor": 5
}
