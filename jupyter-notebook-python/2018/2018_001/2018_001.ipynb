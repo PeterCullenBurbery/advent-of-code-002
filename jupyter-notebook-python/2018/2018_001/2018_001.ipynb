{
 "cells": [
  {
   "cell_type": "markdown",
   "id": "6970c5f8",
   "metadata": {},
   "source": [
    "# Advent of Code"
   ]
  },
  {
   "cell_type": "markdown",
   "id": "e4efa3bf",
   "metadata": {},
   "source": [
    "## 2018-012-001\n",
    "## 2018 001"
   ]
  },
  {
   "cell_type": "markdown",
   "id": "cbedaf3b",
   "metadata": {},
   "source": [
    "https://adventofcode.com/2018/day/1"
   ]
  },
  {
   "cell_type": "code",
   "execution_count": 1,
   "id": "27a0b000",
   "metadata": {},
   "outputs": [
    {
     "data": {
      "text/plain": [
       "520"
      ]
     },
     "execution_count": 1,
     "metadata": {},
     "output_type": "execute_result"
    }
   ],
   "source": [
    "# Load the frequency changes from the file\n",
    "def load_frequency_changes(file_path):\n",
    "    with open(file_path, 'r') as file:\n",
    "        return [int(line.strip()) for line in file.readlines()]\n",
    "\n",
    "# Calculate the resulting frequency after all changes\n",
    "def calculate_frequency(changes):\n",
    "    return sum(changes)\n",
    "\n",
    "# Load the changes and calculate the result\n",
    "frequency_changes = load_frequency_changes('input.txt')\n",
    "resulting_frequency = calculate_frequency(frequency_changes)\n",
    "resulting_frequency\n"
   ]
  },
  {
   "cell_type": "code",
   "execution_count": 2,
   "id": "438e82ed-46b9-4b01-90c6-66d8b0bcd90c",
   "metadata": {},
   "outputs": [
    {
     "data": {
      "text/plain": [
       "394"
      ]
     },
     "execution_count": 2,
     "metadata": {},
     "output_type": "execute_result"
    }
   ],
   "source": [
    "# Find the first frequency reached twice\n",
    "def find_first_repeated_frequency(changes):\n",
    "    seen_frequencies = set()\n",
    "    current_frequency = 0\n",
    "    seen_frequencies.add(current_frequency)\n",
    "\n",
    "    while True:\n",
    "        for change in changes:\n",
    "            current_frequency += change\n",
    "            if current_frequency in seen_frequencies:\n",
    "                return current_frequency\n",
    "            seen_frequencies.add(current_frequency)\n",
    "\n",
    "# Calculate the first repeated frequency\n",
    "first_repeated_frequency = find_first_repeated_frequency(frequency_changes)\n",
    "first_repeated_frequency"
   ]
  },
  {
   "cell_type": "code",
   "execution_count": null,
   "id": "1282ebed-3977-4896-a72f-86792dfe3382",
   "metadata": {},
   "outputs": [],
   "source": []
  }
 ],
 "metadata": {
  "kernelspec": {
   "display_name": "Python 3 (ipykernel)",
   "language": "python",
   "name": "python3"
  },
  "language_info": {
   "codemirror_mode": {
    "name": "ipython",
    "version": 3
   },
   "file_extension": ".py",
   "mimetype": "text/x-python",
   "name": "python",
   "nbconvert_exporter": "python",
   "pygments_lexer": "ipython3",
   "version": "3.12.3"
  }
 },
 "nbformat": 4,
 "nbformat_minor": 5
}
