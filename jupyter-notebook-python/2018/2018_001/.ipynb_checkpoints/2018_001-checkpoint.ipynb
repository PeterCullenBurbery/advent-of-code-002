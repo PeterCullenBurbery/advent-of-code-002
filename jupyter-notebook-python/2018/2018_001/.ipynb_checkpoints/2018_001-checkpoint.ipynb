{
 "cells": [
  {
   "cell_type": "markdown",
   "id": "6970c5f8",
   "metadata": {},
   "source": [
    "# Advent of Code"
   ]
  },
  {
   "cell_type": "markdown",
   "id": "e4efa3bf",
   "metadata": {},
   "source": [
    "## 2018-012-001\n",
    "## 2018 001"
   ]
  },
  {
   "cell_type": "markdown",
   "id": "cbedaf3b",
   "metadata": {},
   "source": [
    "https://adventofcode.com/2018/day/1"
   ]
  },
  {
   "cell_type": "code",
   "execution_count": null,
   "id": "27a0b000",
   "metadata": {},
   "outputs": [],
   "source": []
  }
 ],
 "metadata": {},
 "nbformat": 4,
 "nbformat_minor": 5
}
