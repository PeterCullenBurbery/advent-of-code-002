{
 "cells": [
  {
   "cell_type": "markdown",
   "id": "fb673038",
   "metadata": {},
   "source": [
    "# Advent of Code"
   ]
  },
  {
   "cell_type": "markdown",
   "id": "a90865fe",
   "metadata": {},
   "source": [
    "## 2018-012-018\n",
    "## 2018 018"
   ]
  },
  {
   "cell_type": "markdown",
   "id": "c6e9a16a",
   "metadata": {},
   "source": [
    "https://adventofcode.com/2018/day/18"
   ]
  },
  {
   "cell_type": "code",
   "execution_count": 1,
   "id": "6a46d5e1",
   "metadata": {},
   "outputs": [
    {
     "data": {
      "text/plain": [
       "539682"
      ]
     },
     "execution_count": 1,
     "metadata": {},
     "output_type": "execute_result"
    }
   ],
   "source": [
    "import numpy as np\n",
    "\n",
    "# Parse the input into a 2D grid\n",
    "def parse_input(file_path):\n",
    "    with open(file_path, 'r') as file:\n",
    "        return np.array([list(line.strip()) for line in file.readlines()])\n",
    "\n",
    "# Count adjacent acre types\n",
    "def count_adjacent(grid, x, y):\n",
    "    counts = {'.': 0, '|': 0, '#': 0}\n",
    "    for dx in [-1, 0, 1]:\n",
    "        for dy in [-1, 0, 1]:\n",
    "            if dx == 0 and dy == 0:\n",
    "                continue  # Skip the current cell\n",
    "            nx, ny = x + dx, y + dy\n",
    "            if 0 <= nx < grid.shape[0] and 0 <= ny < grid.shape[1]:\n",
    "                counts[grid[nx, ny]] += 1\n",
    "    return counts\n",
    "\n",
    "# Simulate the grid transformations for n minutes\n",
    "def simulate(grid, minutes):\n",
    "    for _ in range(minutes):\n",
    "        new_grid = grid.copy()\n",
    "        for x in range(grid.shape[0]):\n",
    "            for y in range(grid.shape[1]):\n",
    "                counts = count_adjacent(grid, x, y)\n",
    "                if grid[x, y] == '.' and counts['|'] >= 3:\n",
    "                    new_grid[x, y] = '|'\n",
    "                elif grid[x, y] == '|' and counts['#'] >= 3:\n",
    "                    new_grid[x, y] = '#'\n",
    "                elif grid[x, y] == '#' and (counts['#'] == 0 or counts['|'] == 0):\n",
    "                    new_grid[x, y] = '.'\n",
    "        grid = new_grid\n",
    "    return grid\n",
    "\n",
    "# Calculate the resource value\n",
    "def calculate_resource_value(grid):\n",
    "    wooded = np.sum(grid == '|')\n",
    "    lumberyard = np.sum(grid == '#')\n",
    "    return wooded * lumberyard\n",
    "\n",
    "# Load the input\n",
    "file_path = 'input.txt'\n",
    "initial_grid = parse_input(file_path)\n",
    "\n",
    "# Simulate for 10 minutes\n",
    "final_grid = simulate(initial_grid, 10)\n",
    "\n",
    "# Calculate the resource value\n",
    "resource_value = calculate_resource_value(final_grid)\n",
    "resource_value"
   ]
  },
  {
   "cell_type": "code",
   "execution_count": 2,
   "id": "7a360e26-c446-402f-9410-8b51c6f10092",
   "metadata": {},
   "outputs": [
    {
     "name": "stderr",
     "output_type": "stream",
     "text": [
      "C:\\Users\\peter\\AppData\\Local\\Temp\\ipykernel_23240\\2018658458.py:8: DeprecationWarning: tostring() is deprecated. Use tobytes() instead.\n",
      "  grid_state = grid.tostring()  # Serialize the grid to a hashable state\n"
     ]
    },
    {
     "data": {
      "text/plain": [
       "226450"
      ]
     },
     "execution_count": 2,
     "metadata": {},
     "output_type": "execute_result"
    }
   ],
   "source": [
    "def simulate_with_cycle_detection(grid, target_minutes):\n",
    "    seen_states = {}\n",
    "    resource_values = []\n",
    "\n",
    "    for minute in range(target_minutes):\n",
    "        # Calculate resource value for the current grid state\n",
    "        resource_value = calculate_resource_value(grid)\n",
    "        grid_state = grid.tostring()  # Serialize the grid to a hashable state\n",
    "\n",
    "        # Check if we've seen this state before\n",
    "        if grid_state in seen_states:\n",
    "            cycle_start = seen_states[grid_state]\n",
    "            cycle_length = minute - cycle_start\n",
    "            cycle_position = (target_minutes - cycle_start) % cycle_length\n",
    "            return resource_values[cycle_start + cycle_position]\n",
    "\n",
    "        # Record the current state\n",
    "        seen_states[grid_state] = minute\n",
    "        resource_values.append(resource_value)\n",
    "\n",
    "        # Perform one simulation step\n",
    "        grid = simulate(grid, 1)\n",
    "\n",
    "    # If no cycle is detected, return the final state\n",
    "    return calculate_resource_value(grid)\n",
    "\n",
    "# Calculate resource value after 1,000,000,000 minutes\n",
    "resource_value_after_large_time = simulate_with_cycle_detection(initial_grid, 1_000_000_000)\n",
    "resource_value_after_large_time"
   ]
  },
  {
   "cell_type": "code",
   "execution_count": null,
   "id": "89ea063c-94ff-44df-8d64-53f6a6dedef2",
   "metadata": {},
   "outputs": [],
   "source": []
  }
 ],
 "metadata": {
  "kernelspec": {
   "display_name": "Python 3 (ipykernel)",
   "language": "python",
   "name": "python3"
  },
  "language_info": {
   "codemirror_mode": {
    "name": "ipython",
    "version": 3
   },
   "file_extension": ".py",
   "mimetype": "text/x-python",
   "name": "python",
   "nbconvert_exporter": "python",
   "pygments_lexer": "ipython3",
   "version": "3.12.3"
  }
 },
 "nbformat": 4,
 "nbformat_minor": 5
}
