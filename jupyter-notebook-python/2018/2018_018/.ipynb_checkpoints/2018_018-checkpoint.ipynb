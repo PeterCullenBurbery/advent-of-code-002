{
 "cells": [
  {
   "cell_type": "markdown",
   "id": "fb673038",
   "metadata": {},
   "source": [
    "# Advent of Code"
   ]
  },
  {
   "cell_type": "markdown",
   "id": "a90865fe",
   "metadata": {},
   "source": [
    "## 2018-012-018\n",
    "## 2018 018"
   ]
  },
  {
   "cell_type": "markdown",
   "id": "c6e9a16a",
   "metadata": {},
   "source": [
    "https://adventofcode.com/2018/day/18"
   ]
  },
  {
   "cell_type": "code",
   "execution_count": null,
   "id": "6a46d5e1",
   "metadata": {},
   "outputs": [],
   "source": []
  }
 ],
 "metadata": {},
 "nbformat": 4,
 "nbformat_minor": 5
}
