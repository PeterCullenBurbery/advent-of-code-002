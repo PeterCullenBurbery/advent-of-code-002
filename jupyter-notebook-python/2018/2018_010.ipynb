{
 "cells": [
  {
   "cell_type": "markdown",
   "id": "15faade3",
   "metadata": {},
   "source": [
    "# Advent of Code"
   ]
  },
  {
   "cell_type": "markdown",
   "id": "dbdbba09",
   "metadata": {},
   "source": [
    "## 2018-012-010\n",
    "## 2018 010"
   ]
  },
  {
   "cell_type": "markdown",
   "id": "4c9944b8",
   "metadata": {},
   "source": [
    "https://adventofcode.com/2018/day/10"
   ]
  },
  {
   "cell_type": "code",
   "execution_count": null,
   "id": "a66dc32b",
   "metadata": {},
   "outputs": [],
   "source": []
  }
 ],
 "metadata": {
  "kernelspec": {
   "display_name": "Python 3 (ipykernel)",
   "language": "python",
   "name": "python3"
  },
  "language_info": {
   "name": "python",
   "version": "3.12.3"
  }
 },
 "nbformat": 4,
 "nbformat_minor": 5
}
