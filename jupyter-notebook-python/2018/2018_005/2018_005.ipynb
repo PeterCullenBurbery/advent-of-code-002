{
 "cells": [
  {
   "cell_type": "markdown",
   "id": "504a268d",
   "metadata": {},
   "source": [
    "# Advent of Code"
   ]
  },
  {
   "cell_type": "markdown",
   "id": "99271a61",
   "metadata": {},
   "source": [
    "## 2018-012-005\n",
    "## 2018 005"
   ]
  },
  {
   "cell_type": "markdown",
   "id": "8b1a0268",
   "metadata": {},
   "source": [
    "https://adventofcode.com/2018/day/5"
   ]
  },
  {
   "cell_type": "code",
   "execution_count": 1,
   "id": "74c5be3d",
   "metadata": {},
   "outputs": [
    {
     "data": {
      "text/plain": [
       "11476"
      ]
     },
     "execution_count": 1,
     "metadata": {},
     "output_type": "execute_result"
    }
   ],
   "source": [
    "# Let's solve the polymer reaction problem from the input file.\n",
    "# Read the polymer string from the uploaded file.\n",
    "with open('input.txt', 'r') as file:\n",
    "    polymer = file.read().strip()\n",
    "\n",
    "def react_polymer(polymer):\n",
    "    stack = []\n",
    "    for unit in polymer:\n",
    "        if stack and stack[-1] == unit.swapcase():\n",
    "            stack.pop()  # React and remove the last unit.\n",
    "        else:\n",
    "            stack.append(unit)  # Add the unit to the stack.\n",
    "    return len(stack)  # Return the length of the fully reacted polymer.\n",
    "\n",
    "# Compute the fully reacted polymer length.\n",
    "result = react_polymer(polymer)\n",
    "result"
   ]
  },
  {
   "cell_type": "code",
   "execution_count": 2,
   "id": "bc8fc1e8-7e02-41e3-bba5-1556683edc39",
   "metadata": {},
   "outputs": [
    {
     "data": {
      "text/plain": [
       "5446"
      ]
     },
     "execution_count": 2,
     "metadata": {},
     "output_type": "execute_result"
    }
   ],
   "source": [
    "import string\n",
    "\n",
    "def find_shortest_polymer(polymer):\n",
    "    shortest_length = float('inf')  # Initialize with a very large value.\n",
    "\n",
    "    for unit_type in string.ascii_lowercase:\n",
    "        # Remove both uppercase and lowercase versions of the current unit type.\n",
    "        filtered_polymer = polymer.replace(unit_type, '').replace(unit_type.upper(), '')\n",
    "        # React the filtered polymer and calculate its length.\n",
    "        reacted_length = react_polymer(filtered_polymer)\n",
    "        # Update the shortest length if the current one is shorter.\n",
    "        shortest_length = min(shortest_length, reacted_length)\n",
    "    \n",
    "    return shortest_length\n",
    "\n",
    "# Compute the length of the shortest polymer after removing one problematic unit type.\n",
    "shortest_polymer_length = find_shortest_polymer(polymer)\n",
    "shortest_polymer_length"
   ]
  },
  {
   "cell_type": "code",
   "execution_count": null,
   "id": "4dab4e94-3ca8-40c5-9945-68573e671867",
   "metadata": {},
   "outputs": [],
   "source": []
  }
 ],
 "metadata": {
  "kernelspec": {
   "display_name": "Python 3 (ipykernel)",
   "language": "python",
   "name": "python3"
  },
  "language_info": {
   "codemirror_mode": {
    "name": "ipython",
    "version": 3
   },
   "file_extension": ".py",
   "mimetype": "text/x-python",
   "name": "python",
   "nbconvert_exporter": "python",
   "pygments_lexer": "ipython3",
   "version": "3.12.3"
  }
 },
 "nbformat": 4,
 "nbformat_minor": 5
}
