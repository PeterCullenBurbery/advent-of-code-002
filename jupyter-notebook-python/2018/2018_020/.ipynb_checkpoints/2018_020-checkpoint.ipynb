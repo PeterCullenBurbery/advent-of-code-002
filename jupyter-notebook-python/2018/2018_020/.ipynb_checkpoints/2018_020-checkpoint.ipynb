{
 "cells": [
  {
   "cell_type": "markdown",
   "id": "38d348fb",
   "metadata": {},
   "source": [
    "# Advent of Code"
   ]
  },
  {
   "cell_type": "markdown",
   "id": "a48866a7",
   "metadata": {},
   "source": [
    "## 2018-012-020\n",
    "## 2018 020"
   ]
  },
  {
   "cell_type": "markdown",
   "id": "6ce6d806",
   "metadata": {},
   "source": [
    "https://adventofcode.com/2018/day/20"
   ]
  },
  {
   "cell_type": "code",
   "execution_count": null,
   "id": "30377c90",
   "metadata": {},
   "outputs": [],
   "source": []
  }
 ],
 "metadata": {},
 "nbformat": 4,
 "nbformat_minor": 5
}
