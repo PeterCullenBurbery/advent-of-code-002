{
 "cells": [
  {
   "cell_type": "markdown",
   "id": "38d348fb",
   "metadata": {},
   "source": [
    "# Advent of Code"
   ]
  },
  {
   "cell_type": "markdown",
   "id": "a48866a7",
   "metadata": {},
   "source": [
    "## 2018-012-020\n",
    "## 2018 020"
   ]
  },
  {
   "cell_type": "markdown",
   "id": "6ce6d806",
   "metadata": {},
   "source": [
    "https://adventofcode.com/2018/day/20"
   ]
  },
  {
   "cell_type": "code",
   "execution_count": 2,
   "id": "30377c90",
   "metadata": {},
   "outputs": [
    {
     "data": {
      "text/plain": [
       "3207"
      ]
     },
     "execution_count": 2,
     "metadata": {},
     "output_type": "execute_result"
    }
   ],
   "source": [
    "# Load the regex input from the uploaded file\n",
    "file_path = 'input.txt'\n",
    "with open(file_path, 'r') as file:\n",
    "    regex_input = file.read().strip()\n",
    "\n",
    "# Define helper functions to parse the regex and construct the map\n",
    "from collections import deque, defaultdict\n",
    "\n",
    "def parse_regex(regex):\n",
    "    \"\"\"Parses the regex and constructs the map of rooms and doors.\"\"\"\n",
    "    directions = {'N': (0, -1), 'S': (0, 1), 'E': (1, 0), 'W': (-1, 0)}\n",
    "    map_graph = defaultdict(set)\n",
    "    stack = []\n",
    "    current_position = (0, 0)\n",
    "    start_position = current_position\n",
    "\n",
    "    for char in regex:\n",
    "        if char in directions:\n",
    "            dx, dy = directions[char]\n",
    "            next_position = (current_position[0] + dx, current_position[1] + dy)\n",
    "            # Add doors between current and next room\n",
    "            map_graph[current_position].add(next_position)\n",
    "            map_graph[next_position].add(current_position)\n",
    "            current_position = next_position\n",
    "        elif char == '(':\n",
    "            stack.append(current_position)\n",
    "        elif char == '|':\n",
    "            current_position = stack[-1]\n",
    "        elif char == ')':\n",
    "            current_position = stack.pop()\n",
    "        # Ignore ^ and $\n",
    "\n",
    "    return map_graph, start_position\n",
    "\n",
    "def bfs_furthest_distance(graph, start):\n",
    "    \"\"\"Finds the furthest distance from the starting position using BFS.\"\"\"\n",
    "    queue = deque([(start, 0)])\n",
    "    visited = set()\n",
    "    max_distance = 0\n",
    "\n",
    "    while queue:\n",
    "        current_position, distance = queue.popleft()\n",
    "        if current_position in visited:\n",
    "            continue\n",
    "        visited.add(current_position)\n",
    "        max_distance = max(max_distance, distance)\n",
    "\n",
    "        for neighbor in graph[current_position]:\n",
    "            if neighbor not in visited:\n",
    "                queue.append((neighbor, distance + 1))\n",
    "\n",
    "    return max_distance\n",
    "\n",
    "# Parse the regex and construct the map\n",
    "parsed_map, start_room = parse_regex(regex_input)\n",
    "\n",
    "# Find the furthest room's distance using BFS\n",
    "furthest_distance = bfs_furthest_distance(parsed_map, start_room)\n",
    "furthest_distance"
   ]
  },
  {
   "cell_type": "code",
   "execution_count": 4,
   "id": "1538669e-e834-497b-a20d-c12a1538522e",
   "metadata": {},
   "outputs": [
    {
     "data": {
      "text/plain": [
       "8361"
      ]
     },
     "execution_count": 4,
     "metadata": {},
     "output_type": "execute_result"
    }
   ],
   "source": [
    "def count_rooms_with_min_distance(graph, start, min_distance):\n",
    "    \"\"\"Counts the number of rooms with at least min_distance from the start.\"\"\"\n",
    "    queue = deque([(start, 0)])\n",
    "    visited = set()\n",
    "    count = 0\n",
    "\n",
    "    while queue:\n",
    "        current_position, distance = queue.popleft()\n",
    "        if current_position in visited:\n",
    "            continue\n",
    "        visited.add(current_position)\n",
    "        \n",
    "        if distance >= min_distance:\n",
    "            count += 1\n",
    "\n",
    "        for neighbor in graph[current_position]:\n",
    "            if neighbor not in visited:\n",
    "                queue.append((neighbor, distance + 1))\n",
    "\n",
    "    return count\n",
    "\n",
    "# Count rooms with at least 1000 doors distance\n",
    "rooms_with_1000_doors = count_rooms_with_min_distance(parsed_map, start_room, 1000)\n",
    "rooms_with_1000_doors"
   ]
  },
  {
   "cell_type": "code",
   "execution_count": null,
   "id": "65a727c9-1a65-4b09-a3e7-3d1aa10d8875",
   "metadata": {},
   "outputs": [],
   "source": []
  }
 ],
 "metadata": {
  "kernelspec": {
   "display_name": "Python 3 (ipykernel)",
   "language": "python",
   "name": "python3"
  },
  "language_info": {
   "codemirror_mode": {
    "name": "ipython",
    "version": 3
   },
   "file_extension": ".py",
   "mimetype": "text/x-python",
   "name": "python",
   "nbconvert_exporter": "python",
   "pygments_lexer": "ipython3",
   "version": "3.12.3"
  }
 },
 "nbformat": 4,
 "nbformat_minor": 5
}
