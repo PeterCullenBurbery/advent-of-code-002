{
 "cells": [
  {
   "cell_type": "markdown",
   "id": "a8e0f2d0",
   "metadata": {},
   "source": [
    "# Advent of Code"
   ]
  },
  {
   "cell_type": "markdown",
   "id": "e5838d30",
   "metadata": {},
   "source": [
    "## 2018-012-017\n",
    "## 2018 017"
   ]
  },
  {
   "cell_type": "markdown",
   "id": "389fde8f",
   "metadata": {},
   "source": [
    "https://adventofcode.com/2018/day/17"
   ]
  },
  {
   "cell_type": "code",
   "execution_count": null,
   "id": "ef030dde",
   "metadata": {},
   "outputs": [],
   "source": []
  }
 ],
 "metadata": {
  "kernelspec": {
   "display_name": "Python 3 (ipykernel)",
   "language": "python",
   "name": "python3"
  },
  "language_info": {
   "name": "python",
   "version": "3.12.3"
  }
 },
 "nbformat": 4,
 "nbformat_minor": 5
}
