{
 "cells": [
  {
   "cell_type": "markdown",
   "id": "f5772741",
   "metadata": {},
   "source": [
    "# Advent of Code"
   ]
  },
  {
   "cell_type": "markdown",
   "id": "e056a980",
   "metadata": {},
   "source": [
    "## 2018-012-023\n",
    "## 2018 023"
   ]
  },
  {
   "cell_type": "markdown",
   "id": "e8db55b5",
   "metadata": {},
   "source": [
    "https://adventofcode.com/2018/day/23"
   ]
  },
  {
   "cell_type": "code",
   "execution_count": null,
   "id": "1690958a",
   "metadata": {},
   "outputs": [],
   "source": []
  }
 ],
 "metadata": {},
 "nbformat": 4,
 "nbformat_minor": 5
}
