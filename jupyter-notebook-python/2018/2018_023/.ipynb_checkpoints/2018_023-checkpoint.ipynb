{
 "cells": [
  {
   "cell_type": "markdown",
   "id": "f5772741",
   "metadata": {},
   "source": [
    "# Advent of Code"
   ]
  },
  {
   "cell_type": "markdown",
   "id": "e056a980",
   "metadata": {},
   "source": [
    "## 2018-012-023\n",
    "## 2018 023"
   ]
  },
  {
   "cell_type": "markdown",
   "id": "e8db55b5",
   "metadata": {},
   "source": [
    "https://adventofcode.com/2018/day/23"
   ]
  },
  {
   "cell_type": "code",
   "execution_count": 2,
   "id": "1690958a",
   "metadata": {},
   "outputs": [
    {
     "data": {
      "text/plain": [
       "7"
      ]
     },
     "execution_count": 2,
     "metadata": {},
     "output_type": "execute_result"
    }
   ],
   "source": [
    "# Input data for the example\n",
    "nanobots = [\n",
    "    {\"pos\": (0, 0, 0), \"r\": 4},\n",
    "    {\"pos\": (1, 0, 0), \"r\": 1},\n",
    "    {\"pos\": (4, 0, 0), \"r\": 3},\n",
    "    {\"pos\": (0, 2, 0), \"r\": 1},\n",
    "    {\"pos\": (0, 5, 0), \"r\": 3},\n",
    "    {\"pos\": (0, 0, 3), \"r\": 1},\n",
    "    {\"pos\": (1, 1, 1), \"r\": 1},\n",
    "    {\"pos\": (1, 1, 2), \"r\": 1},\n",
    "    {\"pos\": (1, 3, 1), \"r\": 1},\n",
    "]\n",
    "\n",
    "# Function to calculate Manhattan distance\n",
    "def manhattan_distance(pos1, pos2):\n",
    "    return sum(abs(a - b) for a, b in zip(pos1, pos2))\n",
    "\n",
    "# Find the strongest nanobot\n",
    "strongest_nanobot = max(nanobots, key=lambda bot: bot[\"r\"])\n",
    "\n",
    "# Count nanobots in range of the strongest nanobot\n",
    "in_range_count = sum(\n",
    "    1 for bot in nanobots if manhattan_distance(bot[\"pos\"], strongest_nanobot[\"pos\"]) <= strongest_nanobot[\"r\"]\n",
    ")\n",
    "\n",
    "in_range_count"
   ]
  },
  {
   "cell_type": "code",
   "execution_count": 3,
   "id": "4fc466c7-ebaf-41b1-b247-bec5edd1565c",
   "metadata": {},
   "outputs": [
    {
     "data": {
      "text/plain": [
       "164"
      ]
     },
     "execution_count": 3,
     "metadata": {},
     "output_type": "execute_result"
    }
   ],
   "source": [
    "# Parse the uploaded file and calculate the number of nanobots in range of the strongest nanobot\n",
    "file_path = \"input.txt\"\n",
    "\n",
    "# Function to parse and compute the number of nanobots in range of the strongest\n",
    "def count_nanobots_in_range_from_file(file_path):\n",
    "    nanobots = []\n",
    "\n",
    "    # Read and parse the input file\n",
    "    with open(file_path, 'r') as file:\n",
    "        for line in file:\n",
    "            parts = line.strip().split(\", \")\n",
    "            pos = tuple(map(int, parts[0][5:-1].split(\",\")))  # Extract position\n",
    "            r = int(parts[1][2:])  # Extract radius\n",
    "            nanobots.append({\"pos\": pos, \"r\": r})\n",
    "\n",
    "    # Find the strongest nanobot\n",
    "    strongest_nanobot = max(nanobots, key=lambda bot: bot[\"r\"])\n",
    "\n",
    "    # Count nanobots in range of the strongest nanobot\n",
    "    in_range_count = sum(\n",
    "        1\n",
    "        for bot in nanobots\n",
    "        if manhattan_distance(bot[\"pos\"], strongest_nanobot[\"pos\"]) <= strongest_nanobot[\"r\"]\n",
    "    )\n",
    "\n",
    "    return in_range_count\n",
    "\n",
    "# Calculate the number of nanobots in range using the uploaded file\n",
    "nanobots_in_range_count = count_nanobots_in_range_from_file(file_path)\n",
    "nanobots_in_range_count"
   ]
  },
  {
   "cell_type": "code",
   "execution_count": 7,
   "id": "a18a21ae-a388-4b08-a86a-cc9771967f6f",
   "metadata": {},
   "outputs": [],
   "source": [
    "from heapq import heappush, heappop\n",
    "# Function to calculate the Manhattan distance from a point to the origin\n",
    "\n",
    "def manhattan_distance_to_origin(pos):\n",
    "\n",
    "    return sum(abs(x) for x in pos)\n",
    "\n",
    "# Function to determine the number of nanobots in range of a given point\n",
    "\n",
    "def count_nanobots_in_range(point, nanobots):\n",
    "\n",
    "    return sum(\n",
    "\n",
    "        1 for bot in nanobots if manhattan_distance(bot[\"pos\"], point) <= bot[\"r\"]\n",
    "\n",
    "    )\n"
   ]
  },
  {
   "cell_type": "code",
   "execution_count": null,
   "id": "d04cb68c-0195-4067-8978-a2b2fde31b6f",
   "metadata": {},
   "outputs": [],
   "source": [
    "# Optimized function to find the best position using recursion and memoization\n",
    "def find_best_position_optimized(file_path):\n",
    "    # Parse the input file\n",
    "    nanobots = []\n",
    "    with open(file_path, 'r') as file:\n",
    "        for line in file:\n",
    "            parts = line.strip().split(\", \")\n",
    "            pos = tuple(map(int, parts[0][5:-1].split(\",\")))  # Extract position\n",
    "            r = int(parts[1][2:])  # Extract radius\n",
    "            nanobots.append({\"pos\": pos, \"r\": r})\n",
    "\n",
    "    # Bounds for the search space\n",
    "    min_x = min(bot[\"pos\"][0] for bot in nanobots)\n",
    "    max_x = max(bot[\"pos\"][0] for bot in nanobots)\n",
    "    min_y = min(bot[\"pos\"][1] for bot in nanobots)\n",
    "    max_y = max(bot[\"pos\"][1] for bot in nanobots)\n",
    "    min_z = min(bot[\"pos\"][2] for bot in nanobots)\n",
    "    max_z = max(bot[\"pos\"][2] for bot in nanobots)\n",
    "\n",
    "    # Recursive function to explore the space\n",
    "    def explore_space(min_x, max_x, min_y, max_y, min_z, max_z, resolution):\n",
    "        # Base case: if resolution is 1, check the exact points\n",
    "        if resolution == 1:\n",
    "            best_position = None\n",
    "            best_count = 0\n",
    "            best_distance = float(\"inf\")\n",
    "\n",
    "            for x in range(min_x, max_x + 1):\n",
    "                for y in range(min_y, max_y + 1):\n",
    "                    for z in range(min_z, max_z + 1):\n",
    "                        count = count_nanobots_in_range((x, y, z), nanobots)\n",
    "                        distance = manhattan_distance_to_origin((x, y, z))\n",
    "                        if count > best_count or (count == best_count and distance < best_distance):\n",
    "                            best_position = (x, y, z)\n",
    "                            best_count = count\n",
    "                            best_distance = distance\n",
    "\n",
    "            return best_position, best_count, best_distance\n",
    "\n",
    "        # Otherwise, divide the space into smaller regions\n",
    "        mid_x = (min_x + max_x) // 2\n",
    "        mid_y = (min_y + max_y) // 2\n",
    "        mid_z = (min_z + max_z) // 2\n",
    "\n",
    "        regions = [\n",
    "            (min_x, mid_x, min_y, mid_y, min_z, mid_z),\n",
    "            (mid_x + 1, max_x, min_y, mid_y, min_z, mid_z),\n",
    "            (min_x, mid_x, mid_y + 1, max_y, min_z, mid_z),\n",
    "            (mid_x + 1, max_x, mid_y + 1, max_y, min_z, mid_z),\n",
    "            (min_x, mid_x, min_y, mid_y, mid_z + 1, max_z),\n",
    "            (mid_x + 1, max_x, min_y, mid_y, mid_z + 1, max_z),\n",
    "            (min_x, mid_x, mid_y + 1, max_y, mid_z + 1, max_z),\n",
    "            (mid_x + 1, max_x, mid_y + 1, max_y, mid_z + 1, max_z),\n",
    "        ]\n",
    "\n",
    "        best_position = None\n",
    "        best_count = 0\n",
    "        best_distance = float(\"inf\")\n",
    "\n",
    "        for region in regions:\n",
    "            sub_min_x, sub_max_x, sub_min_y, sub_max_y, sub_min_z, sub_max_z = region\n",
    "            sub_position, sub_count, sub_distance = explore_space(\n",
    "                sub_min_x, sub_max_x, sub_min_y, sub_max_y, sub_min_z, sub_max_z, resolution // 2\n",
    "            )\n",
    "            if sub_count > best_count or (sub_count == best_count and sub_distance < best_distance):\n",
    "                best_position = sub_position\n",
    "                best_count = sub_count\n",
    "                best_distance = sub_distance\n",
    "\n",
    "        return best_position, best_count, best_distance\n",
    "\n",
    "    # Start exploring with the largest possible resolution\n",
    "    max_resolution = max(max_x - min_x, max_y - min_y, max_z - min_z)\n",
    "    best_position, best_count, best_distance = explore_space(\n",
    "        min_x, max_x, min_y, max_y, min_z, max_z, max_resolution\n",
    "    )\n",
    "\n",
    "    return best_position, best_distance\n",
    "\n",
    "# Run the optimized function\n",
    "best_position_optimized, shortest_distance_optimized = find_best_position_optimized(file_path)\n",
    "best_position_optimized, shortest_distance_optimized"
   ]
  },
  {
   "cell_type": "code",
   "execution_count": 1,
   "id": "b8b4a35e-5447-4731-ae12-ffb0a41855c5",
   "metadata": {},
   "outputs": [
    {
     "data": {
      "text/plain": [
       "(Nanobot(x=-23141997, y=71259367, z=32153721, r=99295779), 164)"
      ]
     },
     "execution_count": 1,
     "metadata": {},
     "output_type": "execute_result"
    }
   ],
   "source": [
    "import re\n",
    "from collections import namedtuple\n",
    "\n",
    "# Define the Nanobot as a named tuple\n",
    "Nanobot = namedtuple(\"Nanobot\", [\"x\", \"y\", \"z\", \"r\"])\n",
    "\n",
    "# Parse the input file\n",
    "nanobots = []\n",
    "with open('./input.txt', 'r') as file:\n",
    "    for line in file:\n",
    "        match = re.match(r\"pos=<(-?\\d+),(-?\\d+),(-?\\d+)>, r=(\\d+)\", line.strip())\n",
    "        if match:\n",
    "            nanobots.append(Nanobot(int(match[1]), int(match[2]), int(match[3]), int(match[4])))\n",
    "\n",
    "# Find the nanobot with the largest radius\n",
    "strongest_nanobot = max(nanobots, key=lambda n: n.r)\n",
    "\n",
    "# Function to calculate Manhattan distance\n",
    "def manhattan_distance(a, b):\n",
    "    return abs(a.x - b.x) + abs(a.y - b.y) + abs(a.z - b.z)\n",
    "\n",
    "# Count nanobots in range of the strongest nanobot\n",
    "in_range_count = sum(\n",
    "    1 for nanobot in nanobots\n",
    "    if manhattan_distance(strongest_nanobot, nanobot) <= strongest_nanobot.r\n",
    ")\n",
    "\n",
    "strongest_nanobot, in_range_count"
   ]
  },
  {
   "cell_type": "code",
   "execution_count": 3,
   "id": "b29cd70b-7020-4336-bbca-281ec0e06ec6",
   "metadata": {},
   "outputs": [
    {
     "name": "stdout",
     "output_type": "stream",
     "text": [
      "Best Coordinate: (12, 12, 12)\n",
      "Shortest Manhattan Distance to (0, 0, 0): 36\n",
      "Maximum Nanobot Coverage: 5\n"
     ]
    }
   ],
   "source": [
    "import re\n",
    "from itertools import product\n",
    "\n",
    "# Manhattan distance function\n",
    "def manhattan_distance(p1, p2):\n",
    "    return sum(abs(a - b) for a, b in zip(p1, p2))\n",
    "\n",
    "# Parse the input file\n",
    "def parse_nanobots(file_path):\n",
    "    nanobots = []\n",
    "    with open(file_path, 'r') as file:\n",
    "        for line in file:\n",
    "            match = re.match(r\"pos=<(-?\\d+),(-?\\d+),(-?\\d+)>, r=(\\d+)\", line)\n",
    "            if match:\n",
    "                x, y, z, r = map(int, match.groups())\n",
    "                nanobots.append(((x, y, z), r))\n",
    "    return nanobots\n",
    "\n",
    "# Compute the best coordinate\n",
    "def find_best_coordinate(nanobots):\n",
    "    # Find the bounding box for nanobot positions\n",
    "    min_x = min(n[0][0] for n in nanobots)\n",
    "    max_x = max(n[0][0] for n in nanobots)\n",
    "    min_y = min(n[0][1] for n in nanobots)\n",
    "    max_y = max(n[0][1] for n in nanobots)\n",
    "    min_z = min(n[0][2] for n in nanobots)\n",
    "    max_z = max(n[0][2] for n in nanobots)\n",
    "\n",
    "    step = 1\n",
    "    while step < max(max_x - min_x, max_y - min_y, max_z - min_z):\n",
    "        step *= 2\n",
    "\n",
    "    best_pos = None\n",
    "    best_count = 0\n",
    "    best_distance = float('inf')\n",
    "\n",
    "    while step >= 1:\n",
    "        for x in range(min_x, max_x + 1, step):\n",
    "            for y in range(min_y, max_y + 1, step):\n",
    "                for z in range(min_z, max_z + 1, step):\n",
    "                    pos = (x, y, z)\n",
    "                    count = sum(1 for bot_pos, bot_range in nanobots if manhattan_distance(pos, bot_pos) <= bot_range)\n",
    "                    distance = manhattan_distance(pos, (0, 0, 0))\n",
    "\n",
    "                    if count > best_count or (count == best_count and distance < best_distance):\n",
    "                        best_count = count\n",
    "                        best_distance = distance\n",
    "                        best_pos = pos\n",
    "\n",
    "        min_x, max_x = best_pos[0] - step, best_pos[0] + step\n",
    "        min_y, max_y = best_pos[1] - step, best_pos[1] + step\n",
    "        min_z, max_z = best_pos[2] - step, best_pos[2] + step\n",
    "        step //= 2\n",
    "\n",
    "    return best_pos, best_distance, best_count\n",
    "\n",
    "# Main execution\n",
    "if __name__ == \"__main__\":\n",
    "    file_path = \"sample-input-for-part-002.txt\"  # Replace with the actual file path\n",
    "    nanobots = parse_nanobots(file_path)\n",
    "    best_coordinate, shortest_distance, max_coverage = find_best_coordinate(nanobots)\n",
    "\n",
    "    print(\"Best Coordinate:\", best_coordinate)\n",
    "    print(\"Shortest Manhattan Distance to (0, 0, 0):\", shortest_distance)\n",
    "    print(\"Maximum Nanobot Coverage:\", max_coverage)"
   ]
  },
  {
   "cell_type": "code",
   "execution_count": 4,
   "id": "ce3922b2-cce9-45b1-9184-d75678d6bda1",
   "metadata": {},
   "outputs": [
    {
     "name": "stdout",
     "output_type": "stream",
     "text": [
      "Best Coordinate: (48587961, 51824037, 22539780)\n",
      "Shortest Manhattan Distance to (0, 0, 0): 122951778\n",
      "Maximum Nanobot Coverage: 910\n"
     ]
    }
   ],
   "source": [
    "# Main execution\n",
    "if __name__ == \"__main__\":\n",
    "    file_path = \"input.txt\"  # Replace with the actual file path\n",
    "    nanobots = parse_nanobots(file_path)\n",
    "    best_coordinate, shortest_distance, max_coverage = find_best_coordinate(nanobots)\n",
    "\n",
    "    print(\"Best Coordinate:\", best_coordinate)\n",
    "    print(\"Shortest Manhattan Distance to (0, 0, 0):\", shortest_distance)\n",
    "    print(\"Maximum Nanobot Coverage:\", max_coverage)"
   ]
  },
  {
   "cell_type": "code",
   "execution_count": null,
   "id": "b7cb3da3-998a-4491-94f3-219f51fca7eb",
   "metadata": {},
   "outputs": [],
   "source": []
  }
 ],
 "metadata": {
  "kernelspec": {
   "display_name": "Python 3 (ipykernel)",
   "language": "python",
   "name": "python3"
  },
  "language_info": {
   "codemirror_mode": {
    "name": "ipython",
    "version": 3
   },
   "file_extension": ".py",
   "mimetype": "text/x-python",
   "name": "python",
   "nbconvert_exporter": "python",
   "pygments_lexer": "ipython3",
   "version": "3.12.3"
  }
 },
 "nbformat": 4,
 "nbformat_minor": 5
}
