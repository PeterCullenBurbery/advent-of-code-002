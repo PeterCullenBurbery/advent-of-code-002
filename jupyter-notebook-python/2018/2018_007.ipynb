{
 "cells": [
  {
   "cell_type": "markdown",
   "id": "574e7bab",
   "metadata": {},
   "source": [
    "# Advent of Code"
   ]
  },
  {
   "cell_type": "markdown",
   "id": "303b9dae",
   "metadata": {},
   "source": [
    "## 2018-012-007\n",
    "## 2018 007"
   ]
  },
  {
   "cell_type": "markdown",
   "id": "ac9fa8fe",
   "metadata": {},
   "source": [
    "https://adventofcode.com/2018/day/7"
   ]
  },
  {
   "cell_type": "code",
   "execution_count": null,
   "id": "9277daa9",
   "metadata": {},
   "outputs": [],
   "source": []
  }
 ],
 "metadata": {
  "kernelspec": {
   "display_name": "Python 3 (ipykernel)",
   "language": "python",
   "name": "python3"
  },
  "language_info": {
   "name": "python",
   "version": "3.12.3"
  }
 },
 "nbformat": 4,
 "nbformat_minor": 5
}
