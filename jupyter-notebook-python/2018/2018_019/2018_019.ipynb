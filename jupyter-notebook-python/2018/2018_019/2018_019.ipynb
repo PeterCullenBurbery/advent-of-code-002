{
 "cells": [
  {
   "cell_type": "markdown",
   "id": "ea910628",
   "metadata": {},
   "source": [
    "# Advent of Code"
   ]
  },
  {
   "cell_type": "markdown",
   "id": "616a27a0",
   "metadata": {},
   "source": [
    "## 2018-012-019\n",
    "## 2018 019"
   ]
  },
  {
   "cell_type": "markdown",
   "id": "723fd7cb",
   "metadata": {},
   "source": [
    "https://adventofcode.com/2018/day/19"
   ]
  },
  {
   "cell_type": "code",
   "execution_count": 1,
   "id": "19329266",
   "metadata": {},
   "outputs": [
    {
     "data": {
      "text/plain": [
       "1920"
      ]
     },
     "execution_count": 1,
     "metadata": {},
     "output_type": "execute_result"
    }
   ],
   "source": [
    "def parse_program(file_path):\n",
    "    with open(file_path, 'r') as file:\n",
    "        lines = file.readlines()\n",
    "\n",
    "    # Parse the instruction pointer binding\n",
    "    ip_register = int(lines[0].split()[1])\n",
    "\n",
    "    # Parse the instructions\n",
    "    instructions = []\n",
    "    for line in lines[1:]:\n",
    "        parts = line.strip().split()\n",
    "        opcode = parts[0]\n",
    "        a, b, c = map(int, parts[1:])\n",
    "        instructions.append((opcode, a, b, c))\n",
    "    \n",
    "    return ip_register, instructions\n",
    "\n",
    "# Define the operation set\n",
    "def execute_instruction(opcode, a, b, c, registers):\n",
    "    if opcode == \"addr\":\n",
    "        registers[c] = registers[a] + registers[b]\n",
    "    elif opcode == \"addi\":\n",
    "        registers[c] = registers[a] + b\n",
    "    elif opcode == \"mulr\":\n",
    "        registers[c] = registers[a] * registers[b]\n",
    "    elif opcode == \"muli\":\n",
    "        registers[c] = registers[a] * b\n",
    "    elif opcode == \"banr\":\n",
    "        registers[c] = registers[a] & registers[b]\n",
    "    elif opcode == \"bani\":\n",
    "        registers[c] = registers[a] & b\n",
    "    elif opcode == \"borr\":\n",
    "        registers[c] = registers[a] | registers[b]\n",
    "    elif opcode == \"bori\":\n",
    "        registers[c] = registers[a] | b\n",
    "    elif opcode == \"setr\":\n",
    "        registers[c] = registers[a]\n",
    "    elif opcode == \"seti\":\n",
    "        registers[c] = a\n",
    "    elif opcode == \"gtir\":\n",
    "        registers[c] = 1 if a > registers[b] else 0\n",
    "    elif opcode == \"gtri\":\n",
    "        registers[c] = 1 if registers[a] > b else 0\n",
    "    elif opcode == \"gtrr\":\n",
    "        registers[c] = 1 if registers[a] > registers[b] else 0\n",
    "    elif opcode == \"eqir\":\n",
    "        registers[c] = 1 if a == registers[b] else 0\n",
    "    elif opcode == \"eqri\":\n",
    "        registers[c] = 1 if registers[a] == b else 0\n",
    "    elif opcode == \"eqrr\":\n",
    "        registers[c] = 1 if registers[a] == registers[b] else 0\n",
    "\n",
    "# Simulate the program\n",
    "def run_program(ip_register, instructions):\n",
    "    registers = [0] * 6\n",
    "    while 0 <= registers[ip_register] < len(instructions):\n",
    "        ip = registers[ip_register]\n",
    "        opcode, a, b, c = instructions[ip]\n",
    "        execute_instruction(opcode, a, b, c, registers)\n",
    "        registers[ip_register] += 1\n",
    "    return registers[0]\n",
    "\n",
    "# Parse the input file\n",
    "input_path = 'input.txt'\n",
    "ip_register, instructions = parse_program(input_path)\n",
    "\n",
    "# Run the program\n",
    "result = run_program(ip_register, instructions)\n",
    "result"
   ]
  },
  {
   "cell_type": "code",
   "execution_count": 1,
   "id": "07aeceb7-786e-4487-bb25-e62f18f5d2a0",
   "metadata": {},
   "outputs": [
    {
     "data": {
      "text/plain": [
       "19354944"
      ]
     },
     "execution_count": 1,
     "metadata": {},
     "output_type": "execute_result"
    }
   ],
   "source": [
    "# Parse the input file to analyze the program logic\n",
    "file_path = \"input.txt\"\n",
    "\n",
    "with open(file_path, 'r') as file:\n",
    "    lines = file.readlines()\n",
    "\n",
    "# Extract the binding and instructions\n",
    "instruction_pointer_binding = int(lines[0].strip().split()[1])\n",
    "instructions = [line.strip().split() for line in lines[1:]]\n",
    "\n",
    "# Opcode functions\n",
    "def execute(op, a, b, c, registers):\n",
    "    if op == \"addr\":\n",
    "        registers[c] = registers[a] + registers[b]\n",
    "    elif op == \"addi\":\n",
    "        registers[c] = registers[a] + b\n",
    "    elif op == \"mulr\":\n",
    "        registers[c] = registers[a] * registers[b]\n",
    "    elif op == \"muli\":\n",
    "        registers[c] = registers[a] * b\n",
    "    elif op == \"banr\":\n",
    "        registers[c] = registers[a] & registers[b]\n",
    "    elif op == \"bani\":\n",
    "        registers[c] = registers[a] & b\n",
    "    elif op == \"borr\":\n",
    "        registers[c] = registers[a] | registers[b]\n",
    "    elif op == \"bori\":\n",
    "        registers[c] = registers[a] | b\n",
    "    elif op == \"setr\":\n",
    "        registers[c] = registers[a]\n",
    "    elif op == \"seti\":\n",
    "        registers[c] = a\n",
    "    elif op == \"gtir\":\n",
    "        registers[c] = 1 if a > registers[b] else 0\n",
    "    elif op == \"gtri\":\n",
    "        registers[c] = 1 if registers[a] > b else 0\n",
    "    elif op == \"gtrr\":\n",
    "        registers[c] = 1 if registers[a] > registers[b] else 0\n",
    "    elif op == \"eqir\":\n",
    "        registers[c] = 1 if a == registers[b] else 0\n",
    "    elif op == \"eqri\":\n",
    "        registers[c] = 1 if registers[a] == b else 0\n",
    "    elif op == \"eqrr\":\n",
    "        registers[c] = 1 if registers[a] == registers[b] else 0\n",
    "\n",
    "\n",
    "\n",
    "# Deep dive into program logic to verify the \"target_value\" and instruction behavior\n",
    "\n",
    "# Function to recompute based on refined target derivation\n",
    "def refined_recompute_part_2():\n",
    "    # Simulate the actual instruction logic to derive the target value dynamically\n",
    "    registers = [1, 0, 0, 0, 0, 0]  # Start with register[0] = 1 as per Part 2\n",
    "    instruction_pointer_binding = 4\n",
    "    instruction_pointer = 0\n",
    "\n",
    "    while 0 <= instruction_pointer < len(instructions):\n",
    "        registers[instruction_pointer_binding] = instruction_pointer\n",
    "        op, a, b, c = instructions[instruction_pointer]\n",
    "        execute(op, int(a), int(b), int(c), registers)\n",
    "        instruction_pointer = registers[instruction_pointer_binding] + 1\n",
    "\n",
    "        # Early termination for patterns or output confirmation\n",
    "        if instruction_pointer == 1:  # Likely where the target value is finalized\n",
    "            break\n",
    "\n",
    "    # Use derived \"target_value\" for computation\n",
    "    target_value = registers[5]  # Value set in register 5 from program logic\n",
    "\n",
    "    # Compute the sum of divisors for the dynamically derived target value\n",
    "    total = 0\n",
    "    for i in range(1, target_value + 1):\n",
    "        if target_value % i == 0:\n",
    "            total += i\n",
    "    return total\n",
    "\n",
    "# Run refined recomputation\n",
    "refined_part_two_result = refined_recompute_part_2()\n",
    "refined_part_two_result"
   ]
  },
  {
   "cell_type": "code",
   "execution_count": null,
   "id": "1d3ebebe-75b1-42bf-b463-6f021bfdbdd4",
   "metadata": {},
   "outputs": [],
   "source": []
  }
 ],
 "metadata": {
  "kernelspec": {
   "display_name": "Python 3 (ipykernel)",
   "language": "python",
   "name": "python3"
  },
  "language_info": {
   "codemirror_mode": {
    "name": "ipython",
    "version": 3
   },
   "file_extension": ".py",
   "mimetype": "text/x-python",
   "name": "python",
   "nbconvert_exporter": "python",
   "pygments_lexer": "ipython3",
   "version": "3.12.3"
  }
 },
 "nbformat": 4,
 "nbformat_minor": 5
}
