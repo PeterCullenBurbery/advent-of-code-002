{
 "cells": [
  {
   "cell_type": "markdown",
   "id": "26fca695",
   "metadata": {},
   "source": [
    "# Advent of Code"
   ]
  },
  {
   "cell_type": "markdown",
   "id": "c9b0b45e",
   "metadata": {},
   "source": [
    "## 2018-012-006\n",
    "## 2018 006"
   ]
  },
  {
   "cell_type": "markdown",
   "id": "14254f19",
   "metadata": {},
   "source": [
    "https://adventofcode.com/2018/day/6"
   ]
  },
  {
   "cell_type": "code",
   "execution_count": 2,
   "id": "2506f22f",
   "metadata": {},
   "outputs": [
    {
     "data": {
      "text/plain": [
       "3882"
      ]
     },
     "execution_count": 2,
     "metadata": {},
     "output_type": "execute_result"
    }
   ],
   "source": [
    "# Parse the input coordinates from the file.\n",
    "with open('input.txt', 'r') as file:\n",
    "    coordinates = [tuple(map(int, line.split(','))) for line in file]\n",
    "\n",
    "# Helper function to compute Manhattan distance.\n",
    "def manhattan_distance(p1, p2):\n",
    "    return abs(p1[0] - p2[0]) + abs(p1[1] - p2[1])\n",
    "\n",
    "# Determine the bounds of the grid.\n",
    "min_x = min(coord[0] for coord in coordinates)\n",
    "max_x = max(coord[0] for coord in coordinates)\n",
    "min_y = min(coord[1] for coord in coordinates)\n",
    "max_y = max(coord[1] for coord in coordinates)\n",
    "\n",
    "# Create a dictionary to store the area of each coordinate.\n",
    "areas = {coord: 0 for coord in coordinates}\n",
    "infinite_coords = set()\n",
    "\n",
    "# Iterate over a grid slightly larger than the bounding box to check for infinite areas.\n",
    "for x in range(min_x - 1, max_x + 2):\n",
    "    for y in range(min_y - 1, max_y + 2):\n",
    "        distances = [(coord, manhattan_distance(coord, (x, y))) for coord in coordinates]\n",
    "        distances.sort(key=lambda d: d[1])  # Sort by distance.\n",
    "        if distances[0][1] != distances[1][1]:  # Check if the closest is unique.\n",
    "            closest_coord = distances[0][0]\n",
    "            if x == min_x - 1 or x == max_x + 1 or y == min_y - 1 or y == max_y + 1:\n",
    "                infinite_coords.add(closest_coord)\n",
    "            else:\n",
    "                areas[closest_coord] += 1\n",
    "\n",
    "# Filter out areas belonging to infinite coordinates.\n",
    "finite_areas = {coord: area for coord, area in areas.items() if coord not in infinite_coords}\n",
    "\n",
    "# Find the largest finite area.\n",
    "largest_finite_area = max(finite_areas.values())\n",
    "largest_finite_area"
   ]
  },
  {
   "cell_type": "code",
   "execution_count": 3,
   "id": "66031908-527f-4f4d-8685-9d6f031f856d",
   "metadata": {},
   "outputs": [
    {
     "data": {
      "text/plain": [
       "43852"
      ]
     },
     "execution_count": 3,
     "metadata": {},
     "output_type": "execute_result"
    }
   ],
   "source": [
    "# Define the maximum allowed total distance to all coordinates.\n",
    "max_total_distance = 10000\n",
    "\n",
    "# Initialize a counter for the region size.\n",
    "region_size = 0\n",
    "\n",
    "# Check all points in a grid slightly larger than the bounding box.\n",
    "for x in range(min_x - 1, max_x + 2):\n",
    "    for y in range(min_y - 1, max_y + 2):\n",
    "        # Calculate the sum of distances to all coordinates.\n",
    "        total_distance = sum(manhattan_distance((x, y), coord) for coord in coordinates)\n",
    "        # If the total distance is less than the maximum, count this point as part of the region.\n",
    "        if total_distance < max_total_distance:\n",
    "            region_size += 1\n",
    "\n",
    "region_size"
   ]
  },
  {
   "cell_type": "code",
   "execution_count": null,
   "id": "a21d91ad-4d31-4b79-8ce1-9e4fad8d81da",
   "metadata": {},
   "outputs": [],
   "source": []
  }
 ],
 "metadata": {
  "kernelspec": {
   "display_name": "Python 3 (ipykernel)",
   "language": "python",
   "name": "python3"
  },
  "language_info": {
   "codemirror_mode": {
    "name": "ipython",
    "version": 3
   },
   "file_extension": ".py",
   "mimetype": "text/x-python",
   "name": "python",
   "nbconvert_exporter": "python",
   "pygments_lexer": "ipython3",
   "version": "3.12.3"
  }
 },
 "nbformat": 4,
 "nbformat_minor": 5
}
