{
 "cells": [
  {
   "cell_type": "markdown",
   "id": "5eaec955",
   "metadata": {},
   "source": [
    "# Advent of Code"
   ]
  },
  {
   "cell_type": "markdown",
   "id": "d343430c",
   "metadata": {},
   "source": [
    "## 2018-012-002\n",
    "## 2018 002"
   ]
  },
  {
   "cell_type": "markdown",
   "id": "988059b4",
   "metadata": {},
   "source": [
    "https://adventofcode.com/2018/day/2"
   ]
  },
  {
   "cell_type": "code",
   "execution_count": null,
   "id": "52564eeb",
   "metadata": {},
   "outputs": [],
   "source": []
  }
 ],
 "metadata": {
  "kernelspec": {
   "display_name": "Python 3 (ipykernel)",
   "language": "python",
   "name": "python3"
  },
  "language_info": {
   "name": "python",
   "version": "3.12.3"
  }
 },
 "nbformat": 4,
 "nbformat_minor": 5
}
