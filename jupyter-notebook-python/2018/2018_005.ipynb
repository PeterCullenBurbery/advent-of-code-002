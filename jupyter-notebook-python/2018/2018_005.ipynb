{
 "cells": [
  {
   "cell_type": "markdown",
   "id": "a7215db5",
   "metadata": {},
   "source": [
    "# Advent of Code"
   ]
  },
  {
   "cell_type": "markdown",
   "id": "e2a1ae56",
   "metadata": {},
   "source": [
    "## 2018-012-005\n",
    "## 2018 005"
   ]
  },
  {
   "cell_type": "markdown",
   "id": "043cc0c7",
   "metadata": {},
   "source": [
    "https://adventofcode.com/2018/day/5"
   ]
  },
  {
   "cell_type": "code",
   "execution_count": null,
   "id": "8442eafa",
   "metadata": {},
   "outputs": [],
   "source": []
  }
 ],
 "metadata": {
  "kernelspec": {
   "display_name": "Python 3 (ipykernel)",
   "language": "python",
   "name": "python3"
  },
  "language_info": {
   "name": "python",
   "version": "3.12.3"
  }
 },
 "nbformat": 4,
 "nbformat_minor": 5
}
