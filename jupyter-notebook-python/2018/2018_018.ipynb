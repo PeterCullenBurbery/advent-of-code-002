{
 "cells": [
  {
   "cell_type": "markdown",
   "id": "d87fef6c",
   "metadata": {},
   "source": [
    "# Advent of Code"
   ]
  },
  {
   "cell_type": "markdown",
   "id": "58f62f7d",
   "metadata": {},
   "source": [
    "## 2018-012-018\n",
    "## 2018 018"
   ]
  },
  {
   "cell_type": "markdown",
   "id": "149ea0fc",
   "metadata": {},
   "source": [
    "https://adventofcode.com/2018/day/18"
   ]
  },
  {
   "cell_type": "code",
   "execution_count": null,
   "id": "16aeab92",
   "metadata": {},
   "outputs": [],
   "source": []
  }
 ],
 "metadata": {
  "kernelspec": {
   "display_name": "Python 3 (ipykernel)",
   "language": "python",
   "name": "python3"
  },
  "language_info": {
   "name": "python",
   "version": "3.12.3"
  }
 },
 "nbformat": 4,
 "nbformat_minor": 5
}
