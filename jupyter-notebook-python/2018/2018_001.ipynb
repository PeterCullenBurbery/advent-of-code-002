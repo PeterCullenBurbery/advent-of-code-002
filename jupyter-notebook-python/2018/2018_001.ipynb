{
 "cells": [
  {
   "cell_type": "markdown",
   "id": "507a3e8d",
   "metadata": {},
   "source": [
    "# Advent of Code"
   ]
  },
  {
   "cell_type": "markdown",
   "id": "e1bc75e8",
   "metadata": {},
   "source": [
    "## 2018-012-001\n",
    "## 2018 001"
   ]
  },
  {
   "cell_type": "markdown",
   "id": "076c11f0",
   "metadata": {},
   "source": [
    "https://adventofcode.com/2018/day/1"
   ]
  },
  {
   "cell_type": "code",
   "execution_count": null,
   "id": "37cdc799",
   "metadata": {},
   "outputs": [],
   "source": []
  }
 ],
 "metadata": {
  "kernelspec": {
   "display_name": "Python 3 (ipykernel)",
   "language": "python",
   "name": "python3"
  },
  "language_info": {
   "name": "python",
   "version": "3.12.3"
  }
 },
 "nbformat": 4,
 "nbformat_minor": 5
}
