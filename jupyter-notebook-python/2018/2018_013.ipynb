{
 "cells": [
  {
   "cell_type": "markdown",
   "id": "2c4b4b7b",
   "metadata": {},
   "source": [
    "# Advent of Code"
   ]
  },
  {
   "cell_type": "markdown",
   "id": "64bc26f5",
   "metadata": {},
   "source": [
    "## 2018-012-013\n",
    "## 2018 013"
   ]
  },
  {
   "cell_type": "markdown",
   "id": "ef5f94ad",
   "metadata": {},
   "source": [
    "https://adventofcode.com/2018/day/13"
   ]
  },
  {
   "cell_type": "code",
   "execution_count": null,
   "id": "1df16965",
   "metadata": {},
   "outputs": [],
   "source": []
  }
 ],
 "metadata": {
  "kernelspec": {
   "display_name": "Python 3 (ipykernel)",
   "language": "python",
   "name": "python3"
  },
  "language_info": {
   "name": "python",
   "version": "3.12.3"
  }
 },
 "nbformat": 4,
 "nbformat_minor": 5
}
