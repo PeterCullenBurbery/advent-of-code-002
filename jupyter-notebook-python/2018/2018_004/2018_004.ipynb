{
 "cells": [
  {
   "cell_type": "markdown",
   "id": "360d3f9e",
   "metadata": {},
   "source": [
    "# Advent of Code"
   ]
  },
  {
   "cell_type": "markdown",
   "id": "d523be70",
   "metadata": {},
   "source": [
    "## 2018-012-004\n",
    "## 2018 004"
   ]
  },
  {
   "cell_type": "markdown",
   "id": "a2288adb",
   "metadata": {},
   "source": [
    "https://adventofcode.com/2018/day/4"
   ]
  },
  {
   "cell_type": "code",
   "execution_count": 3,
   "id": "cca6caae",
   "metadata": {},
   "outputs": [
    {
     "data": {
      "text/plain": [
       "101194"
      ]
     },
     "execution_count": 3,
     "metadata": {},
     "output_type": "execute_result"
    }
   ],
   "source": [
    "# Load and process the input file\n",
    "\n",
    "file_path = \"input.txt\"\n",
    "\n",
    "with open(file_path, 'r') as file:\n",
    "\n",
    "    data = file.readlines()\n",
    "\n",
    "\n",
    "\n",
    "# Sort the records chronologically\n",
    "\n",
    "data.sort()\n",
    "from collections import defaultdict\n",
    "\n",
    "# Parse the records without converting to datetime\n",
    "sleep_data = defaultdict(list)\n",
    "records = []\n",
    "for line in data:\n",
    "    timestamp, action = line.strip().split(\"] \")\n",
    "    timestamp = timestamp[1:]  # Remove brackets\n",
    "    records.append((timestamp, action))\n",
    "\n",
    "# Sort the records\n",
    "records.sort()\n",
    "\n",
    "# Analyze sorted records\n",
    "current_guard = None\n",
    "fell_asleep = None\n",
    "for timestamp, action in records:\n",
    "    if \"Guard\" in action:\n",
    "        current_guard = int(action.split(\"#\")[1].split()[0])\n",
    "    elif \"falls asleep\" in action:\n",
    "        fell_asleep = int(timestamp.split(\":\")[1])\n",
    "    elif \"wakes up\" in action and fell_asleep is not None:\n",
    "        woke_up = int(timestamp.split(\":\")[1])\n",
    "        sleep_data[current_guard].extend(range(fell_asleep, woke_up))\n",
    "\n",
    "# Find the guard with the most sleep\n",
    "total_sleep = {guard: len(minutes) for guard, minutes in sleep_data.items()}\n",
    "sleepiest_guard = max(total_sleep, key=total_sleep.get)\n",
    "\n",
    "# Find the minute the sleepiest guard is asleep the most\n",
    "from collections import Counter\n",
    "minute_counts = Counter(sleep_data[sleepiest_guard])\n",
    "most_common_minute = minute_counts.most_common(1)[0][0]\n",
    "\n",
    "result = sleepiest_guard * most_common_minute\n",
    "result"
   ]
  },
  {
   "cell_type": "code",
   "execution_count": 4,
   "id": "dfcc1a50-7f66-4f39-a55c-662d5858553d",
   "metadata": {},
   "outputs": [
    {
     "data": {
      "text/plain": [
       "102095"
      ]
     },
     "execution_count": 4,
     "metadata": {},
     "output_type": "execute_result"
    }
   ],
   "source": [
    "# Find the guard most frequently asleep on the same minute\n",
    "most_frequent_guard = None\n",
    "most_frequent_minute = None\n",
    "most_frequent_count = 0\n",
    "\n",
    "for guard, minutes in sleep_data.items():\n",
    "    minute_counts = Counter(minutes)\n",
    "    if minute_counts:\n",
    "        common_minute, count = minute_counts.most_common(1)[0]\n",
    "        if count > most_frequent_count:\n",
    "            most_frequent_guard = guard\n",
    "            most_frequent_minute = common_minute\n",
    "            most_frequent_count = count\n",
    "\n",
    "result_part_two = most_frequent_guard * most_frequent_minute\n",
    "result_part_two"
   ]
  },
  {
   "cell_type": "code",
   "execution_count": null,
   "id": "e2d06e20-8d0f-47f3-a73b-3b6bc4a011b9",
   "metadata": {},
   "outputs": [],
   "source": []
  }
 ],
 "metadata": {
  "kernelspec": {
   "display_name": "Python 3 (ipykernel)",
   "language": "python",
   "name": "python3"
  },
  "language_info": {
   "codemirror_mode": {
    "name": "ipython",
    "version": 3
   },
   "file_extension": ".py",
   "mimetype": "text/x-python",
   "name": "python",
   "nbconvert_exporter": "python",
   "pygments_lexer": "ipython3",
   "version": "3.12.3"
  }
 },
 "nbformat": 4,
 "nbformat_minor": 5
}
