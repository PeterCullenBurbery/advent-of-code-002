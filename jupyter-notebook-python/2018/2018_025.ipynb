{
 "cells": [
  {
   "cell_type": "markdown",
   "id": "038a3247",
   "metadata": {},
   "source": [
    "# Advent of Code"
   ]
  },
  {
   "cell_type": "markdown",
   "id": "73602fa3",
   "metadata": {},
   "source": [
    "## 2018-012-025\n",
    "## 2018 025"
   ]
  },
  {
   "cell_type": "markdown",
   "id": "bdfa95f6",
   "metadata": {},
   "source": [
    "https://adventofcode.com/2018/day/25"
   ]
  },
  {
   "cell_type": "code",
   "execution_count": null,
   "id": "2bed3102",
   "metadata": {},
   "outputs": [],
   "source": []
  }
 ],
 "metadata": {
  "kernelspec": {
   "display_name": "Python 3 (ipykernel)",
   "language": "python",
   "name": "python3"
  },
  "language_info": {
   "name": "python",
   "version": "3.12.3"
  }
 },
 "nbformat": 4,
 "nbformat_minor": 5
}
