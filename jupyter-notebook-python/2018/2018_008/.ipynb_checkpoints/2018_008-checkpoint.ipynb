{
 "cells": [
  {
   "cell_type": "markdown",
   "id": "dde8713f",
   "metadata": {},
   "source": [
    "# Advent of Code"
   ]
  },
  {
   "cell_type": "markdown",
   "id": "e6edef5c",
   "metadata": {},
   "source": [
    "## 2018-012-008\n",
    "## 2018 008"
   ]
  },
  {
   "cell_type": "markdown",
   "id": "de24fcd7",
   "metadata": {},
   "source": [
    "https://adventofcode.com/2018/day/8"
   ]
  },
  {
   "cell_type": "code",
   "execution_count": 1,
   "id": "e98e55da",
   "metadata": {},
   "outputs": [
    {
     "data": {
      "text/plain": [
       "43996"
      ]
     },
     "execution_count": 1,
     "metadata": {},
     "output_type": "execute_result"
    }
   ],
   "source": [
    "# Parsing the input data into a list of integers\n",
    "with open(\"input.txt\", \"r\") as file:\n",
    "    data = list(map(int, file.read().strip().split()))\n",
    "\n",
    "# Function to calculate the sum of metadata entries recursively\n",
    "def parse_node(index):\n",
    "    # Read the header\n",
    "    num_children = data[index]\n",
    "    num_metadata = data[index + 1]\n",
    "    index += 2\n",
    "    \n",
    "    # Process all child nodes\n",
    "    total_metadata_sum = 0\n",
    "    for _ in range(num_children):\n",
    "        child_sum, index = parse_node(index)\n",
    "        total_metadata_sum += child_sum\n",
    "    \n",
    "    # Add metadata entries\n",
    "    total_metadata_sum += sum(data[index:index + num_metadata])\n",
    "    index += num_metadata\n",
    "    \n",
    "    return total_metadata_sum, index\n",
    "\n",
    "# Compute the total metadata sum for the root node\n",
    "total_metadata_sum, _ = parse_node(0)\n",
    "total_metadata_sum\n"
   ]
  },
  {
   "cell_type": "code",
   "execution_count": 2,
   "id": "047f8f02-1f54-466b-a1c3-ae70cb85fdd0",
   "metadata": {},
   "outputs": [
    {
     "data": {
      "text/plain": [
       "35189"
      ]
     },
     "execution_count": 2,
     "metadata": {},
     "output_type": "execute_result"
    }
   ],
   "source": [
    "# Function to calculate the value of a node recursively\n",
    "def calculate_node_value(index):\n",
    "    # Read the header\n",
    "    num_children = data[index]\n",
    "    num_metadata = data[index + 1]\n",
    "    index += 2\n",
    "\n",
    "    # Process all child nodes\n",
    "    child_values = []\n",
    "    for _ in range(num_children):\n",
    "        child_value, index = calculate_node_value(index)\n",
    "        child_values.append(child_value)\n",
    "\n",
    "    # Calculate the value of this node\n",
    "    if num_children == 0:\n",
    "        # If no children, the value is the sum of metadata entries\n",
    "        node_value = sum(data[index:index + num_metadata])\n",
    "    else:\n",
    "        # If there are children, metadata entries refer to child node indexes\n",
    "        node_value = 0\n",
    "        for metadata_entry in data[index:index + num_metadata]:\n",
    "            if 1 <= metadata_entry <= num_children:\n",
    "                node_value += child_values[metadata_entry - 1]\n",
    "\n",
    "    index += num_metadata\n",
    "    return node_value, index\n",
    "\n",
    "# Compute the value of the root node\n",
    "root_node_value, _ = calculate_node_value(0)\n",
    "root_node_value"
   ]
  },
  {
   "cell_type": "code",
   "execution_count": null,
   "id": "33909b44-bf37-40d4-8cc2-283a9adf3708",
   "metadata": {},
   "outputs": [],
   "source": []
  }
 ],
 "metadata": {
  "kernelspec": {
   "display_name": "Python 3 (ipykernel)",
   "language": "python",
   "name": "python3"
  },
  "language_info": {
   "codemirror_mode": {
    "name": "ipython",
    "version": 3
   },
   "file_extension": ".py",
   "mimetype": "text/x-python",
   "name": "python",
   "nbconvert_exporter": "python",
   "pygments_lexer": "ipython3",
   "version": "3.12.3"
  }
 },
 "nbformat": 4,
 "nbformat_minor": 5
}
