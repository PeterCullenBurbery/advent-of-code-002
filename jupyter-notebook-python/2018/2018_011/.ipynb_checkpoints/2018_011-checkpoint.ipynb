{
 "cells": [
  {
   "cell_type": "markdown",
   "id": "aa8ae567",
   "metadata": {},
   "source": [
    "# Advent of Code"
   ]
  },
  {
   "cell_type": "markdown",
   "id": "7bc27777",
   "metadata": {},
   "source": [
    "## 2018-012-011\n",
    "## 2018 011"
   ]
  },
  {
   "cell_type": "markdown",
   "id": "f84cdc50",
   "metadata": {},
   "source": [
    "https://adventofcode.com/2018/day/11"
   ]
  },
  {
   "cell_type": "code",
   "execution_count": 1,
   "id": "947901cf",
   "metadata": {},
   "outputs": [
    {
     "name": "stdout",
     "output_type": "stream",
     "text": [
      "The top-left coordinate of the 3x3 square with the largest total power is: (21, 13) with a power of 28\n"
     ]
    }
   ],
   "source": [
    "def calculate_power_level(x, y, serial_number):\n",
    "    \"\"\"\n",
    "    Calculate the power level of a fuel cell at position (x, y).\n",
    "    \"\"\"\n",
    "    rack_id = x + 10\n",
    "    power_level = rack_id * y\n",
    "    power_level += serial_number\n",
    "    power_level *= rack_id\n",
    "    power_level = (power_level // 100) % 10  # Extract the hundreds digit.\n",
    "    power_level -= 5\n",
    "    return power_level\n",
    "\n",
    "def find_largest_power(serial_number):\n",
    "    \"\"\"\n",
    "    Find the 3x3 square with the largest total power.\n",
    "    \"\"\"\n",
    "    grid_size = 300\n",
    "    grid = [[calculate_power_level(x, y, serial_number) for x in range(1, grid_size + 1)] for y in range(1, grid_size + 1)]\n",
    "    \n",
    "    max_power = float('-inf')\n",
    "    top_left_coordinate = (0, 0)\n",
    "    \n",
    "    for y in range(grid_size - 2):  # Stop 2 rows early to fit the 3x3 square.\n",
    "        for x in range(grid_size - 2):  # Stop 2 columns early to fit the 3x3 square.\n",
    "            # Calculate the total power of the 3x3 square.\n",
    "            total_power = sum(\n",
    "                grid[y+i][x+j] for i in range(3) for j in range(3)\n",
    "            )\n",
    "            if total_power > max_power:\n",
    "                max_power = total_power\n",
    "                top_left_coordinate = (x + 1, y + 1)  # Convert to 1-based indexing.\n",
    "    \n",
    "    return top_left_coordinate, max_power\n",
    "\n",
    "# Read serial number from input.txt\n",
    "try:\n",
    "    with open('input.txt', 'r') as file:\n",
    "        serial_number = int(file.read().strip())  # Strip any whitespace and convert to integer\n",
    "except FileNotFoundError:\n",
    "    print(\"Error: input.txt not found.\")\n",
    "    exit(1)\n",
    "except ValueError:\n",
    "    print(\"Error: input.txt does not contain a valid integer.\")\n",
    "    exit(1)\n",
    "\n",
    "# Calculate and display the result\n",
    "result = find_largest_power(serial_number)\n",
    "print(f\"The top-left coordinate of the 3x3 square with the largest total power is: {result[0]} with a power of {result[1]}\")"
   ]
  },
  {
   "cell_type": "code",
   "execution_count": 3,
   "id": "3e417cfc-8c45-4c7f-a060-7dcf508a5024",
   "metadata": {},
   "outputs": [
    {
     "name": "stdout",
     "output_type": "stream",
     "text": [
      "The top-left coordinate, size, and power of the square with the largest total power are: (235, 268, 13) with power 80\n"
     ]
    }
   ],
   "source": [
    "def calculate_power_level(x, y, serial_number):\n",
    "    \"\"\"\n",
    "    Calculate the power level of a fuel cell at position (x, y).\n",
    "    \"\"\"\n",
    "    rack_id = x + 10\n",
    "    power_level = rack_id * y\n",
    "    power_level += serial_number\n",
    "    power_level *= rack_id\n",
    "    power_level = (power_level // 100) % 10  # Extract the hundreds digit.\n",
    "    power_level -= 5\n",
    "    return power_level\n",
    "\n",
    "def build_summed_area_table(grid_size, serial_number):\n",
    "    \"\"\"\n",
    "    Build the summed-area table for the grid.\n",
    "    \"\"\"\n",
    "    sat = [[0] * (grid_size + 1) for _ in range(grid_size + 1)]\n",
    "    for y in range(1, grid_size + 1):\n",
    "        for x in range(1, grid_size + 1):\n",
    "            power_level = calculate_power_level(x, y, serial_number)\n",
    "            sat[y][x] = (\n",
    "                power_level\n",
    "                + sat[y - 1][x]\n",
    "                + sat[y][x - 1]\n",
    "                - sat[y - 1][x - 1]\n",
    "            )\n",
    "    return sat\n",
    "\n",
    "def find_largest_power_any_size(serial_number):\n",
    "    \"\"\"\n",
    "    Find the square with the largest total power for any size.\n",
    "    \"\"\"\n",
    "    grid_size = 300\n",
    "    sat = build_summed_area_table(grid_size, serial_number)\n",
    "    \n",
    "    max_power = float('-inf')\n",
    "    best_coords = (0, 0, 0)  # x, y, size\n",
    "    \n",
    "    for square_size in range(1, grid_size + 1):\n",
    "        for y in range(1, grid_size - square_size + 2):\n",
    "            for x in range(1, grid_size - square_size + 2):\n",
    "                # Calculate the total power using the summed-area table.\n",
    "                total_power = (\n",
    "                    sat[y + square_size - 1][x + square_size - 1]\n",
    "                    - sat[y - 1][x + square_size - 1]\n",
    "                    - sat[y + square_size - 1][x - 1]\n",
    "                    + sat[y - 1][x - 1]\n",
    "                )\n",
    "                if total_power > max_power:\n",
    "                    max_power = total_power\n",
    "                    best_coords = (x, y, square_size)\n",
    "    \n",
    "    return best_coords, max_power\n",
    "\n",
    "# Puzzle input: serial number\n",
    "# Read serial number from input.txt\n",
    "try:\n",
    "    with open('input.txt', 'r') as file:\n",
    "        serial_number = int(file.read().strip())  # Strip any whitespace and convert to integer\n",
    "except FileNotFoundError:\n",
    "    print(\"Error: input.txt not found.\")\n",
    "    exit(1)\n",
    "except ValueError:\n",
    "    print(\"Error: input.txt does not contain a valid integer.\")\n",
    "    exit(1)\n",
    "result, power = find_largest_power_any_size(serial_number)\n",
    "print(f\"The top-left coordinate, size, and power of the square with the largest total power are: {result} with power {power}\")"
   ]
  },
  {
   "cell_type": "code",
   "execution_count": null,
   "id": "15d39351-c582-4f11-8e28-de98e17cecaa",
   "metadata": {},
   "outputs": [],
   "source": []
  }
 ],
 "metadata": {
  "kernelspec": {
   "display_name": "Python 3 (ipykernel)",
   "language": "python",
   "name": "python3"
  },
  "language_info": {
   "codemirror_mode": {
    "name": "ipython",
    "version": 3
   },
   "file_extension": ".py",
   "mimetype": "text/x-python",
   "name": "python",
   "nbconvert_exporter": "python",
   "pygments_lexer": "ipython3",
   "version": "3.12.3"
  }
 },
 "nbformat": 4,
 "nbformat_minor": 5
}
