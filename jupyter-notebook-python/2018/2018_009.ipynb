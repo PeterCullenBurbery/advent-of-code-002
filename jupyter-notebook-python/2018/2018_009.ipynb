{
 "cells": [
  {
   "cell_type": "markdown",
   "id": "fd45e7fa",
   "metadata": {},
   "source": [
    "# Advent of Code"
   ]
  },
  {
   "cell_type": "markdown",
   "id": "a39b915d",
   "metadata": {},
   "source": [
    "## 2018-012-009\n",
    "## 2018 009"
   ]
  },
  {
   "cell_type": "markdown",
   "id": "0870a42e",
   "metadata": {},
   "source": [
    "https://adventofcode.com/2018/day/9"
   ]
  },
  {
   "cell_type": "code",
   "execution_count": null,
   "id": "2d889300",
   "metadata": {},
   "outputs": [],
   "source": []
  }
 ],
 "metadata": {
  "kernelspec": {
   "display_name": "Python 3 (ipykernel)",
   "language": "python",
   "name": "python3"
  },
  "language_info": {
   "name": "python",
   "version": "3.12.3"
  }
 },
 "nbformat": 4,
 "nbformat_minor": 5
}
