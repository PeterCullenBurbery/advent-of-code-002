{
 "cells": [
  {
   "cell_type": "markdown",
   "id": "cae633c5",
   "metadata": {},
   "source": [
    "# Advent of Code"
   ]
  },
  {
   "cell_type": "markdown",
   "id": "5ce66da0",
   "metadata": {},
   "source": [
    "## 2018-012-024\n",
    "## 2018 024"
   ]
  },
  {
   "cell_type": "markdown",
   "id": "cd0ebc5f",
   "metadata": {},
   "source": [
    "https://adventofcode.com/2018/day/24"
   ]
  },
  {
   "cell_type": "code",
   "execution_count": null,
   "id": "d9756fab",
   "metadata": {},
   "outputs": [],
   "source": []
  }
 ],
 "metadata": {
  "kernelspec": {
   "display_name": "Python 3 (ipykernel)",
   "language": "python",
   "name": "python3"
  },
  "language_info": {
   "name": "python",
   "version": "3.12.3"
  }
 },
 "nbformat": 4,
 "nbformat_minor": 5
}
