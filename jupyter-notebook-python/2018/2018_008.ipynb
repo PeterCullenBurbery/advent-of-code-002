{
 "cells": [
  {
   "cell_type": "markdown",
   "id": "719f5e00",
   "metadata": {},
   "source": [
    "# Advent of Code"
   ]
  },
  {
   "cell_type": "markdown",
   "id": "bb5ffc50",
   "metadata": {},
   "source": [
    "## 2018-012-008\n",
    "## 2018 008"
   ]
  },
  {
   "cell_type": "markdown",
   "id": "7227324e",
   "metadata": {},
   "source": [
    "https://adventofcode.com/2018/day/8"
   ]
  },
  {
   "cell_type": "code",
   "execution_count": null,
   "id": "d025bff1",
   "metadata": {},
   "outputs": [],
   "source": []
  }
 ],
 "metadata": {
  "kernelspec": {
   "display_name": "Python 3 (ipykernel)",
   "language": "python",
   "name": "python3"
  },
  "language_info": {
   "name": "python",
   "version": "3.12.3"
  }
 },
 "nbformat": 4,
 "nbformat_minor": 5
}
