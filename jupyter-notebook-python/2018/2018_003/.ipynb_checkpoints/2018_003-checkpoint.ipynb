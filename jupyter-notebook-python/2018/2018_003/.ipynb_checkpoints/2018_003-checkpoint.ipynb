{
 "cells": [
  {
   "cell_type": "markdown",
   "id": "bcbc9874",
   "metadata": {},
   "source": [
    "# Advent of Code"
   ]
  },
  {
   "cell_type": "markdown",
   "id": "1245ab8c",
   "metadata": {},
   "source": [
    "## 2018-012-003\n",
    "## 2018 003"
   ]
  },
  {
   "cell_type": "markdown",
   "id": "2f70abfa",
   "metadata": {},
   "source": [
    "https://adventofcode.com/2018/day/3"
   ]
  },
  {
   "cell_type": "code",
   "execution_count": 2,
   "id": "507c5dae",
   "metadata": {},
   "outputs": [
    {
     "data": {
      "text/plain": [
       "118223"
      ]
     },
     "execution_count": 2,
     "metadata": {},
     "output_type": "execute_result"
    }
   ],
   "source": [
    "# Load the input data and parse it for Day 3 problem.\n",
    "# The input is a list of claims in the format: #ID @ left,top: widthxheight\n",
    "import pandas as pd\n",
    "import numpy as np\n",
    "\n",
    "# Read the file content\n",
    "file_path = 'input.txt'\n",
    "with open(file_path, 'r') as file:\n",
    "    claims_data = file.readlines()\n",
    "\n",
    "# Parse the input into a structured format\n",
    "claims = []\n",
    "for line in claims_data:\n",
    "    claim_id, _, position, size = line.strip().split()\n",
    "    left, top = map(int, position[:-1].split(','))\n",
    "    width, height = map(int, size.split('x'))\n",
    "    claims.append((claim_id, left, top, width, height))\n",
    "\n",
    "# Initialize a 2D grid to represent the fabric\n",
    "fabric_size = 1000  # At least 1000x1000 inches\n",
    "fabric = np.zeros((fabric_size, fabric_size), dtype=int)\n",
    "\n",
    "# Fill the fabric grid with claims\n",
    "for _, left, top, width, height in claims:\n",
    "    fabric[top:top+height, left:left+width] += 1\n",
    "\n",
    "# Count the number of inches with more than one claim\n",
    "overlap_area = np.sum(fabric > 1)\n",
    "overlap_area"
   ]
  },
  {
   "cell_type": "code",
   "execution_count": 3,
   "id": "6562e453-5166-43d7-b353-e8ddab74dd0b",
   "metadata": {},
   "outputs": [
    {
     "data": {
      "text/plain": [
       "'#412'"
      ]
     },
     "execution_count": 3,
     "metadata": {},
     "output_type": "execute_result"
    }
   ],
   "source": [
    "# Find the ID of the claim that does not overlap\n",
    "def find_non_overlapping_claim(claims, fabric):\n",
    "    for claim_id, left, top, width, height in claims:\n",
    "        # Check if all squares in this claim are exactly 1 in the fabric grid\n",
    "        if np.all(fabric[top:top+height, left:left+width] == 1):\n",
    "            return claim_id\n",
    "\n",
    "# Find the non-overlapping claim ID\n",
    "non_overlapping_claim_id = find_non_overlapping_claim(claims, fabric)\n",
    "non_overlapping_claim_id"
   ]
  },
  {
   "cell_type": "code",
   "execution_count": null,
   "id": "deb165d9-26be-470a-bf29-fba457f449fc",
   "metadata": {},
   "outputs": [],
   "source": []
  }
 ],
 "metadata": {
  "kernelspec": {
   "display_name": "Python 3 (ipykernel)",
   "language": "python",
   "name": "python3"
  },
  "language_info": {
   "codemirror_mode": {
    "name": "ipython",
    "version": 3
   },
   "file_extension": ".py",
   "mimetype": "text/x-python",
   "name": "python",
   "nbconvert_exporter": "python",
   "pygments_lexer": "ipython3",
   "version": "3.12.3"
  }
 },
 "nbformat": 4,
 "nbformat_minor": 5
}
