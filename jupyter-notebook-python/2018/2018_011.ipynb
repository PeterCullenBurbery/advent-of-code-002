{
 "cells": [
  {
   "cell_type": "markdown",
   "id": "d279c14c",
   "metadata": {},
   "source": [
    "# Advent of Code"
   ]
  },
  {
   "cell_type": "markdown",
   "id": "c728486c",
   "metadata": {},
   "source": [
    "## 2018-012-011\n",
    "## 2018 011"
   ]
  },
  {
   "cell_type": "markdown",
   "id": "8ee5509c",
   "metadata": {},
   "source": [
    "https://adventofcode.com/2018/day/11"
   ]
  },
  {
   "cell_type": "code",
   "execution_count": null,
   "id": "d8e14d93",
   "metadata": {},
   "outputs": [],
   "source": []
  }
 ],
 "metadata": {
  "kernelspec": {
   "display_name": "Python 3 (ipykernel)",
   "language": "python",
   "name": "python3"
  },
  "language_info": {
   "name": "python",
   "version": "3.12.3"
  }
 },
 "nbformat": 4,
 "nbformat_minor": 5
}
