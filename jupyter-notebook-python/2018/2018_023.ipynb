{
 "cells": [
  {
   "cell_type": "markdown",
   "id": "a7090c8c",
   "metadata": {},
   "source": [
    "# Advent of Code"
   ]
  },
  {
   "cell_type": "markdown",
   "id": "b4750a7b",
   "metadata": {},
   "source": [
    "## 2018-012-023\n",
    "## 2018 023"
   ]
  },
  {
   "cell_type": "markdown",
   "id": "768f9f69",
   "metadata": {},
   "source": [
    "https://adventofcode.com/2018/day/23"
   ]
  },
  {
   "cell_type": "code",
   "execution_count": null,
   "id": "a8f960e5",
   "metadata": {},
   "outputs": [],
   "source": []
  }
 ],
 "metadata": {
  "kernelspec": {
   "display_name": "Python 3 (ipykernel)",
   "language": "python",
   "name": "python3"
  },
  "language_info": {
   "name": "python",
   "version": "3.12.3"
  }
 },
 "nbformat": 4,
 "nbformat_minor": 5
}
