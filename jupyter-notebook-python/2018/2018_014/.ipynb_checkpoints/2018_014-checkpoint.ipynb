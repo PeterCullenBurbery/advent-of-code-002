{
 "cells": [
  {
   "cell_type": "markdown",
   "id": "77108fbf",
   "metadata": {},
   "source": [
    "# Advent of Code"
   ]
  },
  {
   "cell_type": "markdown",
   "id": "888a7cc3",
   "metadata": {},
   "source": [
    "## 2018-012-014\n",
    "## 2018 014"
   ]
  },
  {
   "cell_type": "markdown",
   "id": "c567af6c",
   "metadata": {},
   "source": [
    "https://adventofcode.com/2018/day/14"
   ]
  },
  {
   "cell_type": "code",
   "execution_count": 1,
   "id": "61815929",
   "metadata": {},
   "outputs": [
    {
     "data": {
      "text/plain": [
       "'1041411104'"
      ]
     },
     "execution_count": 1,
     "metadata": {},
     "output_type": "execute_result"
    }
   ],
   "source": [
    "def find_recipes_after(input_recipes):\n",
    "    \"\"\"\n",
    "    Find the ten recipes immediately after the input number of recipes.\n",
    "    \"\"\"\n",
    "    # Initial state\n",
    "    scoreboard = [3, 7]\n",
    "    elf1 = 0\n",
    "    elf2 = 1\n",
    "\n",
    "    # Keep generating recipes until we reach the target\n",
    "    while len(scoreboard) < input_recipes + 10:\n",
    "        # Combine scores of the current recipes\n",
    "        new_score = scoreboard[elf1] + scoreboard[elf2]\n",
    "        # Add new scores to the scoreboard\n",
    "        scoreboard.extend(map(int, str(new_score)))\n",
    "        # Move the elves\n",
    "        elf1 = (elf1 + 1 + scoreboard[elf1]) % len(scoreboard)\n",
    "        elf2 = (elf2 + 1 + scoreboard[elf2]) % len(scoreboard)\n",
    "\n",
    "    # Extract and return the ten recipes after the target\n",
    "    return ''.join(map(str, scoreboard[input_recipes:input_recipes + 10]))\n",
    "\n",
    "\n",
    "# Puzzle input\n",
    "input_recipes = 640441\n",
    "result = find_recipes_after(input_recipes)\n",
    "result"
   ]
  },
  {
   "cell_type": "code",
   "execution_count": 2,
   "id": "68d724d1-c97a-404e-a45a-8020c812fb5b",
   "metadata": {},
   "outputs": [
    {
     "data": {
      "text/plain": [
       "20174745"
      ]
     },
     "execution_count": 2,
     "metadata": {},
     "output_type": "execute_result"
    }
   ],
   "source": [
    "def find_recipes_before_sequence(sequence):\n",
    "    \"\"\"\n",
    "    Find how many recipes appear on the scoreboard before the given sequence.\n",
    "    \"\"\"\n",
    "    # Convert sequence to a list of digits for comparison\n",
    "    sequence = list(map(int, str(sequence)))\n",
    "    sequence_length = len(sequence)\n",
    "\n",
    "    # Initial state\n",
    "    scoreboard = [3, 7]\n",
    "    elf1 = 0\n",
    "    elf2 = 1\n",
    "\n",
    "    while True:\n",
    "        # Combine scores of the current recipes\n",
    "        new_score = scoreboard[elf1] + scoreboard[elf2]\n",
    "        # Add new scores to the scoreboard\n",
    "        scoreboard.extend(map(int, str(new_score)))\n",
    "\n",
    "        # Check if the sequence appears in the last two possible positions\n",
    "        if scoreboard[-sequence_length:] == sequence:\n",
    "            return len(scoreboard) - sequence_length\n",
    "        if scoreboard[-sequence_length - 1:-1] == sequence:\n",
    "            return len(scoreboard) - sequence_length - 1\n",
    "\n",
    "        # Move the elves\n",
    "        elf1 = (elf1 + 1 + scoreboard[elf1]) % len(scoreboard)\n",
    "        elf2 = (elf2 + 1 + scoreboard[elf2]) % len(scoreboard)\n",
    "\n",
    "\n",
    "# Puzzle input sequence\n",
    "input_sequence = 640441\n",
    "recipes_before_sequence = find_recipes_before_sequence(input_sequence)\n",
    "recipes_before_sequence"
   ]
  },
  {
   "cell_type": "code",
   "execution_count": null,
   "id": "09c1f533-6a5c-4c0f-8d21-be5a0e206245",
   "metadata": {},
   "outputs": [],
   "source": []
  }
 ],
 "metadata": {
  "kernelspec": {
   "display_name": "Python 3 (ipykernel)",
   "language": "python",
   "name": "python3"
  },
  "language_info": {
   "codemirror_mode": {
    "name": "ipython",
    "version": 3
   },
   "file_extension": ".py",
   "mimetype": "text/x-python",
   "name": "python",
   "nbconvert_exporter": "python",
   "pygments_lexer": "ipython3",
   "version": "3.12.3"
  }
 },
 "nbformat": 4,
 "nbformat_minor": 5
}
