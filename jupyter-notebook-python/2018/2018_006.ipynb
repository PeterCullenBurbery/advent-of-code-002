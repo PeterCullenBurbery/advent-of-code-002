{
 "cells": [
  {
   "cell_type": "markdown",
   "id": "66aed084",
   "metadata": {},
   "source": [
    "# Advent of Code"
   ]
  },
  {
   "cell_type": "markdown",
   "id": "264b40bb",
   "metadata": {},
   "source": [
    "## 2018-012-006\n",
    "## 2018 006"
   ]
  },
  {
   "cell_type": "markdown",
   "id": "6808b43a",
   "metadata": {},
   "source": [
    "https://adventofcode.com/2018/day/6"
   ]
  },
  {
   "cell_type": "code",
   "execution_count": null,
   "id": "43468923",
   "metadata": {},
   "outputs": [],
   "source": []
  }
 ],
 "metadata": {
  "kernelspec": {
   "display_name": "Python 3 (ipykernel)",
   "language": "python",
   "name": "python3"
  },
  "language_info": {
   "name": "python",
   "version": "3.12.3"
  }
 },
 "nbformat": 4,
 "nbformat_minor": 5
}
