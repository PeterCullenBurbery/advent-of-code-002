{
 "cells": [
  {
   "cell_type": "markdown",
   "id": "599b3492",
   "metadata": {},
   "source": [
    "# Advent of Code"
   ]
  },
  {
   "cell_type": "markdown",
   "id": "5d6a7e1a",
   "metadata": {},
   "source": [
    "## 2018-012-020\n",
    "## 2018 020"
   ]
  },
  {
   "cell_type": "markdown",
   "id": "d5372de5",
   "metadata": {},
   "source": [
    "https://adventofcode.com/2018/day/20"
   ]
  },
  {
   "cell_type": "code",
   "execution_count": null,
   "id": "e5312c61",
   "metadata": {},
   "outputs": [],
   "source": []
  }
 ],
 "metadata": {
  "kernelspec": {
   "display_name": "Python 3 (ipykernel)",
   "language": "python",
   "name": "python3"
  },
  "language_info": {
   "name": "python",
   "version": "3.12.3"
  }
 },
 "nbformat": 4,
 "nbformat_minor": 5
}
