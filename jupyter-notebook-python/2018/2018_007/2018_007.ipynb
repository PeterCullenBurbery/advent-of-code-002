{
 "cells": [
  {
   "cell_type": "markdown",
   "id": "d994942c",
   "metadata": {},
   "source": [
    "# Advent of Code"
   ]
  },
  {
   "cell_type": "markdown",
   "id": "51ce203f",
   "metadata": {},
   "source": [
    "## 2018-012-007\n",
    "## 2018 007"
   ]
  },
  {
   "cell_type": "markdown",
   "id": "a559c152",
   "metadata": {},
   "source": [
    "https://adventofcode.com/2018/day/7"
   ]
  },
  {
   "cell_type": "code",
   "execution_count": 3,
   "id": "25cb5f3a",
   "metadata": {},
   "outputs": [
    {
     "data": {
      "text/plain": [
       "'SCLPAMQVUWNHODRTGYKBJEFXZI'"
      ]
     },
     "execution_count": 3,
     "metadata": {},
     "output_type": "execute_result"
    }
   ],
   "source": [
    "from collections import defaultdict\n",
    "\n",
    "import heapq\n",
    "# Parse the input to construct a graph of prerequisites.\n",
    "\n",
    "with open('input.txt', 'r') as file:\n",
    "\n",
    "    instructions = file.readlines()\n",
    "\n",
    "\n",
    "\n",
    "# Build a directed graph and count prerequisites for each step.\n",
    "\n",
    "prerequisites = defaultdict(list)\n",
    "\n",
    "dependents_count = defaultdict(int)\n",
    "\n",
    "steps = set()\n",
    "\n",
    "\n",
    "\n",
    "for instruction in instructions:\n",
    "\n",
    "    parts = instruction.split()\n",
    "\n",
    "    step_before = parts[1]\n",
    "\n",
    "    step_after = parts[7]\n",
    "\n",
    "    prerequisites[step_after].append(step_before)\n",
    "\n",
    "    dependents_count[step_before]  # Ensure it exists in the dictionary.\n",
    "\n",
    "    dependents_count[step_after] += 1\n",
    "\n",
    "    steps.update([step_before, step_after])\n",
    "# Correct the logic to compute the step order.\n",
    "# Initialize prerequisites as a reverse graph (steps pointing to their prerequisites).\n",
    "prerequisites = defaultdict(list)\n",
    "dependents_count = defaultdict(int)\n",
    "steps = set()\n",
    "\n",
    "for instruction in instructions:\n",
    "    parts = instruction.split()\n",
    "    step_before = parts[1]\n",
    "    step_after = parts[7]\n",
    "    prerequisites[step_after].append(step_before)\n",
    "    dependents_count[step_after] += 1\n",
    "    steps.add(step_before)\n",
    "    steps.add(step_after)\n",
    "\n",
    "# Find all steps with no prerequisites to start.\n",
    "available_steps = [step for step in steps if dependents_count[step] == 0]\n",
    "heapq.heapify(available_steps)\n",
    "\n",
    "# Determine the correct order of steps.\n",
    "step_order = []\n",
    "while available_steps:\n",
    "    current_step = heapq.heappop(available_steps)\n",
    "    step_order.append(current_step)\n",
    "    # Check dependents of the current step and update their prerequisites count.\n",
    "    for dependent in steps:\n",
    "        if current_step in prerequisites[dependent]:\n",
    "            prerequisites[dependent].remove(current_step)\n",
    "            if not prerequisites[dependent]:  # All prerequisites satisfied.\n",
    "                heapq.heappush(available_steps, dependent)\n",
    "\n",
    "# Convert the list of steps to a string.\n",
    "order_string = ''.join(step_order)\n",
    "order_string\n"
   ]
  },
  {
   "cell_type": "code",
   "execution_count": 4,
   "id": "742d3756-4dfa-449a-827c-1da095cc613c",
   "metadata": {},
   "outputs": [
    {
     "data": {
      "text/plain": [
       "1234"
      ]
     },
     "execution_count": 4,
     "metadata": {},
     "output_type": "execute_result"
    }
   ],
   "source": [
    "# Function to calculate task duration based on its letter.\n",
    "def task_duration(step, base_time=60):\n",
    "    return base_time + (ord(step) - ord('A') + 1)\n",
    "\n",
    "# Initialize parameters for the simulation.\n",
    "num_workers = 5\n",
    "base_task_time = 60\n",
    "\n",
    "# Reset the prerequisites and dependencies for the simulation.\n",
    "prerequisites = defaultdict(list)\n",
    "dependents_count = defaultdict(int)\n",
    "steps = set()\n",
    "\n",
    "for instruction in instructions:\n",
    "    parts = instruction.split()\n",
    "    step_before = parts[1]\n",
    "    step_after = parts[7]\n",
    "    prerequisites[step_after].append(step_before)\n",
    "    dependents_count[step_after] += 1\n",
    "    steps.add(step_before)\n",
    "    steps.add(step_after)\n",
    "\n",
    "# Find all steps with no prerequisites to start.\n",
    "available_steps = [step for step in steps if dependents_count[step] == 0]\n",
    "heapq.heapify(available_steps)\n",
    "\n",
    "# Initialize workers and track time.\n",
    "workers = [None] * num_workers  # Each worker will store (step, remaining_time).\n",
    "time = 0\n",
    "completed_steps = set()\n",
    "\n",
    "while available_steps or any(worker is not None for worker in workers):\n",
    "    # Assign available steps to free workers.\n",
    "    for i in range(num_workers):\n",
    "        if workers[i] is None and available_steps:\n",
    "            next_step = heapq.heappop(available_steps)\n",
    "            workers[i] = (next_step, task_duration(next_step, base_task_time))\n",
    "\n",
    "    # Advance time and update worker progress.\n",
    "    min_time = min(worker[1] for worker in workers if worker is not None)\n",
    "    time += min_time\n",
    "\n",
    "    # Update workers and check for completed steps.\n",
    "    for i in range(num_workers):\n",
    "        if workers[i] is not None:\n",
    "            step, remaining_time = workers[i]\n",
    "            remaining_time -= min_time\n",
    "            if remaining_time == 0:  # Step is completed.\n",
    "                completed_steps.add(step)\n",
    "                workers[i] = None  # Worker becomes free.\n",
    "                # Update prerequisites for dependent steps.\n",
    "                for dependent in steps:\n",
    "                    if step in prerequisites[dependent]:\n",
    "                        prerequisites[dependent].remove(step)\n",
    "                        if not prerequisites[dependent]:  # All prerequisites satisfied.\n",
    "                            heapq.heappush(available_steps, dependent)\n",
    "            else:\n",
    "                workers[i] = (step, remaining_time)\n",
    "\n",
    "time"
   ]
  },
  {
   "cell_type": "code",
   "execution_count": null,
   "id": "2aa6109a-172d-4ccf-af88-a11de765c266",
   "metadata": {},
   "outputs": [],
   "source": []
  }
 ],
 "metadata": {
  "kernelspec": {
   "display_name": "Python 3 (ipykernel)",
   "language": "python",
   "name": "python3"
  },
  "language_info": {
   "codemirror_mode": {
    "name": "ipython",
    "version": 3
   },
   "file_extension": ".py",
   "mimetype": "text/x-python",
   "name": "python",
   "nbconvert_exporter": "python",
   "pygments_lexer": "ipython3",
   "version": "3.12.3"
  }
 },
 "nbformat": 4,
 "nbformat_minor": 5
}
