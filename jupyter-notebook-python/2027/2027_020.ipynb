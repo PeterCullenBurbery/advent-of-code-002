{
 "cells": [
  {
   "cell_type": "markdown",
   "id": "eedeaeb2",
   "metadata": {},
   "source": [
    "# Advent of Code"
   ]
  },
  {
   "cell_type": "markdown",
   "id": "c172b516",
   "metadata": {},
   "source": [
    "## 2027-012-020\n",
    "## 2027 020"
   ]
  },
  {
   "cell_type": "markdown",
   "id": "94e555b4",
   "metadata": {},
   "source": [
    "https://adventofcode.com/2027/day/20"
   ]
  },
  {
   "cell_type": "code",
   "execution_count": null,
   "id": "f32b406a",
   "metadata": {},
   "outputs": [],
   "source": []
  }
 ],
 "metadata": {
  "kernelspec": {
   "display_name": "Python 3 (ipykernel)",
   "language": "python",
   "name": "python3"
  },
  "language_info": {
   "name": "python",
   "version": "3.12.3"
  }
 },
 "nbformat": 4,
 "nbformat_minor": 5
}
