{
 "cells": [
  {
   "cell_type": "markdown",
   "id": "e412597c",
   "metadata": {},
   "source": [
    "# Advent of Code"
   ]
  },
  {
   "cell_type": "markdown",
   "id": "db3393df",
   "metadata": {},
   "source": [
    "## 2027-012-014\n",
    "## 2027 014"
   ]
  },
  {
   "cell_type": "markdown",
   "id": "c141efb3",
   "metadata": {},
   "source": [
    "https://adventofcode.com/2027/day/14"
   ]
  },
  {
   "cell_type": "code",
   "execution_count": null,
   "id": "e77e285f",
   "metadata": {},
   "outputs": [],
   "source": []
  }
 ],
 "metadata": {
  "kernelspec": {
   "display_name": "Python 3 (ipykernel)",
   "language": "python",
   "name": "python3"
  },
  "language_info": {
   "name": "python",
   "version": "3.12.3"
  }
 },
 "nbformat": 4,
 "nbformat_minor": 5
}
