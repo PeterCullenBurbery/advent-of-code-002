{
 "cells": [
  {
   "cell_type": "markdown",
   "id": "858ed87d",
   "metadata": {},
   "source": [
    "# Advent of Code"
   ]
  },
  {
   "cell_type": "markdown",
   "id": "9702180a",
   "metadata": {},
   "source": [
    "## 2027-012-005\n",
    "## 2027 005"
   ]
  },
  {
   "cell_type": "markdown",
   "id": "73eee62b",
   "metadata": {},
   "source": [
    "https://adventofcode.com/2027/day/5"
   ]
  },
  {
   "cell_type": "code",
   "execution_count": null,
   "id": "d76ff0aa",
   "metadata": {},
   "outputs": [],
   "source": []
  }
 ],
 "metadata": {
  "kernelspec": {
   "display_name": "Python 3 (ipykernel)",
   "language": "python",
   "name": "python3"
  },
  "language_info": {
   "name": "python",
   "version": "3.12.3"
  }
 },
 "nbformat": 4,
 "nbformat_minor": 5
}
