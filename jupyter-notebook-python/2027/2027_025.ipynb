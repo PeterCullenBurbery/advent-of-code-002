{
 "cells": [
  {
   "cell_type": "markdown",
   "id": "ced8e7a1",
   "metadata": {},
   "source": [
    "# Advent of Code"
   ]
  },
  {
   "cell_type": "markdown",
   "id": "d5f9010c",
   "metadata": {},
   "source": [
    "## 2027-012-025\n",
    "## 2027 025"
   ]
  },
  {
   "cell_type": "markdown",
   "id": "4d80f4ea",
   "metadata": {},
   "source": [
    "https://adventofcode.com/2027/day/25"
   ]
  },
  {
   "cell_type": "code",
   "execution_count": null,
   "id": "b3a2ac2b",
   "metadata": {},
   "outputs": [],
   "source": []
  }
 ],
 "metadata": {
  "kernelspec": {
   "display_name": "Python 3 (ipykernel)",
   "language": "python",
   "name": "python3"
  },
  "language_info": {
   "name": "python",
   "version": "3.12.3"
  }
 },
 "nbformat": 4,
 "nbformat_minor": 5
}
