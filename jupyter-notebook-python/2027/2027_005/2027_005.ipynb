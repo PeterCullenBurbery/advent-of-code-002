{
 "cells": [
  {
   "cell_type": "markdown",
   "id": "11cbed85",
   "metadata": {},
   "source": [
    "# Advent of Code"
   ]
  },
  {
   "cell_type": "markdown",
   "id": "f76dff85",
   "metadata": {},
   "source": [
    "## 2027-012-005\n",
    "## 2027 005"
   ]
  },
  {
   "cell_type": "markdown",
   "id": "c27a698a",
   "metadata": {},
   "source": [
    "https://adventofcode.com/2027/day/5"
   ]
  },
  {
   "cell_type": "code",
   "execution_count": null,
   "id": "92e50daa",
   "metadata": {},
   "outputs": [],
   "source": []
  }
 ],
 "metadata": {},
 "nbformat": 4,
 "nbformat_minor": 5
}
