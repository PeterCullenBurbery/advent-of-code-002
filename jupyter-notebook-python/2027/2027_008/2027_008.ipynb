{
 "cells": [
  {
   "cell_type": "markdown",
   "id": "baf33bc2",
   "metadata": {},
   "source": [
    "# Advent of Code"
   ]
  },
  {
   "cell_type": "markdown",
   "id": "0fd101d0",
   "metadata": {},
   "source": [
    "## 2027-012-008\n",
    "## 2027 008"
   ]
  },
  {
   "cell_type": "markdown",
   "id": "bb27f60f",
   "metadata": {},
   "source": [
    "https://adventofcode.com/2027/day/8"
   ]
  },
  {
   "cell_type": "code",
   "execution_count": null,
   "id": "e11ab089",
   "metadata": {},
   "outputs": [],
   "source": []
  }
 ],
 "metadata": {},
 "nbformat": 4,
 "nbformat_minor": 5
}
