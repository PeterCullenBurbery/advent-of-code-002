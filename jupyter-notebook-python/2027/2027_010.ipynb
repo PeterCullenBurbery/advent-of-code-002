{
 "cells": [
  {
   "cell_type": "markdown",
   "id": "22af0774",
   "metadata": {},
   "source": [
    "# Advent of Code"
   ]
  },
  {
   "cell_type": "markdown",
   "id": "4dc2792f",
   "metadata": {},
   "source": [
    "## 2027-012-010\n",
    "## 2027 010"
   ]
  },
  {
   "cell_type": "markdown",
   "id": "c5845c5b",
   "metadata": {},
   "source": [
    "https://adventofcode.com/2027/day/10"
   ]
  },
  {
   "cell_type": "code",
   "execution_count": null,
   "id": "26d3c84a",
   "metadata": {},
   "outputs": [],
   "source": []
  }
 ],
 "metadata": {
  "kernelspec": {
   "display_name": "Python 3 (ipykernel)",
   "language": "python",
   "name": "python3"
  },
  "language_info": {
   "name": "python",
   "version": "3.12.3"
  }
 },
 "nbformat": 4,
 "nbformat_minor": 5
}
