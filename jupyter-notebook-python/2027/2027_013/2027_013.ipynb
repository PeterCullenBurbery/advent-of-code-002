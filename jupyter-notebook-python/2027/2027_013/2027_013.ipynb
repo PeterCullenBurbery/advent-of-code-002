{
 "cells": [
  {
   "cell_type": "markdown",
   "id": "9578334a",
   "metadata": {},
   "source": [
    "# Advent of Code"
   ]
  },
  {
   "cell_type": "markdown",
   "id": "90b43441",
   "metadata": {},
   "source": [
    "## 2027-012-013\n",
    "## 2027 013"
   ]
  },
  {
   "cell_type": "markdown",
   "id": "ccabf3eb",
   "metadata": {},
   "source": [
    "https://adventofcode.com/2027/day/13"
   ]
  },
  {
   "cell_type": "code",
   "execution_count": null,
   "id": "c3ce2ce9",
   "metadata": {},
   "outputs": [],
   "source": []
  }
 ],
 "metadata": {},
 "nbformat": 4,
 "nbformat_minor": 5
}
