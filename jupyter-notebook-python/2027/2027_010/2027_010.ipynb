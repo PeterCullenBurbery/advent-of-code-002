{
 "cells": [
  {
   "cell_type": "markdown",
   "id": "3da56acd",
   "metadata": {},
   "source": [
    "# Advent of Code"
   ]
  },
  {
   "cell_type": "markdown",
   "id": "9432a4c2",
   "metadata": {},
   "source": [
    "## 2027-012-010\n",
    "## 2027 010"
   ]
  },
  {
   "cell_type": "markdown",
   "id": "b0a7cdf7",
   "metadata": {},
   "source": [
    "https://adventofcode.com/2027/day/10"
   ]
  },
  {
   "cell_type": "code",
   "execution_count": null,
   "id": "dd53f869",
   "metadata": {},
   "outputs": [],
   "source": []
  }
 ],
 "metadata": {},
 "nbformat": 4,
 "nbformat_minor": 5
}
