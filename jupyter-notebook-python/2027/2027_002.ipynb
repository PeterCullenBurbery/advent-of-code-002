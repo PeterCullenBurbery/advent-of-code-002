{
 "cells": [
  {
   "cell_type": "markdown",
   "id": "6dd76c44",
   "metadata": {},
   "source": [
    "# Advent of Code"
   ]
  },
  {
   "cell_type": "markdown",
   "id": "82d436f3",
   "metadata": {},
   "source": [
    "## 2027-012-002\n",
    "## 2027 002"
   ]
  },
  {
   "cell_type": "markdown",
   "id": "2acc81a2",
   "metadata": {},
   "source": [
    "https://adventofcode.com/2027/day/2"
   ]
  },
  {
   "cell_type": "code",
   "execution_count": null,
   "id": "339260e9",
   "metadata": {},
   "outputs": [],
   "source": []
  }
 ],
 "metadata": {
  "kernelspec": {
   "display_name": "Python 3 (ipykernel)",
   "language": "python",
   "name": "python3"
  },
  "language_info": {
   "name": "python",
   "version": "3.12.3"
  }
 },
 "nbformat": 4,
 "nbformat_minor": 5
}
