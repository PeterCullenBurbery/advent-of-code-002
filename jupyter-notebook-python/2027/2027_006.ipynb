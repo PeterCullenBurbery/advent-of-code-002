{
 "cells": [
  {
   "cell_type": "markdown",
   "id": "1d409e0d",
   "metadata": {},
   "source": [
    "# Advent of Code"
   ]
  },
  {
   "cell_type": "markdown",
   "id": "564e6241",
   "metadata": {},
   "source": [
    "## 2027-012-006\n",
    "## 2027 006"
   ]
  },
  {
   "cell_type": "markdown",
   "id": "e5052e4f",
   "metadata": {},
   "source": [
    "https://adventofcode.com/2027/day/6"
   ]
  },
  {
   "cell_type": "code",
   "execution_count": null,
   "id": "41aa1145",
   "metadata": {},
   "outputs": [],
   "source": []
  }
 ],
 "metadata": {
  "kernelspec": {
   "display_name": "Python 3 (ipykernel)",
   "language": "python",
   "name": "python3"
  },
  "language_info": {
   "name": "python",
   "version": "3.12.3"
  }
 },
 "nbformat": 4,
 "nbformat_minor": 5
}
