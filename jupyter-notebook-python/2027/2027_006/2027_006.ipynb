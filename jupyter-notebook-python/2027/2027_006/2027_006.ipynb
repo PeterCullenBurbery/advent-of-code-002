{
 "cells": [
  {
   "cell_type": "markdown",
   "id": "ac0e36ac",
   "metadata": {},
   "source": [
    "# Advent of Code"
   ]
  },
  {
   "cell_type": "markdown",
   "id": "15deba53",
   "metadata": {},
   "source": [
    "## 2027-012-006\n",
    "## 2027 006"
   ]
  },
  {
   "cell_type": "markdown",
   "id": "2d74252f",
   "metadata": {},
   "source": [
    "https://adventofcode.com/2027/day/6"
   ]
  },
  {
   "cell_type": "code",
   "execution_count": null,
   "id": "79c345a5",
   "metadata": {},
   "outputs": [],
   "source": []
  }
 ],
 "metadata": {},
 "nbformat": 4,
 "nbformat_minor": 5
}
