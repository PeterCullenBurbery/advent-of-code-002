{
 "cells": [
  {
   "cell_type": "markdown",
   "id": "f07c5770",
   "metadata": {},
   "source": [
    "# Advent of Code"
   ]
  },
  {
   "cell_type": "markdown",
   "id": "43fe511b",
   "metadata": {},
   "source": [
    "## 2027-012-013\n",
    "## 2027 013"
   ]
  },
  {
   "cell_type": "markdown",
   "id": "d57093aa",
   "metadata": {},
   "source": [
    "https://adventofcode.com/2027/day/13"
   ]
  },
  {
   "cell_type": "code",
   "execution_count": null,
   "id": "1fe92518",
   "metadata": {},
   "outputs": [],
   "source": []
  }
 ],
 "metadata": {
  "kernelspec": {
   "display_name": "Python 3 (ipykernel)",
   "language": "python",
   "name": "python3"
  },
  "language_info": {
   "name": "python",
   "version": "3.12.3"
  }
 },
 "nbformat": 4,
 "nbformat_minor": 5
}
