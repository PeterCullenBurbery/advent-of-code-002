{
 "cells": [
  {
   "cell_type": "markdown",
   "id": "d3734e19",
   "metadata": {},
   "source": [
    "# Advent of Code"
   ]
  },
  {
   "cell_type": "markdown",
   "id": "b6fa2716",
   "metadata": {},
   "source": [
    "## 2027-012-001\n",
    "## 2027 001"
   ]
  },
  {
   "cell_type": "markdown",
   "id": "2a273b17",
   "metadata": {},
   "source": [
    "https://adventofcode.com/2027/day/1"
   ]
  },
  {
   "cell_type": "code",
   "execution_count": null,
   "id": "236fcce9",
   "metadata": {},
   "outputs": [],
   "source": []
  }
 ],
 "metadata": {},
 "nbformat": 4,
 "nbformat_minor": 5
}
