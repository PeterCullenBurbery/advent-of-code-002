{
 "cells": [
  {
   "cell_type": "markdown",
   "id": "fcbf0fec",
   "metadata": {},
   "source": [
    "# Advent of Code"
   ]
  },
  {
   "cell_type": "markdown",
   "id": "b8c8aa2a",
   "metadata": {},
   "source": [
    "## 2027-012-002\n",
    "## 2027 002"
   ]
  },
  {
   "cell_type": "markdown",
   "id": "65341099",
   "metadata": {},
   "source": [
    "https://adventofcode.com/2027/day/2"
   ]
  },
  {
   "cell_type": "code",
   "execution_count": null,
   "id": "9b06d95c",
   "metadata": {},
   "outputs": [],
   "source": []
  }
 ],
 "metadata": {},
 "nbformat": 4,
 "nbformat_minor": 5
}
