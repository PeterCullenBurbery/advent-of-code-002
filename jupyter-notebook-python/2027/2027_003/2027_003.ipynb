{
 "cells": [
  {
   "cell_type": "markdown",
   "id": "49bb8c4b",
   "metadata": {},
   "source": [
    "# Advent of Code"
   ]
  },
  {
   "cell_type": "markdown",
   "id": "f0c868d4",
   "metadata": {},
   "source": [
    "## 2027-012-003\n",
    "## 2027 003"
   ]
  },
  {
   "cell_type": "markdown",
   "id": "43fa1066",
   "metadata": {},
   "source": [
    "https://adventofcode.com/2027/day/3"
   ]
  },
  {
   "cell_type": "code",
   "execution_count": null,
   "id": "45307f45",
   "metadata": {},
   "outputs": [],
   "source": []
  }
 ],
 "metadata": {},
 "nbformat": 4,
 "nbformat_minor": 5
}
