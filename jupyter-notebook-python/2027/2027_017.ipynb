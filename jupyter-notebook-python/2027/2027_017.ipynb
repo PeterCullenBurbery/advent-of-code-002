{
 "cells": [
  {
   "cell_type": "markdown",
   "id": "598ff644",
   "metadata": {},
   "source": [
    "# Advent of Code"
   ]
  },
  {
   "cell_type": "markdown",
   "id": "8d9df198",
   "metadata": {},
   "source": [
    "## 2027-012-017\n",
    "## 2027 017"
   ]
  },
  {
   "cell_type": "markdown",
   "id": "bf328827",
   "metadata": {},
   "source": [
    "https://adventofcode.com/2027/day/17"
   ]
  },
  {
   "cell_type": "code",
   "execution_count": null,
   "id": "9c1ca47b",
   "metadata": {},
   "outputs": [],
   "source": []
  }
 ],
 "metadata": {
  "kernelspec": {
   "display_name": "Python 3 (ipykernel)",
   "language": "python",
   "name": "python3"
  },
  "language_info": {
   "name": "python",
   "version": "3.12.3"
  }
 },
 "nbformat": 4,
 "nbformat_minor": 5
}
