{
 "cells": [
  {
   "cell_type": "markdown",
   "id": "b0876eaa",
   "metadata": {},
   "source": [
    "# Advent of Code"
   ]
  },
  {
   "cell_type": "markdown",
   "id": "48d27e09",
   "metadata": {},
   "source": [
    "## 2027-012-012\n",
    "## 2027 012"
   ]
  },
  {
   "cell_type": "markdown",
   "id": "006e5bb5",
   "metadata": {},
   "source": [
    "https://adventofcode.com/2027/day/12"
   ]
  },
  {
   "cell_type": "code",
   "execution_count": null,
   "id": "97ededde",
   "metadata": {},
   "outputs": [],
   "source": []
  }
 ],
 "metadata": {
  "kernelspec": {
   "display_name": "Python 3 (ipykernel)",
   "language": "python",
   "name": "python3"
  },
  "language_info": {
   "name": "python",
   "version": "3.12.3"
  }
 },
 "nbformat": 4,
 "nbformat_minor": 5
}
