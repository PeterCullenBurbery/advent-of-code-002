{
 "cells": [
  {
   "cell_type": "markdown",
   "id": "8a0e1bda",
   "metadata": {},
   "source": [
    "# Advent of Code"
   ]
  },
  {
   "cell_type": "markdown",
   "id": "824df8d4",
   "metadata": {},
   "source": [
    "## 2027-012-020\n",
    "## 2027 020"
   ]
  },
  {
   "cell_type": "markdown",
   "id": "69faaf65",
   "metadata": {},
   "source": [
    "https://adventofcode.com/2027/day/20"
   ]
  },
  {
   "cell_type": "code",
   "execution_count": null,
   "id": "620b5016",
   "metadata": {},
   "outputs": [],
   "source": []
  }
 ],
 "metadata": {},
 "nbformat": 4,
 "nbformat_minor": 5
}
