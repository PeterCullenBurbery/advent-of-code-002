{
 "cells": [
  {
   "cell_type": "markdown",
   "id": "66f40243",
   "metadata": {},
   "source": [
    "# Advent of Code"
   ]
  },
  {
   "cell_type": "markdown",
   "id": "5de78588",
   "metadata": {},
   "source": [
    "## 2027-012-021\n",
    "## 2027 021"
   ]
  },
  {
   "cell_type": "markdown",
   "id": "90d92903",
   "metadata": {},
   "source": [
    "https://adventofcode.com/2027/day/21"
   ]
  },
  {
   "cell_type": "code",
   "execution_count": null,
   "id": "a0b0ea59",
   "metadata": {},
   "outputs": [],
   "source": []
  }
 ],
 "metadata": {
  "kernelspec": {
   "display_name": "Python 3 (ipykernel)",
   "language": "python",
   "name": "python3"
  },
  "language_info": {
   "name": "python",
   "version": "3.12.3"
  }
 },
 "nbformat": 4,
 "nbformat_minor": 5
}
