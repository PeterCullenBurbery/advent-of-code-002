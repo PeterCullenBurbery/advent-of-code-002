{
 "cells": [
  {
   "cell_type": "markdown",
   "id": "56563fc3",
   "metadata": {},
   "source": [
    "# Advent of Code"
   ]
  },
  {
   "cell_type": "markdown",
   "id": "8154e503",
   "metadata": {},
   "source": [
    "## 2027-012-017\n",
    "## 2027 017"
   ]
  },
  {
   "cell_type": "markdown",
   "id": "e94be048",
   "metadata": {},
   "source": [
    "https://adventofcode.com/2027/day/17"
   ]
  },
  {
   "cell_type": "code",
   "execution_count": null,
   "id": "a0279dc1",
   "metadata": {},
   "outputs": [],
   "source": []
  }
 ],
 "metadata": {},
 "nbformat": 4,
 "nbformat_minor": 5
}
