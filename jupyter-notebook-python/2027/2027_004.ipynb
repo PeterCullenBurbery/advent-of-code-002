{
 "cells": [
  {
   "cell_type": "markdown",
   "id": "0e8b2b0a",
   "metadata": {},
   "source": [
    "# Advent of Code"
   ]
  },
  {
   "cell_type": "markdown",
   "id": "ae606306",
   "metadata": {},
   "source": [
    "## 2027-012-004\n",
    "## 2027 004"
   ]
  },
  {
   "cell_type": "markdown",
   "id": "79db412d",
   "metadata": {},
   "source": [
    "https://adventofcode.com/2027/day/4"
   ]
  },
  {
   "cell_type": "code",
   "execution_count": null,
   "id": "f07cadfe",
   "metadata": {},
   "outputs": [],
   "source": []
  }
 ],
 "metadata": {
  "kernelspec": {
   "display_name": "Python 3 (ipykernel)",
   "language": "python",
   "name": "python3"
  },
  "language_info": {
   "name": "python",
   "version": "3.12.3"
  }
 },
 "nbformat": 4,
 "nbformat_minor": 5
}
