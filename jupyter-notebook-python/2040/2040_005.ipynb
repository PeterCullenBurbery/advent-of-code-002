{
 "cells": [
  {
   "cell_type": "markdown",
   "id": "e2237fe5",
   "metadata": {},
   "source": [
    "# Advent of Code"
   ]
  },
  {
   "cell_type": "markdown",
   "id": "4423b856",
   "metadata": {},
   "source": [
    "## 2040-012-005\n",
    "## 2040 005"
   ]
  },
  {
   "cell_type": "markdown",
   "id": "2faa81f7",
   "metadata": {},
   "source": [
    "https://adventofcode.com/2040/day/5"
   ]
  },
  {
   "cell_type": "code",
   "execution_count": null,
   "id": "f98359b6",
   "metadata": {},
   "outputs": [],
   "source": []
  }
 ],
 "metadata": {
  "kernelspec": {
   "display_name": "Python 3 (ipykernel)",
   "language": "python",
   "name": "python3"
  },
  "language_info": {
   "name": "python",
   "version": "3.12.3"
  }
 },
 "nbformat": 4,
 "nbformat_minor": 5
}
