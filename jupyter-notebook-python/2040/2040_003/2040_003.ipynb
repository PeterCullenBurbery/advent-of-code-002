{
 "cells": [
  {
   "cell_type": "markdown",
   "id": "00040ca6",
   "metadata": {},
   "source": [
    "# Advent of Code"
   ]
  },
  {
   "cell_type": "markdown",
   "id": "e28dd08e",
   "metadata": {},
   "source": [
    "## 2040-012-003\n",
    "## 2040 003"
   ]
  },
  {
   "cell_type": "markdown",
   "id": "23b5a935",
   "metadata": {},
   "source": [
    "https://adventofcode.com/2040/day/3"
   ]
  },
  {
   "cell_type": "code",
   "execution_count": null,
   "id": "d3abfc4d",
   "metadata": {},
   "outputs": [],
   "source": []
  }
 ],
 "metadata": {},
 "nbformat": 4,
 "nbformat_minor": 5
}
