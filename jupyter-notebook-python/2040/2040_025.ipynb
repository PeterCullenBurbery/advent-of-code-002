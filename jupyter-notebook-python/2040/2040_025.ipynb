{
 "cells": [
  {
   "cell_type": "markdown",
   "id": "eed71e56",
   "metadata": {},
   "source": [
    "# Advent of Code"
   ]
  },
  {
   "cell_type": "markdown",
   "id": "063be902",
   "metadata": {},
   "source": [
    "## 2040-012-025\n",
    "## 2040 025"
   ]
  },
  {
   "cell_type": "markdown",
   "id": "f7d11f84",
   "metadata": {},
   "source": [
    "https://adventofcode.com/2040/day/25"
   ]
  },
  {
   "cell_type": "code",
   "execution_count": null,
   "id": "50847fc7",
   "metadata": {},
   "outputs": [],
   "source": []
  }
 ],
 "metadata": {
  "kernelspec": {
   "display_name": "Python 3 (ipykernel)",
   "language": "python",
   "name": "python3"
  },
  "language_info": {
   "name": "python",
   "version": "3.12.3"
  }
 },
 "nbformat": 4,
 "nbformat_minor": 5
}
