{
 "cells": [
  {
   "cell_type": "markdown",
   "id": "1aafd2ef",
   "metadata": {},
   "source": [
    "# Advent of Code"
   ]
  },
  {
   "cell_type": "markdown",
   "id": "8f73fad5",
   "metadata": {},
   "source": [
    "## 2040-012-024\n",
    "## 2040 024"
   ]
  },
  {
   "cell_type": "markdown",
   "id": "9241fa57",
   "metadata": {},
   "source": [
    "https://adventofcode.com/2040/day/24"
   ]
  },
  {
   "cell_type": "code",
   "execution_count": null,
   "id": "c379fa14",
   "metadata": {},
   "outputs": [],
   "source": []
  }
 ],
 "metadata": {
  "kernelspec": {
   "display_name": "Python 3 (ipykernel)",
   "language": "python",
   "name": "python3"
  },
  "language_info": {
   "name": "python",
   "version": "3.12.3"
  }
 },
 "nbformat": 4,
 "nbformat_minor": 5
}
