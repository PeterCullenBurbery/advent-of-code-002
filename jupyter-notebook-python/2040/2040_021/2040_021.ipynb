{
 "cells": [
  {
   "cell_type": "markdown",
   "id": "680ee4df",
   "metadata": {},
   "source": [
    "# Advent of Code"
   ]
  },
  {
   "cell_type": "markdown",
   "id": "cab59a46",
   "metadata": {},
   "source": [
    "## 2040-012-021\n",
    "## 2040 021"
   ]
  },
  {
   "cell_type": "markdown",
   "id": "9198f6cb",
   "metadata": {},
   "source": [
    "https://adventofcode.com/2040/day/21"
   ]
  },
  {
   "cell_type": "code",
   "execution_count": null,
   "id": "44293f2b",
   "metadata": {},
   "outputs": [],
   "source": []
  }
 ],
 "metadata": {},
 "nbformat": 4,
 "nbformat_minor": 5
}
