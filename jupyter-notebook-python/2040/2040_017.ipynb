{
 "cells": [
  {
   "cell_type": "markdown",
   "id": "6df48493",
   "metadata": {},
   "source": [
    "# Advent of Code"
   ]
  },
  {
   "cell_type": "markdown",
   "id": "596de03e",
   "metadata": {},
   "source": [
    "## 2040-012-017\n",
    "## 2040 017"
   ]
  },
  {
   "cell_type": "markdown",
   "id": "f6b6e618",
   "metadata": {},
   "source": [
    "https://adventofcode.com/2040/day/17"
   ]
  },
  {
   "cell_type": "code",
   "execution_count": null,
   "id": "1ac8038b",
   "metadata": {},
   "outputs": [],
   "source": []
  }
 ],
 "metadata": {
  "kernelspec": {
   "display_name": "Python 3 (ipykernel)",
   "language": "python",
   "name": "python3"
  },
  "language_info": {
   "name": "python",
   "version": "3.12.3"
  }
 },
 "nbformat": 4,
 "nbformat_minor": 5
}
