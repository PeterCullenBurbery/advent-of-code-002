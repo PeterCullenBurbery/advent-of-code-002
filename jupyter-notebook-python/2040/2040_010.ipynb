{
 "cells": [
  {
   "cell_type": "markdown",
   "id": "f1b57437",
   "metadata": {},
   "source": [
    "# Advent of Code"
   ]
  },
  {
   "cell_type": "markdown",
   "id": "445dd06a",
   "metadata": {},
   "source": [
    "## 2040-012-010\n",
    "## 2040 010"
   ]
  },
  {
   "cell_type": "markdown",
   "id": "8357b215",
   "metadata": {},
   "source": [
    "https://adventofcode.com/2040/day/10"
   ]
  },
  {
   "cell_type": "code",
   "execution_count": null,
   "id": "1e41397b",
   "metadata": {},
   "outputs": [],
   "source": []
  }
 ],
 "metadata": {
  "kernelspec": {
   "display_name": "Python 3 (ipykernel)",
   "language": "python",
   "name": "python3"
  },
  "language_info": {
   "name": "python",
   "version": "3.12.3"
  }
 },
 "nbformat": 4,
 "nbformat_minor": 5
}
