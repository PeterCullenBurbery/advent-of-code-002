{
 "cells": [
  {
   "cell_type": "markdown",
   "id": "289fe2e6",
   "metadata": {},
   "source": [
    "# Advent of Code"
   ]
  },
  {
   "cell_type": "markdown",
   "id": "31c62583",
   "metadata": {},
   "source": [
    "## 2040-012-022\n",
    "## 2040 022"
   ]
  },
  {
   "cell_type": "markdown",
   "id": "a326597e",
   "metadata": {},
   "source": [
    "https://adventofcode.com/2040/day/22"
   ]
  },
  {
   "cell_type": "code",
   "execution_count": null,
   "id": "15fae13a",
   "metadata": {},
   "outputs": [],
   "source": []
  }
 ],
 "metadata": {
  "kernelspec": {
   "display_name": "Python 3 (ipykernel)",
   "language": "python",
   "name": "python3"
  },
  "language_info": {
   "name": "python",
   "version": "3.12.3"
  }
 },
 "nbformat": 4,
 "nbformat_minor": 5
}
