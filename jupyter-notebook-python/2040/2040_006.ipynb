{
 "cells": [
  {
   "cell_type": "markdown",
   "id": "9aa8fc2a",
   "metadata": {},
   "source": [
    "# Advent of Code"
   ]
  },
  {
   "cell_type": "markdown",
   "id": "e22ec27f",
   "metadata": {},
   "source": [
    "## 2040-012-006\n",
    "## 2040 006"
   ]
  },
  {
   "cell_type": "markdown",
   "id": "0edbd02d",
   "metadata": {},
   "source": [
    "https://adventofcode.com/2040/day/6"
   ]
  },
  {
   "cell_type": "code",
   "execution_count": null,
   "id": "6f3582af",
   "metadata": {},
   "outputs": [],
   "source": []
  }
 ],
 "metadata": {
  "kernelspec": {
   "display_name": "Python 3 (ipykernel)",
   "language": "python",
   "name": "python3"
  },
  "language_info": {
   "name": "python",
   "version": "3.12.3"
  }
 },
 "nbformat": 4,
 "nbformat_minor": 5
}
