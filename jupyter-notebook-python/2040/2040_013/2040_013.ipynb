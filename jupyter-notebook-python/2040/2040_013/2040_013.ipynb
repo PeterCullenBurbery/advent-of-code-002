{
 "cells": [
  {
   "cell_type": "markdown",
   "id": "e86b5f8b",
   "metadata": {},
   "source": [
    "# Advent of Code"
   ]
  },
  {
   "cell_type": "markdown",
   "id": "51b8a987",
   "metadata": {},
   "source": [
    "## 2040-012-013\n",
    "## 2040 013"
   ]
  },
  {
   "cell_type": "markdown",
   "id": "a34f149d",
   "metadata": {},
   "source": [
    "https://adventofcode.com/2040/day/13"
   ]
  },
  {
   "cell_type": "code",
   "execution_count": null,
   "id": "2bab47fa",
   "metadata": {},
   "outputs": [],
   "source": []
  }
 ],
 "metadata": {},
 "nbformat": 4,
 "nbformat_minor": 5
}
