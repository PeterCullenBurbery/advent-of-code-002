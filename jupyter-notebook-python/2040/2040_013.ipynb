{
 "cells": [
  {
   "cell_type": "markdown",
   "id": "0b9f1202",
   "metadata": {},
   "source": [
    "# Advent of Code"
   ]
  },
  {
   "cell_type": "markdown",
   "id": "721b55e2",
   "metadata": {},
   "source": [
    "## 2040-012-013\n",
    "## 2040 013"
   ]
  },
  {
   "cell_type": "markdown",
   "id": "a1da2e9e",
   "metadata": {},
   "source": [
    "https://adventofcode.com/2040/day/13"
   ]
  },
  {
   "cell_type": "code",
   "execution_count": null,
   "id": "e717bad9",
   "metadata": {},
   "outputs": [],
   "source": []
  }
 ],
 "metadata": {
  "kernelspec": {
   "display_name": "Python 3 (ipykernel)",
   "language": "python",
   "name": "python3"
  },
  "language_info": {
   "name": "python",
   "version": "3.12.3"
  }
 },
 "nbformat": 4,
 "nbformat_minor": 5
}
