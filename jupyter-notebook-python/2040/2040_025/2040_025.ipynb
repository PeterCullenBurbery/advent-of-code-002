{
 "cells": [
  {
   "cell_type": "markdown",
   "id": "5140e54e",
   "metadata": {},
   "source": [
    "# Advent of Code"
   ]
  },
  {
   "cell_type": "markdown",
   "id": "276ebc5b",
   "metadata": {},
   "source": [
    "## 2040-012-025\n",
    "## 2040 025"
   ]
  },
  {
   "cell_type": "markdown",
   "id": "5de6d1dd",
   "metadata": {},
   "source": [
    "https://adventofcode.com/2040/day/25"
   ]
  },
  {
   "cell_type": "code",
   "execution_count": null,
   "id": "c04fbbae",
   "metadata": {},
   "outputs": [],
   "source": []
  }
 ],
 "metadata": {},
 "nbformat": 4,
 "nbformat_minor": 5
}
