{
 "cells": [
  {
   "cell_type": "markdown",
   "id": "cab2054a",
   "metadata": {},
   "source": [
    "# Advent of Code"
   ]
  },
  {
   "cell_type": "markdown",
   "id": "a2e0da7e",
   "metadata": {},
   "source": [
    "## 2040-012-009\n",
    "## 2040 009"
   ]
  },
  {
   "cell_type": "markdown",
   "id": "bfaccc29",
   "metadata": {},
   "source": [
    "https://adventofcode.com/2040/day/9"
   ]
  },
  {
   "cell_type": "code",
   "execution_count": null,
   "id": "11fbf9f8",
   "metadata": {},
   "outputs": [],
   "source": []
  }
 ],
 "metadata": {},
 "nbformat": 4,
 "nbformat_minor": 5
}
