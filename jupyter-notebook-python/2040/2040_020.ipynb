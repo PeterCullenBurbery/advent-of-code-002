{
 "cells": [
  {
   "cell_type": "markdown",
   "id": "ea343398",
   "metadata": {},
   "source": [
    "# Advent of Code"
   ]
  },
  {
   "cell_type": "markdown",
   "id": "501e79d5",
   "metadata": {},
   "source": [
    "## 2040-012-020\n",
    "## 2040 020"
   ]
  },
  {
   "cell_type": "markdown",
   "id": "001380c7",
   "metadata": {},
   "source": [
    "https://adventofcode.com/2040/day/20"
   ]
  },
  {
   "cell_type": "code",
   "execution_count": null,
   "id": "98cfab0d",
   "metadata": {},
   "outputs": [],
   "source": []
  }
 ],
 "metadata": {
  "kernelspec": {
   "display_name": "Python 3 (ipykernel)",
   "language": "python",
   "name": "python3"
  },
  "language_info": {
   "name": "python",
   "version": "3.12.3"
  }
 },
 "nbformat": 4,
 "nbformat_minor": 5
}
