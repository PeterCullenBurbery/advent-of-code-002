{
 "cells": [
  {
   "cell_type": "markdown",
   "id": "d6eb3ad0",
   "metadata": {},
   "source": [
    "# Advent of Code"
   ]
  },
  {
   "cell_type": "markdown",
   "id": "f6026005",
   "metadata": {},
   "source": [
    "## 2040-012-017\n",
    "## 2040 017"
   ]
  },
  {
   "cell_type": "markdown",
   "id": "eeeff9b6",
   "metadata": {},
   "source": [
    "https://adventofcode.com/2040/day/17"
   ]
  },
  {
   "cell_type": "code",
   "execution_count": null,
   "id": "2a976699",
   "metadata": {},
   "outputs": [],
   "source": []
  }
 ],
 "metadata": {},
 "nbformat": 4,
 "nbformat_minor": 5
}
