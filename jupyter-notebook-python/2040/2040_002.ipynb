{
 "cells": [
  {
   "cell_type": "markdown",
   "id": "9a39a6e1",
   "metadata": {},
   "source": [
    "# Advent of Code"
   ]
  },
  {
   "cell_type": "markdown",
   "id": "08bc824c",
   "metadata": {},
   "source": [
    "## 2040-012-002\n",
    "## 2040 002"
   ]
  },
  {
   "cell_type": "markdown",
   "id": "3f295e0b",
   "metadata": {},
   "source": [
    "https://adventofcode.com/2040/day/2"
   ]
  },
  {
   "cell_type": "code",
   "execution_count": null,
   "id": "4ba01b8e",
   "metadata": {},
   "outputs": [],
   "source": []
  }
 ],
 "metadata": {
  "kernelspec": {
   "display_name": "Python 3 (ipykernel)",
   "language": "python",
   "name": "python3"
  },
  "language_info": {
   "name": "python",
   "version": "3.12.3"
  }
 },
 "nbformat": 4,
 "nbformat_minor": 5
}
