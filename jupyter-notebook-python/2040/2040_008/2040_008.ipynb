{
 "cells": [
  {
   "cell_type": "markdown",
   "id": "0aab0c1c",
   "metadata": {},
   "source": [
    "# Advent of Code"
   ]
  },
  {
   "cell_type": "markdown",
   "id": "26bca966",
   "metadata": {},
   "source": [
    "## 2040-012-008\n",
    "## 2040 008"
   ]
  },
  {
   "cell_type": "markdown",
   "id": "4f325913",
   "metadata": {},
   "source": [
    "https://adventofcode.com/2040/day/8"
   ]
  },
  {
   "cell_type": "code",
   "execution_count": null,
   "id": "58f2d189",
   "metadata": {},
   "outputs": [],
   "source": []
  }
 ],
 "metadata": {},
 "nbformat": 4,
 "nbformat_minor": 5
}
