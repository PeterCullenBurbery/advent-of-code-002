{
 "cells": [
  {
   "cell_type": "markdown",
   "id": "53dd4267",
   "metadata": {},
   "source": [
    "# Advent of Code"
   ]
  },
  {
   "cell_type": "markdown",
   "id": "2d4bbc07",
   "metadata": {},
   "source": [
    "## 2040-012-008\n",
    "## 2040 008"
   ]
  },
  {
   "cell_type": "markdown",
   "id": "5620d50d",
   "metadata": {},
   "source": [
    "https://adventofcode.com/2040/day/8"
   ]
  },
  {
   "cell_type": "code",
   "execution_count": null,
   "id": "35c897e3",
   "metadata": {},
   "outputs": [],
   "source": []
  }
 ],
 "metadata": {
  "kernelspec": {
   "display_name": "Python 3 (ipykernel)",
   "language": "python",
   "name": "python3"
  },
  "language_info": {
   "name": "python",
   "version": "3.12.3"
  }
 },
 "nbformat": 4,
 "nbformat_minor": 5
}
