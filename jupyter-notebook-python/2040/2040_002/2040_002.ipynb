{
 "cells": [
  {
   "cell_type": "markdown",
   "id": "cdde3ba1",
   "metadata": {},
   "source": [
    "# Advent of Code"
   ]
  },
  {
   "cell_type": "markdown",
   "id": "7337323e",
   "metadata": {},
   "source": [
    "## 2040-012-002\n",
    "## 2040 002"
   ]
  },
  {
   "cell_type": "markdown",
   "id": "41971fbf",
   "metadata": {},
   "source": [
    "https://adventofcode.com/2040/day/2"
   ]
  },
  {
   "cell_type": "code",
   "execution_count": null,
   "id": "378f14c2",
   "metadata": {},
   "outputs": [],
   "source": []
  }
 ],
 "metadata": {},
 "nbformat": 4,
 "nbformat_minor": 5
}
