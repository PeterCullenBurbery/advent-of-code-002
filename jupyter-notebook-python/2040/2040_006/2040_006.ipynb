{
 "cells": [
  {
   "cell_type": "markdown",
   "id": "4900ff96",
   "metadata": {},
   "source": [
    "# Advent of Code"
   ]
  },
  {
   "cell_type": "markdown",
   "id": "ae9a7a42",
   "metadata": {},
   "source": [
    "## 2040-012-006\n",
    "## 2040 006"
   ]
  },
  {
   "cell_type": "markdown",
   "id": "02266c2f",
   "metadata": {},
   "source": [
    "https://adventofcode.com/2040/day/6"
   ]
  },
  {
   "cell_type": "code",
   "execution_count": null,
   "id": "0758fa76",
   "metadata": {},
   "outputs": [],
   "source": []
  }
 ],
 "metadata": {},
 "nbformat": 4,
 "nbformat_minor": 5
}
