{
 "cells": [
  {
   "cell_type": "markdown",
   "id": "066c206e",
   "metadata": {},
   "source": [
    "# Advent of Code"
   ]
  },
  {
   "cell_type": "markdown",
   "id": "f6454c74",
   "metadata": {},
   "source": [
    "## 2040-012-014\n",
    "## 2040 014"
   ]
  },
  {
   "cell_type": "markdown",
   "id": "ffa03fd4",
   "metadata": {},
   "source": [
    "https://adventofcode.com/2040/day/14"
   ]
  },
  {
   "cell_type": "code",
   "execution_count": null,
   "id": "ca27397b",
   "metadata": {},
   "outputs": [],
   "source": []
  }
 ],
 "metadata": {
  "kernelspec": {
   "display_name": "Python 3 (ipykernel)",
   "language": "python",
   "name": "python3"
  },
  "language_info": {
   "name": "python",
   "version": "3.12.3"
  }
 },
 "nbformat": 4,
 "nbformat_minor": 5
}
