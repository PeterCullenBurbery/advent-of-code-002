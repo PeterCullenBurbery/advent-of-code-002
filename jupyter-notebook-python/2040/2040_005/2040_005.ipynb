{
 "cells": [
  {
   "cell_type": "markdown",
   "id": "3fa15d00",
   "metadata": {},
   "source": [
    "# Advent of Code"
   ]
  },
  {
   "cell_type": "markdown",
   "id": "0d90a9f3",
   "metadata": {},
   "source": [
    "## 2040-012-005\n",
    "## 2040 005"
   ]
  },
  {
   "cell_type": "markdown",
   "id": "f12976ce",
   "metadata": {},
   "source": [
    "https://adventofcode.com/2040/day/5"
   ]
  },
  {
   "cell_type": "code",
   "execution_count": null,
   "id": "3745db46",
   "metadata": {},
   "outputs": [],
   "source": []
  }
 ],
 "metadata": {},
 "nbformat": 4,
 "nbformat_minor": 5
}
