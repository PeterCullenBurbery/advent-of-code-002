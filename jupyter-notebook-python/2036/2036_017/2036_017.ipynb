{
 "cells": [
  {
   "cell_type": "markdown",
   "id": "0d2eb72c",
   "metadata": {},
   "source": [
    "# Advent of Code"
   ]
  },
  {
   "cell_type": "markdown",
   "id": "05925ab0",
   "metadata": {},
   "source": [
    "## 2036-012-017\n",
    "## 2036 017"
   ]
  },
  {
   "cell_type": "markdown",
   "id": "fb21c2e7",
   "metadata": {},
   "source": [
    "https://adventofcode.com/2036/day/17"
   ]
  },
  {
   "cell_type": "code",
   "execution_count": null,
   "id": "b8a3eb40",
   "metadata": {},
   "outputs": [],
   "source": []
  }
 ],
 "metadata": {},
 "nbformat": 4,
 "nbformat_minor": 5
}
