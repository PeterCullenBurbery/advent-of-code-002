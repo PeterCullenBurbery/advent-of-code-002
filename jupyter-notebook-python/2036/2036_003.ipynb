{
 "cells": [
  {
   "cell_type": "markdown",
   "id": "90d77a31",
   "metadata": {},
   "source": [
    "# Advent of Code"
   ]
  },
  {
   "cell_type": "markdown",
   "id": "882c6321",
   "metadata": {},
   "source": [
    "## 2036-012-003\n",
    "## 2036 003"
   ]
  },
  {
   "cell_type": "markdown",
   "id": "34df87df",
   "metadata": {},
   "source": [
    "https://adventofcode.com/2036/day/3"
   ]
  },
  {
   "cell_type": "code",
   "execution_count": null,
   "id": "f0075fd7",
   "metadata": {},
   "outputs": [],
   "source": []
  }
 ],
 "metadata": {
  "kernelspec": {
   "display_name": "Python 3 (ipykernel)",
   "language": "python",
   "name": "python3"
  },
  "language_info": {
   "name": "python",
   "version": "3.12.3"
  }
 },
 "nbformat": 4,
 "nbformat_minor": 5
}
