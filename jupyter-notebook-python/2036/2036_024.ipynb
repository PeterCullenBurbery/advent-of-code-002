{
 "cells": [
  {
   "cell_type": "markdown",
   "id": "f0980f8c",
   "metadata": {},
   "source": [
    "# Advent of Code"
   ]
  },
  {
   "cell_type": "markdown",
   "id": "cc7512b5",
   "metadata": {},
   "source": [
    "## 2036-012-024\n",
    "## 2036 024"
   ]
  },
  {
   "cell_type": "markdown",
   "id": "fff1470c",
   "metadata": {},
   "source": [
    "https://adventofcode.com/2036/day/24"
   ]
  },
  {
   "cell_type": "code",
   "execution_count": null,
   "id": "81b70279",
   "metadata": {},
   "outputs": [],
   "source": []
  }
 ],
 "metadata": {
  "kernelspec": {
   "display_name": "Python 3 (ipykernel)",
   "language": "python",
   "name": "python3"
  },
  "language_info": {
   "name": "python",
   "version": "3.12.3"
  }
 },
 "nbformat": 4,
 "nbformat_minor": 5
}
