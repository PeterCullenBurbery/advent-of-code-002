{
 "cells": [
  {
   "cell_type": "markdown",
   "id": "a74af8ac",
   "metadata": {},
   "source": [
    "# Advent of Code"
   ]
  },
  {
   "cell_type": "markdown",
   "id": "8ea121de",
   "metadata": {},
   "source": [
    "## 2036-012-021\n",
    "## 2036 021"
   ]
  },
  {
   "cell_type": "markdown",
   "id": "c58e3db3",
   "metadata": {},
   "source": [
    "https://adventofcode.com/2036/day/21"
   ]
  },
  {
   "cell_type": "code",
   "execution_count": null,
   "id": "049d416e",
   "metadata": {},
   "outputs": [],
   "source": []
  }
 ],
 "metadata": {
  "kernelspec": {
   "display_name": "Python 3 (ipykernel)",
   "language": "python",
   "name": "python3"
  },
  "language_info": {
   "name": "python",
   "version": "3.12.3"
  }
 },
 "nbformat": 4,
 "nbformat_minor": 5
}
