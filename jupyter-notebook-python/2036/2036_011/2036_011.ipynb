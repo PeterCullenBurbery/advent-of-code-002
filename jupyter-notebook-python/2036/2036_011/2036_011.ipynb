{
 "cells": [
  {
   "cell_type": "markdown",
   "id": "792c7a67",
   "metadata": {},
   "source": [
    "# Advent of Code"
   ]
  },
  {
   "cell_type": "markdown",
   "id": "78f0c19c",
   "metadata": {},
   "source": [
    "## 2036-012-011\n",
    "## 2036 011"
   ]
  },
  {
   "cell_type": "markdown",
   "id": "b75fb8ee",
   "metadata": {},
   "source": [
    "https://adventofcode.com/2036/day/11"
   ]
  },
  {
   "cell_type": "code",
   "execution_count": null,
   "id": "b8c4fd2f",
   "metadata": {},
   "outputs": [],
   "source": []
  }
 ],
 "metadata": {},
 "nbformat": 4,
 "nbformat_minor": 5
}
