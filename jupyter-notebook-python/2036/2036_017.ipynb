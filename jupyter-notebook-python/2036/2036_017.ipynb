{
 "cells": [
  {
   "cell_type": "markdown",
   "id": "6e4d3287",
   "metadata": {},
   "source": [
    "# Advent of Code"
   ]
  },
  {
   "cell_type": "markdown",
   "id": "014f4332",
   "metadata": {},
   "source": [
    "## 2036-012-017\n",
    "## 2036 017"
   ]
  },
  {
   "cell_type": "markdown",
   "id": "3f33ed0d",
   "metadata": {},
   "source": [
    "https://adventofcode.com/2036/day/17"
   ]
  },
  {
   "cell_type": "code",
   "execution_count": null,
   "id": "391f4f09",
   "metadata": {},
   "outputs": [],
   "source": []
  }
 ],
 "metadata": {
  "kernelspec": {
   "display_name": "Python 3 (ipykernel)",
   "language": "python",
   "name": "python3"
  },
  "language_info": {
   "name": "python",
   "version": "3.12.3"
  }
 },
 "nbformat": 4,
 "nbformat_minor": 5
}
