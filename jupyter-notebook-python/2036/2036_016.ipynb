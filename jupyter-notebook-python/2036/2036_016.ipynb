{
 "cells": [
  {
   "cell_type": "markdown",
   "id": "1dee4666",
   "metadata": {},
   "source": [
    "# Advent of Code"
   ]
  },
  {
   "cell_type": "markdown",
   "id": "023c4681",
   "metadata": {},
   "source": [
    "## 2036-012-016\n",
    "## 2036 016"
   ]
  },
  {
   "cell_type": "markdown",
   "id": "2f36626e",
   "metadata": {},
   "source": [
    "https://adventofcode.com/2036/day/16"
   ]
  },
  {
   "cell_type": "code",
   "execution_count": null,
   "id": "06138d11",
   "metadata": {},
   "outputs": [],
   "source": []
  }
 ],
 "metadata": {
  "kernelspec": {
   "display_name": "Python 3 (ipykernel)",
   "language": "python",
   "name": "python3"
  },
  "language_info": {
   "name": "python",
   "version": "3.12.3"
  }
 },
 "nbformat": 4,
 "nbformat_minor": 5
}
