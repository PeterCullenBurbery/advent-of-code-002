{
 "cells": [
  {
   "cell_type": "markdown",
   "id": "d2f065cc",
   "metadata": {},
   "source": [
    "# Advent of Code"
   ]
  },
  {
   "cell_type": "markdown",
   "id": "628c7af4",
   "metadata": {},
   "source": [
    "## 2036-012-001\n",
    "## 2036 001"
   ]
  },
  {
   "cell_type": "markdown",
   "id": "8829c604",
   "metadata": {},
   "source": [
    "https://adventofcode.com/2036/day/1"
   ]
  },
  {
   "cell_type": "code",
   "execution_count": null,
   "id": "feb302f4",
   "metadata": {},
   "outputs": [],
   "source": []
  }
 ],
 "metadata": {
  "kernelspec": {
   "display_name": "Python 3 (ipykernel)",
   "language": "python",
   "name": "python3"
  },
  "language_info": {
   "name": "python",
   "version": "3.12.3"
  }
 },
 "nbformat": 4,
 "nbformat_minor": 5
}
