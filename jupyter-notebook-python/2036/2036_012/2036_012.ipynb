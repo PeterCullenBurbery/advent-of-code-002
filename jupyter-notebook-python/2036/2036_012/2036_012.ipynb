{
 "cells": [
  {
   "cell_type": "markdown",
   "id": "bc16638a",
   "metadata": {},
   "source": [
    "# Advent of Code"
   ]
  },
  {
   "cell_type": "markdown",
   "id": "04bb8176",
   "metadata": {},
   "source": [
    "## 2036-012-012\n",
    "## 2036 012"
   ]
  },
  {
   "cell_type": "markdown",
   "id": "8746b7e3",
   "metadata": {},
   "source": [
    "https://adventofcode.com/2036/day/12"
   ]
  },
  {
   "cell_type": "code",
   "execution_count": null,
   "id": "67e4786b",
   "metadata": {},
   "outputs": [],
   "source": []
  }
 ],
 "metadata": {},
 "nbformat": 4,
 "nbformat_minor": 5
}
