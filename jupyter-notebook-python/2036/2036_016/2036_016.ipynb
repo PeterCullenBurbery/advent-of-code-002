{
 "cells": [
  {
   "cell_type": "markdown",
   "id": "6d1d3424",
   "metadata": {},
   "source": [
    "# Advent of Code"
   ]
  },
  {
   "cell_type": "markdown",
   "id": "16e836b8",
   "metadata": {},
   "source": [
    "## 2036-012-016\n",
    "## 2036 016"
   ]
  },
  {
   "cell_type": "markdown",
   "id": "7b65b7da",
   "metadata": {},
   "source": [
    "https://adventofcode.com/2036/day/16"
   ]
  },
  {
   "cell_type": "code",
   "execution_count": null,
   "id": "70e63258",
   "metadata": {},
   "outputs": [],
   "source": []
  }
 ],
 "metadata": {},
 "nbformat": 4,
 "nbformat_minor": 5
}
