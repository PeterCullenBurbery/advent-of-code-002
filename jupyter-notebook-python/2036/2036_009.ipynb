{
 "cells": [
  {
   "cell_type": "markdown",
   "id": "7a6dabcb",
   "metadata": {},
   "source": [
    "# Advent of Code"
   ]
  },
  {
   "cell_type": "markdown",
   "id": "62abecf8",
   "metadata": {},
   "source": [
    "## 2036-012-009\n",
    "## 2036 009"
   ]
  },
  {
   "cell_type": "markdown",
   "id": "0622f066",
   "metadata": {},
   "source": [
    "https://adventofcode.com/2036/day/9"
   ]
  },
  {
   "cell_type": "code",
   "execution_count": null,
   "id": "2444cf96",
   "metadata": {},
   "outputs": [],
   "source": []
  }
 ],
 "metadata": {
  "kernelspec": {
   "display_name": "Python 3 (ipykernel)",
   "language": "python",
   "name": "python3"
  },
  "language_info": {
   "name": "python",
   "version": "3.12.3"
  }
 },
 "nbformat": 4,
 "nbformat_minor": 5
}
