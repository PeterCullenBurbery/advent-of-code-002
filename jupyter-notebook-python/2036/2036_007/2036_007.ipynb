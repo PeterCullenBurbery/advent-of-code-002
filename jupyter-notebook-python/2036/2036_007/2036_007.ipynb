{
 "cells": [
  {
   "cell_type": "markdown",
   "id": "1d0ff514",
   "metadata": {},
   "source": [
    "# Advent of Code"
   ]
  },
  {
   "cell_type": "markdown",
   "id": "46fa9ee8",
   "metadata": {},
   "source": [
    "## 2036-012-007\n",
    "## 2036 007"
   ]
  },
  {
   "cell_type": "markdown",
   "id": "13492e60",
   "metadata": {},
   "source": [
    "https://adventofcode.com/2036/day/7"
   ]
  },
  {
   "cell_type": "code",
   "execution_count": null,
   "id": "ec028134",
   "metadata": {},
   "outputs": [],
   "source": []
  }
 ],
 "metadata": {},
 "nbformat": 4,
 "nbformat_minor": 5
}
