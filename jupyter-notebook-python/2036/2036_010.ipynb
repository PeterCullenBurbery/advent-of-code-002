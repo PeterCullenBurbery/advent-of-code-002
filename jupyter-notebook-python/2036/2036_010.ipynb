{
 "cells": [
  {
   "cell_type": "markdown",
   "id": "1a68e29d",
   "metadata": {},
   "source": [
    "# Advent of Code"
   ]
  },
  {
   "cell_type": "markdown",
   "id": "2ec9a4a5",
   "metadata": {},
   "source": [
    "## 2036-012-010\n",
    "## 2036 010"
   ]
  },
  {
   "cell_type": "markdown",
   "id": "776c12f6",
   "metadata": {},
   "source": [
    "https://adventofcode.com/2036/day/10"
   ]
  },
  {
   "cell_type": "code",
   "execution_count": null,
   "id": "92c0f3bf",
   "metadata": {},
   "outputs": [],
   "source": []
  }
 ],
 "metadata": {
  "kernelspec": {
   "display_name": "Python 3 (ipykernel)",
   "language": "python",
   "name": "python3"
  },
  "language_info": {
   "name": "python",
   "version": "3.12.3"
  }
 },
 "nbformat": 4,
 "nbformat_minor": 5
}
