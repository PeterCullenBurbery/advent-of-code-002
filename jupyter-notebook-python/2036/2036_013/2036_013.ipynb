{
 "cells": [
  {
   "cell_type": "markdown",
   "id": "b8e4ea90",
   "metadata": {},
   "source": [
    "# Advent of Code"
   ]
  },
  {
   "cell_type": "markdown",
   "id": "c0204ad9",
   "metadata": {},
   "source": [
    "## 2036-012-013\n",
    "## 2036 013"
   ]
  },
  {
   "cell_type": "markdown",
   "id": "4ef02584",
   "metadata": {},
   "source": [
    "https://adventofcode.com/2036/day/13"
   ]
  },
  {
   "cell_type": "code",
   "execution_count": null,
   "id": "102ac575",
   "metadata": {},
   "outputs": [],
   "source": []
  }
 ],
 "metadata": {},
 "nbformat": 4,
 "nbformat_minor": 5
}
