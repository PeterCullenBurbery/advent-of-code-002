{
 "cells": [
  {
   "cell_type": "markdown",
   "id": "26c069b1",
   "metadata": {},
   "source": [
    "# Advent of Code"
   ]
  },
  {
   "cell_type": "markdown",
   "id": "46f567e3",
   "metadata": {},
   "source": [
    "## 2036-012-008\n",
    "## 2036 008"
   ]
  },
  {
   "cell_type": "markdown",
   "id": "0459da34",
   "metadata": {},
   "source": [
    "https://adventofcode.com/2036/day/8"
   ]
  },
  {
   "cell_type": "code",
   "execution_count": null,
   "id": "c9ad72cf",
   "metadata": {},
   "outputs": [],
   "source": []
  }
 ],
 "metadata": {},
 "nbformat": 4,
 "nbformat_minor": 5
}
