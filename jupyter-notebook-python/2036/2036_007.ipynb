{
 "cells": [
  {
   "cell_type": "markdown",
   "id": "21db0e7f",
   "metadata": {},
   "source": [
    "# Advent of Code"
   ]
  },
  {
   "cell_type": "markdown",
   "id": "83f9044d",
   "metadata": {},
   "source": [
    "## 2036-012-007\n",
    "## 2036 007"
   ]
  },
  {
   "cell_type": "markdown",
   "id": "e5ee5271",
   "metadata": {},
   "source": [
    "https://adventofcode.com/2036/day/7"
   ]
  },
  {
   "cell_type": "code",
   "execution_count": null,
   "id": "3cb617fa",
   "metadata": {},
   "outputs": [],
   "source": []
  }
 ],
 "metadata": {
  "kernelspec": {
   "display_name": "Python 3 (ipykernel)",
   "language": "python",
   "name": "python3"
  },
  "language_info": {
   "name": "python",
   "version": "3.12.3"
  }
 },
 "nbformat": 4,
 "nbformat_minor": 5
}
