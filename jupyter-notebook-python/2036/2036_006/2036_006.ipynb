{
 "cells": [
  {
   "cell_type": "markdown",
   "id": "62f68711",
   "metadata": {},
   "source": [
    "# Advent of Code"
   ]
  },
  {
   "cell_type": "markdown",
   "id": "a491b241",
   "metadata": {},
   "source": [
    "## 2036-012-006\n",
    "## 2036 006"
   ]
  },
  {
   "cell_type": "markdown",
   "id": "485717e4",
   "metadata": {},
   "source": [
    "https://adventofcode.com/2036/day/6"
   ]
  },
  {
   "cell_type": "code",
   "execution_count": null,
   "id": "641d11d9",
   "metadata": {},
   "outputs": [],
   "source": []
  }
 ],
 "metadata": {},
 "nbformat": 4,
 "nbformat_minor": 5
}
