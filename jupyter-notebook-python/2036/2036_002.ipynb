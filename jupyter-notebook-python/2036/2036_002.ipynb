{
 "cells": [
  {
   "cell_type": "markdown",
   "id": "c3406fbd",
   "metadata": {},
   "source": [
    "# Advent of Code"
   ]
  },
  {
   "cell_type": "markdown",
   "id": "05a0df62",
   "metadata": {},
   "source": [
    "## 2036-012-002\n",
    "## 2036 002"
   ]
  },
  {
   "cell_type": "markdown",
   "id": "8b7096cb",
   "metadata": {},
   "source": [
    "https://adventofcode.com/2036/day/2"
   ]
  },
  {
   "cell_type": "code",
   "execution_count": null,
   "id": "8aaa65f5",
   "metadata": {},
   "outputs": [],
   "source": []
  }
 ],
 "metadata": {
  "kernelspec": {
   "display_name": "Python 3 (ipykernel)",
   "language": "python",
   "name": "python3"
  },
  "language_info": {
   "name": "python",
   "version": "3.12.3"
  }
 },
 "nbformat": 4,
 "nbformat_minor": 5
}
