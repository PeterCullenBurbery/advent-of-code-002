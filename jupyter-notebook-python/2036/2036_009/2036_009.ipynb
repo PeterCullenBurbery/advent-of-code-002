{
 "cells": [
  {
   "cell_type": "markdown",
   "id": "724cfd12",
   "metadata": {},
   "source": [
    "# Advent of Code"
   ]
  },
  {
   "cell_type": "markdown",
   "id": "4b0e1d15",
   "metadata": {},
   "source": [
    "## 2036-012-009\n",
    "## 2036 009"
   ]
  },
  {
   "cell_type": "markdown",
   "id": "69597be8",
   "metadata": {},
   "source": [
    "https://adventofcode.com/2036/day/9"
   ]
  },
  {
   "cell_type": "code",
   "execution_count": null,
   "id": "c2004cab",
   "metadata": {},
   "outputs": [],
   "source": []
  }
 ],
 "metadata": {},
 "nbformat": 4,
 "nbformat_minor": 5
}
