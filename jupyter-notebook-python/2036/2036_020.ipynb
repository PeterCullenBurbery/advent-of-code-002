{
 "cells": [
  {
   "cell_type": "markdown",
   "id": "62962758",
   "metadata": {},
   "source": [
    "# Advent of Code"
   ]
  },
  {
   "cell_type": "markdown",
   "id": "a83f1726",
   "metadata": {},
   "source": [
    "## 2036-012-020\n",
    "## 2036 020"
   ]
  },
  {
   "cell_type": "markdown",
   "id": "21a08795",
   "metadata": {},
   "source": [
    "https://adventofcode.com/2036/day/20"
   ]
  },
  {
   "cell_type": "code",
   "execution_count": null,
   "id": "3697458c",
   "metadata": {},
   "outputs": [],
   "source": []
  }
 ],
 "metadata": {
  "kernelspec": {
   "display_name": "Python 3 (ipykernel)",
   "language": "python",
   "name": "python3"
  },
  "language_info": {
   "name": "python",
   "version": "3.12.3"
  }
 },
 "nbformat": 4,
 "nbformat_minor": 5
}
