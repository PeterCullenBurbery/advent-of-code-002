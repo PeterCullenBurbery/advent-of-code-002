{
 "cells": [
  {
   "cell_type": "markdown",
   "id": "3f5ebc58",
   "metadata": {},
   "source": [
    "# Advent of Code"
   ]
  },
  {
   "cell_type": "markdown",
   "id": "58caa122",
   "metadata": {},
   "source": [
    "## 2036-012-014\n",
    "## 2036 014"
   ]
  },
  {
   "cell_type": "markdown",
   "id": "2a201fe5",
   "metadata": {},
   "source": [
    "https://adventofcode.com/2036/day/14"
   ]
  },
  {
   "cell_type": "code",
   "execution_count": null,
   "id": "21293d5b",
   "metadata": {},
   "outputs": [],
   "source": []
  }
 ],
 "metadata": {
  "kernelspec": {
   "display_name": "Python 3 (ipykernel)",
   "language": "python",
   "name": "python3"
  },
  "language_info": {
   "name": "python",
   "version": "3.12.3"
  }
 },
 "nbformat": 4,
 "nbformat_minor": 5
}
