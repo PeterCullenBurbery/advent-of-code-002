{
 "cells": [
  {
   "cell_type": "markdown",
   "id": "a3ad2e5d",
   "metadata": {},
   "source": [
    "# Advent of Code"
   ]
  },
  {
   "cell_type": "markdown",
   "id": "ccef68a5",
   "metadata": {},
   "source": [
    "## 2036-012-020\n",
    "## 2036 020"
   ]
  },
  {
   "cell_type": "markdown",
   "id": "357d1f87",
   "metadata": {},
   "source": [
    "https://adventofcode.com/2036/day/20"
   ]
  },
  {
   "cell_type": "code",
   "execution_count": null,
   "id": "698f4375",
   "metadata": {},
   "outputs": [],
   "source": []
  }
 ],
 "metadata": {},
 "nbformat": 4,
 "nbformat_minor": 5
}
