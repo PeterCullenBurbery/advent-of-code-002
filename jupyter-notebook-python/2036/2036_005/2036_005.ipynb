{
 "cells": [
  {
   "cell_type": "markdown",
   "id": "3dfe14ce",
   "metadata": {},
   "source": [
    "# Advent of Code"
   ]
  },
  {
   "cell_type": "markdown",
   "id": "fa8c2054",
   "metadata": {},
   "source": [
    "## 2036-012-005\n",
    "## 2036 005"
   ]
  },
  {
   "cell_type": "markdown",
   "id": "50599f4d",
   "metadata": {},
   "source": [
    "https://adventofcode.com/2036/day/5"
   ]
  },
  {
   "cell_type": "code",
   "execution_count": null,
   "id": "7945ebc4",
   "metadata": {},
   "outputs": [],
   "source": []
  }
 ],
 "metadata": {},
 "nbformat": 4,
 "nbformat_minor": 5
}
