{
 "cells": [
  {
   "cell_type": "markdown",
   "id": "c71bb469",
   "metadata": {},
   "source": [
    "# Advent of Code"
   ]
  },
  {
   "cell_type": "markdown",
   "id": "5558325b",
   "metadata": {},
   "source": [
    "## 2036-012-014\n",
    "## 2036 014"
   ]
  },
  {
   "cell_type": "markdown",
   "id": "fdc9056f",
   "metadata": {},
   "source": [
    "https://adventofcode.com/2036/day/14"
   ]
  },
  {
   "cell_type": "code",
   "execution_count": null,
   "id": "163f7c45",
   "metadata": {},
   "outputs": [],
   "source": []
  }
 ],
 "metadata": {},
 "nbformat": 4,
 "nbformat_minor": 5
}
