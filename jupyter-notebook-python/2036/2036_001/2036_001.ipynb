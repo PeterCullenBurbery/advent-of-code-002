{
 "cells": [
  {
   "cell_type": "markdown",
   "id": "342929cf",
   "metadata": {},
   "source": [
    "# Advent of Code"
   ]
  },
  {
   "cell_type": "markdown",
   "id": "18608b75",
   "metadata": {},
   "source": [
    "## 2036-012-001\n",
    "## 2036 001"
   ]
  },
  {
   "cell_type": "markdown",
   "id": "2fa1b4ad",
   "metadata": {},
   "source": [
    "https://adventofcode.com/2036/day/1"
   ]
  },
  {
   "cell_type": "code",
   "execution_count": null,
   "id": "b709aa31",
   "metadata": {},
   "outputs": [],
   "source": []
  }
 ],
 "metadata": {},
 "nbformat": 4,
 "nbformat_minor": 5
}
