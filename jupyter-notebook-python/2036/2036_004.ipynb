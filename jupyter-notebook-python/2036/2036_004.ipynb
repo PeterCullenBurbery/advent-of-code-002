{
 "cells": [
  {
   "cell_type": "markdown",
   "id": "2fcc0191",
   "metadata": {},
   "source": [
    "# Advent of Code"
   ]
  },
  {
   "cell_type": "markdown",
   "id": "15ec7a48",
   "metadata": {},
   "source": [
    "## 2036-012-004\n",
    "## 2036 004"
   ]
  },
  {
   "cell_type": "markdown",
   "id": "e69f503a",
   "metadata": {},
   "source": [
    "https://adventofcode.com/2036/day/4"
   ]
  },
  {
   "cell_type": "code",
   "execution_count": null,
   "id": "6c0cb559",
   "metadata": {},
   "outputs": [],
   "source": []
  }
 ],
 "metadata": {
  "kernelspec": {
   "display_name": "Python 3 (ipykernel)",
   "language": "python",
   "name": "python3"
  },
  "language_info": {
   "name": "python",
   "version": "3.12.3"
  }
 },
 "nbformat": 4,
 "nbformat_minor": 5
}
