{
 "cells": [
  {
   "cell_type": "markdown",
   "id": "b64585c1",
   "metadata": {},
   "source": [
    "# Advent of Code"
   ]
  },
  {
   "cell_type": "markdown",
   "id": "b8506dc5",
   "metadata": {},
   "source": [
    "## 2036-012-008\n",
    "## 2036 008"
   ]
  },
  {
   "cell_type": "markdown",
   "id": "7d5dafda",
   "metadata": {},
   "source": [
    "https://adventofcode.com/2036/day/8"
   ]
  },
  {
   "cell_type": "code",
   "execution_count": null,
   "id": "75a9df04",
   "metadata": {},
   "outputs": [],
   "source": []
  }
 ],
 "metadata": {
  "kernelspec": {
   "display_name": "Python 3 (ipykernel)",
   "language": "python",
   "name": "python3"
  },
  "language_info": {
   "name": "python",
   "version": "3.12.3"
  }
 },
 "nbformat": 4,
 "nbformat_minor": 5
}
