{
 "cells": [
  {
   "cell_type": "markdown",
   "id": "51e34b4c",
   "metadata": {},
   "source": [
    "# Advent of Code"
   ]
  },
  {
   "cell_type": "markdown",
   "id": "b77503db",
   "metadata": {},
   "source": [
    "## 2036-012-025\n",
    "## 2036 025"
   ]
  },
  {
   "cell_type": "markdown",
   "id": "062e43e9",
   "metadata": {},
   "source": [
    "https://adventofcode.com/2036/day/25"
   ]
  },
  {
   "cell_type": "code",
   "execution_count": null,
   "id": "cf1611a6",
   "metadata": {},
   "outputs": [],
   "source": []
  }
 ],
 "metadata": {},
 "nbformat": 4,
 "nbformat_minor": 5
}
