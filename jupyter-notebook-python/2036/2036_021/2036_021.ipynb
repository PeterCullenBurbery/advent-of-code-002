{
 "cells": [
  {
   "cell_type": "markdown",
   "id": "1934881f",
   "metadata": {},
   "source": [
    "# Advent of Code"
   ]
  },
  {
   "cell_type": "markdown",
   "id": "86fc299f",
   "metadata": {},
   "source": [
    "## 2036-012-021\n",
    "## 2036 021"
   ]
  },
  {
   "cell_type": "markdown",
   "id": "4ee942f6",
   "metadata": {},
   "source": [
    "https://adventofcode.com/2036/day/21"
   ]
  },
  {
   "cell_type": "code",
   "execution_count": null,
   "id": "5825334e",
   "metadata": {},
   "outputs": [],
   "source": []
  }
 ],
 "metadata": {},
 "nbformat": 4,
 "nbformat_minor": 5
}
