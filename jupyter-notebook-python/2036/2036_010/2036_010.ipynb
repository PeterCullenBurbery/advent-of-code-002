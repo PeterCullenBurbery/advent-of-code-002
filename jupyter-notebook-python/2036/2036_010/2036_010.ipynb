{
 "cells": [
  {
   "cell_type": "markdown",
   "id": "57b7f194",
   "metadata": {},
   "source": [
    "# Advent of Code"
   ]
  },
  {
   "cell_type": "markdown",
   "id": "d933e22c",
   "metadata": {},
   "source": [
    "## 2036-012-010\n",
    "## 2036 010"
   ]
  },
  {
   "cell_type": "markdown",
   "id": "c3883656",
   "metadata": {},
   "source": [
    "https://adventofcode.com/2036/day/10"
   ]
  },
  {
   "cell_type": "code",
   "execution_count": null,
   "id": "d903e9c9",
   "metadata": {},
   "outputs": [],
   "source": []
  }
 ],
 "metadata": {},
 "nbformat": 4,
 "nbformat_minor": 5
}
