{
 "cells": [
  {
   "cell_type": "markdown",
   "id": "a87847b6",
   "metadata": {},
   "source": [
    "# Advent of Code"
   ]
  },
  {
   "cell_type": "markdown",
   "id": "11f4e260",
   "metadata": {},
   "source": [
    "## 2036-012-018\n",
    "## 2036 018"
   ]
  },
  {
   "cell_type": "markdown",
   "id": "21728b4e",
   "metadata": {},
   "source": [
    "https://adventofcode.com/2036/day/18"
   ]
  },
  {
   "cell_type": "code",
   "execution_count": null,
   "id": "c8172ae6",
   "metadata": {},
   "outputs": [],
   "source": []
  }
 ],
 "metadata": {},
 "nbformat": 4,
 "nbformat_minor": 5
}
