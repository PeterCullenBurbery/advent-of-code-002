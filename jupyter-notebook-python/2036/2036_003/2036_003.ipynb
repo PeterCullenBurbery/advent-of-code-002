{
 "cells": [
  {
   "cell_type": "markdown",
   "id": "f719fe14",
   "metadata": {},
   "source": [
    "# Advent of Code"
   ]
  },
  {
   "cell_type": "markdown",
   "id": "44ebb867",
   "metadata": {},
   "source": [
    "## 2036-012-003\n",
    "## 2036 003"
   ]
  },
  {
   "cell_type": "markdown",
   "id": "d521100a",
   "metadata": {},
   "source": [
    "https://adventofcode.com/2036/day/3"
   ]
  },
  {
   "cell_type": "code",
   "execution_count": null,
   "id": "6db4aafa",
   "metadata": {},
   "outputs": [],
   "source": []
  }
 ],
 "metadata": {},
 "nbformat": 4,
 "nbformat_minor": 5
}
