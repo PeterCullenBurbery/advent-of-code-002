{
 "cells": [
  {
   "cell_type": "markdown",
   "id": "fa5214fa",
   "metadata": {},
   "source": [
    "# Advent of Code"
   ]
  },
  {
   "cell_type": "markdown",
   "id": "49a41ef7",
   "metadata": {},
   "source": [
    "## 2036-012-002\n",
    "## 2036 002"
   ]
  },
  {
   "cell_type": "markdown",
   "id": "ddfe9af5",
   "metadata": {},
   "source": [
    "https://adventofcode.com/2036/day/2"
   ]
  },
  {
   "cell_type": "code",
   "execution_count": null,
   "id": "aa3d5b7b",
   "metadata": {},
   "outputs": [],
   "source": []
  }
 ],
 "metadata": {},
 "nbformat": 4,
 "nbformat_minor": 5
}
