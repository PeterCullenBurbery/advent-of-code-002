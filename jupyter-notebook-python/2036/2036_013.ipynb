{
 "cells": [
  {
   "cell_type": "markdown",
   "id": "73f96c25",
   "metadata": {},
   "source": [
    "# Advent of Code"
   ]
  },
  {
   "cell_type": "markdown",
   "id": "954562ac",
   "metadata": {},
   "source": [
    "## 2036-012-013\n",
    "## 2036 013"
   ]
  },
  {
   "cell_type": "markdown",
   "id": "e97c4ce4",
   "metadata": {},
   "source": [
    "https://adventofcode.com/2036/day/13"
   ]
  },
  {
   "cell_type": "code",
   "execution_count": null,
   "id": "ac00f72e",
   "metadata": {},
   "outputs": [],
   "source": []
  }
 ],
 "metadata": {
  "kernelspec": {
   "display_name": "Python 3 (ipykernel)",
   "language": "python",
   "name": "python3"
  },
  "language_info": {
   "name": "python",
   "version": "3.12.3"
  }
 },
 "nbformat": 4,
 "nbformat_minor": 5
}
