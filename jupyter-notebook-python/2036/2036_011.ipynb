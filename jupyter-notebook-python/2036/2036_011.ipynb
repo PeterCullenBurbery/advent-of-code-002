{
 "cells": [
  {
   "cell_type": "markdown",
   "id": "a658e70d",
   "metadata": {},
   "source": [
    "# Advent of Code"
   ]
  },
  {
   "cell_type": "markdown",
   "id": "6486dccd",
   "metadata": {},
   "source": [
    "## 2036-012-011\n",
    "## 2036 011"
   ]
  },
  {
   "cell_type": "markdown",
   "id": "cf69cad1",
   "metadata": {},
   "source": [
    "https://adventofcode.com/2036/day/11"
   ]
  },
  {
   "cell_type": "code",
   "execution_count": null,
   "id": "5fc4f444",
   "metadata": {},
   "outputs": [],
   "source": []
  }
 ],
 "metadata": {
  "kernelspec": {
   "display_name": "Python 3 (ipykernel)",
   "language": "python",
   "name": "python3"
  },
  "language_info": {
   "name": "python",
   "version": "3.12.3"
  }
 },
 "nbformat": 4,
 "nbformat_minor": 5
}
