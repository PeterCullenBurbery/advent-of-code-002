{
 "cells": [
  {
   "cell_type": "markdown",
   "id": "332d9b76",
   "metadata": {},
   "source": [
    "# Advent of Code"
   ]
  },
  {
   "cell_type": "markdown",
   "id": "d2e6a3f0",
   "metadata": {},
   "source": [
    "## 2036-012-023\n",
    "## 2036 023"
   ]
  },
  {
   "cell_type": "markdown",
   "id": "6d21cce5",
   "metadata": {},
   "source": [
    "https://adventofcode.com/2036/day/23"
   ]
  },
  {
   "cell_type": "code",
   "execution_count": null,
   "id": "397e7eeb",
   "metadata": {},
   "outputs": [],
   "source": []
  }
 ],
 "metadata": {},
 "nbformat": 4,
 "nbformat_minor": 5
}
