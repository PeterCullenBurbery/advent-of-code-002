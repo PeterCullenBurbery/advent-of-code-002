{
 "cells": [
  {
   "cell_type": "markdown",
   "id": "57e320ae",
   "metadata": {},
   "source": [
    "# Advent of Code"
   ]
  },
  {
   "cell_type": "markdown",
   "id": "3f2e1d7a",
   "metadata": {},
   "source": [
    "## 2036-012-015\n",
    "## 2036 015"
   ]
  },
  {
   "cell_type": "markdown",
   "id": "cf51136f",
   "metadata": {},
   "source": [
    "https://adventofcode.com/2036/day/15"
   ]
  },
  {
   "cell_type": "code",
   "execution_count": null,
   "id": "b6607d9b",
   "metadata": {},
   "outputs": [],
   "source": []
  }
 ],
 "metadata": {
  "kernelspec": {
   "display_name": "Python 3 (ipykernel)",
   "language": "python",
   "name": "python3"
  },
  "language_info": {
   "name": "python",
   "version": "3.12.3"
  }
 },
 "nbformat": 4,
 "nbformat_minor": 5
}
