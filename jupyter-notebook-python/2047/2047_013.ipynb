{
 "cells": [
  {
   "cell_type": "markdown",
   "id": "d54e7b79",
   "metadata": {},
   "source": [
    "# Advent of Code"
   ]
  },
  {
   "cell_type": "markdown",
   "id": "031e85f1",
   "metadata": {},
   "source": [
    "## 2047-012-013\n",
    "## 2047 013"
   ]
  },
  {
   "cell_type": "markdown",
   "id": "e1fdc480",
   "metadata": {},
   "source": [
    "https://adventofcode.com/2047/day/13"
   ]
  },
  {
   "cell_type": "code",
   "execution_count": null,
   "id": "7967d979",
   "metadata": {},
   "outputs": [],
   "source": []
  }
 ],
 "metadata": {
  "kernelspec": {
   "display_name": "Python 3 (ipykernel)",
   "language": "python",
   "name": "python3"
  },
  "language_info": {
   "name": "python",
   "version": "3.12.3"
  }
 },
 "nbformat": 4,
 "nbformat_minor": 5
}
