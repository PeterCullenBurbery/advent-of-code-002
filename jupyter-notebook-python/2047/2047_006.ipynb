{
 "cells": [
  {
   "cell_type": "markdown",
   "id": "f890af06",
   "metadata": {},
   "source": [
    "# Advent of Code"
   ]
  },
  {
   "cell_type": "markdown",
   "id": "5fcebecf",
   "metadata": {},
   "source": [
    "## 2047-012-006\n",
    "## 2047 006"
   ]
  },
  {
   "cell_type": "markdown",
   "id": "90977e77",
   "metadata": {},
   "source": [
    "https://adventofcode.com/2047/day/6"
   ]
  },
  {
   "cell_type": "code",
   "execution_count": null,
   "id": "d05ae1f9",
   "metadata": {},
   "outputs": [],
   "source": []
  }
 ],
 "metadata": {
  "kernelspec": {
   "display_name": "Python 3 (ipykernel)",
   "language": "python",
   "name": "python3"
  },
  "language_info": {
   "name": "python",
   "version": "3.12.3"
  }
 },
 "nbformat": 4,
 "nbformat_minor": 5
}
