{
 "cells": [
  {
   "cell_type": "markdown",
   "id": "667c43ec",
   "metadata": {},
   "source": [
    "# Advent of Code"
   ]
  },
  {
   "cell_type": "markdown",
   "id": "c60cd0e8",
   "metadata": {},
   "source": [
    "## 2047-012-017\n",
    "## 2047 017"
   ]
  },
  {
   "cell_type": "markdown",
   "id": "8222e01d",
   "metadata": {},
   "source": [
    "https://adventofcode.com/2047/day/17"
   ]
  },
  {
   "cell_type": "code",
   "execution_count": null,
   "id": "01e100e9",
   "metadata": {},
   "outputs": [],
   "source": []
  }
 ],
 "metadata": {},
 "nbformat": 4,
 "nbformat_minor": 5
}
