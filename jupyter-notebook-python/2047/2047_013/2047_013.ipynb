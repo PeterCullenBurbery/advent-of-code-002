{
 "cells": [
  {
   "cell_type": "markdown",
   "id": "4ac0aa88",
   "metadata": {},
   "source": [
    "# Advent of Code"
   ]
  },
  {
   "cell_type": "markdown",
   "id": "1cf849d3",
   "metadata": {},
   "source": [
    "## 2047-012-013\n",
    "## 2047 013"
   ]
  },
  {
   "cell_type": "markdown",
   "id": "12c29a12",
   "metadata": {},
   "source": [
    "https://adventofcode.com/2047/day/13"
   ]
  },
  {
   "cell_type": "code",
   "execution_count": null,
   "id": "d9024061",
   "metadata": {},
   "outputs": [],
   "source": []
  }
 ],
 "metadata": {},
 "nbformat": 4,
 "nbformat_minor": 5
}
