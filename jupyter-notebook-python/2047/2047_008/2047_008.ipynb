{
 "cells": [
  {
   "cell_type": "markdown",
   "id": "5ea38702",
   "metadata": {},
   "source": [
    "# Advent of Code"
   ]
  },
  {
   "cell_type": "markdown",
   "id": "eed84101",
   "metadata": {},
   "source": [
    "## 2047-012-008\n",
    "## 2047 008"
   ]
  },
  {
   "cell_type": "markdown",
   "id": "a976e515",
   "metadata": {},
   "source": [
    "https://adventofcode.com/2047/day/8"
   ]
  },
  {
   "cell_type": "code",
   "execution_count": null,
   "id": "83ad58eb",
   "metadata": {},
   "outputs": [],
   "source": []
  }
 ],
 "metadata": {},
 "nbformat": 4,
 "nbformat_minor": 5
}
