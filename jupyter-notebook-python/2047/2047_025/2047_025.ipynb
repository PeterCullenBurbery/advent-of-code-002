{
 "cells": [
  {
   "cell_type": "markdown",
   "id": "a12ac3c8",
   "metadata": {},
   "source": [
    "# Advent of Code"
   ]
  },
  {
   "cell_type": "markdown",
   "id": "48df7dcc",
   "metadata": {},
   "source": [
    "## 2047-012-025\n",
    "## 2047 025"
   ]
  },
  {
   "cell_type": "markdown",
   "id": "eabe3e9e",
   "metadata": {},
   "source": [
    "https://adventofcode.com/2047/day/25"
   ]
  },
  {
   "cell_type": "code",
   "execution_count": null,
   "id": "90bb7f4b",
   "metadata": {},
   "outputs": [],
   "source": []
  }
 ],
 "metadata": {},
 "nbformat": 4,
 "nbformat_minor": 5
}
