{
 "cells": [
  {
   "cell_type": "markdown",
   "id": "99806200",
   "metadata": {},
   "source": [
    "# Advent of Code"
   ]
  },
  {
   "cell_type": "markdown",
   "id": "cc6ec4b8",
   "metadata": {},
   "source": [
    "## 2047-012-006\n",
    "## 2047 006"
   ]
  },
  {
   "cell_type": "markdown",
   "id": "1a78648b",
   "metadata": {},
   "source": [
    "https://adventofcode.com/2047/day/6"
   ]
  },
  {
   "cell_type": "code",
   "execution_count": null,
   "id": "f8421828",
   "metadata": {},
   "outputs": [],
   "source": []
  }
 ],
 "metadata": {},
 "nbformat": 4,
 "nbformat_minor": 5
}
