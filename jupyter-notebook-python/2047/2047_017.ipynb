{
 "cells": [
  {
   "cell_type": "markdown",
   "id": "87de24db",
   "metadata": {},
   "source": [
    "# Advent of Code"
   ]
  },
  {
   "cell_type": "markdown",
   "id": "08101a2f",
   "metadata": {},
   "source": [
    "## 2047-012-017\n",
    "## 2047 017"
   ]
  },
  {
   "cell_type": "markdown",
   "id": "93f5a2b0",
   "metadata": {},
   "source": [
    "https://adventofcode.com/2047/day/17"
   ]
  },
  {
   "cell_type": "code",
   "execution_count": null,
   "id": "0e4d20c1",
   "metadata": {},
   "outputs": [],
   "source": []
  }
 ],
 "metadata": {
  "kernelspec": {
   "display_name": "Python 3 (ipykernel)",
   "language": "python",
   "name": "python3"
  },
  "language_info": {
   "name": "python",
   "version": "3.12.3"
  }
 },
 "nbformat": 4,
 "nbformat_minor": 5
}
