{
 "cells": [
  {
   "cell_type": "markdown",
   "id": "5da89a4e",
   "metadata": {},
   "source": [
    "# Advent of Code"
   ]
  },
  {
   "cell_type": "markdown",
   "id": "032d61d6",
   "metadata": {},
   "source": [
    "## 2047-012-004\n",
    "## 2047 004"
   ]
  },
  {
   "cell_type": "markdown",
   "id": "4396ab35",
   "metadata": {},
   "source": [
    "https://adventofcode.com/2047/day/4"
   ]
  },
  {
   "cell_type": "code",
   "execution_count": null,
   "id": "a18005b0",
   "metadata": {},
   "outputs": [],
   "source": []
  }
 ],
 "metadata": {
  "kernelspec": {
   "display_name": "Python 3 (ipykernel)",
   "language": "python",
   "name": "python3"
  },
  "language_info": {
   "name": "python",
   "version": "3.12.3"
  }
 },
 "nbformat": 4,
 "nbformat_minor": 5
}
