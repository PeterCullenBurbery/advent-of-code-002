{
 "cells": [
  {
   "cell_type": "markdown",
   "id": "35c1ef82",
   "metadata": {},
   "source": [
    "# Advent of Code"
   ]
  },
  {
   "cell_type": "markdown",
   "id": "a100f8d3",
   "metadata": {},
   "source": [
    "## 2047-012-014\n",
    "## 2047 014"
   ]
  },
  {
   "cell_type": "markdown",
   "id": "85e6ba4b",
   "metadata": {},
   "source": [
    "https://adventofcode.com/2047/day/14"
   ]
  },
  {
   "cell_type": "code",
   "execution_count": null,
   "id": "6109d781",
   "metadata": {},
   "outputs": [],
   "source": []
  }
 ],
 "metadata": {},
 "nbformat": 4,
 "nbformat_minor": 5
}
