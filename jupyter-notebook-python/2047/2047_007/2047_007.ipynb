{
 "cells": [
  {
   "cell_type": "markdown",
   "id": "e6ff1d47",
   "metadata": {},
   "source": [
    "# Advent of Code"
   ]
  },
  {
   "cell_type": "markdown",
   "id": "c0251d54",
   "metadata": {},
   "source": [
    "## 2047-012-007\n",
    "## 2047 007"
   ]
  },
  {
   "cell_type": "markdown",
   "id": "46a20c73",
   "metadata": {},
   "source": [
    "https://adventofcode.com/2047/day/7"
   ]
  },
  {
   "cell_type": "code",
   "execution_count": null,
   "id": "e782ea47",
   "metadata": {},
   "outputs": [],
   "source": []
  }
 ],
 "metadata": {},
 "nbformat": 4,
 "nbformat_minor": 5
}
