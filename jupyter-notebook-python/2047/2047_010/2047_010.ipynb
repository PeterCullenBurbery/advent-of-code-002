{
 "cells": [
  {
   "cell_type": "markdown",
   "id": "ba9e090d",
   "metadata": {},
   "source": [
    "# Advent of Code"
   ]
  },
  {
   "cell_type": "markdown",
   "id": "900d3bc6",
   "metadata": {},
   "source": [
    "## 2047-012-010\n",
    "## 2047 010"
   ]
  },
  {
   "cell_type": "markdown",
   "id": "f3284b79",
   "metadata": {},
   "source": [
    "https://adventofcode.com/2047/day/10"
   ]
  },
  {
   "cell_type": "code",
   "execution_count": null,
   "id": "d013a2e3",
   "metadata": {},
   "outputs": [],
   "source": []
  }
 ],
 "metadata": {},
 "nbformat": 4,
 "nbformat_minor": 5
}
