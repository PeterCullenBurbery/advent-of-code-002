{
 "cells": [
  {
   "cell_type": "markdown",
   "id": "7b759a55",
   "metadata": {},
   "source": [
    "# Advent of Code"
   ]
  },
  {
   "cell_type": "markdown",
   "id": "882dfc30",
   "metadata": {},
   "source": [
    "## 2047-012-002\n",
    "## 2047 002"
   ]
  },
  {
   "cell_type": "markdown",
   "id": "5694d053",
   "metadata": {},
   "source": [
    "https://adventofcode.com/2047/day/2"
   ]
  },
  {
   "cell_type": "code",
   "execution_count": null,
   "id": "99d05113",
   "metadata": {},
   "outputs": [],
   "source": []
  }
 ],
 "metadata": {},
 "nbformat": 4,
 "nbformat_minor": 5
}
