{
 "cells": [
  {
   "cell_type": "markdown",
   "id": "c9d8642c",
   "metadata": {},
   "source": [
    "# Advent of Code"
   ]
  },
  {
   "cell_type": "markdown",
   "id": "4e4c4e7b",
   "metadata": {},
   "source": [
    "## 2047-012-021\n",
    "## 2047 021"
   ]
  },
  {
   "cell_type": "markdown",
   "id": "dfb7ac86",
   "metadata": {},
   "source": [
    "https://adventofcode.com/2047/day/21"
   ]
  },
  {
   "cell_type": "code",
   "execution_count": null,
   "id": "e1315306",
   "metadata": {},
   "outputs": [],
   "source": []
  }
 ],
 "metadata": {
  "kernelspec": {
   "display_name": "Python 3 (ipykernel)",
   "language": "python",
   "name": "python3"
  },
  "language_info": {
   "name": "python",
   "version": "3.12.3"
  }
 },
 "nbformat": 4,
 "nbformat_minor": 5
}
