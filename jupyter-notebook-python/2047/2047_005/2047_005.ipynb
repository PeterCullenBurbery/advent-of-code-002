{
 "cells": [
  {
   "cell_type": "markdown",
   "id": "fe4d04c2",
   "metadata": {},
   "source": [
    "# Advent of Code"
   ]
  },
  {
   "cell_type": "markdown",
   "id": "69a4955f",
   "metadata": {},
   "source": [
    "## 2047-012-005\n",
    "## 2047 005"
   ]
  },
  {
   "cell_type": "markdown",
   "id": "1e64e367",
   "metadata": {},
   "source": [
    "https://adventofcode.com/2047/day/5"
   ]
  },
  {
   "cell_type": "code",
   "execution_count": null,
   "id": "0becb238",
   "metadata": {},
   "outputs": [],
   "source": []
  }
 ],
 "metadata": {},
 "nbformat": 4,
 "nbformat_minor": 5
}
