{
 "cells": [
  {
   "cell_type": "markdown",
   "id": "9a2dd26b",
   "metadata": {},
   "source": [
    "# Advent of Code"
   ]
  },
  {
   "cell_type": "markdown",
   "id": "d47012d9",
   "metadata": {},
   "source": [
    "## 2047-012-003\n",
    "## 2047 003"
   ]
  },
  {
   "cell_type": "markdown",
   "id": "9116d146",
   "metadata": {},
   "source": [
    "https://adventofcode.com/2047/day/3"
   ]
  },
  {
   "cell_type": "code",
   "execution_count": null,
   "id": "a84373ee",
   "metadata": {},
   "outputs": [],
   "source": []
  }
 ],
 "metadata": {
  "kernelspec": {
   "display_name": "Python 3 (ipykernel)",
   "language": "python",
   "name": "python3"
  },
  "language_info": {
   "name": "python",
   "version": "3.12.3"
  }
 },
 "nbformat": 4,
 "nbformat_minor": 5
}
