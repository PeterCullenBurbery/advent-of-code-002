{
 "cells": [
  {
   "cell_type": "markdown",
   "id": "20abe325",
   "metadata": {},
   "source": [
    "# Advent of Code"
   ]
  },
  {
   "cell_type": "markdown",
   "id": "4425fed0",
   "metadata": {},
   "source": [
    "## 2047-012-007\n",
    "## 2047 007"
   ]
  },
  {
   "cell_type": "markdown",
   "id": "83e9aa96",
   "metadata": {},
   "source": [
    "https://adventofcode.com/2047/day/7"
   ]
  },
  {
   "cell_type": "code",
   "execution_count": null,
   "id": "c0dfc2bb",
   "metadata": {},
   "outputs": [],
   "source": []
  }
 ],
 "metadata": {
  "kernelspec": {
   "display_name": "Python 3 (ipykernel)",
   "language": "python",
   "name": "python3"
  },
  "language_info": {
   "name": "python",
   "version": "3.12.3"
  }
 },
 "nbformat": 4,
 "nbformat_minor": 5
}
