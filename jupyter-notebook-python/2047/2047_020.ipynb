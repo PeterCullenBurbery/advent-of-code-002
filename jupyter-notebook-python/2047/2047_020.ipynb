{
 "cells": [
  {
   "cell_type": "markdown",
   "id": "47e56455",
   "metadata": {},
   "source": [
    "# Advent of Code"
   ]
  },
  {
   "cell_type": "markdown",
   "id": "028af3c0",
   "metadata": {},
   "source": [
    "## 2047-012-020\n",
    "## 2047 020"
   ]
  },
  {
   "cell_type": "markdown",
   "id": "d8cf135c",
   "metadata": {},
   "source": [
    "https://adventofcode.com/2047/day/20"
   ]
  },
  {
   "cell_type": "code",
   "execution_count": null,
   "id": "8dfdcdcc",
   "metadata": {},
   "outputs": [],
   "source": []
  }
 ],
 "metadata": {
  "kernelspec": {
   "display_name": "Python 3 (ipykernel)",
   "language": "python",
   "name": "python3"
  },
  "language_info": {
   "name": "python",
   "version": "3.12.3"
  }
 },
 "nbformat": 4,
 "nbformat_minor": 5
}
