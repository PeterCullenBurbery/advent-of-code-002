{
 "cells": [
  {
   "cell_type": "markdown",
   "id": "6a02350c",
   "metadata": {},
   "source": [
    "# Advent of Code"
   ]
  },
  {
   "cell_type": "markdown",
   "id": "486a4c94",
   "metadata": {},
   "source": [
    "## 2044-012-002\n",
    "## 2044 002"
   ]
  },
  {
   "cell_type": "markdown",
   "id": "c36aef70",
   "metadata": {},
   "source": [
    "https://adventofcode.com/2044/day/2"
   ]
  },
  {
   "cell_type": "code",
   "execution_count": null,
   "id": "0d6b7123",
   "metadata": {},
   "outputs": [],
   "source": []
  }
 ],
 "metadata": {
  "kernelspec": {
   "display_name": "Python 3 (ipykernel)",
   "language": "python",
   "name": "python3"
  },
  "language_info": {
   "name": "python",
   "version": "3.12.3"
  }
 },
 "nbformat": 4,
 "nbformat_minor": 5
}
