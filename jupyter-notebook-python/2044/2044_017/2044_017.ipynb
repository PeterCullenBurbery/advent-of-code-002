{
 "cells": [
  {
   "cell_type": "markdown",
   "id": "d09129c9",
   "metadata": {},
   "source": [
    "# Advent of Code"
   ]
  },
  {
   "cell_type": "markdown",
   "id": "7814bc2b",
   "metadata": {},
   "source": [
    "## 2044-012-017\n",
    "## 2044 017"
   ]
  },
  {
   "cell_type": "markdown",
   "id": "aeae210b",
   "metadata": {},
   "source": [
    "https://adventofcode.com/2044/day/17"
   ]
  },
  {
   "cell_type": "code",
   "execution_count": null,
   "id": "ee0a499e",
   "metadata": {},
   "outputs": [],
   "source": []
  }
 ],
 "metadata": {},
 "nbformat": 4,
 "nbformat_minor": 5
}
