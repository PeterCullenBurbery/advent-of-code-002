{
 "cells": [
  {
   "cell_type": "markdown",
   "id": "98fa0893",
   "metadata": {},
   "source": [
    "# Advent of Code"
   ]
  },
  {
   "cell_type": "markdown",
   "id": "ceb98df9",
   "metadata": {},
   "source": [
    "## 2044-012-025\n",
    "## 2044 025"
   ]
  },
  {
   "cell_type": "markdown",
   "id": "41622f67",
   "metadata": {},
   "source": [
    "https://adventofcode.com/2044/day/25"
   ]
  },
  {
   "cell_type": "code",
   "execution_count": null,
   "id": "daf7864c",
   "metadata": {},
   "outputs": [],
   "source": []
  }
 ],
 "metadata": {
  "kernelspec": {
   "display_name": "Python 3 (ipykernel)",
   "language": "python",
   "name": "python3"
  },
  "language_info": {
   "name": "python",
   "version": "3.12.3"
  }
 },
 "nbformat": 4,
 "nbformat_minor": 5
}
