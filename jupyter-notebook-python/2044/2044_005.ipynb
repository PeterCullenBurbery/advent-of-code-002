{
 "cells": [
  {
   "cell_type": "markdown",
   "id": "5d78c66a",
   "metadata": {},
   "source": [
    "# Advent of Code"
   ]
  },
  {
   "cell_type": "markdown",
   "id": "b963f218",
   "metadata": {},
   "source": [
    "## 2044-012-005\n",
    "## 2044 005"
   ]
  },
  {
   "cell_type": "markdown",
   "id": "1c908769",
   "metadata": {},
   "source": [
    "https://adventofcode.com/2044/day/5"
   ]
  },
  {
   "cell_type": "code",
   "execution_count": null,
   "id": "b1901d14",
   "metadata": {},
   "outputs": [],
   "source": []
  }
 ],
 "metadata": {
  "kernelspec": {
   "display_name": "Python 3 (ipykernel)",
   "language": "python",
   "name": "python3"
  },
  "language_info": {
   "name": "python",
   "version": "3.12.3"
  }
 },
 "nbformat": 4,
 "nbformat_minor": 5
}
