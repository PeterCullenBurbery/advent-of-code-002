{
 "cells": [
  {
   "cell_type": "markdown",
   "id": "6e04cb8e",
   "metadata": {},
   "source": [
    "# Advent of Code"
   ]
  },
  {
   "cell_type": "markdown",
   "id": "e17c0a8c",
   "metadata": {},
   "source": [
    "## 2044-012-014\n",
    "## 2044 014"
   ]
  },
  {
   "cell_type": "markdown",
   "id": "7a34a8f0",
   "metadata": {},
   "source": [
    "https://adventofcode.com/2044/day/14"
   ]
  },
  {
   "cell_type": "code",
   "execution_count": null,
   "id": "7e5c8873",
   "metadata": {},
   "outputs": [],
   "source": []
  }
 ],
 "metadata": {},
 "nbformat": 4,
 "nbformat_minor": 5
}
