{
 "cells": [
  {
   "cell_type": "markdown",
   "id": "88d3b496",
   "metadata": {},
   "source": [
    "# Advent of Code"
   ]
  },
  {
   "cell_type": "markdown",
   "id": "edd7c515",
   "metadata": {},
   "source": [
    "## 2044-012-011\n",
    "## 2044 011"
   ]
  },
  {
   "cell_type": "markdown",
   "id": "ee07fd86",
   "metadata": {},
   "source": [
    "https://adventofcode.com/2044/day/11"
   ]
  },
  {
   "cell_type": "code",
   "execution_count": null,
   "id": "7b0e7e3b",
   "metadata": {},
   "outputs": [],
   "source": []
  }
 ],
 "metadata": {
  "kernelspec": {
   "display_name": "Python 3 (ipykernel)",
   "language": "python",
   "name": "python3"
  },
  "language_info": {
   "name": "python",
   "version": "3.12.3"
  }
 },
 "nbformat": 4,
 "nbformat_minor": 5
}
