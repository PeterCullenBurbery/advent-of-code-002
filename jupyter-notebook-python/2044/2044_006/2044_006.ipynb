{
 "cells": [
  {
   "cell_type": "markdown",
   "id": "d7227a2d",
   "metadata": {},
   "source": [
    "# Advent of Code"
   ]
  },
  {
   "cell_type": "markdown",
   "id": "920d5788",
   "metadata": {},
   "source": [
    "## 2044-012-006\n",
    "## 2044 006"
   ]
  },
  {
   "cell_type": "markdown",
   "id": "ea460c21",
   "metadata": {},
   "source": [
    "https://adventofcode.com/2044/day/6"
   ]
  },
  {
   "cell_type": "code",
   "execution_count": null,
   "id": "246902ac",
   "metadata": {},
   "outputs": [],
   "source": []
  }
 ],
 "metadata": {},
 "nbformat": 4,
 "nbformat_minor": 5
}
