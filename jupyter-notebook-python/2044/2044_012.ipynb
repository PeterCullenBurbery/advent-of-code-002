{
 "cells": [
  {
   "cell_type": "markdown",
   "id": "926b8566",
   "metadata": {},
   "source": [
    "# Advent of Code"
   ]
  },
  {
   "cell_type": "markdown",
   "id": "1811341a",
   "metadata": {},
   "source": [
    "## 2044-012-012\n",
    "## 2044 012"
   ]
  },
  {
   "cell_type": "markdown",
   "id": "8f89dac7",
   "metadata": {},
   "source": [
    "https://adventofcode.com/2044/day/12"
   ]
  },
  {
   "cell_type": "code",
   "execution_count": null,
   "id": "c119d042",
   "metadata": {},
   "outputs": [],
   "source": []
  }
 ],
 "metadata": {
  "kernelspec": {
   "display_name": "Python 3 (ipykernel)",
   "language": "python",
   "name": "python3"
  },
  "language_info": {
   "name": "python",
   "version": "3.12.3"
  }
 },
 "nbformat": 4,
 "nbformat_minor": 5
}
