{
 "cells": [
  {
   "cell_type": "markdown",
   "id": "48b261e8",
   "metadata": {},
   "source": [
    "# Advent of Code"
   ]
  },
  {
   "cell_type": "markdown",
   "id": "49a4285b",
   "metadata": {},
   "source": [
    "## 2044-012-013\n",
    "## 2044 013"
   ]
  },
  {
   "cell_type": "markdown",
   "id": "5ec93f7c",
   "metadata": {},
   "source": [
    "https://adventofcode.com/2044/day/13"
   ]
  },
  {
   "cell_type": "code",
   "execution_count": null,
   "id": "f89971b4",
   "metadata": {},
   "outputs": [],
   "source": []
  }
 ],
 "metadata": {},
 "nbformat": 4,
 "nbformat_minor": 5
}
