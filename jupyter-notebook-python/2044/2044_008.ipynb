{
 "cells": [
  {
   "cell_type": "markdown",
   "id": "75339324",
   "metadata": {},
   "source": [
    "# Advent of Code"
   ]
  },
  {
   "cell_type": "markdown",
   "id": "e6083b1f",
   "metadata": {},
   "source": [
    "## 2044-012-008\n",
    "## 2044 008"
   ]
  },
  {
   "cell_type": "markdown",
   "id": "41e3d3ec",
   "metadata": {},
   "source": [
    "https://adventofcode.com/2044/day/8"
   ]
  },
  {
   "cell_type": "code",
   "execution_count": null,
   "id": "2b57101c",
   "metadata": {},
   "outputs": [],
   "source": []
  }
 ],
 "metadata": {
  "kernelspec": {
   "display_name": "Python 3 (ipykernel)",
   "language": "python",
   "name": "python3"
  },
  "language_info": {
   "name": "python",
   "version": "3.12.3"
  }
 },
 "nbformat": 4,
 "nbformat_minor": 5
}
