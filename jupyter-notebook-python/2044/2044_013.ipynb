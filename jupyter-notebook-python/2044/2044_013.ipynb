{
 "cells": [
  {
   "cell_type": "markdown",
   "id": "ccac2a9c",
   "metadata": {},
   "source": [
    "# Advent of Code"
   ]
  },
  {
   "cell_type": "markdown",
   "id": "de474298",
   "metadata": {},
   "source": [
    "## 2044-012-013\n",
    "## 2044 013"
   ]
  },
  {
   "cell_type": "markdown",
   "id": "80814051",
   "metadata": {},
   "source": [
    "https://adventofcode.com/2044/day/13"
   ]
  },
  {
   "cell_type": "code",
   "execution_count": null,
   "id": "63924917",
   "metadata": {},
   "outputs": [],
   "source": []
  }
 ],
 "metadata": {
  "kernelspec": {
   "display_name": "Python 3 (ipykernel)",
   "language": "python",
   "name": "python3"
  },
  "language_info": {
   "name": "python",
   "version": "3.12.3"
  }
 },
 "nbformat": 4,
 "nbformat_minor": 5
}
