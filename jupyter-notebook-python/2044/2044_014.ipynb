{
 "cells": [
  {
   "cell_type": "markdown",
   "id": "4e397303",
   "metadata": {},
   "source": [
    "# Advent of Code"
   ]
  },
  {
   "cell_type": "markdown",
   "id": "1fe50e15",
   "metadata": {},
   "source": [
    "## 2044-012-014\n",
    "## 2044 014"
   ]
  },
  {
   "cell_type": "markdown",
   "id": "3ba13394",
   "metadata": {},
   "source": [
    "https://adventofcode.com/2044/day/14"
   ]
  },
  {
   "cell_type": "code",
   "execution_count": null,
   "id": "83d35dbb",
   "metadata": {},
   "outputs": [],
   "source": []
  }
 ],
 "metadata": {
  "kernelspec": {
   "display_name": "Python 3 (ipykernel)",
   "language": "python",
   "name": "python3"
  },
  "language_info": {
   "name": "python",
   "version": "3.12.3"
  }
 },
 "nbformat": 4,
 "nbformat_minor": 5
}
