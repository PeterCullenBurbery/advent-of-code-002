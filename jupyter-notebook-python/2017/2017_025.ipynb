{
 "cells": [
  {
   "cell_type": "markdown",
   "id": "3a362948",
   "metadata": {},
   "source": [
    "# Advent of Code"
   ]
  },
  {
   "cell_type": "markdown",
   "id": "78ed99c5",
   "metadata": {},
   "source": [
    "## 2017-012-025\n",
    "## 2017 025"
   ]
  },
  {
   "cell_type": "markdown",
   "id": "ee8c83d0",
   "metadata": {},
   "source": [
    "https://adventofcode.com/2017/day/25"
   ]
  },
  {
   "cell_type": "code",
   "execution_count": null,
   "id": "0984ba01",
   "metadata": {},
   "outputs": [],
   "source": []
  }
 ],
 "metadata": {
  "kernelspec": {
   "display_name": "Python 3 (ipykernel)",
   "language": "python",
   "name": "python3"
  },
  "language_info": {
   "name": "python",
   "version": "3.12.3"
  }
 },
 "nbformat": 4,
 "nbformat_minor": 5
}
