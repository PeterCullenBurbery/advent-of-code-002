{
 "cells": [
  {
   "cell_type": "markdown",
   "id": "71a933eb",
   "metadata": {},
   "source": [
    "# Advent of Code"
   ]
  },
  {
   "cell_type": "markdown",
   "id": "80301431",
   "metadata": {},
   "source": [
    "## 2017-012-024\n",
    "## 2017 024"
   ]
  },
  {
   "cell_type": "markdown",
   "id": "17d08819",
   "metadata": {},
   "source": [
    "https://adventofcode.com/2017/day/24"
   ]
  },
  {
   "cell_type": "code",
   "execution_count": 1,
   "id": "feb06d9d",
   "metadata": {},
   "outputs": [
    {
     "data": {
      "text/plain": [
       "1906"
      ]
     },
     "execution_count": 1,
     "metadata": {},
     "output_type": "execute_result"
    }
   ],
   "source": [
    "from collections import defaultdict\n",
    "\n",
    "# Load components from the input file\n",
    "def load_components(file_path):\n",
    "    with open(file_path, 'r') as file:\n",
    "        return [tuple(map(int, line.strip().split('/'))) for line in file.readlines()]\n",
    "\n",
    "# Find the strongest bridge recursively\n",
    "def find_strongest_bridge(components, port=0, used=None):\n",
    "    if used is None:\n",
    "        used = set()\n",
    "    max_strength = 0\n",
    "\n",
    "    for i, (a, b) in enumerate(components):\n",
    "        if i not in used and (a == port or b == port):\n",
    "            next_port = b if a == port else a\n",
    "            used.add(i)\n",
    "            strength = a + b + find_strongest_bridge(components, next_port, used)\n",
    "            max_strength = max(max_strength, strength)\n",
    "            used.remove(i)\n",
    "\n",
    "    return max_strength\n",
    "\n",
    "# Load components and calculate the strongest bridge\n",
    "components = load_components('input.txt')\n",
    "strongest_bridge_strength = find_strongest_bridge(components)\n",
    "strongest_bridge_strength"
   ]
  },
  {
   "cell_type": "code",
   "execution_count": 2,
   "id": "0dff5ad1-04f7-4bba-adb4-d1de52cc93e6",
   "metadata": {},
   "outputs": [
    {
     "data": {
      "text/plain": [
       "1824"
      ]
     },
     "execution_count": 2,
     "metadata": {},
     "output_type": "execute_result"
    }
   ],
   "source": [
    "# Find the longest bridge and its strength recursively\n",
    "def find_longest_bridge(components, port=0, used=None):\n",
    "    if used is None:\n",
    "        used = set()\n",
    "    max_length = 0\n",
    "    max_strength = 0\n",
    "\n",
    "    for i, (a, b) in enumerate(components):\n",
    "        if i not in used and (a == port or b == port):\n",
    "            next_port = b if a == port else a\n",
    "            used.add(i)\n",
    "            length, strength = find_longest_bridge(components, next_port, used)\n",
    "            length += 1\n",
    "            strength += a + b\n",
    "            if length > max_length or (length == max_length and strength > max_strength):\n",
    "                max_length, max_strength = length, strength\n",
    "            used.remove(i)\n",
    "\n",
    "    return max_length, max_strength\n",
    "\n",
    "# Calculate the longest bridge and its strength\n",
    "longest_bridge_length, longest_bridge_strength = find_longest_bridge(components)\n",
    "longest_bridge_strength"
   ]
  },
  {
   "cell_type": "code",
   "execution_count": null,
   "id": "746eeff4-1ce8-4da4-9982-cbe2d4f08fa5",
   "metadata": {},
   "outputs": [],
   "source": []
  }
 ],
 "metadata": {
  "kernelspec": {
   "display_name": "Python 3 (ipykernel)",
   "language": "python",
   "name": "python3"
  },
  "language_info": {
   "codemirror_mode": {
    "name": "ipython",
    "version": 3
   },
   "file_extension": ".py",
   "mimetype": "text/x-python",
   "name": "python",
   "nbconvert_exporter": "python",
   "pygments_lexer": "ipython3",
   "version": "3.12.3"
  }
 },
 "nbformat": 4,
 "nbformat_minor": 5
}
