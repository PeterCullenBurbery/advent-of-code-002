{
 "cells": [
  {
   "cell_type": "markdown",
   "id": "ca554e48",
   "metadata": {},
   "source": [
    "# Advent of Code"
   ]
  },
  {
   "cell_type": "markdown",
   "id": "5b97c44f",
   "metadata": {},
   "source": [
    "## 2017-012-013\n",
    "## 2017 013"
   ]
  },
  {
   "cell_type": "markdown",
   "id": "4e950b80",
   "metadata": {},
   "source": [
    "https://adventofcode.com/2017/day/13"
   ]
  },
  {
   "cell_type": "code",
   "execution_count": null,
   "id": "f06af56e",
   "metadata": {},
   "outputs": [],
   "source": []
  }
 ],
 "metadata": {
  "kernelspec": {
   "display_name": "Python 3 (ipykernel)",
   "language": "python",
   "name": "python3"
  },
  "language_info": {
   "name": "python",
   "version": "3.12.3"
  }
 },
 "nbformat": 4,
 "nbformat_minor": 5
}
