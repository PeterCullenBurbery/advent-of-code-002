{
 "cells": [
  {
   "cell_type": "markdown",
   "id": "c5b28fff",
   "metadata": {},
   "source": [
    "# Advent of Code"
   ]
  },
  {
   "cell_type": "markdown",
   "id": "f6cacbcc",
   "metadata": {},
   "source": [
    "## 2017-012-007\n",
    "## 2017 007"
   ]
  },
  {
   "cell_type": "markdown",
   "id": "4593be6c",
   "metadata": {},
   "source": [
    "https://adventofcode.com/2017/day/7"
   ]
  },
  {
   "cell_type": "code",
   "execution_count": null,
   "id": "63958ee8",
   "metadata": {},
   "outputs": [],
   "source": []
  }
 ],
 "metadata": {},
 "nbformat": 4,
 "nbformat_minor": 5
}
