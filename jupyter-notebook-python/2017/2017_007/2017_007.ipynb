{
 "cells": [
  {
   "cell_type": "markdown",
   "id": "c5b28fff",
   "metadata": {},
   "source": [
    "# Advent of Code"
   ]
  },
  {
   "cell_type": "markdown",
   "id": "f6cacbcc",
   "metadata": {},
   "source": [
    "## 2017-012-007\n",
    "## 2017 007"
   ]
  },
  {
   "cell_type": "markdown",
   "id": "4593be6c",
   "metadata": {},
   "source": [
    "https://adventofcode.com/2017/day/7"
   ]
  },
  {
   "cell_type": "code",
   "execution_count": 2,
   "id": "63958ee8",
   "metadata": {},
   "outputs": [
    {
     "data": {
      "text/plain": [
       "'dtacyn'"
      ]
     },
     "execution_count": 2,
     "metadata": {},
     "output_type": "execute_result"
    }
   ],
   "source": [
    "# Load the input for the tower structure from the file\n",
    "with open('input.txt', 'r') as file:\n",
    "    tower_data = file.readlines()\n",
    "\n",
    "# Function to determine the bottom program\n",
    "def find_bottom_program(tower_data):\n",
    "    # Extract all program names and the names of programs they hold\n",
    "    all_programs = set()\n",
    "    held_programs = set()\n",
    "    \n",
    "    for line in tower_data:\n",
    "        parts = line.split(\"->\")\n",
    "        program_name = parts[0].split()[0]\n",
    "        all_programs.add(program_name)\n",
    "        if len(parts) > 1:\n",
    "            held_programs.update(parts[1].strip().split(\", \"))\n",
    "    \n",
    "    # The bottom program is the one that is not held by any other program\n",
    "    bottom_program = all_programs - held_programs\n",
    "    return bottom_program.pop()\n",
    "\n",
    "# Find the bottom program for the provided input\n",
    "bottom_program = find_bottom_program(tower_data)\n",
    "bottom_program"
   ]
  },
  {
   "cell_type": "code",
   "execution_count": 3,
   "id": "2e781924-dffc-4893-8908-2030d700c0fa",
   "metadata": {},
   "outputs": [
    {
     "data": {
      "text/plain": [
       "('ptshtrn', 521)"
      ]
     },
     "execution_count": 3,
     "metadata": {},
     "output_type": "execute_result"
    }
   ],
   "source": [
    "from collections import defaultdict\n",
    "\n",
    "# Parse the input into a usable structure\n",
    "def parse_tower(tower_data):\n",
    "    weights = {}\n",
    "    children = defaultdict(list)\n",
    "    \n",
    "    for line in tower_data:\n",
    "        parts = line.split(\"->\")\n",
    "        program_name = parts[0].split()[0]\n",
    "        program_weight = int(parts[0].split()[1].strip(\"()\"))\n",
    "        weights[program_name] = program_weight\n",
    "        \n",
    "        if len(parts) > 1:\n",
    "            child_programs = parts[1].strip().split(\", \")\n",
    "            children[program_name].extend(child_programs)\n",
    "    \n",
    "    return weights, children\n",
    "\n",
    "# Recursive function to calculate the total weight of a tower\n",
    "def calculate_tower_weight(node, weights, children):\n",
    "    return weights[node] + sum(calculate_tower_weight(child, weights, children) for child in children[node])\n",
    "\n",
    "# Recursive function to find the unbalanced program\n",
    "def find_unbalanced_program(node, weights, children):\n",
    "    child_weights = {child: calculate_tower_weight(child, weights, children) for child in children[node]}\n",
    "    \n",
    "    if len(set(child_weights.values())) <= 1:\n",
    "        # If all child towers are balanced, this node is the unbalanced one\n",
    "        return None, 0\n",
    "    \n",
    "    # Find the unbalanced child and correct weight\n",
    "    weight_counts = defaultdict(list)\n",
    "    for child, weight in child_weights.items():\n",
    "        weight_counts[weight].append(child)\n",
    "    \n",
    "    # The balanced weight is the one with more than one child\n",
    "    balanced_weight = [w for w, nodes in weight_counts.items() if len(nodes) > 1][0]\n",
    "    unbalanced_weight = [w for w in weight_counts if w != balanced_weight][0]\n",
    "    \n",
    "    unbalanced_child = weight_counts[unbalanced_weight][0]\n",
    "    result, correction = find_unbalanced_program(unbalanced_child, weights, children)\n",
    "    \n",
    "    if result is None:\n",
    "        # The unbalanced node is this child, so calculate the adjustment\n",
    "        correct_weight = weights[unbalanced_child] + (balanced_weight - unbalanced_weight)\n",
    "        return unbalanced_child, correct_weight\n",
    "    \n",
    "    return result, correction\n",
    "\n",
    "# Parse the input and find the bottom program\n",
    "weights, children = parse_tower(tower_data)\n",
    "bottom_program = find_bottom_program(tower_data)\n",
    "\n",
    "# Find the unbalanced program and its corrected weight\n",
    "unbalanced_program, corrected_weight = find_unbalanced_program(bottom_program, weights, children)\n",
    "unbalanced_program, corrected_weight\n"
   ]
  },
  {
   "cell_type": "markdown",
   "id": "d5c4ada8-f82c-4ee0-a599-efa4876b54d6",
   "metadata": {},
   "source": [
    "The program causing the imbalance is ptshtrn, and its weight needs to be adjusted to 521 to balance the entire tower."
   ]
  },
  {
   "cell_type": "code",
   "execution_count": null,
   "id": "c3b35af4-cd48-47fc-8ba8-0c6c5194f573",
   "metadata": {},
   "outputs": [],
   "source": []
  }
 ],
 "metadata": {
  "kernelspec": {
   "display_name": "Python 3 (ipykernel)",
   "language": "python",
   "name": "python3"
  },
  "language_info": {
   "codemirror_mode": {
    "name": "ipython",
    "version": 3
   },
   "file_extension": ".py",
   "mimetype": "text/x-python",
   "name": "python",
   "nbconvert_exporter": "python",
   "pygments_lexer": "ipython3",
   "version": "3.12.3"
  }
 },
 "nbformat": 4,
 "nbformat_minor": 5
}
