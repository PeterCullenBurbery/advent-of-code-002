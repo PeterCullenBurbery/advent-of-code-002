{
 "cells": [
  {
   "cell_type": "markdown",
   "id": "0eb75011",
   "metadata": {},
   "source": [
    "# Advent of Code"
   ]
  },
  {
   "cell_type": "markdown",
   "id": "72fc552a",
   "metadata": {},
   "source": [
    "## 2017-012-004\n",
    "## 2017 004"
   ]
  },
  {
   "cell_type": "markdown",
   "id": "09723d76",
   "metadata": {},
   "source": [
    "https://adventofcode.com/2017/day/4"
   ]
  },
  {
   "cell_type": "code",
   "execution_count": null,
   "id": "8925779c",
   "metadata": {},
   "outputs": [],
   "source": []
  }
 ],
 "metadata": {
  "kernelspec": {
   "display_name": "Python 3 (ipykernel)",
   "language": "python",
   "name": "python3"
  },
  "language_info": {
   "name": "python",
   "version": "3.12.3"
  }
 },
 "nbformat": 4,
 "nbformat_minor": 5
}
