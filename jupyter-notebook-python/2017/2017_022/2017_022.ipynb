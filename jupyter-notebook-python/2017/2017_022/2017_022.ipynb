{
 "cells": [
  {
   "cell_type": "markdown",
   "id": "e8661c04",
   "metadata": {},
   "source": [
    "# Advent of Code"
   ]
  },
  {
   "cell_type": "markdown",
   "id": "c7e2bc49",
   "metadata": {},
   "source": [
    "## 2017-012-022\n",
    "## 2017 022"
   ]
  },
  {
   "cell_type": "markdown",
   "id": "a57a66f6",
   "metadata": {},
   "source": [
    "https://adventofcode.com/2017/day/22"
   ]
  },
  {
   "cell_type": "code",
   "execution_count": 2,
   "id": "d3c55126",
   "metadata": {},
   "outputs": [
    {
     "data": {
      "text/plain": [
       "5246"
      ]
     },
     "execution_count": 2,
     "metadata": {},
     "output_type": "execute_result"
    }
   ],
   "source": [
    "# Load the input grid\n",
    "def load_grid(file_path):\n",
    "    with open(file_path, 'r') as file:\n",
    "        return [list(line.strip()) for line in file.readlines()]\n",
    "\n",
    "# Define directions and their changes\n",
    "DIRECTIONS = ['up', 'right', 'down', 'left']\n",
    "DELTA = {'up': (-1, 0), 'down': (1, 0), 'left': (0, -1), 'right': (0, 1)}\n",
    "\n",
    "# Simulate virus carrier activity\n",
    "def simulate_virus(grid, bursts):\n",
    "    # Convert grid to a dictionary for infinite grid support\n",
    "    infected = {(x, y): True for x, row in enumerate(grid) for y, cell in enumerate(row) if cell == '#'}\n",
    "    position = (len(grid) // 2, len(grid[0]) // 2)\n",
    "    direction = 'up'\n",
    "    infection_count = 0\n",
    "\n",
    "    for _ in range(bursts):\n",
    "        if position in infected:\n",
    "            # Turn right and clean the node\n",
    "            direction = DIRECTIONS[(DIRECTIONS.index(direction) + 1) % 4]\n",
    "            del infected[position]\n",
    "        else:\n",
    "            # Turn left and infect the node\n",
    "            direction = DIRECTIONS[(DIRECTIONS.index(direction) - 1) % 4]\n",
    "            infected[position] = True\n",
    "            infection_count += 1\n",
    "\n",
    "        # Move forward\n",
    "        delta = DELTA[direction]\n",
    "        position = (position[0] + delta[0], position[1] + delta[1])\n",
    "\n",
    "    return infection_count\n",
    "\n",
    "# Load the grid and simulate\n",
    "grid = load_grid('input.txt')\n",
    "infection_count = simulate_virus(grid, 10_000)\n",
    "infection_count"
   ]
  },
  {
   "cell_type": "code",
   "execution_count": 4,
   "id": "2e4cbe28-32ce-4af0-b91e-900110985a23",
   "metadata": {},
   "outputs": [
    {
     "data": {
      "text/plain": [
       "2512059"
      ]
     },
     "execution_count": 4,
     "metadata": {},
     "output_type": "execute_result"
    }
   ],
   "source": [
    "# Simulate the advanced virus carrier activity\n",
    "def simulate_advanced_virus(grid, bursts):\n",
    "    # Convert grid to a dictionary for infinite grid support\n",
    "    states = {}\n",
    "    for x, row in enumerate(grid):\n",
    "        for y, cell in enumerate(row):\n",
    "            if cell == '#':\n",
    "                states[(x, y)] = 'infected'\n",
    "    \n",
    "    position = (len(grid) // 2, len(grid[0]) // 2)\n",
    "    direction = 'up'\n",
    "    infection_count = 0\n",
    "\n",
    "    for _ in range(bursts):\n",
    "        # Get current node state (default to 'clean')\n",
    "        state = states.get(position, 'clean')\n",
    "\n",
    "        # Determine direction change and state transition\n",
    "        if state == 'clean':\n",
    "            direction = DIRECTIONS[(DIRECTIONS.index(direction) - 1) % 4]  # Turn left\n",
    "            states[position] = 'weakened'\n",
    "        elif state == 'weakened':\n",
    "            states[position] = 'infected'  # Stay in the same direction\n",
    "            infection_count += 1\n",
    "        elif state == 'infected':\n",
    "            direction = DIRECTIONS[(DIRECTIONS.index(direction) + 1) % 4]  # Turn right\n",
    "            states[position] = 'flagged'\n",
    "        elif state == 'flagged':\n",
    "            direction = DIRECTIONS[(DIRECTIONS.index(direction) + 2) % 4]  # Reverse direction\n",
    "            del states[position]  # Clean the node\n",
    "\n",
    "        # Move forward\n",
    "        delta = DELTA[direction]\n",
    "        position = (position[0] + delta[0], position[1] + delta[1])\n",
    "\n",
    "    return infection_count\n",
    "\n",
    "# Load the grid and simulate\n",
    "grid = load_grid('input.txt')\n",
    "advanced_infection_count = simulate_advanced_virus(grid, 10_000_000)\n",
    "advanced_infection_count"
   ]
  },
  {
   "cell_type": "code",
   "execution_count": null,
   "id": "bcc773f9-b821-4afa-9cd7-2d6170e20623",
   "metadata": {},
   "outputs": [],
   "source": []
  }
 ],
 "metadata": {
  "kernelspec": {
   "display_name": "Python 3 (ipykernel)",
   "language": "python",
   "name": "python3"
  },
  "language_info": {
   "codemirror_mode": {
    "name": "ipython",
    "version": 3
   },
   "file_extension": ".py",
   "mimetype": "text/x-python",
   "name": "python",
   "nbconvert_exporter": "python",
   "pygments_lexer": "ipython3",
   "version": "3.12.3"
  }
 },
 "nbformat": 4,
 "nbformat_minor": 5
}
