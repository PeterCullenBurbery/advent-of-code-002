{
 "cells": [
  {
   "cell_type": "markdown",
   "id": "435dc223",
   "metadata": {},
   "source": [
    "# Advent of Code"
   ]
  },
  {
   "cell_type": "markdown",
   "id": "e63a2443",
   "metadata": {},
   "source": [
    "## 2017-012-007\n",
    "## 2017 007"
   ]
  },
  {
   "cell_type": "markdown",
   "id": "9004d56f",
   "metadata": {},
   "source": [
    "https://adventofcode.com/2017/day/7"
   ]
  },
  {
   "cell_type": "code",
   "execution_count": null,
   "id": "2820ef16",
   "metadata": {},
   "outputs": [],
   "source": []
  }
 ],
 "metadata": {
  "kernelspec": {
   "display_name": "Python 3 (ipykernel)",
   "language": "python",
   "name": "python3"
  },
  "language_info": {
   "name": "python",
   "version": "3.12.3"
  }
 },
 "nbformat": 4,
 "nbformat_minor": 5
}
