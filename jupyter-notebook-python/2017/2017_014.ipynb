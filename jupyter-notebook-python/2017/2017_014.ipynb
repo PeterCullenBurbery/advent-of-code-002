{
 "cells": [
  {
   "cell_type": "markdown",
   "id": "73f466dd",
   "metadata": {},
   "source": [
    "# Advent of Code"
   ]
  },
  {
   "cell_type": "markdown",
   "id": "3d223f8b",
   "metadata": {},
   "source": [
    "## 2017-012-014\n",
    "## 2017 014"
   ]
  },
  {
   "cell_type": "markdown",
   "id": "e489b56a",
   "metadata": {},
   "source": [
    "https://adventofcode.com/2017/day/14"
   ]
  },
  {
   "cell_type": "code",
   "execution_count": null,
   "id": "9383373e",
   "metadata": {},
   "outputs": [],
   "source": []
  }
 ],
 "metadata": {
  "kernelspec": {
   "display_name": "Python 3 (ipykernel)",
   "language": "python",
   "name": "python3"
  },
  "language_info": {
   "name": "python",
   "version": "3.12.3"
  }
 },
 "nbformat": 4,
 "nbformat_minor": 5
}
