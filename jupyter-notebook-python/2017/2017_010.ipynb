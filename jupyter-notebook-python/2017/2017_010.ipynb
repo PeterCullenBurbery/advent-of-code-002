{
 "cells": [
  {
   "cell_type": "markdown",
   "id": "0c2479df",
   "metadata": {},
   "source": [
    "# Advent of Code"
   ]
  },
  {
   "cell_type": "markdown",
   "id": "3302d561",
   "metadata": {},
   "source": [
    "## 2017-012-010\n",
    "## 2017 010"
   ]
  },
  {
   "cell_type": "markdown",
   "id": "07052d07",
   "metadata": {},
   "source": [
    "https://adventofcode.com/2017/day/10"
   ]
  },
  {
   "cell_type": "code",
   "execution_count": null,
   "id": "9b9fb674",
   "metadata": {},
   "outputs": [],
   "source": []
  }
 ],
 "metadata": {
  "kernelspec": {
   "display_name": "Python 3 (ipykernel)",
   "language": "python",
   "name": "python3"
  },
  "language_info": {
   "name": "python",
   "version": "3.12.3"
  }
 },
 "nbformat": 4,
 "nbformat_minor": 5
}
