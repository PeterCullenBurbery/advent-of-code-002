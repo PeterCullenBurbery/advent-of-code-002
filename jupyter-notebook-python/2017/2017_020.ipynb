{
 "cells": [
  {
   "cell_type": "markdown",
   "id": "86ccaf8e",
   "metadata": {},
   "source": [
    "# Advent of Code"
   ]
  },
  {
   "cell_type": "markdown",
   "id": "621157d0",
   "metadata": {},
   "source": [
    "## 2017-012-020\n",
    "## 2017 020"
   ]
  },
  {
   "cell_type": "markdown",
   "id": "158240ea",
   "metadata": {},
   "source": [
    "https://adventofcode.com/2017/day/20"
   ]
  },
  {
   "cell_type": "code",
   "execution_count": null,
   "id": "54339837",
   "metadata": {},
   "outputs": [],
   "source": []
  }
 ],
 "metadata": {
  "kernelspec": {
   "display_name": "Python 3 (ipykernel)",
   "language": "python",
   "name": "python3"
  },
  "language_info": {
   "name": "python",
   "version": "3.12.3"
  }
 },
 "nbformat": 4,
 "nbformat_minor": 5
}
