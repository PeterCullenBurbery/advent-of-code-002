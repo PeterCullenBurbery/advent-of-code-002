{
 "cells": [
  {
   "cell_type": "markdown",
   "id": "3cb3d5d4",
   "metadata": {},
   "source": [
    "# Advent of Code"
   ]
  },
  {
   "cell_type": "markdown",
   "id": "289c59c6",
   "metadata": {},
   "source": [
    "## 2017-012-025\n",
    "## 2017 025"
   ]
  },
  {
   "cell_type": "markdown",
   "id": "18ca0ddb",
   "metadata": {},
   "source": [
    "https://adventofcode.com/2017/day/25"
   ]
  },
  {
   "cell_type": "code",
   "execution_count": 3,
   "id": "8ff6dbd8",
   "metadata": {},
   "outputs": [
    {
     "data": {
      "text/plain": [
       "3362"
      ]
     },
     "execution_count": 3,
     "metadata": {},
     "output_type": "execute_result"
    }
   ],
   "source": [
    "# Simulate the Turing machine\n",
    "def simulate_turing_machine(initial_state, steps, blueprint):\n",
    "    tape = {}\n",
    "    cursor = 0\n",
    "    state = initial_state\n",
    "    \n",
    "    for _ in range(steps):\n",
    "        current_value = tape.get(cursor, 0)\n",
    "        write_value, move_direction, next_state = blueprint[state][current_value]\n",
    "        tape[cursor] = write_value\n",
    "        cursor += move_direction\n",
    "        state = next_state\n",
    "    \n",
    "    return sum(tape.values())\n",
    "# Refined parsing logic for the blueprint\n",
    "def parse_blueprint(file_path):\n",
    "    blueprint = {}\n",
    "    with open(file_path, 'r') as file:\n",
    "        lines = [line.strip() for line in file if line.strip()]\n",
    "    \n",
    "    # Extract the initial state and checksum steps\n",
    "    initial_state = lines[0].split()[-1][0]\n",
    "    steps = int(lines[1].split()[-2])\n",
    "    \n",
    "    # Parse states\n",
    "    i = 2\n",
    "    while i < len(lines):\n",
    "        if lines[i].startswith(\"In state\"):\n",
    "            state = lines[i].split()[-1][0]\n",
    "            blueprint[state] = {}\n",
    "            i += 1\n",
    "            for _ in range(2):  # Each state has two conditions\n",
    "                current_value = int(lines[i].split()[-1][0])\n",
    "                write_value = int(lines[i + 1].split()[-1][0])\n",
    "                move_direction = 1 if \"right\" in lines[i + 2] else -1\n",
    "                next_state = lines[i + 3].split()[-1][0]\n",
    "                blueprint[state][current_value] = (write_value, move_direction, next_state)\n",
    "                i += 4\n",
    "        else:\n",
    "            i += 1\n",
    "    return initial_state, steps, blueprint\n",
    "\n",
    "# Reload the blueprint and simulate\n",
    "initial_state, steps, blueprint = parse_blueprint('input.txt')\n",
    "checksum = simulate_turing_machine(initial_state, steps, blueprint)\n",
    "checksum"
   ]
  },
  {
   "cell_type": "code",
   "execution_count": null,
   "id": "a108a25d-e5e4-4f54-9117-62c9cdfaee66",
   "metadata": {},
   "outputs": [],
   "source": []
  }
 ],
 "metadata": {
  "kernelspec": {
   "display_name": "Python 3 (ipykernel)",
   "language": "python",
   "name": "python3"
  },
  "language_info": {
   "codemirror_mode": {
    "name": "ipython",
    "version": 3
   },
   "file_extension": ".py",
   "mimetype": "text/x-python",
   "name": "python",
   "nbconvert_exporter": "python",
   "pygments_lexer": "ipython3",
   "version": "3.12.3"
  }
 },
 "nbformat": 4,
 "nbformat_minor": 5
}
