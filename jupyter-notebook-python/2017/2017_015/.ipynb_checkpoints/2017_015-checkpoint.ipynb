{
 "cells": [
  {
   "cell_type": "markdown",
   "id": "9276303a",
   "metadata": {},
   "source": [
    "# Advent of Code"
   ]
  },
  {
   "cell_type": "markdown",
   "id": "fa214671",
   "metadata": {},
   "source": [
    "## 2017-012-015\n",
    "## 2017 015"
   ]
  },
  {
   "cell_type": "markdown",
   "id": "1af06e75",
   "metadata": {},
   "source": [
    "https://adventofcode.com/2017/day/15"
   ]
  },
  {
   "cell_type": "code",
   "execution_count": 2,
   "id": "36d37ddf",
   "metadata": {},
   "outputs": [
    {
     "data": {
      "text/plain": [
       "592"
      ]
     },
     "execution_count": 2,
     "metadata": {},
     "output_type": "execute_result"
    }
   ],
   "source": [
    "# Adjusted program to parse input from uploaded input.txt\n",
    "def parse_input(file_path):\n",
    "    \"\"\"Parses the input file to extract starting values for generators.\"\"\"\n",
    "    with open(file_path, 'r') as file:\n",
    "        lines = file.readlines()\n",
    "    start_a = int(lines[0].split()[-1])\n",
    "    start_b = int(lines[1].split()[-1])\n",
    "    return start_a, start_b\n",
    "\n",
    "# File path for the uploaded input\n",
    "input_file = 'input.txt'\n",
    "\n",
    "# Parse input\n",
    "start_a, start_b = parse_input(input_file)\n",
    "\n",
    "# Define generator constants\n",
    "FACTOR_A = 16807\n",
    "FACTOR_B = 48271\n",
    "DIVISOR = 2147483647\n",
    "PAIRS_COUNT = 40_000_000\n",
    "\n",
    "# Initialize generators\n",
    "value_a = start_a\n",
    "value_b = start_b\n",
    "\n",
    "# Count matches\n",
    "match_count = 0\n",
    "\n",
    "# Generate and compare 40 million pairs\n",
    "for _ in range(PAIRS_COUNT):\n",
    "    value_a = (value_a * FACTOR_A) % DIVISOR\n",
    "    value_b = (value_b * FACTOR_B) % DIVISOR\n",
    "    \n",
    "    # Compare lowest 16 bits\n",
    "    if (value_a & 0xFFFF) == (value_b & 0xFFFF):\n",
    "        match_count += 1\n",
    "\n",
    "match_count\n"
   ]
  },
  {
   "cell_type": "code",
   "execution_count": null,
   "id": "1d09b8cc-a462-44bb-ab0b-50a51641fc01",
   "metadata": {},
   "outputs": [],
   "source": [
    "# Define new pair count for part two\n",
    "PAIRS_COUNT_PART_TWO = 5_000_000\n",
    "\n",
    "# Generator filters\n",
    "def generator_a(start):\n",
    "    \"\"\"Generator A produces values that are multiples of 4.\"\"\"\n",
    "    value = start\n",
    "    while True:\n",
    "        value = (value * FACTOR_A) % DIVISOR\n",
    "        if value % 4 == 0:\n",
    "            yield value\n",
    "\n",
    "def generator_b(start):\n",
    "    \"\"\"Generator B produces values that are multiples of 8.\"\"\"\n",
    "    value = start\n",
    "    while True:\n",
    "        value = (value * FACTOR_B) % DIVISOR\n",
    "        if value % 8 == 0:\n",
    "            yield value\n",
    "\n",
    "# Create generators\n",
    "gen_a = generator_a(start_a)\n",
    "gen_b = generator_b(start_b)\n",
    "\n",
    "# Count matches\n",
    "match_count = 0\n",
    "\n",
    "# Generate and compare 5 million pairs\n",
    "for _ in range(PAIRS_COUNT_PART_TWO):\n",
    "    value_a = next(gen_a)\n",
    "    value_b = next(gen_b)\n",
    "    \n",
    "    # Compare lowest 16 bits\n",
    "    if (value_a & 0xFFFF) == (value_b & 0xFFFF):\n",
    "        match_count += 1\n",
    "\n",
    "match_count"
   ]
  },
  {
   "cell_type": "code",
   "execution_count": null,
   "id": "f06a9ee1-6dbf-4e23-aa7f-aeaba0875807",
   "metadata": {},
   "outputs": [],
   "source": []
  }
 ],
 "metadata": {
  "kernelspec": {
   "display_name": "Python 3 (ipykernel)",
   "language": "python",
   "name": "python3"
  },
  "language_info": {
   "codemirror_mode": {
    "name": "ipython",
    "version": 3
   },
   "file_extension": ".py",
   "mimetype": "text/x-python",
   "name": "python",
   "nbconvert_exporter": "python",
   "pygments_lexer": "ipython3",
   "version": "3.12.3"
  }
 },
 "nbformat": 4,
 "nbformat_minor": 5
}
