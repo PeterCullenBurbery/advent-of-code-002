{
 "cells": [
  {
   "cell_type": "markdown",
   "id": "532a2b2c",
   "metadata": {},
   "source": [
    "# Advent of Code"
   ]
  },
  {
   "cell_type": "markdown",
   "id": "b76338de",
   "metadata": {},
   "source": [
    "## 2017-012-018\n",
    "## 2017 018"
   ]
  },
  {
   "cell_type": "markdown",
   "id": "f3aefb13",
   "metadata": {},
   "source": [
    "https://adventofcode.com/2017/day/18"
   ]
  },
  {
   "cell_type": "code",
   "execution_count": 2,
   "id": "e34ff758",
   "metadata": {},
   "outputs": [
    {
     "data": {
      "text/plain": [
       "1187"
      ]
     },
     "execution_count": 2,
     "metadata": {},
     "output_type": "execute_result"
    }
   ],
   "source": [
    "# Parse the input file into a list of instructions\n",
    "def parse_instructions(file_path):\n",
    "    with open(file_path, 'r') as file:\n",
    "        return [line.strip().split() for line in file.readlines()]\n",
    "\n",
    "# Load instructions\n",
    "instructions = parse_instructions('input.txt')\n",
    "\n",
    "# Initialize registers and state\n",
    "registers = {}\n",
    "last_sound = None\n",
    "instruction_pointer = 0\n",
    "\n",
    "def get_value(x):\n",
    "    \"\"\"Returns the value of a register or a direct integer.\"\"\"\n",
    "    if x.isalpha():  # It's a register\n",
    "        return registers.get(x, 0)\n",
    "    return int(x)  # It's an integer\n",
    "\n",
    "# Execute instructions until rcv is triggered with a non-zero value\n",
    "while 0 <= instruction_pointer < len(instructions):\n",
    "    parts = instructions[instruction_pointer]\n",
    "    cmd = parts[0]\n",
    "    x = parts[1]\n",
    "    y = parts[2] if len(parts) > 2 else None\n",
    "    \n",
    "    if cmd == \"snd\":\n",
    "        # Play sound\n",
    "        last_sound = get_value(x)\n",
    "    elif cmd == \"set\":\n",
    "        # Set register\n",
    "        registers[x] = get_value(y)\n",
    "    elif cmd == \"add\":\n",
    "        # Add to register\n",
    "        registers[x] = get_value(x) + get_value(y)\n",
    "    elif cmd == \"mul\":\n",
    "        # Multiply register\n",
    "        registers[x] = get_value(x) * get_value(y)\n",
    "    elif cmd == \"mod\":\n",
    "        # Modulo operation\n",
    "        registers[x] = get_value(x) % get_value(y)\n",
    "    elif cmd == \"rcv\":\n",
    "        # Recover frequency if non-zero\n",
    "        if get_value(x) != 0:\n",
    "            break\n",
    "    elif cmd == \"jgz\":\n",
    "        # Jump if greater than zero\n",
    "        if get_value(x) > 0:\n",
    "            instruction_pointer += get_value(y)\n",
    "            continue  # Skip the normal increment\n",
    "    \n",
    "    # Increment instruction pointer\n",
    "    instruction_pointer += 1\n",
    "\n",
    "last_sound\n"
   ]
  },
  {
   "cell_type": "code",
   "execution_count": 3,
   "id": "9f8f7296-43ed-4d54-a567-ebaeb7d92bb5",
   "metadata": {},
   "outputs": [
    {
     "data": {
      "text/plain": [
       "5969"
      ]
     },
     "execution_count": 3,
     "metadata": {},
     "output_type": "execute_result"
    }
   ],
   "source": [
    "from collections import defaultdict, deque\n",
    "\n",
    "# Load instructions for both programs\n",
    "instructions = parse_instructions('input.txt')\n",
    "\n",
    "# Initialize program states\n",
    "programs = [\n",
    "    {\"registers\": defaultdict(int), \"queue\": deque(), \"pointer\": 0, \"send_count\": 0, \"waiting\": False},\n",
    "    {\"registers\": defaultdict(int), \"queue\": deque(), \"pointer\": 0, \"send_count\": 0, \"waiting\": False}\n",
    "]\n",
    "programs[0][\"registers\"][\"p\"] = 0\n",
    "programs[1][\"registers\"][\"p\"] = 1\n",
    "\n",
    "def get_value(state, x):\n",
    "    \"\"\"Returns the value of a register or a direct integer.\"\"\"\n",
    "    if x.isalpha():  # It's a register\n",
    "        return state[\"registers\"][x]\n",
    "    return int(x)  # It's an integer\n",
    "\n",
    "# Function to execute a single instruction for a program\n",
    "def execute_instruction(program_id, other_program_id):\n",
    "    state = programs[program_id]\n",
    "    other_state = programs[other_program_id]\n",
    "    instructions_count = len(instructions)\n",
    "    \n",
    "    if not (0 <= state[\"pointer\"] < instructions_count):\n",
    "        return False  # Terminated\n",
    "    \n",
    "    parts = instructions[state[\"pointer\"]]\n",
    "    cmd = parts[0]\n",
    "    x = parts[1]\n",
    "    y = parts[2] if len(parts) > 2 else None\n",
    "    \n",
    "    if cmd == \"snd\":\n",
    "        # Send value to the other program's queue\n",
    "        value = get_value(state, x)\n",
    "        other_state[\"queue\"].append(value)\n",
    "        state[\"send_count\"] += 1\n",
    "    elif cmd == \"set\":\n",
    "        # Set register\n",
    "        state[\"registers\"][x] = get_value(state, y)\n",
    "    elif cmd == \"add\":\n",
    "        # Add to register\n",
    "        state[\"registers\"][x] += get_value(state, y)\n",
    "    elif cmd == \"mul\":\n",
    "        # Multiply register\n",
    "        state[\"registers\"][x] *= get_value(state, y)\n",
    "    elif cmd == \"mod\":\n",
    "        # Modulo operation\n",
    "        state[\"registers\"][x] %= get_value(state, y)\n",
    "    elif cmd == \"rcv\":\n",
    "        # Receive from queue\n",
    "        if state[\"queue\"]:\n",
    "            state[\"registers\"][x] = state[\"queue\"].popleft()\n",
    "            state[\"waiting\"] = False\n",
    "        else:\n",
    "            state[\"waiting\"] = True\n",
    "            return False  # Blocked\n",
    "    elif cmd == \"jgz\":\n",
    "        # Jump if greater than zero\n",
    "        if get_value(state, x) > 0:\n",
    "            state[\"pointer\"] += get_value(state, y)\n",
    "            return True  # Skip the normal increment\n",
    "    \n",
    "    state[\"pointer\"] += 1\n",
    "    return True\n",
    "\n",
    "# Simulate the two programs\n",
    "while True:\n",
    "    p0_active = execute_instruction(0, 1)\n",
    "    p1_active = execute_instruction(1, 0)\n",
    "    \n",
    "    # Check if both programs are waiting or terminated\n",
    "    if not p0_active and not p1_active:\n",
    "        break\n",
    "\n",
    "# Get the send count for program 1\n",
    "programs[1][\"send_count\"]\n"
   ]
  },
  {
   "cell_type": "code",
   "execution_count": null,
   "id": "e65abd3b-5973-4f39-be7b-b5833e190c81",
   "metadata": {},
   "outputs": [],
   "source": []
  }
 ],
 "metadata": {
  "kernelspec": {
   "display_name": "Python 3 (ipykernel)",
   "language": "python",
   "name": "python3"
  },
  "language_info": {
   "codemirror_mode": {
    "name": "ipython",
    "version": 3
   },
   "file_extension": ".py",
   "mimetype": "text/x-python",
   "name": "python",
   "nbconvert_exporter": "python",
   "pygments_lexer": "ipython3",
   "version": "3.12.3"
  }
 },
 "nbformat": 4,
 "nbformat_minor": 5
}
