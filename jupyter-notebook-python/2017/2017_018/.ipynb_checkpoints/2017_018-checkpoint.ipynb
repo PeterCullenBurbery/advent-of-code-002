{
 "cells": [
  {
   "cell_type": "markdown",
   "id": "532a2b2c",
   "metadata": {},
   "source": [
    "# Advent of Code"
   ]
  },
  {
   "cell_type": "markdown",
   "id": "b76338de",
   "metadata": {},
   "source": [
    "## 2017-012-018\n",
    "## 2017 018"
   ]
  },
  {
   "cell_type": "markdown",
   "id": "f3aefb13",
   "metadata": {},
   "source": [
    "https://adventofcode.com/2017/day/18"
   ]
  },
  {
   "cell_type": "code",
   "execution_count": null,
   "id": "e34ff758",
   "metadata": {},
   "outputs": [],
   "source": []
  }
 ],
 "metadata": {},
 "nbformat": 4,
 "nbformat_minor": 5
}
