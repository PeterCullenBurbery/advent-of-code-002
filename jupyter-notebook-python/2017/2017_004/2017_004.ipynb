{
 "cells": [
  {
   "cell_type": "markdown",
   "id": "83b0e366",
   "metadata": {},
   "source": [
    "# Advent of Code"
   ]
  },
  {
   "cell_type": "markdown",
   "id": "89226ad4",
   "metadata": {},
   "source": [
    "## 2017-012-004\n",
    "## 2017 004"
   ]
  },
  {
   "cell_type": "markdown",
   "id": "73690fdb",
   "metadata": {},
   "source": [
    "https://adventofcode.com/2017/day/4"
   ]
  },
  {
   "cell_type": "code",
   "execution_count": 1,
   "id": "89ca4c94",
   "metadata": {},
   "outputs": [
    {
     "data": {
      "text/plain": [
       "455"
      ]
     },
     "execution_count": 1,
     "metadata": {},
     "output_type": "execute_result"
    }
   ],
   "source": [
    "# Load the input file with passphrases\n",
    "with open('input.txt', 'r') as file:\n",
    "    passphrases = file.readlines()\n",
    "\n",
    "# Function to check if a passphrase is valid\n",
    "def is_valid_passphrase(passphrase):\n",
    "    words = passphrase.strip().split()\n",
    "    return len(words) == len(set(words))\n",
    "\n",
    "# Count the number of valid passphrases\n",
    "valid_count = sum(1 for passphrase in passphrases if is_valid_passphrase(passphrase))\n",
    "valid_count\n"
   ]
  },
  {
   "cell_type": "code",
   "execution_count": 2,
   "id": "6f22bbb7-cc53-4377-a0cf-986cca2d7587",
   "metadata": {},
   "outputs": [
    {
     "data": {
      "text/plain": [
       "186"
      ]
     },
     "execution_count": 2,
     "metadata": {},
     "output_type": "execute_result"
    }
   ],
   "source": [
    "# Function to check if a passphrase is valid under the new policy\n",
    "def is_valid_passphrase_no_anagrams(passphrase):\n",
    "    words = passphrase.strip().split()\n",
    "    # Sort each word alphabetically and check for duplicates\n",
    "    sorted_words = [''.join(sorted(word)) for word in words]\n",
    "    return len(sorted_words) == len(set(sorted_words))\n",
    "\n",
    "# Count the number of valid passphrases under the new policy\n",
    "valid_count_no_anagrams = sum(1 for passphrase in passphrases if is_valid_passphrase_no_anagrams(passphrase))\n",
    "valid_count_no_anagrams\n"
   ]
  },
  {
   "cell_type": "code",
   "execution_count": null,
   "id": "624d5d28-42d8-46d2-abf9-1428906c6f39",
   "metadata": {},
   "outputs": [],
   "source": []
  }
 ],
 "metadata": {
  "kernelspec": {
   "display_name": "Python 3 (ipykernel)",
   "language": "python",
   "name": "python3"
  },
  "language_info": {
   "codemirror_mode": {
    "name": "ipython",
    "version": 3
   },
   "file_extension": ".py",
   "mimetype": "text/x-python",
   "name": "python",
   "nbconvert_exporter": "python",
   "pygments_lexer": "ipython3",
   "version": "3.12.3"
  }
 },
 "nbformat": 4,
 "nbformat_minor": 5
}
