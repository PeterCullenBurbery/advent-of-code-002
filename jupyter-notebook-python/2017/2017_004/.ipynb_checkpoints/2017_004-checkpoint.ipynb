{
 "cells": [
  {
   "cell_type": "markdown",
   "id": "83b0e366",
   "metadata": {},
   "source": [
    "# Advent of Code"
   ]
  },
  {
   "cell_type": "markdown",
   "id": "89226ad4",
   "metadata": {},
   "source": [
    "## 2017-012-004\n",
    "## 2017 004"
   ]
  },
  {
   "cell_type": "markdown",
   "id": "73690fdb",
   "metadata": {},
   "source": [
    "https://adventofcode.com/2017/day/4"
   ]
  },
  {
   "cell_type": "code",
   "execution_count": null,
   "id": "89ca4c94",
   "metadata": {},
   "outputs": [],
   "source": []
  }
 ],
 "metadata": {},
 "nbformat": 4,
 "nbformat_minor": 5
}
