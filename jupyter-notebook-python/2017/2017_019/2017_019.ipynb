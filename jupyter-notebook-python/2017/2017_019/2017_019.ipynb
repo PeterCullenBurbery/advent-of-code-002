{
 "cells": [
  {
   "cell_type": "markdown",
   "id": "22427590",
   "metadata": {},
   "source": [
    "# Advent of Code"
   ]
  },
  {
   "cell_type": "markdown",
   "id": "941a17b1",
   "metadata": {},
   "source": [
    "## 2017-012-019\n",
    "## 2017 019"
   ]
  },
  {
   "cell_type": "markdown",
   "id": "d00d3035",
   "metadata": {},
   "source": [
    "https://adventofcode.com/2017/day/19"
   ]
  },
  {
   "cell_type": "code",
   "execution_count": 1,
   "id": "47c1a501",
   "metadata": {},
   "outputs": [
    {
     "data": {
      "text/plain": [
       "'PVBSCMEQHY'"
      ]
     },
     "execution_count": 1,
     "metadata": {},
     "output_type": "execute_result"
    }
   ],
   "source": [
    "# Load the input diagram from the file\n",
    "def load_diagram(file_path):\n",
    "    with open(file_path, 'r') as file:\n",
    "        return [line.rstrip('\\n') for line in file.readlines()]\n",
    "\n",
    "# Define movement directions\n",
    "DIRECTIONS = {\n",
    "    'down': (1, 0),\n",
    "    'up': (-1, 0),\n",
    "    'left': (0, -1),\n",
    "    'right': (0, 1)\n",
    "}\n",
    "\n",
    "# Load the diagram\n",
    "diagram = load_diagram('input.txt')\n",
    "\n",
    "# Find the starting position (first '|' in the top row)\n",
    "start_x = diagram[0].index('|')\n",
    "position = (0, start_x)\n",
    "direction = 'down'\n",
    "letters_collected = []\n",
    "steps = 0\n",
    "\n",
    "# Traverse the diagram\n",
    "while True:\n",
    "    steps += 1\n",
    "    x, y = position\n",
    "    dx, dy = DIRECTIONS[direction]\n",
    "    next_x, next_y = x + dx, y + dy\n",
    "    \n",
    "    # Out of bounds\n",
    "    if not (0 <= next_x < len(diagram)) or not (0 <= next_y < len(diagram[next_x])):\n",
    "        break\n",
    "\n",
    "    # Get the next character\n",
    "    char = diagram[next_x][next_y]\n",
    "\n",
    "    if char == ' ':\n",
    "        break  # Reached the end of the path\n",
    "    elif char.isalpha():  # Collect letters\n",
    "        letters_collected.append(char)\n",
    "    elif char == '+':  # Change direction\n",
    "        if direction in ['up', 'down']:  # Turn left or right\n",
    "            if next_y > 0 and diagram[next_x][next_y - 1] != ' ':\n",
    "                direction = 'left'\n",
    "            elif next_y + 1 < len(diagram[next_x]) and diagram[next_x][next_y + 1] != ' ':\n",
    "                direction = 'right'\n",
    "        elif direction in ['left', 'right']:  # Turn up or down\n",
    "            if next_x > 0 and diagram[next_x - 1][next_y] != ' ':\n",
    "                direction = 'up'\n",
    "            elif next_x + 1 < len(diagram) and diagram[next_x + 1][next_y] != ' ':\n",
    "                direction = 'down'\n",
    "\n",
    "    # Move to the next position\n",
    "    position = (next_x, next_y)\n",
    "\n",
    "# Collect the letters seen on the path\n",
    "''.join(letters_collected)\n"
   ]
  },
  {
   "cell_type": "code",
   "execution_count": 3,
   "id": "d822d253-afe2-40f6-854a-728859538d70",
   "metadata": {},
   "outputs": [
    {
     "data": {
      "text/plain": [
       "17736"
      ]
     },
     "execution_count": 3,
     "metadata": {},
     "output_type": "execute_result"
    }
   ],
   "source": [
    "# The number of steps taken was already counted during the traversal\n",
    "steps"
   ]
  },
  {
   "cell_type": "code",
   "execution_count": null,
   "id": "69555236-25d9-472f-a57b-2270f9eddb60",
   "metadata": {},
   "outputs": [],
   "source": []
  }
 ],
 "metadata": {
  "kernelspec": {
   "display_name": "Python 3 (ipykernel)",
   "language": "python",
   "name": "python3"
  },
  "language_info": {
   "codemirror_mode": {
    "name": "ipython",
    "version": 3
   },
   "file_extension": ".py",
   "mimetype": "text/x-python",
   "name": "python",
   "nbconvert_exporter": "python",
   "pygments_lexer": "ipython3",
   "version": "3.12.3"
  }
 },
 "nbformat": 4,
 "nbformat_minor": 5
}
