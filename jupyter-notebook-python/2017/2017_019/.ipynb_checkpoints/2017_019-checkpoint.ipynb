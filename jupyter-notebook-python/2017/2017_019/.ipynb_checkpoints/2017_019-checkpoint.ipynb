{
 "cells": [
  {
   "cell_type": "markdown",
   "id": "22427590",
   "metadata": {},
   "source": [
    "# Advent of Code"
   ]
  },
  {
   "cell_type": "markdown",
   "id": "941a17b1",
   "metadata": {},
   "source": [
    "## 2017-012-019\n",
    "## 2017 019"
   ]
  },
  {
   "cell_type": "markdown",
   "id": "d00d3035",
   "metadata": {},
   "source": [
    "https://adventofcode.com/2017/day/19"
   ]
  },
  {
   "cell_type": "code",
   "execution_count": null,
   "id": "47c1a501",
   "metadata": {},
   "outputs": [],
   "source": []
  }
 ],
 "metadata": {},
 "nbformat": 4,
 "nbformat_minor": 5
}
