{
 "cells": [
  {
   "cell_type": "markdown",
   "id": "c3f146b9",
   "metadata": {},
   "source": [
    "# Advent of Code"
   ]
  },
  {
   "cell_type": "markdown",
   "id": "0b165575",
   "metadata": {},
   "source": [
    "## 2017-012-022\n",
    "## 2017 022"
   ]
  },
  {
   "cell_type": "markdown",
   "id": "25b2cad3",
   "metadata": {},
   "source": [
    "https://adventofcode.com/2017/day/22"
   ]
  },
  {
   "cell_type": "code",
   "execution_count": null,
   "id": "426a2bdd",
   "metadata": {},
   "outputs": [],
   "source": []
  }
 ],
 "metadata": {
  "kernelspec": {
   "display_name": "Python 3 (ipykernel)",
   "language": "python",
   "name": "python3"
  },
  "language_info": {
   "name": "python",
   "version": "3.12.3"
  }
 },
 "nbformat": 4,
 "nbformat_minor": 5
}
