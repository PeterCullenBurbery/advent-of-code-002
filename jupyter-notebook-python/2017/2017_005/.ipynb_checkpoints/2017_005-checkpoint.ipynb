{
 "cells": [
  {
   "cell_type": "markdown",
   "id": "abdc765e",
   "metadata": {},
   "source": [
    "# Advent of Code"
   ]
  },
  {
   "cell_type": "markdown",
   "id": "9ee40c0f",
   "metadata": {},
   "source": [
    "## 2017-012-005\n",
    "## 2017 005"
   ]
  },
  {
   "cell_type": "markdown",
   "id": "18dbe356",
   "metadata": {},
   "source": [
    "https://adventofcode.com/2017/day/5"
   ]
  },
  {
   "cell_type": "code",
   "execution_count": 1,
   "id": "a976f9d7",
   "metadata": {},
   "outputs": [
    {
     "data": {
      "text/plain": [
       "355965"
      ]
     },
     "execution_count": 1,
     "metadata": {},
     "output_type": "execute_result"
    }
   ],
   "source": [
    "# Load the list of offsets from the file\n",
    "with open('input.txt', 'r') as file:\n",
    "    offsets = [int(line.strip()) for line in file.readlines()]\n",
    "\n",
    "# Function to count the steps to exit the maze\n",
    "def count_steps_to_exit(offsets):\n",
    "    steps = 0\n",
    "    current_index = 0\n",
    "    offsets = offsets[:]  # Make a copy of the list to avoid modifying the original\n",
    "    \n",
    "    while 0 <= current_index < len(offsets):\n",
    "        jump = offsets[current_index]\n",
    "        offsets[current_index] += 1  # Increment the current offset\n",
    "        current_index += jump  # Move to the next instruction\n",
    "        steps += 1\n",
    "\n",
    "    return steps\n",
    "\n",
    "# Calculate the number of steps to exit the maze\n",
    "steps_to_exit = count_steps_to_exit(offsets)\n",
    "steps_to_exit\n"
   ]
  },
  {
   "cell_type": "code",
   "execution_count": null,
   "id": "a6421e6e-f933-4e29-9df4-c9a1dfce7a6e",
   "metadata": {},
   "outputs": [],
   "source": []
  }
 ],
 "metadata": {
  "kernelspec": {
   "display_name": "Python 3 (ipykernel)",
   "language": "python",
   "name": "python3"
  },
  "language_info": {
   "codemirror_mode": {
    "name": "ipython",
    "version": 3
   },
   "file_extension": ".py",
   "mimetype": "text/x-python",
   "name": "python",
   "nbconvert_exporter": "python",
   "pygments_lexer": "ipython3",
   "version": "3.12.3"
  }
 },
 "nbformat": 4,
 "nbformat_minor": 5
}
