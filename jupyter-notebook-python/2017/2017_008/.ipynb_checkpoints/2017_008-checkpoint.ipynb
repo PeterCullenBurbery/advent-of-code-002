{
 "cells": [
  {
   "cell_type": "markdown",
   "id": "0124f70c",
   "metadata": {},
   "source": [
    "# Advent of Code"
   ]
  },
  {
   "cell_type": "markdown",
   "id": "b11e9507",
   "metadata": {},
   "source": [
    "## 2017-012-008\n",
    "## 2017 008"
   ]
  },
  {
   "cell_type": "markdown",
   "id": "5cc42893",
   "metadata": {},
   "source": [
    "https://adventofcode.com/2017/day/8"
   ]
  },
  {
   "cell_type": "code",
   "execution_count": null,
   "id": "3840fc47",
   "metadata": {},
   "outputs": [],
   "source": []
  }
 ],
 "metadata": {},
 "nbformat": 4,
 "nbformat_minor": 5
}
