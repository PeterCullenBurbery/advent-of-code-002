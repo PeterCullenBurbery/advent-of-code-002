{
 "cells": [
  {
   "cell_type": "markdown",
   "id": "0124f70c",
   "metadata": {},
   "source": [
    "# Advent of Code"
   ]
  },
  {
   "cell_type": "markdown",
   "id": "b11e9507",
   "metadata": {},
   "source": [
    "## 2017-012-008\n",
    "## 2017 008"
   ]
  },
  {
   "cell_type": "markdown",
   "id": "5cc42893",
   "metadata": {},
   "source": [
    "https://adventofcode.com/2017/day/8"
   ]
  },
  {
   "cell_type": "code",
   "execution_count": 3,
   "id": "3840fc47",
   "metadata": {},
   "outputs": [
    {
     "data": {
      "text/plain": [
       "5143"
      ]
     },
     "execution_count": 3,
     "metadata": {},
     "output_type": "execute_result"
    }
   ],
   "source": [
    "# Read the instructions from the file\n",
    "with open('input.txt', 'r') as file:\n",
    "    instructions = file.readlines()\n",
    "\n",
    "# Function to process the instructions and find the largest value in any register\n",
    "def largest_register_value(instructions):\n",
    "    registers = {}\n",
    "    \n",
    "    def get_register_value(register):\n",
    "        return registers.get(register, 0)\n",
    "    \n",
    "    for instruction in instructions:\n",
    "        parts = instruction.split()\n",
    "        reg, op, value, _, cond_reg, cond_op, cond_value = parts\n",
    "        value, cond_value = int(value), int(cond_value)\n",
    "        \n",
    "        # Check the condition\n",
    "        condition = False\n",
    "        cond_reg_value = get_register_value(cond_reg)\n",
    "        if cond_op == '!=':\n",
    "            condition = cond_reg_value != cond_value\n",
    "        elif cond_op == '<':\n",
    "            condition = cond_reg_value < cond_value\n",
    "        elif cond_op == '<=':\n",
    "            condition = cond_reg_value <= cond_value\n",
    "        elif cond_op == '==':\n",
    "            condition = cond_reg_value == cond_value\n",
    "        elif cond_op == '>':\n",
    "            condition = cond_reg_value > cond_value\n",
    "        elif cond_op == '>=':\n",
    "            condition = cond_reg_value >= cond_value\n",
    "        \n",
    "        if condition:\n",
    "            # Apply the operation\n",
    "            if reg not in registers:\n",
    "                registers[reg] = 0\n",
    "            if op == 'inc':\n",
    "                registers[reg] += value\n",
    "            elif op == 'dec':\n",
    "                registers[reg] -= value\n",
    "\n",
    "    # Find the largest value in any register\n",
    "    return max(registers.values())\n",
    "\n",
    "# Compute the largest value in any register after processing the instructions\n",
    "largest_value = largest_register_value(instructions)\n",
    "largest_value\n"
   ]
  },
  {
   "cell_type": "code",
   "execution_count": 4,
   "id": "61b661ad-c7cd-4fd3-9c96-97cd350c42f0",
   "metadata": {},
   "outputs": [
    {
     "data": {
      "text/plain": [
       "6209"
      ]
     },
     "execution_count": 4,
     "metadata": {},
     "output_type": "execute_result"
    }
   ],
   "source": [
    "# Function to find the highest value held in any register during the process\n",
    "def highest_value_ever(instructions):\n",
    "    registers = {}\n",
    "    highest_value = float('-inf')\n",
    "    \n",
    "    def get_register_value(register):\n",
    "        return registers.get(register, 0)\n",
    "    \n",
    "    for instruction in instructions:\n",
    "        parts = instruction.split()\n",
    "        reg, op, value, _, cond_reg, cond_op, cond_value = parts\n",
    "        value, cond_value = int(value), int(cond_value)\n",
    "        \n",
    "        # Check the condition\n",
    "        condition = False\n",
    "        cond_reg_value = get_register_value(cond_reg)\n",
    "        if cond_op == '!=':\n",
    "            condition = cond_reg_value != cond_value\n",
    "        elif cond_op == '<':\n",
    "            condition = cond_reg_value < cond_value\n",
    "        elif cond_op == '<=':\n",
    "            condition = cond_reg_value <= cond_value\n",
    "        elif cond_op == '==':\n",
    "            condition = cond_reg_value == cond_value\n",
    "        elif cond_op == '>':\n",
    "            condition = cond_reg_value > cond_value\n",
    "        elif cond_op == '>=':\n",
    "            condition = cond_reg_value >= cond_value\n",
    "        \n",
    "        if condition:\n",
    "            # Apply the operation\n",
    "            if reg not in registers:\n",
    "                registers[reg] = 0\n",
    "            if op == 'inc':\n",
    "                registers[reg] += value\n",
    "            elif op == 'dec':\n",
    "                registers[reg] -= value\n",
    "            \n",
    "            # Track the highest value ever held\n",
    "            highest_value = max(highest_value, registers[reg])\n",
    "    \n",
    "    return highest_value\n",
    "\n",
    "# Compute the highest value ever held in any register during the process\n",
    "highest_value_during = highest_value_ever(instructions)\n",
    "highest_value_during\n"
   ]
  },
  {
   "cell_type": "code",
   "execution_count": null,
   "id": "f65d6488-5e51-4d7d-9c42-b282d8a22662",
   "metadata": {},
   "outputs": [],
   "source": []
  }
 ],
 "metadata": {
  "kernelspec": {
   "display_name": "Python 3 (ipykernel)",
   "language": "python",
   "name": "python3"
  },
  "language_info": {
   "codemirror_mode": {
    "name": "ipython",
    "version": 3
   },
   "file_extension": ".py",
   "mimetype": "text/x-python",
   "name": "python",
   "nbconvert_exporter": "python",
   "pygments_lexer": "ipython3",
   "version": "3.12.3"
  }
 },
 "nbformat": 4,
 "nbformat_minor": 5
}
