{
 "cells": [
  {
   "cell_type": "markdown",
   "id": "505c6322",
   "metadata": {},
   "source": [
    "# Advent of Code"
   ]
  },
  {
   "cell_type": "markdown",
   "id": "e638aded",
   "metadata": {},
   "source": [
    "## 2017-012-013\n",
    "## 2017 013"
   ]
  },
  {
   "cell_type": "markdown",
   "id": "d22be578",
   "metadata": {},
   "source": [
    "https://adventofcode.com/2017/day/13"
   ]
  },
  {
   "cell_type": "code",
   "execution_count": 1,
   "id": "4964fc60",
   "metadata": {},
   "outputs": [
    {
     "name": "stdout",
     "output_type": "stream",
     "text": [
      "Severity of the whole trip: 1476\n"
     ]
    }
   ],
   "source": [
    "# packet_scanners.py\n",
    "\n",
    "def get_scanner_position(rng, time):\n",
    "    if rng == 0:\n",
    "        return None  # No scanner\n",
    "    cycle = 2 * (rng - 1)\n",
    "    pos = time % cycle\n",
    "    if pos >= rng:\n",
    "        pos = cycle - pos\n",
    "    return pos\n",
    "\n",
    "# Read the firewall configuration\n",
    "firewall = {}\n",
    "with open('input.txt', 'r') as f:\n",
    "    for line in f:\n",
    "        if line.strip():\n",
    "            depth, rng = map(int, line.strip().split(': '))\n",
    "            firewall[depth] = rng\n",
    "\n",
    "severity = 0\n",
    "max_depth = max(firewall.keys())\n",
    "\n",
    "# Simulate the packet's trip through the firewall\n",
    "for time in range(max_depth + 1):\n",
    "    if time in firewall:\n",
    "        rng = firewall[time]\n",
    "        scanner_pos = get_scanner_position(rng, time)\n",
    "        if scanner_pos == 0:\n",
    "            severity += time * rng\n",
    "\n",
    "print(f\"Severity of the whole trip: {severity}\")\n"
   ]
  },
  {
   "cell_type": "code",
   "execution_count": 2,
   "id": "5edfac0b-4168-413f-95a9-74958c63f180",
   "metadata": {},
   "outputs": [
    {
     "name": "stdout",
     "output_type": "stream",
     "text": [
      "The fewest number of picoseconds to delay: 3937334\n"
     ]
    }
   ],
   "source": [
    "# packet_scanners_part_two.py\n",
    "\n",
    "def read_firewall(filename):\n",
    "    firewall = {}\n",
    "    with open(filename, 'r') as f:\n",
    "        for line in f:\n",
    "            if line.strip():\n",
    "                depth, rng = map(int, line.strip().split(': '))\n",
    "                firewall[depth] = rng\n",
    "    return firewall\n",
    "\n",
    "def find_min_delay(firewall):\n",
    "    delay = 0\n",
    "    while True:\n",
    "        caught = False\n",
    "        for depth, rng in firewall.items():\n",
    "            cycle = 2 * (rng - 1)\n",
    "            if (delay + depth) % cycle == 0:\n",
    "                caught = True\n",
    "                break  # No need to check further layers, try next delay\n",
    "        if not caught:\n",
    "            return delay  # Found the minimal delay\n",
    "        delay += 1\n",
    "\n",
    "# Read the firewall configuration\n",
    "firewall = read_firewall('input.txt')\n",
    "\n",
    "# Find the minimal delay\n",
    "minimal_delay = find_min_delay(firewall)\n",
    "\n",
    "print(f\"The fewest number of picoseconds to delay: {minimal_delay}\")\n"
   ]
  },
  {
   "cell_type": "code",
   "execution_count": null,
   "id": "b7189579-5861-4a4f-b298-4d888b045eba",
   "metadata": {},
   "outputs": [],
   "source": []
  }
 ],
 "metadata": {
  "kernelspec": {
   "display_name": "Python 3 (ipykernel)",
   "language": "python",
   "name": "python3"
  },
  "language_info": {
   "codemirror_mode": {
    "name": "ipython",
    "version": 3
   },
   "file_extension": ".py",
   "mimetype": "text/x-python",
   "name": "python",
   "nbconvert_exporter": "python",
   "pygments_lexer": "ipython3",
   "version": "3.12.3"
  }
 },
 "nbformat": 4,
 "nbformat_minor": 5
}
