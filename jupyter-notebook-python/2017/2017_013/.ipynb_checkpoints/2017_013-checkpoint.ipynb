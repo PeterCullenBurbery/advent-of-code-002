{
 "cells": [
  {
   "cell_type": "markdown",
   "id": "505c6322",
   "metadata": {},
   "source": [
    "# Advent of Code"
   ]
  },
  {
   "cell_type": "markdown",
   "id": "e638aded",
   "metadata": {},
   "source": [
    "## 2017-012-013\n",
    "## 2017 013"
   ]
  },
  {
   "cell_type": "markdown",
   "id": "d22be578",
   "metadata": {},
   "source": [
    "https://adventofcode.com/2017/day/13"
   ]
  },
  {
   "cell_type": "code",
   "execution_count": null,
   "id": "4964fc60",
   "metadata": {},
   "outputs": [],
   "source": []
  }
 ],
 "metadata": {},
 "nbformat": 4,
 "nbformat_minor": 5
}
