{
 "cells": [
  {
   "cell_type": "markdown",
   "id": "d5ecc1ff",
   "metadata": {},
   "source": [
    "# Advent of Code"
   ]
  },
  {
   "cell_type": "markdown",
   "id": "29c20ddf",
   "metadata": {},
   "source": [
    "## 2017-012-023\n",
    "## 2017 023"
   ]
  },
  {
   "cell_type": "markdown",
   "id": "1eee5dc6",
   "metadata": {},
   "source": [
    "https://adventofcode.com/2017/day/23"
   ]
  },
  {
   "cell_type": "code",
   "execution_count": null,
   "id": "404f60c8",
   "metadata": {},
   "outputs": [],
   "source": []
  }
 ],
 "metadata": {
  "kernelspec": {
   "display_name": "Python 3 (ipykernel)",
   "language": "python",
   "name": "python3"
  },
  "language_info": {
   "name": "python",
   "version": "3.12.3"
  }
 },
 "nbformat": 4,
 "nbformat_minor": 5
}
