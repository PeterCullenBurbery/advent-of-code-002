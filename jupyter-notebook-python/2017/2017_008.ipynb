{
 "cells": [
  {
   "cell_type": "markdown",
   "id": "b7599275",
   "metadata": {},
   "source": [
    "# Advent of Code"
   ]
  },
  {
   "cell_type": "markdown",
   "id": "dcdf97f7",
   "metadata": {},
   "source": [
    "## 2017-012-008\n",
    "## 2017 008"
   ]
  },
  {
   "cell_type": "markdown",
   "id": "fa5b04d4",
   "metadata": {},
   "source": [
    "https://adventofcode.com/2017/day/8"
   ]
  },
  {
   "cell_type": "code",
   "execution_count": null,
   "id": "baf572db",
   "metadata": {},
   "outputs": [],
   "source": []
  }
 ],
 "metadata": {
  "kernelspec": {
   "display_name": "Python 3 (ipykernel)",
   "language": "python",
   "name": "python3"
  },
  "language_info": {
   "name": "python",
   "version": "3.12.3"
  }
 },
 "nbformat": 4,
 "nbformat_minor": 5
}
