{
 "cells": [
  {
   "cell_type": "markdown",
   "id": "54d49902",
   "metadata": {},
   "source": [
    "# Advent of Code"
   ]
  },
  {
   "cell_type": "markdown",
   "id": "a10c5717",
   "metadata": {},
   "source": [
    "## 2017-012-012\n",
    "## 2017 012"
   ]
  },
  {
   "cell_type": "markdown",
   "id": "a3124062",
   "metadata": {},
   "source": [
    "https://adventofcode.com/2017/day/12"
   ]
  },
  {
   "cell_type": "code",
   "execution_count": null,
   "id": "9c7f2236",
   "metadata": {},
   "outputs": [],
   "source": []
  }
 ],
 "metadata": {
  "kernelspec": {
   "display_name": "Python 3 (ipykernel)",
   "language": "python",
   "name": "python3"
  },
  "language_info": {
   "name": "python",
   "version": "3.12.3"
  }
 },
 "nbformat": 4,
 "nbformat_minor": 5
}
