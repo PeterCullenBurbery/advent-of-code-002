{
 "cells": [
  {
   "cell_type": "markdown",
   "id": "7c1132c7",
   "metadata": {},
   "source": [
    "# Advent of Code"
   ]
  },
  {
   "cell_type": "markdown",
   "id": "546c0e7a",
   "metadata": {},
   "source": [
    "## 2017-012-003\n",
    "## 2017 003"
   ]
  },
  {
   "cell_type": "markdown",
   "id": "fe0f7200",
   "metadata": {},
   "source": [
    "https://adventofcode.com/2017/day/3"
   ]
  },
  {
   "cell_type": "code",
   "execution_count": 2,
   "id": "37413d48",
   "metadata": {},
   "outputs": [
    {
     "data": {
      "text/plain": [
       "371"
      ]
     },
     "execution_count": 2,
     "metadata": {},
     "output_type": "execute_result"
    }
   ],
   "source": [
    "# Read the input number from the uploaded file\n",
    "with open('input.txt', 'r') as file:\n",
    "    puzzle_input = int(file.read().strip())\n",
    "\n",
    "# Redefine the Manhattan distance function with a careful breakdown\n",
    "def manhattan_distance_corrected(n):\n",
    "    if n == 1:\n",
    "        return 0\n",
    "    \n",
    "    # Step 1: Find the layer (or \"ring\") of the spiral where the number resides\n",
    "    layer = 0\n",
    "    while (2 * layer + 1)**2 < n:\n",
    "        layer += 1\n",
    "\n",
    "    # Step 2: Identify the maximum value in this layer\n",
    "    max_value_in_layer = (2 * layer + 1)**2\n",
    "    side_length = 2 * layer  # Length of each side in the current layer\n",
    "\n",
    "    # Step 3: Compute positions of side centers for this layer\n",
    "    # The centers are spaced by `side_length` from the maximum value of the layer\n",
    "    side_centers = [\n",
    "        max_value_in_layer - (side_length // 2) - (i * side_length)\n",
    "        for i in range(4)\n",
    "    ]\n",
    "\n",
    "    # Step 4: Find the minimum distance to one of the side centers\n",
    "    distance_to_closest_center = min(abs(n - center) for center in side_centers)\n",
    "\n",
    "    # Step 5: Total Manhattan Distance is the layer number plus the distance to the closest center\n",
    "    return layer + distance_to_closest_center\n",
    "\n",
    "# Recalculate the result with the corrected function\n",
    "corrected_result = manhattan_distance_corrected(puzzle_input)\n",
    "corrected_result\n"
   ]
  },
  {
   "cell_type": "code",
   "execution_count": 3,
   "id": "8c75b0f2-cd70-4d8a-be96-c6d5870468c5",
   "metadata": {},
   "outputs": [
    {
     "data": {
      "text/plain": [
       "369601"
      ]
     },
     "execution_count": 3,
     "metadata": {},
     "output_type": "execute_result"
    }
   ],
   "source": [
    "# Function to calculate the first value larger than the input using the described spiral sum method\n",
    "def first_value_larger_than(target):\n",
    "    from collections import defaultdict\n",
    "\n",
    "    # Directions for moving in the spiral (right, up, left, down)\n",
    "    directions = [(1, 0), (0, 1), (-1, 0), (0, -1)]\n",
    "\n",
    "    # Dictionary to store values at each (x, y) position\n",
    "    grid = defaultdict(int)\n",
    "    grid[(0, 0)] = 1  # Starting position\n",
    "\n",
    "    x, y = 0, 0  # Current position\n",
    "    step = 1  # Step size for each direction\n",
    "    direction_index = 0  # Current direction index\n",
    "\n",
    "    while True:\n",
    "        for _ in range(2):  # Repeat for two directions (horizontal and vertical)\n",
    "            for _ in range(step):\n",
    "                # Move to the next position\n",
    "                x += directions[direction_index][0]\n",
    "                y += directions[direction_index][1]\n",
    "\n",
    "                # Calculate the value at this position as the sum of all adjacent positions\n",
    "                current_value = sum(\n",
    "                    grid[(x + dx, y + dy)]\n",
    "                    for dx in [-1, 0, 1]\n",
    "                    for dy in [-1, 0, 1]\n",
    "                    if (dx, dy) != (0, 0)\n",
    "                )\n",
    "                grid[(x, y)] = current_value\n",
    "\n",
    "                # Check if the value exceeds the target\n",
    "                if current_value > target:\n",
    "                    return current_value\n",
    "\n",
    "            # Change direction (right -> up -> left -> down)\n",
    "            direction_index = (direction_index + 1) % 4\n",
    "\n",
    "        # Increase the step size after completing one cycle of directions\n",
    "        step += 1\n",
    "\n",
    "# Calculate the result for the given puzzle input\n",
    "result_part_two = first_value_larger_than(puzzle_input)\n",
    "result_part_two\n"
   ]
  },
  {
   "cell_type": "code",
   "execution_count": null,
   "id": "042064d8-3f63-4dd7-b0e8-99b088f540aa",
   "metadata": {},
   "outputs": [],
   "source": []
  }
 ],
 "metadata": {
  "kernelspec": {
   "display_name": "Python 3 (ipykernel)",
   "language": "python",
   "name": "python3"
  },
  "language_info": {
   "codemirror_mode": {
    "name": "ipython",
    "version": 3
   },
   "file_extension": ".py",
   "mimetype": "text/x-python",
   "name": "python",
   "nbconvert_exporter": "python",
   "pygments_lexer": "ipython3",
   "version": "3.12.3"
  }
 },
 "nbformat": 4,
 "nbformat_minor": 5
}
