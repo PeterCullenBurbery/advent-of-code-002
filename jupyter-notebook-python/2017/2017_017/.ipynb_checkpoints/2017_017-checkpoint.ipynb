{
 "cells": [
  {
   "cell_type": "markdown",
   "id": "cf6b036c",
   "metadata": {},
   "source": [
    "# Advent of Code"
   ]
  },
  {
   "cell_type": "markdown",
   "id": "82ac9996",
   "metadata": {},
   "source": [
    "## 2017-012-017\n",
    "## 2017 017"
   ]
  },
  {
   "cell_type": "markdown",
   "id": "16b972f1",
   "metadata": {},
   "source": [
    "https://adventofcode.com/2017/day/17"
   ]
  },
  {
   "cell_type": "code",
   "execution_count": null,
   "id": "4b880c36",
   "metadata": {},
   "outputs": [],
   "source": []
  }
 ],
 "metadata": {},
 "nbformat": 4,
 "nbformat_minor": 5
}
