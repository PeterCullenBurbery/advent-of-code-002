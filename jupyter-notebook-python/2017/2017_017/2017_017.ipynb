{
 "cells": [
  {
   "cell_type": "markdown",
   "id": "cf6b036c",
   "metadata": {},
   "source": [
    "# Advent of Code"
   ]
  },
  {
   "cell_type": "markdown",
   "id": "82ac9996",
   "metadata": {},
   "source": [
    "## 2017-012-017\n",
    "## 2017 017"
   ]
  },
  {
   "cell_type": "markdown",
   "id": "16b972f1",
   "metadata": {},
   "source": [
    "https://adventofcode.com/2017/day/17"
   ]
  },
  {
   "cell_type": "code",
   "execution_count": 1,
   "id": "4b880c36",
   "metadata": {},
   "outputs": [
    {
     "name": "stdout",
     "output_type": "stream",
     "text": [
      "808\n"
     ]
    }
   ],
   "source": [
    "# Read the step_count from a file\n",
    "with open(\"input.txt\", \"r\") as file:\n",
    "    step_count = int(file.read().strip())\n",
    "\n",
    "total_insertions = 2017\n",
    "\n",
    "# Initialize the circular buffer and current position\n",
    "buffer = [0]\n",
    "current_position = 0\n",
    "\n",
    "# Perform the spinlock algorithm\n",
    "for value in range(1, total_insertions + 1):\n",
    "    # Calculate the new position\n",
    "    current_position = (current_position + step_count) % len(buffer)\n",
    "    # Insert the new value at the calculated position\n",
    "    buffer.insert(current_position + 1, value)\n",
    "    # Update the current position\n",
    "    current_position += 1\n",
    "\n",
    "# Find the value after 2017\n",
    "value_after_2017 = buffer[(buffer.index(2017) + 1) % len(buffer)]\n",
    "print(value_after_2017)\n"
   ]
  },
  {
   "cell_type": "code",
   "execution_count": 3,
   "id": "2e6a0edc-5b50-4eaa-96ad-863642e571eb",
   "metadata": {},
   "outputs": [
    {
     "data": {
      "text/plain": [
       "47465686"
      ]
     },
     "execution_count": 3,
     "metadata": {},
     "output_type": "execute_result"
    }
   ],
   "source": [
    "# Define parameters for part two\n",
    "# Read the step_count from a file\n",
    "with open(\"input.txt\", \"r\") as file:\n",
    "    step_count = int(file.read().strip())\n",
    "total_insertions = 50_000_000\n",
    "\n",
    "# Initialize variables for optimized calculation\n",
    "position = 0\n",
    "value_after_zero = None\n",
    "buffer_length = 1  # Start with only the initial 0 in the buffer\n",
    "\n",
    "# Perform the optimized spinlock calculation\n",
    "for value in range(1, total_insertions + 1):\n",
    "    # Calculate the new position\n",
    "    position = (position + step_count) % buffer_length + 1\n",
    "    # If the new position is 1, update the value after 0\n",
    "    if position == 1:\n",
    "        value_after_zero = value\n",
    "    # Increment the buffer length\n",
    "    buffer_length += 1\n",
    "\n",
    "value_after_zero"
   ]
  },
  {
   "cell_type": "code",
   "execution_count": null,
   "id": "b42c8a2a-d0d9-4457-915a-d632b1c04cbd",
   "metadata": {},
   "outputs": [],
   "source": []
  }
 ],
 "metadata": {
  "kernelspec": {
   "display_name": "Python 3 (ipykernel)",
   "language": "python",
   "name": "python3"
  },
  "language_info": {
   "codemirror_mode": {
    "name": "ipython",
    "version": 3
   },
   "file_extension": ".py",
   "mimetype": "text/x-python",
   "name": "python",
   "nbconvert_exporter": "python",
   "pygments_lexer": "ipython3",
   "version": "3.12.3"
  }
 },
 "nbformat": 4,
 "nbformat_minor": 5
}
