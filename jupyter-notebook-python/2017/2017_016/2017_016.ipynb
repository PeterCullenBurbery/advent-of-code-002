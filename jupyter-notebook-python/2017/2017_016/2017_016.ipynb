{
 "cells": [
  {
   "cell_type": "markdown",
   "id": "deeb32cc",
   "metadata": {},
   "source": [
    "# Advent of Code"
   ]
  },
  {
   "cell_type": "markdown",
   "id": "0842936a",
   "metadata": {},
   "source": [
    "## 2017-012-016\n",
    "## 2017 016"
   ]
  },
  {
   "cell_type": "markdown",
   "id": "8b8a7a51",
   "metadata": {},
   "source": [
    "https://adventofcode.com/2017/day/16"
   ]
  },
  {
   "cell_type": "code",
   "execution_count": 3,
   "id": "b2877e0f-a13c-4313-82a5-2f4fd42bfb7f",
   "metadata": {},
   "outputs": [
    {
     "data": {
      "text/plain": [
       "'pkgnhomelfdibjac'"
      ]
     },
     "execution_count": 3,
     "metadata": {},
     "output_type": "execute_result"
    }
   ],
   "source": [
    "# Read the dance moves from the uploaded file\n",
    "def parse_dance_moves(file_path):\n",
    "    \"\"\"Parses the input file to extract dance moves.\"\"\"\n",
    "    with open(file_path, 'r') as file:\n",
    "        return file.read().strip().split(',')\n",
    "\n",
    "# File path for the uploaded input\n",
    "input_file = 'input.txt'\n",
    "\n",
    "# Parse the dance moves\n",
    "dance_moves = parse_dance_moves(input_file)\n",
    "\n",
    "# Initialize the programs\n",
    "programs = list(\"abcdefghijklmnop\")\n",
    "\n",
    "# Perform the dance moves\n",
    "for move in dance_moves:\n",
    "    if move[0] == 's':\n",
    "        # Spin\n",
    "        x = int(move[1:])\n",
    "        programs = programs[-x:] + programs[:-x]\n",
    "    elif move[0] == 'x':\n",
    "        # Exchange\n",
    "        a, b = map(int, move[1:].split('/'))\n",
    "        programs[a], programs[b] = programs[b], programs[a]\n",
    "    elif move[0] == 'p':\n",
    "        # Partner\n",
    "        a, b = move[1:].split('/')\n",
    "        idx_a, idx_b = programs.index(a), programs.index(b)\n",
    "        programs[idx_a], programs[idx_b] = programs[idx_b], programs[idx_a]\n",
    "\n",
    "# Convert the list back to a string\n",
    "final_order = ''.join(programs)\n",
    "final_order\n"
   ]
  },
  {
   "cell_type": "code",
   "execution_count": 4,
   "id": "be74bfa9-b633-4470-8a47-5217bc8e0e36",
   "metadata": {},
   "outputs": [
    {
     "data": {
      "text/plain": [
       "'pogbjfihclkemadn'"
      ]
     },
     "execution_count": 4,
     "metadata": {},
     "output_type": "execute_result"
    }
   ],
   "source": [
    "# Function to perform one round of the dance\n",
    "def perform_dance(programs, dance_moves):\n",
    "    for move in dance_moves:\n",
    "        if move[0] == 's':\n",
    "            # Spin\n",
    "            x = int(move[1:])\n",
    "            programs = programs[-x:] + programs[:-x]\n",
    "        elif move[0] == 'x':\n",
    "            # Exchange\n",
    "            a, b = map(int, move[1:].split('/'))\n",
    "            programs[a], programs[b] = programs[b], programs[a]\n",
    "        elif move[0] == 'p':\n",
    "            # Partner\n",
    "            a, b = move[1:].split('/')\n",
    "            idx_a, idx_b = programs.index(a), programs.index(b)\n",
    "            programs[idx_a], programs[idx_b] = programs[idx_b], programs[idx_a]\n",
    "    return programs\n",
    "\n",
    "# Initialize the programs\n",
    "programs = list(\"abcdefghijklmnop\")\n",
    "seen_orders = []\n",
    "iterations = 1_000_000_000\n",
    "\n",
    "# Detect cycles to optimize computation\n",
    "for i in range(iterations):\n",
    "    programs = perform_dance(programs, dance_moves)\n",
    "    order = ''.join(programs)\n",
    "    if order in seen_orders:\n",
    "        # Cycle detected\n",
    "        break\n",
    "    seen_orders.append(order)\n",
    "\n",
    "# Find the resulting position after reducing iterations by the cycle length\n",
    "if i < iterations - 1:  # If a cycle was detected\n",
    "    cycle_length = len(seen_orders)\n",
    "    final_order = seen_orders[(iterations % cycle_length) - 1]\n",
    "else:\n",
    "    final_order = ''.join(programs)\n",
    "\n",
    "final_order\n"
   ]
  },
  {
   "cell_type": "code",
   "execution_count": null,
   "id": "2e00868c-3683-4e80-b1dd-11c49ead15da",
   "metadata": {},
   "outputs": [],
   "source": []
  }
 ],
 "metadata": {
  "kernelspec": {
   "display_name": "Python 3 (ipykernel)",
   "language": "python",
   "name": "python3"
  },
  "language_info": {
   "codemirror_mode": {
    "name": "ipython",
    "version": 3
   },
   "file_extension": ".py",
   "mimetype": "text/x-python",
   "name": "python",
   "nbconvert_exporter": "python",
   "pygments_lexer": "ipython3",
   "version": "3.12.3"
  }
 },
 "nbformat": 4,
 "nbformat_minor": 5
}
