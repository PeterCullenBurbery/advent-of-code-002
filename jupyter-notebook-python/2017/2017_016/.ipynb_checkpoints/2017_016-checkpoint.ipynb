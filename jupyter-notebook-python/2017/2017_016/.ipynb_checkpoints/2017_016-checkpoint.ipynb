{
 "cells": [
  {
   "cell_type": "markdown",
   "id": "deeb32cc",
   "metadata": {},
   "source": [
    "# Advent of Code"
   ]
  },
  {
   "cell_type": "markdown",
   "id": "0842936a",
   "metadata": {},
   "source": [
    "## 2017-012-016\n",
    "## 2017 016"
   ]
  },
  {
   "cell_type": "markdown",
   "id": "8b8a7a51",
   "metadata": {},
   "source": [
    "https://adventofcode.com/2017/day/16"
   ]
  },
  {
   "cell_type": "code",
   "execution_count": null,
   "id": "b2877e0f-a13c-4313-82a5-2f4fd42bfb7f",
   "metadata": {},
   "outputs": [],
   "source": []
  }
 ],
 "metadata": {
  "kernelspec": {
   "display_name": "Python 3 (ipykernel)",
   "language": "python",
   "name": "python3"
  },
  "language_info": {
   "codemirror_mode": {
    "name": "ipython",
    "version": 3
   },
   "file_extension": ".py",
   "mimetype": "text/x-python",
   "name": "python",
   "nbconvert_exporter": "python",
   "pygments_lexer": "ipython3",
   "version": "3.12.3"
  }
 },
 "nbformat": 4,
 "nbformat_minor": 5
}
