{
 "cells": [
  {
   "cell_type": "markdown",
   "id": "08b3bad1",
   "metadata": {},
   "source": [
    "# Advent of Code"
   ]
  },
  {
   "cell_type": "markdown",
   "id": "226561d8",
   "metadata": {},
   "source": [
    "## 2017-012-023\n",
    "## 2017 023"
   ]
  },
  {
   "cell_type": "markdown",
   "id": "957325e0",
   "metadata": {},
   "source": [
    "https://adventofcode.com/2017/day/23"
   ]
  },
  {
   "cell_type": "code",
   "execution_count": 1,
   "id": "242eb7b8",
   "metadata": {},
   "outputs": [
    {
     "data": {
      "text/plain": [
       "6724"
      ]
     },
     "execution_count": 1,
     "metadata": {},
     "output_type": "execute_result"
    }
   ],
   "source": [
    "# Load the input instructions\n",
    "def load_instructions(file_path):\n",
    "    with open(file_path, 'r') as file:\n",
    "        return [line.strip().split() for line in file.readlines()]\n",
    "\n",
    "# Execute the instructions and count 'mul' invocations\n",
    "def count_mul_invocations(instructions):\n",
    "    registers = {}\n",
    "    instruction_pointer = 0\n",
    "    mul_count = 0\n",
    "\n",
    "    def get_value(x):\n",
    "        \"\"\"Retrieve the value of a register or parse an integer.\"\"\"\n",
    "        return registers.get(x, 0) if x.isalpha() else int(x)\n",
    "\n",
    "    while 0 <= instruction_pointer < len(instructions):\n",
    "        parts = instructions[instruction_pointer]\n",
    "        cmd, x = parts[0], parts[1]\n",
    "        y = parts[2] if len(parts) > 2 else None\n",
    "\n",
    "        if cmd == \"set\":\n",
    "            registers[x] = get_value(y)\n",
    "        elif cmd == \"sub\":\n",
    "            registers[x] = get_value(x) - get_value(y)\n",
    "        elif cmd == \"mul\":\n",
    "            registers[x] = get_value(x) * get_value(y)\n",
    "            mul_count += 1\n",
    "        elif cmd == \"jnz\":\n",
    "            if get_value(x) != 0:\n",
    "                instruction_pointer += get_value(y) - 1  # Adjust for increment below\n",
    "\n",
    "        instruction_pointer += 1\n",
    "\n",
    "    return mul_count\n",
    "\n",
    "# Load instructions and calculate the result\n",
    "instructions = load_instructions('input.txt')\n",
    "mul_invocations = count_mul_invocations(instructions)\n",
    "mul_invocations"
   ]
  },
  {
   "cell_type": "code",
   "execution_count": 2,
   "id": "be49187f-2c58-4de9-9dd5-3ed306b7eae7",
   "metadata": {},
   "outputs": [
    {
     "data": {
      "text/plain": [
       "903"
      ]
     },
     "execution_count": 2,
     "metadata": {},
     "output_type": "execute_result"
    }
   ],
   "source": [
    "# Analyzing the provided program logic reveals it counts non-prime numbers within a range.\n",
    "# Optimization to simulate the logic directly instead of running instructions step-by-step.\n",
    "\n",
    "def count_non_primes(start, end, step):\n",
    "    \"\"\"Count non-prime numbers in the given range.\"\"\"\n",
    "    def is_prime(n):\n",
    "        if n < 2:\n",
    "            return False\n",
    "        for i in range(2, int(n**0.5) + 1):\n",
    "            if n % i == 0:\n",
    "                return False\n",
    "        return True\n",
    "\n",
    "    h = 0\n",
    "    for b in range(start, end + 1, step):\n",
    "        if not is_prime(b):\n",
    "            h += 1\n",
    "    return h\n",
    "\n",
    "# Extracted values from the program logic:\n",
    "start = 108400  # b starts at 84, is set to b * 100 + 100000\n",
    "end = 125400    # c is set to b + 17000\n",
    "step = 17       # Increment of b\n",
    "\n",
    "# Calculate the result\n",
    "final_h = count_non_primes(start, end, step)\n",
    "final_h"
   ]
  },
  {
   "cell_type": "code",
   "execution_count": null,
   "id": "2d429a40-4c17-4e6b-b7bd-2e76e02368c8",
   "metadata": {},
   "outputs": [],
   "source": []
  }
 ],
 "metadata": {
  "kernelspec": {
   "display_name": "Python 3 (ipykernel)",
   "language": "python",
   "name": "python3"
  },
  "language_info": {
   "codemirror_mode": {
    "name": "ipython",
    "version": 3
   },
   "file_extension": ".py",
   "mimetype": "text/x-python",
   "name": "python",
   "nbconvert_exporter": "python",
   "pygments_lexer": "ipython3",
   "version": "3.12.3"
  }
 },
 "nbformat": 4,
 "nbformat_minor": 5
}
