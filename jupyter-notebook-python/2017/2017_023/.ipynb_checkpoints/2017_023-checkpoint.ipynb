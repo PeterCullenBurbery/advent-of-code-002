{
 "cells": [
  {
   "cell_type": "markdown",
   "id": "08b3bad1",
   "metadata": {},
   "source": [
    "# Advent of Code"
   ]
  },
  {
   "cell_type": "markdown",
   "id": "226561d8",
   "metadata": {},
   "source": [
    "## 2017-012-023\n",
    "## 2017 023"
   ]
  },
  {
   "cell_type": "markdown",
   "id": "957325e0",
   "metadata": {},
   "source": [
    "https://adventofcode.com/2017/day/23"
   ]
  },
  {
   "cell_type": "code",
   "execution_count": null,
   "id": "242eb7b8",
   "metadata": {},
   "outputs": [],
   "source": []
  }
 ],
 "metadata": {},
 "nbformat": 4,
 "nbformat_minor": 5
}
