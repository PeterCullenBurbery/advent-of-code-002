{
 "cells": [
  {
   "cell_type": "markdown",
   "id": "207a6388",
   "metadata": {},
   "source": [
    "# Advent of Code"
   ]
  },
  {
   "cell_type": "markdown",
   "id": "5c92eebb",
   "metadata": {},
   "source": [
    "## 2017-012-021\n",
    "## 2017 021"
   ]
  },
  {
   "cell_type": "markdown",
   "id": "144c9001",
   "metadata": {},
   "source": [
    "https://adventofcode.com/2017/day/21"
   ]
  },
  {
   "cell_type": "code",
   "execution_count": null,
   "id": "46877d98",
   "metadata": {},
   "outputs": [],
   "source": []
  }
 ],
 "metadata": {},
 "nbformat": 4,
 "nbformat_minor": 5
}
