{
 "cells": [
  {
   "cell_type": "markdown",
   "id": "207a6388",
   "metadata": {},
   "source": [
    "# Advent of Code"
   ]
  },
  {
   "cell_type": "markdown",
   "id": "5c92eebb",
   "metadata": {},
   "source": [
    "## 2017-012-021\n",
    "## 2017 021"
   ]
  },
  {
   "cell_type": "markdown",
   "id": "144c9001",
   "metadata": {},
   "source": [
    "https://adventofcode.com/2017/day/21"
   ]
  },
  {
   "cell_type": "code",
   "execution_count": 1,
   "id": "46877d98",
   "metadata": {},
   "outputs": [
    {
     "data": {
      "text/plain": [
       "173"
      ]
     },
     "execution_count": 1,
     "metadata": {},
     "output_type": "execute_result"
    }
   ],
   "source": [
    "import numpy as np\n",
    "\n",
    "# Parse enhancement rules from the input file\n",
    "def parse_rules(file_path):\n",
    "    rules = {}\n",
    "    with open(file_path, 'r') as file:\n",
    "        for line in file:\n",
    "            pattern, result = line.strip().split(' => ')\n",
    "            rules[tuple(pattern.split('/'))] = result.split('/')\n",
    "    return rules\n",
    "\n",
    "# Rotate and flip patterns\n",
    "def generate_variations(pattern):\n",
    "    pattern = np.array([list(row) for row in pattern])\n",
    "    variations = set()\n",
    "    for _ in range(4):  # Rotate 4 times\n",
    "        pattern = np.rot90(pattern)\n",
    "        variations.add(tuple(''.join(row) for row in pattern))\n",
    "        variations.add(tuple(''.join(row) for row in np.flipud(pattern)))  # Flip vertically\n",
    "        variations.add(tuple(''.join(row) for row in np.fliplr(pattern)))  # Flip horizontally\n",
    "    return variations\n",
    "\n",
    "# Map all variations of each rule\n",
    "def expand_rules(rules):\n",
    "    expanded = {}\n",
    "    for pattern, result in rules.items():\n",
    "        for variation in generate_variations(pattern):\n",
    "            expanded[variation] = result\n",
    "    return expanded\n",
    "\n",
    "# Divide the grid into smaller blocks\n",
    "def divide_grid(grid, size):\n",
    "    blocks = []\n",
    "    for i in range(0, len(grid), size):\n",
    "        for j in range(0, len(grid), size):\n",
    "            blocks.append(tuple(row[j:j+size] for row in grid[i:i+size]))\n",
    "    return blocks\n",
    "\n",
    "# Reconstruct the grid from blocks\n",
    "def reconstruct_grid(blocks):\n",
    "    size = int(len(blocks) ** 0.5)\n",
    "    block_size = len(blocks[0])\n",
    "    rows = []\n",
    "    for i in range(size):\n",
    "        for j in range(block_size):\n",
    "            rows.append(''.join(blocks[i * size + k][j] for k in range(size)))\n",
    "    return rows\n",
    "\n",
    "# Enhance the grid based on rules\n",
    "def enhance(grid, rules):\n",
    "    size = len(grid)\n",
    "    block_size = 2 if size % 2 == 0 else 3\n",
    "    blocks = divide_grid(grid, block_size)\n",
    "    enhanced_blocks = [rules[block] for block in blocks]\n",
    "    return reconstruct_grid(enhanced_blocks)\n",
    "\n",
    "# Initialize the grid and parse rules\n",
    "initial_grid = [\".#.\", \"..#\", \"###\"]\n",
    "rules = parse_rules('input.txt')\n",
    "expanded_rules = expand_rules(rules)\n",
    "\n",
    "# Perform the enhancements\n",
    "grid = initial_grid\n",
    "iterations = 5\n",
    "for _ in range(iterations):\n",
    "    grid = enhance(grid, expanded_rules)\n",
    "\n",
    "# Count pixels that are on\n",
    "on_pixels = sum(row.count('#') for row in grid)\n",
    "on_pixels\n"
   ]
  },
  {
   "cell_type": "code",
   "execution_count": 2,
   "id": "09c2159e-03c6-49ac-b31a-83920ab525e0",
   "metadata": {},
   "outputs": [
    {
     "data": {
      "text/plain": [
       "2456178"
      ]
     },
     "execution_count": 2,
     "metadata": {},
     "output_type": "execute_result"
    }
   ],
   "source": [
    "# Perform the enhancements\n",
    "grid = initial_grid\n",
    "iterations = 18\n",
    "for _ in range(iterations):\n",
    "    grid = enhance(grid, expanded_rules)\n",
    "\n",
    "# Count pixels that are on\n",
    "on_pixels = sum(row.count('#') for row in grid)\n",
    "on_pixels"
   ]
  },
  {
   "cell_type": "code",
   "execution_count": null,
   "id": "bac48039-a1ae-48bf-a227-e491ac225e1d",
   "metadata": {},
   "outputs": [],
   "source": []
  }
 ],
 "metadata": {
  "kernelspec": {
   "display_name": "Python 3 (ipykernel)",
   "language": "python",
   "name": "python3"
  },
  "language_info": {
   "codemirror_mode": {
    "name": "ipython",
    "version": 3
   },
   "file_extension": ".py",
   "mimetype": "text/x-python",
   "name": "python",
   "nbconvert_exporter": "python",
   "pygments_lexer": "ipython3",
   "version": "3.12.3"
  }
 },
 "nbformat": 4,
 "nbformat_minor": 5
}
