{
 "cells": [
  {
   "cell_type": "markdown",
   "id": "018414a9",
   "metadata": {},
   "source": [
    "# Advent of Code"
   ]
  },
  {
   "cell_type": "markdown",
   "id": "83dbff27",
   "metadata": {},
   "source": [
    "## 2017-012-010\n",
    "## 2017 010"
   ]
  },
  {
   "cell_type": "markdown",
   "id": "bfcd18c9",
   "metadata": {},
   "source": [
    "https://adventofcode.com/2017/day/10"
   ]
  },
  {
   "cell_type": "code",
   "execution_count": null,
   "id": "8522888d",
   "metadata": {},
   "outputs": [],
   "source": []
  }
 ],
 "metadata": {},
 "nbformat": 4,
 "nbformat_minor": 5
}
