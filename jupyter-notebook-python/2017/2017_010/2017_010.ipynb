{
 "cells": [
  {
   "cell_type": "markdown",
   "id": "018414a9",
   "metadata": {},
   "source": [
    "# Advent of Code"
   ]
  },
  {
   "cell_type": "markdown",
   "id": "83dbff27",
   "metadata": {},
   "source": [
    "## 2017-012-010\n",
    "## 2017 010"
   ]
  },
  {
   "cell_type": "markdown",
   "id": "bfcd18c9",
   "metadata": {},
   "source": [
    "https://adventofcode.com/2017/day/10"
   ]
  },
  {
   "cell_type": "code",
   "execution_count": 1,
   "id": "8522888d",
   "metadata": {},
   "outputs": [
    {
     "data": {
      "text/plain": [
       "'1c46642b6f2bc21db2a2149d0aeeae5d'"
      ]
     },
     "execution_count": 1,
     "metadata": {},
     "output_type": "execute_result"
    }
   ],
   "source": [
    "# Puzzle input as a string for part two\n",
    "puzzle_input = \"192,69,168,160,78,1,166,28,0,83,198,2,254,255,41,12\"\n",
    "\n",
    "# Function to compute the Knot Hash\n",
    "def knot_hash_full(input_string, size=256, rounds=64):\n",
    "    # Convert the input string to ASCII codes and append the suffix values\n",
    "    lengths = [ord(c) for c in input_string.strip()] + [17, 31, 73, 47, 23]\n",
    "    \n",
    "    # Initialize the list and variables\n",
    "    numbers = list(range(size))\n",
    "    current_position = 0\n",
    "    skip_size = 0\n",
    "\n",
    "    # Perform 64 rounds of the knotting process\n",
    "    for _ in range(rounds):\n",
    "        for length in lengths:\n",
    "            if length > 0:\n",
    "                # Reverse the section of the list\n",
    "                indices = [((current_position + i) % size) for i in range(length)]\n",
    "                values = [numbers[i] for i in indices]\n",
    "                for i, val in zip(indices, reversed(values)):\n",
    "                    numbers[i] = val\n",
    "\n",
    "            # Move current position and increase skip size\n",
    "            current_position = (current_position + length + skip_size) % size\n",
    "            skip_size += 1\n",
    "\n",
    "    # Compute the dense hash by XOR'ing blocks of 16 numbers\n",
    "    dense_hash = [0] * (size // 16)\n",
    "    for i in range(size // 16):\n",
    "        block = numbers[i * 16:(i + 1) * 16]\n",
    "        dense_hash[i] = block[0]\n",
    "        for num in block[1:]:\n",
    "            dense_hash[i] ^= num\n",
    "\n",
    "    # Convert the dense hash to a hexadecimal string\n",
    "    return ''.join(f\"{num:02x}\" for num in dense_hash)\n",
    "\n",
    "# Compute the Knot Hash of the puzzle input\n",
    "knot_hash_result = knot_hash_full(puzzle_input)\n",
    "knot_hash_result\n"
   ]
  },
  {
   "cell_type": "code",
   "execution_count": null,
   "id": "c05de27b-eb93-4606-8318-ba4163e8e690",
   "metadata": {},
   "outputs": [],
   "source": []
  }
 ],
 "metadata": {
  "kernelspec": {
   "display_name": "Python 3 (ipykernel)",
   "language": "python",
   "name": "python3"
  },
  "language_info": {
   "codemirror_mode": {
    "name": "ipython",
    "version": 3
   },
   "file_extension": ".py",
   "mimetype": "text/x-python",
   "name": "python",
   "nbconvert_exporter": "python",
   "pygments_lexer": "ipython3",
   "version": "3.12.3"
  }
 },
 "nbformat": 4,
 "nbformat_minor": 5
}
