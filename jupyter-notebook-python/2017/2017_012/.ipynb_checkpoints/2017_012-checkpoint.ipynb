{
 "cells": [
  {
   "cell_type": "markdown",
   "id": "9a553654",
   "metadata": {},
   "source": [
    "# Advent of Code"
   ]
  },
  {
   "cell_type": "markdown",
   "id": "faca5a8f",
   "metadata": {},
   "source": [
    "## 2017-012-012\n",
    "## 2017 012"
   ]
  },
  {
   "cell_type": "markdown",
   "id": "ed19dbad",
   "metadata": {},
   "source": [
    "https://adventofcode.com/2017/day/12"
   ]
  },
  {
   "cell_type": "code",
   "execution_count": null,
   "id": "19b3d150",
   "metadata": {},
   "outputs": [],
   "source": []
  }
 ],
 "metadata": {},
 "nbformat": 4,
 "nbformat_minor": 5
}
