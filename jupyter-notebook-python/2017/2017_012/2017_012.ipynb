{
 "cells": [
  {
   "cell_type": "markdown",
   "id": "9a553654",
   "metadata": {},
   "source": [
    "# Advent of Code"
   ]
  },
  {
   "cell_type": "markdown",
   "id": "faca5a8f",
   "metadata": {},
   "source": [
    "## 2017-012-012\n",
    "## 2017 012"
   ]
  },
  {
   "cell_type": "markdown",
   "id": "ed19dbad",
   "metadata": {},
   "source": [
    "https://adventofcode.com/2017/day/12"
   ]
  },
  {
   "cell_type": "code",
   "execution_count": 1,
   "id": "19b3d150",
   "metadata": {},
   "outputs": [
    {
     "name": "stdout",
     "output_type": "stream",
     "text": [
      "Number of programs in the group containing program ID 0: 152\n"
     ]
    }
   ],
   "source": [
    "# digital_plumber.py\n",
    "\n",
    "def parse_input(filename):\n",
    "    \"\"\"Parse the input file and build the adjacency list.\"\"\"\n",
    "    graph = {}\n",
    "    with open(filename, 'r') as file:\n",
    "        for line in file:\n",
    "            if line.strip():\n",
    "                # Remove whitespace and split the line\n",
    "                parts = line.strip().split(' <-> ')\n",
    "                program = int(parts[0])\n",
    "                connections = set(map(int, parts[1].split(', ')))\n",
    "                graph[program] = connections\n",
    "    return graph\n",
    "\n",
    "def bfs(graph, start):\n",
    "    \"\"\"Perform BFS to find all programs connected to the start program.\"\"\"\n",
    "    visited = set()\n",
    "    queue = [start]\n",
    "    while queue:\n",
    "        current = queue.pop(0)\n",
    "        if current not in visited:\n",
    "            visited.add(current)\n",
    "            # Add unvisited connected programs to the queue\n",
    "            queue.extend(graph[current] - visited)\n",
    "    return visited\n",
    "\n",
    "def main():\n",
    "    # Parse the input file to build the graph\n",
    "    graph = parse_input('input.txt')\n",
    "    \n",
    "    # Find all programs in the group containing program ID 0\n",
    "    connected_programs = bfs(graph, 0)\n",
    "    \n",
    "    # Output the number of programs in the group\n",
    "    print(f\"Number of programs in the group containing program ID 0: {len(connected_programs)}\")\n",
    "\n",
    "if __name__ == \"__main__\":\n",
    "    main()\n"
   ]
  },
  {
   "cell_type": "code",
   "execution_count": 2,
   "id": "071b5e73-d45e-414c-9ff3-7036c5d4e939",
   "metadata": {},
   "outputs": [
    {
     "name": "stdout",
     "output_type": "stream",
     "text": [
      "Total number of groups: 186\n"
     ]
    }
   ],
   "source": [
    "# digital_plumber_part_two.py\n",
    "\n",
    "def parse_input(filename):\n",
    "    \"\"\"Parse the input file and build the adjacency list.\"\"\"\n",
    "    graph = {}\n",
    "    with open(filename, 'r') as file:\n",
    "        for line in file:\n",
    "            if line.strip():\n",
    "                # Remove whitespace and split the line\n",
    "                parts = line.strip().split(' <-> ')\n",
    "                program = int(parts[0])\n",
    "                connections = set(map(int, parts[1].split(', ')))\n",
    "                graph[program] = connections\n",
    "    return graph\n",
    "\n",
    "def dfs(graph, start, visited):\n",
    "    \"\"\"Perform DFS to mark all programs connected to the start program.\"\"\"\n",
    "    stack = [start]\n",
    "    while stack:\n",
    "        current = stack.pop()\n",
    "        if current not in visited:\n",
    "            visited.add(current)\n",
    "            # Add unvisited connected programs to the stack\n",
    "            stack.extend(graph[current] - visited)\n",
    "\n",
    "def main():\n",
    "    # Parse the input file to build the graph\n",
    "    graph = parse_input('input.txt')\n",
    "\n",
    "    visited = set()\n",
    "    group_count = 0\n",
    "\n",
    "    # Iterate over all programs in the graph\n",
    "    for program in graph.keys():\n",
    "        if program not in visited:\n",
    "            # For each unvisited program, perform DFS to find its group\n",
    "            dfs(graph, program, visited)\n",
    "            group_count += 1\n",
    "\n",
    "    # Output the total number of groups\n",
    "    print(f\"Total number of groups: {group_count}\")\n",
    "\n",
    "if __name__ == \"__main__\":\n",
    "    main()\n"
   ]
  },
  {
   "cell_type": "code",
   "execution_count": null,
   "id": "a09934b5-78a4-4b5e-bacb-425132ddf0df",
   "metadata": {},
   "outputs": [],
   "source": []
  }
 ],
 "metadata": {
  "kernelspec": {
   "display_name": "Python 3 (ipykernel)",
   "language": "python",
   "name": "python3"
  },
  "language_info": {
   "codemirror_mode": {
    "name": "ipython",
    "version": 3
   },
   "file_extension": ".py",
   "mimetype": "text/x-python",
   "name": "python",
   "nbconvert_exporter": "python",
   "pygments_lexer": "ipython3",
   "version": "3.12.3"
  }
 },
 "nbformat": 4,
 "nbformat_minor": 5
}
