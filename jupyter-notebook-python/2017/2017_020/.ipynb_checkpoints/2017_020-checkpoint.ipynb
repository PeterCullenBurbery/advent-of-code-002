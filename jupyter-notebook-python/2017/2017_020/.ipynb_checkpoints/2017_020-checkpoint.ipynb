{
 "cells": [
  {
   "cell_type": "markdown",
   "id": "1a9f590e",
   "metadata": {},
   "source": [
    "# Advent of Code"
   ]
  },
  {
   "cell_type": "markdown",
   "id": "cb3724b9",
   "metadata": {},
   "source": [
    "## 2017-012-020\n",
    "## 2017 020"
   ]
  },
  {
   "cell_type": "markdown",
   "id": "1bd0784c",
   "metadata": {},
   "source": [
    "https://adventofcode.com/2017/day/20"
   ]
  },
  {
   "cell_type": "code",
   "execution_count": null,
   "id": "56ae618f",
   "metadata": {},
   "outputs": [],
   "source": []
  }
 ],
 "metadata": {},
 "nbformat": 4,
 "nbformat_minor": 5
}
