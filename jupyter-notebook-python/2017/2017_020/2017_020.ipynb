{
 "cells": [
  {
   "cell_type": "markdown",
   "id": "1a9f590e",
   "metadata": {},
   "source": [
    "# Advent of Code"
   ]
  },
  {
   "cell_type": "markdown",
   "id": "cb3724b9",
   "metadata": {},
   "source": [
    "## 2017-012-020\n",
    "## 2017 020"
   ]
  },
  {
   "cell_type": "markdown",
   "id": "1bd0784c",
   "metadata": {},
   "source": [
    "https://adventofcode.com/2017/day/20"
   ]
  },
  {
   "cell_type": "code",
   "execution_count": 4,
   "id": "56ae618f",
   "metadata": {},
   "outputs": [
    {
     "data": {
      "text/plain": [
       "364"
      ]
     },
     "execution_count": 4,
     "metadata": {},
     "output_type": "execute_result"
    }
   ],
   "source": [
    "import re\n",
    "# Redefine the Manhattan distance function as it seems to have been lost\n",
    "def manhattan_distance(position):\n",
    "    \"\"\"Calculate the Manhattan distance from the origin.\"\"\"\n",
    "    return sum(abs(coord) for coord in position)\n",
    "\n",
    "# Re-run the logic to find the closest particle\n",
    "min_acceleration = float('inf')\n",
    "closest_particle = None\n",
    "\n",
    "for i, particle in enumerate(particles):\n",
    "    acc = manhattan_distance(particle['a'])\n",
    "    vel = manhattan_distance(particle['v'])\n",
    "    pos = manhattan_distance(particle['p'])\n",
    "    # Favor lower acceleration, then velocity, then position\n",
    "    if (acc, vel, pos) < (min_acceleration, float('inf'), float('inf')):\n",
    "        min_acceleration = acc\n",
    "        closest_particle = i\n",
    "\n",
    "closest_particle"
   ]
  },
  {
   "cell_type": "code",
   "execution_count": 6,
   "id": "5c7f0af9-aeab-4849-be7c-90de91c758fd",
   "metadata": {},
   "outputs": [
    {
     "data": {
      "text/plain": [
       "420"
      ]
     },
     "execution_count": 6,
     "metadata": {},
     "output_type": "execute_result"
    }
   ],
   "source": [
    "from collections import defaultdict\n",
    "\n",
    "# Update particle positions and velocities\n",
    "def update_particles(particles):\n",
    "    for particle in particles:\n",
    "        p, v, a = particle['p'], particle['v'], particle['a']\n",
    "        # Update velocity and position\n",
    "        v = tuple(v[i] + a[i] for i in range(3))\n",
    "        p = tuple(p[i] + v[i] for i in range(3))\n",
    "        particle['p'], particle['v'] = p, v\n",
    "\n",
    "# Remove particles that collide\n",
    "def remove_collisions(particles):\n",
    "    positions = defaultdict(list)\n",
    "    # Group particles by position\n",
    "    for i, particle in enumerate(particles):\n",
    "        positions[particle['p']].append(i)\n",
    "    # Find particles that collide\n",
    "    to_remove = {i for indices in positions.values() if len(indices) > 1 for i in indices}\n",
    "    # Remove colliding particles\n",
    "    return [particle for i, particle in enumerate(particles) if i not in to_remove]\n",
    "\n",
    "# Load and process particles\n",
    "particles = parse_particles('input.txt')\n",
    "\n",
    "# Simulate until no more collisions occur\n",
    "for _ in range(1000):  # Arbitrary large number of ticks to ensure collisions resolve\n",
    "    update_particles(particles)\n",
    "    particles = remove_collisions(particles)\n",
    "\n",
    "# Count remaining particles\n",
    "len(particles)\n"
   ]
  },
  {
   "cell_type": "code",
   "execution_count": null,
   "id": "940ff57a-1b26-4728-ab6f-ff2c543e9696",
   "metadata": {},
   "outputs": [],
   "source": []
  }
 ],
 "metadata": {
  "kernelspec": {
   "display_name": "Python 3 (ipykernel)",
   "language": "python",
   "name": "python3"
  },
  "language_info": {
   "codemirror_mode": {
    "name": "ipython",
    "version": 3
   },
   "file_extension": ".py",
   "mimetype": "text/x-python",
   "name": "python",
   "nbconvert_exporter": "python",
   "pygments_lexer": "ipython3",
   "version": "3.12.3"
  }
 },
 "nbformat": 4,
 "nbformat_minor": 5
}
