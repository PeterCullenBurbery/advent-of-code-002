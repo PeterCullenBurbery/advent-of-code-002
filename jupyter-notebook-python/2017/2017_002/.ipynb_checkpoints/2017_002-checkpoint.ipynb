{
 "cells": [
  {
   "cell_type": "markdown",
   "id": "bbb522b0",
   "metadata": {},
   "source": [
    "# Advent of Code"
   ]
  },
  {
   "cell_type": "markdown",
   "id": "fff250dc",
   "metadata": {},
   "source": [
    "## 2017-012-002\n",
    "## 2017 002"
   ]
  },
  {
   "cell_type": "markdown",
   "id": "3731e7c3",
   "metadata": {},
   "source": [
    "https://adventofcode.com/2017/day/2"
   ]
  },
  {
   "cell_type": "code",
   "execution_count": null,
   "id": "513652ee",
   "metadata": {},
   "outputs": [],
   "source": []
  }
 ],
 "metadata": {},
 "nbformat": 4,
 "nbformat_minor": 5
}
