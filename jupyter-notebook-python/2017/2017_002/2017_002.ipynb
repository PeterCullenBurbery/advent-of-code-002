{
 "cells": [
  {
   "cell_type": "markdown",
   "id": "bbb522b0",
   "metadata": {},
   "source": [
    "# Advent of Code"
   ]
  },
  {
   "cell_type": "markdown",
   "id": "fff250dc",
   "metadata": {},
   "source": [
    "## 2017-012-002\n",
    "## 2017 002"
   ]
  },
  {
   "cell_type": "markdown",
   "id": "3731e7c3",
   "metadata": {},
   "source": [
    "https://adventofcode.com/2017/day/2"
   ]
  },
  {
   "cell_type": "code",
   "execution_count": 1,
   "id": "513652ee",
   "metadata": {},
   "outputs": [
    {
     "data": {
      "text/plain": [
       "51139"
      ]
     },
     "execution_count": 1,
     "metadata": {},
     "output_type": "execute_result"
    }
   ],
   "source": [
    "# Read the input from the provided file\n",
    "file_path_part2 = \"input.txt\"\n",
    "with open(file_path_part2, 'r') as file:\n",
    "    spreadsheet_input = file.readlines()\n",
    "\n",
    "# Function to calculate the checksum of the spreadsheet\n",
    "def calculate_checksum(spreadsheet):\n",
    "    checksum = 0\n",
    "    for row in spreadsheet:\n",
    "        # Convert the row into a list of integers\n",
    "        numbers = list(map(int, row.split()))\n",
    "        # Calculate the difference between the max and min values\n",
    "        checksum += max(numbers) - min(numbers)\n",
    "    return checksum\n",
    "\n",
    "# Compute the checksum for the input\n",
    "spreadsheet_checksum = calculate_checksum(spreadsheet_input)\n",
    "spreadsheet_checksum\n"
   ]
  },
  {
   "cell_type": "code",
   "execution_count": 2,
   "id": "6476b647-3fb2-4415-985b-c561c47f2c0b",
   "metadata": {},
   "outputs": [
    {
     "data": {
      "text/plain": [
       "272"
      ]
     },
     "execution_count": 2,
     "metadata": {},
     "output_type": "execute_result"
    }
   ],
   "source": [
    "# Function to calculate the sum of evenly divisible values in the spreadsheet\n",
    "def calculate_division_sum(spreadsheet):\n",
    "    division_sum = 0\n",
    "    for row in spreadsheet:\n",
    "        # Convert the row into a list of integers\n",
    "        numbers = list(map(int, row.split()))\n",
    "        # Find the two numbers where one evenly divides the other\n",
    "        for i in range(len(numbers)):\n",
    "            for j in range(len(numbers)):\n",
    "                if i != j and numbers[i] % numbers[j] == 0:\n",
    "                    division_sum += numbers[i] // numbers[j]\n",
    "                    break\n",
    "    return division_sum\n",
    "\n",
    "# Compute the sum of evenly divisible values for the input\n",
    "division_sum_result = calculate_division_sum(spreadsheet_input)\n",
    "division_sum_result\n"
   ]
  },
  {
   "cell_type": "code",
   "execution_count": null,
   "id": "25b89595-727f-4c3a-adb6-c2200ff001b9",
   "metadata": {},
   "outputs": [],
   "source": []
  }
 ],
 "metadata": {
  "kernelspec": {
   "display_name": "Python 3 (ipykernel)",
   "language": "python",
   "name": "python3"
  },
  "language_info": {
   "codemirror_mode": {
    "name": "ipython",
    "version": 3
   },
   "file_extension": ".py",
   "mimetype": "text/x-python",
   "name": "python",
   "nbconvert_exporter": "python",
   "pygments_lexer": "ipython3",
   "version": "3.12.3"
  }
 },
 "nbformat": 4,
 "nbformat_minor": 5
}
