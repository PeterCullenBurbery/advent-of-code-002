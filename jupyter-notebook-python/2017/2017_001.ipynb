{
 "cells": [
  {
   "cell_type": "markdown",
   "id": "7d79ec79",
   "metadata": {},
   "source": [
    "# Advent of Code"
   ]
  },
  {
   "cell_type": "markdown",
   "id": "5bb4aac8",
   "metadata": {},
   "source": [
    "## 2017-012-001\n",
    "## 2017 001"
   ]
  },
  {
   "cell_type": "markdown",
   "id": "e87980df",
   "metadata": {},
   "source": [
    "https://adventofcode.com/2017/day/1"
   ]
  },
  {
   "cell_type": "code",
   "execution_count": null,
   "id": "396c59ac",
   "metadata": {},
   "outputs": [],
   "source": []
  }
 ],
 "metadata": {
  "kernelspec": {
   "display_name": "Python 3 (ipykernel)",
   "language": "python",
   "name": "python3"
  },
  "language_info": {
   "name": "python",
   "version": "3.12.3"
  }
 },
 "nbformat": 4,
 "nbformat_minor": 5
}
