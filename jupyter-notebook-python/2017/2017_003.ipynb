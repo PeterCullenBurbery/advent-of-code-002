{
 "cells": [
  {
   "cell_type": "markdown",
   "id": "97318987",
   "metadata": {},
   "source": [
    "# Advent of Code"
   ]
  },
  {
   "cell_type": "markdown",
   "id": "3a8e722d",
   "metadata": {},
   "source": [
    "## 2017-012-003\n",
    "## 2017 003"
   ]
  },
  {
   "cell_type": "markdown",
   "id": "d537a39f",
   "metadata": {},
   "source": [
    "https://adventofcode.com/2017/day/3"
   ]
  },
  {
   "cell_type": "code",
   "execution_count": null,
   "id": "8da539cc",
   "metadata": {},
   "outputs": [],
   "source": []
  }
 ],
 "metadata": {
  "kernelspec": {
   "display_name": "Python 3 (ipykernel)",
   "language": "python",
   "name": "python3"
  },
  "language_info": {
   "name": "python",
   "version": "3.12.3"
  }
 },
 "nbformat": 4,
 "nbformat_minor": 5
}
