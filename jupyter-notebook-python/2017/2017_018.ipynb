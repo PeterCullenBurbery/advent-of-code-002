{
 "cells": [
  {
   "cell_type": "markdown",
   "id": "5d3e0b60",
   "metadata": {},
   "source": [
    "# Advent of Code"
   ]
  },
  {
   "cell_type": "markdown",
   "id": "9e101b67",
   "metadata": {},
   "source": [
    "## 2017-012-018\n",
    "## 2017 018"
   ]
  },
  {
   "cell_type": "markdown",
   "id": "162c55d5",
   "metadata": {},
   "source": [
    "https://adventofcode.com/2017/day/18"
   ]
  },
  {
   "cell_type": "code",
   "execution_count": null,
   "id": "60f7b975",
   "metadata": {},
   "outputs": [],
   "source": []
  }
 ],
 "metadata": {
  "kernelspec": {
   "display_name": "Python 3 (ipykernel)",
   "language": "python",
   "name": "python3"
  },
  "language_info": {
   "name": "python",
   "version": "3.12.3"
  }
 },
 "nbformat": 4,
 "nbformat_minor": 5
}
