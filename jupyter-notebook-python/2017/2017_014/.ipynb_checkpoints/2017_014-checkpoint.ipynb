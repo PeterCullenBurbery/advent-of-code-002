{
 "cells": [
  {
   "cell_type": "markdown",
   "id": "d50b2d87",
   "metadata": {},
   "source": [
    "# Advent of Code"
   ]
  },
  {
   "cell_type": "markdown",
   "id": "d4000c09",
   "metadata": {},
   "source": [
    "## 2017-012-014\n",
    "## 2017 014"
   ]
  },
  {
   "cell_type": "markdown",
   "id": "c243a605",
   "metadata": {},
   "source": [
    "https://adventofcode.com/2017/day/14"
   ]
  },
  {
   "cell_type": "code",
   "execution_count": null,
   "id": "a829e779",
   "metadata": {},
   "outputs": [],
   "source": []
  }
 ],
 "metadata": {},
 "nbformat": 4,
 "nbformat_minor": 5
}
