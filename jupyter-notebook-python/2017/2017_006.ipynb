{
 "cells": [
  {
   "cell_type": "markdown",
   "id": "767089cd",
   "metadata": {},
   "source": [
    "# Advent of Code"
   ]
  },
  {
   "cell_type": "markdown",
   "id": "4d034afa",
   "metadata": {},
   "source": [
    "## 2017-012-006\n",
    "## 2017 006"
   ]
  },
  {
   "cell_type": "markdown",
   "id": "f277258b",
   "metadata": {},
   "source": [
    "https://adventofcode.com/2017/day/6"
   ]
  },
  {
   "cell_type": "code",
   "execution_count": null,
   "id": "d1befc32",
   "metadata": {},
   "outputs": [],
   "source": []
  }
 ],
 "metadata": {
  "kernelspec": {
   "display_name": "Python 3 (ipykernel)",
   "language": "python",
   "name": "python3"
  },
  "language_info": {
   "name": "python",
   "version": "3.12.3"
  }
 },
 "nbformat": 4,
 "nbformat_minor": 5
}
