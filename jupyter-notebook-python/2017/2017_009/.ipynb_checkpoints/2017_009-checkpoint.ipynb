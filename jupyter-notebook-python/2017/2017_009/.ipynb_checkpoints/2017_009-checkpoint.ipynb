{
 "cells": [
  {
   "cell_type": "markdown",
   "id": "8217e1f1",
   "metadata": {},
   "source": [
    "# Advent of Code"
   ]
  },
  {
   "cell_type": "markdown",
   "id": "393a734b",
   "metadata": {},
   "source": [
    "## 2017-012-009\n",
    "## 2017 009"
   ]
  },
  {
   "cell_type": "markdown",
   "id": "7a1ec63b",
   "metadata": {},
   "source": [
    "https://adventofcode.com/2017/day/9"
   ]
  },
  {
   "cell_type": "code",
   "execution_count": 9,
   "id": "4fc8dfe4-3f19-44c8-9718-fd35b9616c9a",
   "metadata": {},
   "outputs": [
    {
     "data": {
      "text/plain": [
       "14204"
      ]
     },
     "execution_count": 9,
     "metadata": {},
     "output_type": "execute_result"
    }
   ],
   "source": [
    "# Reading the uploaded file to process the input data\n",
    "file_path = 'escaped-input.txt'\n",
    "\n",
    "# Reading the input data from the file\n",
    "with open(file_path, 'r') as file:\n",
    "    input_data = file.read()\n",
    "\n",
    "# Removing escape sequences as the data seems to have them unnecessarily\n",
    "processed_input = input_data.replace(\"\\\\\", \"\")\n",
    "\n",
    "# Function to calculate the total score for all groups in the input\n",
    "def calculate_total_score(stream):\n",
    "    total_score = 0\n",
    "    current_depth = 0\n",
    "    in_garbage = False\n",
    "    skip_next = False\n",
    "\n",
    "    for char in stream:\n",
    "        if skip_next:\n",
    "            skip_next = False\n",
    "            continue\n",
    "\n",
    "        if char == '!':\n",
    "            skip_next = True\n",
    "        elif in_garbage:\n",
    "            if char == '>':\n",
    "                in_garbage = False\n",
    "        elif char == '<':\n",
    "            in_garbage = True\n",
    "        elif char == '{':\n",
    "            current_depth += 1\n",
    "            total_score += current_depth\n",
    "        elif char == '}':\n",
    "            current_depth -= 1\n",
    "\n",
    "    return total_score\n",
    "\n",
    "# Calculating the total score for the processed input\n",
    "total_score = calculate_total_score(processed_input)\n",
    "total_score\n"
   ]
  },
  {
   "cell_type": "code",
   "execution_count": 10,
   "id": "ecd6c141-87c2-4815-af7b-0866217d92d3",
   "metadata": {},
   "outputs": [
    {
     "data": {
      "text/plain": [
       "6622"
      ]
     },
     "execution_count": 10,
     "metadata": {},
     "output_type": "execute_result"
    }
   ],
   "source": [
    "# Function to count non-canceled characters within garbage in the input stream\n",
    "def count_garbage_characters(stream):\n",
    "    garbage_characters = 0\n",
    "    in_garbage = False\n",
    "    skip_next = False\n",
    "\n",
    "    for char in stream:\n",
    "        if skip_next:\n",
    "            skip_next = False\n",
    "            continue\n",
    "\n",
    "        if char == '!':\n",
    "            skip_next = True\n",
    "        elif in_garbage:\n",
    "            if char == '>':\n",
    "                in_garbage = False\n",
    "            else:\n",
    "                garbage_characters += 1\n",
    "        elif char == '<':\n",
    "            in_garbage = True\n",
    "\n",
    "    return garbage_characters\n",
    "\n",
    "# Counting non-canceled characters within garbage in the processed input\n",
    "garbage_count = count_garbage_characters(processed_input)\n",
    "garbage_count\n"
   ]
  },
  {
   "cell_type": "code",
   "execution_count": null,
   "id": "26794a7b-b481-432c-8413-1d5ba57d1dd8",
   "metadata": {},
   "outputs": [],
   "source": []
  }
 ],
 "metadata": {
  "kernelspec": {
   "display_name": "Python 3 (ipykernel)",
   "language": "python",
   "name": "python3"
  },
  "language_info": {
   "codemirror_mode": {
    "name": "ipython",
    "version": 3
   },
   "file_extension": ".py",
   "mimetype": "text/x-python",
   "name": "python",
   "nbconvert_exporter": "python",
   "pygments_lexer": "ipython3",
   "version": "3.12.3"
  }
 },
 "nbformat": 4,
 "nbformat_minor": 5
}
