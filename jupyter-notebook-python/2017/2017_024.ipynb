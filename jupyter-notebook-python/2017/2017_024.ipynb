{
 "cells": [
  {
   "cell_type": "markdown",
   "id": "06a6869d",
   "metadata": {},
   "source": [
    "# Advent of Code"
   ]
  },
  {
   "cell_type": "markdown",
   "id": "07be442c",
   "metadata": {},
   "source": [
    "## 2017-012-024\n",
    "## 2017 024"
   ]
  },
  {
   "cell_type": "markdown",
   "id": "1eda3189",
   "metadata": {},
   "source": [
    "https://adventofcode.com/2017/day/24"
   ]
  },
  {
   "cell_type": "code",
   "execution_count": null,
   "id": "802ab273",
   "metadata": {},
   "outputs": [],
   "source": []
  }
 ],
 "metadata": {
  "kernelspec": {
   "display_name": "Python 3 (ipykernel)",
   "language": "python",
   "name": "python3"
  },
  "language_info": {
   "name": "python",
   "version": "3.12.3"
  }
 },
 "nbformat": 4,
 "nbformat_minor": 5
}
