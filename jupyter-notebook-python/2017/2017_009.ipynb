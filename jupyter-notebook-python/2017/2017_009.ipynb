{
 "cells": [
  {
   "cell_type": "markdown",
   "id": "eb18a0e2",
   "metadata": {},
   "source": [
    "# Advent of Code"
   ]
  },
  {
   "cell_type": "markdown",
   "id": "253083af",
   "metadata": {},
   "source": [
    "## 2017-012-009\n",
    "## 2017 009"
   ]
  },
  {
   "cell_type": "markdown",
   "id": "79a777d6",
   "metadata": {},
   "source": [
    "https://adventofcode.com/2017/day/9"
   ]
  },
  {
   "cell_type": "code",
   "execution_count": null,
   "id": "a1880f73",
   "metadata": {},
   "outputs": [],
   "source": []
  }
 ],
 "metadata": {
  "kernelspec": {
   "display_name": "Python 3 (ipykernel)",
   "language": "python",
   "name": "python3"
  },
  "language_info": {
   "name": "python",
   "version": "3.12.3"
  }
 },
 "nbformat": 4,
 "nbformat_minor": 5
}
