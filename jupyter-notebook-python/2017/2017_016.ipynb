{
 "cells": [
  {
   "cell_type": "markdown",
   "id": "ffb0ab6e",
   "metadata": {},
   "source": [
    "# Advent of Code"
   ]
  },
  {
   "cell_type": "markdown",
   "id": "d8c84588",
   "metadata": {},
   "source": [
    "## 2017-012-016\n",
    "## 2017 016"
   ]
  },
  {
   "cell_type": "markdown",
   "id": "d5b3e1d7",
   "metadata": {},
   "source": [
    "https://adventofcode.com/2017/day/16"
   ]
  },
  {
   "cell_type": "code",
   "execution_count": null,
   "id": "ec00a4bc",
   "metadata": {},
   "outputs": [],
   "source": []
  }
 ],
 "metadata": {
  "kernelspec": {
   "display_name": "Python 3 (ipykernel)",
   "language": "python",
   "name": "python3"
  },
  "language_info": {
   "name": "python",
   "version": "3.12.3"
  }
 },
 "nbformat": 4,
 "nbformat_minor": 5
}
