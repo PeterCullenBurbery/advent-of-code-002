{
 "cells": [
  {
   "cell_type": "markdown",
   "id": "95e4e91d",
   "metadata": {},
   "source": [
    "# Advent of Code"
   ]
  },
  {
   "cell_type": "markdown",
   "id": "ee94441f",
   "metadata": {},
   "source": [
    "## 2017-012-011\n",
    "## 2017 011"
   ]
  },
  {
   "cell_type": "markdown",
   "id": "68edabbd",
   "metadata": {},
   "source": [
    "https://adventofcode.com/2017/day/11"
   ]
  },
  {
   "cell_type": "code",
   "execution_count": null,
   "id": "6de2903d",
   "metadata": {},
   "outputs": [],
   "source": []
  }
 ],
 "metadata": {},
 "nbformat": 4,
 "nbformat_minor": 5
}
