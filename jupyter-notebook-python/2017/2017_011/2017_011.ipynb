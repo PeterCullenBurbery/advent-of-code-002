{
 "cells": [
  {
   "cell_type": "markdown",
   "id": "95e4e91d",
   "metadata": {},
   "source": [
    "# Advent of Code"
   ]
  },
  {
   "cell_type": "markdown",
   "id": "ee94441f",
   "metadata": {},
   "source": [
    "## 2017-012-011\n",
    "## 2017 011"
   ]
  },
  {
   "cell_type": "markdown",
   "id": "68edabbd",
   "metadata": {},
   "source": [
    "https://adventofcode.com/2017/day/11"
   ]
  },
  {
   "cell_type": "code",
   "execution_count": 1,
   "id": "6de2903d",
   "metadata": {},
   "outputs": [
    {
     "name": "stdout",
     "output_type": "stream",
     "text": [
      "The minimal number of steps required: 812\n"
     ]
    }
   ],
   "source": [
    "# hex_grid_steps.py\n",
    "\n",
    "# Define movement vectors for each direction in cube coordinates\n",
    "direction_moves = {\n",
    "    'n':  (0, 1, -1),\n",
    "    'ne': (1, 0, -1),\n",
    "    'se': (1, -1, 0),\n",
    "    's':  (0, -1, 1),\n",
    "    'sw': (-1, 0, 1),\n",
    "    'nw': (-1, 1, 0)\n",
    "}\n",
    "\n",
    "# Initialize starting position\n",
    "x, y, z = 0, 0, 0\n",
    "\n",
    "# Read and parse directions from input.txt\n",
    "with open('input.txt', 'r') as file:\n",
    "    content = file.read().strip()\n",
    "    steps = content.split(',')\n",
    "\n",
    "# Process each direction\n",
    "for step in steps:\n",
    "    dx, dy, dz = direction_moves[step]\n",
    "    x += dx\n",
    "    y += dy\n",
    "    z += dz\n",
    "\n",
    "# Calculate the minimal number of steps (hex distance)\n",
    "distance = max(abs(x), abs(y), abs(z))\n",
    "\n",
    "print(f\"The minimal number of steps required: {distance}\")\n"
   ]
  },
  {
   "cell_type": "code",
   "execution_count": 2,
   "id": "1b72f224-7efd-443d-939e-5186344163c0",
   "metadata": {},
   "outputs": [
    {
     "name": "stdout",
     "output_type": "stream",
     "text": [
      "The minimal number of steps required to reach the child process: 812\n",
      "The furthest distance from the starting point during the journey: 1603\n"
     ]
    }
   ],
   "source": [
    "# hex_grid_steps.py\n",
    "\n",
    "# Define movement vectors for each direction in cube coordinates\n",
    "direction_moves = {\n",
    "    'n':  (0, 1, -1),\n",
    "    'ne': (1, 0, -1),\n",
    "    'se': (1, -1, 0),\n",
    "    's':  (0, -1, 1),\n",
    "    'sw': (-1, 0, 1),\n",
    "    'nw': (-1, 1, 0)\n",
    "}\n",
    "\n",
    "# Initialize starting position and maximum distance\n",
    "x, y, z = 0, 0, 0\n",
    "max_distance = 0\n",
    "\n",
    "# Read and parse directions from input.txt\n",
    "with open('input.txt', 'r') as file:\n",
    "    content = file.read().strip()\n",
    "    steps = content.split(',')\n",
    "\n",
    "# Process each direction\n",
    "for step in steps:\n",
    "    dx, dy, dz = direction_moves[step]\n",
    "    x += dx\n",
    "    y += dy\n",
    "    z += dz\n",
    "    # Calculate the current distance from the starting point\n",
    "    current_distance = max(abs(x), abs(y), abs(z))\n",
    "    # Update maximum distance if current distance is greater\n",
    "    if current_distance > max_distance:\n",
    "        max_distance = current_distance\n",
    "\n",
    "# Calculate the minimal number of steps (hex distance) to final position\n",
    "final_distance = max(abs(x), abs(y), abs(z))\n",
    "\n",
    "print(f\"The minimal number of steps required to reach the child process: {final_distance}\")\n",
    "print(f\"The furthest distance from the starting point during the journey: {max_distance}\")\n"
   ]
  },
  {
   "cell_type": "code",
   "execution_count": null,
   "id": "0291d241-4707-446a-827d-6075057a909a",
   "metadata": {},
   "outputs": [],
   "source": []
  }
 ],
 "metadata": {
  "kernelspec": {
   "display_name": "Python 3 (ipykernel)",
   "language": "python",
   "name": "python3"
  },
  "language_info": {
   "codemirror_mode": {
    "name": "ipython",
    "version": 3
   },
   "file_extension": ".py",
   "mimetype": "text/x-python",
   "name": "python",
   "nbconvert_exporter": "python",
   "pygments_lexer": "ipython3",
   "version": "3.12.3"
  }
 },
 "nbformat": 4,
 "nbformat_minor": 5
}
