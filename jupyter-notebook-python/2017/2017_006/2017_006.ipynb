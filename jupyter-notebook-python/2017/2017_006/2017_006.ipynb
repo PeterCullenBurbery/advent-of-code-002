{
 "cells": [
  {
   "cell_type": "markdown",
   "id": "7a72df02",
   "metadata": {},
   "source": [
    "# Advent of Code"
   ]
  },
  {
   "cell_type": "markdown",
   "id": "158dee66",
   "metadata": {},
   "source": [
    "## 2017-012-006\n",
    "## 2017 006"
   ]
  },
  {
   "cell_type": "markdown",
   "id": "ae475131",
   "metadata": {},
   "source": [
    "https://adventofcode.com/2017/day/6"
   ]
  },
  {
   "cell_type": "code",
   "execution_count": 1,
   "id": "d8c968ac",
   "metadata": {},
   "outputs": [
    {
     "data": {
      "text/plain": [
       "12841"
      ]
     },
     "execution_count": 1,
     "metadata": {},
     "output_type": "execute_result"
    }
   ],
   "source": [
    "# Load the memory banks data from the file\n",
    "with open('input.txt', 'r') as file:\n",
    "    memory_banks = list(map(int, file.read().strip().split('\\t')))\n",
    "\n",
    "# Function to calculate the number of redistribution cycles\n",
    "def redistribution_cycles(banks):\n",
    "    seen_configs = set()\n",
    "    cycles = 0\n",
    "    banks = banks[:]\n",
    "    \n",
    "    while tuple(banks) not in seen_configs:\n",
    "        seen_configs.add(tuple(banks))\n",
    "        # Find the bank with the most blocks\n",
    "        max_blocks = max(banks)\n",
    "        index = banks.index(max_blocks)\n",
    "        banks[index] = 0  # Remove all blocks from this bank\n",
    "        # Redistribute blocks\n",
    "        for _ in range(max_blocks):\n",
    "            index = (index + 1) % len(banks)\n",
    "            banks[index] += 1\n",
    "        cycles += 1\n",
    "\n",
    "    return cycles\n",
    "\n",
    "# Calculate the number of redistribution cycles\n",
    "redistribution_result = redistribution_cycles(memory_banks)\n",
    "redistribution_result\n"
   ]
  },
  {
   "cell_type": "code",
   "execution_count": 2,
   "id": "98c74111-cb96-44ec-b587-87f457894b59",
   "metadata": {},
   "outputs": [
    {
     "data": {
      "text/plain": [
       "8038"
      ]
     },
     "execution_count": 2,
     "metadata": {},
     "output_type": "execute_result"
    }
   ],
   "source": [
    "# Function to calculate the size of the loop\n",
    "def loop_size(banks):\n",
    "    seen_configs = {}\n",
    "    cycles = 0\n",
    "    banks = banks[:]\n",
    "    \n",
    "    while tuple(banks) not in seen_configs:\n",
    "        seen_configs[tuple(banks)] = cycles\n",
    "        # Find the bank with the most blocks\n",
    "        max_blocks = max(banks)\n",
    "        index = banks.index(max_blocks)\n",
    "        banks[index] = 0  # Remove all blocks from this bank\n",
    "        # Redistribute blocks\n",
    "        for _ in range(max_blocks):\n",
    "            index = (index + 1) % len(banks)\n",
    "            banks[index] += 1\n",
    "        cycles += 1\n",
    "\n",
    "    # Calculate the loop size\n",
    "    first_seen = seen_configs[tuple(banks)]\n",
    "    loop_size = cycles - first_seen\n",
    "\n",
    "    return loop_size\n",
    "\n",
    "# Calculate the size of the loop for the puzzle input\n",
    "loop_size_result = loop_size(memory_banks)\n",
    "loop_size_result"
   ]
  },
  {
   "cell_type": "code",
   "execution_count": null,
   "id": "0c4de434-11fc-492e-b661-c82dedf6ffe8",
   "metadata": {},
   "outputs": [],
   "source": []
  }
 ],
 "metadata": {
  "kernelspec": {
   "display_name": "Python 3 (ipykernel)",
   "language": "python",
   "name": "python3"
  },
  "language_info": {
   "codemirror_mode": {
    "name": "ipython",
    "version": 3
   },
   "file_extension": ".py",
   "mimetype": "text/x-python",
   "name": "python",
   "nbconvert_exporter": "python",
   "pygments_lexer": "ipython3",
   "version": "3.12.3"
  }
 },
 "nbformat": 4,
 "nbformat_minor": 5
}
