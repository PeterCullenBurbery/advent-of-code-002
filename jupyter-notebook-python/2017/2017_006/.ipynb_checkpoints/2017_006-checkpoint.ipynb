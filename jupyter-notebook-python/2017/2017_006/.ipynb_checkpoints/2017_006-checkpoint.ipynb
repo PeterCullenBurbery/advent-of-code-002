{
 "cells": [
  {
   "cell_type": "markdown",
   "id": "7a72df02",
   "metadata": {},
   "source": [
    "# Advent of Code"
   ]
  },
  {
   "cell_type": "markdown",
   "id": "158dee66",
   "metadata": {},
   "source": [
    "## 2017-012-006\n",
    "## 2017 006"
   ]
  },
  {
   "cell_type": "markdown",
   "id": "ae475131",
   "metadata": {},
   "source": [
    "https://adventofcode.com/2017/day/6"
   ]
  },
  {
   "cell_type": "code",
   "execution_count": null,
   "id": "d8c968ac",
   "metadata": {},
   "outputs": [],
   "source": []
  }
 ],
 "metadata": {},
 "nbformat": 4,
 "nbformat_minor": 5
}
