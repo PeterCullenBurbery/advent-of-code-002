{
 "cells": [
  {
   "cell_type": "markdown",
   "id": "d46906e8",
   "metadata": {},
   "source": [
    "# Advent of Code"
   ]
  },
  {
   "cell_type": "markdown",
   "id": "707ecb7f",
   "metadata": {},
   "source": [
    "## 2017-012-011\n",
    "## 2017 011"
   ]
  },
  {
   "cell_type": "markdown",
   "id": "e55dbe2e",
   "metadata": {},
   "source": [
    "https://adventofcode.com/2017/day/11"
   ]
  },
  {
   "cell_type": "code",
   "execution_count": null,
   "id": "4cb5e845",
   "metadata": {},
   "outputs": [],
   "source": []
  }
 ],
 "metadata": {
  "kernelspec": {
   "display_name": "Python 3 (ipykernel)",
   "language": "python",
   "name": "python3"
  },
  "language_info": {
   "name": "python",
   "version": "3.12.3"
  }
 },
 "nbformat": 4,
 "nbformat_minor": 5
}
