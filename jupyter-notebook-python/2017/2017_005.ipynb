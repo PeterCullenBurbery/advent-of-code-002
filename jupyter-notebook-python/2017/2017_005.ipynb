{
 "cells": [
  {
   "cell_type": "markdown",
   "id": "75fa1678",
   "metadata": {},
   "source": [
    "# Advent of Code"
   ]
  },
  {
   "cell_type": "markdown",
   "id": "95624f0b",
   "metadata": {},
   "source": [
    "## 2017-012-005\n",
    "## 2017 005"
   ]
  },
  {
   "cell_type": "markdown",
   "id": "9cd09e7c",
   "metadata": {},
   "source": [
    "https://adventofcode.com/2017/day/5"
   ]
  },
  {
   "cell_type": "code",
   "execution_count": null,
   "id": "7f1e6db7",
   "metadata": {},
   "outputs": [],
   "source": []
  }
 ],
 "metadata": {
  "kernelspec": {
   "display_name": "Python 3 (ipykernel)",
   "language": "python",
   "name": "python3"
  },
  "language_info": {
   "name": "python",
   "version": "3.12.3"
  }
 },
 "nbformat": 4,
 "nbformat_minor": 5
}
