{
 "cells": [
  {
   "cell_type": "markdown",
   "id": "6cec2d4e",
   "metadata": {},
   "source": [
    "# Advent of Code"
   ]
  },
  {
   "cell_type": "markdown",
   "id": "4820ff74",
   "metadata": {},
   "source": [
    "## 2017-012-001\n",
    "## 2017 001"
   ]
  },
  {
   "cell_type": "markdown",
   "id": "6339f68e",
   "metadata": {},
   "source": [
    "https://adventofcode.com/2017/day/1"
   ]
  },
  {
   "cell_type": "code",
   "execution_count": 1,
   "id": "47ca1644",
   "metadata": {},
   "outputs": [
    {
     "data": {
      "text/plain": [
       "1171"
      ]
     },
     "execution_count": 1,
     "metadata": {},
     "output_type": "execute_result"
    }
   ],
   "source": [
    "# Read the input from the provided file\n",
    "file_path = \"./input.txt\"\n",
    "with open(file_path, 'r') as file:\n",
    "    captcha_input = file.read().strip()\n",
    "\n",
    "# Function to calculate the sum based on the captcha rules\n",
    "def calculate_captcha_sum(captcha):\n",
    "    total_sum = 0\n",
    "    length = len(captcha)\n",
    "    for i in range(length):\n",
    "        # Compare current digit with the next (circular)\n",
    "        if captcha[i] == captcha[(i + 1) % length]:\n",
    "            total_sum += int(captcha[i])\n",
    "    return total_sum\n",
    "\n",
    "# Compute the solution for the input\n",
    "captcha_sum = calculate_captcha_sum(captcha_input)\n",
    "captcha_sum\n"
   ]
  },
  {
   "cell_type": "code",
   "execution_count": 2,
   "id": "89e101cd-68c7-48d8-a957-9ac50afd1a6b",
   "metadata": {},
   "outputs": [
    {
     "data": {
      "text/plain": [
       "1024"
      ]
     },
     "execution_count": 2,
     "metadata": {},
     "output_type": "execute_result"
    }
   ],
   "source": [
    "# Function to calculate the sum based on the new captcha rules\n",
    "def calculate_captcha_sum_part_two(captcha):\n",
    "    total_sum = 0\n",
    "    length = len(captcha)\n",
    "    step = length // 2  # Halfway around the circular list\n",
    "    for i in range(length):\n",
    "        # Compare current digit with the digit halfway around\n",
    "        if captcha[i] == captcha[(i + step) % length]:\n",
    "            total_sum += int(captcha[i])\n",
    "    return total_sum\n",
    "\n",
    "# Compute the solution for the new captcha rule\n",
    "captcha_sum_part_two = calculate_captcha_sum_part_two(captcha_input)\n",
    "captcha_sum_part_two\n"
   ]
  },
  {
   "cell_type": "code",
   "execution_count": null,
   "id": "e7c56465-c5ee-4328-903b-85d975eb2641",
   "metadata": {},
   "outputs": [],
   "source": []
  }
 ],
 "metadata": {
  "kernelspec": {
   "display_name": "Python 3 (ipykernel)",
   "language": "python",
   "name": "python3"
  },
  "language_info": {
   "codemirror_mode": {
    "name": "ipython",
    "version": 3
   },
   "file_extension": ".py",
   "mimetype": "text/x-python",
   "name": "python",
   "nbconvert_exporter": "python",
   "pygments_lexer": "ipython3",
   "version": "3.12.3"
  }
 },
 "nbformat": 4,
 "nbformat_minor": 5
}
