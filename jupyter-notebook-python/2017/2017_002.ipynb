{
 "cells": [
  {
   "cell_type": "markdown",
   "id": "32b1acaf",
   "metadata": {},
   "source": [
    "# Advent of Code"
   ]
  },
  {
   "cell_type": "markdown",
   "id": "b1649eb9",
   "metadata": {},
   "source": [
    "## 2017-012-002\n",
    "## 2017 002"
   ]
  },
  {
   "cell_type": "markdown",
   "id": "548809c2",
   "metadata": {},
   "source": [
    "https://adventofcode.com/2017/day/2"
   ]
  },
  {
   "cell_type": "code",
   "execution_count": null,
   "id": "ab41e427",
   "metadata": {},
   "outputs": [],
   "source": []
  }
 ],
 "metadata": {
  "kernelspec": {
   "display_name": "Python 3 (ipykernel)",
   "language": "python",
   "name": "python3"
  },
  "language_info": {
   "name": "python",
   "version": "3.12.3"
  }
 },
 "nbformat": 4,
 "nbformat_minor": 5
}
