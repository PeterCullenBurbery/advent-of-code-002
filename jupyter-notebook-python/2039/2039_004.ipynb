{
 "cells": [
  {
   "cell_type": "markdown",
   "id": "784bdad0",
   "metadata": {},
   "source": [
    "# Advent of Code"
   ]
  },
  {
   "cell_type": "markdown",
   "id": "b2d4a85c",
   "metadata": {},
   "source": [
    "## 2039-012-004\n",
    "## 2039 004"
   ]
  },
  {
   "cell_type": "markdown",
   "id": "761c752e",
   "metadata": {},
   "source": [
    "https://adventofcode.com/2039/day/4"
   ]
  },
  {
   "cell_type": "code",
   "execution_count": null,
   "id": "5c30b2f0",
   "metadata": {},
   "outputs": [],
   "source": []
  }
 ],
 "metadata": {
  "kernelspec": {
   "display_name": "Python 3 (ipykernel)",
   "language": "python",
   "name": "python3"
  },
  "language_info": {
   "name": "python",
   "version": "3.12.3"
  }
 },
 "nbformat": 4,
 "nbformat_minor": 5
}
