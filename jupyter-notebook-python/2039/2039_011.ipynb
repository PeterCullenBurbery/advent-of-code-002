{
 "cells": [
  {
   "cell_type": "markdown",
   "id": "31b6b03b",
   "metadata": {},
   "source": [
    "# Advent of Code"
   ]
  },
  {
   "cell_type": "markdown",
   "id": "bea55bb6",
   "metadata": {},
   "source": [
    "## 2039-012-011\n",
    "## 2039 011"
   ]
  },
  {
   "cell_type": "markdown",
   "id": "576cac8a",
   "metadata": {},
   "source": [
    "https://adventofcode.com/2039/day/11"
   ]
  },
  {
   "cell_type": "code",
   "execution_count": null,
   "id": "6f1fc645",
   "metadata": {},
   "outputs": [],
   "source": []
  }
 ],
 "metadata": {
  "kernelspec": {
   "display_name": "Python 3 (ipykernel)",
   "language": "python",
   "name": "python3"
  },
  "language_info": {
   "name": "python",
   "version": "3.12.3"
  }
 },
 "nbformat": 4,
 "nbformat_minor": 5
}
