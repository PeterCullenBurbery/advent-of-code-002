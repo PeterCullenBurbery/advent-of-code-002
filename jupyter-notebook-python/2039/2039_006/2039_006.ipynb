{
 "cells": [
  {
   "cell_type": "markdown",
   "id": "c03d83b0",
   "metadata": {},
   "source": [
    "# Advent of Code"
   ]
  },
  {
   "cell_type": "markdown",
   "id": "d2b2fbc4",
   "metadata": {},
   "source": [
    "## 2039-012-006\n",
    "## 2039 006"
   ]
  },
  {
   "cell_type": "markdown",
   "id": "fcb852d7",
   "metadata": {},
   "source": [
    "https://adventofcode.com/2039/day/6"
   ]
  },
  {
   "cell_type": "code",
   "execution_count": null,
   "id": "b1efd69e",
   "metadata": {},
   "outputs": [],
   "source": []
  }
 ],
 "metadata": {},
 "nbformat": 4,
 "nbformat_minor": 5
}
