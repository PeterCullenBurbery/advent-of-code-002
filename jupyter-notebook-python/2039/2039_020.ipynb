{
 "cells": [
  {
   "cell_type": "markdown",
   "id": "2b473894",
   "metadata": {},
   "source": [
    "# Advent of Code"
   ]
  },
  {
   "cell_type": "markdown",
   "id": "b7e76218",
   "metadata": {},
   "source": [
    "## 2039-012-020\n",
    "## 2039 020"
   ]
  },
  {
   "cell_type": "markdown",
   "id": "21ad8803",
   "metadata": {},
   "source": [
    "https://adventofcode.com/2039/day/20"
   ]
  },
  {
   "cell_type": "code",
   "execution_count": null,
   "id": "bda0715a",
   "metadata": {},
   "outputs": [],
   "source": []
  }
 ],
 "metadata": {
  "kernelspec": {
   "display_name": "Python 3 (ipykernel)",
   "language": "python",
   "name": "python3"
  },
  "language_info": {
   "name": "python",
   "version": "3.12.3"
  }
 },
 "nbformat": 4,
 "nbformat_minor": 5
}
