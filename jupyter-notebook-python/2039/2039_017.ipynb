{
 "cells": [
  {
   "cell_type": "markdown",
   "id": "c8fc9776",
   "metadata": {},
   "source": [
    "# Advent of Code"
   ]
  },
  {
   "cell_type": "markdown",
   "id": "4501c3cc",
   "metadata": {},
   "source": [
    "## 2039-012-017\n",
    "## 2039 017"
   ]
  },
  {
   "cell_type": "markdown",
   "id": "4c928a4f",
   "metadata": {},
   "source": [
    "https://adventofcode.com/2039/day/17"
   ]
  },
  {
   "cell_type": "code",
   "execution_count": null,
   "id": "a69f28d3",
   "metadata": {},
   "outputs": [],
   "source": []
  }
 ],
 "metadata": {
  "kernelspec": {
   "display_name": "Python 3 (ipykernel)",
   "language": "python",
   "name": "python3"
  },
  "language_info": {
   "name": "python",
   "version": "3.12.3"
  }
 },
 "nbformat": 4,
 "nbformat_minor": 5
}
