{
 "cells": [
  {
   "cell_type": "markdown",
   "id": "4f090414",
   "metadata": {},
   "source": [
    "# Advent of Code"
   ]
  },
  {
   "cell_type": "markdown",
   "id": "61b553e2",
   "metadata": {},
   "source": [
    "## 2039-012-012\n",
    "## 2039 012"
   ]
  },
  {
   "cell_type": "markdown",
   "id": "dc700e8b",
   "metadata": {},
   "source": [
    "https://adventofcode.com/2039/day/12"
   ]
  },
  {
   "cell_type": "code",
   "execution_count": null,
   "id": "447e97f6",
   "metadata": {},
   "outputs": [],
   "source": []
  }
 ],
 "metadata": {},
 "nbformat": 4,
 "nbformat_minor": 5
}
