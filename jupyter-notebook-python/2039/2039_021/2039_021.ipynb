{
 "cells": [
  {
   "cell_type": "markdown",
   "id": "5c024efd",
   "metadata": {},
   "source": [
    "# Advent of Code"
   ]
  },
  {
   "cell_type": "markdown",
   "id": "3b86c61b",
   "metadata": {},
   "source": [
    "## 2039-012-021\n",
    "## 2039 021"
   ]
  },
  {
   "cell_type": "markdown",
   "id": "f31e04a3",
   "metadata": {},
   "source": [
    "https://adventofcode.com/2039/day/21"
   ]
  },
  {
   "cell_type": "code",
   "execution_count": null,
   "id": "df7cfc0d",
   "metadata": {},
   "outputs": [],
   "source": []
  }
 ],
 "metadata": {},
 "nbformat": 4,
 "nbformat_minor": 5
}
