{
 "cells": [
  {
   "cell_type": "markdown",
   "id": "835e49d5",
   "metadata": {},
   "source": [
    "# Advent of Code"
   ]
  },
  {
   "cell_type": "markdown",
   "id": "0ed07fd4",
   "metadata": {},
   "source": [
    "## 2039-012-022\n",
    "## 2039 022"
   ]
  },
  {
   "cell_type": "markdown",
   "id": "2ee7d338",
   "metadata": {},
   "source": [
    "https://adventofcode.com/2039/day/22"
   ]
  },
  {
   "cell_type": "code",
   "execution_count": null,
   "id": "314174db",
   "metadata": {},
   "outputs": [],
   "source": []
  }
 ],
 "metadata": {
  "kernelspec": {
   "display_name": "Python 3 (ipykernel)",
   "language": "python",
   "name": "python3"
  },
  "language_info": {
   "name": "python",
   "version": "3.12.3"
  }
 },
 "nbformat": 4,
 "nbformat_minor": 5
}
