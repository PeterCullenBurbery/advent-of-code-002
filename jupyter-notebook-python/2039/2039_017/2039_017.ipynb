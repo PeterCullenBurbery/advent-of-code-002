{
 "cells": [
  {
   "cell_type": "markdown",
   "id": "167035ce",
   "metadata": {},
   "source": [
    "# Advent of Code"
   ]
  },
  {
   "cell_type": "markdown",
   "id": "9966c19f",
   "metadata": {},
   "source": [
    "## 2039-012-017\n",
    "## 2039 017"
   ]
  },
  {
   "cell_type": "markdown",
   "id": "477e22cd",
   "metadata": {},
   "source": [
    "https://adventofcode.com/2039/day/17"
   ]
  },
  {
   "cell_type": "code",
   "execution_count": null,
   "id": "882080e2",
   "metadata": {},
   "outputs": [],
   "source": []
  }
 ],
 "metadata": {},
 "nbformat": 4,
 "nbformat_minor": 5
}
