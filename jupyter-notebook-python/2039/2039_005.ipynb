{
 "cells": [
  {
   "cell_type": "markdown",
   "id": "07552c24",
   "metadata": {},
   "source": [
    "# Advent of Code"
   ]
  },
  {
   "cell_type": "markdown",
   "id": "09662702",
   "metadata": {},
   "source": [
    "## 2039-012-005\n",
    "## 2039 005"
   ]
  },
  {
   "cell_type": "markdown",
   "id": "ca61d414",
   "metadata": {},
   "source": [
    "https://adventofcode.com/2039/day/5"
   ]
  },
  {
   "cell_type": "code",
   "execution_count": null,
   "id": "07453d7e",
   "metadata": {},
   "outputs": [],
   "source": []
  }
 ],
 "metadata": {
  "kernelspec": {
   "display_name": "Python 3 (ipykernel)",
   "language": "python",
   "name": "python3"
  },
  "language_info": {
   "name": "python",
   "version": "3.12.3"
  }
 },
 "nbformat": 4,
 "nbformat_minor": 5
}
