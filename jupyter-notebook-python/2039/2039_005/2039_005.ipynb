{
 "cells": [
  {
   "cell_type": "markdown",
   "id": "c0eaf5e9",
   "metadata": {},
   "source": [
    "# Advent of Code"
   ]
  },
  {
   "cell_type": "markdown",
   "id": "43c66282",
   "metadata": {},
   "source": [
    "## 2039-012-005\n",
    "## 2039 005"
   ]
  },
  {
   "cell_type": "markdown",
   "id": "e958aa6a",
   "metadata": {},
   "source": [
    "https://adventofcode.com/2039/day/5"
   ]
  },
  {
   "cell_type": "code",
   "execution_count": null,
   "id": "930d448e",
   "metadata": {},
   "outputs": [],
   "source": []
  }
 ],
 "metadata": {},
 "nbformat": 4,
 "nbformat_minor": 5
}
