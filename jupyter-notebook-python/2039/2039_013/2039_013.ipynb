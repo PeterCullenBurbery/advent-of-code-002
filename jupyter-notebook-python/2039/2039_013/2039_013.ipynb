{
 "cells": [
  {
   "cell_type": "markdown",
   "id": "f6d8bbc4",
   "metadata": {},
   "source": [
    "# Advent of Code"
   ]
  },
  {
   "cell_type": "markdown",
   "id": "20b94761",
   "metadata": {},
   "source": [
    "## 2039-012-013\n",
    "## 2039 013"
   ]
  },
  {
   "cell_type": "markdown",
   "id": "2066f294",
   "metadata": {},
   "source": [
    "https://adventofcode.com/2039/day/13"
   ]
  },
  {
   "cell_type": "code",
   "execution_count": null,
   "id": "18b721ab",
   "metadata": {},
   "outputs": [],
   "source": []
  }
 ],
 "metadata": {},
 "nbformat": 4,
 "nbformat_minor": 5
}
