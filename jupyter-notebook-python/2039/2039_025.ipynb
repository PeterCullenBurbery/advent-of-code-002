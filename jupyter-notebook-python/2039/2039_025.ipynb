{
 "cells": [
  {
   "cell_type": "markdown",
   "id": "4301992c",
   "metadata": {},
   "source": [
    "# Advent of Code"
   ]
  },
  {
   "cell_type": "markdown",
   "id": "206bf32d",
   "metadata": {},
   "source": [
    "## 2039-012-025\n",
    "## 2039 025"
   ]
  },
  {
   "cell_type": "markdown",
   "id": "583cf8dd",
   "metadata": {},
   "source": [
    "https://adventofcode.com/2039/day/25"
   ]
  },
  {
   "cell_type": "code",
   "execution_count": null,
   "id": "c8572f8b",
   "metadata": {},
   "outputs": [],
   "source": []
  }
 ],
 "metadata": {
  "kernelspec": {
   "display_name": "Python 3 (ipykernel)",
   "language": "python",
   "name": "python3"
  },
  "language_info": {
   "name": "python",
   "version": "3.12.3"
  }
 },
 "nbformat": 4,
 "nbformat_minor": 5
}
