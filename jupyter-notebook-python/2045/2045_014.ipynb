{
 "cells": [
  {
   "cell_type": "markdown",
   "id": "647fab54",
   "metadata": {},
   "source": [
    "# Advent of Code"
   ]
  },
  {
   "cell_type": "markdown",
   "id": "5fe3713c",
   "metadata": {},
   "source": [
    "## 2045-012-014\n",
    "## 2045 014"
   ]
  },
  {
   "cell_type": "markdown",
   "id": "388c3db7",
   "metadata": {},
   "source": [
    "https://adventofcode.com/2045/day/14"
   ]
  },
  {
   "cell_type": "code",
   "execution_count": null,
   "id": "a1824aee",
   "metadata": {},
   "outputs": [],
   "source": []
  }
 ],
 "metadata": {
  "kernelspec": {
   "display_name": "Python 3 (ipykernel)",
   "language": "python",
   "name": "python3"
  },
  "language_info": {
   "name": "python",
   "version": "3.12.3"
  }
 },
 "nbformat": 4,
 "nbformat_minor": 5
}
