{
 "cells": [
  {
   "cell_type": "markdown",
   "id": "36d63192",
   "metadata": {},
   "source": [
    "# Advent of Code"
   ]
  },
  {
   "cell_type": "markdown",
   "id": "77216bf3",
   "metadata": {},
   "source": [
    "## 2045-012-025\n",
    "## 2045 025"
   ]
  },
  {
   "cell_type": "markdown",
   "id": "0719796f",
   "metadata": {},
   "source": [
    "https://adventofcode.com/2045/day/25"
   ]
  },
  {
   "cell_type": "code",
   "execution_count": null,
   "id": "773636db",
   "metadata": {},
   "outputs": [],
   "source": []
  }
 ],
 "metadata": {
  "kernelspec": {
   "display_name": "Python 3 (ipykernel)",
   "language": "python",
   "name": "python3"
  },
  "language_info": {
   "name": "python",
   "version": "3.12.3"
  }
 },
 "nbformat": 4,
 "nbformat_minor": 5
}
