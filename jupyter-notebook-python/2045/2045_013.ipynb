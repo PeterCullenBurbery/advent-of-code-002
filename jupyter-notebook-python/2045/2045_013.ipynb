{
 "cells": [
  {
   "cell_type": "markdown",
   "id": "c73f2e43",
   "metadata": {},
   "source": [
    "# Advent of Code"
   ]
  },
  {
   "cell_type": "markdown",
   "id": "2616b947",
   "metadata": {},
   "source": [
    "## 2045-012-013\n",
    "## 2045 013"
   ]
  },
  {
   "cell_type": "markdown",
   "id": "d0e579a3",
   "metadata": {},
   "source": [
    "https://adventofcode.com/2045/day/13"
   ]
  },
  {
   "cell_type": "code",
   "execution_count": null,
   "id": "95194e74",
   "metadata": {},
   "outputs": [],
   "source": []
  }
 ],
 "metadata": {
  "kernelspec": {
   "display_name": "Python 3 (ipykernel)",
   "language": "python",
   "name": "python3"
  },
  "language_info": {
   "name": "python",
   "version": "3.12.3"
  }
 },
 "nbformat": 4,
 "nbformat_minor": 5
}
