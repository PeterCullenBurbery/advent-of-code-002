{
 "cells": [
  {
   "cell_type": "markdown",
   "id": "bcb43647",
   "metadata": {},
   "source": [
    "# Advent of Code"
   ]
  },
  {
   "cell_type": "markdown",
   "id": "aec80332",
   "metadata": {},
   "source": [
    "## 2045-012-017\n",
    "## 2045 017"
   ]
  },
  {
   "cell_type": "markdown",
   "id": "8291a556",
   "metadata": {},
   "source": [
    "https://adventofcode.com/2045/day/17"
   ]
  },
  {
   "cell_type": "code",
   "execution_count": null,
   "id": "cb52da00",
   "metadata": {},
   "outputs": [],
   "source": []
  }
 ],
 "metadata": {},
 "nbformat": 4,
 "nbformat_minor": 5
}
