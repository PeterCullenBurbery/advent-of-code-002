{
 "cells": [
  {
   "cell_type": "markdown",
   "id": "5fb640f9",
   "metadata": {},
   "source": [
    "# Advent of Code"
   ]
  },
  {
   "cell_type": "markdown",
   "id": "c04ba161",
   "metadata": {},
   "source": [
    "## 2045-012-015\n",
    "## 2045 015"
   ]
  },
  {
   "cell_type": "markdown",
   "id": "11e7c0b8",
   "metadata": {},
   "source": [
    "https://adventofcode.com/2045/day/15"
   ]
  },
  {
   "cell_type": "code",
   "execution_count": null,
   "id": "486d2809",
   "metadata": {},
   "outputs": [],
   "source": []
  }
 ],
 "metadata": {
  "kernelspec": {
   "display_name": "Python 3 (ipykernel)",
   "language": "python",
   "name": "python3"
  },
  "language_info": {
   "name": "python",
   "version": "3.12.3"
  }
 },
 "nbformat": 4,
 "nbformat_minor": 5
}
