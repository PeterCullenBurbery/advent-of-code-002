{
 "cells": [
  {
   "cell_type": "markdown",
   "id": "ec7cbaad",
   "metadata": {},
   "source": [
    "# Advent of Code"
   ]
  },
  {
   "cell_type": "markdown",
   "id": "e06d142e",
   "metadata": {},
   "source": [
    "## 2045-012-022\n",
    "## 2045 022"
   ]
  },
  {
   "cell_type": "markdown",
   "id": "9fbf5c7c",
   "metadata": {},
   "source": [
    "https://adventofcode.com/2045/day/22"
   ]
  },
  {
   "cell_type": "code",
   "execution_count": null,
   "id": "09f2a457",
   "metadata": {},
   "outputs": [],
   "source": []
  }
 ],
 "metadata": {
  "kernelspec": {
   "display_name": "Python 3 (ipykernel)",
   "language": "python",
   "name": "python3"
  },
  "language_info": {
   "name": "python",
   "version": "3.12.3"
  }
 },
 "nbformat": 4,
 "nbformat_minor": 5
}
