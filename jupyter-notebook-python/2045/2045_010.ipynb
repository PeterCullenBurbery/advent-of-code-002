{
 "cells": [
  {
   "cell_type": "markdown",
   "id": "173e77ee",
   "metadata": {},
   "source": [
    "# Advent of Code"
   ]
  },
  {
   "cell_type": "markdown",
   "id": "237da061",
   "metadata": {},
   "source": [
    "## 2045-012-010\n",
    "## 2045 010"
   ]
  },
  {
   "cell_type": "markdown",
   "id": "4eb8c955",
   "metadata": {},
   "source": [
    "https://adventofcode.com/2045/day/10"
   ]
  },
  {
   "cell_type": "code",
   "execution_count": null,
   "id": "c10b6e55",
   "metadata": {},
   "outputs": [],
   "source": []
  }
 ],
 "metadata": {
  "kernelspec": {
   "display_name": "Python 3 (ipykernel)",
   "language": "python",
   "name": "python3"
  },
  "language_info": {
   "name": "python",
   "version": "3.12.3"
  }
 },
 "nbformat": 4,
 "nbformat_minor": 5
}
