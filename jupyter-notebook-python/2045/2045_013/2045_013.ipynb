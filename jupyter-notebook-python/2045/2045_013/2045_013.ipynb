{
 "cells": [
  {
   "cell_type": "markdown",
   "id": "73610c22",
   "metadata": {},
   "source": [
    "# Advent of Code"
   ]
  },
  {
   "cell_type": "markdown",
   "id": "3fb3bd71",
   "metadata": {},
   "source": [
    "## 2045-012-013\n",
    "## 2045 013"
   ]
  },
  {
   "cell_type": "markdown",
   "id": "94e69e71",
   "metadata": {},
   "source": [
    "https://adventofcode.com/2045/day/13"
   ]
  },
  {
   "cell_type": "code",
   "execution_count": null,
   "id": "b1e634b4",
   "metadata": {},
   "outputs": [],
   "source": []
  }
 ],
 "metadata": {},
 "nbformat": 4,
 "nbformat_minor": 5
}
