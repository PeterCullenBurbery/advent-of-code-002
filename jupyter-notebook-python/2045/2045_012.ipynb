{
 "cells": [
  {
   "cell_type": "markdown",
   "id": "66674175",
   "metadata": {},
   "source": [
    "# Advent of Code"
   ]
  },
  {
   "cell_type": "markdown",
   "id": "868ead0f",
   "metadata": {},
   "source": [
    "## 2045-012-012\n",
    "## 2045 012"
   ]
  },
  {
   "cell_type": "markdown",
   "id": "fa00027b",
   "metadata": {},
   "source": [
    "https://adventofcode.com/2045/day/12"
   ]
  },
  {
   "cell_type": "code",
   "execution_count": null,
   "id": "649bae50",
   "metadata": {},
   "outputs": [],
   "source": []
  }
 ],
 "metadata": {
  "kernelspec": {
   "display_name": "Python 3 (ipykernel)",
   "language": "python",
   "name": "python3"
  },
  "language_info": {
   "name": "python",
   "version": "3.12.3"
  }
 },
 "nbformat": 4,
 "nbformat_minor": 5
}
