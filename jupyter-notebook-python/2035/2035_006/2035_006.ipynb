{
 "cells": [
  {
   "cell_type": "markdown",
   "id": "a3b88c52",
   "metadata": {},
   "source": [
    "# Advent of Code"
   ]
  },
  {
   "cell_type": "markdown",
   "id": "d290a0ea",
   "metadata": {},
   "source": [
    "## 2035-012-006\n",
    "## 2035 006"
   ]
  },
  {
   "cell_type": "markdown",
   "id": "96ad4345",
   "metadata": {},
   "source": [
    "https://adventofcode.com/2035/day/6"
   ]
  },
  {
   "cell_type": "code",
   "execution_count": null,
   "id": "efae4360",
   "metadata": {},
   "outputs": [],
   "source": []
  }
 ],
 "metadata": {},
 "nbformat": 4,
 "nbformat_minor": 5
}
