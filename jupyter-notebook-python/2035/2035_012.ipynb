{
 "cells": [
  {
   "cell_type": "markdown",
   "id": "e6275203",
   "metadata": {},
   "source": [
    "# Advent of Code"
   ]
  },
  {
   "cell_type": "markdown",
   "id": "d9a8d56c",
   "metadata": {},
   "source": [
    "## 2035-012-012\n",
    "## 2035 012"
   ]
  },
  {
   "cell_type": "markdown",
   "id": "ae55a21f",
   "metadata": {},
   "source": [
    "https://adventofcode.com/2035/day/12"
   ]
  },
  {
   "cell_type": "code",
   "execution_count": null,
   "id": "9a2050f3",
   "metadata": {},
   "outputs": [],
   "source": []
  }
 ],
 "metadata": {
  "kernelspec": {
   "display_name": "Python 3 (ipykernel)",
   "language": "python",
   "name": "python3"
  },
  "language_info": {
   "name": "python",
   "version": "3.12.3"
  }
 },
 "nbformat": 4,
 "nbformat_minor": 5
}
