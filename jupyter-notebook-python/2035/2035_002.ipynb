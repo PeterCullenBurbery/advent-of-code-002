{
 "cells": [
  {
   "cell_type": "markdown",
   "id": "b69a2d63",
   "metadata": {},
   "source": [
    "# Advent of Code"
   ]
  },
  {
   "cell_type": "markdown",
   "id": "b5239f82",
   "metadata": {},
   "source": [
    "## 2035-012-002\n",
    "## 2035 002"
   ]
  },
  {
   "cell_type": "markdown",
   "id": "b4f20655",
   "metadata": {},
   "source": [
    "https://adventofcode.com/2035/day/2"
   ]
  },
  {
   "cell_type": "code",
   "execution_count": null,
   "id": "9d5cf5df",
   "metadata": {},
   "outputs": [],
   "source": []
  }
 ],
 "metadata": {
  "kernelspec": {
   "display_name": "Python 3 (ipykernel)",
   "language": "python",
   "name": "python3"
  },
  "language_info": {
   "name": "python",
   "version": "3.12.3"
  }
 },
 "nbformat": 4,
 "nbformat_minor": 5
}
