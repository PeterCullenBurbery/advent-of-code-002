{
 "cells": [
  {
   "cell_type": "markdown",
   "id": "055e8e4b",
   "metadata": {},
   "source": [
    "# Advent of Code"
   ]
  },
  {
   "cell_type": "markdown",
   "id": "319ea62d",
   "metadata": {},
   "source": [
    "## 2035-012-011\n",
    "## 2035 011"
   ]
  },
  {
   "cell_type": "markdown",
   "id": "2f8575a0",
   "metadata": {},
   "source": [
    "https://adventofcode.com/2035/day/11"
   ]
  },
  {
   "cell_type": "code",
   "execution_count": null,
   "id": "0d53129e",
   "metadata": {},
   "outputs": [],
   "source": []
  }
 ],
 "metadata": {},
 "nbformat": 4,
 "nbformat_minor": 5
}
