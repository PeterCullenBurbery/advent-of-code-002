{
 "cells": [
  {
   "cell_type": "markdown",
   "id": "d74edcae",
   "metadata": {},
   "source": [
    "# Advent of Code"
   ]
  },
  {
   "cell_type": "markdown",
   "id": "e3d83ed8",
   "metadata": {},
   "source": [
    "## 2035-012-003\n",
    "## 2035 003"
   ]
  },
  {
   "cell_type": "markdown",
   "id": "cd418a1f",
   "metadata": {},
   "source": [
    "https://adventofcode.com/2035/day/3"
   ]
  },
  {
   "cell_type": "code",
   "execution_count": null,
   "id": "fa208601",
   "metadata": {},
   "outputs": [],
   "source": []
  }
 ],
 "metadata": {
  "kernelspec": {
   "display_name": "Python 3 (ipykernel)",
   "language": "python",
   "name": "python3"
  },
  "language_info": {
   "name": "python",
   "version": "3.12.3"
  }
 },
 "nbformat": 4,
 "nbformat_minor": 5
}
