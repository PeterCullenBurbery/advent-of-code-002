{
 "cells": [
  {
   "cell_type": "markdown",
   "id": "65d0a5bf",
   "metadata": {},
   "source": [
    "# Advent of Code"
   ]
  },
  {
   "cell_type": "markdown",
   "id": "e28502cf",
   "metadata": {},
   "source": [
    "## 2035-012-002\n",
    "## 2035 002"
   ]
  },
  {
   "cell_type": "markdown",
   "id": "487a2570",
   "metadata": {},
   "source": [
    "https://adventofcode.com/2035/day/2"
   ]
  },
  {
   "cell_type": "code",
   "execution_count": null,
   "id": "5d3106da",
   "metadata": {},
   "outputs": [],
   "source": []
  }
 ],
 "metadata": {},
 "nbformat": 4,
 "nbformat_minor": 5
}
