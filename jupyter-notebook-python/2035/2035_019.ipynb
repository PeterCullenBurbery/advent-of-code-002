{
 "cells": [
  {
   "cell_type": "markdown",
   "id": "b04b51a6",
   "metadata": {},
   "source": [
    "# Advent of Code"
   ]
  },
  {
   "cell_type": "markdown",
   "id": "ab3759ef",
   "metadata": {},
   "source": [
    "## 2035-012-019\n",
    "## 2035 019"
   ]
  },
  {
   "cell_type": "markdown",
   "id": "fbd7fd25",
   "metadata": {},
   "source": [
    "https://adventofcode.com/2035/day/19"
   ]
  },
  {
   "cell_type": "code",
   "execution_count": null,
   "id": "ed7fbeef",
   "metadata": {},
   "outputs": [],
   "source": []
  }
 ],
 "metadata": {
  "kernelspec": {
   "display_name": "Python 3 (ipykernel)",
   "language": "python",
   "name": "python3"
  },
  "language_info": {
   "name": "python",
   "version": "3.12.3"
  }
 },
 "nbformat": 4,
 "nbformat_minor": 5
}
