{
 "cells": [
  {
   "cell_type": "markdown",
   "id": "e49a3dd7",
   "metadata": {},
   "source": [
    "# Advent of Code"
   ]
  },
  {
   "cell_type": "markdown",
   "id": "4f2fa89c",
   "metadata": {},
   "source": [
    "## 2035-012-008\n",
    "## 2035 008"
   ]
  },
  {
   "cell_type": "markdown",
   "id": "00043e4b",
   "metadata": {},
   "source": [
    "https://adventofcode.com/2035/day/8"
   ]
  },
  {
   "cell_type": "code",
   "execution_count": null,
   "id": "66963e5c",
   "metadata": {},
   "outputs": [],
   "source": []
  }
 ],
 "metadata": {
  "kernelspec": {
   "display_name": "Python 3 (ipykernel)",
   "language": "python",
   "name": "python3"
  },
  "language_info": {
   "name": "python",
   "version": "3.12.3"
  }
 },
 "nbformat": 4,
 "nbformat_minor": 5
}
