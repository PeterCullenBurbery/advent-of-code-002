{
 "cells": [
  {
   "cell_type": "markdown",
   "id": "859d52d9",
   "metadata": {},
   "source": [
    "# Advent of Code"
   ]
  },
  {
   "cell_type": "markdown",
   "id": "7adefb1f",
   "metadata": {},
   "source": [
    "## 2035-012-009\n",
    "## 2035 009"
   ]
  },
  {
   "cell_type": "markdown",
   "id": "5c5e75ca",
   "metadata": {},
   "source": [
    "https://adventofcode.com/2035/day/9"
   ]
  },
  {
   "cell_type": "code",
   "execution_count": null,
   "id": "9cb983e9",
   "metadata": {},
   "outputs": [],
   "source": []
  }
 ],
 "metadata": {},
 "nbformat": 4,
 "nbformat_minor": 5
}
