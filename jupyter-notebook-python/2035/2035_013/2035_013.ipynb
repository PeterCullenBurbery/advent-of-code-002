{
 "cells": [
  {
   "cell_type": "markdown",
   "id": "07fe1031",
   "metadata": {},
   "source": [
    "# Advent of Code"
   ]
  },
  {
   "cell_type": "markdown",
   "id": "54584154",
   "metadata": {},
   "source": [
    "## 2035-012-013\n",
    "## 2035 013"
   ]
  },
  {
   "cell_type": "markdown",
   "id": "cfb7ea88",
   "metadata": {},
   "source": [
    "https://adventofcode.com/2035/day/13"
   ]
  },
  {
   "cell_type": "code",
   "execution_count": null,
   "id": "0c42d7b4",
   "metadata": {},
   "outputs": [],
   "source": []
  }
 ],
 "metadata": {},
 "nbformat": 4,
 "nbformat_minor": 5
}
