{
 "cells": [
  {
   "cell_type": "markdown",
   "id": "89c44440",
   "metadata": {},
   "source": [
    "# Advent of Code"
   ]
  },
  {
   "cell_type": "markdown",
   "id": "3e2bd9e0",
   "metadata": {},
   "source": [
    "## 2035-012-017\n",
    "## 2035 017"
   ]
  },
  {
   "cell_type": "markdown",
   "id": "6de55d74",
   "metadata": {},
   "source": [
    "https://adventofcode.com/2035/day/17"
   ]
  },
  {
   "cell_type": "code",
   "execution_count": null,
   "id": "3a4fbad5",
   "metadata": {},
   "outputs": [],
   "source": []
  }
 ],
 "metadata": {
  "kernelspec": {
   "display_name": "Python 3 (ipykernel)",
   "language": "python",
   "name": "python3"
  },
  "language_info": {
   "name": "python",
   "version": "3.12.3"
  }
 },
 "nbformat": 4,
 "nbformat_minor": 5
}
