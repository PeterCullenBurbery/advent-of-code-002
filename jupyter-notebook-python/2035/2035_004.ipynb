{
 "cells": [
  {
   "cell_type": "markdown",
   "id": "0d59e05e",
   "metadata": {},
   "source": [
    "# Advent of Code"
   ]
  },
  {
   "cell_type": "markdown",
   "id": "7225548b",
   "metadata": {},
   "source": [
    "## 2035-012-004\n",
    "## 2035 004"
   ]
  },
  {
   "cell_type": "markdown",
   "id": "ef049b30",
   "metadata": {},
   "source": [
    "https://adventofcode.com/2035/day/4"
   ]
  },
  {
   "cell_type": "code",
   "execution_count": null,
   "id": "beb79318",
   "metadata": {},
   "outputs": [],
   "source": []
  }
 ],
 "metadata": {
  "kernelspec": {
   "display_name": "Python 3 (ipykernel)",
   "language": "python",
   "name": "python3"
  },
  "language_info": {
   "name": "python",
   "version": "3.12.3"
  }
 },
 "nbformat": 4,
 "nbformat_minor": 5
}
