{
 "cells": [
  {
   "cell_type": "markdown",
   "id": "18e1e4cb",
   "metadata": {},
   "source": [
    "# Advent of Code"
   ]
  },
  {
   "cell_type": "markdown",
   "id": "bc8394c8",
   "metadata": {},
   "source": [
    "## 2035-012-006\n",
    "## 2035 006"
   ]
  },
  {
   "cell_type": "markdown",
   "id": "e09a6590",
   "metadata": {},
   "source": [
    "https://adventofcode.com/2035/day/6"
   ]
  },
  {
   "cell_type": "code",
   "execution_count": null,
   "id": "28cabc8d",
   "metadata": {},
   "outputs": [],
   "source": []
  }
 ],
 "metadata": {
  "kernelspec": {
   "display_name": "Python 3 (ipykernel)",
   "language": "python",
   "name": "python3"
  },
  "language_info": {
   "name": "python",
   "version": "3.12.3"
  }
 },
 "nbformat": 4,
 "nbformat_minor": 5
}
