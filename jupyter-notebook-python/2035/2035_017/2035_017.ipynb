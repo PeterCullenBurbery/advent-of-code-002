{
 "cells": [
  {
   "cell_type": "markdown",
   "id": "aa63408f",
   "metadata": {},
   "source": [
    "# Advent of Code"
   ]
  },
  {
   "cell_type": "markdown",
   "id": "2d89d86e",
   "metadata": {},
   "source": [
    "## 2035-012-017\n",
    "## 2035 017"
   ]
  },
  {
   "cell_type": "markdown",
   "id": "810ab694",
   "metadata": {},
   "source": [
    "https://adventofcode.com/2035/day/17"
   ]
  },
  {
   "cell_type": "code",
   "execution_count": null,
   "id": "b9c3be70",
   "metadata": {},
   "outputs": [],
   "source": []
  }
 ],
 "metadata": {},
 "nbformat": 4,
 "nbformat_minor": 5
}
