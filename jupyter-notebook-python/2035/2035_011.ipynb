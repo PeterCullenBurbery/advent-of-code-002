{
 "cells": [
  {
   "cell_type": "markdown",
   "id": "05ddac48",
   "metadata": {},
   "source": [
    "# Advent of Code"
   ]
  },
  {
   "cell_type": "markdown",
   "id": "40abf73a",
   "metadata": {},
   "source": [
    "## 2035-012-011\n",
    "## 2035 011"
   ]
  },
  {
   "cell_type": "markdown",
   "id": "0e61b147",
   "metadata": {},
   "source": [
    "https://adventofcode.com/2035/day/11"
   ]
  },
  {
   "cell_type": "code",
   "execution_count": null,
   "id": "5879b7b3",
   "metadata": {},
   "outputs": [],
   "source": []
  }
 ],
 "metadata": {
  "kernelspec": {
   "display_name": "Python 3 (ipykernel)",
   "language": "python",
   "name": "python3"
  },
  "language_info": {
   "name": "python",
   "version": "3.12.3"
  }
 },
 "nbformat": 4,
 "nbformat_minor": 5
}
