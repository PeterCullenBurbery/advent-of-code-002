{
 "cells": [
  {
   "cell_type": "markdown",
   "id": "d4c4b894",
   "metadata": {},
   "source": [
    "# Advent of Code"
   ]
  },
  {
   "cell_type": "markdown",
   "id": "3986e01a",
   "metadata": {},
   "source": [
    "## 2016-012-016\n",
    "## 2016 016"
   ]
  },
  {
   "cell_type": "markdown",
   "id": "4ccfa507",
   "metadata": {},
   "source": [
    "https://adventofcode.com/2016/day/16"
   ]
  },
  {
   "cell_type": "code",
   "execution_count": null,
   "id": "b8277da3",
   "metadata": {},
   "outputs": [],
   "source": []
  }
 ],
 "metadata": {
  "kernelspec": {
   "display_name": "Python 3 (ipykernel)",
   "language": "python",
   "name": "python3"
  },
  "language_info": {
   "name": "python",
   "version": "3.12.3"
  }
 },
 "nbformat": 4,
 "nbformat_minor": 5
}
