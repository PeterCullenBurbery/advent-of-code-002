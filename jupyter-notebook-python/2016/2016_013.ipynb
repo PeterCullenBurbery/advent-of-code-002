{
 "cells": [
  {
   "cell_type": "markdown",
   "id": "eb4f48fe",
   "metadata": {},
   "source": [
    "# Advent of Code"
   ]
  },
  {
   "cell_type": "markdown",
   "id": "e6658799",
   "metadata": {},
   "source": [
    "## 2016-012-013\n",
    "## 2016 013"
   ]
  },
  {
   "cell_type": "markdown",
   "id": "093ea881",
   "metadata": {},
   "source": [
    "https://adventofcode.com/2016/day/13"
   ]
  },
  {
   "cell_type": "code",
   "execution_count": null,
   "id": "b2a28f01",
   "metadata": {},
   "outputs": [],
   "source": []
  }
 ],
 "metadata": {
  "kernelspec": {
   "display_name": "Python 3 (ipykernel)",
   "language": "python",
   "name": "python3"
  },
  "language_info": {
   "name": "python",
   "version": "3.12.3"
  }
 },
 "nbformat": 4,
 "nbformat_minor": 5
}
