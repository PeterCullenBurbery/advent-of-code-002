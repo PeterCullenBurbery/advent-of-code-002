{
 "cells": [
  {
   "cell_type": "markdown",
   "id": "8cb132cf",
   "metadata": {},
   "source": [
    "# Advent of Code"
   ]
  },
  {
   "cell_type": "markdown",
   "id": "332267b6",
   "metadata": {},
   "source": [
    "## 2016-012-020\n",
    "## 2016 020"
   ]
  },
  {
   "cell_type": "markdown",
   "id": "b6184b0a",
   "metadata": {},
   "source": [
    "https://adventofcode.com/2016/day/20"
   ]
  },
  {
   "cell_type": "code",
   "execution_count": null,
   "id": "ef07a348",
   "metadata": {},
   "outputs": [],
   "source": []
  }
 ],
 "metadata": {},
 "nbformat": 4,
 "nbformat_minor": 5
}
