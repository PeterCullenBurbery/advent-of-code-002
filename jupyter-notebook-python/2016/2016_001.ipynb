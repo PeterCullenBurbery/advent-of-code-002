{
 "cells": [
  {
   "cell_type": "markdown",
   "id": "1cff44fb",
   "metadata": {},
   "source": [
    "# Advent of Code"
   ]
  },
  {
   "cell_type": "markdown",
   "id": "a1ca96ec",
   "metadata": {},
   "source": [
    "## 2016-012-001\n",
    "## 2016 001"
   ]
  },
  {
   "cell_type": "markdown",
   "id": "b96c8951",
   "metadata": {},
   "source": [
    "https://adventofcode.com/2016/day/1"
   ]
  },
  {
   "cell_type": "code",
   "execution_count": null,
   "id": "0f4f3c93",
   "metadata": {},
   "outputs": [],
   "source": []
  }
 ],
 "metadata": {
  "kernelspec": {
   "display_name": "Python 3 (ipykernel)",
   "language": "python",
   "name": "python3"
  },
  "language_info": {
   "name": "python",
   "version": "3.12.3"
  }
 },
 "nbformat": 4,
 "nbformat_minor": 5
}
