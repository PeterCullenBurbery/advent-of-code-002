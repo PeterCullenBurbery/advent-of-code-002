{
 "cells": [
  {
   "cell_type": "markdown",
   "id": "e334c6c4",
   "metadata": {},
   "source": [
    "# Advent of Code"
   ]
  },
  {
   "cell_type": "markdown",
   "id": "1719927f",
   "metadata": {},
   "source": [
    "## 2016-012-025\n",
    "## 2016 025"
   ]
  },
  {
   "cell_type": "markdown",
   "id": "065b8012",
   "metadata": {},
   "source": [
    "https://adventofcode.com/2016/day/25"
   ]
  },
  {
   "cell_type": "code",
   "execution_count": null,
   "id": "8df77de9",
   "metadata": {},
   "outputs": [],
   "source": []
  }
 ],
 "metadata": {
  "kernelspec": {
   "display_name": "Python 3 (ipykernel)",
   "language": "python",
   "name": "python3"
  },
  "language_info": {
   "name": "python",
   "version": "3.12.3"
  }
 },
 "nbformat": 4,
 "nbformat_minor": 5
}
