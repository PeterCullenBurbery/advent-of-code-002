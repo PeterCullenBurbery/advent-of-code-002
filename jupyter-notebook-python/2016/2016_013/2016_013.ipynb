{
 "cells": [
  {
   "cell_type": "markdown",
   "id": "642ccb8d",
   "metadata": {},
   "source": [
    "# Advent of Code"
   ]
  },
  {
   "cell_type": "markdown",
   "id": "4d3d92f8",
   "metadata": {},
   "source": [
    "## 2016-012-013\n",
    "## 2016 013"
   ]
  },
  {
   "cell_type": "markdown",
   "id": "959275b7",
   "metadata": {},
   "source": [
    "https://adventofcode.com/2016/day/13"
   ]
  },
  {
   "cell_type": "code",
   "execution_count": null,
   "id": "4667c9d8",
   "metadata": {},
   "outputs": [],
   "source": []
  }
 ],
 "metadata": {},
 "nbformat": 4,
 "nbformat_minor": 5
}
