{
 "cells": [
  {
   "cell_type": "markdown",
   "id": "0b9c956e",
   "metadata": {},
   "source": [
    "# Advent of Code"
   ]
  },
  {
   "cell_type": "markdown",
   "id": "699ca394",
   "metadata": {},
   "source": [
    "## 2016-012-011\n",
    "## 2016 011"
   ]
  },
  {
   "cell_type": "markdown",
   "id": "59e4dd71",
   "metadata": {},
   "source": [
    "https://adventofcode.com/2016/day/11"
   ]
  },
  {
   "cell_type": "code",
   "execution_count": null,
   "id": "46bc8de9",
   "metadata": {},
   "outputs": [],
   "source": []
  }
 ],
 "metadata": {},
 "nbformat": 4,
 "nbformat_minor": 5
}
