{
 "cells": [
  {
   "cell_type": "markdown",
   "id": "e5e80a9b",
   "metadata": {},
   "source": [
    "# Advent of Code"
   ]
  },
  {
   "cell_type": "markdown",
   "id": "6dd54dc5",
   "metadata": {},
   "source": [
    "## 2016-012-007\n",
    "## 2016 007"
   ]
  },
  {
   "cell_type": "markdown",
   "id": "01535670",
   "metadata": {},
   "source": [
    "https://adventofcode.com/2016/day/7"
   ]
  },
  {
   "cell_type": "code",
   "execution_count": 2,
   "id": "ce2da75c",
   "metadata": {},
   "outputs": [
    {
     "name": "stdout",
     "output_type": "stream",
     "text": [
      "The number of IPs that support TLS is: 105\n"
     ]
    }
   ],
   "source": [
    "import re\n",
    "\n",
    "# Define a function to check if a string contains an ABBA\n",
    "def has_abba(s):\n",
    "    # ABBA is a four-character string with the form XYXY where X != Y\n",
    "    return any(s[i] != s[i+1] and s[i] == s[i+3] and s[i+1] == s[i+2] for i in range(len(s) - 3))\n",
    "\n",
    "# Read the input data from the file\n",
    "file_path = 'input.txt'\n",
    "\n",
    "with open(file_path, 'r') as file:\n",
    "    lines = file.read().strip().splitlines()\n",
    "\n",
    "# Function to check if an IP supports TLS\n",
    "def supports_tls(ip):\n",
    "    # Split the IP into parts: outside and inside the square brackets\n",
    "    outside_brackets = []\n",
    "    inside_brackets = []\n",
    "    sections = re.split(r'\\[|\\]', ip)\n",
    "\n",
    "    for i, section in enumerate(sections):\n",
    "        if i % 2 == 0:\n",
    "            outside_brackets.append(section)\n",
    "        else:\n",
    "            inside_brackets.append(section)\n",
    "\n",
    "    # Check if any of the outside sections contains an ABBA\n",
    "    for section in outside_brackets:\n",
    "        if has_abba(section):\n",
    "            # If ABBA is found outside, check if it doesn't appear inside any bracketed sections\n",
    "            for section in inside_brackets:\n",
    "                if has_abba(section):\n",
    "                    return False\n",
    "            return True\n",
    "\n",
    "    return False\n",
    "\n",
    "# Count how many IPs support TLS\n",
    "valid_ips = sum(1 for ip in lines if supports_tls(ip))\n",
    "\n",
    "print(f\"The number of IPs that support TLS is: {valid_ips}\")\n"
   ]
  },
  {
   "cell_type": "code",
   "execution_count": 3,
   "id": "5f3f3c3b-e9fb-4480-a1d2-196a4cdebac7",
   "metadata": {},
   "outputs": [
    {
     "name": "stdout",
     "output_type": "stream",
     "text": [
      "The number of IPs that support SSL is: 258\n"
     ]
    }
   ],
   "source": [
    "import re\n",
    "\n",
    "# Function to find all ABA patterns in a string\n",
    "def find_aba(s):\n",
    "    return [s[i:i+3] for i in range(len(s) - 2) if s[i] == s[i+2] and s[i] != s[i+1]]\n",
    "\n",
    "# Function to check if an IP supports SSL\n",
    "def supports_ssl(ip):\n",
    "    # Split the IP into supernet (outside brackets) and hypernet (inside brackets)\n",
    "    supernets = []\n",
    "    hypernets = []\n",
    "    sections = re.split(r'\\[|\\]', ip)\n",
    "\n",
    "    for i, section in enumerate(sections):\n",
    "        if i % 2 == 0:\n",
    "            supernets.append(section)  # Supernet: outside the square brackets\n",
    "        else:\n",
    "            hypernets.append(section)  # Hypernet: inside the square brackets\n",
    "    \n",
    "    # Find all ABAs in the supernets\n",
    "    abas = [find_aba(section) for section in supernets]\n",
    "    \n",
    "    # Flatten the list of ABAs from supernets\n",
    "    abas = [aba for sublist in abas for aba in sublist]\n",
    "    \n",
    "    # For each ABA, check if a corresponding BAB exists in any of the hypernets\n",
    "    for aba in abas:\n",
    "        bab = aba[1] + aba[0] + aba[1]  # Reverse the ABA to get the BAB\n",
    "        for hypernet in hypernets:\n",
    "            if bab in hypernet:\n",
    "                return True  # SSL is supported if a matching BAB is found\n",
    "    \n",
    "    return False  # No matching BAB found for any ABA\n",
    "\n",
    "# Read the input data from the file\n",
    "file_path = 'input.txt'\n",
    "\n",
    "with open(file_path, 'r') as file:\n",
    "    lines = file.read().strip().splitlines()\n",
    "\n",
    "# Count how many IPs support SSL\n",
    "valid_ips = sum(1 for ip in lines if supports_ssl(ip))\n",
    "\n",
    "print(f\"The number of IPs that support SSL is: {valid_ips}\")\n"
   ]
  },
  {
   "cell_type": "code",
   "execution_count": null,
   "id": "82a5f9c5-2b4d-494d-afd8-6f272315176d",
   "metadata": {},
   "outputs": [],
   "source": []
  }
 ],
 "metadata": {
  "kernelspec": {
   "display_name": "Python 3 (ipykernel)",
   "language": "python",
   "name": "python3"
  },
  "language_info": {
   "codemirror_mode": {
    "name": "ipython",
    "version": 3
   },
   "file_extension": ".py",
   "mimetype": "text/x-python",
   "name": "python",
   "nbconvert_exporter": "python",
   "pygments_lexer": "ipython3",
   "version": "3.12.3"
  }
 },
 "nbformat": 4,
 "nbformat_minor": 5
}
