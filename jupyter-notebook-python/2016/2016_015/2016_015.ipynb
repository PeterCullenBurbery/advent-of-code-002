{
 "cells": [
  {
   "cell_type": "markdown",
   "id": "16a8f389",
   "metadata": {},
   "source": [
    "# Advent of Code"
   ]
  },
  {
   "cell_type": "markdown",
   "id": "9cedb025",
   "metadata": {},
   "source": [
    "## 2016-012-015\n",
    "## 2016 015"
   ]
  },
  {
   "cell_type": "markdown",
   "id": "bdcc4982",
   "metadata": {},
   "source": [
    "https://adventofcode.com/2016/day/15"
   ]
  },
  {
   "cell_type": "code",
   "execution_count": null,
   "id": "ce86f58b",
   "metadata": {},
   "outputs": [],
   "source": []
  }
 ],
 "metadata": {},
 "nbformat": 4,
 "nbformat_minor": 5
}
