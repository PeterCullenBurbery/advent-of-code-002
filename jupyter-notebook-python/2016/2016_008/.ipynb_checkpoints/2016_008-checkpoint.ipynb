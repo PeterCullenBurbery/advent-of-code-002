{
 "cells": [
  {
   "cell_type": "markdown",
   "id": "8d2de041",
   "metadata": {},
   "source": [
    "# Advent of Code"
   ]
  },
  {
   "cell_type": "markdown",
   "id": "d1eded35",
   "metadata": {},
   "source": [
    "## 2016-012-008\n",
    "## 2016 008"
   ]
  },
  {
   "cell_type": "markdown",
   "id": "c04c2dc0",
   "metadata": {},
   "source": [
    "https://adventofcode.com/2016/day/8"
   ]
  },
  {
   "cell_type": "code",
   "execution_count": null,
   "id": "afe562a8",
   "metadata": {},
   "outputs": [],
   "source": []
  }
 ],
 "metadata": {},
 "nbformat": 4,
 "nbformat_minor": 5
}
