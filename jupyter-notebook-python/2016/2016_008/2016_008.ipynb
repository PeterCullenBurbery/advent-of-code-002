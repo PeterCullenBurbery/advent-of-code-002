{
 "cells": [
  {
   "cell_type": "markdown",
   "id": "8d2de041",
   "metadata": {},
   "source": [
    "# Advent of Code"
   ]
  },
  {
   "cell_type": "markdown",
   "id": "d1eded35",
   "metadata": {},
   "source": [
    "## 2016-012-008\n",
    "## 2016 008"
   ]
  },
  {
   "cell_type": "markdown",
   "id": "c04c2dc0",
   "metadata": {},
   "source": [
    "https://adventofcode.com/2016/day/8"
   ]
  },
  {
   "cell_type": "code",
   "execution_count": 1,
   "id": "afe562a8",
   "metadata": {},
   "outputs": [
    {
     "name": "stdout",
     "output_type": "stream",
     "text": [
      "The number of lit pixels is: 116\n"
     ]
    }
   ],
   "source": [
    "def parse_input(file_path):\n",
    "    # Read input instructions from the file\n",
    "    with open(file_path, 'r') as file:\n",
    "        instructions = file.readlines()\n",
    "    return instructions\n",
    "\n",
    "def initialize_grid(width=50, height=6):\n",
    "    # Create a grid with all pixels turned off (False)\n",
    "    return [[False] * width for _ in range(height)]\n",
    "\n",
    "def execute_instruction(grid, instruction):\n",
    "    # Execute an instruction on the grid\n",
    "    if instruction.startswith(\"rect\"):\n",
    "        # rect AxB\n",
    "        _, dims = instruction.split(\" \")\n",
    "        width, height = map(int, dims.split(\"x\"))\n",
    "        for y in range(height):\n",
    "            for x in range(width):\n",
    "                grid[y][x] = True\n",
    "    elif instruction.startswith(\"rotate row\"):\n",
    "        # rotate row y=A by B\n",
    "        _, _, y_part, _, b_part = instruction.split(\" \")\n",
    "        row = int(y_part.split(\"=\")[1])\n",
    "        shift = int(b_part)\n",
    "        # Rotate row right by 'shift' pixels\n",
    "        grid[row] = grid[row][-shift:] + grid[row][:-shift]\n",
    "    elif instruction.startswith(\"rotate column\"):\n",
    "        # rotate column x=A by B\n",
    "        _, _, x_part, _, b_part = instruction.split(\" \")\n",
    "        col = int(x_part.split(\"=\")[1])\n",
    "        shift = int(b_part)\n",
    "        # Rotate column down by 'shift' pixels\n",
    "        column = [grid[y][col] for y in range(len(grid))]\n",
    "        column = column[-shift:] + column[:-shift]\n",
    "        for y in range(len(grid)):\n",
    "            grid[y][col] = column[y]\n",
    "\n",
    "def count_lit_pixels(grid):\n",
    "    # Count how many pixels are lit\n",
    "    return sum(sum(row) for row in grid)\n",
    "\n",
    "def main(file_path):\n",
    "    # Parse the input\n",
    "    instructions = parse_input(file_path)\n",
    "    \n",
    "    # Initialize the 50x6 grid\n",
    "    grid = initialize_grid()\n",
    "    \n",
    "    # Execute each instruction\n",
    "    for instruction in instructions:\n",
    "        execute_instruction(grid, instruction.strip())\n",
    "    \n",
    "    # Count and print the number of lit pixels\n",
    "    lit_pixels = count_lit_pixels(grid)\n",
    "    print(f\"The number of lit pixels is: {lit_pixels}\")\n",
    "\n",
    "# Example usage:\n",
    "file_path = 'input.txt'  # Specify the path to your input file\n",
    "main(file_path)\n"
   ]
  },
  {
   "cell_type": "code",
   "execution_count": 2,
   "id": "3167cb80-385f-4910-8dc0-7ea1e5412b1e",
   "metadata": {},
   "outputs": [
    {
     "name": "stdout",
     "output_type": "stream",
     "text": [
      "The final grid is:\n",
      "#..#.###...##....##.####.#....###...##..####.####.\n",
      "#..#.#..#.#..#....#.#....#....#..#.#..#.#.......#.\n",
      "#..#.#..#.#..#....#.###..#....###..#....###....#..\n",
      "#..#.###..#..#....#.#....#....#..#.#....#.....#...\n",
      "#..#.#....#..#.#..#.#....#....#..#.#..#.#....#....\n",
      ".##..#.....##...##..#....####.###...##..####.####.\n"
     ]
    }
   ],
   "source": [
    "def parse_input(file_path):\n",
    "    # Read input instructions from the file\n",
    "    with open(file_path, 'r') as file:\n",
    "        instructions = file.readlines()\n",
    "    return instructions\n",
    "\n",
    "def initialize_grid(width=50, height=6):\n",
    "    # Create a grid with all pixels turned off (False)\n",
    "    return [[False] * width for _ in range(height)]\n",
    "\n",
    "def execute_instruction(grid, instruction):\n",
    "    # Execute an instruction on the grid\n",
    "    if instruction.startswith(\"rect\"):\n",
    "        # rect AxB\n",
    "        _, dims = instruction.split(\" \")\n",
    "        width, height = map(int, dims.split(\"x\"))\n",
    "        for y in range(height):\n",
    "            for x in range(width):\n",
    "                grid[y][x] = True\n",
    "    elif instruction.startswith(\"rotate row\"):\n",
    "        # rotate row y=A by B\n",
    "        _, _, y_part, _, b_part = instruction.split(\" \")\n",
    "        row = int(y_part.split(\"=\")[1])\n",
    "        shift = int(b_part)\n",
    "        # Rotate row right by 'shift' pixels\n",
    "        grid[row] = grid[row][-shift:] + grid[row][:-shift]\n",
    "    elif instruction.startswith(\"rotate column\"):\n",
    "        # rotate column x=A by B\n",
    "        _, _, x_part, _, b_part = instruction.split(\" \")\n",
    "        col = int(x_part.split(\"=\")[1])\n",
    "        shift = int(b_part)\n",
    "        # Rotate column down by 'shift' pixels\n",
    "        column = [grid[y][col] for y in range(len(grid))]\n",
    "        column = column[-shift:] + column[:-shift]\n",
    "        for y in range(len(grid)):\n",
    "            grid[y][col] = column[y]\n",
    "\n",
    "def print_grid(grid):\n",
    "    # Print the grid as rows of pixels\n",
    "    for row in grid:\n",
    "        print(\"\".join(['#' if pixel else '.' for pixel in row]))\n",
    "\n",
    "def main(file_path):\n",
    "    # Parse the input\n",
    "    instructions = parse_input(file_path)\n",
    "    \n",
    "    # Initialize the 50x6 grid\n",
    "    grid = initialize_grid()\n",
    "    \n",
    "    # Execute each instruction\n",
    "    for instruction in instructions:\n",
    "        execute_instruction(grid, instruction.strip())\n",
    "    \n",
    "    # Print the final grid\n",
    "    print(\"The final grid is:\")\n",
    "    print_grid(grid)\n",
    "\n",
    "# Example usage:\n",
    "file_path = 'input.txt'  # Specify the path to your input file\n",
    "main(file_path)\n"
   ]
  },
  {
   "cell_type": "markdown",
   "id": "0c9fde34-8bce-4196-be59-c6aa422aac69",
   "metadata": {},
   "source": [
    "I also don't like this one because its hard to convert the grid to characters. You could train a neural network or use OCR to go from image to text."
   ]
  },
  {
   "cell_type": "code",
   "execution_count": null,
   "id": "21797a4f-6a85-45f5-8c90-63cbfbc6b767",
   "metadata": {},
   "outputs": [],
   "source": []
  }
 ],
 "metadata": {
  "kernelspec": {
   "display_name": "Python 3 (ipykernel)",
   "language": "python",
   "name": "python3"
  },
  "language_info": {
   "codemirror_mode": {
    "name": "ipython",
    "version": 3
   },
   "file_extension": ".py",
   "mimetype": "text/x-python",
   "name": "python",
   "nbconvert_exporter": "python",
   "pygments_lexer": "ipython3",
   "version": "3.12.3"
  }
 },
 "nbformat": 4,
 "nbformat_minor": 5
}
