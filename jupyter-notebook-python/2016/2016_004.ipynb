{
 "cells": [
  {
   "cell_type": "markdown",
   "id": "aa9bdba3",
   "metadata": {},
   "source": [
    "# Advent of Code"
   ]
  },
  {
   "cell_type": "markdown",
   "id": "452b4970",
   "metadata": {},
   "source": [
    "## 2016-012-004\n",
    "## 2016 004"
   ]
  },
  {
   "cell_type": "markdown",
   "id": "e0078e28",
   "metadata": {},
   "source": [
    "https://adventofcode.com/2016/day/4"
   ]
  },
  {
   "cell_type": "code",
   "execution_count": null,
   "id": "9bf91cda",
   "metadata": {},
   "outputs": [],
   "source": []
  }
 ],
 "metadata": {
  "kernelspec": {
   "display_name": "Python 3 (ipykernel)",
   "language": "python",
   "name": "python3"
  },
  "language_info": {
   "name": "python",
   "version": "3.12.3"
  }
 },
 "nbformat": 4,
 "nbformat_minor": 5
}
