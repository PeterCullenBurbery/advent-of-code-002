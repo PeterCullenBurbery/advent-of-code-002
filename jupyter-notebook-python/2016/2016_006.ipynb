{
 "cells": [
  {
   "cell_type": "markdown",
   "id": "d0eab9a1",
   "metadata": {},
   "source": [
    "# Advent of Code"
   ]
  },
  {
   "cell_type": "markdown",
   "id": "a10c64b9",
   "metadata": {},
   "source": [
    "## 2016-012-006\n",
    "## 2016 006"
   ]
  },
  {
   "cell_type": "markdown",
   "id": "afcd1197",
   "metadata": {},
   "source": [
    "https://adventofcode.com/2016/day/6"
   ]
  },
  {
   "cell_type": "code",
   "execution_count": null,
   "id": "38dda1a6",
   "metadata": {},
   "outputs": [],
   "source": []
  }
 ],
 "metadata": {
  "kernelspec": {
   "display_name": "Python 3 (ipykernel)",
   "language": "python",
   "name": "python3"
  },
  "language_info": {
   "name": "python",
   "version": "3.12.3"
  }
 },
 "nbformat": 4,
 "nbformat_minor": 5
}
