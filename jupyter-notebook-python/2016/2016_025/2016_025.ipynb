{
 "cells": [
  {
   "cell_type": "markdown",
   "id": "b5da05cd",
   "metadata": {},
   "source": [
    "# Advent of Code"
   ]
  },
  {
   "cell_type": "markdown",
   "id": "5cdb698c",
   "metadata": {},
   "source": [
    "## 2016-012-025\n",
    "## 2016 025"
   ]
  },
  {
   "cell_type": "markdown",
   "id": "26d5433b",
   "metadata": {},
   "source": [
    "https://adventofcode.com/2016/day/25"
   ]
  },
  {
   "cell_type": "code",
   "execution_count": 1,
   "id": "a73ade74",
   "metadata": {},
   "outputs": [
    {
     "name": "stdout",
     "output_type": "stream",
     "text": [
      "Lowest a: 158\n"
     ]
    }
   ],
   "source": [
    "def assembunny_clock_signal(program, initial_a):\n",
    "    registers = {\"a\": initial_a, \"b\": 0, \"c\": 0, \"d\": 0}\n",
    "    instructions = program[:]\n",
    "    pointer = 0\n",
    "    output = []\n",
    "\n",
    "    def get_value(x):\n",
    "        return registers[x] if x in registers else int(x)\n",
    "\n",
    "    while 0 <= pointer < len(instructions):\n",
    "        parts = instructions[pointer].split()\n",
    "        instr = parts[0]\n",
    "\n",
    "        if instr == \"cpy\":\n",
    "            x, y = parts[1], parts[2]\n",
    "            if y in registers:\n",
    "                registers[y] = get_value(x)\n",
    "        elif instr == \"inc\":\n",
    "            x = parts[1]\n",
    "            if x in registers:\n",
    "                registers[x] += 1\n",
    "        elif instr == \"dec\":\n",
    "            x = parts[1]\n",
    "            if x in registers:\n",
    "                registers[x] -= 1\n",
    "        elif instr == \"jnz\":\n",
    "            x, y = parts[1], parts[2]\n",
    "            if get_value(x) != 0:\n",
    "                pointer += get_value(y) - 1\n",
    "        elif instr == \"out\":\n",
    "            x = parts[1]\n",
    "            value = get_value(x)\n",
    "            output.append(value)\n",
    "            # Check if the signal is invalid\n",
    "            if len(output) > 1 and output[-1] == output[-2]:\n",
    "                return False  # Invalid signal\n",
    "            if len(output) >= 20:  # Arbitrary limit to detect a repeating signal\n",
    "                return True\n",
    "        pointer += 1\n",
    "\n",
    "    return False  # If the program terminates without finding a valid signal\n",
    "\n",
    "\n",
    "def find_lowest_a(program):\n",
    "    a = 1\n",
    "    while True:\n",
    "        if assembunny_clock_signal(program, a):\n",
    "            return a\n",
    "        a += 1\n",
    "\n",
    "\n",
    "# Load the program from the file\n",
    "with open(\"input.txt\") as f:\n",
    "    program = [line.strip() for line in f.readlines()]\n",
    "\n",
    "# Find the lowest `a` that generates the correct clock signal\n",
    "result = find_lowest_a(program)\n",
    "print(\"Lowest a:\", result)\n"
   ]
  },
  {
   "cell_type": "code",
   "execution_count": null,
   "id": "4ca2da0d-f20b-4484-8cd5-40cc54592386",
   "metadata": {},
   "outputs": [],
   "source": []
  }
 ],
 "metadata": {
  "kernelspec": {
   "display_name": "Python 3 (ipykernel)",
   "language": "python",
   "name": "python3"
  },
  "language_info": {
   "codemirror_mode": {
    "name": "ipython",
    "version": 3
   },
   "file_extension": ".py",
   "mimetype": "text/x-python",
   "name": "python",
   "nbconvert_exporter": "python",
   "pygments_lexer": "ipython3",
   "version": "3.12.3"
  }
 },
 "nbformat": 4,
 "nbformat_minor": 5
}
