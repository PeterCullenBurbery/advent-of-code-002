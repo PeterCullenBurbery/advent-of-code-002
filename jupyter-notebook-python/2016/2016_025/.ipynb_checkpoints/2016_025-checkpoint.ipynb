{
 "cells": [
  {
   "cell_type": "markdown",
   "id": "b5da05cd",
   "metadata": {},
   "source": [
    "# Advent of Code"
   ]
  },
  {
   "cell_type": "markdown",
   "id": "5cdb698c",
   "metadata": {},
   "source": [
    "## 2016-012-025\n",
    "## 2016 025"
   ]
  },
  {
   "cell_type": "markdown",
   "id": "26d5433b",
   "metadata": {},
   "source": [
    "https://adventofcode.com/2016/day/25"
   ]
  },
  {
   "cell_type": "code",
   "execution_count": null,
   "id": "a73ade74",
   "metadata": {},
   "outputs": [],
   "source": []
  }
 ],
 "metadata": {},
 "nbformat": 4,
 "nbformat_minor": 5
}
