{
 "cells": [
  {
   "cell_type": "markdown",
   "id": "d0b2c4db",
   "metadata": {},
   "source": [
    "# Advent of Code"
   ]
  },
  {
   "cell_type": "markdown",
   "id": "e94450db",
   "metadata": {},
   "source": [
    "## 2016-012-018\n",
    "## 2016 018"
   ]
  },
  {
   "cell_type": "markdown",
   "id": "aabc4599",
   "metadata": {},
   "source": [
    "https://adventofcode.com/2016/day/18"
   ]
  },
  {
   "cell_type": "code",
   "execution_count": null,
   "id": "66b1b7d1",
   "metadata": {},
   "outputs": [],
   "source": []
  }
 ],
 "metadata": {},
 "nbformat": 4,
 "nbformat_minor": 5
}
