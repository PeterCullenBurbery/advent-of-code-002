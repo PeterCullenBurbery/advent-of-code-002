{
 "cells": [
  {
   "cell_type": "markdown",
   "id": "d6480bb4",
   "metadata": {},
   "source": [
    "# Advent of Code"
   ]
  },
  {
   "cell_type": "markdown",
   "id": "56f642a3",
   "metadata": {},
   "source": [
    "## 2016-012-014\n",
    "## 2016 014"
   ]
  },
  {
   "cell_type": "markdown",
   "id": "0d1e95a5",
   "metadata": {},
   "source": [
    "https://adventofcode.com/2016/day/14"
   ]
  },
  {
   "cell_type": "code",
   "execution_count": null,
   "id": "95306344",
   "metadata": {},
   "outputs": [],
   "source": []
  }
 ],
 "metadata": {},
 "nbformat": 4,
 "nbformat_minor": 5
}
