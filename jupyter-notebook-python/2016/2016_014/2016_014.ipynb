{
 "cells": [
  {
   "cell_type": "markdown",
   "id": "d6480bb4",
   "metadata": {},
   "source": [
    "# Advent of Code"
   ]
  },
  {
   "cell_type": "markdown",
   "id": "56f642a3",
   "metadata": {},
   "source": [
    "## 2016-012-014\n",
    "## 2016 014"
   ]
  },
  {
   "cell_type": "markdown",
   "id": "0d1e95a5",
   "metadata": {},
   "source": [
    "https://adventofcode.com/2016/day/14"
   ]
  },
  {
   "cell_type": "code",
   "execution_count": 1,
   "id": "95306344",
   "metadata": {},
   "outputs": [
    {
     "ename": "KeyboardInterrupt",
     "evalue": "",
     "output_type": "error",
     "traceback": [
      "\u001b[1;31m---------------------------------------------------------------------------\u001b[0m",
      "\u001b[1;31mKeyboardInterrupt\u001b[0m                         Traceback (most recent call last)",
      "Cell \u001b[1;32mIn[1], line 57\u001b[0m\n\u001b[0;32m     55\u001b[0m \u001b[38;5;28;01mif\u001b[39;00m \u001b[38;5;18m__name__\u001b[39m \u001b[38;5;241m==\u001b[39m \u001b[38;5;124m\"\u001b[39m\u001b[38;5;124m__main__\u001b[39m\u001b[38;5;124m\"\u001b[39m:\n\u001b[0;32m     56\u001b[0m     salt \u001b[38;5;241m=\u001b[39m \u001b[38;5;124m\"\u001b[39m\u001b[38;5;124myjdafjpo\u001b[39m\u001b[38;5;124m\"\u001b[39m  \u001b[38;5;66;03m# Replace with your puzzle input\u001b[39;00m\n\u001b[1;32m---> 57\u001b[0m     result \u001b[38;5;241m=\u001b[39m \u001b[43mfind_64th_key_index\u001b[49m\u001b[43m(\u001b[49m\u001b[43msalt\u001b[49m\u001b[43m)\u001b[49m\n\u001b[0;32m     58\u001b[0m     \u001b[38;5;28mprint\u001b[39m(\u001b[38;5;124mf\u001b[39m\u001b[38;5;124m\"\u001b[39m\u001b[38;5;124mThe index of the 64th key is: \u001b[39m\u001b[38;5;132;01m{\u001b[39;00mresult\u001b[38;5;132;01m}\u001b[39;00m\u001b[38;5;124m\"\u001b[39m)\n",
      "Cell \u001b[1;32mIn[1], line 27\u001b[0m, in \u001b[0;36mfind_64th_key_index\u001b[1;34m(salt)\u001b[0m\n\u001b[0;32m     24\u001b[0m \u001b[38;5;28;01mwhile\u001b[39;00m \u001b[38;5;28;01mTrue\u001b[39;00m:\n\u001b[0;32m     25\u001b[0m     \u001b[38;5;66;03m# Get the current hash\u001b[39;00m\n\u001b[0;32m     26\u001b[0m     current_hash \u001b[38;5;241m=\u001b[39m future_hashes\u001b[38;5;241m.\u001b[39mpopleft()\n\u001b[1;32m---> 27\u001b[0m     future_hashes\u001b[38;5;241m.\u001b[39mappend(\u001b[43mgenerate_stretched_hash\u001b[49m\u001b[43m(\u001b[49m\u001b[43msalt\u001b[49m\u001b[43m,\u001b[49m\u001b[43m \u001b[49m\u001b[43mindex\u001b[49m\u001b[43m \u001b[49m\u001b[38;5;241;43m+\u001b[39;49m\u001b[43m \u001b[49m\u001b[38;5;241;43m1000\u001b[39;49m\u001b[43m)\u001b[49m)\n\u001b[0;32m     29\u001b[0m     \u001b[38;5;66;03m# Check for triplets in the current hash\u001b[39;00m\n\u001b[0;32m     30\u001b[0m     triplet_char \u001b[38;5;241m=\u001b[39m find_triplet(current_hash)\n",
      "Cell \u001b[1;32mIn[1], line 11\u001b[0m, in \u001b[0;36mgenerate_stretched_hash\u001b[1;34m(salt, index)\u001b[0m\n\u001b[0;32m      9\u001b[0m \u001b[38;5;66;03m# Stretch the hash 2016 more times\u001b[39;00m\n\u001b[0;32m     10\u001b[0m \u001b[38;5;28;01mfor\u001b[39;00m _ \u001b[38;5;129;01min\u001b[39;00m \u001b[38;5;28mrange\u001b[39m(\u001b[38;5;241m2016\u001b[39m):\n\u001b[1;32m---> 11\u001b[0m     hash_result \u001b[38;5;241m=\u001b[39m \u001b[43mhashlib\u001b[49m\u001b[38;5;241;43m.\u001b[39;49m\u001b[43mmd5\u001b[49m\u001b[43m(\u001b[49m\u001b[43mhash_result\u001b[49m\u001b[38;5;241;43m.\u001b[39;49m\u001b[43mencode\u001b[49m\u001b[43m(\u001b[49m\u001b[43m)\u001b[49m\u001b[43m)\u001b[49m\u001b[38;5;241;43m.\u001b[39;49m\u001b[43mhexdigest\u001b[49m\u001b[43m(\u001b[49m\u001b[43m)\u001b[49m\n\u001b[0;32m     12\u001b[0m \u001b[38;5;28;01mreturn\u001b[39;00m hash_result\n",
      "\u001b[1;31mKeyboardInterrupt\u001b[0m: "
     ]
    }
   ],
   "source": [
    "import hashlib\n",
    "from collections import deque\n",
    "\n",
    "def generate_stretched_hash(salt, index):\n",
    "    \"\"\"Generate a stretched hash for the given salt and index.\"\"\"\n",
    "    # Initial hash\n",
    "    hash_input = f\"{salt}{index}\"\n",
    "    hash_result = hashlib.md5(hash_input.encode()).hexdigest()\n",
    "    # Stretch the hash 2016 more times\n",
    "    for _ in range(2016):\n",
    "        hash_result = hashlib.md5(hash_result.encode()).hexdigest()\n",
    "    return hash_result\n",
    "\n",
    "def find_64th_key_index(salt):\n",
    "    \"\"\"Find the index of the 64th key with key stretching.\"\"\"\n",
    "    keys_found = 0\n",
    "    index = 0\n",
    "    future_hashes = deque()  # Store the next 1000 hashes\n",
    "\n",
    "    # Precompute the first 1000 hashes\n",
    "    for i in range(1000):\n",
    "        future_hashes.append(generate_stretched_hash(salt, i))\n",
    "\n",
    "    while True:\n",
    "        # Get the current hash\n",
    "        current_hash = future_hashes.popleft()\n",
    "        future_hashes.append(generate_stretched_hash(salt, index + 1000))\n",
    "\n",
    "        # Check for triplets in the current hash\n",
    "        triplet_char = find_triplet(current_hash)\n",
    "        if triplet_char:\n",
    "            # Check for quintuplets in the next 1000 hashes\n",
    "            for future_hash in future_hashes:\n",
    "                if find_quintuplet(future_hash, triplet_char):\n",
    "                    keys_found += 1\n",
    "                    if keys_found == 64:\n",
    "                        return index\n",
    "                    break\n",
    "        \n",
    "        index += 1\n",
    "\n",
    "def find_triplet(hash_string):\n",
    "    \"\"\"Find the first triplet (three repeated characters) in a hash.\"\"\"\n",
    "    for i in range(len(hash_string) - 2):\n",
    "        if hash_string[i] == hash_string[i + 1] == hash_string[i + 2]:\n",
    "            return hash_string[i]\n",
    "    return None\n",
    "\n",
    "def find_quintuplet(hash_string, char):\n",
    "    \"\"\"Check if the hash contains five consecutive characters of the given char.\"\"\"\n",
    "    quintuplet = char * 5\n",
    "    return quintuplet in hash_string\n",
    "\n",
    "# Run the solution\n",
    "if __name__ == \"__main__\":\n",
    "    salt = \"yjdafjpo\"  # Replace with your puzzle input\n",
    "    result = find_64th_key_index(salt)\n",
    "    print(f\"The index of the 64th key is: {result}\")\n"
   ]
  },
  {
   "cell_type": "code",
   "execution_count": 3,
   "id": "6b68cbfe-55ff-4805-bb40-99f374500c92",
   "metadata": {},
   "outputs": [],
   "source": [
    "import blake3"
   ]
  },
  {
   "cell_type": "code",
   "execution_count": 4,
   "id": "d406e7a2-9654-4a00-9968-25014d90a561",
   "metadata": {},
   "outputs": [
    {
     "name": "stdout",
     "output_type": "stream",
     "text": [
      "The index of the 64th key is: 4323\n"
     ]
    }
   ],
   "source": [
    "import blake3\n",
    "from collections import deque\n",
    "\n",
    "def generate_stretched_hash(salt, index):\n",
    "    \"\"\"Generate a stretched hash for the given salt and index using blake3.\"\"\"\n",
    "    # Initial hash\n",
    "    hash_input = f\"{salt}{index}\"\n",
    "    hash_result = blake3.blake3(hash_input.encode()).hexdigest()\n",
    "    # Stretch the hash 2016 more times\n",
    "    for _ in range(2016):\n",
    "        hash_result = blake3.blake3(hash_result.encode()).hexdigest()\n",
    "    return hash_result\n",
    "\n",
    "def find_64th_key_index(salt):\n",
    "    \"\"\"Find the index of the 64th key with key stretching.\"\"\"\n",
    "    keys_found = 0\n",
    "    index = 0\n",
    "    future_hashes = deque()  # Store the next 1000 hashes\n",
    "\n",
    "    # Precompute the first 1000 stretched hashes\n",
    "    for i in range(1000):\n",
    "        future_hashes.append(generate_stretched_hash(salt, i))\n",
    "\n",
    "    while True:\n",
    "        # Get the current stretched hash\n",
    "        current_hash = future_hashes.popleft()\n",
    "        future_hashes.append(generate_stretched_hash(salt, index + 1000))\n",
    "\n",
    "        # Check for triplets in the current hash\n",
    "        triplet_char = find_triplet(current_hash)\n",
    "        if triplet_char:\n",
    "            # Check for quintuplets in the next 1000 hashes\n",
    "            for future_hash in future_hashes:\n",
    "                if find_quintuplet(future_hash, triplet_char):\n",
    "                    keys_found += 1\n",
    "                    if keys_found == 64:\n",
    "                        return index\n",
    "                    break\n",
    "        \n",
    "        index += 1\n",
    "\n",
    "def find_triplet(hash_string):\n",
    "    \"\"\"Find the first triplet (three repeated characters) in a hash.\"\"\"\n",
    "    for i in range(len(hash_string) - 2):\n",
    "        if hash_string[i] == hash_string[i + 1] == hash_string[i + 2]:\n",
    "            return hash_string[i]\n",
    "    return None\n",
    "\n",
    "def find_quintuplet(hash_string, char):\n",
    "    \"\"\"Check if the hash contains five consecutive characters of the given char.\"\"\"\n",
    "    quintuplet = char * 5\n",
    "    return quintuplet in hash_string\n",
    "\n",
    "# 4323Run the solution\n",
    "if __name__ == \"__main__\":\n",
    "    salt = \"yjdafjpo\"  # Replace with your puzzle input\n",
    "    result = find_64th_key_index(salt)\n",
    "    print(f\"The index of the 64th key is: {result}\")\n"
   ]
  },
  {
   "cell_type": "code",
   "execution_count": null,
   "id": "8c8f9439-f210-4f12-9665-2cb9553e0d51",
   "metadata": {},
   "outputs": [],
   "source": []
  }
 ],
 "metadata": {
  "kernelspec": {
   "display_name": "Python 3 (ipykernel)",
   "language": "python",
   "name": "python3"
  },
  "language_info": {
   "codemirror_mode": {
    "name": "ipython",
    "version": 3
   },
   "file_extension": ".py",
   "mimetype": "text/x-python",
   "name": "python",
   "nbconvert_exporter": "python",
   "pygments_lexer": "ipython3",
   "version": "3.12.3"
  }
 },
 "nbformat": 4,
 "nbformat_minor": 5
}
