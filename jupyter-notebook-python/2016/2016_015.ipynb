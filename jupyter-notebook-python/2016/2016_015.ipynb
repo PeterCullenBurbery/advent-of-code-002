{
 "cells": [
  {
   "cell_type": "markdown",
   "id": "b9129eb5",
   "metadata": {},
   "source": [
    "# Advent of Code"
   ]
  },
  {
   "cell_type": "markdown",
   "id": "61e660ce",
   "metadata": {},
   "source": [
    "## 2016-012-015\n",
    "## 2016 015"
   ]
  },
  {
   "cell_type": "markdown",
   "id": "a714e54e",
   "metadata": {},
   "source": [
    "https://adventofcode.com/2016/day/15"
   ]
  },
  {
   "cell_type": "code",
   "execution_count": null,
   "id": "96817a2d",
   "metadata": {},
   "outputs": [],
   "source": []
  }
 ],
 "metadata": {
  "kernelspec": {
   "display_name": "Python 3 (ipykernel)",
   "language": "python",
   "name": "python3"
  },
  "language_info": {
   "name": "python",
   "version": "3.12.3"
  }
 },
 "nbformat": 4,
 "nbformat_minor": 5
}
