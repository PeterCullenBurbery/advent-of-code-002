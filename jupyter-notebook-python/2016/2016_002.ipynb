{
 "cells": [
  {
   "cell_type": "markdown",
   "id": "ca4590b9",
   "metadata": {},
   "source": [
    "# Advent of Code"
   ]
  },
  {
   "cell_type": "markdown",
   "id": "4a365180",
   "metadata": {},
   "source": [
    "## 2016-012-002\n",
    "## 2016 002"
   ]
  },
  {
   "cell_type": "markdown",
   "id": "ea95210c",
   "metadata": {},
   "source": [
    "https://adventofcode.com/2016/day/2"
   ]
  },
  {
   "cell_type": "code",
   "execution_count": null,
   "id": "d8341113",
   "metadata": {},
   "outputs": [],
   "source": []
  }
 ],
 "metadata": {
  "kernelspec": {
   "display_name": "Python 3 (ipykernel)",
   "language": "python",
   "name": "python3"
  },
  "language_info": {
   "codemirror_mode": {
    "name": "ipython",
    "version": 3
   },
   "file_extension": ".py",
   "mimetype": "text/x-python",
   "name": "python",
   "nbconvert_exporter": "python",
   "pygments_lexer": "ipython3",
   "version": "3.12.3"
  }
 },
 "nbformat": 4,
 "nbformat_minor": 5
}
