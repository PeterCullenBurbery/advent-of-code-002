{
 "cells": [
  {
   "cell_type": "markdown",
   "id": "6f78c2d5",
   "metadata": {},
   "source": [
    "# Advent of Code"
   ]
  },
  {
   "cell_type": "markdown",
   "id": "22836ca8",
   "metadata": {},
   "source": [
    "## 2016-012-005\n",
    "## 2016 005"
   ]
  },
  {
   "cell_type": "markdown",
   "id": "92691568",
   "metadata": {},
   "source": [
    "https://adventofcode.com/2016/day/5"
   ]
  },
  {
   "cell_type": "code",
   "execution_count": null,
   "id": "3fb6f26c",
   "metadata": {},
   "outputs": [],
   "source": []
  }
 ],
 "metadata": {
  "kernelspec": {
   "display_name": "Python 3 (ipykernel)",
   "language": "python",
   "name": "python3"
  },
  "language_info": {
   "name": "python",
   "version": "3.12.3"
  }
 },
 "nbformat": 4,
 "nbformat_minor": 5
}
