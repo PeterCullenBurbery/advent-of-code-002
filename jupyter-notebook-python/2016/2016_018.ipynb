{
 "cells": [
  {
   "cell_type": "markdown",
   "id": "005984ad",
   "metadata": {},
   "source": [
    "# Advent of Code"
   ]
  },
  {
   "cell_type": "markdown",
   "id": "55e9b95d",
   "metadata": {},
   "source": [
    "## 2016-012-018\n",
    "## 2016 018"
   ]
  },
  {
   "cell_type": "markdown",
   "id": "61701adb",
   "metadata": {},
   "source": [
    "https://adventofcode.com/2016/day/18"
   ]
  },
  {
   "cell_type": "code",
   "execution_count": null,
   "id": "2a664b8e",
   "metadata": {},
   "outputs": [],
   "source": []
  }
 ],
 "metadata": {
  "kernelspec": {
   "display_name": "Python 3 (ipykernel)",
   "language": "python",
   "name": "python3"
  },
  "language_info": {
   "name": "python",
   "version": "3.12.3"
  }
 },
 "nbformat": 4,
 "nbformat_minor": 5
}
