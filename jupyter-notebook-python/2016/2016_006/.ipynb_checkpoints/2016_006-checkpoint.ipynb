{
 "cells": [
  {
   "cell_type": "markdown",
   "id": "d10a8dec",
   "metadata": {},
   "source": [
    "# Advent of Code"
   ]
  },
  {
   "cell_type": "markdown",
   "id": "7e02ce08",
   "metadata": {},
   "source": [
    "## 2016-012-006\n",
    "## 2016 006"
   ]
  },
  {
   "cell_type": "markdown",
   "id": "38409366",
   "metadata": {},
   "source": [
    "https://adventofcode.com/2016/day/6"
   ]
  },
  {
   "cell_type": "code",
   "execution_count": 2,
   "id": "719261f7",
   "metadata": {},
   "outputs": [
    {
     "name": "stdout",
     "output_type": "stream",
     "text": [
      "The error-corrected message is: ygjzvzib\n"
     ]
    }
   ],
   "source": [
    "from collections import Counter\n",
    "\n",
    "# Read the input data from the file\n",
    "file_path = 'input.txt'\n",
    "\n",
    "with open(file_path, 'r') as file:\n",
    "    lines = file.read().strip().splitlines()\n",
    "\n",
    "# Transpose the lines so we can easily analyze each column\n",
    "transposed = zip(*lines)\n",
    "\n",
    "# Find the most common character in each column\n",
    "corrected_message = ''.join([Counter(column).most_common(1)[0][0] for column in transposed])\n",
    "\n",
    "print(\"The error-corrected message is:\", corrected_message)\n"
   ]
  },
  {
   "cell_type": "code",
   "execution_count": 3,
   "id": "4f73492a-111b-491e-bc72-bc68f67e177d",
   "metadata": {},
   "outputs": [
    {
     "name": "stdout",
     "output_type": "stream",
     "text": [
      "The original message is: pdesmnoz\n"
     ]
    }
   ],
   "source": [
    "from collections import Counter\n",
    "\n",
    "# Read the input data from the file\n",
    "file_path = 'input.txt'\n",
    "\n",
    "with open(file_path, 'r') as file:\n",
    "    lines = file.read().strip().splitlines()\n",
    "\n",
    "# Transpose the lines so we can easily analyze each column\n",
    "transposed = zip(*lines)\n",
    "\n",
    "# Find the least common character in each column\n",
    "original_message = ''.join([Counter(column).most_common()[-1][0] for column in transposed])\n",
    "\n",
    "print(\"The original message is:\", original_message)\n"
   ]
  },
  {
   "cell_type": "code",
   "execution_count": null,
   "id": "d76314b0-29b1-4126-9e57-477c2a8a9e47",
   "metadata": {},
   "outputs": [],
   "source": []
  }
 ],
 "metadata": {
  "kernelspec": {
   "display_name": "Python 3 (ipykernel)",
   "language": "python",
   "name": "python3"
  },
  "language_info": {
   "codemirror_mode": {
    "name": "ipython",
    "version": 3
   },
   "file_extension": ".py",
   "mimetype": "text/x-python",
   "name": "python",
   "nbconvert_exporter": "python",
   "pygments_lexer": "ipython3",
   "version": "3.12.3"
  }
 },
 "nbformat": 4,
 "nbformat_minor": 5
}
