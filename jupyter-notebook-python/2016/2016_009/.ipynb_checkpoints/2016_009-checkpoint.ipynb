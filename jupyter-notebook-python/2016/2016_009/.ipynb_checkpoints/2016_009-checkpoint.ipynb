{
 "cells": [
  {
   "cell_type": "markdown",
   "id": "1b13a86e",
   "metadata": {},
   "source": [
    "# Advent of Code"
   ]
  },
  {
   "cell_type": "markdown",
   "id": "d216bdbc",
   "metadata": {},
   "source": [
    "## 2016-012-009\n",
    "## 2016 009"
   ]
  },
  {
   "cell_type": "markdown",
   "id": "5d4dc8a1",
   "metadata": {},
   "source": [
    "https://adventofcode.com/2016/day/9"
   ]
  },
  {
   "cell_type": "code",
   "execution_count": 1,
   "id": "5e477852",
   "metadata": {},
   "outputs": [
    {
     "name": "stdout",
     "output_type": "stream",
     "text": [
      "The decompressed length of the file is: 112830\n"
     ]
    }
   ],
   "source": [
    "import re\n",
    "\n",
    "def decompress(input_str):\n",
    "    # Regex pattern to match markers (e.g. (10x2))\n",
    "    pattern = r'\\((\\d+)x(\\d+)\\)'\n",
    "    \n",
    "    total_length = 0\n",
    "    i = 0\n",
    "    while i < len(input_str):\n",
    "        # Find if there's a marker\n",
    "        match = re.search(pattern, input_str[i:])\n",
    "        \n",
    "        if match:\n",
    "            # Get the marker details\n",
    "            marker_len = int(match.group(1))\n",
    "            repeat_count = int(match.group(2))\n",
    "            \n",
    "            # The part to repeat is right after the marker, we need to extract it\n",
    "            substring = input_str[i + match.start() + len(match.group(0)):i + match.start() + len(match.group(0)) + marker_len]\n",
    "            \n",
    "            # Add the decompressed length for this section\n",
    "            total_length += len(substring) * repeat_count\n",
    "            \n",
    "            # Skip the part we've processed (marker and repeated content)\n",
    "            i += match.start() + len(match.group(0)) + marker_len\n",
    "        else:\n",
    "            # No marker found, add 1 for the current character and move to the next\n",
    "            total_length += 1\n",
    "            i += 1\n",
    "\n",
    "    return total_length\n",
    "\n",
    "# Read input from file\n",
    "with open('input.txt', 'r') as file:\n",
    "    input_data = file.read().strip()\n",
    "\n",
    "# Decompress and calculate the length\n",
    "decompressed_length = decompress(input_data)\n",
    "print(f\"The decompressed length of the file is: {decompressed_length}\")\n"
   ]
  },
  {
   "cell_type": "code",
   "execution_count": 2,
   "id": "ed9a7e9e-2535-4275-91c7-a08cc4d569ae",
   "metadata": {},
   "outputs": [
    {
     "name": "stdout",
     "output_type": "stream",
     "text": [
      "The decompressed length of the file is: 10931789799\n"
     ]
    }
   ],
   "source": [
    "import re\n",
    "\n",
    "def calculate_decompressed_length(s):\n",
    "    # Regular expression to find markers in the format (NxM)\n",
    "    pattern = r\"\\((\\d+)x(\\d+)\\)\"\n",
    "    total_length = 0\n",
    "    i = 0\n",
    "    \n",
    "    while i < len(s):\n",
    "        # Search for the next marker\n",
    "        match = re.search(pattern, s[i:])\n",
    "        if not match:\n",
    "            # No more markers, add the remaining part of the string\n",
    "            total_length += len(s[i:])\n",
    "            break\n",
    "        \n",
    "        # Before the marker\n",
    "        total_length += match.start()\n",
    "        \n",
    "        # Extract the marker (NxM)\n",
    "        N = int(match.group(1))\n",
    "        M = int(match.group(2))\n",
    "        \n",
    "        # Decompress the part in parentheses (take N characters after the marker)\n",
    "        total_length += M * calculate_decompressed_length(s[i + match.end():i + match.end() + N])\n",
    "        \n",
    "        # Move past the current marker and its decompressed section\n",
    "        i += match.end() + N\n",
    "    \n",
    "    return total_length\n",
    "\n",
    "# Read the input from file\n",
    "with open('input.txt', 'r') as file:\n",
    "    compressed_data = file.read().strip()\n",
    "\n",
    "# Calculate the decompressed length\n",
    "decompressed_length = calculate_decompressed_length(compressed_data)\n",
    "\n",
    "# Print the result\n",
    "print(f\"The decompressed length of the file is: {decompressed_length}\")\n"
   ]
  },
  {
   "cell_type": "code",
   "execution_count": null,
   "id": "72adfc13-bc81-45ab-937f-147e8511381c",
   "metadata": {},
   "outputs": [],
   "source": []
  }
 ],
 "metadata": {
  "kernelspec": {
   "display_name": "Python 3 (ipykernel)",
   "language": "python",
   "name": "python3"
  },
  "language_info": {
   "codemirror_mode": {
    "name": "ipython",
    "version": 3
   },
   "file_extension": ".py",
   "mimetype": "text/x-python",
   "name": "python",
   "nbconvert_exporter": "python",
   "pygments_lexer": "ipython3",
   "version": "3.12.3"
  }
 },
 "nbformat": 4,
 "nbformat_minor": 5
}
