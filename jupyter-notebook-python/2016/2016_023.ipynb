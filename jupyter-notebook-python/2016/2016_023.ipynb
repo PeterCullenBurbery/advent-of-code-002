{
 "cells": [
  {
   "cell_type": "markdown",
   "id": "933e7fcb",
   "metadata": {},
   "source": [
    "# Advent of Code"
   ]
  },
  {
   "cell_type": "markdown",
   "id": "21c3350e",
   "metadata": {},
   "source": [
    "## 2016-012-023\n",
    "## 2016 023"
   ]
  },
  {
   "cell_type": "markdown",
   "id": "3854d1dc",
   "metadata": {},
   "source": [
    "https://adventofcode.com/2016/day/23"
   ]
  },
  {
   "cell_type": "code",
   "execution_count": null,
   "id": "9e174831",
   "metadata": {},
   "outputs": [],
   "source": []
  }
 ],
 "metadata": {
  "kernelspec": {
   "display_name": "Python 3 (ipykernel)",
   "language": "python",
   "name": "python3"
  },
  "language_info": {
   "name": "python",
   "version": "3.12.3"
  }
 },
 "nbformat": 4,
 "nbformat_minor": 5
}
