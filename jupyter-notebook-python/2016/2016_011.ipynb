{
 "cells": [
  {
   "cell_type": "markdown",
   "id": "7d9a8386",
   "metadata": {},
   "source": [
    "# Advent of Code"
   ]
  },
  {
   "cell_type": "markdown",
   "id": "923beb0d",
   "metadata": {},
   "source": [
    "## 2016-012-011\n",
    "## 2016 011"
   ]
  },
  {
   "cell_type": "markdown",
   "id": "79fd8bd6",
   "metadata": {},
   "source": [
    "https://adventofcode.com/2016/day/11"
   ]
  },
  {
   "cell_type": "code",
   "execution_count": null,
   "id": "21064c24",
   "metadata": {},
   "outputs": [],
   "source": []
  }
 ],
 "metadata": {
  "kernelspec": {
   "display_name": "Python 3 (ipykernel)",
   "language": "python",
   "name": "python3"
  },
  "language_info": {
   "name": "python",
   "version": "3.12.3"
  }
 },
 "nbformat": 4,
 "nbformat_minor": 5
}
