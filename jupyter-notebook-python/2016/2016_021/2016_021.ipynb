{
 "cells": [
  {
   "cell_type": "markdown",
   "id": "42e087bb",
   "metadata": {},
   "source": [
    "# Advent of Code"
   ]
  },
  {
   "cell_type": "markdown",
   "id": "16e2a8bd",
   "metadata": {},
   "source": [
    "## 2016-012-021\n",
    "## 2016 021"
   ]
  },
  {
   "cell_type": "markdown",
   "id": "20f509ae",
   "metadata": {},
   "source": [
    "https://adventofcode.com/2016/day/21"
   ]
  },
  {
   "cell_type": "code",
   "execution_count": null,
   "id": "fc247bd6",
   "metadata": {},
   "outputs": [],
   "source": []
  }
 ],
 "metadata": {},
 "nbformat": 4,
 "nbformat_minor": 5
}
