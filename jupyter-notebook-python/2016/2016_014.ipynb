{
 "cells": [
  {
   "cell_type": "markdown",
   "id": "7813772d",
   "metadata": {},
   "source": [
    "# Advent of Code"
   ]
  },
  {
   "cell_type": "markdown",
   "id": "36e89dce",
   "metadata": {},
   "source": [
    "## 2016-012-014\n",
    "## 2016 014"
   ]
  },
  {
   "cell_type": "markdown",
   "id": "5fe7c713",
   "metadata": {},
   "source": [
    "https://adventofcode.com/2016/day/14"
   ]
  },
  {
   "cell_type": "code",
   "execution_count": null,
   "id": "3c6d4dc5",
   "metadata": {},
   "outputs": [],
   "source": []
  }
 ],
 "metadata": {
  "kernelspec": {
   "display_name": "Python 3 (ipykernel)",
   "language": "python",
   "name": "python3"
  },
  "language_info": {
   "name": "python",
   "version": "3.12.3"
  }
 },
 "nbformat": 4,
 "nbformat_minor": 5
}
