{
 "cells": [
  {
   "cell_type": "markdown",
   "id": "2025683d",
   "metadata": {},
   "source": [
    "# Advent of Code"
   ]
  },
  {
   "cell_type": "markdown",
   "id": "8517a22a",
   "metadata": {},
   "source": [
    "## 2016-012-012\n",
    "## 2016 012"
   ]
  },
  {
   "cell_type": "markdown",
   "id": "b885323f",
   "metadata": {},
   "source": [
    "https://adventofcode.com/2016/day/12"
   ]
  },
  {
   "cell_type": "code",
   "execution_count": null,
   "id": "cf65ea13",
   "metadata": {},
   "outputs": [],
   "source": []
  }
 ],
 "metadata": {
  "kernelspec": {
   "display_name": "Python 3 (ipykernel)",
   "language": "python",
   "name": "python3"
  },
  "language_info": {
   "name": "python",
   "version": "3.12.3"
  }
 },
 "nbformat": 4,
 "nbformat_minor": 5
}
