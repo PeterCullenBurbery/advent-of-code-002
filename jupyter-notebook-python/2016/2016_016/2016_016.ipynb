{
 "cells": [
  {
   "cell_type": "markdown",
   "id": "4e8a7618",
   "metadata": {},
   "source": [
    "# Advent of Code"
   ]
  },
  {
   "cell_type": "markdown",
   "id": "f25e926e",
   "metadata": {},
   "source": [
    "## 2016-012-016\n",
    "## 2016 016"
   ]
  },
  {
   "cell_type": "markdown",
   "id": "e53ba33e",
   "metadata": {},
   "source": [
    "https://adventofcode.com/2016/day/16"
   ]
  },
  {
   "cell_type": "code",
   "execution_count": null,
   "id": "1ceae694",
   "metadata": {},
   "outputs": [],
   "source": []
  }
 ],
 "metadata": {},
 "nbformat": 4,
 "nbformat_minor": 5
}
