{
 "cells": [
  {
   "cell_type": "markdown",
   "id": "f8bbcc8a",
   "metadata": {},
   "source": [
    "# Advent of Code"
   ]
  },
  {
   "cell_type": "markdown",
   "id": "72395686",
   "metadata": {},
   "source": [
    "## 2016-012-017\n",
    "## 2016 017"
   ]
  },
  {
   "cell_type": "markdown",
   "id": "d7ce1935",
   "metadata": {},
   "source": [
    "https://adventofcode.com/2016/day/17"
   ]
  },
  {
   "cell_type": "code",
   "execution_count": null,
   "id": "76892183",
   "metadata": {},
   "outputs": [],
   "source": []
  }
 ],
 "metadata": {},
 "nbformat": 4,
 "nbformat_minor": 5
}
