{
 "cells": [
  {
   "cell_type": "markdown",
   "id": "5fccb8a3",
   "metadata": {},
   "source": [
    "# Advent of Code"
   ]
  },
  {
   "cell_type": "markdown",
   "id": "f458fb04",
   "metadata": {},
   "source": [
    "## 2016-012-002\n",
    "## 2016 002"
   ]
  },
  {
   "cell_type": "markdown",
   "id": "0375c572",
   "metadata": {},
   "source": [
    "https://adventofcode.com/2016/day/2"
   ]
  },
  {
   "cell_type": "code",
   "execution_count": null,
   "id": "10ba1958",
   "metadata": {},
   "outputs": [],
   "source": []
  }
 ],
 "metadata": {},
 "nbformat": 4,
 "nbformat_minor": 5
}
