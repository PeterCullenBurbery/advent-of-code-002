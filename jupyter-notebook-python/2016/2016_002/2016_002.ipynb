{
 "cells": [
  {
   "cell_type": "markdown",
   "id": "5fccb8a3",
   "metadata": {},
   "source": [
    "# Advent of Code"
   ]
  },
  {
   "cell_type": "markdown",
   "id": "f458fb04",
   "metadata": {},
   "source": [
    "## 2016-012-002\n",
    "## 2016 002"
   ]
  },
  {
   "cell_type": "markdown",
   "id": "0375c572",
   "metadata": {},
   "source": [
    "https://adventofcode.com/2016/day/2"
   ]
  },
  {
   "cell_type": "code",
   "execution_count": 1,
   "id": "10ba1958",
   "metadata": {},
   "outputs": [
    {
     "name": "stdout",
     "output_type": "stream",
     "text": [
      "The bathroom code is: 95549\n"
     ]
    }
   ],
   "source": [
    "def get_bathroom_code(instructions):\n",
    "    # The keypad layout (for Part 1)\n",
    "    keypad = [\n",
    "        [1, 2, 3],\n",
    "        [4, 5, 6],\n",
    "        [7, 8, 9]\n",
    "    ]\n",
    "    \n",
    "    # Initial position is at the number '5'\n",
    "    position = (1, 1)  # This corresponds to keypad[1][1], which is the \"5\"\n",
    "    code = []\n",
    "    \n",
    "    for line in instructions.splitlines():\n",
    "        for move in line:\n",
    "            x, y = position\n",
    "            if move == 'U' and x > 0:  # Move up, check if not out of bounds\n",
    "                position = (x - 1, y)\n",
    "            elif move == 'D' and x < 2:  # Move down, check if not out of bounds\n",
    "                position = (x + 1, y)\n",
    "            elif move == 'L' and y > 0:  # Move left, check if not out of bounds\n",
    "                position = (x, y - 1)\n",
    "            elif move == 'R' and y < 2:  # Move right, check if not out of bounds\n",
    "                position = (x, y + 1)\n",
    "\n",
    "        # After each line of moves, add the number on the keypad at the current position\n",
    "        code.append(keypad[position[0]][position[1]])\n",
    "\n",
    "    return ''.join(map(str, code))\n",
    "\n",
    "# Read input from file\n",
    "with open('input.txt', 'r') as file:\n",
    "    input_instructions = file.read().strip()\n",
    "\n",
    "# Get the bathroom code by following the instructions\n",
    "bathroom_code = get_bathroom_code(input_instructions)\n",
    "print(f\"The bathroom code is: {bathroom_code}\")\n"
   ]
  },
  {
   "cell_type": "code",
   "execution_count": 2,
   "id": "ace8dcec-a516-4316-bb69-47692b9a6a77",
   "metadata": {},
   "outputs": [
    {
     "name": "stdout",
     "output_type": "stream",
     "text": [
      "The bathroom code for Part 2 is: D87AD\n"
     ]
    }
   ],
   "source": [
    "def get_bathroom_code_part2(instructions):\n",
    "    # The keypad layout for Part 2 (a diamond-shaped keypad)\n",
    "    keypad = {\n",
    "        (0, 0): '1',\n",
    "        (1, -1): '2', (1, 0): '3', (1, 1): '4',\n",
    "        (2, -2): '5', (2, -1): '6', (2, 0): '7', (2, 1): '8', (2, 2): '9',\n",
    "        (3, -1): 'A', (3, 0): 'B', (3, 1): 'C',\n",
    "        (4, 0): 'D'\n",
    "    }\n",
    "    \n",
    "    # Start position is '5' at coordinates (2, 0)\n",
    "    position = (2, 0)\n",
    "    code = []\n",
    "    \n",
    "    for line in instructions.splitlines():\n",
    "        for move in line:\n",
    "            x, y = position\n",
    "            if move == 'U' and (x - 1, y) in keypad:  # Move up\n",
    "                position = (x - 1, y)\n",
    "            elif move == 'D' and (x + 1, y) in keypad:  # Move down\n",
    "                position = (x + 1, y)\n",
    "            elif move == 'L' and (x, y - 1) in keypad:  # Move left\n",
    "                position = (x, y - 1)\n",
    "            elif move == 'R' and (x, y + 1) in keypad:  # Move right\n",
    "                position = (x, y + 1)\n",
    "\n",
    "        # After each line of moves, add the number at the current position\n",
    "        code.append(keypad[position])\n",
    "\n",
    "    return ''.join(code)\n",
    "\n",
    "# Read input from file\n",
    "with open('input.txt', 'r') as file:\n",
    "    input_instructions = file.read().strip()\n",
    "\n",
    "# Get the bathroom code for Part 2\n",
    "bathroom_code_part2 = get_bathroom_code_part2(input_instructions)\n",
    "print(f\"The bathroom code for Part 2 is: {bathroom_code_part2}\")\n"
   ]
  },
  {
   "cell_type": "code",
   "execution_count": null,
   "id": "47cb901c-7604-4141-a91a-348ff486d6b7",
   "metadata": {},
   "outputs": [],
   "source": []
  }
 ],
 "metadata": {
  "kernelspec": {
   "display_name": "Python 3 (ipykernel)",
   "language": "python",
   "name": "python3"
  },
  "language_info": {
   "codemirror_mode": {
    "name": "ipython",
    "version": 3
   },
   "file_extension": ".py",
   "mimetype": "text/x-python",
   "name": "python",
   "nbconvert_exporter": "python",
   "pygments_lexer": "ipython3",
   "version": "3.12.3"
  }
 },
 "nbformat": 4,
 "nbformat_minor": 5
}
