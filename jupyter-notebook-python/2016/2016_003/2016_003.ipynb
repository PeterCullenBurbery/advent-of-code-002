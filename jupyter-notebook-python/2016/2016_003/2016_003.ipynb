{
 "cells": [
  {
   "cell_type": "markdown",
   "id": "bcd941de",
   "metadata": {},
   "source": [
    "# Advent of Code"
   ]
  },
  {
   "cell_type": "markdown",
   "id": "d0121781",
   "metadata": {},
   "source": [
    "## 2016-012-003\n",
    "## 2016 003"
   ]
  },
  {
   "cell_type": "markdown",
   "id": "6bbac832",
   "metadata": {},
   "source": [
    "https://adventofcode.com/2016/day/3"
   ]
  },
  {
   "cell_type": "code",
   "execution_count": 1,
   "id": "963a73a1",
   "metadata": {},
   "outputs": [
    {
     "name": "stdout",
     "output_type": "stream",
     "text": [
      "Number of valid triangles: 869\n"
     ]
    }
   ],
   "source": [
    "def is_valid_triangle(sides):\n",
    "    a, b, c = sorted(sides)  # Sort the sides so a <= b <= c\n",
    "    return a + b > c  # Check if the sum of the two smallest sides is greater than the largest side\n",
    "\n",
    "def count_valid_triangles(input_data):\n",
    "    valid_count = 0\n",
    "    for line in input_data:\n",
    "        sides = list(map(int, line.split()))\n",
    "        if is_valid_triangle(sides):\n",
    "            valid_count += 1\n",
    "    return valid_count\n",
    "\n",
    "# Reading the input from the file\n",
    "with open('input.txt', 'r') as file:\n",
    "    input_data = file.readlines()\n",
    "\n",
    "# Strip any unnecessary newlines or spaces from the input\n",
    "input_data = [line.strip() for line in input_data]\n",
    "\n",
    "# Count the valid triangles\n",
    "valid_triangles = count_valid_triangles(input_data)\n",
    "\n",
    "print(f\"Number of valid triangles: {valid_triangles}\")\n"
   ]
  },
  {
   "cell_type": "code",
   "execution_count": 2,
   "id": "1ad9e350-12d7-4b5a-b8ba-280b6500ab6e",
   "metadata": {},
   "outputs": [
    {
     "name": "stdout",
     "output_type": "stream",
     "text": [
      "Number of valid triangles: 1544\n"
     ]
    }
   ],
   "source": [
    "def is_valid_triangle(sides):\n",
    "    a, b, c = sorted(sides)  # Sort the sides so a <= b <= c\n",
    "    return a + b > c  # Check if the sum of the two smallest sides is greater than the largest side\n",
    "\n",
    "def count_valid_triangles_by_columns(input_data):\n",
    "    valid_count = 0\n",
    "    # Transpose the input data to get the columns as rows\n",
    "    columns = zip(*input_data)\n",
    "    for column in columns:\n",
    "        # Check for each set of three values in the column\n",
    "        for i in range(0, len(column), 3):\n",
    "            sides = list(map(int, column[i:i+3]))\n",
    "            if len(sides) == 3 and is_valid_triangle(sides):\n",
    "                valid_count += 1\n",
    "    return valid_count\n",
    "\n",
    "# Reading the input from the file\n",
    "with open('input.txt', 'r') as file:\n",
    "    input_data = file.readlines()\n",
    "\n",
    "# Strip any unnecessary newlines or spaces from the input\n",
    "input_data = [line.strip().split() for line in input_data]\n",
    "\n",
    "# Count the valid triangles from columns\n",
    "valid_triangles = count_valid_triangles_by_columns(input_data)\n",
    "\n",
    "print(f\"Number of valid triangles: {valid_triangles}\")\n"
   ]
  },
  {
   "cell_type": "code",
   "execution_count": null,
   "id": "c6300167-cc20-44e1-8604-eacb0b0d36fc",
   "metadata": {},
   "outputs": [],
   "source": []
  }
 ],
 "metadata": {
  "kernelspec": {
   "display_name": "Python 3 (ipykernel)",
   "language": "python",
   "name": "python3"
  },
  "language_info": {
   "codemirror_mode": {
    "name": "ipython",
    "version": 3
   },
   "file_extension": ".py",
   "mimetype": "text/x-python",
   "name": "python",
   "nbconvert_exporter": "python",
   "pygments_lexer": "ipython3",
   "version": "3.12.3"
  }
 },
 "nbformat": 4,
 "nbformat_minor": 5
}
