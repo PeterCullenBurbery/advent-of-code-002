{
 "cells": [
  {
   "cell_type": "markdown",
   "id": "bcd941de",
   "metadata": {},
   "source": [
    "# Advent of Code"
   ]
  },
  {
   "cell_type": "markdown",
   "id": "d0121781",
   "metadata": {},
   "source": [
    "## 2016-012-003\n",
    "## 2016 003"
   ]
  },
  {
   "cell_type": "markdown",
   "id": "6bbac832",
   "metadata": {},
   "source": [
    "https://adventofcode.com/2016/day/3"
   ]
  },
  {
   "cell_type": "code",
   "execution_count": null,
   "id": "963a73a1",
   "metadata": {},
   "outputs": [],
   "source": []
  }
 ],
 "metadata": {},
 "nbformat": 4,
 "nbformat_minor": 5
}
