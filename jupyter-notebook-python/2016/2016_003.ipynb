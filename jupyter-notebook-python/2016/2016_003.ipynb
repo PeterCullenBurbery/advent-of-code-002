{
 "cells": [
  {
   "cell_type": "markdown",
   "id": "d99ed34b",
   "metadata": {},
   "source": [
    "# Advent of Code"
   ]
  },
  {
   "cell_type": "markdown",
   "id": "f3f42ae5",
   "metadata": {},
   "source": [
    "## 2016-012-003\n",
    "## 2016 003"
   ]
  },
  {
   "cell_type": "markdown",
   "id": "3279b15c",
   "metadata": {},
   "source": [
    "https://adventofcode.com/2016/day/3"
   ]
  },
  {
   "cell_type": "code",
   "execution_count": null,
   "id": "e97fd1f1",
   "metadata": {},
   "outputs": [],
   "source": []
  }
 ],
 "metadata": {
  "kernelspec": {
   "display_name": "Python 3 (ipykernel)",
   "language": "python",
   "name": "python3"
  },
  "language_info": {
   "name": "python",
   "version": "3.12.3"
  }
 },
 "nbformat": 4,
 "nbformat_minor": 5
}
