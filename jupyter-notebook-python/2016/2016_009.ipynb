{
 "cells": [
  {
   "cell_type": "markdown",
   "id": "267ba96e",
   "metadata": {},
   "source": [
    "# Advent of Code"
   ]
  },
  {
   "cell_type": "markdown",
   "id": "2fb079f0",
   "metadata": {},
   "source": [
    "## 2016-012-009\n",
    "## 2016 009"
   ]
  },
  {
   "cell_type": "markdown",
   "id": "f93d7e78",
   "metadata": {},
   "source": [
    "https://adventofcode.com/2016/day/9"
   ]
  },
  {
   "cell_type": "code",
   "execution_count": null,
   "id": "2e5a146f",
   "metadata": {},
   "outputs": [],
   "source": []
  }
 ],
 "metadata": {
  "kernelspec": {
   "display_name": "Python 3 (ipykernel)",
   "language": "python",
   "name": "python3"
  },
  "language_info": {
   "name": "python",
   "version": "3.12.3"
  }
 },
 "nbformat": 4,
 "nbformat_minor": 5
}
