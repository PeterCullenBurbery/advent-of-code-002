{
 "cells": [
  {
   "cell_type": "markdown",
   "id": "5fb6fbcb",
   "metadata": {},
   "source": [
    "# Advent of Code"
   ]
  },
  {
   "cell_type": "markdown",
   "id": "fc7de195",
   "metadata": {},
   "source": [
    "## 2016-012-001\n",
    "## 2016 001"
   ]
  },
  {
   "cell_type": "markdown",
   "id": "45060b60",
   "metadata": {},
   "source": [
    "https://adventofcode.com/2016/day/1"
   ]
  },
  {
   "cell_type": "code",
   "execution_count": null,
   "id": "403e9a0c",
   "metadata": {},
   "outputs": [],
   "source": []
  }
 ],
 "metadata": {},
 "nbformat": 4,
 "nbformat_minor": 5
}
