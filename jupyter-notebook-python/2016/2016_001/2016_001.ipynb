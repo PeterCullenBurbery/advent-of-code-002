{
 "cells": [
  {
   "cell_type": "markdown",
   "id": "5fb6fbcb",
   "metadata": {},
   "source": [
    "# Advent of Code"
   ]
  },
  {
   "cell_type": "markdown",
   "id": "fc7de195",
   "metadata": {},
   "source": [
    "## 2016-012-001\n",
    "## 2016 001"
   ]
  },
  {
   "cell_type": "markdown",
   "id": "45060b60",
   "metadata": {},
   "source": [
    "https://adventofcode.com/2016/day/1"
   ]
  },
  {
   "cell_type": "code",
   "execution_count": 1,
   "id": "403e9a0c",
   "metadata": {},
   "outputs": [
    {
     "name": "stdout",
     "output_type": "stream",
     "text": [
      "The shortest path to Easter Bunny HQ is: 236 blocks.\n"
     ]
    }
   ],
   "source": [
    "def calculate_distance(instructions):\n",
    "    directions = instructions.split(\", \")\n",
    "    x, y = 0, 0\n",
    "    direction = 0  # 0: North, 1: East, 2: South, 3: West\n",
    "\n",
    "    for move in directions:\n",
    "        turn, steps = move[0], int(move[1:])\n",
    "        direction = (direction + (1 if turn == 'R' else -1)) % 4\n",
    "\n",
    "        if direction == 0:  # North\n",
    "            y += steps\n",
    "        elif direction == 1:  # East\n",
    "            x += steps\n",
    "        elif direction == 2:  # South\n",
    "            y -= steps\n",
    "        elif direction == 3:  # West\n",
    "            x -= steps\n",
    "\n",
    "    # Calculate Manhattan distance\n",
    "    return abs(x) + abs(y)\n",
    "\n",
    "\n",
    "# Reading input from file\n",
    "with open('input.txt', 'r') as file:\n",
    "    input_instructions = file.read().strip()\n",
    "\n",
    "# Calculating the distance\n",
    "distance = calculate_distance(input_instructions)\n",
    "print(f\"The shortest path to Easter Bunny HQ is: {distance} blocks.\")\n"
   ]
  },
  {
   "cell_type": "code",
   "execution_count": 2,
   "id": "c4b32534-3055-4c92-993e-6900ff16372b",
   "metadata": {},
   "outputs": [
    {
     "name": "stdout",
     "output_type": "stream",
     "text": [
      "The first location visited twice is 182 blocks away.\n"
     ]
    }
   ],
   "source": [
    "def find_first_revisited_location(instructions):\n",
    "    directions = instructions.split(\", \")\n",
    "    x, y = 0, 0\n",
    "    direction = 0  # 0: North, 1: East, 2: South, 3: West\n",
    "    visited_locations = set()  # To track visited locations\n",
    "    visited_locations.add((x, y))  # Add the starting point\n",
    "\n",
    "    for move in directions:\n",
    "        turn, steps = move[0], int(move[1:])\n",
    "        direction = (direction + (1 if turn == 'R' else -1)) % 4\n",
    "\n",
    "        for _ in range(steps):\n",
    "            # Move to the next block\n",
    "            if direction == 0:  # North\n",
    "                y += 1\n",
    "            elif direction == 1:  # East\n",
    "                x += 1\n",
    "            elif direction == 2:  # South\n",
    "                y -= 1\n",
    "            elif direction == 3:  # West\n",
    "                x -= 1\n",
    "\n",
    "            # Check if this location has been visited before\n",
    "            if (x, y) in visited_locations:\n",
    "                return abs(x) + abs(y)  # Return the Manhattan distance to this location\n",
    "            visited_locations.add((x, y))  # Add new location to the visited set\n",
    "\n",
    "    return None  # In case no location is revisited\n",
    "\n",
    "# Reading input from file\n",
    "with open('input.txt', 'r') as file:\n",
    "    input_instructions = file.read().strip()\n",
    "\n",
    "# Finding the first location visited twice\n",
    "distance = find_first_revisited_location(input_instructions)\n",
    "print(f\"The first location visited twice is {distance} blocks away.\")\n"
   ]
  },
  {
   "cell_type": "code",
   "execution_count": null,
   "id": "4e2d25b8-0d88-4e22-9fb2-365458fb263b",
   "metadata": {},
   "outputs": [],
   "source": []
  }
 ],
 "metadata": {
  "kernelspec": {
   "display_name": "Python 3 (ipykernel)",
   "language": "python",
   "name": "python3"
  },
  "language_info": {
   "codemirror_mode": {
    "name": "ipython",
    "version": 3
   },
   "file_extension": ".py",
   "mimetype": "text/x-python",
   "name": "python",
   "nbconvert_exporter": "python",
   "pygments_lexer": "ipython3",
   "version": "3.12.3"
  }
 },
 "nbformat": 4,
 "nbformat_minor": 5
}
