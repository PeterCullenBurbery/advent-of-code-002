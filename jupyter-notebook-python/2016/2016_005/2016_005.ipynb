{
 "cells": [
  {
   "cell_type": "markdown",
   "id": "8516358b",
   "metadata": {},
   "source": [
    "# Advent of Code"
   ]
  },
  {
   "cell_type": "markdown",
   "id": "8efb7eaa",
   "metadata": {},
   "source": [
    "## 2016-012-005\n",
    "## 2016 005"
   ]
  },
  {
   "cell_type": "markdown",
   "id": "52ca334c",
   "metadata": {},
   "source": [
    "https://adventofcode.com/2016/day/5"
   ]
  },
  {
   "cell_type": "code",
   "execution_count": 2,
   "id": "f7280cb4",
   "metadata": {},
   "outputs": [
    {
     "name": "stdout",
     "output_type": "stream",
     "text": [
      "The password for door_id ffykfhsq is: c6697b55\n"
     ]
    }
   ],
   "source": [
    "import hashlib\n",
    "\n",
    "def find_password(door_id):\n",
    "    password = []\n",
    "    index = 0\n",
    "\n",
    "    # Keep finding hashes until we get 8 characters for the password\n",
    "    while len(password) < 8:\n",
    "        # Create the hash using the door ID and the current index\n",
    "        hash_input = f\"{door_id}{index}\"\n",
    "        hash_result = hashlib.md5(hash_input.encode()).hexdigest()\n",
    "\n",
    "        # Check if the hash starts with five zeroes\n",
    "        if hash_result.startswith(\"00000\"):\n",
    "            # The sixth character is the one we want\n",
    "            password.append(hash_result[5])\n",
    "\n",
    "        # Increment the index for the next attempt\n",
    "        index += 1\n",
    "\n",
    "    return ''.join(password)\n",
    "\n",
    "# Example usage\n",
    "door_id = \"ffykfhsq\"\n",
    "password = find_password(door_id)\n",
    "print(f\"The password for door_id {door_id} is: {password}\")\n"
   ]
  },
  {
   "cell_type": "code",
   "execution_count": 4,
   "id": "0df5f6f6-a24c-4a3f-9274-b1ed7f3500c7",
   "metadata": {},
   "outputs": [
    {
     "name": "stdout",
     "output_type": "stream",
     "text": [
      "The password for door_id ffykfhsq is: 8c35d1ab\n"
     ]
    }
   ],
   "source": [
    "import hashlib\n",
    "\n",
    "def find_password(door_id):\n",
    "    password = [None] * 8  # Password is 8 characters, initially empty\n",
    "    index = 0\n",
    "\n",
    "    while None in password:  # Continue until the password is fully filled\n",
    "        # Create the hash using the door ID and the current index\n",
    "        hash_input = f\"{door_id}{index}\"\n",
    "        hash_result = hashlib.md5(hash_input.encode()).hexdigest()\n",
    "\n",
    "        # Check if the hash starts with five zeroes\n",
    "        if hash_result.startswith(\"00000\"):\n",
    "            # The sixth character indicates the position (0-7) in the password\n",
    "            position = int(hash_result[5], 16)  # Convert the character to an integer (0-7)\n",
    "\n",
    "            # If the position is valid (0-7) and the password at that position is still None, fill it\n",
    "            if position < 8 and password[position] is None:\n",
    "                password[position] = hash_result[6]\n",
    "\n",
    "        # Increment the index for the next attempt\n",
    "        index += 1\n",
    "\n",
    "    return ''.join(password)\n",
    "\n",
    "# Example usage\n",
    "door_id = \"ffykfhsq\"\n",
    "password = find_password(door_id)\n",
    "print(f\"The password for door_id {door_id} is: {password}\")"
   ]
  },
  {
   "cell_type": "code",
   "execution_count": null,
   "id": "d411db47-34e3-4692-945a-2894c290a66c",
   "metadata": {},
   "outputs": [],
   "source": []
  }
 ],
 "metadata": {
  "kernelspec": {
   "display_name": "Python 3 (ipykernel)",
   "language": "python",
   "name": "python3"
  },
  "language_info": {
   "codemirror_mode": {
    "name": "ipython",
    "version": 3
   },
   "file_extension": ".py",
   "mimetype": "text/x-python",
   "name": "python",
   "nbconvert_exporter": "python",
   "pygments_lexer": "ipython3",
   "version": "3.12.3"
  }
 },
 "nbformat": 4,
 "nbformat_minor": 5
}
