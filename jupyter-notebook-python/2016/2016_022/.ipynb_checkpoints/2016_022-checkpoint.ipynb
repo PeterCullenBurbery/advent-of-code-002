{
 "cells": [
  {
   "cell_type": "markdown",
   "id": "90999d20",
   "metadata": {},
   "source": [
    "# Advent of Code"
   ]
  },
  {
   "cell_type": "markdown",
   "id": "094a31d0",
   "metadata": {},
   "source": [
    "## 2016-012-022\n",
    "## 2016 022"
   ]
  },
  {
   "cell_type": "markdown",
   "id": "3170e4b2",
   "metadata": {},
   "source": [
    "https://adventofcode.com/2016/day/22"
   ]
  },
  {
   "cell_type": "code",
   "execution_count": null,
   "id": "bb00e69e",
   "metadata": {},
   "outputs": [],
   "source": []
  }
 ],
 "metadata": {},
 "nbformat": 4,
 "nbformat_minor": 5
}
