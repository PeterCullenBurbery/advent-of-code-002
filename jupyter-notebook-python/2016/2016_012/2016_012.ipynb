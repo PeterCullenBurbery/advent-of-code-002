{
 "cells": [
  {
   "cell_type": "markdown",
   "id": "81190724",
   "metadata": {},
   "source": [
    "# Advent of Code"
   ]
  },
  {
   "cell_type": "markdown",
   "id": "0fc18913",
   "metadata": {},
   "source": [
    "## 2016-012-012\n",
    "## 2016 012"
   ]
  },
  {
   "cell_type": "markdown",
   "id": "9cacb433",
   "metadata": {},
   "source": [
    "https://adventofcode.com/2016/day/12"
   ]
  },
  {
   "cell_type": "code",
   "execution_count": null,
   "id": "6b7a4a21",
   "metadata": {},
   "outputs": [],
   "source": []
  }
 ],
 "metadata": {},
 "nbformat": 4,
 "nbformat_minor": 5
}
