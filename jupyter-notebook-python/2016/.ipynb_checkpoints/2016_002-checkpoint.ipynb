{
 "cells": [
  {
   "cell_type": "markdown",
   "id": "27c9bcb6",
   "metadata": {},
   "source": [
    "# Advent of Code"
   ]
  },
  {
   "cell_type": "markdown",
   "id": "e8cd1908",
   "metadata": {},
   "source": [
    "## 2016-012-002\n",
    "## 2016 002"
   ]
  },
  {
   "cell_type": "code",
   "execution_count": null,
   "id": "17c7a047",
   "metadata": {},
   "outputs": [],
   "source": []
  }
 ],
 "metadata": {
  "kernelspec": {
   "display_name": "Python 3 (ipykernel)",
   "language": "python",
   "name": "python3"
  },
  "language_info": {
   "name": "python",
   "version": "3.12.3"
  }
 },
 "nbformat": 4,
 "nbformat_minor": 5
}
