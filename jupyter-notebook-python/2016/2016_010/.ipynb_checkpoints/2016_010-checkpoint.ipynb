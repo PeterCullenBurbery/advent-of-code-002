{
 "cells": [
  {
   "cell_type": "markdown",
   "id": "102832eb",
   "metadata": {},
   "source": [
    "# Advent of Code"
   ]
  },
  {
   "cell_type": "markdown",
   "id": "d03f24dc",
   "metadata": {},
   "source": [
    "## 2016-012-010\n",
    "## 2016 010"
   ]
  },
  {
   "cell_type": "markdown",
   "id": "37265b87",
   "metadata": {},
   "source": [
    "https://adventofcode.com/2016/day/10"
   ]
  },
  {
   "cell_type": "code",
   "execution_count": null,
   "id": "e15267d5",
   "metadata": {},
   "outputs": [],
   "source": []
  }
 ],
 "metadata": {},
 "nbformat": 4,
 "nbformat_minor": 5
}
