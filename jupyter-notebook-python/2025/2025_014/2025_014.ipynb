{
 "cells": [
  {
   "cell_type": "markdown",
   "id": "abacc972",
   "metadata": {},
   "source": [
    "# Advent of Code"
   ]
  },
  {
   "cell_type": "markdown",
   "id": "be8e098d",
   "metadata": {},
   "source": [
    "## 2025-012-014\n",
    "## 2025 014"
   ]
  },
  {
   "cell_type": "markdown",
   "id": "dcfc3f42",
   "metadata": {},
   "source": [
    "https://adventofcode.com/2025/day/14"
   ]
  },
  {
   "cell_type": "code",
   "execution_count": null,
   "id": "7662235d",
   "metadata": {},
   "outputs": [],
   "source": []
  }
 ],
 "metadata": {},
 "nbformat": 4,
 "nbformat_minor": 5
}
