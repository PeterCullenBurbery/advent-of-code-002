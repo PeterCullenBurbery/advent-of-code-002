{
 "cells": [
  {
   "cell_type": "markdown",
   "id": "6c61c36b",
   "metadata": {},
   "source": [
    "# Advent of Code"
   ]
  },
  {
   "cell_type": "markdown",
   "id": "aa148512",
   "metadata": {},
   "source": [
    "## 2025-012-004\n",
    "## 2025 004"
   ]
  },
  {
   "cell_type": "markdown",
   "id": "0d786d49",
   "metadata": {},
   "source": [
    "https://adventofcode.com/2025/day/4"
   ]
  },
  {
   "cell_type": "code",
   "execution_count": null,
   "id": "bd56553c",
   "metadata": {},
   "outputs": [],
   "source": []
  }
 ],
 "metadata": {
  "kernelspec": {
   "display_name": "Python 3 (ipykernel)",
   "language": "python",
   "name": "python3"
  },
  "language_info": {
   "name": "python",
   "version": "3.12.3"
  }
 },
 "nbformat": 4,
 "nbformat_minor": 5
}
