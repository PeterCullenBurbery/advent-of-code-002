{
 "cells": [
  {
   "cell_type": "markdown",
   "id": "3fb9fa94",
   "metadata": {},
   "source": [
    "# Advent of Code"
   ]
  },
  {
   "cell_type": "markdown",
   "id": "229ecd23",
   "metadata": {},
   "source": [
    "## 2025-012-002\n",
    "## 2025 002"
   ]
  },
  {
   "cell_type": "markdown",
   "id": "7744d275",
   "metadata": {},
   "source": [
    "https://adventofcode.com/2025/day/2"
   ]
  },
  {
   "cell_type": "code",
   "execution_count": null,
   "id": "0f0de49f",
   "metadata": {},
   "outputs": [],
   "source": []
  }
 ],
 "metadata": {
  "kernelspec": {
   "display_name": "Python 3 (ipykernel)",
   "language": "python",
   "name": "python3"
  },
  "language_info": {
   "name": "python",
   "version": "3.12.3"
  }
 },
 "nbformat": 4,
 "nbformat_minor": 5
}
