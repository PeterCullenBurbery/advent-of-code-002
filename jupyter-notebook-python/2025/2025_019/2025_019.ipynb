{
 "cells": [
  {
   "cell_type": "markdown",
   "id": "b2d347c0",
   "metadata": {},
   "source": [
    "# Advent of Code"
   ]
  },
  {
   "cell_type": "markdown",
   "id": "89c3f2b9",
   "metadata": {},
   "source": [
    "## 2025-012-019\n",
    "## 2025 019"
   ]
  },
  {
   "cell_type": "markdown",
   "id": "b1417ff2",
   "metadata": {},
   "source": [
    "https://adventofcode.com/2025/day/19"
   ]
  },
  {
   "cell_type": "code",
   "execution_count": null,
   "id": "25ad0dc8",
   "metadata": {},
   "outputs": [],
   "source": []
  }
 ],
 "metadata": {},
 "nbformat": 4,
 "nbformat_minor": 5
}
