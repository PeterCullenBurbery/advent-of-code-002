{
 "cells": [
  {
   "cell_type": "markdown",
   "id": "aec5c450",
   "metadata": {},
   "source": [
    "# Advent of Code"
   ]
  },
  {
   "cell_type": "markdown",
   "id": "43fc6dd2",
   "metadata": {},
   "source": [
    "## 2025-012-021\n",
    "## 2025 021"
   ]
  },
  {
   "cell_type": "markdown",
   "id": "e6912fcb",
   "metadata": {},
   "source": [
    "https://adventofcode.com/2025/day/21"
   ]
  },
  {
   "cell_type": "code",
   "execution_count": null,
   "id": "3493816a",
   "metadata": {},
   "outputs": [],
   "source": []
  }
 ],
 "metadata": {},
 "nbformat": 4,
 "nbformat_minor": 5
}
