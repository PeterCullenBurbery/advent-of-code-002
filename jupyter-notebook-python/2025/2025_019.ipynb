{
 "cells": [
  {
   "cell_type": "markdown",
   "id": "915ecba7",
   "metadata": {},
   "source": [
    "# Advent of Code"
   ]
  },
  {
   "cell_type": "markdown",
   "id": "ae14db8d",
   "metadata": {},
   "source": [
    "## 2025-012-019\n",
    "## 2025 019"
   ]
  },
  {
   "cell_type": "markdown",
   "id": "3bb399f2",
   "metadata": {},
   "source": [
    "https://adventofcode.com/2025/day/19"
   ]
  },
  {
   "cell_type": "code",
   "execution_count": null,
   "id": "059046e1",
   "metadata": {},
   "outputs": [],
   "source": []
  }
 ],
 "metadata": {
  "kernelspec": {
   "display_name": "Python 3 (ipykernel)",
   "language": "python",
   "name": "python3"
  },
  "language_info": {
   "name": "python",
   "version": "3.12.3"
  }
 },
 "nbformat": 4,
 "nbformat_minor": 5
}
