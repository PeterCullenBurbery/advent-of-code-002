{
 "cells": [
  {
   "cell_type": "markdown",
   "id": "e7f96250",
   "metadata": {},
   "source": [
    "# Advent of Code"
   ]
  },
  {
   "cell_type": "markdown",
   "id": "b72c7093",
   "metadata": {},
   "source": [
    "## 2025-012-024\n",
    "## 2025 024"
   ]
  },
  {
   "cell_type": "markdown",
   "id": "56e39a14",
   "metadata": {},
   "source": [
    "https://adventofcode.com/2025/day/24"
   ]
  },
  {
   "cell_type": "code",
   "execution_count": null,
   "id": "5575d107",
   "metadata": {},
   "outputs": [],
   "source": []
  }
 ],
 "metadata": {
  "kernelspec": {
   "display_name": "Python 3 (ipykernel)",
   "language": "python",
   "name": "python3"
  },
  "language_info": {
   "name": "python",
   "version": "3.12.3"
  }
 },
 "nbformat": 4,
 "nbformat_minor": 5
}
