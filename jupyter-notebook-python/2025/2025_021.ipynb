{
 "cells": [
  {
   "cell_type": "markdown",
   "id": "eaa6b68c",
   "metadata": {},
   "source": [
    "# Advent of Code"
   ]
  },
  {
   "cell_type": "markdown",
   "id": "7fa0c2c5",
   "metadata": {},
   "source": [
    "## 2025-012-021\n",
    "## 2025 021"
   ]
  },
  {
   "cell_type": "markdown",
   "id": "6bb72d4e",
   "metadata": {},
   "source": [
    "https://adventofcode.com/2025/day/21"
   ]
  },
  {
   "cell_type": "code",
   "execution_count": null,
   "id": "fd2477c1",
   "metadata": {},
   "outputs": [],
   "source": []
  }
 ],
 "metadata": {
  "kernelspec": {
   "display_name": "Python 3 (ipykernel)",
   "language": "python",
   "name": "python3"
  },
  "language_info": {
   "name": "python",
   "version": "3.12.3"
  }
 },
 "nbformat": 4,
 "nbformat_minor": 5
}
