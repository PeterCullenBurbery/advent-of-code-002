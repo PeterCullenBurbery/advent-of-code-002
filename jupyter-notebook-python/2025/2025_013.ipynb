{
 "cells": [
  {
   "cell_type": "markdown",
   "id": "ff5193e6",
   "metadata": {},
   "source": [
    "# Advent of Code"
   ]
  },
  {
   "cell_type": "markdown",
   "id": "fdaf31f4",
   "metadata": {},
   "source": [
    "## 2025-012-013\n",
    "## 2025 013"
   ]
  },
  {
   "cell_type": "markdown",
   "id": "81028c2c",
   "metadata": {},
   "source": [
    "https://adventofcode.com/2025/day/13"
   ]
  },
  {
   "cell_type": "code",
   "execution_count": null,
   "id": "162202a2",
   "metadata": {},
   "outputs": [],
   "source": []
  }
 ],
 "metadata": {
  "kernelspec": {
   "display_name": "Python 3 (ipykernel)",
   "language": "python",
   "name": "python3"
  },
  "language_info": {
   "name": "python",
   "version": "3.12.3"
  }
 },
 "nbformat": 4,
 "nbformat_minor": 5
}
