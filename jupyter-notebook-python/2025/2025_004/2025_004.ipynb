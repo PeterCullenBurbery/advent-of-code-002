{
 "cells": [
  {
   "cell_type": "markdown",
   "id": "102b106d",
   "metadata": {},
   "source": [
    "# Advent of Code"
   ]
  },
  {
   "cell_type": "markdown",
   "id": "bb5f1813",
   "metadata": {},
   "source": [
    "## 2025-012-004\n",
    "## 2025 004"
   ]
  },
  {
   "cell_type": "markdown",
   "id": "d95a7d09",
   "metadata": {},
   "source": [
    "https://adventofcode.com/2025/day/4"
   ]
  },
  {
   "cell_type": "code",
   "execution_count": null,
   "id": "ed4df7dd",
   "metadata": {},
   "outputs": [],
   "source": []
  }
 ],
 "metadata": {},
 "nbformat": 4,
 "nbformat_minor": 5
}
