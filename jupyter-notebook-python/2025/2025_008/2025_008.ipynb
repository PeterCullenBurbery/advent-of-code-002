{
 "cells": [
  {
   "cell_type": "markdown",
   "id": "567665d4",
   "metadata": {},
   "source": [
    "# Advent of Code"
   ]
  },
  {
   "cell_type": "markdown",
   "id": "bc60ae75",
   "metadata": {},
   "source": [
    "## 2025-012-008\n",
    "## 2025 008"
   ]
  },
  {
   "cell_type": "markdown",
   "id": "33d55c83",
   "metadata": {},
   "source": [
    "https://adventofcode.com/2025/day/8"
   ]
  },
  {
   "cell_type": "code",
   "execution_count": null,
   "id": "aea4ac2c",
   "metadata": {},
   "outputs": [],
   "source": []
  }
 ],
 "metadata": {},
 "nbformat": 4,
 "nbformat_minor": 5
}
