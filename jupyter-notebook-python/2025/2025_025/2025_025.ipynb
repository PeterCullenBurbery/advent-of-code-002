{
 "cells": [
  {
   "cell_type": "markdown",
   "id": "e3c6778a",
   "metadata": {},
   "source": [
    "# Advent of Code"
   ]
  },
  {
   "cell_type": "markdown",
   "id": "0f2b798c",
   "metadata": {},
   "source": [
    "## 2025-012-025\n",
    "## 2025 025"
   ]
  },
  {
   "cell_type": "markdown",
   "id": "86733e66",
   "metadata": {},
   "source": [
    "https://adventofcode.com/2025/day/25"
   ]
  },
  {
   "cell_type": "code",
   "execution_count": null,
   "id": "b98b7e4b",
   "metadata": {},
   "outputs": [],
   "source": []
  }
 ],
 "metadata": {},
 "nbformat": 4,
 "nbformat_minor": 5
}
