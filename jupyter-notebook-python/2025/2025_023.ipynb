{
 "cells": [
  {
   "cell_type": "markdown",
   "id": "93a948d6",
   "metadata": {},
   "source": [
    "# Advent of Code"
   ]
  },
  {
   "cell_type": "markdown",
   "id": "54113eb5",
   "metadata": {},
   "source": [
    "## 2025-012-023\n",
    "## 2025 023"
   ]
  },
  {
   "cell_type": "markdown",
   "id": "eb259da6",
   "metadata": {},
   "source": [
    "https://adventofcode.com/2025/day/23"
   ]
  },
  {
   "cell_type": "code",
   "execution_count": null,
   "id": "4fc590f5",
   "metadata": {},
   "outputs": [],
   "source": []
  }
 ],
 "metadata": {
  "kernelspec": {
   "display_name": "Python 3 (ipykernel)",
   "language": "python",
   "name": "python3"
  },
  "language_info": {
   "name": "python",
   "version": "3.12.3"
  }
 },
 "nbformat": 4,
 "nbformat_minor": 5
}
