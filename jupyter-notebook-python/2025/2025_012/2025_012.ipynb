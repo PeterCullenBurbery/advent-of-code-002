{
 "cells": [
  {
   "cell_type": "markdown",
   "id": "769e3cc8",
   "metadata": {},
   "source": [
    "# Advent of Code"
   ]
  },
  {
   "cell_type": "markdown",
   "id": "301ca9d7",
   "metadata": {},
   "source": [
    "## 2025-012-012\n",
    "## 2025 012"
   ]
  },
  {
   "cell_type": "markdown",
   "id": "10a52c40",
   "metadata": {},
   "source": [
    "https://adventofcode.com/2025/day/12"
   ]
  },
  {
   "cell_type": "code",
   "execution_count": null,
   "id": "7823de0d",
   "metadata": {},
   "outputs": [],
   "source": []
  }
 ],
 "metadata": {},
 "nbformat": 4,
 "nbformat_minor": 5
}
