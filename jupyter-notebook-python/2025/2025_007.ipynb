{
 "cells": [
  {
   "cell_type": "markdown",
   "id": "8e4b8ad6",
   "metadata": {},
   "source": [
    "# Advent of Code"
   ]
  },
  {
   "cell_type": "markdown",
   "id": "5c257c95",
   "metadata": {},
   "source": [
    "## 2025-012-007\n",
    "## 2025 007"
   ]
  },
  {
   "cell_type": "markdown",
   "id": "68a71cfa",
   "metadata": {},
   "source": [
    "https://adventofcode.com/2025/day/7"
   ]
  },
  {
   "cell_type": "code",
   "execution_count": null,
   "id": "d85d5f57",
   "metadata": {},
   "outputs": [],
   "source": []
  }
 ],
 "metadata": {
  "kernelspec": {
   "display_name": "Python 3 (ipykernel)",
   "language": "python",
   "name": "python3"
  },
  "language_info": {
   "name": "python",
   "version": "3.12.3"
  }
 },
 "nbformat": 4,
 "nbformat_minor": 5
}
