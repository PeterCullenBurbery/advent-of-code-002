{
 "cells": [
  {
   "cell_type": "markdown",
   "id": "14a93eab",
   "metadata": {},
   "source": [
    "# Advent of Code"
   ]
  },
  {
   "cell_type": "markdown",
   "id": "e0a745e7",
   "metadata": {},
   "source": [
    "## 2025-012-007\n",
    "## 2025 007"
   ]
  },
  {
   "cell_type": "markdown",
   "id": "f99d3de1",
   "metadata": {},
   "source": [
    "https://adventofcode.com/2025/day/7"
   ]
  },
  {
   "cell_type": "code",
   "execution_count": null,
   "id": "27d6ef47",
   "metadata": {},
   "outputs": [],
   "source": []
  }
 ],
 "metadata": {},
 "nbformat": 4,
 "nbformat_minor": 5
}
