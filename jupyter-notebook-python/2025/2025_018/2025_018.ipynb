{
 "cells": [
  {
   "cell_type": "markdown",
   "id": "6cc0161f",
   "metadata": {},
   "source": [
    "# Advent of Code"
   ]
  },
  {
   "cell_type": "markdown",
   "id": "b5913ac2",
   "metadata": {},
   "source": [
    "## 2025-012-018\n",
    "## 2025 018"
   ]
  },
  {
   "cell_type": "markdown",
   "id": "d728cc29",
   "metadata": {},
   "source": [
    "https://adventofcode.com/2025/day/18"
   ]
  },
  {
   "cell_type": "code",
   "execution_count": null,
   "id": "e7a3691a",
   "metadata": {},
   "outputs": [],
   "source": []
  }
 ],
 "metadata": {},
 "nbformat": 4,
 "nbformat_minor": 5
}
