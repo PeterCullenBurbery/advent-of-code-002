{
 "cells": [
  {
   "cell_type": "markdown",
   "id": "7c633da3",
   "metadata": {},
   "source": [
    "# Advent of Code"
   ]
  },
  {
   "cell_type": "markdown",
   "id": "3421adad",
   "metadata": {},
   "source": [
    "## 2025-012-006\n",
    "## 2025 006"
   ]
  },
  {
   "cell_type": "markdown",
   "id": "618cbfdf",
   "metadata": {},
   "source": [
    "https://adventofcode.com/2025/day/6"
   ]
  },
  {
   "cell_type": "code",
   "execution_count": null,
   "id": "1ed12950",
   "metadata": {},
   "outputs": [],
   "source": []
  }
 ],
 "metadata": {},
 "nbformat": 4,
 "nbformat_minor": 5
}
