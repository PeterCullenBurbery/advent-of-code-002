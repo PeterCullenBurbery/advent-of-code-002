{
 "cells": [
  {
   "cell_type": "markdown",
   "id": "1ca93ff9",
   "metadata": {},
   "source": [
    "# Advent of Code"
   ]
  },
  {
   "cell_type": "markdown",
   "id": "0bc41310",
   "metadata": {},
   "source": [
    "## 2025-012-016\n",
    "## 2025 016"
   ]
  },
  {
   "cell_type": "markdown",
   "id": "dbd91229",
   "metadata": {},
   "source": [
    "https://adventofcode.com/2025/day/16"
   ]
  },
  {
   "cell_type": "code",
   "execution_count": null,
   "id": "3cc41f49",
   "metadata": {},
   "outputs": [],
   "source": []
  }
 ],
 "metadata": {
  "kernelspec": {
   "display_name": "Python 3 (ipykernel)",
   "language": "python",
   "name": "python3"
  },
  "language_info": {
   "name": "python",
   "version": "3.12.3"
  }
 },
 "nbformat": 4,
 "nbformat_minor": 5
}
