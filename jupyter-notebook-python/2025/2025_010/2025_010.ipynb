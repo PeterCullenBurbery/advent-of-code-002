{
 "cells": [
  {
   "cell_type": "markdown",
   "id": "4ed9f578",
   "metadata": {},
   "source": [
    "# Advent of Code"
   ]
  },
  {
   "cell_type": "markdown",
   "id": "15ad752d",
   "metadata": {},
   "source": [
    "## 2025-012-010\n",
    "## 2025 010"
   ]
  },
  {
   "cell_type": "markdown",
   "id": "ad80985f",
   "metadata": {},
   "source": [
    "https://adventofcode.com/2025/day/10"
   ]
  },
  {
   "cell_type": "code",
   "execution_count": null,
   "id": "de4962be",
   "metadata": {},
   "outputs": [],
   "source": []
  }
 ],
 "metadata": {},
 "nbformat": 4,
 "nbformat_minor": 5
}
