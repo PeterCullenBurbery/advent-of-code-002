{
 "cells": [
  {
   "cell_type": "markdown",
   "id": "b7ca81b4",
   "metadata": {},
   "source": [
    "# Advent of Code"
   ]
  },
  {
   "cell_type": "markdown",
   "id": "da5370a5",
   "metadata": {},
   "source": [
    "## 2025-012-013\n",
    "## 2025 013"
   ]
  },
  {
   "cell_type": "markdown",
   "id": "0d4c053c",
   "metadata": {},
   "source": [
    "https://adventofcode.com/2025/day/13"
   ]
  },
  {
   "cell_type": "code",
   "execution_count": null,
   "id": "a9141057",
   "metadata": {},
   "outputs": [],
   "source": []
  }
 ],
 "metadata": {},
 "nbformat": 4,
 "nbformat_minor": 5
}
