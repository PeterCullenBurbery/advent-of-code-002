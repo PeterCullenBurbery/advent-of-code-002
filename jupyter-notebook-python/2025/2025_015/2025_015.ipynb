{
 "cells": [
  {
   "cell_type": "markdown",
   "id": "3b46998f",
   "metadata": {},
   "source": [
    "# Advent of Code"
   ]
  },
  {
   "cell_type": "markdown",
   "id": "56279be1",
   "metadata": {},
   "source": [
    "## 2025-012-015\n",
    "## 2025 015"
   ]
  },
  {
   "cell_type": "markdown",
   "id": "3bb397c9",
   "metadata": {},
   "source": [
    "https://adventofcode.com/2025/day/15"
   ]
  },
  {
   "cell_type": "code",
   "execution_count": null,
   "id": "7bd969b9",
   "metadata": {},
   "outputs": [],
   "source": []
  }
 ],
 "metadata": {},
 "nbformat": 4,
 "nbformat_minor": 5
}
