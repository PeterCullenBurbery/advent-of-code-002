{
 "cells": [
  {
   "cell_type": "markdown",
   "id": "b005bed7",
   "metadata": {},
   "source": [
    "# Advent of Code"
   ]
  },
  {
   "cell_type": "markdown",
   "id": "b7f2d3a6",
   "metadata": {},
   "source": [
    "## 2025-012-024\n",
    "## 2025 024"
   ]
  },
  {
   "cell_type": "markdown",
   "id": "e45ff1ad",
   "metadata": {},
   "source": [
    "https://adventofcode.com/2025/day/24"
   ]
  },
  {
   "cell_type": "code",
   "execution_count": null,
   "id": "5974b2e3",
   "metadata": {},
   "outputs": [],
   "source": []
  }
 ],
 "metadata": {},
 "nbformat": 4,
 "nbformat_minor": 5
}
