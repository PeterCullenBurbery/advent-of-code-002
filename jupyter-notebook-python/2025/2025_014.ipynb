{
 "cells": [
  {
   "cell_type": "markdown",
   "id": "757c1333",
   "metadata": {},
   "source": [
    "# Advent of Code"
   ]
  },
  {
   "cell_type": "markdown",
   "id": "48481b3c",
   "metadata": {},
   "source": [
    "## 2025-012-014\n",
    "## 2025 014"
   ]
  },
  {
   "cell_type": "markdown",
   "id": "0900e9dc",
   "metadata": {},
   "source": [
    "https://adventofcode.com/2025/day/14"
   ]
  },
  {
   "cell_type": "code",
   "execution_count": null,
   "id": "d3c992d1",
   "metadata": {},
   "outputs": [],
   "source": []
  }
 ],
 "metadata": {
  "kernelspec": {
   "display_name": "Python 3 (ipykernel)",
   "language": "python",
   "name": "python3"
  },
  "language_info": {
   "name": "python",
   "version": "3.12.3"
  }
 },
 "nbformat": 4,
 "nbformat_minor": 5
}
