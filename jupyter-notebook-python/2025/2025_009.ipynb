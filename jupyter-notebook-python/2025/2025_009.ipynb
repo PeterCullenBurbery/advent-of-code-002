{
 "cells": [
  {
   "cell_type": "markdown",
   "id": "47b72b30",
   "metadata": {},
   "source": [
    "# Advent of Code"
   ]
  },
  {
   "cell_type": "markdown",
   "id": "43047c1a",
   "metadata": {},
   "source": [
    "## 2025-012-009\n",
    "## 2025 009"
   ]
  },
  {
   "cell_type": "markdown",
   "id": "00349b01",
   "metadata": {},
   "source": [
    "https://adventofcode.com/2025/day/9"
   ]
  },
  {
   "cell_type": "code",
   "execution_count": null,
   "id": "4ae713ea",
   "metadata": {},
   "outputs": [],
   "source": []
  }
 ],
 "metadata": {
  "kernelspec": {
   "display_name": "Python 3 (ipykernel)",
   "language": "python",
   "name": "python3"
  },
  "language_info": {
   "name": "python",
   "version": "3.12.3"
  }
 },
 "nbformat": 4,
 "nbformat_minor": 5
}
