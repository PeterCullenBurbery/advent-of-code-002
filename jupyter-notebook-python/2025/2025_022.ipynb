{
 "cells": [
  {
   "cell_type": "markdown",
   "id": "fcfffec9",
   "metadata": {},
   "source": [
    "# Advent of Code"
   ]
  },
  {
   "cell_type": "markdown",
   "id": "083ae7b0",
   "metadata": {},
   "source": [
    "## 2025-012-022\n",
    "## 2025 022"
   ]
  },
  {
   "cell_type": "markdown",
   "id": "0bfb5f36",
   "metadata": {},
   "source": [
    "https://adventofcode.com/2025/day/22"
   ]
  },
  {
   "cell_type": "code",
   "execution_count": null,
   "id": "2ac4baec",
   "metadata": {},
   "outputs": [],
   "source": []
  }
 ],
 "metadata": {
  "kernelspec": {
   "display_name": "Python 3 (ipykernel)",
   "language": "python",
   "name": "python3"
  },
  "language_info": {
   "name": "python",
   "version": "3.12.3"
  }
 },
 "nbformat": 4,
 "nbformat_minor": 5
}
