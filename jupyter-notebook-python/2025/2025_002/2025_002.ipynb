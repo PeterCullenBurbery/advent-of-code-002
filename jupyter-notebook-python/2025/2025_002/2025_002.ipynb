{
 "cells": [
  {
   "cell_type": "markdown",
   "id": "e1c24a32",
   "metadata": {},
   "source": [
    "# Advent of Code"
   ]
  },
  {
   "cell_type": "markdown",
   "id": "39f25d5b",
   "metadata": {},
   "source": [
    "## 2025-012-002\n",
    "## 2025 002"
   ]
  },
  {
   "cell_type": "markdown",
   "id": "cf0b23c9",
   "metadata": {},
   "source": [
    "https://adventofcode.com/2025/day/2"
   ]
  },
  {
   "cell_type": "code",
   "execution_count": null,
   "id": "779235ed",
   "metadata": {},
   "outputs": [],
   "source": []
  }
 ],
 "metadata": {},
 "nbformat": 4,
 "nbformat_minor": 5
}
