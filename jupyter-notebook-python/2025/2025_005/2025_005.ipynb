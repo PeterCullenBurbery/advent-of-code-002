{
 "cells": [
  {
   "cell_type": "markdown",
   "id": "5de6cc47",
   "metadata": {},
   "source": [
    "# Advent of Code"
   ]
  },
  {
   "cell_type": "markdown",
   "id": "d62c6861",
   "metadata": {},
   "source": [
    "## 2025-012-005\n",
    "## 2025 005"
   ]
  },
  {
   "cell_type": "markdown",
   "id": "2b8beae6",
   "metadata": {},
   "source": [
    "https://adventofcode.com/2025/day/5"
   ]
  },
  {
   "cell_type": "code",
   "execution_count": null,
   "id": "98a880dc",
   "metadata": {},
   "outputs": [],
   "source": []
  }
 ],
 "metadata": {},
 "nbformat": 4,
 "nbformat_minor": 5
}
