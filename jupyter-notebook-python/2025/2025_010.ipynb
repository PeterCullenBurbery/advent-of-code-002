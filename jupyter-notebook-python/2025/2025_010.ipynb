{
 "cells": [
  {
   "cell_type": "markdown",
   "id": "9d7e0415",
   "metadata": {},
   "source": [
    "# Advent of Code"
   ]
  },
  {
   "cell_type": "markdown",
   "id": "e7918a92",
   "metadata": {},
   "source": [
    "## 2025-012-010\n",
    "## 2025 010"
   ]
  },
  {
   "cell_type": "markdown",
   "id": "d4679f36",
   "metadata": {},
   "source": [
    "https://adventofcode.com/2025/day/10"
   ]
  },
  {
   "cell_type": "code",
   "execution_count": null,
   "id": "0e42ed1a",
   "metadata": {},
   "outputs": [],
   "source": []
  }
 ],
 "metadata": {
  "kernelspec": {
   "display_name": "Python 3 (ipykernel)",
   "language": "python",
   "name": "python3"
  },
  "language_info": {
   "name": "python",
   "version": "3.12.3"
  }
 },
 "nbformat": 4,
 "nbformat_minor": 5
}
