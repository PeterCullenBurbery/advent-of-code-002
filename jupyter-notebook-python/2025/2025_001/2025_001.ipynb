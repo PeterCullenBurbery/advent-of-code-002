{
 "cells": [
  {
   "cell_type": "markdown",
   "id": "5a96be09",
   "metadata": {},
   "source": [
    "# Advent of Code"
   ]
  },
  {
   "cell_type": "markdown",
   "id": "82a4a604",
   "metadata": {},
   "source": [
    "## 2025-012-001\n",
    "## 2025 001"
   ]
  },
  {
   "cell_type": "markdown",
   "id": "0467f7f7",
   "metadata": {},
   "source": [
    "https://adventofcode.com/2025/day/1"
   ]
  },
  {
   "cell_type": "code",
   "execution_count": null,
   "id": "e34cbf2c",
   "metadata": {},
   "outputs": [],
   "source": []
  }
 ],
 "metadata": {},
 "nbformat": 4,
 "nbformat_minor": 5
}
