{
 "cells": [
  {
   "cell_type": "markdown",
   "id": "4917ee8b",
   "metadata": {},
   "source": [
    "# Advent of Code"
   ]
  },
  {
   "cell_type": "markdown",
   "id": "1c13dbd9",
   "metadata": {},
   "source": [
    "## 2025-012-003\n",
    "## 2025 003"
   ]
  },
  {
   "cell_type": "markdown",
   "id": "c4a994bd",
   "metadata": {},
   "source": [
    "https://adventofcode.com/2025/day/3"
   ]
  },
  {
   "cell_type": "code",
   "execution_count": null,
   "id": "c7120a9a",
   "metadata": {},
   "outputs": [],
   "source": []
  }
 ],
 "metadata": {},
 "nbformat": 4,
 "nbformat_minor": 5
}
