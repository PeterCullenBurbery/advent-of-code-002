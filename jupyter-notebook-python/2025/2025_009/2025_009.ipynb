{
 "cells": [
  {
   "cell_type": "markdown",
   "id": "31dcb1b5",
   "metadata": {},
   "source": [
    "# Advent of Code"
   ]
  },
  {
   "cell_type": "markdown",
   "id": "bec4f245",
   "metadata": {},
   "source": [
    "## 2025-012-009\n",
    "## 2025 009"
   ]
  },
  {
   "cell_type": "markdown",
   "id": "720985a8",
   "metadata": {},
   "source": [
    "https://adventofcode.com/2025/day/9"
   ]
  },
  {
   "cell_type": "code",
   "execution_count": null,
   "id": "5494b2b4",
   "metadata": {},
   "outputs": [],
   "source": []
  }
 ],
 "metadata": {},
 "nbformat": 4,
 "nbformat_minor": 5
}
