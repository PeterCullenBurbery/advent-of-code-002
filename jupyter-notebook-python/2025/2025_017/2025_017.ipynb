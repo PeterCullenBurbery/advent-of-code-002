{
 "cells": [
  {
   "cell_type": "markdown",
   "id": "35172e31",
   "metadata": {},
   "source": [
    "# Advent of Code"
   ]
  },
  {
   "cell_type": "markdown",
   "id": "f198ed13",
   "metadata": {},
   "source": [
    "## 2025-012-017\n",
    "## 2025 017"
   ]
  },
  {
   "cell_type": "markdown",
   "id": "fd1e27f8",
   "metadata": {},
   "source": [
    "https://adventofcode.com/2025/day/17"
   ]
  },
  {
   "cell_type": "code",
   "execution_count": null,
   "id": "8793e847",
   "metadata": {},
   "outputs": [],
   "source": []
  }
 ],
 "metadata": {},
 "nbformat": 4,
 "nbformat_minor": 5
}
