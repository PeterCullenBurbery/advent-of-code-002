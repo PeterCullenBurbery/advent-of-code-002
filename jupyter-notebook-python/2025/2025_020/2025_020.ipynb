{
 "cells": [
  {
   "cell_type": "markdown",
   "id": "e55ad01f",
   "metadata": {},
   "source": [
    "# Advent of Code"
   ]
  },
  {
   "cell_type": "markdown",
   "id": "6abaa326",
   "metadata": {},
   "source": [
    "## 2025-012-020\n",
    "## 2025 020"
   ]
  },
  {
   "cell_type": "markdown",
   "id": "60e87023",
   "metadata": {},
   "source": [
    "https://adventofcode.com/2025/day/20"
   ]
  },
  {
   "cell_type": "code",
   "execution_count": null,
   "id": "a8d05407",
   "metadata": {},
   "outputs": [],
   "source": []
  }
 ],
 "metadata": {},
 "nbformat": 4,
 "nbformat_minor": 5
}
