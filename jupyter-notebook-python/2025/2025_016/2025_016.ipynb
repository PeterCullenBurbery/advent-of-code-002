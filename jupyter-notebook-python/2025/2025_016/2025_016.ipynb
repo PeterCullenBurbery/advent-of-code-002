{
 "cells": [
  {
   "cell_type": "markdown",
   "id": "0bfa16ca",
   "metadata": {},
   "source": [
    "# Advent of Code"
   ]
  },
  {
   "cell_type": "markdown",
   "id": "9cb94478",
   "metadata": {},
   "source": [
    "## 2025-012-016\n",
    "## 2025 016"
   ]
  },
  {
   "cell_type": "markdown",
   "id": "80a059c3",
   "metadata": {},
   "source": [
    "https://adventofcode.com/2025/day/16"
   ]
  },
  {
   "cell_type": "code",
   "execution_count": null,
   "id": "4c02ac2d",
   "metadata": {},
   "outputs": [],
   "source": []
  }
 ],
 "metadata": {},
 "nbformat": 4,
 "nbformat_minor": 5
}
