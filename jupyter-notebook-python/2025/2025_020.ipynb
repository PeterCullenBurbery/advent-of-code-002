{
 "cells": [
  {
   "cell_type": "markdown",
   "id": "f6305e14",
   "metadata": {},
   "source": [
    "# Advent of Code"
   ]
  },
  {
   "cell_type": "markdown",
   "id": "183a9840",
   "metadata": {},
   "source": [
    "## 2025-012-020\n",
    "## 2025 020"
   ]
  },
  {
   "cell_type": "markdown",
   "id": "ddd9789b",
   "metadata": {},
   "source": [
    "https://adventofcode.com/2025/day/20"
   ]
  },
  {
   "cell_type": "code",
   "execution_count": null,
   "id": "09fd1c4e",
   "metadata": {},
   "outputs": [],
   "source": []
  }
 ],
 "metadata": {
  "kernelspec": {
   "display_name": "Python 3 (ipykernel)",
   "language": "python",
   "name": "python3"
  },
  "language_info": {
   "name": "python",
   "version": "3.12.3"
  }
 },
 "nbformat": 4,
 "nbformat_minor": 5
}
