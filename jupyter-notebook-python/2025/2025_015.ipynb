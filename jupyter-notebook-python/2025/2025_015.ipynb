{
 "cells": [
  {
   "cell_type": "markdown",
   "id": "36f6c8df",
   "metadata": {},
   "source": [
    "# Advent of Code"
   ]
  },
  {
   "cell_type": "markdown",
   "id": "e66cfd83",
   "metadata": {},
   "source": [
    "## 2025-012-015\n",
    "## 2025 015"
   ]
  },
  {
   "cell_type": "markdown",
   "id": "d1773d6b",
   "metadata": {},
   "source": [
    "https://adventofcode.com/2025/day/15"
   ]
  },
  {
   "cell_type": "code",
   "execution_count": null,
   "id": "d688ad37",
   "metadata": {},
   "outputs": [],
   "source": []
  }
 ],
 "metadata": {
  "kernelspec": {
   "display_name": "Python 3 (ipykernel)",
   "language": "python",
   "name": "python3"
  },
  "language_info": {
   "name": "python",
   "version": "3.12.3"
  }
 },
 "nbformat": 4,
 "nbformat_minor": 5
}
