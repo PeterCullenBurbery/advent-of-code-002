{
 "cells": [
  {
   "cell_type": "markdown",
   "id": "85297d3b",
   "metadata": {},
   "source": [
    "# Advent of Code"
   ]
  },
  {
   "cell_type": "markdown",
   "id": "fd2c0061",
   "metadata": {},
   "source": [
    "## 2026-012-016\n",
    "## 2026 016"
   ]
  },
  {
   "cell_type": "markdown",
   "id": "9492b991",
   "metadata": {},
   "source": [
    "https://adventofcode.com/2026/day/16"
   ]
  },
  {
   "cell_type": "code",
   "execution_count": null,
   "id": "0ebc40c9",
   "metadata": {},
   "outputs": [],
   "source": []
  }
 ],
 "metadata": {
  "kernelspec": {
   "display_name": "Python 3 (ipykernel)",
   "language": "python",
   "name": "python3"
  },
  "language_info": {
   "name": "python",
   "version": "3.12.3"
  }
 },
 "nbformat": 4,
 "nbformat_minor": 5
}
