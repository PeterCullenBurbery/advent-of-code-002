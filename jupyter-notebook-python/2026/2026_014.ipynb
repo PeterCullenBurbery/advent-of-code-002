{
 "cells": [
  {
   "cell_type": "markdown",
   "id": "ec9f8868",
   "metadata": {},
   "source": [
    "# Advent of Code"
   ]
  },
  {
   "cell_type": "markdown",
   "id": "201abc9f",
   "metadata": {},
   "source": [
    "## 2026-012-014\n",
    "## 2026 014"
   ]
  },
  {
   "cell_type": "markdown",
   "id": "5089228f",
   "metadata": {},
   "source": [
    "https://adventofcode.com/2026/day/14"
   ]
  },
  {
   "cell_type": "code",
   "execution_count": null,
   "id": "8138804f",
   "metadata": {},
   "outputs": [],
   "source": []
  }
 ],
 "metadata": {
  "kernelspec": {
   "display_name": "Python 3 (ipykernel)",
   "language": "python",
   "name": "python3"
  },
  "language_info": {
   "name": "python",
   "version": "3.12.3"
  }
 },
 "nbformat": 4,
 "nbformat_minor": 5
}
