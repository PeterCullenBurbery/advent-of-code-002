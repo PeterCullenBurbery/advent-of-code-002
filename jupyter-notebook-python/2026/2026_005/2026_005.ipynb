{
 "cells": [
  {
   "cell_type": "markdown",
   "id": "0945b859",
   "metadata": {},
   "source": [
    "# Advent of Code"
   ]
  },
  {
   "cell_type": "markdown",
   "id": "0eca2cb1",
   "metadata": {},
   "source": [
    "## 2026-012-005\n",
    "## 2026 005"
   ]
  },
  {
   "cell_type": "markdown",
   "id": "8808135d",
   "metadata": {},
   "source": [
    "https://adventofcode.com/2026/day/5"
   ]
  },
  {
   "cell_type": "code",
   "execution_count": null,
   "id": "653986b2",
   "metadata": {},
   "outputs": [],
   "source": []
  }
 ],
 "metadata": {},
 "nbformat": 4,
 "nbformat_minor": 5
}
