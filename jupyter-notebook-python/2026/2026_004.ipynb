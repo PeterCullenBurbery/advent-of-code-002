{
 "cells": [
  {
   "cell_type": "markdown",
   "id": "9cab3d64",
   "metadata": {},
   "source": [
    "# Advent of Code"
   ]
  },
  {
   "cell_type": "markdown",
   "id": "4ba87efe",
   "metadata": {},
   "source": [
    "## 2026-012-004\n",
    "## 2026 004"
   ]
  },
  {
   "cell_type": "markdown",
   "id": "0b0bf717",
   "metadata": {},
   "source": [
    "https://adventofcode.com/2026/day/4"
   ]
  },
  {
   "cell_type": "code",
   "execution_count": null,
   "id": "ca7c69b2",
   "metadata": {},
   "outputs": [],
   "source": []
  }
 ],
 "metadata": {
  "kernelspec": {
   "display_name": "Python 3 (ipykernel)",
   "language": "python",
   "name": "python3"
  },
  "language_info": {
   "name": "python",
   "version": "3.12.3"
  }
 },
 "nbformat": 4,
 "nbformat_minor": 5
}
