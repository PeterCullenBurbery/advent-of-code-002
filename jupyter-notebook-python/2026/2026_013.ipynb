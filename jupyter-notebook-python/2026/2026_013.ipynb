{
 "cells": [
  {
   "cell_type": "markdown",
   "id": "b1c2982d",
   "metadata": {},
   "source": [
    "# Advent of Code"
   ]
  },
  {
   "cell_type": "markdown",
   "id": "88d464cb",
   "metadata": {},
   "source": [
    "## 2026-012-013\n",
    "## 2026 013"
   ]
  },
  {
   "cell_type": "markdown",
   "id": "c96fc5ed",
   "metadata": {},
   "source": [
    "https://adventofcode.com/2026/day/13"
   ]
  },
  {
   "cell_type": "code",
   "execution_count": null,
   "id": "4721dd83",
   "metadata": {},
   "outputs": [],
   "source": []
  }
 ],
 "metadata": {
  "kernelspec": {
   "display_name": "Python 3 (ipykernel)",
   "language": "python",
   "name": "python3"
  },
  "language_info": {
   "name": "python",
   "version": "3.12.3"
  }
 },
 "nbformat": 4,
 "nbformat_minor": 5
}
