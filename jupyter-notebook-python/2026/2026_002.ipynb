{
 "cells": [
  {
   "cell_type": "markdown",
   "id": "46ca9911",
   "metadata": {},
   "source": [
    "# Advent of Code"
   ]
  },
  {
   "cell_type": "markdown",
   "id": "0cac80e0",
   "metadata": {},
   "source": [
    "## 2026-012-002\n",
    "## 2026 002"
   ]
  },
  {
   "cell_type": "markdown",
   "id": "c3956257",
   "metadata": {},
   "source": [
    "https://adventofcode.com/2026/day/2"
   ]
  },
  {
   "cell_type": "code",
   "execution_count": null,
   "id": "744f1a7d",
   "metadata": {},
   "outputs": [],
   "source": []
  }
 ],
 "metadata": {
  "kernelspec": {
   "display_name": "Python 3 (ipykernel)",
   "language": "python",
   "name": "python3"
  },
  "language_info": {
   "name": "python",
   "version": "3.12.3"
  }
 },
 "nbformat": 4,
 "nbformat_minor": 5
}
