{
 "cells": [
  {
   "cell_type": "markdown",
   "id": "381a050f",
   "metadata": {},
   "source": [
    "# Advent of Code"
   ]
  },
  {
   "cell_type": "markdown",
   "id": "f83effd4",
   "metadata": {},
   "source": [
    "## 2026-012-014\n",
    "## 2026 014"
   ]
  },
  {
   "cell_type": "markdown",
   "id": "8c8b5f5c",
   "metadata": {},
   "source": [
    "https://adventofcode.com/2026/day/14"
   ]
  },
  {
   "cell_type": "code",
   "execution_count": null,
   "id": "21671296",
   "metadata": {},
   "outputs": [],
   "source": []
  }
 ],
 "metadata": {},
 "nbformat": 4,
 "nbformat_minor": 5
}
