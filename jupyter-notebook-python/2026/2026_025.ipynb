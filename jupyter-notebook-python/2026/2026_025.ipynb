{
 "cells": [
  {
   "cell_type": "markdown",
   "id": "371a6aa9",
   "metadata": {},
   "source": [
    "# Advent of Code"
   ]
  },
  {
   "cell_type": "markdown",
   "id": "5b7fab94",
   "metadata": {},
   "source": [
    "## 2026-012-025\n",
    "## 2026 025"
   ]
  },
  {
   "cell_type": "markdown",
   "id": "63ef843f",
   "metadata": {},
   "source": [
    "https://adventofcode.com/2026/day/25"
   ]
  },
  {
   "cell_type": "code",
   "execution_count": null,
   "id": "a7b8764c",
   "metadata": {},
   "outputs": [],
   "source": []
  }
 ],
 "metadata": {
  "kernelspec": {
   "display_name": "Python 3 (ipykernel)",
   "language": "python",
   "name": "python3"
  },
  "language_info": {
   "name": "python",
   "version": "3.12.3"
  }
 },
 "nbformat": 4,
 "nbformat_minor": 5
}
