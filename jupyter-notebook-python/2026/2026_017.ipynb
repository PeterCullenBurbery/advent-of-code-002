{
 "cells": [
  {
   "cell_type": "markdown",
   "id": "284383d6",
   "metadata": {},
   "source": [
    "# Advent of Code"
   ]
  },
  {
   "cell_type": "markdown",
   "id": "d15d53dd",
   "metadata": {},
   "source": [
    "## 2026-012-017\n",
    "## 2026 017"
   ]
  },
  {
   "cell_type": "markdown",
   "id": "c6f007f8",
   "metadata": {},
   "source": [
    "https://adventofcode.com/2026/day/17"
   ]
  },
  {
   "cell_type": "code",
   "execution_count": null,
   "id": "e6b802fc",
   "metadata": {},
   "outputs": [],
   "source": []
  }
 ],
 "metadata": {
  "kernelspec": {
   "display_name": "Python 3 (ipykernel)",
   "language": "python",
   "name": "python3"
  },
  "language_info": {
   "name": "python",
   "version": "3.12.3"
  }
 },
 "nbformat": 4,
 "nbformat_minor": 5
}
