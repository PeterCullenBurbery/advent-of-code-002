{
 "cells": [
  {
   "cell_type": "markdown",
   "id": "07ef4f55",
   "metadata": {},
   "source": [
    "# Advent of Code"
   ]
  },
  {
   "cell_type": "markdown",
   "id": "d737c203",
   "metadata": {},
   "source": [
    "## 2026-012-015\n",
    "## 2026 015"
   ]
  },
  {
   "cell_type": "markdown",
   "id": "645a359e",
   "metadata": {},
   "source": [
    "https://adventofcode.com/2026/day/15"
   ]
  },
  {
   "cell_type": "code",
   "execution_count": null,
   "id": "6166382c",
   "metadata": {},
   "outputs": [],
   "source": []
  }
 ],
 "metadata": {
  "kernelspec": {
   "display_name": "Python 3 (ipykernel)",
   "language": "python",
   "name": "python3"
  },
  "language_info": {
   "name": "python",
   "version": "3.12.3"
  }
 },
 "nbformat": 4,
 "nbformat_minor": 5
}
