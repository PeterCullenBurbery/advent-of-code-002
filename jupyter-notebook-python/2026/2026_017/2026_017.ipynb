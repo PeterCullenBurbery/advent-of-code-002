{
 "cells": [
  {
   "cell_type": "markdown",
   "id": "f1f96c91",
   "metadata": {},
   "source": [
    "# Advent of Code"
   ]
  },
  {
   "cell_type": "markdown",
   "id": "6afd6989",
   "metadata": {},
   "source": [
    "## 2026-012-017\n",
    "## 2026 017"
   ]
  },
  {
   "cell_type": "markdown",
   "id": "4adcd879",
   "metadata": {},
   "source": [
    "https://adventofcode.com/2026/day/17"
   ]
  },
  {
   "cell_type": "code",
   "execution_count": null,
   "id": "b05e2045",
   "metadata": {},
   "outputs": [],
   "source": []
  }
 ],
 "metadata": {},
 "nbformat": 4,
 "nbformat_minor": 5
}
