{
 "cells": [
  {
   "cell_type": "markdown",
   "id": "5871a63a",
   "metadata": {},
   "source": [
    "# Advent of Code"
   ]
  },
  {
   "cell_type": "markdown",
   "id": "247b4a11",
   "metadata": {},
   "source": [
    "## 2026-012-020\n",
    "## 2026 020"
   ]
  },
  {
   "cell_type": "markdown",
   "id": "d3f7c5d3",
   "metadata": {},
   "source": [
    "https://adventofcode.com/2026/day/20"
   ]
  },
  {
   "cell_type": "code",
   "execution_count": null,
   "id": "0c254ae0",
   "metadata": {},
   "outputs": [],
   "source": []
  }
 ],
 "metadata": {
  "kernelspec": {
   "display_name": "Python 3 (ipykernel)",
   "language": "python",
   "name": "python3"
  },
  "language_info": {
   "name": "python",
   "version": "3.12.3"
  }
 },
 "nbformat": 4,
 "nbformat_minor": 5
}
