{
 "cells": [
  {
   "cell_type": "markdown",
   "id": "096e60dc",
   "metadata": {},
   "source": [
    "# Advent of Code"
   ]
  },
  {
   "cell_type": "markdown",
   "id": "7b93c043",
   "metadata": {},
   "source": [
    "## 2026-012-020\n",
    "## 2026 020"
   ]
  },
  {
   "cell_type": "markdown",
   "id": "c51921bb",
   "metadata": {},
   "source": [
    "https://adventofcode.com/2026/day/20"
   ]
  },
  {
   "cell_type": "code",
   "execution_count": null,
   "id": "4102cf28",
   "metadata": {},
   "outputs": [],
   "source": []
  }
 ],
 "metadata": {},
 "nbformat": 4,
 "nbformat_minor": 5
}
