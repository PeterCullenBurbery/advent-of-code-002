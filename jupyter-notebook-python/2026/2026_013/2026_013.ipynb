{
 "cells": [
  {
   "cell_type": "markdown",
   "id": "9d6fc973",
   "metadata": {},
   "source": [
    "# Advent of Code"
   ]
  },
  {
   "cell_type": "markdown",
   "id": "45fde340",
   "metadata": {},
   "source": [
    "## 2026-012-013\n",
    "## 2026 013"
   ]
  },
  {
   "cell_type": "markdown",
   "id": "6a43c126",
   "metadata": {},
   "source": [
    "https://adventofcode.com/2026/day/13"
   ]
  },
  {
   "cell_type": "code",
   "execution_count": null,
   "id": "22ab97ac",
   "metadata": {},
   "outputs": [],
   "source": []
  }
 ],
 "metadata": {},
 "nbformat": 4,
 "nbformat_minor": 5
}
