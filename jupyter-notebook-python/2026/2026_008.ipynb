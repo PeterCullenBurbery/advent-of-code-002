{
 "cells": [
  {
   "cell_type": "markdown",
   "id": "2d640c9a",
   "metadata": {},
   "source": [
    "# Advent of Code"
   ]
  },
  {
   "cell_type": "markdown",
   "id": "55c2b9f0",
   "metadata": {},
   "source": [
    "## 2026-012-008\n",
    "## 2026 008"
   ]
  },
  {
   "cell_type": "markdown",
   "id": "6284c398",
   "metadata": {},
   "source": [
    "https://adventofcode.com/2026/day/8"
   ]
  },
  {
   "cell_type": "code",
   "execution_count": null,
   "id": "861f17df",
   "metadata": {},
   "outputs": [],
   "source": []
  }
 ],
 "metadata": {
  "kernelspec": {
   "display_name": "Python 3 (ipykernel)",
   "language": "python",
   "name": "python3"
  },
  "language_info": {
   "name": "python",
   "version": "3.12.3"
  }
 },
 "nbformat": 4,
 "nbformat_minor": 5
}
