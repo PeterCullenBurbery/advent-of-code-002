{
 "cells": [
  {
   "cell_type": "markdown",
   "id": "b1d71cc0",
   "metadata": {},
   "source": [
    "# Advent of Code"
   ]
  },
  {
   "cell_type": "markdown",
   "id": "ab475017",
   "metadata": {},
   "source": [
    "## 2026-012-012\n",
    "## 2026 012"
   ]
  },
  {
   "cell_type": "markdown",
   "id": "a8723b94",
   "metadata": {},
   "source": [
    "https://adventofcode.com/2026/day/12"
   ]
  },
  {
   "cell_type": "code",
   "execution_count": null,
   "id": "11b770a5",
   "metadata": {},
   "outputs": [],
   "source": []
  }
 ],
 "metadata": {
  "kernelspec": {
   "display_name": "Python 3 (ipykernel)",
   "language": "python",
   "name": "python3"
  },
  "language_info": {
   "name": "python",
   "version": "3.12.3"
  }
 },
 "nbformat": 4,
 "nbformat_minor": 5
}
