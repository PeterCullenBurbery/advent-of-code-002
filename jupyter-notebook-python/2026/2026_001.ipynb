{
 "cells": [
  {
   "cell_type": "markdown",
   "id": "19db8fba",
   "metadata": {},
   "source": [
    "# Advent of Code"
   ]
  },
  {
   "cell_type": "markdown",
   "id": "1e1c79b9",
   "metadata": {},
   "source": [
    "## 2026-012-001\n",
    "## 2026 001"
   ]
  },
  {
   "cell_type": "markdown",
   "id": "cab0602d",
   "metadata": {},
   "source": [
    "https://adventofcode.com/2026/day/1"
   ]
  },
  {
   "cell_type": "code",
   "execution_count": null,
   "id": "5650c35e",
   "metadata": {},
   "outputs": [],
   "source": []
  }
 ],
 "metadata": {
  "kernelspec": {
   "display_name": "Python 3 (ipykernel)",
   "language": "python",
   "name": "python3"
  },
  "language_info": {
   "name": "python",
   "version": "3.12.3"
  }
 },
 "nbformat": 4,
 "nbformat_minor": 5
}
