{
 "cells": [
  {
   "cell_type": "markdown",
   "id": "67aeb4fc",
   "metadata": {},
   "source": [
    "# Advent of Code"
   ]
  },
  {
   "cell_type": "markdown",
   "id": "7497ec88",
   "metadata": {},
   "source": [
    "## 2034-012-003\n",
    "## 2034 003"
   ]
  },
  {
   "cell_type": "markdown",
   "id": "d6cc389d",
   "metadata": {},
   "source": [
    "https://adventofcode.com/2034/day/3"
   ]
  },
  {
   "cell_type": "code",
   "execution_count": null,
   "id": "bd1dd5fc",
   "metadata": {},
   "outputs": [],
   "source": []
  }
 ],
 "metadata": {
  "kernelspec": {
   "display_name": "Python 3 (ipykernel)",
   "language": "python",
   "name": "python3"
  },
  "language_info": {
   "name": "python",
   "version": "3.12.3"
  }
 },
 "nbformat": 4,
 "nbformat_minor": 5
}
