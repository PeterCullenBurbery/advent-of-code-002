{
 "cells": [
  {
   "cell_type": "markdown",
   "id": "f0abd366",
   "metadata": {},
   "source": [
    "# Advent of Code"
   ]
  },
  {
   "cell_type": "markdown",
   "id": "2d2b4359",
   "metadata": {},
   "source": [
    "## 2034-012-012\n",
    "## 2034 012"
   ]
  },
  {
   "cell_type": "markdown",
   "id": "239b0962",
   "metadata": {},
   "source": [
    "https://adventofcode.com/2034/day/12"
   ]
  },
  {
   "cell_type": "code",
   "execution_count": null,
   "id": "9690ae7f",
   "metadata": {},
   "outputs": [],
   "source": []
  }
 ],
 "metadata": {},
 "nbformat": 4,
 "nbformat_minor": 5
}
