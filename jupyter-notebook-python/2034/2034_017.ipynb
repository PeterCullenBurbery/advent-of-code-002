{
 "cells": [
  {
   "cell_type": "markdown",
   "id": "38b85427",
   "metadata": {},
   "source": [
    "# Advent of Code"
   ]
  },
  {
   "cell_type": "markdown",
   "id": "e5b0a549",
   "metadata": {},
   "source": [
    "## 2034-012-017\n",
    "## 2034 017"
   ]
  },
  {
   "cell_type": "markdown",
   "id": "d5f6ef7c",
   "metadata": {},
   "source": [
    "https://adventofcode.com/2034/day/17"
   ]
  },
  {
   "cell_type": "code",
   "execution_count": null,
   "id": "0dab9855",
   "metadata": {},
   "outputs": [],
   "source": []
  }
 ],
 "metadata": {
  "kernelspec": {
   "display_name": "Python 3 (ipykernel)",
   "language": "python",
   "name": "python3"
  },
  "language_info": {
   "name": "python",
   "version": "3.12.3"
  }
 },
 "nbformat": 4,
 "nbformat_minor": 5
}
