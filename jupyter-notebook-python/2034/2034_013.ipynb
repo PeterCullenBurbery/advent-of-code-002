{
 "cells": [
  {
   "cell_type": "markdown",
   "id": "4e3e5b44",
   "metadata": {},
   "source": [
    "# Advent of Code"
   ]
  },
  {
   "cell_type": "markdown",
   "id": "1f9e6b6c",
   "metadata": {},
   "source": [
    "## 2034-012-013\n",
    "## 2034 013"
   ]
  },
  {
   "cell_type": "markdown",
   "id": "39d21fd2",
   "metadata": {},
   "source": [
    "https://adventofcode.com/2034/day/13"
   ]
  },
  {
   "cell_type": "code",
   "execution_count": null,
   "id": "3a3175ee",
   "metadata": {},
   "outputs": [],
   "source": []
  }
 ],
 "metadata": {
  "kernelspec": {
   "display_name": "Python 3 (ipykernel)",
   "language": "python",
   "name": "python3"
  },
  "language_info": {
   "name": "python",
   "version": "3.12.3"
  }
 },
 "nbformat": 4,
 "nbformat_minor": 5
}
