{
 "cells": [
  {
   "cell_type": "markdown",
   "id": "112d5ccc",
   "metadata": {},
   "source": [
    "# Advent of Code"
   ]
  },
  {
   "cell_type": "markdown",
   "id": "6c982f15",
   "metadata": {},
   "source": [
    "## 2034-012-013\n",
    "## 2034 013"
   ]
  },
  {
   "cell_type": "markdown",
   "id": "b31ee545",
   "metadata": {},
   "source": [
    "https://adventofcode.com/2034/day/13"
   ]
  },
  {
   "cell_type": "code",
   "execution_count": null,
   "id": "31a05af6",
   "metadata": {},
   "outputs": [],
   "source": []
  }
 ],
 "metadata": {},
 "nbformat": 4,
 "nbformat_minor": 5
}
