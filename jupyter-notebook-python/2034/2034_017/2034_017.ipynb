{
 "cells": [
  {
   "cell_type": "markdown",
   "id": "78b73a6a",
   "metadata": {},
   "source": [
    "# Advent of Code"
   ]
  },
  {
   "cell_type": "markdown",
   "id": "f2fc4700",
   "metadata": {},
   "source": [
    "## 2034-012-017\n",
    "## 2034 017"
   ]
  },
  {
   "cell_type": "markdown",
   "id": "06138fdb",
   "metadata": {},
   "source": [
    "https://adventofcode.com/2034/day/17"
   ]
  },
  {
   "cell_type": "code",
   "execution_count": null,
   "id": "8e9e2f2f",
   "metadata": {},
   "outputs": [],
   "source": []
  }
 ],
 "metadata": {},
 "nbformat": 4,
 "nbformat_minor": 5
}
