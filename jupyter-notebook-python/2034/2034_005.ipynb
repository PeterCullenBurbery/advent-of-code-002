{
 "cells": [
  {
   "cell_type": "markdown",
   "id": "6680a148",
   "metadata": {},
   "source": [
    "# Advent of Code"
   ]
  },
  {
   "cell_type": "markdown",
   "id": "37fdbb92",
   "metadata": {},
   "source": [
    "## 2034-012-005\n",
    "## 2034 005"
   ]
  },
  {
   "cell_type": "markdown",
   "id": "e82fb070",
   "metadata": {},
   "source": [
    "https://adventofcode.com/2034/day/5"
   ]
  },
  {
   "cell_type": "code",
   "execution_count": null,
   "id": "e0eaffc8",
   "metadata": {},
   "outputs": [],
   "source": []
  }
 ],
 "metadata": {
  "kernelspec": {
   "display_name": "Python 3 (ipykernel)",
   "language": "python",
   "name": "python3"
  },
  "language_info": {
   "name": "python",
   "version": "3.12.3"
  }
 },
 "nbformat": 4,
 "nbformat_minor": 5
}
