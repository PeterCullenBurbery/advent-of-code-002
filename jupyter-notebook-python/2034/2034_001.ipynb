{
 "cells": [
  {
   "cell_type": "markdown",
   "id": "b8405580",
   "metadata": {},
   "source": [
    "# Advent of Code"
   ]
  },
  {
   "cell_type": "markdown",
   "id": "af788deb",
   "metadata": {},
   "source": [
    "## 2034-012-001\n",
    "## 2034 001"
   ]
  },
  {
   "cell_type": "markdown",
   "id": "8d215d0d",
   "metadata": {},
   "source": [
    "https://adventofcode.com/2034/day/1"
   ]
  },
  {
   "cell_type": "code",
   "execution_count": null,
   "id": "c5bb2a6e",
   "metadata": {},
   "outputs": [],
   "source": []
  }
 ],
 "metadata": {
  "kernelspec": {
   "display_name": "Python 3 (ipykernel)",
   "language": "python",
   "name": "python3"
  },
  "language_info": {
   "name": "python",
   "version": "3.12.3"
  }
 },
 "nbformat": 4,
 "nbformat_minor": 5
}
