{
 "cells": [
  {
   "cell_type": "markdown",
   "id": "ddb99611",
   "metadata": {},
   "source": [
    "# Advent of Code"
   ]
  },
  {
   "cell_type": "markdown",
   "id": "19b296ef",
   "metadata": {},
   "source": [
    "## 2034-012-002\n",
    "## 2034 002"
   ]
  },
  {
   "cell_type": "markdown",
   "id": "4eb96069",
   "metadata": {},
   "source": [
    "https://adventofcode.com/2034/day/2"
   ]
  },
  {
   "cell_type": "code",
   "execution_count": null,
   "id": "24b9c72b",
   "metadata": {},
   "outputs": [],
   "source": []
  }
 ],
 "metadata": {},
 "nbformat": 4,
 "nbformat_minor": 5
}
