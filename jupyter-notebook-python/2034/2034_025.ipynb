{
 "cells": [
  {
   "cell_type": "markdown",
   "id": "d38f4322",
   "metadata": {},
   "source": [
    "# Advent of Code"
   ]
  },
  {
   "cell_type": "markdown",
   "id": "aa7eedec",
   "metadata": {},
   "source": [
    "## 2034-012-025\n",
    "## 2034 025"
   ]
  },
  {
   "cell_type": "markdown",
   "id": "4b75e257",
   "metadata": {},
   "source": [
    "https://adventofcode.com/2034/day/25"
   ]
  },
  {
   "cell_type": "code",
   "execution_count": null,
   "id": "54b8268d",
   "metadata": {},
   "outputs": [],
   "source": []
  }
 ],
 "metadata": {
  "kernelspec": {
   "display_name": "Python 3 (ipykernel)",
   "language": "python",
   "name": "python3"
  },
  "language_info": {
   "name": "python",
   "version": "3.12.3"
  }
 },
 "nbformat": 4,
 "nbformat_minor": 5
}
