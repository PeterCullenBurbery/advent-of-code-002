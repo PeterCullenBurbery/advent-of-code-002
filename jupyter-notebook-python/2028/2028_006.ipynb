{
 "cells": [
  {
   "cell_type": "markdown",
   "id": "c00eb9ef",
   "metadata": {},
   "source": [
    "# Advent of Code"
   ]
  },
  {
   "cell_type": "markdown",
   "id": "ff5a8b5c",
   "metadata": {},
   "source": [
    "## 2028-012-006\n",
    "## 2028 006"
   ]
  },
  {
   "cell_type": "markdown",
   "id": "31972761",
   "metadata": {},
   "source": [
    "https://adventofcode.com/2028/day/6"
   ]
  },
  {
   "cell_type": "code",
   "execution_count": null,
   "id": "c7a078d1",
   "metadata": {},
   "outputs": [],
   "source": []
  }
 ],
 "metadata": {
  "kernelspec": {
   "display_name": "Python 3 (ipykernel)",
   "language": "python",
   "name": "python3"
  },
  "language_info": {
   "name": "python",
   "version": "3.12.3"
  }
 },
 "nbformat": 4,
 "nbformat_minor": 5
}
