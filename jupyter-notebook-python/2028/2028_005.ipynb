{
 "cells": [
  {
   "cell_type": "markdown",
   "id": "076284d1",
   "metadata": {},
   "source": [
    "# Advent of Code"
   ]
  },
  {
   "cell_type": "markdown",
   "id": "2be61619",
   "metadata": {},
   "source": [
    "## 2028-012-005\n",
    "## 2028 005"
   ]
  },
  {
   "cell_type": "markdown",
   "id": "c5d86a4a",
   "metadata": {},
   "source": [
    "https://adventofcode.com/2028/day/5"
   ]
  },
  {
   "cell_type": "code",
   "execution_count": null,
   "id": "353eaed7",
   "metadata": {},
   "outputs": [],
   "source": []
  }
 ],
 "metadata": {
  "kernelspec": {
   "display_name": "Python 3 (ipykernel)",
   "language": "python",
   "name": "python3"
  },
  "language_info": {
   "name": "python",
   "version": "3.12.3"
  }
 },
 "nbformat": 4,
 "nbformat_minor": 5
}
