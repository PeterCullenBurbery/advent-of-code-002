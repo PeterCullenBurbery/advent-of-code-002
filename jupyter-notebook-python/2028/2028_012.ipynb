{
 "cells": [
  {
   "cell_type": "markdown",
   "id": "ebdf26a1",
   "metadata": {},
   "source": [
    "# Advent of Code"
   ]
  },
  {
   "cell_type": "markdown",
   "id": "abd679ee",
   "metadata": {},
   "source": [
    "## 2028-012-012\n",
    "## 2028 012"
   ]
  },
  {
   "cell_type": "markdown",
   "id": "5e8a0d71",
   "metadata": {},
   "source": [
    "https://adventofcode.com/2028/day/12"
   ]
  },
  {
   "cell_type": "code",
   "execution_count": null,
   "id": "188501e9",
   "metadata": {},
   "outputs": [],
   "source": []
  }
 ],
 "metadata": {
  "kernelspec": {
   "display_name": "Python 3 (ipykernel)",
   "language": "python",
   "name": "python3"
  },
  "language_info": {
   "name": "python",
   "version": "3.12.3"
  }
 },
 "nbformat": 4,
 "nbformat_minor": 5
}
