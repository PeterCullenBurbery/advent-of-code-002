{
 "cells": [
  {
   "cell_type": "markdown",
   "id": "ae1cf027",
   "metadata": {},
   "source": [
    "# Advent of Code"
   ]
  },
  {
   "cell_type": "markdown",
   "id": "d4fa31f6",
   "metadata": {},
   "source": [
    "## 2028-012-017\n",
    "## 2028 017"
   ]
  },
  {
   "cell_type": "markdown",
   "id": "d2fc2509",
   "metadata": {},
   "source": [
    "https://adventofcode.com/2028/day/17"
   ]
  },
  {
   "cell_type": "code",
   "execution_count": null,
   "id": "ffecab6d",
   "metadata": {},
   "outputs": [],
   "source": []
  }
 ],
 "metadata": {
  "kernelspec": {
   "display_name": "Python 3 (ipykernel)",
   "language": "python",
   "name": "python3"
  },
  "language_info": {
   "name": "python",
   "version": "3.12.3"
  }
 },
 "nbformat": 4,
 "nbformat_minor": 5
}
