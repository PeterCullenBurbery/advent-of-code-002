{
 "cells": [
  {
   "cell_type": "markdown",
   "id": "0f04766d",
   "metadata": {},
   "source": [
    "# Advent of Code"
   ]
  },
  {
   "cell_type": "markdown",
   "id": "c8109b0e",
   "metadata": {},
   "source": [
    "## 2028-012-013\n",
    "## 2028 013"
   ]
  },
  {
   "cell_type": "markdown",
   "id": "f87aec56",
   "metadata": {},
   "source": [
    "https://adventofcode.com/2028/day/13"
   ]
  },
  {
   "cell_type": "code",
   "execution_count": null,
   "id": "c00765bb",
   "metadata": {},
   "outputs": [],
   "source": []
  }
 ],
 "metadata": {},
 "nbformat": 4,
 "nbformat_minor": 5
}
