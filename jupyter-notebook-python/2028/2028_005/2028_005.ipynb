{
 "cells": [
  {
   "cell_type": "markdown",
   "id": "250762da",
   "metadata": {},
   "source": [
    "# Advent of Code"
   ]
  },
  {
   "cell_type": "markdown",
   "id": "640fd3d9",
   "metadata": {},
   "source": [
    "## 2028-012-005\n",
    "## 2028 005"
   ]
  },
  {
   "cell_type": "markdown",
   "id": "a1fc26af",
   "metadata": {},
   "source": [
    "https://adventofcode.com/2028/day/5"
   ]
  },
  {
   "cell_type": "code",
   "execution_count": null,
   "id": "df369fb9",
   "metadata": {},
   "outputs": [],
   "source": []
  }
 ],
 "metadata": {},
 "nbformat": 4,
 "nbformat_minor": 5
}
