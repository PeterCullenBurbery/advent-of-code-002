{
 "cells": [
  {
   "cell_type": "markdown",
   "id": "6dfe4b95",
   "metadata": {},
   "source": [
    "# Advent of Code"
   ]
  },
  {
   "cell_type": "markdown",
   "id": "3be99fda",
   "metadata": {},
   "source": [
    "## 2028-012-025\n",
    "## 2028 025"
   ]
  },
  {
   "cell_type": "markdown",
   "id": "daad0d37",
   "metadata": {},
   "source": [
    "https://adventofcode.com/2028/day/25"
   ]
  },
  {
   "cell_type": "code",
   "execution_count": null,
   "id": "c66bb2bf",
   "metadata": {},
   "outputs": [],
   "source": []
  }
 ],
 "metadata": {},
 "nbformat": 4,
 "nbformat_minor": 5
}
