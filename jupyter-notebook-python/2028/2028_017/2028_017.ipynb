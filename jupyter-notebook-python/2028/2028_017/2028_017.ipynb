{
 "cells": [
  {
   "cell_type": "markdown",
   "id": "064dadb0",
   "metadata": {},
   "source": [
    "# Advent of Code"
   ]
  },
  {
   "cell_type": "markdown",
   "id": "6ec8a4ec",
   "metadata": {},
   "source": [
    "## 2028-012-017\n",
    "## 2028 017"
   ]
  },
  {
   "cell_type": "markdown",
   "id": "ccba325f",
   "metadata": {},
   "source": [
    "https://adventofcode.com/2028/day/17"
   ]
  },
  {
   "cell_type": "code",
   "execution_count": null,
   "id": "d13293aa",
   "metadata": {},
   "outputs": [],
   "source": []
  }
 ],
 "metadata": {},
 "nbformat": 4,
 "nbformat_minor": 5
}
