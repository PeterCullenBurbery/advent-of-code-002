{
 "cells": [
  {
   "cell_type": "markdown",
   "id": "0915c39f",
   "metadata": {},
   "source": [
    "# Advent of Code"
   ]
  },
  {
   "cell_type": "markdown",
   "id": "c5ec53b4",
   "metadata": {},
   "source": [
    "## 2028-012-014\n",
    "## 2028 014"
   ]
  },
  {
   "cell_type": "markdown",
   "id": "9a311ad0",
   "metadata": {},
   "source": [
    "https://adventofcode.com/2028/day/14"
   ]
  },
  {
   "cell_type": "code",
   "execution_count": null,
   "id": "c0e03d7d",
   "metadata": {},
   "outputs": [],
   "source": []
  }
 ],
 "metadata": {},
 "nbformat": 4,
 "nbformat_minor": 5
}
