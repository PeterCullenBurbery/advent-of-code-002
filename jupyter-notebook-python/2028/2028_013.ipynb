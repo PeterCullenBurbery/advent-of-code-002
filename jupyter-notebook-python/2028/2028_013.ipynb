{
 "cells": [
  {
   "cell_type": "markdown",
   "id": "07f39c1d",
   "metadata": {},
   "source": [
    "# Advent of Code"
   ]
  },
  {
   "cell_type": "markdown",
   "id": "718cdc03",
   "metadata": {},
   "source": [
    "## 2028-012-013\n",
    "## 2028 013"
   ]
  },
  {
   "cell_type": "markdown",
   "id": "0691542b",
   "metadata": {},
   "source": [
    "https://adventofcode.com/2028/day/13"
   ]
  },
  {
   "cell_type": "code",
   "execution_count": null,
   "id": "4633f766",
   "metadata": {},
   "outputs": [],
   "source": []
  }
 ],
 "metadata": {
  "kernelspec": {
   "display_name": "Python 3 (ipykernel)",
   "language": "python",
   "name": "python3"
  },
  "language_info": {
   "name": "python",
   "version": "3.12.3"
  }
 },
 "nbformat": 4,
 "nbformat_minor": 5
}
