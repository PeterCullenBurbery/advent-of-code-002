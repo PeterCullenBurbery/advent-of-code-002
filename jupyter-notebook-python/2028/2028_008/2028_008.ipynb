{
 "cells": [
  {
   "cell_type": "markdown",
   "id": "7c553c78",
   "metadata": {},
   "source": [
    "# Advent of Code"
   ]
  },
  {
   "cell_type": "markdown",
   "id": "a1324e42",
   "metadata": {},
   "source": [
    "## 2028-012-008\n",
    "## 2028 008"
   ]
  },
  {
   "cell_type": "markdown",
   "id": "267bd486",
   "metadata": {},
   "source": [
    "https://adventofcode.com/2028/day/8"
   ]
  },
  {
   "cell_type": "code",
   "execution_count": null,
   "id": "1179f3bc",
   "metadata": {},
   "outputs": [],
   "source": []
  }
 ],
 "metadata": {},
 "nbformat": 4,
 "nbformat_minor": 5
}
