{
 "cells": [
  {
   "cell_type": "markdown",
   "id": "1d5f0aa3",
   "metadata": {},
   "source": [
    "# Advent of Code"
   ]
  },
  {
   "cell_type": "markdown",
   "id": "e49b9b8c",
   "metadata": {},
   "source": [
    "## 2028-012-024\n",
    "## 2028 024"
   ]
  },
  {
   "cell_type": "markdown",
   "id": "894fcc15",
   "metadata": {},
   "source": [
    "https://adventofcode.com/2028/day/24"
   ]
  },
  {
   "cell_type": "code",
   "execution_count": null,
   "id": "d8fc01c6",
   "metadata": {},
   "outputs": [],
   "source": []
  }
 ],
 "metadata": {
  "kernelspec": {
   "display_name": "Python 3 (ipykernel)",
   "language": "python",
   "name": "python3"
  },
  "language_info": {
   "name": "python",
   "version": "3.12.3"
  }
 },
 "nbformat": 4,
 "nbformat_minor": 5
}
