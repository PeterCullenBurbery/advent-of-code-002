{
 "cells": [
  {
   "cell_type": "markdown",
   "id": "193c0b58",
   "metadata": {},
   "source": [
    "# Advent of Code"
   ]
  },
  {
   "cell_type": "markdown",
   "id": "ace6e446",
   "metadata": {},
   "source": [
    "## 2028-012-009\n",
    "## 2028 009"
   ]
  },
  {
   "cell_type": "markdown",
   "id": "0d070419",
   "metadata": {},
   "source": [
    "https://adventofcode.com/2028/day/9"
   ]
  },
  {
   "cell_type": "code",
   "execution_count": null,
   "id": "e1f6fad5",
   "metadata": {},
   "outputs": [],
   "source": []
  }
 ],
 "metadata": {
  "kernelspec": {
   "display_name": "Python 3 (ipykernel)",
   "language": "python",
   "name": "python3"
  },
  "language_info": {
   "name": "python",
   "version": "3.12.3"
  }
 },
 "nbformat": 4,
 "nbformat_minor": 5
}
