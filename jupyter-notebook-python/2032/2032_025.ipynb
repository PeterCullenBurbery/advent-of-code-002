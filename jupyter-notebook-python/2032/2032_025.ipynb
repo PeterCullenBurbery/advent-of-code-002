{
 "cells": [
  {
   "cell_type": "markdown",
   "id": "7d65ecd7",
   "metadata": {},
   "source": [
    "# Advent of Code"
   ]
  },
  {
   "cell_type": "markdown",
   "id": "9a6fa70d",
   "metadata": {},
   "source": [
    "## 2032-012-025\n",
    "## 2032 025"
   ]
  },
  {
   "cell_type": "markdown",
   "id": "6ac6e05e",
   "metadata": {},
   "source": [
    "https://adventofcode.com/2032/day/25"
   ]
  },
  {
   "cell_type": "code",
   "execution_count": null,
   "id": "615b7858",
   "metadata": {},
   "outputs": [],
   "source": []
  }
 ],
 "metadata": {
  "kernelspec": {
   "display_name": "Python 3 (ipykernel)",
   "language": "python",
   "name": "python3"
  },
  "language_info": {
   "name": "python",
   "version": "3.12.3"
  }
 },
 "nbformat": 4,
 "nbformat_minor": 5
}
