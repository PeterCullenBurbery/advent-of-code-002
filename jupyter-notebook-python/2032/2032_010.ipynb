{
 "cells": [
  {
   "cell_type": "markdown",
   "id": "e03a6e87",
   "metadata": {},
   "source": [
    "# Advent of Code"
   ]
  },
  {
   "cell_type": "markdown",
   "id": "19f49a27",
   "metadata": {},
   "source": [
    "## 2032-012-010\n",
    "## 2032 010"
   ]
  },
  {
   "cell_type": "markdown",
   "id": "aa1df52e",
   "metadata": {},
   "source": [
    "https://adventofcode.com/2032/day/10"
   ]
  },
  {
   "cell_type": "code",
   "execution_count": null,
   "id": "dd0b3ea3",
   "metadata": {},
   "outputs": [],
   "source": []
  }
 ],
 "metadata": {
  "kernelspec": {
   "display_name": "Python 3 (ipykernel)",
   "language": "python",
   "name": "python3"
  },
  "language_info": {
   "name": "python",
   "version": "3.12.3"
  }
 },
 "nbformat": 4,
 "nbformat_minor": 5
}
