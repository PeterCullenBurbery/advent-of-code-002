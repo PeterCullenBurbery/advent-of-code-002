{
 "cells": [
  {
   "cell_type": "markdown",
   "id": "88404b79",
   "metadata": {},
   "source": [
    "# Advent of Code"
   ]
  },
  {
   "cell_type": "markdown",
   "id": "6823d118",
   "metadata": {},
   "source": [
    "## 2032-012-017\n",
    "## 2032 017"
   ]
  },
  {
   "cell_type": "markdown",
   "id": "17b18288",
   "metadata": {},
   "source": [
    "https://adventofcode.com/2032/day/17"
   ]
  },
  {
   "cell_type": "code",
   "execution_count": null,
   "id": "f21d068d",
   "metadata": {},
   "outputs": [],
   "source": []
  }
 ],
 "metadata": {
  "kernelspec": {
   "display_name": "Python 3 (ipykernel)",
   "language": "python",
   "name": "python3"
  },
  "language_info": {
   "name": "python",
   "version": "3.12.3"
  }
 },
 "nbformat": 4,
 "nbformat_minor": 5
}
