{
 "cells": [
  {
   "cell_type": "markdown",
   "id": "ffed78ac",
   "metadata": {},
   "source": [
    "# Advent of Code"
   ]
  },
  {
   "cell_type": "markdown",
   "id": "8a07bc0a",
   "metadata": {},
   "source": [
    "## 2032-012-023\n",
    "## 2032 023"
   ]
  },
  {
   "cell_type": "markdown",
   "id": "d7bf1f41",
   "metadata": {},
   "source": [
    "https://adventofcode.com/2032/day/23"
   ]
  },
  {
   "cell_type": "code",
   "execution_count": null,
   "id": "88120723",
   "metadata": {},
   "outputs": [],
   "source": []
  }
 ],
 "metadata": {
  "kernelspec": {
   "display_name": "Python 3 (ipykernel)",
   "language": "python",
   "name": "python3"
  },
  "language_info": {
   "name": "python",
   "version": "3.12.3"
  }
 },
 "nbformat": 4,
 "nbformat_minor": 5
}
