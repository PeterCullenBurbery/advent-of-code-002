{
 "cells": [
  {
   "cell_type": "markdown",
   "id": "f430d082",
   "metadata": {},
   "source": [
    "# Advent of Code"
   ]
  },
  {
   "cell_type": "markdown",
   "id": "2ce10f09",
   "metadata": {},
   "source": [
    "## 2032-012-007\n",
    "## 2032 007"
   ]
  },
  {
   "cell_type": "markdown",
   "id": "0af589f1",
   "metadata": {},
   "source": [
    "https://adventofcode.com/2032/day/7"
   ]
  },
  {
   "cell_type": "code",
   "execution_count": null,
   "id": "8fce7991",
   "metadata": {},
   "outputs": [],
   "source": []
  }
 ],
 "metadata": {},
 "nbformat": 4,
 "nbformat_minor": 5
}
