{
 "cells": [
  {
   "cell_type": "markdown",
   "id": "4cbc7ed7",
   "metadata": {},
   "source": [
    "# Advent of Code"
   ]
  },
  {
   "cell_type": "markdown",
   "id": "90c6049e",
   "metadata": {},
   "source": [
    "## 2032-012-009\n",
    "## 2032 009"
   ]
  },
  {
   "cell_type": "markdown",
   "id": "dd00628c",
   "metadata": {},
   "source": [
    "https://adventofcode.com/2032/day/9"
   ]
  },
  {
   "cell_type": "code",
   "execution_count": null,
   "id": "aff7a440",
   "metadata": {},
   "outputs": [],
   "source": []
  }
 ],
 "metadata": {
  "kernelspec": {
   "display_name": "Python 3 (ipykernel)",
   "language": "python",
   "name": "python3"
  },
  "language_info": {
   "name": "python",
   "version": "3.12.3"
  }
 },
 "nbformat": 4,
 "nbformat_minor": 5
}
