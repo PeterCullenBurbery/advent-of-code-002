{
 "cells": [
  {
   "cell_type": "markdown",
   "id": "9cecfeae",
   "metadata": {},
   "source": [
    "# Advent of Code"
   ]
  },
  {
   "cell_type": "markdown",
   "id": "8fc7bd7e",
   "metadata": {},
   "source": [
    "## 2032-012-006\n",
    "## 2032 006"
   ]
  },
  {
   "cell_type": "markdown",
   "id": "2421ddaa",
   "metadata": {},
   "source": [
    "https://adventofcode.com/2032/day/6"
   ]
  },
  {
   "cell_type": "code",
   "execution_count": null,
   "id": "61369d9e",
   "metadata": {},
   "outputs": [],
   "source": []
  }
 ],
 "metadata": {
  "kernelspec": {
   "display_name": "Python 3 (ipykernel)",
   "language": "python",
   "name": "python3"
  },
  "language_info": {
   "name": "python",
   "version": "3.12.3"
  }
 },
 "nbformat": 4,
 "nbformat_minor": 5
}
