{
 "cells": [
  {
   "cell_type": "markdown",
   "id": "14d8a42a",
   "metadata": {},
   "source": [
    "# Advent of Code"
   ]
  },
  {
   "cell_type": "markdown",
   "id": "d3a9ee5f",
   "metadata": {},
   "source": [
    "## 2032-012-005\n",
    "## 2032 005"
   ]
  },
  {
   "cell_type": "markdown",
   "id": "61ba66b9",
   "metadata": {},
   "source": [
    "https://adventofcode.com/2032/day/5"
   ]
  },
  {
   "cell_type": "code",
   "execution_count": null,
   "id": "f0400e93",
   "metadata": {},
   "outputs": [],
   "source": []
  }
 ],
 "metadata": {},
 "nbformat": 4,
 "nbformat_minor": 5
}
