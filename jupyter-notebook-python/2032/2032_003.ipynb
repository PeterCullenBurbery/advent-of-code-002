{
 "cells": [
  {
   "cell_type": "markdown",
   "id": "1f5008f9",
   "metadata": {},
   "source": [
    "# Advent of Code"
   ]
  },
  {
   "cell_type": "markdown",
   "id": "17b2dc42",
   "metadata": {},
   "source": [
    "## 2032-012-003\n",
    "## 2032 003"
   ]
  },
  {
   "cell_type": "markdown",
   "id": "4b78d7e6",
   "metadata": {},
   "source": [
    "https://adventofcode.com/2032/day/3"
   ]
  },
  {
   "cell_type": "code",
   "execution_count": null,
   "id": "b957f508",
   "metadata": {},
   "outputs": [],
   "source": []
  }
 ],
 "metadata": {
  "kernelspec": {
   "display_name": "Python 3 (ipykernel)",
   "language": "python",
   "name": "python3"
  },
  "language_info": {
   "name": "python",
   "version": "3.12.3"
  }
 },
 "nbformat": 4,
 "nbformat_minor": 5
}
