{
 "cells": [
  {
   "cell_type": "markdown",
   "id": "a61e7136",
   "metadata": {},
   "source": [
    "# Advent of Code"
   ]
  },
  {
   "cell_type": "markdown",
   "id": "ff32a078",
   "metadata": {},
   "source": [
    "## 2032-012-011\n",
    "## 2032 011"
   ]
  },
  {
   "cell_type": "markdown",
   "id": "c631ed48",
   "metadata": {},
   "source": [
    "https://adventofcode.com/2032/day/11"
   ]
  },
  {
   "cell_type": "code",
   "execution_count": null,
   "id": "f2b9768a",
   "metadata": {},
   "outputs": [],
   "source": []
  }
 ],
 "metadata": {},
 "nbformat": 4,
 "nbformat_minor": 5
}
