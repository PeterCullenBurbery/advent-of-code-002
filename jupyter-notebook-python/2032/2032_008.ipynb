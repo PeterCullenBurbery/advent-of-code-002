{
 "cells": [
  {
   "cell_type": "markdown",
   "id": "026e79bb",
   "metadata": {},
   "source": [
    "# Advent of Code"
   ]
  },
  {
   "cell_type": "markdown",
   "id": "12a490bd",
   "metadata": {},
   "source": [
    "## 2032-012-008\n",
    "## 2032 008"
   ]
  },
  {
   "cell_type": "markdown",
   "id": "bf7b39ba",
   "metadata": {},
   "source": [
    "https://adventofcode.com/2032/day/8"
   ]
  },
  {
   "cell_type": "code",
   "execution_count": null,
   "id": "733189d6",
   "metadata": {},
   "outputs": [],
   "source": []
  }
 ],
 "metadata": {
  "kernelspec": {
   "display_name": "Python 3 (ipykernel)",
   "language": "python",
   "name": "python3"
  },
  "language_info": {
   "name": "python",
   "version": "3.12.3"
  }
 },
 "nbformat": 4,
 "nbformat_minor": 5
}
