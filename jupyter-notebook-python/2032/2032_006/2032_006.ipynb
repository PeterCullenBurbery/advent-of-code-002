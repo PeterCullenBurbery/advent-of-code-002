{
 "cells": [
  {
   "cell_type": "markdown",
   "id": "de96ea15",
   "metadata": {},
   "source": [
    "# Advent of Code"
   ]
  },
  {
   "cell_type": "markdown",
   "id": "9cfb6182",
   "metadata": {},
   "source": [
    "## 2032-012-006\n",
    "## 2032 006"
   ]
  },
  {
   "cell_type": "markdown",
   "id": "5d3525c8",
   "metadata": {},
   "source": [
    "https://adventofcode.com/2032/day/6"
   ]
  },
  {
   "cell_type": "code",
   "execution_count": null,
   "id": "c3088970",
   "metadata": {},
   "outputs": [],
   "source": []
  }
 ],
 "metadata": {},
 "nbformat": 4,
 "nbformat_minor": 5
}
