{
 "cells": [
  {
   "cell_type": "markdown",
   "id": "2cf427ce",
   "metadata": {},
   "source": [
    "# Advent of Code"
   ]
  },
  {
   "cell_type": "markdown",
   "id": "f7977484",
   "metadata": {},
   "source": [
    "## 2032-012-020\n",
    "## 2032 020"
   ]
  },
  {
   "cell_type": "markdown",
   "id": "b6f3dbaa",
   "metadata": {},
   "source": [
    "https://adventofcode.com/2032/day/20"
   ]
  },
  {
   "cell_type": "code",
   "execution_count": null,
   "id": "585f4efc",
   "metadata": {},
   "outputs": [],
   "source": []
  }
 ],
 "metadata": {
  "kernelspec": {
   "display_name": "Python 3 (ipykernel)",
   "language": "python",
   "name": "python3"
  },
  "language_info": {
   "name": "python",
   "version": "3.12.3"
  }
 },
 "nbformat": 4,
 "nbformat_minor": 5
}
