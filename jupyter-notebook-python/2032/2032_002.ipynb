{
 "cells": [
  {
   "cell_type": "markdown",
   "id": "639aff7d",
   "metadata": {},
   "source": [
    "# Advent of Code"
   ]
  },
  {
   "cell_type": "markdown",
   "id": "30572355",
   "metadata": {},
   "source": [
    "## 2032-012-002\n",
    "## 2032 002"
   ]
  },
  {
   "cell_type": "markdown",
   "id": "110dec8b",
   "metadata": {},
   "source": [
    "https://adventofcode.com/2032/day/2"
   ]
  },
  {
   "cell_type": "code",
   "execution_count": null,
   "id": "46a79ce8",
   "metadata": {},
   "outputs": [],
   "source": []
  }
 ],
 "metadata": {
  "kernelspec": {
   "display_name": "Python 3 (ipykernel)",
   "language": "python",
   "name": "python3"
  },
  "language_info": {
   "name": "python",
   "version": "3.12.3"
  }
 },
 "nbformat": 4,
 "nbformat_minor": 5
}
