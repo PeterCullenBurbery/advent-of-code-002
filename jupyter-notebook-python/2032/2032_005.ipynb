{
 "cells": [
  {
   "cell_type": "markdown",
   "id": "826ea2a7",
   "metadata": {},
   "source": [
    "# Advent of Code"
   ]
  },
  {
   "cell_type": "markdown",
   "id": "e2961a09",
   "metadata": {},
   "source": [
    "## 2032-012-005\n",
    "## 2032 005"
   ]
  },
  {
   "cell_type": "markdown",
   "id": "f3246409",
   "metadata": {},
   "source": [
    "https://adventofcode.com/2032/day/5"
   ]
  },
  {
   "cell_type": "code",
   "execution_count": null,
   "id": "ef56dc71",
   "metadata": {},
   "outputs": [],
   "source": []
  }
 ],
 "metadata": {
  "kernelspec": {
   "display_name": "Python 3 (ipykernel)",
   "language": "python",
   "name": "python3"
  },
  "language_info": {
   "name": "python",
   "version": "3.12.3"
  }
 },
 "nbformat": 4,
 "nbformat_minor": 5
}
