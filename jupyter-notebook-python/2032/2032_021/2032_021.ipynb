{
 "cells": [
  {
   "cell_type": "markdown",
   "id": "2a85cf82",
   "metadata": {},
   "source": [
    "# Advent of Code"
   ]
  },
  {
   "cell_type": "markdown",
   "id": "4aaa6353",
   "metadata": {},
   "source": [
    "## 2032-012-021\n",
    "## 2032 021"
   ]
  },
  {
   "cell_type": "markdown",
   "id": "37b2be39",
   "metadata": {},
   "source": [
    "https://adventofcode.com/2032/day/21"
   ]
  },
  {
   "cell_type": "code",
   "execution_count": null,
   "id": "5c1965c6",
   "metadata": {},
   "outputs": [],
   "source": []
  }
 ],
 "metadata": {},
 "nbformat": 4,
 "nbformat_minor": 5
}
