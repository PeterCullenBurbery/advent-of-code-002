{
 "cells": [
  {
   "cell_type": "markdown",
   "id": "33ad5268",
   "metadata": {},
   "source": [
    "# Advent of Code"
   ]
  },
  {
   "cell_type": "markdown",
   "id": "836a8303",
   "metadata": {},
   "source": [
    "## 2032-012-013\n",
    "## 2032 013"
   ]
  },
  {
   "cell_type": "markdown",
   "id": "543c0cdd",
   "metadata": {},
   "source": [
    "https://adventofcode.com/2032/day/13"
   ]
  },
  {
   "cell_type": "code",
   "execution_count": null,
   "id": "137fb7d5",
   "metadata": {},
   "outputs": [],
   "source": []
  }
 ],
 "metadata": {},
 "nbformat": 4,
 "nbformat_minor": 5
}
