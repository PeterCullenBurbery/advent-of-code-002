{
 "cells": [
  {
   "cell_type": "markdown",
   "id": "387f49a1",
   "metadata": {},
   "source": [
    "# Advent of Code"
   ]
  },
  {
   "cell_type": "markdown",
   "id": "365ba974",
   "metadata": {},
   "source": [
    "## 2032-012-002\n",
    "## 2032 002"
   ]
  },
  {
   "cell_type": "markdown",
   "id": "9281d1f7",
   "metadata": {},
   "source": [
    "https://adventofcode.com/2032/day/2"
   ]
  },
  {
   "cell_type": "code",
   "execution_count": null,
   "id": "d8370eb8",
   "metadata": {},
   "outputs": [],
   "source": []
  }
 ],
 "metadata": {},
 "nbformat": 4,
 "nbformat_minor": 5
}
