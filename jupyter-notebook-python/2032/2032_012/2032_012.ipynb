{
 "cells": [
  {
   "cell_type": "markdown",
   "id": "080ae049",
   "metadata": {},
   "source": [
    "# Advent of Code"
   ]
  },
  {
   "cell_type": "markdown",
   "id": "34c2e2be",
   "metadata": {},
   "source": [
    "## 2032-012-012\n",
    "## 2032 012"
   ]
  },
  {
   "cell_type": "markdown",
   "id": "4ca4b473",
   "metadata": {},
   "source": [
    "https://adventofcode.com/2032/day/12"
   ]
  },
  {
   "cell_type": "code",
   "execution_count": null,
   "id": "b44e9dde",
   "metadata": {},
   "outputs": [],
   "source": []
  }
 ],
 "metadata": {},
 "nbformat": 4,
 "nbformat_minor": 5
}
