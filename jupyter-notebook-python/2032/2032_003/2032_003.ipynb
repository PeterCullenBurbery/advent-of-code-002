{
 "cells": [
  {
   "cell_type": "markdown",
   "id": "eef6afa9",
   "metadata": {},
   "source": [
    "# Advent of Code"
   ]
  },
  {
   "cell_type": "markdown",
   "id": "0c6b2bea",
   "metadata": {},
   "source": [
    "## 2032-012-003\n",
    "## 2032 003"
   ]
  },
  {
   "cell_type": "markdown",
   "id": "dca07a9c",
   "metadata": {},
   "source": [
    "https://adventofcode.com/2032/day/3"
   ]
  },
  {
   "cell_type": "code",
   "execution_count": null,
   "id": "f4f49c7c",
   "metadata": {},
   "outputs": [],
   "source": []
  }
 ],
 "metadata": {},
 "nbformat": 4,
 "nbformat_minor": 5
}
