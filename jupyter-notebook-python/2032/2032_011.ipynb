{
 "cells": [
  {
   "cell_type": "markdown",
   "id": "f78c9eb9",
   "metadata": {},
   "source": [
    "# Advent of Code"
   ]
  },
  {
   "cell_type": "markdown",
   "id": "bc7e5c45",
   "metadata": {},
   "source": [
    "## 2032-012-011\n",
    "## 2032 011"
   ]
  },
  {
   "cell_type": "markdown",
   "id": "f5a3ebc7",
   "metadata": {},
   "source": [
    "https://adventofcode.com/2032/day/11"
   ]
  },
  {
   "cell_type": "code",
   "execution_count": null,
   "id": "53aa48b6",
   "metadata": {},
   "outputs": [],
   "source": []
  }
 ],
 "metadata": {
  "kernelspec": {
   "display_name": "Python 3 (ipykernel)",
   "language": "python",
   "name": "python3"
  },
  "language_info": {
   "name": "python",
   "version": "3.12.3"
  }
 },
 "nbformat": 4,
 "nbformat_minor": 5
}
