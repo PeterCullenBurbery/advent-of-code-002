{
 "cells": [
  {
   "cell_type": "markdown",
   "id": "ee51b5d3",
   "metadata": {},
   "source": [
    "# Advent of Code"
   ]
  },
  {
   "cell_type": "markdown",
   "id": "7e30f995",
   "metadata": {},
   "source": [
    "## 2029-012-004\n",
    "## 2029 004"
   ]
  },
  {
   "cell_type": "markdown",
   "id": "9be4fc53",
   "metadata": {},
   "source": [
    "https://adventofcode.com/2029/day/4"
   ]
  },
  {
   "cell_type": "code",
   "execution_count": null,
   "id": "e881b87a",
   "metadata": {},
   "outputs": [],
   "source": []
  }
 ],
 "metadata": {
  "kernelspec": {
   "display_name": "Python 3 (ipykernel)",
   "language": "python",
   "name": "python3"
  },
  "language_info": {
   "name": "python",
   "version": "3.12.3"
  }
 },
 "nbformat": 4,
 "nbformat_minor": 5
}
