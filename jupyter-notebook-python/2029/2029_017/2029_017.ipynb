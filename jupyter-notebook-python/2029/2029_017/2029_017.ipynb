{
 "cells": [
  {
   "cell_type": "markdown",
   "id": "95709fc8",
   "metadata": {},
   "source": [
    "# Advent of Code"
   ]
  },
  {
   "cell_type": "markdown",
   "id": "624c5b50",
   "metadata": {},
   "source": [
    "## 2029-012-017\n",
    "## 2029 017"
   ]
  },
  {
   "cell_type": "markdown",
   "id": "fd5d6dbc",
   "metadata": {},
   "source": [
    "https://adventofcode.com/2029/day/17"
   ]
  },
  {
   "cell_type": "code",
   "execution_count": null,
   "id": "363ff42d",
   "metadata": {},
   "outputs": [],
   "source": []
  }
 ],
 "metadata": {},
 "nbformat": 4,
 "nbformat_minor": 5
}
