{
 "cells": [
  {
   "cell_type": "markdown",
   "id": "e58893b7",
   "metadata": {},
   "source": [
    "# Advent of Code"
   ]
  },
  {
   "cell_type": "markdown",
   "id": "6a3d3a21",
   "metadata": {},
   "source": [
    "## 2029-012-001\n",
    "## 2029 001"
   ]
  },
  {
   "cell_type": "markdown",
   "id": "54109a46",
   "metadata": {},
   "source": [
    "https://adventofcode.com/2029/day/1"
   ]
  },
  {
   "cell_type": "code",
   "execution_count": null,
   "id": "30480d6b",
   "metadata": {},
   "outputs": [],
   "source": []
  }
 ],
 "metadata": {},
 "nbformat": 4,
 "nbformat_minor": 5
}
