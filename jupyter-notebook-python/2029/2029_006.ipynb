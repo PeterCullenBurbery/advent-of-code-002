{
 "cells": [
  {
   "cell_type": "markdown",
   "id": "8a47ac13",
   "metadata": {},
   "source": [
    "# Advent of Code"
   ]
  },
  {
   "cell_type": "markdown",
   "id": "89c2d9a2",
   "metadata": {},
   "source": [
    "## 2029-012-006\n",
    "## 2029 006"
   ]
  },
  {
   "cell_type": "markdown",
   "id": "5c76e630",
   "metadata": {},
   "source": [
    "https://adventofcode.com/2029/day/6"
   ]
  },
  {
   "cell_type": "code",
   "execution_count": null,
   "id": "06e1b984",
   "metadata": {},
   "outputs": [],
   "source": []
  }
 ],
 "metadata": {
  "kernelspec": {
   "display_name": "Python 3 (ipykernel)",
   "language": "python",
   "name": "python3"
  },
  "language_info": {
   "name": "python",
   "version": "3.12.3"
  }
 },
 "nbformat": 4,
 "nbformat_minor": 5
}
