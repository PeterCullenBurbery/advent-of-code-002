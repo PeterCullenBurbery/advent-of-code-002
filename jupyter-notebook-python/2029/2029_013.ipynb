{
 "cells": [
  {
   "cell_type": "markdown",
   "id": "f9d6876e",
   "metadata": {},
   "source": [
    "# Advent of Code"
   ]
  },
  {
   "cell_type": "markdown",
   "id": "d4647586",
   "metadata": {},
   "source": [
    "## 2029-012-013\n",
    "## 2029 013"
   ]
  },
  {
   "cell_type": "markdown",
   "id": "fa5f5f1d",
   "metadata": {},
   "source": [
    "https://adventofcode.com/2029/day/13"
   ]
  },
  {
   "cell_type": "code",
   "execution_count": null,
   "id": "df71699f",
   "metadata": {},
   "outputs": [],
   "source": []
  }
 ],
 "metadata": {
  "kernelspec": {
   "display_name": "Python 3 (ipykernel)",
   "language": "python",
   "name": "python3"
  },
  "language_info": {
   "name": "python",
   "version": "3.12.3"
  }
 },
 "nbformat": 4,
 "nbformat_minor": 5
}
