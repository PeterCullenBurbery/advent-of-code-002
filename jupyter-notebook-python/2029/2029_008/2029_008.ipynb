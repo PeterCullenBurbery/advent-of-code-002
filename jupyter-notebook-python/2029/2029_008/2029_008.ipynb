{
 "cells": [
  {
   "cell_type": "markdown",
   "id": "8ee9bbee",
   "metadata": {},
   "source": [
    "# Advent of Code"
   ]
  },
  {
   "cell_type": "markdown",
   "id": "5fa54f57",
   "metadata": {},
   "source": [
    "## 2029-012-008\n",
    "## 2029 008"
   ]
  },
  {
   "cell_type": "markdown",
   "id": "0175bde5",
   "metadata": {},
   "source": [
    "https://adventofcode.com/2029/day/8"
   ]
  },
  {
   "cell_type": "code",
   "execution_count": null,
   "id": "c0465458",
   "metadata": {},
   "outputs": [],
   "source": []
  }
 ],
 "metadata": {},
 "nbformat": 4,
 "nbformat_minor": 5
}
