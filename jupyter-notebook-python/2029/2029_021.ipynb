{
 "cells": [
  {
   "cell_type": "markdown",
   "id": "8fb552f8",
   "metadata": {},
   "source": [
    "# Advent of Code"
   ]
  },
  {
   "cell_type": "markdown",
   "id": "a6216d97",
   "metadata": {},
   "source": [
    "## 2029-012-021\n",
    "## 2029 021"
   ]
  },
  {
   "cell_type": "markdown",
   "id": "0e7b0b10",
   "metadata": {},
   "source": [
    "https://adventofcode.com/2029/day/21"
   ]
  },
  {
   "cell_type": "code",
   "execution_count": null,
   "id": "401e0b16",
   "metadata": {},
   "outputs": [],
   "source": []
  }
 ],
 "metadata": {
  "kernelspec": {
   "display_name": "Python 3 (ipykernel)",
   "language": "python",
   "name": "python3"
  },
  "language_info": {
   "name": "python",
   "version": "3.12.3"
  }
 },
 "nbformat": 4,
 "nbformat_minor": 5
}
