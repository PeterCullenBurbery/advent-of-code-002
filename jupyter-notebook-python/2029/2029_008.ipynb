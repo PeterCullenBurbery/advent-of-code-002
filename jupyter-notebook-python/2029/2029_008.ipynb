{
 "cells": [
  {
   "cell_type": "markdown",
   "id": "280f127b",
   "metadata": {},
   "source": [
    "# Advent of Code"
   ]
  },
  {
   "cell_type": "markdown",
   "id": "06b350ad",
   "metadata": {},
   "source": [
    "## 2029-012-008\n",
    "## 2029 008"
   ]
  },
  {
   "cell_type": "markdown",
   "id": "791c8202",
   "metadata": {},
   "source": [
    "https://adventofcode.com/2029/day/8"
   ]
  },
  {
   "cell_type": "code",
   "execution_count": null,
   "id": "d1c6c8e1",
   "metadata": {},
   "outputs": [],
   "source": []
  }
 ],
 "metadata": {
  "kernelspec": {
   "display_name": "Python 3 (ipykernel)",
   "language": "python",
   "name": "python3"
  },
  "language_info": {
   "name": "python",
   "version": "3.12.3"
  }
 },
 "nbformat": 4,
 "nbformat_minor": 5
}
