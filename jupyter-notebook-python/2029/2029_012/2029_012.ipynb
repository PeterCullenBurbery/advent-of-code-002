{
 "cells": [
  {
   "cell_type": "markdown",
   "id": "cb5aa74c",
   "metadata": {},
   "source": [
    "# Advent of Code"
   ]
  },
  {
   "cell_type": "markdown",
   "id": "83f138a9",
   "metadata": {},
   "source": [
    "## 2029-012-012\n",
    "## 2029 012"
   ]
  },
  {
   "cell_type": "markdown",
   "id": "dfa27ce5",
   "metadata": {},
   "source": [
    "https://adventofcode.com/2029/day/12"
   ]
  },
  {
   "cell_type": "code",
   "execution_count": null,
   "id": "a65d844b",
   "metadata": {},
   "outputs": [],
   "source": []
  }
 ],
 "metadata": {},
 "nbformat": 4,
 "nbformat_minor": 5
}
