{
 "cells": [
  {
   "cell_type": "markdown",
   "id": "278f0b1a",
   "metadata": {},
   "source": [
    "# Advent of Code"
   ]
  },
  {
   "cell_type": "markdown",
   "id": "980493e5",
   "metadata": {},
   "source": [
    "## 2029-012-017\n",
    "## 2029 017"
   ]
  },
  {
   "cell_type": "markdown",
   "id": "a3bb8585",
   "metadata": {},
   "source": [
    "https://adventofcode.com/2029/day/17"
   ]
  },
  {
   "cell_type": "code",
   "execution_count": null,
   "id": "9456de21",
   "metadata": {},
   "outputs": [],
   "source": []
  }
 ],
 "metadata": {
  "kernelspec": {
   "display_name": "Python 3 (ipykernel)",
   "language": "python",
   "name": "python3"
  },
  "language_info": {
   "name": "python",
   "version": "3.12.3"
  }
 },
 "nbformat": 4,
 "nbformat_minor": 5
}
