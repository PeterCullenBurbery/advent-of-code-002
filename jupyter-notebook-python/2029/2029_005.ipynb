{
 "cells": [
  {
   "cell_type": "markdown",
   "id": "f52a988c",
   "metadata": {},
   "source": [
    "# Advent of Code"
   ]
  },
  {
   "cell_type": "markdown",
   "id": "8be04528",
   "metadata": {},
   "source": [
    "## 2029-012-005\n",
    "## 2029 005"
   ]
  },
  {
   "cell_type": "markdown",
   "id": "4e0c39ec",
   "metadata": {},
   "source": [
    "https://adventofcode.com/2029/day/5"
   ]
  },
  {
   "cell_type": "code",
   "execution_count": null,
   "id": "eb63527b",
   "metadata": {},
   "outputs": [],
   "source": []
  }
 ],
 "metadata": {
  "kernelspec": {
   "display_name": "Python 3 (ipykernel)",
   "language": "python",
   "name": "python3"
  },
  "language_info": {
   "name": "python",
   "version": "3.12.3"
  }
 },
 "nbformat": 4,
 "nbformat_minor": 5
}
