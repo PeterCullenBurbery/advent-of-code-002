{
 "cells": [
  {
   "cell_type": "markdown",
   "id": "b59740b7",
   "metadata": {},
   "source": [
    "# Advent of Code"
   ]
  },
  {
   "cell_type": "markdown",
   "id": "8911538f",
   "metadata": {},
   "source": [
    "## 2029-012-012\n",
    "## 2029 012"
   ]
  },
  {
   "cell_type": "markdown",
   "id": "1fdd94dc",
   "metadata": {},
   "source": [
    "https://adventofcode.com/2029/day/12"
   ]
  },
  {
   "cell_type": "code",
   "execution_count": null,
   "id": "b7f1cd13",
   "metadata": {},
   "outputs": [],
   "source": []
  }
 ],
 "metadata": {
  "kernelspec": {
   "display_name": "Python 3 (ipykernel)",
   "language": "python",
   "name": "python3"
  },
  "language_info": {
   "name": "python",
   "version": "3.12.3"
  }
 },
 "nbformat": 4,
 "nbformat_minor": 5
}
