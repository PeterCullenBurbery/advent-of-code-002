{
 "cells": [
  {
   "cell_type": "markdown",
   "id": "cc08f446",
   "metadata": {},
   "source": [
    "# Advent of Code"
   ]
  },
  {
   "cell_type": "markdown",
   "id": "c2e1af65",
   "metadata": {},
   "source": [
    "## 2029-012-018\n",
    "## 2029 018"
   ]
  },
  {
   "cell_type": "markdown",
   "id": "23cf08f3",
   "metadata": {},
   "source": [
    "https://adventofcode.com/2029/day/18"
   ]
  },
  {
   "cell_type": "code",
   "execution_count": null,
   "id": "d6e29547",
   "metadata": {},
   "outputs": [],
   "source": []
  }
 ],
 "metadata": {
  "kernelspec": {
   "display_name": "Python 3 (ipykernel)",
   "language": "python",
   "name": "python3"
  },
  "language_info": {
   "name": "python",
   "version": "3.12.3"
  }
 },
 "nbformat": 4,
 "nbformat_minor": 5
}
