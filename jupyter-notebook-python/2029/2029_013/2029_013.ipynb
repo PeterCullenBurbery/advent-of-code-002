{
 "cells": [
  {
   "cell_type": "markdown",
   "id": "b939c917",
   "metadata": {},
   "source": [
    "# Advent of Code"
   ]
  },
  {
   "cell_type": "markdown",
   "id": "269788cd",
   "metadata": {},
   "source": [
    "## 2029-012-013\n",
    "## 2029 013"
   ]
  },
  {
   "cell_type": "markdown",
   "id": "ca4c2e61",
   "metadata": {},
   "source": [
    "https://adventofcode.com/2029/day/13"
   ]
  },
  {
   "cell_type": "code",
   "execution_count": null,
   "id": "04959ae3",
   "metadata": {},
   "outputs": [],
   "source": []
  }
 ],
 "metadata": {},
 "nbformat": 4,
 "nbformat_minor": 5
}
