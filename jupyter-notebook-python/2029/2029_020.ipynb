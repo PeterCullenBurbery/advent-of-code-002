{
 "cells": [
  {
   "cell_type": "markdown",
   "id": "8a9c4641",
   "metadata": {},
   "source": [
    "# Advent of Code"
   ]
  },
  {
   "cell_type": "markdown",
   "id": "67d264ba",
   "metadata": {},
   "source": [
    "## 2029-012-020\n",
    "## 2029 020"
   ]
  },
  {
   "cell_type": "markdown",
   "id": "c6b919dd",
   "metadata": {},
   "source": [
    "https://adventofcode.com/2029/day/20"
   ]
  },
  {
   "cell_type": "code",
   "execution_count": null,
   "id": "ec44daa6",
   "metadata": {},
   "outputs": [],
   "source": []
  }
 ],
 "metadata": {
  "kernelspec": {
   "display_name": "Python 3 (ipykernel)",
   "language": "python",
   "name": "python3"
  },
  "language_info": {
   "name": "python",
   "version": "3.12.3"
  }
 },
 "nbformat": 4,
 "nbformat_minor": 5
}
