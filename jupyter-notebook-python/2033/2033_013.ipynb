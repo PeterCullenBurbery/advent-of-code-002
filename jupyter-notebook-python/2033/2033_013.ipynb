{
 "cells": [
  {
   "cell_type": "markdown",
   "id": "4b8778ae",
   "metadata": {},
   "source": [
    "# Advent of Code"
   ]
  },
  {
   "cell_type": "markdown",
   "id": "7da09dee",
   "metadata": {},
   "source": [
    "## 2033-012-013\n",
    "## 2033 013"
   ]
  },
  {
   "cell_type": "markdown",
   "id": "0fb2a388",
   "metadata": {},
   "source": [
    "https://adventofcode.com/2033/day/13"
   ]
  },
  {
   "cell_type": "code",
   "execution_count": null,
   "id": "b67937f6",
   "metadata": {},
   "outputs": [],
   "source": []
  }
 ],
 "metadata": {
  "kernelspec": {
   "display_name": "Python 3 (ipykernel)",
   "language": "python",
   "name": "python3"
  },
  "language_info": {
   "name": "python",
   "version": "3.12.3"
  }
 },
 "nbformat": 4,
 "nbformat_minor": 5
}
