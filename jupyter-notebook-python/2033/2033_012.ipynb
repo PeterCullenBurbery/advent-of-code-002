{
 "cells": [
  {
   "cell_type": "markdown",
   "id": "65348f90",
   "metadata": {},
   "source": [
    "# Advent of Code"
   ]
  },
  {
   "cell_type": "markdown",
   "id": "137ec75c",
   "metadata": {},
   "source": [
    "## 2033-012-012\n",
    "## 2033 012"
   ]
  },
  {
   "cell_type": "markdown",
   "id": "3a253636",
   "metadata": {},
   "source": [
    "https://adventofcode.com/2033/day/12"
   ]
  },
  {
   "cell_type": "code",
   "execution_count": null,
   "id": "a1b49dcb",
   "metadata": {},
   "outputs": [],
   "source": []
  }
 ],
 "metadata": {
  "kernelspec": {
   "display_name": "Python 3 (ipykernel)",
   "language": "python",
   "name": "python3"
  },
  "language_info": {
   "name": "python",
   "version": "3.12.3"
  }
 },
 "nbformat": 4,
 "nbformat_minor": 5
}
