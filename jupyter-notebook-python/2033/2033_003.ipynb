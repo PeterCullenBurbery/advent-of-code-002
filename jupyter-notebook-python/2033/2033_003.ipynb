{
 "cells": [
  {
   "cell_type": "markdown",
   "id": "daf0eb8d",
   "metadata": {},
   "source": [
    "# Advent of Code"
   ]
  },
  {
   "cell_type": "markdown",
   "id": "5b15068e",
   "metadata": {},
   "source": [
    "## 2033-012-003\n",
    "## 2033 003"
   ]
  },
  {
   "cell_type": "markdown",
   "id": "f8f8f5c6",
   "metadata": {},
   "source": [
    "https://adventofcode.com/2033/day/3"
   ]
  },
  {
   "cell_type": "code",
   "execution_count": null,
   "id": "46984fb7",
   "metadata": {},
   "outputs": [],
   "source": []
  }
 ],
 "metadata": {
  "kernelspec": {
   "display_name": "Python 3 (ipykernel)",
   "language": "python",
   "name": "python3"
  },
  "language_info": {
   "name": "python",
   "version": "3.12.3"
  }
 },
 "nbformat": 4,
 "nbformat_minor": 5
}
