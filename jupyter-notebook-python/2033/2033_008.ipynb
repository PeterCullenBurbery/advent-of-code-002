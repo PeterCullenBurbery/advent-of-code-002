{
 "cells": [
  {
   "cell_type": "markdown",
   "id": "eba36887",
   "metadata": {},
   "source": [
    "# Advent of Code"
   ]
  },
  {
   "cell_type": "markdown",
   "id": "9bcc33c3",
   "metadata": {},
   "source": [
    "## 2033-012-008\n",
    "## 2033 008"
   ]
  },
  {
   "cell_type": "markdown",
   "id": "6a8ae55d",
   "metadata": {},
   "source": [
    "https://adventofcode.com/2033/day/8"
   ]
  },
  {
   "cell_type": "code",
   "execution_count": null,
   "id": "15d53a2e",
   "metadata": {},
   "outputs": [],
   "source": []
  }
 ],
 "metadata": {
  "kernelspec": {
   "display_name": "Python 3 (ipykernel)",
   "language": "python",
   "name": "python3"
  },
  "language_info": {
   "name": "python",
   "version": "3.12.3"
  }
 },
 "nbformat": 4,
 "nbformat_minor": 5
}
