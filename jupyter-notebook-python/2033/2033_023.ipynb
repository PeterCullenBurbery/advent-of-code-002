{
 "cells": [
  {
   "cell_type": "markdown",
   "id": "61f08108",
   "metadata": {},
   "source": [
    "# Advent of Code"
   ]
  },
  {
   "cell_type": "markdown",
   "id": "b2b88646",
   "metadata": {},
   "source": [
    "## 2033-012-023\n",
    "## 2033 023"
   ]
  },
  {
   "cell_type": "markdown",
   "id": "8c44c5c1",
   "metadata": {},
   "source": [
    "https://adventofcode.com/2033/day/23"
   ]
  },
  {
   "cell_type": "code",
   "execution_count": null,
   "id": "b6b99d62",
   "metadata": {},
   "outputs": [],
   "source": []
  }
 ],
 "metadata": {
  "kernelspec": {
   "display_name": "Python 3 (ipykernel)",
   "language": "python",
   "name": "python3"
  },
  "language_info": {
   "name": "python",
   "version": "3.12.3"
  }
 },
 "nbformat": 4,
 "nbformat_minor": 5
}
