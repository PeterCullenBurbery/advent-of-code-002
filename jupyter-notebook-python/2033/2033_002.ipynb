{
 "cells": [
  {
   "cell_type": "markdown",
   "id": "300993ba",
   "metadata": {},
   "source": [
    "# Advent of Code"
   ]
  },
  {
   "cell_type": "markdown",
   "id": "5d2e74ef",
   "metadata": {},
   "source": [
    "## 2033-012-002\n",
    "## 2033 002"
   ]
  },
  {
   "cell_type": "markdown",
   "id": "1c698930",
   "metadata": {},
   "source": [
    "https://adventofcode.com/2033/day/2"
   ]
  },
  {
   "cell_type": "code",
   "execution_count": null,
   "id": "8457bf4d",
   "metadata": {},
   "outputs": [],
   "source": []
  }
 ],
 "metadata": {
  "kernelspec": {
   "display_name": "Python 3 (ipykernel)",
   "language": "python",
   "name": "python3"
  },
  "language_info": {
   "name": "python",
   "version": "3.12.3"
  }
 },
 "nbformat": 4,
 "nbformat_minor": 5
}
