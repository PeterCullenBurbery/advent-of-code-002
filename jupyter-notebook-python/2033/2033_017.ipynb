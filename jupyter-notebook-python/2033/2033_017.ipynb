{
 "cells": [
  {
   "cell_type": "markdown",
   "id": "5a384ded",
   "metadata": {},
   "source": [
    "# Advent of Code"
   ]
  },
  {
   "cell_type": "markdown",
   "id": "75b414aa",
   "metadata": {},
   "source": [
    "## 2033-012-017\n",
    "## 2033 017"
   ]
  },
  {
   "cell_type": "markdown",
   "id": "99714ef9",
   "metadata": {},
   "source": [
    "https://adventofcode.com/2033/day/17"
   ]
  },
  {
   "cell_type": "code",
   "execution_count": null,
   "id": "93c24af2",
   "metadata": {},
   "outputs": [],
   "source": []
  }
 ],
 "metadata": {
  "kernelspec": {
   "display_name": "Python 3 (ipykernel)",
   "language": "python",
   "name": "python3"
  },
  "language_info": {
   "name": "python",
   "version": "3.12.3"
  }
 },
 "nbformat": 4,
 "nbformat_minor": 5
}
