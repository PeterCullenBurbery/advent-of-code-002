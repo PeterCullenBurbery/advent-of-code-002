{
 "cells": [
  {
   "cell_type": "markdown",
   "id": "15d0c63e",
   "metadata": {},
   "source": [
    "# Advent of Code"
   ]
  },
  {
   "cell_type": "markdown",
   "id": "547d2a30",
   "metadata": {},
   "source": [
    "## 2033-012-010\n",
    "## 2033 010"
   ]
  },
  {
   "cell_type": "markdown",
   "id": "d39227ee",
   "metadata": {},
   "source": [
    "https://adventofcode.com/2033/day/10"
   ]
  },
  {
   "cell_type": "code",
   "execution_count": null,
   "id": "d91c9cee",
   "metadata": {},
   "outputs": [],
   "source": []
  }
 ],
 "metadata": {},
 "nbformat": 4,
 "nbformat_minor": 5
}
