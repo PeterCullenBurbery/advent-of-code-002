{
 "cells": [
  {
   "cell_type": "markdown",
   "id": "9ef5ffd5",
   "metadata": {},
   "source": [
    "# Advent of Code"
   ]
  },
  {
   "cell_type": "markdown",
   "id": "3ee3bd37",
   "metadata": {},
   "source": [
    "## 2033-012-011\n",
    "## 2033 011"
   ]
  },
  {
   "cell_type": "markdown",
   "id": "9af6caa0",
   "metadata": {},
   "source": [
    "https://adventofcode.com/2033/day/11"
   ]
  },
  {
   "cell_type": "code",
   "execution_count": null,
   "id": "b7b4d188",
   "metadata": {},
   "outputs": [],
   "source": []
  }
 ],
 "metadata": {
  "kernelspec": {
   "display_name": "Python 3 (ipykernel)",
   "language": "python",
   "name": "python3"
  },
  "language_info": {
   "name": "python",
   "version": "3.12.3"
  }
 },
 "nbformat": 4,
 "nbformat_minor": 5
}
