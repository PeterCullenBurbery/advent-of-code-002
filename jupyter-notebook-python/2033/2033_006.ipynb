{
 "cells": [
  {
   "cell_type": "markdown",
   "id": "e1da9f11",
   "metadata": {},
   "source": [
    "# Advent of Code"
   ]
  },
  {
   "cell_type": "markdown",
   "id": "9e5608c7",
   "metadata": {},
   "source": [
    "## 2033-012-006\n",
    "## 2033 006"
   ]
  },
  {
   "cell_type": "markdown",
   "id": "7446db36",
   "metadata": {},
   "source": [
    "https://adventofcode.com/2033/day/6"
   ]
  },
  {
   "cell_type": "code",
   "execution_count": null,
   "id": "b45b6f40",
   "metadata": {},
   "outputs": [],
   "source": []
  }
 ],
 "metadata": {
  "kernelspec": {
   "display_name": "Python 3 (ipykernel)",
   "language": "python",
   "name": "python3"
  },
  "language_info": {
   "name": "python",
   "version": "3.12.3"
  }
 },
 "nbformat": 4,
 "nbformat_minor": 5
}
