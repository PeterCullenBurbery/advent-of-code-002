{
 "cells": [
  {
   "cell_type": "markdown",
   "id": "7b6ef8c5",
   "metadata": {},
   "source": [
    "# Advent of Code"
   ]
  },
  {
   "cell_type": "markdown",
   "id": "000b1f5d",
   "metadata": {},
   "source": [
    "## 2033-012-011\n",
    "## 2033 011"
   ]
  },
  {
   "cell_type": "markdown",
   "id": "6a9ac94a",
   "metadata": {},
   "source": [
    "https://adventofcode.com/2033/day/11"
   ]
  },
  {
   "cell_type": "code",
   "execution_count": null,
   "id": "f322d639",
   "metadata": {},
   "outputs": [],
   "source": []
  }
 ],
 "metadata": {},
 "nbformat": 4,
 "nbformat_minor": 5
}
