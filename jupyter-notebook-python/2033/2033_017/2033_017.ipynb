{
 "cells": [
  {
   "cell_type": "markdown",
   "id": "db388ab3",
   "metadata": {},
   "source": [
    "# Advent of Code"
   ]
  },
  {
   "cell_type": "markdown",
   "id": "430a143e",
   "metadata": {},
   "source": [
    "## 2033-012-017\n",
    "## 2033 017"
   ]
  },
  {
   "cell_type": "markdown",
   "id": "de40aedb",
   "metadata": {},
   "source": [
    "https://adventofcode.com/2033/day/17"
   ]
  },
  {
   "cell_type": "code",
   "execution_count": null,
   "id": "5cf5fd2f",
   "metadata": {},
   "outputs": [],
   "source": []
  }
 ],
 "metadata": {},
 "nbformat": 4,
 "nbformat_minor": 5
}
