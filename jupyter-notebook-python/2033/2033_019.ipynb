{
 "cells": [
  {
   "cell_type": "markdown",
   "id": "3bf7faa7",
   "metadata": {},
   "source": [
    "# Advent of Code"
   ]
  },
  {
   "cell_type": "markdown",
   "id": "25b6d96b",
   "metadata": {},
   "source": [
    "## 2033-012-019\n",
    "## 2033 019"
   ]
  },
  {
   "cell_type": "markdown",
   "id": "2c64b87a",
   "metadata": {},
   "source": [
    "https://adventofcode.com/2033/day/19"
   ]
  },
  {
   "cell_type": "code",
   "execution_count": null,
   "id": "dfcc8ee4",
   "metadata": {},
   "outputs": [],
   "source": []
  }
 ],
 "metadata": {
  "kernelspec": {
   "display_name": "Python 3 (ipykernel)",
   "language": "python",
   "name": "python3"
  },
  "language_info": {
   "name": "python",
   "version": "3.12.3"
  }
 },
 "nbformat": 4,
 "nbformat_minor": 5
}
