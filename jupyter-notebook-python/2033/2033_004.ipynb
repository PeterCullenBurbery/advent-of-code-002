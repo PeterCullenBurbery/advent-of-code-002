{
 "cells": [
  {
   "cell_type": "markdown",
   "id": "0cf2207e",
   "metadata": {},
   "source": [
    "# Advent of Code"
   ]
  },
  {
   "cell_type": "markdown",
   "id": "cd5c1225",
   "metadata": {},
   "source": [
    "## 2033-012-004\n",
    "## 2033 004"
   ]
  },
  {
   "cell_type": "markdown",
   "id": "5cbbc485",
   "metadata": {},
   "source": [
    "https://adventofcode.com/2033/day/4"
   ]
  },
  {
   "cell_type": "code",
   "execution_count": null,
   "id": "7df09dee",
   "metadata": {},
   "outputs": [],
   "source": []
  }
 ],
 "metadata": {
  "kernelspec": {
   "display_name": "Python 3 (ipykernel)",
   "language": "python",
   "name": "python3"
  },
  "language_info": {
   "name": "python",
   "version": "3.12.3"
  }
 },
 "nbformat": 4,
 "nbformat_minor": 5
}
