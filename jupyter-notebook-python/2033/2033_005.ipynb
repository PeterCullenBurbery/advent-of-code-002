{
 "cells": [
  {
   "cell_type": "markdown",
   "id": "43c93abf",
   "metadata": {},
   "source": [
    "# Advent of Code"
   ]
  },
  {
   "cell_type": "markdown",
   "id": "9c306dfa",
   "metadata": {},
   "source": [
    "## 2033-012-005\n",
    "## 2033 005"
   ]
  },
  {
   "cell_type": "markdown",
   "id": "4a9935d2",
   "metadata": {},
   "source": [
    "https://adventofcode.com/2033/day/5"
   ]
  },
  {
   "cell_type": "code",
   "execution_count": null,
   "id": "7c011dd8",
   "metadata": {},
   "outputs": [],
   "source": []
  }
 ],
 "metadata": {
  "kernelspec": {
   "display_name": "Python 3 (ipykernel)",
   "language": "python",
   "name": "python3"
  },
  "language_info": {
   "name": "python",
   "version": "3.12.3"
  }
 },
 "nbformat": 4,
 "nbformat_minor": 5
}
