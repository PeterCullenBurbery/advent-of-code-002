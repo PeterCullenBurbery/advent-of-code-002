{
 "cells": [
  {
   "cell_type": "markdown",
   "id": "6589ed22",
   "metadata": {},
   "source": [
    "# Advent of Code"
   ]
  },
  {
   "cell_type": "markdown",
   "id": "5396aa95",
   "metadata": {},
   "source": [
    "## 2033-012-013\n",
    "## 2033 013"
   ]
  },
  {
   "cell_type": "markdown",
   "id": "3ef0233c",
   "metadata": {},
   "source": [
    "https://adventofcode.com/2033/day/13"
   ]
  },
  {
   "cell_type": "code",
   "execution_count": null,
   "id": "187f93f5",
   "metadata": {},
   "outputs": [],
   "source": []
  }
 ],
 "metadata": {},
 "nbformat": 4,
 "nbformat_minor": 5
}
