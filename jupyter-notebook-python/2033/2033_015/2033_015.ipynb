{
 "cells": [
  {
   "cell_type": "markdown",
   "id": "0b9fc3f2",
   "metadata": {},
   "source": [
    "# Advent of Code"
   ]
  },
  {
   "cell_type": "markdown",
   "id": "0adf1848",
   "metadata": {},
   "source": [
    "## 2033-012-015\n",
    "## 2033 015"
   ]
  },
  {
   "cell_type": "markdown",
   "id": "63c8ea84",
   "metadata": {},
   "source": [
    "https://adventofcode.com/2033/day/15"
   ]
  },
  {
   "cell_type": "code",
   "execution_count": null,
   "id": "0d039fa2",
   "metadata": {},
   "outputs": [],
   "source": []
  }
 ],
 "metadata": {},
 "nbformat": 4,
 "nbformat_minor": 5
}
