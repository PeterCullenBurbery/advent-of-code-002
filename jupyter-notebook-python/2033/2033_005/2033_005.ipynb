{
 "cells": [
  {
   "cell_type": "markdown",
   "id": "d454a87c",
   "metadata": {},
   "source": [
    "# Advent of Code"
   ]
  },
  {
   "cell_type": "markdown",
   "id": "ce1616ce",
   "metadata": {},
   "source": [
    "## 2033-012-005\n",
    "## 2033 005"
   ]
  },
  {
   "cell_type": "markdown",
   "id": "44a35b59",
   "metadata": {},
   "source": [
    "https://adventofcode.com/2033/day/5"
   ]
  },
  {
   "cell_type": "code",
   "execution_count": null,
   "id": "d0b9a194",
   "metadata": {},
   "outputs": [],
   "source": []
  }
 ],
 "metadata": {},
 "nbformat": 4,
 "nbformat_minor": 5
}
