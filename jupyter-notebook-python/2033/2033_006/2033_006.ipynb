{
 "cells": [
  {
   "cell_type": "markdown",
   "id": "d6784a29",
   "metadata": {},
   "source": [
    "# Advent of Code"
   ]
  },
  {
   "cell_type": "markdown",
   "id": "e035a011",
   "metadata": {},
   "source": [
    "## 2033-012-006\n",
    "## 2033 006"
   ]
  },
  {
   "cell_type": "markdown",
   "id": "227d933e",
   "metadata": {},
   "source": [
    "https://adventofcode.com/2033/day/6"
   ]
  },
  {
   "cell_type": "code",
   "execution_count": null,
   "id": "253d6436",
   "metadata": {},
   "outputs": [],
   "source": []
  }
 ],
 "metadata": {},
 "nbformat": 4,
 "nbformat_minor": 5
}
