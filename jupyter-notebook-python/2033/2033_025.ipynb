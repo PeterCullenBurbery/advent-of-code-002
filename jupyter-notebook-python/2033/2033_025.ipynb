{
 "cells": [
  {
   "cell_type": "markdown",
   "id": "fa4af5a5",
   "metadata": {},
   "source": [
    "# Advent of Code"
   ]
  },
  {
   "cell_type": "markdown",
   "id": "fc84171b",
   "metadata": {},
   "source": [
    "## 2033-012-025\n",
    "## 2033 025"
   ]
  },
  {
   "cell_type": "markdown",
   "id": "40d58f15",
   "metadata": {},
   "source": [
    "https://adventofcode.com/2033/day/25"
   ]
  },
  {
   "cell_type": "code",
   "execution_count": null,
   "id": "52d7b11f",
   "metadata": {},
   "outputs": [],
   "source": []
  }
 ],
 "metadata": {
  "kernelspec": {
   "display_name": "Python 3 (ipykernel)",
   "language": "python",
   "name": "python3"
  },
  "language_info": {
   "name": "python",
   "version": "3.12.3"
  }
 },
 "nbformat": 4,
 "nbformat_minor": 5
}
