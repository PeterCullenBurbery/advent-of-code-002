{
 "cells": [
  {
   "cell_type": "markdown",
   "id": "d37ac47a",
   "metadata": {},
   "source": [
    "# Advent of Code"
   ]
  },
  {
   "cell_type": "markdown",
   "id": "dabe61e5",
   "metadata": {},
   "source": [
    "## 2033-012-010\n",
    "## 2033 010"
   ]
  },
  {
   "cell_type": "markdown",
   "id": "4716ea32",
   "metadata": {},
   "source": [
    "https://adventofcode.com/2033/day/10"
   ]
  },
  {
   "cell_type": "code",
   "execution_count": null,
   "id": "3d0908e5",
   "metadata": {},
   "outputs": [],
   "source": []
  }
 ],
 "metadata": {
  "kernelspec": {
   "display_name": "Python 3 (ipykernel)",
   "language": "python",
   "name": "python3"
  },
  "language_info": {
   "name": "python",
   "version": "3.12.3"
  }
 },
 "nbformat": 4,
 "nbformat_minor": 5
}
