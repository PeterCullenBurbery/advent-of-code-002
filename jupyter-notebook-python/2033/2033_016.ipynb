{
 "cells": [
  {
   "cell_type": "markdown",
   "id": "58439973",
   "metadata": {},
   "source": [
    "# Advent of Code"
   ]
  },
  {
   "cell_type": "markdown",
   "id": "95e7379f",
   "metadata": {},
   "source": [
    "## 2033-012-016\n",
    "## 2033 016"
   ]
  },
  {
   "cell_type": "markdown",
   "id": "efe661ef",
   "metadata": {},
   "source": [
    "https://adventofcode.com/2033/day/16"
   ]
  },
  {
   "cell_type": "code",
   "execution_count": null,
   "id": "b625cd3a",
   "metadata": {},
   "outputs": [],
   "source": []
  }
 ],
 "metadata": {
  "kernelspec": {
   "display_name": "Python 3 (ipykernel)",
   "language": "python",
   "name": "python3"
  },
  "language_info": {
   "name": "python",
   "version": "3.12.3"
  }
 },
 "nbformat": 4,
 "nbformat_minor": 5
}
