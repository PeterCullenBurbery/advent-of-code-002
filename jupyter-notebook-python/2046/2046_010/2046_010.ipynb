{
 "cells": [
  {
   "cell_type": "markdown",
   "id": "945d5040",
   "metadata": {},
   "source": [
    "# Advent of Code"
   ]
  },
  {
   "cell_type": "markdown",
   "id": "dea4a4cb",
   "metadata": {},
   "source": [
    "## 2046-012-010\n",
    "## 2046 010"
   ]
  },
  {
   "cell_type": "markdown",
   "id": "81a4b75d",
   "metadata": {},
   "source": [
    "https://adventofcode.com/2046/day/10"
   ]
  },
  {
   "cell_type": "code",
   "execution_count": null,
   "id": "cb445d4e",
   "metadata": {},
   "outputs": [],
   "source": []
  }
 ],
 "metadata": {},
 "nbformat": 4,
 "nbformat_minor": 5
}
