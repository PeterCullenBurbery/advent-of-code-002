{
 "cells": [
  {
   "cell_type": "markdown",
   "id": "11be6682",
   "metadata": {},
   "source": [
    "# Advent of Code"
   ]
  },
  {
   "cell_type": "markdown",
   "id": "a5978c56",
   "metadata": {},
   "source": [
    "## 2046-012-013\n",
    "## 2046 013"
   ]
  },
  {
   "cell_type": "markdown",
   "id": "4310adce",
   "metadata": {},
   "source": [
    "https://adventofcode.com/2046/day/13"
   ]
  },
  {
   "cell_type": "code",
   "execution_count": null,
   "id": "872a5ba1",
   "metadata": {},
   "outputs": [],
   "source": []
  }
 ],
 "metadata": {},
 "nbformat": 4,
 "nbformat_minor": 5
}
