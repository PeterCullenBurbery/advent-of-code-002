{
 "cells": [
  {
   "cell_type": "markdown",
   "id": "41c1f7f5",
   "metadata": {},
   "source": [
    "# Advent of Code"
   ]
  },
  {
   "cell_type": "markdown",
   "id": "7bd02008",
   "metadata": {},
   "source": [
    "## 2046-012-014\n",
    "## 2046 014"
   ]
  },
  {
   "cell_type": "markdown",
   "id": "66a3ac35",
   "metadata": {},
   "source": [
    "https://adventofcode.com/2046/day/14"
   ]
  },
  {
   "cell_type": "code",
   "execution_count": null,
   "id": "df70e9b4",
   "metadata": {},
   "outputs": [],
   "source": []
  }
 ],
 "metadata": {
  "kernelspec": {
   "display_name": "Python 3 (ipykernel)",
   "language": "python",
   "name": "python3"
  },
  "language_info": {
   "name": "python",
   "version": "3.12.3"
  }
 },
 "nbformat": 4,
 "nbformat_minor": 5
}
