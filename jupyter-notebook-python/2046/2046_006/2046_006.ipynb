{
 "cells": [
  {
   "cell_type": "markdown",
   "id": "ec766c8f",
   "metadata": {},
   "source": [
    "# Advent of Code"
   ]
  },
  {
   "cell_type": "markdown",
   "id": "6115b82e",
   "metadata": {},
   "source": [
    "## 2046-012-006\n",
    "## 2046 006"
   ]
  },
  {
   "cell_type": "markdown",
   "id": "5207bf53",
   "metadata": {},
   "source": [
    "https://adventofcode.com/2046/day/6"
   ]
  },
  {
   "cell_type": "code",
   "execution_count": null,
   "id": "36f958fc",
   "metadata": {},
   "outputs": [],
   "source": []
  }
 ],
 "metadata": {},
 "nbformat": 4,
 "nbformat_minor": 5
}
