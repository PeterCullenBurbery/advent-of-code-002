{
 "cells": [
  {
   "cell_type": "markdown",
   "id": "503780e8",
   "metadata": {},
   "source": [
    "# Advent of Code"
   ]
  },
  {
   "cell_type": "markdown",
   "id": "f1d958fe",
   "metadata": {},
   "source": [
    "## 2046-012-001\n",
    "## 2046 001"
   ]
  },
  {
   "cell_type": "markdown",
   "id": "1b43ce15",
   "metadata": {},
   "source": [
    "https://adventofcode.com/2046/day/1"
   ]
  },
  {
   "cell_type": "code",
   "execution_count": null,
   "id": "c3cf5263",
   "metadata": {},
   "outputs": [],
   "source": []
  }
 ],
 "metadata": {},
 "nbformat": 4,
 "nbformat_minor": 5
}
