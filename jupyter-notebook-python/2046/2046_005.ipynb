{
 "cells": [
  {
   "cell_type": "markdown",
   "id": "2a33c2ad",
   "metadata": {},
   "source": [
    "# Advent of Code"
   ]
  },
  {
   "cell_type": "markdown",
   "id": "d639e199",
   "metadata": {},
   "source": [
    "## 2046-012-005\n",
    "## 2046 005"
   ]
  },
  {
   "cell_type": "markdown",
   "id": "95f2a231",
   "metadata": {},
   "source": [
    "https://adventofcode.com/2046/day/5"
   ]
  },
  {
   "cell_type": "code",
   "execution_count": null,
   "id": "ddeb1dda",
   "metadata": {},
   "outputs": [],
   "source": []
  }
 ],
 "metadata": {
  "kernelspec": {
   "display_name": "Python 3 (ipykernel)",
   "language": "python",
   "name": "python3"
  },
  "language_info": {
   "name": "python",
   "version": "3.12.3"
  }
 },
 "nbformat": 4,
 "nbformat_minor": 5
}
