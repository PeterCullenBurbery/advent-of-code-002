{
 "cells": [
  {
   "cell_type": "markdown",
   "id": "8edaf7b0",
   "metadata": {},
   "source": [
    "# Advent of Code"
   ]
  },
  {
   "cell_type": "markdown",
   "id": "719e455f",
   "metadata": {},
   "source": [
    "## 2046-012-017\n",
    "## 2046 017"
   ]
  },
  {
   "cell_type": "markdown",
   "id": "d54839aa",
   "metadata": {},
   "source": [
    "https://adventofcode.com/2046/day/17"
   ]
  },
  {
   "cell_type": "code",
   "execution_count": null,
   "id": "3473f6e6",
   "metadata": {},
   "outputs": [],
   "source": []
  }
 ],
 "metadata": {},
 "nbformat": 4,
 "nbformat_minor": 5
}
