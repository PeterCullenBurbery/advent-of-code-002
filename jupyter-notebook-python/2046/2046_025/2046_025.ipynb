{
 "cells": [
  {
   "cell_type": "markdown",
   "id": "130c12bf",
   "metadata": {},
   "source": [
    "# Advent of Code"
   ]
  },
  {
   "cell_type": "markdown",
   "id": "ce060ae0",
   "metadata": {},
   "source": [
    "## 2046-012-025\n",
    "## 2046 025"
   ]
  },
  {
   "cell_type": "markdown",
   "id": "498050c6",
   "metadata": {},
   "source": [
    "https://adventofcode.com/2046/day/25"
   ]
  },
  {
   "cell_type": "code",
   "execution_count": null,
   "id": "5de1f419",
   "metadata": {},
   "outputs": [],
   "source": []
  }
 ],
 "metadata": {},
 "nbformat": 4,
 "nbformat_minor": 5
}
