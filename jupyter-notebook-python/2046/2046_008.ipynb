{
 "cells": [
  {
   "cell_type": "markdown",
   "id": "d01bb1fe",
   "metadata": {},
   "source": [
    "# Advent of Code"
   ]
  },
  {
   "cell_type": "markdown",
   "id": "0ab36f1e",
   "metadata": {},
   "source": [
    "## 2046-012-008\n",
    "## 2046 008"
   ]
  },
  {
   "cell_type": "markdown",
   "id": "5a16650f",
   "metadata": {},
   "source": [
    "https://adventofcode.com/2046/day/8"
   ]
  },
  {
   "cell_type": "code",
   "execution_count": null,
   "id": "e55ae6f2",
   "metadata": {},
   "outputs": [],
   "source": []
  }
 ],
 "metadata": {
  "kernelspec": {
   "display_name": "Python 3 (ipykernel)",
   "language": "python",
   "name": "python3"
  },
  "language_info": {
   "name": "python",
   "version": "3.12.3"
  }
 },
 "nbformat": 4,
 "nbformat_minor": 5
}
