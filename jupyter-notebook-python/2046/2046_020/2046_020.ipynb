{
 "cells": [
  {
   "cell_type": "markdown",
   "id": "b57da69f",
   "metadata": {},
   "source": [
    "# Advent of Code"
   ]
  },
  {
   "cell_type": "markdown",
   "id": "9292a19a",
   "metadata": {},
   "source": [
    "## 2046-012-020\n",
    "## 2046 020"
   ]
  },
  {
   "cell_type": "markdown",
   "id": "ced11970",
   "metadata": {},
   "source": [
    "https://adventofcode.com/2046/day/20"
   ]
  },
  {
   "cell_type": "code",
   "execution_count": null,
   "id": "576cc90e",
   "metadata": {},
   "outputs": [],
   "source": []
  }
 ],
 "metadata": {},
 "nbformat": 4,
 "nbformat_minor": 5
}
