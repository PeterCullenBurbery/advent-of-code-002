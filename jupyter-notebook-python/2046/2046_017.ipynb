{
 "cells": [
  {
   "cell_type": "markdown",
   "id": "bcfcbad1",
   "metadata": {},
   "source": [
    "# Advent of Code"
   ]
  },
  {
   "cell_type": "markdown",
   "id": "1b6b5b4c",
   "metadata": {},
   "source": [
    "## 2046-012-017\n",
    "## 2046 017"
   ]
  },
  {
   "cell_type": "markdown",
   "id": "128fccf9",
   "metadata": {},
   "source": [
    "https://adventofcode.com/2046/day/17"
   ]
  },
  {
   "cell_type": "code",
   "execution_count": null,
   "id": "a201f02b",
   "metadata": {},
   "outputs": [],
   "source": []
  }
 ],
 "metadata": {
  "kernelspec": {
   "display_name": "Python 3 (ipykernel)",
   "language": "python",
   "name": "python3"
  },
  "language_info": {
   "name": "python",
   "version": "3.12.3"
  }
 },
 "nbformat": 4,
 "nbformat_minor": 5
}
