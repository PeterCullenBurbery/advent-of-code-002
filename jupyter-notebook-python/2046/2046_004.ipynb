{
 "cells": [
  {
   "cell_type": "markdown",
   "id": "ca59e6ef",
   "metadata": {},
   "source": [
    "# Advent of Code"
   ]
  },
  {
   "cell_type": "markdown",
   "id": "9055dc1c",
   "metadata": {},
   "source": [
    "## 2046-012-004\n",
    "## 2046 004"
   ]
  },
  {
   "cell_type": "markdown",
   "id": "ac0cecd9",
   "metadata": {},
   "source": [
    "https://adventofcode.com/2046/day/4"
   ]
  },
  {
   "cell_type": "code",
   "execution_count": null,
   "id": "1a60aaad",
   "metadata": {},
   "outputs": [],
   "source": []
  }
 ],
 "metadata": {
  "kernelspec": {
   "display_name": "Python 3 (ipykernel)",
   "language": "python",
   "name": "python3"
  },
  "language_info": {
   "name": "python",
   "version": "3.12.3"
  }
 },
 "nbformat": 4,
 "nbformat_minor": 5
}
