{
 "cells": [
  {
   "cell_type": "markdown",
   "id": "2fbde5c9",
   "metadata": {},
   "source": [
    "# Advent of Code"
   ]
  },
  {
   "cell_type": "markdown",
   "id": "015aaac6",
   "metadata": {},
   "source": [
    "## 2046-012-013\n",
    "## 2046 013"
   ]
  },
  {
   "cell_type": "markdown",
   "id": "2918a7ff",
   "metadata": {},
   "source": [
    "https://adventofcode.com/2046/day/13"
   ]
  },
  {
   "cell_type": "code",
   "execution_count": null,
   "id": "ba20ce52",
   "metadata": {},
   "outputs": [],
   "source": []
  }
 ],
 "metadata": {
  "kernelspec": {
   "display_name": "Python 3 (ipykernel)",
   "language": "python",
   "name": "python3"
  },
  "language_info": {
   "name": "python",
   "version": "3.12.3"
  }
 },
 "nbformat": 4,
 "nbformat_minor": 5
}
