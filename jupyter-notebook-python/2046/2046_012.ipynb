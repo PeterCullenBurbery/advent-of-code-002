{
 "cells": [
  {
   "cell_type": "markdown",
   "id": "dd6c9508",
   "metadata": {},
   "source": [
    "# Advent of Code"
   ]
  },
  {
   "cell_type": "markdown",
   "id": "2aef0114",
   "metadata": {},
   "source": [
    "## 2046-012-012\n",
    "## 2046 012"
   ]
  },
  {
   "cell_type": "markdown",
   "id": "6a0b7a7b",
   "metadata": {},
   "source": [
    "https://adventofcode.com/2046/day/12"
   ]
  },
  {
   "cell_type": "code",
   "execution_count": null,
   "id": "9606383f",
   "metadata": {},
   "outputs": [],
   "source": []
  }
 ],
 "metadata": {
  "kernelspec": {
   "display_name": "Python 3 (ipykernel)",
   "language": "python",
   "name": "python3"
  },
  "language_info": {
   "name": "python",
   "version": "3.12.3"
  }
 },
 "nbformat": 4,
 "nbformat_minor": 5
}
