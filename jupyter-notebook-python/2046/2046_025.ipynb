{
 "cells": [
  {
   "cell_type": "markdown",
   "id": "a537f392",
   "metadata": {},
   "source": [
    "# Advent of Code"
   ]
  },
  {
   "cell_type": "markdown",
   "id": "9c1edb63",
   "metadata": {},
   "source": [
    "## 2046-012-025\n",
    "## 2046 025"
   ]
  },
  {
   "cell_type": "markdown",
   "id": "553e9576",
   "metadata": {},
   "source": [
    "https://adventofcode.com/2046/day/25"
   ]
  },
  {
   "cell_type": "code",
   "execution_count": null,
   "id": "d3e1e6b4",
   "metadata": {},
   "outputs": [],
   "source": []
  }
 ],
 "metadata": {
  "kernelspec": {
   "display_name": "Python 3 (ipykernel)",
   "language": "python",
   "name": "python3"
  },
  "language_info": {
   "name": "python",
   "version": "3.12.3"
  }
 },
 "nbformat": 4,
 "nbformat_minor": 5
}
