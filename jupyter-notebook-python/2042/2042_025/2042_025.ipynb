{
 "cells": [
  {
   "cell_type": "markdown",
   "id": "f3c79f46",
   "metadata": {},
   "source": [
    "# Advent of Code"
   ]
  },
  {
   "cell_type": "markdown",
   "id": "49c5362a",
   "metadata": {},
   "source": [
    "## 2042-012-025\n",
    "## 2042 025"
   ]
  },
  {
   "cell_type": "markdown",
   "id": "38b70b3a",
   "metadata": {},
   "source": [
    "https://adventofcode.com/2042/day/25"
   ]
  },
  {
   "cell_type": "code",
   "execution_count": null,
   "id": "0b29adaa",
   "metadata": {},
   "outputs": [],
   "source": []
  }
 ],
 "metadata": {},
 "nbformat": 4,
 "nbformat_minor": 5
}
