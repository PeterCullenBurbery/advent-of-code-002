{
 "cells": [
  {
   "cell_type": "markdown",
   "id": "b63aa8e9",
   "metadata": {},
   "source": [
    "# Advent of Code"
   ]
  },
  {
   "cell_type": "markdown",
   "id": "c136544f",
   "metadata": {},
   "source": [
    "## 2042-012-006\n",
    "## 2042 006"
   ]
  },
  {
   "cell_type": "markdown",
   "id": "1baf83d3",
   "metadata": {},
   "source": [
    "https://adventofcode.com/2042/day/6"
   ]
  },
  {
   "cell_type": "code",
   "execution_count": null,
   "id": "ee720b24",
   "metadata": {},
   "outputs": [],
   "source": []
  }
 ],
 "metadata": {},
 "nbformat": 4,
 "nbformat_minor": 5
}
