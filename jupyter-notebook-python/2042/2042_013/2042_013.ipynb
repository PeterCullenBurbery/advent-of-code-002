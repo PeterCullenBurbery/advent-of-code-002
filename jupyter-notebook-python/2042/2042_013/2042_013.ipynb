{
 "cells": [
  {
   "cell_type": "markdown",
   "id": "0efc50f7",
   "metadata": {},
   "source": [
    "# Advent of Code"
   ]
  },
  {
   "cell_type": "markdown",
   "id": "5381d3d7",
   "metadata": {},
   "source": [
    "## 2042-012-013\n",
    "## 2042 013"
   ]
  },
  {
   "cell_type": "markdown",
   "id": "afaef108",
   "metadata": {},
   "source": [
    "https://adventofcode.com/2042/day/13"
   ]
  },
  {
   "cell_type": "code",
   "execution_count": null,
   "id": "178c8b29",
   "metadata": {},
   "outputs": [],
   "source": []
  }
 ],
 "metadata": {},
 "nbformat": 4,
 "nbformat_minor": 5
}
