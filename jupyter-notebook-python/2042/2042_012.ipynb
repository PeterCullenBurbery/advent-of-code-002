{
 "cells": [
  {
   "cell_type": "markdown",
   "id": "bff4a823",
   "metadata": {},
   "source": [
    "# Advent of Code"
   ]
  },
  {
   "cell_type": "markdown",
   "id": "dc5f1480",
   "metadata": {},
   "source": [
    "## 2042-012-012\n",
    "## 2042 012"
   ]
  },
  {
   "cell_type": "markdown",
   "id": "b9aafedb",
   "metadata": {},
   "source": [
    "https://adventofcode.com/2042/day/12"
   ]
  },
  {
   "cell_type": "code",
   "execution_count": null,
   "id": "a9ba75e5",
   "metadata": {},
   "outputs": [],
   "source": []
  }
 ],
 "metadata": {
  "kernelspec": {
   "display_name": "Python 3 (ipykernel)",
   "language": "python",
   "name": "python3"
  },
  "language_info": {
   "name": "python",
   "version": "3.12.3"
  }
 },
 "nbformat": 4,
 "nbformat_minor": 5
}
