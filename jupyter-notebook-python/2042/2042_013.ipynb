{
 "cells": [
  {
   "cell_type": "markdown",
   "id": "e459f0e5",
   "metadata": {},
   "source": [
    "# Advent of Code"
   ]
  },
  {
   "cell_type": "markdown",
   "id": "eea7cf4c",
   "metadata": {},
   "source": [
    "## 2042-012-013\n",
    "## 2042 013"
   ]
  },
  {
   "cell_type": "markdown",
   "id": "f016fecd",
   "metadata": {},
   "source": [
    "https://adventofcode.com/2042/day/13"
   ]
  },
  {
   "cell_type": "code",
   "execution_count": null,
   "id": "40797153",
   "metadata": {},
   "outputs": [],
   "source": []
  }
 ],
 "metadata": {
  "kernelspec": {
   "display_name": "Python 3 (ipykernel)",
   "language": "python",
   "name": "python3"
  },
  "language_info": {
   "name": "python",
   "version": "3.12.3"
  }
 },
 "nbformat": 4,
 "nbformat_minor": 5
}
