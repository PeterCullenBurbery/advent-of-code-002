{
 "cells": [
  {
   "cell_type": "markdown",
   "id": "6b328bd5",
   "metadata": {},
   "source": [
    "# Advent of Code"
   ]
  },
  {
   "cell_type": "markdown",
   "id": "eb519c76",
   "metadata": {},
   "source": [
    "## 2042-012-008\n",
    "## 2042 008"
   ]
  },
  {
   "cell_type": "markdown",
   "id": "beaaec45",
   "metadata": {},
   "source": [
    "https://adventofcode.com/2042/day/8"
   ]
  },
  {
   "cell_type": "code",
   "execution_count": null,
   "id": "24e1b479",
   "metadata": {},
   "outputs": [],
   "source": []
  }
 ],
 "metadata": {},
 "nbformat": 4,
 "nbformat_minor": 5
}
