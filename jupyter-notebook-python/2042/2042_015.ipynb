{
 "cells": [
  {
   "cell_type": "markdown",
   "id": "93bf2c68",
   "metadata": {},
   "source": [
    "# Advent of Code"
   ]
  },
  {
   "cell_type": "markdown",
   "id": "5fc0d882",
   "metadata": {},
   "source": [
    "## 2042-012-015\n",
    "## 2042 015"
   ]
  },
  {
   "cell_type": "markdown",
   "id": "0e06f637",
   "metadata": {},
   "source": [
    "https://adventofcode.com/2042/day/15"
   ]
  },
  {
   "cell_type": "code",
   "execution_count": null,
   "id": "c1385cd7",
   "metadata": {},
   "outputs": [],
   "source": []
  }
 ],
 "metadata": {
  "kernelspec": {
   "display_name": "Python 3 (ipykernel)",
   "language": "python",
   "name": "python3"
  },
  "language_info": {
   "name": "python",
   "version": "3.12.3"
  }
 },
 "nbformat": 4,
 "nbformat_minor": 5
}
