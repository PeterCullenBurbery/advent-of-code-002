{
 "cells": [
  {
   "cell_type": "markdown",
   "id": "a173dd6a",
   "metadata": {},
   "source": [
    "# Advent of Code"
   ]
  },
  {
   "cell_type": "markdown",
   "id": "cfaee67d",
   "metadata": {},
   "source": [
    "## 2042-012-020\n",
    "## 2042 020"
   ]
  },
  {
   "cell_type": "markdown",
   "id": "39355434",
   "metadata": {},
   "source": [
    "https://adventofcode.com/2042/day/20"
   ]
  },
  {
   "cell_type": "code",
   "execution_count": null,
   "id": "d26510df",
   "metadata": {},
   "outputs": [],
   "source": []
  }
 ],
 "metadata": {},
 "nbformat": 4,
 "nbformat_minor": 5
}
