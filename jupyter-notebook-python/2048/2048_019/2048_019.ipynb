{
 "cells": [
  {
   "cell_type": "markdown",
   "id": "054aace7",
   "metadata": {},
   "source": [
    "# Advent of Code"
   ]
  },
  {
   "cell_type": "markdown",
   "id": "2f0c7fdc",
   "metadata": {},
   "source": [
    "## 2048-012-019\n",
    "## 2048 019"
   ]
  },
  {
   "cell_type": "markdown",
   "id": "c6878660",
   "metadata": {},
   "source": [
    "https://adventofcode.com/2048/day/19"
   ]
  },
  {
   "cell_type": "code",
   "execution_count": null,
   "id": "bc7163b0",
   "metadata": {},
   "outputs": [],
   "source": []
  }
 ],
 "metadata": {},
 "nbformat": 4,
 "nbformat_minor": 5
}
