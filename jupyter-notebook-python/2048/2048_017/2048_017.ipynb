{
 "cells": [
  {
   "cell_type": "markdown",
   "id": "e94d22b1",
   "metadata": {},
   "source": [
    "# Advent of Code"
   ]
  },
  {
   "cell_type": "markdown",
   "id": "57e8d508",
   "metadata": {},
   "source": [
    "## 2048-012-017\n",
    "## 2048 017"
   ]
  },
  {
   "cell_type": "markdown",
   "id": "9101e6fd",
   "metadata": {},
   "source": [
    "https://adventofcode.com/2048/day/17"
   ]
  },
  {
   "cell_type": "code",
   "execution_count": null,
   "id": "060ecd09",
   "metadata": {},
   "outputs": [],
   "source": []
  }
 ],
 "metadata": {},
 "nbformat": 4,
 "nbformat_minor": 5
}
