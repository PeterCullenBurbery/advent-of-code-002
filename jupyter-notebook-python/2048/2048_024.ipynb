{
 "cells": [
  {
   "cell_type": "markdown",
   "id": "80c0f66c",
   "metadata": {},
   "source": [
    "# Advent of Code"
   ]
  },
  {
   "cell_type": "markdown",
   "id": "66b43089",
   "metadata": {},
   "source": [
    "## 2048-012-024\n",
    "## 2048 024"
   ]
  },
  {
   "cell_type": "markdown",
   "id": "8ef80765",
   "metadata": {},
   "source": [
    "https://adventofcode.com/2048/day/24"
   ]
  },
  {
   "cell_type": "code",
   "execution_count": null,
   "id": "ec485b48",
   "metadata": {},
   "outputs": [],
   "source": []
  }
 ],
 "metadata": {
  "kernelspec": {
   "display_name": "Python 3 (ipykernel)",
   "language": "python",
   "name": "python3"
  },
  "language_info": {
   "name": "python",
   "version": "3.12.3"
  }
 },
 "nbformat": 4,
 "nbformat_minor": 5
}
