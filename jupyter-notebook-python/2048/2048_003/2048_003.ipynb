{
 "cells": [
  {
   "cell_type": "markdown",
   "id": "8a73e504",
   "metadata": {},
   "source": [
    "# Advent of Code"
   ]
  },
  {
   "cell_type": "markdown",
   "id": "7537b7b6",
   "metadata": {},
   "source": [
    "## 2048-012-003\n",
    "## 2048 003"
   ]
  },
  {
   "cell_type": "markdown",
   "id": "d7d86982",
   "metadata": {},
   "source": [
    "https://adventofcode.com/2048/day/3"
   ]
  },
  {
   "cell_type": "code",
   "execution_count": null,
   "id": "2f178c20",
   "metadata": {},
   "outputs": [],
   "source": []
  }
 ],
 "metadata": {},
 "nbformat": 4,
 "nbformat_minor": 5
}
