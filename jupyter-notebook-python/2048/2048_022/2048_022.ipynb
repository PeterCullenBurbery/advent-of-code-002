{
 "cells": [
  {
   "cell_type": "markdown",
   "id": "feb237cc",
   "metadata": {},
   "source": [
    "# Advent of Code"
   ]
  },
  {
   "cell_type": "markdown",
   "id": "9f2860ce",
   "metadata": {},
   "source": [
    "## 2048-012-022\n",
    "## 2048 022"
   ]
  },
  {
   "cell_type": "markdown",
   "id": "71899c51",
   "metadata": {},
   "source": [
    "https://adventofcode.com/2048/day/22"
   ]
  },
  {
   "cell_type": "code",
   "execution_count": null,
   "id": "62de279c",
   "metadata": {},
   "outputs": [],
   "source": []
  }
 ],
 "metadata": {},
 "nbformat": 4,
 "nbformat_minor": 5
}
