{
 "cells": [
  {
   "cell_type": "markdown",
   "id": "beffdc17",
   "metadata": {},
   "source": [
    "# Advent of Code"
   ]
  },
  {
   "cell_type": "markdown",
   "id": "26c3c9a8",
   "metadata": {},
   "source": [
    "## 2048-012-022\n",
    "## 2048 022"
   ]
  },
  {
   "cell_type": "markdown",
   "id": "c79f8ddd",
   "metadata": {},
   "source": [
    "https://adventofcode.com/2048/day/22"
   ]
  },
  {
   "cell_type": "code",
   "execution_count": null,
   "id": "645e772c",
   "metadata": {},
   "outputs": [],
   "source": []
  }
 ],
 "metadata": {
  "kernelspec": {
   "display_name": "Python 3 (ipykernel)",
   "language": "python",
   "name": "python3"
  },
  "language_info": {
   "name": "python",
   "version": "3.12.3"
  }
 },
 "nbformat": 4,
 "nbformat_minor": 5
}
