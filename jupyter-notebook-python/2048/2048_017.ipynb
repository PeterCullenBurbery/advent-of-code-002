{
 "cells": [
  {
   "cell_type": "markdown",
   "id": "2c0e9af0",
   "metadata": {},
   "source": [
    "# Advent of Code"
   ]
  },
  {
   "cell_type": "markdown",
   "id": "d0788ce4",
   "metadata": {},
   "source": [
    "## 2048-012-017\n",
    "## 2048 017"
   ]
  },
  {
   "cell_type": "markdown",
   "id": "35d6b4f9",
   "metadata": {},
   "source": [
    "https://adventofcode.com/2048/day/17"
   ]
  },
  {
   "cell_type": "code",
   "execution_count": null,
   "id": "5f982747",
   "metadata": {},
   "outputs": [],
   "source": []
  }
 ],
 "metadata": {
  "kernelspec": {
   "display_name": "Python 3 (ipykernel)",
   "language": "python",
   "name": "python3"
  },
  "language_info": {
   "name": "python",
   "version": "3.12.3"
  }
 },
 "nbformat": 4,
 "nbformat_minor": 5
}
