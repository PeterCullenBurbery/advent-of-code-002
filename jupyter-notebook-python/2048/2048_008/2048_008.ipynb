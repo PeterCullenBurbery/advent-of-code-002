{
 "cells": [
  {
   "cell_type": "markdown",
   "id": "fa057fa7",
   "metadata": {},
   "source": [
    "# Advent of Code"
   ]
  },
  {
   "cell_type": "markdown",
   "id": "eff7039a",
   "metadata": {},
   "source": [
    "## 2048-012-008\n",
    "## 2048 008"
   ]
  },
  {
   "cell_type": "markdown",
   "id": "b224ffa8",
   "metadata": {},
   "source": [
    "https://adventofcode.com/2048/day/8"
   ]
  },
  {
   "cell_type": "code",
   "execution_count": null,
   "id": "1354a854",
   "metadata": {},
   "outputs": [],
   "source": []
  }
 ],
 "metadata": {},
 "nbformat": 4,
 "nbformat_minor": 5
}
