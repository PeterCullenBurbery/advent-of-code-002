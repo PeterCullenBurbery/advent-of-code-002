{
 "cells": [
  {
   "cell_type": "markdown",
   "id": "d6691fb2",
   "metadata": {},
   "source": [
    "# Advent of Code"
   ]
  },
  {
   "cell_type": "markdown",
   "id": "5cbdc11a",
   "metadata": {},
   "source": [
    "## 2048-012-006\n",
    "## 2048 006"
   ]
  },
  {
   "cell_type": "markdown",
   "id": "73ad5cf4",
   "metadata": {},
   "source": [
    "https://adventofcode.com/2048/day/6"
   ]
  },
  {
   "cell_type": "code",
   "execution_count": null,
   "id": "3644269d",
   "metadata": {},
   "outputs": [],
   "source": []
  }
 ],
 "metadata": {
  "kernelspec": {
   "display_name": "Python 3 (ipykernel)",
   "language": "python",
   "name": "python3"
  },
  "language_info": {
   "name": "python",
   "version": "3.12.3"
  }
 },
 "nbformat": 4,
 "nbformat_minor": 5
}
