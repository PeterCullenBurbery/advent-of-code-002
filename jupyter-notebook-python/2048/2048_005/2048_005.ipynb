{
 "cells": [
  {
   "cell_type": "markdown",
   "id": "690d770b",
   "metadata": {},
   "source": [
    "# Advent of Code"
   ]
  },
  {
   "cell_type": "markdown",
   "id": "6577bb61",
   "metadata": {},
   "source": [
    "## 2048-012-005\n",
    "## 2048 005"
   ]
  },
  {
   "cell_type": "markdown",
   "id": "5fb8dd2b",
   "metadata": {},
   "source": [
    "https://adventofcode.com/2048/day/5"
   ]
  },
  {
   "cell_type": "code",
   "execution_count": null,
   "id": "e0482241",
   "metadata": {},
   "outputs": [],
   "source": []
  }
 ],
 "metadata": {},
 "nbformat": 4,
 "nbformat_minor": 5
}
