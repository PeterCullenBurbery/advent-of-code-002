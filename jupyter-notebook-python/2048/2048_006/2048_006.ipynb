{
 "cells": [
  {
   "cell_type": "markdown",
   "id": "d17dd23f",
   "metadata": {},
   "source": [
    "# Advent of Code"
   ]
  },
  {
   "cell_type": "markdown",
   "id": "31868e33",
   "metadata": {},
   "source": [
    "## 2048-012-006\n",
    "## 2048 006"
   ]
  },
  {
   "cell_type": "markdown",
   "id": "0db5791b",
   "metadata": {},
   "source": [
    "https://adventofcode.com/2048/day/6"
   ]
  },
  {
   "cell_type": "code",
   "execution_count": null,
   "id": "37f70ebd",
   "metadata": {},
   "outputs": [],
   "source": []
  }
 ],
 "metadata": {},
 "nbformat": 4,
 "nbformat_minor": 5
}
