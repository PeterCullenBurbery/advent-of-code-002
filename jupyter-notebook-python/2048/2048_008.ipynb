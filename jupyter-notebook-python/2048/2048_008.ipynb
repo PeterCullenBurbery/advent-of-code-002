{
 "cells": [
  {
   "cell_type": "markdown",
   "id": "993a4d4c",
   "metadata": {},
   "source": [
    "# Advent of Code"
   ]
  },
  {
   "cell_type": "markdown",
   "id": "52f09eee",
   "metadata": {},
   "source": [
    "## 2048-012-008\n",
    "## 2048 008"
   ]
  },
  {
   "cell_type": "markdown",
   "id": "7be3e01f",
   "metadata": {},
   "source": [
    "https://adventofcode.com/2048/day/8"
   ]
  },
  {
   "cell_type": "code",
   "execution_count": null,
   "id": "77768df7",
   "metadata": {},
   "outputs": [],
   "source": []
  }
 ],
 "metadata": {
  "kernelspec": {
   "display_name": "Python 3 (ipykernel)",
   "language": "python",
   "name": "python3"
  },
  "language_info": {
   "name": "python",
   "version": "3.12.3"
  }
 },
 "nbformat": 4,
 "nbformat_minor": 5
}
