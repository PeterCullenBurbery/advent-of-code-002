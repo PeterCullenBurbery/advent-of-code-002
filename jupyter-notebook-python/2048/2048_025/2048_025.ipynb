{
 "cells": [
  {
   "cell_type": "markdown",
   "id": "90db0e38",
   "metadata": {},
   "source": [
    "# Advent of Code"
   ]
  },
  {
   "cell_type": "markdown",
   "id": "0dbd2d04",
   "metadata": {},
   "source": [
    "## 2048-012-025\n",
    "## 2048 025"
   ]
  },
  {
   "cell_type": "markdown",
   "id": "ec6f0a8c",
   "metadata": {},
   "source": [
    "https://adventofcode.com/2048/day/25"
   ]
  },
  {
   "cell_type": "code",
   "execution_count": null,
   "id": "beaa8ae9",
   "metadata": {},
   "outputs": [],
   "source": []
  }
 ],
 "metadata": {},
 "nbformat": 4,
 "nbformat_minor": 5
}
