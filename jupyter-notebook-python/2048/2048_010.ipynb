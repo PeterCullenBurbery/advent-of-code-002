{
 "cells": [
  {
   "cell_type": "markdown",
   "id": "2d4585a0",
   "metadata": {},
   "source": [
    "# Advent of Code"
   ]
  },
  {
   "cell_type": "markdown",
   "id": "4cb8355a",
   "metadata": {},
   "source": [
    "## 2048-012-010\n",
    "## 2048 010"
   ]
  },
  {
   "cell_type": "markdown",
   "id": "823cf2fc",
   "metadata": {},
   "source": [
    "https://adventofcode.com/2048/day/10"
   ]
  },
  {
   "cell_type": "code",
   "execution_count": null,
   "id": "76a8d675",
   "metadata": {},
   "outputs": [],
   "source": []
  }
 ],
 "metadata": {
  "kernelspec": {
   "display_name": "Python 3 (ipykernel)",
   "language": "python",
   "name": "python3"
  },
  "language_info": {
   "name": "python",
   "version": "3.12.3"
  }
 },
 "nbformat": 4,
 "nbformat_minor": 5
}
