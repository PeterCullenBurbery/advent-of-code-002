{
 "cells": [
  {
   "cell_type": "markdown",
   "id": "c13b86a2",
   "metadata": {},
   "source": [
    "# Advent of Code"
   ]
  },
  {
   "cell_type": "markdown",
   "id": "8d5d5ebc",
   "metadata": {},
   "source": [
    "## 2048-012-013\n",
    "## 2048 013"
   ]
  },
  {
   "cell_type": "markdown",
   "id": "4efc66fe",
   "metadata": {},
   "source": [
    "https://adventofcode.com/2048/day/13"
   ]
  },
  {
   "cell_type": "code",
   "execution_count": null,
   "id": "73ab22c8",
   "metadata": {},
   "outputs": [],
   "source": []
  }
 ],
 "metadata": {},
 "nbformat": 4,
 "nbformat_minor": 5
}
