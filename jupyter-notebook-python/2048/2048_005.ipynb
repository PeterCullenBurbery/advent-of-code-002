{
 "cells": [
  {
   "cell_type": "markdown",
   "id": "d0484c95",
   "metadata": {},
   "source": [
    "# Advent of Code"
   ]
  },
  {
   "cell_type": "markdown",
   "id": "dd318c0c",
   "metadata": {},
   "source": [
    "## 2048-012-005\n",
    "## 2048 005"
   ]
  },
  {
   "cell_type": "markdown",
   "id": "e328e06c",
   "metadata": {},
   "source": [
    "https://adventofcode.com/2048/day/5"
   ]
  },
  {
   "cell_type": "code",
   "execution_count": null,
   "id": "d12df300",
   "metadata": {},
   "outputs": [],
   "source": []
  }
 ],
 "metadata": {
  "kernelspec": {
   "display_name": "Python 3 (ipykernel)",
   "language": "python",
   "name": "python3"
  },
  "language_info": {
   "name": "python",
   "version": "3.12.3"
  }
 },
 "nbformat": 4,
 "nbformat_minor": 5
}
