{
 "cells": [
  {
   "cell_type": "markdown",
   "id": "694fa269",
   "metadata": {},
   "source": [
    "# Advent of Code"
   ]
  },
  {
   "cell_type": "markdown",
   "id": "694f87b2",
   "metadata": {},
   "source": [
    "## 2048-012-025\n",
    "## 2048 025"
   ]
  },
  {
   "cell_type": "markdown",
   "id": "93d77834",
   "metadata": {},
   "source": [
    "https://adventofcode.com/2048/day/25"
   ]
  },
  {
   "cell_type": "code",
   "execution_count": null,
   "id": "c1e9af25",
   "metadata": {},
   "outputs": [],
   "source": []
  }
 ],
 "metadata": {
  "kernelspec": {
   "display_name": "Python 3 (ipykernel)",
   "language": "python",
   "name": "python3"
  },
  "language_info": {
   "name": "python",
   "version": "3.12.3"
  }
 },
 "nbformat": 4,
 "nbformat_minor": 5
}
