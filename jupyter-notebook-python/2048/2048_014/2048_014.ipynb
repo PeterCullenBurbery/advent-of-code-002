{
 "cells": [
  {
   "cell_type": "markdown",
   "id": "b4c10512",
   "metadata": {},
   "source": [
    "# Advent of Code"
   ]
  },
  {
   "cell_type": "markdown",
   "id": "cc9f7cca",
   "metadata": {},
   "source": [
    "## 2048-012-014\n",
    "## 2048 014"
   ]
  },
  {
   "cell_type": "markdown",
   "id": "941ffc08",
   "metadata": {},
   "source": [
    "https://adventofcode.com/2048/day/14"
   ]
  },
  {
   "cell_type": "code",
   "execution_count": null,
   "id": "13e19f96",
   "metadata": {},
   "outputs": [],
   "source": []
  }
 ],
 "metadata": {},
 "nbformat": 4,
 "nbformat_minor": 5
}
