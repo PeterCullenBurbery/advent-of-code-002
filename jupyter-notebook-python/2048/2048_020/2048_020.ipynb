{
 "cells": [
  {
   "cell_type": "markdown",
   "id": "a4f6d661",
   "metadata": {},
   "source": [
    "# Advent of Code"
   ]
  },
  {
   "cell_type": "markdown",
   "id": "198ec115",
   "metadata": {},
   "source": [
    "## 2048-012-020\n",
    "## 2048 020"
   ]
  },
  {
   "cell_type": "markdown",
   "id": "c24a5a9f",
   "metadata": {},
   "source": [
    "https://adventofcode.com/2048/day/20"
   ]
  },
  {
   "cell_type": "code",
   "execution_count": null,
   "id": "c8ef847c",
   "metadata": {},
   "outputs": [],
   "source": []
  }
 ],
 "metadata": {},
 "nbformat": 4,
 "nbformat_minor": 5
}
