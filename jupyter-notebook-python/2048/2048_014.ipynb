{
 "cells": [
  {
   "cell_type": "markdown",
   "id": "4de898dc",
   "metadata": {},
   "source": [
    "# Advent of Code"
   ]
  },
  {
   "cell_type": "markdown",
   "id": "ea313ede",
   "metadata": {},
   "source": [
    "## 2048-012-014\n",
    "## 2048 014"
   ]
  },
  {
   "cell_type": "markdown",
   "id": "4e8e959a",
   "metadata": {},
   "source": [
    "https://adventofcode.com/2048/day/14"
   ]
  },
  {
   "cell_type": "code",
   "execution_count": null,
   "id": "7e2cb68f",
   "metadata": {},
   "outputs": [],
   "source": []
  }
 ],
 "metadata": {
  "kernelspec": {
   "display_name": "Python 3 (ipykernel)",
   "language": "python",
   "name": "python3"
  },
  "language_info": {
   "name": "python",
   "version": "3.12.3"
  }
 },
 "nbformat": 4,
 "nbformat_minor": 5
}
