{
 "cells": [
  {
   "cell_type": "markdown",
   "id": "15716f46",
   "metadata": {},
   "source": [
    "# Advent of Code"
   ]
  },
  {
   "cell_type": "markdown",
   "id": "79a16705",
   "metadata": {},
   "source": [
    "## 2048-012-001\n",
    "## 2048 001"
   ]
  },
  {
   "cell_type": "markdown",
   "id": "2d757f71",
   "metadata": {},
   "source": [
    "https://adventofcode.com/2048/day/1"
   ]
  },
  {
   "cell_type": "code",
   "execution_count": null,
   "id": "2f6f7d94",
   "metadata": {},
   "outputs": [],
   "source": []
  }
 ],
 "metadata": {
  "kernelspec": {
   "display_name": "Python 3 (ipykernel)",
   "language": "python",
   "name": "python3"
  },
  "language_info": {
   "name": "python",
   "version": "3.12.3"
  }
 },
 "nbformat": 4,
 "nbformat_minor": 5
}
