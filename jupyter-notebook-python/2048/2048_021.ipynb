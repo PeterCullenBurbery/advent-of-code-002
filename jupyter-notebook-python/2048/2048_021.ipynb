{
 "cells": [
  {
   "cell_type": "markdown",
   "id": "495915c9",
   "metadata": {},
   "source": [
    "# Advent of Code"
   ]
  },
  {
   "cell_type": "markdown",
   "id": "b50965c9",
   "metadata": {},
   "source": [
    "## 2048-012-021\n",
    "## 2048 021"
   ]
  },
  {
   "cell_type": "markdown",
   "id": "7bbe667d",
   "metadata": {},
   "source": [
    "https://adventofcode.com/2048/day/21"
   ]
  },
  {
   "cell_type": "code",
   "execution_count": null,
   "id": "b8e5b0dc",
   "metadata": {},
   "outputs": [],
   "source": []
  }
 ],
 "metadata": {
  "kernelspec": {
   "display_name": "Python 3 (ipykernel)",
   "language": "python",
   "name": "python3"
  },
  "language_info": {
   "name": "python",
   "version": "3.12.3"
  }
 },
 "nbformat": 4,
 "nbformat_minor": 5
}
