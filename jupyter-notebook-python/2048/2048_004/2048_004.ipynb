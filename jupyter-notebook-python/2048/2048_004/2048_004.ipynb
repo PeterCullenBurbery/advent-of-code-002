{
 "cells": [
  {
   "cell_type": "markdown",
   "id": "12d99feb",
   "metadata": {},
   "source": [
    "# Advent of Code"
   ]
  },
  {
   "cell_type": "markdown",
   "id": "fa4c6e77",
   "metadata": {},
   "source": [
    "## 2048-012-004\n",
    "## 2048 004"
   ]
  },
  {
   "cell_type": "markdown",
   "id": "9aba60bb",
   "metadata": {},
   "source": [
    "https://adventofcode.com/2048/day/4"
   ]
  },
  {
   "cell_type": "code",
   "execution_count": null,
   "id": "1efe8876",
   "metadata": {},
   "outputs": [],
   "source": []
  }
 ],
 "metadata": {},
 "nbformat": 4,
 "nbformat_minor": 5
}
