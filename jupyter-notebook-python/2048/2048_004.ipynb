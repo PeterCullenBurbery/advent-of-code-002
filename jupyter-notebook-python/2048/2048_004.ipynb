{
 "cells": [
  {
   "cell_type": "markdown",
   "id": "5df3b2dc",
   "metadata": {},
   "source": [
    "# Advent of Code"
   ]
  },
  {
   "cell_type": "markdown",
   "id": "8a7c6310",
   "metadata": {},
   "source": [
    "## 2048-012-004\n",
    "## 2048 004"
   ]
  },
  {
   "cell_type": "markdown",
   "id": "5a2fde87",
   "metadata": {},
   "source": [
    "https://adventofcode.com/2048/day/4"
   ]
  },
  {
   "cell_type": "code",
   "execution_count": null,
   "id": "205892e9",
   "metadata": {},
   "outputs": [],
   "source": []
  }
 ],
 "metadata": {
  "kernelspec": {
   "display_name": "Python 3 (ipykernel)",
   "language": "python",
   "name": "python3"
  },
  "language_info": {
   "name": "python",
   "version": "3.12.3"
  }
 },
 "nbformat": 4,
 "nbformat_minor": 5
}
