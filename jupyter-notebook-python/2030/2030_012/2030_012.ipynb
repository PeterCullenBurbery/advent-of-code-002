{
 "cells": [
  {
   "cell_type": "markdown",
   "id": "ef345fd1",
   "metadata": {},
   "source": [
    "# Advent of Code"
   ]
  },
  {
   "cell_type": "markdown",
   "id": "83697cae",
   "metadata": {},
   "source": [
    "## 2030-012-012\n",
    "## 2030 012"
   ]
  },
  {
   "cell_type": "markdown",
   "id": "62163188",
   "metadata": {},
   "source": [
    "https://adventofcode.com/2030/day/12"
   ]
  },
  {
   "cell_type": "code",
   "execution_count": null,
   "id": "d99e4d7c",
   "metadata": {},
   "outputs": [],
   "source": []
  }
 ],
 "metadata": {},
 "nbformat": 4,
 "nbformat_minor": 5
}
