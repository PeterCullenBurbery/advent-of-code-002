{
 "cells": [
  {
   "cell_type": "markdown",
   "id": "e56b42dc",
   "metadata": {},
   "source": [
    "# Advent of Code"
   ]
  },
  {
   "cell_type": "markdown",
   "id": "adc87b77",
   "metadata": {},
   "source": [
    "## 2030-012-003\n",
    "## 2030 003"
   ]
  },
  {
   "cell_type": "markdown",
   "id": "73be8bdf",
   "metadata": {},
   "source": [
    "https://adventofcode.com/2030/day/3"
   ]
  },
  {
   "cell_type": "code",
   "execution_count": null,
   "id": "b951e3c6",
   "metadata": {},
   "outputs": [],
   "source": []
  }
 ],
 "metadata": {
  "kernelspec": {
   "display_name": "Python 3 (ipykernel)",
   "language": "python",
   "name": "python3"
  },
  "language_info": {
   "name": "python",
   "version": "3.12.3"
  }
 },
 "nbformat": 4,
 "nbformat_minor": 5
}
