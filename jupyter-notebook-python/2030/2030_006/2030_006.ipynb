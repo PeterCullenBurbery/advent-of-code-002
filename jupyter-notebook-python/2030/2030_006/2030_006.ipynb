{
 "cells": [
  {
   "cell_type": "markdown",
   "id": "76d806ef",
   "metadata": {},
   "source": [
    "# Advent of Code"
   ]
  },
  {
   "cell_type": "markdown",
   "id": "ca5d7b52",
   "metadata": {},
   "source": [
    "## 2030-012-006\n",
    "## 2030 006"
   ]
  },
  {
   "cell_type": "markdown",
   "id": "d584787d",
   "metadata": {},
   "source": [
    "https://adventofcode.com/2030/day/6"
   ]
  },
  {
   "cell_type": "code",
   "execution_count": null,
   "id": "2701fdaa",
   "metadata": {},
   "outputs": [],
   "source": []
  }
 ],
 "metadata": {},
 "nbformat": 4,
 "nbformat_minor": 5
}
