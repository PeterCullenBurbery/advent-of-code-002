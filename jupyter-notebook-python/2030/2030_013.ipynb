{
 "cells": [
  {
   "cell_type": "markdown",
   "id": "f523ac5b",
   "metadata": {},
   "source": [
    "# Advent of Code"
   ]
  },
  {
   "cell_type": "markdown",
   "id": "11026997",
   "metadata": {},
   "source": [
    "## 2030-012-013\n",
    "## 2030 013"
   ]
  },
  {
   "cell_type": "markdown",
   "id": "6d50bbc7",
   "metadata": {},
   "source": [
    "https://adventofcode.com/2030/day/13"
   ]
  },
  {
   "cell_type": "code",
   "execution_count": null,
   "id": "d4dd8ea8",
   "metadata": {},
   "outputs": [],
   "source": []
  }
 ],
 "metadata": {
  "kernelspec": {
   "display_name": "Python 3 (ipykernel)",
   "language": "python",
   "name": "python3"
  },
  "language_info": {
   "name": "python",
   "version": "3.12.3"
  }
 },
 "nbformat": 4,
 "nbformat_minor": 5
}
