{
 "cells": [
  {
   "cell_type": "markdown",
   "id": "91468710",
   "metadata": {},
   "source": [
    "# Advent of Code"
   ]
  },
  {
   "cell_type": "markdown",
   "id": "9d6aa691",
   "metadata": {},
   "source": [
    "## 2030-012-015\n",
    "## 2030 015"
   ]
  },
  {
   "cell_type": "markdown",
   "id": "27b51f4c",
   "metadata": {},
   "source": [
    "https://adventofcode.com/2030/day/15"
   ]
  },
  {
   "cell_type": "code",
   "execution_count": null,
   "id": "70cb1f5c",
   "metadata": {},
   "outputs": [],
   "source": []
  }
 ],
 "metadata": {},
 "nbformat": 4,
 "nbformat_minor": 5
}
