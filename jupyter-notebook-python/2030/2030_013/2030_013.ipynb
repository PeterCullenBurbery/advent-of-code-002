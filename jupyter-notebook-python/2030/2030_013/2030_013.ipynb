{
 "cells": [
  {
   "cell_type": "markdown",
   "id": "512233f9",
   "metadata": {},
   "source": [
    "# Advent of Code"
   ]
  },
  {
   "cell_type": "markdown",
   "id": "7e53d128",
   "metadata": {},
   "source": [
    "## 2030-012-013\n",
    "## 2030 013"
   ]
  },
  {
   "cell_type": "markdown",
   "id": "3faf86b8",
   "metadata": {},
   "source": [
    "https://adventofcode.com/2030/day/13"
   ]
  },
  {
   "cell_type": "code",
   "execution_count": null,
   "id": "06a94f04",
   "metadata": {},
   "outputs": [],
   "source": []
  }
 ],
 "metadata": {},
 "nbformat": 4,
 "nbformat_minor": 5
}
