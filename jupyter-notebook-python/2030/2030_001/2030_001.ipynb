{
 "cells": [
  {
   "cell_type": "markdown",
   "id": "1ed2145f",
   "metadata": {},
   "source": [
    "# Advent of Code"
   ]
  },
  {
   "cell_type": "markdown",
   "id": "2e6767b4",
   "metadata": {},
   "source": [
    "## 2030-012-001\n",
    "## 2030 001"
   ]
  },
  {
   "cell_type": "markdown",
   "id": "5362fba3",
   "metadata": {},
   "source": [
    "https://adventofcode.com/2030/day/1"
   ]
  },
  {
   "cell_type": "code",
   "execution_count": null,
   "id": "644fdb14",
   "metadata": {},
   "outputs": [],
   "source": []
  }
 ],
 "metadata": {},
 "nbformat": 4,
 "nbformat_minor": 5
}
