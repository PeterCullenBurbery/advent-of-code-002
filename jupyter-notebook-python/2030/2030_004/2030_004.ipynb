{
 "cells": [
  {
   "cell_type": "markdown",
   "id": "6e2d52b5",
   "metadata": {},
   "source": [
    "# Advent of Code"
   ]
  },
  {
   "cell_type": "markdown",
   "id": "c4ffaa85",
   "metadata": {},
   "source": [
    "## 2030-012-004\n",
    "## 2030 004"
   ]
  },
  {
   "cell_type": "markdown",
   "id": "3135f90c",
   "metadata": {},
   "source": [
    "https://adventofcode.com/2030/day/4"
   ]
  },
  {
   "cell_type": "code",
   "execution_count": null,
   "id": "9c88334e",
   "metadata": {},
   "outputs": [],
   "source": []
  }
 ],
 "metadata": {},
 "nbformat": 4,
 "nbformat_minor": 5
}
