{
 "cells": [
  {
   "cell_type": "markdown",
   "id": "b33adf49",
   "metadata": {},
   "source": [
    "# Advent of Code"
   ]
  },
  {
   "cell_type": "markdown",
   "id": "f5e50962",
   "metadata": {},
   "source": [
    "## 2030-012-011\n",
    "## 2030 011"
   ]
  },
  {
   "cell_type": "markdown",
   "id": "00c6bb2a",
   "metadata": {},
   "source": [
    "https://adventofcode.com/2030/day/11"
   ]
  },
  {
   "cell_type": "code",
   "execution_count": null,
   "id": "b7bc583c",
   "metadata": {},
   "outputs": [],
   "source": []
  }
 ],
 "metadata": {},
 "nbformat": 4,
 "nbformat_minor": 5
}
