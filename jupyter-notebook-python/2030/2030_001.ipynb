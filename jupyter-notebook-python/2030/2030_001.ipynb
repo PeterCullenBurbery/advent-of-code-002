{
 "cells": [
  {
   "cell_type": "markdown",
   "id": "fbe10fe7",
   "metadata": {},
   "source": [
    "# Advent of Code"
   ]
  },
  {
   "cell_type": "markdown",
   "id": "4343355a",
   "metadata": {},
   "source": [
    "## 2030-012-001\n",
    "## 2030 001"
   ]
  },
  {
   "cell_type": "markdown",
   "id": "0518e209",
   "metadata": {},
   "source": [
    "https://adventofcode.com/2030/day/1"
   ]
  },
  {
   "cell_type": "code",
   "execution_count": null,
   "id": "ded2a4ac",
   "metadata": {},
   "outputs": [],
   "source": []
  }
 ],
 "metadata": {
  "kernelspec": {
   "display_name": "Python 3 (ipykernel)",
   "language": "python",
   "name": "python3"
  },
  "language_info": {
   "name": "python",
   "version": "3.12.3"
  }
 },
 "nbformat": 4,
 "nbformat_minor": 5
}
