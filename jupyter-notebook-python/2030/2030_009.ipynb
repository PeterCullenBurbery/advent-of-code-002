{
 "cells": [
  {
   "cell_type": "markdown",
   "id": "3ac0a8c3",
   "metadata": {},
   "source": [
    "# Advent of Code"
   ]
  },
  {
   "cell_type": "markdown",
   "id": "1c4f9a3d",
   "metadata": {},
   "source": [
    "## 2030-012-009\n",
    "## 2030 009"
   ]
  },
  {
   "cell_type": "markdown",
   "id": "1f9476d7",
   "metadata": {},
   "source": [
    "https://adventofcode.com/2030/day/9"
   ]
  },
  {
   "cell_type": "code",
   "execution_count": null,
   "id": "b0f2d16d",
   "metadata": {},
   "outputs": [],
   "source": []
  }
 ],
 "metadata": {
  "kernelspec": {
   "display_name": "Python 3 (ipykernel)",
   "language": "python",
   "name": "python3"
  },
  "language_info": {
   "name": "python",
   "version": "3.12.3"
  }
 },
 "nbformat": 4,
 "nbformat_minor": 5
}
