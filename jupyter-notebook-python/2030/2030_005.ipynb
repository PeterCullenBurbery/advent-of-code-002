{
 "cells": [
  {
   "cell_type": "markdown",
   "id": "a8facb40",
   "metadata": {},
   "source": [
    "# Advent of Code"
   ]
  },
  {
   "cell_type": "markdown",
   "id": "427482ab",
   "metadata": {},
   "source": [
    "## 2030-012-005\n",
    "## 2030 005"
   ]
  },
  {
   "cell_type": "markdown",
   "id": "0b4ef936",
   "metadata": {},
   "source": [
    "https://adventofcode.com/2030/day/5"
   ]
  },
  {
   "cell_type": "code",
   "execution_count": null,
   "id": "de5f7617",
   "metadata": {},
   "outputs": [],
   "source": []
  }
 ],
 "metadata": {
  "kernelspec": {
   "display_name": "Python 3 (ipykernel)",
   "language": "python",
   "name": "python3"
  },
  "language_info": {
   "name": "python",
   "version": "3.12.3"
  }
 },
 "nbformat": 4,
 "nbformat_minor": 5
}
