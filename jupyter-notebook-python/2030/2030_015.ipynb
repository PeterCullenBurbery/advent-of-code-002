{
 "cells": [
  {
   "cell_type": "markdown",
   "id": "12a1161a",
   "metadata": {},
   "source": [
    "# Advent of Code"
   ]
  },
  {
   "cell_type": "markdown",
   "id": "c5ee7aa2",
   "metadata": {},
   "source": [
    "## 2030-012-015\n",
    "## 2030 015"
   ]
  },
  {
   "cell_type": "markdown",
   "id": "e68a5d96",
   "metadata": {},
   "source": [
    "https://adventofcode.com/2030/day/15"
   ]
  },
  {
   "cell_type": "code",
   "execution_count": null,
   "id": "8cba39c4",
   "metadata": {},
   "outputs": [],
   "source": []
  }
 ],
 "metadata": {
  "kernelspec": {
   "display_name": "Python 3 (ipykernel)",
   "language": "python",
   "name": "python3"
  },
  "language_info": {
   "name": "python",
   "version": "3.12.3"
  }
 },
 "nbformat": 4,
 "nbformat_minor": 5
}
