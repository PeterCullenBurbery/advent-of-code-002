{
 "cells": [
  {
   "cell_type": "markdown",
   "id": "11f54b69",
   "metadata": {},
   "source": [
    "# Advent of Code"
   ]
  },
  {
   "cell_type": "markdown",
   "id": "9110623e",
   "metadata": {},
   "source": [
    "## 2030-012-011\n",
    "## 2030 011"
   ]
  },
  {
   "cell_type": "markdown",
   "id": "1b9c3258",
   "metadata": {},
   "source": [
    "https://adventofcode.com/2030/day/11"
   ]
  },
  {
   "cell_type": "code",
   "execution_count": null,
   "id": "783fd6d2",
   "metadata": {},
   "outputs": [],
   "source": []
  }
 ],
 "metadata": {
  "kernelspec": {
   "display_name": "Python 3 (ipykernel)",
   "language": "python",
   "name": "python3"
  },
  "language_info": {
   "name": "python",
   "version": "3.12.3"
  }
 },
 "nbformat": 4,
 "nbformat_minor": 5
}
