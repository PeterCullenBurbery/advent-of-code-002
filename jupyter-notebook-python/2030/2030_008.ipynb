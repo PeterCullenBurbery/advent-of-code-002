{
 "cells": [
  {
   "cell_type": "markdown",
   "id": "32474ee6",
   "metadata": {},
   "source": [
    "# Advent of Code"
   ]
  },
  {
   "cell_type": "markdown",
   "id": "8d931f14",
   "metadata": {},
   "source": [
    "## 2030-012-008\n",
    "## 2030 008"
   ]
  },
  {
   "cell_type": "markdown",
   "id": "164a73dd",
   "metadata": {},
   "source": [
    "https://adventofcode.com/2030/day/8"
   ]
  },
  {
   "cell_type": "code",
   "execution_count": null,
   "id": "bbdb644c",
   "metadata": {},
   "outputs": [],
   "source": []
  }
 ],
 "metadata": {
  "kernelspec": {
   "display_name": "Python 3 (ipykernel)",
   "language": "python",
   "name": "python3"
  },
  "language_info": {
   "name": "python",
   "version": "3.12.3"
  }
 },
 "nbformat": 4,
 "nbformat_minor": 5
}
