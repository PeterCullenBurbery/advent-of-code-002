{
 "cells": [
  {
   "cell_type": "markdown",
   "id": "ce2a17da",
   "metadata": {},
   "source": [
    "# Advent of Code"
   ]
  },
  {
   "cell_type": "markdown",
   "id": "24a49687",
   "metadata": {},
   "source": [
    "## 2030-012-024\n",
    "## 2030 024"
   ]
  },
  {
   "cell_type": "markdown",
   "id": "de097212",
   "metadata": {},
   "source": [
    "https://adventofcode.com/2030/day/24"
   ]
  },
  {
   "cell_type": "code",
   "execution_count": null,
   "id": "1425058e",
   "metadata": {},
   "outputs": [],
   "source": []
  }
 ],
 "metadata": {
  "kernelspec": {
   "display_name": "Python 3 (ipykernel)",
   "language": "python",
   "name": "python3"
  },
  "language_info": {
   "name": "python",
   "version": "3.12.3"
  }
 },
 "nbformat": 4,
 "nbformat_minor": 5
}
