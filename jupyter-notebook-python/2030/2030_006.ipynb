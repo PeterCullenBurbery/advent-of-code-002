{
 "cells": [
  {
   "cell_type": "markdown",
   "id": "7cbeb3aa",
   "metadata": {},
   "source": [
    "# Advent of Code"
   ]
  },
  {
   "cell_type": "markdown",
   "id": "5cf704f8",
   "metadata": {},
   "source": [
    "## 2030-012-006\n",
    "## 2030 006"
   ]
  },
  {
   "cell_type": "markdown",
   "id": "8c2a9aaf",
   "metadata": {},
   "source": [
    "https://adventofcode.com/2030/day/6"
   ]
  },
  {
   "cell_type": "code",
   "execution_count": null,
   "id": "3e0c646c",
   "metadata": {},
   "outputs": [],
   "source": []
  }
 ],
 "metadata": {
  "kernelspec": {
   "display_name": "Python 3 (ipykernel)",
   "language": "python",
   "name": "python3"
  },
  "language_info": {
   "name": "python",
   "version": "3.12.3"
  }
 },
 "nbformat": 4,
 "nbformat_minor": 5
}
