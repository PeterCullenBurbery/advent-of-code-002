{
 "cells": [
  {
   "cell_type": "markdown",
   "id": "306d4c93",
   "metadata": {},
   "source": [
    "# Advent of Code"
   ]
  },
  {
   "cell_type": "markdown",
   "id": "b3f5d7b1",
   "metadata": {},
   "source": [
    "## 2030-012-017\n",
    "## 2030 017"
   ]
  },
  {
   "cell_type": "markdown",
   "id": "03eb36f6",
   "metadata": {},
   "source": [
    "https://adventofcode.com/2030/day/17"
   ]
  },
  {
   "cell_type": "code",
   "execution_count": null,
   "id": "a1160311",
   "metadata": {},
   "outputs": [],
   "source": []
  }
 ],
 "metadata": {},
 "nbformat": 4,
 "nbformat_minor": 5
}
