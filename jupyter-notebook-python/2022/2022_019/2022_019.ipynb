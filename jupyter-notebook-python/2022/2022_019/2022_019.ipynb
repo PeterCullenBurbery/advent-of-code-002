{
 "cells": [
  {
   "cell_type": "markdown",
   "id": "4180f063",
   "metadata": {},
   "source": [
    "# Advent of Code"
   ]
  },
  {
   "cell_type": "markdown",
   "id": "d158b729",
   "metadata": {},
   "source": [
    "## 2022-012-019\n",
    "## 2022 019"
   ]
  },
  {
   "cell_type": "markdown",
   "id": "ff139340",
   "metadata": {},
   "source": [
    "https://adventofcode.com/2022/day/19"
   ]
  },
  {
   "cell_type": "code",
   "execution_count": 1,
   "id": "4a6d1c57",
   "metadata": {},
   "outputs": [
    {
     "name": "stdout",
     "output_type": "stream",
     "text": [
      "Total Quality Level: 0\n"
     ]
    }
   ],
   "source": [
    "from collections import deque, defaultdict\n",
    "from math import ceil\n",
    "import re\n",
    "\n",
    "# Parse the input file\n",
    "def parse_input(file_path):\n",
    "    blueprints = []\n",
    "    with open(file_path, 'r') as f:\n",
    "        for line in f:\n",
    "            match = re.findall(r\"\\\\d+\", line)\n",
    "            if match:\n",
    "                blueprint_id = int(match[0])\n",
    "                costs = list(map(int, match[1:]))\n",
    "                blueprints.append((blueprint_id, {\n",
    "                    'ore': {'ore': costs[0]},\n",
    "                    'clay': {'ore': costs[1]},\n",
    "                    'obsidian': {'ore': costs[2], 'clay': costs[3]},\n",
    "                    'geode': {'ore': costs[4], 'obsidian': costs[5]}\n",
    "                }))\n",
    "    return blueprints\n",
    "\n",
    "# Simulate the maximum geodes cracked for a given blueprint\n",
    "def simulate(blueprint, time_limit):\n",
    "    costs = blueprint[1]\n",
    "    \n",
    "    # State: (time, ore, clay, obsidian, geodes, ore_robots, clay_robots, obsidian_robots, geode_robots)\n",
    "    initial_state = (0, 0, 0, 0, 0, 1, 0, 0, 0)\n",
    "    \n",
    "    queue = deque([initial_state])\n",
    "    max_geodes = 0\n",
    "    seen = set()\n",
    "\n",
    "    while queue:\n",
    "        state = queue.popleft()\n",
    "        if state in seen:\n",
    "            continue\n",
    "        seen.add(state)\n",
    "        time, ore, clay, obsidian, geodes, ore_robots, clay_robots, obsidian_robots, geode_robots = state\n",
    "\n",
    "        # Update max geodes\n",
    "        max_geodes = max(max_geodes, geodes)\n",
    "\n",
    "        # Skip if out of time\n",
    "        if time >= time_limit:\n",
    "            continue\n",
    "\n",
    "        # Generate new states by building robots or waiting\n",
    "        for robot_type, cost in costs.items():\n",
    "            # Check if we can afford the robot\n",
    "            wait_time = 0\n",
    "            for resource, amount in cost.items():\n",
    "                if resource == 'ore':\n",
    "                    wait_time = max(wait_time, ceil((amount - ore) / ore_robots) if ore_robots else float('inf'))\n",
    "                elif resource == 'clay':\n",
    "                    wait_time = max(wait_time, ceil((amount - clay) / clay_robots) if clay_robots else float('inf'))\n",
    "                elif resource == 'obsidian':\n",
    "                    wait_time = max(wait_time, ceil((amount - obsidian) / obsidian_robots) if obsidian_robots else float('inf'))\n",
    "\n",
    "            # Check if it's possible to wait and build this robot within the time limit\n",
    "            if time + wait_time + 1 > time_limit:\n",
    "                continue\n",
    "\n",
    "            # Calculate new resources after wait time\n",
    "            new_time = time + wait_time + 1\n",
    "            new_ore = ore + ore_robots * (wait_time + 1) - cost.get('ore', 0)\n",
    "            new_clay = clay + clay_robots * (wait_time + 1) - cost.get('clay', 0)\n",
    "            new_obsidian = obsidian + obsidian_robots * (wait_time + 1) - cost.get('obsidian', 0)\n",
    "            new_geodes = geodes + geode_robots * (wait_time + 1)\n",
    "\n",
    "            # Add new robot\n",
    "            if robot_type == 'ore':\n",
    "                new_state = (new_time, new_ore, new_clay, new_obsidian, new_geodes, ore_robots + 1, clay_robots, obsidian_robots, geode_robots)\n",
    "            elif robot_type == 'clay':\n",
    "                new_state = (new_time, new_ore, new_clay, new_obsidian, new_geodes, ore_robots, clay_robots + 1, obsidian_robots, geode_robots)\n",
    "            elif robot_type == 'obsidian':\n",
    "                new_state = (new_time, new_ore, new_clay, new_obsidian, new_geodes, ore_robots, clay_robots, obsidian_robots + 1, geode_robots)\n",
    "            elif robot_type == 'geode':\n",
    "                new_state = (new_time, new_ore, new_clay, new_obsidian, new_geodes, ore_robots, clay_robots, obsidian_robots, geode_robots + 1)\n",
    "\n",
    "            queue.append(new_state)\n",
    "\n",
    "        # Also consider just waiting until the end\n",
    "        if geode_robots > 0:\n",
    "            remaining_time = time_limit - time\n",
    "            new_state = (\n",
    "                time_limit,\n",
    "                ore + ore_robots * remaining_time,\n",
    "                clay + clay_robots * remaining_time,\n",
    "                obsidian + obsidian_robots * remaining_time,\n",
    "                geodes + geode_robots * remaining_time,\n",
    "                ore_robots, clay_robots, obsidian_robots, geode_robots\n",
    "            )\n",
    "            queue.append(new_state)\n",
    "\n",
    "    return max_geodes\n",
    "\n",
    "# Calculate the total quality level\n",
    "def calculate_quality_level(blueprints, time_limit=24):\n",
    "    total_quality = 0\n",
    "    for blueprint in blueprints:\n",
    "        max_geodes = simulate(blueprint, time_limit)\n",
    "        quality = blueprint[0] * max_geodes\n",
    "        total_quality += quality\n",
    "    return total_quality\n",
    "\n",
    "# Main execution\n",
    "file_path = 'input.txt'\n",
    "blueprints = parse_input(file_path)\n",
    "result = calculate_quality_level(blueprints)\n",
    "print(\"Total Quality Level:\", result)"
   ]
  },
  {
   "cell_type": "code",
   "execution_count": null,
   "id": "69961af8-74ca-45a9-8971-13977f345b64",
   "metadata": {},
   "outputs": [],
   "source": []
  }
 ],
 "metadata": {
  "kernelspec": {
   "display_name": "Python 3 (ipykernel)",
   "language": "python",
   "name": "python3"
  },
  "language_info": {
   "codemirror_mode": {
    "name": "ipython",
    "version": 3
   },
   "file_extension": ".py",
   "mimetype": "text/x-python",
   "name": "python",
   "nbconvert_exporter": "python",
   "pygments_lexer": "ipython3",
   "version": "3.12.3"
  }
 },
 "nbformat": 4,
 "nbformat_minor": 5
}
