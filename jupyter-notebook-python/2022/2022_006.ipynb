{
 "cells": [
  {
   "cell_type": "markdown",
   "id": "73ef8ec9",
   "metadata": {},
   "source": [
    "# Advent of Code"
   ]
  },
  {
   "cell_type": "markdown",
   "id": "bab8e56b",
   "metadata": {},
   "source": [
    "## 2022-012-006\n",
    "## 2022 006"
   ]
  },
  {
   "cell_type": "markdown",
   "id": "b6999b37",
   "metadata": {},
   "source": [
    "https://adventofcode.com/2022/day/6"
   ]
  },
  {
   "cell_type": "code",
   "execution_count": null,
   "id": "ff0e1e57",
   "metadata": {},
   "outputs": [],
   "source": []
  }
 ],
 "metadata": {
  "kernelspec": {
   "display_name": "Python 3 (ipykernel)",
   "language": "python",
   "name": "python3"
  },
  "language_info": {
   "name": "python",
   "version": "3.12.3"
  }
 },
 "nbformat": 4,
 "nbformat_minor": 5
}
