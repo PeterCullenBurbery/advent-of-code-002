{
 "cells": [
  {
   "cell_type": "markdown",
   "id": "58412459",
   "metadata": {},
   "source": [
    "# Advent of Code"
   ]
  },
  {
   "cell_type": "markdown",
   "id": "297ff13b",
   "metadata": {},
   "source": [
    "## 2022-012-021\n",
    "## 2022 021"
   ]
  },
  {
   "cell_type": "markdown",
   "id": "028c4914",
   "metadata": {},
   "source": [
    "https://adventofcode.com/2022/day/21"
   ]
  },
  {
   "cell_type": "code",
   "execution_count": null,
   "id": "af5d235e",
   "metadata": {},
   "outputs": [],
   "source": []
  }
 ],
 "metadata": {
  "kernelspec": {
   "display_name": "Python 3 (ipykernel)",
   "language": "python",
   "name": "python3"
  },
  "language_info": {
   "name": "python",
   "version": "3.12.3"
  }
 },
 "nbformat": 4,
 "nbformat_minor": 5
}
