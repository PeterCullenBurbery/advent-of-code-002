{
 "cells": [
  {
   "cell_type": "markdown",
   "id": "affef507",
   "metadata": {},
   "source": [
    "# Advent of Code"
   ]
  },
  {
   "cell_type": "markdown",
   "id": "4acec9e8",
   "metadata": {},
   "source": [
    "## 2022-012-023\n",
    "## 2022 023"
   ]
  },
  {
   "cell_type": "markdown",
   "id": "bb5ef665",
   "metadata": {},
   "source": [
    "https://adventofcode.com/2022/day/23"
   ]
  },
  {
   "cell_type": "code",
   "execution_count": null,
   "id": "35917605",
   "metadata": {},
   "outputs": [],
   "source": []
  }
 ],
 "metadata": {},
 "nbformat": 4,
 "nbformat_minor": 5
}
