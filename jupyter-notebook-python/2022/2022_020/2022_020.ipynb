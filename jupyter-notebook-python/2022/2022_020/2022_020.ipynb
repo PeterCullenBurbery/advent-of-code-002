{
 "cells": [
  {
   "cell_type": "markdown",
   "id": "fa3fa57a",
   "metadata": {},
   "source": [
    "# Advent of Code"
   ]
  },
  {
   "cell_type": "markdown",
   "id": "4597649f",
   "metadata": {},
   "source": [
    "## 2022-012-020\n",
    "## 2022 020"
   ]
  },
  {
   "cell_type": "markdown",
   "id": "f1e8d132",
   "metadata": {},
   "source": [
    "https://adventofcode.com/2022/day/20"
   ]
  },
  {
   "cell_type": "code",
   "execution_count": 1,
   "id": "907da612",
   "metadata": {},
   "outputs": [
    {
     "name": "stdout",
     "output_type": "stream",
     "text": [
      "Sum of grove coordinates: 8302\n"
     ]
    }
   ],
   "source": [
    "def parse_input(file_path):\n",
    "    with open(file_path, 'r') as f:\n",
    "        return [int(line.strip()) for line in f]\n",
    "\n",
    "def mix_file(numbers):\n",
    "    n = len(numbers)\n",
    "    # Create a list of tuples (index, number) to maintain original order\n",
    "    indexed_numbers = list(enumerate(numbers))\n",
    "    \n",
    "    for index, value in enumerate(numbers):\n",
    "        # Find current position of the number to be moved\n",
    "        current_index = next(i for i, pair in enumerate(indexed_numbers) if pair[0] == index)\n",
    "        # Remove the number from the list\n",
    "        pair = indexed_numbers.pop(current_index)\n",
    "        # Calculate new position (circularly)\n",
    "        new_index = (current_index + value) % (n - 1)\n",
    "        indexed_numbers.insert(new_index, pair)\n",
    "    \n",
    "    # Return only the numbers in their final order\n",
    "    return [x[1] for x in indexed_numbers]\n",
    "\n",
    "def find_coordinates(numbers):\n",
    "    zero_index = numbers.index(0)\n",
    "    n = len(numbers)\n",
    "    # Find the 1000th, 2000th, and 3000th numbers after 0\n",
    "    coords = [\n",
    "        numbers[(zero_index + 1000) % n],\n",
    "        numbers[(zero_index + 2000) % n],\n",
    "        numbers[(zero_index + 3000) % n],\n",
    "    ]\n",
    "    return coords\n",
    "\n",
    "def main(file_path):\n",
    "    # Parse input\n",
    "    numbers = parse_input(file_path)\n",
    "    # Mix the file\n",
    "    mixed_numbers = mix_file(numbers)\n",
    "    # Find coordinates and calculate the sum\n",
    "    coordinates = find_coordinates(mixed_numbers)\n",
    "    return sum(coordinates)\n",
    "\n",
    "# Execute the main function\n",
    "file_path = 'input.txt'\n",
    "result = main(file_path)\n",
    "print(\"Sum of grove coordinates:\", result)"
   ]
  },
  {
   "cell_type": "code",
   "execution_count": 2,
   "id": "9e780296-fd34-4b2e-8479-be0d23e18286",
   "metadata": {},
   "outputs": [
    {
     "name": "stdout",
     "output_type": "stream",
     "text": [
      "Part 1: 8302 (1.266610146 s)\n",
      "Part 2: 656575624777 (12.833439350 s)\n"
     ]
    }
   ],
   "source": [
    "import time\n",
    "\n",
    "def parse_input(file_path):\n",
    "    with open(file_path, 'r') as f:\n",
    "        return [int(line.strip()) for line in f]\n",
    "\n",
    "def mix_file(numbers, rounds=1):\n",
    "    n = len(numbers)\n",
    "    indexed_numbers = list(enumerate(numbers))\n",
    "    \n",
    "    for _ in range(rounds):\n",
    "        for index, value in enumerate(numbers):\n",
    "            # Find current position of the number to be moved\n",
    "            current_index = next(i for i, pair in enumerate(indexed_numbers) if pair[0] == index)\n",
    "            # Remove the number from the list\n",
    "            pair = indexed_numbers.pop(current_index)\n",
    "            # Calculate new position (circularly)\n",
    "            new_index = (current_index + value) % (n - 1)\n",
    "            indexed_numbers.insert(new_index, pair)\n",
    "    \n",
    "    return [x[1] for x in indexed_numbers]\n",
    "\n",
    "def find_coordinates(numbers):\n",
    "    zero_index = numbers.index(0)\n",
    "    n = len(numbers)\n",
    "    # Find the 1000th, 2000th, and 3000th numbers after 0\n",
    "    coords = [\n",
    "        numbers[(zero_index + 1000) % n],\n",
    "        numbers[(zero_index + 2000) % n],\n",
    "        numbers[(zero_index + 3000) % n],\n",
    "    ]\n",
    "    return coords\n",
    "\n",
    "def solve_part_1(file_path):\n",
    "    numbers = parse_input(file_path)\n",
    "    mixed_numbers = mix_file(numbers)\n",
    "    coordinates = find_coordinates(mixed_numbers)\n",
    "    return sum(coordinates)\n",
    "\n",
    "def solve_part_2(file_path):\n",
    "    decryption_key = 811589153\n",
    "    numbers = parse_input(file_path)\n",
    "    numbers = [num * decryption_key for num in numbers]\n",
    "    mixed_numbers = mix_file(numbers, rounds=10)\n",
    "    coordinates = find_coordinates(mixed_numbers)\n",
    "    return sum(coordinates)\n",
    "\n",
    "def main(file_path):\n",
    "    # Part 1\n",
    "    start_time = time.time()\n",
    "    part_1_result = solve_part_1(file_path)\n",
    "    part_1_time = time.time() - start_time\n",
    "\n",
    "    # Part 2\n",
    "    start_time = time.time()\n",
    "    part_2_result = solve_part_2(file_path)\n",
    "    part_2_time = time.time() - start_time\n",
    "\n",
    "    print(f\"Part 1: {part_1_result} ({part_1_time:.9f} s)\")\n",
    "    print(f\"Part 2: {part_2_result} ({part_2_time:.9f} s)\")\n",
    "\n",
    "# Execute the program\n",
    "file_path = 'input.txt'\n",
    "main(file_path)"
   ]
  },
  {
   "cell_type": "code",
   "execution_count": null,
   "id": "f0b9d0f5-b47e-44d4-ae19-87b9a51e0385",
   "metadata": {},
   "outputs": [],
   "source": []
  }
 ],
 "metadata": {
  "kernelspec": {
   "display_name": "Python 3 (ipykernel)",
   "language": "python",
   "name": "python3"
  },
  "language_info": {
   "codemirror_mode": {
    "name": "ipython",
    "version": 3
   },
   "file_extension": ".py",
   "mimetype": "text/x-python",
   "name": "python",
   "nbconvert_exporter": "python",
   "pygments_lexer": "ipython3",
   "version": "3.12.3"
  }
 },
 "nbformat": 4,
 "nbformat_minor": 5
}
