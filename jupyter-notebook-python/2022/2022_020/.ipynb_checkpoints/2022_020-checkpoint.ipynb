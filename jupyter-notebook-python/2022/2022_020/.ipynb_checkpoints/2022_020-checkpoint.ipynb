{
 "cells": [
  {
   "cell_type": "markdown",
   "id": "fa3fa57a",
   "metadata": {},
   "source": [
    "# Advent of Code"
   ]
  },
  {
   "cell_type": "markdown",
   "id": "4597649f",
   "metadata": {},
   "source": [
    "## 2022-012-020\n",
    "## 2022 020"
   ]
  },
  {
   "cell_type": "markdown",
   "id": "f1e8d132",
   "metadata": {},
   "source": [
    "https://adventofcode.com/2022/day/20"
   ]
  },
  {
   "cell_type": "code",
   "execution_count": null,
   "id": "907da612",
   "metadata": {},
   "outputs": [],
   "source": []
  }
 ],
 "metadata": {},
 "nbformat": 4,
 "nbformat_minor": 5
}
