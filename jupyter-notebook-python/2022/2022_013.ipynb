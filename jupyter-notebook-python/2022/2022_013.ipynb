{
 "cells": [
  {
   "cell_type": "markdown",
   "id": "8591cd89",
   "metadata": {},
   "source": [
    "# Advent of Code"
   ]
  },
  {
   "cell_type": "markdown",
   "id": "a7da1662",
   "metadata": {},
   "source": [
    "## 2022-012-013\n",
    "## 2022 013"
   ]
  },
  {
   "cell_type": "markdown",
   "id": "464fa40b",
   "metadata": {},
   "source": [
    "https://adventofcode.com/2022/day/13"
   ]
  },
  {
   "cell_type": "code",
   "execution_count": null,
   "id": "a33e31c5",
   "metadata": {},
   "outputs": [],
   "source": []
  }
 ],
 "metadata": {
  "kernelspec": {
   "display_name": "Python 3 (ipykernel)",
   "language": "python",
   "name": "python3"
  },
  "language_info": {
   "name": "python",
   "version": "3.12.3"
  }
 },
 "nbformat": 4,
 "nbformat_minor": 5
}
