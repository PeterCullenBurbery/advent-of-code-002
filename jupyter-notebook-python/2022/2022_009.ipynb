{
 "cells": [
  {
   "cell_type": "markdown",
   "id": "a710958d",
   "metadata": {},
   "source": [
    "# Advent of Code"
   ]
  },
  {
   "cell_type": "markdown",
   "id": "16650eba",
   "metadata": {},
   "source": [
    "## 2022-012-009\n",
    "## 2022 009"
   ]
  },
  {
   "cell_type": "markdown",
   "id": "f13504bc",
   "metadata": {},
   "source": [
    "https://adventofcode.com/2022/day/9"
   ]
  },
  {
   "cell_type": "code",
   "execution_count": null,
   "id": "166449d8",
   "metadata": {},
   "outputs": [],
   "source": []
  }
 ],
 "metadata": {
  "kernelspec": {
   "display_name": "Python 3 (ipykernel)",
   "language": "python",
   "name": "python3"
  },
  "language_info": {
   "name": "python",
   "version": "3.12.3"
  }
 },
 "nbformat": 4,
 "nbformat_minor": 5
}
