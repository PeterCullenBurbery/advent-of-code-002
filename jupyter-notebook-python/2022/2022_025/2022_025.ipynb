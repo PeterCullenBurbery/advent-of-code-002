{
 "cells": [
  {
   "cell_type": "markdown",
   "id": "28c93c9f",
   "metadata": {},
   "source": [
    "# Advent of Code"
   ]
  },
  {
   "cell_type": "markdown",
   "id": "53318378",
   "metadata": {},
   "source": [
    "## 2022-012-025\n",
    "## 2022 025"
   ]
  },
  {
   "cell_type": "markdown",
   "id": "04f6bd49",
   "metadata": {},
   "source": [
    "https://adventofcode.com/2022/day/25"
   ]
  },
  {
   "cell_type": "code",
   "execution_count": 2,
   "id": "5835f965",
   "metadata": {},
   "outputs": [
    {
     "name": "stdout",
     "output_type": "stream",
     "text": [
      "The SNAFU number to supply to Bob's console is: 2-121-=10=200==2==21\n"
     ]
    }
   ],
   "source": [
    "def snafu_to_decimal(snafu):\n",
    "    \"\"\"Convert a SNAFU number to a decimal number.\"\"\"\n",
    "    snafu_map = {'=': -2, '-': -1, '0': 0, '1': 1, '2': 2}\n",
    "    decimal = 0\n",
    "    for i, char in enumerate(reversed(snafu)):\n",
    "        decimal += snafu_map[char] * (5 ** i)\n",
    "    return decimal\n",
    "\n",
    "def decimal_to_snafu(decimal):\n",
    "    \"\"\"Convert a decimal number to a SNAFU number.\"\"\"\n",
    "    if decimal == 0:\n",
    "        return \"0\"\n",
    "\n",
    "    snafu = []\n",
    "    while decimal != 0:\n",
    "        remainder = decimal % 5\n",
    "        if remainder == 3:\n",
    "            remainder = -2\n",
    "            decimal += 2\n",
    "        elif remainder == 4:\n",
    "            remainder = -1\n",
    "            decimal += 1\n",
    "        snafu.append({-2: '=', -1: '-', 0: '0', 1: '1', 2: '2'}[remainder])\n",
    "        decimal //= 5\n",
    "    return ''.join(reversed(snafu))\n",
    "\n",
    "def main(file_path):\n",
    "    with open(file_path, 'r') as f:\n",
    "        snafu_numbers = f.read().splitlines()\n",
    "\n",
    "    # Convert all SNAFU numbers to decimal and sum them\n",
    "    total_decimal = sum(snafu_to_decimal(snafu) for snafu in snafu_numbers)\n",
    "\n",
    "    # Convert the total back to SNAFU\n",
    "    total_snafu = decimal_to_snafu(total_decimal)\n",
    "    print(f\"The SNAFU number to supply to Bob's console is: {total_snafu}\")\n",
    "\n",
    "# Execute the solution\n",
    "file_path = 'input.txt'\n",
    "main(file_path)"
   ]
  },
  {
   "cell_type": "code",
   "execution_count": null,
   "id": "6fd7f312-92a0-45c3-a6d8-cf0e7b089381",
   "metadata": {},
   "outputs": [],
   "source": []
  }
 ],
 "metadata": {
  "kernelspec": {
   "display_name": "Python 3 (ipykernel)",
   "language": "python",
   "name": "python3"
  },
  "language_info": {
   "codemirror_mode": {
    "name": "ipython",
    "version": 3
   },
   "file_extension": ".py",
   "mimetype": "text/x-python",
   "name": "python",
   "nbconvert_exporter": "python",
   "pygments_lexer": "ipython3",
   "version": "3.12.3"
  }
 },
 "nbformat": 4,
 "nbformat_minor": 5
}
