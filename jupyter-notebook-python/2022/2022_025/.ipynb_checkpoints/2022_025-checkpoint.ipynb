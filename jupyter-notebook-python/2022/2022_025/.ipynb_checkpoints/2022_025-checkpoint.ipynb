{
 "cells": [
  {
   "cell_type": "markdown",
   "id": "28c93c9f",
   "metadata": {},
   "source": [
    "# Advent of Code"
   ]
  },
  {
   "cell_type": "markdown",
   "id": "53318378",
   "metadata": {},
   "source": [
    "## 2022-012-025\n",
    "## 2022 025"
   ]
  },
  {
   "cell_type": "markdown",
   "id": "04f6bd49",
   "metadata": {},
   "source": [
    "https://adventofcode.com/2022/day/25"
   ]
  },
  {
   "cell_type": "code",
   "execution_count": null,
   "id": "5835f965",
   "metadata": {},
   "outputs": [],
   "source": []
  }
 ],
 "metadata": {},
 "nbformat": 4,
 "nbformat_minor": 5
}
