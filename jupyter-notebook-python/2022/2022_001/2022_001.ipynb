{
 "cells": [
  {
   "cell_type": "markdown",
   "id": "6eb3ae93",
   "metadata": {},
   "source": [
    "# Advent of Code"
   ]
  },
  {
   "cell_type": "markdown",
   "id": "22cb3c1e",
   "metadata": {},
   "source": [
    "## 2022-012-001\n",
    "## 2022 001"
   ]
  },
  {
   "cell_type": "markdown",
   "id": "f71b41b0",
   "metadata": {},
   "source": [
    "https://adventofcode.com/2022/day/1"
   ]
  },
  {
   "cell_type": "code",
   "execution_count": null,
   "id": "30a8a8b5",
   "metadata": {},
   "outputs": [],
   "source": []
  }
 ],
 "metadata": {},
 "nbformat": 4,
 "nbformat_minor": 5
}
