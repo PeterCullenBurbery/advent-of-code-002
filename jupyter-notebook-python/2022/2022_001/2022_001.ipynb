{
 "cells": [
  {
   "cell_type": "markdown",
   "id": "6eb3ae93",
   "metadata": {},
   "source": [
    "# Advent of Code"
   ]
  },
  {
   "cell_type": "markdown",
   "id": "22cb3c1e",
   "metadata": {},
   "source": [
    "## 2022-012-001\n",
    "## 2022 001"
   ]
  },
  {
   "cell_type": "markdown",
   "id": "f71b41b0",
   "metadata": {},
   "source": [
    "https://adventofcode.com/2022/day/1"
   ]
  },
  {
   "cell_type": "code",
   "execution_count": 1,
   "id": "30a8a8b5",
   "metadata": {},
   "outputs": [
    {
     "data": {
      "text/plain": [
       "72017"
      ]
     },
     "execution_count": 1,
     "metadata": {},
     "output_type": "execute_result"
    }
   ],
   "source": [
    "# Load and parse the input data to calculate the maximum calories carried by an elf.\n",
    "file_path = 'input.txt'\n",
    "\n",
    "# Read the input file\n",
    "with open(file_path, 'r') as file:\n",
    "    data = file.read()\n",
    "\n",
    "# Split data by double newline to separate each elf's inventory\n",
    "elf_calories = data.strip().split('\\n\\n')\n",
    "\n",
    "# Sum the calories for each elf\n",
    "elf_totals = [sum(map(int, elf.split())) for elf in elf_calories]\n",
    "\n",
    "# Find the maximum calories\n",
    "max_calories = max(elf_totals)\n",
    "max_calories"
   ]
  },
  {
   "cell_type": "code",
   "execution_count": 2,
   "id": "f2a19079-cc2c-4d14-9581-ff5af7779252",
   "metadata": {},
   "outputs": [
    {
     "data": {
      "text/plain": [
       "212520"
      ]
     },
     "execution_count": 2,
     "metadata": {},
     "output_type": "execute_result"
    }
   ],
   "source": [
    "# Find the total Calories carried by the top three Elves\n",
    "top_three_calories = sum(sorted(elf_totals, reverse=True)[:3])\n",
    "top_three_calories"
   ]
  },
  {
   "cell_type": "code",
   "execution_count": null,
   "id": "8a8a8693-02d3-435f-a916-8c9cd7fea897",
   "metadata": {},
   "outputs": [],
   "source": []
  }
 ],
 "metadata": {
  "kernelspec": {
   "display_name": "Python 3 (ipykernel)",
   "language": "python",
   "name": "python3"
  },
  "language_info": {
   "codemirror_mode": {
    "name": "ipython",
    "version": 3
   },
   "file_extension": ".py",
   "mimetype": "text/x-python",
   "name": "python",
   "nbconvert_exporter": "python",
   "pygments_lexer": "ipython3",
   "version": "3.12.3"
  }
 },
 "nbformat": 4,
 "nbformat_minor": 5
}
