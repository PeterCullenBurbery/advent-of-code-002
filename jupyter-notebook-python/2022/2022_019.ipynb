{
 "cells": [
  {
   "cell_type": "markdown",
   "id": "4aff88fb",
   "metadata": {},
   "source": [
    "# Advent of Code"
   ]
  },
  {
   "cell_type": "markdown",
   "id": "17a15266",
   "metadata": {},
   "source": [
    "## 2022-012-019\n",
    "## 2022 019"
   ]
  },
  {
   "cell_type": "markdown",
   "id": "31619f40",
   "metadata": {},
   "source": [
    "https://adventofcode.com/2022/day/19"
   ]
  },
  {
   "cell_type": "code",
   "execution_count": null,
   "id": "9967cb66",
   "metadata": {},
   "outputs": [],
   "source": []
  }
 ],
 "metadata": {
  "kernelspec": {
   "display_name": "Python 3 (ipykernel)",
   "language": "python",
   "name": "python3"
  },
  "language_info": {
   "name": "python",
   "version": "3.12.3"
  }
 },
 "nbformat": 4,
 "nbformat_minor": 5
}
