{
 "cells": [
  {
   "cell_type": "markdown",
   "id": "8c64c841",
   "metadata": {},
   "source": [
    "# Advent of Code"
   ]
  },
  {
   "cell_type": "markdown",
   "id": "c2ffaf83",
   "metadata": {},
   "source": [
    "## 2022-012-015\n",
    "## 2022 015"
   ]
  },
  {
   "cell_type": "markdown",
   "id": "a176eb97",
   "metadata": {},
   "source": [
    "https://adventofcode.com/2022/day/15"
   ]
  },
  {
   "cell_type": "code",
   "execution_count": 1,
   "id": "4c763c3e",
   "metadata": {},
   "outputs": [
    {
     "name": "stdout",
     "output_type": "stream",
     "text": [
      "Number of positions where a beacon cannot be present: 5100463\n"
     ]
    }
   ],
   "source": [
    "def parse_sensor_data(file_path):\n",
    "    \"\"\"Parse the sensor data from the input file.\"\"\"\n",
    "    sensors = []\n",
    "    with open(file_path, 'r') as f:\n",
    "        for line in f:\n",
    "            parts = line.strip().split(\":\")\n",
    "            sensor_part = parts[0].split(\"at \")[1]\n",
    "            beacon_part = parts[1].split(\"at \")[1]\n",
    "            sensor_x, sensor_y = map(int, sensor_part.replace(\"x=\", \"\").replace(\"y=\", \"\").split(\", \"))\n",
    "            beacon_x, beacon_y = map(int, beacon_part.replace(\"x=\", \"\").replace(\"y=\", \"\").split(\", \"))\n",
    "            sensors.append(((sensor_x, sensor_y), (beacon_x, beacon_y)))\n",
    "    return sensors\n",
    "\n",
    "def compute_exclusion_zone(sensors, target_y):\n",
    "    \"\"\"Compute the exclusion zone at a specific y-coordinate.\"\"\"\n",
    "    exclusion_intervals = []\n",
    "    beacons_at_target_y = set()\n",
    "\n",
    "    for (sensor_x, sensor_y), (beacon_x, beacon_y) in sensors:\n",
    "        manhattan_distance = abs(sensor_x - beacon_x) + abs(sensor_y - beacon_y)\n",
    "        vertical_distance = abs(sensor_y - target_y)\n",
    "\n",
    "        # If the target_y is within the range of the sensor's Manhattan distance\n",
    "        if vertical_distance <= manhattan_distance:\n",
    "            horizontal_range = manhattan_distance - vertical_distance\n",
    "            exclusion_intervals.append((sensor_x - horizontal_range, sensor_x + horizontal_range))\n",
    "\n",
    "        # Record beacons at the target y-level\n",
    "        if beacon_y == target_y:\n",
    "            beacons_at_target_y.add(beacon_x)\n",
    "\n",
    "    return exclusion_intervals, beacons_at_target_y\n",
    "\n",
    "def merge_intervals(intervals):\n",
    "    \"\"\"Merge overlapping intervals.\"\"\"\n",
    "    if not intervals:\n",
    "        return []\n",
    "    intervals.sort()\n",
    "    merged = [intervals[0]]\n",
    "    for current in intervals[1:]:\n",
    "        prev_start, prev_end = merged[-1]\n",
    "        current_start, current_end = current\n",
    "        if current_start <= prev_end:\n",
    "            merged[-1] = (prev_start, max(prev_end, current_end))\n",
    "        else:\n",
    "            merged.append(current)\n",
    "    return merged\n",
    "\n",
    "def count_excluded_positions(intervals, beacons_at_target_y):\n",
    "    \"\"\"Count positions in the exclusion zone, excluding known beacon positions.\"\"\"\n",
    "    merged_intervals = merge_intervals(intervals)\n",
    "    excluded_positions = 0\n",
    "\n",
    "    for start, end in merged_intervals:\n",
    "        excluded_positions += end - start + 1\n",
    "\n",
    "    # Subtract positions where there are known beacons\n",
    "    excluded_positions -= len(beacons_at_target_y)\n",
    "\n",
    "    return excluded_positions\n",
    "\n",
    "# Input file path\n",
    "file_path = 'input.txt'  # Replace with your actual input file path\n",
    "\n",
    "# Parse the input data\n",
    "sensors = parse_sensor_data(file_path)\n",
    "\n",
    "# Target y-coordinate for exclusion\n",
    "target_y = 2000000\n",
    "\n",
    "# Compute exclusion zone\n",
    "exclusion_intervals, beacons_at_target_y = compute_exclusion_zone(sensors, target_y)\n",
    "\n",
    "# Count the number of excluded positions\n",
    "excluded_positions = count_excluded_positions(exclusion_intervals, beacons_at_target_y)\n",
    "\n",
    "# Output the result\n",
    "print(f\"Number of positions where a beacon cannot be present: {excluded_positions}\")"
   ]
  },
  {
   "cell_type": "code",
   "execution_count": 2,
   "id": "9febf939-7efe-486f-ac31-619ef2287545",
   "metadata": {},
   "outputs": [
    {
     "data": {
      "text/plain": [
       "((2889465, 3040754), 11557863040754)"
      ]
     },
     "execution_count": 2,
     "metadata": {},
     "output_type": "execute_result"
    }
   ],
   "source": [
    "def find_distress_beacon(sensors, max_coord):\n",
    "    \"\"\"Find the position of the distress beacon.\"\"\"\n",
    "    for (sensor_x, sensor_y), (beacon_x, beacon_y) in sensors:\n",
    "        # Calculate Manhattan distance\n",
    "        manhattan_distance = abs(sensor_x - beacon_x) + abs(sensor_y - beacon_y)\n",
    "\n",
    "        # Consider all positions just outside the exclusion zone of this sensor\n",
    "        for dx in range(-manhattan_distance - 1, manhattan_distance + 2):\n",
    "            dy = (manhattan_distance + 1) - abs(dx)\n",
    "            for offset_y in [-dy, dy]:\n",
    "                x = sensor_x + dx\n",
    "                y = sensor_y + offset_y\n",
    "\n",
    "                # Check if the position is within bounds\n",
    "                if 0 <= x <= max_coord and 0 <= y <= max_coord:\n",
    "                    # Verify if this position is outside the exclusion zones of all sensors\n",
    "                    if all(\n",
    "                        abs(x - sx) + abs(y - sy) > abs(sx - bx) + abs(sy - by)\n",
    "                        for (sx, sy), (bx, by) in sensors\n",
    "                    ):\n",
    "                        return x, y\n",
    "    return None\n",
    "\n",
    "# Define the maximum coordinate range\n",
    "max_coord = 4000000\n",
    "\n",
    "# Find the distress beacon's position\n",
    "beacon_position = find_distress_beacon(sensors, max_coord)\n",
    "\n",
    "# Calculate the tuning frequency\n",
    "if beacon_position:\n",
    "    beacon_x, beacon_y = beacon_position\n",
    "    tuning_frequency = beacon_x * 4000000 + beacon_y\n",
    "else:\n",
    "    tuning_frequency = None\n",
    "\n",
    "beacon_position, tuning_frequency"
   ]
  },
  {
   "cell_type": "code",
   "execution_count": 3,
   "id": "9da9ca64-c8f1-4ba4-a877-00d63887faba",
   "metadata": {},
   "outputs": [
    {
     "name": "stdout",
     "output_type": "stream",
     "text": [
      "Distress Beacon Position: (2889465, 3040754)\n",
      "Tuning Frequency: 11557863040754\n",
      "Elapsed Time: 55.709430700 s\n"
     ]
    }
   ],
   "source": [
    "import time\n",
    "\n",
    "# Start the timer\n",
    "start_time = time.perf_counter()\n",
    "\n",
    "# Find the distress beacon's position\n",
    "beacon_position = find_distress_beacon(sensors, max_coord)\n",
    "\n",
    "# Calculate the tuning frequency\n",
    "if beacon_position:\n",
    "    beacon_x, beacon_y = beacon_position\n",
    "    tuning_frequency = beacon_x * 4000000 + beacon_y\n",
    "else:\n",
    "    tuning_frequency = None\n",
    "\n",
    "# Stop the timer\n",
    "end_time = time.perf_counter()\n",
    "\n",
    "# Calculate the elapsed time\n",
    "elapsed_time = end_time - start_time\n",
    "\n",
    "# Print the results and the elapsed time\n",
    "print(f\"Distress Beacon Position: {beacon_position}\")\n",
    "print(f\"Tuning Frequency: {tuning_frequency}\")\n",
    "print(f\"Elapsed Time: {elapsed_time:.9f} s\")"
   ]
  },
  {
   "cell_type": "code",
   "execution_count": null,
   "id": "d9de4a82-999a-475a-8c38-9b656bf69080",
   "metadata": {},
   "outputs": [],
   "source": []
  }
 ],
 "metadata": {
  "kernelspec": {
   "display_name": "Python 3 (ipykernel)",
   "language": "python",
   "name": "python3"
  },
  "language_info": {
   "codemirror_mode": {
    "name": "ipython",
    "version": 3
   },
   "file_extension": ".py",
   "mimetype": "text/x-python",
   "name": "python",
   "nbconvert_exporter": "python",
   "pygments_lexer": "ipython3",
   "version": "3.12.3"
  }
 },
 "nbformat": 4,
 "nbformat_minor": 5
}
