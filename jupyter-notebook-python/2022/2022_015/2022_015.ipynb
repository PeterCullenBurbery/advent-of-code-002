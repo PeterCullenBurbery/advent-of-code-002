{
 "cells": [
  {
   "cell_type": "markdown",
   "id": "8c64c841",
   "metadata": {},
   "source": [
    "# Advent of Code"
   ]
  },
  {
   "cell_type": "markdown",
   "id": "c2ffaf83",
   "metadata": {},
   "source": [
    "## 2022-012-015\n",
    "## 2022 015"
   ]
  },
  {
   "cell_type": "markdown",
   "id": "a176eb97",
   "metadata": {},
   "source": [
    "https://adventofcode.com/2022/day/15"
   ]
  },
  {
   "cell_type": "code",
   "execution_count": null,
   "id": "4c763c3e",
   "metadata": {},
   "outputs": [],
   "source": []
  }
 ],
 "metadata": {},
 "nbformat": 4,
 "nbformat_minor": 5
}
