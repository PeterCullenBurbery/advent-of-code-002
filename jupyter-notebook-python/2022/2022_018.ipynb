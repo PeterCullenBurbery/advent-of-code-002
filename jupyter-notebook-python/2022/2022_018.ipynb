{
 "cells": [
  {
   "cell_type": "markdown",
   "id": "a9507304",
   "metadata": {},
   "source": [
    "# Advent of Code"
   ]
  },
  {
   "cell_type": "markdown",
   "id": "0cbdbd3e",
   "metadata": {},
   "source": [
    "## 2022-012-018\n",
    "## 2022 018"
   ]
  },
  {
   "cell_type": "markdown",
   "id": "95a25b45",
   "metadata": {},
   "source": [
    "https://adventofcode.com/2022/day/18"
   ]
  },
  {
   "cell_type": "code",
   "execution_count": null,
   "id": "4a9211b0",
   "metadata": {},
   "outputs": [],
   "source": []
  }
 ],
 "metadata": {
  "kernelspec": {
   "display_name": "Python 3 (ipykernel)",
   "language": "python",
   "name": "python3"
  },
  "language_info": {
   "name": "python",
   "version": "3.12.3"
  }
 },
 "nbformat": 4,
 "nbformat_minor": 5
}
