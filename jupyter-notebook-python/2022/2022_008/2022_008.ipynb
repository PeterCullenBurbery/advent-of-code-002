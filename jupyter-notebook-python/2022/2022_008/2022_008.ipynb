{
 "cells": [
  {
   "cell_type": "markdown",
   "id": "f31bbaba",
   "metadata": {},
   "source": [
    "# Advent of Code"
   ]
  },
  {
   "cell_type": "markdown",
   "id": "852630cc",
   "metadata": {},
   "source": [
    "## 2022-012-008\n",
    "## 2022 008"
   ]
  },
  {
   "cell_type": "markdown",
   "id": "f5155136",
   "metadata": {},
   "source": [
    "https://adventofcode.com/2022/day/8"
   ]
  },
  {
   "cell_type": "code",
   "execution_count": null,
   "id": "2854e5c9",
   "metadata": {},
   "outputs": [],
   "source": []
  }
 ],
 "metadata": {},
 "nbformat": 4,
 "nbformat_minor": 5
}
