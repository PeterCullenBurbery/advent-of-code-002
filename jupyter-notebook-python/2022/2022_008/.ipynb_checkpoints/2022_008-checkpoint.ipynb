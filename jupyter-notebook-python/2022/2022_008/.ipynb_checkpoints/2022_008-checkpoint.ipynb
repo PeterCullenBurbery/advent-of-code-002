{
 "cells": [
  {
   "cell_type": "markdown",
   "id": "f31bbaba",
   "metadata": {},
   "source": [
    "# Advent of Code"
   ]
  },
  {
   "cell_type": "markdown",
   "id": "852630cc",
   "metadata": {},
   "source": [
    "## 2022-012-008\n",
    "## 2022 008"
   ]
  },
  {
   "cell_type": "markdown",
   "id": "f5155136",
   "metadata": {},
   "source": [
    "https://adventofcode.com/2022/day/8"
   ]
  },
  {
   "cell_type": "code",
   "execution_count": 2,
   "id": "2854e5c9",
   "metadata": {
    "scrolled": true
   },
   "outputs": [
    {
     "data": {
      "text/plain": [
       "1851"
      ]
     },
     "execution_count": 2,
     "metadata": {},
     "output_type": "execute_result"
    }
   ],
   "source": [
    "# Read the input and parse the grid\n",
    "with open('input.txt', 'r') as file:\n",
    "    grid = [list(map(int, line.strip())) for line in file.readlines()]\n",
    "\n",
    "# Define the grid dimensions\n",
    "rows = len(grid)\n",
    "cols = len(grid[0])\n",
    "\n",
    "# Function to check visibility of a tree\n",
    "def is_visible(row, col):\n",
    "    tree_height = grid[row][col]\n",
    "    # Check visibility from all four directions\n",
    "    # Left\n",
    "    if all(grid[row][c] < tree_height for c in range(col)):\n",
    "        return True\n",
    "    # Right\n",
    "    if all(grid[row][c] < tree_height for c in range(col + 1, cols)):\n",
    "        return True\n",
    "    # Up\n",
    "    if all(grid[r][col] < tree_height for r in range(row)):\n",
    "        return True\n",
    "    # Down\n",
    "    if all(grid[r][col] < tree_height for r in range(row + 1, rows)):\n",
    "        return True\n",
    "    return False\n",
    "\n",
    "# Count visible trees\n",
    "visible_count = 0\n",
    "\n",
    "# Count edge trees as they are always visible\n",
    "visible_count += 2 * (rows + cols - 2)\n",
    "\n",
    "# Check interior trees\n",
    "for r in range(1, rows - 1):\n",
    "    for c in range(1, cols - 1):\n",
    "        if is_visible(r, c):\n",
    "            visible_count += 1\n",
    "\n",
    "visible_count"
   ]
  },
  {
   "cell_type": "code",
   "execution_count": 3,
   "id": "69b688c6-d174-4a19-99d3-c78624d8df28",
   "metadata": {},
   "outputs": [
    {
     "data": {
      "text/plain": [
       "574080"
      ]
     },
     "execution_count": 3,
     "metadata": {},
     "output_type": "execute_result"
    }
   ],
   "source": [
    "# Function to calculate viewing distance in one direction\n",
    "def viewing_distance(tree_height, row, col, dr, dc):\n",
    "    distance = 0\n",
    "    r, c = row + dr, col + dc\n",
    "    while 0 <= r < rows and 0 <= c < cols:\n",
    "        distance += 1\n",
    "        if grid[r][c] >= tree_height:\n",
    "            break\n",
    "        r += dr\n",
    "        c += dc\n",
    "    return distance\n",
    "\n",
    "# Function to calculate the scenic score for a tree\n",
    "def scenic_score(row, col):\n",
    "    tree_height = grid[row][col]\n",
    "    # Calculate viewing distances in all four directions\n",
    "    up = viewing_distance(tree_height, row, col, -1, 0)\n",
    "    down = viewing_distance(tree_height, row, col, 1, 0)\n",
    "    left = viewing_distance(tree_height, row, col, 0, -1)\n",
    "    right = viewing_distance(tree_height, row, col, 0, 1)\n",
    "    return up * down * left * right\n",
    "\n",
    "# Calculate the highest scenic score\n",
    "highest_scenic_score = 0\n",
    "\n",
    "# Check all trees in the grid\n",
    "for r in range(rows):\n",
    "    for c in range(cols):\n",
    "        score = scenic_score(r, c)\n",
    "        highest_scenic_score = max(highest_scenic_score, score)\n",
    "\n",
    "highest_scenic_score"
   ]
  },
  {
   "cell_type": "code",
   "execution_count": null,
   "id": "9570546b-d602-4be1-83e1-30b8cab84dcf",
   "metadata": {},
   "outputs": [],
   "source": []
  }
 ],
 "metadata": {
  "kernelspec": {
   "display_name": "Python 3 (ipykernel)",
   "language": "python",
   "name": "python3"
  },
  "language_info": {
   "codemirror_mode": {
    "name": "ipython",
    "version": 3
   },
   "file_extension": ".py",
   "mimetype": "text/x-python",
   "name": "python",
   "nbconvert_exporter": "python",
   "pygments_lexer": "ipython3",
   "version": "3.12.3"
  }
 },
 "nbformat": 4,
 "nbformat_minor": 5
}
