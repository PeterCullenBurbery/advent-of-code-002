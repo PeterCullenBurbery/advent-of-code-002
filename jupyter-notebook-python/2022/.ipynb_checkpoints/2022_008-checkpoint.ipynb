{
 "cells": [
  {
   "cell_type": "markdown",
   "id": "993ef4ab",
   "metadata": {},
   "source": [
    "# Advent of Code"
   ]
  },
  {
   "cell_type": "markdown",
   "id": "d4a717e3",
   "metadata": {},
   "source": [
    "## 2022-012-008\n",
    "## 2022 008"
   ]
  },
  {
   "cell_type": "markdown",
   "id": "2d4bd972",
   "metadata": {},
   "source": [
    "https://adventofcode.com/2022/day/8"
   ]
  },
  {
   "cell_type": "code",
   "execution_count": null,
   "id": "d564b9c4",
   "metadata": {},
   "outputs": [],
   "source": []
  }
 ],
 "metadata": {
  "kernelspec": {
   "display_name": "Python 3 (ipykernel)",
   "language": "python",
   "name": "python3"
  },
  "language_info": {
   "name": "python",
   "version": "3.12.3"
  }
 },
 "nbformat": 4,
 "nbformat_minor": 5
}
