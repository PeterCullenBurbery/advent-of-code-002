{
 "cells": [
  {
   "cell_type": "markdown",
   "id": "9c952bb4",
   "metadata": {},
   "source": [
    "# Advent of Code"
   ]
  },
  {
   "cell_type": "markdown",
   "id": "da27ace2",
   "metadata": {},
   "source": [
    "## 2022-012-002\n",
    "## 2022 002"
   ]
  },
  {
   "cell_type": "markdown",
   "id": "3ada4cca",
   "metadata": {},
   "source": [
    "https://adventofcode.com/2022/day/2"
   ]
  },
  {
   "cell_type": "code",
   "execution_count": null,
   "id": "b7dc072e",
   "metadata": {},
   "outputs": [],
   "source": []
  }
 ],
 "metadata": {},
 "nbformat": 4,
 "nbformat_minor": 5
}
