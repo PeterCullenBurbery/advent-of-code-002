{
 "cells": [
  {
   "cell_type": "markdown",
   "id": "9c952bb4",
   "metadata": {},
   "source": [
    "# Advent of Code"
   ]
  },
  {
   "cell_type": "markdown",
   "id": "da27ace2",
   "metadata": {},
   "source": [
    "## 2022-012-002\n",
    "## 2022 002"
   ]
  },
  {
   "cell_type": "markdown",
   "id": "3ada4cca",
   "metadata": {},
   "source": [
    "https://adventofcode.com/2022/day/2"
   ]
  },
  {
   "cell_type": "code",
   "execution_count": 1,
   "id": "b7dc072e",
   "metadata": {},
   "outputs": [
    {
     "data": {
      "text/plain": [
       "8392"
      ]
     },
     "execution_count": 1,
     "metadata": {},
     "output_type": "execute_result"
    }
   ],
   "source": [
    "# Load and parse the input file for Rock Paper Scissors game\n",
    "file_path = 'input.txt'\n",
    "\n",
    "# Read the input file\n",
    "with open(file_path, 'r') as file:\n",
    "    rounds = file.readlines()\n",
    "\n",
    "# Define the scoring system\n",
    "shape_score = {'X': 1, 'Y': 2, 'Z': 3}\n",
    "outcome_score = {('A', 'X'): 3, ('A', 'Y'): 6, ('A', 'Z'): 0,  # Opponent plays Rock\n",
    "                 ('B', 'X'): 0, ('B', 'Y'): 3, ('B', 'Z'): 6,  # Opponent plays Paper\n",
    "                 ('C', 'X'): 6, ('C', 'Y'): 0, ('C', 'Z'): 3}  # Opponent plays Scissors\n",
    "\n",
    "# Calculate the total score\n",
    "total_score = 0\n",
    "for round_data in rounds:\n",
    "    opponent, player = round_data.strip().split()\n",
    "    total_score += shape_score[player] + outcome_score[(opponent, player)]\n",
    "\n",
    "total_score"
   ]
  },
  {
   "cell_type": "code",
   "execution_count": 2,
   "id": "8af6a268-3820-4aeb-9cfc-ac0b49954a0a",
   "metadata": {},
   "outputs": [
    {
     "data": {
      "text/plain": [
       "10116"
      ]
     },
     "execution_count": 2,
     "metadata": {},
     "output_type": "execute_result"
    }
   ],
   "source": [
    "# Adjusted scoring rules for Part Two\n",
    "# Map opponent's move and required outcome to the player's move\n",
    "move_map = {\n",
    "    ('A', 'X'): 'Z',  # Lose against Rock -> Scissors\n",
    "    ('A', 'Y'): 'X',  # Draw against Rock -> Rock\n",
    "    ('A', 'Z'): 'Y',  # Win against Rock -> Paper\n",
    "    ('B', 'X'): 'X',  # Lose against Paper -> Rock\n",
    "    ('B', 'Y'): 'Y',  # Draw against Paper -> Paper\n",
    "    ('B', 'Z'): 'Z',  # Win against Paper -> Scissors\n",
    "    ('C', 'X'): 'Y',  # Lose against Scissors -> Paper\n",
    "    ('C', 'Y'): 'Z',  # Draw against Scissors -> Scissors\n",
    "    ('C', 'Z'): 'X',  # Win against Scissors -> Rock\n",
    "}\n",
    "\n",
    "# Recalculate the total score based on the new rules\n",
    "total_score_part_two = 0\n",
    "for round_data in rounds:\n",
    "    opponent, outcome = round_data.strip().split()\n",
    "    player_move = move_map[(opponent, outcome)]\n",
    "    total_score_part_two += shape_score[player_move] + outcome_score[(opponent, player_move)]\n",
    "\n",
    "total_score_part_two"
   ]
  },
  {
   "cell_type": "code",
   "execution_count": null,
   "id": "2c26e47c-464b-48ce-aade-00885acbcf84",
   "metadata": {},
   "outputs": [],
   "source": []
  }
 ],
 "metadata": {
  "kernelspec": {
   "display_name": "Python 3 (ipykernel)",
   "language": "python",
   "name": "python3"
  },
  "language_info": {
   "codemirror_mode": {
    "name": "ipython",
    "version": 3
   },
   "file_extension": ".py",
   "mimetype": "text/x-python",
   "name": "python",
   "nbconvert_exporter": "python",
   "pygments_lexer": "ipython3",
   "version": "3.12.3"
  }
 },
 "nbformat": 4,
 "nbformat_minor": 5
}
