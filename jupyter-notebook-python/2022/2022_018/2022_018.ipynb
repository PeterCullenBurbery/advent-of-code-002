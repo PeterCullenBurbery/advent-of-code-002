{
 "cells": [
  {
   "cell_type": "markdown",
   "id": "97315a03",
   "metadata": {},
   "source": [
    "# Advent of Code"
   ]
  },
  {
   "cell_type": "markdown",
   "id": "d371a266",
   "metadata": {},
   "source": [
    "## 2022-012-018\n",
    "## 2022 018"
   ]
  },
  {
   "cell_type": "markdown",
   "id": "4fd903c8",
   "metadata": {},
   "source": [
    "https://adventofcode.com/2022/day/18"
   ]
  },
  {
   "cell_type": "code",
   "execution_count": null,
   "id": "ff0286a3",
   "metadata": {},
   "outputs": [],
   "source": []
  }
 ],
 "metadata": {},
 "nbformat": 4,
 "nbformat_minor": 5
}
