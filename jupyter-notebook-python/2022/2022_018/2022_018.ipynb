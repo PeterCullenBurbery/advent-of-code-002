{
 "cells": [
  {
   "cell_type": "markdown",
   "id": "97315a03",
   "metadata": {},
   "source": [
    "# Advent of Code"
   ]
  },
  {
   "cell_type": "markdown",
   "id": "d371a266",
   "metadata": {},
   "source": [
    "## 2022-012-018\n",
    "## 2022 018"
   ]
  },
  {
   "cell_type": "markdown",
   "id": "4fd903c8",
   "metadata": {},
   "source": [
    "https://adventofcode.com/2022/day/18"
   ]
  },
  {
   "cell_type": "code",
   "execution_count": 1,
   "id": "ff0286a3",
   "metadata": {},
   "outputs": [
    {
     "name": "stdout",
     "output_type": "stream",
     "text": [
      "Total Surface Area: 4370\n"
     ]
    }
   ],
   "source": [
    "def parse_input(file_path):\n",
    "    with open(file_path, 'r') as file:\n",
    "        cubes = [tuple(map(int, line.strip().split(','))) for line in file]\n",
    "    return cubes\n",
    "\n",
    "def calculate_surface_area(cubes):\n",
    "    cube_set = set(cubes)\n",
    "    directions = [\n",
    "        (1, 0, 0), (-1, 0, 0),\n",
    "        (0, 1, 0), (0, -1, 0),\n",
    "        (0, 0, 1), (0, 0, -1)\n",
    "    ]\n",
    "    \n",
    "    surface_area = 0\n",
    "    for cube in cubes:\n",
    "        for dx, dy, dz in directions:\n",
    "            neighbor = (cube[0] + dx, cube[1] + dy, cube[2] + dz)\n",
    "            if neighbor not in cube_set:\n",
    "                surface_area += 1\n",
    "    return surface_area\n",
    "\n",
    "# Load the input and calculate the surface area\n",
    "file_path = 'input.txt'\n",
    "cubes = parse_input(file_path)\n",
    "surface_area = calculate_surface_area(cubes)\n",
    "\n",
    "print(\"Total Surface Area:\", surface_area)"
   ]
  },
  {
   "cell_type": "code",
   "execution_count": 2,
   "id": "b16f5374-1729-4633-b14e-710906f16846",
   "metadata": {},
   "outputs": [
    {
     "name": "stdout",
     "output_type": "stream",
     "text": [
      "Exterior Surface Area: 2458\n"
     ]
    }
   ],
   "source": [
    "from collections import deque\n",
    "\n",
    "def parse_input(file_path):\n",
    "    with open(file_path, 'r') as file:\n",
    "        return [tuple(map(int, line.strip().split(','))) for line in file]\n",
    "\n",
    "def calculate_exterior_surface_area(cubes):\n",
    "    cube_set = set(cubes)\n",
    "    directions = [\n",
    "        (1, 0, 0), (-1, 0, 0),\n",
    "        (0, 1, 0), (0, -1, 0),\n",
    "        (0, 0, 1), (0, 0, -1)\n",
    "    ]\n",
    "\n",
    "    # Determine bounds of the 3D space\n",
    "    min_x = min(cube[0] for cube in cubes) - 1\n",
    "    max_x = max(cube[0] for cube in cubes) + 1\n",
    "    min_y = min(cube[1] for cube in cubes) - 1\n",
    "    max_y = max(cube[1] for cube in cubes) + 1\n",
    "    min_z = min(cube[2] for cube in cubes) - 1\n",
    "    max_z = max(cube[2] for cube in cubes) + 1\n",
    "\n",
    "    # BFS flood-fill from the outside\n",
    "    queue = deque([(min_x, min_y, min_z)])\n",
    "    visited = set([(min_x, min_y, min_z)])\n",
    "    exterior_surface_area = 0\n",
    "\n",
    "    while queue:\n",
    "        x, y, z = queue.popleft()\n",
    "        for dx, dy, dz in directions:\n",
    "            nx, ny, nz = x + dx, y + dy, z + dz\n",
    "\n",
    "            # Check bounds\n",
    "            if not (min_x <= nx <= max_x and min_y <= ny <= max_y and min_z <= nz <= max_z):\n",
    "                continue\n",
    "\n",
    "            neighbor = (nx, ny, nz)\n",
    "            if neighbor in cube_set:  # It's a lava cube\n",
    "                exterior_surface_area += 1\n",
    "            elif neighbor not in visited:  # It's air and not visited\n",
    "                visited.add(neighbor)\n",
    "                queue.append(neighbor)\n",
    "\n",
    "    return exterior_surface_area\n",
    "\n",
    "# Load the input and calculate the exterior surface area\n",
    "file_path = 'input.txt'\n",
    "cubes = parse_input(file_path)\n",
    "exterior_surface_area = calculate_exterior_surface_area(cubes)\n",
    "\n",
    "print(\"Exterior Surface Area:\", exterior_surface_area)"
   ]
  },
  {
   "cell_type": "code",
   "execution_count": null,
   "id": "2f305d96-7ca8-46c0-863c-cbd85752584f",
   "metadata": {},
   "outputs": [],
   "source": []
  }
 ],
 "metadata": {
  "kernelspec": {
   "display_name": "Python 3 (ipykernel)",
   "language": "python",
   "name": "python3"
  },
  "language_info": {
   "codemirror_mode": {
    "name": "ipython",
    "version": 3
   },
   "file_extension": ".py",
   "mimetype": "text/x-python",
   "name": "python",
   "nbconvert_exporter": "python",
   "pygments_lexer": "ipython3",
   "version": "3.12.3"
  }
 },
 "nbformat": 4,
 "nbformat_minor": 5
}
