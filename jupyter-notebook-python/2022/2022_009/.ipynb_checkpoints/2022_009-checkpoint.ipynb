{
 "cells": [
  {
   "cell_type": "markdown",
   "id": "896e1ed0",
   "metadata": {},
   "source": [
    "# Advent of Code"
   ]
  },
  {
   "cell_type": "markdown",
   "id": "f07f8af2",
   "metadata": {},
   "source": [
    "## 2022-012-009\n",
    "## 2022 009"
   ]
  },
  {
   "cell_type": "markdown",
   "id": "4040717c",
   "metadata": {},
   "source": [
    "https://adventofcode.com/2022/day/9"
   ]
  },
  {
   "cell_type": "code",
   "execution_count": null,
   "id": "0959edc3",
   "metadata": {},
   "outputs": [],
   "source": []
  }
 ],
 "metadata": {},
 "nbformat": 4,
 "nbformat_minor": 5
}
