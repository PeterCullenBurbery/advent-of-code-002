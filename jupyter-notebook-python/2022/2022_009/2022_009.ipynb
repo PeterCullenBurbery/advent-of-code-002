{
 "cells": [
  {
   "cell_type": "markdown",
   "id": "896e1ed0",
   "metadata": {},
   "source": [
    "# Advent of Code"
   ]
  },
  {
   "cell_type": "markdown",
   "id": "f07f8af2",
   "metadata": {},
   "source": [
    "## 2022-012-009\n",
    "## 2022 009"
   ]
  },
  {
   "cell_type": "markdown",
   "id": "4040717c",
   "metadata": {},
   "source": [
    "https://adventofcode.com/2022/day/9"
   ]
  },
  {
   "cell_type": "code",
   "execution_count": 2,
   "id": "0959edc3",
   "metadata": {},
   "outputs": [
    {
     "data": {
      "text/plain": [
       "5513"
      ]
     },
     "execution_count": 2,
     "metadata": {},
     "output_type": "execute_result"
    }
   ],
   "source": [
    "# Re-import necessary modules and reinitialize code after reset\n",
    "# Read and parse the input\n",
    "with open('input.txt', 'r') as file:\n",
    "    motions = [line.strip().split() for line in file.readlines()]\n",
    "\n",
    "# Initialize positions\n",
    "head = (0, 0)\n",
    "tail = (0, 0)\n",
    "\n",
    "# Set to track all visited positions by the tail\n",
    "visited_positions = set()\n",
    "visited_positions.add(tail)\n",
    "\n",
    "# Movement directions\n",
    "directions = {'L': (-1, 0), 'R': (1, 0), 'U': (0, 1), 'D': (0, -1)}\n",
    "\n",
    "# Function to determine if the head and tail are adjacent\n",
    "def is_adjacent(h, t):\n",
    "    return max(abs(h[0] - t[0]), abs(h[1] - t[1])) <= 1\n",
    "\n",
    "# Simulate the motions\n",
    "for direction, steps in motions:\n",
    "    dx, dy = directions[direction]\n",
    "    for _ in range(int(steps)):\n",
    "        # Move the head\n",
    "        head = (head[0] + dx, head[1] + dy)\n",
    "        # Move the tail if not adjacent\n",
    "        if not is_adjacent(head, tail):\n",
    "            tail = (tail[0] + (1 if head[0] > tail[0] else -1 if head[0] < tail[0] else 0),\n",
    "                    tail[1] + (1 if head[1] > tail[1] else -1 if head[1] < tail[1] else 0))\n",
    "            visited_positions.add(tail)\n",
    "\n",
    "# Count the unique positions visited by the tail\n",
    "unique_positions_count = len(visited_positions)\n",
    "unique_positions_count"
   ]
  },
  {
   "cell_type": "code",
   "execution_count": 3,
   "id": "d6e4ddbe-4e38-4fcd-b82f-b6a0f551c09c",
   "metadata": {},
   "outputs": [
    {
     "data": {
      "text/plain": [
       "2427"
      ]
     },
     "execution_count": 3,
     "metadata": {},
     "output_type": "execute_result"
    }
   ],
   "source": [
    "# Initialize positions for the rope with ten knots\n",
    "rope = [(0, 0)] * 10\n",
    "\n",
    "# Set to track all visited positions by the last knot (tail)\n",
    "visited_positions = set()\n",
    "visited_positions.add(rope[-1])\n",
    "\n",
    "# Simulate the motions\n",
    "for direction, steps in motions:\n",
    "    dx, dy = directions[direction]\n",
    "    for _ in range(int(steps)):\n",
    "        # Move the head\n",
    "        rope[0] = (rope[0][0] + dx, rope[0][1] + dy)\n",
    "        \n",
    "        # Update the rest of the rope\n",
    "        for i in range(1, len(rope)):\n",
    "            if not is_adjacent(rope[i - 1], rope[i]):\n",
    "                rope[i] = (\n",
    "                    rope[i][0] + (1 if rope[i - 1][0] > rope[i][0] else -1 if rope[i - 1][0] < rope[i][0] else 0),\n",
    "                    rope[i][1] + (1 if rope[i - 1][1] > rope[i][1] else -1 if rope[i - 1][1] < rope[i][1] else 0)\n",
    "                )\n",
    "        \n",
    "        # Add the position of the last knot to the visited set\n",
    "        visited_positions.add(rope[-1])\n",
    "\n",
    "# Count the unique positions visited by the last knot\n",
    "unique_positions_count = len(visited_positions)\n",
    "unique_positions_count"
   ]
  },
  {
   "cell_type": "code",
   "execution_count": null,
   "id": "4ba6d39b-c7bc-45fc-9a7f-7a65d28366f6",
   "metadata": {},
   "outputs": [],
   "source": []
  }
 ],
 "metadata": {
  "kernelspec": {
   "display_name": "Python 3 (ipykernel)",
   "language": "python",
   "name": "python3"
  },
  "language_info": {
   "codemirror_mode": {
    "name": "ipython",
    "version": 3
   },
   "file_extension": ".py",
   "mimetype": "text/x-python",
   "name": "python",
   "nbconvert_exporter": "python",
   "pygments_lexer": "ipython3",
   "version": "3.12.3"
  }
 },
 "nbformat": 4,
 "nbformat_minor": 5
}
