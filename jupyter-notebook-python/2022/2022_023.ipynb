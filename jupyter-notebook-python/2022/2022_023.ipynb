{
 "cells": [
  {
   "cell_type": "markdown",
   "id": "33ce37af",
   "metadata": {},
   "source": [
    "# Advent of Code"
   ]
  },
  {
   "cell_type": "markdown",
   "id": "bdd40114",
   "metadata": {},
   "source": [
    "## 2022-012-023\n",
    "## 2022 023"
   ]
  },
  {
   "cell_type": "markdown",
   "id": "8897201a",
   "metadata": {},
   "source": [
    "https://adventofcode.com/2022/day/23"
   ]
  },
  {
   "cell_type": "code",
   "execution_count": null,
   "id": "5ff632cf",
   "metadata": {},
   "outputs": [],
   "source": []
  }
 ],
 "metadata": {
  "kernelspec": {
   "display_name": "Python 3 (ipykernel)",
   "language": "python",
   "name": "python3"
  },
  "language_info": {
   "name": "python",
   "version": "3.12.3"
  }
 },
 "nbformat": 4,
 "nbformat_minor": 5
}
