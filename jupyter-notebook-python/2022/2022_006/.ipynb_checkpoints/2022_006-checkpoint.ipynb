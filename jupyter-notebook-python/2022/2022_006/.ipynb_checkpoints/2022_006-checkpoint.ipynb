{
 "cells": [
  {
   "cell_type": "markdown",
   "id": "9ef30cf2",
   "metadata": {},
   "source": [
    "# Advent of Code"
   ]
  },
  {
   "cell_type": "markdown",
   "id": "b527b2ba",
   "metadata": {},
   "source": [
    "## 2022-012-006\n",
    "## 2022 006"
   ]
  },
  {
   "cell_type": "markdown",
   "id": "ffc2650e",
   "metadata": {},
   "source": [
    "https://adventofcode.com/2022/day/6"
   ]
  },
  {
   "cell_type": "code",
   "execution_count": 1,
   "id": "2bfe2947",
   "metadata": {},
   "outputs": [
    {
     "data": {
      "text/plain": [
       "1093"
      ]
     },
     "execution_count": 1,
     "metadata": {},
     "output_type": "execute_result"
    }
   ],
   "source": [
    "# Load the input file to find the start-of-packet marker\n",
    "file_path = 'input.txt'\n",
    "\n",
    "# Read the input file\n",
    "with open(file_path, 'r') as file:\n",
    "    datastream = file.read().strip()\n",
    "\n",
    "# Find the first position where four most recent characters are unique\n",
    "marker_length = 4\n",
    "for i in range(len(datastream) - marker_length + 1):\n",
    "    if len(set(datastream[i:i + marker_length])) == marker_length:\n",
    "        start_of_packet = i + marker_length\n",
    "        break\n",
    "\n",
    "start_of_packet"
   ]
  },
  {
   "cell_type": "code",
   "execution_count": 2,
   "id": "08f54335-e800-417c-97aa-d8a23ba496ef",
   "metadata": {},
   "outputs": [
    {
     "data": {
      "text/plain": [
       "3534"
      ]
     },
     "execution_count": 2,
     "metadata": {},
     "output_type": "execute_result"
    }
   ],
   "source": [
    "# Find the first position where 14 most recent characters are unique\n",
    "message_marker_length = 14\n",
    "for i in range(len(datastream) - message_marker_length + 1):\n",
    "    if len(set(datastream[i:i + message_marker_length])) == message_marker_length:\n",
    "        start_of_message = i + message_marker_length\n",
    "        break\n",
    "\n",
    "start_of_message"
   ]
  },
  {
   "cell_type": "code",
   "execution_count": null,
   "id": "aa3f917b-6426-4f12-b73b-3837dd92a0c5",
   "metadata": {},
   "outputs": [],
   "source": []
  }
 ],
 "metadata": {
  "kernelspec": {
   "display_name": "Python 3 (ipykernel)",
   "language": "python",
   "name": "python3"
  },
  "language_info": {
   "codemirror_mode": {
    "name": "ipython",
    "version": 3
   },
   "file_extension": ".py",
   "mimetype": "text/x-python",
   "name": "python",
   "nbconvert_exporter": "python",
   "pygments_lexer": "ipython3",
   "version": "3.12.3"
  }
 },
 "nbformat": 4,
 "nbformat_minor": 5
}
