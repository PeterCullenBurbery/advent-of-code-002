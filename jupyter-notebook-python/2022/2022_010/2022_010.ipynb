{
 "cells": [
  {
   "cell_type": "markdown",
   "id": "d76d0b56",
   "metadata": {},
   "source": [
    "# Advent of Code"
   ]
  },
  {
   "cell_type": "markdown",
   "id": "bbebf7f9",
   "metadata": {},
   "source": [
    "## 2022-012-010\n",
    "## 2022 010"
   ]
  },
  {
   "cell_type": "markdown",
   "id": "d4a098b2",
   "metadata": {},
   "source": [
    "https://adventofcode.com/2022/day/10"
   ]
  },
  {
   "cell_type": "code",
   "execution_count": 1,
   "id": "763d356a",
   "metadata": {},
   "outputs": [
    {
     "data": {
      "text/plain": [
       "15360"
      ]
     },
     "execution_count": 1,
     "metadata": {},
     "output_type": "execute_result"
    }
   ],
   "source": [
    "# Read and parse the input instructions\n",
    "with open('input.txt', 'r') as file:\n",
    "    instructions = [line.strip() for line in file.readlines()]\n",
    "\n",
    "# Initialize the CPU state\n",
    "x = 1  # Initial value of register X\n",
    "cycle = 0\n",
    "signal_strengths = []\n",
    "check_cycles = {20, 60, 100, 140, 180, 220}\n",
    "\n",
    "# Simulate the CPU instructions\n",
    "for instruction in instructions:\n",
    "    parts = instruction.split()\n",
    "    if parts[0] == \"noop\":\n",
    "        # noop takes 1 cycle\n",
    "        cycle += 1\n",
    "        if cycle in check_cycles:\n",
    "            signal_strengths.append(cycle * x)\n",
    "    elif parts[0] == \"addx\":\n",
    "        # addx takes 2 cycles\n",
    "        cycle += 1\n",
    "        if cycle in check_cycles:\n",
    "            signal_strengths.append(cycle * x)\n",
    "        cycle += 1\n",
    "        if cycle in check_cycles:\n",
    "            signal_strengths.append(cycle * x)\n",
    "        x += int(parts[1])\n",
    "\n",
    "# Calculate the sum of signal strengths\n",
    "sum_signal_strengths = sum(signal_strengths)\n",
    "sum_signal_strengths"
   ]
  },
  {
   "cell_type": "code",
   "execution_count": 7,
   "id": "081fbeda-aeae-467e-99c2-ad07c8b5982a",
   "metadata": {},
   "outputs": [
    {
     "name": "stdout",
     "output_type": "stream",
     "text": [
      "###..#..#.#....#..#...##..##..####..##..\n",
      "#..#.#..#.#....#..#....#.#..#....#.#..#.\n",
      "#..#.####.#....####....#.#......#..#..#.\n",
      "###..#..#.#....#..#....#.#.##..#...####.\n",
      "#....#..#.#....#..#.#..#.#..#.#....#..#.\n",
      "#....#..#.####.#..#..##...###.####.#..#.\n"
     ]
    }
   ],
   "source": [
    "# Initialize the CRT display\n",
    "CRT_WIDTH = 40\n",
    "CRT_HEIGHT = 6\n",
    "crt_display = [['.' for _ in range(CRT_WIDTH)] for _ in range(CRT_HEIGHT)]\n",
    "\n",
    "# Reset the CPU state\n",
    "x = 1  # Initial value of register X\n",
    "cycle = 0\n",
    "\n",
    "# Helper function to draw a pixel on the CRT\n",
    "def draw_pixel(cycle, x):\n",
    "    row = cycle // CRT_WIDTH\n",
    "    col = cycle % CRT_WIDTH\n",
    "    if col in range(x - 1, x + 2):  # Sprite covers x-1, x, x+1\n",
    "        crt_display[row][col] = '#'\n",
    "\n",
    "# Simulate the CPU instructions and draw the CRT\n",
    "for instruction in instructions:\n",
    "    parts = instruction.split()\n",
    "    if parts[0] == \"noop\":\n",
    "        # noop takes 1 cycle\n",
    "        draw_pixel(cycle, x)\n",
    "        cycle += 1\n",
    "    elif parts[0] == \"addx\":\n",
    "        # addx takes 2 cycles\n",
    "        draw_pixel(cycle, x)\n",
    "        cycle += 1\n",
    "        draw_pixel(cycle, x)\n",
    "        cycle += 1\n",
    "        x += int(parts[1])\n",
    "\n",
    "# Render the CRT display by printing directly to ensure new lines are applied\n",
    "for row in crt_display:\n",
    "    print(''.join(row))"
   ]
  },
  {
   "cell_type": "markdown",
   "id": "76be786c-2964-43ef-a0b0-10b10f05b686",
   "metadata": {},
   "source": [
    "PHLHJGZA."
   ]
  },
  {
   "cell_type": "code",
   "execution_count": null,
   "id": "7b48d246-77aa-4df0-b067-50363fa9779c",
   "metadata": {},
   "outputs": [],
   "source": []
  }
 ],
 "metadata": {
  "kernelspec": {
   "display_name": "Python 3 (ipykernel)",
   "language": "python",
   "name": "python3"
  },
  "language_info": {
   "codemirror_mode": {
    "name": "ipython",
    "version": 3
   },
   "file_extension": ".py",
   "mimetype": "text/x-python",
   "name": "python",
   "nbconvert_exporter": "python",
   "pygments_lexer": "ipython3",
   "version": "3.12.3"
  }
 },
 "nbformat": 4,
 "nbformat_minor": 5
}
