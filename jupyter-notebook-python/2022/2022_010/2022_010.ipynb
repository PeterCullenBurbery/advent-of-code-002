{
 "cells": [
  {
   "cell_type": "markdown",
   "id": "d76d0b56",
   "metadata": {},
   "source": [
    "# Advent of Code"
   ]
  },
  {
   "cell_type": "markdown",
   "id": "bbebf7f9",
   "metadata": {},
   "source": [
    "## 2022-012-010\n",
    "## 2022 010"
   ]
  },
  {
   "cell_type": "markdown",
   "id": "d4a098b2",
   "metadata": {},
   "source": [
    "https://adventofcode.com/2022/day/10"
   ]
  },
  {
   "cell_type": "code",
   "execution_count": null,
   "id": "763d356a",
   "metadata": {},
   "outputs": [],
   "source": []
  }
 ],
 "metadata": {},
 "nbformat": 4,
 "nbformat_minor": 5
}
