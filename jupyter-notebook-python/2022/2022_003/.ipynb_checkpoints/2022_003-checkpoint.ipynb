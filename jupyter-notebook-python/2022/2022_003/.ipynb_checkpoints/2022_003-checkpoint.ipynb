{
 "cells": [
  {
   "cell_type": "markdown",
   "id": "47399cdb",
   "metadata": {},
   "source": [
    "# Advent of Code"
   ]
  },
  {
   "cell_type": "markdown",
   "id": "493fb0a1",
   "metadata": {},
   "source": [
    "## 2022-012-003\n",
    "## 2022 003"
   ]
  },
  {
   "cell_type": "markdown",
   "id": "29776b62",
   "metadata": {},
   "source": [
    "https://adventofcode.com/2022/day/3"
   ]
  },
  {
   "cell_type": "code",
   "execution_count": null,
   "id": "d8226f61",
   "metadata": {},
   "outputs": [],
   "source": []
  }
 ],
 "metadata": {},
 "nbformat": 4,
 "nbformat_minor": 5
}
