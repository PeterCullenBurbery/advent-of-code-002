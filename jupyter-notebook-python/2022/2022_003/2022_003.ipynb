{
 "cells": [
  {
   "cell_type": "markdown",
   "id": "47399cdb",
   "metadata": {},
   "source": [
    "# Advent of Code"
   ]
  },
  {
   "cell_type": "markdown",
   "id": "493fb0a1",
   "metadata": {},
   "source": [
    "## 2022-012-003\n",
    "## 2022 003"
   ]
  },
  {
   "cell_type": "markdown",
   "id": "29776b62",
   "metadata": {},
   "source": [
    "https://adventofcode.com/2022/day/3"
   ]
  },
  {
   "cell_type": "code",
   "execution_count": 1,
   "id": "d8226f61",
   "metadata": {},
   "outputs": [
    {
     "data": {
      "text/plain": [
       "7553"
      ]
     },
     "execution_count": 1,
     "metadata": {},
     "output_type": "execute_result"
    }
   ],
   "source": [
    "# Load and parse the input file for Rucksack Reorganization\n",
    "file_path = 'input.txt'\n",
    "\n",
    "# Read the input file\n",
    "with open(file_path, 'r') as file:\n",
    "    rucksacks = file.readlines()\n",
    "\n",
    "# Priority mapping: a-z -> 1-26, A-Z -> 27-52\n",
    "priority = {chr(i): i - 96 for i in range(97, 123)}  # a-z\n",
    "priority.update({chr(i): i - 38 for i in range(65, 91)})  # A-Z\n",
    "\n",
    "# Calculate the sum of priorities for the common items in each rucksack\n",
    "total_priority = 0\n",
    "for rucksack in rucksacks:\n",
    "    rucksack = rucksack.strip()\n",
    "    half = len(rucksack) // 2\n",
    "    first_compartment = set(rucksack[:half])\n",
    "    second_compartment = set(rucksack[half:])\n",
    "    common_items = first_compartment & second_compartment\n",
    "    total_priority += sum(priority[item] for item in common_items)\n",
    "\n",
    "total_priority"
   ]
  },
  {
   "cell_type": "code",
   "execution_count": 2,
   "id": "77dba786-059c-4e91-8601-b3b14c947f88",
   "metadata": {},
   "outputs": [
    {
     "data": {
      "text/plain": [
       "2758"
      ]
     },
     "execution_count": 2,
     "metadata": {},
     "output_type": "execute_result"
    }
   ],
   "source": [
    "# Calculate the sum of priorities for the badge item types in each group of three rucksacks\n",
    "badge_priority_total = 0\n",
    "\n",
    "# Process rucksacks in groups of three\n",
    "for i in range(0, len(rucksacks), 3):\n",
    "    group = [set(rucksacks[i].strip()), set(rucksacks[i+1].strip()), set(rucksacks[i+2].strip())]\n",
    "    common_badge = set.intersection(*group)\n",
    "    badge_priority_total += sum(priority[item] for item in common_badge)\n",
    "\n",
    "badge_priority_total"
   ]
  },
  {
   "cell_type": "code",
   "execution_count": null,
   "id": "66315ec5-fac7-4789-b070-af4c4ba4d2c8",
   "metadata": {},
   "outputs": [],
   "source": []
  }
 ],
 "metadata": {
  "kernelspec": {
   "display_name": "Python 3 (ipykernel)",
   "language": "python",
   "name": "python3"
  },
  "language_info": {
   "codemirror_mode": {
    "name": "ipython",
    "version": 3
   },
   "file_extension": ".py",
   "mimetype": "text/x-python",
   "name": "python",
   "nbconvert_exporter": "python",
   "pygments_lexer": "ipython3",
   "version": "3.12.3"
  }
 },
 "nbformat": 4,
 "nbformat_minor": 5
}
