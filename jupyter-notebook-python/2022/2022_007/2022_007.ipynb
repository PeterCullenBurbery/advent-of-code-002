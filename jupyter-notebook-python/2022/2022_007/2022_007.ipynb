{
 "cells": [
  {
   "cell_type": "markdown",
   "id": "03459c98",
   "metadata": {},
   "source": [
    "# Advent of Code"
   ]
  },
  {
   "cell_type": "markdown",
   "id": "905c7ad0",
   "metadata": {},
   "source": [
    "## 2022-012-007\n",
    "## 2022 007"
   ]
  },
  {
   "cell_type": "markdown",
   "id": "4ce1e475",
   "metadata": {},
   "source": [
    "https://adventofcode.com/2022/day/7"
   ]
  },
  {
   "cell_type": "code",
   "execution_count": 2,
   "id": "fc9d3235",
   "metadata": {},
   "outputs": [
    {
     "data": {
      "text/plain": [
       "1743217"
      ]
     },
     "execution_count": 2,
     "metadata": {},
     "output_type": "execute_result"
    }
   ],
   "source": [
    "# Parse the input file to create a tree structure for the file system and calculate directory sizes.\n",
    "\n",
    "from collections import defaultdict\n",
    "\n",
    "# Read the file\n",
    "file_path = 'input.txt'\n",
    "with open(file_path, 'r') as file:\n",
    "    terminal_output = file.readlines()\n",
    "\n",
    "# Parse the file system\n",
    "current_path = []\n",
    "directory_sizes = defaultdict(int)\n",
    "file_system = defaultdict(list)\n",
    "\n",
    "for line in terminal_output:\n",
    "    line = line.strip()\n",
    "    if line.startswith('$'):\n",
    "        # Handle commands\n",
    "        parts = line.split()\n",
    "        if parts[1] == 'cd':\n",
    "            if parts[2] == '/':\n",
    "                current_path = ['/']\n",
    "            elif parts[2] == '..':\n",
    "                current_path.pop()\n",
    "            else:\n",
    "                current_path.append(parts[2])\n",
    "    else:\n",
    "        # Handle directory contents\n",
    "        parts = line.split()\n",
    "        if parts[0] == 'dir':\n",
    "            # It's a directory\n",
    "            dir_name = parts[1]\n",
    "            file_system[tuple(current_path)].append((dir_name, 'dir'))\n",
    "        else:\n",
    "            # It's a file with size\n",
    "            file_size = int(parts[0])\n",
    "            file_name = parts[1]\n",
    "            file_system[tuple(current_path)].append((file_name, file_size))\n",
    "            # Add the file size to the current directory and all parent directories\n",
    "            for i in range(len(current_path)):\n",
    "                directory_sizes[tuple(current_path[:i+1])] += file_size\n",
    "\n",
    "# Find directories with a total size of at most 100,000\n",
    "threshold = 100_000\n",
    "small_dirs = {key: size for key, size in directory_sizes.items() if size <= threshold}\n",
    "small_dirs_sum = sum(small_dirs.values())\n",
    "\n",
    "small_dirs_sum"
   ]
  },
  {
   "cell_type": "code",
   "execution_count": 3,
   "id": "be48b7ac-9b36-4dd0-8ca6-c20e35ebe58e",
   "metadata": {},
   "outputs": [
    {
     "data": {
      "text/plain": [
       "8319096"
      ]
     },
     "execution_count": 3,
     "metadata": {},
     "output_type": "execute_result"
    }
   ],
   "source": [
    "# Calculate the total disk space and space needed for the update\n",
    "total_disk_space = 70_000_000\n",
    "required_unused_space = 30_000_000\n",
    "\n",
    "# Calculate current used space and unused space\n",
    "current_used_space = directory_sizes[('/',)]\n",
    "current_unused_space = total_disk_space - current_used_space\n",
    "\n",
    "# Calculate the minimum size of a directory to delete to free up enough space\n",
    "space_needed_to_free = required_unused_space - current_unused_space\n",
    "\n",
    "# Find the smallest directory that can free up enough space\n",
    "candidate_dirs = {key: size for key, size in directory_sizes.items() if size >= space_needed_to_free}\n",
    "smallest_dir_size = min(candidate_dirs.values())\n",
    "\n",
    "smallest_dir_size"
   ]
  },
  {
   "cell_type": "code",
   "execution_count": null,
   "id": "cefc6d99-f08b-4166-a06e-b95ac8488fe8",
   "metadata": {},
   "outputs": [],
   "source": []
  }
 ],
 "metadata": {
  "kernelspec": {
   "display_name": "Python 3 (ipykernel)",
   "language": "python",
   "name": "python3"
  },
  "language_info": {
   "codemirror_mode": {
    "name": "ipython",
    "version": 3
   },
   "file_extension": ".py",
   "mimetype": "text/x-python",
   "name": "python",
   "nbconvert_exporter": "python",
   "pygments_lexer": "ipython3",
   "version": "3.12.3"
  }
 },
 "nbformat": 4,
 "nbformat_minor": 5
}
