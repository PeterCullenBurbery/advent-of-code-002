{
 "cells": [
  {
   "cell_type": "markdown",
   "id": "03459c98",
   "metadata": {},
   "source": [
    "# Advent of Code"
   ]
  },
  {
   "cell_type": "markdown",
   "id": "905c7ad0",
   "metadata": {},
   "source": [
    "## 2022-012-007\n",
    "## 2022 007"
   ]
  },
  {
   "cell_type": "markdown",
   "id": "4ce1e475",
   "metadata": {},
   "source": [
    "https://adventofcode.com/2022/day/7"
   ]
  },
  {
   "cell_type": "code",
   "execution_count": null,
   "id": "fc9d3235",
   "metadata": {},
   "outputs": [],
   "source": []
  }
 ],
 "metadata": {},
 "nbformat": 4,
 "nbformat_minor": 5
}
