{
 "cells": [
  {
   "cell_type": "markdown",
   "id": "3aa93037",
   "metadata": {},
   "source": [
    "# Advent of Code"
   ]
  },
  {
   "cell_type": "markdown",
   "id": "07b32f9f",
   "metadata": {},
   "source": [
    "## 2022-012-004\n",
    "## 2022 004"
   ]
  },
  {
   "cell_type": "markdown",
   "id": "5bfbcfc3",
   "metadata": {},
   "source": [
    "https://adventofcode.com/2022/day/4"
   ]
  },
  {
   "cell_type": "code",
   "execution_count": null,
   "id": "125c1901",
   "metadata": {},
   "outputs": [],
   "source": []
  }
 ],
 "metadata": {
  "kernelspec": {
   "display_name": "Python 3 (ipykernel)",
   "language": "python",
   "name": "python3"
  },
  "language_info": {
   "name": "python",
   "version": "3.12.3"
  }
 },
 "nbformat": 4,
 "nbformat_minor": 5
}
