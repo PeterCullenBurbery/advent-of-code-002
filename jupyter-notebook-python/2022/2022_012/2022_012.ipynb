{
 "cells": [
  {
   "cell_type": "markdown",
   "id": "23d8d63e",
   "metadata": {},
   "source": [
    "# Advent of Code"
   ]
  },
  {
   "cell_type": "markdown",
   "id": "d5075927",
   "metadata": {},
   "source": [
    "## 2022-012-012\n",
    "## 2022 012"
   ]
  },
  {
   "cell_type": "markdown",
   "id": "de4ff1c5",
   "metadata": {},
   "source": [
    "https://adventofcode.com/2022/day/12"
   ]
  },
  {
   "cell_type": "code",
   "execution_count": null,
   "id": "d5a0194a",
   "metadata": {},
   "outputs": [],
   "source": []
  }
 ],
 "metadata": {},
 "nbformat": 4,
 "nbformat_minor": 5
}
