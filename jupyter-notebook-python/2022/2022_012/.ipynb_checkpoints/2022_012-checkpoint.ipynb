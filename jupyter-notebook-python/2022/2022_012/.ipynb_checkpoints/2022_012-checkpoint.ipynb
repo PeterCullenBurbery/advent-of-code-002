{
 "cells": [
  {
   "cell_type": "markdown",
   "id": "23d8d63e",
   "metadata": {},
   "source": [
    "# Advent of Code"
   ]
  },
  {
   "cell_type": "markdown",
   "id": "d5075927",
   "metadata": {},
   "source": [
    "## 2022-012-012\n",
    "## 2022 012"
   ]
  },
  {
   "cell_type": "markdown",
   "id": "de4ff1c5",
   "metadata": {},
   "source": [
    "https://adventofcode.com/2022/day/12"
   ]
  },
  {
   "cell_type": "code",
   "execution_count": 2,
   "id": "d5a0194a",
   "metadata": {},
   "outputs": [
    {
     "data": {
      "text/plain": [
       "481"
      ]
     },
     "execution_count": 2,
     "metadata": {},
     "output_type": "execute_result"
    }
   ],
   "source": [
    "from collections import deque\n",
    "\n",
    "# Read the input heightmap\n",
    "with open('input.txt', 'r') as file:\n",
    "    heightmap = [line.strip() for line in file.readlines()]\n",
    "\n",
    "# Parse the grid dimensions and find the start and end points\n",
    "rows, cols = len(heightmap), len(heightmap[0])\n",
    "start, end = None, None\n",
    "\n",
    "# Parse the heightmap and locate 'S' and 'E'\n",
    "grid = []\n",
    "for r, line in enumerate(heightmap):\n",
    "    row = []\n",
    "    for c, char in enumerate(line):\n",
    "        if char == 'S':\n",
    "            start = (r, c)\n",
    "            row.append(0)  # 'S' is elevation 'a'\n",
    "        elif char == 'E':\n",
    "            end = (r, c)\n",
    "            row.append(25)  # 'E' is elevation 'z'\n",
    "        else:\n",
    "            row.append(ord(char) - ord('a'))\n",
    "    grid.append(row)\n",
    "\n",
    "# Directions for moving up, down, left, and right\n",
    "directions = [(-1, 0), (1, 0), (0, -1), (0, 1)]\n",
    "\n",
    "# Perform BFS to find the shortest path\n",
    "def bfs(start, end):\n",
    "    queue = deque([(start[0], start[1], 0)])  # (row, col, steps)\n",
    "    visited = set()\n",
    "    visited.add((start[0], start[1]))\n",
    "\n",
    "    while queue:\n",
    "        r, c, steps = queue.popleft()\n",
    "        if (r, c) == end:\n",
    "            return steps\n",
    "\n",
    "        for dr, dc in directions:\n",
    "            nr, nc = r + dr, c + dc\n",
    "            if 0 <= nr < rows and 0 <= nc < cols and (nr, nc) not in visited:\n",
    "                if grid[nr][nc] <= grid[r][c] + 1:\n",
    "                    visited.add((nr, nc))\n",
    "                    queue.append((nr, nc, steps + 1))\n",
    "    return -1  # If no path is found\n",
    "\n",
    "# Find the shortest path\n",
    "shortest_steps = bfs(start, end)\n",
    "shortest_steps"
   ]
  },
  {
   "cell_type": "code",
   "execution_count": 3,
   "id": "649b23a6-83d4-48a2-9fb5-ffc787472147",
   "metadata": {},
   "outputs": [
    {
     "data": {
      "text/plain": [
       "480"
      ]
     },
     "execution_count": 3,
     "metadata": {},
     "output_type": "execute_result"
    }
   ],
   "source": [
    "# Find all possible starting points at elevation 'a'\n",
    "possible_starts = [(r, c) for r in range(rows) for c in range(cols) if grid[r][c] == 0]\n",
    "\n",
    "# Find the shortest path from any starting point to the end\n",
    "shortest_path = float('inf')\n",
    "\n",
    "for start_point in possible_starts:\n",
    "    steps = bfs(start_point, end)\n",
    "    if steps != -1:  # If a valid path exists\n",
    "        shortest_path = min(shortest_path, steps)\n",
    "\n",
    "shortest_path"
   ]
  },
  {
   "cell_type": "code",
   "execution_count": null,
   "id": "6ee38579-bd41-4a52-8d59-6fc3c65ff3cc",
   "metadata": {},
   "outputs": [],
   "source": []
  }
 ],
 "metadata": {
  "kernelspec": {
   "display_name": "Python 3 (ipykernel)",
   "language": "python",
   "name": "python3"
  },
  "language_info": {
   "codemirror_mode": {
    "name": "ipython",
    "version": 3
   },
   "file_extension": ".py",
   "mimetype": "text/x-python",
   "name": "python",
   "nbconvert_exporter": "python",
   "pygments_lexer": "ipython3",
   "version": "3.12.3"
  }
 },
 "nbformat": 4,
 "nbformat_minor": 5
}
