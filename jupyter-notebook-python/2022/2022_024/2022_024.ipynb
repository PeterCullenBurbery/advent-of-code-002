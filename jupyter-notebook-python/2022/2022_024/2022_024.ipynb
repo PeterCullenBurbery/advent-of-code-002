{
 "cells": [
  {
   "cell_type": "markdown",
   "id": "57dd9271",
   "metadata": {},
   "source": [
    "# Advent of Code"
   ]
  },
  {
   "cell_type": "markdown",
   "id": "d03fb0c3",
   "metadata": {},
   "source": [
    "## 2022-012-024\n",
    "## 2022 024"
   ]
  },
  {
   "cell_type": "markdown",
   "id": "17434b0d",
   "metadata": {},
   "source": [
    "https://adventofcode.com/2022/day/24"
   ]
  },
  {
   "cell_type": "code",
   "execution_count": null,
   "id": "dc8a7768",
   "metadata": {},
   "outputs": [],
   "source": []
  }
 ],
 "metadata": {},
 "nbformat": 4,
 "nbformat_minor": 5
}
