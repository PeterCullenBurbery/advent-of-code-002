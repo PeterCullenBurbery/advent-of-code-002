{
 "cells": [
  {
   "cell_type": "markdown",
   "id": "57dd9271",
   "metadata": {},
   "source": [
    "# Advent of Code"
   ]
  },
  {
   "cell_type": "markdown",
   "id": "d03fb0c3",
   "metadata": {},
   "source": [
    "## 2022-012-024\n",
    "## 2022 024"
   ]
  },
  {
   "cell_type": "markdown",
   "id": "17434b0d",
   "metadata": {},
   "source": [
    "https://adventofcode.com/2022/day/24"
   ]
  },
  {
   "cell_type": "code",
   "execution_count": null,
   "id": "dc8a7768",
   "metadata": {},
   "outputs": [],
   "source": [
    "from collections import deque\n",
    "\n",
    "# Directions for blizzards and movements\n",
    "BLIZZARD_DIRECTIONS = {\n",
    "    '>': (0, 1),\n",
    "    '<': (0, -1),\n",
    "    '^': (-1, 0),\n",
    "    'v': (1, 0),\n",
    "}\n",
    "\n",
    "# Parse input file\n",
    "def parse_input(file_path):\n",
    "    with open(file_path, 'r') as f:\n",
    "        grid = [list(line.strip()) for line in f]\n",
    "    blizzards = []\n",
    "    walls = set()\n",
    "    for r, row in enumerate(grid):\n",
    "        for c, cell in enumerate(row):\n",
    "            if cell == '#':\n",
    "                walls.add((r, c))\n",
    "            elif cell in BLIZZARD_DIRECTIONS:\n",
    "                blizzards.append((r, c, cell))\n",
    "    start = (0, next(c for c, cell in enumerate(grid[0]) if cell == '.'))\n",
    "    goal = (len(grid) - 1, next(c for c, cell in enumerate(grid[-1]) if cell == '.'))\n",
    "    return grid, blizzards, walls, start, goal\n",
    "\n",
    "# Move blizzards\n",
    "def move_blizzards(blizzards, walls, rows, cols):\n",
    "    new_blizzards = []\n",
    "    for r, c, d in blizzards:\n",
    "        dr, dc = BLIZZARD_DIRECTIONS[d]\n",
    "        nr, nc = r + dr, c + dc\n",
    "        if (nr, nc) in walls:\n",
    "            # Wrap around\n",
    "            if d == '>':\n",
    "                nc = 1\n",
    "            elif d == '<':\n",
    "                nc = cols - 2\n",
    "            elif d == '^':\n",
    "                nr = rows - 2\n",
    "            elif d == 'v':\n",
    "                nr = 1\n",
    "        new_blizzards.append((nr, nc, d))\n",
    "    return new_blizzards\n",
    "\n",
    "# Find the shortest path\n",
    "def find_shortest_path(grid, blizzards, walls, start, goal):\n",
    "    rows, cols = len(grid), len(grid[0])\n",
    "    queue = deque([(0, start)])  # (time, position)\n",
    "    visited = set()\n",
    "    blizzard_positions = set((r, c) for r, c, _ in blizzards)\n",
    "\n",
    "    while queue:\n",
    "        time, (r, c) = queue.popleft()\n",
    "        if (r, c) == goal:\n",
    "            return time\n",
    "\n",
    "        if (time, r, c) in visited:\n",
    "            continue\n",
    "        visited.add((time, r, c))\n",
    "\n",
    "        # Move blizzards for the next time step\n",
    "        if time % len(blizzards) == 0:\n",
    "            blizzards = move_blizzards(blizzards, walls, rows, cols)\n",
    "            blizzard_positions = set((br, bc) for br, bc, _ in blizzards)\n",
    "\n",
    "        # Possible movements (wait or move in 4 directions)\n",
    "        for dr, dc in [(0, 0), (0, 1), (1, 0), (0, -1), (-1, 0)]:\n",
    "            nr, nc = r + dr, c + dc\n",
    "            if (nr, nc) not in walls and (nr, nc) not in blizzard_positions and 0 <= nr < rows and 0 <= nc < cols:\n",
    "                queue.append((time + 1, (nr, nc)))\n",
    "\n",
    "    return -1  # No path found\n",
    "\n",
    "# Main execution\n",
    "def main(file_path):\n",
    "    grid, blizzards, walls, start, goal = parse_input(file_path)\n",
    "    result = find_shortest_path(grid, blizzards, walls, start, goal)\n",
    "    print(f\"The fewest number of minutes required to reach the goal is: {result}\")\n",
    "\n",
    "# Run the solution\n",
    "file_path = 'input.txt'\n",
    "main(file_path)"
   ]
  },
  {
   "cell_type": "code",
   "execution_count": null,
   "id": "98f8d958-be2e-41dc-b881-bc94355ef030",
   "metadata": {},
   "outputs": [],
   "source": []
  }
 ],
 "metadata": {
  "kernelspec": {
   "display_name": "Python 3 (ipykernel)",
   "language": "python",
   "name": "python3"
  },
  "language_info": {
   "codemirror_mode": {
    "name": "ipython",
    "version": 3
   },
   "file_extension": ".py",
   "mimetype": "text/x-python",
   "name": "python",
   "nbconvert_exporter": "python",
   "pygments_lexer": "ipython3",
   "version": "3.12.3"
  }
 },
 "nbformat": 4,
 "nbformat_minor": 5
}
