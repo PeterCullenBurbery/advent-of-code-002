{
 "cells": [
  {
   "cell_type": "markdown",
   "id": "943517ec",
   "metadata": {},
   "source": [
    "# Advent of Code"
   ]
  },
  {
   "cell_type": "markdown",
   "id": "1cc602fd",
   "metadata": {},
   "source": [
    "## 2022-012-017\n",
    "## 2022 017"
   ]
  },
  {
   "cell_type": "markdown",
   "id": "caf08522",
   "metadata": {},
   "source": [
    "https://adventofcode.com/2022/day/17"
   ]
  },
  {
   "cell_type": "code",
   "execution_count": null,
   "id": "00a2cfd7",
   "metadata": {},
   "outputs": [],
   "source": []
  }
 ],
 "metadata": {
  "kernelspec": {
   "display_name": "Python 3 (ipykernel)",
   "language": "python",
   "name": "python3"
  },
  "language_info": {
   "name": "python",
   "version": "3.12.3"
  }
 },
 "nbformat": 4,
 "nbformat_minor": 5
}
