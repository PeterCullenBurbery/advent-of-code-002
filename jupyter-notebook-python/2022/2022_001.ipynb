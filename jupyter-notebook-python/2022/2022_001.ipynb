{
 "cells": [
  {
   "cell_type": "markdown",
   "id": "51d15b66",
   "metadata": {},
   "source": [
    "# Advent of Code"
   ]
  },
  {
   "cell_type": "markdown",
   "id": "8687d373",
   "metadata": {},
   "source": [
    "## 2022-012-001\n",
    "## 2022 001"
   ]
  },
  {
   "cell_type": "markdown",
   "id": "6e3dd8b6",
   "metadata": {},
   "source": [
    "https://adventofcode.com/2022/day/1"
   ]
  },
  {
   "cell_type": "code",
   "execution_count": null,
   "id": "9a1217af",
   "metadata": {},
   "outputs": [],
   "source": []
  }
 ],
 "metadata": {
  "kernelspec": {
   "display_name": "Python 3 (ipykernel)",
   "language": "python",
   "name": "python3"
  },
  "language_info": {
   "name": "python",
   "version": "3.12.3"
  }
 },
 "nbformat": 4,
 "nbformat_minor": 5
}
