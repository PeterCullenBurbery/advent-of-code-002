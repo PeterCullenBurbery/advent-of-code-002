{
 "cells": [
  {
   "cell_type": "markdown",
   "id": "d685c84e",
   "metadata": {},
   "source": [
    "# Advent of Code"
   ]
  },
  {
   "cell_type": "markdown",
   "id": "124342f8",
   "metadata": {},
   "source": [
    "## 2022-012-013\n",
    "## 2022 013"
   ]
  },
  {
   "cell_type": "markdown",
   "id": "979f5845",
   "metadata": {},
   "source": [
    "https://adventofcode.com/2022/day/13"
   ]
  },
  {
   "cell_type": "code",
   "execution_count": 1,
   "id": "20590419",
   "metadata": {},
   "outputs": [
    {
     "name": "stdout",
     "output_type": "stream",
     "text": [
      "Sum of indices for correctly ordered pairs: 5808\n"
     ]
    }
   ],
   "source": [
    "import ast\n",
    "\n",
    "# Load the input data\n",
    "with open('input.txt', 'r') as f:\n",
    "    data = f.read().strip().split(\"\\n\\n\")\n",
    "\n",
    "# Parse the input into pairs of packets\n",
    "pairs = [(ast.literal_eval(pair.splitlines()[0]), ast.literal_eval(pair.splitlines()[1])) for pair in data]\n",
    "\n",
    "# Function to compare two packets\n",
    "def compare(left, right):\n",
    "    # Case 1: Both are integers\n",
    "    if isinstance(left, int) and isinstance(right, int):\n",
    "        return left - right\n",
    "    # Case 2: Both are lists\n",
    "    elif isinstance(left, list) and isinstance(right, list):\n",
    "        for l, r in zip(left, right):\n",
    "            cmp_result = compare(l, r)\n",
    "            if cmp_result != 0:\n",
    "                return cmp_result\n",
    "        return len(left) - len(right)\n",
    "    # Case 3: One is an integer, the other is a list\n",
    "    elif isinstance(left, int):\n",
    "        return compare([left], right)\n",
    "    elif isinstance(right, int):\n",
    "        return compare(left, [right])\n",
    "    return 0\n",
    "\n",
    "# Determine the sum of indices for correctly ordered pairs\n",
    "correct_indices_sum = sum(idx + 1 for idx, (left, right) in enumerate(pairs) if compare(left, right) < 0)\n",
    "\n",
    "print(\"Sum of indices for correctly ordered pairs:\", correct_indices_sum)"
   ]
  },
  {
   "cell_type": "code",
   "execution_count": 3,
   "id": "bc81d0eb-fc45-4b5b-ac9b-5352d96cce40",
   "metadata": {},
   "outputs": [
    {
     "data": {
      "text/plain": [
       "22713"
      ]
     },
     "execution_count": 3,
     "metadata": {},
     "output_type": "execute_result"
    }
   ],
   "source": [
    "# Parse the input into a list of packets, ignoring blank lines\n",
    "with open('input.txt', 'r') as f:\n",
    "    lines = [line.strip() for line in f if line.strip()]\n",
    "    packets = [ast.literal_eval(line) for line in lines]\n",
    "\n",
    "# Add the divider packets\n",
    "packets.append([[2]])\n",
    "packets.append([[6]])\n",
    "\n",
    "# Function to compare two packets (for sorting)\n",
    "def compare(left, right):\n",
    "    if isinstance(left, int) and isinstance(right, int):\n",
    "        return left - right\n",
    "    elif isinstance(left, list) and isinstance(right, list):\n",
    "        for l, r in zip(left, right):\n",
    "            cmp_result = compare(l, r)\n",
    "            if cmp_result != 0:\n",
    "                return cmp_result\n",
    "        return len(left) - len(right)\n",
    "    elif isinstance(left, int):\n",
    "        return compare([left], right)\n",
    "    elif isinstance(right, int):\n",
    "        return compare(left, [right])\n",
    "    return 0\n",
    "\n",
    "# Sort the packets using the comparison function\n",
    "from functools import cmp_to_key\n",
    "packets.sort(key=cmp_to_key(compare))\n",
    "\n",
    "# Find the indices of the divider packets\n",
    "index_2 = packets.index([[2]]) + 1\n",
    "index_6 = packets.index([[6]]) + 1\n",
    "\n",
    "# Calculate the decoder key\n",
    "decoder_key = index_2 * index_6\n",
    "decoder_key"
   ]
  },
  {
   "cell_type": "code",
   "execution_count": null,
   "id": "3c09c2b5-eaf1-449c-80f6-4c05c9149fa4",
   "metadata": {},
   "outputs": [],
   "source": []
  }
 ],
 "metadata": {
  "kernelspec": {
   "display_name": "Python 3 (ipykernel)",
   "language": "python",
   "name": "python3"
  },
  "language_info": {
   "codemirror_mode": {
    "name": "ipython",
    "version": 3
   },
   "file_extension": ".py",
   "mimetype": "text/x-python",
   "name": "python",
   "nbconvert_exporter": "python",
   "pygments_lexer": "ipython3",
   "version": "3.12.3"
  }
 },
 "nbformat": 4,
 "nbformat_minor": 5
}
