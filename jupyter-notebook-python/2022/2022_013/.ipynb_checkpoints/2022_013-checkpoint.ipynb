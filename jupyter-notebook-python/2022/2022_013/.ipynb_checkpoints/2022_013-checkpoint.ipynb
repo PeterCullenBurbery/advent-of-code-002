{
 "cells": [
  {
   "cell_type": "markdown",
   "id": "d685c84e",
   "metadata": {},
   "source": [
    "# Advent of Code"
   ]
  },
  {
   "cell_type": "markdown",
   "id": "124342f8",
   "metadata": {},
   "source": [
    "## 2022-012-013\n",
    "## 2022 013"
   ]
  },
  {
   "cell_type": "markdown",
   "id": "979f5845",
   "metadata": {},
   "source": [
    "https://adventofcode.com/2022/day/13"
   ]
  },
  {
   "cell_type": "code",
   "execution_count": null,
   "id": "20590419",
   "metadata": {},
   "outputs": [],
   "source": []
  }
 ],
 "metadata": {},
 "nbformat": 4,
 "nbformat_minor": 5
}
