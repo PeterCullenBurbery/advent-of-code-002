{
 "cells": [
  {
   "cell_type": "markdown",
   "id": "435913cb",
   "metadata": {},
   "source": [
    "# Advent of Code"
   ]
  },
  {
   "cell_type": "markdown",
   "id": "a4af6e64",
   "metadata": {},
   "source": [
    "## 2022-012-011\n",
    "## 2022 011"
   ]
  },
  {
   "cell_type": "markdown",
   "id": "26c4717e",
   "metadata": {},
   "source": [
    "https://adventofcode.com/2022/day/11"
   ]
  },
  {
   "cell_type": "code",
   "execution_count": 1,
   "id": "05b18dee",
   "metadata": {},
   "outputs": [
    {
     "data": {
      "text/plain": [
       "112815"
      ]
     },
     "execution_count": 1,
     "metadata": {},
     "output_type": "execute_result"
    }
   ],
   "source": [
    "from collections import defaultdict\n",
    "import math\n",
    "\n",
    "# Read and parse the input file\n",
    "with open('input.txt', 'r') as file:\n",
    "    lines = file.readlines()\n",
    "\n",
    "# Parse the input data to extract monkey details\n",
    "monkeys = {}\n",
    "current_monkey = None\n",
    "\n",
    "for line in lines:\n",
    "    line = line.strip()\n",
    "    if line.startswith(\"Monkey\"):\n",
    "        current_monkey = int(line.split()[1][:-1])\n",
    "        monkeys[current_monkey] = {\"items\": [], \"operation\": None, \"test\": None, \"if_true\": None, \"if_false\": None}\n",
    "    elif line.startswith(\"Starting items:\"):\n",
    "        monkeys[current_monkey][\"items\"] = list(map(int, line.split(\":\")[1].split(\", \")))\n",
    "    elif line.startswith(\"Operation:\"):\n",
    "        monkeys[current_monkey][\"operation\"] = line.split(\":\")[1].strip().split(\" = \")[1]\n",
    "    elif line.startswith(\"Test:\"):\n",
    "        monkeys[current_monkey][\"test\"] = int(line.split(\"by \")[1])\n",
    "    elif line.startswith(\"If true:\"):\n",
    "        monkeys[current_monkey][\"if_true\"] = int(line.split(\"monkey \")[1])\n",
    "    elif line.startswith(\"If false:\"):\n",
    "        monkeys[current_monkey][\"if_false\"] = int(line.split(\"monkey \")[1])\n",
    "\n",
    "# Initialize monkey inspections counter\n",
    "inspections = defaultdict(int)\n",
    "\n",
    "# Perform simulation for 20 rounds\n",
    "for _ in range(20):\n",
    "    for monkey, details in monkeys.items():\n",
    "        # Process each item for the current monkey\n",
    "        new_items = []\n",
    "        while details[\"items\"]:\n",
    "            inspections[monkey] += 1\n",
    "            old = details[\"items\"].pop(0)  # Current item worry level\n",
    "            new = eval(details[\"operation\"])  # Apply the operation\n",
    "            new //= 3  # Apply relief\n",
    "            # Decide where to throw the item\n",
    "            if new % details[\"test\"] == 0:\n",
    "                monkeys[details[\"if_true\"]][\"items\"].append(new)\n",
    "            else:\n",
    "                monkeys[details[\"if_false\"]][\"items\"].append(new)\n",
    "\n",
    "# Find the level of monkey business\n",
    "most_active = sorted(inspections.values(), reverse=True)[:2]\n",
    "level_of_monkey_business = math.prod(most_active)\n",
    "level_of_monkey_business"
   ]
  },
  {
   "cell_type": "code",
   "execution_count": 2,
   "id": "3c41cce2-2a77-4044-9d3a-92edb3b2ec8b",
   "metadata": {},
   "outputs": [
    {
     "data": {
      "text/plain": [
       "25738411485"
      ]
     },
     "execution_count": 2,
     "metadata": {},
     "output_type": "execute_result"
    }
   ],
   "source": [
    "# Reset monkeys to initial state\n",
    "monkeys = {}\n",
    "current_monkey = None\n",
    "\n",
    "for line in lines:\n",
    "    line = line.strip()\n",
    "    if line.startswith(\"Monkey\"):\n",
    "        current_monkey = int(line.split()[1][:-1])\n",
    "        monkeys[current_monkey] = {\"items\": [], \"operation\": None, \"test\": None, \"if_true\": None, \"if_false\": None}\n",
    "    elif line.startswith(\"Starting items:\"):\n",
    "        monkeys[current_monkey][\"items\"] = list(map(int, line.split(\":\")[1].split(\", \")))\n",
    "    elif line.startswith(\"Operation:\"):\n",
    "        monkeys[current_monkey][\"operation\"] = line.split(\":\")[1].strip().split(\" = \")[1]\n",
    "    elif line.startswith(\"Test:\"):\n",
    "        monkeys[current_monkey][\"test\"] = int(line.split(\"by \")[1])\n",
    "    elif line.startswith(\"If true:\"):\n",
    "        monkeys[current_monkey][\"if_true\"] = int(line.split(\"monkey \")[1])\n",
    "    elif line.startswith(\"If false:\"):\n",
    "        monkeys[current_monkey][\"if_false\"] = int(line.split(\"monkey \")[1])\n",
    "\n",
    "# Reset inspections counter\n",
    "inspections = defaultdict(int)\n",
    "\n",
    "# Calculate a manageable modulus to keep worry levels in check\n",
    "modulus = math.prod(monkey[\"test\"] for monkey in monkeys.values())\n",
    "\n",
    "# Perform simulation for 10,000 rounds without dividing worry levels by 3\n",
    "for _ in range(10000):\n",
    "    for monkey, details in monkeys.items():\n",
    "        while details[\"items\"]:\n",
    "            inspections[monkey] += 1\n",
    "            old = details[\"items\"].pop(0)  # Current item worry level\n",
    "            new = eval(details[\"operation\"])  # Apply the operation\n",
    "            new %= modulus  # Keep worry levels manageable\n",
    "            # Decide where to throw the item\n",
    "            if new % details[\"test\"] == 0:\n",
    "                monkeys[details[\"if_true\"]][\"items\"].append(new)\n",
    "            else:\n",
    "                monkeys[details[\"if_false\"]][\"items\"].append(new)\n",
    "\n",
    "# Find the level of monkey business\n",
    "most_active = sorted(inspections.values(), reverse=True)[:2]\n",
    "level_of_monkey_business = math.prod(most_active)\n",
    "level_of_monkey_business"
   ]
  },
  {
   "cell_type": "code",
   "execution_count": null,
   "id": "7ac00cc7-c9ac-4078-a1d6-4b8cc47e8919",
   "metadata": {},
   "outputs": [],
   "source": []
  }
 ],
 "metadata": {
  "kernelspec": {
   "display_name": "Python 3 (ipykernel)",
   "language": "python",
   "name": "python3"
  },
  "language_info": {
   "codemirror_mode": {
    "name": "ipython",
    "version": 3
   },
   "file_extension": ".py",
   "mimetype": "text/x-python",
   "name": "python",
   "nbconvert_exporter": "python",
   "pygments_lexer": "ipython3",
   "version": "3.12.3"
  }
 },
 "nbformat": 4,
 "nbformat_minor": 5
}
