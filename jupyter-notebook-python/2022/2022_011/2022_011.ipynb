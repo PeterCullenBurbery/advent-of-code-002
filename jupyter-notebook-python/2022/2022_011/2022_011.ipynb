{
 "cells": [
  {
   "cell_type": "markdown",
   "id": "435913cb",
   "metadata": {},
   "source": [
    "# Advent of Code"
   ]
  },
  {
   "cell_type": "markdown",
   "id": "a4af6e64",
   "metadata": {},
   "source": [
    "## 2022-012-011\n",
    "## 2022 011"
   ]
  },
  {
   "cell_type": "markdown",
   "id": "26c4717e",
   "metadata": {},
   "source": [
    "https://adventofcode.com/2022/day/11"
   ]
  },
  {
   "cell_type": "code",
   "execution_count": null,
   "id": "05b18dee",
   "metadata": {},
   "outputs": [],
   "source": []
  }
 ],
 "metadata": {},
 "nbformat": 4,
 "nbformat_minor": 5
}
