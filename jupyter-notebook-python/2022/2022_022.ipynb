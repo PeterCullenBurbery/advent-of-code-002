{
 "cells": [
  {
   "cell_type": "markdown",
   "id": "8f2f79c8",
   "metadata": {},
   "source": [
    "# Advent of Code"
   ]
  },
  {
   "cell_type": "markdown",
   "id": "16a631d8",
   "metadata": {},
   "source": [
    "## 2022-012-022\n",
    "## 2022 022"
   ]
  },
  {
   "cell_type": "markdown",
   "id": "5b96a999",
   "metadata": {},
   "source": [
    "https://adventofcode.com/2022/day/22"
   ]
  },
  {
   "cell_type": "code",
   "execution_count": null,
   "id": "46626a85",
   "metadata": {},
   "outputs": [],
   "source": []
  }
 ],
 "metadata": {
  "kernelspec": {
   "display_name": "Python 3 (ipykernel)",
   "language": "python",
   "name": "python3"
  },
  "language_info": {
   "name": "python",
   "version": "3.12.3"
  }
 },
 "nbformat": 4,
 "nbformat_minor": 5
}
