{
 "cells": [
  {
   "cell_type": "markdown",
   "id": "73022d9a",
   "metadata": {},
   "source": [
    "# Advent of Code"
   ]
  },
  {
   "cell_type": "markdown",
   "id": "3a6db942",
   "metadata": {},
   "source": [
    "## 2022-012-025\n",
    "## 2022 025"
   ]
  },
  {
   "cell_type": "markdown",
   "id": "7894502d",
   "metadata": {},
   "source": [
    "https://adventofcode.com/2022/day/25"
   ]
  },
  {
   "cell_type": "code",
   "execution_count": null,
   "id": "f0af9adc",
   "metadata": {},
   "outputs": [],
   "source": []
  }
 ],
 "metadata": {
  "kernelspec": {
   "display_name": "Python 3 (ipykernel)",
   "language": "python",
   "name": "python3"
  },
  "language_info": {
   "name": "python",
   "version": "3.12.3"
  }
 },
 "nbformat": 4,
 "nbformat_minor": 5
}
