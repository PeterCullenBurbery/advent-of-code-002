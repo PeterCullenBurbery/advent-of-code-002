{
 "cells": [
  {
   "cell_type": "markdown",
   "id": "26e3c245",
   "metadata": {},
   "source": [
    "# Advent of Code"
   ]
  },
  {
   "cell_type": "markdown",
   "id": "10cd1140",
   "metadata": {},
   "source": [
    "## 2022-012-015\n",
    "## 2022 015"
   ]
  },
  {
   "cell_type": "markdown",
   "id": "43cdb113",
   "metadata": {},
   "source": [
    "https://adventofcode.com/2022/day/15"
   ]
  },
  {
   "cell_type": "code",
   "execution_count": null,
   "id": "a3af7c55",
   "metadata": {},
   "outputs": [],
   "source": []
  }
 ],
 "metadata": {
  "kernelspec": {
   "display_name": "Python 3 (ipykernel)",
   "language": "python",
   "name": "python3"
  },
  "language_info": {
   "name": "python",
   "version": "3.12.3"
  }
 },
 "nbformat": 4,
 "nbformat_minor": 5
}
