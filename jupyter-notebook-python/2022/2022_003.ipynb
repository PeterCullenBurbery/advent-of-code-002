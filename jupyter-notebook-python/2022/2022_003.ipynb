{
 "cells": [
  {
   "cell_type": "markdown",
   "id": "7fe336db",
   "metadata": {},
   "source": [
    "# Advent of Code"
   ]
  },
  {
   "cell_type": "markdown",
   "id": "9a145972",
   "metadata": {},
   "source": [
    "## 2022-012-003\n",
    "## 2022 003"
   ]
  },
  {
   "cell_type": "markdown",
   "id": "6580c749",
   "metadata": {},
   "source": [
    "https://adventofcode.com/2022/day/3"
   ]
  },
  {
   "cell_type": "code",
   "execution_count": null,
   "id": "6168c093",
   "metadata": {},
   "outputs": [],
   "source": []
  }
 ],
 "metadata": {
  "kernelspec": {
   "display_name": "Python 3 (ipykernel)",
   "language": "python",
   "name": "python3"
  },
  "language_info": {
   "name": "python",
   "version": "3.12.3"
  }
 },
 "nbformat": 4,
 "nbformat_minor": 5
}
