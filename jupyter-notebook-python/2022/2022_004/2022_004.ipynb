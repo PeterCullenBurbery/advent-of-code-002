{
 "cells": [
  {
   "cell_type": "markdown",
   "id": "40f47567",
   "metadata": {},
   "source": [
    "# Advent of Code"
   ]
  },
  {
   "cell_type": "markdown",
   "id": "ae57e3bd",
   "metadata": {},
   "source": [
    "## 2022-012-004\n",
    "## 2022 004"
   ]
  },
  {
   "cell_type": "markdown",
   "id": "e9d6b7bb",
   "metadata": {},
   "source": [
    "https://adventofcode.com/2022/day/4"
   ]
  },
  {
   "cell_type": "code",
   "execution_count": 1,
   "id": "0260375c",
   "metadata": {},
   "outputs": [
    {
     "data": {
      "text/plain": [
       "305"
      ]
     },
     "execution_count": 1,
     "metadata": {},
     "output_type": "execute_result"
    }
   ],
   "source": [
    "# Load the input file for Camp Cleanup\n",
    "file_path = 'input.txt'\n",
    "\n",
    "# Read the input file\n",
    "with open(file_path, 'r') as file:\n",
    "    section_pairs = file.readlines()\n",
    "\n",
    "# Helper function to parse a range\n",
    "def parse_range(range_str):\n",
    "    start, end = map(int, range_str.split('-'))\n",
    "    return set(range(start, end + 1))\n",
    "\n",
    "# Count fully contained assignment pairs\n",
    "fully_contained_count = 0\n",
    "for pair in section_pairs:\n",
    "    range1, range2 = pair.strip().split(',')\n",
    "    set1, set2 = parse_range(range1), parse_range(range2)\n",
    "    if set1.issubset(set2) or set2.issubset(set1):\n",
    "        fully_contained_count += 1\n",
    "\n",
    "fully_contained_count"
   ]
  },
  {
   "cell_type": "code",
   "execution_count": 3,
   "id": "e44855b6-565e-46ba-a658-4dfdb2c2d93a",
   "metadata": {},
   "outputs": [
    {
     "data": {
      "text/plain": [
       "811"
      ]
     },
     "execution_count": 3,
     "metadata": {},
     "output_type": "execute_result"
    }
   ],
   "source": [
    "# Load and parse the input file for Camp Cleanup\n",
    "file_path = 'input.txt'\n",
    "\n",
    "# Read the input file\n",
    "with open(file_path, 'r') as file:\n",
    "    assignments = file.readlines()\n",
    "\n",
    "# Count the number of overlapping assignment pairs\n",
    "overlap_count = 0\n",
    "\n",
    "for assignment in assignments:\n",
    "    # Parse the ranges\n",
    "    elf1, elf2 = assignment.strip().split(',')\n",
    "    start1, end1 = map(int, elf1.split('-'))\n",
    "    start2, end2 = map(int, elf2.split('-'))\n",
    "    \n",
    "    # Check if ranges overlap\n",
    "    if start1 <= end2 and start2 <= end1:\n",
    "        overlap_count += 1\n",
    "\n",
    "overlap_count"
   ]
  },
  {
   "cell_type": "code",
   "execution_count": null,
   "id": "f0b88ebc-a7fe-40e2-bfb4-7dec18e61b56",
   "metadata": {},
   "outputs": [],
   "source": []
  }
 ],
 "metadata": {
  "kernelspec": {
   "display_name": "Python 3 (ipykernel)",
   "language": "python",
   "name": "python3"
  },
  "language_info": {
   "codemirror_mode": {
    "name": "ipython",
    "version": 3
   },
   "file_extension": ".py",
   "mimetype": "text/x-python",
   "name": "python",
   "nbconvert_exporter": "python",
   "pygments_lexer": "ipython3",
   "version": "3.12.3"
  }
 },
 "nbformat": 4,
 "nbformat_minor": 5
}
