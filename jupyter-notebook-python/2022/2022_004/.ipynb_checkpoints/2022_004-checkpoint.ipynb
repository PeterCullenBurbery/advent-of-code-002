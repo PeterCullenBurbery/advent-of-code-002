{
 "cells": [
  {
   "cell_type": "markdown",
   "id": "40f47567",
   "metadata": {},
   "source": [
    "# Advent of Code"
   ]
  },
  {
   "cell_type": "markdown",
   "id": "ae57e3bd",
   "metadata": {},
   "source": [
    "## 2022-012-004\n",
    "## 2022 004"
   ]
  },
  {
   "cell_type": "markdown",
   "id": "e9d6b7bb",
   "metadata": {},
   "source": [
    "https://adventofcode.com/2022/day/4"
   ]
  },
  {
   "cell_type": "code",
   "execution_count": null,
   "id": "0260375c",
   "metadata": {},
   "outputs": [],
   "source": []
  }
 ],
 "metadata": {},
 "nbformat": 4,
 "nbformat_minor": 5
}
