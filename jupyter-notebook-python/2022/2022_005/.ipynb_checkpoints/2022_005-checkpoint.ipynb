{
 "cells": [
  {
   "cell_type": "markdown",
   "id": "63475b33",
   "metadata": {},
   "source": [
    "# Advent of Code"
   ]
  },
  {
   "cell_type": "markdown",
   "id": "c380ca22",
   "metadata": {},
   "source": [
    "## 2022-012-005\n",
    "## 2022 005"
   ]
  },
  {
   "cell_type": "markdown",
   "id": "4c075f98",
   "metadata": {},
   "source": [
    "https://adventofcode.com/2022/day/5"
   ]
  },
  {
   "cell_type": "code",
   "execution_count": null,
   "id": "78e5d841",
   "metadata": {},
   "outputs": [],
   "source": []
  }
 ],
 "metadata": {},
 "nbformat": 4,
 "nbformat_minor": 5
}
