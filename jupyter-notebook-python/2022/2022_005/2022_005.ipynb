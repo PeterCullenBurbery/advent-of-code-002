{
 "cells": [
  {
   "cell_type": "markdown",
   "id": "63475b33",
   "metadata": {},
   "source": [
    "# Advent of Code"
   ]
  },
  {
   "cell_type": "markdown",
   "id": "c380ca22",
   "metadata": {},
   "source": [
    "## 2022-012-005\n",
    "## 2022 005"
   ]
  },
  {
   "cell_type": "markdown",
   "id": "4c075f98",
   "metadata": {},
   "source": [
    "https://adventofcode.com/2022/day/5"
   ]
  },
  {
   "cell_type": "code",
   "execution_count": 1,
   "id": "78e5d841",
   "metadata": {},
   "outputs": [
    {
     "data": {
      "text/plain": [
       "'RTGWZTHLD'"
      ]
     },
     "execution_count": 1,
     "metadata": {},
     "output_type": "execute_result"
    }
   ],
   "source": [
    "# Parse the input data to determine the final crate configuration\n",
    "file_path = 'input.txt'\n",
    "\n",
    "# Read the input file\n",
    "with open(file_path, 'r') as file:\n",
    "    lines = file.readlines()\n",
    "\n",
    "# Separate the initial stack configuration and the moves\n",
    "split_index = lines.index('\\n')  # Find the blank line separating stacks and moves\n",
    "stacks_raw = lines[:split_index]\n",
    "moves_raw = lines[split_index + 1:]\n",
    "\n",
    "# Parse the stack configuration\n",
    "stacks = {}\n",
    "for line in stacks_raw[:-1]:  # Skip the last line (numbers indicating stack indices)\n",
    "    for index, char in enumerate(line[1::4]):  # Crates are at positions 1, 5, 9, etc.\n",
    "        if char.isalpha():\n",
    "            stacks.setdefault(index + 1, []).insert(0, char)  # Insert at bottom of stack\n",
    "\n",
    "# Process the moves\n",
    "for move in moves_raw:\n",
    "    _, num, _, src, _, dest = move.strip().split()\n",
    "    num, src, dest = int(num), int(src), int(dest)\n",
    "    for _ in range(num):\n",
    "        crate = stacks[src].pop()\n",
    "        stacks[dest].append(crate)\n",
    "\n",
    "# Determine the top crate of each stack\n",
    "top_crates = ''.join(stacks[i][-1] for i in sorted(stacks.keys()))\n",
    "top_crates"
   ]
  },
  {
   "cell_type": "code",
   "execution_count": 2,
   "id": "320e8aaa-65eb-4bf5-9470-2c44af33fdbc",
   "metadata": {},
   "outputs": [
    {
     "data": {
      "text/plain": [
       "'STHGRZZFR'"
      ]
     },
     "execution_count": 2,
     "metadata": {},
     "output_type": "execute_result"
    }
   ],
   "source": [
    "# Re-initialize the stacks for Part Two\n",
    "stacks = {}\n",
    "for line in stacks_raw[:-1]:  # Skip the last line (numbers indicating stack indices)\n",
    "    for index, char in enumerate(line[1::4]):  # Crates are at positions 1, 5, 9, etc.\n",
    "        if char.isalpha():\n",
    "            stacks.setdefault(index + 1, []).insert(0, char)  # Insert at bottom of stack\n",
    "\n",
    "# Process the moves using CrateMover 9001 logic\n",
    "for move in moves_raw:\n",
    "    _, num, _, src, _, dest = move.strip().split()\n",
    "    num, src, dest = int(num), int(src), int(dest)\n",
    "    crates = stacks[src][-num:]  # Take the top `num` crates\n",
    "    stacks[src] = stacks[src][:-num]  # Remove the moved crates\n",
    "    stacks[dest].extend(crates)  # Add them to the destination stack, retaining order\n",
    "\n",
    "# Determine the top crate of each stack\n",
    "top_crates_9001 = ''.join(stacks[i][-1] for i in sorted(stacks.keys()))\n",
    "top_crates_9001"
   ]
  },
  {
   "cell_type": "code",
   "execution_count": null,
   "id": "8a354cc6-29bd-40f6-a391-04b9e40f00b7",
   "metadata": {},
   "outputs": [],
   "source": []
  }
 ],
 "metadata": {
  "kernelspec": {
   "display_name": "Python 3 (ipykernel)",
   "language": "python",
   "name": "python3"
  },
  "language_info": {
   "codemirror_mode": {
    "name": "ipython",
    "version": 3
   },
   "file_extension": ".py",
   "mimetype": "text/x-python",
   "name": "python",
   "nbconvert_exporter": "python",
   "pygments_lexer": "ipython3",
   "version": "3.12.3"
  }
 },
 "nbformat": 4,
 "nbformat_minor": 5
}
