{
 "cells": [
  {
   "cell_type": "markdown",
   "id": "9e867a13",
   "metadata": {},
   "source": [
    "# Advent of Code"
   ]
  },
  {
   "cell_type": "markdown",
   "id": "7fcf7da1",
   "metadata": {},
   "source": [
    "## 2022-012-010\n",
    "## 2022 010"
   ]
  },
  {
   "cell_type": "markdown",
   "id": "03cf29c3",
   "metadata": {},
   "source": [
    "https://adventofcode.com/2022/day/10"
   ]
  },
  {
   "cell_type": "code",
   "execution_count": null,
   "id": "77eb078c",
   "metadata": {},
   "outputs": [],
   "source": []
  }
 ],
 "metadata": {
  "kernelspec": {
   "display_name": "Python 3 (ipykernel)",
   "language": "python",
   "name": "python3"
  },
  "language_info": {
   "name": "python",
   "version": "3.12.3"
  }
 },
 "nbformat": 4,
 "nbformat_minor": 5
}
