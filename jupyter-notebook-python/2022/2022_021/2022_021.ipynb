{
 "cells": [
  {
   "cell_type": "markdown",
   "id": "3ebf6f1c",
   "metadata": {},
   "source": [
    "# Advent of Code"
   ]
  },
  {
   "cell_type": "markdown",
   "id": "f09fbc69",
   "metadata": {},
   "source": [
    "## 2022-012-021\n",
    "## 2022 021"
   ]
  },
  {
   "cell_type": "markdown",
   "id": "4ea20c5f",
   "metadata": {},
   "source": [
    "https://adventofcode.com/2022/day/21"
   ]
  },
  {
   "cell_type": "code",
   "execution_count": null,
   "id": "3665ea9a",
   "metadata": {},
   "outputs": [],
   "source": []
  }
 ],
 "metadata": {},
 "nbformat": 4,
 "nbformat_minor": 5
}
