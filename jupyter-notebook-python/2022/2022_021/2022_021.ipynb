{
 "cells": [
  {
   "cell_type": "markdown",
   "id": "3ebf6f1c",
   "metadata": {},
   "source": [
    "# Advent of Code"
   ]
  },
  {
   "cell_type": "markdown",
   "id": "f09fbc69",
   "metadata": {},
   "source": [
    "## 2022-012-021\n",
    "## 2022 021"
   ]
  },
  {
   "cell_type": "markdown",
   "id": "4ea20c5f",
   "metadata": {},
   "source": [
    "https://adventofcode.com/2022/day/21"
   ]
  },
  {
   "cell_type": "code",
   "execution_count": 1,
   "id": "3665ea9a",
   "metadata": {},
   "outputs": [
    {
     "name": "stdout",
     "output_type": "stream",
     "text": [
      "The value yelled by the root monkey is: 158731561459602\n"
     ]
    }
   ],
   "source": [
    "def parse_input(file_path):\n",
    "    operations = {}\n",
    "    with open(file_path, 'r') as f:\n",
    "        for line in f:\n",
    "            name, job = line.strip().split(': ')\n",
    "            if job.isdigit():\n",
    "                operations[name] = int(job)\n",
    "            else:\n",
    "                operations[name] = job.split()\n",
    "    return operations\n",
    "\n",
    "def evaluate(monkey, operations, cache):\n",
    "    if monkey in cache:\n",
    "        return cache[monkey]\n",
    "    \n",
    "    job = operations[monkey]\n",
    "    if isinstance(job, int):  # Base case: monkey yells a number\n",
    "        cache[monkey] = job\n",
    "        return job\n",
    "    \n",
    "    # Recursive case: monkey performs an operation\n",
    "    left, op, right = job\n",
    "    left_val = evaluate(left, operations, cache)\n",
    "    right_val = evaluate(right, operations, cache)\n",
    "    \n",
    "    if op == '+':\n",
    "        result = left_val + right_val\n",
    "    elif op == '-':\n",
    "        result = left_val - right_val\n",
    "    elif op == '*':\n",
    "        result = left_val * right_val\n",
    "    elif op == '/':\n",
    "        result = left_val // right_val  # Integer division\n",
    "\n",
    "    cache[monkey] = result\n",
    "    return result\n",
    "\n",
    "def main(file_path):\n",
    "    operations = parse_input(file_path)\n",
    "    cache = {}\n",
    "    root_value = evaluate('root', operations, cache)\n",
    "    print(f\"The value yelled by the root monkey is: {root_value}\")\n",
    "\n",
    "# Execute the solution\n",
    "file_path = 'input.txt'\n",
    "main(file_path)"
   ]
  },
  {
   "cell_type": "code",
   "execution_count": 2,
   "id": "c9946938-f5cb-4d30-ba0f-d0cbe4d28093",
   "metadata": {},
   "outputs": [
    {
     "name": "stdout",
     "output_type": "stream",
     "text": [
      "The value you need to yell to satisfy the root equality is: -1000000000000000\n"
     ]
    }
   ],
   "source": [
    "def parse_input(file_path):\n",
    "    operations = {}\n",
    "    with open(file_path, 'r') as f:\n",
    "        for line in f:\n",
    "            name, job = line.strip().split(': ')\n",
    "            if job.isdigit():\n",
    "                operations[name] = int(job)\n",
    "            else:\n",
    "                operations[name] = job.split()\n",
    "    return operations\n",
    "\n",
    "def evaluate(monkey, operations, cache, override_humn=None):\n",
    "    if monkey == 'humn' and override_humn is not None:\n",
    "        return override_humn\n",
    "\n",
    "    if monkey in cache:\n",
    "        return cache[monkey]\n",
    "\n",
    "    job = operations[monkey]\n",
    "    if isinstance(job, int):  # Base case: monkey yells a number\n",
    "        cache[monkey] = job\n",
    "        return job\n",
    "\n",
    "    # Recursive case: monkey performs an operation\n",
    "    left, op, right = job\n",
    "    left_val = evaluate(left, operations, cache, override_humn)\n",
    "    right_val = evaluate(right, operations, cache, override_humn)\n",
    "\n",
    "    if op == '+':\n",
    "        result = left_val + right_val\n",
    "    elif op == '-':\n",
    "        result = left_val - right_val\n",
    "    elif op == '*':\n",
    "        result = left_val * right_val\n",
    "    elif op == '/':\n",
    "        result = left_val // right_val  # Integer division\n",
    "\n",
    "    cache[monkey] = result\n",
    "    return result\n",
    "\n",
    "def find_humn_value(operations):\n",
    "    # Separate the two sides of the root equality\n",
    "    left_monkey, _, right_monkey = operations['root']\n",
    "    cache = {}\n",
    "\n",
    "    # Evaluate both sides without any override to find the initial values\n",
    "    left_val = evaluate(left_monkey, operations, cache)\n",
    "    right_val = evaluate(right_monkey, operations, cache)\n",
    "\n",
    "    # Adjust `humn` such that the two sides are equal\n",
    "    # Use binary search since the relationship is likely monotonic\n",
    "    low, high = -10**15, 10**15\n",
    "    while low < high:\n",
    "        mid = (low + high) // 2\n",
    "        cache = {}  # Clear the cache for each iteration\n",
    "        left_val = evaluate(left_monkey, operations, cache, override_humn=mid)\n",
    "        right_val = evaluate(right_monkey, operations, cache)\n",
    "\n",
    "        if left_val == right_val:\n",
    "            return mid\n",
    "        elif left_val < right_val:\n",
    "            low = mid + 1\n",
    "        else:\n",
    "            high = mid - 1\n",
    "\n",
    "    return low\n",
    "\n",
    "def main(file_path):\n",
    "    operations = parse_input(file_path)\n",
    "    \n",
    "    # Part 2: Find the value of humn that makes the root equality true\n",
    "    humn_value = find_humn_value(operations)\n",
    "    print(f\"The value you need to yell to satisfy the root equality is: {humn_value}\")\n",
    "\n",
    "# Execute the solution\n",
    "file_path = 'input.txt'\n",
    "main(file_path)"
   ]
  },
  {
   "cell_type": "code",
   "execution_count": null,
   "id": "4b24d721-e47a-42b8-9741-78e8407ba7d8",
   "metadata": {},
   "outputs": [],
   "source": []
  }
 ],
 "metadata": {
  "kernelspec": {
   "display_name": "Python 3 (ipykernel)",
   "language": "python",
   "name": "python3"
  },
  "language_info": {
   "codemirror_mode": {
    "name": "ipython",
    "version": 3
   },
   "file_extension": ".py",
   "mimetype": "text/x-python",
   "name": "python",
   "nbconvert_exporter": "python",
   "pygments_lexer": "ipython3",
   "version": "3.12.3"
  }
 },
 "nbformat": 4,
 "nbformat_minor": 5
}
