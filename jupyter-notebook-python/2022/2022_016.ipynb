{
 "cells": [
  {
   "cell_type": "markdown",
   "id": "19450384",
   "metadata": {},
   "source": [
    "# Advent of Code"
   ]
  },
  {
   "cell_type": "markdown",
   "id": "f17f8038",
   "metadata": {},
   "source": [
    "## 2022-012-016\n",
    "## 2022 016"
   ]
  },
  {
   "cell_type": "markdown",
   "id": "6b276779",
   "metadata": {},
   "source": [
    "https://adventofcode.com/2022/day/16"
   ]
  },
  {
   "cell_type": "code",
   "execution_count": null,
   "id": "d707a0d1",
   "metadata": {},
   "outputs": [],
   "source": []
  }
 ],
 "metadata": {
  "kernelspec": {
   "display_name": "Python 3 (ipykernel)",
   "language": "python",
   "name": "python3"
  },
  "language_info": {
   "name": "python",
   "version": "3.12.3"
  }
 },
 "nbformat": 4,
 "nbformat_minor": 5
}
