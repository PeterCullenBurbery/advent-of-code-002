{
 "cells": [
  {
   "cell_type": "markdown",
   "id": "b43f515c",
   "metadata": {},
   "source": [
    "# Advent of Code"
   ]
  },
  {
   "cell_type": "markdown",
   "id": "bf48febd",
   "metadata": {},
   "source": [
    "## 2022-012-014\n",
    "## 2022 014"
   ]
  },
  {
   "cell_type": "markdown",
   "id": "95970a24",
   "metadata": {},
   "source": [
    "https://adventofcode.com/2022/day/14"
   ]
  },
  {
   "cell_type": "code",
   "execution_count": null,
   "id": "3bb8b9c9",
   "metadata": {},
   "outputs": [],
   "source": []
  }
 ],
 "metadata": {},
 "nbformat": 4,
 "nbformat_minor": 5
}
