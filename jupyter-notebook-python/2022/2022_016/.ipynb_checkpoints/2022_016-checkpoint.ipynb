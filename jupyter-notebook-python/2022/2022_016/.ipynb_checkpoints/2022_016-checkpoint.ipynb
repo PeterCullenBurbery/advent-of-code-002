{
 "cells": [
  {
   "cell_type": "markdown",
   "id": "cf08bcea",
   "metadata": {},
   "source": [
    "# Advent of Code"
   ]
  },
  {
   "cell_type": "markdown",
   "id": "c7fc699f",
   "metadata": {},
   "source": [
    "## 2022-012-016\n",
    "## 2022 016"
   ]
  },
  {
   "cell_type": "markdown",
   "id": "0d538a0b",
   "metadata": {},
   "source": [
    "https://adventofcode.com/2022/day/16"
   ]
  },
  {
   "cell_type": "code",
   "execution_count": null,
   "id": "a5a8f952",
   "metadata": {},
   "outputs": [],
   "source": []
  }
 ],
 "metadata": {},
 "nbformat": 4,
 "nbformat_minor": 5
}
