{
 "cells": [
  {
   "cell_type": "markdown",
   "id": "17d653c8",
   "metadata": {},
   "source": [
    "# Advent of Code"
   ]
  },
  {
   "cell_type": "markdown",
   "id": "2132f462",
   "metadata": {},
   "source": [
    "## 2022-012-002\n",
    "## 2022 002"
   ]
  },
  {
   "cell_type": "markdown",
   "id": "8b9b3972",
   "metadata": {},
   "source": [
    "https://adventofcode.com/2022/day/2"
   ]
  },
  {
   "cell_type": "code",
   "execution_count": null,
   "id": "ec97dc69",
   "metadata": {},
   "outputs": [],
   "source": []
  }
 ],
 "metadata": {
  "kernelspec": {
   "display_name": "Python 3 (ipykernel)",
   "language": "python",
   "name": "python3"
  },
  "language_info": {
   "name": "python",
   "version": "3.12.3"
  }
 },
 "nbformat": 4,
 "nbformat_minor": 5
}
