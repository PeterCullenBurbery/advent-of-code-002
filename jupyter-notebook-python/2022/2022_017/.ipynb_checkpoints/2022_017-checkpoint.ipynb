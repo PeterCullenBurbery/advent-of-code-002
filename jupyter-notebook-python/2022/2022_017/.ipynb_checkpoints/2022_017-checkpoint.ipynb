{
 "cells": [
  {
   "cell_type": "markdown",
   "id": "4ec51fd0",
   "metadata": {},
   "source": [
    "# Advent of Code"
   ]
  },
  {
   "cell_type": "markdown",
   "id": "dc4049e7",
   "metadata": {},
   "source": [
    "## 2022-012-017\n",
    "## 2022 017"
   ]
  },
  {
   "cell_type": "markdown",
   "id": "b428bb00",
   "metadata": {},
   "source": [
    "https://adventofcode.com/2022/day/17"
   ]
  },
  {
   "cell_type": "code",
   "execution_count": null,
   "id": "a582cfee",
   "metadata": {},
   "outputs": [],
   "source": []
  }
 ],
 "metadata": {},
 "nbformat": 4,
 "nbformat_minor": 5
}
