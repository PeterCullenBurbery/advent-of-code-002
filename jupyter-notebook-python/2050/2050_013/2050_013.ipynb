{
 "cells": [
  {
   "cell_type": "markdown",
   "id": "9f8ad6b3",
   "metadata": {},
   "source": [
    "# Advent of Code"
   ]
  },
  {
   "cell_type": "markdown",
   "id": "564cfdcf",
   "metadata": {},
   "source": [
    "## 2050-012-013\n",
    "## 2050 013"
   ]
  },
  {
   "cell_type": "markdown",
   "id": "3278b76c",
   "metadata": {},
   "source": [
    "https://adventofcode.com/2050/day/13"
   ]
  },
  {
   "cell_type": "code",
   "execution_count": null,
   "id": "deb6b6e8",
   "metadata": {},
   "outputs": [],
   "source": []
  }
 ],
 "metadata": {},
 "nbformat": 4,
 "nbformat_minor": 5
}
