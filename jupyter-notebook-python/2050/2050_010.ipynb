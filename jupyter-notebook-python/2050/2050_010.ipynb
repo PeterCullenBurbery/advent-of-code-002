{
 "cells": [
  {
   "cell_type": "markdown",
   "id": "bc269f50",
   "metadata": {},
   "source": [
    "# Advent of Code"
   ]
  },
  {
   "cell_type": "markdown",
   "id": "6a7b7a43",
   "metadata": {},
   "source": [
    "## 2050-012-010\n",
    "## 2050 010"
   ]
  },
  {
   "cell_type": "markdown",
   "id": "c00e8e7a",
   "metadata": {},
   "source": [
    "https://adventofcode.com/2050/day/10"
   ]
  },
  {
   "cell_type": "code",
   "execution_count": null,
   "id": "f79b2fe9",
   "metadata": {},
   "outputs": [],
   "source": []
  }
 ],
 "metadata": {
  "kernelspec": {
   "display_name": "Python 3 (ipykernel)",
   "language": "python",
   "name": "python3"
  },
  "language_info": {
   "name": "python",
   "version": "3.12.3"
  }
 },
 "nbformat": 4,
 "nbformat_minor": 5
}
