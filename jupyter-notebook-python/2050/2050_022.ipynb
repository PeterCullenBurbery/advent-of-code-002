{
 "cells": [
  {
   "cell_type": "markdown",
   "id": "39041901",
   "metadata": {},
   "source": [
    "# Advent of Code"
   ]
  },
  {
   "cell_type": "markdown",
   "id": "67481fcf",
   "metadata": {},
   "source": [
    "## 2050-012-022\n",
    "## 2050 022"
   ]
  },
  {
   "cell_type": "markdown",
   "id": "5d15fcb3",
   "metadata": {},
   "source": [
    "https://adventofcode.com/2050/day/22"
   ]
  },
  {
   "cell_type": "code",
   "execution_count": null,
   "id": "a8720608",
   "metadata": {},
   "outputs": [],
   "source": []
  }
 ],
 "metadata": {
  "kernelspec": {
   "display_name": "Python 3 (ipykernel)",
   "language": "python",
   "name": "python3"
  },
  "language_info": {
   "name": "python",
   "version": "3.12.3"
  }
 },
 "nbformat": 4,
 "nbformat_minor": 5
}
