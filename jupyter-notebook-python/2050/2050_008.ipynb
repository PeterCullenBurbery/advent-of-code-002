{
 "cells": [
  {
   "cell_type": "markdown",
   "id": "ee713259",
   "metadata": {},
   "source": [
    "# Advent of Code"
   ]
  },
  {
   "cell_type": "markdown",
   "id": "af09a2eb",
   "metadata": {},
   "source": [
    "## 2050-012-008\n",
    "## 2050 008"
   ]
  },
  {
   "cell_type": "markdown",
   "id": "2d33bbf9",
   "metadata": {},
   "source": [
    "https://adventofcode.com/2050/day/8"
   ]
  },
  {
   "cell_type": "code",
   "execution_count": null,
   "id": "9f05f00e",
   "metadata": {},
   "outputs": [],
   "source": []
  }
 ],
 "metadata": {
  "kernelspec": {
   "display_name": "Python 3 (ipykernel)",
   "language": "python",
   "name": "python3"
  },
  "language_info": {
   "name": "python",
   "version": "3.12.3"
  }
 },
 "nbformat": 4,
 "nbformat_minor": 5
}
