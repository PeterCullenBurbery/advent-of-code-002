{
 "cells": [
  {
   "cell_type": "markdown",
   "id": "0cfde714",
   "metadata": {},
   "source": [
    "# Advent of Code"
   ]
  },
  {
   "cell_type": "markdown",
   "id": "55a980d8",
   "metadata": {},
   "source": [
    "## 2050-012-010\n",
    "## 2050 010"
   ]
  },
  {
   "cell_type": "markdown",
   "id": "0d2f502c",
   "metadata": {},
   "source": [
    "https://adventofcode.com/2050/day/10"
   ]
  },
  {
   "cell_type": "code",
   "execution_count": null,
   "id": "19b0d8ae",
   "metadata": {},
   "outputs": [],
   "source": []
  }
 ],
 "metadata": {},
 "nbformat": 4,
 "nbformat_minor": 5
}
