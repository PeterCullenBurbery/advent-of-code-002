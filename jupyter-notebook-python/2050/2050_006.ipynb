{
 "cells": [
  {
   "cell_type": "markdown",
   "id": "952bb1e3",
   "metadata": {},
   "source": [
    "# Advent of Code"
   ]
  },
  {
   "cell_type": "markdown",
   "id": "f4b6e6ea",
   "metadata": {},
   "source": [
    "## 2050-012-006\n",
    "## 2050 006"
   ]
  },
  {
   "cell_type": "markdown",
   "id": "b761fec1",
   "metadata": {},
   "source": [
    "https://adventofcode.com/2050/day/6"
   ]
  },
  {
   "cell_type": "code",
   "execution_count": null,
   "id": "93ee0703",
   "metadata": {},
   "outputs": [],
   "source": []
  }
 ],
 "metadata": {
  "kernelspec": {
   "display_name": "Python 3 (ipykernel)",
   "language": "python",
   "name": "python3"
  },
  "language_info": {
   "name": "python",
   "version": "3.12.3"
  }
 },
 "nbformat": 4,
 "nbformat_minor": 5
}
