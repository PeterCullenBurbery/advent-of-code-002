{
 "cells": [
  {
   "cell_type": "markdown",
   "id": "84823a4c",
   "metadata": {},
   "source": [
    "# Advent of Code"
   ]
  },
  {
   "cell_type": "markdown",
   "id": "501b917f",
   "metadata": {},
   "source": [
    "## 2050-012-011\n",
    "## 2050 011"
   ]
  },
  {
   "cell_type": "markdown",
   "id": "e7fb4d3a",
   "metadata": {},
   "source": [
    "https://adventofcode.com/2050/day/11"
   ]
  },
  {
   "cell_type": "code",
   "execution_count": null,
   "id": "e5678aa8",
   "metadata": {},
   "outputs": [],
   "source": []
  }
 ],
 "metadata": {
  "kernelspec": {
   "display_name": "Python 3 (ipykernel)",
   "language": "python",
   "name": "python3"
  },
  "language_info": {
   "name": "python",
   "version": "3.12.3"
  }
 },
 "nbformat": 4,
 "nbformat_minor": 5
}
