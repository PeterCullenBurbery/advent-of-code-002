{
 "cells": [
  {
   "cell_type": "markdown",
   "id": "7a86445e",
   "metadata": {},
   "source": [
    "# Advent of Code"
   ]
  },
  {
   "cell_type": "markdown",
   "id": "c131f78d",
   "metadata": {},
   "source": [
    "## 2050-012-006\n",
    "## 2050 006"
   ]
  },
  {
   "cell_type": "markdown",
   "id": "136caad8",
   "metadata": {},
   "source": [
    "https://adventofcode.com/2050/day/6"
   ]
  },
  {
   "cell_type": "code",
   "execution_count": null,
   "id": "70c52edb",
   "metadata": {},
   "outputs": [],
   "source": []
  }
 ],
 "metadata": {},
 "nbformat": 4,
 "nbformat_minor": 5
}
