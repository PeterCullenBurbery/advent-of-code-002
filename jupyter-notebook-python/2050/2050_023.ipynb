{
 "cells": [
  {
   "cell_type": "markdown",
   "id": "c4aa7fda",
   "metadata": {},
   "source": [
    "# Advent of Code"
   ]
  },
  {
   "cell_type": "markdown",
   "id": "8d4b266b",
   "metadata": {},
   "source": [
    "## 2050-012-023\n",
    "## 2050 023"
   ]
  },
  {
   "cell_type": "markdown",
   "id": "09b95acb",
   "metadata": {},
   "source": [
    "https://adventofcode.com/2050/day/23"
   ]
  },
  {
   "cell_type": "code",
   "execution_count": null,
   "id": "1a5b4672",
   "metadata": {},
   "outputs": [],
   "source": []
  }
 ],
 "metadata": {
  "kernelspec": {
   "display_name": "Python 3 (ipykernel)",
   "language": "python",
   "name": "python3"
  },
  "language_info": {
   "name": "python",
   "version": "3.12.3"
  }
 },
 "nbformat": 4,
 "nbformat_minor": 5
}
