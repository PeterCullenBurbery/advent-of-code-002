{
 "cells": [
  {
   "cell_type": "markdown",
   "id": "51b9695d",
   "metadata": {},
   "source": [
    "# Advent of Code"
   ]
  },
  {
   "cell_type": "markdown",
   "id": "2e442fd2",
   "metadata": {},
   "source": [
    "## 2050-012-004\n",
    "## 2050 004"
   ]
  },
  {
   "cell_type": "markdown",
   "id": "6d73a9f3",
   "metadata": {},
   "source": [
    "https://adventofcode.com/2050/day/4"
   ]
  },
  {
   "cell_type": "code",
   "execution_count": null,
   "id": "09d02ce8",
   "metadata": {},
   "outputs": [],
   "source": []
  }
 ],
 "metadata": {
  "kernelspec": {
   "display_name": "Python 3 (ipykernel)",
   "language": "python",
   "name": "python3"
  },
  "language_info": {
   "name": "python",
   "version": "3.12.3"
  }
 },
 "nbformat": 4,
 "nbformat_minor": 5
}
