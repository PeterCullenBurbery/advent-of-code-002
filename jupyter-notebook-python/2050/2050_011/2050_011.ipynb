{
 "cells": [
  {
   "cell_type": "markdown",
   "id": "c3f225cb",
   "metadata": {},
   "source": [
    "# Advent of Code"
   ]
  },
  {
   "cell_type": "markdown",
   "id": "496b23e2",
   "metadata": {},
   "source": [
    "## 2050-012-011\n",
    "## 2050 011"
   ]
  },
  {
   "cell_type": "markdown",
   "id": "bb0eb176",
   "metadata": {},
   "source": [
    "https://adventofcode.com/2050/day/11"
   ]
  },
  {
   "cell_type": "code",
   "execution_count": null,
   "id": "a39c5bbf",
   "metadata": {},
   "outputs": [],
   "source": []
  }
 ],
 "metadata": {},
 "nbformat": 4,
 "nbformat_minor": 5
}
