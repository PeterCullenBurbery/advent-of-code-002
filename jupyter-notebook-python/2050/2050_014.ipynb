{
 "cells": [
  {
   "cell_type": "markdown",
   "id": "c3244e7e",
   "metadata": {},
   "source": [
    "# Advent of Code"
   ]
  },
  {
   "cell_type": "markdown",
   "id": "2d57b322",
   "metadata": {},
   "source": [
    "## 2050-012-014\n",
    "## 2050 014"
   ]
  },
  {
   "cell_type": "markdown",
   "id": "ba2f1187",
   "metadata": {},
   "source": [
    "https://adventofcode.com/2050/day/14"
   ]
  },
  {
   "cell_type": "code",
   "execution_count": null,
   "id": "a449d769",
   "metadata": {},
   "outputs": [],
   "source": []
  }
 ],
 "metadata": {
  "kernelspec": {
   "display_name": "Python 3 (ipykernel)",
   "language": "python",
   "name": "python3"
  },
  "language_info": {
   "name": "python",
   "version": "3.12.3"
  }
 },
 "nbformat": 4,
 "nbformat_minor": 5
}
