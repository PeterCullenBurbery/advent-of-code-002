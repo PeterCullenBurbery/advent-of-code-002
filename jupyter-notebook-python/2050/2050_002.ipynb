{
 "cells": [
  {
   "cell_type": "markdown",
   "id": "e64d3c5b",
   "metadata": {},
   "source": [
    "# Advent of Code"
   ]
  },
  {
   "cell_type": "markdown",
   "id": "6ec7235c",
   "metadata": {},
   "source": [
    "## 2050-012-002\n",
    "## 2050 002"
   ]
  },
  {
   "cell_type": "markdown",
   "id": "32b6b2ba",
   "metadata": {},
   "source": [
    "https://adventofcode.com/2050/day/2"
   ]
  },
  {
   "cell_type": "code",
   "execution_count": null,
   "id": "5d43af56",
   "metadata": {},
   "outputs": [],
   "source": []
  }
 ],
 "metadata": {
  "kernelspec": {
   "display_name": "Python 3 (ipykernel)",
   "language": "python",
   "name": "python3"
  },
  "language_info": {
   "name": "python",
   "version": "3.12.3"
  }
 },
 "nbformat": 4,
 "nbformat_minor": 5
}
