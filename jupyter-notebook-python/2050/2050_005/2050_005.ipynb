{
 "cells": [
  {
   "cell_type": "markdown",
   "id": "5806e003",
   "metadata": {},
   "source": [
    "# Advent of Code"
   ]
  },
  {
   "cell_type": "markdown",
   "id": "dc67b617",
   "metadata": {},
   "source": [
    "## 2050-012-005\n",
    "## 2050 005"
   ]
  },
  {
   "cell_type": "markdown",
   "id": "c481d7dd",
   "metadata": {},
   "source": [
    "https://adventofcode.com/2050/day/5"
   ]
  },
  {
   "cell_type": "code",
   "execution_count": null,
   "id": "8365e647",
   "metadata": {},
   "outputs": [],
   "source": []
  }
 ],
 "metadata": {},
 "nbformat": 4,
 "nbformat_minor": 5
}
