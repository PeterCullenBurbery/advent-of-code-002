{
 "cells": [
  {
   "cell_type": "markdown",
   "id": "1fbb28a1",
   "metadata": {},
   "source": [
    "# Advent of Code"
   ]
  },
  {
   "cell_type": "markdown",
   "id": "09ddc220",
   "metadata": {},
   "source": [
    "## 2050-012-025\n",
    "## 2050 025"
   ]
  },
  {
   "cell_type": "markdown",
   "id": "96acae23",
   "metadata": {},
   "source": [
    "https://adventofcode.com/2050/day/25"
   ]
  },
  {
   "cell_type": "code",
   "execution_count": null,
   "id": "9ef0baff",
   "metadata": {},
   "outputs": [],
   "source": []
  }
 ],
 "metadata": {},
 "nbformat": 4,
 "nbformat_minor": 5
}
