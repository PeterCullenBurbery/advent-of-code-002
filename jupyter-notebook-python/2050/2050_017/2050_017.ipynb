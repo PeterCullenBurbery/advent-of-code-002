{
 "cells": [
  {
   "cell_type": "markdown",
   "id": "6a8e4e3a",
   "metadata": {},
   "source": [
    "# Advent of Code"
   ]
  },
  {
   "cell_type": "markdown",
   "id": "1dda4d59",
   "metadata": {},
   "source": [
    "## 2050-012-017\n",
    "## 2050 017"
   ]
  },
  {
   "cell_type": "markdown",
   "id": "408628db",
   "metadata": {},
   "source": [
    "https://adventofcode.com/2050/day/17"
   ]
  },
  {
   "cell_type": "code",
   "execution_count": null,
   "id": "db8f8f32",
   "metadata": {},
   "outputs": [],
   "source": []
  }
 ],
 "metadata": {},
 "nbformat": 4,
 "nbformat_minor": 5
}
