{
 "cells": [
  {
   "cell_type": "markdown",
   "id": "4eca1bb8",
   "metadata": {},
   "source": [
    "# Advent of Code"
   ]
  },
  {
   "cell_type": "markdown",
   "id": "9757bbd6",
   "metadata": {},
   "source": [
    "## 2050-012-020\n",
    "## 2050 020"
   ]
  },
  {
   "cell_type": "markdown",
   "id": "0746bf66",
   "metadata": {},
   "source": [
    "https://adventofcode.com/2050/day/20"
   ]
  },
  {
   "cell_type": "code",
   "execution_count": null,
   "id": "eb6c87cc",
   "metadata": {},
   "outputs": [],
   "source": []
  }
 ],
 "metadata": {},
 "nbformat": 4,
 "nbformat_minor": 5
}
