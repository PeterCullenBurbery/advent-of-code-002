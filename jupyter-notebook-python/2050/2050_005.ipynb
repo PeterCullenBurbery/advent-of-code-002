{
 "cells": [
  {
   "cell_type": "markdown",
   "id": "27ac4d99",
   "metadata": {},
   "source": [
    "# Advent of Code"
   ]
  },
  {
   "cell_type": "markdown",
   "id": "2f14b071",
   "metadata": {},
   "source": [
    "## 2050-012-005\n",
    "## 2050 005"
   ]
  },
  {
   "cell_type": "markdown",
   "id": "360fad5c",
   "metadata": {},
   "source": [
    "https://adventofcode.com/2050/day/5"
   ]
  },
  {
   "cell_type": "code",
   "execution_count": null,
   "id": "43f110b1",
   "metadata": {},
   "outputs": [],
   "source": []
  }
 ],
 "metadata": {
  "kernelspec": {
   "display_name": "Python 3 (ipykernel)",
   "language": "python",
   "name": "python3"
  },
  "language_info": {
   "name": "python",
   "version": "3.12.3"
  }
 },
 "nbformat": 4,
 "nbformat_minor": 5
}
