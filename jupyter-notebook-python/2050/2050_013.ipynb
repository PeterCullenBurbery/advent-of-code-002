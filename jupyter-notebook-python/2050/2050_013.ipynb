{
 "cells": [
  {
   "cell_type": "markdown",
   "id": "acaefdd6",
   "metadata": {},
   "source": [
    "# Advent of Code"
   ]
  },
  {
   "cell_type": "markdown",
   "id": "f6ba6dcb",
   "metadata": {},
   "source": [
    "## 2050-012-013\n",
    "## 2050 013"
   ]
  },
  {
   "cell_type": "markdown",
   "id": "1f4cf5a2",
   "metadata": {},
   "source": [
    "https://adventofcode.com/2050/day/13"
   ]
  },
  {
   "cell_type": "code",
   "execution_count": null,
   "id": "74986bfe",
   "metadata": {},
   "outputs": [],
   "source": []
  }
 ],
 "metadata": {
  "kernelspec": {
   "display_name": "Python 3 (ipykernel)",
   "language": "python",
   "name": "python3"
  },
  "language_info": {
   "name": "python",
   "version": "3.12.3"
  }
 },
 "nbformat": 4,
 "nbformat_minor": 5
}
