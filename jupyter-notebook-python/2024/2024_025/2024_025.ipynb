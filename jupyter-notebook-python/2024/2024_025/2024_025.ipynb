{
 "cells": [
  {
   "cell_type": "markdown",
   "id": "3f01cda8",
   "metadata": {},
   "source": [
    "# Advent of Code"
   ]
  },
  {
   "cell_type": "markdown",
   "id": "6ea4f975",
   "metadata": {},
   "source": [
    "## 2024-012-025\n",
    "## 2024 025"
   ]
  },
  {
   "cell_type": "markdown",
   "id": "7f879535",
   "metadata": {},
   "source": [
    "https://adventofcode.com/2024/day/25"
   ]
  },
  {
   "cell_type": "code",
   "execution_count": null,
   "id": "25868590",
   "metadata": {},
   "outputs": [],
   "source": []
  }
 ],
 "metadata": {},
 "nbformat": 4,
 "nbformat_minor": 5
}
