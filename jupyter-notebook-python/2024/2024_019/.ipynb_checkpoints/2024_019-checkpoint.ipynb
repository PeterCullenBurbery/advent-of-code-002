{
 "cells": [
  {
   "cell_type": "markdown",
   "id": "4e12cd71",
   "metadata": {},
   "source": [
    "# Advent of Code"
   ]
  },
  {
   "cell_type": "markdown",
   "id": "ba79c1b3",
   "metadata": {},
   "source": [
    "## 2024-012-019\n",
    "## 2024 019"
   ]
  },
  {
   "cell_type": "markdown",
   "id": "9ef04d65",
   "metadata": {},
   "source": [
    "https://adventofcode.com/2024/day/19"
   ]
  },
  {
   "cell_type": "code",
   "execution_count": 1,
   "id": "9a0e381c",
   "metadata": {},
   "outputs": [
    {
     "data": {
      "text/plain": [
       "265"
      ]
     },
     "execution_count": 1,
     "metadata": {},
     "output_type": "execute_result"
    }
   ],
   "source": [
    "def parse_input(file_path):\n",
    "    with open(file_path, 'r') as file:\n",
    "        content = file.read().strip().split('\\n\\n')\n",
    "    patterns = content[0].split(', ')\n",
    "    designs = content[1].split('\\n')\n",
    "    return patterns, designs\n",
    "\n",
    "def is_design_possible(design, patterns):\n",
    "    # Use dynamic programming to check if the design can be constructed\n",
    "    n = len(design)\n",
    "    dp = [False] * (n + 1)\n",
    "    dp[0] = True  # Base case: empty string is always constructible\n",
    "\n",
    "    for i in range(1, n + 1):\n",
    "        for pattern in patterns:\n",
    "            if i >= len(pattern) and design[i - len(pattern):i] == pattern:\n",
    "                dp[i] = dp[i] or dp[i - len(pattern)]\n",
    "    \n",
    "    return dp[n]\n",
    "\n",
    "def count_possible_designs(patterns, designs):\n",
    "    possible_count = 0\n",
    "    for design in designs:\n",
    "        if is_design_possible(design, patterns):\n",
    "            possible_count += 1\n",
    "    return possible_count\n",
    "\n",
    "# Parse the input\n",
    "patterns, designs = parse_input('input.txt')\n",
    "\n",
    "# Count the possible designs\n",
    "possible_design_count = count_possible_designs(patterns, designs)\n",
    "\n",
    "possible_design_count"
   ]
  },
  {
   "cell_type": "code",
   "execution_count": 2,
   "id": "4f1870b0-070e-4cc0-8e2e-812a2faa6e2d",
   "metadata": {},
   "outputs": [
    {
     "data": {
      "text/plain": [
       "752461716635602"
      ]
     },
     "execution_count": 2,
     "metadata": {},
     "output_type": "execute_result"
    }
   ],
   "source": [
    "from collections import defaultdict\n",
    "\n",
    "def count_design_arrangements(design, patterns):\n",
    "    n = len(design)\n",
    "    dp = [0] * (n + 1)\n",
    "    dp[0] = 1  # Base case: one way to construct an empty design\n",
    "\n",
    "    for i in range(1, n + 1):\n",
    "        for pattern in patterns:\n",
    "            if i >= len(pattern) and design[i - len(pattern):i] == pattern:\n",
    "                dp[i] += dp[i - len(pattern)]\n",
    "    \n",
    "    return dp[n]\n",
    "\n",
    "def total_arrangements(patterns, designs):\n",
    "    total_count = 0\n",
    "    for design in designs:\n",
    "        total_count += count_design_arrangements(design, patterns)\n",
    "    return total_count\n",
    "\n",
    "# Calculate the total number of arrangements\n",
    "total_arrangements_count = total_arrangements(patterns, designs)\n",
    "\n",
    "total_arrangements_count"
   ]
  },
  {
   "cell_type": "code",
   "execution_count": null,
   "id": "e8e3d2cf-4a5f-4047-ad47-fd818b545024",
   "metadata": {},
   "outputs": [],
   "source": []
  }
 ],
 "metadata": {
  "kernelspec": {
   "display_name": "Python 3 (ipykernel)",
   "language": "python",
   "name": "python3"
  },
  "language_info": {
   "codemirror_mode": {
    "name": "ipython",
    "version": 3
   },
   "file_extension": ".py",
   "mimetype": "text/x-python",
   "name": "python",
   "nbconvert_exporter": "python",
   "pygments_lexer": "ipython3",
   "version": "3.12.3"
  }
 },
 "nbformat": 4,
 "nbformat_minor": 5
}
