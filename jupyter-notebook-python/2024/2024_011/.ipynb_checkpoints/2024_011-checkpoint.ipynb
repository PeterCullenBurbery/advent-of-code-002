{
 "cells": [
  {
   "cell_type": "markdown",
   "id": "a9802e2e",
   "metadata": {},
   "source": [
    "# Advent of Code"
   ]
  },
  {
   "cell_type": "markdown",
   "id": "b2d79d93",
   "metadata": {},
   "source": [
    "## 2024-012-011\n",
    "## 2024 011"
   ]
  },
  {
   "cell_type": "markdown",
   "id": "c07ca8e5",
   "metadata": {},
   "source": [
    "https://adventofcode.com/2024/day/11"
   ]
  },
  {
   "cell_type": "code",
   "execution_count": null,
   "id": "beeb618e",
   "metadata": {},
   "outputs": [],
   "source": []
  }
 ],
 "metadata": {},
 "nbformat": 4,
 "nbformat_minor": 5
}
