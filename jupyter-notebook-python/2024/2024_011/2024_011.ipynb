{
 "cells": [
  {
   "cell_type": "markdown",
   "id": "a9802e2e",
   "metadata": {},
   "source": [
    "# Advent of Code"
   ]
  },
  {
   "cell_type": "markdown",
   "id": "b2d79d93",
   "metadata": {},
   "source": [
    "## 2024-012-011\n",
    "## 2024 011"
   ]
  },
  {
   "cell_type": "markdown",
   "id": "c07ca8e5",
   "metadata": {},
   "source": [
    "https://adventofcode.com/2024/day/11"
   ]
  },
  {
   "cell_type": "code",
   "execution_count": 1,
   "id": "beeb618e",
   "metadata": {},
   "outputs": [
    {
     "name": "stdout",
     "output_type": "stream",
     "text": [
      "213625\n"
     ]
    }
   ],
   "source": [
    "def transform_stone(stone):\n",
    "    # stone is a string representing an integer\n",
    "    num_str = stone\n",
    "    # Rule 1: If 0 -> becomes 1\n",
    "    if num_str == '0':\n",
    "        return ['1']\n",
    "    \n",
    "    length = len(num_str)\n",
    "    \n",
    "    # Check if even number of digits\n",
    "    if length % 2 == 0:\n",
    "        # Split into two stones\n",
    "        half = length // 2\n",
    "        left_str = num_str[:half].lstrip('0')\n",
    "        right_str = num_str[half:].lstrip('0')\n",
    "        # If empty after strip, it means zero\n",
    "        if left_str == '':\n",
    "            left_str = '0'\n",
    "        if right_str == '':\n",
    "            right_str = '0'\n",
    "        return [left_str, right_str]\n",
    "    else:\n",
    "        # Multiply by 2024\n",
    "        val = int(num_str)\n",
    "        val *= 2024\n",
    "        return [str(val)]\n",
    "\n",
    "def simulate_blinks(stones, blinks):\n",
    "    for _ in range(blinks):\n",
    "        new_stones = []\n",
    "        # Transform all stones simultaneously\n",
    "        # We can simply iterate over the current stones and apply the rule,\n",
    "        # since they do not depend on each other except for order.\n",
    "        for s in stones:\n",
    "            new_stones.extend(transform_stone(s))\n",
    "        stones = new_stones\n",
    "    return stones\n",
    "\n",
    "def main():\n",
    "    # Read input\n",
    "    with open(\"input.txt\", \"r\") as f:\n",
    "        line = f.read().strip()\n",
    "    stones = line.split()\n",
    "\n",
    "    # Simulate 25 blinks\n",
    "    stones_after = simulate_blinks(stones, 25)\n",
    "\n",
    "    # Print the number of stones after 25 blinks\n",
    "    print(len(stones_after))\n",
    "\n",
    "if __name__ == \"__main__\":\n",
    "    main()"
   ]
  },
  {
   "cell_type": "code",
   "execution_count": 2,
   "id": "2b774bb2-1c2b-42c2-978f-04803064441f",
   "metadata": {},
   "outputs": [
    {
     "data": {
      "text/plain": [
       "252442982856820"
      ]
     },
     "execution_count": 2,
     "metadata": {},
     "output_type": "execute_result"
    }
   ],
   "source": [
    "from collections import defaultdict\n",
    "\n",
    "# Load input from file\n",
    "with open('input.txt', 'r') as file:\n",
    "    initial_stones = list(map(int, file.read().strip().split()))\n",
    "\n",
    "# Rules implementation\n",
    "def transform(frequencies):\n",
    "    next_frequencies = defaultdict(int)\n",
    "    \n",
    "    for num, count in frequencies.items():\n",
    "        if num == 0:\n",
    "            next_frequencies[1] += count\n",
    "        elif len(str(num)) % 2 == 0:  # Even number of digits\n",
    "            digits = str(num)\n",
    "            mid = len(digits) // 2\n",
    "            left, right = int(digits[:mid]), int(digits[mid:])\n",
    "            next_frequencies[left] += count\n",
    "            next_frequencies[right] += count\n",
    "        else:  # Multiplication by 2024\n",
    "            next_frequencies[num * 2024] += count\n",
    "    \n",
    "    return next_frequencies\n",
    "\n",
    "# Initialization\n",
    "frequencies = defaultdict(int)\n",
    "for stone in initial_stones:\n",
    "    frequencies[stone] += 1\n",
    "\n",
    "# Perform 75 blinks\n",
    "for _ in range(75):\n",
    "    frequencies = transform(frequencies)\n",
    "\n",
    "# Count total number of stones\n",
    "total_stones = sum(frequencies.values())\n",
    "\n",
    "total_stones"
   ]
  },
  {
   "cell_type": "code",
   "execution_count": null,
   "id": "2db4b49f-1245-4dda-b7de-e9e378088f81",
   "metadata": {},
   "outputs": [],
   "source": []
  }
 ],
 "metadata": {
  "kernelspec": {
   "display_name": "Python 3 (ipykernel)",
   "language": "python",
   "name": "python3"
  },
  "language_info": {
   "codemirror_mode": {
    "name": "ipython",
    "version": 3
   },
   "file_extension": ".py",
   "mimetype": "text/x-python",
   "name": "python",
   "nbconvert_exporter": "python",
   "pygments_lexer": "ipython3",
   "version": "3.13.1"
  }
 },
 "nbformat": 4,
 "nbformat_minor": 5
}
