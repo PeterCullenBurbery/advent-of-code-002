{
 "cells": [
  {
   "cell_type": "markdown",
   "id": "9055e02c",
   "metadata": {},
   "source": [
    "# Advent of Code"
   ]
  },
  {
   "cell_type": "markdown",
   "id": "5414c6b5",
   "metadata": {},
   "source": [
    "## 2024-012-005\n",
    "## 2024 005"
   ]
  },
  {
   "cell_type": "markdown",
   "id": "5b155c2b",
   "metadata": {},
   "source": [
    "https://adventofcode.com/2024/day/5"
   ]
  },
  {
   "cell_type": "code",
   "execution_count": 1,
   "id": "6d9a3552",
   "metadata": {},
   "outputs": [
    {
     "data": {
      "text/plain": [
       "5991"
      ]
     },
     "execution_count": 1,
     "metadata": {},
     "output_type": "execute_result"
    }
   ],
   "source": [
    "# Let's first process the uploaded file to identify the rules and updates.\n",
    "# Then, we will determine which updates are correctly ordered and calculate the sum of the middle page numbers.\n",
    "\n",
    "# Reading the file content\n",
    "file_path = 'input.txt'\n",
    "with open(file_path, 'r') as file:\n",
    "    content = file.read()\n",
    "\n",
    "# Splitting content into rules and updates\n",
    "rules_section, updates_section = content.strip().split(\"\\n\\n\")\n",
    "rules = [line.split(\"|\") for line in rules_section.splitlines()]\n",
    "rules = [(int(x), int(y)) for x, y in rules]\n",
    "\n",
    "updates = [list(map(int, line.split(','))) for line in updates_section.splitlines()]\n",
    "\n",
    "# Helper function to check if an update follows the rules\n",
    "def is_update_ordered(update, rules):\n",
    "    index_map = {page: i for i, page in enumerate(update)}\n",
    "    for x, y in rules:\n",
    "        if x in index_map and y in index_map and index_map[x] > index_map[y]:\n",
    "            return False\n",
    "    return True\n",
    "\n",
    "# Identify correctly ordered updates and their middle page numbers\n",
    "correct_updates = []\n",
    "middle_pages = []\n",
    "\n",
    "for update in updates:\n",
    "    if is_update_ordered(update, rules):\n",
    "        correct_updates.append(update)\n",
    "        middle_pages.append(update[len(update) // 2])\n",
    "\n",
    "# Calculate the sum of middle pages\n",
    "sum_middle_pages = sum(middle_pages)\n",
    "sum_middle_pages\n"
   ]
  },
  {
   "cell_type": "code",
   "execution_count": 2,
   "id": "31cb4f1d-d8e4-485e-8c57-7a1458e3d125",
   "metadata": {},
   "outputs": [
    {
     "data": {
      "text/plain": [
       "5479"
      ]
     },
     "execution_count": 2,
     "metadata": {},
     "output_type": "execute_result"
    }
   ],
   "source": [
    "from collections import defaultdict, deque\n",
    "\n",
    "# Helper function to sort an update according to the rules\n",
    "def topological_sort_update(update, rules):\n",
    "    # Build a graph and in-degree count based on the rules\n",
    "    graph = defaultdict(list)\n",
    "    in_degree = defaultdict(int)\n",
    "    nodes = set(update)\n",
    "    \n",
    "    for x, y in rules:\n",
    "        if x in nodes and y in nodes:\n",
    "            graph[x].append(y)\n",
    "            in_degree[y] += 1\n",
    "            if x not in in_degree:\n",
    "                in_degree[x] = 0\n",
    "    \n",
    "    # Perform topological sort\n",
    "    queue = deque([node for node in nodes if in_degree[node] == 0])\n",
    "    sorted_update = []\n",
    "    \n",
    "    while queue:\n",
    "        current = queue.popleft()\n",
    "        sorted_update.append(current)\n",
    "        \n",
    "        for neighbor in graph[current]:\n",
    "            in_degree[neighbor] -= 1\n",
    "            if in_degree[neighbor] == 0:\n",
    "                queue.append(neighbor)\n",
    "    \n",
    "    return sorted_update\n",
    "\n",
    "# Correct the incorrectly ordered updates and find their middle page numbers\n",
    "incorrect_updates = []\n",
    "incorrect_middle_pages = []\n",
    "\n",
    "for update in updates:\n",
    "    if not is_update_ordered(update, rules):\n",
    "        corrected_update = topological_sort_update(update, rules)\n",
    "        incorrect_updates.append(corrected_update)\n",
    "        incorrect_middle_pages.append(corrected_update[len(corrected_update) // 2])\n",
    "\n",
    "# Calculate the sum of middle pages for corrected updates\n",
    "sum_incorrect_middle_pages = sum(incorrect_middle_pages)\n",
    "sum_incorrect_middle_pages"
   ]
  },
  {
   "cell_type": "code",
   "execution_count": null,
   "id": "b35236a1-9665-4f6d-9083-1d86047f7c6b",
   "metadata": {},
   "outputs": [],
   "source": []
  }
 ],
 "metadata": {
  "kernelspec": {
   "display_name": "Python 3 (ipykernel)",
   "language": "python",
   "name": "python3"
  },
  "language_info": {
   "codemirror_mode": {
    "name": "ipython",
    "version": 3
   },
   "file_extension": ".py",
   "mimetype": "text/x-python",
   "name": "python",
   "nbconvert_exporter": "python",
   "pygments_lexer": "ipython3",
   "version": "3.12.3"
  }
 },
 "nbformat": 4,
 "nbformat_minor": 5
}
