{
 "cells": [
  {
   "cell_type": "markdown",
   "id": "9055e02c",
   "metadata": {},
   "source": [
    "# Advent of Code"
   ]
  },
  {
   "cell_type": "markdown",
   "id": "5414c6b5",
   "metadata": {},
   "source": [
    "## 2024-012-005\n",
    "## 2024 005"
   ]
  },
  {
   "cell_type": "markdown",
   "id": "5b155c2b",
   "metadata": {},
   "source": [
    "https://adventofcode.com/2024/day/5"
   ]
  },
  {
   "cell_type": "code",
   "execution_count": null,
   "id": "6d9a3552",
   "metadata": {},
   "outputs": [],
   "source": []
  }
 ],
 "metadata": {},
 "nbformat": 4,
 "nbformat_minor": 5
}
