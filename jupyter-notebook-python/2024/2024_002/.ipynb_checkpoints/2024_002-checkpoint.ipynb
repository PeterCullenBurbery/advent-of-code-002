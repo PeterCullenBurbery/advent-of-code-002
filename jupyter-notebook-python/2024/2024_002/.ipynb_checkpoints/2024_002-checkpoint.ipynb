{
 "cells": [
  {
   "cell_type": "markdown",
   "id": "5f548a0c",
   "metadata": {},
   "source": [
    "# Advent of Code"
   ]
  },
  {
   "cell_type": "markdown",
   "id": "296e3aed",
   "metadata": {},
   "source": [
    "## 2024-012-002\n",
    "## 2024 002"
   ]
  },
  {
   "cell_type": "markdown",
   "id": "044982d7",
   "metadata": {},
   "source": [
    "https://adventofcode.com/2024/day/2"
   ]
  },
  {
   "cell_type": "code",
   "execution_count": 2,
   "id": "60a6a238",
   "metadata": {},
   "outputs": [
    {
     "data": {
      "text/plain": [
       "202"
      ]
     },
     "execution_count": 2,
     "metadata": {},
     "output_type": "execute_result"
    }
   ],
   "source": [
    "# Load the file and analyze the data based on the problem description.\n",
    "\n",
    "# Define a function to check if a report is safe\n",
    "def is_safe(report):\n",
    "    differences = [report[i + 1] - report[i] for i in range(len(report) - 1)]\n",
    "    all_increasing = all(1 <= diff <= 3 for diff in differences)\n",
    "    all_decreasing = all(-3 <= diff <= -1 for diff in differences)\n",
    "    return all_increasing or all_decreasing\n",
    "\n",
    "# Read the input file and process the reports\n",
    "input_path = 'input.txt'\n",
    "with open(input_path, 'r') as file:\n",
    "    lines = file.readlines()\n",
    "\n",
    "# Convert the input data into a list of lists of integers\n",
    "reports = [list(map(int, line.split())) for line in lines]\n",
    "\n",
    "# Count the number of safe reports\n",
    "safe_count = sum(is_safe(report) for report in reports)\n",
    "\n",
    "safe_count\n"
   ]
  },
  {
   "cell_type": "code",
   "execution_count": 3,
   "id": "fc933831-19fc-4447-91ec-9c4ff99e550c",
   "metadata": {},
   "outputs": [
    {
     "data": {
      "text/plain": [
       "271"
      ]
     },
     "execution_count": 3,
     "metadata": {},
     "output_type": "execute_result"
    }
   ],
   "source": [
    "# Extend the safety check function to consider removing one level\n",
    "def is_safe_with_dampener(report):\n",
    "    # Check if the original report is safe\n",
    "    if is_safe(report):\n",
    "        return True\n",
    "    \n",
    "    # Check if removing one level makes the report safe\n",
    "    for i in range(len(report)):\n",
    "        modified_report = report[:i] + report[i+1:]\n",
    "        if is_safe(modified_report):\n",
    "            return True\n",
    "    \n",
    "    return False\n",
    "\n",
    "# Count the number of safe reports with the Problem Dampener\n",
    "safe_with_dampener_count = sum(is_safe_with_dampener(report) for report in reports)\n",
    "\n",
    "safe_with_dampener_count"
   ]
  },
  {
   "cell_type": "code",
   "execution_count": null,
   "id": "1da8bd56-94d6-4dcc-9192-8793f7b29d5e",
   "metadata": {},
   "outputs": [],
   "source": []
  }
 ],
 "metadata": {
  "kernelspec": {
   "display_name": "Python 3 (ipykernel)",
   "language": "python",
   "name": "python3"
  },
  "language_info": {
   "codemirror_mode": {
    "name": "ipython",
    "version": 3
   },
   "file_extension": ".py",
   "mimetype": "text/x-python",
   "name": "python",
   "nbconvert_exporter": "python",
   "pygments_lexer": "ipython3",
   "version": "3.12.3"
  }
 },
 "nbformat": 4,
 "nbformat_minor": 5
}
