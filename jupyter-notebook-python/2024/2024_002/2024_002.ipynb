{
 "cells": [
  {
   "cell_type": "markdown",
   "id": "5f548a0c",
   "metadata": {},
   "source": [
    "# Advent of Code"
   ]
  },
  {
   "cell_type": "markdown",
   "id": "296e3aed",
   "metadata": {},
   "source": [
    "## 2024-012-002\n",
    "## 2024 002"
   ]
  },
  {
   "cell_type": "markdown",
   "id": "044982d7",
   "metadata": {},
   "source": [
    "https://adventofcode.com/2024/day/2"
   ]
  },
  {
   "cell_type": "code",
   "execution_count": null,
   "id": "60a6a238",
   "metadata": {},
   "outputs": [],
   "source": []
  }
 ],
 "metadata": {},
 "nbformat": 4,
 "nbformat_minor": 5
}
