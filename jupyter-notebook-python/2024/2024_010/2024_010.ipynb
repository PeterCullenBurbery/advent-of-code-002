{
 "cells": [
  {
   "cell_type": "markdown",
   "id": "d956694a",
   "metadata": {},
   "source": [
    "# Advent of Code"
   ]
  },
  {
   "cell_type": "markdown",
   "id": "dc292961",
   "metadata": {},
   "source": [
    "## 2024-012-010\n",
    "## 2024 010"
   ]
  },
  {
   "cell_type": "markdown",
   "id": "fba853a9",
   "metadata": {},
   "source": [
    "https://adventofcode.com/2024/day/10"
   ]
  },
  {
   "cell_type": "code",
   "execution_count": null,
   "id": "94cf6dbe",
   "metadata": {},
   "outputs": [],
   "source": []
  }
 ],
 "metadata": {},
 "nbformat": 4,
 "nbformat_minor": 5
}
