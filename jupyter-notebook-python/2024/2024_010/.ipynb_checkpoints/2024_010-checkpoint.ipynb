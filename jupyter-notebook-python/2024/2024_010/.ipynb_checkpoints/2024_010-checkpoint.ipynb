{
 "cells": [
  {
   "cell_type": "markdown",
   "id": "d956694a",
   "metadata": {},
   "source": [
    "# Advent of Code"
   ]
  },
  {
   "cell_type": "markdown",
   "id": "dc292961",
   "metadata": {},
   "source": [
    "## 2024-012-010\n",
    "## 2024 010"
   ]
  },
  {
   "cell_type": "markdown",
   "id": "fba853a9",
   "metadata": {},
   "source": [
    "https://adventofcode.com/2024/day/10"
   ]
  },
  {
   "cell_type": "code",
   "execution_count": 1,
   "id": "94cf6dbe",
   "metadata": {},
   "outputs": [
    {
     "name": "stdout",
     "output_type": "stream",
     "text": [
      "717\n"
     ]
    }
   ],
   "source": [
    "from collections import deque\n",
    "\n",
    "def read_map(filename):\n",
    "    grid = []\n",
    "    with open(filename, 'r') as f:\n",
    "        for line in f:\n",
    "            line = line.strip()\n",
    "            if line:\n",
    "                grid.append([int(ch) for ch in line])\n",
    "    return grid\n",
    "\n",
    "def neighbors(r, c, rows, cols):\n",
    "    # Returns the up/down/left/right neighbors within bounds\n",
    "    for nr, nc in [(r-1,c), (r+1,c), (r,c-1), (r,c+1)]:\n",
    "        if 0 <= nr < rows and 0 <= nc < cols:\n",
    "            yield nr, nc\n",
    "\n",
    "def find_trailhead_scores(grid):\n",
    "    rows = len(grid)\n",
    "    cols = len(grid[0]) if rows > 0 else 0\n",
    "\n",
    "    # Identify all trailheads (cells with height 0)\n",
    "    trailheads = [(r, c) for r in range(rows) for c in range(cols) if grid[r][c] == 0]\n",
    "\n",
    "    total_score = 0\n",
    "\n",
    "    for start_r, start_c in trailheads:\n",
    "        # BFS or DFS to find all reachable 9-cells\n",
    "        visited = set()\n",
    "        queue = deque()\n",
    "        queue.append((start_r, start_c))\n",
    "        visited.add((start_r, start_c))\n",
    "\n",
    "        # Set to store reachable 9 cells\n",
    "        reachable_nines = set()\n",
    "\n",
    "        while queue:\n",
    "            r, c = queue.popleft()\n",
    "            current_height = grid[r][c]\n",
    "\n",
    "            # If we have reached height 9, record the cell\n",
    "            if current_height == 9:\n",
    "                reachable_nines.add((r, c))\n",
    "                # We do not continue further from a height 9 cell, \n",
    "                # as the path cannot go beyond 9 in this problem.\n",
    "\n",
    "            else:\n",
    "                # Look for neighbors with height exactly current_height + 1\n",
    "                next_height = current_height + 1\n",
    "                for nr, nc in neighbors(r, c, rows, cols):\n",
    "                    if (nr, nc) not in visited and grid[nr][nc] == next_height:\n",
    "                        visited.add((nr, nc))\n",
    "                        queue.append((nr, nc))\n",
    "\n",
    "        # The trailhead's score is how many unique 9-cells were reached\n",
    "        trailhead_score = len(reachable_nines)\n",
    "        total_score += trailhead_score\n",
    "\n",
    "    return total_score\n",
    "\n",
    "if __name__ == \"__main__\":\n",
    "    grid = read_map(\"input.txt\")\n",
    "    result = find_trailhead_scores(grid)\n",
    "    print(result)"
   ]
  },
  {
   "cell_type": "code",
   "execution_count": 2,
   "id": "46f15144-310a-4cc8-841c-26c09a7c7bff",
   "metadata": {},
   "outputs": [
    {
     "name": "stdout",
     "output_type": "stream",
     "text": [
      "1686\n"
     ]
    }
   ],
   "source": [
    "import sys\n",
    "sys.setrecursionlimit(10**9)\n",
    "from collections import defaultdict\n",
    "\n",
    "def read_map(filename):\n",
    "    grid = []\n",
    "    with open(filename, 'r') as f:\n",
    "        for line in f:\n",
    "            line = line.strip()\n",
    "            if line:\n",
    "                grid.append([int(ch) for ch in line])\n",
    "    return grid\n",
    "\n",
    "def neighbors(r, c, rows, cols):\n",
    "    for nr, nc in [(r-1,c), (r+1,c), (r,c-1), (r,c+1)]:\n",
    "        if 0 <= nr < rows and 0 <= nc < cols:\n",
    "            yield nr, nc\n",
    "\n",
    "def count_paths(r, c, grid, dp, rows, cols):\n",
    "    # If already computed, return it\n",
    "    if dp[r][c] != -1:\n",
    "        return dp[r][c]\n",
    "\n",
    "    current_height = grid[r][c]\n",
    "\n",
    "    # Base case: if height is 9, exactly one trail ends here\n",
    "    if current_height == 9:\n",
    "        dp[r][c] = 1\n",
    "        return 1\n",
    "\n",
    "    # Otherwise, sum over neighbors with height current_height+1\n",
    "    total_paths = 0\n",
    "    next_height = current_height + 1\n",
    "    for nr, nc in neighbors(r, c, rows, cols):\n",
    "        if grid[nr][nc] == next_height:\n",
    "            total_paths += count_paths(nr, nc, grid, dp, rows, cols)\n",
    "\n",
    "    dp[r][c] = total_paths\n",
    "    return total_paths\n",
    "\n",
    "def main():\n",
    "    grid = read_map(\"input.txt\")\n",
    "    rows = len(grid)\n",
    "    cols = len(grid[0]) if rows > 0 else 0\n",
    "\n",
    "    # Identify all trailheads (cells with height 0)\n",
    "    trailheads = [(r, c) for r in range(rows) for c in range(cols) if grid[r][c] == 0]\n",
    "\n",
    "    # dp[r][c] = number of distinct hiking trails from cell (r, c) to any height-9 cell\n",
    "    dp = [[-1]*cols for _ in range(rows)]\n",
    "\n",
    "    total_rating = 0\n",
    "    for (tr, tc) in trailheads:\n",
    "        rating = count_paths(tr, tc, grid, dp, rows, cols)\n",
    "        total_rating += rating\n",
    "\n",
    "    print(total_rating)\n",
    "\n",
    "if __name__ == \"__main__\":\n",
    "    main()"
   ]
  },
  {
   "cell_type": "code",
   "execution_count": null,
   "id": "ef56b136-4a52-4054-95da-9dd5b595ef16",
   "metadata": {},
   "outputs": [],
   "source": []
  }
 ],
 "metadata": {
  "kernelspec": {
   "display_name": "Python 3 (ipykernel)",
   "language": "python",
   "name": "python3"
  },
  "language_info": {
   "codemirror_mode": {
    "name": "ipython",
    "version": 3
   },
   "file_extension": ".py",
   "mimetype": "text/x-python",
   "name": "python",
   "nbconvert_exporter": "python",
   "pygments_lexer": "ipython3",
   "version": "3.12.3"
  }
 },
 "nbformat": 4,
 "nbformat_minor": 5
}
