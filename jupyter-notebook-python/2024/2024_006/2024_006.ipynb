{
 "cells": [
  {
   "cell_type": "markdown",
   "id": "02c1ecaf",
   "metadata": {},
   "source": [
    "# Advent of Code"
   ]
  },
  {
   "cell_type": "markdown",
   "id": "39442d5c",
   "metadata": {},
   "source": [
    "## 2024-012-006\n",
    "## 2024 006"
   ]
  },
  {
   "cell_type": "markdown",
   "id": "8d3522ec",
   "metadata": {},
   "source": [
    "https://adventofcode.com/2024/day/6"
   ]
  },
  {
   "cell_type": "code",
   "execution_count": null,
   "id": "8dfdbf6f",
   "metadata": {},
   "outputs": [],
   "source": []
  }
 ],
 "metadata": {},
 "nbformat": 4,
 "nbformat_minor": 5
}
