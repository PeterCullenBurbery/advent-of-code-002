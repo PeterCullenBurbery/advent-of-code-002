{
 "cells": [
  {
   "cell_type": "markdown",
   "id": "49d88889",
   "metadata": {},
   "source": [
    "# Advent of Code"
   ]
  },
  {
   "cell_type": "markdown",
   "id": "b302718d",
   "metadata": {},
   "source": [
    "## 2024-012-014\n",
    "## 2024 014"
   ]
  },
  {
   "cell_type": "markdown",
   "id": "933f5165",
   "metadata": {},
   "source": [
    "https://adventofcode.com/2024/day/14"
   ]
  },
  {
   "cell_type": "code",
   "execution_count": null,
   "id": "0dd2c5d4",
   "metadata": {},
   "outputs": [],
   "source": []
  }
 ],
 "metadata": {},
 "nbformat": 4,
 "nbformat_minor": 5
}
