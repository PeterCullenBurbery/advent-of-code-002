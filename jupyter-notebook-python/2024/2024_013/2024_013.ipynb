{
 "cells": [
  {
   "cell_type": "markdown",
   "id": "0328c1a7",
   "metadata": {},
   "source": [
    "# Advent of Code"
   ]
  },
  {
   "cell_type": "markdown",
   "id": "740fac24",
   "metadata": {},
   "source": [
    "## 2024-012-013\n",
    "## 2024 013"
   ]
  },
  {
   "cell_type": "markdown",
   "id": "73369e8a",
   "metadata": {},
   "source": [
    "https://adventofcode.com/2024/day/13"
   ]
  },
  {
   "cell_type": "code",
   "execution_count": null,
   "id": "adfd173c",
   "metadata": {},
   "outputs": [],
   "source": []
  }
 ],
 "metadata": {},
 "nbformat": 4,
 "nbformat_minor": 5
}
