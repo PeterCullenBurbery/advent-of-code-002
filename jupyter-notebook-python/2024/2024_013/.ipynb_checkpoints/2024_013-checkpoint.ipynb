{
 "cells": [
  {
   "cell_type": "markdown",
   "id": "0328c1a7",
   "metadata": {},
   "source": [
    "# Advent of Code"
   ]
  },
  {
   "cell_type": "markdown",
   "id": "740fac24",
   "metadata": {},
   "source": [
    "## 2024-012-013\n",
    "## 2024 013"
   ]
  },
  {
   "cell_type": "markdown",
   "id": "73369e8a",
   "metadata": {},
   "source": [
    "https://adventofcode.com/2024/day/13"
   ]
  },
  {
   "cell_type": "code",
   "execution_count": 2,
   "id": "adfd173c",
   "metadata": {},
   "outputs": [
    {
     "name": "stdout",
     "output_type": "stream",
     "text": [
      "Part 1:\n",
      "Total tokens spent: 37901\n",
      "Machines solved: 183\n",
      "\n",
      "Part 2:\n",
      "Total tokens spent: 77407675412647\n",
      "Machines solved: 137\n"
     ]
    }
   ],
   "source": [
    "from sympy import symbols, Eq, solve\n",
    "import re\n",
    "\n",
    "# Define variables for calculations\n",
    "a, b = symbols('a b', integer=True)\n",
    "\n",
    "# Function to parse machine data from multi-line input\n",
    "def parse_multiline_machine(lines):\n",
    "    if len(lines) == 3:\n",
    "        button_a = re.match(r\"Button A: X\\+(\\d+), Y\\+(\\d+)\", lines[0])\n",
    "        button_b = re.match(r\"Button B: X\\+(\\d+), Y\\+(\\d+)\", lines[1])\n",
    "        prize = re.match(r\"Prize: X=(\\d+), Y=(\\d+)\", lines[2])\n",
    "        if button_a and button_b and prize:\n",
    "            return tuple(map(int, button_a.groups() + button_b.groups() + prize.groups()))\n",
    "    return None\n",
    "\n",
    "# Function to compute solutions for a list of machines\n",
    "def compute_solutions(machines, offset_x=0, offset_y=0):\n",
    "    results = []\n",
    "    for Ax, Ay, Bx, By, Px, Py in machines:\n",
    "        # Apply offset if provided\n",
    "        Px += offset_x\n",
    "        Py += offset_y\n",
    "        \n",
    "        # Solve the system of equations\n",
    "        eq1 = Eq(a * Ax + b * Bx, Px)\n",
    "        eq2 = Eq(a * Ay + b * By, Py)\n",
    "        solutions = solve((eq1, eq2), (a, b), dict=True)\n",
    "        valid_solutions = [\n",
    "            (sol[a], sol[b]) for sol in solutions if sol[a] >= 0 and sol[b] >= 0\n",
    "        ]\n",
    "        \n",
    "        # Find the minimum token cost\n",
    "        min_cost = float('inf')\n",
    "        best_sol = None\n",
    "        for sol_a, sol_b in valid_solutions:\n",
    "            cost = 3 * sol_a + sol_b\n",
    "            if cost < min_cost:\n",
    "                min_cost = cost\n",
    "                best_sol = (sol_a, sol_b)\n",
    "        if best_sol:\n",
    "            results.append((min_cost, best_sol))\n",
    "\n",
    "    # Calculate total cost and machines solved\n",
    "    results.sort()\n",
    "    total_cost = sum(cost for cost, _ in results)\n",
    "    machines_solved = len(results)\n",
    "\n",
    "    return total_cost, machines_solved\n",
    "\n",
    "# Main program\n",
    "if __name__ == \"__main__\":\n",
    "    input_file_path = \"input.txt\"  # Adjust this to the actual file path\n",
    "\n",
    "    # Parse input data\n",
    "    with open(input_file_path, 'r') as f:\n",
    "        raw_lines = [line.strip() for line in f if line.strip()]\n",
    "\n",
    "    # Group every 3 lines into a machine\n",
    "    machines = [parse_multiline_machine(raw_lines[i:i+3]) for i in range(0, len(raw_lines), 3)]\n",
    "    parsed_machines = [machine for machine in machines if machine is not None]\n",
    "\n",
    "    # Part 1: Solve without offsets\n",
    "    part1_total_cost, part1_machines_solved = compute_solutions(parsed_machines)\n",
    "\n",
    "    # Part 2: Solve with large offsets\n",
    "    OFFSET = 10_000_000_000_000\n",
    "    part2_total_cost, part2_machines_solved = compute_solutions(parsed_machines, offset_x=OFFSET, offset_y=OFFSET)\n",
    "\n",
    "    # Print results\n",
    "    print(\"Part 1:\")\n",
    "    print(f\"Total tokens spent: {part1_total_cost}\")\n",
    "    print(f\"Machines solved: {part1_machines_solved}\")\n",
    "\n",
    "    print(\"\\nPart 2:\")\n",
    "    print(f\"Total tokens spent: {part2_total_cost}\")\n",
    "    print(f\"Machines solved: {part2_machines_solved}\")"
   ]
  },
  {
   "cell_type": "code",
   "execution_count": null,
   "id": "7e00b91f-8632-4cc9-b247-94eecd916475",
   "metadata": {},
   "outputs": [],
   "source": []
  }
 ],
 "metadata": {
  "kernelspec": {
   "display_name": "Python 3 (ipykernel)",
   "language": "python",
   "name": "python3"
  },
  "language_info": {
   "codemirror_mode": {
    "name": "ipython",
    "version": 3
   },
   "file_extension": ".py",
   "mimetype": "text/x-python",
   "name": "python",
   "nbconvert_exporter": "python",
   "pygments_lexer": "ipython3",
   "version": "3.13.1"
  }
 },
 "nbformat": 4,
 "nbformat_minor": 5
}
