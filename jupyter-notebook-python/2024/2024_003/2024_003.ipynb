{
 "cells": [
  {
   "cell_type": "markdown",
   "id": "ecaf7008",
   "metadata": {},
   "source": [
    "# Advent of Code"
   ]
  },
  {
   "cell_type": "markdown",
   "id": "feb603b5",
   "metadata": {},
   "source": [
    "## 2024-012-003\n",
    "## 2024 003"
   ]
  },
  {
   "cell_type": "markdown",
   "id": "8eae1591",
   "metadata": {},
   "source": [
    "https://adventofcode.com/2024/day/3"
   ]
  },
  {
   "cell_type": "code",
   "execution_count": null,
   "id": "07ad98f8",
   "metadata": {},
   "outputs": [],
   "source": []
  }
 ],
 "metadata": {},
 "nbformat": 4,
 "nbformat_minor": 5
}
