{
 "cells": [
  {
   "cell_type": "markdown",
   "id": "ecaf7008",
   "metadata": {},
   "source": [
    "# Advent of Code"
   ]
  },
  {
   "cell_type": "markdown",
   "id": "feb603b5",
   "metadata": {},
   "source": [
    "## 2024-012-003\n",
    "## 2024 003"
   ]
  },
  {
   "cell_type": "markdown",
   "id": "8eae1591",
   "metadata": {},
   "source": [
    "https://adventofcode.com/2024/day/3"
   ]
  },
  {
   "cell_type": "code",
   "execution_count": 2,
   "id": "07ad98f8",
   "metadata": {},
   "outputs": [
    {
     "data": {
      "text/plain": [
       "2012376"
      ]
     },
     "execution_count": 2,
     "metadata": {},
     "output_type": "execute_result"
    }
   ],
   "source": [
    "import re\n",
    "\n",
    "# Load the content of the uploaded file\n",
    "file_path = 'input.txt'\n",
    "with open(file_path, 'r') as file:\n",
    "    content = file.read()\n",
    "\n",
    "# Define the pattern for valid 'mul(X,Y)' instructions\n",
    "pattern = r'mul\\((\\d+),(\\d+)\\)'\n",
    "\n",
    "# Find all matches\n",
    "matches = re.findall(pattern, content)\n",
    "\n",
    "# Calculate the sum of all results of valid 'mul(X,Y)' instructions\n",
    "total_sum = sum(int(x) * int(y) for x, y in matches)\n",
    "\n",
    "total_sum\n",
    "# Parse the content to process `do()` and `don't()` instructions\n",
    "\n",
    "# Split the content into tokens (either mul instructions or enable/disable statements)\n",
    "tokens = re.split(r'(\\bdo\\(\\)|\\bdon\\'t\\(\\))', content)\n",
    "\n",
    "# Initialize variables to track the state and sum\n",
    "enabled = True  # Multiplications are initially enabled\n",
    "conditional_sum = 0\n",
    "\n",
    "# Iterate over tokens to process them\n",
    "for token in tokens:\n",
    "    token = token.strip()\n",
    "    if token == \"do()\":\n",
    "        enabled = True  # Enable future mul instructions\n",
    "    elif token == \"don't()\":\n",
    "        enabled = False  # Disable future mul instructions\n",
    "    else:\n",
    "        # Check if the token is a valid mul instruction\n",
    "        match = re.match(r'mul\\((\\d+),(\\d+)\\)', token)\n",
    "        if match and enabled:\n",
    "            x, y = map(int, match.groups())\n",
    "            conditional_sum += x * y\n",
    "\n",
    "conditional_sum\n"
   ]
  },
  {
   "cell_type": "code",
   "execution_count": 3,
   "id": "36e58e75-833e-4f75-8170-5f2af5f3858d",
   "metadata": {},
   "outputs": [
    {
     "name": "stdout",
     "output_type": "stream",
     "text": [
      "The sum of all valid mul operations is: 183788984\n"
     ]
    }
   ],
   "source": [
    "import re\n",
    "\n",
    "def sum_mul_operations(corrupted_memory):\n",
    "    # Define the regex pattern for valid mul instructions\n",
    "    pattern = r'mul\\((\\d{1,3}),(\\d{1,3})\\)'\n",
    "    \n",
    "    # Find all matches in the corrupted memory\n",
    "    matches = re.findall(pattern, corrupted_memory)\n",
    "    \n",
    "    # Initialize the sum\n",
    "    total = 0\n",
    "    \n",
    "    # Iterate over all matches, compute the product, and add to the total\n",
    "    for num1, num2 in matches:\n",
    "        product = int(num1) * int(num2)\n",
    "        total += product\n",
    "    \n",
    "    return total\n",
    "\n",
    "# Example usage:\n",
    "if __name__ == \"__main__\":\n",
    "    # Read the corrupted memory from 'input.txt'\n",
    "    with open('input.txt', 'r') as file:\n",
    "        corrupted_memory = file.read()\n",
    "    \n",
    "    # Calculate the sum of all valid mul operations\n",
    "    result = sum_mul_operations(corrupted_memory)\n",
    "    \n",
    "    # Output the result\n",
    "    print(f\"The sum of all valid mul operations is: {result}\")\n"
   ]
  },
  {
   "cell_type": "code",
   "execution_count": 6,
   "id": "01e804cf-1399-4e85-81ba-b0581b030a88",
   "metadata": {},
   "outputs": [
    {
     "data": {
      "text/plain": [
       "62098619"
      ]
     },
     "execution_count": 6,
     "metadata": {},
     "output_type": "execute_result"
    }
   ],
   "source": [
    "import re\n",
    "\n",
    "def sum_enabled_mul_operations(corrupted_memory):\n",
    "    \"\"\"\n",
    "    Parses the corrupted memory string, handles do() and don't() instructions,\n",
    "    and sums up all enabled mul(X,Y) operations.\n",
    "    \n",
    "    Parameters:\n",
    "        corrupted_memory (str): The corrupted memory string.\n",
    "    \n",
    "    Returns:\n",
    "        int: The sum of all enabled mul operations.\n",
    "    \"\"\"\n",
    "    # Define regex patterns for do(), don't(), and mul(X,Y)\n",
    "    pattern = re.compile(r\"(do\\(\\)|don't\\(\\)|mul\\((\\d{1,3}),(\\d{1,3})\\))\")\n",
    "    \n",
    "    # Initialize the sum and the mul_enabled flag\n",
    "    total_sum = 0\n",
    "    mul_enabled = True  # mul instructions are enabled at the start\n",
    "    \n",
    "    # Iterate over all matches in the order they appear\n",
    "    for match in pattern.finditer(corrupted_memory):\n",
    "        full_match = match.group(1)\n",
    "        \n",
    "        if full_match == \"do()\":\n",
    "            mul_enabled = True\n",
    "        elif full_match == \"don't()\":\n",
    "            mul_enabled = False\n",
    "        elif match.group(2) and match.group(3):\n",
    "            # This is a mul(X,Y) instruction\n",
    "            if mul_enabled:\n",
    "                num1 = int(match.group(2))\n",
    "                num2 = int(match.group(3))\n",
    "                product = num1 * num2\n",
    "                total_sum += product\n",
    "    \n",
    "    return total_sum\n",
    "\n",
    "# Read the actual input from 'input.txt'\n",
    "file_path = 'input.txt'\n",
    "with open(file_path, 'r') as file:\n",
    "    corrupted_memory = file.read()\n",
    "\n",
    "# Calculate the sum of all enabled mul operations\n",
    "result = sum_enabled_mul_operations(corrupted_memory)\n",
    "result"
   ]
  },
  {
   "cell_type": "code",
   "execution_count": null,
   "id": "9ac88181-a0d1-41f4-a56a-a4581361ba63",
   "metadata": {},
   "outputs": [],
   "source": []
  }
 ],
 "metadata": {
  "kernelspec": {
   "display_name": "Python 3 (ipykernel)",
   "language": "python",
   "name": "python3"
  },
  "language_info": {
   "codemirror_mode": {
    "name": "ipython",
    "version": 3
   },
   "file_extension": ".py",
   "mimetype": "text/x-python",
   "name": "python",
   "nbconvert_exporter": "python",
   "pygments_lexer": "ipython3",
   "version": "3.12.3"
  }
 },
 "nbformat": 4,
 "nbformat_minor": 5
}
