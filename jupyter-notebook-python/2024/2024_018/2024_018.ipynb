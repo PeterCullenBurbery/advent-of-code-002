{
 "cells": [
  {
   "cell_type": "markdown",
   "id": "b1a7d5e4",
   "metadata": {},
   "source": [
    "# Advent of Code"
   ]
  },
  {
   "cell_type": "markdown",
   "id": "4b3a5ba8",
   "metadata": {},
   "source": [
    "## 2024-012-018\n",
    "## 2024 018"
   ]
  },
  {
   "cell_type": "markdown",
   "id": "64483d1e",
   "metadata": {},
   "source": [
    "https://adventofcode.com/2024/day/18"
   ]
  },
  {
   "cell_type": "code",
   "execution_count": 1,
   "id": "52e86c32",
   "metadata": {},
   "outputs": [
    {
     "name": "stdout",
     "output_type": "stream",
     "text": [
      "408\n"
     ]
    }
   ],
   "source": [
    "from collections import deque\n",
    "\n",
    "def read_input(filename):\n",
    "    coords = []\n",
    "    with open(filename, 'r') as f:\n",
    "        for line in f:\n",
    "            x_str, y_str = line.strip().split(',')\n",
    "            x, y = int(x_str), int(y_str)\n",
    "            coords.append((x, y))\n",
    "    return coords\n",
    "\n",
    "def main():\n",
    "    coords = read_input('input.txt')\n",
    "    # We only consider the first 1024 bytes\n",
    "    obstacles = coords[:1024]\n",
    "\n",
    "    # Create a 71x71 grid, False = safe, True = corrupted\n",
    "    corrupted = [[False]*71 for _ in range(71)]\n",
    "    for (x,y) in obstacles:\n",
    "        corrupted[y][x] = True  # Mark corrupted\n",
    "\n",
    "    # BFS to find shortest path from (0,0) to (70,70)\n",
    "    start = (0,0)\n",
    "    goal = (70,70)\n",
    "    if corrupted[0][0] or corrupted[70][70]:\n",
    "        # If start or goal is corrupted, no path\n",
    "        print(\"No path\")\n",
    "        return\n",
    "\n",
    "    visited = [[False]*71 for _ in range(71)]\n",
    "    visited[0][0] = True\n",
    "    queue = deque([(0,0,0)]) # (x, y, distance)\n",
    "\n",
    "    directions = [(1,0),(-1,0),(0,1),(0,-1)]\n",
    "\n",
    "    while queue:\n",
    "        x, y, dist = queue.popleft()\n",
    "        if (x,y) == goal:\n",
    "            print(dist)\n",
    "            return\n",
    "        for dx, dy in directions:\n",
    "            nx, ny = x+dx, y+dy\n",
    "            if 0 <= nx < 71 and 0 <= ny < 71:\n",
    "                if not corrupted[ny][nx] and not visited[ny][nx]:\n",
    "                    visited[ny][nx] = True\n",
    "                    queue.append((nx, ny, dist+1))\n",
    "\n",
    "    # If we reach here, no path was found\n",
    "    print(\"No path\")\n",
    "\n",
    "if __name__ == \"__main__\":\n",
    "    main()"
   ]
  },
  {
   "cell_type": "code",
   "execution_count": 2,
   "id": "69a35328-e30d-472d-a8fe-a197c1f0a817",
   "metadata": {},
   "outputs": [
    {
     "name": "stdout",
     "output_type": "stream",
     "text": [
      "45,16\n"
     ]
    }
   ],
   "source": [
    "from collections import deque\n",
    "\n",
    "def read_input(filename):\n",
    "    coords = []\n",
    "    with open(filename, 'r') as f:\n",
    "        for line in f:\n",
    "            x_str, y_str = line.strip().split(',')\n",
    "            x, y = int(x_str), int(y_str)\n",
    "            coords.append((x, y))\n",
    "    return coords\n",
    "\n",
    "def can_reach_exit(corrupted):\n",
    "    # BFS from (0,0) to (70,70)\n",
    "    if corrupted[0][0] or corrupted[70][70]:\n",
    "        return False\n",
    "\n",
    "    visited = [[False]*71 for _ in range(71)]\n",
    "    visited[0][0] = True\n",
    "    q = deque([(0,0)])\n",
    "    directions = [(1,0),(-1,0),(0,1),(0,-1)]\n",
    "    \n",
    "    while q:\n",
    "        x,y = q.popleft()\n",
    "        if (x,y) == (70,70):\n",
    "            return True\n",
    "        for dx,dy in directions:\n",
    "            nx, ny = x+dx, y+dy\n",
    "            if 0 <= nx < 71 and 0 <= ny < 71:\n",
    "                if not corrupted[ny][nx] and not visited[ny][nx]:\n",
    "                    visited[ny][nx] = True\n",
    "                    q.append((nx, ny))\n",
    "    return False\n",
    "\n",
    "def main():\n",
    "    coords = read_input('input.txt')\n",
    "    corrupted = [[False]*71 for _ in range(71)]\n",
    "    \n",
    "    # Initially, the path should be open (no corrupted cells).\n",
    "    # Now, add bytes one by one and check.\n",
    "    for (x,y) in coords:\n",
    "        corrupted[y][x] = True\n",
    "        if not can_reach_exit(corrupted):\n",
    "            print(f\"{x},{y}\")\n",
    "            return\n",
    "\n",
    "if __name__ == \"__main__\":\n",
    "    main()"
   ]
  },
  {
   "cell_type": "code",
   "execution_count": null,
   "id": "aae495a8-f7bb-4c78-b318-3fdeead85df8",
   "metadata": {},
   "outputs": [],
   "source": []
  }
 ],
 "metadata": {
  "kernelspec": {
   "display_name": "Python 3 (ipykernel)",
   "language": "python",
   "name": "python3"
  },
  "language_info": {
   "codemirror_mode": {
    "name": "ipython",
    "version": 3
   },
   "file_extension": ".py",
   "mimetype": "text/x-python",
   "name": "python",
   "nbconvert_exporter": "python",
   "pygments_lexer": "ipython3",
   "version": "3.12.3"
  }
 },
 "nbformat": 4,
 "nbformat_minor": 5
}
