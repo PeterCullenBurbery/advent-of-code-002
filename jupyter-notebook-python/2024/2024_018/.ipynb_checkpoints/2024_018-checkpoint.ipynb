{
 "cells": [
  {
   "cell_type": "markdown",
   "id": "b1a7d5e4",
   "metadata": {},
   "source": [
    "# Advent of Code"
   ]
  },
  {
   "cell_type": "markdown",
   "id": "4b3a5ba8",
   "metadata": {},
   "source": [
    "## 2024-012-018\n",
    "## 2024 018"
   ]
  },
  {
   "cell_type": "markdown",
   "id": "64483d1e",
   "metadata": {},
   "source": [
    "https://adventofcode.com/2024/day/18"
   ]
  },
  {
   "cell_type": "code",
   "execution_count": null,
   "id": "52e86c32",
   "metadata": {},
   "outputs": [],
   "source": []
  }
 ],
 "metadata": {},
 "nbformat": 4,
 "nbformat_minor": 5
}
