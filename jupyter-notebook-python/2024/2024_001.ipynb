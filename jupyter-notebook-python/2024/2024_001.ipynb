{
 "cells": [
  {
   "cell_type": "markdown",
   "id": "d76b3b23",
   "metadata": {},
   "source": [
    "# Advent of Code"
   ]
  },
  {
   "cell_type": "markdown",
   "id": "dd06813c",
   "metadata": {},
   "source": [
    "## 2024-012-001\n",
    "## 2024 001"
   ]
  },
  {
   "cell_type": "markdown",
   "id": "b9fb66c5",
   "metadata": {},
   "source": [
    "https://adventofcode.com/2024/day/1"
   ]
  },
  {
   "cell_type": "code",
   "execution_count": null,
   "id": "04d0cb7d",
   "metadata": {},
   "outputs": [],
   "source": []
  }
 ],
 "metadata": {
  "kernelspec": {
   "display_name": "Python 3 (ipykernel)",
   "language": "python",
   "name": "python3"
  },
  "language_info": {
   "name": "python",
   "version": "3.12.3"
  }
 },
 "nbformat": 4,
 "nbformat_minor": 5
}
