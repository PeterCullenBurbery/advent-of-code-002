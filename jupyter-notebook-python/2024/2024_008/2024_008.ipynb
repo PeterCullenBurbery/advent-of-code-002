{
 "cells": [
  {
   "cell_type": "markdown",
   "id": "c58c69c3",
   "metadata": {},
   "source": [
    "# Advent of Code"
   ]
  },
  {
   "cell_type": "markdown",
   "id": "e91e321c",
   "metadata": {},
   "source": [
    "## 2024-012-008\n",
    "## 2024 008"
   ]
  },
  {
   "cell_type": "markdown",
   "id": "0988cfc0",
   "metadata": {},
   "source": [
    "https://adventofcode.com/2024/day/8"
   ]
  },
  {
   "cell_type": "code",
   "execution_count": null,
   "id": "9d6b6aa3",
   "metadata": {},
   "outputs": [],
   "source": []
  }
 ],
 "metadata": {},
 "nbformat": 4,
 "nbformat_minor": 5
}
