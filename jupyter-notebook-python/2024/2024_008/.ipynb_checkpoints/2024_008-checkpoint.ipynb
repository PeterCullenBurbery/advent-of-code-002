{
 "cells": [
  {
   "cell_type": "markdown",
   "id": "c58c69c3",
   "metadata": {},
   "source": [
    "# Advent of Code"
   ]
  },
  {
   "cell_type": "markdown",
   "id": "e91e321c",
   "metadata": {},
   "source": [
    "## 2024-012-008\n",
    "## 2024 008"
   ]
  },
  {
   "cell_type": "markdown",
   "id": "0988cfc0",
   "metadata": {},
   "source": [
    "https://adventofcode.com/2024/day/8"
   ]
  },
  {
   "cell_type": "code",
   "execution_count": 2,
   "id": "9d6b6aa3",
   "metadata": {},
   "outputs": [
    {
     "name": "stdout",
     "output_type": "stream",
     "text": [
      "285\n"
     ]
    }
   ],
   "source": [
    "def read_map(filename):\n",
    "    with open(filename, 'r') as f:\n",
    "        grid = [line.rstrip('\\n') for line in f]\n",
    "    return grid\n",
    "\n",
    "def main():\n",
    "    # Read the map\n",
    "    grid = read_map('input.txt')\n",
    "    rows = len(grid)\n",
    "    cols = len(grid[0]) if rows > 0 else 0\n",
    "\n",
    "    # Identify antennas and group by frequency\n",
    "    # A dictionary where key=character (frequency), value=list of (row, col)\n",
    "    antennas_by_freq = {}\n",
    "\n",
    "    for r in range(rows):\n",
    "        for c in range(cols):\n",
    "            ch = grid[r][c]\n",
    "            if ch != '.':\n",
    "                antennas_by_freq.setdefault(ch, []).append((r, c))\n",
    "\n",
    "    # Compute antinodes\n",
    "    antinodes = set()\n",
    "\n",
    "    # For each frequency, consider all pairs of antennas\n",
    "    # For each pair (A, B):\n",
    "    #   P1 = 2B - A\n",
    "    #   P2 = 2A - B\n",
    "    for freq, coords in antennas_by_freq.items():\n",
    "        n = len(coords)\n",
    "        # If there's only one antenna of this frequency, no pairs -> no antinodes\n",
    "        if n < 2:\n",
    "            continue\n",
    "        for i in range(n):\n",
    "            A = coords[i]\n",
    "            for j in range(i+1, n):\n",
    "                B = coords[j]\n",
    "                rA, cA = A\n",
    "                rB, cB = B\n",
    "\n",
    "                # Compute P1 and P2\n",
    "                # P1 = 2B - A\n",
    "                p1_r = 2*rB - rA\n",
    "                p1_c = 2*cB - cA\n",
    "                # P2 = 2A - B\n",
    "                p2_r = 2*rA - rB\n",
    "                p2_c = 2*cA - cB\n",
    "\n",
    "                # Check if P1 is inside the grid\n",
    "                if 0 <= p1_r < rows and 0 <= p1_c < cols:\n",
    "                    antinodes.add((p1_r, p1_c))\n",
    "\n",
    "                # Check if P2 is inside the grid\n",
    "                if 0 <= p2_r < rows and 0 <= p2_c < cols:\n",
    "                    antinodes.add((p2_r, p2_c))\n",
    "\n",
    "    # The result is the number of unique antinode positions\n",
    "    print(len(antinodes))\n",
    "\n",
    "if __name__ == \"__main__\":\n",
    "    main()\n"
   ]
  },
  {
   "cell_type": "code",
   "execution_count": 4,
   "id": "e1bad0eb-c084-4974-875f-bf0c9ba56203",
   "metadata": {},
   "outputs": [
    {
     "name": "stdout",
     "output_type": "stream",
     "text": [
      "944\n"
     ]
    }
   ],
   "source": [
    "from math import gcd\n",
    "\n",
    "def read_map(filename):\n",
    "    with open(filename, 'r') as f:\n",
    "        return [line.rstrip('\\n') for line in f]\n",
    "\n",
    "def main():\n",
    "    grid = read_map('input.txt')\n",
    "    rows = len(grid)\n",
    "    cols = len(grid[0]) if rows > 0 else 0\n",
    "\n",
    "    # Identify antennas and group by frequency\n",
    "    antennas_by_freq = {}\n",
    "    for r in range(rows):\n",
    "        for c in range(cols):\n",
    "            ch = grid[r][c]\n",
    "            if ch != '.':\n",
    "                antennas_by_freq.setdefault(ch, []).append((r, c))\n",
    "\n",
    "    antinodes = set()\n",
    "\n",
    "    def add_line_points(rA, cA, rB, cB):\n",
    "        # Compute reduced direction\n",
    "        dr = rB - rA\n",
    "        dc = cB - cA\n",
    "        g = gcd(dr, dc)\n",
    "        dr //= g\n",
    "        dc //= g\n",
    "\n",
    "        # We have the direction (dr, dc) from A to B, but line is infinite in both directions.\n",
    "        # We'll start from A and go both directions.\n",
    "        \n",
    "        # Include A itself\n",
    "        antinodes.add((rA, cA))\n",
    "        \n",
    "        # Go forward (k>0)\n",
    "        rP, cP = rA, cA\n",
    "        while True:\n",
    "            rP += dr\n",
    "            cP += dc\n",
    "            if 0 <= rP < rows and 0 <= cP < cols:\n",
    "                antinodes.add((rP, cP))\n",
    "            else:\n",
    "                break\n",
    "        \n",
    "        # Go backward (k<0)\n",
    "        rP, cP = rA, cA\n",
    "        while True:\n",
    "            rP -= dr\n",
    "            cP -= dc\n",
    "            if 0 <= rP < rows and 0 <= cP < cols:\n",
    "                antinodes.add((rP, cP))\n",
    "            else:\n",
    "                break\n",
    "\n",
    "    # For each frequency, consider each pair of antennas\n",
    "    for freq, coords in antennas_by_freq.items():\n",
    "        if len(coords) < 2:\n",
    "            # Only one antenna of this frequency, no line, no antinodes from it\n",
    "            continue\n",
    "        n = len(coords)\n",
    "        for i in range(n):\n",
    "            rA, cA = coords[i]\n",
    "            for j in range(i+1, n):\n",
    "                rB, cB = coords[j]\n",
    "                add_line_points(rA, cA, rB, cB)\n",
    "\n",
    "    print(len(antinodes))\n",
    "\n",
    "if __name__ == \"__main__\":\n",
    "    main()"
   ]
  },
  {
   "cell_type": "code",
   "execution_count": null,
   "id": "439313cf-dc53-4660-8d50-8c69638c5048",
   "metadata": {},
   "outputs": [],
   "source": []
  }
 ],
 "metadata": {
  "kernelspec": {
   "display_name": "Python 3 (ipykernel)",
   "language": "python",
   "name": "python3"
  },
  "language_info": {
   "codemirror_mode": {
    "name": "ipython",
    "version": 3
   },
   "file_extension": ".py",
   "mimetype": "text/x-python",
   "name": "python",
   "nbconvert_exporter": "python",
   "pygments_lexer": "ipython3",
   "version": "3.12.3"
  }
 },
 "nbformat": 4,
 "nbformat_minor": 5
}
