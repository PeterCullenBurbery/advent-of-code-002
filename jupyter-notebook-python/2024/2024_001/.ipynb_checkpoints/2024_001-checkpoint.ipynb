{
 "cells": [
  {
   "cell_type": "markdown",
   "id": "adabd971",
   "metadata": {},
   "source": [
    "# Advent of Code"
   ]
  },
  {
   "cell_type": "markdown",
   "id": "272fed95",
   "metadata": {},
   "source": [
    "## 2024-012-001\n",
    "## 2024 001"
   ]
  },
  {
   "cell_type": "markdown",
   "id": "e41fdd3d",
   "metadata": {},
   "source": [
    "https://adventofcode.com/2024/day/1"
   ]
  },
  {
   "cell_type": "code",
   "execution_count": null,
   "id": "b127b361",
   "metadata": {},
   "outputs": [],
   "source": []
  }
 ],
 "metadata": {},
 "nbformat": 4,
 "nbformat_minor": 5
}
