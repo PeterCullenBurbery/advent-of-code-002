{
 "cells": [
  {
   "cell_type": "markdown",
   "id": "adabd971",
   "metadata": {},
   "source": [
    "# Advent of Code"
   ]
  },
  {
   "cell_type": "markdown",
   "id": "272fed95",
   "metadata": {},
   "source": [
    "## 2024-012-001\n",
    "## 2024 001"
   ]
  },
  {
   "cell_type": "markdown",
   "id": "e41fdd3d",
   "metadata": {},
   "source": [
    "https://adventofcode.com/2024/day/1"
   ]
  },
  {
   "cell_type": "code",
   "execution_count": 2,
   "id": "b127b361",
   "metadata": {},
   "outputs": [
    {
     "name": "stderr",
     "output_type": "stream",
     "text": [
      "<>:11: SyntaxWarning: invalid escape sequence '\\s'\n",
      "<>:11: SyntaxWarning: invalid escape sequence '\\s'\n",
      "C:\\Users\\peter\\AppData\\Local\\Temp\\ipykernel_25384\\1188026405.py:11: SyntaxWarning: invalid escape sequence '\\s'\n",
      "  df = pd.read_csv(file_path, sep='\\s+', header=None)\n"
     ]
    },
    {
     "data": {
      "text/plain": [
       "2430334"
      ]
     },
     "execution_count": 2,
     "metadata": {},
     "output_type": "execute_result"
    }
   ],
   "source": [
    "# We need to calculate the total distance between two lists of location IDs by pairing the smallest numbers in both lists and calculating the distance.\n",
    "\n",
    "# First, let's load the data from the uploaded file and extract the two columns for comparison.\n",
    "\n",
    "import pandas as pd\n",
    "\n",
    "# Load the file\n",
    "file_path = 'input.txt'\n",
    "\n",
    "# Read the file into a dataframe\n",
    "df = pd.read_csv(file_path, sep='\\s+', header=None)\n",
    "\n",
    "# Extract the two columns into two lists\n",
    "left_list = df[0].tolist()\n",
    "right_list = df[1].tolist()\n",
    "\n",
    "# Sort both lists\n",
    "left_list.sort()\n",
    "right_list.sort()\n",
    "\n",
    "# Calculate the total distance between the two lists\n",
    "total_distance = sum(abs(left - right) for left, right in zip(left_list, right_list))\n",
    "\n",
    "total_distance"
   ]
  },
  {
   "cell_type": "code",
   "execution_count": 3,
   "id": "689c8f7c-e0e0-4cbd-b563-db8425266022",
   "metadata": {},
   "outputs": [
    {
     "data": {
      "text/plain": [
       "28786472"
      ]
     },
     "execution_count": 3,
     "metadata": {},
     "output_type": "execute_result"
    }
   ],
   "source": [
    "# Part Two: Calculate the total similarity score by adding up each number from the left list \n",
    "# multiplied by the number of times it appears in the right list.\n",
    "\n",
    "# Convert the right list into a dictionary to count occurrences of each number\n",
    "right_list_counts = pd.Series(right_list).value_counts()\n",
    "\n",
    "# Calculate the similarity score\n",
    "similarity_score = sum(left * right_list_counts.get(left, 0) for left in left_list)\n",
    "\n",
    "similarity_score"
   ]
  },
  {
   "cell_type": "code",
   "execution_count": null,
   "id": "0f1eb965-7f5d-484c-bc60-97393eb6b5e8",
   "metadata": {},
   "outputs": [],
   "source": []
  }
 ],
 "metadata": {
  "kernelspec": {
   "display_name": "Python 3 (ipykernel)",
   "language": "python",
   "name": "python3"
  },
  "language_info": {
   "codemirror_mode": {
    "name": "ipython",
    "version": 3
   },
   "file_extension": ".py",
   "mimetype": "text/x-python",
   "name": "python",
   "nbconvert_exporter": "python",
   "pygments_lexer": "ipython3",
   "version": "3.12.3"
  }
 },
 "nbformat": 4,
 "nbformat_minor": 5
}
