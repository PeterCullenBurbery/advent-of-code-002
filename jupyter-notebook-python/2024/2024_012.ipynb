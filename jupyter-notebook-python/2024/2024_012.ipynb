{
 "cells": [
  {
   "cell_type": "markdown",
   "id": "18ba7451",
   "metadata": {},
   "source": [
    "# Advent of Code"
   ]
  },
  {
   "cell_type": "markdown",
   "id": "75a635d3",
   "metadata": {},
   "source": [
    "## 2024-012-012\n",
    "## 2024 012"
   ]
  },
  {
   "cell_type": "markdown",
   "id": "c77119e9",
   "metadata": {},
   "source": [
    "https://adventofcode.com/2024/day/12"
   ]
  },
  {
   "cell_type": "code",
   "execution_count": null,
   "id": "30bd1505",
   "metadata": {},
   "outputs": [],
   "source": []
  }
 ],
 "metadata": {
  "kernelspec": {
   "display_name": "Python 3 (ipykernel)",
   "language": "python",
   "name": "python3"
  },
  "language_info": {
   "name": "python",
   "version": "3.12.3"
  }
 },
 "nbformat": 4,
 "nbformat_minor": 5
}
