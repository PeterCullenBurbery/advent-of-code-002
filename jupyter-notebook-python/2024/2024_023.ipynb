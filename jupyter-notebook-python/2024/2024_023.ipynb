{
 "cells": [
  {
   "cell_type": "markdown",
   "id": "1c7c23ed",
   "metadata": {},
   "source": [
    "# Advent of Code"
   ]
  },
  {
   "cell_type": "markdown",
   "id": "fa22881f",
   "metadata": {},
   "source": [
    "## 2024-012-023\n",
    "## 2024 023"
   ]
  },
  {
   "cell_type": "markdown",
   "id": "4c9152ac",
   "metadata": {},
   "source": [
    "https://adventofcode.com/2024/day/23"
   ]
  },
  {
   "cell_type": "code",
   "execution_count": null,
   "id": "35470391",
   "metadata": {},
   "outputs": [],
   "source": []
  }
 ],
 "metadata": {
  "kernelspec": {
   "display_name": "Python 3 (ipykernel)",
   "language": "python",
   "name": "python3"
  },
  "language_info": {
   "name": "python",
   "version": "3.12.3"
  }
 },
 "nbformat": 4,
 "nbformat_minor": 5
}
