{
 "cells": [
  {
   "cell_type": "markdown",
   "id": "0fe2161f",
   "metadata": {},
   "source": [
    "# Advent of Code"
   ]
  },
  {
   "cell_type": "markdown",
   "id": "3b716769",
   "metadata": {},
   "source": [
    "## 2024-012-017\n",
    "## 2024 017"
   ]
  },
  {
   "cell_type": "markdown",
   "id": "a033dca1",
   "metadata": {},
   "source": [
    "https://adventofcode.com/2024/day/17"
   ]
  },
  {
   "cell_type": "code",
   "execution_count": null,
   "id": "843f5353",
   "metadata": {},
   "outputs": [],
   "source": []
  }
 ],
 "metadata": {},
 "nbformat": 4,
 "nbformat_minor": 5
}
