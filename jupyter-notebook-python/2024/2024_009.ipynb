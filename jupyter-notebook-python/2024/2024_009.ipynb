{
 "cells": [
  {
   "cell_type": "markdown",
   "id": "5a144f72",
   "metadata": {},
   "source": [
    "# Advent of Code"
   ]
  },
  {
   "cell_type": "markdown",
   "id": "fe61d956",
   "metadata": {},
   "source": [
    "## 2024-012-009\n",
    "## 2024 009"
   ]
  },
  {
   "cell_type": "markdown",
   "id": "05ccdca6",
   "metadata": {},
   "source": [
    "https://adventofcode.com/2024/day/9"
   ]
  },
  {
   "cell_type": "code",
   "execution_count": null,
   "id": "728b45ef",
   "metadata": {},
   "outputs": [],
   "source": []
  }
 ],
 "metadata": {
  "kernelspec": {
   "display_name": "Python 3 (ipykernel)",
   "language": "python",
   "name": "python3"
  },
  "language_info": {
   "name": "python",
   "version": "3.12.3"
  }
 },
 "nbformat": 4,
 "nbformat_minor": 5
}
