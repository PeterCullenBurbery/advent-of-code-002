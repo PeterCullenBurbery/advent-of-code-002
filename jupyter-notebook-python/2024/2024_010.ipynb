{
 "cells": [
  {
   "cell_type": "markdown",
   "id": "66f48efc",
   "metadata": {},
   "source": [
    "# Advent of Code"
   ]
  },
  {
   "cell_type": "markdown",
   "id": "486da08b",
   "metadata": {},
   "source": [
    "## 2024-012-010\n",
    "## 2024 010"
   ]
  },
  {
   "cell_type": "markdown",
   "id": "8ce43381",
   "metadata": {},
   "source": [
    "https://adventofcode.com/2024/day/10"
   ]
  },
  {
   "cell_type": "code",
   "execution_count": null,
   "id": "c3067775",
   "metadata": {},
   "outputs": [],
   "source": []
  }
 ],
 "metadata": {
  "kernelspec": {
   "display_name": "Python 3 (ipykernel)",
   "language": "python",
   "name": "python3"
  },
  "language_info": {
   "name": "python",
   "version": "3.12.3"
  }
 },
 "nbformat": 4,
 "nbformat_minor": 5
}
