{
 "cells": [
  {
   "cell_type": "markdown",
   "id": "7ec7cdc3",
   "metadata": {},
   "source": [
    "# Advent of Code"
   ]
  },
  {
   "cell_type": "markdown",
   "id": "1395e3af",
   "metadata": {},
   "source": [
    "## 2024-012-024\n",
    "## 2024 024"
   ]
  },
  {
   "cell_type": "markdown",
   "id": "27792912",
   "metadata": {},
   "source": [
    "https://adventofcode.com/2024/day/24"
   ]
  },
  {
   "cell_type": "code",
   "execution_count": null,
   "id": "06ea93d4",
   "metadata": {},
   "outputs": [],
   "source": []
  }
 ],
 "metadata": {
  "kernelspec": {
   "display_name": "Python 3 (ipykernel)",
   "language": "python",
   "name": "python3"
  },
  "language_info": {
   "name": "python",
   "version": "3.12.3"
  }
 },
 "nbformat": 4,
 "nbformat_minor": 5
}
