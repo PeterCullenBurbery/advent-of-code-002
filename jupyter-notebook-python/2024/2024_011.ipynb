{
 "cells": [
  {
   "cell_type": "markdown",
   "id": "7f340984",
   "metadata": {},
   "source": [
    "# Advent of Code"
   ]
  },
  {
   "cell_type": "markdown",
   "id": "67062cf3",
   "metadata": {},
   "source": [
    "## 2024-012-011\n",
    "## 2024 011"
   ]
  },
  {
   "cell_type": "markdown",
   "id": "42c3df05",
   "metadata": {},
   "source": [
    "https://adventofcode.com/2024/day/11"
   ]
  },
  {
   "cell_type": "code",
   "execution_count": null,
   "id": "a8842a43",
   "metadata": {},
   "outputs": [],
   "source": []
  }
 ],
 "metadata": {
  "kernelspec": {
   "display_name": "Python 3 (ipykernel)",
   "language": "python",
   "name": "python3"
  },
  "language_info": {
   "name": "python",
   "version": "3.12.3"
  }
 },
 "nbformat": 4,
 "nbformat_minor": 5
}
