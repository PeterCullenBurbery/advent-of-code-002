{
 "cells": [
  {
   "cell_type": "markdown",
   "id": "cdfcfd7d",
   "metadata": {},
   "source": [
    "# Advent of Code"
   ]
  },
  {
   "cell_type": "markdown",
   "id": "2e185b06",
   "metadata": {},
   "source": [
    "## 2024-012-015\n",
    "## 2024 015"
   ]
  },
  {
   "cell_type": "markdown",
   "id": "0d8dad4e",
   "metadata": {},
   "source": [
    "https://adventofcode.com/2024/day/15"
   ]
  },
  {
   "cell_type": "code",
   "execution_count": null,
   "id": "db2d5e69",
   "metadata": {},
   "outputs": [],
   "source": []
  }
 ],
 "metadata": {},
 "nbformat": 4,
 "nbformat_minor": 5
}
