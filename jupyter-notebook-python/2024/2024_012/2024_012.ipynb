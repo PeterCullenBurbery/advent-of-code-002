{
 "cells": [
  {
   "cell_type": "markdown",
   "id": "d9895445",
   "metadata": {},
   "source": [
    "# Advent of Code"
   ]
  },
  {
   "cell_type": "markdown",
   "id": "6a3dbbe6",
   "metadata": {},
   "source": [
    "## 2024-012-012\n",
    "## 2024 012"
   ]
  },
  {
   "cell_type": "markdown",
   "id": "0a868b05",
   "metadata": {},
   "source": [
    "https://adventofcode.com/2024/day/12"
   ]
  },
  {
   "cell_type": "code",
   "execution_count": null,
   "id": "b4607bc7",
   "metadata": {},
   "outputs": [],
   "source": []
  }
 ],
 "metadata": {},
 "nbformat": 4,
 "nbformat_minor": 5
}
