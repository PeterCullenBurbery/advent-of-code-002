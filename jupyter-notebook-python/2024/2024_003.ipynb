{
 "cells": [
  {
   "cell_type": "markdown",
   "id": "d387f467",
   "metadata": {},
   "source": [
    "# Advent of Code"
   ]
  },
  {
   "cell_type": "markdown",
   "id": "4b5021bb",
   "metadata": {},
   "source": [
    "## 2024-012-003\n",
    "## 2024 003"
   ]
  },
  {
   "cell_type": "markdown",
   "id": "d4a50417",
   "metadata": {},
   "source": [
    "https://adventofcode.com/2024/day/3"
   ]
  },
  {
   "cell_type": "code",
   "execution_count": null,
   "id": "6b5121be",
   "metadata": {},
   "outputs": [],
   "source": []
  }
 ],
 "metadata": {
  "kernelspec": {
   "display_name": "Python 3 (ipykernel)",
   "language": "python",
   "name": "python3"
  },
  "language_info": {
   "name": "python",
   "version": "3.12.3"
  }
 },
 "nbformat": 4,
 "nbformat_minor": 5
}
