{
 "cells": [
  {
   "cell_type": "markdown",
   "id": "a5e396dd",
   "metadata": {},
   "source": [
    "# Advent of Code"
   ]
  },
  {
   "cell_type": "markdown",
   "id": "ddb90455",
   "metadata": {},
   "source": [
    "## 2024-012-018\n",
    "## 2024 018"
   ]
  },
  {
   "cell_type": "markdown",
   "id": "4bfb104e",
   "metadata": {},
   "source": [
    "https://adventofcode.com/2024/day/18"
   ]
  },
  {
   "cell_type": "code",
   "execution_count": null,
   "id": "df0bcd6d",
   "metadata": {},
   "outputs": [],
   "source": []
  }
 ],
 "metadata": {
  "kernelspec": {
   "display_name": "Python 3 (ipykernel)",
   "language": "python",
   "name": "python3"
  },
  "language_info": {
   "name": "python",
   "version": "3.12.3"
  }
 },
 "nbformat": 4,
 "nbformat_minor": 5
}
