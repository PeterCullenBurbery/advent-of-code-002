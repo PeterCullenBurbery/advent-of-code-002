{
 "cells": [
  {
   "cell_type": "markdown",
   "id": "f286c824",
   "metadata": {},
   "source": [
    "# Advent of Code"
   ]
  },
  {
   "cell_type": "markdown",
   "id": "15eb2085",
   "metadata": {},
   "source": [
    "## 2024-012-025\n",
    "## 2024 025"
   ]
  },
  {
   "cell_type": "markdown",
   "id": "aa1eeb1d",
   "metadata": {},
   "source": [
    "https://adventofcode.com/2024/day/25"
   ]
  },
  {
   "cell_type": "code",
   "execution_count": null,
   "id": "69cd2d48",
   "metadata": {},
   "outputs": [],
   "source": []
  }
 ],
 "metadata": {
  "kernelspec": {
   "display_name": "Python 3 (ipykernel)",
   "language": "python",
   "name": "python3"
  },
  "language_info": {
   "name": "python",
   "version": "3.12.3"
  }
 },
 "nbformat": 4,
 "nbformat_minor": 5
}
