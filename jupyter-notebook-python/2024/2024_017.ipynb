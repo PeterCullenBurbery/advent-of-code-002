{
 "cells": [
  {
   "cell_type": "markdown",
   "id": "2e6e36d0",
   "metadata": {},
   "source": [
    "# Advent of Code"
   ]
  },
  {
   "cell_type": "markdown",
   "id": "55b0c47a",
   "metadata": {},
   "source": [
    "## 2024-012-017\n",
    "## 2024 017"
   ]
  },
  {
   "cell_type": "markdown",
   "id": "55bc3ace",
   "metadata": {},
   "source": [
    "https://adventofcode.com/2024/day/17"
   ]
  },
  {
   "cell_type": "code",
   "execution_count": null,
   "id": "6280aa40",
   "metadata": {},
   "outputs": [],
   "source": []
  }
 ],
 "metadata": {
  "kernelspec": {
   "display_name": "Python 3 (ipykernel)",
   "language": "python",
   "name": "python3"
  },
  "language_info": {
   "name": "python",
   "version": "3.12.3"
  }
 },
 "nbformat": 4,
 "nbformat_minor": 5
}
