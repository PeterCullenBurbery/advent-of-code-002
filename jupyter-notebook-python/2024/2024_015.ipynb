{
 "cells": [
  {
   "cell_type": "markdown",
   "id": "b6d954af",
   "metadata": {},
   "source": [
    "# Advent of Code"
   ]
  },
  {
   "cell_type": "markdown",
   "id": "002b3edb",
   "metadata": {},
   "source": [
    "## 2024-012-015\n",
    "## 2024 015"
   ]
  },
  {
   "cell_type": "markdown",
   "id": "a1f64549",
   "metadata": {},
   "source": [
    "https://adventofcode.com/2024/day/15"
   ]
  },
  {
   "cell_type": "code",
   "execution_count": null,
   "id": "55b527fa",
   "metadata": {},
   "outputs": [],
   "source": []
  }
 ],
 "metadata": {
  "kernelspec": {
   "display_name": "Python 3 (ipykernel)",
   "language": "python",
   "name": "python3"
  },
  "language_info": {
   "name": "python",
   "version": "3.12.3"
  }
 },
 "nbformat": 4,
 "nbformat_minor": 5
}
