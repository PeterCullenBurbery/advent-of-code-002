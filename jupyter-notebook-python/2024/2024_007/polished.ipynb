{
 "cells": [
  {
   "cell_type": "code",
   "execution_count": 1,
   "id": "e2685b9e-1fca-44ef-b4bc-20e3ed10e28c",
   "metadata": {},
   "outputs": [
    {
     "name": "stdout",
     "output_type": "stream",
     "text": [
      "Starting part 001...\n",
      "Part 1 finished in 0.256577253 s\n",
      "Part 1 Total Calibration Result: 1399219271639\n",
      "Starting part 002...\n",
      "\n",
      "Progress  Interval            Cumulative1         Cumulative2         \n",
      "----------------------------------------------------------------------\n",
      "85/850     2.834986687        2.834986687           3.091563940\n",
      "170/850     1.442319393        4.277306080           4.533883333\n",
      "255/850     2.703976870        6.981282949           7.237860203\n",
      "340/850     2.925035238        9.906318188           10.162895441\n",
      "425/850     1.638487101        11.544805288           11.801382542\n",
      "510/850     2.956890583        14.501695871           14.758273125\n",
      "595/850     2.349478006        16.851173878           17.107751131\n",
      "680/850     1.185925245        18.037099123           18.293676376\n",
      "765/850     3.431892157        21.468991280           21.725568533\n",
      "850/850     3.219519377        24.688510656           24.945087910\n",
      "\n",
      "Part 2 finished in 24.688510656 s, cumulative time 24.945087910 s\n",
      "Part 2 Total Calibration Result: 275791737999003\n"
     ]
    }
   ],
   "source": [
    "import itertools\n",
    "import time\n",
    "\n",
    "def evaluate_left_to_right(numbers, ops):\n",
    "    \"\"\"Evaluates an expression left-to-right given numbers and operators.\"\"\"\n",
    "    result = numbers[0]\n",
    "    for i, op in enumerate(ops):\n",
    "        if op == '+':\n",
    "            result += numbers[i + 1]\n",
    "        elif op == '*':\n",
    "            result *= numbers[i + 1]\n",
    "    return result\n",
    "\n",
    "def evaluate_with_concat(numbers, ops):\n",
    "    \"\"\"Evaluates an expression left-to-right with +, *, and || operators.\"\"\"\n",
    "    result = numbers[0]\n",
    "    for i, op in enumerate(ops):\n",
    "        if op == '+':\n",
    "            result += numbers[i + 1]\n",
    "        elif op == '*':\n",
    "            result *= numbers[i + 1]\n",
    "        elif op == '||':\n",
    "            # Concatenate the numbers\n",
    "            result = int(str(result) + str(numbers[i + 1]))\n",
    "    return result\n",
    "\n",
    "def parse_input(file_path):\n",
    "    \"\"\"Parses the input file into a list of test cases.\"\"\"\n",
    "    test_cases = []\n",
    "    with open(file_path, 'r') as file:\n",
    "        for line in file:\n",
    "            if ':' not in line:\n",
    "                continue\n",
    "            target, numbers = line.strip().split(':')\n",
    "            target = int(target.strip())\n",
    "            numbers = list(map(int, numbers.strip().split()))\n",
    "            test_cases.append((target, numbers))\n",
    "    return test_cases\n",
    "\n",
    "def solve_part_one(test_cases):\n",
    "    \"\"\"Solves Part 1 using only + and * operators.\"\"\"\n",
    "    valid_test_values = []\n",
    "    operators = ['+', '*']\n",
    "    for target, numbers in test_cases:\n",
    "        possible = False\n",
    "        for ops in itertools.product(operators, repeat=len(numbers) - 1):\n",
    "            if evaluate_left_to_right(numbers, ops) == target:\n",
    "                possible = True\n",
    "                break\n",
    "        if possible:\n",
    "            valid_test_values.append(target)\n",
    "    return sum(valid_test_values)\n",
    "\n",
    "def solve_part_two(test_cases, part_one_time):\n",
    "    \"\"\"Solves Part 2 using +, *, and || operators with detailed progress reporting.\"\"\"\n",
    "    valid_test_values = []\n",
    "    operators = ['+', '*', '||']\n",
    "    total_cases = len(test_cases)\n",
    "    cumulative1 = 0.0  # Total elapsed time for Part 2 progress\n",
    "    progress_interval = total_cases // 10  # Divide work into 10 intervals\n",
    "\n",
    "    print(f\"\\n{'Progress':<10}{'Interval':<20}{'Cumulative1':<20}{'Cumulative2':<20}\")\n",
    "    print(\"-\" * 70)\n",
    "\n",
    "    start_time = time.time()\n",
    "    for index, (target, numbers) in enumerate(test_cases):\n",
    "        possible = False\n",
    "        for ops in itertools.product(operators, repeat=len(numbers) - 1):\n",
    "            if evaluate_with_concat(numbers, ops) == target:\n",
    "                possible = True\n",
    "                break\n",
    "        if possible:\n",
    "            valid_test_values.append(target)\n",
    "\n",
    "        # Progress reporting\n",
    "        if (index + 1) % progress_interval == 0 or (index + 1) == total_cases:\n",
    "            interval_elapsed = time.time() - start_time\n",
    "            cumulative1 += interval_elapsed\n",
    "            cumulative2 = part_one_time + cumulative1\n",
    "\n",
    "            if cumulative1 == interval_elapsed:  # First progress report\n",
    "                # print(f\"{index + 1}/{total_cases:<5}{interval_elapsed:,.9f} {' ':<20}{cumulative2:,.9f}\")\n",
    "                print(f\"{index + 1}/{total_cases:<8}{interval_elapsed:,.9f}        {cumulative1:,.9f} {' ':<10}{cumulative2:,.9f}\")\n",
    "            else:  # Subsequent progress reports\n",
    "                print(f\"{index + 1}/{total_cases:<8}{interval_elapsed:,.9f}        {cumulative1:,.9f} {' ':<10}{cumulative2:,.9f}\")\n",
    "            start_time = time.time()  # Reset timer for next interval\n",
    "\n",
    "    return sum(valid_test_values), cumulative2\n",
    "\n",
    "if __name__ == \"__main__\":\n",
    "    # Update file_path with the input file location\n",
    "    file_path = \"input.txt\"  # Change this to your actual input file\n",
    "\n",
    "    # Parse the input\n",
    "    test_cases = parse_input(file_path)\n",
    "\n",
    "    # Solve Part 1\n",
    "    print(\"Starting part 001...\")\n",
    "    start_time = time.time()\n",
    "    part_one_result = solve_part_one(test_cases)\n",
    "    part_one_time = time.time() - start_time\n",
    "    print(f\"Part 1 finished in {part_one_time:,.9f} s\")\n",
    "    print(f\"Part 1 Total Calibration Result: {part_one_result}\")\n",
    "\n",
    "    # Solve Part 2\n",
    "    print(\"Starting part 002...\")\n",
    "    part_two_result, cumulative_time = solve_part_two(test_cases, part_one_time)\n",
    "    part_two_time = cumulative_time - part_one_time\n",
    "    print(f\"\\nPart 2 finished in {part_two_time:,.9f} s, cumulative time {cumulative_time:,.9f} s\")\n",
    "    print(f\"Part 2 Total Calibration Result: {part_two_result}\")"
   ]
  },
  {
   "cell_type": "code",
   "execution_count": 2,
   "id": "1d940587-87d7-4e59-bdcc-5648527e36ad",
   "metadata": {},
   "outputs": [
    {
     "data": {
      "text/html": [
       "<pre style=\"white-space:pre;overflow-x:auto;line-height:normal;font-family:Menlo,'DejaVu Sans Mono',consolas,'Courier New',monospace\"><span style=\"color: #008000; text-decoration-color: #008000; font-weight: bold\">Starting part </span><span style=\"color: #008080; text-decoration-color: #008080; font-weight: bold\">001</span><span style=\"color: #808000; text-decoration-color: #808000; font-weight: bold\">...</span>\n",
       "</pre>\n"
      ],
      "text/plain": [
       "\u001b[1;32mStarting part \u001b[0m\u001b[1;36m001\u001b[0m\u001b[1;33m...\u001b[0m\n"
      ]
     },
     "metadata": {},
     "output_type": "display_data"
    },
    {
     "data": {
      "text/html": [
       "<pre style=\"white-space:pre;overflow-x:auto;line-height:normal;font-family:Menlo,'DejaVu Sans Mono',consolas,'Courier New',monospace\"><span style=\"color: #000080; text-decoration-color: #000080; font-weight: bold\">Part </span><span style=\"color: #008080; text-decoration-color: #008080; font-weight: bold\">1</span><span style=\"color: #000080; text-decoration-color: #000080; font-weight: bold\"> finished in </span><span style=\"color: #008080; text-decoration-color: #008080; font-weight: bold\">0.231737614</span><span style=\"color: #000080; text-decoration-color: #000080; font-weight: bold\"> s</span>\n",
       "</pre>\n"
      ],
      "text/plain": [
       "\u001b[1;34mPart \u001b[0m\u001b[1;36m1\u001b[0m\u001b[1;34m finished in \u001b[0m\u001b[1;36m0.231737614\u001b[0m\u001b[1;34m s\u001b[0m\n"
      ]
     },
     "metadata": {},
     "output_type": "display_data"
    },
    {
     "data": {
      "text/html": [
       "<pre style=\"white-space:pre;overflow-x:auto;line-height:normal;font-family:Menlo,'DejaVu Sans Mono',consolas,'Courier New',monospace\"><span style=\"color: #808000; text-decoration-color: #808000; font-weight: bold\">Part </span><span style=\"color: #008080; text-decoration-color: #008080; font-weight: bold\">1</span><span style=\"color: #808000; text-decoration-color: #808000; font-weight: bold\"> Total Calibration Result: </span><span style=\"color: #008080; text-decoration-color: #008080; font-weight: bold\">1399219271639</span>\n",
       "</pre>\n"
      ],
      "text/plain": [
       "\u001b[1;33mPart \u001b[0m\u001b[1;36m1\u001b[0m\u001b[1;33m Total Calibration Result: \u001b[0m\u001b[1;36m1399219271639\u001b[0m\n"
      ]
     },
     "metadata": {},
     "output_type": "display_data"
    },
    {
     "data": {
      "text/html": [
       "<pre style=\"white-space:pre;overflow-x:auto;line-height:normal;font-family:Menlo,'DejaVu Sans Mono',consolas,'Courier New',monospace\">\n",
       "<span style=\"color: #008000; text-decoration-color: #008000; font-weight: bold\">Starting part </span><span style=\"color: #008080; text-decoration-color: #008080; font-weight: bold\">002</span><span style=\"color: #808000; text-decoration-color: #808000; font-weight: bold\">...</span>\n",
       "</pre>\n"
      ],
      "text/plain": [
       "\n",
       "\u001b[1;32mStarting part \u001b[0m\u001b[1;36m002\u001b[0m\u001b[1;33m...\u001b[0m\n"
      ]
     },
     "metadata": {},
     "output_type": "display_data"
    },
    {
     "data": {
      "text/html": [
       "<pre style=\"white-space:pre;overflow-x:auto;line-height:normal;font-family:Menlo,'DejaVu Sans Mono',consolas,'Courier New',monospace\"><span style=\"font-style: italic\">                  Progress Table                   </span>\n",
       "┏━━━━━━━━━━┳━━━━━━━━━━┳━━━━━━━━━━━━━┳━━━━━━━━━━━━━┓\n",
       "┃<span style=\"font-weight: bold\"> Progress </span>┃<span style=\"font-weight: bold\"> Interval </span>┃<span style=\"font-weight: bold\"> Cumulative1 </span>┃<span style=\"font-weight: bold\"> Cumulative2 </span>┃\n",
       "┡━━━━━━━━━━╇━━━━━━━━━━╇━━━━━━━━━━━━━╇━━━━━━━━━━━━━┩\n",
       "└──────────┴──────────┴─────────────┴─────────────┘\n",
       "</pre>\n"
      ],
      "text/plain": [
       "\u001b[3m                  Progress Table                   \u001b[0m\n",
       "┏━━━━━━━━━━┳━━━━━━━━━━┳━━━━━━━━━━━━━┳━━━━━━━━━━━━━┓\n",
       "┃\u001b[1m \u001b[0m\u001b[1mProgress\u001b[0m\u001b[1m \u001b[0m┃\u001b[1m \u001b[0m\u001b[1mInterval\u001b[0m\u001b[1m \u001b[0m┃\u001b[1m \u001b[0m\u001b[1mCumulative1\u001b[0m\u001b[1m \u001b[0m┃\u001b[1m \u001b[0m\u001b[1mCumulative2\u001b[0m\u001b[1m \u001b[0m┃\n",
       "┡━━━━━━━━━━╇━━━━━━━━━━╇━━━━━━━━━━━━━╇━━━━━━━━━━━━━┩\n",
       "└──────────┴──────────┴─────────────┴─────────────┘\n"
      ]
     },
     "metadata": {},
     "output_type": "display_data"
    },
    {
     "data": {
      "text/html": [
       "<pre style=\"white-space:pre;overflow-x:auto;line-height:normal;font-family:Menlo,'DejaVu Sans Mono',consolas,'Courier New',monospace\"><span style=\"font-style: italic\">                       Progress Table                       </span>\n",
       "┏━━━━━━━━━━┳━━━━━━━━━━━━━━━┳━━━━━━━━━━━━━━━┳━━━━━━━━━━━━━━━┓\n",
       "┃<span style=\"font-weight: bold\"> Progress </span>┃<span style=\"font-weight: bold\">      Interval </span>┃<span style=\"font-weight: bold\">   Cumulative1 </span>┃<span style=\"font-weight: bold\">   Cumulative2 </span>┃\n",
       "┡━━━━━━━━━━╇━━━━━━━━━━━━━━━╇━━━━━━━━━━━━━━━╇━━━━━━━━━━━━━━━┩\n",
       "│   85/850 │ 2.644606352 s │ 2.644606352 s │ 2.876343966 s │\n",
       "└──────────┴───────────────┴───────────────┴───────────────┘\n",
       "</pre>\n"
      ],
      "text/plain": [
       "\u001b[3m                       Progress Table                       \u001b[0m\n",
       "┏━━━━━━━━━━┳━━━━━━━━━━━━━━━┳━━━━━━━━━━━━━━━┳━━━━━━━━━━━━━━━┓\n",
       "┃\u001b[1m \u001b[0m\u001b[1mProgress\u001b[0m\u001b[1m \u001b[0m┃\u001b[1m \u001b[0m\u001b[1m     Interval\u001b[0m\u001b[1m \u001b[0m┃\u001b[1m \u001b[0m\u001b[1m  Cumulative1\u001b[0m\u001b[1m \u001b[0m┃\u001b[1m \u001b[0m\u001b[1m  Cumulative2\u001b[0m\u001b[1m \u001b[0m┃\n",
       "┡━━━━━━━━━━╇━━━━━━━━━━━━━━━╇━━━━━━━━━━━━━━━╇━━━━━━━━━━━━━━━┩\n",
       "│   85/850 │ 2.644606352 s │ 2.644606352 s │ 2.876343966 s │\n",
       "└──────────┴───────────────┴───────────────┴───────────────┘\n"
      ]
     },
     "metadata": {},
     "output_type": "display_data"
    },
    {
     "data": {
      "text/html": [
       "<pre style=\"white-space:pre;overflow-x:auto;line-height:normal;font-family:Menlo,'DejaVu Sans Mono',consolas,'Courier New',monospace\"><span style=\"font-style: italic\">                       Progress Table                       </span>\n",
       "┏━━━━━━━━━━┳━━━━━━━━━━━━━━━┳━━━━━━━━━━━━━━━┳━━━━━━━━━━━━━━━┓\n",
       "┃<span style=\"font-weight: bold\"> Progress </span>┃<span style=\"font-weight: bold\">      Interval </span>┃<span style=\"font-weight: bold\">   Cumulative1 </span>┃<span style=\"font-weight: bold\">   Cumulative2 </span>┃\n",
       "┡━━━━━━━━━━╇━━━━━━━━━━━━━━━╇━━━━━━━━━━━━━━━╇━━━━━━━━━━━━━━━┩\n",
       "│   85/850 │ 2.644606352 s │ 2.644606352 s │ 2.876343966 s │\n",
       "│  170/850 │ 1.501820564 s │ 4.146426916 s │ 4.378164530 s │\n",
       "└──────────┴───────────────┴───────────────┴───────────────┘\n",
       "</pre>\n"
      ],
      "text/plain": [
       "\u001b[3m                       Progress Table                       \u001b[0m\n",
       "┏━━━━━━━━━━┳━━━━━━━━━━━━━━━┳━━━━━━━━━━━━━━━┳━━━━━━━━━━━━━━━┓\n",
       "┃\u001b[1m \u001b[0m\u001b[1mProgress\u001b[0m\u001b[1m \u001b[0m┃\u001b[1m \u001b[0m\u001b[1m     Interval\u001b[0m\u001b[1m \u001b[0m┃\u001b[1m \u001b[0m\u001b[1m  Cumulative1\u001b[0m\u001b[1m \u001b[0m┃\u001b[1m \u001b[0m\u001b[1m  Cumulative2\u001b[0m\u001b[1m \u001b[0m┃\n",
       "┡━━━━━━━━━━╇━━━━━━━━━━━━━━━╇━━━━━━━━━━━━━━━╇━━━━━━━━━━━━━━━┩\n",
       "│   85/850 │ 2.644606352 s │ 2.644606352 s │ 2.876343966 s │\n",
       "│  170/850 │ 1.501820564 s │ 4.146426916 s │ 4.378164530 s │\n",
       "└──────────┴───────────────┴───────────────┴───────────────┘\n"
      ]
     },
     "metadata": {},
     "output_type": "display_data"
    },
    {
     "data": {
      "text/html": [
       "<pre style=\"white-space:pre;overflow-x:auto;line-height:normal;font-family:Menlo,'DejaVu Sans Mono',consolas,'Courier New',monospace\"><span style=\"font-style: italic\">                       Progress Table                       </span>\n",
       "┏━━━━━━━━━━┳━━━━━━━━━━━━━━━┳━━━━━━━━━━━━━━━┳━━━━━━━━━━━━━━━┓\n",
       "┃<span style=\"font-weight: bold\"> Progress </span>┃<span style=\"font-weight: bold\">      Interval </span>┃<span style=\"font-weight: bold\">   Cumulative1 </span>┃<span style=\"font-weight: bold\">   Cumulative2 </span>┃\n",
       "┡━━━━━━━━━━╇━━━━━━━━━━━━━━━╇━━━━━━━━━━━━━━━╇━━━━━━━━━━━━━━━┩\n",
       "│   85/850 │ 2.644606352 s │ 2.644606352 s │ 2.876343966 s │\n",
       "│  170/850 │ 1.501820564 s │ 4.146426916 s │ 4.378164530 s │\n",
       "│  255/850 │ 2.961053371 s │ 7.107480288 s │ 7.339217901 s │\n",
       "└──────────┴───────────────┴───────────────┴───────────────┘\n",
       "</pre>\n"
      ],
      "text/plain": [
       "\u001b[3m                       Progress Table                       \u001b[0m\n",
       "┏━━━━━━━━━━┳━━━━━━━━━━━━━━━┳━━━━━━━━━━━━━━━┳━━━━━━━━━━━━━━━┓\n",
       "┃\u001b[1m \u001b[0m\u001b[1mProgress\u001b[0m\u001b[1m \u001b[0m┃\u001b[1m \u001b[0m\u001b[1m     Interval\u001b[0m\u001b[1m \u001b[0m┃\u001b[1m \u001b[0m\u001b[1m  Cumulative1\u001b[0m\u001b[1m \u001b[0m┃\u001b[1m \u001b[0m\u001b[1m  Cumulative2\u001b[0m\u001b[1m \u001b[0m┃\n",
       "┡━━━━━━━━━━╇━━━━━━━━━━━━━━━╇━━━━━━━━━━━━━━━╇━━━━━━━━━━━━━━━┩\n",
       "│   85/850 │ 2.644606352 s │ 2.644606352 s │ 2.876343966 s │\n",
       "│  170/850 │ 1.501820564 s │ 4.146426916 s │ 4.378164530 s │\n",
       "│  255/850 │ 2.961053371 s │ 7.107480288 s │ 7.339217901 s │\n",
       "└──────────┴───────────────┴───────────────┴───────────────┘\n"
      ]
     },
     "metadata": {},
     "output_type": "display_data"
    },
    {
     "data": {
      "text/html": [
       "<pre style=\"white-space:pre;overflow-x:auto;line-height:normal;font-family:Menlo,'DejaVu Sans Mono',consolas,'Courier New',monospace\"><span style=\"font-style: italic\">                       Progress Table                       </span>\n",
       "┏━━━━━━━━━━┳━━━━━━━━━━━━━━━┳━━━━━━━━━━━━━━━┳━━━━━━━━━━━━━━━┓\n",
       "┃<span style=\"font-weight: bold\"> Progress </span>┃<span style=\"font-weight: bold\">      Interval </span>┃<span style=\"font-weight: bold\">   Cumulative1 </span>┃<span style=\"font-weight: bold\">   Cumulative2 </span>┃\n",
       "┡━━━━━━━━━━╇━━━━━━━━━━━━━━━╇━━━━━━━━━━━━━━━╇━━━━━━━━━━━━━━━┩\n",
       "│   85/850 │ 2.644606352 s │ 2.644606352 s │ 2.876343966 s │\n",
       "│  170/850 │ 1.501820564 s │ 4.146426916 s │ 4.378164530 s │\n",
       "│  255/850 │ 2.961053371 s │ 7.107480288 s │ 7.339217901 s │\n",
       "│  340/850 │ 2.166792631 s │ 9.274272919 s │ 9.506010532 s │\n",
       "└──────────┴───────────────┴───────────────┴───────────────┘\n",
       "</pre>\n"
      ],
      "text/plain": [
       "\u001b[3m                       Progress Table                       \u001b[0m\n",
       "┏━━━━━━━━━━┳━━━━━━━━━━━━━━━┳━━━━━━━━━━━━━━━┳━━━━━━━━━━━━━━━┓\n",
       "┃\u001b[1m \u001b[0m\u001b[1mProgress\u001b[0m\u001b[1m \u001b[0m┃\u001b[1m \u001b[0m\u001b[1m     Interval\u001b[0m\u001b[1m \u001b[0m┃\u001b[1m \u001b[0m\u001b[1m  Cumulative1\u001b[0m\u001b[1m \u001b[0m┃\u001b[1m \u001b[0m\u001b[1m  Cumulative2\u001b[0m\u001b[1m \u001b[0m┃\n",
       "┡━━━━━━━━━━╇━━━━━━━━━━━━━━━╇━━━━━━━━━━━━━━━╇━━━━━━━━━━━━━━━┩\n",
       "│   85/850 │ 2.644606352 s │ 2.644606352 s │ 2.876343966 s │\n",
       "│  170/850 │ 1.501820564 s │ 4.146426916 s │ 4.378164530 s │\n",
       "│  255/850 │ 2.961053371 s │ 7.107480288 s │ 7.339217901 s │\n",
       "│  340/850 │ 2.166792631 s │ 9.274272919 s │ 9.506010532 s │\n",
       "└──────────┴───────────────┴───────────────┴───────────────┘\n"
      ]
     },
     "metadata": {},
     "output_type": "display_data"
    },
    {
     "data": {
      "text/html": [
       "<pre style=\"white-space:pre;overflow-x:auto;line-height:normal;font-family:Menlo,'DejaVu Sans Mono',consolas,'Courier New',monospace\"><span style=\"font-style: italic\">                        Progress Table                        </span>\n",
       "┏━━━━━━━━━━┳━━━━━━━━━━━━━━━┳━━━━━━━━━━━━━━━━┳━━━━━━━━━━━━━━━━┓\n",
       "┃<span style=\"font-weight: bold\"> Progress </span>┃<span style=\"font-weight: bold\">      Interval </span>┃<span style=\"font-weight: bold\">    Cumulative1 </span>┃<span style=\"font-weight: bold\">    Cumulative2 </span>┃\n",
       "┡━━━━━━━━━━╇━━━━━━━━━━━━━━━╇━━━━━━━━━━━━━━━━╇━━━━━━━━━━━━━━━━┩\n",
       "│   85/850 │ 2.644606352 s │  2.644606352 s │  2.876343966 s │\n",
       "│  170/850 │ 1.501820564 s │  4.146426916 s │  4.378164530 s │\n",
       "│  255/850 │ 2.961053371 s │  7.107480288 s │  7.339217901 s │\n",
       "│  340/850 │ 2.166792631 s │  9.274272919 s │  9.506010532 s │\n",
       "│  425/850 │ 1.725260496 s │ 10.999533415 s │ 11.231271029 s │\n",
       "└──────────┴───────────────┴────────────────┴────────────────┘\n",
       "</pre>\n"
      ],
      "text/plain": [
       "\u001b[3m                        Progress Table                        \u001b[0m\n",
       "┏━━━━━━━━━━┳━━━━━━━━━━━━━━━┳━━━━━━━━━━━━━━━━┳━━━━━━━━━━━━━━━━┓\n",
       "┃\u001b[1m \u001b[0m\u001b[1mProgress\u001b[0m\u001b[1m \u001b[0m┃\u001b[1m \u001b[0m\u001b[1m     Interval\u001b[0m\u001b[1m \u001b[0m┃\u001b[1m \u001b[0m\u001b[1m   Cumulative1\u001b[0m\u001b[1m \u001b[0m┃\u001b[1m \u001b[0m\u001b[1m   Cumulative2\u001b[0m\u001b[1m \u001b[0m┃\n",
       "┡━━━━━━━━━━╇━━━━━━━━━━━━━━━╇━━━━━━━━━━━━━━━━╇━━━━━━━━━━━━━━━━┩\n",
       "│   85/850 │ 2.644606352 s │  2.644606352 s │  2.876343966 s │\n",
       "│  170/850 │ 1.501820564 s │  4.146426916 s │  4.378164530 s │\n",
       "│  255/850 │ 2.961053371 s │  7.107480288 s │  7.339217901 s │\n",
       "│  340/850 │ 2.166792631 s │  9.274272919 s │  9.506010532 s │\n",
       "│  425/850 │ 1.725260496 s │ 10.999533415 s │ 11.231271029 s │\n",
       "└──────────┴───────────────┴────────────────┴────────────────┘\n"
      ]
     },
     "metadata": {},
     "output_type": "display_data"
    },
    {
     "data": {
      "text/html": [
       "<pre style=\"white-space:pre;overflow-x:auto;line-height:normal;font-family:Menlo,'DejaVu Sans Mono',consolas,'Courier New',monospace\"><span style=\"font-style: italic\">                        Progress Table                        </span>\n",
       "┏━━━━━━━━━━┳━━━━━━━━━━━━━━━┳━━━━━━━━━━━━━━━━┳━━━━━━━━━━━━━━━━┓\n",
       "┃<span style=\"font-weight: bold\"> Progress </span>┃<span style=\"font-weight: bold\">      Interval </span>┃<span style=\"font-weight: bold\">    Cumulative1 </span>┃<span style=\"font-weight: bold\">    Cumulative2 </span>┃\n",
       "┡━━━━━━━━━━╇━━━━━━━━━━━━━━━╇━━━━━━━━━━━━━━━━╇━━━━━━━━━━━━━━━━┩\n",
       "│   85/850 │ 2.644606352 s │  2.644606352 s │  2.876343966 s │\n",
       "│  170/850 │ 1.501820564 s │  4.146426916 s │  4.378164530 s │\n",
       "│  255/850 │ 2.961053371 s │  7.107480288 s │  7.339217901 s │\n",
       "│  340/850 │ 2.166792631 s │  9.274272919 s │  9.506010532 s │\n",
       "│  425/850 │ 1.725260496 s │ 10.999533415 s │ 11.231271029 s │\n",
       "│  510/850 │ 3.153407812 s │ 14.152941227 s │ 14.384678841 s │\n",
       "└──────────┴───────────────┴────────────────┴────────────────┘\n",
       "</pre>\n"
      ],
      "text/plain": [
       "\u001b[3m                        Progress Table                        \u001b[0m\n",
       "┏━━━━━━━━━━┳━━━━━━━━━━━━━━━┳━━━━━━━━━━━━━━━━┳━━━━━━━━━━━━━━━━┓\n",
       "┃\u001b[1m \u001b[0m\u001b[1mProgress\u001b[0m\u001b[1m \u001b[0m┃\u001b[1m \u001b[0m\u001b[1m     Interval\u001b[0m\u001b[1m \u001b[0m┃\u001b[1m \u001b[0m\u001b[1m   Cumulative1\u001b[0m\u001b[1m \u001b[0m┃\u001b[1m \u001b[0m\u001b[1m   Cumulative2\u001b[0m\u001b[1m \u001b[0m┃\n",
       "┡━━━━━━━━━━╇━━━━━━━━━━━━━━━╇━━━━━━━━━━━━━━━━╇━━━━━━━━━━━━━━━━┩\n",
       "│   85/850 │ 2.644606352 s │  2.644606352 s │  2.876343966 s │\n",
       "│  170/850 │ 1.501820564 s │  4.146426916 s │  4.378164530 s │\n",
       "│  255/850 │ 2.961053371 s │  7.107480288 s │  7.339217901 s │\n",
       "│  340/850 │ 2.166792631 s │  9.274272919 s │  9.506010532 s │\n",
       "│  425/850 │ 1.725260496 s │ 10.999533415 s │ 11.231271029 s │\n",
       "│  510/850 │ 3.153407812 s │ 14.152941227 s │ 14.384678841 s │\n",
       "└──────────┴───────────────┴────────────────┴────────────────┘\n"
      ]
     },
     "metadata": {},
     "output_type": "display_data"
    },
    {
     "data": {
      "text/html": [
       "<pre style=\"white-space:pre;overflow-x:auto;line-height:normal;font-family:Menlo,'DejaVu Sans Mono',consolas,'Courier New',monospace\"><span style=\"font-style: italic\">                        Progress Table                        </span>\n",
       "┏━━━━━━━━━━┳━━━━━━━━━━━━━━━┳━━━━━━━━━━━━━━━━┳━━━━━━━━━━━━━━━━┓\n",
       "┃<span style=\"font-weight: bold\"> Progress </span>┃<span style=\"font-weight: bold\">      Interval </span>┃<span style=\"font-weight: bold\">    Cumulative1 </span>┃<span style=\"font-weight: bold\">    Cumulative2 </span>┃\n",
       "┡━━━━━━━━━━╇━━━━━━━━━━━━━━━╇━━━━━━━━━━━━━━━━╇━━━━━━━━━━━━━━━━┩\n",
       "│   85/850 │ 2.644606352 s │  2.644606352 s │  2.876343966 s │\n",
       "│  170/850 │ 1.501820564 s │  4.146426916 s │  4.378164530 s │\n",
       "│  255/850 │ 2.961053371 s │  7.107480288 s │  7.339217901 s │\n",
       "│  340/850 │ 2.166792631 s │  9.274272919 s │  9.506010532 s │\n",
       "│  425/850 │ 1.725260496 s │ 10.999533415 s │ 11.231271029 s │\n",
       "│  510/850 │ 3.153407812 s │ 14.152941227 s │ 14.384678841 s │\n",
       "│  595/850 │ 2.318996668 s │ 16.471937895 s │ 16.703675508 s │\n",
       "└──────────┴───────────────┴────────────────┴────────────────┘\n",
       "</pre>\n"
      ],
      "text/plain": [
       "\u001b[3m                        Progress Table                        \u001b[0m\n",
       "┏━━━━━━━━━━┳━━━━━━━━━━━━━━━┳━━━━━━━━━━━━━━━━┳━━━━━━━━━━━━━━━━┓\n",
       "┃\u001b[1m \u001b[0m\u001b[1mProgress\u001b[0m\u001b[1m \u001b[0m┃\u001b[1m \u001b[0m\u001b[1m     Interval\u001b[0m\u001b[1m \u001b[0m┃\u001b[1m \u001b[0m\u001b[1m   Cumulative1\u001b[0m\u001b[1m \u001b[0m┃\u001b[1m \u001b[0m\u001b[1m   Cumulative2\u001b[0m\u001b[1m \u001b[0m┃\n",
       "┡━━━━━━━━━━╇━━━━━━━━━━━━━━━╇━━━━━━━━━━━━━━━━╇━━━━━━━━━━━━━━━━┩\n",
       "│   85/850 │ 2.644606352 s │  2.644606352 s │  2.876343966 s │\n",
       "│  170/850 │ 1.501820564 s │  4.146426916 s │  4.378164530 s │\n",
       "│  255/850 │ 2.961053371 s │  7.107480288 s │  7.339217901 s │\n",
       "│  340/850 │ 2.166792631 s │  9.274272919 s │  9.506010532 s │\n",
       "│  425/850 │ 1.725260496 s │ 10.999533415 s │ 11.231271029 s │\n",
       "│  510/850 │ 3.153407812 s │ 14.152941227 s │ 14.384678841 s │\n",
       "│  595/850 │ 2.318996668 s │ 16.471937895 s │ 16.703675508 s │\n",
       "└──────────┴───────────────┴────────────────┴────────────────┘\n"
      ]
     },
     "metadata": {},
     "output_type": "display_data"
    },
    {
     "data": {
      "text/html": [
       "<pre style=\"white-space:pre;overflow-x:auto;line-height:normal;font-family:Menlo,'DejaVu Sans Mono',consolas,'Courier New',monospace\"><span style=\"font-style: italic\">                        Progress Table                        </span>\n",
       "┏━━━━━━━━━━┳━━━━━━━━━━━━━━━┳━━━━━━━━━━━━━━━━┳━━━━━━━━━━━━━━━━┓\n",
       "┃<span style=\"font-weight: bold\"> Progress </span>┃<span style=\"font-weight: bold\">      Interval </span>┃<span style=\"font-weight: bold\">    Cumulative1 </span>┃<span style=\"font-weight: bold\">    Cumulative2 </span>┃\n",
       "┡━━━━━━━━━━╇━━━━━━━━━━━━━━━╇━━━━━━━━━━━━━━━━╇━━━━━━━━━━━━━━━━┩\n",
       "│   85/850 │ 2.644606352 s │  2.644606352 s │  2.876343966 s │\n",
       "│  170/850 │ 1.501820564 s │  4.146426916 s │  4.378164530 s │\n",
       "│  255/850 │ 2.961053371 s │  7.107480288 s │  7.339217901 s │\n",
       "│  340/850 │ 2.166792631 s │  9.274272919 s │  9.506010532 s │\n",
       "│  425/850 │ 1.725260496 s │ 10.999533415 s │ 11.231271029 s │\n",
       "│  510/850 │ 3.153407812 s │ 14.152941227 s │ 14.384678841 s │\n",
       "│  595/850 │ 2.318996668 s │ 16.471937895 s │ 16.703675508 s │\n",
       "│  680/850 │ 1.131402493 s │ 17.603340387 s │ 17.835078001 s │\n",
       "└──────────┴───────────────┴────────────────┴────────────────┘\n",
       "</pre>\n"
      ],
      "text/plain": [
       "\u001b[3m                        Progress Table                        \u001b[0m\n",
       "┏━━━━━━━━━━┳━━━━━━━━━━━━━━━┳━━━━━━━━━━━━━━━━┳━━━━━━━━━━━━━━━━┓\n",
       "┃\u001b[1m \u001b[0m\u001b[1mProgress\u001b[0m\u001b[1m \u001b[0m┃\u001b[1m \u001b[0m\u001b[1m     Interval\u001b[0m\u001b[1m \u001b[0m┃\u001b[1m \u001b[0m\u001b[1m   Cumulative1\u001b[0m\u001b[1m \u001b[0m┃\u001b[1m \u001b[0m\u001b[1m   Cumulative2\u001b[0m\u001b[1m \u001b[0m┃\n",
       "┡━━━━━━━━━━╇━━━━━━━━━━━━━━━╇━━━━━━━━━━━━━━━━╇━━━━━━━━━━━━━━━━┩\n",
       "│   85/850 │ 2.644606352 s │  2.644606352 s │  2.876343966 s │\n",
       "│  170/850 │ 1.501820564 s │  4.146426916 s │  4.378164530 s │\n",
       "│  255/850 │ 2.961053371 s │  7.107480288 s │  7.339217901 s │\n",
       "│  340/850 │ 2.166792631 s │  9.274272919 s │  9.506010532 s │\n",
       "│  425/850 │ 1.725260496 s │ 10.999533415 s │ 11.231271029 s │\n",
       "│  510/850 │ 3.153407812 s │ 14.152941227 s │ 14.384678841 s │\n",
       "│  595/850 │ 2.318996668 s │ 16.471937895 s │ 16.703675508 s │\n",
       "│  680/850 │ 1.131402493 s │ 17.603340387 s │ 17.835078001 s │\n",
       "└──────────┴───────────────┴────────────────┴────────────────┘\n"
      ]
     },
     "metadata": {},
     "output_type": "display_data"
    },
    {
     "data": {
      "text/html": [
       "<pre style=\"white-space:pre;overflow-x:auto;line-height:normal;font-family:Menlo,'DejaVu Sans Mono',consolas,'Courier New',monospace\"><span style=\"font-style: italic\">                        Progress Table                        </span>\n",
       "┏━━━━━━━━━━┳━━━━━━━━━━━━━━━┳━━━━━━━━━━━━━━━━┳━━━━━━━━━━━━━━━━┓\n",
       "┃<span style=\"font-weight: bold\"> Progress </span>┃<span style=\"font-weight: bold\">      Interval </span>┃<span style=\"font-weight: bold\">    Cumulative1 </span>┃<span style=\"font-weight: bold\">    Cumulative2 </span>┃\n",
       "┡━━━━━━━━━━╇━━━━━━━━━━━━━━━╇━━━━━━━━━━━━━━━━╇━━━━━━━━━━━━━━━━┩\n",
       "│   85/850 │ 2.644606352 s │  2.644606352 s │  2.876343966 s │\n",
       "│  170/850 │ 1.501820564 s │  4.146426916 s │  4.378164530 s │\n",
       "│  255/850 │ 2.961053371 s │  7.107480288 s │  7.339217901 s │\n",
       "│  340/850 │ 2.166792631 s │  9.274272919 s │  9.506010532 s │\n",
       "│  425/850 │ 1.725260496 s │ 10.999533415 s │ 11.231271029 s │\n",
       "│  510/850 │ 3.153407812 s │ 14.152941227 s │ 14.384678841 s │\n",
       "│  595/850 │ 2.318996668 s │ 16.471937895 s │ 16.703675508 s │\n",
       "│  680/850 │ 1.131402493 s │ 17.603340387 s │ 17.835078001 s │\n",
       "│  765/850 │ 3.439006567 s │ 21.042346954 s │ 21.274084568 s │\n",
       "└──────────┴───────────────┴────────────────┴────────────────┘\n",
       "</pre>\n"
      ],
      "text/plain": [
       "\u001b[3m                        Progress Table                        \u001b[0m\n",
       "┏━━━━━━━━━━┳━━━━━━━━━━━━━━━┳━━━━━━━━━━━━━━━━┳━━━━━━━━━━━━━━━━┓\n",
       "┃\u001b[1m \u001b[0m\u001b[1mProgress\u001b[0m\u001b[1m \u001b[0m┃\u001b[1m \u001b[0m\u001b[1m     Interval\u001b[0m\u001b[1m \u001b[0m┃\u001b[1m \u001b[0m\u001b[1m   Cumulative1\u001b[0m\u001b[1m \u001b[0m┃\u001b[1m \u001b[0m\u001b[1m   Cumulative2\u001b[0m\u001b[1m \u001b[0m┃\n",
       "┡━━━━━━━━━━╇━━━━━━━━━━━━━━━╇━━━━━━━━━━━━━━━━╇━━━━━━━━━━━━━━━━┩\n",
       "│   85/850 │ 2.644606352 s │  2.644606352 s │  2.876343966 s │\n",
       "│  170/850 │ 1.501820564 s │  4.146426916 s │  4.378164530 s │\n",
       "│  255/850 │ 2.961053371 s │  7.107480288 s │  7.339217901 s │\n",
       "│  340/850 │ 2.166792631 s │  9.274272919 s │  9.506010532 s │\n",
       "│  425/850 │ 1.725260496 s │ 10.999533415 s │ 11.231271029 s │\n",
       "│  510/850 │ 3.153407812 s │ 14.152941227 s │ 14.384678841 s │\n",
       "│  595/850 │ 2.318996668 s │ 16.471937895 s │ 16.703675508 s │\n",
       "│  680/850 │ 1.131402493 s │ 17.603340387 s │ 17.835078001 s │\n",
       "│  765/850 │ 3.439006567 s │ 21.042346954 s │ 21.274084568 s │\n",
       "└──────────┴───────────────┴────────────────┴────────────────┘\n"
      ]
     },
     "metadata": {},
     "output_type": "display_data"
    },
    {
     "data": {
      "text/html": [
       "<pre style=\"white-space:pre;overflow-x:auto;line-height:normal;font-family:Menlo,'DejaVu Sans Mono',consolas,'Courier New',monospace\"><span style=\"font-style: italic\">                        Progress Table                        </span>\n",
       "┏━━━━━━━━━━┳━━━━━━━━━━━━━━━┳━━━━━━━━━━━━━━━━┳━━━━━━━━━━━━━━━━┓\n",
       "┃<span style=\"font-weight: bold\"> Progress </span>┃<span style=\"font-weight: bold\">      Interval </span>┃<span style=\"font-weight: bold\">    Cumulative1 </span>┃<span style=\"font-weight: bold\">    Cumulative2 </span>┃\n",
       "┡━━━━━━━━━━╇━━━━━━━━━━━━━━━╇━━━━━━━━━━━━━━━━╇━━━━━━━━━━━━━━━━┩\n",
       "│   85/850 │ 2.644606352 s │  2.644606352 s │  2.876343966 s │\n",
       "│  170/850 │ 1.501820564 s │  4.146426916 s │  4.378164530 s │\n",
       "│  255/850 │ 2.961053371 s │  7.107480288 s │  7.339217901 s │\n",
       "│  340/850 │ 2.166792631 s │  9.274272919 s │  9.506010532 s │\n",
       "│  425/850 │ 1.725260496 s │ 10.999533415 s │ 11.231271029 s │\n",
       "│  510/850 │ 3.153407812 s │ 14.152941227 s │ 14.384678841 s │\n",
       "│  595/850 │ 2.318996668 s │ 16.471937895 s │ 16.703675508 s │\n",
       "│  680/850 │ 1.131402493 s │ 17.603340387 s │ 17.835078001 s │\n",
       "│  765/850 │ 3.439006567 s │ 21.042346954 s │ 21.274084568 s │\n",
       "│  850/850 │ 3.123792171 s │ 24.166139126 s │ 24.397876740 s │\n",
       "└──────────┴───────────────┴────────────────┴────────────────┘\n",
       "</pre>\n"
      ],
      "text/plain": [
       "\u001b[3m                        Progress Table                        \u001b[0m\n",
       "┏━━━━━━━━━━┳━━━━━━━━━━━━━━━┳━━━━━━━━━━━━━━━━┳━━━━━━━━━━━━━━━━┓\n",
       "┃\u001b[1m \u001b[0m\u001b[1mProgress\u001b[0m\u001b[1m \u001b[0m┃\u001b[1m \u001b[0m\u001b[1m     Interval\u001b[0m\u001b[1m \u001b[0m┃\u001b[1m \u001b[0m\u001b[1m   Cumulative1\u001b[0m\u001b[1m \u001b[0m┃\u001b[1m \u001b[0m\u001b[1m   Cumulative2\u001b[0m\u001b[1m \u001b[0m┃\n",
       "┡━━━━━━━━━━╇━━━━━━━━━━━━━━━╇━━━━━━━━━━━━━━━━╇━━━━━━━━━━━━━━━━┩\n",
       "│   85/850 │ 2.644606352 s │  2.644606352 s │  2.876343966 s │\n",
       "│  170/850 │ 1.501820564 s │  4.146426916 s │  4.378164530 s │\n",
       "│  255/850 │ 2.961053371 s │  7.107480288 s │  7.339217901 s │\n",
       "│  340/850 │ 2.166792631 s │  9.274272919 s │  9.506010532 s │\n",
       "│  425/850 │ 1.725260496 s │ 10.999533415 s │ 11.231271029 s │\n",
       "│  510/850 │ 3.153407812 s │ 14.152941227 s │ 14.384678841 s │\n",
       "│  595/850 │ 2.318996668 s │ 16.471937895 s │ 16.703675508 s │\n",
       "│  680/850 │ 1.131402493 s │ 17.603340387 s │ 17.835078001 s │\n",
       "│  765/850 │ 3.439006567 s │ 21.042346954 s │ 21.274084568 s │\n",
       "│  850/850 │ 3.123792171 s │ 24.166139126 s │ 24.397876740 s │\n",
       "└──────────┴───────────────┴────────────────┴────────────────┘\n"
      ]
     },
     "metadata": {},
     "output_type": "display_data"
    },
    {
     "data": {
      "text/html": [
       "<pre style=\"white-space:pre;overflow-x:auto;line-height:normal;font-family:Menlo,'DejaVu Sans Mono',consolas,'Courier New',monospace\">\n",
       "<span style=\"color: #000080; text-decoration-color: #000080; font-weight: bold\">Part </span><span style=\"color: #008080; text-decoration-color: #008080; font-weight: bold\">2</span><span style=\"color: #000080; text-decoration-color: #000080; font-weight: bold\"> finished in </span><span style=\"color: #008080; text-decoration-color: #008080; font-weight: bold\">24.166139126</span><span style=\"color: #000080; text-decoration-color: #000080; font-weight: bold\"> s, cumulative time </span><span style=\"color: #008080; text-decoration-color: #008080; font-weight: bold\">24.397876740</span><span style=\"color: #000080; text-decoration-color: #000080; font-weight: bold\"> s</span>\n",
       "</pre>\n"
      ],
      "text/plain": [
       "\n",
       "\u001b[1;34mPart \u001b[0m\u001b[1;36m2\u001b[0m\u001b[1;34m finished in \u001b[0m\u001b[1;36m24.166139126\u001b[0m\u001b[1;34m s, cumulative time \u001b[0m\u001b[1;36m24.397876740\u001b[0m\u001b[1;34m s\u001b[0m\n"
      ]
     },
     "metadata": {},
     "output_type": "display_data"
    },
    {
     "data": {
      "text/html": [
       "<pre style=\"white-space:pre;overflow-x:auto;line-height:normal;font-family:Menlo,'DejaVu Sans Mono',consolas,'Courier New',monospace\"><span style=\"color: #808000; text-decoration-color: #808000; font-weight: bold\">Part </span><span style=\"color: #008080; text-decoration-color: #008080; font-weight: bold\">2</span><span style=\"color: #808000; text-decoration-color: #808000; font-weight: bold\"> Total Calibration Result: </span><span style=\"color: #008080; text-decoration-color: #008080; font-weight: bold\">275791737999003</span>\n",
       "</pre>\n"
      ],
      "text/plain": [
       "\u001b[1;33mPart \u001b[0m\u001b[1;36m2\u001b[0m\u001b[1;33m Total Calibration Result: \u001b[0m\u001b[1;36m275791737999003\u001b[0m\n"
      ]
     },
     "metadata": {},
     "output_type": "display_data"
    }
   ],
   "source": [
    "import itertools\n",
    "import time\n",
    "from rich.console import Console\n",
    "from rich.table import Table\n",
    "\n",
    "def evaluate_left_to_right(numbers, ops):\n",
    "    \"\"\"Evaluates an expression left-to-right given numbers and operators.\"\"\"\n",
    "    result = numbers[0]\n",
    "    for i, op in enumerate(ops):\n",
    "        if op == '+':\n",
    "            result += numbers[i + 1]\n",
    "        elif op == '*':\n",
    "            result *= numbers[i + 1]\n",
    "    return result\n",
    "\n",
    "def evaluate_with_concat(numbers, ops):\n",
    "    \"\"\"Evaluates an expression left-to-right with +, *, and || operators.\"\"\"\n",
    "    result = numbers[0]\n",
    "    for i, op in enumerate(ops):\n",
    "        if op == '+':\n",
    "            result += numbers[i + 1]\n",
    "        elif op == '*':\n",
    "            result *= numbers[i + 1]\n",
    "        elif op == '||':\n",
    "            # Concatenate the numbers\n",
    "            result = int(str(result) + str(numbers[i + 1]))\n",
    "    return result\n",
    "\n",
    "def parse_input(file_path):\n",
    "    \"\"\"Parses the input file into a list of test cases.\"\"\"\n",
    "    test_cases = []\n",
    "    with open(file_path, 'r') as file:\n",
    "        for line in file:\n",
    "            if ':' not in line:\n",
    "                continue\n",
    "            target, numbers = line.strip().split(':')\n",
    "            target = int(target.strip())\n",
    "            numbers = list(map(int, numbers.strip().split()))\n",
    "            test_cases.append((target, numbers))\n",
    "    return test_cases\n",
    "\n",
    "def solve_part_one(test_cases):\n",
    "    \"\"\"Solves Part 1 using only + and * operators.\"\"\"\n",
    "    valid_test_values = []\n",
    "    operators = ['+', '*']\n",
    "    for target, numbers in test_cases:\n",
    "        possible = False\n",
    "        for ops in itertools.product(operators, repeat=len(numbers) - 1):\n",
    "            if evaluate_left_to_right(numbers, ops) == target:\n",
    "                possible = True\n",
    "                break\n",
    "        if possible:\n",
    "            valid_test_values.append(target)\n",
    "    return sum(valid_test_values)\n",
    "\n",
    "def solve_part_two(test_cases, part_one_time, console):\n",
    "    \"\"\"Solves Part 2 using +, *, and || operators with dynamic table updates.\"\"\"\n",
    "    valid_test_values = []\n",
    "    operators = ['+', '*', '||']\n",
    "    total_cases = len(test_cases)\n",
    "    cumulative1 = 0.0  # Total elapsed time for Part 2 progress\n",
    "    progress_interval = total_cases // 10  # Divide work into 10 intervals\n",
    "\n",
    "    # Initialize the table\n",
    "    table = Table(title=\"Progress Table\")\n",
    "    table.add_column(\"Progress\", justify=\"right\")\n",
    "    table.add_column(\"Interval\", justify=\"right\")\n",
    "    table.add_column(\"Cumulative1\", justify=\"right\")\n",
    "    table.add_column(\"Cumulative2\", justify=\"right\")\n",
    "    console.print(table)\n",
    "\n",
    "    start_time = time.time()\n",
    "    for index, (target, numbers) in enumerate(test_cases):\n",
    "        possible = False\n",
    "        for ops in itertools.product(operators, repeat=len(numbers) - 1):\n",
    "            if evaluate_with_concat(numbers, ops) == target:\n",
    "                possible = True\n",
    "                break\n",
    "        if possible:\n",
    "            valid_test_values.append(target)\n",
    "\n",
    "        # Progress reporting\n",
    "        if (index + 1) % progress_interval == 0 or (index + 1) == total_cases:\n",
    "            interval_elapsed = time.time() - start_time\n",
    "            cumulative1 += interval_elapsed\n",
    "            cumulative2 = part_one_time + cumulative1\n",
    "\n",
    "            # Add a row to the table\n",
    "            table.add_row(\n",
    "                f\"{index + 1}/{total_cases}\",\n",
    "                f\"{interval_elapsed:,.9f} s\",\n",
    "                f\"{cumulative1:,.9f} s\",\n",
    "                f\"{cumulative2:,.9f} s\"\n",
    "            )\n",
    "\n",
    "            # Print the updated table with the new row\n",
    "            console.print(table)\n",
    "            start_time = time.time()  # Reset timer for next interval\n",
    "\n",
    "    return sum(valid_test_values), cumulative2\n",
    "\n",
    "if __name__ == \"__main__\":\n",
    "    # Update file_path with the input file location\n",
    "    file_path = \"input.txt\"  # Change this to your actual input file\n",
    "\n",
    "    # Set up the Rich console\n",
    "    console = Console()\n",
    "\n",
    "    # Parse the input\n",
    "    test_cases = parse_input(file_path)\n",
    "\n",
    "    # Solve Part 1\n",
    "    console.print(\"Starting part 001...\", style=\"bold green\")\n",
    "    start_time = time.time()\n",
    "    part_one_result = solve_part_one(test_cases)\n",
    "    part_one_time = time.time() - start_time\n",
    "    console.print(f\"Part 1 finished in {part_one_time:,.9f} s\", style=\"bold blue\")\n",
    "    console.print(f\"Part 1 Total Calibration Result: {part_one_result}\", style=\"bold yellow\")\n",
    "\n",
    "    # Solve Part 2\n",
    "    console.print(\"\\nStarting part 002...\", style=\"bold green\")\n",
    "    part_two_result, cumulative_time = solve_part_two(test_cases, part_one_time, console)\n",
    "    part_two_time = cumulative_time - part_one_time\n",
    "    console.print(f\"\\nPart 2 finished in {part_two_time:,.9f} s, cumulative time {cumulative_time:,.9f} s\", style=\"bold blue\")\n",
    "    console.print(f\"Part 2 Total Calibration Result: {part_two_result}\", style=\"bold yellow\")"
   ]
  },
  {
   "cell_type": "code",
   "execution_count": null,
   "id": "a33d79ad-5d54-43c2-bc21-3e064810a1ec",
   "metadata": {},
   "outputs": [],
   "source": []
  }
 ],
 "metadata": {
  "kernelspec": {
   "display_name": "Python 3 (ipykernel)",
   "language": "python",
   "name": "python3"
  },
  "language_info": {
   "codemirror_mode": {
    "name": "ipython",
    "version": 3
   },
   "file_extension": ".py",
   "mimetype": "text/x-python",
   "name": "python",
   "nbconvert_exporter": "python",
   "pygments_lexer": "ipython3",
   "version": "3.12.3"
  }
 },
 "nbformat": 4,
 "nbformat_minor": 5
}
