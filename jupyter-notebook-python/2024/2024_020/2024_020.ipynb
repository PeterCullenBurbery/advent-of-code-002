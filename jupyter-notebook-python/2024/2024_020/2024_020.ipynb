{
 "cells": [
  {
   "cell_type": "markdown",
   "id": "948388a1",
   "metadata": {},
   "source": [
    "# Advent of Code"
   ]
  },
  {
   "cell_type": "markdown",
   "id": "20c20ea7",
   "metadata": {},
   "source": [
    "## 2024-012-020\n",
    "## 2024 020"
   ]
  },
  {
   "cell_type": "markdown",
   "id": "cdc692a3",
   "metadata": {},
   "source": [
    "https://adventofcode.com/2024/day/20"
   ]
  },
  {
   "cell_type": "code",
   "execution_count": null,
   "id": "03f70007",
   "metadata": {},
   "outputs": [],
   "source": []
  }
 ],
 "metadata": {},
 "nbformat": 4,
 "nbformat_minor": 5
}
