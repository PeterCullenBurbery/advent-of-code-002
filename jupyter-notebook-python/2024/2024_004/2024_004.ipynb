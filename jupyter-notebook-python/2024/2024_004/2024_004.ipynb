{
 "cells": [
  {
   "cell_type": "markdown",
   "id": "b450ccc6",
   "metadata": {},
   "source": [
    "# Advent of Code"
   ]
  },
  {
   "cell_type": "markdown",
   "id": "7deef7a5",
   "metadata": {},
   "source": [
    "## 2024-012-004\n",
    "## 2024 004"
   ]
  },
  {
   "cell_type": "markdown",
   "id": "0f3c83b2",
   "metadata": {},
   "source": [
    "https://adventofcode.com/2024/day/4"
   ]
  },
  {
   "cell_type": "code",
   "execution_count": null,
   "id": "10aeb9bf",
   "metadata": {},
   "outputs": [],
   "source": []
  }
 ],
 "metadata": {},
 "nbformat": 4,
 "nbformat_minor": 5
}
