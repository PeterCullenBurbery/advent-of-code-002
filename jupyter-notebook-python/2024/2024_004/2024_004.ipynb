{
 "cells": [
  {
   "cell_type": "markdown",
   "id": "b450ccc6",
   "metadata": {},
   "source": [
    "# Advent of Code"
   ]
  },
  {
   "cell_type": "markdown",
   "id": "7deef7a5",
   "metadata": {},
   "source": [
    "## 2024-012-004\n",
    "## 2024 004"
   ]
  },
  {
   "cell_type": "markdown",
   "id": "0f3c83b2",
   "metadata": {},
   "source": [
    "https://adventofcode.com/2024/day/4"
   ]
  },
  {
   "cell_type": "code",
   "execution_count": 5,
   "id": "1d8ecb4f-6d40-4667-9179-fcc81c28007d",
   "metadata": {},
   "outputs": [
    {
     "data": {
      "text/plain": [
       "2639"
      ]
     },
     "execution_count": 5,
     "metadata": {},
     "output_type": "execute_result"
    }
   ],
   "source": [
    "# Let's process the word search to find all occurrences of the word \"XMAS\"\n",
    "# Reading the content from the provided input file\n",
    "file_path = \"input.txt\"\n",
    "\n",
    "# Define the target word\n",
    "target_word = \"XMAS\"\n",
    "\n",
    "# Reading the file and storing the grid\n",
    "with open(file_path, \"r\") as file:\n",
    "    grid = [line.strip() for line in file.readlines()]\n",
    "\n",
    "# Define the grid dimensions\n",
    "rows = len(grid)\n",
    "cols = len(grid[0])\n",
    "\n",
    "# Directions for moving in the grid (right, down, diagonal-right-down, diagonal-left-down)\n",
    "directions = [\n",
    "    (0, 1),   # Right\n",
    "    (1, 0),   # Down\n",
    "    (1, 1),   # Diagonal-right-down\n",
    "    (1, -1),  # Diagonal-left-down\n",
    "    (0, -1),  # Left\n",
    "    (-1, 0),  # Up\n",
    "    (-1, -1), # Diagonal-left-up\n",
    "    (-1, 1)   # Diagonal-right-up\n",
    "]\n",
    "\n",
    "# Function to check if a word exists in a given direction\n",
    "def check_word(x, y, dx, dy):\n",
    "    for i in range(len(target_word)):\n",
    "        nx, ny = x + i * dx, y + i * dy\n",
    "        if nx < 0 or ny < 0 or nx >= rows or ny >= cols or grid[nx][ny] != target_word[i]:\n",
    "            return False\n",
    "    return True\n",
    "\n",
    "# Count all occurrences of the target word\n",
    "count = 0\n",
    "for r in range(rows):\n",
    "    for c in range(cols):\n",
    "        for dx, dy in directions:\n",
    "            if check_word(r, c, dx, dy):\n",
    "                count += 1\n",
    "\n",
    "count"
   ]
  },
  {
   "cell_type": "code",
   "execution_count": 8,
   "id": "10aeb9bf",
   "metadata": {},
   "outputs": [
    {
     "data": {
      "text/plain": [
       "2005"
      ]
     },
     "execution_count": 8,
     "metadata": {},
     "output_type": "execute_result"
    }
   ],
   "source": [
    "# Update to account for all possible configurations of the X-MAS pattern.\n",
    "\n",
    "def count_all_xmas_patterns():\n",
    "    count = 0\n",
    "    # Traverse the grid, ensuring bounds for a 3x3 X-MAS pattern\n",
    "    for r in range(1, rows - 1):\n",
    "        for c in range(1, cols - 1):\n",
    "            center = grid[r][c]\n",
    "            top_left = grid[r - 1][c - 1]\n",
    "            top_right = grid[r - 1][c + 1]\n",
    "            bottom_left = grid[r + 1][c - 1]\n",
    "            bottom_right = grid[r + 1][c + 1]\n",
    "\n",
    "            # Check all valid X-MAS configurations\n",
    "            if center == \"A\":\n",
    "                # Pattern 1: M.S\n",
    "                if top_left == \"M\" and top_right == \"S\" and bottom_left == \"M\" and bottom_right == \"S\":\n",
    "                    count += 1\n",
    "                # Pattern 2: S.M\n",
    "                elif top_left == \"S\" and top_right == \"M\" and bottom_left == \"S\" and bottom_right == \"M\":\n",
    "                    count += 1\n",
    "                # Pattern 3: M.M\n",
    "                elif top_left == \"M\" and top_right == \"M\" and bottom_left == \"S\" and bottom_right == \"S\":\n",
    "                    count += 1\n",
    "                # Pattern 4: S.S\n",
    "                elif top_left == \"S\" and top_right == \"S\" and bottom_left == \"M\" and bottom_right == \"M\":\n",
    "                    count += 1\n",
    "\n",
    "    return count\n",
    "\n",
    "# Count the X-MAS patterns in the grid\n",
    "total_xmas_patterns = count_all_xmas_patterns()\n",
    "total_xmas_patterns"
   ]
  },
  {
   "cell_type": "markdown",
   "id": "23f63436-a90f-4389-a5b9-7eff6a3c263a",
   "metadata": {},
   "source": [
    "Here is the code in one cell for brevity."
   ]
  },
  {
   "cell_type": "code",
   "execution_count": 11,
   "id": "b3c4b9f2-2ffa-4382-afac-ec79e0ca4da3",
   "metadata": {},
   "outputs": [
    {
     "name": "stdout",
     "output_type": "stream",
     "text": [
      "count is 2639.\n",
      "total xmas patterns is 2005\n"
     ]
    }
   ],
   "source": [
    "# Let's process the word search to find all occurrences of the word \"XMAS\"\n",
    "# Reading the content from the provided input file\n",
    "file_path = \"input.txt\"\n",
    "\n",
    "# Define the target word\n",
    "target_word = \"XMAS\"\n",
    "\n",
    "# Reading the file and storing the grid\n",
    "with open(file_path, \"r\") as file:\n",
    "    grid = [line.strip() for line in file.readlines()]\n",
    "\n",
    "# Define the grid dimensions\n",
    "rows = len(grid)\n",
    "cols = len(grid[0])\n",
    "\n",
    "# Directions for moving in the grid (right, down, diagonal-right-down, diagonal-left-down)\n",
    "directions = [\n",
    "    (0, 1),   # Right\n",
    "    (1, 0),   # Down\n",
    "    (1, 1),   # Diagonal-right-down\n",
    "    (1, -1),  # Diagonal-left-down\n",
    "    (0, -1),  # Left\n",
    "    (-1, 0),  # Up\n",
    "    (-1, -1), # Diagonal-left-up\n",
    "    (-1, 1)   # Diagonal-right-up\n",
    "]\n",
    "\n",
    "# Function to check if a word exists in a given direction\n",
    "def check_word(x, y, dx, dy):\n",
    "    for i in range(len(target_word)):\n",
    "        nx, ny = x + i * dx, y + i * dy\n",
    "        if nx < 0 or ny < 0 or nx >= rows or ny >= cols or grid[nx][ny] != target_word[i]:\n",
    "            return False\n",
    "    return True\n",
    "\n",
    "# Count all occurrences of the target word\n",
    "count = 0\n",
    "for r in range(rows):\n",
    "    for c in range(cols):\n",
    "        for dx, dy in directions:\n",
    "            if check_word(r, c, dx, dy):\n",
    "                count += 1\n",
    "\n",
    "print(f\"count is {count}.\")\n",
    "\n",
    "# Update to account for all possible configurations of the X-MAS pattern.\n",
    "\n",
    "def count_all_xmas_patterns():\n",
    "    count = 0\n",
    "    # Traverse the grid, ensuring bounds for a 3x3 X-MAS pattern\n",
    "    for r in range(1, rows - 1):\n",
    "        for c in range(1, cols - 1):\n",
    "            center = grid[r][c]\n",
    "            top_left = grid[r - 1][c - 1]\n",
    "            top_right = grid[r - 1][c + 1]\n",
    "            bottom_left = grid[r + 1][c - 1]\n",
    "            bottom_right = grid[r + 1][c + 1]\n",
    "\n",
    "            # Check all valid X-MAS configurations\n",
    "            if center == \"A\":\n",
    "                # Pattern 1: M.S\n",
    "                if top_left == \"M\" and top_right == \"S\" and bottom_left == \"M\" and bottom_right == \"S\":\n",
    "                    count += 1\n",
    "                # Pattern 2: S.M\n",
    "                elif top_left == \"S\" and top_right == \"M\" and bottom_left == \"S\" and bottom_right == \"M\":\n",
    "                    count += 1\n",
    "                # Pattern 3: M.M\n",
    "                elif top_left == \"M\" and top_right == \"M\" and bottom_left == \"S\" and bottom_right == \"S\":\n",
    "                    count += 1\n",
    "                # Pattern 4: S.S\n",
    "                elif top_left == \"S\" and top_right == \"S\" and bottom_left == \"M\" and bottom_right == \"M\":\n",
    "                    count += 1\n",
    "\n",
    "    return count\n",
    "\n",
    "# Count the X-MAS patterns in the grid\n",
    "total_xmas_patterns = count_all_xmas_patterns()\n",
    "print(f\"total xmas patterns is {total_xmas_patterns}\")"
   ]
  },
  {
   "cell_type": "code",
   "execution_count": null,
   "id": "f8fcc8b3-8952-4218-b382-530ff7d48350",
   "metadata": {},
   "outputs": [],
   "source": []
  }
 ],
 "metadata": {
  "kernelspec": {
   "display_name": "Python 3 (ipykernel)",
   "language": "python",
   "name": "python3"
  },
  "language_info": {
   "codemirror_mode": {
    "name": "ipython",
    "version": 3
   },
   "file_extension": ".py",
   "mimetype": "text/x-python",
   "name": "python",
   "nbconvert_exporter": "python",
   "pygments_lexer": "ipython3",
   "version": "3.12.3"
  }
 },
 "nbformat": 4,
 "nbformat_minor": 5
}
