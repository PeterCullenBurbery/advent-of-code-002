{
 "cells": [
  {
   "cell_type": "markdown",
   "id": "41d440bb",
   "metadata": {},
   "source": [
    "# Advent of Code"
   ]
  },
  {
   "cell_type": "markdown",
   "id": "10700696",
   "metadata": {},
   "source": [
    "## 2024-012-021\n",
    "## 2024 021"
   ]
  },
  {
   "cell_type": "markdown",
   "id": "4d9deaad",
   "metadata": {},
   "source": [
    "https://adventofcode.com/2024/day/21"
   ]
  },
  {
   "cell_type": "code",
   "execution_count": null,
   "id": "0746c3e5",
   "metadata": {},
   "outputs": [],
   "source": []
  }
 ],
 "metadata": {
  "kernelspec": {
   "display_name": "Python 3 (ipykernel)",
   "language": "python",
   "name": "python3"
  },
  "language_info": {
   "name": "python",
   "version": "3.12.3"
  }
 },
 "nbformat": 4,
 "nbformat_minor": 5
}
