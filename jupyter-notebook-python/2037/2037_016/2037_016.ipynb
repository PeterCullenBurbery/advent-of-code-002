{
 "cells": [
  {
   "cell_type": "markdown",
   "id": "5b674abc",
   "metadata": {},
   "source": [
    "# Advent of Code"
   ]
  },
  {
   "cell_type": "markdown",
   "id": "019223e9",
   "metadata": {},
   "source": [
    "## 2037-012-016\n",
    "## 2037 016"
   ]
  },
  {
   "cell_type": "markdown",
   "id": "d8054973",
   "metadata": {},
   "source": [
    "https://adventofcode.com/2037/day/16"
   ]
  },
  {
   "cell_type": "code",
   "execution_count": null,
   "id": "2940e773",
   "metadata": {},
   "outputs": [],
   "source": []
  }
 ],
 "metadata": {},
 "nbformat": 4,
 "nbformat_minor": 5
}
