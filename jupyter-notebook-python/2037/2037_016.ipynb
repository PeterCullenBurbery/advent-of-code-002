{
 "cells": [
  {
   "cell_type": "markdown",
   "id": "8dc5640b",
   "metadata": {},
   "source": [
    "# Advent of Code"
   ]
  },
  {
   "cell_type": "markdown",
   "id": "77ed4736",
   "metadata": {},
   "source": [
    "## 2037-012-016\n",
    "## 2037 016"
   ]
  },
  {
   "cell_type": "markdown",
   "id": "7e2c9427",
   "metadata": {},
   "source": [
    "https://adventofcode.com/2037/day/16"
   ]
  },
  {
   "cell_type": "code",
   "execution_count": null,
   "id": "b5ff3f0e",
   "metadata": {},
   "outputs": [],
   "source": []
  }
 ],
 "metadata": {
  "kernelspec": {
   "display_name": "Python 3 (ipykernel)",
   "language": "python",
   "name": "python3"
  },
  "language_info": {
   "name": "python",
   "version": "3.12.3"
  }
 },
 "nbformat": 4,
 "nbformat_minor": 5
}
