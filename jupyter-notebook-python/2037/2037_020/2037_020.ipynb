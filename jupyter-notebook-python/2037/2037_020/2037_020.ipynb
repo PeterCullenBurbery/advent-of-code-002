{
 "cells": [
  {
   "cell_type": "markdown",
   "id": "76fc8a7a",
   "metadata": {},
   "source": [
    "# Advent of Code"
   ]
  },
  {
   "cell_type": "markdown",
   "id": "5612f01e",
   "metadata": {},
   "source": [
    "## 2037-012-020\n",
    "## 2037 020"
   ]
  },
  {
   "cell_type": "markdown",
   "id": "e67526ed",
   "metadata": {},
   "source": [
    "https://adventofcode.com/2037/day/20"
   ]
  },
  {
   "cell_type": "code",
   "execution_count": null,
   "id": "16b741b9",
   "metadata": {},
   "outputs": [],
   "source": []
  }
 ],
 "metadata": {},
 "nbformat": 4,
 "nbformat_minor": 5
}
