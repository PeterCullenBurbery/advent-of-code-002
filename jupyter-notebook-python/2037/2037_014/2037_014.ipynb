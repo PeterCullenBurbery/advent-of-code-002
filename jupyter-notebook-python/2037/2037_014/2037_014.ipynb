{
 "cells": [
  {
   "cell_type": "markdown",
   "id": "bd7af3a7",
   "metadata": {},
   "source": [
    "# Advent of Code"
   ]
  },
  {
   "cell_type": "markdown",
   "id": "77555c9e",
   "metadata": {},
   "source": [
    "## 2037-012-014\n",
    "## 2037 014"
   ]
  },
  {
   "cell_type": "markdown",
   "id": "1cef3fee",
   "metadata": {},
   "source": [
    "https://adventofcode.com/2037/day/14"
   ]
  },
  {
   "cell_type": "code",
   "execution_count": null,
   "id": "1a75919d",
   "metadata": {},
   "outputs": [],
   "source": []
  }
 ],
 "metadata": {},
 "nbformat": 4,
 "nbformat_minor": 5
}
