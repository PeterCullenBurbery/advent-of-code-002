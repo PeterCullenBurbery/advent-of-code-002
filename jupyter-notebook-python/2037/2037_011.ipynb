{
 "cells": [
  {
   "cell_type": "markdown",
   "id": "dbff17df",
   "metadata": {},
   "source": [
    "# Advent of Code"
   ]
  },
  {
   "cell_type": "markdown",
   "id": "36440a43",
   "metadata": {},
   "source": [
    "## 2037-012-011\n",
    "## 2037 011"
   ]
  },
  {
   "cell_type": "markdown",
   "id": "1af310a0",
   "metadata": {},
   "source": [
    "https://adventofcode.com/2037/day/11"
   ]
  },
  {
   "cell_type": "code",
   "execution_count": null,
   "id": "784b9b6f",
   "metadata": {},
   "outputs": [],
   "source": []
  }
 ],
 "metadata": {
  "kernelspec": {
   "display_name": "Python 3 (ipykernel)",
   "language": "python",
   "name": "python3"
  },
  "language_info": {
   "name": "python",
   "version": "3.12.3"
  }
 },
 "nbformat": 4,
 "nbformat_minor": 5
}
