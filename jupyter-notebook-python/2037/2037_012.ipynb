{
 "cells": [
  {
   "cell_type": "markdown",
   "id": "b4676561",
   "metadata": {},
   "source": [
    "# Advent of Code"
   ]
  },
  {
   "cell_type": "markdown",
   "id": "4d2b768a",
   "metadata": {},
   "source": [
    "## 2037-012-012\n",
    "## 2037 012"
   ]
  },
  {
   "cell_type": "markdown",
   "id": "5cdba759",
   "metadata": {},
   "source": [
    "https://adventofcode.com/2037/day/12"
   ]
  },
  {
   "cell_type": "code",
   "execution_count": null,
   "id": "6594e2eb",
   "metadata": {},
   "outputs": [],
   "source": []
  }
 ],
 "metadata": {
  "kernelspec": {
   "display_name": "Python 3 (ipykernel)",
   "language": "python",
   "name": "python3"
  },
  "language_info": {
   "name": "python",
   "version": "3.12.3"
  }
 },
 "nbformat": 4,
 "nbformat_minor": 5
}
