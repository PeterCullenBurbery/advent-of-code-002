{
 "cells": [
  {
   "cell_type": "markdown",
   "id": "788574c4",
   "metadata": {},
   "source": [
    "# Advent of Code"
   ]
  },
  {
   "cell_type": "markdown",
   "id": "286ac114",
   "metadata": {},
   "source": [
    "## 2037-012-004\n",
    "## 2037 004"
   ]
  },
  {
   "cell_type": "markdown",
   "id": "99183fae",
   "metadata": {},
   "source": [
    "https://adventofcode.com/2037/day/4"
   ]
  },
  {
   "cell_type": "code",
   "execution_count": null,
   "id": "dc52fc26",
   "metadata": {},
   "outputs": [],
   "source": []
  }
 ],
 "metadata": {},
 "nbformat": 4,
 "nbformat_minor": 5
}
