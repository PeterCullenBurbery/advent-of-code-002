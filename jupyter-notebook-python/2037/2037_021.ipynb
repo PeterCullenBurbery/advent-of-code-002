{
 "cells": [
  {
   "cell_type": "markdown",
   "id": "4b71e97e",
   "metadata": {},
   "source": [
    "# Advent of Code"
   ]
  },
  {
   "cell_type": "markdown",
   "id": "5faf2aa6",
   "metadata": {},
   "source": [
    "## 2037-012-021\n",
    "## 2037 021"
   ]
  },
  {
   "cell_type": "markdown",
   "id": "5cbb6f01",
   "metadata": {},
   "source": [
    "https://adventofcode.com/2037/day/21"
   ]
  },
  {
   "cell_type": "code",
   "execution_count": null,
   "id": "ada6b302",
   "metadata": {},
   "outputs": [],
   "source": []
  }
 ],
 "metadata": {
  "kernelspec": {
   "display_name": "Python 3 (ipykernel)",
   "language": "python",
   "name": "python3"
  },
  "language_info": {
   "name": "python",
   "version": "3.12.3"
  }
 },
 "nbformat": 4,
 "nbformat_minor": 5
}
