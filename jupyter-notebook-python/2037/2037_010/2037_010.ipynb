{
 "cells": [
  {
   "cell_type": "markdown",
   "id": "e3ca949a",
   "metadata": {},
   "source": [
    "# Advent of Code"
   ]
  },
  {
   "cell_type": "markdown",
   "id": "fee488ba",
   "metadata": {},
   "source": [
    "## 2037-012-010\n",
    "## 2037 010"
   ]
  },
  {
   "cell_type": "markdown",
   "id": "c7123200",
   "metadata": {},
   "source": [
    "https://adventofcode.com/2037/day/10"
   ]
  },
  {
   "cell_type": "code",
   "execution_count": null,
   "id": "5175ca75",
   "metadata": {},
   "outputs": [],
   "source": []
  }
 ],
 "metadata": {},
 "nbformat": 4,
 "nbformat_minor": 5
}
