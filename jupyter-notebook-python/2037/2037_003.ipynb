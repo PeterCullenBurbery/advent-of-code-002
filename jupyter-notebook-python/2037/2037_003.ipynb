{
 "cells": [
  {
   "cell_type": "markdown",
   "id": "a99fe223",
   "metadata": {},
   "source": [
    "# Advent of Code"
   ]
  },
  {
   "cell_type": "markdown",
   "id": "567495d9",
   "metadata": {},
   "source": [
    "## 2037-012-003\n",
    "## 2037 003"
   ]
  },
  {
   "cell_type": "markdown",
   "id": "e38d94c1",
   "metadata": {},
   "source": [
    "https://adventofcode.com/2037/day/3"
   ]
  },
  {
   "cell_type": "code",
   "execution_count": null,
   "id": "57c64e7d",
   "metadata": {},
   "outputs": [],
   "source": []
  }
 ],
 "metadata": {
  "kernelspec": {
   "display_name": "Python 3 (ipykernel)",
   "language": "python",
   "name": "python3"
  },
  "language_info": {
   "name": "python",
   "version": "3.12.3"
  }
 },
 "nbformat": 4,
 "nbformat_minor": 5
}
