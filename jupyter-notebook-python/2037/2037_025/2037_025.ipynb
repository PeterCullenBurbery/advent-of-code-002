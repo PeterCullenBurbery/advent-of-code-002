{
 "cells": [
  {
   "cell_type": "markdown",
   "id": "cfb82c59",
   "metadata": {},
   "source": [
    "# Advent of Code"
   ]
  },
  {
   "cell_type": "markdown",
   "id": "d1acc7a9",
   "metadata": {},
   "source": [
    "## 2037-012-025\n",
    "## 2037 025"
   ]
  },
  {
   "cell_type": "markdown",
   "id": "68900406",
   "metadata": {},
   "source": [
    "https://adventofcode.com/2037/day/25"
   ]
  },
  {
   "cell_type": "code",
   "execution_count": null,
   "id": "f71e60b6",
   "metadata": {},
   "outputs": [],
   "source": []
  }
 ],
 "metadata": {},
 "nbformat": 4,
 "nbformat_minor": 5
}
