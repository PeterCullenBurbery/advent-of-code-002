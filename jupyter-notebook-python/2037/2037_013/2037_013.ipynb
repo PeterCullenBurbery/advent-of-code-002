{
 "cells": [
  {
   "cell_type": "markdown",
   "id": "63ef43f2",
   "metadata": {},
   "source": [
    "# Advent of Code"
   ]
  },
  {
   "cell_type": "markdown",
   "id": "0cf5eb15",
   "metadata": {},
   "source": [
    "## 2037-012-013\n",
    "## 2037 013"
   ]
  },
  {
   "cell_type": "markdown",
   "id": "f5a12589",
   "metadata": {},
   "source": [
    "https://adventofcode.com/2037/day/13"
   ]
  },
  {
   "cell_type": "code",
   "execution_count": null,
   "id": "9207b82d",
   "metadata": {},
   "outputs": [],
   "source": []
  }
 ],
 "metadata": {},
 "nbformat": 4,
 "nbformat_minor": 5
}
