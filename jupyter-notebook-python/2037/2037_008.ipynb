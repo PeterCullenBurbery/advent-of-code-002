{
 "cells": [
  {
   "cell_type": "markdown",
   "id": "32d27cd3",
   "metadata": {},
   "source": [
    "# Advent of Code"
   ]
  },
  {
   "cell_type": "markdown",
   "id": "00bf2b3e",
   "metadata": {},
   "source": [
    "## 2037-012-008\n",
    "## 2037 008"
   ]
  },
  {
   "cell_type": "markdown",
   "id": "0c7e47d1",
   "metadata": {},
   "source": [
    "https://adventofcode.com/2037/day/8"
   ]
  },
  {
   "cell_type": "code",
   "execution_count": null,
   "id": "04dea9db",
   "metadata": {},
   "outputs": [],
   "source": []
  }
 ],
 "metadata": {
  "kernelspec": {
   "display_name": "Python 3 (ipykernel)",
   "language": "python",
   "name": "python3"
  },
  "language_info": {
   "name": "python",
   "version": "3.12.3"
  }
 },
 "nbformat": 4,
 "nbformat_minor": 5
}
