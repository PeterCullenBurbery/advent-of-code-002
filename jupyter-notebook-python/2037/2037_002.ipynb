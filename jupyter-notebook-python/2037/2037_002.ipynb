{
 "cells": [
  {
   "cell_type": "markdown",
   "id": "575d26f8",
   "metadata": {},
   "source": [
    "# Advent of Code"
   ]
  },
  {
   "cell_type": "markdown",
   "id": "04c5f9e7",
   "metadata": {},
   "source": [
    "## 2037-012-002\n",
    "## 2037 002"
   ]
  },
  {
   "cell_type": "markdown",
   "id": "cd0c533e",
   "metadata": {},
   "source": [
    "https://adventofcode.com/2037/day/2"
   ]
  },
  {
   "cell_type": "code",
   "execution_count": null,
   "id": "a3417eaa",
   "metadata": {},
   "outputs": [],
   "source": []
  }
 ],
 "metadata": {
  "kernelspec": {
   "display_name": "Python 3 (ipykernel)",
   "language": "python",
   "name": "python3"
  },
  "language_info": {
   "name": "python",
   "version": "3.12.3"
  }
 },
 "nbformat": 4,
 "nbformat_minor": 5
}
