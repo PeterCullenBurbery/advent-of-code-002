{
 "cells": [
  {
   "cell_type": "markdown",
   "id": "6772ec39",
   "metadata": {},
   "source": [
    "# Advent of Code"
   ]
  },
  {
   "cell_type": "markdown",
   "id": "56b2efd6",
   "metadata": {},
   "source": [
    "## 2037-012-002\n",
    "## 2037 002"
   ]
  },
  {
   "cell_type": "markdown",
   "id": "16180f23",
   "metadata": {},
   "source": [
    "https://adventofcode.com/2037/day/2"
   ]
  },
  {
   "cell_type": "code",
   "execution_count": null,
   "id": "72f2033b",
   "metadata": {},
   "outputs": [],
   "source": []
  }
 ],
 "metadata": {},
 "nbformat": 4,
 "nbformat_minor": 5
}
