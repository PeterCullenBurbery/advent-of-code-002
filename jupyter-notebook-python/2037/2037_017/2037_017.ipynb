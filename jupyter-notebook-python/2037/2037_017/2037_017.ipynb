{
 "cells": [
  {
   "cell_type": "markdown",
   "id": "5da38791",
   "metadata": {},
   "source": [
    "# Advent of Code"
   ]
  },
  {
   "cell_type": "markdown",
   "id": "9c1c6a71",
   "metadata": {},
   "source": [
    "## 2037-012-017\n",
    "## 2037 017"
   ]
  },
  {
   "cell_type": "markdown",
   "id": "f6f4ca99",
   "metadata": {},
   "source": [
    "https://adventofcode.com/2037/day/17"
   ]
  },
  {
   "cell_type": "code",
   "execution_count": null,
   "id": "f31fe307",
   "metadata": {},
   "outputs": [],
   "source": []
  }
 ],
 "metadata": {},
 "nbformat": 4,
 "nbformat_minor": 5
}
