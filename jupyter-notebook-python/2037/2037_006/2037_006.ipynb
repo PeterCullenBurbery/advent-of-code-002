{
 "cells": [
  {
   "cell_type": "markdown",
   "id": "a1fcdeec",
   "metadata": {},
   "source": [
    "# Advent of Code"
   ]
  },
  {
   "cell_type": "markdown",
   "id": "f1f648cf",
   "metadata": {},
   "source": [
    "## 2037-012-006\n",
    "## 2037 006"
   ]
  },
  {
   "cell_type": "markdown",
   "id": "0bc58fa2",
   "metadata": {},
   "source": [
    "https://adventofcode.com/2037/day/6"
   ]
  },
  {
   "cell_type": "code",
   "execution_count": null,
   "id": "560fb399",
   "metadata": {},
   "outputs": [],
   "source": []
  }
 ],
 "metadata": {},
 "nbformat": 4,
 "nbformat_minor": 5
}
