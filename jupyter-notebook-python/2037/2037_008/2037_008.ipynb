{
 "cells": [
  {
   "cell_type": "markdown",
   "id": "be3f6e26",
   "metadata": {},
   "source": [
    "# Advent of Code"
   ]
  },
  {
   "cell_type": "markdown",
   "id": "e899450f",
   "metadata": {},
   "source": [
    "## 2037-012-008\n",
    "## 2037 008"
   ]
  },
  {
   "cell_type": "markdown",
   "id": "d0c43226",
   "metadata": {},
   "source": [
    "https://adventofcode.com/2037/day/8"
   ]
  },
  {
   "cell_type": "code",
   "execution_count": null,
   "id": "7bda1d34",
   "metadata": {},
   "outputs": [],
   "source": []
  }
 ],
 "metadata": {},
 "nbformat": 4,
 "nbformat_minor": 5
}
