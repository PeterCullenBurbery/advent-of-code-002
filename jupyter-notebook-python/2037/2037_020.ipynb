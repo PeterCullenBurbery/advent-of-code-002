{
 "cells": [
  {
   "cell_type": "markdown",
   "id": "a807ad29",
   "metadata": {},
   "source": [
    "# Advent of Code"
   ]
  },
  {
   "cell_type": "markdown",
   "id": "91e4ce1d",
   "metadata": {},
   "source": [
    "## 2037-012-020\n",
    "## 2037 020"
   ]
  },
  {
   "cell_type": "markdown",
   "id": "f36cff5f",
   "metadata": {},
   "source": [
    "https://adventofcode.com/2037/day/20"
   ]
  },
  {
   "cell_type": "code",
   "execution_count": null,
   "id": "6fd169f0",
   "metadata": {},
   "outputs": [],
   "source": []
  }
 ],
 "metadata": {
  "kernelspec": {
   "display_name": "Python 3 (ipykernel)",
   "language": "python",
   "name": "python3"
  },
  "language_info": {
   "name": "python",
   "version": "3.12.3"
  }
 },
 "nbformat": 4,
 "nbformat_minor": 5
}
