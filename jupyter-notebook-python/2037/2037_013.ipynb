{
 "cells": [
  {
   "cell_type": "markdown",
   "id": "e72cfd2a",
   "metadata": {},
   "source": [
    "# Advent of Code"
   ]
  },
  {
   "cell_type": "markdown",
   "id": "b32d6a87",
   "metadata": {},
   "source": [
    "## 2037-012-013\n",
    "## 2037 013"
   ]
  },
  {
   "cell_type": "markdown",
   "id": "d7f276af",
   "metadata": {},
   "source": [
    "https://adventofcode.com/2037/day/13"
   ]
  },
  {
   "cell_type": "code",
   "execution_count": null,
   "id": "815201da",
   "metadata": {},
   "outputs": [],
   "source": []
  }
 ],
 "metadata": {
  "kernelspec": {
   "display_name": "Python 3 (ipykernel)",
   "language": "python",
   "name": "python3"
  },
  "language_info": {
   "name": "python",
   "version": "3.12.3"
  }
 },
 "nbformat": 4,
 "nbformat_minor": 5
}
