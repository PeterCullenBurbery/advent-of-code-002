{
 "cells": [
  {
   "cell_type": "markdown",
   "id": "515ff45f",
   "metadata": {},
   "source": [
    "# Advent of Code"
   ]
  },
  {
   "cell_type": "markdown",
   "id": "c28c8dc3",
   "metadata": {},
   "source": [
    "## 2037-012-025\n",
    "## 2037 025"
   ]
  },
  {
   "cell_type": "markdown",
   "id": "43ad6c9b",
   "metadata": {},
   "source": [
    "https://adventofcode.com/2037/day/25"
   ]
  },
  {
   "cell_type": "code",
   "execution_count": null,
   "id": "c754a999",
   "metadata": {},
   "outputs": [],
   "source": []
  }
 ],
 "metadata": {
  "kernelspec": {
   "display_name": "Python 3 (ipykernel)",
   "language": "python",
   "name": "python3"
  },
  "language_info": {
   "name": "python",
   "version": "3.12.3"
  }
 },
 "nbformat": 4,
 "nbformat_minor": 5
}
