{
 "cells": [
  {
   "cell_type": "markdown",
   "id": "0da8da7c",
   "metadata": {},
   "source": [
    "# Advent of Code"
   ]
  },
  {
   "cell_type": "markdown",
   "id": "6f032aad",
   "metadata": {},
   "source": [
    "## 2037-012-021\n",
    "## 2037 021"
   ]
  },
  {
   "cell_type": "markdown",
   "id": "343b7c5b",
   "metadata": {},
   "source": [
    "https://adventofcode.com/2037/day/21"
   ]
  },
  {
   "cell_type": "code",
   "execution_count": null,
   "id": "9861dae3",
   "metadata": {},
   "outputs": [],
   "source": []
  }
 ],
 "metadata": {},
 "nbformat": 4,
 "nbformat_minor": 5
}
