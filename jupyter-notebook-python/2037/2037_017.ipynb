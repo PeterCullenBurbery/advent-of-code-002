{
 "cells": [
  {
   "cell_type": "markdown",
   "id": "4b63f17f",
   "metadata": {},
   "source": [
    "# Advent of Code"
   ]
  },
  {
   "cell_type": "markdown",
   "id": "94524d74",
   "metadata": {},
   "source": [
    "## 2037-012-017\n",
    "## 2037 017"
   ]
  },
  {
   "cell_type": "markdown",
   "id": "4e7e4250",
   "metadata": {},
   "source": [
    "https://adventofcode.com/2037/day/17"
   ]
  },
  {
   "cell_type": "code",
   "execution_count": null,
   "id": "9ab5d1bd",
   "metadata": {},
   "outputs": [],
   "source": []
  }
 ],
 "metadata": {
  "kernelspec": {
   "display_name": "Python 3 (ipykernel)",
   "language": "python",
   "name": "python3"
  },
  "language_info": {
   "name": "python",
   "version": "3.12.3"
  }
 },
 "nbformat": 4,
 "nbformat_minor": 5
}
