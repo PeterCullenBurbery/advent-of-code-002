{
 "cells": [
  {
   "cell_type": "markdown",
   "id": "4aed6fd1",
   "metadata": {},
   "source": [
    "# Advent of Code"
   ]
  },
  {
   "cell_type": "markdown",
   "id": "1e9548fc",
   "metadata": {},
   "source": [
    "## 2037-012-011\n",
    "## 2037 011"
   ]
  },
  {
   "cell_type": "markdown",
   "id": "1463b8d9",
   "metadata": {},
   "source": [
    "https://adventofcode.com/2037/day/11"
   ]
  },
  {
   "cell_type": "code",
   "execution_count": null,
   "id": "a59b4c90",
   "metadata": {},
   "outputs": [],
   "source": []
  }
 ],
 "metadata": {},
 "nbformat": 4,
 "nbformat_minor": 5
}
