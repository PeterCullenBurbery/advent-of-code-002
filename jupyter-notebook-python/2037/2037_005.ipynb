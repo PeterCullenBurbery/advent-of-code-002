{
 "cells": [
  {
   "cell_type": "markdown",
   "id": "e1aac370",
   "metadata": {},
   "source": [
    "# Advent of Code"
   ]
  },
  {
   "cell_type": "markdown",
   "id": "e10da6c1",
   "metadata": {},
   "source": [
    "## 2037-012-005\n",
    "## 2037 005"
   ]
  },
  {
   "cell_type": "markdown",
   "id": "f6e30c00",
   "metadata": {},
   "source": [
    "https://adventofcode.com/2037/day/5"
   ]
  },
  {
   "cell_type": "code",
   "execution_count": null,
   "id": "71fec684",
   "metadata": {},
   "outputs": [],
   "source": []
  }
 ],
 "metadata": {
  "kernelspec": {
   "display_name": "Python 3 (ipykernel)",
   "language": "python",
   "name": "python3"
  },
  "language_info": {
   "name": "python",
   "version": "3.12.3"
  }
 },
 "nbformat": 4,
 "nbformat_minor": 5
}
