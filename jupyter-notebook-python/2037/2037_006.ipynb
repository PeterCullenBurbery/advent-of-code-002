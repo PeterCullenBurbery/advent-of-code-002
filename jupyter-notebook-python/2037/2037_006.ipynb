{
 "cells": [
  {
   "cell_type": "markdown",
   "id": "6d209078",
   "metadata": {},
   "source": [
    "# Advent of Code"
   ]
  },
  {
   "cell_type": "markdown",
   "id": "284ab6cc",
   "metadata": {},
   "source": [
    "## 2037-012-006\n",
    "## 2037 006"
   ]
  },
  {
   "cell_type": "markdown",
   "id": "aa3aa4a6",
   "metadata": {},
   "source": [
    "https://adventofcode.com/2037/day/6"
   ]
  },
  {
   "cell_type": "code",
   "execution_count": null,
   "id": "4937ad7b",
   "metadata": {},
   "outputs": [],
   "source": []
  }
 ],
 "metadata": {
  "kernelspec": {
   "display_name": "Python 3 (ipykernel)",
   "language": "python",
   "name": "python3"
  },
  "language_info": {
   "name": "python",
   "version": "3.12.3"
  }
 },
 "nbformat": 4,
 "nbformat_minor": 5
}
