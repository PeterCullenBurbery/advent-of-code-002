{
 "cells": [
  {
   "cell_type": "markdown",
   "id": "ac7e95de",
   "metadata": {},
   "source": [
    "# Advent of Code"
   ]
  },
  {
   "cell_type": "markdown",
   "id": "1015499c",
   "metadata": {},
   "source": [
    "## 2037-012-015\n",
    "## 2037 015"
   ]
  },
  {
   "cell_type": "markdown",
   "id": "3643efe2",
   "metadata": {},
   "source": [
    "https://adventofcode.com/2037/day/15"
   ]
  },
  {
   "cell_type": "code",
   "execution_count": null,
   "id": "92dc0385",
   "metadata": {},
   "outputs": [],
   "source": []
  }
 ],
 "metadata": {},
 "nbformat": 4,
 "nbformat_minor": 5
}
