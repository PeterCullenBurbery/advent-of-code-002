{
 "cells": [
  {
   "cell_type": "markdown",
   "id": "44c2d301",
   "metadata": {},
   "source": [
    "# Advent of Code"
   ]
  },
  {
   "cell_type": "markdown",
   "id": "b46740c1",
   "metadata": {},
   "source": [
    "## 2037-012-022\n",
    "## 2037 022"
   ]
  },
  {
   "cell_type": "markdown",
   "id": "ee61cf4e",
   "metadata": {},
   "source": [
    "https://adventofcode.com/2037/day/22"
   ]
  },
  {
   "cell_type": "code",
   "execution_count": null,
   "id": "4280133f",
   "metadata": {},
   "outputs": [],
   "source": []
  }
 ],
 "metadata": {
  "kernelspec": {
   "display_name": "Python 3 (ipykernel)",
   "language": "python",
   "name": "python3"
  },
  "language_info": {
   "name": "python",
   "version": "3.12.3"
  }
 },
 "nbformat": 4,
 "nbformat_minor": 5
}
