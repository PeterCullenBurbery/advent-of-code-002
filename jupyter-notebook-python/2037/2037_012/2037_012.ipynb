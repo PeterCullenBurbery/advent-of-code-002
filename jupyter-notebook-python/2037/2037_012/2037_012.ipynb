{
 "cells": [
  {
   "cell_type": "markdown",
   "id": "93a1b3b9",
   "metadata": {},
   "source": [
    "# Advent of Code"
   ]
  },
  {
   "cell_type": "markdown",
   "id": "ac0c1729",
   "metadata": {},
   "source": [
    "## 2037-012-012\n",
    "## 2037 012"
   ]
  },
  {
   "cell_type": "markdown",
   "id": "27ada6e1",
   "metadata": {},
   "source": [
    "https://adventofcode.com/2037/day/12"
   ]
  },
  {
   "cell_type": "code",
   "execution_count": null,
   "id": "cfd9b705",
   "metadata": {},
   "outputs": [],
   "source": []
  }
 ],
 "metadata": {},
 "nbformat": 4,
 "nbformat_minor": 5
}
