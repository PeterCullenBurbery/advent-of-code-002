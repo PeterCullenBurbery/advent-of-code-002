{
 "cells": [
  {
   "cell_type": "markdown",
   "id": "043b7233",
   "metadata": {},
   "source": [
    "# Advent of Code"
   ]
  },
  {
   "cell_type": "markdown",
   "id": "18f885fd",
   "metadata": {},
   "source": [
    "## 2038-012-013\n",
    "## 2038 013"
   ]
  },
  {
   "cell_type": "markdown",
   "id": "0e0915ce",
   "metadata": {},
   "source": [
    "https://adventofcode.com/2038/day/13"
   ]
  },
  {
   "cell_type": "code",
   "execution_count": null,
   "id": "2ae1ca9e",
   "metadata": {},
   "outputs": [],
   "source": []
  }
 ],
 "metadata": {},
 "nbformat": 4,
 "nbformat_minor": 5
}
