{
 "cells": [
  {
   "cell_type": "markdown",
   "id": "52587690",
   "metadata": {},
   "source": [
    "# Advent of Code"
   ]
  },
  {
   "cell_type": "markdown",
   "id": "be75997d",
   "metadata": {},
   "source": [
    "## 2038-012-024\n",
    "## 2038 024"
   ]
  },
  {
   "cell_type": "markdown",
   "id": "d0b8e99f",
   "metadata": {},
   "source": [
    "https://adventofcode.com/2038/day/24"
   ]
  },
  {
   "cell_type": "code",
   "execution_count": null,
   "id": "4da49150",
   "metadata": {},
   "outputs": [],
   "source": []
  }
 ],
 "metadata": {
  "kernelspec": {
   "display_name": "Python 3 (ipykernel)",
   "language": "python",
   "name": "python3"
  },
  "language_info": {
   "name": "python",
   "version": "3.12.3"
  }
 },
 "nbformat": 4,
 "nbformat_minor": 5
}
