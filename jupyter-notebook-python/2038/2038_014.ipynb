{
 "cells": [
  {
   "cell_type": "markdown",
   "id": "d23086a4",
   "metadata": {},
   "source": [
    "# Advent of Code"
   ]
  },
  {
   "cell_type": "markdown",
   "id": "86bb7e2e",
   "metadata": {},
   "source": [
    "## 2038-012-014\n",
    "## 2038 014"
   ]
  },
  {
   "cell_type": "markdown",
   "id": "aacd34be",
   "metadata": {},
   "source": [
    "https://adventofcode.com/2038/day/14"
   ]
  },
  {
   "cell_type": "code",
   "execution_count": null,
   "id": "7d907a37",
   "metadata": {},
   "outputs": [],
   "source": []
  }
 ],
 "metadata": {
  "kernelspec": {
   "display_name": "Python 3 (ipykernel)",
   "language": "python",
   "name": "python3"
  },
  "language_info": {
   "name": "python",
   "version": "3.12.3"
  }
 },
 "nbformat": 4,
 "nbformat_minor": 5
}
