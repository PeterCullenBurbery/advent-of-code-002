{
 "cells": [
  {
   "cell_type": "markdown",
   "id": "059f0c4f",
   "metadata": {},
   "source": [
    "# Advent of Code"
   ]
  },
  {
   "cell_type": "markdown",
   "id": "794a167a",
   "metadata": {},
   "source": [
    "## 2038-012-015\n",
    "## 2038 015"
   ]
  },
  {
   "cell_type": "markdown",
   "id": "553edbde",
   "metadata": {},
   "source": [
    "https://adventofcode.com/2038/day/15"
   ]
  },
  {
   "cell_type": "code",
   "execution_count": null,
   "id": "28e0a8e6",
   "metadata": {},
   "outputs": [],
   "source": []
  }
 ],
 "metadata": {
  "kernelspec": {
   "display_name": "Python 3 (ipykernel)",
   "language": "python",
   "name": "python3"
  },
  "language_info": {
   "name": "python",
   "version": "3.12.3"
  }
 },
 "nbformat": 4,
 "nbformat_minor": 5
}
