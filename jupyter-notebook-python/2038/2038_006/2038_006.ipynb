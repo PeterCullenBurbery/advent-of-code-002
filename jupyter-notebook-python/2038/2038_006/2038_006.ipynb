{
 "cells": [
  {
   "cell_type": "markdown",
   "id": "8377b46e",
   "metadata": {},
   "source": [
    "# Advent of Code"
   ]
  },
  {
   "cell_type": "markdown",
   "id": "019f13b7",
   "metadata": {},
   "source": [
    "## 2038-012-006\n",
    "## 2038 006"
   ]
  },
  {
   "cell_type": "markdown",
   "id": "8df26db5",
   "metadata": {},
   "source": [
    "https://adventofcode.com/2038/day/6"
   ]
  },
  {
   "cell_type": "code",
   "execution_count": null,
   "id": "56eacfb7",
   "metadata": {},
   "outputs": [],
   "source": []
  }
 ],
 "metadata": {},
 "nbformat": 4,
 "nbformat_minor": 5
}
