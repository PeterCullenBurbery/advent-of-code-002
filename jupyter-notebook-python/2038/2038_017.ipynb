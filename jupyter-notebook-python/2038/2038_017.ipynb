{
 "cells": [
  {
   "cell_type": "markdown",
   "id": "b0874391",
   "metadata": {},
   "source": [
    "# Advent of Code"
   ]
  },
  {
   "cell_type": "markdown",
   "id": "55e0a689",
   "metadata": {},
   "source": [
    "## 2038-012-017\n",
    "## 2038 017"
   ]
  },
  {
   "cell_type": "markdown",
   "id": "706d6c2c",
   "metadata": {},
   "source": [
    "https://adventofcode.com/2038/day/17"
   ]
  },
  {
   "cell_type": "code",
   "execution_count": null,
   "id": "71713dfc",
   "metadata": {},
   "outputs": [],
   "source": []
  }
 ],
 "metadata": {
  "kernelspec": {
   "display_name": "Python 3 (ipykernel)",
   "language": "python",
   "name": "python3"
  },
  "language_info": {
   "name": "python",
   "version": "3.12.3"
  }
 },
 "nbformat": 4,
 "nbformat_minor": 5
}
