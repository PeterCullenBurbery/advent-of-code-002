{
 "cells": [
  {
   "cell_type": "markdown",
   "id": "995456c8",
   "metadata": {},
   "source": [
    "# Advent of Code"
   ]
  },
  {
   "cell_type": "markdown",
   "id": "2df498df",
   "metadata": {},
   "source": [
    "## 2038-012-014\n",
    "## 2038 014"
   ]
  },
  {
   "cell_type": "markdown",
   "id": "c00d3383",
   "metadata": {},
   "source": [
    "https://adventofcode.com/2038/day/14"
   ]
  },
  {
   "cell_type": "code",
   "execution_count": null,
   "id": "751b59ab",
   "metadata": {},
   "outputs": [],
   "source": []
  }
 ],
 "metadata": {},
 "nbformat": 4,
 "nbformat_minor": 5
}
