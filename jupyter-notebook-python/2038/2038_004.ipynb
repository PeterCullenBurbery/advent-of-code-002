{
 "cells": [
  {
   "cell_type": "markdown",
   "id": "67c7f5fc",
   "metadata": {},
   "source": [
    "# Advent of Code"
   ]
  },
  {
   "cell_type": "markdown",
   "id": "4c7cf093",
   "metadata": {},
   "source": [
    "## 2038-012-004\n",
    "## 2038 004"
   ]
  },
  {
   "cell_type": "markdown",
   "id": "bf15b29b",
   "metadata": {},
   "source": [
    "https://adventofcode.com/2038/day/4"
   ]
  },
  {
   "cell_type": "code",
   "execution_count": null,
   "id": "1c0f523f",
   "metadata": {},
   "outputs": [],
   "source": []
  }
 ],
 "metadata": {
  "kernelspec": {
   "display_name": "Python 3 (ipykernel)",
   "language": "python",
   "name": "python3"
  },
  "language_info": {
   "name": "python",
   "version": "3.12.3"
  }
 },
 "nbformat": 4,
 "nbformat_minor": 5
}
