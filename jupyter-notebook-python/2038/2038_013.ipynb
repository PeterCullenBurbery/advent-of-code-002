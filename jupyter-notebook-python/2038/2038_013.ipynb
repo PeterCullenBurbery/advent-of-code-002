{
 "cells": [
  {
   "cell_type": "markdown",
   "id": "0e49232a",
   "metadata": {},
   "source": [
    "# Advent of Code"
   ]
  },
  {
   "cell_type": "markdown",
   "id": "213b4099",
   "metadata": {},
   "source": [
    "## 2038-012-013\n",
    "## 2038 013"
   ]
  },
  {
   "cell_type": "markdown",
   "id": "c410110d",
   "metadata": {},
   "source": [
    "https://adventofcode.com/2038/day/13"
   ]
  },
  {
   "cell_type": "code",
   "execution_count": null,
   "id": "5e722153",
   "metadata": {},
   "outputs": [],
   "source": []
  }
 ],
 "metadata": {
  "kernelspec": {
   "display_name": "Python 3 (ipykernel)",
   "language": "python",
   "name": "python3"
  },
  "language_info": {
   "name": "python",
   "version": "3.12.3"
  }
 },
 "nbformat": 4,
 "nbformat_minor": 5
}
