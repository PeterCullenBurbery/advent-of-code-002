{
 "cells": [
  {
   "cell_type": "markdown",
   "id": "b950292b",
   "metadata": {},
   "source": [
    "# Advent of Code"
   ]
  },
  {
   "cell_type": "markdown",
   "id": "866f12f9",
   "metadata": {},
   "source": [
    "## 2038-012-008\n",
    "## 2038 008"
   ]
  },
  {
   "cell_type": "markdown",
   "id": "4f1c3787",
   "metadata": {},
   "source": [
    "https://adventofcode.com/2038/day/8"
   ]
  },
  {
   "cell_type": "code",
   "execution_count": null,
   "id": "013a1658",
   "metadata": {},
   "outputs": [],
   "source": []
  }
 ],
 "metadata": {
  "kernelspec": {
   "display_name": "Python 3 (ipykernel)",
   "language": "python",
   "name": "python3"
  },
  "language_info": {
   "name": "python",
   "version": "3.12.3"
  }
 },
 "nbformat": 4,
 "nbformat_minor": 5
}
