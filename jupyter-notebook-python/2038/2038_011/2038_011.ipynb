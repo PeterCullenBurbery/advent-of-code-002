{
 "cells": [
  {
   "cell_type": "markdown",
   "id": "39002a7f",
   "metadata": {},
   "source": [
    "# Advent of Code"
   ]
  },
  {
   "cell_type": "markdown",
   "id": "921446d9",
   "metadata": {},
   "source": [
    "## 2038-012-011\n",
    "## 2038 011"
   ]
  },
  {
   "cell_type": "markdown",
   "id": "562112d2",
   "metadata": {},
   "source": [
    "https://adventofcode.com/2038/day/11"
   ]
  },
  {
   "cell_type": "code",
   "execution_count": null,
   "id": "4900d298",
   "metadata": {},
   "outputs": [],
   "source": []
  }
 ],
 "metadata": {},
 "nbformat": 4,
 "nbformat_minor": 5
}
