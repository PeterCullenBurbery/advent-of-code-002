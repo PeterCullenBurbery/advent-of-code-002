{
 "cells": [
  {
   "cell_type": "markdown",
   "id": "78528469",
   "metadata": {},
   "source": [
    "# Advent of Code"
   ]
  },
  {
   "cell_type": "markdown",
   "id": "64f7e67f",
   "metadata": {},
   "source": [
    "## 2038-012-017\n",
    "## 2038 017"
   ]
  },
  {
   "cell_type": "markdown",
   "id": "e965ce6f",
   "metadata": {},
   "source": [
    "https://adventofcode.com/2038/day/17"
   ]
  },
  {
   "cell_type": "code",
   "execution_count": null,
   "id": "0c81af15",
   "metadata": {},
   "outputs": [],
   "source": []
  }
 ],
 "metadata": {},
 "nbformat": 4,
 "nbformat_minor": 5
}
