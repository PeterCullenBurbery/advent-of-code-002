{
 "cells": [
  {
   "cell_type": "markdown",
   "id": "c5d4e55a",
   "metadata": {},
   "source": [
    "# Advent of Code"
   ]
  },
  {
   "cell_type": "markdown",
   "id": "a471020d",
   "metadata": {},
   "source": [
    "## 2038-012-025\n",
    "## 2038 025"
   ]
  },
  {
   "cell_type": "markdown",
   "id": "83440684",
   "metadata": {},
   "source": [
    "https://adventofcode.com/2038/day/25"
   ]
  },
  {
   "cell_type": "code",
   "execution_count": null,
   "id": "8c57b2ce",
   "metadata": {},
   "outputs": [],
   "source": []
  }
 ],
 "metadata": {
  "kernelspec": {
   "display_name": "Python 3 (ipykernel)",
   "language": "python",
   "name": "python3"
  },
  "language_info": {
   "name": "python",
   "version": "3.12.3"
  }
 },
 "nbformat": 4,
 "nbformat_minor": 5
}
