{
 "cells": [
  {
   "cell_type": "markdown",
   "id": "5edb97a2",
   "metadata": {},
   "source": [
    "# Advent of Code"
   ]
  },
  {
   "cell_type": "markdown",
   "id": "720c045c",
   "metadata": {},
   "source": [
    "## 2038-012-012\n",
    "## 2038 012"
   ]
  },
  {
   "cell_type": "markdown",
   "id": "c34034cc",
   "metadata": {},
   "source": [
    "https://adventofcode.com/2038/day/12"
   ]
  },
  {
   "cell_type": "code",
   "execution_count": null,
   "id": "e5870d18",
   "metadata": {},
   "outputs": [],
   "source": []
  }
 ],
 "metadata": {
  "kernelspec": {
   "display_name": "Python 3 (ipykernel)",
   "language": "python",
   "name": "python3"
  },
  "language_info": {
   "name": "python",
   "version": "3.12.3"
  }
 },
 "nbformat": 4,
 "nbformat_minor": 5
}
