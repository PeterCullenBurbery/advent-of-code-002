{
 "cells": [
  {
   "cell_type": "markdown",
   "id": "e41ada1b",
   "metadata": {},
   "source": [
    "# Advent of Code"
   ]
  },
  {
   "cell_type": "markdown",
   "id": "edf3d5e1",
   "metadata": {},
   "source": [
    "## 2038-012-003\n",
    "## 2038 003"
   ]
  },
  {
   "cell_type": "markdown",
   "id": "52f8abe2",
   "metadata": {},
   "source": [
    "https://adventofcode.com/2038/day/3"
   ]
  },
  {
   "cell_type": "code",
   "execution_count": null,
   "id": "f205aba3",
   "metadata": {},
   "outputs": [],
   "source": []
  }
 ],
 "metadata": {
  "kernelspec": {
   "display_name": "Python 3 (ipykernel)",
   "language": "python",
   "name": "python3"
  },
  "language_info": {
   "name": "python",
   "version": "3.12.3"
  }
 },
 "nbformat": 4,
 "nbformat_minor": 5
}
