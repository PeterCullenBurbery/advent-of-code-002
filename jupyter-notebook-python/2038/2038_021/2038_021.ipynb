{
 "cells": [
  {
   "cell_type": "markdown",
   "id": "cf28a71b",
   "metadata": {},
   "source": [
    "# Advent of Code"
   ]
  },
  {
   "cell_type": "markdown",
   "id": "5087ff23",
   "metadata": {},
   "source": [
    "## 2038-012-021\n",
    "## 2038 021"
   ]
  },
  {
   "cell_type": "markdown",
   "id": "e0b4d718",
   "metadata": {},
   "source": [
    "https://adventofcode.com/2038/day/21"
   ]
  },
  {
   "cell_type": "code",
   "execution_count": null,
   "id": "c77f089c",
   "metadata": {},
   "outputs": [],
   "source": []
  }
 ],
 "metadata": {},
 "nbformat": 4,
 "nbformat_minor": 5
}
