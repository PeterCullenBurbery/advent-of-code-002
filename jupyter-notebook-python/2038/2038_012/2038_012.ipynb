{
 "cells": [
  {
   "cell_type": "markdown",
   "id": "47a5e415",
   "metadata": {},
   "source": [
    "# Advent of Code"
   ]
  },
  {
   "cell_type": "markdown",
   "id": "1126b66c",
   "metadata": {},
   "source": [
    "## 2038-012-012\n",
    "## 2038 012"
   ]
  },
  {
   "cell_type": "markdown",
   "id": "cd85a07b",
   "metadata": {},
   "source": [
    "https://adventofcode.com/2038/day/12"
   ]
  },
  {
   "cell_type": "code",
   "execution_count": null,
   "id": "1171cc54",
   "metadata": {},
   "outputs": [],
   "source": []
  }
 ],
 "metadata": {},
 "nbformat": 4,
 "nbformat_minor": 5
}
