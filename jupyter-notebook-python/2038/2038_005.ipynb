{
 "cells": [
  {
   "cell_type": "markdown",
   "id": "6dbe67dd",
   "metadata": {},
   "source": [
    "# Advent of Code"
   ]
  },
  {
   "cell_type": "markdown",
   "id": "6bbf2c4f",
   "metadata": {},
   "source": [
    "## 2038-012-005\n",
    "## 2038 005"
   ]
  },
  {
   "cell_type": "markdown",
   "id": "1c1c827a",
   "metadata": {},
   "source": [
    "https://adventofcode.com/2038/day/5"
   ]
  },
  {
   "cell_type": "code",
   "execution_count": null,
   "id": "fea42c13",
   "metadata": {},
   "outputs": [],
   "source": []
  }
 ],
 "metadata": {
  "kernelspec": {
   "display_name": "Python 3 (ipykernel)",
   "language": "python",
   "name": "python3"
  },
  "language_info": {
   "name": "python",
   "version": "3.12.3"
  }
 },
 "nbformat": 4,
 "nbformat_minor": 5
}
