{
 "cells": [
  {
   "cell_type": "markdown",
   "id": "20787bff",
   "metadata": {},
   "source": [
    "# Advent of Code"
   ]
  },
  {
   "cell_type": "markdown",
   "id": "af5db9bc",
   "metadata": {},
   "source": [
    "## 2031-012-002\n",
    "## 2031 002"
   ]
  },
  {
   "cell_type": "markdown",
   "id": "ee11ec29",
   "metadata": {},
   "source": [
    "https://adventofcode.com/2031/day/2"
   ]
  },
  {
   "cell_type": "code",
   "execution_count": null,
   "id": "7b043957",
   "metadata": {},
   "outputs": [],
   "source": []
  }
 ],
 "metadata": {
  "kernelspec": {
   "display_name": "Python 3 (ipykernel)",
   "language": "python",
   "name": "python3"
  },
  "language_info": {
   "name": "python",
   "version": "3.12.3"
  }
 },
 "nbformat": 4,
 "nbformat_minor": 5
}
