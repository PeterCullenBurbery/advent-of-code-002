{
 "cells": [
  {
   "cell_type": "markdown",
   "id": "7980f74c",
   "metadata": {},
   "source": [
    "# Advent of Code"
   ]
  },
  {
   "cell_type": "markdown",
   "id": "4e0aae03",
   "metadata": {},
   "source": [
    "## 2031-012-014\n",
    "## 2031 014"
   ]
  },
  {
   "cell_type": "markdown",
   "id": "6163bf52",
   "metadata": {},
   "source": [
    "https://adventofcode.com/2031/day/14"
   ]
  },
  {
   "cell_type": "code",
   "execution_count": null,
   "id": "0cd1d585",
   "metadata": {},
   "outputs": [],
   "source": []
  }
 ],
 "metadata": {
  "kernelspec": {
   "display_name": "Python 3 (ipykernel)",
   "language": "python",
   "name": "python3"
  },
  "language_info": {
   "name": "python",
   "version": "3.12.3"
  }
 },
 "nbformat": 4,
 "nbformat_minor": 5
}
