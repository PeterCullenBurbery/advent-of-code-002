{
 "cells": [
  {
   "cell_type": "markdown",
   "id": "4d7c2b92",
   "metadata": {},
   "source": [
    "# Advent of Code"
   ]
  },
  {
   "cell_type": "markdown",
   "id": "f9cb03d6",
   "metadata": {},
   "source": [
    "## 2031-012-006\n",
    "## 2031 006"
   ]
  },
  {
   "cell_type": "markdown",
   "id": "a80cd028",
   "metadata": {},
   "source": [
    "https://adventofcode.com/2031/day/6"
   ]
  },
  {
   "cell_type": "code",
   "execution_count": null,
   "id": "017e7ca2",
   "metadata": {},
   "outputs": [],
   "source": []
  }
 ],
 "metadata": {
  "kernelspec": {
   "display_name": "Python 3 (ipykernel)",
   "language": "python",
   "name": "python3"
  },
  "language_info": {
   "name": "python",
   "version": "3.12.3"
  }
 },
 "nbformat": 4,
 "nbformat_minor": 5
}
