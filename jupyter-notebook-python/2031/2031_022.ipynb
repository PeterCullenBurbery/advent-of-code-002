{
 "cells": [
  {
   "cell_type": "markdown",
   "id": "7144d55b",
   "metadata": {},
   "source": [
    "# Advent of Code"
   ]
  },
  {
   "cell_type": "markdown",
   "id": "f7b69512",
   "metadata": {},
   "source": [
    "## 2031-012-022\n",
    "## 2031 022"
   ]
  },
  {
   "cell_type": "markdown",
   "id": "a34453fe",
   "metadata": {},
   "source": [
    "https://adventofcode.com/2031/day/22"
   ]
  },
  {
   "cell_type": "code",
   "execution_count": null,
   "id": "37d2ed6f",
   "metadata": {},
   "outputs": [],
   "source": []
  }
 ],
 "metadata": {
  "kernelspec": {
   "display_name": "Python 3 (ipykernel)",
   "language": "python",
   "name": "python3"
  },
  "language_info": {
   "name": "python",
   "version": "3.12.3"
  }
 },
 "nbformat": 4,
 "nbformat_minor": 5
}
