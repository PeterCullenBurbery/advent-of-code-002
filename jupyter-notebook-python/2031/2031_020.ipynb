{
 "cells": [
  {
   "cell_type": "markdown",
   "id": "c937db57",
   "metadata": {},
   "source": [
    "# Advent of Code"
   ]
  },
  {
   "cell_type": "markdown",
   "id": "b9ed82bc",
   "metadata": {},
   "source": [
    "## 2031-012-020\n",
    "## 2031 020"
   ]
  },
  {
   "cell_type": "markdown",
   "id": "b92a2b5d",
   "metadata": {},
   "source": [
    "https://adventofcode.com/2031/day/20"
   ]
  },
  {
   "cell_type": "code",
   "execution_count": null,
   "id": "21244e2a",
   "metadata": {},
   "outputs": [],
   "source": []
  }
 ],
 "metadata": {
  "kernelspec": {
   "display_name": "Python 3 (ipykernel)",
   "language": "python",
   "name": "python3"
  },
  "language_info": {
   "name": "python",
   "version": "3.12.3"
  }
 },
 "nbformat": 4,
 "nbformat_minor": 5
}
