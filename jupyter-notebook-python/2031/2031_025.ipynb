{
 "cells": [
  {
   "cell_type": "markdown",
   "id": "8f8b0b4e",
   "metadata": {},
   "source": [
    "# Advent of Code"
   ]
  },
  {
   "cell_type": "markdown",
   "id": "4c621bf5",
   "metadata": {},
   "source": [
    "## 2031-012-025\n",
    "## 2031 025"
   ]
  },
  {
   "cell_type": "markdown",
   "id": "a10d5253",
   "metadata": {},
   "source": [
    "https://adventofcode.com/2031/day/25"
   ]
  },
  {
   "cell_type": "code",
   "execution_count": null,
   "id": "36423b1b",
   "metadata": {},
   "outputs": [],
   "source": []
  }
 ],
 "metadata": {
  "kernelspec": {
   "display_name": "Python 3 (ipykernel)",
   "language": "python",
   "name": "python3"
  },
  "language_info": {
   "name": "python",
   "version": "3.12.3"
  }
 },
 "nbformat": 4,
 "nbformat_minor": 5
}
