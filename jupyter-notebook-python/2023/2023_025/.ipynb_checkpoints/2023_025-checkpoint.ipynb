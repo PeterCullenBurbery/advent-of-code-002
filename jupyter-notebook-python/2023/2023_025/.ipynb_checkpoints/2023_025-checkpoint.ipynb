{
 "cells": [
  {
   "cell_type": "markdown",
   "id": "cbd9f480",
   "metadata": {},
   "source": [
    "# Advent of Code"
   ]
  },
  {
   "cell_type": "markdown",
   "id": "ffe38173",
   "metadata": {},
   "source": [
    "## 2023-012-025\n",
    "## 2023 025"
   ]
  },
  {
   "cell_type": "markdown",
   "id": "59a5cbe2",
   "metadata": {},
   "source": [
    "https://adventofcode.com/2023/day/25"
   ]
  },
  {
   "cell_type": "code",
   "execution_count": null,
   "id": "28dcd1c4",
   "metadata": {},
   "outputs": [],
   "source": []
  }
 ],
 "metadata": {},
 "nbformat": 4,
 "nbformat_minor": 5
}
