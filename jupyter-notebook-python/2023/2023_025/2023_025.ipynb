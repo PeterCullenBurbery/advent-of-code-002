{
 "cells": [
  {
   "cell_type": "markdown",
   "id": "cbd9f480",
   "metadata": {},
   "source": [
    "# Advent of Code"
   ]
  },
  {
   "cell_type": "markdown",
   "id": "ffe38173",
   "metadata": {},
   "source": [
    "## 2023-012-025\n",
    "## 2023 025"
   ]
  },
  {
   "cell_type": "markdown",
   "id": "59a5cbe2",
   "metadata": {},
   "source": [
    "https://adventofcode.com/2023/day/25"
   ]
  },
  {
   "cell_type": "code",
   "execution_count": 1,
   "id": "28dcd1c4",
   "metadata": {},
   "outputs": [
    {
     "name": "stdout",
     "output_type": "stream",
     "text": [
      "Result: 0\n"
     ]
    }
   ],
   "source": [
    "from collections import defaultdict\n",
    "\n",
    "def parse_input(filename):\n",
    "    \"\"\" Parse the input file to create a graph. \"\"\"\n",
    "    graph = defaultdict(set)\n",
    "    with open(filename) as f:\n",
    "        for line in f:\n",
    "            parts = line.strip().split(\":\")\n",
    "            node = parts[0].strip()\n",
    "            connections = parts[1].strip().split()\n",
    "            for conn in connections:\n",
    "                graph[node].add(conn)\n",
    "                graph[conn].add(node)\n",
    "    return graph\n",
    "\n",
    "def dfs(graph, node, visited, low, disc, parent, bridges, time):\n",
    "    \"\"\" Perform DFS to find all bridges in the graph. \"\"\"\n",
    "    visited[node] = True\n",
    "    disc[node] = low[node] = time\n",
    "    time += 1\n",
    "\n",
    "    for neighbor in graph[node]:\n",
    "        if not visited[neighbor]:\n",
    "            parent[neighbor] = node\n",
    "            dfs(graph, neighbor, visited, low, disc, parent, bridges, time)\n",
    "            low[node] = min(low[node], low[neighbor])\n",
    "            if low[neighbor] > disc[node]:\n",
    "                bridges.append((node, neighbor))  # A bridge found\n",
    "        elif neighbor != parent.get(node, None):  # Back edge and not the parent\n",
    "            low[node] = min(low[node], disc[neighbor])\n",
    "\n",
    "def find_bridges(graph):\n",
    "    \"\"\" Find all bridges in the graph. \"\"\"\n",
    "    visited = {node: False for node in graph}\n",
    "    disc = {node: -1 for node in graph}  # discovery time\n",
    "    low = {node: -1 for node in graph}  # lowest reachable node\n",
    "    parent = {}  # parent of nodes in DFS\n",
    "    bridges = []\n",
    "    time = 0\n",
    "    \n",
    "    for node in graph:\n",
    "        if not visited[node]:\n",
    "            dfs(graph, node, visited, low, disc, parent, bridges, time)\n",
    "    \n",
    "    return bridges\n",
    "\n",
    "def bfs(graph, start, blocked_edge):\n",
    "    \"\"\" Perform BFS to count the number of nodes in the connected component, excluding blocked_edge. \"\"\"\n",
    "    visited = set()\n",
    "    queue = [start]\n",
    "    visited.add(start)\n",
    "    \n",
    "    while queue:\n",
    "        node = queue.pop(0)\n",
    "        for neighbor in graph[node]:\n",
    "            if (node, neighbor) == blocked_edge or (neighbor, node) == blocked_edge:\n",
    "                continue\n",
    "            if neighbor not in visited:\n",
    "                visited.add(neighbor)\n",
    "                queue.append(neighbor)\n",
    "    \n",
    "    return len(visited)\n",
    "\n",
    "def solve(filename):\n",
    "    \"\"\" Main function to solve the problem. \"\"\"\n",
    "    # Parse the input and create a graph\n",
    "    graph = parse_input(filename)\n",
    "    \n",
    "    # Find all bridges in the graph\n",
    "    bridges = find_bridges(graph)\n",
    "    \n",
    "    # Try disconnecting each combination of three bridges\n",
    "    max_product = 0\n",
    "    for i in range(len(bridges)):\n",
    "        for j in range(i + 1, len(bridges)):\n",
    "            for k in range(j + 1, len(bridges)):\n",
    "                # Disconnect the three bridges\n",
    "                bridge1 = bridges[i]\n",
    "                bridge2 = bridges[j]\n",
    "                bridge3 = bridges[k]\n",
    "                \n",
    "                # Make a copy of the graph for BFS\n",
    "                graph_copy = defaultdict(set, {key: set(value) for key, value in graph.items()})\n",
    "                graph_copy[bridge1[0]].remove(bridge1[1])\n",
    "                graph_copy[bridge1[1]].remove(bridge1[0])\n",
    "                graph_copy[bridge2[0]].remove(bridge2[1])\n",
    "                graph_copy[bridge2[1]].remove(bridge2[0])\n",
    "                graph_copy[bridge3[0]].remove(bridge3[1])\n",
    "                graph_copy[bridge3[1]].remove(bridge3[0])\n",
    "                \n",
    "                # Use BFS to get the sizes of the two components\n",
    "                component1_size = bfs(graph_copy, list(graph_copy.keys())[0], bridge1)\n",
    "                component2_size = bfs(graph_copy, list(graph_copy.keys())[1], bridge1)\n",
    "                \n",
    "                # Calculate the product of the two component sizes\n",
    "                product = component1_size * component2_size\n",
    "                max_product = max(max_product, product)\n",
    "    \n",
    "    return max_product\n",
    "\n",
    "# Input file name\n",
    "filename = \"input.txt\"\n",
    "\n",
    "# Solve the problem\n",
    "result = solve(filename)\n",
    "print(\"Result:\", result)"
   ]
  },
  {
   "cell_type": "code",
   "execution_count": null,
   "id": "455be927-ebaa-462a-85e9-9f261fbd6520",
   "metadata": {},
   "outputs": [],
   "source": []
  }
 ],
 "metadata": {
  "kernelspec": {
   "display_name": "Python 3 (ipykernel)",
   "language": "python",
   "name": "python3"
  },
  "language_info": {
   "codemirror_mode": {
    "name": "ipython",
    "version": 3
   },
   "file_extension": ".py",
   "mimetype": "text/x-python",
   "name": "python",
   "nbconvert_exporter": "python",
   "pygments_lexer": "ipython3",
   "version": "3.12.3"
  }
 },
 "nbformat": 4,
 "nbformat_minor": 5
}
