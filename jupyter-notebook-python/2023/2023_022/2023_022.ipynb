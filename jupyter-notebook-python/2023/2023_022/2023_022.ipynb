{
 "cells": [
  {
   "cell_type": "markdown",
   "id": "2e605f3b",
   "metadata": {},
   "source": [
    "# Advent of Code"
   ]
  },
  {
   "cell_type": "markdown",
   "id": "edeb1b66",
   "metadata": {},
   "source": [
    "## 2023-012-022\n",
    "## 2023 022"
   ]
  },
  {
   "cell_type": "markdown",
   "id": "4643795c",
   "metadata": {},
   "source": [
    "https://adventofcode.com/2023/day/22"
   ]
  },
  {
   "cell_type": "code",
   "execution_count": null,
   "id": "e426638d",
   "metadata": {},
   "outputs": [],
   "source": [
    "# Step 1: Parse the Input\n",
    "def parse_bricks(input_data):\n",
    "    bricks = []\n",
    "    for line in input_data:\n",
    "        start, end = line.split(\"~\")\n",
    "        start_x, start_y, start_z = map(int, start.split(\",\"))\n",
    "        end_x, end_y, end_z = map(int, end.split(\",\"))\n",
    "        bricks.append(((start_x, start_y, start_z), (end_x, end_y, end_z)))\n",
    "    return bricks\n",
    "\n",
    "# Step 2: Simulate Brick Falling\n",
    "def simulate_fall(bricks):\n",
    "    # This will store the final resting positions of bricks\n",
    "    final_positions = {}\n",
    "    \n",
    "    # Sort bricks by z-coordinate (falling starts from the highest)\n",
    "    sorted_bricks = sorted(bricks, key=lambda b: max(b[0][2], b[1][2]), reverse=True)\n",
    "    \n",
    "    for brick in sorted_bricks:\n",
    "        start, end = brick\n",
    "        if start[2] > end[2]:\n",
    "            start, end = end, start  # Ensure start is below end\n",
    "        \n",
    "        # Check if brick can fall (i.e., no brick beneath it at the same x, y position)\n",
    "        while not is_position_supported(start[0], start[1], start[2] - 1, final_positions):\n",
    "            start = (start[0], start[1], start[2] - 1)\n",
    "        final_positions[(start[0], start[1], start[2])] = brick\n",
    "    return final_positions\n",
    "\n",
    "# Step 3: Check if a Position is Supported\n",
    "def is_position_supported(x, y, z, final_positions):\n",
    "    for (sx, sy, sz), _ in final_positions.items():\n",
    "        if sz == z + 1 and (sx == x and sy == y):\n",
    "            return True\n",
    "    return False\n",
    "\n",
    "# Step 4: Find Safe Bricks to Disintegrate\n",
    "def find_safe_to_disintegrate(bricks, final_positions):\n",
    "    safe_bricks = []\n",
    "    \n",
    "    for brick in bricks:\n",
    "        start, end = brick\n",
    "        \n",
    "        # Remove the brick and simulate the new fall\n",
    "        remaining_positions = final_positions.copy()\n",
    "        del remaining_positions[(start[0], start[1], start[2])]\n",
    "        \n",
    "        new_fall = simulate_fall(remaining_positions)\n",
    "        \n",
    "        # If no brick falls further, the brick can be disintegrated\n",
    "        if not any(new_fall[b] == (start[0], start[1], start[2]) for b in new_fall):\n",
    "            safe_bricks.append(brick)\n",
    "    \n",
    "    return safe_bricks\n",
    "\n",
    "# Step 5: Main Execution - Read input from a file\n",
    "def read_input_file(filename):\n",
    "    with open(filename, 'r') as file:\n",
    "        # Read lines from the file, strip any surrounding whitespace, and return the list of lines\n",
    "        return [line.strip() for line in file.readlines()]\n",
    "\n",
    "# Example usage\n",
    "input_data = read_input_file('input.txt')\n",
    "\n",
    "bricks = parse_bricks(input_data)\n",
    "final_positions = simulate_fall(bricks)\n",
    "safe_bricks = find_safe_to_disintegrate(bricks, final_positions)\n",
    "\n",
    "print(f\"Number of bricks that can be safely disintegrated: {len(safe_bricks)}\")"
   ]
  },
  {
   "cell_type": "code",
   "execution_count": null,
   "id": "c77b585f-9427-4f69-aa67-d96c9040dd1a",
   "metadata": {},
   "outputs": [],
   "source": []
  }
 ],
 "metadata": {
  "kernelspec": {
   "display_name": "Python 3 (ipykernel)",
   "language": "python",
   "name": "python3"
  },
  "language_info": {
   "codemirror_mode": {
    "name": "ipython",
    "version": 3
   },
   "file_extension": ".py",
   "mimetype": "text/x-python",
   "name": "python",
   "nbconvert_exporter": "python",
   "pygments_lexer": "ipython3",
   "version": "3.12.3"
  }
 },
 "nbformat": 4,
 "nbformat_minor": 5
}
