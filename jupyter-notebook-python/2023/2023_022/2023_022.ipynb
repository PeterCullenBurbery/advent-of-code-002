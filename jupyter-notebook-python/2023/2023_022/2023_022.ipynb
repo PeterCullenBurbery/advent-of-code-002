{
 "cells": [
  {
   "cell_type": "markdown",
   "id": "2e605f3b",
   "metadata": {},
   "source": [
    "# Advent of Code"
   ]
  },
  {
   "cell_type": "markdown",
   "id": "edeb1b66",
   "metadata": {},
   "source": [
    "## 2023-012-022\n",
    "## 2023 022"
   ]
  },
  {
   "cell_type": "markdown",
   "id": "4643795c",
   "metadata": {},
   "source": [
    "https://adventofcode.com/2023/day/22"
   ]
  },
  {
   "cell_type": "code",
   "execution_count": null,
   "id": "e426638d",
   "metadata": {},
   "outputs": [],
   "source": []
  }
 ],
 "metadata": {},
 "nbformat": 4,
 "nbformat_minor": 5
}
