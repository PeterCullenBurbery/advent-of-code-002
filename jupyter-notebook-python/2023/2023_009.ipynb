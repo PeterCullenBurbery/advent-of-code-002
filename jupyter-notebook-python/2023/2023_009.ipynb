{
 "cells": [
  {
   "cell_type": "markdown",
   "id": "6a1c9c89",
   "metadata": {},
   "source": [
    "# Advent of Code"
   ]
  },
  {
   "cell_type": "markdown",
   "id": "7e706a19",
   "metadata": {},
   "source": [
    "## 2023-012-009\n",
    "## 2023 009"
   ]
  },
  {
   "cell_type": "markdown",
   "id": "84404239",
   "metadata": {},
   "source": [
    "https://adventofcode.com/2023/day/9"
   ]
  },
  {
   "cell_type": "code",
   "execution_count": null,
   "id": "b839f196",
   "metadata": {},
   "outputs": [],
   "source": []
  }
 ],
 "metadata": {
  "kernelspec": {
   "display_name": "Python 3 (ipykernel)",
   "language": "python",
   "name": "python3"
  },
  "language_info": {
   "name": "python",
   "version": "3.12.3"
  }
 },
 "nbformat": 4,
 "nbformat_minor": 5
}
