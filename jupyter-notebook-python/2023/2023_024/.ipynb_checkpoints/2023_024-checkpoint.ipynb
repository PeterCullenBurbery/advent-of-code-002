{
 "cells": [
  {
   "cell_type": "markdown",
   "id": "d3732db8",
   "metadata": {},
   "source": [
    "# Advent of Code"
   ]
  },
  {
   "cell_type": "markdown",
   "id": "75dcceb3",
   "metadata": {},
   "source": [
    "## 2023-012-024\n",
    "## 2023 024"
   ]
  },
  {
   "cell_type": "markdown",
   "id": "0a3fe764",
   "metadata": {},
   "source": [
    "https://adventofcode.com/2023/day/24"
   ]
  },
  {
   "cell_type": "code",
   "execution_count": null,
   "id": "af05fff3",
   "metadata": {},
   "outputs": [],
   "source": []
  }
 ],
 "metadata": {},
 "nbformat": 4,
 "nbformat_minor": 5
}
