{
 "cells": [
  {
   "cell_type": "markdown",
   "id": "a2bb352c",
   "metadata": {},
   "source": [
    "# Advent of Code"
   ]
  },
  {
   "cell_type": "markdown",
   "id": "f41fe6a9",
   "metadata": {},
   "source": [
    "## 2023-012-023\n",
    "## 2023 023"
   ]
  },
  {
   "cell_type": "markdown",
   "id": "8a538e79",
   "metadata": {},
   "source": [
    "https://adventofcode.com/2023/day/23"
   ]
  },
  {
   "cell_type": "code",
   "execution_count": null,
   "id": "53470bc5",
   "metadata": {},
   "outputs": [],
   "source": []
  }
 ],
 "metadata": {
  "kernelspec": {
   "display_name": "Python 3 (ipykernel)",
   "language": "python",
   "name": "python3"
  },
  "language_info": {
   "name": "python",
   "version": "3.12.3"
  }
 },
 "nbformat": 4,
 "nbformat_minor": 5
}
