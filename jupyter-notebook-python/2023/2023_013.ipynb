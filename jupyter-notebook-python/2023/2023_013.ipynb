{
 "cells": [
  {
   "cell_type": "markdown",
   "id": "441b2fb9",
   "metadata": {},
   "source": [
    "# Advent of Code"
   ]
  },
  {
   "cell_type": "markdown",
   "id": "28808056",
   "metadata": {},
   "source": [
    "## 2023-012-013\n",
    "## 2023 013"
   ]
  },
  {
   "cell_type": "markdown",
   "id": "62939696",
   "metadata": {},
   "source": [
    "https://adventofcode.com/2023/day/13"
   ]
  },
  {
   "cell_type": "code",
   "execution_count": null,
   "id": "246a04bb",
   "metadata": {},
   "outputs": [],
   "source": []
  }
 ],
 "metadata": {
  "kernelspec": {
   "display_name": "Python 3 (ipykernel)",
   "language": "python",
   "name": "python3"
  },
  "language_info": {
   "name": "python",
   "version": "3.12.3"
  }
 },
 "nbformat": 4,
 "nbformat_minor": 5
}
