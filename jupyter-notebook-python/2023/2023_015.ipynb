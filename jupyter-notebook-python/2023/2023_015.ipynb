{
 "cells": [
  {
   "cell_type": "markdown",
   "id": "8f5b2efd",
   "metadata": {},
   "source": [
    "# Advent of Code"
   ]
  },
  {
   "cell_type": "markdown",
   "id": "d71531dd",
   "metadata": {},
   "source": [
    "## 2023-012-015\n",
    "## 2023 015"
   ]
  },
  {
   "cell_type": "markdown",
   "id": "d2f7d584",
   "metadata": {},
   "source": [
    "https://adventofcode.com/2023/day/15"
   ]
  },
  {
   "cell_type": "code",
   "execution_count": null,
   "id": "a9c30c53",
   "metadata": {},
   "outputs": [],
   "source": []
  }
 ],
 "metadata": {
  "kernelspec": {
   "display_name": "Python 3 (ipykernel)",
   "language": "python",
   "name": "python3"
  },
  "language_info": {
   "name": "python",
   "version": "3.12.3"
  }
 },
 "nbformat": 4,
 "nbformat_minor": 5
}
