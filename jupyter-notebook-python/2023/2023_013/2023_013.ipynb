{
 "cells": [
  {
   "cell_type": "markdown",
   "id": "038323cf",
   "metadata": {},
   "source": [
    "# Advent of Code"
   ]
  },
  {
   "cell_type": "markdown",
   "id": "0f492cab",
   "metadata": {},
   "source": [
    "## 2023-012-013\n",
    "## 2023 013"
   ]
  },
  {
   "cell_type": "markdown",
   "id": "b0b9680b",
   "metadata": {},
   "source": [
    "https://adventofcode.com/2023/day/13"
   ]
  },
  {
   "cell_type": "code",
   "execution_count": 3,
   "id": "ae0f1c6a",
   "metadata": {},
   "outputs": [
    {
     "data": {
      "text/plain": [
       "3"
      ]
     },
     "execution_count": 3,
     "metadata": {},
     "output_type": "execute_result"
    }
   ],
   "source": [
    "import numpy as np\n",
    "\n",
    "# Read the input file\n",
    "with open('sample-input.txt', 'r') as file:\n",
    "    data = file.read()\n",
    "\n",
    "# Parse the patterns from the input\n",
    "patterns = [block.strip().splitlines() for block in data.split(\"\\n\\n\") if block.strip()]\n",
    "\n",
    "# Function to determine the reflection axis and compute the summary value for one pattern\n",
    "def calculate_summary_value(pattern):\n",
    "    grid = np.array([list(row) for row in pattern])\n",
    "    rows, cols = grid.shape\n",
    "\n",
    "    # Check for vertical reflection\n",
    "    for col in range(cols // 2):\n",
    "        if np.array_equal(grid[:, col], grid[:, cols - col - 1]):\n",
    "            vertical_axis = col + 1  # 1-based index of columns to the left\n",
    "            return vertical_axis\n",
    "\n",
    "    # Check for horizontal reflection\n",
    "    for row in range(rows // 2):\n",
    "        if np.array_equal(grid[row, :], grid[rows - row - 1, :]):\n",
    "            horizontal_axis = row + 1  # 1-based index of rows above\n",
    "            return 100 * horizontal_axis\n",
    "\n",
    "    return 0  # No reflection found\n",
    "\n",
    "# Compute the total summary value for all patterns\n",
    "total_summary_value = sum(calculate_summary_value(pattern) for pattern in patterns)\n",
    "total_summary_value"
   ]
  },
  {
   "cell_type": "code",
   "execution_count": 4,
   "id": "9d9464ec-dbe5-40e4-ac35-c3476bc04d99",
   "metadata": {},
   "outputs": [
    {
     "data": {
      "text/plain": [
       "0"
      ]
     },
     "execution_count": 4,
     "metadata": {},
     "output_type": "execute_result"
    }
   ],
   "source": [
    "# Improved function to determine reflection axis and compute summary value\n",
    "def calculate_summary_value_improved(pattern):\n",
    "    grid = np.array([list(row) for row in pattern])\n",
    "    rows, cols = grid.shape\n",
    "\n",
    "    # Check for vertical reflection\n",
    "    for col in range(1, cols // 2 + 1):  # Center column considered for reflection\n",
    "        if np.array_equal(grid[:, :col], np.fliplr(grid[:, col:col * 2])):\n",
    "            return col  # Columns to the left of the reflection axis\n",
    "\n",
    "    # Check for horizontal reflection\n",
    "    for row in range(1, rows // 2 + 1):  # Center row considered for reflection\n",
    "        if np.array_equal(grid[:row, :], np.flipud(grid[row:row * 2, :])):\n",
    "            return 100 * row  # Rows above the reflection axis\n",
    "\n",
    "    return 0  # No reflection found\n",
    "\n",
    "# Recompute the total summary value for all patterns\n",
    "total_summary_value_corrected = sum(calculate_summary_value_improved(pattern) for pattern in patterns)\n",
    "total_summary_value_corrected"
   ]
  },
  {
   "cell_type": "code",
   "execution_count": null,
   "id": "293de5e7-6baa-4544-bd33-ccac20b77f97",
   "metadata": {},
   "outputs": [],
   "source": []
  }
 ],
 "metadata": {
  "kernelspec": {
   "display_name": "Python 3 (ipykernel)",
   "language": "python",
   "name": "python3"
  },
  "language_info": {
   "codemirror_mode": {
    "name": "ipython",
    "version": 3
   },
   "file_extension": ".py",
   "mimetype": "text/x-python",
   "name": "python",
   "nbconvert_exporter": "python",
   "pygments_lexer": "ipython3",
   "version": "3.12.3"
  }
 },
 "nbformat": 4,
 "nbformat_minor": 5
}
