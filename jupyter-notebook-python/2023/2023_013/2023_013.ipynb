{
 "cells": [
  {
   "cell_type": "markdown",
   "id": "038323cf",
   "metadata": {},
   "source": [
    "# Advent of Code"
   ]
  },
  {
   "cell_type": "markdown",
   "id": "0f492cab",
   "metadata": {},
   "source": [
    "## 2023-012-013\n",
    "## 2023 013"
   ]
  },
  {
   "cell_type": "markdown",
   "id": "b0b9680b",
   "metadata": {},
   "source": [
    "https://adventofcode.com/2023/day/13"
   ]
  },
  {
   "cell_type": "code",
   "execution_count": null,
   "id": "ae0f1c6a",
   "metadata": {},
   "outputs": [],
   "source": []
  }
 ],
 "metadata": {},
 "nbformat": 4,
 "nbformat_minor": 5
}
