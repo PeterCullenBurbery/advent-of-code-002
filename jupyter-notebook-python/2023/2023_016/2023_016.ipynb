{
 "cells": [
  {
   "cell_type": "markdown",
   "id": "cf358880",
   "metadata": {},
   "source": [
    "# Advent of Code"
   ]
  },
  {
   "cell_type": "markdown",
   "id": "09b40d6a",
   "metadata": {},
   "source": [
    "## 2023-012-016\n",
    "## 2023 016"
   ]
  },
  {
   "cell_type": "markdown",
   "id": "efd3a36b",
   "metadata": {},
   "source": [
    "https://adventofcode.com/2023/day/16"
   ]
  },
  {
   "cell_type": "code",
   "execution_count": null,
   "id": "8a400829",
   "metadata": {},
   "outputs": [],
   "source": []
  }
 ],
 "metadata": {},
 "nbformat": 4,
 "nbformat_minor": 5
}
