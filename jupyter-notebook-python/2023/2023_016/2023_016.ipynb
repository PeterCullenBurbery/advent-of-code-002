{
 "cells": [
  {
   "cell_type": "markdown",
   "id": "cf358880",
   "metadata": {},
   "source": [
    "# Advent of Code"
   ]
  },
  {
   "cell_type": "markdown",
   "id": "09b40d6a",
   "metadata": {},
   "source": [
    "## 2023-012-016\n",
    "## 2023 016"
   ]
  },
  {
   "cell_type": "markdown",
   "id": "efd3a36b",
   "metadata": {},
   "source": [
    "https://adventofcode.com/2023/day/16"
   ]
  },
  {
   "cell_type": "code",
   "execution_count": null,
   "id": "8a400829",
   "metadata": {},
   "outputs": [],
   "source": [
    "# Read the grid from the input file\n",
    "with open('sample-input.txt', 'r') as file:\n",
    "    grid = [list(line.strip()) for line in file.readlines()]\n",
    "\n",
    "# Define the directions as (row change, column change)\n",
    "DIRECTIONS = {'R': (0, 1), 'L': (0, -1), 'U': (-1, 0), 'D': (1, 0)}\n",
    "\n",
    "# Define the mirror reflections and split directions\n",
    "MIRRORS = {\n",
    "    '/': {'R': 'U', 'L': 'D', 'U': 'R', 'D': 'L'},\n",
    "    '\\\\': {'R': 'D', 'L': 'U', 'U': 'L', 'D': 'R'}\n",
    "}\n",
    "SPLITTERS = {'-': ['R', 'L'], '|': ['U', 'D']}\n",
    "\n",
    "# Initialize the starting position and direction\n",
    "start_row, start_col = 0, 0\n",
    "direction = 'R'\n",
    "\n",
    "# Set to keep track of energized tiles\n",
    "energized = set()\n",
    "\n",
    "# BFS to simulate beam propagation\n",
    "from collections import deque\n",
    "\n",
    "queue = deque([(start_row, start_col, direction)])\n",
    "\n",
    "while queue:\n",
    "    row, col, current_direction = queue.popleft()\n",
    "\n",
    "    # Mark the tile as energized\n",
    "    energized.add((row, col))\n",
    "\n",
    "    # Move in the current direction\n",
    "    dr, dc = DIRECTIONS[current_direction]\n",
    "    row, col = row + dr, col + dc\n",
    "\n",
    "    # Check boundaries\n",
    "    if row < 0 or row >= len(grid) or col < 0 or col >= len(grid[0]):\n",
    "        continue\n",
    "\n",
    "    tile = grid[row][col]\n",
    "\n",
    "    if tile == '.':\n",
    "        # Continue in the same direction\n",
    "        queue.append((row, col, current_direction))\n",
    "    elif tile in MIRRORS:\n",
    "        # Reflect according to the mirror\n",
    "        new_direction = MIRRORS[tile][current_direction]\n",
    "        queue.append((row, col, new_direction))\n",
    "    elif tile in SPLITTERS:\n",
    "        # Split the beam into multiple directions\n",
    "        for new_direction in SPLITTERS[tile]:\n",
    "            queue.append((row, col, new_direction))\n",
    "\n",
    "# Count the number of unique energized tiles\n",
    "len(energized)"
   ]
  },
  {
   "cell_type": "code",
   "execution_count": null,
   "id": "2b4a4d57-f8d6-4544-9ebe-c2fac7256241",
   "metadata": {},
   "outputs": [],
   "source": []
  }
 ],
 "metadata": {
  "kernelspec": {
   "display_name": "Python 3 (ipykernel)",
   "language": "python",
   "name": "python3"
  },
  "language_info": {
   "codemirror_mode": {
    "name": "ipython",
    "version": 3
   },
   "file_extension": ".py",
   "mimetype": "text/x-python",
   "name": "python",
   "nbconvert_exporter": "python",
   "pygments_lexer": "ipython3",
   "version": "3.12.3"
  }
 },
 "nbformat": 4,
 "nbformat_minor": 5
}
