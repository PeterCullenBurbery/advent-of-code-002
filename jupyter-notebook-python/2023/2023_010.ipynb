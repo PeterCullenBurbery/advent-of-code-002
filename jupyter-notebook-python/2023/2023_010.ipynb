{
 "cells": [
  {
   "cell_type": "markdown",
   "id": "f5b7c853",
   "metadata": {},
   "source": [
    "# Advent of Code"
   ]
  },
  {
   "cell_type": "markdown",
   "id": "9a7908c3",
   "metadata": {},
   "source": [
    "## 2023-012-010\n",
    "## 2023 010"
   ]
  },
  {
   "cell_type": "markdown",
   "id": "7e790b32",
   "metadata": {},
   "source": [
    "https://adventofcode.com/2023/day/10"
   ]
  },
  {
   "cell_type": "code",
   "execution_count": null,
   "id": "a6a5c2d6",
   "metadata": {},
   "outputs": [],
   "source": []
  }
 ],
 "metadata": {
  "kernelspec": {
   "display_name": "Python 3 (ipykernel)",
   "language": "python",
   "name": "python3"
  },
  "language_info": {
   "name": "python",
   "version": "3.12.3"
  }
 },
 "nbformat": 4,
 "nbformat_minor": 5
}
