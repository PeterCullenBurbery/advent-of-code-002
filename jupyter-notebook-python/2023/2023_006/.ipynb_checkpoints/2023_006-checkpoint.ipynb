{
 "cells": [
  {
   "cell_type": "markdown",
   "id": "078ce131",
   "metadata": {},
   "source": [
    "# Advent of Code"
   ]
  },
  {
   "cell_type": "markdown",
   "id": "7e2943d2",
   "metadata": {},
   "source": [
    "## 2023-012-006\n",
    "## 2023 006"
   ]
  },
  {
   "cell_type": "markdown",
   "id": "7d5b0ae2",
   "metadata": {},
   "source": [
    "https://adventofcode.com/2023/day/6"
   ]
  },
  {
   "cell_type": "code",
   "execution_count": 2,
   "id": "23124b9b-a531-4255-ac3d-2020543d0d1d",
   "metadata": {},
   "outputs": [
    {
     "data": {
      "text/plain": [
       "4403592"
      ]
     },
     "execution_count": 2,
     "metadata": {},
     "output_type": "execute_result"
    }
   ],
   "source": [
    "# Redefine necessary functions and reprocess after state reset\n",
    "\n",
    "# Parse the race data from the input file\n",
    "def parse_race_data(file_path):\n",
    "    with open(file_path, 'r') as file:\n",
    "        lines = file.readlines()\n",
    "        times = list(map(int, lines[0].replace(\"Time:\", \"\").split()))\n",
    "        distances = list(map(int, lines[1].replace(\"Distance:\", \"\").split()))\n",
    "    return times, distances\n",
    "\n",
    "# Calculate the number of ways to beat the record for each race\n",
    "def calculate_ways_to_win(times, distances):\n",
    "    total_ways = 1\n",
    "    for T, D in zip(times, distances):\n",
    "        ways = 0\n",
    "        for t in range(1, T):  # Button can be held from 1 to T-1 milliseconds\n",
    "            if t * (T - t) > D:\n",
    "                ways += 1\n",
    "        total_ways *= ways\n",
    "    return total_ways\n",
    "\n",
    "# File path\n",
    "file_path = 'input.txt'\n",
    "\n",
    "# Parse the input file\n",
    "times, distances = parse_race_data(file_path)\n",
    "\n",
    "# Calculate the total ways to win\n",
    "total_ways_to_win = calculate_ways_to_win(times, distances)\n",
    "total_ways_to_win"
   ]
  },
  {
   "cell_type": "code",
   "execution_count": 3,
   "id": "0cd990fb-d602-44db-bf06-1b7222d447b8",
   "metadata": {},
   "outputs": [
    {
     "data": {
      "text/plain": [
       "38017587"
      ]
     },
     "execution_count": 3,
     "metadata": {},
     "output_type": "execute_result"
    }
   ],
   "source": [
    "# Parse the corrected race data for a single race\n",
    "def parse_single_race(file_path):\n",
    "    with open(file_path, 'r') as file:\n",
    "        lines = file.readlines()\n",
    "        time = int(lines[0].replace(\"Time:\", \"\").replace(\" \", \"\").strip())\n",
    "        distance = int(lines[1].replace(\"Distance:\", \"\").replace(\" \", \"\").strip())\n",
    "    return time, distance\n",
    "\n",
    "# Calculate the number of ways to beat the record for a single race\n",
    "def calculate_single_race_ways(T, D):\n",
    "    ways = 0\n",
    "    for t in range(1, T):  # Button can be held from 1 to T-1 milliseconds\n",
    "        if t * (T - t) > D:\n",
    "            ways += 1\n",
    "    return ways\n",
    "\n",
    "# Parse the single race data\n",
    "single_race_time, single_race_distance = parse_single_race(file_path)\n",
    "\n",
    "# Calculate the ways to win the single race\n",
    "single_race_ways = calculate_single_race_ways(single_race_time, single_race_distance)\n",
    "single_race_ways"
   ]
  },
  {
   "cell_type": "code",
   "execution_count": null,
   "id": "b6e952cb-eaa7-44d1-8820-046f512a4aa9",
   "metadata": {},
   "outputs": [],
   "source": []
  }
 ],
 "metadata": {
  "kernelspec": {
   "display_name": "Python 3 (ipykernel)",
   "language": "python",
   "name": "python3"
  },
  "language_info": {
   "codemirror_mode": {
    "name": "ipython",
    "version": 3
   },
   "file_extension": ".py",
   "mimetype": "text/x-python",
   "name": "python",
   "nbconvert_exporter": "python",
   "pygments_lexer": "ipython3",
   "version": "3.12.3"
  }
 },
 "nbformat": 4,
 "nbformat_minor": 5
}
