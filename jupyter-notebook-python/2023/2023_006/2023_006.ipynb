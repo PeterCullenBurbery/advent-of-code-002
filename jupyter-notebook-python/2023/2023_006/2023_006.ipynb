{
 "cells": [
  {
   "cell_type": "markdown",
   "id": "078ce131",
   "metadata": {},
   "source": [
    "# Advent of Code"
   ]
  },
  {
   "cell_type": "markdown",
   "id": "7e2943d2",
   "metadata": {},
   "source": [
    "## 2023-012-006\n",
    "## 2023 006"
   ]
  },
  {
   "cell_type": "markdown",
   "id": "7d5b0ae2",
   "metadata": {},
   "source": [
    "https://adventofcode.com/2023/day/6"
   ]
  },
  {
   "cell_type": "code",
   "execution_count": null,
   "id": "322bd240",
   "metadata": {},
   "outputs": [],
   "source": []
  }
 ],
 "metadata": {},
 "nbformat": 4,
 "nbformat_minor": 5
}
