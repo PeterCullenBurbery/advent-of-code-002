{
 "cells": [
  {
   "cell_type": "markdown",
   "id": "bea756a0",
   "metadata": {},
   "source": [
    "# Advent of Code"
   ]
  },
  {
   "cell_type": "markdown",
   "id": "4aa1d2d2",
   "metadata": {},
   "source": [
    "## 2023-012-008\n",
    "## 2023 008"
   ]
  },
  {
   "cell_type": "markdown",
   "id": "b1ad703d",
   "metadata": {},
   "source": [
    "https://adventofcode.com/2023/day/8"
   ]
  },
  {
   "cell_type": "code",
   "execution_count": null,
   "id": "eb1b045b",
   "metadata": {},
   "outputs": [],
   "source": []
  }
 ],
 "metadata": {
  "kernelspec": {
   "display_name": "Python 3 (ipykernel)",
   "language": "python",
   "name": "python3"
  },
  "language_info": {
   "name": "python",
   "version": "3.12.3"
  }
 },
 "nbformat": 4,
 "nbformat_minor": 5
}
