{
 "cells": [
  {
   "cell_type": "markdown",
   "id": "d4c4e0fd",
   "metadata": {},
   "source": [
    "# Advent of Code"
   ]
  },
  {
   "cell_type": "markdown",
   "id": "fd1c8012",
   "metadata": {},
   "source": [
    "## 2023-012-010\n",
    "## 2023 010"
   ]
  },
  {
   "cell_type": "markdown",
   "id": "7ea3c1b3",
   "metadata": {},
   "source": [
    "https://adventofcode.com/2023/day/10"
   ]
  },
  {
   "cell_type": "code",
   "execution_count": null,
   "id": "14cec4a6",
   "metadata": {},
   "outputs": [],
   "source": []
  }
 ],
 "metadata": {},
 "nbformat": 4,
 "nbformat_minor": 5
}
