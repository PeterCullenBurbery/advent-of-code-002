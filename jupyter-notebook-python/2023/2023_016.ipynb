{
 "cells": [
  {
   "cell_type": "markdown",
   "id": "83c88891",
   "metadata": {},
   "source": [
    "# Advent of Code"
   ]
  },
  {
   "cell_type": "markdown",
   "id": "02587eea",
   "metadata": {},
   "source": [
    "## 2023-012-016\n",
    "## 2023 016"
   ]
  },
  {
   "cell_type": "markdown",
   "id": "4eef005a",
   "metadata": {},
   "source": [
    "https://adventofcode.com/2023/day/16"
   ]
  },
  {
   "cell_type": "code",
   "execution_count": null,
   "id": "46625258",
   "metadata": {},
   "outputs": [],
   "source": []
  }
 ],
 "metadata": {
  "kernelspec": {
   "display_name": "Python 3 (ipykernel)",
   "language": "python",
   "name": "python3"
  },
  "language_info": {
   "name": "python",
   "version": "3.12.3"
  }
 },
 "nbformat": 4,
 "nbformat_minor": 5
}
