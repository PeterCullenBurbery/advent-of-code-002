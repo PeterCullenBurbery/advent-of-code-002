{
 "cells": [
  {
   "cell_type": "markdown",
   "id": "c9bf0fb1",
   "metadata": {},
   "source": [
    "# Advent of Code"
   ]
  },
  {
   "cell_type": "markdown",
   "id": "fb8a840e",
   "metadata": {},
   "source": [
    "## 2023-012-018\n",
    "## 2023 018"
   ]
  },
  {
   "cell_type": "markdown",
   "id": "cde50c34",
   "metadata": {},
   "source": [
    "https://adventofcode.com/2023/day/18"
   ]
  },
  {
   "cell_type": "code",
   "execution_count": 2,
   "id": "28f07d18",
   "metadata": {},
   "outputs": [
    {
     "data": {
      "text/plain": [
       "38"
      ]
     },
     "execution_count": 2,
     "metadata": {},
     "output_type": "execute_result"
    }
   ],
   "source": [
    "# Read the dig plan from the input file\n",
    "with open('sample-input.txt', 'r') as file:\n",
    "    dig_plan = file.readlines()\n",
    "\n",
    "# Parse the dig plan into movements\n",
    "movements = []\n",
    "for line in dig_plan:\n",
    "    parts = line.split()\n",
    "    direction = parts[0]\n",
    "    steps = int(parts[1])\n",
    "    movements.append((direction, steps))\n",
    "\n",
    "# Initialize the grid\n",
    "from collections import defaultdict\n",
    "\n",
    "grid = defaultdict(lambda: '.')\n",
    "\n",
    "# Starting position\n",
    "x, y = 0, 0\n",
    "grid[(x, y)] = '#'\n",
    "\n",
    "# Execute the dig plan\n",
    "for direction, steps in movements:\n",
    "    for _ in range(steps):\n",
    "        if direction == 'U':\n",
    "            y -= 1\n",
    "        elif direction == 'D':\n",
    "            y += 1\n",
    "        elif direction == 'L':\n",
    "            x -= 1\n",
    "        elif direction == 'R':\n",
    "            x += 1\n",
    "        grid[(x, y)] = '#'\n",
    "\n",
    "# Find the boundaries of the trench\n",
    "min_x = min(pos[0] for pos in grid.keys())\n",
    "max_x = max(pos[0] for pos in grid.keys())\n",
    "min_y = min(pos[1] for pos in grid.keys())\n",
    "max_y = max(pos[1] for pos in grid.keys())\n",
    "\n",
    "# Fill the interior of the lagoon\n",
    "for i in range(min_x, max_x + 1):\n",
    "    for j in range(min_y, max_y + 1):\n",
    "        if grid[(i, j)] == '.' and all(grid[(i + dx, j + dy)] == '#' for dx, dy in [(-1, 0), (1, 0), (0, -1), (0, 1)]):\n",
    "            grid[(i, j)] = '#'\n",
    "\n",
    "# Calculate the volume of the lagoon\n",
    "volume = sum(1 for value in grid.values() if value == '#')\n",
    "volume"
   ]
  },
  {
   "cell_type": "code",
   "execution_count": null,
   "id": "4bf0375e-b186-48c0-aa92-d7f0611d59fe",
   "metadata": {},
   "outputs": [],
   "source": []
  }
 ],
 "metadata": {
  "kernelspec": {
   "display_name": "Python 3 (ipykernel)",
   "language": "python",
   "name": "python3"
  },
  "language_info": {
   "codemirror_mode": {
    "name": "ipython",
    "version": 3
   },
   "file_extension": ".py",
   "mimetype": "text/x-python",
   "name": "python",
   "nbconvert_exporter": "python",
   "pygments_lexer": "ipython3",
   "version": "3.12.3"
  }
 },
 "nbformat": 4,
 "nbformat_minor": 5
}
