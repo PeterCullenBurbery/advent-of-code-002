{
 "cells": [
  {
   "cell_type": "markdown",
   "id": "c9bf0fb1",
   "metadata": {},
   "source": [
    "# Advent of Code"
   ]
  },
  {
   "cell_type": "markdown",
   "id": "fb8a840e",
   "metadata": {},
   "source": [
    "## 2023-012-018\n",
    "## 2023 018"
   ]
  },
  {
   "cell_type": "markdown",
   "id": "cde50c34",
   "metadata": {},
   "source": [
    "https://adventofcode.com/2023/day/18"
   ]
  },
  {
   "cell_type": "code",
   "execution_count": null,
   "id": "28f07d18",
   "metadata": {},
   "outputs": [],
   "source": []
  }
 ],
 "metadata": {},
 "nbformat": 4,
 "nbformat_minor": 5
}
