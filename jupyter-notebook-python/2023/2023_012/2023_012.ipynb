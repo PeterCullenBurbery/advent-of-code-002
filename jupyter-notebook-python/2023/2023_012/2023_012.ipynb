{
 "cells": [
  {
   "cell_type": "markdown",
   "id": "5e1e2f17",
   "metadata": {},
   "source": [
    "# Advent of Code"
   ]
  },
  {
   "cell_type": "markdown",
   "id": "38063203",
   "metadata": {},
   "source": [
    "## 2023-012-012\n",
    "## 2023 012"
   ]
  },
  {
   "cell_type": "markdown",
   "id": "0182e9c5",
   "metadata": {},
   "source": [
    "https://adventofcode.com/2023/day/12"
   ]
  },
  {
   "cell_type": "code",
   "execution_count": 1,
   "id": "7a414291",
   "metadata": {},
   "outputs": [
    {
     "data": {
      "text/plain": [
       "6935"
      ]
     },
     "execution_count": 1,
     "metadata": {},
     "output_type": "execute_result"
    }
   ],
   "source": [
    "from itertools import product\n",
    "\n",
    "# Read input file\n",
    "file_path = 'input.txt'\n",
    "with open(file_path, 'r') as file:\n",
    "    lines = file.readlines()\n",
    "\n",
    "# Parse the input\n",
    "def parse_input(lines):\n",
    "    rows = []\n",
    "    for line in lines:\n",
    "        if line.strip():\n",
    "            parts = line.strip().split()\n",
    "            row_pattern = parts[0]\n",
    "            group_sizes = list(map(int, parts[1].split(',')))\n",
    "            rows.append((row_pattern, group_sizes))\n",
    "    return rows\n",
    "\n",
    "# Generate valid arrangements for a single row\n",
    "def count_valid_arrangements(row_pattern, group_sizes):\n",
    "    n = len(row_pattern)\n",
    "    unknown_indices = [i for i, char in enumerate(row_pattern) if char == '?']\n",
    "    total_arrangements = 0\n",
    "\n",
    "    # Generate all combinations of . and # for ? positions\n",
    "    for combination in product(['.', '#'], repeat=len(unknown_indices)):\n",
    "        test_row = list(row_pattern)\n",
    "        for idx, value in zip(unknown_indices, combination):\n",
    "            test_row[idx] = value\n",
    "        test_row = ''.join(test_row)\n",
    "\n",
    "        # Check if the test row matches the group sizes\n",
    "        groups = [len(g) for g in ''.join(test_row).split('.') if g]\n",
    "        if groups == group_sizes:\n",
    "            total_arrangements += 1\n",
    "\n",
    "    return total_arrangements\n",
    "\n",
    "# Main computation\n",
    "rows = parse_input(lines)\n",
    "results = [count_valid_arrangements(row, groups) for row, groups in rows]\n",
    "total_count = sum(results)\n",
    "total_count"
   ]
  },
  {
   "cell_type": "markdown",
   "id": "4c59b0b3-6dbb-4b9f-9e5b-72e5d7c6e8aa",
   "metadata": {},
   "source": [
    "56777050499194131621070566\n",
    "That's not the right answer; your answer is too high. If you're stuck, make sure you're using the full input data; there are also some general tips on the about page, or you can ask for hints on the subreddit. Please wait one minute before trying again. [Return to Day 12]"
   ]
  },
  {
   "cell_type": "code",
   "execution_count": 1,
   "id": "21b5683b-3d49-4026-bc04-aa271969cf68",
   "metadata": {},
   "outputs": [
    {
     "data": {
      "text/plain": [
       "True"
      ]
     },
     "execution_count": 1,
     "metadata": {},
     "output_type": "execute_result"
    }
   ],
   "source": [
    "48063507076180274477067714<56777050499194131621070566"
   ]
  },
  {
   "cell_type": "markdown",
   "id": "3d2c421c-17a3-4a54-ab98-ac378e29ab54",
   "metadata": {},
   "source": [
    "48063507076180274477067714\n",
    "That's not the right answer; your answer is too high. If you're stuck, make sure you're using the full input data; there are also some general tips on the about page, or you can ask for hints on the subreddit. Please wait one minute before trying again. [Return to Day 12]"
   ]
  },
  {
   "cell_type": "code",
   "execution_count": null,
   "id": "fb8dbe5d-546f-45ca-a0cb-41b234016db9",
   "metadata": {},
   "outputs": [],
   "source": []
  }
 ],
 "metadata": {
  "kernelspec": {
   "display_name": "Python 3 (ipykernel)",
   "language": "python",
   "name": "python3"
  },
  "language_info": {
   "codemirror_mode": {
    "name": "ipython",
    "version": 3
   },
   "file_extension": ".py",
   "mimetype": "text/x-python",
   "name": "python",
   "nbconvert_exporter": "python",
   "pygments_lexer": "ipython3",
   "version": "3.12.3"
  }
 },
 "nbformat": 4,
 "nbformat_minor": 5
}
