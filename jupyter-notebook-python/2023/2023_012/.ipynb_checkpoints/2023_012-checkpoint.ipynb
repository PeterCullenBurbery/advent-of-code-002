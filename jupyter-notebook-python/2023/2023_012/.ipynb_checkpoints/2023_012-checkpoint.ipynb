{
 "cells": [
  {
   "cell_type": "markdown",
   "id": "5e1e2f17",
   "metadata": {},
   "source": [
    "# Advent of Code"
   ]
  },
  {
   "cell_type": "markdown",
   "id": "38063203",
   "metadata": {},
   "source": [
    "## 2023-012-012\n",
    "## 2023 012"
   ]
  },
  {
   "cell_type": "markdown",
   "id": "0182e9c5",
   "metadata": {},
   "source": [
    "https://adventofcode.com/2023/day/12"
   ]
  },
  {
   "cell_type": "code",
   "execution_count": null,
   "id": "7a414291",
   "metadata": {},
   "outputs": [],
   "source": []
  }
 ],
 "metadata": {},
 "nbformat": 4,
 "nbformat_minor": 5
}
