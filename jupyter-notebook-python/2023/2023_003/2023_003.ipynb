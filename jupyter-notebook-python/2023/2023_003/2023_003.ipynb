{
 "cells": [
  {
   "cell_type": "markdown",
   "id": "80d26652",
   "metadata": {},
   "source": [
    "# Advent of Code"
   ]
  },
  {
   "cell_type": "markdown",
   "id": "7324ce25",
   "metadata": {},
   "source": [
    "## 2023-012-003\n",
    "## 2023 003"
   ]
  },
  {
   "cell_type": "markdown",
   "id": "11554811",
   "metadata": {},
   "source": [
    "https://adventofcode.com/2023/day/3"
   ]
  },
  {
   "cell_type": "code",
   "execution_count": null,
   "id": "29f3e368",
   "metadata": {},
   "outputs": [],
   "source": []
  }
 ],
 "metadata": {},
 "nbformat": 4,
 "nbformat_minor": 5
}
