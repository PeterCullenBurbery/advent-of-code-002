{
 "cells": [
  {
   "cell_type": "markdown",
   "id": "80d26652",
   "metadata": {},
   "source": [
    "# Advent of Code"
   ]
  },
  {
   "cell_type": "markdown",
   "id": "7324ce25",
   "metadata": {},
   "source": [
    "## 2023-012-003\n",
    "## 2023 003"
   ]
  },
  {
   "cell_type": "markdown",
   "id": "11554811",
   "metadata": {},
   "source": [
    "https://adventofcode.com/2023/day/3"
   ]
  },
  {
   "cell_type": "code",
   "execution_count": 2,
   "id": "29f3e368",
   "metadata": {},
   "outputs": [
    {
     "data": {
      "text/plain": [
       "8201"
      ]
     },
     "execution_count": 2,
     "metadata": {},
     "output_type": "execute_result"
    }
   ],
   "source": [
    "import numpy as np\n",
    "\n",
    "# Read the engine schematic from the file\n",
    "with open('input.txt', 'r') as file:\n",
    "    schematic = [list(line.strip()) for line in file.readlines()]\n",
    "\n",
    "# Convert the schematic to a numpy array for easier manipulation\n",
    "schematic_array = np.array(schematic)\n",
    "\n",
    "# Define the symbols that represent \"adjacent symbols\"\n",
    "symbols = set(\"*&@#$+=-/%\")\n",
    "\n",
    "# Get the dimensions of the schematic\n",
    "rows, cols = schematic_array.shape\n",
    "\n",
    "# Function to check if a cell is within bounds and contains a symbol\n",
    "def is_symbol(r, c):\n",
    "    return 0 <= r < rows and 0 <= c < cols and schematic_array[r, c] in symbols\n",
    "\n",
    "# Find all the numbers that are adjacent to symbols\n",
    "part_numbers_sum = 0\n",
    "\n",
    "for r in range(rows):\n",
    "    for c in range(cols):\n",
    "        if schematic_array[r, c].isdigit():  # Check if the current cell is a digit\n",
    "            # Check all 8 directions for adjacency to a symbol\n",
    "            if any(is_symbol(r + dr, c + dc) for dr, dc in [(-1, -1), (-1, 0), (-1, 1), \n",
    "                                                            (0, -1),         (0, 1), \n",
    "                                                            (1, -1), (1, 0), (1, 1)]):\n",
    "                part_numbers_sum += int(schematic_array[r, c])\n",
    "\n",
    "part_numbers_sum"
   ]
  },
  {
   "cell_type": "code",
   "execution_count": null,
   "id": "09618b49-0555-40f0-827d-9dd15abd109d",
   "metadata": {},
   "outputs": [],
   "source": []
  }
 ],
 "metadata": {
  "kernelspec": {
   "display_name": "Python 3 (ipykernel)",
   "language": "python",
   "name": "python3"
  },
  "language_info": {
   "codemirror_mode": {
    "name": "ipython",
    "version": 3
   },
   "file_extension": ".py",
   "mimetype": "text/x-python",
   "name": "python",
   "nbconvert_exporter": "python",
   "pygments_lexer": "ipython3",
   "version": "3.12.3"
  }
 },
 "nbformat": 4,
 "nbformat_minor": 5
}
