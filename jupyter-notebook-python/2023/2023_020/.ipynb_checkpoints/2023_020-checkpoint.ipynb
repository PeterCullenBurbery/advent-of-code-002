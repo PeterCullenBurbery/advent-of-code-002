{
 "cells": [
  {
   "cell_type": "markdown",
   "id": "4131e624",
   "metadata": {},
   "source": [
    "# Advent of Code"
   ]
  },
  {
   "cell_type": "markdown",
   "id": "30d03a3d",
   "metadata": {},
   "source": [
    "## 2023-012-020\n",
    "## 2023 020"
   ]
  },
  {
   "cell_type": "markdown",
   "id": "b5249855",
   "metadata": {},
   "source": [
    "https://adventofcode.com/2023/day/20"
   ]
  },
  {
   "cell_type": "code",
   "execution_count": null,
   "id": "cc4beeb2",
   "metadata": {},
   "outputs": [],
   "source": []
  }
 ],
 "metadata": {},
 "nbformat": 4,
 "nbformat_minor": 5
}
