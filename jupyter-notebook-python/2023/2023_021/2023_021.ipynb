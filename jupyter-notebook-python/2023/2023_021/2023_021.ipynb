{
 "cells": [
  {
   "cell_type": "markdown",
   "id": "3adcf5a0",
   "metadata": {},
   "source": [
    "# Advent of Code"
   ]
  },
  {
   "cell_type": "markdown",
   "id": "3b8111eb",
   "metadata": {},
   "source": [
    "## 2023-012-021\n",
    "## 2023 021"
   ]
  },
  {
   "cell_type": "markdown",
   "id": "230b4f1a",
   "metadata": {},
   "source": [
    "https://adventofcode.com/2023/day/21"
   ]
  },
  {
   "cell_type": "code",
   "execution_count": 1,
   "id": "e1bc7ecf",
   "metadata": {},
   "outputs": [
    {
     "name": "stdout",
     "output_type": "stream",
     "text": [
      "Number of reachable garden plots in exactly 64 steps: 0\n"
     ]
    }
   ],
   "source": [
    "from collections import deque\n",
    "\n",
    "# Directions for movement: north, south, east, west\n",
    "DIRECTIONS = [(-1, 0), (1, 0), (0, -1), (0, 1)]\n",
    "\n",
    "def bfs(grid, start, target_steps):\n",
    "    rows, cols = len(grid), len(grid[0])\n",
    "    \n",
    "    # Queue holds tuples of the form (row, col, steps_taken)\n",
    "    queue = deque([(start[0], start[1], 0)])\n",
    "    \n",
    "    # Set to keep track of visited positions\n",
    "    visited = set()\n",
    "    visited.add(start)\n",
    "    \n",
    "    # Store the number of positions reachable at exactly `target_steps`\n",
    "    reachable = set()\n",
    "    \n",
    "    while queue:\n",
    "        r, c, steps = queue.popleft()\n",
    "        \n",
    "        # If we reach exactly target_steps, mark this as a reachable spot\n",
    "        if steps == target_steps:\n",
    "            reachable.add((r, c))\n",
    "        \n",
    "        # If we've already taken enough steps, don't continue expanding\n",
    "        if steps < target_steps:\n",
    "            # Explore all four directions (north, south, east, west)\n",
    "            for dr, dc in DIRECTIONS:\n",
    "                nr, nc = r + dr, c + dc\n",
    "                \n",
    "                # Check if the new position is within bounds and is a garden plot\n",
    "                if 0 <= nr < rows and 0 <= nc < cols and grid[nr][nc] == '.' and (nr, nc) not in visited:\n",
    "                    visited.add((nr, nc))\n",
    "                    queue.append((nr, nc, steps + 1))\n",
    "    \n",
    "    return len(reachable)\n",
    "\n",
    "def read_input(filename):\n",
    "    with open(filename, 'r') as file:\n",
    "        grid = [line.strip() for line in file.readlines()]\n",
    "    return grid\n",
    "\n",
    "def find_start_position(grid):\n",
    "    for r in range(len(grid)):\n",
    "        for c in range(len(grid[r])):\n",
    "            if grid[r][c] == 'S':\n",
    "                return (r, c)\n",
    "\n",
    "def main():\n",
    "    # Read the input grid\n",
    "    grid = read_input('sample-input.txt')\n",
    "    \n",
    "    # Find the start position\n",
    "    start = find_start_position(grid)\n",
    "    \n",
    "    # Target steps (64 in this case)\n",
    "    target_steps = 64\n",
    "    \n",
    "    # Calculate the number of reachable garden plots in exactly 64 steps\n",
    "    result = bfs(grid, start, target_steps)\n",
    "    \n",
    "    print(f\"Number of reachable garden plots in exactly {target_steps} steps: {result}\")\n",
    "\n",
    "if __name__ == \"__main__\":\n",
    "    main()"
   ]
  },
  {
   "cell_type": "code",
   "execution_count": null,
   "id": "f4133a57-d27c-4484-913e-eeab2c9c6023",
   "metadata": {},
   "outputs": [],
   "source": []
  }
 ],
 "metadata": {
  "kernelspec": {
   "display_name": "Python 3 (ipykernel)",
   "language": "python",
   "name": "python3"
  },
  "language_info": {
   "codemirror_mode": {
    "name": "ipython",
    "version": 3
   },
   "file_extension": ".py",
   "mimetype": "text/x-python",
   "name": "python",
   "nbconvert_exporter": "python",
   "pygments_lexer": "ipython3",
   "version": "3.12.3"
  }
 },
 "nbformat": 4,
 "nbformat_minor": 5
}
