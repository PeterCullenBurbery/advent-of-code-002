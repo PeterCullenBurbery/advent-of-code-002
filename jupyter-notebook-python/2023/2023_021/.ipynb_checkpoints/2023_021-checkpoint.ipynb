{
 "cells": [
  {
   "cell_type": "markdown",
   "id": "3adcf5a0",
   "metadata": {},
   "source": [
    "# Advent of Code"
   ]
  },
  {
   "cell_type": "markdown",
   "id": "3b8111eb",
   "metadata": {},
   "source": [
    "## 2023-012-021\n",
    "## 2023 021"
   ]
  },
  {
   "cell_type": "markdown",
   "id": "230b4f1a",
   "metadata": {},
   "source": [
    "https://adventofcode.com/2023/day/21"
   ]
  },
  {
   "cell_type": "code",
   "execution_count": null,
   "id": "e1bc7ecf",
   "metadata": {},
   "outputs": [],
   "source": []
  }
 ],
 "metadata": {},
 "nbformat": 4,
 "nbformat_minor": 5
}
