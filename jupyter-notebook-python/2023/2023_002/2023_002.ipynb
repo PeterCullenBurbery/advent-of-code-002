{
 "cells": [
  {
   "cell_type": "markdown",
   "id": "5337e65a",
   "metadata": {},
   "source": [
    "# Advent of Code"
   ]
  },
  {
   "cell_type": "markdown",
   "id": "b2d385f2",
   "metadata": {},
   "source": [
    "## 2023-012-002\n",
    "## 2023 002"
   ]
  },
  {
   "cell_type": "markdown",
   "id": "dc09638d",
   "metadata": {},
   "source": [
    "https://adventofcode.com/2023/day/2"
   ]
  },
  {
   "cell_type": "code",
   "execution_count": null,
   "id": "0556f43a",
   "metadata": {},
   "outputs": [],
   "source": []
  }
 ],
 "metadata": {},
 "nbformat": 4,
 "nbformat_minor": 5
}
