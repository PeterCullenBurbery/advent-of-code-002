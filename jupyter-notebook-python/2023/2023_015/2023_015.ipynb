{
 "cells": [
  {
   "cell_type": "markdown",
   "id": "518d2f98",
   "metadata": {},
   "source": [
    "# Advent of Code"
   ]
  },
  {
   "cell_type": "markdown",
   "id": "ba2750ba",
   "metadata": {},
   "source": [
    "## 2023-012-015\n",
    "## 2023 015"
   ]
  },
  {
   "cell_type": "markdown",
   "id": "8229a1cc",
   "metadata": {},
   "source": [
    "https://adventofcode.com/2023/day/15"
   ]
  },
  {
   "cell_type": "code",
   "execution_count": 3,
   "id": "bff599bb",
   "metadata": {},
   "outputs": [
    {
     "data": {
      "text/plain": [
       "1320"
      ]
     },
     "execution_count": 3,
     "metadata": {},
     "output_type": "execute_result"
    }
   ],
   "source": [
    "# Open and read the input file\n",
    "with open('sample-input.txt', 'r') as file:\n",
    "    initialization_sequence = file.read().replace(\"\\n\", \"\")\n",
    "\n",
    "# Define the HASH function as described in the problem\n",
    "def hash_algorithm(string):\n",
    "    current_value = 0\n",
    "    for char in string:\n",
    "        ascii_code = ord(char)\n",
    "        current_value += ascii_code\n",
    "        current_value *= 17\n",
    "        current_value %= 256\n",
    "    return current_value\n",
    "\n",
    "# Split the initialization sequence into individual steps and apply the HASH algorithm\n",
    "steps = initialization_sequence.split(',')\n",
    "hash_results = [hash_algorithm(step) for step in steps]\n",
    "\n",
    "# Calculate the sum of the HASH results\n",
    "hash_sum = sum(hash_results)\n",
    "hash_sum"
   ]
  },
  {
   "cell_type": "code",
   "execution_count": 5,
   "id": "a57e267c-24c2-41d9-bdd5-94234dc335b8",
   "metadata": {},
   "outputs": [
    {
     "data": {
      "text/plain": [
       "509784"
      ]
     },
     "execution_count": 5,
     "metadata": {},
     "output_type": "execute_result"
    }
   ],
   "source": [
    "# Open and read the input file\n",
    "with open('input.txt', 'r') as file:\n",
    "    initialization_sequence = file.read().replace(\"\\n\", \"\")\n",
    "\n",
    "# Define the HASH function as described in the problem\n",
    "def hash_algorithm(string):\n",
    "    current_value = 0\n",
    "    for char in string:\n",
    "        ascii_code = ord(char)\n",
    "        current_value += ascii_code\n",
    "        current_value *= 17\n",
    "        current_value %= 256\n",
    "    return current_value\n",
    "\n",
    "# Split the initialization sequence into individual steps and apply the HASH algorithm\n",
    "steps = initialization_sequence.split(',')\n",
    "hash_results = [hash_algorithm(step) for step in steps]\n",
    "\n",
    "# Calculate the sum of the HASH results\n",
    "hash_sum = sum(hash_results)\n",
    "hash_sum"
   ]
  },
  {
   "cell_type": "code",
   "execution_count": 6,
   "id": "78a01b58-3aa4-4d17-b3ba-c7a7b9b2483b",
   "metadata": {},
   "outputs": [
    {
     "data": {
      "text/plain": [
       "230197"
      ]
     },
     "execution_count": 6,
     "metadata": {},
     "output_type": "execute_result"
    }
   ],
   "source": [
    "# Initialize the 256 boxes\n",
    "boxes = {i: [] for i in range(256)}\n",
    "\n",
    "# Define the function to process each step\n",
    "def process_step(step):\n",
    "    label = \"\".join(filter(str.isalpha, step))\n",
    "    operation = '=' if '=' in step else '-'\n",
    "    focal_length = int(step.split('=')[-1]) if '=' in step else None\n",
    "    box_number = hash_algorithm(label)\n",
    "\n",
    "    if operation == '-':\n",
    "        # Remove the lens with the given label from the box\n",
    "        boxes[box_number] = [lens for lens in boxes[box_number] if lens[0] != label]\n",
    "    elif operation == '=':\n",
    "        # Check if the label already exists in the box\n",
    "        for i, lens in enumerate(boxes[box_number]):\n",
    "            if lens[0] == label:\n",
    "                # Replace the old lens with the new one\n",
    "                boxes[box_number][i] = (label, focal_length)\n",
    "                return\n",
    "        # Add the new lens to the box\n",
    "        boxes[box_number].append((label, focal_length))\n",
    "\n",
    "# Process each step in the initialization sequence\n",
    "for step in steps:\n",
    "    process_step(step)\n",
    "\n",
    "# Calculate the total focusing power\n",
    "focusing_power = 0\n",
    "for box_number, box in boxes.items():\n",
    "    for slot_number, (label, focal_length) in enumerate(box, start=1):\n",
    "        focusing_power += (box_number + 1) * slot_number * focal_length\n",
    "\n",
    "focusing_power"
   ]
  },
  {
   "cell_type": "code",
   "execution_count": null,
   "id": "5afc88cf-b0a7-4c53-8696-28a9be0abcae",
   "metadata": {},
   "outputs": [],
   "source": []
  }
 ],
 "metadata": {
  "kernelspec": {
   "display_name": "Python 3 (ipykernel)",
   "language": "python",
   "name": "python3"
  },
  "language_info": {
   "codemirror_mode": {
    "name": "ipython",
    "version": 3
   },
   "file_extension": ".py",
   "mimetype": "text/x-python",
   "name": "python",
   "nbconvert_exporter": "python",
   "pygments_lexer": "ipython3",
   "version": "3.12.3"
  }
 },
 "nbformat": 4,
 "nbformat_minor": 5
}
