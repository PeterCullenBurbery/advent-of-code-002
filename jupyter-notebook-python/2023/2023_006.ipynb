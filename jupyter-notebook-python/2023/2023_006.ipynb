{
 "cells": [
  {
   "cell_type": "markdown",
   "id": "f899651c",
   "metadata": {},
   "source": [
    "# Advent of Code"
   ]
  },
  {
   "cell_type": "markdown",
   "id": "d71771b9",
   "metadata": {},
   "source": [
    "## 2023-012-006\n",
    "## 2023 006"
   ]
  },
  {
   "cell_type": "markdown",
   "id": "7c91d3ad",
   "metadata": {},
   "source": [
    "https://adventofcode.com/2023/day/6"
   ]
  },
  {
   "cell_type": "code",
   "execution_count": null,
   "id": "9c6f000a",
   "metadata": {},
   "outputs": [],
   "source": []
  }
 ],
 "metadata": {
  "kernelspec": {
   "display_name": "Python 3 (ipykernel)",
   "language": "python",
   "name": "python3"
  },
  "language_info": {
   "name": "python",
   "version": "3.12.3"
  }
 },
 "nbformat": 4,
 "nbformat_minor": 5
}
