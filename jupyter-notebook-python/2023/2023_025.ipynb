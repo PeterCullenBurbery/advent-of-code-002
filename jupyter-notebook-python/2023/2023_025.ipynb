{
 "cells": [
  {
   "cell_type": "markdown",
   "id": "362baf94",
   "metadata": {},
   "source": [
    "# Advent of Code"
   ]
  },
  {
   "cell_type": "markdown",
   "id": "da085fbf",
   "metadata": {},
   "source": [
    "## 2023-012-025\n",
    "## 2023 025"
   ]
  },
  {
   "cell_type": "markdown",
   "id": "9ffe5191",
   "metadata": {},
   "source": [
    "https://adventofcode.com/2023/day/25"
   ]
  },
  {
   "cell_type": "code",
   "execution_count": null,
   "id": "7e3f002f",
   "metadata": {},
   "outputs": [],
   "source": []
  }
 ],
 "metadata": {
  "kernelspec": {
   "display_name": "Python 3 (ipykernel)",
   "language": "python",
   "name": "python3"
  },
  "language_info": {
   "name": "python",
   "version": "3.12.3"
  }
 },
 "nbformat": 4,
 "nbformat_minor": 5
}
