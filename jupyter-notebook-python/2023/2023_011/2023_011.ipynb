{
 "cells": [
  {
   "cell_type": "markdown",
   "id": "94573745",
   "metadata": {},
   "source": [
    "# Advent of Code"
   ]
  },
  {
   "cell_type": "markdown",
   "id": "2fe8566d",
   "metadata": {},
   "source": [
    "## 2023-012-011\n",
    "## 2023 011"
   ]
  },
  {
   "cell_type": "markdown",
   "id": "77e94041",
   "metadata": {},
   "source": [
    "https://adventofcode.com/2023/day/11"
   ]
  },
  {
   "cell_type": "code",
   "execution_count": 1,
   "id": "e660195b",
   "metadata": {},
   "outputs": [
    {
     "ename": "FileNotFoundError",
     "evalue": "[Errno 2] No such file or directory: '/mnt/data/input.txt'",
     "output_type": "error",
     "traceback": [
      "\u001b[1;31m---------------------------------------------------------------------------\u001b[0m",
      "\u001b[1;31mFileNotFoundError\u001b[0m                         Traceback (most recent call last)",
      "Cell \u001b[1;32mIn[1], line 2\u001b[0m\n\u001b[0;32m      1\u001b[0m \u001b[38;5;66;03m# Load the new input file for the cosmic expansion problem\u001b[39;00m\n\u001b[1;32m----> 2\u001b[0m \u001b[38;5;28;01mwith\u001b[39;00m \u001b[38;5;28;43mopen\u001b[39;49m\u001b[43m(\u001b[49m\u001b[38;5;124;43m'\u001b[39;49m\u001b[38;5;124;43m/mnt/data/input.txt\u001b[39;49m\u001b[38;5;124;43m'\u001b[39;49m\u001b[43m,\u001b[49m\u001b[43m \u001b[49m\u001b[38;5;124;43m'\u001b[39;49m\u001b[38;5;124;43mr\u001b[39;49m\u001b[38;5;124;43m'\u001b[39;49m\u001b[43m)\u001b[49m \u001b[38;5;28;01mas\u001b[39;00m file:\n\u001b[0;32m      3\u001b[0m     cosmic_grid \u001b[38;5;241m=\u001b[39m [line\u001b[38;5;241m.\u001b[39mstrip() \u001b[38;5;28;01mfor\u001b[39;00m line \u001b[38;5;129;01min\u001b[39;00m file\u001b[38;5;241m.\u001b[39mreadlines()]\n\u001b[0;32m      5\u001b[0m \u001b[38;5;66;03m# Step 1: Parse the input and identify galaxy rows and columns\u001b[39;00m\n",
      "File \u001b[1;32m~\\miniconda3\\envs\\i-want-to-be-done\\Lib\\site-packages\\IPython\\core\\interactiveshell.py:324\u001b[0m, in \u001b[0;36m_modified_open\u001b[1;34m(file, *args, **kwargs)\u001b[0m\n\u001b[0;32m    317\u001b[0m \u001b[38;5;28;01mif\u001b[39;00m file \u001b[38;5;129;01min\u001b[39;00m {\u001b[38;5;241m0\u001b[39m, \u001b[38;5;241m1\u001b[39m, \u001b[38;5;241m2\u001b[39m}:\n\u001b[0;32m    318\u001b[0m     \u001b[38;5;28;01mraise\u001b[39;00m \u001b[38;5;167;01mValueError\u001b[39;00m(\n\u001b[0;32m    319\u001b[0m         \u001b[38;5;124mf\u001b[39m\u001b[38;5;124m\"\u001b[39m\u001b[38;5;124mIPython won\u001b[39m\u001b[38;5;124m'\u001b[39m\u001b[38;5;124mt let you open fd=\u001b[39m\u001b[38;5;132;01m{\u001b[39;00mfile\u001b[38;5;132;01m}\u001b[39;00m\u001b[38;5;124m by default \u001b[39m\u001b[38;5;124m\"\u001b[39m\n\u001b[0;32m    320\u001b[0m         \u001b[38;5;124m\"\u001b[39m\u001b[38;5;124mas it is likely to crash IPython. If you know what you are doing, \u001b[39m\u001b[38;5;124m\"\u001b[39m\n\u001b[0;32m    321\u001b[0m         \u001b[38;5;124m\"\u001b[39m\u001b[38;5;124myou can use builtins\u001b[39m\u001b[38;5;124m'\u001b[39m\u001b[38;5;124m open.\u001b[39m\u001b[38;5;124m\"\u001b[39m\n\u001b[0;32m    322\u001b[0m     )\n\u001b[1;32m--> 324\u001b[0m \u001b[38;5;28;01mreturn\u001b[39;00m \u001b[43mio_open\u001b[49m\u001b[43m(\u001b[49m\u001b[43mfile\u001b[49m\u001b[43m,\u001b[49m\u001b[43m \u001b[49m\u001b[38;5;241;43m*\u001b[39;49m\u001b[43margs\u001b[49m\u001b[43m,\u001b[49m\u001b[43m \u001b[49m\u001b[38;5;241;43m*\u001b[39;49m\u001b[38;5;241;43m*\u001b[39;49m\u001b[43mkwargs\u001b[49m\u001b[43m)\u001b[49m\n",
      "\u001b[1;31mFileNotFoundError\u001b[0m: [Errno 2] No such file or directory: '/mnt/data/input.txt'"
     ]
    }
   ],
   "source": [
    "# Load the new input file for the cosmic expansion problem\n",
    "with open('input.txt', 'r') as file:\n",
    "    cosmic_grid = [line.strip() for line in file.readlines()]\n",
    "\n",
    "# Step 1: Parse the input and identify galaxy rows and columns\n",
    "def identify_galaxy_positions(grid):\n",
    "    galaxy_rows = set()\n",
    "    galaxy_cols = set()\n",
    "    galaxy_positions = []\n",
    "\n",
    "    for r, row in enumerate(grid):\n",
    "        for c, cell in enumerate(row):\n",
    "            if cell == '#':\n",
    "                galaxy_rows.add(r)\n",
    "                galaxy_cols.add(c)\n",
    "                galaxy_positions.append((r, c))\n",
    "    \n",
    "    return galaxy_rows, galaxy_cols, galaxy_positions\n",
    "\n",
    "galaxy_rows, galaxy_cols, galaxy_positions = identify_galaxy_positions(cosmic_grid)\n",
    "\n",
    "# Step 2: Expand the universe (grid)\n",
    "def expand_universe(grid, galaxy_rows, galaxy_cols):\n",
    "    # Expand rows\n",
    "    expanded_rows = []\n",
    "    for r, row in enumerate(grid):\n",
    "        if r not in galaxy_rows:\n",
    "            expanded_rows.append(row)  # Duplicate row\n",
    "        expanded_rows.append(row)\n",
    "\n",
    "    # Expand columns\n",
    "    expanded_grid = []\n",
    "    for row in expanded_rows:\n",
    "        new_row = ''.join(cell * 2 if c not in galaxy_cols else cell for c, cell in enumerate(row))\n",
    "        expanded_grid.append(new_row)\n",
    "    \n",
    "    return expanded_grid\n",
    "\n",
    "expanded_cosmic_grid = expand_universe(cosmic_grid, galaxy_rows, galaxy_cols)\n",
    "\n",
    "# Step 3: Assign galaxy IDs\n",
    "def assign_galaxy_ids(grid):\n",
    "    galaxy_ids = {}\n",
    "    current_id = 1\n",
    "    for r, row in enumerate(grid):\n",
    "        for c, cell in enumerate(row):\n",
    "            if cell == '#':\n",
    "                galaxy_ids[(r, c)] = current_id\n",
    "                current_id += 1\n",
    "    return galaxy_ids\n",
    "\n",
    "galaxy_ids = assign_galaxy_ids(expanded_cosmic_grid)\n",
    "\n",
    "# Display the expanded grid and galaxy IDs summary\n",
    "expanded_cosmic_grid[:10], len(galaxy_ids)  # Display first 10 rows and number of galaxies detected"
   ]
  },
  {
   "cell_type": "code",
   "execution_count": null,
   "id": "f876ab7f-ea9d-4539-9a71-79f0eb6797d8",
   "metadata": {},
   "outputs": [],
   "source": []
  }
 ],
 "metadata": {
  "kernelspec": {
   "display_name": "Python 3 (ipykernel)",
   "language": "python",
   "name": "python3"
  },
  "language_info": {
   "codemirror_mode": {
    "name": "ipython",
    "version": 3
   },
   "file_extension": ".py",
   "mimetype": "text/x-python",
   "name": "python",
   "nbconvert_exporter": "python",
   "pygments_lexer": "ipython3",
   "version": "3.12.3"
  }
 },
 "nbformat": 4,
 "nbformat_minor": 5
}
