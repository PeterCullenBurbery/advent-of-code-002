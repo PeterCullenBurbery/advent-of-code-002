{
 "cells": [
  {
   "cell_type": "markdown",
   "id": "94573745",
   "metadata": {},
   "source": [
    "# Advent of Code"
   ]
  },
  {
   "cell_type": "markdown",
   "id": "2fe8566d",
   "metadata": {},
   "source": [
    "## 2023-012-011\n",
    "## 2023 011"
   ]
  },
  {
   "cell_type": "markdown",
   "id": "77e94041",
   "metadata": {},
   "source": [
    "https://adventofcode.com/2023/day/11"
   ]
  },
  {
   "cell_type": "code",
   "execution_count": null,
   "id": "e660195b",
   "metadata": {},
   "outputs": [],
   "source": []
  }
 ],
 "metadata": {},
 "nbformat": 4,
 "nbformat_minor": 5
}
