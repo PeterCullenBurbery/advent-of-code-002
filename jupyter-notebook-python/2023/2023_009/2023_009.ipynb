{
 "cells": [
  {
   "cell_type": "markdown",
   "id": "4898737e",
   "metadata": {},
   "source": [
    "# Advent of Code"
   ]
  },
  {
   "cell_type": "markdown",
   "id": "2d9e3c9e",
   "metadata": {},
   "source": [
    "## 2023-012-009\n",
    "## 2023 009"
   ]
  },
  {
   "cell_type": "markdown",
   "id": "1f184d56",
   "metadata": {},
   "source": [
    "https://adventofcode.com/2023/day/9"
   ]
  },
  {
   "cell_type": "code",
   "execution_count": 1,
   "id": "bdce4e6d",
   "metadata": {},
   "outputs": [
    {
     "name": "stdout",
     "output_type": "stream",
     "text": [
      "Total Sum of Extrapolated Values: 2101499000\n"
     ]
    }
   ],
   "source": [
    "def parse_input(file_path):\n",
    "    \"\"\"Parse the input file into a list of sequences.\"\"\"\n",
    "    with open(file_path, \"r\") as file:\n",
    "        lines = file.readlines()\n",
    "    sequences = [[int(value) for value in line.split()] for line in lines]\n",
    "    return sequences\n",
    "\n",
    "def compute_next_value(sequence):\n",
    "    \"\"\"Compute the next value for a sequence using recursive differences.\"\"\"\n",
    "    differences = [sequence]\n",
    "    \n",
    "    # Compute differences until all are zero\n",
    "    while len(differences[-1]) > 1:\n",
    "        current = differences[-1]\n",
    "        next_diff = [current[i + 1] - current[i] for i in range(len(current) - 1)]\n",
    "        differences.append(next_diff)\n",
    "    \n",
    "    # Add a zero to the final difference sequence\n",
    "    differences[-1].append(0)\n",
    "    \n",
    "    # Backtrack to compute the next value\n",
    "    for i in range(len(differences) - 2, -1, -1):\n",
    "        differences[i].append(differences[i][-1] + differences[i + 1][-1])\n",
    "    \n",
    "    # The next value for the original sequence is the last value in the first list\n",
    "    return differences[0][-1]\n",
    "\n",
    "def main():\n",
    "    input_file = \"input.txt\"  # File provided by the user\n",
    "    sequences = parse_input(input_file)\n",
    "    \n",
    "    # Compute the next value for each sequence and sum them\n",
    "    total_sum = sum(compute_next_value(sequence) for sequence in sequences)\n",
    "    print(f\"Total Sum of Extrapolated Values: {total_sum}\")\n",
    "\n",
    "if __name__ == \"__main__\":\n",
    "    main()"
   ]
  },
  {
   "cell_type": "code",
   "execution_count": 2,
   "id": "0d9baab3-6822-4c33-9888-be3c0ff88e4d",
   "metadata": {},
   "outputs": [
    {
     "name": "stdout",
     "output_type": "stream",
     "text": [
      "Total Sum of Extrapolated Previous Values: 1089\n"
     ]
    }
   ],
   "source": [
    "def parse_input(file_path):\n",
    "    \"\"\"Parse the input file into a list of sequences.\"\"\"\n",
    "    with open(file_path, \"r\") as file:\n",
    "        lines = file.readlines()\n",
    "    sequences = [[int(value) for value in line.split()] for line in lines]\n",
    "    return sequences\n",
    "\n",
    "def compute_previous_value(sequence):\n",
    "    \"\"\"Compute the previous value for a sequence using recursive differences.\"\"\"\n",
    "    differences = [sequence]\n",
    "    \n",
    "    # Compute differences until all are zero\n",
    "    while len(differences[-1]) > 1:\n",
    "        current = differences[-1]\n",
    "        next_diff = [current[i + 1] - current[i] for i in range(len(current) - 1)]\n",
    "        differences.append(next_diff)\n",
    "    \n",
    "    # Prepend a zero to the final difference sequence\n",
    "    differences[-1].insert(0, 0)\n",
    "    \n",
    "    # Backtrack to compute the previous value\n",
    "    for i in range(len(differences) - 2, -1, -1):\n",
    "        differences[i].insert(0, differences[i][0] - differences[i + 1][0])\n",
    "    \n",
    "    # The previous value for the original sequence is the first value in the first list\n",
    "    return differences[0][0]\n",
    "\n",
    "def main():\n",
    "    input_file = \"input.txt\"  # File provided by the user\n",
    "    sequences = parse_input(input_file)\n",
    "    \n",
    "    # Compute the previous value for each sequence and sum them\n",
    "    total_sum = sum(compute_previous_value(sequence) for sequence in sequences)\n",
    "    print(f\"Total Sum of Extrapolated Previous Values: {total_sum}\")\n",
    "\n",
    "if __name__ == \"__main__\":\n",
    "    main()"
   ]
  },
  {
   "cell_type": "code",
   "execution_count": null,
   "id": "aaf07e4e-6424-4c97-b38c-c5e896a99a59",
   "metadata": {},
   "outputs": [],
   "source": []
  }
 ],
 "metadata": {
  "kernelspec": {
   "display_name": "Python 3 (ipykernel)",
   "language": "python",
   "name": "python3"
  },
  "language_info": {
   "codemirror_mode": {
    "name": "ipython",
    "version": 3
   },
   "file_extension": ".py",
   "mimetype": "text/x-python",
   "name": "python",
   "nbconvert_exporter": "python",
   "pygments_lexer": "ipython3",
   "version": "3.12.3"
  }
 },
 "nbformat": 4,
 "nbformat_minor": 5
}
