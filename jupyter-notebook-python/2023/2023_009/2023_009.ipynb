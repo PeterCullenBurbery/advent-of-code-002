{
 "cells": [
  {
   "cell_type": "markdown",
   "id": "4898737e",
   "metadata": {},
   "source": [
    "# Advent of Code"
   ]
  },
  {
   "cell_type": "markdown",
   "id": "2d9e3c9e",
   "metadata": {},
   "source": [
    "## 2023-012-009\n",
    "## 2023 009"
   ]
  },
  {
   "cell_type": "markdown",
   "id": "1f184d56",
   "metadata": {},
   "source": [
    "https://adventofcode.com/2023/day/9"
   ]
  },
  {
   "cell_type": "code",
   "execution_count": null,
   "id": "bdce4e6d",
   "metadata": {},
   "outputs": [],
   "source": []
  }
 ],
 "metadata": {},
 "nbformat": 4,
 "nbformat_minor": 5
}
