{
 "cells": [
  {
   "cell_type": "markdown",
   "id": "23636a96",
   "metadata": {},
   "source": [
    "# Advent of Code"
   ]
  },
  {
   "cell_type": "markdown",
   "id": "5576208e",
   "metadata": {},
   "source": [
    "## 2023-012-017\n",
    "## 2023 017"
   ]
  },
  {
   "cell_type": "markdown",
   "id": "d356bfbb",
   "metadata": {},
   "source": [
    "https://adventofcode.com/2023/day/17"
   ]
  },
  {
   "cell_type": "code",
   "execution_count": null,
   "id": "35d1ed59",
   "metadata": {},
   "outputs": [],
   "source": []
  }
 ],
 "metadata": {
  "kernelspec": {
   "display_name": "Python 3 (ipykernel)",
   "language": "python",
   "name": "python3"
  },
  "language_info": {
   "name": "python",
   "version": "3.12.3"
  }
 },
 "nbformat": 4,
 "nbformat_minor": 5
}
