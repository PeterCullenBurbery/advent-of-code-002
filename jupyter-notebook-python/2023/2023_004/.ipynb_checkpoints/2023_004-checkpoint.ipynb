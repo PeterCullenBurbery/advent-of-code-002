{
 "cells": [
  {
   "cell_type": "markdown",
   "id": "54173d73",
   "metadata": {},
   "source": [
    "# Advent of Code"
   ]
  },
  {
   "cell_type": "markdown",
   "id": "1d5d0c5b",
   "metadata": {},
   "source": [
    "## 2023-012-004\n",
    "## 2023 004"
   ]
  },
  {
   "cell_type": "markdown",
   "id": "872c9b63",
   "metadata": {},
   "source": [
    "https://adventofcode.com/2023/day/4"
   ]
  },
  {
   "cell_type": "code",
   "execution_count": null,
   "id": "e23bca6f",
   "metadata": {},
   "outputs": [],
   "source": []
  }
 ],
 "metadata": {},
 "nbformat": 4,
 "nbformat_minor": 5
}
