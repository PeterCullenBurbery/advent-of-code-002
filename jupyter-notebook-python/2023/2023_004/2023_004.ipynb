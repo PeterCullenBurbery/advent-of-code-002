{
 "cells": [
  {
   "cell_type": "markdown",
   "id": "54173d73",
   "metadata": {},
   "source": [
    "# Advent of Code"
   ]
  },
  {
   "cell_type": "markdown",
   "id": "1d5d0c5b",
   "metadata": {},
   "source": [
    "## 2023-012-004\n",
    "## 2023 004"
   ]
  },
  {
   "cell_type": "markdown",
   "id": "872c9b63",
   "metadata": {},
   "source": [
    "https://adventofcode.com/2023/day/4"
   ]
  },
  {
   "cell_type": "code",
   "execution_count": 4,
   "id": "e23bca6f",
   "metadata": {},
   "outputs": [
    {
     "data": {
      "text/plain": [
       "24175"
      ]
     },
     "execution_count": 4,
     "metadata": {},
     "output_type": "execute_result"
    }
   ],
   "source": [
    "# Load the input file for scratchcards\n",
    "file_path_scratchcards = 'input.txt'\n",
    "# Calculate the points for each card\n",
    "def calculate_card_points(cards):\n",
    "    total_points = 0\n",
    "    for winning, your_numbers in cards:\n",
    "        matches = sum(1 for num in your_numbers if num in winning)\n",
    "        if matches > 0:\n",
    "            total_points += 2**(matches - 1)\n",
    "    return total_points\n",
    "# Refine the parsing function to handle labels like \"Card X:\"\n",
    "def parse_scratchcards_refined(file_path):\n",
    "    cards = []\n",
    "    with open(file_path, 'r') as file:\n",
    "        for line in file:\n",
    "            # Skip lines that do not contain the '|' separator\n",
    "            if '|' in line:\n",
    "                parts = line.split(':', 1)  # Split out the label (e.g., \"Card X:\")\n",
    "                if len(parts) > 1:\n",
    "                    winning, your_numbers = parts[1].split('|')\n",
    "                    winning = list(map(int, winning.strip().split()))\n",
    "                    your_numbers = list(map(int, your_numbers.strip().split()))\n",
    "                    cards.append((winning, your_numbers))\n",
    "    return cards\n",
    "\n",
    "# Process the input and calculate total points again\n",
    "cards_refined = parse_scratchcards_refined(file_path_scratchcards)\n",
    "total_points_refined = calculate_card_points(cards_refined)\n",
    "total_points_refined"
   ]
  },
  {
   "cell_type": "code",
   "execution_count": null,
   "id": "bbe53633-0d8d-44c7-b9e8-b811a699fc0f",
   "metadata": {},
   "outputs": [],
   "source": [
    "from collections import deque, Counter\n",
    "\n",
    "# Function to calculate the total number of scratchcards, including copies won\n",
    "def calculate_total_scratchcards(cards):\n",
    "    total_scratchcards = 0\n",
    "    card_queue = deque([(i, 1) for i in range(len(cards))])  # Initialize queue with original cards and count\n",
    "    card_count = Counter()  # Track how many times each card has been processed\n",
    "\n",
    "    while card_queue:\n",
    "        card_idx, multiplier = card_queue.popleft()\n",
    "        winning, your_numbers = cards[card_idx]\n",
    "        matches = sum(1 for num in your_numbers if num in winning)\n",
    "\n",
    "        # Increment the count for this card based on multiplier\n",
    "        card_count[card_idx] += multiplier\n",
    "        total_scratchcards += multiplier\n",
    "\n",
    "        # Enqueue copies of subsequent cards won\n",
    "        for i in range(1, matches + 1):\n",
    "            if card_idx + i < len(cards):  # Ensure we don't go out of bounds\n",
    "                card_queue.append((card_idx + i, multiplier))\n",
    "\n",
    "    return total_scratchcards\n",
    "\n",
    "# Calculate the total for the refined scratchcards input\n",
    "total_scratchcards = calculate_total_scratchcards(cards_refined)\n",
    "total_scratchcards"
   ]
  },
  {
   "cell_type": "code",
   "execution_count": null,
   "id": "36e5ffbc-06d0-4a12-9931-c38f910fb652",
   "metadata": {},
   "outputs": [],
   "source": [
    "# Define a function to calculate the total number of scratchcards\n",
    "def calculate_total_scratchcards(cards):\n",
    "    # Create a list to keep track of how many copies of each card we have\n",
    "    scratchcards_count = [1] * len(cards)  # Initially, each card is present once\n",
    "    \n",
    "    # A function to calculate how many matching numbers there are for each card\n",
    "    def count_matches(winning_numbers, your_numbers):\n",
    "        return sum(1 for num in your_numbers if num in winning_numbers)\n",
    "    \n",
    "    # Process cards and their copies until no more copies are won\n",
    "    total_scratchcards = len(cards)  # Start with the original cards\n",
    "    changes = True  # Flag to continue until no new cards are won\n",
    "    \n",
    "    while changes:\n",
    "        changes = False  # Reset flag for detecting changes\n",
    "        new_cards = [0] * len(cards)  # Track the new cards that will be won\n",
    "        \n",
    "        # Go through each card and its copies\n",
    "        for i in range(len(cards)):\n",
    "            if scratchcards_count[i] > 0:  # Only process cards that we have\n",
    "                # Find how many matches for this card\n",
    "                winning, your_numbers = cards[i]\n",
    "                matches = count_matches(winning, your_numbers)\n",
    "                \n",
    "                # If there are matches, we win copies of subsequent cards\n",
    "                if matches > 0:\n",
    "                    changes = True  # Mark that there were changes\n",
    "                    # For each match, win that many copies of the subsequent cards\n",
    "                    for j in range(i + 1, i + 1 + matches):\n",
    "                        if j < len(cards):\n",
    "                            new_cards[j] += scratchcards_count[i]  # Add copies\n",
    "                \n",
    "        # Update the scratchcards_count by adding the new cards won in this iteration\n",
    "        for i in range(len(cards)):\n",
    "            scratchcards_count[i] += new_cards[i]\n",
    "        \n",
    "        # Add the newly won cards to the total count\n",
    "        total_scratchcards += sum(new_cards)\n",
    "    \n",
    "    return total_scratchcards\n",
    "\n",
    "\n",
    "\n",
    "\n",
    "\n",
    "# Input file\n",
    "file_path_scratchcards = 'sample-input.txt'\n",
    "\n",
    "# Parse the scratchcards input\n",
    "cards = parse_scratchcards_refined(file_path_scratchcards)\n",
    "\n",
    "# Calculate the total number of scratchcards\n",
    "total_scratchcards = calculate_total_scratchcards(cards)\n",
    "\n",
    "# Output the result\n",
    "print(f\"Total number of scratchcards: {total_scratchcards}\")"
   ]
  },
  {
   "cell_type": "code",
   "execution_count": 5,
   "id": "b8374ae2-2484-4cbb-814a-2569da82cf1e",
   "metadata": {},
   "outputs": [
    {
     "name": "stdout",
     "output_type": "stream",
     "text": [
      "Total number of scratchcards: 18846301\n"
     ]
    }
   ],
   "source": [
    "from collections import deque\n",
    "\n",
    "# Define a function to calculate the total number of scratchcards\n",
    "def calculate_total_scratchcards_optimized(cards):\n",
    "    # Initialize the count of each card, start with 1 copy for each card\n",
    "    scratchcards_count = [1] * len(cards)\n",
    "    total_scratchcards = len(cards)  # Start with the original cards\n",
    "    queue = deque(range(len(cards)))  # Queue to process cards\n",
    "    \n",
    "    # A function to calculate how many matching numbers there are for each card\n",
    "    def count_matches(winning_numbers, your_numbers):\n",
    "        return sum(1 for num in your_numbers if num in winning_numbers)\n",
    "    \n",
    "    # Process cards and their copies until no more scratchcards are won\n",
    "    while queue:\n",
    "        card_index = queue.popleft()  # Get the next card to process\n",
    "        winning, your_numbers = cards[card_index]\n",
    "        matches = count_matches(winning, your_numbers)\n",
    "        \n",
    "        # If there are matches, we win copies of subsequent cards\n",
    "        if matches > 0:\n",
    "            # Calculate how many new cards are won\n",
    "            for i in range(card_index + 1, card_index + 1 + matches):\n",
    "                if i < len(cards):\n",
    "                    scratchcards_count[i] += scratchcards_count[card_index]  # Add copies to the next cards\n",
    "                    total_scratchcards += scratchcards_count[card_index]  # Increment the total cards\n",
    "                    # Add to the queue if this card hasn't been processed yet\n",
    "                    if scratchcards_count[i] == scratchcards_count[card_index]:  # If it's a new copy\n",
    "                        queue.append(i)\n",
    "    \n",
    "    return total_scratchcards\n",
    "\n",
    "\n",
    "# Function to parse the input and format the cards\n",
    "def parse_scratchcards(file_path):\n",
    "    cards = []\n",
    "    with open(file_path, 'r') as file:\n",
    "        lines = file.readlines()\n",
    "        \n",
    "    # Read each card\n",
    "    for i in range(0, len(lines), 2):\n",
    "        # Split winning numbers and your numbers from the lines\n",
    "        winning = list(map(int, lines[i].strip().split()))\n",
    "        your_numbers = list(map(int, lines[i + 1].strip().split()))\n",
    "        cards.append((winning, your_numbers))\n",
    "    \n",
    "    return cards\n",
    "\n",
    "\n",
    "# Input file\n",
    "file_path_scratchcards = 'input.txt'\n",
    "\n",
    "# Parse the scratchcards input\n",
    "cards = parse_scratchcards_refined(file_path_scratchcards)\n",
    "\n",
    "# Calculate the total number of scratchcards\n",
    "total_scratchcards = calculate_total_scratchcards_optimized(cards)\n",
    "\n",
    "# Output the result\n",
    "print(f\"Total number of scratchcards: {total_scratchcards}\")"
   ]
  },
  {
   "cell_type": "code",
   "execution_count": null,
   "id": "8a9836b3-d135-46dd-b191-25dbd611258f",
   "metadata": {},
   "outputs": [],
   "source": []
  }
 ],
 "metadata": {
  "kernelspec": {
   "display_name": "Python 3 (ipykernel)",
   "language": "python",
   "name": "python3"
  },
  "language_info": {
   "codemirror_mode": {
    "name": "ipython",
    "version": 3
   },
   "file_extension": ".py",
   "mimetype": "text/x-python",
   "name": "python",
   "nbconvert_exporter": "python",
   "pygments_lexer": "ipython3",
   "version": "3.12.3"
  }
 },
 "nbformat": 4,
 "nbformat_minor": 5
}
