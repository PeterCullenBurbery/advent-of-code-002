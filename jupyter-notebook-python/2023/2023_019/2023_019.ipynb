{
 "cells": [
  {
   "cell_type": "markdown",
   "id": "a03d6420",
   "metadata": {},
   "source": [
    "# Advent of Code"
   ]
  },
  {
   "cell_type": "markdown",
   "id": "3218859e",
   "metadata": {},
   "source": [
    "## 2023-012-019\n",
    "## 2023 019"
   ]
  },
  {
   "cell_type": "markdown",
   "id": "c5423392",
   "metadata": {},
   "source": [
    "https://adventofcode.com/2023/day/19"
   ]
  },
  {
   "cell_type": "code",
   "execution_count": 1,
   "id": "99b98652",
   "metadata": {},
   "outputs": [
    {
     "data": {
      "text/plain": [
       "19114"
      ]
     },
     "execution_count": 1,
     "metadata": {},
     "output_type": "execute_result"
    }
   ],
   "source": [
    "# Read and process the file content\n",
    "file_path = 'sample-input.txt'\n",
    "\n",
    "with open(file_path, 'r') as file:\n",
    "    content = file.read()\n",
    "\n",
    "# Split the content into workflows and ratings\n",
    "workflows_raw, ratings_raw = content.split(\"\\n\\n\")\n",
    "\n",
    "# Parse workflows\n",
    "workflows = {}\n",
    "for line in workflows_raw.splitlines():\n",
    "    if not line.strip():\n",
    "        continue\n",
    "    name, rules_raw = line.split(\"{\", 1)\n",
    "    name = name.strip()\n",
    "    rules = []\n",
    "    for rule in rules_raw.rstrip('}').split(','):\n",
    "        if ':' in rule:\n",
    "            condition, destination = rule.split(':')\n",
    "            rules.append((condition.strip(), destination.strip()))\n",
    "        else:\n",
    "            rules.append((None, rule.strip()))\n",
    "    workflows[name] = rules\n",
    "\n",
    "# Parse ratings\n",
    "ratings = []\n",
    "for line in ratings_raw.splitlines():\n",
    "    if not line.strip():\n",
    "        continue\n",
    "    rating = {}\n",
    "    for item in line.strip('{}').split(','):\n",
    "        key, value = item.split('=')\n",
    "        rating[key.strip()] = int(value.strip())\n",
    "    ratings.append(rating)\n",
    "\n",
    "# Function to evaluate a condition\n",
    "def evaluate_condition(condition, rating):\n",
    "    if condition is None:\n",
    "        return True\n",
    "    key, operator, value = None, None, None\n",
    "    for op in ['<', '>', '=']:\n",
    "        if op in condition:\n",
    "            key, operator, value = condition.partition(op)\n",
    "            break\n",
    "    if not key or not operator or value is None:\n",
    "        return False\n",
    "    key, value = key.strip(), int(value.strip())\n",
    "    if operator == '<':\n",
    "        return rating[key] < value\n",
    "    elif operator == '>':\n",
    "        return rating[key] > value\n",
    "    elif operator == '=':\n",
    "        return rating[key] == value\n",
    "    return False\n",
    "\n",
    "# Simulate workflows for all ratings\n",
    "total_accepted_score = 0\n",
    "for rating in ratings:\n",
    "    current_workflow = 'in'\n",
    "    while current_workflow not in ['A', 'R']:\n",
    "        rules = workflows[current_workflow]\n",
    "        for condition, destination in rules:\n",
    "            if evaluate_condition(condition, rating):\n",
    "                current_workflow = destination\n",
    "                break\n",
    "    if current_workflow == 'A':\n",
    "        total_accepted_score += sum(rating.values())\n",
    "\n",
    "total_accepted_score"
   ]
  },
  {
   "cell_type": "code",
   "execution_count": 3,
   "id": "c500e1df-9fc0-4f4d-b84e-ec24e2a1bc10",
   "metadata": {},
   "outputs": [
    {
     "data": {
      "text/plain": [
       "406934"
      ]
     },
     "execution_count": 3,
     "metadata": {},
     "output_type": "execute_result"
    }
   ],
   "source": [
    "# Read and process the file content\n",
    "file_path = 'input.txt'\n",
    "\n",
    "with open(file_path, 'r') as file:\n",
    "    content = file.read()\n",
    "\n",
    "# Split the content into workflows and ratings\n",
    "workflows_raw, ratings_raw = content.split(\"\\n\\n\")\n",
    "\n",
    "# Parse workflows\n",
    "workflows = {}\n",
    "for line in workflows_raw.splitlines():\n",
    "    if not line.strip():\n",
    "        continue\n",
    "    name, rules_raw = line.split(\"{\", 1)\n",
    "    name = name.strip()\n",
    "    rules = []\n",
    "    for rule in rules_raw.rstrip('}').split(','):\n",
    "        if ':' in rule:\n",
    "            condition, destination = rule.split(':')\n",
    "            rules.append((condition.strip(), destination.strip()))\n",
    "        else:\n",
    "            rules.append((None, rule.strip()))\n",
    "    workflows[name] = rules\n",
    "\n",
    "# Parse ratings\n",
    "ratings = []\n",
    "for line in ratings_raw.splitlines():\n",
    "    if not line.strip():\n",
    "        continue\n",
    "    rating = {}\n",
    "    for item in line.strip('{}').split(','):\n",
    "        key, value = item.split('=')\n",
    "        rating[key.strip()] = int(value.strip())\n",
    "    ratings.append(rating)\n",
    "\n",
    "# Function to evaluate a condition\n",
    "def evaluate_condition(condition, rating):\n",
    "    if condition is None:\n",
    "        return True\n",
    "    key, operator, value = None, None, None\n",
    "    for op in ['<', '>', '=']:\n",
    "        if op in condition:\n",
    "            key, operator, value = condition.partition(op)\n",
    "            break\n",
    "    if not key or not operator or value is None:\n",
    "        return False\n",
    "    key, value = key.strip(), int(value.strip())\n",
    "    if operator == '<':\n",
    "        return rating[key] < value\n",
    "    elif operator == '>':\n",
    "        return rating[key] > value\n",
    "    elif operator == '=':\n",
    "        return rating[key] == value\n",
    "    return False\n",
    "\n",
    "# Simulate workflows for all ratings\n",
    "total_accepted_score = 0\n",
    "for rating in ratings:\n",
    "    current_workflow = 'in'\n",
    "    while current_workflow not in ['A', 'R']:\n",
    "        rules = workflows[current_workflow]\n",
    "        for condition, destination in rules:\n",
    "            if evaluate_condition(condition, rating):\n",
    "                current_workflow = destination\n",
    "                break\n",
    "    if current_workflow == 'A':\n",
    "        total_accepted_score += sum(rating.values())\n",
    "\n",
    "total_accepted_score"
   ]
  },
  {
   "cell_type": "code",
   "execution_count": null,
   "id": "1025f916-7df5-4b96-b916-b2080c9a768e",
   "metadata": {},
   "outputs": [],
   "source": [
    "# Importing necessary libraries\n",
    "from itertools import product\n",
    "\n",
    "# Function to check all combinations of ratings\n",
    "def evaluate_all_combinations(workflows):\n",
    "    accepted_combinations = set()\n",
    "\n",
    "    # Generate all possible combinations of x, m, a, s, with values ranging from 1 to 4000\n",
    "    for combination in product(range(1, 4001), repeat=4):\n",
    "        rating = {'x': combination[0], 'm': combination[1], 'a': combination[2], 's': combination[3]}\n",
    "        current_workflow = 'in'\n",
    "        while current_workflow not in ['A', 'R']:\n",
    "            rules = workflows[current_workflow]\n",
    "            for condition, destination in rules:\n",
    "                if evaluate_condition(condition, rating):\n",
    "                    current_workflow = destination\n",
    "                    break\n",
    "        if current_workflow == 'A':\n",
    "            accepted_combinations.add(combination)\n",
    "\n",
    "    return len(accepted_combinations)\n",
    "\n",
    "# Calculate the number of accepted combinations\n",
    "distinct_accepted_combinations = evaluate_all_combinations(workflows)\n",
    "distinct_accepted_combinations"
   ]
  },
  {
   "cell_type": "code",
   "execution_count": 2,
   "id": "930c885a-bc1d-4fd8-8923-1ebcdb7c2ee5",
   "metadata": {},
   "outputs": [
    {
     "ename": "MemoryError",
     "evalue": "",
     "output_type": "error",
     "traceback": [
      "\u001b[1;31m---------------------------------------------------------------------------\u001b[0m",
      "\u001b[1;31mMemoryError\u001b[0m                               Traceback (most recent call last)",
      "Cell \u001b[1;32mIn[2], line 27\u001b[0m\n\u001b[0;32m     24\u001b[0m     \u001b[38;5;28;01mreturn\u001b[39;00m \u001b[38;5;28mlen\u001b[39m(accepted_combinations)\n\u001b[0;32m     26\u001b[0m \u001b[38;5;66;03m# Using the optimized function to calculate accepted combinations\u001b[39;00m\n\u001b[1;32m---> 27\u001b[0m distinct_accepted_combinations_optimized \u001b[38;5;241m=\u001b[39m \u001b[43mevaluate_all_combinations_optimized\u001b[49m\u001b[43m(\u001b[49m\u001b[43mworkflows\u001b[49m\u001b[43m)\u001b[49m\n\u001b[0;32m     28\u001b[0m distinct_accepted_combinations_optimized\n",
      "Cell \u001b[1;32mIn[2], line 10\u001b[0m, in \u001b[0;36mevaluate_all_combinations_optimized\u001b[1;34m(workflows)\u001b[0m\n\u001b[0;32m      7\u001b[0m accepted_combinations \u001b[38;5;241m=\u001b[39m \u001b[38;5;28mset\u001b[39m()\n\u001b[0;32m      9\u001b[0m \u001b[38;5;66;03m# We will simulate possible rating values for each of the four categories\u001b[39;00m\n\u001b[1;32m---> 10\u001b[0m rating_ranges \u001b[38;5;241m=\u001b[39m \u001b[38;5;28;43mlist\u001b[39;49m\u001b[43m(\u001b[49m\u001b[43mproduct\u001b[49m\u001b[43m(\u001b[49m\u001b[38;5;28;43mrange\u001b[39;49m\u001b[43m(\u001b[49m\u001b[38;5;241;43m1\u001b[39;49m\u001b[43m,\u001b[49m\u001b[43m \u001b[49m\u001b[38;5;241;43m4001\u001b[39;49m\u001b[43m)\u001b[49m\u001b[43m,\u001b[49m\u001b[43m \u001b[49m\u001b[43mrepeat\u001b[49m\u001b[38;5;241;43m=\u001b[39;49m\u001b[38;5;241;43m4\u001b[39;49m\u001b[43m)\u001b[49m\u001b[43m)\u001b[49m\n\u001b[0;32m     12\u001b[0m \u001b[38;5;28;01mfor\u001b[39;00m rating_combination \u001b[38;5;129;01min\u001b[39;00m rating_ranges:\n\u001b[0;32m     13\u001b[0m     rating \u001b[38;5;241m=\u001b[39m {\u001b[38;5;124m'\u001b[39m\u001b[38;5;124mx\u001b[39m\u001b[38;5;124m'\u001b[39m: rating_combination[\u001b[38;5;241m0\u001b[39m], \u001b[38;5;124m'\u001b[39m\u001b[38;5;124mm\u001b[39m\u001b[38;5;124m'\u001b[39m: rating_combination[\u001b[38;5;241m1\u001b[39m], \u001b[38;5;124m'\u001b[39m\u001b[38;5;124ma\u001b[39m\u001b[38;5;124m'\u001b[39m: rating_combination[\u001b[38;5;241m2\u001b[39m], \u001b[38;5;124m'\u001b[39m\u001b[38;5;124ms\u001b[39m\u001b[38;5;124m'\u001b[39m: rating_combination[\u001b[38;5;241m3\u001b[39m]}\n",
      "\u001b[1;31mMemoryError\u001b[0m: "
     ]
    }
   ],
   "source": [
    "# Importing necessary libraries\n",
    "from itertools import product\n",
    "# Optimized approach to find distinct accepted combinations\n",
    "\n",
    "# Function to evaluate all accepted combinations without brute-forcing\n",
    "def evaluate_all_combinations_optimized(workflows):\n",
    "    accepted_combinations = set()\n",
    "\n",
    "    # We will simulate possible rating values for each of the four categories\n",
    "    rating_ranges = list(product(range(1, 4001), repeat=4))\n",
    "    \n",
    "    for rating_combination in rating_ranges:\n",
    "        rating = {'x': rating_combination[0], 'm': rating_combination[1], 'a': rating_combination[2], 's': rating_combination[3]}\n",
    "        current_workflow = 'in'\n",
    "        while current_workflow not in ['A', 'R']:\n",
    "            rules = workflows[current_workflow]\n",
    "            for condition, destination in rules:\n",
    "                if evaluate_condition(condition, rating):\n",
    "                    current_workflow = destination\n",
    "                    break\n",
    "        if current_workflow == 'A':\n",
    "            accepted_combinations.add(tuple(rating_combination))  # Store as a tuple\n",
    "\n",
    "    return len(accepted_combinations)\n",
    "\n",
    "# Using the optimized function to calculate accepted combinations\n",
    "distinct_accepted_combinations_optimized = evaluate_all_combinations_optimized(workflows)\n",
    "distinct_accepted_combinations_optimized"
   ]
  },
  {
   "cell_type": "code",
   "execution_count": null,
   "id": "696592d4-0efc-479e-9856-161f7d9aa3ff",
   "metadata": {},
   "outputs": [],
   "source": []
  }
 ],
 "metadata": {
  "kernelspec": {
   "display_name": "Python 3 (ipykernel)",
   "language": "python",
   "name": "python3"
  },
  "language_info": {
   "codemirror_mode": {
    "name": "ipython",
    "version": 3
   },
   "file_extension": ".py",
   "mimetype": "text/x-python",
   "name": "python",
   "nbconvert_exporter": "python",
   "pygments_lexer": "ipython3",
   "version": "3.12.3"
  }
 },
 "nbformat": 4,
 "nbformat_minor": 5
}
