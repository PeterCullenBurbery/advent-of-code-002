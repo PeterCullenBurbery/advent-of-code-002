{
 "cells": [
  {
   "cell_type": "markdown",
   "id": "644686f8",
   "metadata": {},
   "source": [
    "# Advent of Code"
   ]
  },
  {
   "cell_type": "markdown",
   "id": "723ae4e0",
   "metadata": {},
   "source": [
    "## 2023-012-022\n",
    "## 2023 022"
   ]
  },
  {
   "cell_type": "markdown",
   "id": "43a36f48",
   "metadata": {},
   "source": [
    "https://adventofcode.com/2023/day/22"
   ]
  },
  {
   "cell_type": "code",
   "execution_count": null,
   "id": "5f686698",
   "metadata": {},
   "outputs": [],
   "source": []
  }
 ],
 "metadata": {
  "kernelspec": {
   "display_name": "Python 3 (ipykernel)",
   "language": "python",
   "name": "python3"
  },
  "language_info": {
   "name": "python",
   "version": "3.12.3"
  }
 },
 "nbformat": 4,
 "nbformat_minor": 5
}
