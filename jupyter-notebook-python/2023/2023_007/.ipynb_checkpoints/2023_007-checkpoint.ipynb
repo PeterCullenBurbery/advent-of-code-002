{
 "cells": [
  {
   "cell_type": "markdown",
   "id": "b9e4d902",
   "metadata": {},
   "source": [
    "# Advent of Code"
   ]
  },
  {
   "cell_type": "markdown",
   "id": "96c4b115",
   "metadata": {},
   "source": [
    "## 2023-012-007\n",
    "## 2023 007"
   ]
  },
  {
   "cell_type": "markdown",
   "id": "1c569b2d",
   "metadata": {},
   "source": [
    "https://adventofcode.com/2023/day/7"
   ]
  },
  {
   "cell_type": "code",
   "execution_count": null,
   "id": "24c7aa31",
   "metadata": {},
   "outputs": [],
   "source": []
  }
 ],
 "metadata": {},
 "nbformat": 4,
 "nbformat_minor": 5
}
