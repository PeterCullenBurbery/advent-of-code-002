{
 "cells": [
  {
   "cell_type": "markdown",
   "id": "2c1d43e5",
   "metadata": {},
   "source": [
    "# Advent of Code"
   ]
  },
  {
   "cell_type": "markdown",
   "id": "4bfae887",
   "metadata": {},
   "source": [
    "## 2023-012-014\n",
    "## 2023 014"
   ]
  },
  {
   "cell_type": "markdown",
   "id": "e44a437d",
   "metadata": {},
   "source": [
    "https://adventofcode.com/2023/day/14"
   ]
  },
  {
   "cell_type": "code",
   "execution_count": null,
   "id": "d4002b39",
   "metadata": {},
   "outputs": [],
   "source": []
  }
 ],
 "metadata": {},
 "nbformat": 4,
 "nbformat_minor": 5
}
