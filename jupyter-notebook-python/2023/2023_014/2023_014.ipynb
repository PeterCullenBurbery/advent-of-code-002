{
 "cells": [
  {
   "cell_type": "markdown",
   "id": "2c1d43e5",
   "metadata": {},
   "source": [
    "# Advent of Code"
   ]
  },
  {
   "cell_type": "markdown",
   "id": "4bfae887",
   "metadata": {},
   "source": [
    "## 2023-012-014\n",
    "## 2023 014"
   ]
  },
  {
   "cell_type": "markdown",
   "id": "e44a437d",
   "metadata": {},
   "source": [
    "https://adventofcode.com/2023/day/14"
   ]
  },
  {
   "cell_type": "code",
   "execution_count": 1,
   "id": "d4002b39",
   "metadata": {},
   "outputs": [
    {
     "data": {
      "text/plain": [
       "156"
      ]
     },
     "execution_count": 1,
     "metadata": {},
     "output_type": "execute_result"
    }
   ],
   "source": [
    "# Read the input data\n",
    "with open('sample-input.txt', 'r') as file:\n",
    "    raw_data = file.read().strip()\n",
    "\n",
    "# Parse the platform data into a grid\n",
    "platform = [list(row) for row in raw_data.splitlines()]\n",
    "\n",
    "# Function to simulate tilting the platform northward\n",
    "def tilt_north(platform):\n",
    "    rows = len(platform)\n",
    "    cols = len(platform[0])\n",
    "    new_platform = [['.' for _ in range(cols)] for _ in range(rows)]\n",
    "\n",
    "    for col in range(cols):\n",
    "        stack = []\n",
    "        # Collect all rocks in this column\n",
    "        for row in range(rows):\n",
    "            if platform[row][col] == 'O' or platform[row][col] == '#':\n",
    "                stack.append(platform[row][col])\n",
    "\n",
    "        # Fill the column in the new platform from the top with the collected rocks\n",
    "        for row in range(len(stack)):\n",
    "            new_platform[row][col] = stack[row]\n",
    "\n",
    "    return new_platform\n",
    "\n",
    "# Function to calculate the total load on the north support beams\n",
    "def calculate_total_load(platform):\n",
    "    rows = len(platform)\n",
    "    cols = len(platform[0])\n",
    "    total_load = 0\n",
    "\n",
    "    for row in range(rows):\n",
    "        for col in range(cols):\n",
    "            if platform[row][col] == 'O':\n",
    "                total_load += rows - row  # Load contribution is based on distance to the bottom\n",
    "\n",
    "    return total_load\n",
    "\n",
    "# Simulate tilting north and calculate the load\n",
    "tilted_platform = tilt_north(platform)\n",
    "total_load = calculate_total_load(tilted_platform)\n",
    "total_load"
   ]
  },
  {
   "cell_type": "code",
   "execution_count": 3,
   "id": "6e549f3e-948a-4f03-b20a-739a57c4e9f9",
   "metadata": {},
   "outputs": [
    {
     "data": {
      "text/plain": [
       "166"
      ]
     },
     "execution_count": 3,
     "metadata": {},
     "output_type": "execute_result"
    }
   ],
   "source": [
    "# Let's calculate the total load on the north support beams after tilting the rocks northward.\n",
    "\n",
    "# Load the file\n",
    "file_path = 'sample-input.txt'\n",
    "with open(file_path, 'r') as file:\n",
    "    grid = [list(line.strip()) for line in file]\n",
    "\n",
    "# Dimensions of the grid\n",
    "rows = len(grid)\n",
    "cols = len(grid[0])\n",
    "\n",
    "# Tilt rocks northward\n",
    "for col in range(cols):\n",
    "    # Collect all the 'O' in this column\n",
    "    rocks = [grid[row][col] for row in range(rows) if grid[row][col] == 'O']\n",
    "    # Fill the column with rocks at the top and the rest with empty spaces\n",
    "    for row in range(rows):\n",
    "        if row < len(rocks):\n",
    "            grid[row][col] = 'O'\n",
    "        else:\n",
    "            if grid[row][col] != '#':\n",
    "                grid[row][col] = '.'\n",
    "\n",
    "# Calculate the load on the north support beams\n",
    "total_load = 0\n",
    "for row in range(rows):\n",
    "    for col in range(cols):\n",
    "        if grid[row][col] == 'O':\n",
    "            total_load += (rows - row)\n",
    "\n",
    "total_load"
   ]
  },
  {
   "cell_type": "code",
   "execution_count": null,
   "id": "e158f6a5-8c96-4cf1-83ea-d1f62d0788d0",
   "metadata": {},
   "outputs": [],
   "source": []
  }
 ],
 "metadata": {
  "kernelspec": {
   "display_name": "Python 3 (ipykernel)",
   "language": "python",
   "name": "python3"
  },
  "language_info": {
   "codemirror_mode": {
    "name": "ipython",
    "version": 3
   },
   "file_extension": ".py",
   "mimetype": "text/x-python",
   "name": "python",
   "nbconvert_exporter": "python",
   "pygments_lexer": "ipython3",
   "version": "3.12.3"
  }
 },
 "nbformat": 4,
 "nbformat_minor": 5
}
