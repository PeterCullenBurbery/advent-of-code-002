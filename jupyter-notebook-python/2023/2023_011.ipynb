{
 "cells": [
  {
   "cell_type": "markdown",
   "id": "46d57e45",
   "metadata": {},
   "source": [
    "# Advent of Code"
   ]
  },
  {
   "cell_type": "markdown",
   "id": "f8a5ca67",
   "metadata": {},
   "source": [
    "## 2023-012-011\n",
    "## 2023 011"
   ]
  },
  {
   "cell_type": "markdown",
   "id": "43e46152",
   "metadata": {},
   "source": [
    "https://adventofcode.com/2023/day/11"
   ]
  },
  {
   "cell_type": "code",
   "execution_count": null,
   "id": "24cf47ca",
   "metadata": {},
   "outputs": [],
   "source": []
  }
 ],
 "metadata": {
  "kernelspec": {
   "display_name": "Python 3 (ipykernel)",
   "language": "python",
   "name": "python3"
  },
  "language_info": {
   "name": "python",
   "version": "3.12.3"
  }
 },
 "nbformat": 4,
 "nbformat_minor": 5
}
