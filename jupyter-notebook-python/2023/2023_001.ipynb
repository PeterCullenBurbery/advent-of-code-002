{
 "cells": [
  {
   "cell_type": "markdown",
   "id": "cafdf19c",
   "metadata": {},
   "source": [
    "# Advent of Code"
   ]
  },
  {
   "cell_type": "markdown",
   "id": "0f5a74a1",
   "metadata": {},
   "source": [
    "## 2023-012-001\n",
    "## 2023 001"
   ]
  },
  {
   "cell_type": "markdown",
   "id": "893b2281",
   "metadata": {},
   "source": [
    "https://adventofcode.com/2023/day/1"
   ]
  },
  {
   "cell_type": "code",
   "execution_count": null,
   "id": "a0e06334",
   "metadata": {},
   "outputs": [],
   "source": []
  }
 ],
 "metadata": {
  "kernelspec": {
   "display_name": "Python 3 (ipykernel)",
   "language": "python",
   "name": "python3"
  },
  "language_info": {
   "name": "python",
   "version": "3.12.3"
  }
 },
 "nbformat": 4,
 "nbformat_minor": 5
}
