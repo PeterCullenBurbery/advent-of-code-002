{
 "cells": [
  {
   "cell_type": "markdown",
   "id": "f7995059",
   "metadata": {},
   "source": [
    "# Advent of Code"
   ]
  },
  {
   "cell_type": "markdown",
   "id": "6ab3b810",
   "metadata": {},
   "source": [
    "## 2023-012-023\n",
    "## 2023 023"
   ]
  },
  {
   "cell_type": "markdown",
   "id": "62b6f453",
   "metadata": {},
   "source": [
    "https://adventofcode.com/2023/day/23"
   ]
  },
  {
   "cell_type": "code",
   "execution_count": null,
   "id": "5c5fe789",
   "metadata": {},
   "outputs": [],
   "source": []
  }
 ],
 "metadata": {},
 "nbformat": 4,
 "nbformat_minor": 5
}
