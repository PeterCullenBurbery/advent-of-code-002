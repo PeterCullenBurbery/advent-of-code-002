{
 "cells": [
  {
   "cell_type": "markdown",
   "id": "f7995059",
   "metadata": {},
   "source": [
    "# Advent of Code"
   ]
  },
  {
   "cell_type": "markdown",
   "id": "6ab3b810",
   "metadata": {},
   "source": [
    "## 2023-012-023\n",
    "## 2023 023"
   ]
  },
  {
   "cell_type": "markdown",
   "id": "62b6f453",
   "metadata": {},
   "source": [
    "https://adventofcode.com/2023/day/23"
   ]
  },
  {
   "cell_type": "code",
   "execution_count": 1,
   "id": "5c5fe789",
   "metadata": {},
   "outputs": [
    {
     "name": "stdout",
     "output_type": "stream",
     "text": [
      "Longest hike: 94\n"
     ]
    }
   ],
   "source": [
    "def parse_input(file_path):\n",
    "    # Read the input file and parse the grid.\n",
    "    with open(file_path, 'r') as file:\n",
    "        grid = [list(line.strip()) for line in file.readlines()]\n",
    "    return grid\n",
    "\n",
    "def is_valid_move(grid, x, y, visited):\n",
    "    # Check if a move is within bounds and hasn't been visited.\n",
    "    return 0 <= x < len(grid) and 0 <= y < len(grid[0]) and grid[x][y] != '#' and (x, y) not in visited\n",
    "\n",
    "def dfs(grid, x, y, visited, steps):\n",
    "    # Explore the grid using DFS.\n",
    "    longest_path = steps\n",
    "    visited.add((x, y))\n",
    "\n",
    "    # Directions for slopes\n",
    "    directions = {\n",
    "        '^': (-1, 0),  # move up\n",
    "        'v': (1, 0),   # move down\n",
    "        '>': (0, 1),   # move right\n",
    "        '<': (0, -1)   # move left\n",
    "    }\n",
    "    \n",
    "    for dx, dy in [(-1, 0), (1, 0), (0, 1), (0, -1)]:  # Explore all 4 directions\n",
    "        new_x, new_y = x + dx, y + dy\n",
    "\n",
    "        # If it's a slope, we must move in the specific direction\n",
    "        if grid[x][y] in directions:\n",
    "            dx, dy = directions[grid[x][y]]\n",
    "            new_x, new_y = x + dx, y + dy\n",
    "\n",
    "        # Continue DFS if the move is valid\n",
    "        if is_valid_move(grid, new_x, new_y, visited):\n",
    "            longest_path = max(longest_path, dfs(grid, new_x, new_y, visited, steps + 1))\n",
    "\n",
    "    visited.remove((x, y))  # Unmark the current tile as visited for other paths\n",
    "    return longest_path\n",
    "\n",
    "def find_longest_hike(file_path):\n",
    "    grid = parse_input(file_path)\n",
    "\n",
    "    # Find the start position (first path in top row)\n",
    "    start_x, start_y = next((0, y) for y in range(len(grid[0])) if grid[0][y] == '.')\n",
    "\n",
    "    # Find the end position (last path in bottom row)\n",
    "    end_x, end_y = next((len(grid) - 1, y) for y in range(len(grid[0])) if grid[-1][y] == '.')\n",
    "\n",
    "    # Initialize visited set and call DFS to find the longest path\n",
    "    visited = set()\n",
    "    return dfs(grid, start_x, start_y, visited, 0)\n",
    "\n",
    "# Example usage\n",
    "file_path = 'sample-input.txt'  # Update with the actual file path\n",
    "print(\"Longest hike:\", find_longest_hike(file_path))"
   ]
  },
  {
   "cell_type": "code",
   "execution_count": null,
   "id": "1bfd0eca-292d-4637-90b3-394627a55cd0",
   "metadata": {},
   "outputs": [],
   "source": [
    "def parse_input(file_path):\n",
    "    # Read the input file and parse the grid.\n",
    "    with open(file_path, 'r') as file:\n",
    "        grid = [list(line.strip()) for line in file.readlines()]\n",
    "    return grid\n",
    "\n",
    "def is_valid_move(grid, x, y, visited):\n",
    "    # Check if a move is within bounds and hasn't been visited.\n",
    "    return 0 <= x < len(grid) and 0 <= y < len(grid[0]) and grid[x][y] != '#' and (x, y) not in visited\n",
    "\n",
    "def dfs(grid, x, y, visited, steps):\n",
    "    # Explore the grid using DFS.\n",
    "    longest_path = steps\n",
    "    visited.add((x, y))\n",
    "\n",
    "    # Directions for slopes\n",
    "    directions = {\n",
    "        '^': (-1, 0),  # move up\n",
    "        'v': (1, 0),   # move down\n",
    "        '>': (0, 1),   # move right\n",
    "        '<': (0, -1)   # move left\n",
    "    }\n",
    "    \n",
    "    for dx, dy in [(-1, 0), (1, 0), (0, 1), (0, -1)]:  # Explore all 4 directions\n",
    "        new_x, new_y = x + dx, y + dy\n",
    "\n",
    "        # If it's a slope, we must move in the specific direction\n",
    "        if grid[x][y] in directions:\n",
    "            dx, dy = directions[grid[x][y]]\n",
    "            new_x, new_y = x + dx, y + dy\n",
    "\n",
    "        # Continue DFS if the move is valid\n",
    "        if is_valid_move(grid, new_x, new_y, visited):\n",
    "            longest_path = max(longest_path, dfs(grid, new_x, new_y, visited, steps + 1))\n",
    "\n",
    "    visited.remove((x, y))  # Unmark the current tile as visited for other paths\n",
    "    return longest_path\n",
    "\n",
    "def find_longest_hike(file_path):\n",
    "    grid = parse_input(file_path)\n",
    "\n",
    "    # Find the start position (first path in top row)\n",
    "    start_x, start_y = next((0, y) for y in range(len(grid[0])) if grid[0][y] == '.')\n",
    "\n",
    "    # Find the end position (last path in bottom row)\n",
    "    end_x, end_y = next((len(grid) - 1, y) for y in range(len(grid[0])) if grid[-1][y] == '.')\n",
    "\n",
    "    # Initialize visited set and call DFS to find the longest path\n",
    "    visited = set()\n",
    "    return dfs(grid, start_x, start_y, visited, 0)\n",
    "\n",
    "# Example usage\n",
    "file_path = 'input.txt'  # Update with the actual file path\n",
    "print(\"Longest hike:\", find_longest_hike(file_path))"
   ]
  },
  {
   "cell_type": "code",
   "execution_count": null,
   "id": "99585672-2f12-419f-8649-00ab8e1dea9a",
   "metadata": {},
   "outputs": [],
   "source": []
  }
 ],
 "metadata": {
  "kernelspec": {
   "display_name": "Python 3 (ipykernel)",
   "language": "python",
   "name": "python3"
  },
  "language_info": {
   "codemirror_mode": {
    "name": "ipython",
    "version": 3
   },
   "file_extension": ".py",
   "mimetype": "text/x-python",
   "name": "python",
   "nbconvert_exporter": "python",
   "pygments_lexer": "ipython3",
   "version": "3.12.3"
  }
 },
 "nbformat": 4,
 "nbformat_minor": 5
}
