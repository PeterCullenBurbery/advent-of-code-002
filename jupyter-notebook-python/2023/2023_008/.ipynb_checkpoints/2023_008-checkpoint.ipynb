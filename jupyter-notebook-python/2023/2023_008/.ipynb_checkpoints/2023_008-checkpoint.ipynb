{
 "cells": [
  {
   "cell_type": "markdown",
   "id": "985518d3",
   "metadata": {},
   "source": [
    "# Advent of Code"
   ]
  },
  {
   "cell_type": "markdown",
   "id": "7ba4f12c",
   "metadata": {},
   "source": [
    "## 2023-012-008\n",
    "## 2023 008"
   ]
  },
  {
   "cell_type": "markdown",
   "id": "257502df",
   "metadata": {},
   "source": [
    "https://adventofcode.com/2023/day/8"
   ]
  },
  {
   "cell_type": "code",
   "execution_count": null,
   "id": "4176cc7a",
   "metadata": {},
   "outputs": [],
   "source": []
  }
 ],
 "metadata": {},
 "nbformat": 4,
 "nbformat_minor": 5
}
