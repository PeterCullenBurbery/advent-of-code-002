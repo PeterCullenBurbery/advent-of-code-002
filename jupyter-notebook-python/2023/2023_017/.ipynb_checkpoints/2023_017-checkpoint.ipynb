{
 "cells": [
  {
   "cell_type": "markdown",
   "id": "ef1b5343",
   "metadata": {},
   "source": [
    "# Advent of Code"
   ]
  },
  {
   "cell_type": "markdown",
   "id": "7922c643",
   "metadata": {},
   "source": [
    "## 2023-012-017\n",
    "## 2023 017"
   ]
  },
  {
   "cell_type": "markdown",
   "id": "772c036b",
   "metadata": {},
   "source": [
    "https://adventofcode.com/2023/day/17"
   ]
  },
  {
   "cell_type": "code",
   "execution_count": null,
   "id": "86f98bb6",
   "metadata": {},
   "outputs": [],
   "source": []
  }
 ],
 "metadata": {},
 "nbformat": 4,
 "nbformat_minor": 5
}
