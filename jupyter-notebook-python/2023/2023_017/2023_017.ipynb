{
 "cells": [
  {
   "cell_type": "markdown",
   "id": "ef1b5343",
   "metadata": {},
   "source": [
    "# Advent of Code"
   ]
  },
  {
   "cell_type": "markdown",
   "id": "7922c643",
   "metadata": {},
   "source": [
    "## 2023-012-017\n",
    "## 2023 017"
   ]
  },
  {
   "cell_type": "markdown",
   "id": "772c036b",
   "metadata": {},
   "source": [
    "https://adventofcode.com/2023/day/17"
   ]
  },
  {
   "cell_type": "code",
   "execution_count": 1,
   "id": "86f98bb6",
   "metadata": {},
   "outputs": [
    {
     "data": {
      "text/plain": [
       "101"
      ]
     },
     "execution_count": 1,
     "metadata": {},
     "output_type": "execute_result"
    }
   ],
   "source": [
    "# Read the heat loss map from the input file\n",
    "with open('sample-input.txt', 'r') as file:\n",
    "    heat_loss_map = [list(map(int, line.strip())) for line in file.readlines()]\n",
    "\n",
    "from heapq import heappush, heappop\n",
    "\n",
    "# Dimensions of the map\n",
    "rows = len(heat_loss_map)\n",
    "cols = len(heat_loss_map[0])\n",
    "\n",
    "# Directions and associated row and column changes\n",
    "DIRECTIONS = {\n",
    "    'R': (0, 1),\n",
    "    'L': (0, -1),\n",
    "    'U': (-1, 0),\n",
    "    'D': (1, 0)\n",
    "}\n",
    "\n",
    "# Priority queue for Dijkstra's algorithm\n",
    "queue = []\n",
    "heappush(queue, (0, 0, 0, None, 0))  # (heat_loss, row, col, last_direction, steps_in_direction)\n",
    "\n",
    "# Visited dictionary to track minimum heat loss for a position and direction\n",
    "visited = {}\n",
    "\n",
    "# Minimum heat loss to reach bottom-right\n",
    "min_heat_loss = float('inf')\n",
    "\n",
    "# Perform Dijkstra's algorithm\n",
    "while queue:\n",
    "    heat_loss, row, col, last_direction, steps_in_direction = heappop(queue)\n",
    "    \n",
    "    # If we reach the bottom-right corner, update the minimum heat loss\n",
    "    if row == rows - 1 and col == cols - 1:\n",
    "        min_heat_loss = min(min_heat_loss, heat_loss)\n",
    "        continue\n",
    "\n",
    "    # Skip if we have visited this position with a smaller heat loss\n",
    "    state = (row, col, last_direction, steps_in_direction)\n",
    "    if state in visited and visited[state] <= heat_loss:\n",
    "        continue\n",
    "    visited[state] = heat_loss\n",
    "\n",
    "    # Explore all possible moves\n",
    "    for direction, (dr, dc) in DIRECTIONS.items():\n",
    "        new_row, new_col = row + dr, col + dc\n",
    "        new_steps_in_direction = steps_in_direction + 1 if direction == last_direction else 1\n",
    "\n",
    "        # Check if the move is valid and complies with the direction constraints\n",
    "        if 0 <= new_row < rows and 0 <= new_col < cols and new_steps_in_direction <= 3:\n",
    "            new_heat_loss = heat_loss + heat_loss_map[new_row][new_col]\n",
    "            heappush(queue, (new_heat_loss, new_row, new_col, direction, new_steps_in_direction))\n",
    "\n",
    "min_heat_loss"
   ]
  },
  {
   "cell_type": "code",
   "execution_count": 3,
   "id": "c4cd8b14-2c91-4598-a348-d43632793c18",
   "metadata": {},
   "outputs": [
    {
     "data": {
      "text/plain": [
       "101"
      ]
     },
     "execution_count": 3,
     "metadata": {},
     "output_type": "execute_result"
    }
   ],
   "source": [
    "# Read the sample input heat loss map from the file\n",
    "with open('sample-input.txt', 'r') as file:\n",
    "    sample_heat_loss_map = [list(map(int, line.strip())) for line in file.readlines()]\n",
    "\n",
    "# Dimensions of the sample map\n",
    "rows = len(sample_heat_loss_map)\n",
    "cols = len(sample_heat_loss_map[0])\n",
    "\n",
    "# Reset priority queue and visited set for the sample input\n",
    "queue = []\n",
    "heappush(queue, (0, 0, 0, None, 0))  # (heat_loss, row, col, last_direction, steps_in_direction)\n",
    "visited = {}\n",
    "\n",
    "# Minimum heat loss for the sample input\n",
    "min_heat_loss_sample = float('inf')\n",
    "\n",
    "# Perform Dijkstra's algorithm for the sample input\n",
    "while queue:\n",
    "    heat_loss, row, col, last_direction, steps_in_direction = heappop(queue)\n",
    "    \n",
    "    # If we reach the bottom-right corner, update the minimum heat loss\n",
    "    if row == rows - 1 and col == cols - 1:\n",
    "        min_heat_loss_sample = min(min_heat_loss_sample, heat_loss)\n",
    "        continue\n",
    "\n",
    "    # Skip if we have visited this position with a smaller heat loss\n",
    "    state = (row, col, last_direction, steps_in_direction)\n",
    "    if state in visited and visited[state] <= heat_loss:\n",
    "        continue\n",
    "    visited[state] = heat_loss\n",
    "\n",
    "    # Explore all possible moves\n",
    "    for direction, (dr, dc) in DIRECTIONS.items():\n",
    "        new_row, new_col = row + dr, col + dc\n",
    "        new_steps_in_direction = steps_in_direction + 1 if direction == last_direction else 1\n",
    "\n",
    "        # Check if the move is valid and complies with the direction constraints\n",
    "        if 0 <= new_row < rows and 0 <= new_col < cols and new_steps_in_direction <= 3:\n",
    "            new_heat_loss = heat_loss + sample_heat_loss_map[new_row][new_col]\n",
    "            heappush(queue, (new_heat_loss, new_row, new_col, direction, new_steps_in_direction))\n",
    "\n",
    "min_heat_loss_sample"
   ]
  },
  {
   "cell_type": "markdown",
   "id": "f55e5b2b-803f-45e0-9845-eb4ed78fc832",
   "metadata": {},
   "source": [
    "1021 That's not the right answer; your answer is too low. If you're stuck, make sure you're using the full input data; there are also some general tips on the about page, or you can ask for hints on the subreddit. Please wait one minute before trying again. [Return to Day 17]"
   ]
  },
  {
   "cell_type": "code",
   "execution_count": null,
   "id": "73980fa0-63c8-420e-8b50-ce2f1b902861",
   "metadata": {},
   "outputs": [],
   "source": []
  }
 ],
 "metadata": {
  "kernelspec": {
   "display_name": "Python 3 (ipykernel)",
   "language": "python",
   "name": "python3"
  },
  "language_info": {
   "codemirror_mode": {
    "name": "ipython",
    "version": 3
   },
   "file_extension": ".py",
   "mimetype": "text/x-python",
   "name": "python",
   "nbconvert_exporter": "python",
   "pygments_lexer": "ipython3",
   "version": "3.12.3"
  }
 },
 "nbformat": 4,
 "nbformat_minor": 5
}
