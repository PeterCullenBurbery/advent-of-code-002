{
 "cells": [
  {
   "cell_type": "markdown",
   "id": "074b37b5",
   "metadata": {},
   "source": [
    "# Advent of Code"
   ]
  },
  {
   "cell_type": "markdown",
   "id": "2ddb4094",
   "metadata": {},
   "source": [
    "## 2023-012-012\n",
    "## 2023 012"
   ]
  },
  {
   "cell_type": "markdown",
   "id": "4d6ae137",
   "metadata": {},
   "source": [
    "https://adventofcode.com/2023/day/12"
   ]
  },
  {
   "cell_type": "code",
   "execution_count": null,
   "id": "b1e8b9bc",
   "metadata": {},
   "outputs": [],
   "source": []
  }
 ],
 "metadata": {
  "kernelspec": {
   "display_name": "Python 3 (ipykernel)",
   "language": "python",
   "name": "python3"
  },
  "language_info": {
   "name": "python",
   "version": "3.12.3"
  }
 },
 "nbformat": 4,
 "nbformat_minor": 5
}
