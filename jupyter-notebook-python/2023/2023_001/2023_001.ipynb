{
 "cells": [
  {
   "cell_type": "markdown",
   "id": "68410823",
   "metadata": {},
   "source": [
    "# Advent of Code"
   ]
  },
  {
   "cell_type": "markdown",
   "id": "3cae668b",
   "metadata": {},
   "source": [
    "## 2023-012-001\n",
    "## 2023 001"
   ]
  },
  {
   "cell_type": "markdown",
   "id": "976fe0ac",
   "metadata": {},
   "source": [
    "https://adventofcode.com/2023/day/1"
   ]
  },
  {
   "cell_type": "code",
   "execution_count": 3,
   "id": "132984d5",
   "metadata": {},
   "outputs": [
    {
     "data": {
      "text/plain": [
       "36133"
      ]
     },
     "execution_count": 3,
     "metadata": {},
     "output_type": "execute_result"
    }
   ],
   "source": [
    "# Let's process the uploaded file to extract the calibration values by combining the first and last digit on each line.\n",
    "\n",
    "file_path = 'input.txt'\n",
    "\n",
    "# Read the file content\n",
    "with open(file_path, 'r') as file:\n",
    "    lines = file.readlines()\n",
    "\n",
    "# Function to extract calibration value from a line\n",
    "def extract_calibration_value(line):\n",
    "    digits = [char for char in line if char.isdigit()]\n",
    "    if len(digits) >= 2:\n",
    "        return int(digits[0] + digits[-1])  # Combine the first and last digit\n",
    "    return 0\n",
    "\n",
    "# Process each line to calculate the sum of calibration values\n",
    "calibration_sum = sum(extract_calibration_value(line.strip()) for line in lines)\n",
    "calibration_sum"
   ]
  },
  {
   "cell_type": "code",
   "execution_count": null,
   "id": "de3f7e06-1b27-4c32-bf63-a2a794f61b94",
   "metadata": {},
   "outputs": [],
   "source": []
  }
 ],
 "metadata": {
  "kernelspec": {
   "display_name": "Python 3 (ipykernel)",
   "language": "python",
   "name": "python3"
  },
  "language_info": {
   "codemirror_mode": {
    "name": "ipython",
    "version": 3
   },
   "file_extension": ".py",
   "mimetype": "text/x-python",
   "name": "python",
   "nbconvert_exporter": "python",
   "pygments_lexer": "ipython3",
   "version": "3.12.3"
  }
 },
 "nbformat": 4,
 "nbformat_minor": 5
}
