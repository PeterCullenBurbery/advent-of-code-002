{
 "cells": [
  {
   "cell_type": "markdown",
   "id": "68410823",
   "metadata": {},
   "source": [
    "# Advent of Code"
   ]
  },
  {
   "cell_type": "markdown",
   "id": "3cae668b",
   "metadata": {},
   "source": [
    "## 2023-012-001\n",
    "## 2023 001"
   ]
  },
  {
   "cell_type": "markdown",
   "id": "976fe0ac",
   "metadata": {},
   "source": [
    "https://adventofcode.com/2023/day/1"
   ]
  },
  {
   "cell_type": "code",
   "execution_count": 1,
   "id": "132984d5",
   "metadata": {},
   "outputs": [
    {
     "data": {
      "text/plain": [
       "36133"
      ]
     },
     "execution_count": 1,
     "metadata": {},
     "output_type": "execute_result"
    }
   ],
   "source": [
    "# Let's process the uploaded file to extract the calibration values by combining the first and last digit on each line.\n",
    "\n",
    "file_path = 'input.txt'\n",
    "\n",
    "# Read the file content\n",
    "with open(file_path, 'r') as file:\n",
    "    lines = file.readlines()\n",
    "\n",
    "# Function to extract calibration value from a line\n",
    "def extract_calibration_value(line):\n",
    "    digits = [char for char in line if char.isdigit()]\n",
    "    if len(digits) >= 2:\n",
    "        return int(digits[0] + digits[-1])  # Combine the first and last digit\n",
    "    return 0\n",
    "\n",
    "# Process each line to calculate the sum of calibration values\n",
    "calibration_sum = sum(extract_calibration_value(line.strip()) for line in lines)\n",
    "calibration_sum"
   ]
  },
  {
   "cell_type": "code",
   "execution_count": 2,
   "id": "de3f7e06-1b27-4c32-bf63-a2a794f61b94",
   "metadata": {},
   "outputs": [
    {
     "name": "stdout",
     "output_type": "stream",
     "text": [
      "The sum of all calibration values is: 36133\n"
     ]
    }
   ],
   "source": [
    "def extract_calibration_value(line):\n",
    "    \"\"\"Extract the first and last digits from a line to form a two-digit number.\"\"\"\n",
    "    digits = [char for char in line if char.isdigit()]\n",
    "    if len(digits) < 2:\n",
    "        return 0  # Handle cases where there aren't enough digits\n",
    "    return int(digits[0] + digits[-1])  # Combine the first and last digits\n",
    "\n",
    "def calculate_sum(file_path):\n",
    "    \"\"\"Calculate the sum of all calibration values from the input file.\"\"\"\n",
    "    total = 0\n",
    "    with open(file_path, 'r') as f:\n",
    "        for line in f:\n",
    "            line = line.strip()\n",
    "            total += extract_calibration_value(line)\n",
    "    return total\n",
    "\n",
    "# Main Execution\n",
    "file_path = 'input.txt'\n",
    "result = calculate_sum(file_path)\n",
    "print(f\"The sum of all calibration values is: {result}\")"
   ]
  },
  {
   "cell_type": "code",
   "execution_count": 3,
   "id": "c4fad180-6e57-4466-ba36-ccbfe47dfacb",
   "metadata": {},
   "outputs": [
    {
     "name": "stdout",
     "output_type": "stream",
     "text": [
      "The sum of all calibration values is: 54338\n"
     ]
    }
   ],
   "source": [
    "def extract_calibration_value(line):\n",
    "    \"\"\"Extract the first and last digits from a line to form a two-digit number.\"\"\"\n",
    "    first_digit = next((char for char in line if char.isdigit()), None)\n",
    "    last_digit = next((char for char in reversed(line) if char.isdigit()), None)\n",
    "    if first_digit is None or last_digit is None:\n",
    "        return 0  # Handle lines without enough digits\n",
    "    return int(first_digit + last_digit)  # Combine first and last digits\n",
    "\n",
    "def calculate_sum(file_path):\n",
    "    \"\"\"Calculate the sum of all calibration values from the input file.\"\"\"\n",
    "    total = 0\n",
    "    with open(file_path, 'r') as f:\n",
    "        for line in f:\n",
    "            line = line.strip()\n",
    "            total += extract_calibration_value(line)\n",
    "    return total\n",
    "\n",
    "# Main Execution\n",
    "file_path = 'input.txt'\n",
    "result = calculate_sum(file_path)\n",
    "print(f\"The sum of all calibration values is: {result}\")"
   ]
  },
  {
   "cell_type": "code",
   "execution_count": 4,
   "id": "b1c97ae1-ca24-4b7c-98a1-825bc575e157",
   "metadata": {},
   "outputs": [
    {
     "name": "stdout",
     "output_type": "stream",
     "text": [
      "The sum of all calibration values is: 198147102\n"
     ]
    }
   ],
   "source": [
    "def extract_calibration_value(line, word_to_digit):\n",
    "    \"\"\"Extract the first and last numeric values (digits or words) from a line.\"\"\"\n",
    "    tokens = line.split()\n",
    "    first_digit, last_digit = None, None\n",
    "\n",
    "    # Find the first numeric value\n",
    "    for token in tokens:\n",
    "        if token.isdigit():  # Numeric digit\n",
    "            first_digit = token\n",
    "            break\n",
    "        elif token.lower() in word_to_digit:  # Spelled-out number\n",
    "            first_digit = str(word_to_digit[token.lower()])\n",
    "            break\n",
    "\n",
    "    # Find the last numeric value\n",
    "    for token in reversed(tokens):\n",
    "        if token.isdigit():  # Numeric digit\n",
    "            last_digit = token\n",
    "            break\n",
    "        elif token.lower() in word_to_digit:  # Spelled-out number\n",
    "            last_digit = str(word_to_digit[token.lower()])\n",
    "            break\n",
    "\n",
    "    # Combine first and last digits\n",
    "    if first_digit and last_digit:\n",
    "        return int(first_digit + last_digit)\n",
    "    return 0\n",
    "\n",
    "def calculate_sum(file_path):\n",
    "    \"\"\"Calculate the sum of all calibration values from the input file.\"\"\"\n",
    "    word_to_digit = {\n",
    "        \"one\": 1, \"two\": 2, \"three\": 3, \"four\": 4, \"five\": 5,\n",
    "        \"six\": 6, \"seven\": 7, \"eight\": 8, \"nine\": 9\n",
    "    }\n",
    "    total = 0\n",
    "    with open(file_path, 'r') as f:\n",
    "        for line in f:\n",
    "            line = line.strip()\n",
    "            total += extract_calibration_value(line, word_to_digit)\n",
    "    return total\n",
    "\n",
    "# Main Execution\n",
    "file_path = 'input.txt'\n",
    "result = calculate_sum(file_path)\n",
    "print(f\"The sum of all calibration values is: {result}\")"
   ]
  },
  {
   "cell_type": "code",
   "execution_count": 5,
   "id": "91bd279a-7536-4843-aa03-e920b06637c9",
   "metadata": {},
   "outputs": [
    {
     "name": "stdout",
     "output_type": "stream",
     "text": [
      "The sum of all calibration values is: 36133\n"
     ]
    }
   ],
   "source": [
    "import re\n",
    "\n",
    "def extract_calibration_value(line, word_to_digit):\n",
    "    \"\"\"Extract the first and last numeric values (digits or words) from a line.\"\"\"\n",
    "    # Replace spelled-out numbers with their digit equivalents in the line\n",
    "    for word, digit in word_to_digit.items():\n",
    "        line = re.sub(fr'\\b{word}\\b', str(digit), line, flags=re.IGNORECASE)\n",
    "    \n",
    "    # Extract all numeric digits from the processed line\n",
    "    digits = re.findall(r'\\d', line)\n",
    "    \n",
    "    if len(digits) < 2:\n",
    "        return 0  # Not enough digits to form a two-digit number\n",
    "\n",
    "    # Combine the first and last digits\n",
    "    return int(digits[0] + digits[-1])\n",
    "\n",
    "def calculate_sum(file_path):\n",
    "    \"\"\"Calculate the sum of all calibration values from the input file.\"\"\"\n",
    "    word_to_digit = {\n",
    "        \"one\": 1, \"two\": 2, \"three\": 3, \"four\": 4, \"five\": 5,\n",
    "        \"six\": 6, \"seven\": 7, \"eight\": 8, \"nine\": 9\n",
    "    }\n",
    "    total = 0\n",
    "    with open(file_path, 'r') as f:\n",
    "        for line in f:\n",
    "            line = line.strip()\n",
    "            total += extract_calibration_value(line, word_to_digit)\n",
    "    return total\n",
    "\n",
    "# Main Execution\n",
    "file_path = 'input.txt'\n",
    "result = calculate_sum(file_path)\n",
    "print(f\"The sum of all calibration values is: {result}\")"
   ]
  },
  {
   "cell_type": "code",
   "execution_count": 6,
   "id": "9b0021a5-5acc-4f42-a3d2-24305d9fe7a1",
   "metadata": {},
   "outputs": [
    {
     "name": "stdout",
     "output_type": "stream",
     "text": [
      "The sum of all calibration values is: 6079\n"
     ]
    }
   ],
   "source": [
    "import re\n",
    "\n",
    "def extract_calibration_value(line, word_to_digit):\n",
    "    \"\"\"Extract the first and last numeric values (digits or words) from a line.\"\"\"\n",
    "    # Regex pattern for digits and spelled-out numbers\n",
    "    pattern = r'\\b(one|two|three|four|five|six|seven|eight|nine)|\\d\\b'\n",
    "    matches = re.finditer(pattern, line, re.IGNORECASE)\n",
    "\n",
    "    # Extract numeric values in order\n",
    "    numbers = []\n",
    "    for match in matches:\n",
    "        token = match.group().lower()\n",
    "        if token in word_to_digit:\n",
    "            numbers.append(str(word_to_digit[token]))\n",
    "        else:\n",
    "            numbers.append(token)\n",
    "\n",
    "    if len(numbers) < 2:\n",
    "        return 0  # Not enough values to form a two-digit number\n",
    "\n",
    "    # Combine the first and last numeric values\n",
    "    return int(numbers[0] + numbers[-1])\n",
    "\n",
    "def calculate_sum(file_path):\n",
    "    \"\"\"Calculate the sum of all calibration values from the input file.\"\"\"\n",
    "    word_to_digit = {\n",
    "        \"one\": 1, \"two\": 2, \"three\": 3, \"four\": 4, \"five\": 5,\n",
    "        \"six\": 6, \"seven\": 7, \"eight\": 8, \"nine\": 9\n",
    "    }\n",
    "    total = 0\n",
    "    with open(file_path, 'r') as f:\n",
    "        for line in f:\n",
    "            line = line.strip()\n",
    "            total += extract_calibration_value(line, word_to_digit)\n",
    "    return total\n",
    "\n",
    "# Main Execution\n",
    "file_path = 'input.txt'\n",
    "result = calculate_sum(file_path)\n",
    "print(f\"The sum of all calibration values is: {result}\")"
   ]
  },
  {
   "cell_type": "code",
   "execution_count": null,
   "id": "034b0770-a554-4a3b-a6ef-7f2b8ceee973",
   "metadata": {},
   "outputs": [],
   "source": []
  }
 ],
 "metadata": {
  "kernelspec": {
   "display_name": "Python 3 (ipykernel)",
   "language": "python",
   "name": "python3"
  },
  "language_info": {
   "codemirror_mode": {
    "name": "ipython",
    "version": 3
   },
   "file_extension": ".py",
   "mimetype": "text/x-python",
   "name": "python",
   "nbconvert_exporter": "python",
   "pygments_lexer": "ipython3",
   "version": "3.12.3"
  }
 },
 "nbformat": 4,
 "nbformat_minor": 5
}
