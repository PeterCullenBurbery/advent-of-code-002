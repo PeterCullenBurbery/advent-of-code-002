{
 "cells": [
  {
   "cell_type": "markdown",
   "id": "68410823",
   "metadata": {},
   "source": [
    "# Advent of Code"
   ]
  },
  {
   "cell_type": "markdown",
   "id": "3cae668b",
   "metadata": {},
   "source": [
    "## 2023-012-001\n",
    "## 2023 001"
   ]
  },
  {
   "cell_type": "markdown",
   "id": "976fe0ac",
   "metadata": {},
   "source": [
    "https://adventofcode.com/2023/day/1"
   ]
  },
  {
   "cell_type": "code",
   "execution_count": null,
   "id": "132984d5",
   "metadata": {},
   "outputs": [],
   "source": []
  }
 ],
 "metadata": {},
 "nbformat": 4,
 "nbformat_minor": 5
}
