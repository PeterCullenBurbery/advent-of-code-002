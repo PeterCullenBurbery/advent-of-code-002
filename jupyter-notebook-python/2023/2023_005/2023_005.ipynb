{
 "cells": [
  {
   "cell_type": "markdown",
   "id": "b7f2d37d",
   "metadata": {},
   "source": [
    "# Advent of Code"
   ]
  },
  {
   "cell_type": "markdown",
   "id": "b7985e67",
   "metadata": {},
   "source": [
    "## 2023-012-005\n",
    "## 2023 005"
   ]
  },
  {
   "cell_type": "markdown",
   "id": "51baf15e",
   "metadata": {},
   "source": [
    "https://adventofcode.com/2023/day/5"
   ]
  },
  {
   "cell_type": "code",
   "execution_count": null,
   "id": "3356fb2b",
   "metadata": {},
   "outputs": [],
   "source": []
  }
 ],
 "metadata": {},
 "nbformat": 4,
 "nbformat_minor": 5
}
