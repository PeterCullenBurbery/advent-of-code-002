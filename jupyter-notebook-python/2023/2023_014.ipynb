{
 "cells": [
  {
   "cell_type": "markdown",
   "id": "ac75c0ab",
   "metadata": {},
   "source": [
    "# Advent of Code"
   ]
  },
  {
   "cell_type": "markdown",
   "id": "5cc7f403",
   "metadata": {},
   "source": [
    "## 2023-012-014\n",
    "## 2023 014"
   ]
  },
  {
   "cell_type": "markdown",
   "id": "a019b59a",
   "metadata": {},
   "source": [
    "https://adventofcode.com/2023/day/14"
   ]
  },
  {
   "cell_type": "code",
   "execution_count": null,
   "id": "c4984a25",
   "metadata": {},
   "outputs": [],
   "source": []
  }
 ],
 "metadata": {
  "kernelspec": {
   "display_name": "Python 3 (ipykernel)",
   "language": "python",
   "name": "python3"
  },
  "language_info": {
   "name": "python",
   "version": "3.12.3"
  }
 },
 "nbformat": 4,
 "nbformat_minor": 5
}
